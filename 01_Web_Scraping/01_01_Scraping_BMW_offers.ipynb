{
 "cells": [
  {
   "cell_type": "markdown",
   "metadata": {
    "toc": true
   },
   "source": [
    "<h1>Table of Contents<span class=\"tocSkip\"></span></h1>\n",
    "<div class=\"toc\"><ul class=\"toc-item\"><li><span><a href=\"#Project-overview\" data-toc-modified-id=\"Project-overview-1\"><span class=\"toc-item-num\">1&nbsp;&nbsp;</span>Project overview</a></span></li><li><span><a href=\"#Scraping-allegro-link-for-offer-references\" data-toc-modified-id=\"Scraping-allegro-link-for-offer-references-2\"><span class=\"toc-item-num\">2&nbsp;&nbsp;</span>Scraping allegro link for offer references</a></span><ul class=\"toc-item\"><li><span><a href=\"#Understanding-href-structure\" data-toc-modified-id=\"Understanding-href-structure-2.1\"><span class=\"toc-item-num\">2.1&nbsp;&nbsp;</span>Understanding href structure</a></span></li><li><span><a href=\"#Extracting-all-offers-from-a-page\" data-toc-modified-id=\"Extracting-all-offers-from-a-page-2.2\"><span class=\"toc-item-num\">2.2&nbsp;&nbsp;</span>Extracting all offers from a page</a></span></li><li><span><a href=\"#Extracting-all-following-pages\" data-toc-modified-id=\"Extracting-all-following-pages-2.3\"><span class=\"toc-item-num\">2.3&nbsp;&nbsp;</span>Extracting all following pages</a></span></li><li><span><a href=\"#Create-a-list-of-all-offers\" data-toc-modified-id=\"Create-a-list-of-all-offers-2.4\"><span class=\"toc-item-num\">2.4&nbsp;&nbsp;</span>Create a list of all offers</a></span></li></ul></li><li><span><a href=\"#Extract-data-from-single-offer\" data-toc-modified-id=\"Extract-data-from-single-offer-3\"><span class=\"toc-item-num\">3&nbsp;&nbsp;</span>Extract data from single offer</a></span><ul class=\"toc-item\"><li><span><a href=\"#Extracting-base-information-from-offer-script\" data-toc-modified-id=\"Extracting-base-information-from-offer-script-3.1\"><span class=\"toc-item-num\">3.1&nbsp;&nbsp;</span>Extracting base information from offer script</a></span></li><li><span><a href=\"#Extracting-offer-details\" data-toc-modified-id=\"Extracting-offer-details-3.2\"><span class=\"toc-item-num\">3.2&nbsp;&nbsp;</span>Extracting offer details</a></span></li><li><span><a href=\"#Navigating-through-json-dictionary\" data-toc-modified-id=\"Navigating-through-json-dictionary-3.3\"><span class=\"toc-item-num\">3.3&nbsp;&nbsp;</span>Navigating through json dictionary</a></span></li><li><span><a href=\"#Combining-findings-into-one-function-extracting-offer-data\" data-toc-modified-id=\"Combining-findings-into-one-function-extracting-offer-data-3.4\"><span class=\"toc-item-num\">3.4&nbsp;&nbsp;</span>Combining findings into one function extracting offer data</a></span></li></ul></li><li><span><a href=\"#Extracting-and-saving-data\" data-toc-modified-id=\"Extracting-and-saving-data-4\"><span class=\"toc-item-num\">4&nbsp;&nbsp;</span>Extracting and saving data</a></span><ul class=\"toc-item\"><li><span><a href=\"#Customizing-Timeout-exceptions\" data-toc-modified-id=\"Customizing-Timeout-exceptions-4.1\"><span class=\"toc-item-num\">4.1&nbsp;&nbsp;</span>Customizing Timeout exceptions</a></span></li><li><span><a href=\"#Creating-a-csv-file-from-scrapped-data\" data-toc-modified-id=\"Creating-a-csv-file-from-scrapped-data-4.2\"><span class=\"toc-item-num\">4.2&nbsp;&nbsp;</span>Creating a csv file from scrapped data</a></span></li><li><span><a href=\"#Splitting-data-extraction-into-batches\" data-toc-modified-id=\"Splitting-data-extraction-into-batches-4.3\"><span class=\"toc-item-num\">4.3&nbsp;&nbsp;</span>Splitting data extraction into batches</a></span></li></ul></li></ul></div>"
   ]
  },
  {
   "cell_type": "code",
   "execution_count": 98,
   "metadata": {},
   "outputs": [],
   "source": [
    "import os\n",
    "from urllib.request import urlretrieve\n",
    "from urllib.request import urlopen\n",
    "from bs4 import BeautifulSoup\n",
    "import pandas as pd\n",
    "import numpy as np\n",
    "import re\n",
    "import json\n",
    "import numpy as np\n",
    "import timeit \n",
    "from datetime import datetime"
   ]
  },
  {
   "cell_type": "markdown",
   "metadata": {},
   "source": [
    "# Project overview\n",
    "<a id=\"project_overview\"><a>"
   ]
  },
  {
   "cell_type": "markdown",
   "metadata": {},
   "source": [
    "Allegro is the leading online marketplace in Poland. The aim of the project is extracting key data from Allegro Automotive, which will be later used in analysis of car offer pricing.\n",
    "\n",
    "First notebook is focused on scraping Allegro pages with beautiful soup, understanding the html code and extracting desired data. After storing data it will be analyzed in following notebook. \n",
    "\n",
    "The aim of this notebook is to serve as a tutorial to data extraction from Allegro and can be easility used for any Automotive Allegro pages, just by changing link below. It can also be adjusted to any product category after edits to key parameter data  described in 3.1"
   ]
  },
  {
   "cell_type": "markdown",
   "metadata": {},
   "source": [
    "# Scraping allegro link for offer references\n"
   ]
  },
  {
   "cell_type": "markdown",
   "metadata": {},
   "source": [
    "Insert link to the first page of Allegro, from which you start your extraction. I would recommend using at least \"Samochody Osobowe\" filters before. It is best to use some other filters too as Allegro limits shown results to 100 pages, aproximately 6000 offers. "
   ]
  },
  {
   "cell_type": "code",
   "execution_count": 161,
   "metadata": {},
   "outputs": [],
   "source": [
    "link=\"https://allegro.pl/kategoria/osobowe-bmw-4032?bmatch=baseline-al-product-cl-eyesa2-dict43-aut-1-5-0318\""
   ]
  },
  {
   "cell_type": "code",
   "execution_count": 162,
   "metadata": {},
   "outputs": [],
   "source": [
    "html = urlopen(link)\n",
    "bs = BeautifulSoup(html, 'lxml')"
   ]
  },
  {
   "cell_type": "markdown",
   "metadata": {},
   "source": [
    "## Understanding href structure\n",
    "<a id=\"href_struct\"><a>"
   ]
  },
  {
   "cell_type": "code",
   "execution_count": 163,
   "metadata": {},
   "outputs": [
    {
     "name": "stdout",
     "output_type": "stream",
     "text": [
      "<a class=\"_w7z6o _fee54_3kwJ4\" data-analytics-click-value=\"logotype\" data-analytics-clickable=\"\" href=\"https://allegro.pl\" itemprop=\"url\" title=\"Allegro.pl - wygodne i bezpieczne zakupy online, największy wybór ofert\">\n",
      "<img alt=\"Allegro.pl - wygodne i bezpieczne zakupy online, największy wybór ofert\" class=\"_fee54_10SNZ _fee54_3kwJ4 _fee54_3kwJ4\" itemprop=\"logo\" src=\"https://assets.allegrostatic.com/metrum/brand/allegro-347440b030.svg\"/>\n",
      "</a>\n",
      "\n",
      "\n",
      "\n",
      "<a aria-label=\"Kliknij, aby przejść do zakładki obserwowane.\" class=\"_1h7wt _1dd5x _1bnv4 _274c1_2lQp7 _mitvy _274c1_3TstK\" data-analytics-click-value=\"\" data-analytics-clickable=\"\" href=\"/moje-allegro/zakupy/obserwowane/oferty\"><div class=\"_1fwkl\" data-role=\"watched-offers-icon-wrapper\"><svg class=\"_nem5f\"><image class=\"_274c1_8DNgs\" height=\"100%\" width=\"100%\" xlink:href=\"https://assets.allegrostatic.com/metrum/icon/star-empty-36debc2c31.svg\"/></svg> </div></a>\n",
      "\n",
      "\n",
      "\n",
      "<a class=\"_1bo4a _sizcr _xu6h2 _w7z6o _uj8z7\" data-analytics-clickable=\"\" data-role=\"toggle\" href=\"/koszyk\" rel=\"nofollow\"><div class=\"_1fwkl _1bo4a _w7z6o _uj8z7\"><i class=\"_nem5f _1db0i _2xzg1 _d2aa8_3PflD\"></i><div class=\"_4fbj1 _e77oq\" data-role=\"cart-quantity\"></div></div></a>\n",
      "\n",
      "\n",
      "\n",
      "<a class=\"_1h7wt _1dd5x _e44a7_3wzJe\" data-analytics-clickable=\"\" href=\"/smart\" title=\"bądź Smart\">bądź <img alt=\"\" class=\"_e44a7_Ks6cA\" src=\"https://assets.allegrostatic.com/opbox-smart-status/statics/smart-text_195f91e4.svg\" title=\"Smart\"/></a>\n",
      "\n",
      "\n",
      "\n",
      "<a class=\"_1h7wt _1dd5x _e44a7_3wzJe\" data-analytics-clickable=\"\" href=\"/smart\" title=\"bądź Smart\">bądź <img alt=\"\" class=\"_e44a7_Ks6cA\" src=\"https://assets.allegrostatic.com/opbox-smart-status/statics/smart-text_195f91e4.svg\" title=\"Smart\"/></a>\n",
      "\n",
      "\n",
      "\n",
      "<a class=\"_w7z6o _uj8z7 _fee54_1kOLi\" data-analytics-click-opbox-custom-placement=\"account_dropdown_link\" data-analytics-clickable=\"\" href=\"/offer/\" rel=\"nofollow\">wystaw przedmiot </a>\n",
      "\n",
      "\n",
      "\n",
      "<a class=\"_w7z6o _uj8z7 _fee54_1kOLi\" data-analytics-click-opbox-custom-placement=\"account_dropdown_link\" data-analytics-clickable=\"\" href=\"/moje-allegro/zakupy/obserwowane/oferty\" rel=\"nofollow\">obserwowane </a>\n",
      "\n",
      "\n",
      "\n",
      "<a class=\"_w7z6o _uj8z7 _fee54_1kOLi\" data-analytics-click-opbox-custom-placement=\"account_dropdown_link\" data-analytics-clickable=\"\" href=\"/moje-allegro/zakupy/licytuje\" rel=\"nofollow\">licytujesz </a>\n",
      "\n",
      "\n",
      "\n",
      "<a class=\"_w7z6o _uj8z7 _fee54_1kOLi\" data-analytics-click-opbox-custom-placement=\"account_dropdown_link\" data-analytics-clickable=\"\" href=\"/moje-allegro/zakupy/kupione\" rel=\"nofollow\">kupione </a>\n",
      "\n",
      "\n",
      "\n",
      "<a class=\"_w7z6o _uj8z7 _fee54_1kOLi\" data-analytics-click-opbox-custom-placement=\"account_dropdown_link\" data-analytics-clickable=\"\" href=\"/user-rating-landing-page/index\" rel=\"nofollow\">oceń sprzedawcę </a>\n",
      "\n",
      "\n",
      "\n"
     ]
    }
   ],
   "source": [
    "for item in bs.findAll(\"a\",href=True)[:10] :\n",
    "    print(item)\n",
    "    print(\"\\n\\n\")"
   ]
  },
  {
   "cell_type": "markdown",
   "metadata": {},
   "source": [
    "It seems all offer hrefs contain \"allegro.pl/ogloszenie\" in their adress. \n",
    "\n",
    "The links to move to next page of search results contain \"przejdź do strony\" label"
   ]
  },
  {
   "cell_type": "code",
   "execution_count": 164,
   "metadata": {},
   "outputs": [
    {
     "data": {
      "text/plain": [
       "dict_keys(['class', 'href', 'aria-label', 'data-analytics-clickable', 'data-analytics-click-value'])"
      ]
     },
     "execution_count": 164,
     "metadata": {},
     "output_type": "execute_result"
    }
   ],
   "source": [
    "bs.findAll(\"a\",href=True)[1].attrs.keys()"
   ]
  },
  {
   "cell_type": "markdown",
   "metadata": {},
   "source": [
    "## Extracting all offers from a page\n"
   ]
  },
  {
   "cell_type": "code",
   "execution_count": 166,
   "metadata": {},
   "outputs": [
    {
     "name": "stdout",
     "output_type": "stream",
     "text": [
      "https://allegro.pl/ogloszenie/bmw-4-f36-gran-coupe-430d-m-pakiet-f-vat-48-300-km-8901537808\n",
      "\n",
      "\n",
      "https://allegro.pl/ogloszenie/bmw-4-f36-gran-coupe-430d-m-pakiet-f-vat-48-300-km-8901537808\n",
      "\n",
      "\n",
      "https://allegro.pl/ogloszenie/bmw-5gt-520d-m-pakiet-jasna-skora-navi-led-xenon-9125212183\n",
      "\n",
      "\n",
      "https://allegro.pl/ogloszenie/bmw-5gt-520d-m-pakiet-jasna-skora-navi-led-xenon-9125212183\n",
      "\n",
      "\n",
      "https://allegro.pl/ogloszenie/bmw-5-3-0i-258km-fabryczny-mpakiet-1-wlasciciel-9134384727\n",
      "\n",
      "\n",
      "https://allegro.pl/ogloszenie/bmw-5-3-0i-258km-fabryczny-mpakiet-1-wlasciciel-9134384727\n",
      "\n",
      "\n",
      "https://allegro.pl/ogloszenie/bmw-118d-coupe-mpakiet-pelny-serwis-bezwypadkowa-9134606969\n",
      "\n",
      "\n",
      "https://allegro.pl/ogloszenie/bmw-118d-coupe-mpakiet-pelny-serwis-bezwypadkowa-9134606969\n",
      "\n",
      "\n",
      "https://allegro.pl/ogloszenie/bmw-320d-mperformance-serwis-bezwypadek-155tys-km-9145539546\n",
      "\n",
      "\n",
      "https://allegro.pl/ogloszenie/bmw-320d-mperformance-serwis-bezwypadek-155tys-km-9145539546\n",
      "\n",
      "\n"
     ]
    }
   ],
   "source": [
    "for item in bs.findAll(\"a\", href=re.compile(\"allegro.pl/ogloszenie\"))[:10]:\n",
    "    print(item.attrs[\"href\"])\n",
    "    print(\"\\n\")"
   ]
  },
  {
   "cell_type": "code",
   "execution_count": 160,
   "metadata": {},
   "outputs": [],
   "source": [
    "def get_page_offers(link):\n",
    "    html = urlopen(link)\n",
    "    bs = BeautifulSoup(html, 'lxml')\n",
    "                    \n",
    "    offer_list=[]\n",
    "\n",
    "    for item in bs.findAll(\"a\", href=re.compile(\"allegro.pl/ogloszenie\")):\n",
    "        offer_list.append(item.attrs[\"href\"])\n",
    "    offer_list=list(set(offer_list))\n",
    "    return(offer_list)"
   ]
  },
  {
   "cell_type": "markdown",
   "metadata": {},
   "source": [
    "## Extracting all following pages\n"
   ]
  },
  {
   "cell_type": "code",
   "execution_count": 105,
   "metadata": {},
   "outputs": [
    {
     "name": "stdout",
     "output_type": "stream",
     "text": [
      "https://allegro.pl/kategoria/osobowe-bmw-4032?p=2\n",
      "\n",
      "\n",
      "\n",
      "https://allegro.pl/kategoria/osobowe-bmw-4032?p=3\n",
      "\n",
      "\n",
      "\n",
      "https://allegro.pl/kategoria/osobowe-bmw-4032?p=4\n",
      "\n",
      "\n",
      "\n",
      "https://allegro.pl/kategoria/osobowe-bmw-4032?p=5\n",
      "\n",
      "\n",
      "\n",
      "https://allegro.pl/kategoria/osobowe-bmw-4032?p=2\n",
      "\n",
      "\n",
      "\n",
      "https://allegro.pl/kategoria/osobowe-bmw-4032?p=3\n",
      "\n",
      "\n",
      "\n",
      "https://allegro.pl/kategoria/osobowe-bmw-4032?p=4\n",
      "\n",
      "\n",
      "\n",
      "https://allegro.pl/kategoria/osobowe-bmw-4032?p=5\n",
      "\n",
      "\n",
      "\n"
     ]
    }
   ],
   "source": [
    "for item in bs.findAll(\"a\", {\"aria-label\":re.compile(\"przejdź do strony\")}):\n",
    "    print(item.attrs[\"href\"])\n",
    "    print(\"\\n\\n\")"
   ]
  },
  {
   "cell_type": "code",
   "execution_count": 106,
   "metadata": {},
   "outputs": [
    {
     "name": "stdout",
     "output_type": "stream",
     "text": [
      "https://allegro.pl/kategoria/osobowe-bmw-4032?p=2\n",
      "\n",
      "\n",
      "\n",
      "https://allegro.pl/kategoria/osobowe-bmw-4032?p=2\n",
      "\n",
      "\n",
      "\n"
     ]
    }
   ],
   "source": [
    "for item in bs.findAll(\"a\", {\"aria-label\":re.compile(\"następna\")}):\n",
    "    print(item.attrs[\"href\"])\n",
    "    print(\"\\n\\n\")"
   ]
  },
  {
   "cell_type": "code",
   "execution_count": 107,
   "metadata": {},
   "outputs": [
    {
     "data": {
      "text/plain": [
       "'https://allegro.pl/kategoria/osobowe-bmw-4032?p=2'"
      ]
     },
     "execution_count": 107,
     "metadata": {},
     "output_type": "execute_result"
    }
   ],
   "source": [
    "bs.findAll(\"a\", {\"aria-label\":re.compile(\"następna\")})[0].attrs[\"href\"]"
   ]
  },
  {
   "cell_type": "code",
   "execution_count": 108,
   "metadata": {},
   "outputs": [],
   "source": [
    "def get_next_page(link):\n",
    "    html = urlopen(link)\n",
    "    bs = BeautifulSoup(html, 'lxml')\n",
    "                    \n",
    "    next_page=bs.findAll(\"a\", {\"aria-label\":re.compile(\"następna\")})[0].attrs[\"href\"]\n",
    "\n",
    "    \n",
    "    return(next_page)"
   ]
  },
  {
   "cell_type": "code",
   "execution_count": 109,
   "metadata": {},
   "outputs": [],
   "source": [
    "def get_n_following(link,n):\n",
    "    page_list=[link]\n",
    "    link_temp=link\n",
    "    print(\"Added page 0 to pages list:\\n{}\\n\".format(link))\n",
    "    for i in range(0,n):\n",
    "        try:\n",
    "            next_page=get_next_page(link_temp)\n",
    "            print(\"Added page {} to pages list:\\n{}\\n\".format(i+1,next_page))\n",
    "            link_temp=next_page\n",
    "            page_list.append(next_page)\n",
    "        except:\n",
    "            break\n",
    "    return(page_list)"
   ]
  },
  {
   "cell_type": "code",
   "execution_count": 156,
   "metadata": {},
   "outputs": [
    {
     "name": "stdout",
     "output_type": "stream",
     "text": [
      "Added page 0 to pages list:\n",
      "https://allegro.pl/kategoria/osobowe-bmw-4032?bmatch=baseline-al-product-cl-eyesa2-dict43-aut-1-5-0318\n",
      "\n",
      "Added page 1 to pages list:\n",
      "https://allegro.pl/kategoria/osobowe-bmw-4032?p=2\n",
      "\n",
      "Added page 2 to pages list:\n",
      "https://allegro.pl/kategoria/osobowe-bmw-4032?p=3\n",
      "\n",
      "Added page 3 to pages list:\n",
      "https://allegro.pl/kategoria/osobowe-bmw-4032?p=4\n",
      "\n",
      "Added page 4 to pages list:\n",
      "https://allegro.pl/kategoria/osobowe-bmw-4032?p=5\n",
      "\n",
      "Added page 5 to pages list:\n",
      "https://allegro.pl/kategoria/osobowe-bmw-4032?p=6\n",
      "\n",
      "Added page 6 to pages list:\n",
      "https://allegro.pl/kategoria/osobowe-bmw-4032?p=7\n",
      "\n",
      "Added page 7 to pages list:\n",
      "https://allegro.pl/kategoria/osobowe-bmw-4032?p=8\n",
      "\n",
      "Added page 8 to pages list:\n",
      "https://allegro.pl/kategoria/osobowe-bmw-4032?p=9\n",
      "\n",
      "Added page 9 to pages list:\n",
      "https://allegro.pl/kategoria/osobowe-bmw-4032?p=10\n",
      "\n",
      "Added page 10 to pages list:\n",
      "https://allegro.pl/kategoria/osobowe-bmw-4032?p=11\n",
      "\n",
      "Added page 11 to pages list:\n",
      "https://allegro.pl/kategoria/osobowe-bmw-4032?p=12\n",
      "\n",
      "Added page 12 to pages list:\n",
      "https://allegro.pl/kategoria/osobowe-bmw-4032?p=13\n",
      "\n",
      "Added page 13 to pages list:\n",
      "https://allegro.pl/kategoria/osobowe-bmw-4032?p=14\n",
      "\n",
      "Added page 14 to pages list:\n",
      "https://allegro.pl/kategoria/osobowe-bmw-4032?p=15\n",
      "\n",
      "Added page 15 to pages list:\n",
      "https://allegro.pl/kategoria/osobowe-bmw-4032?p=16\n",
      "\n",
      "Added page 16 to pages list:\n",
      "https://allegro.pl/kategoria/osobowe-bmw-4032?p=17\n",
      "\n",
      "Added page 17 to pages list:\n",
      "https://allegro.pl/kategoria/osobowe-bmw-4032?p=18\n",
      "\n",
      "Added page 18 to pages list:\n",
      "https://allegro.pl/kategoria/osobowe-bmw-4032?p=19\n",
      "\n",
      "Added page 19 to pages list:\n",
      "https://allegro.pl/kategoria/osobowe-bmw-4032?p=20\n",
      "\n",
      "Added page 20 to pages list:\n",
      "https://allegro.pl/kategoria/osobowe-bmw-4032?p=21\n",
      "\n"
     ]
    }
   ],
   "source": [
    "page_list=get_n_following(link,20)"
   ]
  },
  {
   "cell_type": "code",
   "execution_count": 111,
   "metadata": {},
   "outputs": [
    {
     "data": {
      "text/plain": [
       "37"
      ]
     },
     "execution_count": 111,
     "metadata": {},
     "output_type": "execute_result"
    }
   ],
   "source": [
    "len(page_list)"
   ]
  },
  {
   "cell_type": "markdown",
   "metadata": {},
   "source": [
    "## Create a list of all offers \n"
   ]
  },
  {
   "cell_type": "code",
   "execution_count": 112,
   "metadata": {},
   "outputs": [
    {
     "name": "stdout",
     "output_type": "stream",
     "text": [
      "Scraping offers from link\n",
      "https://allegro.pl/kategoria/osobowe-bmw-4032?bmatch=baseline-al-product-cl-eyesa2-dict43-aut-1-5-0318\n",
      "Combined number of offers=60\n",
      "\n",
      "Scraping offers from link\n",
      "https://allegro.pl/kategoria/osobowe-bmw-4032?p=2\n",
      "Combined number of offers=120\n",
      "\n",
      "Scraping offers from link\n",
      "https://allegro.pl/kategoria/osobowe-bmw-4032?p=3\n",
      "Combined number of offers=180\n",
      "\n",
      "Scraping offers from link\n",
      "https://allegro.pl/kategoria/osobowe-bmw-4032?p=4\n",
      "Combined number of offers=240\n",
      "\n",
      "Scraping offers from link\n",
      "https://allegro.pl/kategoria/osobowe-bmw-4032?p=5\n",
      "Combined number of offers=300\n",
      "\n",
      "Scraping offers from link\n",
      "https://allegro.pl/kategoria/osobowe-bmw-4032?p=6\n",
      "Combined number of offers=360\n",
      "\n",
      "Scraping offers from link\n",
      "https://allegro.pl/kategoria/osobowe-bmw-4032?p=7\n",
      "Combined number of offers=420\n",
      "\n",
      "Scraping offers from link\n",
      "https://allegro.pl/kategoria/osobowe-bmw-4032?p=8\n",
      "Combined number of offers=480\n",
      "\n",
      "Scraping offers from link\n",
      "https://allegro.pl/kategoria/osobowe-bmw-4032?p=9\n",
      "Combined number of offers=540\n",
      "\n",
      "Scraping offers from link\n",
      "https://allegro.pl/kategoria/osobowe-bmw-4032?p=10\n",
      "Combined number of offers=600\n",
      "\n",
      "Scraping offers from link\n",
      "https://allegro.pl/kategoria/osobowe-bmw-4032?p=11\n",
      "Combined number of offers=660\n",
      "\n",
      "Scraping offers from link\n",
      "https://allegro.pl/kategoria/osobowe-bmw-4032?p=12\n",
      "Combined number of offers=720\n",
      "\n",
      "Scraping offers from link\n",
      "https://allegro.pl/kategoria/osobowe-bmw-4032?p=13\n",
      "Combined number of offers=780\n",
      "\n",
      "Scraping offers from link\n",
      "https://allegro.pl/kategoria/osobowe-bmw-4032?p=14\n",
      "Combined number of offers=840\n",
      "\n",
      "Scraping offers from link\n",
      "https://allegro.pl/kategoria/osobowe-bmw-4032?p=15\n",
      "Combined number of offers=900\n",
      "\n",
      "Scraping offers from link\n",
      "https://allegro.pl/kategoria/osobowe-bmw-4032?p=16\n",
      "Combined number of offers=960\n",
      "\n",
      "Scraping offers from link\n",
      "https://allegro.pl/kategoria/osobowe-bmw-4032?p=17\n",
      "Combined number of offers=1020\n",
      "\n",
      "Scraping offers from link\n",
      "https://allegro.pl/kategoria/osobowe-bmw-4032?p=18\n",
      "Combined number of offers=1080\n",
      "\n",
      "Scraping offers from link\n",
      "https://allegro.pl/kategoria/osobowe-bmw-4032?p=19\n",
      "Combined number of offers=1140\n",
      "\n",
      "Scraping offers from link\n",
      "https://allegro.pl/kategoria/osobowe-bmw-4032?p=20\n",
      "Combined number of offers=1200\n",
      "\n",
      "Scraping offers from link\n",
      "https://allegro.pl/kategoria/osobowe-bmw-4032?p=21\n",
      "Combined number of offers=1260\n",
      "\n",
      "Scraping offers from link\n",
      "https://allegro.pl/kategoria/osobowe-bmw-4032?p=22\n",
      "Combined number of offers=1320\n",
      "\n",
      "Scraping offers from link\n",
      "https://allegro.pl/kategoria/osobowe-bmw-4032?p=23\n",
      "Combined number of offers=1380\n",
      "\n",
      "Scraping offers from link\n",
      "https://allegro.pl/kategoria/osobowe-bmw-4032?p=24\n",
      "Combined number of offers=1440\n",
      "\n",
      "Scraping offers from link\n",
      "https://allegro.pl/kategoria/osobowe-bmw-4032?p=25\n",
      "Combined number of offers=1500\n",
      "\n",
      "Scraping offers from link\n",
      "https://allegro.pl/kategoria/osobowe-bmw-4032?p=26\n",
      "Combined number of offers=1560\n",
      "\n",
      "Scraping offers from link\n",
      "https://allegro.pl/kategoria/osobowe-bmw-4032?p=27\n",
      "Combined number of offers=1620\n",
      "\n",
      "Scraping offers from link\n",
      "https://allegro.pl/kategoria/osobowe-bmw-4032?p=28\n",
      "Combined number of offers=1680\n",
      "\n",
      "Scraping offers from link\n",
      "https://allegro.pl/kategoria/osobowe-bmw-4032?p=29\n",
      "Combined number of offers=1740\n",
      "\n",
      "Scraping offers from link\n",
      "https://allegro.pl/kategoria/osobowe-bmw-4032?p=30\n",
      "Combined number of offers=1800\n",
      "\n",
      "Scraping offers from link\n",
      "https://allegro.pl/kategoria/osobowe-bmw-4032?p=31\n",
      "Combined number of offers=1860\n",
      "\n",
      "Scraping offers from link\n",
      "https://allegro.pl/kategoria/osobowe-bmw-4032?p=32\n",
      "Combined number of offers=1920\n",
      "\n",
      "Scraping offers from link\n",
      "https://allegro.pl/kategoria/osobowe-bmw-4032?p=33\n",
      "Combined number of offers=1980\n",
      "\n",
      "Scraping offers from link\n",
      "https://allegro.pl/kategoria/osobowe-bmw-4032?p=34\n",
      "Combined number of offers=2040\n",
      "\n",
      "Scraping offers from link\n",
      "https://allegro.pl/kategoria/osobowe-bmw-4032?p=35\n",
      "Combined number of offers=2100\n",
      "\n",
      "Scraping offers from link\n",
      "https://allegro.pl/kategoria/osobowe-bmw-4032?p=36\n",
      "Combined number of offers=2160\n",
      "\n"
     ]
    }
   ],
   "source": [
    "all_offers=[]\n",
    "for i in range(0,len(page_list)-1):\n",
    "    print(\"Scraping offers from link\")\n",
    "    print(page_list[i])\n",
    "    all_offers=all_offers+get_page_offers(page_list[i])\n",
    "    print(\"Combined number of offers={}\\n\".format(len(all_offers)))\n",
    "\n",
    "        "
   ]
  },
  {
   "cell_type": "markdown",
   "metadata": {},
   "source": [
    "# Extract data from single offer"
   ]
  },
  {
   "cell_type": "code",
   "execution_count": 113,
   "metadata": {},
   "outputs": [
    {
     "data": {
      "text/plain": [
       "'https://allegro.pl/ogloszenie/bmw-x3-f25-2016-diesel-xline-190-ps-salon-pl-8960550484'"
      ]
     },
     "execution_count": 113,
     "metadata": {},
     "output_type": "execute_result"
    }
   ],
   "source": [
    "offer=all_offers[29]\n",
    "offer"
   ]
  },
  {
   "cell_type": "code",
   "execution_count": 114,
   "metadata": {},
   "outputs": [],
   "source": [
    "html = urlopen(offer)\n",
    "bs = BeautifulSoup(html, 'lxml')"
   ]
  },
  {
   "cell_type": "code",
   "execution_count": 115,
   "metadata": {},
   "outputs": [
    {
     "data": {
      "text/plain": [
       "'BMW X3 F25 2016 diesel xline 190 ps salon PL 8960550484 - Allegro.pl'"
      ]
     },
     "execution_count": 115,
     "metadata": {},
     "output_type": "execute_result"
    }
   ],
   "source": [
    "bs.title.string"
   ]
  },
  {
   "cell_type": "code",
   "execution_count": 116,
   "metadata": {},
   "outputs": [],
   "source": [
    "#bs.body"
   ]
  },
  {
   "cell_type": "code",
   "execution_count": 117,
   "metadata": {},
   "outputs": [
    {
     "data": {
      "text/plain": [
       "<title>BMW X3 F25 2016 diesel xline 190 ps salon PL 8960550484 - Allegro.pl</title>"
      ]
     },
     "execution_count": 117,
     "metadata": {},
     "output_type": "execute_result"
    }
   ],
   "source": [
    "bs.title"
   ]
  },
  {
   "cell_type": "markdown",
   "metadata": {},
   "source": [
    "## Extracting base information from offer script"
   ]
  },
  {
   "cell_type": "markdown",
   "metadata": {},
   "source": [
    "Basic information about offer ID and car model and OEM can be extracted from bs.script.string. From this part of page we only want to extract OEM, model, serie and offer ID"
   ]
  },
  {
   "cell_type": "code",
   "execution_count": 118,
   "metadata": {},
   "outputs": [
    {
     "data": {
      "text/plain": [
       "'dataLayer=[{\"idItem\":\"8960550484\",\"headNavigation\":\"Samochody|Osobowe|BMW|X3|F25 (2010-)\",\"categoryPath\":\"149|4029|4032|12440|147328\",\"idCategory\":\"147328\",\"nameCategory\":\"F25 (2010-)\",\"sellerName\":\"uptobuy_pl\",\"active\":\"yes\",\"sma\":true,\"price\":99000,\"pageType\":\"detail\",\"department\":\"Motoryzacja\",\"FreeboxOffer\":false,\"FreeboxDeal\":false,\"offerName\":\"BMW X3 F25 2016 diesel xline 190 ps salon PL\",\"sellerId\":\"43229940\",\"isAuction\":false,\"isBuyNow\":false,\"isClassified\":true,\"isCharity\":false,\"charityOrganization\":null,\"fundraisingCampaign\":null,\"experiments\":{\"ask-seller-advertisement-captcha\":{\"variant\":\"show-captcha\"}}}]'"
      ]
     },
     "execution_count": 118,
     "metadata": {},
     "output_type": "execute_result"
    }
   ],
   "source": [
    "bs.script.string"
   ]
  },
  {
   "cell_type": "code",
   "execution_count": 119,
   "metadata": {},
   "outputs": [],
   "source": [
    "params=re.findall(\"\\[([^]]+)\\]\",bs.script.string)[0]"
   ]
  },
  {
   "cell_type": "code",
   "execution_count": 120,
   "metadata": {},
   "outputs": [
    {
     "data": {
      "text/plain": [
       "'{\"idItem\":\"8960550484\",\"headNavigation\":\"Samochody|Osobowe|BMW|X3|F25 (2010-)\",\"categoryPath\":\"149|4029|4032|12440|147328\",\"idCategory\":\"147328\",\"nameCategory\":\"F25 (2010-)\",\"sellerName\":\"uptobuy_pl\",\"active\":\"yes\",\"sma\":true,\"price\":99000,\"pageType\":\"detail\",\"department\":\"Motoryzacja\",\"FreeboxOffer\":false,\"FreeboxDeal\":false,\"offerName\":\"BMW X3 F25 2016 diesel xline 190 ps salon PL\",\"sellerId\":\"43229940\",\"isAuction\":false,\"isBuyNow\":false,\"isClassified\":true,\"isCharity\":false,\"charityOrganization\":null,\"fundraisingCampaign\":null,\"experiments\":{\"ask-seller-advertisement-captcha\":{\"variant\":\"show-captcha\"}}}'"
      ]
     },
     "execution_count": 120,
     "metadata": {},
     "output_type": "execute_result"
    }
   ],
   "source": [
    "params"
   ]
  },
  {
   "cell_type": "code",
   "execution_count": 121,
   "metadata": {},
   "outputs": [],
   "source": [
    "params_dict=json.loads(params)"
   ]
  },
  {
   "cell_type": "code",
   "execution_count": 122,
   "metadata": {},
   "outputs": [],
   "source": [
    "offerID=params_dict[\"idItem\"]"
   ]
  },
  {
   "cell_type": "code",
   "execution_count": 123,
   "metadata": {},
   "outputs": [
    {
     "data": {
      "text/plain": [
       "99000"
      ]
     },
     "execution_count": 123,
     "metadata": {},
     "output_type": "execute_result"
    }
   ],
   "source": [
    "params_dict[\"price\"]"
   ]
  },
  {
   "cell_type": "code",
   "execution_count": 124,
   "metadata": {},
   "outputs": [],
   "source": [
    "OEMdet=params_dict[\"headNavigation\"]"
   ]
  },
  {
   "cell_type": "code",
   "execution_count": 125,
   "metadata": {},
   "outputs": [
    {
     "data": {
      "text/plain": [
       "'Samochody|Osobowe|BMW|X3|F25 (2010-)'"
      ]
     },
     "execution_count": 125,
     "metadata": {},
     "output_type": "execute_result"
    }
   ],
   "source": [
    "OEMdet"
   ]
  },
  {
   "cell_type": "code",
   "execution_count": 126,
   "metadata": {},
   "outputs": [],
   "source": [
    "OEMdet=re.findall((\"(?<=Samochody\\|Osobowe)(?s)(.*$)\"),OEMdet)[0]"
   ]
  },
  {
   "cell_type": "code",
   "execution_count": 127,
   "metadata": {},
   "outputs": [
    {
     "data": {
      "text/plain": [
       "'|BMW|X3|F25 (2010-)'"
      ]
     },
     "execution_count": 127,
     "metadata": {},
     "output_type": "execute_result"
    }
   ],
   "source": [
    "OEMdet"
   ]
  },
  {
   "cell_type": "code",
   "execution_count": 128,
   "metadata": {},
   "outputs": [],
   "source": [
    "OEM, model, serie=(OEMdet.split(\"|\"))[1:]"
   ]
  },
  {
   "cell_type": "code",
   "execution_count": 129,
   "metadata": {},
   "outputs": [],
   "source": [
    "data={}"
   ]
  },
  {
   "cell_type": "code",
   "execution_count": 130,
   "metadata": {},
   "outputs": [],
   "source": [
    "data[\"OEM\"],data[\"model\"],data[\"serie\"]=(OEMdet.split(\"|\"))[1:]"
   ]
  },
  {
   "cell_type": "code",
   "execution_count": 131,
   "metadata": {},
   "outputs": [],
   "source": [
    "data[\"offerID\"]=offerID\n",
    "data[\"price\"]=params_dict[\"price\"]\n",
    "data[\"title\"]=bs.title.string"
   ]
  },
  {
   "cell_type": "code",
   "execution_count": 132,
   "metadata": {},
   "outputs": [
    {
     "data": {
      "text/plain": [
       "{'OEM': 'BMW',\n",
       " 'model': 'X3',\n",
       " 'serie': 'F25 (2010-)',\n",
       " 'offerID': '8960550484',\n",
       " 'price': 99000,\n",
       " 'title': 'BMW X3 F25 2016 diesel xline 190 ps salon PL 8960550484 - Allegro.pl'}"
      ]
     },
     "execution_count": 132,
     "metadata": {},
     "output_type": "execute_result"
    }
   ],
   "source": [
    "data"
   ]
  },
  {
   "cell_type": "markdown",
   "metadata": {},
   "source": [
    "## Extracting offer details"
   ]
  },
  {
   "cell_type": "code",
   "execution_count": 133,
   "metadata": {},
   "outputs": [
    {
     "data": {
      "text/plain": [
       "[<script nonce=\"n0t56jkYejk+NHPMqa3iIQ==\">dataLayer=[{\"idItem\":\"8960550484\",\"headNavigation\":\"Samochody|Osobowe|BMW|X3|F25 (2010-)\",\"categoryPath\":\"149|4029|4032|12440|147328\",\"idCategory\":\"147328\",\"nameCategory\":\"F25 (2010-)\",\"sellerName\":\"uptobuy_pl\",\"active\":\"yes\",\"sma\":true,\"price\":99000,\"pageType\":\"detail\",\"department\":\"Motoryzacja\",\"FreeboxOffer\":false,\"FreeboxDeal\":false,\"offerName\":\"BMW X3 F25 2016 diesel xline 190 ps salon PL\",\"sellerId\":\"43229940\",\"isAuction\":false,\"isBuyNow\":false,\"isClassified\":true,\"isCharity\":false,\"charityOrganization\":null,\"fundraisingCampaign\":null,\"experiments\":{\"ask-seller-advertisement-captcha\":{\"variant\":\"show-captcha\"}}}]</script>,\n",
       " <script nonce=\"n0t56jkYejk+NHPMqa3iIQ==\">var opbox = opbox || {}; opbox.config = opbox.config || {\"baseDomain\":\"allegro.pl\",\"edgeHost\":\"https://edge.allegro.pl\",\"cookieMonster\":{\"host\":\"https://ngastatic.com/s4c/tracker.js\",\"account\":\"CM.991213.tz_pl\",\"boxViewDisabled\":false,\"defaultCustomParams\":{\"pv\":{\"itemId\":\"8960550484\",\"leafId\":\"147328\",\"sellerId\":\"43229940\",\"superseller\":false,\"sellingMode\":\"classified\",\"categoryPath\":[{\"id\":\"954b95b6-43cf-4104-8354-dea4d9b10ddf\",\"name\":\"Allegro\"},{\"id\":\"3\",\"name\":\"Motoryzacja\"},{\"id\":\"149\",\"name\":\"Samochody\"},{\"id\":\"4029\",\"name\":\"Osobowe\"},{\"id\":\"4032\",\"name\":\"BMW\"},{\"id\":\"12440\",\"name\":\"X3\"},{\"id\":\"147328\",\"name\":\"F25 (2010-)\"}],\"isAdvertisement\":true,\"isAuction\":false,\"isBuyNow\":false,\"tag\":\"ShowOffer\",\"isActive\":true,\"isSnapshot\":false,\"_opbox\":{\"routePath\":\"/ogloszenie/:offerId\",\"traceId\":\"0723727134a95c0c\",\"publicationId\":\"allegro.pl-ogłoszenie-1017553-10-2-1581507815599-1740280593\",\"experiments\":{\"ask-seller-advertisement-captcha\":{\"variant\":\"show-captcha\"}}}},\"ev\":{\"itemId\":\"8960550484\",\"leafId\":\"147328\",\"sellerId\":\"43229940\",\"superseller\":false,\"sellingMode\":\"classified\",\"categoryPath\":[{\"id\":\"954b95b6-43cf-4104-8354-dea4d9b10ddf\",\"name\":\"Allegro\"},{\"id\":\"3\",\"name\":\"Motoryzacja\"},{\"id\":\"149\",\"name\":\"Samochody\"},{\"id\":\"4029\",\"name\":\"Osobowe\"},{\"id\":\"4032\",\"name\":\"BMW\"},{\"id\":\"12440\",\"name\":\"X3\"},{\"id\":\"147328\",\"name\":\"F25 (2010-)\"}],\"isAdvertisement\":true,\"isAuction\":false,\"isBuyNow\":false,\"tag\":\"ShowOffer\",\"isActive\":true,\"isSnapshot\":false}}},\"lazyBoxNames\":[],\"pinter\":{\"enabled\":true,\"samplingRate\":{\"/\":0.33,\"/listing\":0.083,\"/kategoria/:alias\":0.083,\"/uzytkownik/:login/?:kategoria\":0.1,\"/oferta/:offerId\":0.0625}},\"language\":\"pl-PL\"} || {};</script>,\n",
       " <script crossorigin=\"\" nonce=\"n0t56jkYejk+NHPMqa3iIQ==\" src=\"https://assets.allegrostatic.com/opbox-web/polyfills/hvysmn.js\"></script>,\n",
       " <script nonce=\"n0t56jkYejk+NHPMqa3iIQ==\">!function(){function e(e,t){for(var n=0;n<t.length;n++){var i=t[n];i.enumerable=i.enumerable||!1,i.configurable=!0,\"value\"in i&&(i.writable=!0),Object.defineProperty(e,i.key,i)}}void 0===window.performance&&(window.performance={}),\"function\"!=typeof window.performance.mark&&(window.performance.mark=function(){},window.keepPerformanceAlive=window.performance);var t=Object.assign;var n,i,o=function(){function n(e){var t=e.targetWindow,i=e.alias,o=void 0===i?\"cm\":i,a=e.config,r=void 0===a?{}:a,s=e.isExternal,c=void 0!==s&&s;!function(e,t){if(!(e instanceof t))throw new TypeError(\"Cannot call a class as a function\")}(this,n);var l=r.cookieMonster,u=l.host,f=l.account,d=l.defaultCustomParams,h=void 0===d?{}:d,v=l.referrer,w=void 0===v?document.referrer:v;this.targetWindow=t,this.document=this.targetWindow.document,this.alias=o,this.host=u,this.account=f,this.isExternal=c,this.defaultCustomParams=h,this.referrer=w}var i,o,a;return i=n,(o=[{key:\"initialize\",value:function(){if(this.isExternal)return this.loadExternal(),void this.callCookieMonster.call(this,\"create\",this.account);this.host&&this.account&&!this.isLoaded()?(this.load(),this.callCookieMonster.call(this,\"create\",this.account),this.sendPageView(),this.updateReferrer()):this.updateReferrer()}},{key:\"load\",value:function(){this.isLoaded()||function(e,n,i,o,a){e[\"cm.analytics.object\"]=a,e[a]=e[a]||function(){for(var t=arguments.length,n=new Array(t),i=0;i<t;i++)n[i]=arguments[i];(e[a].q=e[a].q||[]).push(n)};var r=function(e,n){for(var i=arguments.length,o=new Array(i>2?i-2:0),a=2;a<i;a++)o[a-2]=arguments[a];return t.apply(void 0,[e.createElement(n)].concat(o))}(n,\"script\",{src:o}),s=n.getElementsByTagName(\"script\")[0];s.parentNode.insertBefore(r,s)}(this.targetWindow,this.document,0,this.host,this.alias)}},{key:\"loadExternal\",value:function(){this.isLoaded()||function(e,t){e[\"cm.analytics.object\"]=t,e[t]=e[t]||function(){for(var n=arguments.length,i=new Array(n),o=0;o<n;o++)i[o]=arguments[o];(e[t].q=e[t].q||[]).push(i)}}(this.targetWindow,this.alias)}},{key:\"send\",value:function(){for(var e,t=arguments.length,n=new Array(t),i=0;i<t;i++)n[i]=arguments[i];(e=this.callCookieMonster).call.apply(e,[this,this.sendCommand()].concat(n))}},{key:\"sendPageView\",value:function(){var e=arguments.length>0&&void 0!==arguments[0]?arguments[0]:this.defaultCustomParams.pv||{};this.send(\"pageview\",{customParams:e,referrer:this.referrer})}},{key:\"updateReferrer\",value:function(){this.referrer=window.location.href}},{key:\"callCookieMonster\",value:function(){if(this.isLoaded()){for(var e=arguments.length,t=new Array(e),n=0;n<e;n++)t[n]=arguments[n];this.targetWindow[this.alias].apply(null,t)}}},{key:\"isLoaded\",value:function(){return\"function\"==typeof this.targetWindow[this.alias]}},{key:\"sendCommand\",value:function(){return\"send@\".concat(this.account)}}])&&e(i.prototype,o),a&&e(i,a),n}();n=window,i=function(e){return function(e){return e.opbox||{}}(e).config}(n),new o({targetWindow:n,config:i}).initialize(),function(e,n){e.opbox=e.opbox||{},t(e.opbox,n)}(n,{initialized:!0})}();</script>,\n",
       " <script nonce=\"n0t56jkYejk+NHPMqa3iIQ==\">! function () {\n",
       "     var e = document,\n",
       "         t = e.createElement('script');\n",
       "     if (!('noModule' in t) && 'onbeforeload' in t) {\n",
       "         var n = !1;\n",
       "         e.addEventListener('beforeload', function (e) {\n",
       "             if (e.target === t) n = !0;\n",
       "             else if (!e.target.hasAttribute('nomodule') || !n) return;\n",
       "             e.preventDefault();\n",
       "         }, !0), t.type = 'module', t.src = '.', e.head.appendChild(t), t.remove();\n",
       "     }\n",
       " }();</script>,\n",
       " <script nonce=\"n0t56jkYejk+NHPMqa3iIQ==\">\"function\"!=typeof Function.prototype.ToString&&(Function.prototype.ToString=function(){return this.toString()});\n",
       " </script>,\n",
       " <script nonce=\"n0t56jkYejk+NHPMqa3iIQ==\">\"undefined\"==typeof Symbol||!Symbol.iterator||Symbol.iterator in HTMLCollection.prototype||(HTMLCollection.prototype[Symbol.iterator]=function(){var o=0,t=this;return{next:function(){var e=t.length<=o;return{value:e?void 0:t[o++],done:e}}}});\n",
       " </script>,\n",
       " <script data-role=\"performance-header\" nonce=\"n0t56jkYejk+NHPMqa3iIQ==\">!function(){function n(n){return function(t){var e=t?\"\".concat(n).concat(\"@\").concat(t):n;performance.mark(e)}}function t(t){var e=n(t);return function(n){\"visible\"===function(n){return n.visibilityState}(document)?requestAnimationFrame((function(){return e(n)})):e(n)}}var e=[[t,\"FirstContentfulPaint\"],[t,\"FirstMeaningfulPaint\"],[n,\"TimeToFirstInteractive\"],[n,\"TimeToInteractive\"],[n,\"VisuallyComplete\"]].reduce((function(n,t){var e=t[0],r=function(n){return n[1]}(t);return n[\"mark\".concat(r)]=e(r),n}),{});function r(){return function(n,t,e){n[t]&&function(n){return\"function\"==typeof n}(n[t][e])&&n[t][e]()}(\"undefined\"!=typeof window?window:{},\"LOAD_MARKER\",\"measure\")}var o=Math.round,i=function(n){return n>1e12},a=function(n,t){return o(i(n)?n-t:n)},c=function(){var n=arguments.length>0&&void 0!==arguments[0]?arguments[0]:{},t=n.value,e=n.label,r=void 0===e?\"Mark\":e,o=n.params;return{category:\"Performance\",label:r,value:t,customParams:o}},u=function(n,t){null!==n&&\"function\"==typeof t.cm?t.cm(\"send\",\"event\",n):console.log(\"Cannot send performance data\",n)},f=function(n){return n.visibilityState},s=function(n){return void 0!==n},l=\"largest-contentful-paint\";var p=\"pinter-browser-f8e9db11.js\",d=\"pinter-browser-es6-315acb45.js\",m=Object.assign;function v(n,t,e){var r=e.document,o=function(n,t){for(var e=arguments.length,r=new Array(e>2?e-2:0),o=2;o<e;o++)r[o-2]=arguments[o];return m.apply(void 0,[n.createElement(t)].concat(r))}(r,\"script\",{src:\"https://assets.allegrostatic.com/opbox-web/\".concat(n)},t);r.head.appendChild(o)}function w(n){var t=n.opbox.config,e=t.pinter,r=e.enabled,o=e.samplingRate,i=function(){var n=arguments.length>0&&void 0!==arguments[0]?arguments[0]:{},t=n.cookieMonster;return t.defaultCustomParams.pv._opbox.routePath}(t);return!!r&&(!Object.keys(o).includes(i)||function(n,t){var e=function(n){var t=n.cookie.split(\"_cmuid=\")[1];return t&&t.charAt(0)}(n);return e?parseInt(e,16)<t:t>0}(n.document,function(n){return Math.ceil(32*n)}(o[i])))}var y,g=(y=[function(n){var t,e,r;w(n)&&(function(){var n=arguments.length>0&&void 0!==arguments[0]?arguments[0]:window;v(p,{noModule:!0},n),v(d,{type:\"module\"},n)}(n),e=(t=n).document,r=t.performance,function(n){!function(n,t){var e,r,o,a=n.removeEventListener,c=n.addEventListener,u=n.performance,f={passive:!0,capture:!0},s=n.Date.now();function l(i,c){e||(e=c,r=i,o=n.Date.now(),d(a),r>=0&&r<o-s&&t(r,e))}function p(t){if(t.cancelable){var e=(i(t.timeStamp)?n.Date.now():u.now())-t.timeStamp;\"pointerdown\"==t.type?function(n,t){function e(){l(n,t),o()}function r(){o()}function o(){a(\"pointerup\",e,f),a(\"pointercancel\",r,f)}c(\"pointerup\",e,f),c(\"pointercancel\",r,f)}(e,t):l(e,t)}}function d(n){[\"click\",\"mousedown\",\"keydown\",\"touchstart\",\"pointerdown\"].forEach((function(t){n(t,p,f)}))}d(c)}(n,(function(t,e){u(c({value:\"FirstInput\",params:{st:a(e.timeStamp,n.performance.timing.navigationStart),d:t}}),n)}))}(t),function(n,t,e){var r,o=s((r=e).hidden)?\"visibilitychange\":s(r.msHidden)?\"ms\".concat(\"visibilitychange\"):s(r.webkitHidden)?\"webkit\".concat(\"visibilitychange\"):null;if(o){var i=function(r){return u(function(n,t,e){return c({label:\"PageVisibilityChange\",value:n,params:{st:a(t,e.timing.navigationStart)}})}(f(e),r.timeStamp,t),n)};e.addEventListener(o,i,!0),i({timeStamp:t.now()})}}(t,r,e),function(n,t){var e=n.PerformanceObserver;!function(n,t){return\"hidden\"===f(n)}(t)&&e&&e.supportedEntryTypes&&e.supportedEntryTypes.includes(l)&&new e((function(t){var e,r,i=(e=t.getEntries())[(r=e,r.length-1)],a=o(i.renderTime||i.loadTime);u(c({label:\"LargestContentfulPaint\",value:i.url?\"i\":\"t\",params:{s:i.size,st:a}}),n)})).observe({entryTypes:[l]})}(t,e))},function(){!function(n,t){var e=n.toUpperCase(),r=n.toLowerCase();!function(n,o,i,a,c,u,f,s,l){var p=function(n){return function(t){return Array.from(n.querySelectorAll(t))}}(s);function d(){l.length||t()}function m(t){var r=t.target;if(\"IMG\"===(r.tagName||\"\")&&(r.getAttribute(n)||\"\").toUpperCase()===e){var o=l.indexOf(r.src);-1!==o&&(l.splice(o,1),d())}}s[c](i,m,!0),s[c](a,m,!0),f[o]={measure:function(){var t=p(\"[\".concat(n,'=\"').concat(e,'\"], [').concat(n,'=\"').concat(r,'\"]'));l=[],t.forEach((function(n){n.complete||l.push(n.src)})),d()},teardown:function(){s[u](i,m,!0),s[u](a,m,!0),delete f[o]}}}(\"data-mark\",\"LOAD_MARKER\",\"load\",\"error\",\"addEventListener\",\"removeEventListener\",window,document,[])}(\"VC\",e.markVisuallyComplete)},function(n){m(n.opbox,{performance:m(e,{measureVisuallyComplete:r})})}],function(){for(var n=arguments.length,t=new Array(n),e=0;e<n;e++)t[e]=arguments[e];return y.forEach((function(n){try{n.apply(void 0,t)}catch(n){window.newrelic&&window.newrelic.noticeError(n),console.error(n)}}))});1===document.querySelectorAll(\"script[\".concat(\"data-role\",'=\"').concat(\"performance-header\",'\"]')).length&&g(window)}();</script>,\n",
       " <script nonce=\"n0t56jkYejk+NHPMqa3iIQ==\">var placeholder=function(e){var r=Object.assign;function n(e,r){return Array.from(e,r)}var t=Function,o=Promise,i={analytics:{sendPageView:t,sendEvent:t,sendItemViewEvent:t,sendClickEvent:t,sendContextmenuEvent:t,sendBoxInteractionEvent:t,registerEventCallback:t},boxViewsMarker:{markBoxAsRendered:t,markBoxAsVisible:t,recursivelyMarkBoxAsVisible:t,markBoxAsHidden:t,recursivelyMarkBoxAsHidden:t,trackBoxScroll:t,isBoxInViewport:t},component:{init:t,register:t},services:{__dangerouslyGet__:t,register:t},onData:t,changeParams:t,refreshPage:t,tween:t,scrollTo:t,edge:{get:o,put:o,post:o,patch:o,delete:o},preferences:{set:o,get:o,getMany:o},page:{getData:o,renderSubtree:o},registerComponent:t,onDomReady:t,reportError:t,loaded:!0};function a(e){var r=[],t=e?function(){var e=arguments;return new Promise((function(t,o){return r.push({args:n(e),resolve:t,reject:o})}))}:function(){r.push({args:n(arguments)})};return t.__queue__=r,t}function s(e){return e===t?a():e===o?a(!0):!0===e||!1===e?e:Object.keys(e).reduce((function(r,n){return r[n]=s(e[n]),r}),{})}function c(e,n){var t=arguments.length>2&&void 0!==arguments[2]?arguments[2]:\"opbox\";n[t]=n[t]||{},n[t].loaded||r(n[t],s(e))}function u(e){c(i,e,\"opbox\")}return u(window),e.PROMISE_FN=o,e.VOID_FN=t,e.default=c,e.init=u,e.opboxApiSchema=i,e}({});</script>,\n",
       " <script async=\"async\" crossorigin=\"\" nonce=\"n0t56jkYejk+NHPMqa3iIQ==\" src=\"https://assets.allegrostatic.com/opbox-metrum-header/main-header_80be87e4.js\"></script>,\n",
       " <script async=\"async\" crossorigin=\"\" nonce=\"n0t56jkYejk+NHPMqa3iIQ==\" src=\"https://assets.allegrostatic.com/opbox-cart-status/index_f83f60ba.js\"></script>,\n",
       " <script nonce=\"n0t56jkYejk+NHPMqa3iIQ==\">\n",
       "   var googletag = googletag || {};\n",
       "   googletag.cmd = googletag.cmd || [];\n",
       "   var pbjs = pbjs || {};\n",
       "   pbjs.que = pbjs.que || [];\n",
       " </script>,\n",
       " <script async=\"async\" crossorigin=\"\" nonce=\"n0t56jkYejk+NHPMqa3iIQ==\" src=\"https://assets.allegrostatic.com/opbox-modal/index_2f1f8676.js\"></script>,\n",
       " <script nonce=\"n0t56jkYejk+NHPMqa3iIQ==\">(function(w,d,s,l,i){w[l]=w[l]||[];w[l].push({'gtm.start':\n",
       "                 new Date().getTime(),event:'gtm.js'});var f=d.getElementsByTagName(s)[0],\n",
       "                 j=d.createElement(s),dl=l!='dataLayer'?'&l='+l:'';j.async=true;j.src=\n",
       "                 '//www.googletagmanager.com/gtm.js?id='+i+dl;f.parentNode.insertBefore(j,f);\n",
       "             })(window,document,'script','dataLayer','GTM-FXVJ');</script>,\n",
       " <script nonce=\"n0t56jkYejk+NHPMqa3iIQ==\">(function (window) {\n",
       "     function CmpVariables() {\n",
       "         var cmp = {\n",
       "             iabConsentData: null,\n",
       "             gdprApplies: true,\n",
       "             hasGlobalScope: false,\n",
       "             responseCode: false,\n",
       "             cmpLoaded: false\n",
       "         };\n",
       " \n",
       "         return {\n",
       "             get: function(key) {\n",
       "                 if (!key) {\n",
       "                     return cmp;\n",
       "                 }\n",
       " \n",
       "                 return cmp[key];\n",
       "             },\n",
       "             set: function(key, value) {\n",
       "                 cmp[key] = value;\n",
       "             }\n",
       "         };\n",
       "     }\n",
       " \n",
       "     function setCookie(name, value) {\n",
       "         var expirationDate = new Date();\n",
       "         var expireDays = 24*60*60*1000;\n",
       "         expirationDate.setTime(expirationDate.getTime() + expireDays);\n",
       "         var expires = 'expires=' + expirationDate.toUTCString();\n",
       " \n",
       "         document.cookie = [name, '=', value, ';', expires, ';path=/'].join('');\n",
       "     }\n",
       " \n",
       "     function cmpMsgHandler(msgData) {\n",
       "         var source = msgData && msgData.source;\n",
       "         var data = msgData && msgData.data;\n",
       " \n",
       "         try {\n",
       "             var json = JSON.parse(data);\n",
       "         } catch(e) {\n",
       "             var json = null;\n",
       "         }\n",
       " \n",
       "         var cmpCall = json && json.__cmpCall;\n",
       "         var isIabEuropeCall = json && json.key && json.key.indexOf('IabEurope') !== -1;\n",
       " \n",
       "         if (cmpCall) {\n",
       "             window.__cmp(cmpCall.command, cmpCall.parameter, function (returnValue, success) {\n",
       "                 var returnMsg = {\n",
       "                     __cmpReturn: {\n",
       "                         returnValue: returnValue,\n",
       "                         success: success,\n",
       "                         callId: cmpCall.callId\n",
       "                     }\n",
       "                 };\n",
       " \n",
       "                 if(source) {\n",
       "                     source.postMessage(JSON.stringify(returnMsg), TARGET_ORIGIN_ALL);\n",
       "                 }\n",
       "             });\n",
       "         } else if (isIabEuropeCall && json.data) {\n",
       "             var matchedExpression = json.data.match(EUCONSENT_REG_EXP);\n",
       "             var euconsent = matchedExpression && matchedExpression[1];\n",
       " \n",
       "             if (euconsent) {\n",
       "                 cmpGlobalVariables.getInstance().set('iabConsentData', euconsent);\n",
       "                 setCookie('euconsent', euconsent);\n",
       "             }\n",
       "         }\n",
       "     };\n",
       " \n",
       "     function setConsentWindowApi() {\n",
       "         if (typeof (window.__cmp) !== 'function') {\n",
       "             window.__cmp = cmpApi;\n",
       "             window.__cmp.msgHandler = cmpMsgHandler;\n",
       " \n",
       "             if ( window.addEventListener ) {\n",
       "                 window.addEventListener('message', cmpMsgHandler, false);\n",
       "             } else {\n",
       "                 window.attachEvent('onmessage', cmpMsgHandler);\n",
       "             }\n",
       "         }\n",
       "     }\n",
       " \n",
       "     function getCallbackData(commandFlags) {\n",
       "         var result = {};\n",
       "         var cmpVariables = cmpGlobalVariables.getInstance().get();\n",
       " \n",
       "         if (!commandFlags.getVendorList) {\n",
       "             result.responseCode = cmpVariables.responseCode;\n",
       "         }\n",
       " \n",
       "         if (commandFlags.getConsentData || commandFlags.getVendorConsents) {\n",
       "             result.gdprApplies = cmpVariables.gdprApplies;\n",
       "             result.hasGlobalScope = cmpVariables.hasGlobalScope;\n",
       "         }\n",
       " \n",
       "         if (commandFlags.getConsentData) {\n",
       "             result.consentData = cmpVariables.iabConsentData;\n",
       "         }\n",
       " \n",
       "         if (commandFlags.getVendorConsents) {\n",
       "             result.metadata = cmpVariables.iabConsentData;\n",
       "         }\n",
       " \n",
       "         if (commandFlags.ping) {\n",
       "             result.gdprAppliesGlobally = cmpVariables.gdprApplies;\n",
       "             result.cmpLoaded = cmpVariables.cmpLoaded;\n",
       "         }\n",
       " \n",
       "         return result;\n",
       "     }\n",
       " \n",
       "     function checkCommandDeclared(commandFlags) {\n",
       "         var isDeclared = false;\n",
       "         var commandFlagKeys = Object.keys(commandFlags);\n",
       "         var commandFlagKeyLength = commandFlagKeys.length;\n",
       "         var indexKey = 0;\n",
       " \n",
       "         for(indexKey; indexKey < commandFlagKeyLength; indexKey++) {\n",
       "             isDeclared = commandFlags[commandFlagKeys[indexKey]];\n",
       "             if (isDeclared) {\n",
       "                 return isDeclared;\n",
       "             }\n",
       "         }\n",
       "         return isDeclared;\n",
       "     }\n",
       " \n",
       "     function cmpApiCommand(command, version, callback) {\n",
       "         var commandFlags = {\n",
       "             ping: command === 'ping',\n",
       "             getConsentData: command === 'getConsentData',\n",
       "             getVendorConsents: command === 'getVendorConsents',\n",
       "             getVendorList: command === 'getVendorList'\n",
       "         };\n",
       "         var callbackData = getCallbackData(commandFlags);\n",
       "         var isCommandDeclared = checkCommandDeclared(commandFlags);\n",
       " \n",
       "         if (isCommandDeclared) {\n",
       "             callback(callbackData, true);\n",
       "         } else {\n",
       "             callback({ msg: CMP_COMMAND_NOT_FOUND }, false);\n",
       "         }\n",
       "     }\n",
       " \n",
       "     function getIabConsent () {\n",
       "         if(!isUserIabConsentSetted) {\n",
       "             isUserIabConsentSetted = window.opbox.preferences.get('iabConsent');\n",
       "         }\n",
       "         return isUserIabConsentSetted;\n",
       "     }\n",
       " \n",
       "     function cmpApi(command, version, callback) {\n",
       "         if (!cmpGlobalVariables.getInstance().get('iabConsentData')) {\n",
       "             getIabConsent().then(function (value) {\n",
       "                 cmpGlobalVariables.getInstance().set('iabConsentData', value);\n",
       "                 cmpApiCommand(command, version, callback);\n",
       "                 setCookie('euconsent', value);\n",
       "             });\n",
       "         } else {\n",
       "             cmpApiCommand(command, version, callback);\n",
       "         }\n",
       "     }\n",
       "     var isUserIabConsentSetted = false;\n",
       "     var CMP_COMMAND_NOT_FOUND = 'command not found';\n",
       "     var EUCONSENT_REG_EXP = /euconsent=([^;\\s]+)/i;\n",
       "     var TARGET_ORIGIN_ALL = '*';\n",
       "     var cmpGlobalVariables = (function() {\n",
       "         var instance;\n",
       " \n",
       "         return {\n",
       "             getInstance: function() {\n",
       "                 if (!instance) {\n",
       "                     instance = new CmpVariables();\n",
       "                 }\n",
       "                 return instance;\n",
       "             }\n",
       "         };\n",
       "     })();\n",
       " \n",
       "     if (!window.opbox.loaded) {\n",
       "         window.addEventListener('opboxAPILoaded', setConsentWindowApi);\n",
       "     } else {\n",
       "         setConsentWindowApi();\n",
       "     }\n",
       " }(window));\n",
       " </script>,\n",
       " <script nonce=\"n0t56jkYejk+NHPMqa3iIQ==\">\n",
       " document.addEventListener('load', function(e) { if (e.target.media === 'not all') { e.target.media = 'all' } }, true)\n",
       " </script>,\n",
       " <script nonce=\"n0t56jkYejk+NHPMqa3iIQ==\"> </script>,\n",
       " <script type=\"application/json\">{\"config\":{\"mobileFeaturesEnabled\":false,\"searchInDescriptionsEnabled\":true,\"displayModalAfterClick\":false},\"search\":{\"phrase\":\"\",\"typedPhrase\":null,\"isFocused\":false,\"isExpanded\":false,\"passAllQueryParameters\":false,\"additionalParams\":{}},\"suggester\":{\"list\":[],\"activeIndex\":null,\"isExpanded\":false},\"filters\":{\"list\":[{\"name\":\"F25 (2010-)\",\"type\":\"CATEGORY\",\"id\":\"\",\"url\":\"\\u002Fkategoria\\u002Fkategoria-147328\",\"isExtra\":true},{\"name\":\"Wszystkie kategorie\",\"url\":\"\\u002Flisting\",\"type\":\"all\"},{\"id\":\"5\",\"name\":\"Dom i ogród\",\"code\":\"household\",\"url\":\"\\u002Fkategoria\\u002Fdom-i-ogrod\",\"type\":\"department\"},{\"id\":\"11763\",\"name\":\"Dziecko\",\"code\":\"baby\",\"url\":\"\\u002Fkategoria\\u002Fdziecko\",\"type\":\"department\"},{\"id\":\"42540aec-367a-4e5e-b411-17c09b08e41f\",\"name\":\"Elektronika\",\"code\":\"electronics\",\"url\":\"\\u002Fkategoria\\u002Felektronika\",\"type\":\"department\"},{\"id\":\"4bd97d96-f0ff-46cb-a52c-2992bd972bb1\",\"name\":\"Firma i usługi\",\"code\":\"company\",\"url\":\"\\u002Fkategoria\\u002Ffirma\",\"type\":\"department\"},{\"id\":\"a408e75a-cede-4587-8526-54e9be600d9f\",\"name\":\"Kolekcje i sztuka\",\"code\":\"collections.art\",\"url\":\"\\u002Fkategoria\\u002Fkolekcje-i-sztuka\",\"type\":\"department\"},{\"id\":\"38d588fd-7e9c-4c42-a4ae-6831775eca45\",\"name\":\"Kultura i rozrywka\",\"code\":\"culture.entertainment\",\"url\":\"\\u002Fkategoria\\u002Fkultura-i-rozrywka\",\"type\":\"department\"},{\"id\":\"ea5b98dd-4b6f-4bd0-8c80-22c2629132d0\",\"name\":\"Moda\",\"code\":\"fashion.beauty\",\"url\":\"\\u002Fkategoria\\u002Fmoda\",\"type\":\"department\"},{\"id\":\"3\",\"name\":\"Motoryzacja\",\"code\":\"automotive\",\"url\":\"\\u002Fkategoria\\u002Fmotoryzacja\",\"type\":\"department\"},{\"id\":\"20782\",\"name\":\"Nieruchomości\",\"code\":\"real.estate\",\"url\":\"\\u002Fkategoria\\u002Fnieruchomosci\",\"type\":\"department\"},{\"id\":\"3919\",\"name\":\"Sport i turystyka\",\"code\":\"sports.leisure\",\"url\":\"\\u002Fkategoria\\u002Fsport-i-turystyka\",\"type\":\"department\"},{\"id\":\"258832\",\"name\":\"Supermarket\",\"code\":\"supermarket\",\"url\":\"\\u002Fkategoria\\u002Fsupermarket\",\"type\":\"department\"},{\"id\":\"1429\",\"name\":\"Uroda\",\"code\":\"beauty\",\"url\":\"\\u002Fkategoria\\u002Furoda\",\"type\":\"department\"},{\"id\":\"121882\",\"name\":\"Zdrowie\",\"code\":\"health\",\"url\":\"\\u002Fkategoria\\u002Fzdrowie\",\"type\":\"department\"},{\"name\":\"Użytkownicy\",\"url\":\"\",\"type\":\"users\"},{\"name\":\"Zakończone\",\"url\":\"\\u002Fzakonczone\",\"type\":\"ended\"}],\"checkedFilter\":{\"name\":\"F25 (2010-)\",\"type\":\"CATEGORY\",\"id\":\"\",\"url\":\"\\u002Fkategoria\\u002Fkategoria-147328\",\"isExtra\":true}},\"searchInDescriptions\":false}</script>,\n",
       " <script type=\"application/json\">{\"unitPath\":\"/21612525419/Allegro.pl/cat_electronics/330x400_layer\",\"tagId\":\"_2f981_6VWVO-f37b5a3c\",\"format\":\"banner\",\"targeting\":{},\"fallback\":{\"imageAlt\":\"Aparaty cyfrowe\",\"imageUrl\":\"https://assets.allegrostatic.com/opbox/allegro.pl/header/Layer%20electronics/electronics_layer_small.png\",\"linkUrl\":\"/aparaty-cyfrowe-110618?order=qd&buyNew=1&offerTypeBuyNow=1\"},\"fallbackOnBlockOnly\":false,\"headerBidding\":[],\"size\":[[330,400]],\"sizeMapping\":[{\"viewport\":[0,0],\"sizes\":[]},{\"viewport\":[992,0],\"sizes\":[[330,400]]}],\"pageCategory\":[],\"isLazy\":true,\"isVideo\":false,\"isScalable\":true,\"autoRefresh\":false,\"alignment\":\"center\",\"implementationVariant\":null}</script>,\n",
       " <script type=\"application/json\">{\"unitPath\":\"/21612525419/Allegro.pl/cat_fashion/330x400_layer\",\"tagId\":\"_2f981_6VWVO-b89082d3\",\"format\":\"banner\",\"targeting\":{},\"fallback\":{\"imageAlt\":\"Outlet\",\"imageUrl\":\"https://assets.allegrostatic.com/display-pl/2019/fallback/fashion/MKT-5138_330x400%20unisex.jpg\",\"linkUrl\":\"/dzial/moda/outlet\"},\"fallbackOnBlockOnly\":false,\"headerBidding\":[],\"size\":[[330,400]],\"sizeMapping\":[{\"viewport\":[0,0],\"sizes\":[]},{\"viewport\":[992,0],\"sizes\":[[330,400]]}],\"pageCategory\":[],\"isLazy\":true,\"isVideo\":false,\"isScalable\":true,\"autoRefresh\":false,\"alignment\":\"center\",\"implementationVariant\":null}</script>,\n",
       " <script type=\"application/json\">{\"unitPath\":\"/21612525419/Allegro.pl/cat_household/330x400_layer\",\"tagId\":\"_2f981_6VWVO-112f08b5\",\"format\":\"banner\",\"targeting\":{},\"fallback\":{\"imageAlt\":\"\",\"imageUrl\":\"https://assets.allegrostatic.com/display-pl/2019/fallback/household/WM-4008-330x400-glamour-02-salon.jpg\",\"linkUrl\":\"/kampania/wnetrza/salon_ponadczasowy_szyk\"},\"fallbackOnBlockOnly\":false,\"headerBidding\":[],\"size\":[[330,400]],\"sizeMapping\":[{\"viewport\":[0,0],\"sizes\":[]},{\"viewport\":[992,0],\"sizes\":[[330,400]]}],\"pageCategory\":[],\"isLazy\":true,\"isVideo\":false,\"isScalable\":true,\"autoRefresh\":false,\"alignment\":\"center\",\"implementationVariant\":null}</script>,\n",
       " <script type=\"application/json\">{\"unitPath\":\"/21612525419/Allegro.pl/cat_supermarket/330x400_layer\",\"tagId\":\"_2f981_6VWVO-e3dbf893\",\"format\":\"banner\",\"targeting\":{},\"fallback\":{},\"fallbackOnBlockOnly\":false,\"headerBidding\":[],\"size\":[[330,400]],\"sizeMapping\":[{\"viewport\":[0,0],\"sizes\":[]},{\"viewport\":[992,0],\"sizes\":[[330,400]]}],\"pageCategory\":[],\"isLazy\":true,\"isVideo\":false,\"isScalable\":true,\"autoRefresh\":false,\"alignment\":\"center\",\"implementationVariant\":null}</script>,\n",
       " <script type=\"application/json\">{\"unitPath\":\"/21612525419/Allegro.pl/cat_baby/330x400_layer\",\"tagId\":\"_2f981_6VWVO-608d7d24\",\"format\":\"banner\",\"targeting\":{},\"fallback\":{\"imageAlt\":\"Zabawki plastyczne\",\"imageUrl\":\"https://assets.allegrostatic.com/opbox/allegro.pl/header/Layer%20baby/baby_layer_small.png\",\"linkUrl\":\"/zabawki-plastyczne-11819?order=qd&buyNew=1&offerTypeBuyNow=1\"},\"fallbackOnBlockOnly\":false,\"headerBidding\":[],\"size\":[[330,400]],\"sizeMapping\":[{\"viewport\":[0,0],\"sizes\":[]},{\"viewport\":[992,0],\"sizes\":[[330,400]]}],\"pageCategory\":[],\"isLazy\":true,\"isVideo\":false,\"isScalable\":true,\"autoRefresh\":false,\"alignment\":\"center\",\"implementationVariant\":null}</script>,\n",
       " <script type=\"application/json\">{\"unitPath\":\"21612525419/Allegro.pl/cat_beauty/330x400_layer\",\"tagId\":\"_2f981_6VWVO-b007910\",\"format\":\"banner\",\"targeting\":{},\"fallback\":{\"imageAlt\":\"\",\"imageUrl\":\"https://assets.allegrostatic.com/display-pl/2019/fallback/beauty/MKT-4556_330x400%20%281%29.jpg\",\"linkUrl\":\"/kategoria/perfumy-i-wody-135?us_id=10367071&us_id=43689086&us_id=28945267&us_id=11055213&us_id=22739879&us_id=1775837&us_id=13495285&us_id=7122944&us_id=40335931&us_id=1680&us_id=21319223&us_id=28995700&us_id=15020003&order=qd&bmatch=baseline-n-dict-sort-sqm-bea-1-2-0418&ok=1 \"},\"fallbackOnBlockOnly\":false,\"headerBidding\":[],\"size\":[[330,400]],\"sizeMapping\":[{\"viewport\":[0,0],\"sizes\":[]},{\"viewport\":[992,0],\"sizes\":[[330,400]]}],\"pageCategory\":[],\"isLazy\":true,\"isVideo\":false,\"isScalable\":true,\"autoRefresh\":false,\"alignment\":\"center\",\"implementationVariant\":null}</script>,\n",
       " <script type=\"application/json\">{\"unitPath\":\"/21612525419/Allegro.pl/cat_health/330x400_layer\",\"tagId\":\"_2f981_6VWVO-a8218b86\",\"format\":\"banner\",\"targeting\":{},\"fallback\":{\"imageAlt\":\"\",\"imageUrl\":\"https://assets.allegrostatic.com/display-pl/ads/MKT-3318_330x400%20%281%29.jpg\",\"linkUrl\":\"/kategoria/dermokosmetyki-258353?order=m\"},\"fallbackOnBlockOnly\":false,\"headerBidding\":[],\"size\":[[330,400]],\"sizeMapping\":[{\"viewport\":[0,0],\"sizes\":[]},{\"viewport\":[992,0],\"sizes\":[[330,400]]}],\"pageCategory\":[],\"isLazy\":true,\"isVideo\":false,\"isScalable\":true,\"autoRefresh\":false,\"alignment\":\"center\",\"implementationVariant\":null}</script>,\n",
       " <script type=\"application/json\">{\"unitPath\":\"/21612525419/Allegro.pl/cat_culture/330x400_layer\",\"tagId\":\"_2f981_6VWVO-9a39de71\",\"format\":\"banner\",\"targeting\":{},\"fallback\":{\"imageAlt\":\"Gitary i akcesoria elektryczne\",\"imageUrl\":\"https://assets.allegrostatic.com/opbox/allegro.pl/header/Layer%20culture/WM-3208_330x400_gitarra.png\",\"linkUrl\":\"/gitary-i-akcesoria-elektryczne-122675\"},\"fallbackOnBlockOnly\":false,\"headerBidding\":[],\"size\":[[330,400]],\"sizeMapping\":[{\"viewport\":[0,0],\"sizes\":[]},{\"viewport\":[992,0],\"sizes\":[[330,400]]}],\"pageCategory\":[],\"isLazy\":true,\"isVideo\":false,\"isScalable\":true,\"autoRefresh\":false,\"alignment\":\"center\",\"implementationVariant\":null}</script>,\n",
       " <script type=\"application/json\">{\"unitPath\":\"/21612525419/Allegro.pl/cat_sports/330x400_layer\",\"tagId\":\"_2f981_6VWVO-d6c847c8\",\"format\":\"banner\",\"targeting\":{},\"fallback\":{\"imageAlt\":\"Rowery górskie\",\"imageUrl\":\"https://assets.allegrostatic.com/display-pl/2019/fallback/sport/330x400_rowery.jpg\",\"linkUrl\":\"/kategoria/rowery-mtb-gorskie-16483?bmatch=baseline-dict41-eyesa-bp-spo-1-3-0903&order=qd&stan=nowe&offerTypeBuyNow=1&price_from=2000\"},\"fallbackOnBlockOnly\":false,\"headerBidding\":[],\"size\":[[330,400]],\"sizeMapping\":[{\"viewport\":[0,0],\"sizes\":[]},{\"viewport\":[992,0],\"sizes\":[[330,400]]}],\"pageCategory\":[],\"isLazy\":true,\"isVideo\":false,\"isScalable\":true,\"autoRefresh\":false,\"alignment\":\"center\",\"implementationVariant\":null}</script>,\n",
       " <script type=\"application/json\">{\"unitPath\":\"/21612525419/Allegro.pl/cat_automotive/330x400_layer\",\"tagId\":\"_2f981_6VWVO-300bbcf9\",\"format\":\"banner\",\"targeting\":{},\"fallback\":{\"imageAlt\":\"Przygotuj samochód\",\"imageUrl\":\"https://a.allegroimg.com/original/123836/2f59d4c9423bbfbf0ad1266042fd\",\"linkUrl\":\"/zobacz/wyjazdy?bi_c=C-spring-moto-2020\"},\"fallbackOnBlockOnly\":false,\"headerBidding\":[],\"size\":[[330,400]],\"sizeMapping\":[{\"viewport\":[0,0],\"sizes\":[]},{\"viewport\":[992,0],\"sizes\":[[330,400]]}],\"pageCategory\":[],\"isLazy\":true,\"isVideo\":false,\"isScalable\":true,\"autoRefresh\":false,\"alignment\":\"center\",\"implementationVariant\":null}</script>,\n",
       " <script type=\"application/json\">{\"unitPath\":\"/21612525419/Allegro.pl/cat_classifieds/330x400_layer\",\"tagId\":\"_2f981_6VWVO-b97be0be\",\"format\":\"banner\",\"targeting\":{},\"fallback\":{\"imageAlt\":\"Ogłoszenia nieruchomości\",\"imageUrl\":\"https://a.allegroimg.com/original/12e7c7/a8302b1c4f7fb8626faf429fd16c\",\"linkUrl\":\"/offer/?lokalnie\"},\"fallbackOnBlockOnly\":true,\"headerBidding\":[],\"size\":[[330,400]],\"sizeMapping\":[{\"viewport\":[0,0],\"sizes\":[]},{\"viewport\":[992,0],\"sizes\":[[330,400]]}],\"pageCategory\":[],\"isLazy\":true,\"isVideo\":false,\"isScalable\":true,\"autoRefresh\":false,\"alignment\":\"center\",\"implementationVariant\":null}</script>,\n",
       " <script type=\"application/json\">{\"unitPath\":\"/21612525419/Allegro.pl/cat_art/330x400_layer\",\"tagId\":\"_2f981_6VWVO-6d17b1f\",\"format\":\"banner\",\"targeting\":{},\"fallback\":{\"imageAlt\":\"Fotele\",\"imageUrl\":\"https://assets.allegrostatic.com/opbox/allegro.pl/header/Layer%20collections/WM-3208_330x400_mebel.png\",\"linkUrl\":\"/meble-fotele-26231?order=td\"},\"fallbackOnBlockOnly\":false,\"headerBidding\":[],\"size\":[[330,400]],\"sizeMapping\":[{\"viewport\":[0,0],\"sizes\":[]},{\"viewport\":[992,0],\"sizes\":[[330,400]]}],\"pageCategory\":[],\"isLazy\":true,\"isVideo\":false,\"isScalable\":true,\"autoRefresh\":false,\"alignment\":\"center\",\"implementationVariant\":null}</script>,\n",
       " <script type=\"application/json\">{\"unitPath\":\"/21612525419/Allegro.pl/cat_services/330x400_layer\",\"tagId\":\"_2f981_6VWVO-3e19fd03\",\"format\":\"banner\",\"targeting\":{},\"fallback\":{\"imageAlt\":\"Pieczątki i akcesoria\",\"imageUrl\":\"https://assets.allegrostatic.com/opbox/allegro.pl/header/Layer%20company/WM-3208_330x400_pieczatki.png\",\"linkUrl\":\"/akcesoria-biurowe-pieczatki-i-akcesoria-64492?order=td&offerTypeBuyNow=1\"},\"fallbackOnBlockOnly\":false,\"headerBidding\":[],\"size\":[[330,400]],\"sizeMapping\":[{\"viewport\":[0,0],\"sizes\":[]},{\"viewport\":[992,0],\"sizes\":[[330,400]]}],\"pageCategory\":[],\"isLazy\":true,\"isVideo\":false,\"isScalable\":true,\"autoRefresh\":false,\"alignment\":\"center\",\"implementationVariant\":null}</script>,\n",
       " <script type=\"application/json\">{\"unitPath\":\"/21612525419/Allegro.pl/ebilet/330x400_layer\",\"tagId\":\"_2f981_6VWVO-20240a41\",\"format\":\"banner\",\"targeting\":{},\"fallback\":{\"imageAlt\":\"ebilet\",\"imageUrl\":\"https://assets.allegrostatic.com/display-pl/2019/fallback/ebilet/Zimowa%20oferta_300x400.jpg\",\"linkUrl\":\"/zobacz/ebilet\"},\"fallbackOnBlockOnly\":false,\"headerBidding\":[],\"size\":[[330,400]],\"sizeMapping\":[{\"viewport\":[0,0],\"sizes\":[]},{\"viewport\":[992,0],\"sizes\":[[330,400]]}],\"pageCategory\":[],\"isLazy\":true,\"isVideo\":false,\"isScalable\":true,\"autoRefresh\":false,\"alignment\":\"center\",\"implementationVariant\":null}</script>,\n",
       " <script nonce=\"n0t56jkYejk+NHPMqa3iIQ==\">opbox.performance.markFirstContentfulPaint()</script>,\n",
       " <script nonce=\"n0t56jkYejk+NHPMqa3iIQ==\">(function(d,a,e,f,j,b,h,l){if(!a)return;function g(c){if(d[e]){m();return;}var k=c.target;if(k.tagName.toUpperCase()!=='IMG')return;var i=k.parentNode;if(i[b].indexOf(j)>=0){i[b]=i[b].replace(j,'');(function anonymous(a,b){return!a&&!b&&(function anonymous(){!window.opbox.performance.markVisuallyComplete()})()})(0,!1);d[e]=l;m();}}function m(){a.removeEventListener(h,g,l);delete d[f];}a.addEventListener(h,g,l);d[f]=m;})(window,document&&document.body,'__pg__','__pg_U__','_b8e15_2nzHr','className','load',!0);</script>,\n",
       " <script type=\"application/json\">{\"unitPath\":\"/21612525419/Allegro.pl/showitem/show-offer-props\",\"tagId\":\"_2f981_6VWVO-fc266292\",\"format\":\"banner\",\"targeting\":{\"offerTitle\":\"BMW%20X3%20F25%202016%20diesel%20xline%20190%20ps%20salon%20PL\",\"offerPrice\":\"99000.00\",\"offerId\":\"8960550484\",\"offerImage\":\"https%3A%2F%2Fa.allegroimg.com%2Foriginal%2F03c526%2Fcbcd6a564d1a8903d95ca531871c%2FBMW-X3-F25-2016-diesel-xline-190-ps-salon-PL\"},\"fallback\":{},\"fallbackOnBlockOnly\":false,\"headerBidding\":[],\"size\":[[256,48]],\"sizeMapping\":[],\"pageCategory\":[\"3\",\"149\",\"4029\",\"4032\",\"12440\",\"147328\"],\"isLazy\":false,\"isVideo\":false,\"isScalable\":true,\"autoRefresh\":false,\"alignment\":\"left\",\"implementationVariant\":null}</script>,\n",
       " <script nonce=\"n0t56jkYejk+NHPMqa3iIQ==\">window.opbox.performance.markFirstMeaningfulPaint();</script>,\n",
       " <script type=\"application/json\">{\"unitPath\":\"/21612525419/Allegro.pl/showitem/bottom_doublebillboard\",\"tagId\":\"_2f981_6VWVO-f555bed8\",\"format\":\"banner\",\"targeting\":{},\"fallback\":{},\"fallbackOnBlockOnly\":false,\"headerBidding\":[{\"bidder\":{\"name\":\"adform\"},\"params\":[{\"key\":\"adxDomain\",\"value\":\"adx.adform.net\"},{\"key\":\"mid\",\"value\":\"593975\"},{\"key\":\"priceType\",\"value\":\"net\"}],\"size\":[970,250]},{\"bidder\":{\"name\":\"adform\"},\"params\":[{\"key\":\"adxDomain\",\"value\":\"adx.adform.net\"},{\"key\":\"mid\",\"value\":\"593210\"},{\"key\":\"priceType\",\"value\":\"net\"}],\"size\":[750,200]},{\"bidder\":{\"name\":\"adform\"},\"params\":[{\"key\":\"adxDomain\",\"value\":\"adx.adform.net\"},{\"key\":\"mid\",\"value\":\"593211\"},{\"key\":\"priceType\",\"value\":\"net\"}],\"size\":[728,90]},{\"bidder\":{\"name\":\"adform\"},\"params\":[{\"key\":\"adxDomain\",\"value\":\"adx.adform.net\"},{\"key\":\"mid\",\"value\":\"593213\"},{\"key\":\"priceType\",\"value\":\"net\"}],\"size\":[336,280]},{\"bidder\":{\"name\":\"adform\"},\"params\":[{\"key\":\"adxDomain\",\"value\":\"adx.adform.net\"},{\"key\":\"mid\",\"value\":\"593209\"},{\"key\":\"priceType\",\"value\":\"net\"}],\"size\":[300,250]},{\"bidder\":{\"name\":\"smartadserver\"},\"params\":[{\"key\":\"domain\",\"value\":\"https://prg.smartadserver.com\"},{\"key\":\"siteId\",\"value\":\"73746\"},{\"key\":\"pageId\",\"value\":\"980569\"},{\"key\":\"formatId\",\"value\":\"65951\"}],\"size\":[970,250]},{\"bidder\":{\"name\":\"smartadserver\"},\"params\":[{\"key\":\"domain\",\"value\":\"https://prg.smartadserver.com\"},{\"key\":\"siteId\",\"value\":\"73746\"},{\"key\":\"pageId\",\"value\":\"980569\"},{\"key\":\"formatId\",\"value\":\"68743\"}],\"size\":[320,100]}],\"size\":[[300,250],[320,50],[320,100],[750,200],[970,90],[728,90],[970,250]],\"sizeMapping\":[{\"viewport\":[300,0],\"sizes\":[[300,250],[320,100],[320,50]]},{\"viewport\":[544,0],\"sizes\":[[300,250],[320,100]]},{\"viewport\":[1248,0],\"sizes\":[[750,200],[728,90],[970,90],[970,250]]}],\"pageCategory\":[\"3\",\"149\",\"4029\",\"4032\",\"12440\",\"147328\"],\"isLazy\":true,\"isVideo\":false,\"isScalable\":true,\"autoRefresh\":false,\"alignment\":\"center\",\"implementationVariant\":null}</script>,\n",
       " <script type=\"application/json\">{\"unitPath\":\"/21612525419/Allegro.pl/showitem/1920x640_parallax\",\"tagId\":\"_2f981_6VWVO-980f39e3\",\"format\":\"parallax\",\"targeting\":{},\"fallback\":{},\"fallbackOnBlockOnly\":false,\"headerBidding\":[],\"size\":[[1920,640]],\"sizeMapping\":[{\"viewport\":[0,0],\"sizes\":[]},{\"viewport\":[769,0],\"sizes\":[[1920,640]]}],\"pageCategory\":[\"3\",\"149\",\"4029\",\"4032\",\"12440\",\"147328\"],\"isLazy\":true,\"isVideo\":false,\"isScalable\":false,\"autoRefresh\":false,\"alignment\":\"center\",\"implementationVariant\":null}</script>,\n",
       " <script data-serialize-box-id=\"9xQB2iYQTKGcjrnbLd_GVA==u240-KsaTpqq5k8gy9bYHw==tIOj6Ir_R-arVQDKwjYKMg==\" nonce=\"n0t56jkYejk+NHPMqa3iIQ==\" type=\"application/json\">{\"parameters\":{\"isAuthenticated\":false,\"messageCenterBasePath\":\"\\u002Fmoje-allegro\\u002Fmoje-konto\\u002Fcentrum-wiadomosci\\u002Fwiadomosci\"},\"context\":{\"prototype\":{\"name\":\"allegro.messageCenter.header\",\"version\":{\"major\":1,\"minor\":0}},\"variant\":null,\"slug\":\"allegro-messagecenter-header\",\"name\":\"allegro.messageCenter.header\",\"boxId\":\"9xQB2iYQTKGcjrnbLd_GVA==u240-KsaTpqq5k8gy9bYHw==tIOj6Ir_R-arVQDKwjYKMg==\",\"nonce\":\"n0t56jkYejk+NHPMqa3iIQ==\",\"language\":\"pl-PL\",\"isDevMode\":false}}</script>,\n",
       " <script async=\"async\" nonce=\"n0t56jkYejk+NHPMqa3iIQ==\" src=\"https://www.googletagservices.com/tag/js/gpt.js\"></script>,\n",
       " <script data-serialize-box-id=\"9xQB2iYQTKGcjrnbLd_GVA==u240-KsaTpqq5k8gy9bYHw==tCVVxmMPRpeiYC5WLtoYbg==\" nonce=\"n0t56jkYejk+NHPMqa3iIQ==\" type=\"application/json\">{\"isMultisearch\":false,\"isModalOpen\":false,\"searchPhrases\":[],\"showOnboardingAfterModalClose\":true,\"forceOnboardingShow\":false,\"preferenceName\":\"multisearchDisplaySearchOnboarding\"}</script>,\n",
       " <script data-serialize-box-name=\"Links\" nonce=\"n0t56jkYejk+NHPMqa3iIQ==\" type=\"application/json\">{\"categoryListingLink\":{\"name\":\"F25 (2010-)\",\"url\":\"https:\\u002F\\u002Fallegro.pl\\u002Fuzytkownik\\u002Fuptobuy_pl\\u002F147328\"},\"sellerLogin\":\"uptobuy_pl\",\"sellerListingUrl\":\"https:\\u002F\\u002Fallegro.pl\\u002Fuzytkownik\\u002Fuptobuy_pl\",\"askSellerUrl\":\"#zadaj-pytanie\"}</script>,\n",
       " <script data-serialize-box-name=\"Parameters\" nonce=\"n0t56jkYejk+NHPMqa3iIQ==\" type=\"application/json\">{\"layout\":\"TWO_COLUMNS\",\"groups\":[{\"label\":null,\"icon\":null,\"description\":null,\"singleValueParams\":[{\"id\":\"11323\",\"name\":\"Stan\",\"value\":{\"id\":\"11323_2\",\"name\":\"Używany\",\"url\":null}},{\"id\":null,\"name\":\"Faktura\",\"value\":{\"id\":null,\"name\":\"Wystawiam fakturę VAT\",\"url\":null}},{\"id\":\"1\",\"name\":\"Rok produkcji\",\"value\":{\"id\":null,\"name\":\"2016\",\"url\":null}},{\"id\":\"4\",\"name\":\"Przebieg\",\"value\":{\"id\":null,\"name\":\"123000 km\",\"url\":null}},{\"id\":\"5\",\"name\":\"Pojemność silnika\",\"value\":{\"id\":null,\"name\":\"2000 cm³\",\"url\":null}},{\"id\":\"14\",\"name\":\"Moc\",\"value\":{\"id\":null,\"name\":\"190 KM\",\"url\":null}},{\"id\":\"16\",\"name\":\"Rodzaj paliwa\",\"value\":{\"id\":\"16_2\",\"name\":\"Diesel\",\"url\":\"https:\\u002F\\u002Fallegro.pl\\u002Fkategoria\\u002Fx3-f25-2010-147328?rodzaj-paliwa=Diesel\"}},{\"id\":\"13\",\"name\":\"Nadwozie\",\"value\":{\"id\":\"13_10\",\"name\":\"SUV\",\"url\":\"https:\\u002F\\u002Fallegro.pl\\u002Fkategoria\\u002Fx3-f25-2010-147328?nadwozie=SUV\"}},{\"id\":\"128789\",\"name\":\"Liczba miejsc\",\"value\":{\"id\":null,\"name\":\"5\",\"url\":null}},{\"id\":\"128791\",\"name\":\"Napęd\",\"value\":{\"id\":\"128791_246722\",\"name\":\"4x4\",\"url\":\"https:\\u002F\\u002Fallegro.pl\\u002Fkategoria\\u002Fx3-f25-2010-147328?naped=4x4\"}},{\"id\":\"3\",\"name\":\"Kolor\",\"value\":{\"id\":\"3_4\",\"name\":\"Czarny\",\"url\":null}},{\"id\":\"128792\",\"name\":\"Lakier\",\"value\":{\"id\":\"128792_2\",\"name\":\"Metalik\",\"url\":null}},{\"id\":\"128788\",\"name\":\"Kraj pochodzenia\",\"value\":{\"id\":\"128788_24\",\"name\":\"Polska\",\"url\":null}},{\"id\":\"211062\",\"name\":\"Pochodzenie\",\"value\":{\"id\":\"211062_246554\",\"name\":\"krajowe\",\"url\":null}},{\"id\":\"199\",\"name\":\"Skrzynia biegów\",\"value\":{\"id\":\"199_1\",\"name\":\"Automatyczna\",\"url\":\"https:\\u002F\\u002Fallegro.pl\\u002Fkategoria\\u002Fx3-f25-2010-147328?skrzynia-biegow=Automatyczna\"}},{\"id\":\"211066\",\"name\":\"Klimatyzacja\",\"value\":{\"id\":\"211066_246570\",\"name\":\"automatyczna dwustrefowa\",\"url\":null}},{\"id\":\"215882\",\"name\":\"Oferta dotyczy\",\"value\":{\"id\":\"215882_272070\",\"name\":\"sprzedaż\",\"url\":null}}],\"multiValueParams\":[{\"id\":null,\"name\":\"Wyposażenie - bezpieczeństwo\",\"value\":{\"id\":null,\"url\":null,\"name\":\"ABS, Alarm, ASR (kontrola trakcji), Asystent parkowania, Czujnik deszczu, Immobilizer, Isofix, Kamera cofania, Kurtyny powietrzne, Poduszka powietrzna kierowcy, Światła xenonowe, Poduszki boczne tylne, ESP (stabilizacja toru jazdy), Czujniki parkowania tylne, Czujniki parkowania przednie, Czujnik zmierzchu, Poduszka powietrzna pasażera, Poduszki boczne przednie\"}},{\"id\":null,\"name\":\"Wyposażenie - komfort\",\"value\":{\"id\":null,\"url\":null,\"name\":\"Elektryczne szyby tylne, Elektryczne szyby przednie, Podgrzewane lusterka boczne, Podgrzewane przednie siedzenia, Elektrycznie ustawiane lusterka, Elektrycznie ustawiane fotele, Tapicerka skórzana, Tapicerka jasna, Wielofunkcyjna kierownica, Wspomaganie kierownicy\"}},{\"id\":null,\"name\":\"Wyposażenie - multimedia\",\"value\":{\"id\":null,\"url\":null,\"name\":\"CD, Bluetooth, Gniazdo AUX, Gniazdo USB, MP3, Radio fabryczne, Odtwarzacz DVD\"}},{\"id\":null,\"name\":\"Wyposażenie - pozostałe\",\"value\":{\"id\":null,\"url\":null,\"name\":\"Ogranicznik prędkości, Otwieranie pilotem, Relingi dachowe, Tempomat aktywny, Komputer pokładowy, Elektrochromatyczne lusterko wsteczne, Elektrochromatyczne lusterka boczne, Centralny zamek, Bezkluczykowy dostęp, Alufelgi, Tempomat, System Start-Stop\"}},{\"id\":null,\"name\":\"Informacje dodatkowe\",\"value\":{\"id\":null,\"url\":null,\"name\":\"Bezwypadkowy, Serwisowany w ASO, Zarejestrowany w Polsce\"}}]}]}</script>,\n",
       " <script data-serialize-box-id=\"9xQB2iYQTKGcjrnbLd_GVA==lkOXgtshRj6HREiQ9t3Mxg==sIsZk7HaQf2zdInR8OtSug==\" nonce=\"n0t56jkYejk+NHPMqa3iIQ==\" type=\"application/json\">{\"shouldRenderPlaceholder\":true,\"grid\":[\"12\",\"6Sm\",\"4Md\",\"3Lg\",\"3Xl\"],\"offerDetailsPriorities\":{\"firstRow\":[\"priceWithDelivery\",\"installments\",\"advertisement\"],\"secondRow\":[\"coins\",\"popularity\",\"charity\"]},\"layout\":\"PICTURE_TOP\",\"parameters\":{\"placeholdersCount\":7,\"dataSourceUrl\":\"\\u002Fape\\u002Fv3\\u002Fshowitem:active?include=publication,id,view,seller.id,seller.brand,seller.logotype,seller.representation,freebox,shipping.priceWithDeliveryLabel,shipping.delivery.cheapestMethod,sellingMode,name,popularity,installments,images,coins,product.badge,charity&limit=40&boostPhrase=BMW%20X3%20F25%202016%20diesel%20xline%20190%20ps%20salon%20PL&filter.attr.virtual-size=&categoryId=147328&marker=LAZY_CAROUSEL\",\"picturePosition\":\"top\",\"widthM\":\"4\",\"openInNewWindow\":false,\"widthX\":\"3\",\"width\":\"12\",\"addToCartButtonEnabled\":false,\"addToCartButtonStyle\":\"primary\",\"brandingInfoEnabled\":false,\"imagesToPreload\":0,\"offerDetailsPriorities\":[{\"name\":[\"priceWithDelivery\"],\"slot\":[\"row1\"]},{\"name\":[\"installments\"],\"slot\":[\"row1\"]},{\"name\":[\"advertisement\"],\"slot\":[\"row1\"]},{\"name\":[\"coins\"],\"slot\":[\"row2\"]},{\"name\":[\"popularity\"],\"slot\":[\"row2\"]},{\"name\":[\"charity\"],\"slot\":[\"row2\"]},{\"name\":[\"stockStatus\"],\"slot\":[\"hidden\"]},{\"name\":[\"allegroLocallyLocation\"],\"slot\":[\"hidden\"]}],\"widthL\":\"3\",\"widthS\":\"6\",\"parentContainerBoxName\":\"lazy_standalone_carousel_ads\"},\"parentContainerBoxName\":\"lazy_standalone_carousel_ads\",\"variant\":null}</script>,\n",
       " <script data-serialize-box-id=\"9xQB2iYQTKGcjrnbLd_GVA==mMJwKbovSGmOTSYrBQ-h8Q==l0kvLKPER4GP0bkZ7ilnEg==\" nonce=\"n0t56jkYejk+NHPMqa3iIQ==\" type=\"application/json\">{\"shouldRenderPlaceholder\":true,\"grid\":[\"12\",\"6Sm\",\"4Md\",\"3Lg\",\"3Xl\"],\"offerDetailsPriorities\":{\"firstRow\":[\"coins\"],\"secondRow\":[\"priceWithDelivery\",\"installments\"]},\"layout\":\"PICTURE_TOP\",\"parameters\":{\"placeholdersCount\":7,\"picturePosition\":\"top\",\"widthM\":\"4\",\"openInNewWindow\":false,\"dataSourceUrl\":\"\\u002Frecently-visited\\u002Foffers-list-3.0?limit=15&include=publication,id,view,seller.id,seller.brand,seller.logotype,seller.representation,freebox,shipping.priceWithDeliveryLabel,shipping.delivery.cheapestMethod,sellingMode,name,popularity,installments,images,coins,product.badge,charity,stock,campaigns.ribbon\",\"widthX\":\"3\",\"width\":\"12\",\"addToCartButtonEnabled\":false,\"addToCartButtonStyle\":\"primary\",\"brandingInfoEnabled\":false,\"imagesToPreload\":0,\"widthL\":\"3\",\"parentContainerBoxName\":\"Container carousel_last_viewed\",\"widthS\":\"6\",\"offerDetailsPriorities\":[{\"name\":[\"coins\"],\"slot\":[\"row1\"]},{\"name\":[\"priceWithDelivery\"],\"slot\":[\"row2\"]},{\"name\":[\"installments\"],\"slot\":[\"row2\"]},{\"name\":[\"popularity\"],\"slot\":[\"hidden\"]},{\"name\":[\"advertisement\"],\"slot\":[\"hidden\"]},{\"name\":[\"charity\"],\"slot\":[\"hidden\"]},{\"name\":[\"stockStatus\"],\"slot\":[\"hidden\"]},{\"name\":[\"allegroLocallyLocation\"],\"slot\":[\"hidden\"]}]},\"parentContainerBoxName\":\"Container carousel_last_viewed\",\"variant\":null}</script>,\n",
       " <script data-serialize-box-id=\"9xQB2iYQTKGcjrnbLd_GVA==o1JaqeK1QUmI15hibA-6Zw==D202Ro9xTmyLjQUM1sGKKw==\" nonce=\"n0t56jkYejk+NHPMqa3iIQ==\" type=\"application/json\">{\"showOnlyOnceADay\":false,\"boxName\":\"allegro.modal\",\"triggerLinkUrl\":\"#zadaj-pytanie\",\"showInitially\":false,\"visibilityPreference\":false}</script>,\n",
       " <script data-serialize-box-id=\"9xQB2iYQTKGcjrnbLd_GVA==o1JaqeK1QUmI15hibA-6Zw==ZlKYB-IpS02sFJ1oB7CNJw==\" nonce=\"n0t56jkYejk+NHPMqa3iIQ==\" type=\"application/json\">{\"isAuthenticated\":false,\"isAdvertisement\":true,\"captchaClientId\":\"platform-message-transmitter\",\"recipientAccountId\":\"43229940\",\"offerId\":\"8960550484\",\"showCaptcha\":true}</script>,\n",
       " <script data-serialize-box-name=\"allegro.rodoConsentModal\" nonce=\"n0t56jkYejk+NHPMqa3iIQ==\" type=\"application/json\">{\"initFromOneCookie\":false,\"overrideVariant\":false,\"experimentRangeSize\":4,\"internal\":true}</script>,\n",
       " <script data-serialize-box-id=\"9xQB2iYQTKGcjrnbLd_GVA==TbwxL-HyQ3uTp8YQ1eK3Cg==NoY_9xjnQ8KflYwYa-0X-g==\" nonce=\"n0t56jkYejk+NHPMqa3iIQ==\" type=\"application/json\">{\"boxId\":\"9xQB2iYQTKGcjrnbLd_GVA==TbwxL-HyQ3uTp8YQ1eK3Cg==NoY_9xjnQ8KflYwYa-0X-g==\"}</script>,\n",
       " <script data-serialize-box-id=\"9xQB2iYQTKGcjrnbLd_GVA==TbwxL-HyQ3uTp8YQ1eK3Cg==BJ3D0xZiRiugfWvdrRptVw==\" nonce=\"n0t56jkYejk+NHPMqa3iIQ==\" type=\"application/json\">{\"boxId\":\"9xQB2iYQTKGcjrnbLd_GVA==TbwxL-HyQ3uTp8YQ1eK3Cg==BJ3D0xZiRiugfWvdrRptVw==\"}</script>,\n",
       " <script data-serialize-box-id=\"9xQB2iYQTKGcjrnbLd_GVA==TbwxL-HyQ3uTp8YQ1eK3Cg==PqBOzL0cRciUcR24NFOUaQ==\" nonce=\"n0t56jkYejk+NHPMqa3iIQ==\" type=\"application/json\">{\"boxId\":\"9xQB2iYQTKGcjrnbLd_GVA==TbwxL-HyQ3uTp8YQ1eK3Cg==PqBOzL0cRciUcR24NFOUaQ==\"}</script>,\n",
       " <script data-serialize-box-name=\"allegro.cart.external.promotion.verifier\" nonce=\"n0t56jkYejk+NHPMqa3iIQ==\" type=\"application/json\">{\"offerId\":\"8960550484\"}</script>,\n",
       " <script async=\"async\" crossorigin=\"\" nomodule=\"true\" nonce=\"n0t56jkYejk+NHPMqa3iIQ==\" src=\"https://assets.allegrostatic.com/opbox-web/opbox-fd69de7e.js\"></script>,\n",
       " <script async=\"async\" crossorigin=\"\" nonce=\"n0t56jkYejk+NHPMqa3iIQ==\" src=\"https://assets.allegrostatic.com/opbox-web/opbox-83ebc949.es6.js\" type=\"module\"></script>,\n",
       " <script data-config=\"services\" nonce=\"n0t56jkYejk+NHPMqa3iIQ==\" type=\"application/json\">[[\"opbox-cart-service\",{\"assetUrl\":\"https://assets.allegrostatic.com/opbox-cart-service/index_bc40c7be.js\",\"components\":[{\"prototypeName\":\"allegro.bundle.tiles\"},{\"prototypeName\":\"allegro.cart.external.promotion.verifier\"},{\"prototypeName\":\"allegro.metrumHeader.cart\"},{\"prototypeName\":\"allegro.offers.list\"},{\"prototypeName\":\"allegro.precart.layer.modal\"},{\"prototypeName\":\"allegro.precart.layer.content\"},{\"prototypeName\":\"allegro.showoffer.summary\"},{\"prototypeName\":\"allegro.offers.table\"},{\"prototypeName\":\"allegro.offers.list.lazy\"}]}],[\"opbox-modal-service\",{\"assetUrl\":\"https://assets.allegrostatic.com/opbox-modal-service/index_f5f98fe3.js\",\"components\":[{\"prototypeName\":\"allegro.messageCenterInitialMsg\"},{\"prototypeName\":\"allegro.modal\"},{\"prototypeName\":\"allegro.seller.shop.edit.banner\"},{\"prototypeName\":\"allegro.seller.shop.edit.carousel\"},{\"prototypeName\":\"allegro.seller.shop.multipack.proposal\"},{\"prototypeName\":\"allegro.toolbar\"},{\"prototypeName\":\"allegro.languageSwitch\"}]}],[\"opbox-seller-shop-service\",{\"assetUrl\":\"https://assets.allegrostatic.com/opbox-seller-shop-service/index_6e81dcbe.js\",\"components\":[{\"prototypeName\":\"allegro.seller.shop.edit.banner\"},{\"prototypeName\":\"allegro.seller.shop.edit.carousel\"},{\"prototypeName\":\"allegro.seller.shop.multipack.proposal\"},{\"prototypeName\":\"allegro.seller.shop.self.rerender\"}]}]]</script>,\n",
       " <script async=\"async\" crossorigin=\"\" nonce=\"n0t56jkYejk+NHPMqa3iIQ==\" src=\"https://assets.allegrostatic.com/opbox-web/vendors-2ba9263a.js\"></script>,\n",
       " <script data-serialize-box-name=\"summary\" nonce=\"n0t56jkYejk+NHPMqa3iIQ==\" type=\"application/json\">{\"opboxContext\":{\"nonce\":\"n0t56jkYejk+NHPMqa3iIQ==\",\"variant\":\"...\"},\"offerTitle\":{\"title\":\"BMW X3 F25 2016 diesel xline 190 ps salon PL\",\"isPharmacy\":false,\"sellerName\":\"uptobuy_pl\",\"superSellerActive\":null,\"sellerRating\":null,\"representationTitle\":null,\"badge\":null},\"price\":{\"priceInteger\":\"99 000\",\"priceFraction\":\"00\",\"originalPrice\":null,\"badge\":{\"background\":null,\"text\":null,\"displayOriginalPrice\":false,\"additionalText\":null,\"hash\":null},\"installments\":{\"quantity\":null,\"price\":null,\"text\":null,\"free\":null,\"linkName\":null,\"representativeExampleText\":null,\"badge\":null},\"freebox\":{}},\"mobileIncentive\":null,\"coins\":{\"iconVariant\":null,\"coinsLabels\":null},\"deliverySummary\":{\"entries\":[{\"name\":\"Odbiór osobisty\",\"content\":\"Wrocław, woj. dolnośląskie\",\"icon\":null}]},\"campaigns\":{\"entries\":[]},\"contactButtons\":{\"visible\":true,\"phones\":[{\"number\":\"+48 784 996 532\",\"obscured\":\"+48 784 *** ***\"}],\"endingTime\":\"2020-05-16T08:45:40Z\"},\"notifyAndWatch\":{\"offerId\":\"8960550484\",\"isUserLoggedIn\":false,\"quantity\":null,\"sellingMode\":{\"buyNow\":null,\"restricted\":null,\"advertisement\":{\"pricePrefixLabel\":null,\"price\":{\"amount\":\"99000.00\",\"currency\":\"PLN\"}},\"oneClickBuy\":null,\"cart\":null,\"auction\":null},\"smsNotificationUrl\":null,\"labelDisplayControl\":false},\"primarySlot\":{\"content\":\"\\u003Cdiv data-box-name=\\\"allegro.showoffer.gallery\\\" data-box-id=\\\"9xQB2iYQTKGcjrnbLd_GVA==gS_dkQFZTXmAdVgz1vLfLA==\\\" data-prototype-id=\\\"allegro.gallery\\\" data-prototype-version=\\\"1.0\\\" data-analytics-enabled data-analytics-category=\\\"allegro.gallery\\\" data-analytics-groups=\\\"%5B%22allegro.oferta.base%22%5D\\\"\\u003E\\u003Ca name=\\\"allegro-showoffer-gallery\\\"\\u003E\\u003C\\u002Fa\\u003E\\u003Cdiv data-role=\\\"app-container\\\"\\u003E\\u003Cdiv class=\\\"_b8e15_3TLYF _b8e15_tV--W _b8e15_1gUDt _b8e15_2SwMw\\\" data-reactroot=\\\"\\\"\\u003E\\u003Cdiv class=\\\"_b8e15_1Oef4\\\" role=\\\"presentation\\\"\\u003E\\u003Cdiv class=\\\"_b8e15_31OYV\\\"\\u003E\\u003Cscript nonce=\\\"n0t56jkYejk+NHPMqa3iIQ==\\\"\\u003E(function(d,a,e,f,j,b,h,l){if(!a)return;function g(c){if(d[e]){m();return;}var k=c.target;if(k.tagName.toUpperCase()!=='IMG')return;var i=k.parentNode;if(i[b].indexOf(j)\\u003E=0){i[b]=i[b].replace(j,'');(function anonymous(a,b){return!a&&!b&&(function anonymous(){!window.opbox.performance.markVisuallyComplete()})()})(0,!1);d[e]=l;m();}}function m(){a.removeEventListener(h,g,l);delete d[f];}a.addEventListener(h,g,l);d[f]=m;})(window,document&&document.body,'__pg__','__pg_U__','_b8e15_2nzHr','className','load',!0);\\u003C\\u002Fscript\\u003E\\u003Cdiv class=\\\"_b8e15_2OOnB\\\"\\u003E\\u003Cdiv class=\\\"_b8e15_3_R89\\\" style=\\\"margin-left:-0%\\\"\\u003E\\u003Cdiv class=\\\"_b8e15_3MZ5J\\\"\\u003E\\u003Cdiv class=\\\"_b8e15_gVe8x _b8e15_Hb8E4 _b8e15_2nzHr\\\"\\u003E\\u003Cimg class=\\\"_b8e15_1nMOJ\\\" src=\\\"https:\\u002F\\u002Fa.allegroimg.com\\u002Fs512\\u002F03c526\\u002Fcbcd6a564d1a8903d95ca531871c\\u002FBMW-X3-F25-2016-diesel-xline-190-ps-salon-PL\\\" alt=\\\"BMW X3 F25 2016 diesel xline 190 ps salon PL\\\" role=\\\"presentation\\\"\\u002F\\u003E\\u003C\\u002Fdiv\\u003E\\u003Cdiv class=\\\"_b8e15_gVe8x _b8e15_2nzHr\\\"\\u003E\\u003Cimg class=\\\"_b8e15_1nMOJ\\\" alt=\\\"BMW X3 F25 2016 diesel xline 190 ps salon PL Rok produkcji 2016\\\" role=\\\"presentation\\\"\\u002F\\u003E\\u003C\\u002Fdiv\\u003E\\u003Cdiv class=\\\"_b8e15_gVe8x _b8e15_2nzHr\\\"\\u003E\\u003Cimg class=\\\"_b8e15_1nMOJ\\\" alt=\\\"BMW X3 F25 2016 diesel xline 190 ps salon PL Przebieg 123000 km\\\" role=\\\"presentation\\\"\\u002F\\u003E\\u003C\\u002Fdiv\\u003E\\u003Cdiv class=\\\"_b8e15_gVe8x _b8e15_2nzHr\\\"\\u003E\\u003Cimg class=\\\"_b8e15_1nMOJ\\\" alt=\\\"BMW X3 F25 2016 diesel xline 190 ps salon PL Pojemność silnika 2000 cm³\\\" role=\\\"presentation\\\"\\u002F\\u003E\\u003C\\u002Fdiv\\u003E\\u003Cdiv class=\\\"_b8e15_gVe8x _b8e15_2nzHr\\\"\\u003E\\u003Cimg class=\\\"_b8e15_1nMOJ\\\" alt=\\\"BMW X3 F25 2016 diesel xline 190 ps salon PL Moc 190 KM\\\" role=\\\"presentation\\\"\\u002F\\u003E\\u003C\\u002Fdiv\\u003E\\u003Cdiv class=\\\"_b8e15_gVe8x _b8e15_2nzHr\\\"\\u003E\\u003Cimg class=\\\"_b8e15_1nMOJ\\\" alt=\\\"BMW X3 F25 2016 diesel xline 190 ps salon PL Rodzaj paliwa Diesel\\\" role=\\\"presentation\\\"\\u002F\\u003E\\u003C\\u002Fdiv\\u003E\\u003Cdiv class=\\\"_b8e15_gVe8x _b8e15_2nzHr\\\"\\u003E\\u003Cimg class=\\\"_b8e15_1nMOJ\\\" alt=\\\"BMW X3 F25 2016 diesel xline 190 ps salon PL Nadwozie SUV\\\" role=\\\"presentation\\\"\\u002F\\u003E\\u003C\\u002Fdiv\\u003E\\u003C\\u002Fdiv\\u003E\\u003C\\u002Fdiv\\u003E\\u003Cbutton aria-label=\\\"Pokaż poprzednie zdjęcie\\\" class=\\\"_b8e15_1EolW _b8e15_3OsoJ\\\"\\u003E\\u003C\\u002Fbutton\\u003E\\u003Cbutton aria-label=\\\"Pokaż następne zdjęcie\\\" class=\\\"_b8e15_24HLR _b8e15_3OsoJ _b8e15_3su8p\\\"\\u003E\\u003C\\u002Fbutton\\u003E\\u003C\\u002Fdiv\\u003E\\u003C\\u002Fdiv\\u003E\\u003Cdiv class=\\\"_b8e15_2X4g2\\\"\\u003E1\\u003C!-- --\\u003E z \\u003C!-- --\\u003E7\\u003C\\u002Fdiv\\u003E\\u003Cdiv class=\\\"_b8e15_3mjBl\\\"\\u003E\\u003Cdiv class=\\\"_b8e15_2OOnB\\\"\\u003E\\u003Cdiv class=\\\"_b8e15_32Go8\\\"\\u003E\\u003Cdiv class=\\\"_b8e15_1EWD4 _b8e15_1RC6n\\\"\\u003E\\u003Cdiv class=\\\"_b8e15_3MZ5J\\\"\\u003E\\u003Cdiv class=\\\"_b8e15_aMJ-v\\\" role=\\\"button\\\" tabindex=\\\"0\\\"\\u003E\\u003Cimg class=\\\"_b8e15_2LNko\\\" src=\\\"https:\\u002F\\u002Fa.allegroimg.com\\u002Fs128\\u002F03c526\\u002Fcbcd6a564d1a8903d95ca531871c\\u002FBMW-X3-F25-2016-diesel-xline-190-ps-salon-PL\\\" alt=\\\"BMW X3 F25 2016 diesel xline 190 ps salon PL\\\"\\u002F\\u003E\\u003Cdiv class=\\\"_b8e15_1mISW\\\"\\u003E\\u003C\\u002Fdiv\\u003E\\u003C\\u002Fdiv\\u003E\\u003Cdiv class=\\\"_b8e15_aMJ-v\\\" role=\\\"button\\\" tabindex=\\\"0\\\"\\u003E\\u003Cimg class=\\\"_b8e15_2LNko\\\" src=\\\"https:\\u002F\\u002Fa.allegroimg.com\\u002Fs128\\u002F03e6c6\\u002Fe4f6ad524e4193df9df1edf08bcf\\u002FBMW-X3-F25-2016-diesel-xline-190-ps-salon-PL-Rok-produkcji-2016\\\" alt=\\\"BMW X3 F25 2016 diesel xline 190 ps salon PL Rok produkcji 2016\\\"\\u002F\\u003E\\u003C\\u002Fdiv\\u003E\\u003Cdiv class=\\\"_b8e15_aMJ-v\\\" role=\\\"button\\\" tabindex=\\\"0\\\"\\u003E\\u003Cimg class=\\\"_b8e15_2LNko\\\" src=\\\"https:\\u002F\\u002Fa.allegroimg.com\\u002Fs128\\u002F03113b\\u002Fa96d9b5c434a9732e0d4745c63b9\\u002FBMW-X3-F25-2016-diesel-xline-190-ps-salon-PL-Przebieg-123000-km\\\" alt=\\\"BMW X3 F25 2016 diesel xline 190 ps salon PL Przebieg 123000 km\\\"\\u002F\\u003E\\u003C\\u002Fdiv\\u003E\\u003Cdiv class=\\\"_b8e15_aMJ-v\\\" role=\\\"button\\\" tabindex=\\\"0\\\"\\u003E\\u003Cimg class=\\\"_b8e15_2LNko\\\" src=\\\"https:\\u002F\\u002Fa.allegroimg.com\\u002Fs128\\u002F030743\\u002Fd30028e34b479694c79bb370c469\\u002FBMW-X3-F25-2016-diesel-xline-190-ps-salon-PL-Pojemnosc-silnika-2000-cm3\\\" alt=\\\"BMW X3 F25 2016 diesel xline 190 ps salon PL Pojemność silnika 2000 cm³\\\"\\u002F\\u003E\\u003C\\u002Fdiv\\u003E\\u003Cdiv class=\\\"_b8e15_aMJ-v\\\" role=\\\"button\\\" tabindex=\\\"0\\\"\\u003E\\u003Cimg class=\\\"_b8e15_2LNko\\\" src=\\\"https:\\u002F\\u002Fa.allegroimg.com\\u002Fs128\\u002F039a96\\u002F11c8d7d64c87aed3c9dc4af30caa\\u002FBMW-X3-F25-2016-diesel-xline-190-ps-salon-PL-Moc-190-KM\\\" alt=\\\"BMW X3 F25 2016 diesel xline 190 ps salon PL Moc 190 KM\\\"\\u002F\\u003E\\u003C\\u002Fdiv\\u003E\\u003Cdiv class=\\\"_b8e15_aMJ-v\\\" role=\\\"button\\\" tabindex=\\\"0\\\"\\u003E\\u003Cimg class=\\\"_b8e15_2LNko\\\" src=\\\"https:\\u002F\\u002Fa.allegroimg.com\\u002Fs128\\u002F0342e8\\u002Fc963f3b343d185efacc13fc2f347\\u002FBMW-X3-F25-2016-diesel-xline-190-ps-salon-PL-Rodzaj-paliwa-Diesel\\\" alt=\\\"BMW X3 F25 2016 diesel xline 190 ps salon PL Rodzaj paliwa Diesel\\\"\\u002F\\u003E\\u003C\\u002Fdiv\\u003E\\u003Cdiv class=\\\"_b8e15_aMJ-v\\\" role=\\\"button\\\" tabindex=\\\"0\\\"\\u003E\\u003Cimg class=\\\"_b8e15_2LNko\\\" src=\\\"https:\\u002F\\u002Fa.allegroimg.com\\u002Fs128\\u002F030561\\u002F7101177b438c9ac11ec2725e2267\\u002FBMW-X3-F25-2016-diesel-xline-190-ps-salon-PL-Nadwozie-SUV\\\" alt=\\\"BMW X3 F25 2016 diesel xline 190 ps salon PL Nadwozie SUV\\\"\\u002F\\u003E\\u003C\\u002Fdiv\\u003E\\u003C\\u002Fdiv\\u003E\\u003C\\u002Fdiv\\u003E\\u003C\\u002Fdiv\\u003E\\u003Cbutton aria-label=\\\"Pokaż poprzednie zdjęcie\\\" class=\\\"_b8e15_1EolW _b8e15_2cwnM\\\"\\u003E\\u003C\\u002Fbutton\\u003E\\u003Cbutton aria-label=\\\"Pokaż następne zdjęcie\\\" class=\\\"_b8e15_24HLR _b8e15_2cwnM\\\"\\u003E\\u003C\\u002Fbutton\\u003E\\u003C\\u002Fdiv\\u003E\\u003C\\u002Fdiv\\u003E\\u003C\\u002Fdiv\\u003E\\u003C\\u002Fdiv\\u003E\\u003C\\u002Fdiv\\u003E\\u003C\\u002Fdiv\\u003E\"},\"underPriceSlot\":{\"content\":\"\\u003Cdiv data-box-name=\\\"under-price-advert\\\" data-box-id=\\\"9xQB2iYQTKGcjrnbLd_GVA==I6Dfs9oTRJaaoZ5jNSIZFQ==\\\" data-prototype-id=\\\"allegro.advertisement.slot\\\" data-prototype-version=\\\"0.5\\\" data-analytics-enabled data-analytics-category=\\\"allegro.advertisement.slot\\\" data-analytics-groups=\\\"%5B%22allegro.oferta.base%22%5D\\\"\\u003E\\u003Ca name=\\\"under-price-advert\\\"\\u003E\\u003C\\u002Fa\\u003E\\u003Cdiv class=\\\"gtp-container--banner _2f981_2SC4- _2f981_2zbtn\\\"\\u003E\\u003Cdiv id=\\\"_2f981_6VWVO-fc266292\\\" class=\\\"_2f981_6VWVO _9f0v0 _1sql3\\\"\\u003E\\u003Cscript type=\\\"application\\u002Fjson\\\"\\u003E{\\\"unitPath\\\":\\\"\\u002F21612525419\\u002FAllegro.pl\\u002Fshowitem\\u002Fshow-offer-props\\\",\\\"tagId\\\":\\\"_2f981_6VWVO-fc266292\\\",\\\"format\\\":\\\"banner\\\",\\\"targeting\\\":{\\\"offerTitle\\\":\\\"BMW%20X3%20F25%202016%20diesel%20xline%20190%20ps%20salon%20PL\\\",\\\"offerPrice\\\":\\\"99000.00\\\",\\\"offerId\\\":\\\"8960550484\\\",\\\"offerImage\\\":\\\"https%3A%2F%2Fa.allegroimg.com%2Foriginal%2F03c526%2Fcbcd6a564d1a8903d95ca531871c%2FBMW-X3-F25-2016-diesel-xline-190-ps-salon-PL\\\"},\\\"fallback\\\":{},\\\"fallbackOnBlockOnly\\\":false,\\\"headerBidding\\\":[],\\\"size\\\":[[256,48]],\\\"sizeMapping\\\":[],\\\"pageCategory\\\":[\\\"3\\\",\\\"149\\\",\\\"4029\\\",\\\"4032\\\",\\\"12440\\\",\\\"147328\\\"],\\\"isLazy\\\":false,\\\"isVideo\\\":false,\\\"isScalable\\\":true,\\\"autoRefresh\\\":false,\\\"alignment\\\":\\\"left\\\",\\\"implementationVariant\\\":null}\\u003C\\u002Fscript\\u003E\\u003C\\u002Fdiv\\u003E\\u003C\\u002Fdiv\\u003E\\u003C\\u002Fdiv\\u003E\"},\"additionalServices\":{\"additionalServices\":[]},\"insurances\":{\"label\":null},\"sellerLogo\":{\"sellerRepresentation\":null,\"sellerLogotype\":null,\"sellerUrl\":\"https:\\u002F\\u002Fallegro.pl\\u002Fuzytkownik\\u002Fuptobuy_pl\",\"sellerName\":\"uptobuy_pl\"},\"variants\":{\"offerId\":\"8960550484\",\"attributeSet\":null,\"hasSizeVariant\":false,\"showSizeTableLink\":false,\"sizeRatingInformation\":null},\"biddingSection\":{\"visible\":false,\"endingDate\":\"2020-05-16T08:45:40Z\",\"formattedEndingDate\":\"(sobota, 16 maja 2020, 10:45:40)\",\"endingDateLabel\":\"36 dni do końca licytacji\",\"offerId\":\"8960550484\",\"nextPrice\":null,\"disabled\":false,\"isPreview\":false,\"thumbnail\":\"https:\\u002F\\u002Fa.allegroimg.com\\u002Fs128\\u002F03c526\\u002Fcbcd6a564d1a8903d95ca531871c\\u002FBMW-X3-F25-2016-diesel-xline-190-ps-salon-PL\",\"title\":\"BMW X3 F25 2016 diesel xline 190 ps salon PL\",\"cheapestDelivery\":null,\"charity\":{\"chargesLabel\":null,\"labels\":[]}},\"transactionSection\":{\"offerId\":null,\"buyNowUrl\":null,\"oneClickBuy\":null,\"availableQuantity\":null,\"precartData\":null,\"restricted\":null,\"buttonState\":null,\"buyNowPrice\":null,\"endingTime\":null,\"freebox\":null},\"leasing\":null,\"schema\":{\"url\":\"https:\\u002F\\u002Fallegro.pl\\u002Fogloszenie\\u002Fbmw-x3-f25-2016-diesel-xline-190-ps-salon-pl-8960550484\",\"name\":\"BMW X3 F25 2016 diesel xline 190 ps salon PL\",\"image\":\"https:\\u002F\\u002Fa.allegroimg.com\\u002Foriginal\\u002F03c526\\u002Fcbcd6a564d1a8903d95ca531871c\\u002FBMW-X3-F25-2016-diesel-xline-190-ps-salon-PL\",\"description\":\"Zobacz na allegro.pl ogłoszenie za 99 000,00 zł - BMW X3 F25 2016 diesel xline 190 ps salon PL (8960550484). Allegro.pl - Radość zakupów i bezpieczeństwo dzięki Programowi Ochrony Kupujących!\",\"sku\":\"8960550484\",\"price\":\"99000.00\",\"priceCurrency\":\"PLN\",\"itemCondition\":\"http:\\u002F\\u002Fschema.org\\u002FUsedCondition\",\"stock\":null,\"priceValidUntil\":\"2020-05-16T08:45:40Z\"},\"product\":{\"id\":null,\"name\":null,\"link\":null,\"rating\":null},\"deliveryDetails\":null,\"popularity\":{\"label\":null,\"badge\":null},\"productRating\":{\"average\":null,\"averagePercentage\":null,\"ratingValue\":null,\"ratingCount\":null,\"ratingCountLabel\":null},\"customerProtectionProgramInfo\":{\"show\":false},\"charity\":{\"chargesLabel\":null,\"labels\":[]},\"externalMessage\":{\"content\":null},\"toolbar\":{\"enabled\":false,\"showBottomToolbar\":null,\"opboxToolbarEnabled\":false,\"oneClickBuy\":null},\"metaData\":{\"dataLayer\":{\"idItem\":\"8960550484\",\"headNavigation\":\"Samochody|Osobowe|BMW|X3|F25 (2010-)\",\"categoryPath\":\"149|4029|4032|12440|147328\",\"idCategory\":\"147328\",\"nameCategory\":\"F25 (2010-)\",\"sellerName\":\"uptobuy_pl\",\"active\":\"yes\",\"sma\":true,\"price\":99000,\"pageType\":\"detail\",\"department\":\"Motoryzacja\",\"FreeboxOffer\":false,\"FreeboxDeal\":false,\"offerName\":\"BMW X3 F25 2016 diesel xline 190 ps salon PL\",\"sellerId\":\"43229940\",\"isAuction\":false,\"isBuyNow\":false,\"isClassified\":true,\"isCharity\":false,\"charityOrganization\":null,\"fundraisingCampaign\":null},\"alternate\":[{\"rel\":\"alternate\",\"href\":\"android-app:\\u002F\\u002Fpl.allegro\\u002Fhttp\\u002Fallegro.pl\\u002FShowItem2.php?item=8960550484\"}],\"canonicalUrl\":\"https:\\u002F\\u002Fallegro.pl\\u002Fogloszenie\\u002Fbmw-x3-f25-2016-diesel-xline-190-ps-salon-pl-8960550484\"},\"countdownMessage\":{\"timeToEndMs\":null,\"endMessage\":null},\"visuallySimilar\":{\"enabled\":false,\"displayPopover\":false},\"inspirationBadge\":{\"inspirationText\":null,\"inspirationBackgroundColor\":null},\"stickyMenu\":{\"enabled\":false,\"variant\":\"\",\"image\":{\"url\":\"https:\\u002F\\u002Fa.allegroimg.com\\u002Foriginal\\u002F03c526\\u002Fcbcd6a564d1a8903d95ca531871c\\u002FBMW-X3-F25-2016-diesel-xline-190-ps-salon-PL\",\"alt\":\"BMW X3 F25 2016 diesel xline 190 ps salon PL\"},\"name\":\"BMW X3 F25 2016 diesel xline 190 ps salon PL\",\"rating\":{\"average\":null,\"averagePercentage\":null,\"ratingValue\":null,\"ratingCount\":null,\"ratingCountLabel\":null},\"price\":{\"priceInteger\":\"99 000\",\"priceFraction\":\"00\",\"freebox\":{}},\"phones\":[{\"number\":\"+48 784 996 532\",\"obscured\":\"+48 784 *** ***\"}],\"isAdvertisement\":true}}</script>,\n",
       " <script nonce=\"n0t56jkYejk+NHPMqa3iIQ==\">(function () {\n",
       "     window.opboxComponents = window.opboxComponents || [];\n",
       "     window.opboxComponents.push({\n",
       "       boxName: 'allegro.showoffer.gallery',\n",
       "       props: {\"images\":[{\"original\":\"https:\\u002F\\u002Fa.allegroimg.com\\u002Foriginal\\u002F03c526\\u002Fcbcd6a564d1a8903d95ca531871c\\u002FBMW-X3-F25-2016-diesel-xline-190-ps-salon-PL\",\"thumbnail\":\"https:\\u002F\\u002Fa.allegroimg.com\\u002Fs128\\u002F03c526\\u002Fcbcd6a564d1a8903d95ca531871c\\u002FBMW-X3-F25-2016-diesel-xline-190-ps-salon-PL\",\"embeded\":\"https:\\u002F\\u002Fa.allegroimg.com\\u002Fs512\\u002F03c526\\u002Fcbcd6a564d1a8903d95ca531871c\\u002FBMW-X3-F25-2016-diesel-xline-190-ps-salon-PL\",\"alt\":\"BMW X3 F25 2016 diesel xline 190 ps salon PL\"},{\"original\":\"https:\\u002F\\u002Fa.allegroimg.com\\u002Foriginal\\u002F03e6c6\\u002Fe4f6ad524e4193df9df1edf08bcf\\u002FBMW-X3-F25-2016-diesel-xline-190-ps-salon-PL-Rok-produkcji-2016\",\"thumbnail\":\"https:\\u002F\\u002Fa.allegroimg.com\\u002Fs128\\u002F03e6c6\\u002Fe4f6ad524e4193df9df1edf08bcf\\u002FBMW-X3-F25-2016-diesel-xline-190-ps-salon-PL-Rok-produkcji-2016\",\"embeded\":\"https:\\u002F\\u002Fa.allegroimg.com\\u002Fs512\\u002F03e6c6\\u002Fe4f6ad524e4193df9df1edf08bcf\\u002FBMW-X3-F25-2016-diesel-xline-190-ps-salon-PL-Rok-produkcji-2016\",\"alt\":\"BMW X3 F25 2016 diesel xline 190 ps salon PL Rok produkcji 2016\"},{\"original\":\"https:\\u002F\\u002Fa.allegroimg.com\\u002Foriginal\\u002F03113b\\u002Fa96d9b5c434a9732e0d4745c63b9\\u002FBMW-X3-F25-2016-diesel-xline-190-ps-salon-PL-Przebieg-123000-km\",\"thumbnail\":\"https:\\u002F\\u002Fa.allegroimg.com\\u002Fs128\\u002F03113b\\u002Fa96d9b5c434a9732e0d4745c63b9\\u002FBMW-X3-F25-2016-diesel-xline-190-ps-salon-PL-Przebieg-123000-km\",\"embeded\":\"https:\\u002F\\u002Fa.allegroimg.com\\u002Fs512\\u002F03113b\\u002Fa96d9b5c434a9732e0d4745c63b9\\u002FBMW-X3-F25-2016-diesel-xline-190-ps-salon-PL-Przebieg-123000-km\",\"alt\":\"BMW X3 F25 2016 diesel xline 190 ps salon PL Przebieg 123000 km\"},{\"original\":\"https:\\u002F\\u002Fa.allegroimg.com\\u002Foriginal\\u002F030743\\u002Fd30028e34b479694c79bb370c469\\u002FBMW-X3-F25-2016-diesel-xline-190-ps-salon-PL-Pojemnosc-silnika-2000-cm3\",\"thumbnail\":\"https:\\u002F\\u002Fa.allegroimg.com\\u002Fs128\\u002F030743\\u002Fd30028e34b479694c79bb370c469\\u002FBMW-X3-F25-2016-diesel-xline-190-ps-salon-PL-Pojemnosc-silnika-2000-cm3\",\"embeded\":\"https:\\u002F\\u002Fa.allegroimg.com\\u002Fs512\\u002F030743\\u002Fd30028e34b479694c79bb370c469\\u002FBMW-X3-F25-2016-diesel-xline-190-ps-salon-PL-Pojemnosc-silnika-2000-cm3\",\"alt\":\"BMW X3 F25 2016 diesel xline 190 ps salon PL Pojemność silnika 2000 cm³\"},{\"original\":\"https:\\u002F\\u002Fa.allegroimg.com\\u002Foriginal\\u002F039a96\\u002F11c8d7d64c87aed3c9dc4af30caa\\u002FBMW-X3-F25-2016-diesel-xline-190-ps-salon-PL-Moc-190-KM\",\"thumbnail\":\"https:\\u002F\\u002Fa.allegroimg.com\\u002Fs128\\u002F039a96\\u002F11c8d7d64c87aed3c9dc4af30caa\\u002FBMW-X3-F25-2016-diesel-xline-190-ps-salon-PL-Moc-190-KM\",\"embeded\":\"https:\\u002F\\u002Fa.allegroimg.com\\u002Fs512\\u002F039a96\\u002F11c8d7d64c87aed3c9dc4af30caa\\u002FBMW-X3-F25-2016-diesel-xline-190-ps-salon-PL-Moc-190-KM\",\"alt\":\"BMW X3 F25 2016 diesel xline 190 ps salon PL Moc 190 KM\"},{\"original\":\"https:\\u002F\\u002Fa.allegroimg.com\\u002Foriginal\\u002F0342e8\\u002Fc963f3b343d185efacc13fc2f347\\u002FBMW-X3-F25-2016-diesel-xline-190-ps-salon-PL-Rodzaj-paliwa-Diesel\",\"thumbnail\":\"https:\\u002F\\u002Fa.allegroimg.com\\u002Fs128\\u002F0342e8\\u002Fc963f3b343d185efacc13fc2f347\\u002FBMW-X3-F25-2016-diesel-xline-190-ps-salon-PL-Rodzaj-paliwa-Diesel\",\"embeded\":\"https:\\u002F\\u002Fa.allegroimg.com\\u002Fs512\\u002F0342e8\\u002Fc963f3b343d185efacc13fc2f347\\u002FBMW-X3-F25-2016-diesel-xline-190-ps-salon-PL-Rodzaj-paliwa-Diesel\",\"alt\":\"BMW X3 F25 2016 diesel xline 190 ps salon PL Rodzaj paliwa Diesel\"},{\"original\":\"https:\\u002F\\u002Fa.allegroimg.com\\u002Foriginal\\u002F030561\\u002F7101177b438c9ac11ec2725e2267\\u002FBMW-X3-F25-2016-diesel-xline-190-ps-salon-PL-Nadwozie-SUV\",\"thumbnail\":\"https:\\u002F\\u002Fa.allegroimg.com\\u002Fs128\\u002F030561\\u002F7101177b438c9ac11ec2725e2267\\u002FBMW-X3-F25-2016-diesel-xline-190-ps-salon-PL-Nadwozie-SUV\",\"embeded\":\"https:\\u002F\\u002Fa.allegroimg.com\\u002Fs512\\u002F030561\\u002F7101177b438c9ac11ec2725e2267\\u002FBMW-X3-F25-2016-diesel-xline-190-ps-salon-PL-Nadwozie-SUV\",\"alt\":\"BMW X3 F25 2016 diesel xline 190 ps salon PL Nadwozie SUV\"}],\"fixedDefaultHeight\":true,\"fixedSmallBreakpointHeight\":true,\"fixedMediumBreakpointHeight\":true,\"triggerVisuallyCompleteMark\":true,\"nonce\":\"n0t56jkYejk+NHPMqa3iIQ==\"},\n",
       "       prototypeName: 'allegro.gallery',\n",
       "     });})();</script>,\n",
       " <script data-serialize-box-name=\"Description\" nonce=\"n0t56jkYejk+NHPMqa3iIQ==\" type=\"application/json\">{\"standardized\":{\"sections\":[{\"items\":[{\"type\":\"TEXT\",\"content\":\"\\u003Cp\\u003EBMW X3 2016 rok diesel\\u003C\\u002Fp\\u003E\\u003Cp\\u003EKupione Bawaria Katowice, pełny serwis ASO ( listopad 2019 serwis duży za 5900 zł tarcze etc.). Następny za 16000 km.\\u003C\\u002Fp\\u003E\\u003Cp\\u003EAuto mojej Żony,\\u003C\\u002Fp\\u003E\\u003Cp\\u003EBogata wersja, sportowe elektryczne fotele, duża nawigacja, ładne felgi, pakiet xline, auto nie wymaga wkładu finansowego, wystawiam fakturę 23%.\\u003C\\u002Fp\\u003E\\u003Cp\\u003ENie intersuje mnie zamiana. W maju odbieram nowe. Ubezpiezenie AC\\u002FOC opłacone na 6 miesiecy.\\u003C\\u002Fp\\u003E\\u003Cp\\u003EAuto do obejrzenia we Wrocławiu, negocjacja ceny po obejrzeniu Auta,\\u003C\\u002Fp\\u003E\\u003Cp\\u003EPaweł\\u003C\\u002Fp\\u003E\\u003Cp\\u003E784996532\\u003C\\u002Fp\\u003E\"}]}]},\"standardizedHtml\":null,\"brandzone\":null}</script>,\n",
       " <script nonce=\"n0t56jkYejk+NHPMqa3iIQ==\">(function () {\n",
       "     window.opboxComponents = window.opboxComponents || [];\n",
       "     window.opboxComponents.push({\n",
       "       boxName: 'Accordion',\n",
       "       props: {\"tabs\":[{\"title\":\"O sprzedającym\",\"hash\":\"aboutSeller\",\"cardContent\":\"\\u003Cdiv data-box-name=\\\"SellerInfoShow\\\" data-box-id=\\\"9xQB2iYQTKGcjrnbLd_GVA==6XiEVfuHT4Oz06cc_090Sw==\\\" data-prototype-id=\\\"layout.container\\\" data-prototype-version=\\\"8.1\\\" data-analytics-category=\\\"layout.container\\\" data-analytics-groups=\\\"%5B%22allegro.oferta.base%22%5D\\\"\\u003E\\u003Ca name=\\\"sellerinfoshow\\\"\\u003E\\u003C\\u002Fa\\u003E\\u003Cdiv class=\\\"opbox-sheet-wrapper _7qjq4 _1yhvf _7ccvy _26e29_2AYAm _phls7\\\" \\u003E  \\u003Cdiv class=\\\"opbox-sheet _26e29_11PCu\\\" style=\\\"margin-bottom:16px;\\\"\\u003E \\u003Cdiv data-box-name=\\\"About seller\\\" data-box-id=\\\"9xQB2iYQTKGcjrnbLd_GVA==6-2Y4H_SSrySJOfGohuqug==\\\" data-prototype-id=\\\"allegro.showoffer.aboutSeller\\\" data-prototype-version=\\\"0.7\\\" data-analytics-enabled data-analytics-category=\\\"allegro.showoffer.aboutSeller\\\" data-analytics-groups=\\\"%5B%22allegro.oferta.base%22%5D\\\"\\u003E\\u003Ca name=\\\"about-seller\\\"\\u003E\\u003C\\u002Fa\\u003E\\u003Cdiv data-role=\\\"app-container\\\"\\u003E\\u003Cdiv class=\\\"_31b2a_qQd66\\\" data-analytics-category=\\\"ShowItem\\\" data-reactroot=\\\"\\\"\\u003E\\u003Cdiv class=\\\"_31b2a_2hAYV\\\"\\u003E\\u003Cdiv class=\\\"_31b2a_3SUIv\\\"\\u003E\\u003Ca data-box-name=\\\"SellerCategoryListingShow\\\" class=\\\"_s8izy\\\" href=\\\"https:\\u002F\\u002Fallegro.pl\\u002Fuzytkownik\\u002Fuptobuy_pl\\u002F147328\\\"\\u003EInne przedmioty tego sprzedającego z kategorii F25 (2010-)\\u003C\\u002Fa\\u003E\\u003C\\u002Fdiv\\u003E\\u003Cdiv class=\\\"_31b2a_3SUIv\\\"\\u003E\\u003Ca data-box-name=\\\"SellerListingShow\\\" class=\\\"_s8izy\\\" href=\\\"https:\\u002F\\u002Fallegro.pl\\u002Fuzytkownik\\u002Fuptobuy_pl\\\"\\u003EWszystkie przedmioty sprzedającego\\u003C\\u002Fa\\u003E\\u003C\\u002Fdiv\\u003E\\u003C\\u002Fdiv\\u003E\\u003Cdiv class=\\\"_31b2a_2_C2y\\\"\\u003E\\u003Csection class=\\\"_31b2a_I6QAO\\\"\\u003E\\u003Ch4 class=\\\"_1h7wt\\\"\\u003EKontakt\\u003C\\u002Fh4\\u003E\\u003Cdiv class=\\\"_1h7wt\\\"\\u003E\\u003Cdiv\\u003E\\u003Cdiv class=\\\"_31b2a_2wR1C\\\"\\u003E\\u003Cspan class=\\\"_31b2a_2RRza _31b2a_2z7-l\\\"\\u003E\\u003C\\u002Fspan\\u003E\\u003Cul class=\\\"_31b2a_2kaaN\\\"\\u003E\\u003Cli\\u003E\\u003Ca data-box-name=\\\"AskSellerClick\\\" class=\\\"_s8izy\\\" href=\\\"#zadaj-pytanie\\\" rel=\\\"nofollow\\\"\\u003Epytanie do sprzedającego\\u003C\\u002Fa\\u003E\\u003C\\u002Fli\\u003E\\u003C\\u002Ful\\u003E\\u003C\\u002Fdiv\\u003E\\u003C\\u002Fdiv\\u003E\\u003Csection class=\\\"_1h7wt _1dd5x _31b2a_3YaKW\\\"\\u003E\\u003Cdiv class=\\\"_31b2a_2w3lU\\\"\\u003E\\u003C\\u002Fdiv\\u003E\\u003C\\u002Fsection\\u003E\\u003C\\u002Fdiv\\u003E\\u003C\\u002Fsection\\u003E\\u003C\\u002Fdiv\\u003E\\u003C\\u002Fdiv\\u003E\\u003C\\u002Fdiv\\u003E\\u003C\\u002Fdiv\\u003E \\u003C\\u002Fdiv\\u003E\\u003C\\u002Fdiv\\u003E\\u003C\\u002Fdiv\\u003E\",\"label\":{\"type\":\"text\",\"text\":\"uptobuy_pl\",\"hideOnMobile\":true},\"sidebarSize\":\"md\"}],\"disableTabs\":\"\"},\n",
       "       prototypeName: 'allegro.accordion',\n",
       "     });})();</script>,\n",
       " <script nonce=\"n0t56jkYejk+NHPMqa3iIQ==\"></script>,\n",
       " <script async=\"async\" crossorigin=\"\" nonce=\"n0t56jkYejk+NHPMqa3iIQ==\" src=\"https://assets.allegrostatic.com/opbox-search/index_282d7298.js\"></script>,\n",
       " <script async=\"async\" crossorigin=\"\" nonce=\"n0t56jkYejk+NHPMqa3iIQ==\" src=\"https://assets.allegrostatic.com/opbox-message-center-header/index_ed84be90.js\"></script>,\n",
       " <script crossorigin=\"\" nonce=\"n0t56jkYejk+NHPMqa3iIQ==\" src=\"https://assets.allegrostatic.com/opbox-links/index_85fe7b25.js\"></script>,\n",
       " <script async=\"async\" crossorigin=\"\" nonce=\"n0t56jkYejk+NHPMqa3iIQ==\" src=\"https://assets.allegrostatic.com/opbox-navigation-layers/index_661594e2.js\"></script>,\n",
       " <script crossorigin=\"\" nonce=\"n0t56jkYejk+NHPMqa3iIQ==\" src=\"https://assets.allegrostatic.com/opbox-advertisement-box/profile_144cfeba.js\"></script>,\n",
       " <script crossorigin=\"\" nonce=\"n0t56jkYejk+NHPMqa3iIQ==\" src=\"https://assets.allegrostatic.com/opbox-advertisement-box/bidder-settings_003face0.js\"></script>,\n",
       " <script crossorigin=\"\" nonce=\"n0t56jkYejk+NHPMqa3iIQ==\" src=\"https://assets.allegrostatic.com/opbox-advertisement-box/prebid_532b52e4.js\"></script>,\n",
       " <script crossorigin=\"\" nonce=\"n0t56jkYejk+NHPMqa3iIQ==\" src=\"https://assets.allegrostatic.com/opbox-advertisement-box/index_8982327f.js\"></script>,\n",
       " <script crossorigin=\"\" nonce=\"n0t56jkYejk+NHPMqa3iIQ==\" src=\"https://assets.allegrostatic.com/opbox-user-inbox/index_2ab51a0a.js\"></script>,\n",
       " <script async=\"async\" crossorigin=\"\" nonce=\"n0t56jkYejk+NHPMqa3iIQ==\" src=\"https://assets.allegrostatic.com/opbox-multisearch-search/index-pl-PL_ce2ae3a1.js\"></script>,\n",
       " <script async=\"async\" crossorigin=\"\" nonce=\"n0t56jkYejk+NHPMqa3iIQ==\" src=\"https://assets.allegrostatic.com/opbox-breadcrumb/index_bce7d7bf.js\"></script>,\n",
       " <script crossorigin=\"\" nonce=\"n0t56jkYejk+NHPMqa3iIQ==\" src=\"https://assets.allegrostatic.com/showoffer-vendors/2.0.0/vendors.js\"></script>,\n",
       " <script crossorigin=\"\" nonce=\"n0t56jkYejk+NHPMqa3iIQ==\" src=\"https://assets.allegrostatic.com/opbox-showoffer-summary/index_05205f50.js\"></script>,\n",
       " <script crossorigin=\"\" nonce=\"n0t56jkYejk+NHPMqa3iIQ==\" src=\"https://assets.allegrostatic.com/opbox-gallery/index_0581fbe1.js\"></script>,\n",
       " <script crossorigin=\"\" nonce=\"n0t56jkYejk+NHPMqa3iIQ==\" src=\"https://assets.allegrostatic.com/opbox-showoffer-links/index_b9d39159.js\"></script>,\n",
       " <script crossorigin=\"\" nonce=\"n0t56jkYejk+NHPMqa3iIQ==\" src=\"https://assets.allegrostatic.com/opbox-carousel/index_27c3aedc.js\"></script>,\n",
       " <script crossorigin=\"\" nonce=\"n0t56jkYejk+NHPMqa3iIQ==\" src=\"https://assets.allegrostatic.com/opbox-offer/index.es6_23436bc2.js\" type=\"module\"></script>,\n",
       " <script crossorigin=\"\" nomodule=\"true\" nonce=\"n0t56jkYejk+NHPMqa3iIQ==\" src=\"https://assets.allegrostatic.com/opbox-offer/index_e5dd7a1a.js\"></script>,\n",
       " <script crossorigin=\"\" nonce=\"n0t56jkYejk+NHPMqa3iIQ==\" src=\"https://assets.allegrostatic.com/opbox-accordion/index_badfc477.js\"></script>,\n",
       " <script nonce=\"n0t56jkYejk+NHPMqa3iIQ==\">(function () {\n",
       "     window.opboxComponents = window.opboxComponents || [];\n",
       "     window.opboxComponents.push({\n",
       "       boxName: 'About seller',\n",
       "       props: {\"leftLink\":{\"text\":\"Inne przedmioty tego sprzedającego z kategorii F25 (2010-)\",\"url\":\"https:\\u002F\\u002Fallegro.pl\\u002Fuzytkownik\\u002Fuptobuy_pl\\u002F147328\"},\"rightLink\":{\"text\":\"Wszystkie przedmioty sprzedającego\",\"url\":\"https:\\u002F\\u002Fallegro.pl\\u002Fuzytkownik\\u002Fuptobuy_pl\"},\"companyData\":null,\"description\":null,\"additionalDescription\":null,\"contact\":{\"phones\":[],\"mails\":[{\"text\":\"pytanie do sprzedającego\",\"href\":\"#zadaj-pytanie\",\"eventName\":\"AskSellerClick\"}],\"openHours\":[]},\"hideContact\":true},\n",
       "       prototypeName: 'allegro.showoffer.aboutSeller',\n",
       "     });})();</script>,\n",
       " <script crossorigin=\"\" nonce=\"n0t56jkYejk+NHPMqa3iIQ==\" src=\"https://assets.allegrostatic.com/opbox-showoffer-about-seller/index_e5c49dfd.js\"></script>,\n",
       " <script crossorigin=\"\" nonce=\"n0t56jkYejk+NHPMqa3iIQ==\" src=\"https://assets.allegrostatic.com/opbox-message-center-initial-msg/index_f4993eca.js\"></script>,\n",
       " <script async=\"async\" crossorigin=\"\" nonce=\"n0t56jkYejk+NHPMqa3iIQ==\" src=\"https://assets.allegrostatic.com/opbox-expander/index_df0f5d25.js\"></script>,\n",
       " <script crossorigin=\"\" nonce=\"n0t56jkYejk+NHPMqa3iIQ==\" src=\"https://assets.allegrostatic.com/opbox-rodo-consent-modal/index-pl-PL_9aa1f486.js\"></script>,\n",
       " <script async=\"async\" crossorigin=\"\" nonce=\"n0t56jkYejk+NHPMqa3iIQ==\" src=\"https://assets.allegrostatic.com/opbox-precart-layer/index-pl-PL_3fcc0202.js\"></script>,\n",
       " <script async=\"async\" crossorigin=\"\" nonce=\"n0t56jkYejk+NHPMqa3iIQ==\" src=\"https://assets.allegrostatic.com/opbox-precart-layer-content/index-pl-PL_51e2071a.js\"></script>,\n",
       " <script crossorigin=\"\" nonce=\"n0t56jkYejk+NHPMqa3iIQ==\" src=\"https://assets.allegrostatic.com/opbox-cart-external-promotion-verifier/index-pl-PL_c4c0c3d8.js\"></script>,\n",
       " <script nonce=\"n0t56jkYejk+NHPMqa3iIQ==\">!function(e,i,n){try{e.pp_gemius_identifier=\".WcwDSOFU5ZsoLDt7DRTv8QMPziK6iNsrOJZDqDbANT.07\",e.gemius_pending=function(i){e[i]=e[i]||function(){var n=e[\"\".concat(i,\"_pdata\")]=e[\"\".concat(i,\"_pdata\")]||[];n[n.length]=arguments}},gemius_pending(\"gemius_hit\"),gemius_pending(\"gemius_event\"),gemius_pending(\"pp_gemius_hit\"),gemius_pending(\"pp_gemius_event\");var t=Object.assign(i.createElement(n),{src:\"//assets.allegrostatic.com/gemius/lib-25e8e56bb0.js\"}),s=i.getElementsByTagName(n)[0];s.parentNode.insertBefore(t,s)}catch(e){}}(window,document,\"script\");</script>,\n",
       " <script nonce=\"n0t56jkYejk+NHPMqa3iIQ==\"> </script>]"
      ]
     },
     "execution_count": 133,
     "metadata": {},
     "output_type": "execute_result"
    }
   ],
   "source": [
    "bs.findAll(\"script\")"
   ]
  },
  {
   "cell_type": "markdown",
   "metadata": {},
   "source": [
    "To find the source of more detailed offer parameters, I looked up mileage (\"przebieg\") value specific for analyzed offer and found that it appears 10 times within the body. The json data, which looks to be most appropriate for further analysis is stored within data-serialize-box-name=\"Parameters\" attribute "
   ]
  },
  {
   "cell_type": "code",
   "execution_count": 134,
   "metadata": {},
   "outputs": [
    {
     "data": {
      "text/plain": [
       "'{\"layout\":\"TWO_COLUMNS\",\"groups\":[{\"label\":null,\"icon\":null,\"description\":null,\"singleValueParams\":[{\"id\":\"11323\",\"name\":\"Stan\",\"value\":{\"id\":\"11323_2\",\"name\":\"Używany\",\"url\":null}},{\"id\":null,\"name\":\"Faktura\",\"value\":{\"id\":null,\"name\":\"Wystawiam fakturę VAT\",\"url\":null}},{\"id\":\"1\",\"name\":\"Rok produkcji\",\"value\":{\"id\":null,\"name\":\"2016\",\"url\":null}},{\"id\":\"4\",\"name\":\"Przebieg\",\"value\":{\"id\":null,\"name\":\"123000 km\",\"url\":null}},{\"id\":\"5\",\"name\":\"Pojemność silnika\",\"value\":{\"id\":null,\"name\":\"2000 cm³\",\"url\":null}},{\"id\":\"14\",\"name\":\"Moc\",\"value\":{\"id\":null,\"name\":\"190 KM\",\"url\":null}},{\"id\":\"16\",\"name\":\"Rodzaj paliwa\",\"value\":{\"id\":\"16_2\",\"name\":\"Diesel\",\"url\":\"https:\\\\u002F\\\\u002Fallegro.pl\\\\u002Fkategoria\\\\u002Fx3-f25-2010-147328?rodzaj-paliwa=Diesel\"}},{\"id\":\"13\",\"name\":\"Nadwozie\",\"value\":{\"id\":\"13_10\",\"name\":\"SUV\",\"url\":\"https:\\\\u002F\\\\u002Fallegro.pl\\\\u002Fkategoria\\\\u002Fx3-f25-2010-147328?nadwozie=SUV\"}},{\"id\":\"128789\",\"name\":\"Liczba miejsc\",\"value\":{\"id\":null,\"name\":\"5\",\"url\":null}},{\"id\":\"128791\",\"name\":\"Napęd\",\"value\":{\"id\":\"128791_246722\",\"name\":\"4x4\",\"url\":\"https:\\\\u002F\\\\u002Fallegro.pl\\\\u002Fkategoria\\\\u002Fx3-f25-2010-147328?naped=4x4\"}},{\"id\":\"3\",\"name\":\"Kolor\",\"value\":{\"id\":\"3_4\",\"name\":\"Czarny\",\"url\":null}},{\"id\":\"128792\",\"name\":\"Lakier\",\"value\":{\"id\":\"128792_2\",\"name\":\"Metalik\",\"url\":null}},{\"id\":\"128788\",\"name\":\"Kraj pochodzenia\",\"value\":{\"id\":\"128788_24\",\"name\":\"Polska\",\"url\":null}},{\"id\":\"211062\",\"name\":\"Pochodzenie\",\"value\":{\"id\":\"211062_246554\",\"name\":\"krajowe\",\"url\":null}},{\"id\":\"199\",\"name\":\"Skrzynia biegów\",\"value\":{\"id\":\"199_1\",\"name\":\"Automatyczna\",\"url\":\"https:\\\\u002F\\\\u002Fallegro.pl\\\\u002Fkategoria\\\\u002Fx3-f25-2010-147328?skrzynia-biegow=Automatyczna\"}},{\"id\":\"211066\",\"name\":\"Klimatyzacja\",\"value\":{\"id\":\"211066_246570\",\"name\":\"automatyczna dwustrefowa\",\"url\":null}},{\"id\":\"215882\",\"name\":\"Oferta dotyczy\",\"value\":{\"id\":\"215882_272070\",\"name\":\"sprzedaż\",\"url\":null}}],\"multiValueParams\":[{\"id\":null,\"name\":\"Wyposażenie - bezpieczeństwo\",\"value\":{\"id\":null,\"url\":null,\"name\":\"ABS, Alarm, ASR (kontrola trakcji), Asystent parkowania, Czujnik deszczu, Immobilizer, Isofix, Kamera cofania, Kurtyny powietrzne, Poduszka powietrzna kierowcy, Światła xenonowe, Poduszki boczne tylne, ESP (stabilizacja toru jazdy), Czujniki parkowania tylne, Czujniki parkowania przednie, Czujnik zmierzchu, Poduszka powietrzna pasażera, Poduszki boczne przednie\"}},{\"id\":null,\"name\":\"Wyposażenie - komfort\",\"value\":{\"id\":null,\"url\":null,\"name\":\"Elektryczne szyby tylne, Elektryczne szyby przednie, Podgrzewane lusterka boczne, Podgrzewane przednie siedzenia, Elektrycznie ustawiane lusterka, Elektrycznie ustawiane fotele, Tapicerka skórzana, Tapicerka jasna, Wielofunkcyjna kierownica, Wspomaganie kierownicy\"}},{\"id\":null,\"name\":\"Wyposażenie - multimedia\",\"value\":{\"id\":null,\"url\":null,\"name\":\"CD, Bluetooth, Gniazdo AUX, Gniazdo USB, MP3, Radio fabryczne, Odtwarzacz DVD\"}},{\"id\":null,\"name\":\"Wyposażenie - pozostałe\",\"value\":{\"id\":null,\"url\":null,\"name\":\"Ogranicznik prędkości, Otwieranie pilotem, Relingi dachowe, Tempomat aktywny, Komputer pokładowy, Elektrochromatyczne lusterko wsteczne, Elektrochromatyczne lusterka boczne, Centralny zamek, Bezkluczykowy dostęp, Alufelgi, Tempomat, System Start-Stop\"}},{\"id\":null,\"name\":\"Informacje dodatkowe\",\"value\":{\"id\":null,\"url\":null,\"name\":\"Bezwypadkowy, Serwisowany w ASO, Zarejestrowany w Polsce\"}}]}]}'"
      ]
     },
     "execution_count": 134,
     "metadata": {},
     "output_type": "execute_result"
    }
   ],
   "source": [
    "bs.findAll(\"script\",{'data-serialize-box-name':'Parameters'})[0].string"
   ]
  },
  {
   "cell_type": "markdown",
   "metadata": {},
   "source": [
    "The string within Parameter table is a json file, which needs to be unpacked before further analysis"
   ]
  },
  {
   "cell_type": "code",
   "execution_count": 135,
   "metadata": {},
   "outputs": [],
   "source": [
    "data_dict=bs.findAll(\"script\",{'data-serialize-box-name':'Parameters'})[0].string"
   ]
  },
  {
   "cell_type": "code",
   "execution_count": 136,
   "metadata": {},
   "outputs": [],
   "source": [
    "data_dict=json.loads(data_dict)"
   ]
  },
  {
   "cell_type": "code",
   "execution_count": 137,
   "metadata": {},
   "outputs": [
    {
     "data": {
      "text/plain": [
       "{'layout': 'TWO_COLUMNS',\n",
       " 'groups': [{'label': None,\n",
       "   'icon': None,\n",
       "   'description': None,\n",
       "   'singleValueParams': [{'id': '11323',\n",
       "     'name': 'Stan',\n",
       "     'value': {'id': '11323_2', 'name': 'Używany', 'url': None}},\n",
       "    {'id': None,\n",
       "     'name': 'Faktura',\n",
       "     'value': {'id': None, 'name': 'Wystawiam fakturę VAT', 'url': None}},\n",
       "    {'id': '1',\n",
       "     'name': 'Rok produkcji',\n",
       "     'value': {'id': None, 'name': '2016', 'url': None}},\n",
       "    {'id': '4',\n",
       "     'name': 'Przebieg',\n",
       "     'value': {'id': None, 'name': '123000 km', 'url': None}},\n",
       "    {'id': '5',\n",
       "     'name': 'Pojemność silnika',\n",
       "     'value': {'id': None, 'name': '2000 cm³', 'url': None}},\n",
       "    {'id': '14',\n",
       "     'name': 'Moc',\n",
       "     'value': {'id': None, 'name': '190 KM', 'url': None}},\n",
       "    {'id': '16',\n",
       "     'name': 'Rodzaj paliwa',\n",
       "     'value': {'id': '16_2',\n",
       "      'name': 'Diesel',\n",
       "      'url': 'https://allegro.pl/kategoria/x3-f25-2010-147328?rodzaj-paliwa=Diesel'}},\n",
       "    {'id': '13',\n",
       "     'name': 'Nadwozie',\n",
       "     'value': {'id': '13_10',\n",
       "      'name': 'SUV',\n",
       "      'url': 'https://allegro.pl/kategoria/x3-f25-2010-147328?nadwozie=SUV'}},\n",
       "    {'id': '128789',\n",
       "     'name': 'Liczba miejsc',\n",
       "     'value': {'id': None, 'name': '5', 'url': None}},\n",
       "    {'id': '128791',\n",
       "     'name': 'Napęd',\n",
       "     'value': {'id': '128791_246722',\n",
       "      'name': '4x4',\n",
       "      'url': 'https://allegro.pl/kategoria/x3-f25-2010-147328?naped=4x4'}},\n",
       "    {'id': '3',\n",
       "     'name': 'Kolor',\n",
       "     'value': {'id': '3_4', 'name': 'Czarny', 'url': None}},\n",
       "    {'id': '128792',\n",
       "     'name': 'Lakier',\n",
       "     'value': {'id': '128792_2', 'name': 'Metalik', 'url': None}},\n",
       "    {'id': '128788',\n",
       "     'name': 'Kraj pochodzenia',\n",
       "     'value': {'id': '128788_24', 'name': 'Polska', 'url': None}},\n",
       "    {'id': '211062',\n",
       "     'name': 'Pochodzenie',\n",
       "     'value': {'id': '211062_246554', 'name': 'krajowe', 'url': None}},\n",
       "    {'id': '199',\n",
       "     'name': 'Skrzynia biegów',\n",
       "     'value': {'id': '199_1',\n",
       "      'name': 'Automatyczna',\n",
       "      'url': 'https://allegro.pl/kategoria/x3-f25-2010-147328?skrzynia-biegow=Automatyczna'}},\n",
       "    {'id': '211066',\n",
       "     'name': 'Klimatyzacja',\n",
       "     'value': {'id': '211066_246570',\n",
       "      'name': 'automatyczna dwustrefowa',\n",
       "      'url': None}},\n",
       "    {'id': '215882',\n",
       "     'name': 'Oferta dotyczy',\n",
       "     'value': {'id': '215882_272070', 'name': 'sprzedaż', 'url': None}}],\n",
       "   'multiValueParams': [{'id': None,\n",
       "     'name': 'Wyposażenie - bezpieczeństwo',\n",
       "     'value': {'id': None,\n",
       "      'url': None,\n",
       "      'name': 'ABS, Alarm, ASR (kontrola trakcji), Asystent parkowania, Czujnik deszczu, Immobilizer, Isofix, Kamera cofania, Kurtyny powietrzne, Poduszka powietrzna kierowcy, Światła xenonowe, Poduszki boczne tylne, ESP (stabilizacja toru jazdy), Czujniki parkowania tylne, Czujniki parkowania przednie, Czujnik zmierzchu, Poduszka powietrzna pasażera, Poduszki boczne przednie'}},\n",
       "    {'id': None,\n",
       "     'name': 'Wyposażenie - komfort',\n",
       "     'value': {'id': None,\n",
       "      'url': None,\n",
       "      'name': 'Elektryczne szyby tylne, Elektryczne szyby przednie, Podgrzewane lusterka boczne, Podgrzewane przednie siedzenia, Elektrycznie ustawiane lusterka, Elektrycznie ustawiane fotele, Tapicerka skórzana, Tapicerka jasna, Wielofunkcyjna kierownica, Wspomaganie kierownicy'}},\n",
       "    {'id': None,\n",
       "     'name': 'Wyposażenie - multimedia',\n",
       "     'value': {'id': None,\n",
       "      'url': None,\n",
       "      'name': 'CD, Bluetooth, Gniazdo AUX, Gniazdo USB, MP3, Radio fabryczne, Odtwarzacz DVD'}},\n",
       "    {'id': None,\n",
       "     'name': 'Wyposażenie - pozostałe',\n",
       "     'value': {'id': None,\n",
       "      'url': None,\n",
       "      'name': 'Ogranicznik prędkości, Otwieranie pilotem, Relingi dachowe, Tempomat aktywny, Komputer pokładowy, Elektrochromatyczne lusterko wsteczne, Elektrochromatyczne lusterka boczne, Centralny zamek, Bezkluczykowy dostęp, Alufelgi, Tempomat, System Start-Stop'}},\n",
       "    {'id': None,\n",
       "     'name': 'Informacje dodatkowe',\n",
       "     'value': {'id': None,\n",
       "      'url': None,\n",
       "      'name': 'Bezwypadkowy, Serwisowany w ASO, Zarejestrowany w Polsce'}}]}]}"
      ]
     },
     "execution_count": 137,
     "metadata": {},
     "output_type": "execute_result"
    }
   ],
   "source": [
    "data_dict"
   ]
  },
  {
   "cell_type": "markdown",
   "metadata": {},
   "source": [
    "## Navigating through json dictionary"
   ]
  },
  {
   "cell_type": "code",
   "execution_count": 139,
   "metadata": {},
   "outputs": [
    {
     "data": {
      "text/plain": [
       "dict_keys(['layout', 'groups'])"
      ]
     },
     "execution_count": 139,
     "metadata": {},
     "output_type": "execute_result"
    }
   ],
   "source": [
    "data_dict.keys()"
   ]
  },
  {
   "cell_type": "code",
   "execution_count": 140,
   "metadata": {},
   "outputs": [
    {
     "data": {
      "text/plain": [
       "dict_keys(['label', 'icon', 'description', 'singleValueParams', 'multiValueParams'])"
      ]
     },
     "execution_count": 140,
     "metadata": {},
     "output_type": "execute_result"
    }
   ],
   "source": [
    "data_dict[\"groups\"][0].keys()"
   ]
  },
  {
   "cell_type": "markdown",
   "metadata": {},
   "source": [
    "The singleValueParams contain key data for further analysis"
   ]
  },
  {
   "cell_type": "code",
   "execution_count": 141,
   "metadata": {},
   "outputs": [
    {
     "data": {
      "text/plain": [
       "[{'id': '11323',\n",
       "  'name': 'Stan',\n",
       "  'value': {'id': '11323_2', 'name': 'Używany', 'url': None}},\n",
       " {'id': None,\n",
       "  'name': 'Faktura',\n",
       "  'value': {'id': None, 'name': 'Wystawiam fakturę VAT', 'url': None}},\n",
       " {'id': '1',\n",
       "  'name': 'Rok produkcji',\n",
       "  'value': {'id': None, 'name': '2016', 'url': None}},\n",
       " {'id': '4',\n",
       "  'name': 'Przebieg',\n",
       "  'value': {'id': None, 'name': '123000 km', 'url': None}},\n",
       " {'id': '5',\n",
       "  'name': 'Pojemność silnika',\n",
       "  'value': {'id': None, 'name': '2000 cm³', 'url': None}},\n",
       " {'id': '14',\n",
       "  'name': 'Moc',\n",
       "  'value': {'id': None, 'name': '190 KM', 'url': None}},\n",
       " {'id': '16',\n",
       "  'name': 'Rodzaj paliwa',\n",
       "  'value': {'id': '16_2',\n",
       "   'name': 'Diesel',\n",
       "   'url': 'https://allegro.pl/kategoria/x3-f25-2010-147328?rodzaj-paliwa=Diesel'}},\n",
       " {'id': '13',\n",
       "  'name': 'Nadwozie',\n",
       "  'value': {'id': '13_10',\n",
       "   'name': 'SUV',\n",
       "   'url': 'https://allegro.pl/kategoria/x3-f25-2010-147328?nadwozie=SUV'}},\n",
       " {'id': '128789',\n",
       "  'name': 'Liczba miejsc',\n",
       "  'value': {'id': None, 'name': '5', 'url': None}},\n",
       " {'id': '128791',\n",
       "  'name': 'Napęd',\n",
       "  'value': {'id': '128791_246722',\n",
       "   'name': '4x4',\n",
       "   'url': 'https://allegro.pl/kategoria/x3-f25-2010-147328?naped=4x4'}},\n",
       " {'id': '3',\n",
       "  'name': 'Kolor',\n",
       "  'value': {'id': '3_4', 'name': 'Czarny', 'url': None}},\n",
       " {'id': '128792',\n",
       "  'name': 'Lakier',\n",
       "  'value': {'id': '128792_2', 'name': 'Metalik', 'url': None}},\n",
       " {'id': '128788',\n",
       "  'name': 'Kraj pochodzenia',\n",
       "  'value': {'id': '128788_24', 'name': 'Polska', 'url': None}},\n",
       " {'id': '211062',\n",
       "  'name': 'Pochodzenie',\n",
       "  'value': {'id': '211062_246554', 'name': 'krajowe', 'url': None}},\n",
       " {'id': '199',\n",
       "  'name': 'Skrzynia biegów',\n",
       "  'value': {'id': '199_1',\n",
       "   'name': 'Automatyczna',\n",
       "   'url': 'https://allegro.pl/kategoria/x3-f25-2010-147328?skrzynia-biegow=Automatyczna'}},\n",
       " {'id': '211066',\n",
       "  'name': 'Klimatyzacja',\n",
       "  'value': {'id': '211066_246570',\n",
       "   'name': 'automatyczna dwustrefowa',\n",
       "   'url': None}},\n",
       " {'id': '215882',\n",
       "  'name': 'Oferta dotyczy',\n",
       "  'value': {'id': '215882_272070', 'name': 'sprzedaż', 'url': None}}]"
      ]
     },
     "execution_count": 141,
     "metadata": {},
     "output_type": "execute_result"
    }
   ],
   "source": [
    "data_dict[\"groups\"][0]['singleValueParams']"
   ]
  },
  {
   "cell_type": "code",
   "execution_count": 142,
   "metadata": {},
   "outputs": [],
   "source": [
    "for i in range(0,len(data_dict[\"groups\"][0]['singleValueParams'])):\n",
    "    feature=data_dict[\"groups\"][0]['singleValueParams'][i][\"name\"]\n",
    "    value=data_dict[\"groups\"][0]['singleValueParams'][i][\"value\"][\"name\"]\n",
    "    data[feature]=value\n"
   ]
  },
  {
   "cell_type": "code",
   "execution_count": 143,
   "metadata": {},
   "outputs": [
    {
     "data": {
      "text/plain": [
       "{'OEM': 'BMW',\n",
       " 'model': 'X3',\n",
       " 'serie': 'F25 (2010-)',\n",
       " 'offerID': '8960550484',\n",
       " 'price': 99000,\n",
       " 'title': 'BMW X3 F25 2016 diesel xline 190 ps salon PL 8960550484 - Allegro.pl',\n",
       " 'Stan': 'Używany',\n",
       " 'Faktura': 'Wystawiam fakturę VAT',\n",
       " 'Rok produkcji': '2016',\n",
       " 'Przebieg': '123000 km',\n",
       " 'Pojemność silnika': '2000 cm³',\n",
       " 'Moc': '190 KM',\n",
       " 'Rodzaj paliwa': 'Diesel',\n",
       " 'Nadwozie': 'SUV',\n",
       " 'Liczba miejsc': '5',\n",
       " 'Napęd': '4x4',\n",
       " 'Kolor': 'Czarny',\n",
       " 'Lakier': 'Metalik',\n",
       " 'Kraj pochodzenia': 'Polska',\n",
       " 'Pochodzenie': 'krajowe',\n",
       " 'Skrzynia biegów': 'Automatyczna',\n",
       " 'Klimatyzacja': 'automatyczna dwustrefowa',\n",
       " 'Oferta dotyczy': 'sprzedaż'}"
      ]
     },
     "execution_count": 143,
     "metadata": {},
     "output_type": "execute_result"
    }
   ],
   "source": [
    "data"
   ]
  },
  {
   "cell_type": "code",
   "execution_count": 144,
   "metadata": {},
   "outputs": [
    {
     "name": "stdout",
     "output_type": "stream",
     "text": [
      "BMW X3 F25 2016 diesel xline 190 ps salon PL 8960550484 - Allegro.pl\n",
      "\n",
      "\n",
      "Stan=Używany\n",
      "Faktura=Wystawiam fakturę VAT\n",
      "Rok produkcji=2016\n",
      "Przebieg=123000 km\n",
      "Pojemność silnika=2000 cm³\n",
      "Moc=190 KM\n",
      "Rodzaj paliwa=Diesel\n",
      "Nadwozie=SUV\n",
      "Liczba miejsc=5\n",
      "Napęd=4x4\n",
      "Kolor=Czarny\n",
      "Lakier=Metalik\n",
      "Kraj pochodzenia=Polska\n",
      "Pochodzenie=krajowe\n",
      "Skrzynia biegów=Automatyczna\n",
      "Klimatyzacja=automatyczna dwustrefowa\n",
      "Oferta dotyczy=sprzedaż\n"
     ]
    }
   ],
   "source": [
    "print(bs.title.string)\n",
    "print(\"\\n\")\n",
    "for i in range(0,len(data_dict[\"groups\"][0]['singleValueParams'])):\n",
    "    feature=data_dict[\"groups\"][0]['singleValueParams'][i][\"name\"]\n",
    "    value=data_dict[\"groups\"][0]['singleValueParams'][i][\"value\"][\"name\"]\n",
    "    print(\"{}={}\".format(feature, value))"
   ]
  },
  {
   "cell_type": "markdown",
   "metadata": {},
   "source": [
    "## Combining findings into one function extracting offer data"
   ]
  },
  {
   "cell_type": "code",
   "execution_count": 145,
   "metadata": {},
   "outputs": [],
   "source": [
    "def Extract_data(link):\n",
    "    html = urlopen(link)\n",
    "    bs = BeautifulSoup(html, 'lxml')\n",
    "    \n",
    "    # Extracting key offer parameters as described in 3.1\n",
    "    \n",
    "    key_data=re.findall(\"\\[([^]]+)\\]\",bs.script.string)[0]\n",
    "    key_data=json.loads(key_data)\n",
    "    \n",
    "    OEMdet=key_data[\"headNavigation\"]  \n",
    "    OEMdet=re.findall((\"(?<=Samochody\\|Osobowe)(?s)(.*$)\"),OEMdet)[0]\n",
    "    \n",
    "    data_dict={}\n",
    "    \n",
    "    if len((OEMdet.split(\"|\"))[1:])==3:\n",
    "    \n",
    "        data_dict[\"OEM\"],data_dict[\"model\"],data_dict[\"serie\"]=(OEMdet.split(\"|\"))[1:]\n",
    "    elif len((OEMdet.split(\"|\"))[1:])==2:\n",
    "        data_dict[\"OEM\"],data_dict[\"model\"]=(OEMdet.split(\"|\"))[1:3]\n",
    "    else:\n",
    "        data_dict[\"OEM\"]=(OEMdet.split(\"|\"))[1]\n",
    "        \n",
    "    data_dict[\"offerID\"]=key_data[\"idItem\"]\n",
    "    data_dict[\"price\"]=key_data[\"price\"]\n",
    "    data_dict[\"title\"]=bs.title.string\n",
    "    data_dict[\"download_date\"]=str(datetime.now())\n",
    "    \n",
    "    #Extracting offer details described in 3.2-3.3\n",
    "    \n",
    "    details=bs.findAll(\"script\",{'data-serialize-box-name':'Parameters'})[0].string\n",
    "    details=json.loads(details)\n",
    "    offer_details=details[\"groups\"][0]['singleValueParams']\n",
    "    \n",
    "    for i in range(0,len(offer_details)):\n",
    "        feature=offer_details[i][\"name\"]\n",
    "        value=offer_details[i][\"value\"][\"name\"]\n",
    "        data_dict[feature]=value\n",
    "        \n",
    "    \n",
    "    \n",
    "\n",
    "    \n",
    "    \n",
    "    return(data_dict)\n",
    "\n",
    "\n",
    "\n",
    "\n",
    "\n",
    "    \n",
    "    "
   ]
  },
  {
   "cell_type": "code",
   "execution_count": 146,
   "metadata": {},
   "outputs": [
    {
     "data": {
      "text/plain": [
       "'https://allegro.pl/ogloszenie/bmw-5-f10-528-i-245-km-9086094556'"
      ]
     },
     "execution_count": 146,
     "metadata": {},
     "output_type": "execute_result"
    }
   ],
   "source": [
    "offer=all_offers[0]\n",
    "offer"
   ]
  },
  {
   "cell_type": "markdown",
   "metadata": {},
   "source": [
    "Let's investigate how the function works with one of offers"
   ]
  },
  {
   "cell_type": "code",
   "execution_count": 147,
   "metadata": {},
   "outputs": [
    {
     "data": {
      "text/plain": [
       "{'OEM': 'BMW',\n",
       " 'model': 'Seria 5',\n",
       " 'serie': 'F10 (2009-2017)',\n",
       " 'offerID': '9086094556',\n",
       " 'price': 54000,\n",
       " 'title': 'BMW 5 (F10) 528 i 245 KM 9086094556 - Allegro.pl',\n",
       " 'download_date': '2020-04-10 10:40:04.248414',\n",
       " 'Stan': 'Używany',\n",
       " 'Faktura': 'Nie wystawiam faktury',\n",
       " 'Rok produkcji': '2012',\n",
       " 'Przebieg': '183000 km',\n",
       " 'Pojemność silnika': '1997 cm³',\n",
       " 'Moc': '245 KM',\n",
       " 'Rodzaj paliwa': 'Benzyna',\n",
       " 'Nadwozie': 'Sedan',\n",
       " 'Liczba drzwi': '4/5',\n",
       " 'Liczba miejsc': '5',\n",
       " 'Napęd': 'Na tylne koła',\n",
       " 'Kolor': 'Czarny',\n",
       " 'Lakier': 'Metalik',\n",
       " 'Kierownica po prawej (Anglik)': 'Nie',\n",
       " 'Kraj pochodzenia': 'Stany Zjednoczone',\n",
       " 'Informacje dodatkowe': 'Pierwszy właściciel',\n",
       " 'Pochodzenie': 'import',\n",
       " 'Skrzynia biegów': 'Automatyczna',\n",
       " 'Klimatyzacja': 'automatyczna dwustrefowa',\n",
       " 'Oferta dotyczy': 'sprzedaż',\n",
       " 'Stan blacharsko-lakierniczy': 'naprawy blacharsko-lakiernicze',\n",
       " 'Numer VIN': 'WBAXG5C54CDX01911'}"
      ]
     },
     "execution_count": 147,
     "metadata": {},
     "output_type": "execute_result"
    }
   ],
   "source": [
    "Extract_data(offer)"
   ]
  },
  {
   "cell_type": "markdown",
   "metadata": {},
   "source": [
    "# Extracting and saving data "
   ]
  },
  {
   "cell_type": "markdown",
   "metadata": {},
   "source": [
    "## Customizing Timeout exceptions"
   ]
  },
  {
   "cell_type": "markdown",
   "metadata": {},
   "source": [
    "Defining custom Timeout exceptions is crucial to avoid the crawler stopping at one page for too long. It can be done using a simple decorator. "
   ]
  },
  {
   "cell_type": "code",
   "execution_count": 148,
   "metadata": {},
   "outputs": [],
   "source": [
    "from contextlib import contextmanager\n",
    "import threading\n",
    "import _thread\n",
    "\n",
    "class TimeoutException(Exception):\n",
    "    def __init__(self, msg=''):\n",
    "        self.msg = msg\n",
    "\n",
    "@contextmanager\n",
    "def time_limit(seconds, msg=''):\n",
    "    timer = threading.Timer(seconds, lambda: _thread.interrupt_main())\n",
    "    timer.start()\n",
    "    try:\n",
    "        yield\n",
    "    except KeyboardInterrupt:\n",
    "        pass \n",
    "    finally:\n",
    "        timer.cancel()\n"
   ]
  },
  {
   "cell_type": "markdown",
   "metadata": {},
   "source": [
    "## Creating a csv file from scrapped data"
   ]
  },
  {
   "cell_type": "code",
   "execution_count": 149,
   "metadata": {},
   "outputs": [],
   "source": [
    "#This function allows to merge multiple offers data into a list of data dictionaries in json format \n",
    "#and then transform them into o DataFrame\n",
    "\n",
    "def Offer_database(offers_list,time,directory):\n",
    "    data=[]\n",
    "    failed_extractions=0\n",
    "    for i in range(0, len(offers_list)):\n",
    "        \n",
    "        #Each loops tries to extract data from one offer until \"time\" amount of seconds is exceeded. Exceeding time limit \n",
    "        #passes the loop to the next offer\n",
    "        \n",
    "        with time_limit(time, 'sleep'):\n",
    "            try:\n",
    "                offer=offers_list[i]\n",
    "                if np.mod(i,100)==0:\n",
    "                    print(\"Extraction: {}/{} at:{}\".format(i+1,len(offers_list),str(datetime.now())[:-7] ))\n",
    "                offer_data=Extract_data(offer)\n",
    "                data.append(offer_data)\n",
    "               \n",
    "            \n",
    "                \n",
    "            \n",
    "\n",
    "            except:\n",
    "                print(\"Extraction: {}/{}  !!FAILED!!\".format(i+1,len(offers_list)))\n",
    "                failed_extractions=failed_extractions+1\n",
    "                pass\n",
    "            \n",
    "    #After trying to scrap data from all offers, the summary of results is printed.\n",
    "    \n",
    "    print(\"\\n------------------------------------------\\n\")\n",
    "    print(\"Sucessfully Extracted: {}/{} offers \\nErrors:{}\".format((i-failed_extractions+1),i+1,failed_extractions))\n",
    "    \n",
    "    #Then data is converted from json to DataFrame and saved as a csv file in given directory\n",
    "    \n",
    "    data_json=json.dumps(data)\n",
    "    df=pd.read_json(data_json, orient='records')\n",
    "    \n",
    "    timestring=str(datetime.utcnow().time())[:8]\n",
    "    timestring=timestring.replace(\":\",\"-\")\n",
    "    timestring\n",
    "    print(\"Saving {} offers at{}\".format(i-failed_extractions+1,directory+\"/\"+timestring+\".csv\"))\n",
    "   \n",
    "    df.to_csv(directory+\"/\"+timestring+\".csv\")  \n",
    "\n",
    "        "
   ]
  },
  {
   "cell_type": "markdown",
   "metadata": {},
   "source": [
    "## Splitting data extraction into batches"
   ]
  },
  {
   "cell_type": "markdown",
   "metadata": {},
   "source": [
    "After initial attempt to use function from 4.2. on a list of 2k+ offers, I realized that this sort of extraction is not the most effective due to high memory and disc usage. I decided to divide the extraction into batches of n offers."
   ]
  },
  {
   "cell_type": "code",
   "execution_count": 150,
   "metadata": {},
   "outputs": [],
   "source": [
    "# Create a function to split offers into a list of lists not exceeding batch_size\n",
    "def split_offers(offer_list, batch_size):\n",
    "    offers_split=[offer_list[x:x+batch_size] for x in range(0, len(offer_list), batch_size)]\n",
    "    return(offers_split)"
   ]
  },
  {
   "cell_type": "code",
   "execution_count": 151,
   "metadata": {},
   "outputs": [],
   "source": [
    "#Loop over Offer_database function for each batch of offers and save them in one folder with today's date\n",
    "def Offer_database_batches(offers_list, time, batch_size,folder_name):\n",
    "    import os\n",
    "    todayDate = str(datetime.utcnow().date())\n",
    "    directory = './'+folder_name+\"_\" + todayDate\n",
    "    if not os.path.exists(directory):\n",
    "        os.makedirs(directory)\n",
    "    \n",
    "    \n",
    "    offers_split=split_offers(offers_list, batch_size)\n",
    "    for i in range(0, len(offers_split)):\n",
    "        print(\"Starting Batch no.{}/{}\\n\".format(i+1,len(offers_split)))\n",
    "        offers=offers_split[i]\n",
    "        Offer_database(offers,time,directory)\n",
    "        print(\"\\n------------------------------------------\\nFinished Batch no.{}/{}\\n\\n\".format(i+1,len(offers_split)))"
   ]
  },
  {
   "cell_type": "code",
   "execution_count": 152,
   "metadata": {},
   "outputs": [
    {
     "data": {
      "text/plain": [
       "2160"
      ]
     },
     "execution_count": 152,
     "metadata": {},
     "output_type": "execute_result"
    }
   ],
   "source": [
    "len(all_offers)"
   ]
  },
  {
   "cell_type": "markdown",
   "metadata": {},
   "source": [
    "We have 2160 offers extracted from our initial link. Let's extract them in batches of 500 and save as 5 csv files, which we will merge later. The timeout limit has been set to 20s."
   ]
  },
  {
   "cell_type": "code",
   "execution_count": 153,
   "metadata": {},
   "outputs": [
    {
     "name": "stdout",
     "output_type": "stream",
     "text": [
      "Starting Batch no.1/5\n",
      "\n",
      "Extraction: 1/500 at:2020-04-10 10:40:19\n",
      "Extraction: 101/500 at:2020-04-10 10:41:18\n",
      "Extraction: 201/500 at:2020-04-10 10:42:17\n",
      "Extraction: 226/500  !!FAILED!!\n",
      "\n",
      "Extraction: 301/500 at:2020-04-10 10:43:17\n",
      "Extraction: 401/500 at:2020-04-10 10:44:16\n",
      "\n",
      "------------------------------------------\n",
      "\n",
      "Sucessfully Extracted: 499/500 offers \n",
      "Errors:1\n",
      "Saving 499 offers at./BMW_Database_2020-04-10/08-45-16.csv\n",
      "\n",
      "------------------------------------------\n",
      "Finished Batch no.1/5\n",
      "\n",
      "\n",
      "Starting Batch no.2/5\n",
      "\n",
      "Extraction: 1/500 at:2020-04-10 10:45:16\n",
      "Extraction: 101/500 at:2020-04-10 10:46:29\n",
      "Extraction: 201/500 at:2020-04-10 10:47:29\n",
      "Extraction: 301/500 at:2020-04-10 10:48:29\n",
      "Extraction: 401/500 at:2020-04-10 10:49:28\n",
      "Extraction: 426/500  !!FAILED!!\n",
      "\n",
      "\n",
      "------------------------------------------\n",
      "\n",
      "Sucessfully Extracted: 499/500 offers \n",
      "Errors:1\n",
      "Saving 499 offers at./BMW_Database_2020-04-10/08-50-27.csv\n",
      "\n",
      "------------------------------------------\n",
      "Finished Batch no.2/5\n",
      "\n",
      "\n",
      "Starting Batch no.3/5\n",
      "\n",
      "Extraction: 1/500 at:2020-04-10 10:50:27\n",
      "Extraction: 50/500  !!FAILED!!\n",
      "\n",
      "Extraction: 101/500 at:2020-04-10 10:51:45\n",
      "Extraction: 201/500 at:2020-04-10 10:52:45\n",
      "Extraction: 301/500 at:2020-04-10 10:53:47\n",
      "Extraction: 401/500 at:2020-04-10 10:54:46\n",
      "\n",
      "------------------------------------------\n",
      "\n",
      "Sucessfully Extracted: 499/500 offers \n",
      "Errors:1\n",
      "Saving 499 offers at./BMW_Database_2020-04-10/08-55-48.csv\n",
      "\n",
      "------------------------------------------\n",
      "Finished Batch no.3/5\n",
      "\n",
      "\n",
      "Starting Batch no.4/5\n",
      "\n",
      "Extraction: 1/500 at:2020-04-10 10:55:48\n",
      "Extraction: 60/500  !!FAILED!!\n",
      "\n",
      "Extraction: 101/500 at:2020-04-10 10:57:06\n",
      "Extraction: 201/500 at:2020-04-10 10:58:06\n",
      "Extraction: 301/500 at:2020-04-10 10:59:08\n",
      "Extraction: 401/500 at:2020-04-10 11:00:08\n",
      "\n",
      "------------------------------------------\n",
      "\n",
      "Sucessfully Extracted: 499/500 offers \n",
      "Errors:1\n",
      "Saving 499 offers at./BMW_Database_2020-04-10/09-01-11.csv\n",
      "\n",
      "------------------------------------------\n",
      "Finished Batch no.4/5\n",
      "\n",
      "\n",
      "Starting Batch no.5/5\n",
      "\n",
      "Extraction: 1/160 at:2020-04-10 11:01:11\n",
      "Extraction: 101/160 at:2020-04-10 11:02:29\n",
      "\n",
      "------------------------------------------\n",
      "\n",
      "Sucessfully Extracted: 160/160 offers \n",
      "Errors:0\n",
      "Saving 160 offers at./BMW_Database_2020-04-10/09-03-07.csv\n",
      "\n",
      "------------------------------------------\n",
      "Finished Batch no.5/5\n",
      "\n",
      "\n"
     ]
    }
   ],
   "source": [
    "Offer_database_batches(all_offers,20,500,\"BMW_Database\")"
   ]
  },
  {
   "cell_type": "code",
   "execution_count": null,
   "metadata": {},
   "outputs": [],
   "source": []
  },
  {
   "cell_type": "code",
   "execution_count": null,
   "metadata": {},
   "outputs": [],
   "source": []
  },
  {
   "cell_type": "code",
   "execution_count": null,
   "metadata": {},
   "outputs": [],
   "source": []
  },
  {
   "cell_type": "code",
   "execution_count": null,
   "metadata": {},
   "outputs": [],
   "source": []
  },
  {
   "cell_type": "code",
   "execution_count": null,
   "metadata": {},
   "outputs": [],
   "source": []
  }
 ],
 "metadata": {
  "kernelspec": {
   "display_name": "Python 3",
   "language": "python",
   "name": "python3"
  },
  "language_info": {
   "codemirror_mode": {
    "name": "ipython",
    "version": 3
   },
   "file_extension": ".py",
   "mimetype": "text/x-python",
   "name": "python",
   "nbconvert_exporter": "python",
   "pygments_lexer": "ipython3",
   "version": "3.7.3"
  },
  "toc": {
   "base_numbering": 1,
   "nav_menu": {},
   "number_sections": true,
   "sideBar": true,
   "skip_h1_title": false,
   "title_cell": "Table of Contents",
   "title_sidebar": "Contents",
   "toc_cell": true,
   "toc_position": {
    "height": "calc(100% - 180px)",
    "left": "10px",
    "top": "150px",
    "width": "352px"
   },
   "toc_section_display": true,
   "toc_window_display": true
  }
 },
 "nbformat": 4,
 "nbformat_minor": 2
}
