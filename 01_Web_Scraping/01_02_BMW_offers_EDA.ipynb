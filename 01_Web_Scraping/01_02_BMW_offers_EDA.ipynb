{
 "cells": [
  {
   "cell_type": "markdown",
   "metadata": {
    "toc": true
   },
   "source": [
    "<h1>Table of Contents<span class=\"tocSkip\"></span></h1>\n",
    "<div class=\"toc\"><ul class=\"toc-item\"><li><span><a href=\"#Project-overview\" data-toc-modified-id=\"Project-overview-1\"><span class=\"toc-item-num\">1&nbsp;&nbsp;</span>Project overview</a></span><ul class=\"toc-item\"><li><span><a href=\"#As--plotly-visualizations-are-not-read-on-GitHub-please-paste-GitHub-link-to-https://nbviewer.jupyter.org/-to-access-graphs\" data-toc-modified-id=\"As--plotly-visualizations-are-not-read-on-GitHub-please-paste-GitHub-link-to-https://nbviewer.jupyter.org/-to-access-graphs-1.1\"><span class=\"toc-item-num\">1.1&nbsp;&nbsp;</span>As  plotly visualizations are not read on GitHub please paste GitHub link to <a href=\"https://nbviewer.jupyter.org/\" target=\"_blank\">https://nbviewer.jupyter.org/</a> to access graphs</a></span></li></ul></li><li><span><a href=\"#Importing-and-merging-web-data\" data-toc-modified-id=\"Importing-and-merging-web-data-2\"><span class=\"toc-item-num\">2&nbsp;&nbsp;</span>Importing and merging web data</a></span><ul class=\"toc-item\"><li><span><a href=\"#Removing-duplicate-entries\" data-toc-modified-id=\"Removing-duplicate-entries-2.1\"><span class=\"toc-item-num\">2.1&nbsp;&nbsp;</span>Removing duplicate entries</a></span></li><li><span><a href=\"#Removing-offers-with-damaged-cars\" data-toc-modified-id=\"Removing-offers-with-damaged-cars-2.2\"><span class=\"toc-item-num\">2.2&nbsp;&nbsp;</span>Removing offers with damaged cars</a></span></li></ul></li><li><span><a href=\"#Extracting-most-meaningfull-data\" data-toc-modified-id=\"Extracting-most-meaningfull-data-3\"><span class=\"toc-item-num\">3&nbsp;&nbsp;</span>Extracting most meaningfull data</a></span><ul class=\"toc-item\"><li><span><a href=\"#Selecting-key-features-and-translating-labels-from-Polish\" data-toc-modified-id=\"Selecting-key-features-and-translating-labels-from-Polish-3.1\"><span class=\"toc-item-num\">3.1&nbsp;&nbsp;</span>Selecting key features and translating labels from Polish</a></span></li><li><span><a href='#Converting-\"object\"-values-to-convert-to-\"float\"?' data-toc-modified-id='Converting-\"object\"-values-to-convert-to-\"float\"?-3.2'><span class=\"toc-item-num\">3.2&nbsp;&nbsp;</span>Converting \"object\" values to convert to \"float\"?</a></span></li></ul></li><li><span><a href=\"#What-cars-do-we-have-in-our-sample?\" data-toc-modified-id=\"What-cars-do-we-have-in-our-sample?-4\"><span class=\"toc-item-num\">4&nbsp;&nbsp;</span>What cars do we have in our sample?</a></span><ul class=\"toc-item\"><li><span><a href=\"#Production-year-and-condition\" data-toc-modified-id=\"Production-year-and-condition-4.1\"><span class=\"toc-item-num\">4.1&nbsp;&nbsp;</span>Production year and condition</a></span></li><li><span><a href=\"#What-models-do-we-have?\" data-toc-modified-id=\"What-models-do-we-have?-4.2\"><span class=\"toc-item-num\">4.2&nbsp;&nbsp;</span>What models do we have?</a></span></li><li><span><a href=\"#Correlation-between-key-features\" data-toc-modified-id=\"Correlation-between-key-features-4.3\"><span class=\"toc-item-num\">4.3&nbsp;&nbsp;</span>Correlation between key features</a></span></li><li><span><a href=\"#Price-distribution\" data-toc-modified-id=\"Price-distribution-4.4\"><span class=\"toc-item-num\">4.4&nbsp;&nbsp;</span>Price distribution</a></span></li></ul></li><li><span><a href=\"#How-does-the-price-decrease-with-age-and-mileage\" data-toc-modified-id=\"How-does-the-price-decrease-with-age-and-mileage-5\"><span class=\"toc-item-num\">5&nbsp;&nbsp;</span>How does the price decrease with age and mileage</a></span><ul class=\"toc-item\"><li><span><a href=\"#Focusing-on-top-3-models\" data-toc-modified-id=\"Focusing-on-top-3-models-5.1\"><span class=\"toc-item-num\">5.1&nbsp;&nbsp;</span>Focusing on top 3 models</a></span></li><li><span><a href=\"#Deprecation-in-relation-to-Age\" data-toc-modified-id=\"Deprecation-in-relation-to-Age-5.2\"><span class=\"toc-item-num\">5.2&nbsp;&nbsp;</span>Deprecation in relation to Age</a></span></li><li><span><a href=\"#Deprecation-in-relation-to-Mileage\" data-toc-modified-id=\"Deprecation-in-relation-to-Mileage-5.3\"><span class=\"toc-item-num\">5.3&nbsp;&nbsp;</span>Deprecation in relation to Mileage</a></span></li></ul></li><li><span><a href=\"#Building-regression-model-describing-price\" data-toc-modified-id=\"Building-regression-model-describing-price-6\"><span class=\"toc-item-num\">6&nbsp;&nbsp;</span>Building regression model describing price</a></span><ul class=\"toc-item\"><li><span><a href=\"#Changing-categorical-features-into-one-hot-features\" data-toc-modified-id=\"Changing-categorical-features-into-one-hot-features-6.1\"><span class=\"toc-item-num\">6.1&nbsp;&nbsp;</span>Changing categorical features into one-hot features</a></span></li><li><span><a href=\"#Combining-categorical-and-continous-features\" data-toc-modified-id=\"Combining-categorical-and-continous-features-6.2\"><span class=\"toc-item-num\">6.2&nbsp;&nbsp;</span>Combining categorical and continous features</a></span></li><li><span><a href=\"#Selecting-key-features-with-Elastic-Net-Regression\" data-toc-modified-id=\"Selecting-key-features-with-Elastic-Net-Regression-6.3\"><span class=\"toc-item-num\">6.3&nbsp;&nbsp;</span>Selecting key features with Elastic Net Regression</a></span></li><li><span><a href=\"#Coefficients-interpretation-with-WLS-model\" data-toc-modified-id=\"Coefficients-interpretation-with-WLS-model-6.4\"><span class=\"toc-item-num\">6.4&nbsp;&nbsp;</span>Coefficients interpretation with WLS model</a></span></li><li><span><a href=\"#Sanity-check-of-model-interpretation\" data-toc-modified-id=\"Sanity-check-of-model-interpretation-6.5\"><span class=\"toc-item-num\">6.5&nbsp;&nbsp;</span>Sanity check of model interpretation</a></span></li></ul></li></ul></div>"
   ]
  },
  {
   "cell_type": "code",
   "execution_count": 1,
   "metadata": {},
   "outputs": [],
   "source": [
    "import numpy as np\n",
    "import pandas as pd\n",
    "import os, glob\n",
    "import re\n",
    "from random import random"
   ]
  },
  {
   "cell_type": "code",
   "execution_count": 2,
   "metadata": {},
   "outputs": [
    {
     "data": {
      "text/html": [
       "        <script type=\"text/javascript\">\n",
       "        window.PlotlyConfig = {MathJaxConfig: 'local'};\n",
       "        if (window.MathJax) {MathJax.Hub.Config({SVG: {font: \"STIX-Web\"}});}\n",
       "        if (typeof require !== 'undefined') {\n",
       "        require.undef(\"plotly\");\n",
       "        requirejs.config({\n",
       "            paths: {\n",
       "                'plotly': ['https://cdn.plot.ly/plotly-latest.min']\n",
       "            }\n",
       "        });\n",
       "        require(['plotly'], function(Plotly) {\n",
       "            window._Plotly = Plotly;\n",
       "        });\n",
       "        }\n",
       "        </script>\n",
       "        "
      ]
     },
     "metadata": {},
     "output_type": "display_data"
    }
   ],
   "source": [
    "import cufflinks\n",
    "from IPython.core.interactiveshell import InteractiveShell\n",
    "InteractiveShell.ast_node_interactivity = 'all'\n",
    "\n",
    "from plotly.offline import iplot\n",
    "cufflinks.go_offline()\n",
    "\n",
    "# Set global theme\n",
    "cufflinks.set_config_file(world_readable=True, theme='pearl')\n",
    "import plotly.figure_factory as ff\n",
    "\n",
    "\n",
    "import plotly.express as px\n",
    "import plotly.graph_objs as go\n",
    "import chart_studio.plotly as py"
   ]
  },
  {
   "cell_type": "markdown",
   "metadata": {},
   "source": [
    "# Project overview"
   ]
  },
  {
   "cell_type": "markdown",
   "metadata": {},
   "source": [
    "In the second part of this project, my aim is to explore data scrapped from Allegro. The data consists of offers for BMW cars. After initial feature exploration, I have build a simple regression model, which allows to interpret key features effect on offer price. \n",
    "\n",
    "This notebook combines ETL, visualization and statistical approach to data exploration. All the steps conducted in this part can be used as a foundation for a more advanced Machine Learning project. "
   ]
  },
  {
   "cell_type": "markdown",
   "metadata": {},
   "source": [
    "## As  plotly visualizations are not read on GitHub please paste GitHub link to https://nbviewer.jupyter.org/ to access graphs"
   ]
  },
  {
   "cell_type": "markdown",
   "metadata": {},
   "source": [
    "# Importing and merging web data"
   ]
  },
  {
   "cell_type": "code",
   "execution_count": 3,
   "metadata": {},
   "outputs": [],
   "source": [
    "# Selecting folder where the csv files are stored\n",
    "path='./BMW_database_2020-04-10'"
   ]
  },
  {
   "cell_type": "code",
   "execution_count": 4,
   "metadata": {},
   "outputs": [],
   "source": [
    "all_files=glob.glob(os.path.join(path, \"*.csv\"))"
   ]
  },
  {
   "cell_type": "code",
   "execution_count": 5,
   "metadata": {},
   "outputs": [
    {
     "data": {
      "text/plain": [
       "['./BMW_database_2020-04-10\\\\08-45-16.csv',\n",
       " './BMW_database_2020-04-10\\\\08-50-27.csv',\n",
       " './BMW_database_2020-04-10\\\\08-55-48.csv',\n",
       " './BMW_database_2020-04-10\\\\09-01-11.csv',\n",
       " './BMW_database_2020-04-10\\\\09-03-07.csv']"
      ]
     },
     "execution_count": 5,
     "metadata": {},
     "output_type": "execute_result"
    }
   ],
   "source": [
    "all_files"
   ]
  },
  {
   "cell_type": "code",
   "execution_count": 6,
   "metadata": {},
   "outputs": [],
   "source": [
    "#Merging csv all files as one DataFrame\n",
    "all_df = []\n",
    "for f in all_files:\n",
    "    df = pd.read_csv(f, sep=',')\n",
    "    df['file'] = f.split('/')[-1]\n",
    "    all_df.append(df)\n",
    "    \n",
    "merged_df = pd.concat(all_df, ignore_index=True, sort=True)\n"
   ]
  },
  {
   "cell_type": "code",
   "execution_count": 7,
   "metadata": {},
   "outputs": [
    {
     "data": {
      "text/plain": [
       "(2156, 37)"
      ]
     },
     "execution_count": 7,
     "metadata": {},
     "output_type": "execute_result"
    }
   ],
   "source": [
    "merged_df.shape"
   ]
  },
  {
   "cell_type": "code",
   "execution_count": 8,
   "metadata": {},
   "outputs": [
    {
     "data": {
      "text/plain": [
       "1688"
      ]
     },
     "execution_count": 8,
     "metadata": {},
     "output_type": "execute_result"
    }
   ],
   "source": [
    "len(merged_df.offerID.unique())"
   ]
  },
  {
   "cell_type": "markdown",
   "metadata": {},
   "source": [
    "## Removing duplicate entries"
   ]
  },
  {
   "cell_type": "code",
   "execution_count": 9,
   "metadata": {},
   "outputs": [
    {
     "data": {
      "text/plain": [
       "(1688, 37)"
      ]
     },
     "execution_count": 9,
     "metadata": {},
     "output_type": "execute_result"
    }
   ],
   "source": [
    "# Some offers were scrapped multiple times, let's select only the most recent ones\n",
    "merged_df.sort_values(by='download_date',inplace=True,ascending=False)\n",
    "merged_df.drop_duplicates(subset=\"offerID\", keep='first', inplace=True)\n",
    "merged_df.shape"
   ]
  },
  {
   "cell_type": "markdown",
   "metadata": {},
   "source": [
    "## Removing offers with damaged cars"
   ]
  },
  {
   "cell_type": "code",
   "execution_count": 10,
   "metadata": {},
   "outputs": [],
   "source": [
    "# Damaged cars have completely different characteristics and should be removed as outliers\n",
    "merged_df=merged_df.query(\"Stan!='Uszkodzony'\")"
   ]
  },
  {
   "cell_type": "markdown",
   "metadata": {},
   "source": [
    "# Extracting most meaningfull data"
   ]
  },
  {
   "cell_type": "code",
   "execution_count": 11,
   "metadata": {},
   "outputs": [
    {
     "data": {
      "text/plain": [
       "Index(['Faktura', 'Informacje dodatkowe', 'Kierownica po prawej (Anglik)',\n",
       "       'Klimatyzacja', 'Kolor', 'Kraj pochodzenia', 'Lakier', 'Liczba drzwi',\n",
       "       'Liczba miejsc', 'Moc', 'Nadwozie', 'Napęd', 'Numer VIN', 'OEM',\n",
       "       'Oferta dotyczy', 'Oświetlenie', 'Pochodzenie', 'Pojemność silnika',\n",
       "       'Przebieg', 'Rodzaj paliwa', 'Rok produkcji', 'Skrzynia biegów', 'Stan',\n",
       "       'Stan blacharsko-lakierniczy', 'Unnamed: 0', 'Uszkodzony',\n",
       "       'Wyposażenie - bezpieczeństwo', 'Wyposażenie - komfort',\n",
       "       'Wyposażenie - multimedia', 'Wyposażenie - pozostałe', 'download_date',\n",
       "       'file', 'model', 'offerID', 'price', 'serie', 'title'],\n",
       "      dtype='object')"
      ]
     },
     "execution_count": 11,
     "metadata": {},
     "output_type": "execute_result"
    }
   ],
   "source": [
    "merged_df.columns"
   ]
  },
  {
   "cell_type": "code",
   "execution_count": 12,
   "metadata": {},
   "outputs": [
    {
     "data": {
      "text/plain": [
       "Faktura                             0\n",
       "Informacje dodatkowe             1265\n",
       "Kierownica po prawej (Anglik)     607\n",
       "Klimatyzacja                        0\n",
       "Kolor                               0\n",
       "Kraj pochodzenia                  623\n",
       "Lakier                            695\n",
       "Liczba drzwi                      504\n",
       "Liczba miejsc                       0\n",
       "Moc                                 0\n",
       "Nadwozie                            0\n",
       "Napęd                              27\n",
       "Numer VIN                        1343\n",
       "OEM                                 0\n",
       "Oferta dotyczy                    493\n",
       "Oświetlenie                      1403\n",
       "Pochodzenie                      1068\n",
       "Pojemność silnika                  18\n",
       "Przebieg                            0\n",
       "Rodzaj paliwa                       0\n",
       "Rok produkcji                       0\n",
       "Skrzynia biegów                     0\n",
       "Stan                                0\n",
       "Stan blacharsko-lakierniczy      1309\n",
       "Unnamed: 0                          0\n",
       "Uszkodzony                       1566\n",
       "Wyposażenie - bezpieczeństwo     1642\n",
       "Wyposażenie - komfort            1646\n",
       "Wyposażenie - multimedia         1600\n",
       "Wyposażenie - pozostałe          1640\n",
       "download_date                       0\n",
       "file                                0\n",
       "model                               0\n",
       "offerID                             0\n",
       "price                               0\n",
       "serie                             263\n",
       "title                               0\n",
       "dtype: int64"
      ]
     },
     "execution_count": 12,
     "metadata": {},
     "output_type": "execute_result"
    }
   ],
   "source": [
    "# Checking for Null values\n",
    "merged_df.isna().sum()"
   ]
  },
  {
   "cell_type": "markdown",
   "metadata": {},
   "source": [
    "## Selecting key features and translating labels from Polish"
   ]
  },
  {
   "cell_type": "markdown",
   "metadata": {},
   "source": [
    "About half of all columns are mainly filled with Nulls and do not seem to bearing much information. Let's select only columns we are interested in, rearrange them and translate any Polish labels. "
   ]
  },
  {
   "cell_type": "code",
   "execution_count": 13,
   "metadata": {},
   "outputs": [],
   "source": [
    "# Only some features will be used in further analysis, I selected a list of features based on domain knowledge \n",
    "# and dAta completness (avoiding features with majority of Nulls)\n",
    "\n",
    "selected_features=[ 'offerID','OEM','model','serie','Rok produkcji','price',\n",
    "        'Przebieg','Rodzaj paliwa','Moc','Nadwozie','Faktura','Kierownica po prawej (Anglik)',\n",
    "       'Klimatyzacja', 'Kolor', 'Kraj pochodzenia', 'Liczba drzwi',\n",
    "       'Liczba miejsc', 'Napęd', 'Numer VIN',\n",
    "       'Pochodzenie', 'Pojemność silnika',\n",
    "        'Skrzynia biegów', 'Stan',\n",
    "        'download_date',\n",
    "        'title']"
   ]
  },
  {
   "cell_type": "code",
   "execution_count": 14,
   "metadata": {},
   "outputs": [],
   "source": [
    "df=merged_df[selected_features]"
   ]
  },
  {
   "cell_type": "code",
   "execution_count": 15,
   "metadata": {},
   "outputs": [
    {
     "data": {
      "text/plain": [
       "Index(['offerID', 'OEM', 'model', 'serie', 'Rok produkcji', 'price',\n",
       "       'Przebieg', 'Rodzaj paliwa', 'Moc', 'Nadwozie', 'Faktura',\n",
       "       'Kierownica po prawej (Anglik)', 'Klimatyzacja', 'Kolor',\n",
       "       'Kraj pochodzenia', 'Liczba drzwi', 'Liczba miejsc', 'Napęd',\n",
       "       'Numer VIN', 'Pochodzenie', 'Pojemność silnika', 'Skrzynia biegów',\n",
       "       'Stan', 'download_date', 'title'],\n",
       "      dtype='object')"
      ]
     },
     "execution_count": 15,
     "metadata": {},
     "output_type": "execute_result"
    }
   ],
   "source": [
    "df.columns"
   ]
  },
  {
   "cell_type": "code",
   "execution_count": 16,
   "metadata": {},
   "outputs": [],
   "source": [
    "# As Allegro is Polish site, majority of labels need to be translated\n",
    "\n",
    "translate_dict={'Rok produkcji':\"Production_year\",\n",
    "                'Przebieg':\"Mileage\",\n",
    "                'Rodzaj paliwa':\"Fuel\",\n",
    "                'Moc':\"Power\",\n",
    "                'Kolor':\"Colour\",\n",
    "                'Nadwozie':\"Body\",\n",
    "                'Faktura':\"Invoice\",\n",
    "                'Kierownica po prawej (Anglik)':\"Steering_wheel_config\",\n",
    "                'Klimatyzacja':\"Air_con\",\n",
    "                'Kraj pochodzenia':\"Country\",\n",
    "                'Liczba drzwi':\"Doors\",\n",
    "                'Liczba miejsc':\"Seats\",\n",
    "                'Napęd':\"Drive\",\n",
    "                'Numer VIN':\"VIN\",\n",
    "                'Pochodzenie':\"Origin\",\n",
    "                'Pojemność silnika':\"Engine_cap\",\n",
    "                'Skrzynia biegów':\"Transmission\",\n",
    "                \"Stan\":\"Condition\",\n",
    "                'Stan blacharsko-lakierniczy':\"Body_condition\",\n",
    "                'Uszkodzony':\"Damaged\"}\n",
    "                \n",
    "                \n",
    "                \n",
    "                \n",
    "                \n",
    "     \n",
    "      \n"
   ]
  },
  {
   "cell_type": "code",
   "execution_count": 17,
   "metadata": {},
   "outputs": [],
   "source": [
    "df.rename(columns=translate_dict,inplace=True)\n",
    "df[\"Condition\"]=np.where(df.Condition==\"Nowy\",\"New\",\"Used\")"
   ]
  },
  {
   "cell_type": "markdown",
   "metadata": {},
   "source": [
    "## Converting \"object\" values to convert to \"float\"?"
   ]
  },
  {
   "cell_type": "code",
   "execution_count": 18,
   "metadata": {},
   "outputs": [
    {
     "name": "stdout",
     "output_type": "stream",
     "text": [
      "<class 'pandas.core.frame.DataFrame'>\n",
      "Int64Index: 1647 entries, 2155 to 0\n",
      "Data columns (total 25 columns):\n",
      "offerID                  1647 non-null int64\n",
      "OEM                      1647 non-null object\n",
      "model                    1647 non-null object\n",
      "serie                    1384 non-null object\n",
      "Production_year          1647 non-null int64\n",
      "price                    1647 non-null float64\n",
      "Mileage                  1647 non-null object\n",
      "Fuel                     1647 non-null object\n",
      "Power                    1647 non-null object\n",
      "Body                     1647 non-null object\n",
      "Invoice                  1647 non-null object\n",
      "Steering_wheel_config    1040 non-null object\n",
      "Air_con                  1647 non-null object\n",
      "Colour                   1647 non-null object\n",
      "Country                  1024 non-null object\n",
      "Doors                    1143 non-null object\n",
      "Seats                    1647 non-null int64\n",
      "Drive                    1620 non-null object\n",
      "VIN                      304 non-null object\n",
      "Origin                   579 non-null object\n",
      "Engine_cap               1629 non-null object\n",
      "Transmission             1647 non-null object\n",
      "Condition                1647 non-null object\n",
      "download_date            1647 non-null object\n",
      "title                    1647 non-null object\n",
      "dtypes: float64(1), int64(3), object(21)\n",
      "memory usage: 334.5+ KB\n"
     ]
    }
   ],
   "source": [
    "df.info()"
   ]
  },
  {
   "cell_type": "markdown",
   "metadata": {},
   "source": [
    "Some features, where we should expect numerical values seem to currently have \"object\" type. Mileage, Power and Engine_cap should be converted to floats. "
   ]
  },
  {
   "cell_type": "code",
   "execution_count": 19,
   "metadata": {},
   "outputs": [
    {
     "data": {
      "text/html": [
       "<div>\n",
       "<style scoped>\n",
       "    .dataframe tbody tr th:only-of-type {\n",
       "        vertical-align: middle;\n",
       "    }\n",
       "\n",
       "    .dataframe tbody tr th {\n",
       "        vertical-align: top;\n",
       "    }\n",
       "\n",
       "    .dataframe thead th {\n",
       "        text-align: right;\n",
       "    }\n",
       "</style>\n",
       "<table border=\"1\" class=\"dataframe\">\n",
       "  <thead>\n",
       "    <tr style=\"text-align: right;\">\n",
       "      <th></th>\n",
       "      <th>offerID</th>\n",
       "      <th>OEM</th>\n",
       "      <th>model</th>\n",
       "      <th>serie</th>\n",
       "      <th>Production_year</th>\n",
       "      <th>price</th>\n",
       "      <th>Mileage</th>\n",
       "      <th>Fuel</th>\n",
       "      <th>Power</th>\n",
       "      <th>Body</th>\n",
       "      <th>...</th>\n",
       "      <th>Doors</th>\n",
       "      <th>Seats</th>\n",
       "      <th>Drive</th>\n",
       "      <th>VIN</th>\n",
       "      <th>Origin</th>\n",
       "      <th>Engine_cap</th>\n",
       "      <th>Transmission</th>\n",
       "      <th>Condition</th>\n",
       "      <th>download_date</th>\n",
       "      <th>title</th>\n",
       "    </tr>\n",
       "  </thead>\n",
       "  <tbody>\n",
       "    <tr>\n",
       "      <th>2155</th>\n",
       "      <td>9105409573</td>\n",
       "      <td>BMW</td>\n",
       "      <td>Seria 5</td>\n",
       "      <td>E12 (1972-1981)</td>\n",
       "      <td>2016</td>\n",
       "      <td>124900.01</td>\n",
       "      <td>93220 km</td>\n",
       "      <td>Diesel</td>\n",
       "      <td>190 KM</td>\n",
       "      <td>Sedan</td>\n",
       "      <td>...</td>\n",
       "      <td>4/5</td>\n",
       "      <td>5</td>\n",
       "      <td>4x4</td>\n",
       "      <td>NaN</td>\n",
       "      <td>NaN</td>\n",
       "      <td>1995 cm³</td>\n",
       "      <td>Automatyczna</td>\n",
       "      <td>Used</td>\n",
       "      <td>2020-04-10 11:03:07.012501</td>\n",
       "      <td>BMW Seria 5 F10/F11 9105409573 - Allegro.pl</td>\n",
       "    </tr>\n",
       "    <tr>\n",
       "      <th>2154</th>\n",
       "      <td>9093309198</td>\n",
       "      <td>BMW</td>\n",
       "      <td>Seria 5</td>\n",
       "      <td>E12 (1972-1981)</td>\n",
       "      <td>2015</td>\n",
       "      <td>75900.00</td>\n",
       "      <td>133615 km</td>\n",
       "      <td>Diesel</td>\n",
       "      <td>190 KM</td>\n",
       "      <td>Kombi</td>\n",
       "      <td>...</td>\n",
       "      <td>4/5</td>\n",
       "      <td>5</td>\n",
       "      <td>Na tylne koła</td>\n",
       "      <td>WBA5L31020G480897</td>\n",
       "      <td>NaN</td>\n",
       "      <td>1995 cm³</td>\n",
       "      <td>Automatyczna</td>\n",
       "      <td>Used</td>\n",
       "      <td>2020-04-10 11:03:06.421822</td>\n",
       "      <td>BMW Seria 5 F10/F11 9093309198 - Allegro.pl</td>\n",
       "    </tr>\n",
       "    <tr>\n",
       "      <th>2152</th>\n",
       "      <td>7976181816</td>\n",
       "      <td>BMW</td>\n",
       "      <td>Seria 3</td>\n",
       "      <td>E30 (1982-1994)</td>\n",
       "      <td>1992</td>\n",
       "      <td>19900.00</td>\n",
       "      <td>220000 km</td>\n",
       "      <td>Benzyna</td>\n",
       "      <td>115 KM</td>\n",
       "      <td>Kabriolet</td>\n",
       "      <td>...</td>\n",
       "      <td>2/3</td>\n",
       "      <td>5</td>\n",
       "      <td>Na tylne koła</td>\n",
       "      <td>NaN</td>\n",
       "      <td>import</td>\n",
       "      <td>1800 cm³</td>\n",
       "      <td>Manualna</td>\n",
       "      <td>Used</td>\n",
       "      <td>2020-04-10 11:03:05.275477</td>\n",
       "      <td>BMW E30 CABRIO 318 ORGINAŁ NOWY DACH 797618181...</td>\n",
       "    </tr>\n",
       "    <tr>\n",
       "      <th>2151</th>\n",
       "      <td>9151661296</td>\n",
       "      <td>BMW</td>\n",
       "      <td>Seria 3</td>\n",
       "      <td>F30 (2012-)</td>\n",
       "      <td>2013</td>\n",
       "      <td>38900.00</td>\n",
       "      <td>200459 km</td>\n",
       "      <td>Diesel</td>\n",
       "      <td>136 KM</td>\n",
       "      <td>Kombi</td>\n",
       "      <td>...</td>\n",
       "      <td>4/5</td>\n",
       "      <td>5</td>\n",
       "      <td>Na tylne koła</td>\n",
       "      <td>WBA3K11040F826260</td>\n",
       "      <td>import</td>\n",
       "      <td>1995 cm³</td>\n",
       "      <td>Manualna</td>\n",
       "      <td>Used</td>\n",
       "      <td>2020-04-10 11:03:04.739784</td>\n",
       "      <td>318d-Navi-Skóra-Rolety 9151661296 - Allegro.pl</td>\n",
       "    </tr>\n",
       "    <tr>\n",
       "      <th>2150</th>\n",
       "      <td>9149274274</td>\n",
       "      <td>BMW</td>\n",
       "      <td>Seria 5</td>\n",
       "      <td>E39 (1996-2003)</td>\n",
       "      <td>2002</td>\n",
       "      <td>12500.00</td>\n",
       "      <td>207000 km</td>\n",
       "      <td>Benzyna</td>\n",
       "      <td>231 KM</td>\n",
       "      <td>Sedan</td>\n",
       "      <td>...</td>\n",
       "      <td>NaN</td>\n",
       "      <td>5</td>\n",
       "      <td>Na tylne koła</td>\n",
       "      <td>NaN</td>\n",
       "      <td>NaN</td>\n",
       "      <td>2979 cm³</td>\n",
       "      <td>Automatyczna</td>\n",
       "      <td>Used</td>\n",
       "      <td>2020-04-10 11:03:04.236071</td>\n",
       "      <td>Bmw 5 E39 530i z Niemiec 2002 aut. 231KM 91492...</td>\n",
       "    </tr>\n",
       "  </tbody>\n",
       "</table>\n",
       "<p>5 rows × 25 columns</p>\n",
       "</div>"
      ],
      "text/plain": [
       "         offerID  OEM    model            serie  Production_year      price  \\\n",
       "2155  9105409573  BMW  Seria 5  E12 (1972-1981)             2016  124900.01   \n",
       "2154  9093309198  BMW  Seria 5  E12 (1972-1981)             2015   75900.00   \n",
       "2152  7976181816  BMW  Seria 3  E30 (1982-1994)             1992   19900.00   \n",
       "2151  9151661296  BMW  Seria 3      F30 (2012-)             2013   38900.00   \n",
       "2150  9149274274  BMW  Seria 5  E39 (1996-2003)             2002   12500.00   \n",
       "\n",
       "        Mileage     Fuel   Power       Body  ... Doors Seats          Drive  \\\n",
       "2155   93220 km   Diesel  190 KM      Sedan  ...   4/5     5            4x4   \n",
       "2154  133615 km   Diesel  190 KM      Kombi  ...   4/5     5  Na tylne koła   \n",
       "2152  220000 km  Benzyna  115 KM  Kabriolet  ...   2/3     5  Na tylne koła   \n",
       "2151  200459 km   Diesel  136 KM      Kombi  ...   4/5     5  Na tylne koła   \n",
       "2150  207000 km  Benzyna  231 KM      Sedan  ...   NaN     5  Na tylne koła   \n",
       "\n",
       "                    VIN  Origin Engine_cap  Transmission Condition  \\\n",
       "2155                NaN     NaN   1995 cm³  Automatyczna      Used   \n",
       "2154  WBA5L31020G480897     NaN   1995 cm³  Automatyczna      Used   \n",
       "2152                NaN  import   1800 cm³      Manualna      Used   \n",
       "2151  WBA3K11040F826260  import   1995 cm³      Manualna      Used   \n",
       "2150                NaN     NaN   2979 cm³  Automatyczna      Used   \n",
       "\n",
       "                   download_date  \\\n",
       "2155  2020-04-10 11:03:07.012501   \n",
       "2154  2020-04-10 11:03:06.421822   \n",
       "2152  2020-04-10 11:03:05.275477   \n",
       "2151  2020-04-10 11:03:04.739784   \n",
       "2150  2020-04-10 11:03:04.236071   \n",
       "\n",
       "                                                  title  \n",
       "2155        BMW Seria 5 F10/F11 9105409573 - Allegro.pl  \n",
       "2154        BMW Seria 5 F10/F11 9093309198 - Allegro.pl  \n",
       "2152  BMW E30 CABRIO 318 ORGINAŁ NOWY DACH 797618181...  \n",
       "2151     318d-Navi-Skóra-Rolety 9151661296 - Allegro.pl  \n",
       "2150  Bmw 5 E39 530i z Niemiec 2002 aut. 231KM 91492...  \n",
       "\n",
       "[5 rows x 25 columns]"
      ]
     },
     "execution_count": 19,
     "metadata": {},
     "output_type": "execute_result"
    }
   ],
   "source": [
    "df.head()"
   ]
  },
  {
   "cell_type": "markdown",
   "metadata": {},
   "source": [
    "Do Object values have different UoMs?"
   ]
  },
  {
   "cell_type": "code",
   "execution_count": 20,
   "metadata": {},
   "outputs": [],
   "source": [
    "df[\"Mileage_UOM\"]=df.Mileage.apply(lambda x:re.findall(\"[a-zA-Z]+\", x)[0])\n",
    "df[\"Power_UOM\"]=df.Power.apply(lambda x:re.findall(\"[a-zA-Z]+\", x)[0])\n",
    "df[\"Engine_cap_UOM\"]=df.Engine_cap.apply(lambda x:str(x)[-3:])"
   ]
  },
  {
   "cell_type": "code",
   "execution_count": 21,
   "metadata": {},
   "outputs": [
    {
     "data": {
      "text/plain": [
       "Index(['offerID', 'OEM', 'model', 'serie', 'Production_year', 'price',\n",
       "       'Mileage', 'Fuel', 'Power', 'Body', 'Invoice', 'Steering_wheel_config',\n",
       "       'Air_con', 'Colour', 'Country', 'Doors', 'Seats', 'Drive', 'VIN',\n",
       "       'Origin', 'Engine_cap', 'Transmission', 'Condition', 'download_date',\n",
       "       'title', 'Mileage_UOM', 'Power_UOM', 'Engine_cap_UOM'],\n",
       "      dtype='object')"
      ]
     },
     "execution_count": 21,
     "metadata": {},
     "output_type": "execute_result"
    }
   ],
   "source": [
    "df.columns"
   ]
  },
  {
   "cell_type": "code",
   "execution_count": 22,
   "metadata": {},
   "outputs": [
    {
     "name": "stdout",
     "output_type": "stream",
     "text": [
      "['km']\n",
      "['KM']\n",
      "['cm³' 'nan']\n"
     ]
    }
   ],
   "source": [
    "for uom in ['Mileage_UOM', 'Power_UOM', 'Engine_cap_UOM']:\n",
    "    print(df[uom].unique())"
   ]
  },
  {
   "cell_type": "markdown",
   "metadata": {},
   "source": [
    "Both Mileage and Engine power have only single UOM, engine capacity needs further investigation"
   ]
  },
  {
   "cell_type": "code",
   "execution_count": 23,
   "metadata": {},
   "outputs": [
    {
     "data": {
      "text/html": [
       "<div>\n",
       "<style scoped>\n",
       "    .dataframe tbody tr th:only-of-type {\n",
       "        vertical-align: middle;\n",
       "    }\n",
       "\n",
       "    .dataframe tbody tr th {\n",
       "        vertical-align: top;\n",
       "    }\n",
       "\n",
       "    .dataframe thead th {\n",
       "        text-align: right;\n",
       "    }\n",
       "</style>\n",
       "<table border=\"1\" class=\"dataframe\">\n",
       "  <thead>\n",
       "    <tr style=\"text-align: right;\">\n",
       "      <th></th>\n",
       "      <th>offerID</th>\n",
       "      <th>OEM</th>\n",
       "      <th>model</th>\n",
       "      <th>serie</th>\n",
       "      <th>Production_year</th>\n",
       "      <th>price</th>\n",
       "      <th>Mileage</th>\n",
       "      <th>Fuel</th>\n",
       "      <th>Power</th>\n",
       "      <th>Body</th>\n",
       "      <th>...</th>\n",
       "      <th>VIN</th>\n",
       "      <th>Origin</th>\n",
       "      <th>Engine_cap</th>\n",
       "      <th>Transmission</th>\n",
       "      <th>Condition</th>\n",
       "      <th>download_date</th>\n",
       "      <th>title</th>\n",
       "      <th>Mileage_UOM</th>\n",
       "      <th>Power_UOM</th>\n",
       "      <th>Engine_cap_UOM</th>\n",
       "    </tr>\n",
       "  </thead>\n",
       "  <tbody>\n",
       "    <tr>\n",
       "      <th>2106</th>\n",
       "      <td>9056186750</td>\n",
       "      <td>BMW</td>\n",
       "      <td>i3</td>\n",
       "      <td>NaN</td>\n",
       "      <td>2016</td>\n",
       "      <td>105000.00</td>\n",
       "      <td>15000 km</td>\n",
       "      <td>Elektryczny</td>\n",
       "      <td>170 KM</td>\n",
       "      <td>Hatchback</td>\n",
       "      <td>...</td>\n",
       "      <td>NaN</td>\n",
       "      <td>import</td>\n",
       "      <td>NaN</td>\n",
       "      <td>Automatyczna</td>\n",
       "      <td>Used</td>\n",
       "      <td>2020-04-10 11:02:35.405004</td>\n",
       "      <td>BMW i3 REX Najbogatsze wyposażenie SKÓRA/DUŻA ...</td>\n",
       "      <td>km</td>\n",
       "      <td>KM</td>\n",
       "      <td>nan</td>\n",
       "    </tr>\n",
       "    <tr>\n",
       "      <th>2075</th>\n",
       "      <td>8669675888</td>\n",
       "      <td>BMW</td>\n",
       "      <td>i3</td>\n",
       "      <td>NaN</td>\n",
       "      <td>2018</td>\n",
       "      <td>124900.01</td>\n",
       "      <td>6400 km</td>\n",
       "      <td>Elektryczny</td>\n",
       "      <td>170 KM</td>\n",
       "      <td>Hatchback</td>\n",
       "      <td>...</td>\n",
       "      <td>NaN</td>\n",
       "      <td>krajowe</td>\n",
       "      <td>NaN</td>\n",
       "      <td>Automatyczna</td>\n",
       "      <td>Used</td>\n",
       "      <td>2020-04-10 11:02:16.673817</td>\n",
       "      <td>BMW i3 8669675888 - Allegro.pl</td>\n",
       "      <td>km</td>\n",
       "      <td>KM</td>\n",
       "      <td>nan</td>\n",
       "    </tr>\n",
       "    <tr>\n",
       "      <th>2047</th>\n",
       "      <td>8764955359</td>\n",
       "      <td>BMW</td>\n",
       "      <td>i3</td>\n",
       "      <td>NaN</td>\n",
       "      <td>2019</td>\n",
       "      <td>208900.00</td>\n",
       "      <td>5 km</td>\n",
       "      <td>Elektryczny</td>\n",
       "      <td>184 KM</td>\n",
       "      <td>Hatchback</td>\n",
       "      <td>...</td>\n",
       "      <td>NaN</td>\n",
       "      <td>NaN</td>\n",
       "      <td>NaN</td>\n",
       "      <td>Automatyczna</td>\n",
       "      <td>New</td>\n",
       "      <td>2020-04-10 11:02:00.176263</td>\n",
       "      <td>BMW i3 8764955359 - Allegro.pl</td>\n",
       "      <td>km</td>\n",
       "      <td>KM</td>\n",
       "      <td>nan</td>\n",
       "    </tr>\n",
       "    <tr>\n",
       "      <th>2030</th>\n",
       "      <td>8849280056</td>\n",
       "      <td>BMW</td>\n",
       "      <td>i3</td>\n",
       "      <td>NaN</td>\n",
       "      <td>2018</td>\n",
       "      <td>104900.00</td>\n",
       "      <td>10670 km</td>\n",
       "      <td>Elektryczny</td>\n",
       "      <td>170 KM</td>\n",
       "      <td>Hatchback</td>\n",
       "      <td>...</td>\n",
       "      <td>NaN</td>\n",
       "      <td>NaN</td>\n",
       "      <td>NaN</td>\n",
       "      <td>Automatyczna</td>\n",
       "      <td>Used</td>\n",
       "      <td>2020-04-10 11:01:48.909339</td>\n",
       "      <td>BMW i3 8849280056 - Allegro.pl</td>\n",
       "      <td>km</td>\n",
       "      <td>KM</td>\n",
       "      <td>nan</td>\n",
       "    </tr>\n",
       "    <tr>\n",
       "      <th>1998</th>\n",
       "      <td>8764957097</td>\n",
       "      <td>BMW</td>\n",
       "      <td>i3</td>\n",
       "      <td>NaN</td>\n",
       "      <td>2018</td>\n",
       "      <td>139900.00</td>\n",
       "      <td>8200 km</td>\n",
       "      <td>Elektryczny</td>\n",
       "      <td>170 KM</td>\n",
       "      <td>Hatchback</td>\n",
       "      <td>...</td>\n",
       "      <td>NaN</td>\n",
       "      <td>NaN</td>\n",
       "      <td>NaN</td>\n",
       "      <td>Automatyczna</td>\n",
       "      <td>Used</td>\n",
       "      <td>2020-04-10 11:01:13.449024</td>\n",
       "      <td>BMW i3 8764957097 - Allegro.pl</td>\n",
       "      <td>km</td>\n",
       "      <td>KM</td>\n",
       "      <td>nan</td>\n",
       "    </tr>\n",
       "  </tbody>\n",
       "</table>\n",
       "<p>5 rows × 28 columns</p>\n",
       "</div>"
      ],
      "text/plain": [
       "         offerID  OEM model serie  Production_year      price   Mileage  \\\n",
       "2106  9056186750  BMW    i3   NaN             2016  105000.00  15000 km   \n",
       "2075  8669675888  BMW    i3   NaN             2018  124900.01   6400 km   \n",
       "2047  8764955359  BMW    i3   NaN             2019  208900.00      5 km   \n",
       "2030  8849280056  BMW    i3   NaN             2018  104900.00  10670 km   \n",
       "1998  8764957097  BMW    i3   NaN             2018  139900.00   8200 km   \n",
       "\n",
       "             Fuel   Power       Body  ...  VIN   Origin Engine_cap  \\\n",
       "2106  Elektryczny  170 KM  Hatchback  ...  NaN   import        NaN   \n",
       "2075  Elektryczny  170 KM  Hatchback  ...  NaN  krajowe        NaN   \n",
       "2047  Elektryczny  184 KM  Hatchback  ...  NaN      NaN        NaN   \n",
       "2030  Elektryczny  170 KM  Hatchback  ...  NaN      NaN        NaN   \n",
       "1998  Elektryczny  170 KM  Hatchback  ...  NaN      NaN        NaN   \n",
       "\n",
       "      Transmission Condition               download_date  \\\n",
       "2106  Automatyczna      Used  2020-04-10 11:02:35.405004   \n",
       "2075  Automatyczna      Used  2020-04-10 11:02:16.673817   \n",
       "2047  Automatyczna       New  2020-04-10 11:02:00.176263   \n",
       "2030  Automatyczna      Used  2020-04-10 11:01:48.909339   \n",
       "1998  Automatyczna      Used  2020-04-10 11:01:13.449024   \n",
       "\n",
       "                                                  title Mileage_UOM Power_UOM  \\\n",
       "2106  BMW i3 REX Najbogatsze wyposażenie SKÓRA/DUŻA ...          km        KM   \n",
       "2075                     BMW i3 8669675888 - Allegro.pl          km        KM   \n",
       "2047                     BMW i3 8764955359 - Allegro.pl          km        KM   \n",
       "2030                     BMW i3 8849280056 - Allegro.pl          km        KM   \n",
       "1998                     BMW i3 8764957097 - Allegro.pl          km        KM   \n",
       "\n",
       "     Engine_cap_UOM  \n",
       "2106            nan  \n",
       "2075            nan  \n",
       "2047            nan  \n",
       "2030            nan  \n",
       "1998            nan  \n",
       "\n",
       "[5 rows x 28 columns]"
      ]
     },
     "execution_count": 23,
     "metadata": {},
     "output_type": "execute_result"
    }
   ],
   "source": [
    "df[df.Engine_cap_UOM!='cm³'].head()"
   ]
  },
  {
   "cell_type": "code",
   "execution_count": 24,
   "metadata": {},
   "outputs": [
    {
     "data": {
      "text/plain": [
       "array(['Elektryczny'], dtype=object)"
      ]
     },
     "execution_count": 24,
     "metadata": {},
     "output_type": "execute_result"
    }
   ],
   "source": [
    "df[df.Engine_cap_UOM!='cm³'].Fuel.unique()"
   ]
  },
  {
   "cell_type": "markdown",
   "metadata": {},
   "source": [
    "Only Electric cars do not have engine capacity, which is not a data quality issue. Knowing that UOMs do not carry any usefull information, we can leave only numerical data for these 3 features. "
   ]
  },
  {
   "cell_type": "code",
   "execution_count": 25,
   "metadata": {},
   "outputs": [],
   "source": [
    "df[\"Engine_cap\"]=np.where(df.Engine_cap_UOM!='cm³',\"0\",df.Engine_cap)"
   ]
  },
  {
   "cell_type": "code",
   "execution_count": 26,
   "metadata": {},
   "outputs": [],
   "source": [
    "df[\"Mileage\"]=df.Mileage.apply(lambda x:int(re.findall(r'\\d+', x)[0]))\n",
    "df[\"Power\"]=df.Power.apply(lambda x:int(re.findall(r'\\d+', x)[0]))\n",
    "df[\"Engine_cap\"]=df.Engine_cap.apply(lambda x:int(re.findall(r'\\d+', x)[0]))\n"
   ]
  },
  {
   "cell_type": "code",
   "execution_count": 27,
   "metadata": {},
   "outputs": [],
   "source": [
    "df[\"Age\"]=2020-df[\"Production_year\"]\n",
    "df[\"Age_noise\"]=df.Age.apply(lambda x: x+random())\n"
   ]
  },
  {
   "cell_type": "code",
   "execution_count": 28,
   "metadata": {},
   "outputs": [],
   "source": [
    "df_new=df[df.Condition==\"New\"]\n",
    "df_used=df[df.Condition!=\"New\"]"
   ]
  },
  {
   "cell_type": "markdown",
   "metadata": {},
   "source": [
    "# What cars do we have in our sample?"
   ]
  },
  {
   "cell_type": "markdown",
   "metadata": {},
   "source": [
    "## Production year and condition"
   ]
  },
  {
   "cell_type": "code",
   "execution_count": 29,
   "metadata": {},
   "outputs": [
    {
     "data": {
      "text/html": [
       "<div>\n",
       "<style scoped>\n",
       "    .dataframe tbody tr th:only-of-type {\n",
       "        vertical-align: middle;\n",
       "    }\n",
       "\n",
       "    .dataframe tbody tr th {\n",
       "        vertical-align: top;\n",
       "    }\n",
       "\n",
       "    .dataframe thead th {\n",
       "        text-align: right;\n",
       "    }\n",
       "</style>\n",
       "<table border=\"1\" class=\"dataframe\">\n",
       "  <thead>\n",
       "    <tr style=\"text-align: right;\">\n",
       "      <th></th>\n",
       "      <th>Condition</th>\n",
       "      <th>offer_count</th>\n",
       "    </tr>\n",
       "  </thead>\n",
       "  <tbody>\n",
       "    <tr>\n",
       "      <th>0</th>\n",
       "      <td>New</td>\n",
       "      <td>222</td>\n",
       "    </tr>\n",
       "    <tr>\n",
       "      <th>1</th>\n",
       "      <td>Used</td>\n",
       "      <td>1425</td>\n",
       "    </tr>\n",
       "  </tbody>\n",
       "</table>\n",
       "</div>"
      ],
      "text/plain": [
       "  Condition  offer_count\n",
       "0       New          222\n",
       "1      Used         1425"
      ]
     },
     "execution_count": 29,
     "metadata": {},
     "output_type": "execute_result"
    }
   ],
   "source": [
    "df_condition=df.groupby([\"Condition\"]).offerID.count().reset_index()\n",
    "df_condition.rename(columns={\"offerID\":\"offer_count\"})"
   ]
  },
  {
   "cell_type": "markdown",
   "metadata": {},
   "source": [
    "Our sample is dominated by Used models with about 15% of the sample beeing new cars. This is desired characteristic, as one of the main goals of this project is to analyse deprecation over time"
   ]
  },
  {
   "cell_type": "code",
   "execution_count": 30,
   "metadata": {},
   "outputs": [
    {
     "data": {
      "application/vnd.plotly.v1+json": {
       "config": {
        "linkText": "Export to plot.ly",
        "plotlyServerURL": "https://plot.ly",
        "showLink": false
       },
       "data": [
        {
         "marker": {
          "opacity": 0.8
         },
         "name": "Used",
         "type": "histogram",
         "x": [
          2016,
          2015,
          1992,
          2013,
          2002,
          2016,
          2018,
          2015,
          2010,
          2019,
          2013,
          2007,
          2011,
          2002,
          2003,
          2016,
          2012,
          2012,
          2015,
          1999,
          2006,
          2004,
          2016,
          2017,
          2010,
          2001,
          2010,
          2007,
          2006,
          2015,
          2012,
          2017,
          2008,
          2005,
          2008,
          2017,
          2015,
          2016,
          2013,
          2018,
          2010,
          2010,
          2005,
          2016,
          2016,
          2004,
          2016,
          2000,
          2004,
          2012,
          1999,
          2004,
          2014,
          2007,
          2006,
          2017,
          2015,
          2014,
          2009,
          2007,
          2014,
          2002,
          1992,
          2015,
          2009,
          2019,
          2018,
          2011,
          2019,
          2019,
          2005,
          2017,
          2012,
          2012,
          2012,
          2019,
          2014,
          2005,
          2014,
          2014,
          2016,
          2019,
          2012,
          2014,
          2009,
          2009,
          2018,
          2004,
          2017,
          2016,
          2012,
          2019,
          2007,
          2014,
          1984,
          1999,
          2009,
          2016,
          2009,
          2016,
          2009,
          2008,
          2016,
          2018,
          2017,
          2018,
          2015,
          2018,
          2014,
          2017,
          2008,
          2014,
          2016,
          2019,
          2017,
          2017,
          2019,
          2015,
          2003,
          1999,
          2018,
          2015,
          2013,
          2011,
          2018,
          2009,
          2018,
          2016,
          2006,
          2019,
          2006,
          2017,
          2007,
          2018,
          2008,
          2010,
          2011,
          2008,
          2004,
          2018,
          2017,
          2005,
          2017,
          2016,
          2015,
          2015,
          2018,
          2017,
          2016,
          2011,
          2019,
          2017,
          2013,
          2018,
          2016,
          2005,
          2018,
          2014,
          2019,
          2019,
          2014,
          2016,
          2016,
          2019,
          2016,
          2019,
          2019,
          2016,
          2014,
          2019,
          2016,
          2016,
          2016,
          2014,
          2016,
          2016,
          2019,
          2016,
          2019,
          2019,
          2014,
          2018,
          2019,
          2012,
          2017,
          2015,
          2016,
          2016,
          2017,
          2011,
          2019,
          2019,
          2019,
          2016,
          2006,
          2019,
          2015,
          2017,
          2016,
          2019,
          2007,
          2015,
          2016,
          1996,
          2019,
          2018,
          2017,
          2019,
          2019,
          2018,
          2019,
          2019,
          2019,
          2015,
          2019,
          2019,
          2007,
          2006,
          2019,
          2018,
          2015,
          2015,
          2017,
          2018,
          2010,
          2019,
          2018,
          2019,
          2015,
          2019,
          2019,
          2016,
          2019,
          2017,
          2016,
          2004,
          2019,
          1998,
          2009,
          2018,
          2011,
          2014,
          2019,
          2019,
          2019,
          2009,
          2019,
          2018,
          2018,
          2019,
          2019,
          2015,
          2006,
          2019,
          2016,
          2019,
          2016,
          2019,
          2018,
          2007,
          2019,
          2018,
          2018,
          2016,
          2018,
          2011,
          2014,
          2019,
          2019,
          2016,
          2019,
          2019,
          2019,
          2016,
          2019,
          2007,
          2019,
          2012,
          2018,
          2014,
          2019,
          2012,
          2012,
          2019,
          2010,
          2017,
          2018,
          2018,
          2010,
          2019,
          2018,
          2018,
          2016,
          2016,
          2018,
          2018,
          2017,
          2017,
          2016,
          2016,
          2008,
          2019,
          2018,
          2018,
          2019,
          2019,
          2017,
          2017,
          2004,
          2014,
          2018,
          2019,
          2019,
          2019,
          2018,
          2003,
          2014,
          2013,
          2018,
          2019,
          2007,
          2012,
          2011,
          2013,
          2005,
          2020,
          2019,
          2016,
          2006,
          2015,
          2012,
          2014,
          2018,
          2001,
          2018,
          2011,
          2015,
          2016,
          2007,
          1999,
          2014,
          2013,
          2014,
          2015,
          2018,
          2019,
          2018,
          2003,
          2007,
          2016,
          2018,
          2006,
          2018,
          2006,
          2005,
          2019,
          2013,
          2016,
          2016,
          2004,
          2018,
          2012,
          2004,
          2019,
          2019,
          2015,
          2014,
          2019,
          2019,
          2019,
          2016,
          2017,
          2016,
          2017,
          2010,
          2015,
          2004,
          2020,
          2017,
          2019,
          2019,
          2014,
          2017,
          2019,
          2017,
          2009,
          2017,
          2015,
          2018,
          2017,
          2017,
          2016,
          1998,
          2010,
          2013,
          2007,
          2007,
          2008,
          2010,
          2015,
          1982,
          2014,
          2005,
          2015,
          2015,
          2008,
          2016,
          2015,
          2008,
          2017,
          2012,
          2008,
          2015,
          2013,
          2008,
          2007,
          2016,
          2005,
          2012,
          2011,
          2017,
          2011,
          2014,
          2003,
          2015,
          2019,
          1996,
          2010,
          2012,
          2010,
          2000,
          2009,
          2015,
          2019,
          2019,
          1996,
          2019,
          2018,
          2015,
          1994,
          2014,
          2006,
          2011,
          2007,
          2009,
          2016,
          2007,
          2006,
          2001,
          2011,
          2005,
          2010,
          2019,
          2016,
          2002,
          2007,
          2004,
          2008,
          2000,
          2001,
          2002,
          2011,
          2009,
          2006,
          2002,
          2004,
          2003,
          2013,
          2002,
          2006,
          2015,
          2010,
          2001,
          2009,
          2005,
          2001,
          2012,
          2014,
          2015,
          2004,
          2002,
          2007,
          2007,
          2005,
          2019,
          2009,
          2005,
          2010,
          2009,
          2001,
          2018,
          2002,
          2012,
          2009,
          2007,
          2013,
          2015,
          2003,
          2011,
          1988,
          2011,
          2010,
          2009,
          2003,
          2008,
          2008,
          2003,
          2008,
          2001,
          2015,
          2017,
          2006,
          2004,
          2007,
          2009,
          2011,
          2008,
          2002,
          2013,
          2015,
          2011,
          2012,
          2007,
          2009,
          2006,
          2009,
          2002,
          2002,
          2017,
          2015,
          2008,
          2015,
          2012,
          2017,
          2000,
          2005,
          2016,
          2007,
          2018,
          2010,
          2019,
          2010,
          2008,
          2016,
          2015,
          2012,
          2018,
          2016,
          2017,
          2001,
          2003,
          2007,
          2007,
          2015,
          2018,
          2018,
          2012,
          2019,
          2019,
          2013,
          2019,
          2014,
          2017,
          2018,
          2007,
          2019,
          2016,
          2015,
          2009,
          2007,
          2019,
          2016,
          2015,
          2007,
          2020,
          2004,
          2002,
          2016,
          2014,
          2013,
          2011,
          2000,
          2004,
          2015,
          2008,
          2016,
          2012,
          2005,
          2018,
          2006,
          2006,
          2009,
          2015,
          2019,
          2005,
          2008,
          2010,
          2007,
          2018,
          2015,
          2017,
          2005,
          2002,
          2014,
          2009,
          1999,
          2004,
          2013,
          2003,
          2000,
          2013,
          2016,
          2011,
          2014,
          2013,
          2007,
          2014,
          2005,
          2008,
          1999,
          2015,
          1999,
          2019,
          2016,
          2019,
          2018,
          2003,
          2019,
          2015,
          2001,
          2007,
          2015,
          2010,
          2016,
          2010,
          2015,
          2013,
          2018,
          2016,
          2017,
          2005,
          2017,
          2013,
          2016,
          2009,
          2015,
          2017,
          2015,
          2007,
          2015,
          2019,
          2007,
          2015,
          2018,
          2016,
          2010,
          2018,
          2015,
          2005,
          2007,
          2011,
          2015,
          2016,
          2002,
          2009,
          2015,
          2016,
          1996,
          2005,
          2007,
          2006,
          2000,
          2007,
          2011,
          2018,
          2005,
          2012,
          2019,
          2016,
          2008,
          2018,
          2013,
          2014,
          2017,
          2015,
          2006,
          2019,
          2010,
          2002,
          2006,
          2002,
          2001,
          2010,
          2001,
          2005,
          2015,
          2010,
          2019,
          2007,
          2009,
          2011,
          2008,
          2016,
          2001,
          2004,
          2010,
          2012,
          2015,
          2005,
          2017,
          2004,
          2011,
          2009,
          2001,
          2008,
          2004,
          2010,
          2007,
          2015,
          2007,
          1998,
          2015,
          2018,
          2012,
          2007,
          2008,
          2014,
          2006,
          2015,
          2016,
          2017,
          2015,
          2015,
          2009,
          2009,
          2001,
          2006,
          2001,
          2000,
          2003,
          2011,
          2018,
          2012,
          2005,
          2008,
          2016,
          2000,
          2016,
          2015,
          2002,
          2014,
          2016,
          2005,
          2006,
          2014,
          2016,
          2008,
          2004,
          2005,
          2018,
          2014,
          2016,
          2008,
          2018,
          2011,
          2017,
          2008,
          2019,
          2007,
          2015,
          1998,
          2000,
          2015,
          2002,
          2015,
          2008,
          2013,
          2015,
          2015,
          2012,
          2010,
          2015,
          2004,
          2019,
          2003,
          2012,
          2013,
          2002,
          2017,
          2006,
          2018,
          2009,
          2005,
          1998,
          2009,
          2016,
          2020,
          2011,
          2017,
          2009,
          2014,
          2016,
          2017,
          2005,
          2016,
          2005,
          2007,
          2018,
          2007,
          2012,
          2004,
          2008,
          2007,
          2011,
          2004,
          2004,
          2017,
          2005,
          2007,
          1999,
          2016,
          2013,
          2012,
          2005,
          2000,
          2013,
          2002,
          1994,
          2017,
          2015,
          2017,
          2014,
          2009,
          1997,
          2011,
          2005,
          2016,
          2018,
          2018,
          2007,
          2008,
          2009,
          2005,
          2007,
          2010,
          2001,
          1999,
          2015,
          2016,
          2014,
          2007,
          2014,
          2006,
          2018,
          2005,
          2015,
          2010,
          2011,
          2007,
          2018,
          2007,
          2017,
          2013,
          2015,
          2004,
          2008,
          2002,
          2018,
          2019,
          2016,
          2011,
          2014,
          2016,
          2016,
          2013,
          2019,
          2014,
          2009,
          2011,
          2006,
          2015,
          2016,
          2010,
          2015,
          2016,
          2019,
          2002,
          2005,
          2006,
          2013,
          2016,
          2006,
          2006,
          2009,
          2004,
          2019,
          2002,
          1997,
          2006,
          2009,
          2007,
          2011,
          2003,
          2004,
          2019,
          2007,
          2018,
          2015,
          2015,
          2001,
          2010,
          2004,
          2004,
          2017,
          2013,
          2013,
          2009,
          2007,
          2015,
          2017,
          2004,
          2013,
          2004,
          2016,
          2011,
          2005,
          2005,
          2017,
          2015,
          2005,
          2014,
          2012,
          2018,
          2014,
          2001,
          2017,
          2013,
          2007,
          2003,
          2008,
          2012,
          2016,
          2015,
          2009,
          2016,
          2010,
          2005,
          2005,
          2011,
          2014,
          2012,
          2015,
          2013,
          2005,
          2014,
          2013,
          2016,
          2006,
          2006,
          2015,
          2006,
          2006,
          2010,
          2009,
          2019,
          2008,
          2016,
          2015,
          2016,
          2006,
          2017,
          2000,
          2019,
          2015,
          2018,
          2019,
          2005,
          2004,
          2017,
          2019,
          2010,
          2010,
          2017,
          2005,
          2002,
          2012,
          2002,
          2002,
          2014,
          2007,
          2014,
          2005,
          2015,
          2008,
          2005,
          2013,
          2002,
          2017,
          2010,
          2011,
          2002,
          2007,
          2014,
          2011,
          2018,
          2007,
          2013,
          2015,
          2017,
          2003,
          2015,
          2011,
          2017,
          2005,
          2004,
          2011,
          2002,
          2006,
          2009,
          2010,
          2002,
          2012,
          2014,
          2004,
          2015,
          2008,
          2016,
          2002,
          2007,
          2018,
          2008,
          2015,
          2006,
          2015,
          2016,
          2012,
          2002,
          2003,
          2011,
          2016,
          2014,
          2008,
          2011,
          2011,
          2011,
          2008,
          1999,
          2011,
          2015,
          2018,
          2007,
          2012,
          2012,
          2009,
          2002,
          1999,
          2004,
          2013,
          2012,
          2007,
          2009,
          2002,
          2011,
          2008,
          2016,
          2007,
          2008,
          2009,
          2016,
          1976,
          2014,
          2016,
          2016,
          2005,
          2016,
          2000,
          2012,
          2015,
          2008,
          2004,
          2017,
          2006,
          2008,
          2014,
          2007,
          2007,
          2010,
          2019,
          2015,
          2017,
          2013,
          2007,
          2004,
          2013,
          2018,
          1999,
          2001,
          2004,
          2016,
          1987,
          2010,
          2010,
          2006,
          2010,
          2000,
          2002,
          2011,
          2003,
          2009,
          2006,
          2007,
          2007,
          2014,
          2003,
          2013,
          2004,
          2006,
          2015,
          2004,
          2017,
          2003,
          2014,
          2006,
          2012,
          2009,
          1998,
          2006,
          2019,
          2010,
          2016,
          2009,
          2014,
          2014,
          2016,
          2010,
          2015,
          2019,
          2018,
          2003,
          2007,
          2011,
          2005,
          2012,
          2011,
          1996,
          2003,
          2014,
          2012,
          2015,
          2009,
          2007,
          2005,
          2015,
          2016,
          2005,
          2001,
          2012,
          1994,
          2005,
          2001,
          2015,
          2002,
          2008,
          2000,
          2014,
          2010,
          1999,
          1986,
          2007,
          2016,
          2014,
          2004,
          2003,
          2010,
          2019,
          2008,
          2005,
          2012,
          2008,
          2001,
          2019,
          2006,
          2016,
          2013,
          2012,
          2018,
          2012,
          2013,
          2007,
          2003,
          2016,
          2002,
          2017,
          1998,
          2014,
          2009,
          2011,
          2016,
          2014,
          2010,
          2011,
          2004,
          2009,
          1990,
          2018,
          2011,
          2014,
          2015,
          2017,
          2019,
          2017,
          2019,
          2019,
          2017,
          2017,
          2016,
          2018,
          2018,
          2018,
          2008,
          2012,
          2010,
          2005,
          2019,
          2004,
          2006,
          2008,
          2017,
          2006,
          2011,
          2011,
          2020,
          2006,
          2013,
          2011,
          2019,
          2012,
          2016,
          2013,
          2006,
          2013,
          2009,
          2006,
          2013,
          2012,
          2000,
          2015,
          2011,
          2011,
          2018,
          2016,
          1991,
          2007,
          2010,
          2006,
          1999,
          2001,
          2012,
          1996,
          2000,
          2002,
          2010,
          2006,
          2011,
          2005,
          2006,
          2010,
          2007,
          2006,
          2016,
          2014,
          1997,
          2010,
          2017,
          2012,
          1999,
          2001,
          2010,
          2016,
          2015,
          1976,
          2004,
          1991,
          2007,
          2017,
          2008,
          2009,
          2012,
          2007,
          2012,
          1991,
          2007,
          2002,
          2014,
          2007,
          2006,
          2013,
          2005,
          2013,
          2005,
          2006,
          2008,
          2005,
          2010,
          2014,
          2017,
          2013,
          2013,
          2005,
          2012,
          1997,
          2008,
          2011,
          1999,
          2000,
          2007,
          2013,
          2014,
          2011,
          2019,
          1985,
          2008,
          2010,
          2015,
          2008,
          1987,
          2000,
          2004,
          2009,
          2005,
          2005,
          2008,
          2019,
          2008,
          2014,
          2012,
          2006,
          2011,
          2005,
          2013,
          2010,
          2006,
          1995,
          2012,
          2005,
          2009,
          2016,
          2004,
          2016,
          2008,
          2010,
          2009,
          2002,
          2009,
          2016,
          2001,
          2012,
          1988,
          2000,
          2013,
          2015,
          2001,
          2010,
          1997,
          2008,
          2012,
          2013,
          2006,
          2016,
          2004,
          2003,
          2015,
          2012,
          2012,
          2012,
          2008,
          2002,
          2014,
          2009,
          2012,
          2006,
          2009,
          2004,
          2016,
          2008,
          2014,
          2013,
          2018,
          2016,
          2014,
          2013,
          2016,
          2011,
          2015,
          2013,
          2016,
          2014,
          2018,
          2012,
          2013,
          2007,
          2015,
          2009,
          2014,
          2011,
          2017,
          2007,
          2010,
          2008,
          2002,
          2014,
          2015,
          2016,
          2014,
          2014,
          2015,
          2013,
          2009,
          2013,
          2010,
          2013,
          2012,
          2019,
          2019,
          2012
         ]
        },
        {
         "marker": {
          "opacity": 0.8
         },
         "name": "New",
         "type": "histogram",
         "x": [
          2020,
          2019,
          2019,
          2019,
          2020,
          2019,
          2020,
          2019,
          2019,
          2019,
          2019,
          2019,
          2019,
          2019,
          2019,
          2018,
          2019,
          2019,
          2019,
          2019,
          2019,
          2020,
          2019,
          2020,
          2019,
          2019,
          2019,
          2020,
          2019,
          2019,
          2019,
          2019,
          2020,
          2020,
          2020,
          2019,
          2019,
          2019,
          2019,
          2020,
          2020,
          2019,
          2019,
          2020,
          2019,
          2019,
          2019,
          2020,
          2019,
          2019,
          2019,
          2020,
          2019,
          2020,
          2019,
          2019,
          2019,
          2019,
          2019,
          2019,
          2019,
          2019,
          2019,
          2019,
          2019,
          2019,
          2019,
          2019,
          2019,
          2019,
          2019,
          2019,
          2019,
          2019,
          2019,
          2020,
          2019,
          2019,
          2019,
          2019,
          2019,
          2019,
          2019,
          2019,
          2019,
          2020,
          2019,
          2019,
          2019,
          2019,
          2020,
          2019,
          2019,
          2019,
          2019,
          2019,
          2019,
          2020,
          2019,
          2019,
          2019,
          2019,
          2019,
          2019,
          2019,
          2019,
          2019,
          2020,
          2019,
          2019,
          2019,
          2019,
          2019,
          2019,
          2020,
          2019,
          2019,
          2019,
          2019,
          2019,
          2019,
          2019,
          2019,
          2006,
          2019,
          2019,
          2019,
          2019,
          2019,
          2019,
          2019,
          2019,
          2019,
          2019,
          2019,
          2020,
          2019,
          2019,
          2019,
          2019,
          2019,
          2020,
          2020,
          2019,
          2020,
          2019,
          2019,
          2020,
          2008,
          2020,
          2019,
          2020,
          2019,
          2020,
          2019,
          2020,
          2019,
          2020,
          2020,
          2020,
          2019,
          2019,
          2019,
          2019,
          2019,
          2020,
          2020,
          2019,
          2020,
          2019,
          2020,
          2019,
          2019,
          2020,
          2020,
          2019,
          2020,
          2020,
          2019,
          2019,
          2019,
          2019,
          2020,
          2020,
          2019,
          2020,
          2019,
          2019,
          2019,
          2019,
          2020,
          2019,
          2019,
          2019,
          2019,
          2019,
          2019,
          2020,
          2019,
          2020,
          2019,
          2019,
          2019,
          2019,
          2019,
          2019,
          2020,
          2020,
          2020,
          2019,
          2020,
          2019,
          2020,
          2019,
          2020,
          2019,
          2020,
          2019,
          2019,
          2019,
          2020,
          2020
         ]
        }
       ],
       "layout": {
        "barmode": "overlay",
        "template": {
         "data": {
          "bar": [
           {
            "error_x": {
             "color": "#2a3f5f"
            },
            "error_y": {
             "color": "#2a3f5f"
            },
            "marker": {
             "line": {
              "color": "#E5ECF6",
              "width": 0.5
             }
            },
            "type": "bar"
           }
          ],
          "barpolar": [
           {
            "marker": {
             "line": {
              "color": "#E5ECF6",
              "width": 0.5
             }
            },
            "type": "barpolar"
           }
          ],
          "carpet": [
           {
            "aaxis": {
             "endlinecolor": "#2a3f5f",
             "gridcolor": "white",
             "linecolor": "white",
             "minorgridcolor": "white",
             "startlinecolor": "#2a3f5f"
            },
            "baxis": {
             "endlinecolor": "#2a3f5f",
             "gridcolor": "white",
             "linecolor": "white",
             "minorgridcolor": "white",
             "startlinecolor": "#2a3f5f"
            },
            "type": "carpet"
           }
          ],
          "choropleth": [
           {
            "colorbar": {
             "outlinewidth": 0,
             "ticks": ""
            },
            "type": "choropleth"
           }
          ],
          "contour": [
           {
            "colorbar": {
             "outlinewidth": 0,
             "ticks": ""
            },
            "colorscale": [
             [
              0,
              "#0d0887"
             ],
             [
              0.1111111111111111,
              "#46039f"
             ],
             [
              0.2222222222222222,
              "#7201a8"
             ],
             [
              0.3333333333333333,
              "#9c179e"
             ],
             [
              0.4444444444444444,
              "#bd3786"
             ],
             [
              0.5555555555555556,
              "#d8576b"
             ],
             [
              0.6666666666666666,
              "#ed7953"
             ],
             [
              0.7777777777777778,
              "#fb9f3a"
             ],
             [
              0.8888888888888888,
              "#fdca26"
             ],
             [
              1,
              "#f0f921"
             ]
            ],
            "type": "contour"
           }
          ],
          "contourcarpet": [
           {
            "colorbar": {
             "outlinewidth": 0,
             "ticks": ""
            },
            "type": "contourcarpet"
           }
          ],
          "heatmap": [
           {
            "colorbar": {
             "outlinewidth": 0,
             "ticks": ""
            },
            "colorscale": [
             [
              0,
              "#0d0887"
             ],
             [
              0.1111111111111111,
              "#46039f"
             ],
             [
              0.2222222222222222,
              "#7201a8"
             ],
             [
              0.3333333333333333,
              "#9c179e"
             ],
             [
              0.4444444444444444,
              "#bd3786"
             ],
             [
              0.5555555555555556,
              "#d8576b"
             ],
             [
              0.6666666666666666,
              "#ed7953"
             ],
             [
              0.7777777777777778,
              "#fb9f3a"
             ],
             [
              0.8888888888888888,
              "#fdca26"
             ],
             [
              1,
              "#f0f921"
             ]
            ],
            "type": "heatmap"
           }
          ],
          "heatmapgl": [
           {
            "colorbar": {
             "outlinewidth": 0,
             "ticks": ""
            },
            "colorscale": [
             [
              0,
              "#0d0887"
             ],
             [
              0.1111111111111111,
              "#46039f"
             ],
             [
              0.2222222222222222,
              "#7201a8"
             ],
             [
              0.3333333333333333,
              "#9c179e"
             ],
             [
              0.4444444444444444,
              "#bd3786"
             ],
             [
              0.5555555555555556,
              "#d8576b"
             ],
             [
              0.6666666666666666,
              "#ed7953"
             ],
             [
              0.7777777777777778,
              "#fb9f3a"
             ],
             [
              0.8888888888888888,
              "#fdca26"
             ],
             [
              1,
              "#f0f921"
             ]
            ],
            "type": "heatmapgl"
           }
          ],
          "histogram": [
           {
            "marker": {
             "colorbar": {
              "outlinewidth": 0,
              "ticks": ""
             }
            },
            "type": "histogram"
           }
          ],
          "histogram2d": [
           {
            "colorbar": {
             "outlinewidth": 0,
             "ticks": ""
            },
            "colorscale": [
             [
              0,
              "#0d0887"
             ],
             [
              0.1111111111111111,
              "#46039f"
             ],
             [
              0.2222222222222222,
              "#7201a8"
             ],
             [
              0.3333333333333333,
              "#9c179e"
             ],
             [
              0.4444444444444444,
              "#bd3786"
             ],
             [
              0.5555555555555556,
              "#d8576b"
             ],
             [
              0.6666666666666666,
              "#ed7953"
             ],
             [
              0.7777777777777778,
              "#fb9f3a"
             ],
             [
              0.8888888888888888,
              "#fdca26"
             ],
             [
              1,
              "#f0f921"
             ]
            ],
            "type": "histogram2d"
           }
          ],
          "histogram2dcontour": [
           {
            "colorbar": {
             "outlinewidth": 0,
             "ticks": ""
            },
            "colorscale": [
             [
              0,
              "#0d0887"
             ],
             [
              0.1111111111111111,
              "#46039f"
             ],
             [
              0.2222222222222222,
              "#7201a8"
             ],
             [
              0.3333333333333333,
              "#9c179e"
             ],
             [
              0.4444444444444444,
              "#bd3786"
             ],
             [
              0.5555555555555556,
              "#d8576b"
             ],
             [
              0.6666666666666666,
              "#ed7953"
             ],
             [
              0.7777777777777778,
              "#fb9f3a"
             ],
             [
              0.8888888888888888,
              "#fdca26"
             ],
             [
              1,
              "#f0f921"
             ]
            ],
            "type": "histogram2dcontour"
           }
          ],
          "mesh3d": [
           {
            "colorbar": {
             "outlinewidth": 0,
             "ticks": ""
            },
            "type": "mesh3d"
           }
          ],
          "parcoords": [
           {
            "line": {
             "colorbar": {
              "outlinewidth": 0,
              "ticks": ""
             }
            },
            "type": "parcoords"
           }
          ],
          "scatter": [
           {
            "marker": {
             "colorbar": {
              "outlinewidth": 0,
              "ticks": ""
             }
            },
            "type": "scatter"
           }
          ],
          "scatter3d": [
           {
            "line": {
             "colorbar": {
              "outlinewidth": 0,
              "ticks": ""
             }
            },
            "marker": {
             "colorbar": {
              "outlinewidth": 0,
              "ticks": ""
             }
            },
            "type": "scatter3d"
           }
          ],
          "scattercarpet": [
           {
            "marker": {
             "colorbar": {
              "outlinewidth": 0,
              "ticks": ""
             }
            },
            "type": "scattercarpet"
           }
          ],
          "scattergeo": [
           {
            "marker": {
             "colorbar": {
              "outlinewidth": 0,
              "ticks": ""
             }
            },
            "type": "scattergeo"
           }
          ],
          "scattergl": [
           {
            "marker": {
             "colorbar": {
              "outlinewidth": 0,
              "ticks": ""
             }
            },
            "type": "scattergl"
           }
          ],
          "scattermapbox": [
           {
            "marker": {
             "colorbar": {
              "outlinewidth": 0,
              "ticks": ""
             }
            },
            "type": "scattermapbox"
           }
          ],
          "scatterpolar": [
           {
            "marker": {
             "colorbar": {
              "outlinewidth": 0,
              "ticks": ""
             }
            },
            "type": "scatterpolar"
           }
          ],
          "scatterpolargl": [
           {
            "marker": {
             "colorbar": {
              "outlinewidth": 0,
              "ticks": ""
             }
            },
            "type": "scatterpolargl"
           }
          ],
          "scatterternary": [
           {
            "marker": {
             "colorbar": {
              "outlinewidth": 0,
              "ticks": ""
             }
            },
            "type": "scatterternary"
           }
          ],
          "surface": [
           {
            "colorbar": {
             "outlinewidth": 0,
             "ticks": ""
            },
            "colorscale": [
             [
              0,
              "#0d0887"
             ],
             [
              0.1111111111111111,
              "#46039f"
             ],
             [
              0.2222222222222222,
              "#7201a8"
             ],
             [
              0.3333333333333333,
              "#9c179e"
             ],
             [
              0.4444444444444444,
              "#bd3786"
             ],
             [
              0.5555555555555556,
              "#d8576b"
             ],
             [
              0.6666666666666666,
              "#ed7953"
             ],
             [
              0.7777777777777778,
              "#fb9f3a"
             ],
             [
              0.8888888888888888,
              "#fdca26"
             ],
             [
              1,
              "#f0f921"
             ]
            ],
            "type": "surface"
           }
          ],
          "table": [
           {
            "cells": {
             "fill": {
              "color": "#EBF0F8"
             },
             "line": {
              "color": "white"
             }
            },
            "header": {
             "fill": {
              "color": "#C8D4E3"
             },
             "line": {
              "color": "white"
             }
            },
            "type": "table"
           }
          ]
         },
         "layout": {
          "annotationdefaults": {
           "arrowcolor": "#2a3f5f",
           "arrowhead": 0,
           "arrowwidth": 1
          },
          "colorscale": {
           "diverging": [
            [
             0,
             "#8e0152"
            ],
            [
             0.1,
             "#c51b7d"
            ],
            [
             0.2,
             "#de77ae"
            ],
            [
             0.3,
             "#f1b6da"
            ],
            [
             0.4,
             "#fde0ef"
            ],
            [
             0.5,
             "#f7f7f7"
            ],
            [
             0.6,
             "#e6f5d0"
            ],
            [
             0.7,
             "#b8e186"
            ],
            [
             0.8,
             "#7fbc41"
            ],
            [
             0.9,
             "#4d9221"
            ],
            [
             1,
             "#276419"
            ]
           ],
           "sequential": [
            [
             0,
             "#0d0887"
            ],
            [
             0.1111111111111111,
             "#46039f"
            ],
            [
             0.2222222222222222,
             "#7201a8"
            ],
            [
             0.3333333333333333,
             "#9c179e"
            ],
            [
             0.4444444444444444,
             "#bd3786"
            ],
            [
             0.5555555555555556,
             "#d8576b"
            ],
            [
             0.6666666666666666,
             "#ed7953"
            ],
            [
             0.7777777777777778,
             "#fb9f3a"
            ],
            [
             0.8888888888888888,
             "#fdca26"
            ],
            [
             1,
             "#f0f921"
            ]
           ],
           "sequentialminus": [
            [
             0,
             "#0d0887"
            ],
            [
             0.1111111111111111,
             "#46039f"
            ],
            [
             0.2222222222222222,
             "#7201a8"
            ],
            [
             0.3333333333333333,
             "#9c179e"
            ],
            [
             0.4444444444444444,
             "#bd3786"
            ],
            [
             0.5555555555555556,
             "#d8576b"
            ],
            [
             0.6666666666666666,
             "#ed7953"
            ],
            [
             0.7777777777777778,
             "#fb9f3a"
            ],
            [
             0.8888888888888888,
             "#fdca26"
            ],
            [
             1,
             "#f0f921"
            ]
           ]
          },
          "colorway": [
           "#636efa",
           "#EF553B",
           "#00cc96",
           "#ab63fa",
           "#FFA15A",
           "#19d3f3",
           "#FF6692",
           "#B6E880",
           "#FF97FF",
           "#FECB52"
          ],
          "font": {
           "color": "#2a3f5f"
          },
          "geo": {
           "bgcolor": "white",
           "lakecolor": "white",
           "landcolor": "#E5ECF6",
           "showlakes": true,
           "showland": true,
           "subunitcolor": "white"
          },
          "hoverlabel": {
           "align": "left"
          },
          "hovermode": "closest",
          "mapbox": {
           "style": "light"
          },
          "paper_bgcolor": "white",
          "plot_bgcolor": "#E5ECF6",
          "polar": {
           "angularaxis": {
            "gridcolor": "white",
            "linecolor": "white",
            "ticks": ""
           },
           "bgcolor": "#E5ECF6",
           "radialaxis": {
            "gridcolor": "white",
            "linecolor": "white",
            "ticks": ""
           }
          },
          "scene": {
           "xaxis": {
            "backgroundcolor": "#E5ECF6",
            "gridcolor": "white",
            "gridwidth": 2,
            "linecolor": "white",
            "showbackground": true,
            "ticks": "",
            "zerolinecolor": "white"
           },
           "yaxis": {
            "backgroundcolor": "#E5ECF6",
            "gridcolor": "white",
            "gridwidth": 2,
            "linecolor": "white",
            "showbackground": true,
            "ticks": "",
            "zerolinecolor": "white"
           },
           "zaxis": {
            "backgroundcolor": "#E5ECF6",
            "gridcolor": "white",
            "gridwidth": 2,
            "linecolor": "white",
            "showbackground": true,
            "ticks": "",
            "zerolinecolor": "white"
           }
          },
          "shapedefaults": {
           "line": {
            "color": "#2a3f5f"
           }
          },
          "ternary": {
           "aaxis": {
            "gridcolor": "white",
            "linecolor": "white",
            "ticks": ""
           },
           "baxis": {
            "gridcolor": "white",
            "linecolor": "white",
            "ticks": ""
           },
           "bgcolor": "#E5ECF6",
           "caxis": {
            "gridcolor": "white",
            "linecolor": "white",
            "ticks": ""
           }
          },
          "title": {
           "x": 0.05
          },
          "xaxis": {
           "automargin": true,
           "gridcolor": "white",
           "linecolor": "white",
           "ticks": "",
           "zerolinecolor": "white",
           "zerolinewidth": 2
          },
          "yaxis": {
           "automargin": true,
           "gridcolor": "white",
           "linecolor": "white",
           "ticks": "",
           "zerolinecolor": "white",
           "zerolinewidth": 2
          }
         }
        },
        "title": {
         "text": "Sample size by Production year and condition"
        },
        "xaxis": {
         "title": {
          "text": "Production Year"
         }
        },
        "yaxis": {
         "title": {
          "text": "Count"
         }
        }
       }
      },
      "text/html": [
       "<div>\n",
       "        \n",
       "        \n",
       "            <div id=\"944d1e36-c863-4838-816c-b892941c0da9\" class=\"plotly-graph-div\" style=\"height:525px; width:100%;\"></div>\n",
       "            <script type=\"text/javascript\">\n",
       "                require([\"plotly\"], function(Plotly) {\n",
       "                    window.PLOTLYENV=window.PLOTLYENV || {};\n",
       "                    \n",
       "                if (document.getElementById(\"944d1e36-c863-4838-816c-b892941c0da9\")) {\n",
       "                    Plotly.newPlot(\n",
       "                        '944d1e36-c863-4838-816c-b892941c0da9',\n",
       "                        [{\"marker\": {\"opacity\": 0.8}, \"name\": \"Used\", \"type\": \"histogram\", \"x\": [2016, 2015, 1992, 2013, 2002, 2016, 2018, 2015, 2010, 2019, 2013, 2007, 2011, 2002, 2003, 2016, 2012, 2012, 2015, 1999, 2006, 2004, 2016, 2017, 2010, 2001, 2010, 2007, 2006, 2015, 2012, 2017, 2008, 2005, 2008, 2017, 2015, 2016, 2013, 2018, 2010, 2010, 2005, 2016, 2016, 2004, 2016, 2000, 2004, 2012, 1999, 2004, 2014, 2007, 2006, 2017, 2015, 2014, 2009, 2007, 2014, 2002, 1992, 2015, 2009, 2019, 2018, 2011, 2019, 2019, 2005, 2017, 2012, 2012, 2012, 2019, 2014, 2005, 2014, 2014, 2016, 2019, 2012, 2014, 2009, 2009, 2018, 2004, 2017, 2016, 2012, 2019, 2007, 2014, 1984, 1999, 2009, 2016, 2009, 2016, 2009, 2008, 2016, 2018, 2017, 2018, 2015, 2018, 2014, 2017, 2008, 2014, 2016, 2019, 2017, 2017, 2019, 2015, 2003, 1999, 2018, 2015, 2013, 2011, 2018, 2009, 2018, 2016, 2006, 2019, 2006, 2017, 2007, 2018, 2008, 2010, 2011, 2008, 2004, 2018, 2017, 2005, 2017, 2016, 2015, 2015, 2018, 2017, 2016, 2011, 2019, 2017, 2013, 2018, 2016, 2005, 2018, 2014, 2019, 2019, 2014, 2016, 2016, 2019, 2016, 2019, 2019, 2016, 2014, 2019, 2016, 2016, 2016, 2014, 2016, 2016, 2019, 2016, 2019, 2019, 2014, 2018, 2019, 2012, 2017, 2015, 2016, 2016, 2017, 2011, 2019, 2019, 2019, 2016, 2006, 2019, 2015, 2017, 2016, 2019, 2007, 2015, 2016, 1996, 2019, 2018, 2017, 2019, 2019, 2018, 2019, 2019, 2019, 2015, 2019, 2019, 2007, 2006, 2019, 2018, 2015, 2015, 2017, 2018, 2010, 2019, 2018, 2019, 2015, 2019, 2019, 2016, 2019, 2017, 2016, 2004, 2019, 1998, 2009, 2018, 2011, 2014, 2019, 2019, 2019, 2009, 2019, 2018, 2018, 2019, 2019, 2015, 2006, 2019, 2016, 2019, 2016, 2019, 2018, 2007, 2019, 2018, 2018, 2016, 2018, 2011, 2014, 2019, 2019, 2016, 2019, 2019, 2019, 2016, 2019, 2007, 2019, 2012, 2018, 2014, 2019, 2012, 2012, 2019, 2010, 2017, 2018, 2018, 2010, 2019, 2018, 2018, 2016, 2016, 2018, 2018, 2017, 2017, 2016, 2016, 2008, 2019, 2018, 2018, 2019, 2019, 2017, 2017, 2004, 2014, 2018, 2019, 2019, 2019, 2018, 2003, 2014, 2013, 2018, 2019, 2007, 2012, 2011, 2013, 2005, 2020, 2019, 2016, 2006, 2015, 2012, 2014, 2018, 2001, 2018, 2011, 2015, 2016, 2007, 1999, 2014, 2013, 2014, 2015, 2018, 2019, 2018, 2003, 2007, 2016, 2018, 2006, 2018, 2006, 2005, 2019, 2013, 2016, 2016, 2004, 2018, 2012, 2004, 2019, 2019, 2015, 2014, 2019, 2019, 2019, 2016, 2017, 2016, 2017, 2010, 2015, 2004, 2020, 2017, 2019, 2019, 2014, 2017, 2019, 2017, 2009, 2017, 2015, 2018, 2017, 2017, 2016, 1998, 2010, 2013, 2007, 2007, 2008, 2010, 2015, 1982, 2014, 2005, 2015, 2015, 2008, 2016, 2015, 2008, 2017, 2012, 2008, 2015, 2013, 2008, 2007, 2016, 2005, 2012, 2011, 2017, 2011, 2014, 2003, 2015, 2019, 1996, 2010, 2012, 2010, 2000, 2009, 2015, 2019, 2019, 1996, 2019, 2018, 2015, 1994, 2014, 2006, 2011, 2007, 2009, 2016, 2007, 2006, 2001, 2011, 2005, 2010, 2019, 2016, 2002, 2007, 2004, 2008, 2000, 2001, 2002, 2011, 2009, 2006, 2002, 2004, 2003, 2013, 2002, 2006, 2015, 2010, 2001, 2009, 2005, 2001, 2012, 2014, 2015, 2004, 2002, 2007, 2007, 2005, 2019, 2009, 2005, 2010, 2009, 2001, 2018, 2002, 2012, 2009, 2007, 2013, 2015, 2003, 2011, 1988, 2011, 2010, 2009, 2003, 2008, 2008, 2003, 2008, 2001, 2015, 2017, 2006, 2004, 2007, 2009, 2011, 2008, 2002, 2013, 2015, 2011, 2012, 2007, 2009, 2006, 2009, 2002, 2002, 2017, 2015, 2008, 2015, 2012, 2017, 2000, 2005, 2016, 2007, 2018, 2010, 2019, 2010, 2008, 2016, 2015, 2012, 2018, 2016, 2017, 2001, 2003, 2007, 2007, 2015, 2018, 2018, 2012, 2019, 2019, 2013, 2019, 2014, 2017, 2018, 2007, 2019, 2016, 2015, 2009, 2007, 2019, 2016, 2015, 2007, 2020, 2004, 2002, 2016, 2014, 2013, 2011, 2000, 2004, 2015, 2008, 2016, 2012, 2005, 2018, 2006, 2006, 2009, 2015, 2019, 2005, 2008, 2010, 2007, 2018, 2015, 2017, 2005, 2002, 2014, 2009, 1999, 2004, 2013, 2003, 2000, 2013, 2016, 2011, 2014, 2013, 2007, 2014, 2005, 2008, 1999, 2015, 1999, 2019, 2016, 2019, 2018, 2003, 2019, 2015, 2001, 2007, 2015, 2010, 2016, 2010, 2015, 2013, 2018, 2016, 2017, 2005, 2017, 2013, 2016, 2009, 2015, 2017, 2015, 2007, 2015, 2019, 2007, 2015, 2018, 2016, 2010, 2018, 2015, 2005, 2007, 2011, 2015, 2016, 2002, 2009, 2015, 2016, 1996, 2005, 2007, 2006, 2000, 2007, 2011, 2018, 2005, 2012, 2019, 2016, 2008, 2018, 2013, 2014, 2017, 2015, 2006, 2019, 2010, 2002, 2006, 2002, 2001, 2010, 2001, 2005, 2015, 2010, 2019, 2007, 2009, 2011, 2008, 2016, 2001, 2004, 2010, 2012, 2015, 2005, 2017, 2004, 2011, 2009, 2001, 2008, 2004, 2010, 2007, 2015, 2007, 1998, 2015, 2018, 2012, 2007, 2008, 2014, 2006, 2015, 2016, 2017, 2015, 2015, 2009, 2009, 2001, 2006, 2001, 2000, 2003, 2011, 2018, 2012, 2005, 2008, 2016, 2000, 2016, 2015, 2002, 2014, 2016, 2005, 2006, 2014, 2016, 2008, 2004, 2005, 2018, 2014, 2016, 2008, 2018, 2011, 2017, 2008, 2019, 2007, 2015, 1998, 2000, 2015, 2002, 2015, 2008, 2013, 2015, 2015, 2012, 2010, 2015, 2004, 2019, 2003, 2012, 2013, 2002, 2017, 2006, 2018, 2009, 2005, 1998, 2009, 2016, 2020, 2011, 2017, 2009, 2014, 2016, 2017, 2005, 2016, 2005, 2007, 2018, 2007, 2012, 2004, 2008, 2007, 2011, 2004, 2004, 2017, 2005, 2007, 1999, 2016, 2013, 2012, 2005, 2000, 2013, 2002, 1994, 2017, 2015, 2017, 2014, 2009, 1997, 2011, 2005, 2016, 2018, 2018, 2007, 2008, 2009, 2005, 2007, 2010, 2001, 1999, 2015, 2016, 2014, 2007, 2014, 2006, 2018, 2005, 2015, 2010, 2011, 2007, 2018, 2007, 2017, 2013, 2015, 2004, 2008, 2002, 2018, 2019, 2016, 2011, 2014, 2016, 2016, 2013, 2019, 2014, 2009, 2011, 2006, 2015, 2016, 2010, 2015, 2016, 2019, 2002, 2005, 2006, 2013, 2016, 2006, 2006, 2009, 2004, 2019, 2002, 1997, 2006, 2009, 2007, 2011, 2003, 2004, 2019, 2007, 2018, 2015, 2015, 2001, 2010, 2004, 2004, 2017, 2013, 2013, 2009, 2007, 2015, 2017, 2004, 2013, 2004, 2016, 2011, 2005, 2005, 2017, 2015, 2005, 2014, 2012, 2018, 2014, 2001, 2017, 2013, 2007, 2003, 2008, 2012, 2016, 2015, 2009, 2016, 2010, 2005, 2005, 2011, 2014, 2012, 2015, 2013, 2005, 2014, 2013, 2016, 2006, 2006, 2015, 2006, 2006, 2010, 2009, 2019, 2008, 2016, 2015, 2016, 2006, 2017, 2000, 2019, 2015, 2018, 2019, 2005, 2004, 2017, 2019, 2010, 2010, 2017, 2005, 2002, 2012, 2002, 2002, 2014, 2007, 2014, 2005, 2015, 2008, 2005, 2013, 2002, 2017, 2010, 2011, 2002, 2007, 2014, 2011, 2018, 2007, 2013, 2015, 2017, 2003, 2015, 2011, 2017, 2005, 2004, 2011, 2002, 2006, 2009, 2010, 2002, 2012, 2014, 2004, 2015, 2008, 2016, 2002, 2007, 2018, 2008, 2015, 2006, 2015, 2016, 2012, 2002, 2003, 2011, 2016, 2014, 2008, 2011, 2011, 2011, 2008, 1999, 2011, 2015, 2018, 2007, 2012, 2012, 2009, 2002, 1999, 2004, 2013, 2012, 2007, 2009, 2002, 2011, 2008, 2016, 2007, 2008, 2009, 2016, 1976, 2014, 2016, 2016, 2005, 2016, 2000, 2012, 2015, 2008, 2004, 2017, 2006, 2008, 2014, 2007, 2007, 2010, 2019, 2015, 2017, 2013, 2007, 2004, 2013, 2018, 1999, 2001, 2004, 2016, 1987, 2010, 2010, 2006, 2010, 2000, 2002, 2011, 2003, 2009, 2006, 2007, 2007, 2014, 2003, 2013, 2004, 2006, 2015, 2004, 2017, 2003, 2014, 2006, 2012, 2009, 1998, 2006, 2019, 2010, 2016, 2009, 2014, 2014, 2016, 2010, 2015, 2019, 2018, 2003, 2007, 2011, 2005, 2012, 2011, 1996, 2003, 2014, 2012, 2015, 2009, 2007, 2005, 2015, 2016, 2005, 2001, 2012, 1994, 2005, 2001, 2015, 2002, 2008, 2000, 2014, 2010, 1999, 1986, 2007, 2016, 2014, 2004, 2003, 2010, 2019, 2008, 2005, 2012, 2008, 2001, 2019, 2006, 2016, 2013, 2012, 2018, 2012, 2013, 2007, 2003, 2016, 2002, 2017, 1998, 2014, 2009, 2011, 2016, 2014, 2010, 2011, 2004, 2009, 1990, 2018, 2011, 2014, 2015, 2017, 2019, 2017, 2019, 2019, 2017, 2017, 2016, 2018, 2018, 2018, 2008, 2012, 2010, 2005, 2019, 2004, 2006, 2008, 2017, 2006, 2011, 2011, 2020, 2006, 2013, 2011, 2019, 2012, 2016, 2013, 2006, 2013, 2009, 2006, 2013, 2012, 2000, 2015, 2011, 2011, 2018, 2016, 1991, 2007, 2010, 2006, 1999, 2001, 2012, 1996, 2000, 2002, 2010, 2006, 2011, 2005, 2006, 2010, 2007, 2006, 2016, 2014, 1997, 2010, 2017, 2012, 1999, 2001, 2010, 2016, 2015, 1976, 2004, 1991, 2007, 2017, 2008, 2009, 2012, 2007, 2012, 1991, 2007, 2002, 2014, 2007, 2006, 2013, 2005, 2013, 2005, 2006, 2008, 2005, 2010, 2014, 2017, 2013, 2013, 2005, 2012, 1997, 2008, 2011, 1999, 2000, 2007, 2013, 2014, 2011, 2019, 1985, 2008, 2010, 2015, 2008, 1987, 2000, 2004, 2009, 2005, 2005, 2008, 2019, 2008, 2014, 2012, 2006, 2011, 2005, 2013, 2010, 2006, 1995, 2012, 2005, 2009, 2016, 2004, 2016, 2008, 2010, 2009, 2002, 2009, 2016, 2001, 2012, 1988, 2000, 2013, 2015, 2001, 2010, 1997, 2008, 2012, 2013, 2006, 2016, 2004, 2003, 2015, 2012, 2012, 2012, 2008, 2002, 2014, 2009, 2012, 2006, 2009, 2004, 2016, 2008, 2014, 2013, 2018, 2016, 2014, 2013, 2016, 2011, 2015, 2013, 2016, 2014, 2018, 2012, 2013, 2007, 2015, 2009, 2014, 2011, 2017, 2007, 2010, 2008, 2002, 2014, 2015, 2016, 2014, 2014, 2015, 2013, 2009, 2013, 2010, 2013, 2012, 2019, 2019, 2012]}, {\"marker\": {\"opacity\": 0.8}, \"name\": \"New\", \"type\": \"histogram\", \"x\": [2020, 2019, 2019, 2019, 2020, 2019, 2020, 2019, 2019, 2019, 2019, 2019, 2019, 2019, 2019, 2018, 2019, 2019, 2019, 2019, 2019, 2020, 2019, 2020, 2019, 2019, 2019, 2020, 2019, 2019, 2019, 2019, 2020, 2020, 2020, 2019, 2019, 2019, 2019, 2020, 2020, 2019, 2019, 2020, 2019, 2019, 2019, 2020, 2019, 2019, 2019, 2020, 2019, 2020, 2019, 2019, 2019, 2019, 2019, 2019, 2019, 2019, 2019, 2019, 2019, 2019, 2019, 2019, 2019, 2019, 2019, 2019, 2019, 2019, 2019, 2020, 2019, 2019, 2019, 2019, 2019, 2019, 2019, 2019, 2019, 2020, 2019, 2019, 2019, 2019, 2020, 2019, 2019, 2019, 2019, 2019, 2019, 2020, 2019, 2019, 2019, 2019, 2019, 2019, 2019, 2019, 2019, 2020, 2019, 2019, 2019, 2019, 2019, 2019, 2020, 2019, 2019, 2019, 2019, 2019, 2019, 2019, 2019, 2006, 2019, 2019, 2019, 2019, 2019, 2019, 2019, 2019, 2019, 2019, 2019, 2020, 2019, 2019, 2019, 2019, 2019, 2020, 2020, 2019, 2020, 2019, 2019, 2020, 2008, 2020, 2019, 2020, 2019, 2020, 2019, 2020, 2019, 2020, 2020, 2020, 2019, 2019, 2019, 2019, 2019, 2020, 2020, 2019, 2020, 2019, 2020, 2019, 2019, 2020, 2020, 2019, 2020, 2020, 2019, 2019, 2019, 2019, 2020, 2020, 2019, 2020, 2019, 2019, 2019, 2019, 2020, 2019, 2019, 2019, 2019, 2019, 2019, 2020, 2019, 2020, 2019, 2019, 2019, 2019, 2019, 2019, 2020, 2020, 2020, 2019, 2020, 2019, 2020, 2019, 2020, 2019, 2020, 2019, 2019, 2019, 2020, 2020]}],\n",
       "                        {\"barmode\": \"overlay\", \"template\": {\"data\": {\"bar\": [{\"error_x\": {\"color\": \"#2a3f5f\"}, \"error_y\": {\"color\": \"#2a3f5f\"}, \"marker\": {\"line\": {\"color\": \"#E5ECF6\", \"width\": 0.5}}, \"type\": \"bar\"}], \"barpolar\": [{\"marker\": {\"line\": {\"color\": \"#E5ECF6\", \"width\": 0.5}}, \"type\": \"barpolar\"}], \"carpet\": [{\"aaxis\": {\"endlinecolor\": \"#2a3f5f\", \"gridcolor\": \"white\", \"linecolor\": \"white\", \"minorgridcolor\": \"white\", \"startlinecolor\": \"#2a3f5f\"}, \"baxis\": {\"endlinecolor\": \"#2a3f5f\", \"gridcolor\": \"white\", \"linecolor\": \"white\", \"minorgridcolor\": \"white\", \"startlinecolor\": \"#2a3f5f\"}, \"type\": \"carpet\"}], \"choropleth\": [{\"colorbar\": {\"outlinewidth\": 0, \"ticks\": \"\"}, \"type\": \"choropleth\"}], \"contour\": [{\"colorbar\": {\"outlinewidth\": 0, \"ticks\": \"\"}, \"colorscale\": [[0.0, \"#0d0887\"], [0.1111111111111111, \"#46039f\"], [0.2222222222222222, \"#7201a8\"], [0.3333333333333333, \"#9c179e\"], [0.4444444444444444, \"#bd3786\"], [0.5555555555555556, \"#d8576b\"], [0.6666666666666666, \"#ed7953\"], [0.7777777777777778, \"#fb9f3a\"], [0.8888888888888888, \"#fdca26\"], [1.0, \"#f0f921\"]], \"type\": \"contour\"}], \"contourcarpet\": [{\"colorbar\": {\"outlinewidth\": 0, \"ticks\": \"\"}, \"type\": \"contourcarpet\"}], \"heatmap\": [{\"colorbar\": {\"outlinewidth\": 0, \"ticks\": \"\"}, \"colorscale\": [[0.0, \"#0d0887\"], [0.1111111111111111, \"#46039f\"], [0.2222222222222222, \"#7201a8\"], [0.3333333333333333, \"#9c179e\"], [0.4444444444444444, \"#bd3786\"], [0.5555555555555556, \"#d8576b\"], [0.6666666666666666, \"#ed7953\"], [0.7777777777777778, \"#fb9f3a\"], [0.8888888888888888, \"#fdca26\"], [1.0, \"#f0f921\"]], \"type\": \"heatmap\"}], \"heatmapgl\": [{\"colorbar\": {\"outlinewidth\": 0, \"ticks\": \"\"}, \"colorscale\": [[0.0, \"#0d0887\"], [0.1111111111111111, \"#46039f\"], [0.2222222222222222, \"#7201a8\"], [0.3333333333333333, \"#9c179e\"], [0.4444444444444444, \"#bd3786\"], [0.5555555555555556, \"#d8576b\"], [0.6666666666666666, \"#ed7953\"], [0.7777777777777778, \"#fb9f3a\"], [0.8888888888888888, \"#fdca26\"], [1.0, \"#f0f921\"]], \"type\": \"heatmapgl\"}], \"histogram\": [{\"marker\": {\"colorbar\": {\"outlinewidth\": 0, \"ticks\": \"\"}}, \"type\": \"histogram\"}], \"histogram2d\": [{\"colorbar\": {\"outlinewidth\": 0, \"ticks\": \"\"}, \"colorscale\": [[0.0, \"#0d0887\"], [0.1111111111111111, \"#46039f\"], [0.2222222222222222, \"#7201a8\"], [0.3333333333333333, \"#9c179e\"], [0.4444444444444444, \"#bd3786\"], [0.5555555555555556, \"#d8576b\"], [0.6666666666666666, \"#ed7953\"], [0.7777777777777778, \"#fb9f3a\"], [0.8888888888888888, \"#fdca26\"], [1.0, \"#f0f921\"]], \"type\": \"histogram2d\"}], \"histogram2dcontour\": [{\"colorbar\": {\"outlinewidth\": 0, \"ticks\": \"\"}, \"colorscale\": [[0.0, \"#0d0887\"], [0.1111111111111111, \"#46039f\"], [0.2222222222222222, \"#7201a8\"], [0.3333333333333333, \"#9c179e\"], [0.4444444444444444, \"#bd3786\"], [0.5555555555555556, \"#d8576b\"], [0.6666666666666666, \"#ed7953\"], [0.7777777777777778, \"#fb9f3a\"], [0.8888888888888888, \"#fdca26\"], [1.0, \"#f0f921\"]], \"type\": \"histogram2dcontour\"}], \"mesh3d\": [{\"colorbar\": {\"outlinewidth\": 0, \"ticks\": \"\"}, \"type\": \"mesh3d\"}], \"parcoords\": [{\"line\": {\"colorbar\": {\"outlinewidth\": 0, \"ticks\": \"\"}}, \"type\": \"parcoords\"}], \"scatter\": [{\"marker\": {\"colorbar\": {\"outlinewidth\": 0, \"ticks\": \"\"}}, \"type\": \"scatter\"}], \"scatter3d\": [{\"line\": {\"colorbar\": {\"outlinewidth\": 0, \"ticks\": \"\"}}, \"marker\": {\"colorbar\": {\"outlinewidth\": 0, \"ticks\": \"\"}}, \"type\": \"scatter3d\"}], \"scattercarpet\": [{\"marker\": {\"colorbar\": {\"outlinewidth\": 0, \"ticks\": \"\"}}, \"type\": \"scattercarpet\"}], \"scattergeo\": [{\"marker\": {\"colorbar\": {\"outlinewidth\": 0, \"ticks\": \"\"}}, \"type\": \"scattergeo\"}], \"scattergl\": [{\"marker\": {\"colorbar\": {\"outlinewidth\": 0, \"ticks\": \"\"}}, \"type\": \"scattergl\"}], \"scattermapbox\": [{\"marker\": {\"colorbar\": {\"outlinewidth\": 0, \"ticks\": \"\"}}, \"type\": \"scattermapbox\"}], \"scatterpolar\": [{\"marker\": {\"colorbar\": {\"outlinewidth\": 0, \"ticks\": \"\"}}, \"type\": \"scatterpolar\"}], \"scatterpolargl\": [{\"marker\": {\"colorbar\": {\"outlinewidth\": 0, \"ticks\": \"\"}}, \"type\": \"scatterpolargl\"}], \"scatterternary\": [{\"marker\": {\"colorbar\": {\"outlinewidth\": 0, \"ticks\": \"\"}}, \"type\": \"scatterternary\"}], \"surface\": [{\"colorbar\": {\"outlinewidth\": 0, \"ticks\": \"\"}, \"colorscale\": [[0.0, \"#0d0887\"], [0.1111111111111111, \"#46039f\"], [0.2222222222222222, \"#7201a8\"], [0.3333333333333333, \"#9c179e\"], [0.4444444444444444, \"#bd3786\"], [0.5555555555555556, \"#d8576b\"], [0.6666666666666666, \"#ed7953\"], [0.7777777777777778, \"#fb9f3a\"], [0.8888888888888888, \"#fdca26\"], [1.0, \"#f0f921\"]], \"type\": \"surface\"}], \"table\": [{\"cells\": {\"fill\": {\"color\": \"#EBF0F8\"}, \"line\": {\"color\": \"white\"}}, \"header\": {\"fill\": {\"color\": \"#C8D4E3\"}, \"line\": {\"color\": \"white\"}}, \"type\": \"table\"}]}, \"layout\": {\"annotationdefaults\": {\"arrowcolor\": \"#2a3f5f\", \"arrowhead\": 0, \"arrowwidth\": 1}, \"colorscale\": {\"diverging\": [[0, \"#8e0152\"], [0.1, \"#c51b7d\"], [0.2, \"#de77ae\"], [0.3, \"#f1b6da\"], [0.4, \"#fde0ef\"], [0.5, \"#f7f7f7\"], [0.6, \"#e6f5d0\"], [0.7, \"#b8e186\"], [0.8, \"#7fbc41\"], [0.9, \"#4d9221\"], [1, \"#276419\"]], \"sequential\": [[0.0, \"#0d0887\"], [0.1111111111111111, \"#46039f\"], [0.2222222222222222, \"#7201a8\"], [0.3333333333333333, \"#9c179e\"], [0.4444444444444444, \"#bd3786\"], [0.5555555555555556, \"#d8576b\"], [0.6666666666666666, \"#ed7953\"], [0.7777777777777778, \"#fb9f3a\"], [0.8888888888888888, \"#fdca26\"], [1.0, \"#f0f921\"]], \"sequentialminus\": [[0.0, \"#0d0887\"], [0.1111111111111111, \"#46039f\"], [0.2222222222222222, \"#7201a8\"], [0.3333333333333333, \"#9c179e\"], [0.4444444444444444, \"#bd3786\"], [0.5555555555555556, \"#d8576b\"], [0.6666666666666666, \"#ed7953\"], [0.7777777777777778, \"#fb9f3a\"], [0.8888888888888888, \"#fdca26\"], [1.0, \"#f0f921\"]]}, \"colorway\": [\"#636efa\", \"#EF553B\", \"#00cc96\", \"#ab63fa\", \"#FFA15A\", \"#19d3f3\", \"#FF6692\", \"#B6E880\", \"#FF97FF\", \"#FECB52\"], \"font\": {\"color\": \"#2a3f5f\"}, \"geo\": {\"bgcolor\": \"white\", \"lakecolor\": \"white\", \"landcolor\": \"#E5ECF6\", \"showlakes\": true, \"showland\": true, \"subunitcolor\": \"white\"}, \"hoverlabel\": {\"align\": \"left\"}, \"hovermode\": \"closest\", \"mapbox\": {\"style\": \"light\"}, \"paper_bgcolor\": \"white\", \"plot_bgcolor\": \"#E5ECF6\", \"polar\": {\"angularaxis\": {\"gridcolor\": \"white\", \"linecolor\": \"white\", \"ticks\": \"\"}, \"bgcolor\": \"#E5ECF6\", \"radialaxis\": {\"gridcolor\": \"white\", \"linecolor\": \"white\", \"ticks\": \"\"}}, \"scene\": {\"xaxis\": {\"backgroundcolor\": \"#E5ECF6\", \"gridcolor\": \"white\", \"gridwidth\": 2, \"linecolor\": \"white\", \"showbackground\": true, \"ticks\": \"\", \"zerolinecolor\": \"white\"}, \"yaxis\": {\"backgroundcolor\": \"#E5ECF6\", \"gridcolor\": \"white\", \"gridwidth\": 2, \"linecolor\": \"white\", \"showbackground\": true, \"ticks\": \"\", \"zerolinecolor\": \"white\"}, \"zaxis\": {\"backgroundcolor\": \"#E5ECF6\", \"gridcolor\": \"white\", \"gridwidth\": 2, \"linecolor\": \"white\", \"showbackground\": true, \"ticks\": \"\", \"zerolinecolor\": \"white\"}}, \"shapedefaults\": {\"line\": {\"color\": \"#2a3f5f\"}}, \"ternary\": {\"aaxis\": {\"gridcolor\": \"white\", \"linecolor\": \"white\", \"ticks\": \"\"}, \"baxis\": {\"gridcolor\": \"white\", \"linecolor\": \"white\", \"ticks\": \"\"}, \"bgcolor\": \"#E5ECF6\", \"caxis\": {\"gridcolor\": \"white\", \"linecolor\": \"white\", \"ticks\": \"\"}}, \"title\": {\"x\": 0.05}, \"xaxis\": {\"automargin\": true, \"gridcolor\": \"white\", \"linecolor\": \"white\", \"ticks\": \"\", \"zerolinecolor\": \"white\", \"zerolinewidth\": 2}, \"yaxis\": {\"automargin\": true, \"gridcolor\": \"white\", \"linecolor\": \"white\", \"ticks\": \"\", \"zerolinecolor\": \"white\", \"zerolinewidth\": 2}}}, \"title\": {\"text\": \"Sample size by Production year and condition\"}, \"xaxis\": {\"title\": {\"text\": \"Production Year\"}}, \"yaxis\": {\"title\": {\"text\": \"Count\"}}},\n",
       "                        {\"responsive\": true}\n",
       "                    ).then(function(){\n",
       "                            \n",
       "var gd = document.getElementById('944d1e36-c863-4838-816c-b892941c0da9');\n",
       "var x = new MutationObserver(function (mutations, observer) {{\n",
       "        var display = window.getComputedStyle(gd).display;\n",
       "        if (!display || display === 'none') {{\n",
       "            console.log([gd, 'removed!']);\n",
       "            Plotly.purge(gd);\n",
       "            observer.disconnect();\n",
       "        }}\n",
       "}});\n",
       "\n",
       "// Listen for the removal of the full notebook cells\n",
       "var notebookContainer = gd.closest('#notebook-container');\n",
       "if (notebookContainer) {{\n",
       "    x.observe(notebookContainer, {childList: true});\n",
       "}}\n",
       "\n",
       "// Listen for the clearing of the current output cell\n",
       "var outputEl = gd.closest('.output');\n",
       "if (outputEl) {{\n",
       "    x.observe(outputEl, {childList: true});\n",
       "}}\n",
       "\n",
       "                        })\n",
       "                };\n",
       "                });\n",
       "            </script>\n",
       "        </div>"
      ]
     },
     "metadata": {},
     "output_type": "display_data"
    }
   ],
   "source": [
    "data=[]\n",
    "for condition in df.Condition.unique():\n",
    "    trace=go.Histogram(x=df[df.Condition==condition].Production_year,\n",
    "        marker=dict(\n",
    "    \n",
    "        opacity=0.8\n",
    "        ),\n",
    "        name=condition)\n",
    "    data.append(trace)\n",
    "\n",
    "\n",
    "figure=go.Figure(\n",
    "    data=data,\n",
    "    layout=go.Layout(\n",
    "    \n",
    "        barmode=\"overlay\",\n",
    "        title=\"Sample size by Production year and condition\",\n",
    "        yaxis=dict(title=\"Count\"),\n",
    "        xaxis=dict(title=\"Production Year\")\n",
    "\n",
    "    \n",
    "    ))\n",
    "iplot(figure)"
   ]
  },
  {
   "cell_type": "code",
   "execution_count": 31,
   "metadata": {},
   "outputs": [
    {
     "data": {
      "application/vnd.plotly.v1+json": {
       "config": {
        "linkText": "Export to plot.ly",
        "plotlyServerURL": "https://plot.ly",
        "showLink": false
       },
       "data": [
        {
         "marker": {
          "color": "red",
          "opacity": 0.3,
          "size": 5
         },
         "mode": "markers",
         "type": "scatter",
         "x": [
          4.816707687003671,
          5.685572777638833,
          28.147578602616193,
          7.382741453572459,
          18.277320128892367,
          0.849147574616197,
          1.8325462872699358,
          4.7338277050916675,
          1.352423612868348,
          2.232038412701213,
          1.5537220363833746,
          5.474406042775634,
          10.489546834514648,
          1.1133664282101698,
          7.376170711896786,
          13.916540910702924,
          9.44365950707767,
          0.9759355095190388,
          18.90332410913254,
          1.8919834166979554,
          0.5163413334097116,
          17.7400628046839,
          4.383826732283302,
          8.916649846871522,
          8.225770484212031,
          5.27252582696201,
          21.430039316606322,
          14.686435979708609,
          16.127208988026478,
          4.068983516018312,
          3.0567118298763947,
          10.43017485539008,
          19.052808927397948,
          10.617783393958053,
          1.1717778288822762,
          13.612809286201704,
          14.938688597513286,
          5.300175260677015,
          8.59192190846077,
          3.6952306682322242,
          12.660017029266303,
          15.654463909423606,
          12.01780601571041,
          3.6763147122816306,
          1.6116368471082292,
          5.789043725711332,
          4.84911252336167,
          7.397441311822504,
          2.65187125935471,
          10.601431450066087,
          10.817442384368102,
          15.28222159359107,
          4.588496967472771,
          4.728632227902673,
          16.172184699808135,
          4.6883274745844945,
          20.182361515508934,
          16.335940840644973,
          1.4911864852986199,
          8.881643584931595,
          21.603114185646767,
          16.560718689174347,
          6.663687849654195,
          13.247468213920838,
          14.673154925537862,
          3.657046293162526,
          5.671979612421253,
          6.414850281421528,
          11.235411430049231,
          1.9357448149457974,
          13.876038815979014,
          6.2737041157403795,
          18.22769038498192,
          28.604704494899117,
          5.864120722311769,
          11.322779193207168,
          1.3026055838659945,
          2.613412381471228,
          9.993943539505777,
          1.6942095327305973,
          1.2086049380916815,
          1.938033150908809,
          15.245721349138542,
          3.975922147430473,
          8.513885192382485,
          8.75029872521378,
          8.585910838447553,
          1.2410493166274374,
          1.091314256242395,
          6.963182634541969,
          15.290976338954108,
          1.7070313966975914,
          6.83972646245351,
          6.087035207557339,
          4.162698916929339,
          1.4151413990842188,
          8.539797555112955,
          6.914367232364589,
          11.51559368514851,
          11.599799134156898,
          2.0481193418868395,
          16.645809083102034,
          3.8670719290309172,
          4.925071609571699,
          8.73140209308608,
          1.6202647253861782,
          1.5941302229685905,
          13.954746247670704,
          6.876294516030255,
          36.7591758400092,
          21.508062598669405,
          11.39854308133583,
          4.324945507172703,
          11.909994199680577,
          4.4811204601155845,
          11.739844124121623,
          12.134302705890097,
          4.400470575952931,
          2.820548059474197,
          3.0768357902396417,
          2.583043238606775,
          5.838543953193839,
          2.593059251818031,
          6.413328457216975,
          3.1510622878994536,
          12.194294900542836,
          6.816776415123919,
          4.1767230445108465,
          1.560627932661529,
          3.206114384581173,
          3.8447307218195226,
          1.9404486768643938,
          5.653558307002523,
          17.98335543695242,
          21.54308119977506,
          2.006179371908982,
          5.698364388799024,
          7.7058516924367355,
          9.801570233256902,
          2.943075422419075,
          11.28467664592743,
          2.2650935774007266,
          4.473475287503641,
          14.299520675713037,
          1.445690681462472,
          14.217848153332204,
          3.427311411988187,
          13.77002202712913,
          2.850782383292713,
          12.718704896353373,
          10.452312826967589,
          9.142293259681997,
          12.596059673511586,
          16.448445253485975,
          2.0263735033557797,
          3.4457416902385596,
          15.25047626363095,
          3.355911585916941,
          4.431605135780119,
          5.275473230167845,
          5.918448329003686,
          2.2729494941162853,
          3.9555714515948313,
          4.618601613165516,
          9.59352136654472,
          1.3414329398253055,
          3.0753957910856298,
          7.089556678318382,
          2.8537151652484587,
          2.7234915452098187,
          4.113816503452452,
          15.57998794864901,
          2.7457517902828137,
          6.887245133460933,
          1.9973692588729302,
          1.0452005387012993,
          6.393874487094601,
          1.015302732321092,
          4.947035642734971,
          4.31456703440468,
          1.62563941863384,
          1.8718110854313044,
          1.4702009578717692,
          1.4749267362299934,
          4.702551560959034,
          1.2735698890145655,
          1.3298141804272787,
          0.8294723057874906,
          1.407679911047122,
          4.595265024948807,
          1.4808899176089394,
          6.782382844889615,
          0.5220240583014087,
          1.4985149220275686,
          1.0601564859165267,
          1.3043818166929086,
          1.5619475154023537,
          4.408042912546646,
          4.301112401228984,
          4.982081651798954,
          6.8041384438036685,
          4.857916875309215,
          0.677602225932939,
          4.866740520160979,
          1.101320695257654,
          1.8318728897630672,
          1.363179475517499,
          1.8590487211265625,
          4.354551147924644,
          1.9541001572690635,
          1.3944162518764966,
          1.0536935577582713,
          6.120894824696856,
          2.4117354858739906,
          0.7786766194462243,
          1.557599752274705,
          0.9274462258883205,
          0.22919052197973266,
          1.4522762673102614,
          1.240190368980269,
          8.377475946089227,
          1.417659294670141,
          3.201130153819885,
          5.964321051744419,
          1.6735947529986035,
          4.89071053564612,
          4.094350662061305,
          0.15255795895536706,
          3.6661385021583475,
          9.540749998420852,
          0.6770118711047222,
          1.027830457872538,
          1.0908102515901787,
          1.566263499860732,
          0.7129407815787481,
          1.0169371493030688,
          1.6363133064510245,
          1.9200843477283436,
          4.182900308007009,
          14.127645173951635,
          1.1916833306159973,
          1.0973879546204395,
          5.952832231343973,
          3.2035194333973966,
          4.948904551621128,
          1.1050322862435433,
          1.4774296477308058,
          13.326290682564425,
          5.085631205077329,
          4.131525724281364,
          24.714681843670963,
          1.3798783589984431,
          2.0851717111604477,
          3.142227734120602,
          1.31583118528477,
          1.1574104804948884,
          2.617418572355503,
          0.30796983663970023,
          1.2454407642487535,
          1.4279705080810627,
          1.1727159790902044,
          5.877769946632035,
          1.1790936316441336,
          1.4898466199453195,
          1.1855681501846917,
          1.9415831370317664,
          1.370898113863999,
          13.365402329213332,
          14.04431195673336,
          1.9839674788627715,
          2.385735711045817,
          5.677039277587104,
          0.5319081417161479,
          5.0687739372249165,
          3.8731458432165526,
          2.439715340079379,
          10.890338156859048,
          1.3341943548532007,
          1.555360909853988,
          2.1956139585203243,
          0.03160593654065458,
          1.0874675051380363,
          5.296598650534405,
          1.1472619576514913,
          1.5320858412282954,
          1.7356857231775025,
          4.909918121658278,
          1.9827206563317465,
          3.714396021843048,
          1.427447477600176,
          4.804044594070043,
          16.765870482193353,
          1.3880956777657327,
          22.995621276967295,
          11.74333672290135,
          2.1099740869576644,
          9.23104654743071,
          6.315896718735816,
          1.1117570267744425,
          1.6774615191696796,
          1.654834841742356,
          11.240454794450203,
          1.2500949663174115,
          2.5031270363889004,
          1.7776306547308343,
          1.0516385365903642,
          1.1716986614990996,
          2.1673090434677382,
          1.7996703345204854,
          1.400597080103454,
          5.36164712585343,
          1.3626579668539363,
          1.056067534019261,
          14.503215345898374,
          1.8555195266188962,
          1.6125643646743664,
          1.9977379452463184,
          4.848406371608769,
          1.688626388067961,
          1.9545819285342263,
          4.461436597323334,
          1.0618077840707896,
          2.0970618739261546,
          13.379377373291579,
          1.7357514782667303,
          1.640558146803964,
          2.172796702206414,
          1.6617380871451612,
          2.924405938999545,
          4.363760545619678,
          1.0384322198374303,
          2.216065894780598,
          9.321278268023034,
          6.98564589438546,
          1.9378555674755567,
          1.1851453636191427,
          1.9323552766318106,
          4.172358712194248,
          1.2822972091124571,
          1.318825658175565,
          1.3707800222733542,
          1.7430618682555807,
          4.022124485073417,
          1.630656720875014,
          1.7029253847715944,
          13.731393584716542,
          1.8610362234310265,
          8.649127188061383,
          2.328415139793255,
          6.52802539334238,
          1.6638310423832754,
          1.0506097435092243,
          1.9903728557077836,
          8.233504087496568,
          8.292077058506663,
          1.0583548866632317,
          1.0535278541228674,
          10.154792970592665,
          3.855547922819899,
          1.920707159657145,
          2.7122936006678575,
          1.6935967702352974,
          2.0989588730497326,
          0.8058726313122682,
          10.493280707775918,
          1.3190977494869163,
          2.967531160905997,
          2.289782630934776,
          1.5005563534576174,
          1.8844706050496014,
          4.234691258589844,
          4.465927575463423,
          2.865334982863102,
          2.6738515792920357,
          3.327042820844814,
          3.162560375979538,
          4.121309446880089,
          1.879081550068695,
          4.746039523005546,
          12.565214154353114,
          1.143245709274189,
          2.416350284051192,
          1.334326288962096,
          2.097693024413792,
          1.350659602810207,
          1.0876342802074537,
          3.653687699678141,
          3.0105489463627797,
          16.08568894792982,
          6.554303453229695,
          2.654444246215316,
          1.6709830470088263,
          1.6226594746627396,
          1.5011002014928378,
          2.368694684146781,
          1.552341495744248,
          17.608739405534294,
          6.9622635117823695,
          7.7878406335028165,
          2.112417969654699,
          1.9778676307146088,
          13.269612045268087,
          1.3353401914054572,
          8.922451908634761,
          9.35735114089717,
          7.138523659911174,
          15.111008330441985,
          1.5217554208989408,
          0.22589650932271543,
          1.5461274120887207,
          1.53230591719888,
          1.619237516009378,
          4.95082774415547,
          14.314399240524779,
          5.9806439610747075,
          8.504669909150097,
          6.668742273203201,
          0.7827967367830844,
          1.3351877749335532,
          2.170580723109774,
          19.745444224725723,
          1.7355241704032704,
          2.8062278001479886,
          1.1087491901901303,
          1.2906365565358793,
          0.39988151271942174,
          9.569652515631997,
          1.433769327079975,
          1.2828569728506678,
          5.875782945632027,
          4.108800853625568,
          13.7226435778047,
          1.6932959159919259,
          21.824556604312875,
          6.639228393103225,
          7.523009285981472,
          6.2091345464059335,
          5.3478038277406785,
          2.0701561216674387,
          1.4478642682219265,
          1.207874248387014,
          1.7955207605607901,
          1.6529899380769755,
          2.2082375333210185,
          17.645028727326867,
          13.509632619278337,
          4.186476403639767,
          2.0322520464347322,
          14.541286342676196,
          2.2735433616973855,
          14.337308072477644,
          15.83238540253407,
          1.9688024201044776,
          0.8734783848446969,
          1.4872876351058464,
          7.7690307882095935,
          4.517702987625537,
          4.866534092899209,
          16.82714395755059,
          1.471216587003486,
          2.7044535432701586,
          8.63658049543449,
          16.33206549779076,
          1.2496305665285794,
          1.1009488201050017,
          1.4235430472236712,
          5.573702009819819,
          1.6989114440376496,
          6.36230261840678,
          1.9687099961951766,
          1.9064048205089925,
          1.7286707676684614,
          1.900028613336975,
          4.386125087022107,
          3.9627695342366374,
          4.906325377228484,
          1.3133393208343178,
          3.591080359120093,
          10.4675236123005,
          5.679906995638701,
          1.2606669728614728,
          1.9239142268549574,
          1.543481514237481,
          0.6051906221840857,
          16.77811187261776,
          0.903943364141432,
          3.53138215291958,
          1.6488473944530826,
          1.9441394723370742,
          6.167946115320224,
          3.675922515113411,
          1.0006973596954176,
          1.3909880680476865,
          1.465053767591825,
          3.0575705450435944,
          11.751223534552624,
          1.3904766637444068,
          1.9036136380581918,
          3.0111127899103423,
          5.311524825483314,
          2.9150521138942134,
          3.9894932616411434,
          1.8909450807088355,
          3.080462080392235,
          1.463137251926871,
          0.024377306062420723,
          1.9069863953870996,
          4.731682425654831,
          1.381788786019536,
          1.8627589408663905,
          22.743596876022703,
          10.164841733367028,
          7.052644215008786,
          13.6582183751189,
          13.948764535050193,
          12.192081971785164,
          10.510023892936129,
          5.92930705637768,
          38.537042818706645,
          6.047060746898472,
          1.0369444453238494,
          15.26161526675765,
          5.1149363740607985,
          5.205144589231188,
          12.544694875904886,
          1.8644236951616986,
          4.383749020531347,
          5.1785573013128205,
          12.669225097470319,
          3.730931122547709,
          1.6400144390696683,
          8.31710650862403,
          12.212594640071526,
          5.6993940732825115,
          7.927501303816473,
          12.812637863654793,
          13.638901081670154,
          4.835714388703792,
          15.083316646947797,
          8.205762854313663,
          9.490905954146521,
          3.3756674336594115,
          1.5777657605073867,
          9.734909002711243,
          6.200052049003575,
          17.039959910785257,
          5.894633123535488,
          1.2289161020261814,
          1.3120531173879053,
          24.007555588995793,
          10.858389234415672,
          8.406591815157196,
          10.252002758327666,
          20.067039036180553,
          11.247914819296827,
          5.144272943204229,
          1.1197304386905829,
          1.071772589601228,
          24.723354894346816,
          1.4268137803518612,
          2.995712811475625,
          5.119703252355192,
          26.509246886850825,
          6.108473119991169,
          14.420131058663202,
          9.088349786882704,
          13.630249082541368,
          11.510258483779554,
          4.256393717873239,
          13.488432374831289,
          14.039008100055234,
          19.93275257413655,
          9.74963475031551,
          15.064999680714097,
          10.064793717466742,
          1.3717387317671834,
          4.820935785499425,
          18.231611936386056,
          13.744542804969466,
          16.491046442025052,
          12.314996248179952,
          20.92544270934005,
          19.75750704258835,
          18.913353746209403,
          9.283924127683457,
          11.602443629207322,
          14.92047073908443,
          18.5440149920629,
          16.39826116601326,
          17.10688030991652,
          7.870042754350081,
          18.32973453913502,
          14.158341075965422,
          5.645429918757668,
          10.668576885228505,
          19.713419370798132,
          11.954311411187097,
          15.222019599123128,
          19.99244545112278,
          8.44320217312277,
          6.399385024212838,
          5.034001928173324,
          16.482859758277637,
          18.61671612052531,
          13.653130298819043,
          13.371316174763386,
          15.488613103967888,
          1.934333911938734,
          11.462320740038205,
          15.489510751898061,
          10.144180918111443,
          11.34276503863704,
          19.12595019385509,
          2.4167391720432367,
          18.611634413842605,
          8.01350196296956,
          11.545269622088835,
          13.868738673422582,
          7.734793383850894,
          5.3424817404538665,
          17.82915249493752,
          9.454243797442409,
          32.304962577927725,
          9.786402732987717,
          10.96158360749083,
          11.399421513986784,
          17.003619559396284,
          12.065989042699018,
          12.164958048184083,
          17.03139793771399,
          12.195933339551459,
          19.548644565764686,
          5.833138955555587,
          3.4689442149565073,
          14.465372078851894,
          16.87626361548738,
          13.01162833208608,
          14.84561247612251,
          11.046806216513806,
          9.721814052561376,
          12.217839057257205,
          18.941035585889637,
          7.986313393020827,
          5.832749680923,
          9.931537255536556,
          8.933832485417685,
          13.28050711932936,
          11.323705550559785,
          14.592094667429686,
          11.491597523464993,
          18.42684821538945,
          18.803613682042144,
          3.577113979147674,
          5.137575290043876,
          12.25596849317299,
          5.288286460857142,
          8.042236192602937,
          3.042704758244727,
          20.084064485085662,
          15.125078118586075,
          4.769292976490865,
          13.216400338338293,
          2.156786930110111,
          10.194755383328253,
          1.0500874803363973,
          10.455894193489595,
          12.51207576834782,
          4.369669823817295,
          5.099363545586869,
          8.144733211747265,
          2.7167910726062976,
          4.147738463570081,
          3.4404093914863934,
          19.906583874008597,
          17.391588166291076,
          1.3917226589931833,
          13.022382349909027,
          13.907205726514164,
          5.800279683885278,
          2.4241452585301007,
          2.69782010651421,
          1.3875076905220993,
          8.219567730147409,
          1.8781489675890115,
          1.3921975959142139,
          7.129461256454704,
          1.4691235136318654,
          1.286590889535426,
          6.906569886427552,
          3.793081708053789,
          2.9104389368828016,
          13.855503286182046,
          1.363550254436308,
          1.0941638034978403,
          4.963437673177866,
          5.583768458026703,
          1.4243306549431192,
          1.7847020220448755,
          11.345385596919932,
          13.942904063901118,
          1.019794059458894,
          1.188579335662113,
          4.9086281508514125,
          5.522493784153193,
          13.174274465164938,
          0.536718437557168,
          16.75886809211527,
          18.263175910388448,
          4.196597748311461,
          6.462287033157412,
          7.553997851464996,
          9.150149892948072,
          1.5169192969501726,
          20.16506687917822,
          16.98220064204939,
          5.986069775355923,
          12.94385687455333,
          4.817095006195073,
          8.972872290678948,
          15.678870709426375,
          2.6188703950395222,
          14.372066967492659,
          14.81421592508915,
          11.488806990671089,
          5.518593140285836,
          1.5824083249734375,
          15.877540215236584,
          12.611184313127888,
          10.516994843739344,
          13.121629828373397,
          2.2938187295429473,
          5.688532024897724,
          3.142441066743734,
          15.4793462173649,
          18.641714336454555,
          6.14599352273247,
          11.072085689974841,
          21.995841259453698,
          16.691664188247653,
          7.5510220487483,
          17.032674608993652,
          20.295877342539605,
          7.062648514960147,
          4.368310753246639,
          9.044614674889909,
          1.317035453934138,
          6.925688231943431,
          7.772786825772693,
          13.859196588842531,
          6.044507995484973,
          15.681873743928717,
          12.991512466764659,
          21.167897658059374,
          5.495795692271204,
          21.87874028398421,
          1.5591150316482543,
          4.461288041523442,
          1.9771291855174469,
          2.8771801835150774,
          17.568785553120147,
          1.0324509300700677,
          1.7943514848506226,
          5.232020520103086,
          19.0187920486519,
          13.427293162535952,
          5.087963462542478,
          10.44684323657944,
          4.713425157692147,
          10.102063637890124,
          5.033296405315462,
          7.14783522817882,
          2.3353867149170364,
          4.080524792338254,
          3.98359731320726,
          15.030741152774896,
          3.0300352356848905,
          7.891000728973406,
          4.972614041105496,
          11.822544526535633,
          5.909491463023341,
          3.693917550023521,
          5.291666561759089,
          13.393585600403622,
          5.91933518800907,
          1.7397739333240732,
          13.701858925375076,
          5.856604290416188,
          2.398799001287208,
          4.227111897136646,
          10.591076775297466,
          2.3891174441945178,
          5.279188375808589,
          15.717002882193208,
          13.198663817632966,
          1.9503031127360346,
          9.423011164310761,
          0.028030240817769836,
          5.122788393995639,
          4.099752767058052,
          18.409157227860238,
          11.981828492795035,
          5.367025516500776,
          4.683269178265387,
          24.551287328749208,
          15.976185642026685,
          13.873628302560643,
          14.396950404358307,
          20.507174682145585,
          1.7290953291492972,
          13.873882483438761,
          9.472140944955083,
          2.8302472501493106,
          15.465424071213176,
          8.434905549500488,
          1.4126650981557116,
          4.727600863978271,
          12.450629700726608,
          2.4629283075674384,
          7.4415554056501705,
          6.421076560357781,
          3.499509833005564,
          5.9741541037748105,
          14.781190316409889,
          1.9255534234827223,
          10.874907351204774,
          18.633211968873262,
          14.03778618775414,
          1.2074325021517662,
          18.054111479726956,
          19.792359776566947,
          10.211854561819598,
          19.36723469602321,
          15.006934301996962,
          5.97471727264995,
          10.018121338104468,
          1.9161414924249867,
          13.493668672256852,
          11.129510676610375,
          1.3560384437136146,
          1.122364279871392,
          9.06942342467734,
          12.845414912335297,
          4.9187884465870955,
          19.302905622465186,
          16.484180435981152,
          10.929229465243942,
          1.1651579140527808,
          8.234997349223553,
          5.488294677737267,
          15.634340731502682,
          3.1051107583594106,
          16.468984929898596,
          9.336578918485957,
          11.147748723456017,
          19.263893406825904,
          12.621052199088812,
          16.964713513016154,
          10.029075309176017,
          13.990006428492622,
          5.293472029152077,
          13.963488101100847,
          22.45058418841638,
          5.453174497576345,
          2.125137949062744,
          8.710015777986284,
          13.842230981075575,
          12.274128430089688,
          6.578020574332575,
          14.70181892207245,
          5.637102316584756,
          4.221641696206187,
          0.5249154357049091,
          3.0910288305547833,
          5.706458971882715,
          5.089571596802898,
          11.169462048103002,
          11.76006267905579,
          19.775849201088466,
          14.676817707486977,
          19.897849706745784,
          20.676900226150575,
          17.767544333213493,
          0.16490534633787657,
          9.275141245730202,
          2.6611203680026243,
          8.61427683426955,
          15.380369246705373,
          12.80802488711643,
          4.601140447915947,
          1.2271068970054146,
          20.621739021462872,
          4.263688346603811,
          5.663998030361776,
          18.993145892809245,
          6.6823940272721325,
          4.634091760105809,
          15.472651931042225,
          14.799431960728263,
          6.643685524638027,
          4.120443791020342,
          12.879033043104856,
          0.8847311253933408,
          16.314443425182695,
          15.77466891148235,
          2.2017107534342886,
          6.361151520102714,
          4.189818335609206,
          12.907206880356338,
          2.3455484476969,
          9.541125855823626,
          3.0149857915193894,
          12.614812012793557,
          1.0794461894987353,
          13.949408984532669,
          5.1014947823258545,
          22.7785939391754,
          20.396039721222394,
          5.248259471254447,
          18.10016452420718,
          5.175445915609726,
          12.410613516687437,
          7.582123964451049,
          5.274032233692947,
          5.079127356676439,
          8.150604515937868,
          10.277114007520554,
          5.315482250319858,
          16.43086801516344,
          1.5512047893777936,
          17.702913061135312,
          8.82030251812997,
          7.602862962348352,
          18.313105692963,
          3.8781065861976733,
          14.81112354117327,
          2.050455477784224,
          11.333484917689924,
          15.316501119881833,
          22.13525318911109,
          11.931063498145152,
          4.3373463061398025,
          0.9672759122165459,
          9.828766208923783,
          3.0568239609344965,
          11.925770067396424,
          6.0021986608173705,
          4.904850838936103,
          3.520254033403047,
          15.210447859214641,
          4.956747382388425,
          15.029457800167297,
          1.4402136291844325,
          13.266572811576665,
          2.0594555081271055,
          13.280196755992563,
          1.2152123157381054,
          8.242514432097915,
          0.7709056309347608,
          16.00959993654676,
          12.868408365788067,
          13.759241826146722,
          9.869080928965824,
          16.602262475444093,
          16.17586720325258,
          3.4775057786575174,
          15.194173873279327,
          13.772201387892018,
          21.450136723690868,
          4.230552161526601,
          7.34960221679322,
          12.621401973187282,
          8.041699851361791,
          15.742149338925735,
          20.246177394515993,
          7.707915184610378,
          18.05675870950804,
          26.96533843342362,
          3.4956970811931942,
          5.56090735499667,
          3.5585172512097687,
          0.648138972659719,
          6.624566738425732,
          11.388275182026916,
          23.749399398570368,
          9.896993359784158,
          15.159467498607771,
          4.537602978932048,
          2.5010251915445814,
          2.833654277631201,
          13.265253741633297,
          12.138222977025501,
          11.549495418281374,
          15.254385059586351,
          13.235869958521912,
          10.601299651985295,
          19.232165961940073,
          21.278926807285444,
          5.204903389516615,
          4.940921117062581,
          6.884100615217608,
          13.30464898406076,
          6.040385417435477,
          14.094796761677449,
          2.8882708721216988,
          15.766999255963421,
          5.380175929672892,
          10.405972306809101,
          9.17961637298412,
          13.934708364523242,
          2.8458357105976257,
          13.570538075918165,
          3.0971846159829934,
          7.5026392872907675,
          5.058889668918337,
          16.562522759735486,
          12.94431332866174,
          18.142894479093822,
          2.18473980817378,
          1.3100847485955516,
          4.528561254959745,
          9.622363203981351,
          6.375141258955896,
          4.582311435326359,
          4.1893398482334305,
          7.401806272979523,
          1.3909166053749251,
          6.766571407907466,
          11.232887164213507,
          9.508581043811077,
          14.222192663656097,
          5.329401599870565,
          4.645562068628811,
          10.68271787527259,
          5.867414662947102,
          4.590281659259242,
          1.6372444618526378,
          18.597939221337864,
          15.840301640706754,
          1.550119164689189,
          14.242416352121388,
          7.803070673052596,
          4.472867865509658,
          14.669358243652125,
          14.800626519125819,
          0.9012843535589995,
          11.015708849994358,
          16.223690738675128,
          1.3258582199612992,
          1.8144546261257837,
          18.10126543024494,
          23.139634850481254,
          0.7981106544770441,
          14.478844836859412,
          11.091118303054845,
          13.585097935951207,
          9.084927238873865,
          17.668941793476687,
          16.819425706488875,
          1.016361074031995,
          13.301766680511577,
          2.7635066014733214,
          5.584638276377456,
          5.178082060311706,
          19.917441313447092,
          10.712913037321197,
          16.01759836930376,
          1.58374679279124,
          16.487538668972377,
          3.6763966863355515,
          7.15930539520121,
          7.335392059146557,
          11.9570646179099,
          13.06871791025886,
          5.344862432493154,
          3.899749626185827,
          0.0476135507033979,
          16.400528449714287,
          7.6891032738411065,
          16.495662608626702,
          4.7308221049621855,
          9.757606052502977,
          15.437441061029944,
          15.618804791803006,
          3.46052556967066,
          5.907473827700026,
          1.8345235419373394,
          15.91098604470021,
          6.107756905970017,
          8.356840810769373,
          2.8316042221366367,
          6.422523352111627,
          0.7303069176800994,
          19.36749718949016,
          3.5518904249519445,
          7.089428356240108,
          13.770892355471677,
          17.206125185413242,
          12.037766043518534,
          8.749163262689029,
          4.311819819057763,
          5.063954018648911,
          11.497175161788308,
          4.329323879259984,
          10.283417978978466,
          0.3675462576258307,
          15.272375856852118,
          15.73359762813891,
          9.690332393590932,
          6.967845165730829,
          8.533500184024504,
          5.34222063309635,
          7.25087083799274,
          15.330809400369668,
          0.0007046858080075324,
          6.0304816090059195,
          7.533152303140409,
          4.907569469336172,
          14.297371692565202,
          14.897688140114093,
          5.156425377325573,
          14.141531186156476,
          14.995560954313886,
          1.10617329512037,
          10.370313584185446,
          11.543782600603265,
          1.9981906875292834,
          1.3548418895996677,
          12.584938600708615,
          4.384177201515713,
          1.3558052894144716,
          5.028972477228753,
          4.607548876006165,
          14.520136353328628,
          3.4048945211174755,
          20.903636840276715,
          1.5636472742007042,
          5.008493587061711,
          2.946382782335802,
          1.3838072232067824,
          1.4579611014693294,
          15.307796906324494,
          16.6895731733653,
          3.1646963573857416,
          1.3543447357221505,
          1.4776874659390926,
          10.155069966058647,
          10.335011348573012,
          3.333064491326005,
          15.232826340279713,
          18.070223448989676,
          8.286806036745517,
          18.171056460070783,
          18.036002469273825,
          6.355503325307747,
          13.682671138066715,
          6.104222632368294,
          15.027895281169414,
          5.3612801051272045,
          12.274568304481821,
          15.295008302881616,
          7.323931463672331,
          18.246718389122417,
          3.1722732657326924,
          10.107201741021663,
          9.519435006697769,
          18.88217697243637,
          13.320147415824012,
          6.493933754111849,
          9.170627571898974,
          2.59917378102539,
          13.407203808280439,
          7.524096830260337,
          5.876756908896817,
          3.3234285999703723,
          17.20880016455757,
          5.9908651672533635,
          9.29672778238948,
          3.5222578081898113,
          15.312692334915367,
          16.53924973263692,
          9.903871676541884,
          18.447288661050077,
          14.696334778216226,
          11.663616481861126,
          10.959751016105026,
          18.832360893946525,
          8.432126743753964,
          6.92625182535357,
          16.357280682063475,
          5.444453574575999,
          12.239305847215977,
          4.21599746209174,
          18.97735149365567,
          13.950338785555466,
          2.413403780069454,
          12.082636470906198,
          5.272471699078276,
          14.32781987436471,
          5.087803545125721,
          4.400531574939904,
          8.681593964182253,
          18.35399432621501,
          17.92611316125196,
          9.095081096883671,
          4.903050494982937,
          6.721110300381731,
          12.569188667918555,
          9.845041926989948,
          0.5465946767364235,
          9.318819370055603,
          9.476049793248798,
          12.417165909132416,
          21.399596835390387,
          9.625966612911114,
          5.540355284206105,
          2.0439522108603994,
          0.9917634664359628,
          13.474635964045781,
          8.568416965746632,
          8.385354649738698,
          11.756348527663539,
          18.060348745389792,
          1.6914550912125965,
          0.07176584331038005,
          1.9761034844695589,
          0.8753373531820596,
          21.458339705720768,
          1.813410028000002,
          1.174644569575415,
          0.11464554965536611,
          0.18477625834475508,
          1.9091360274411084,
          0.7977049430126718,
          0.1011255967840824,
          16.386906109260767,
          1.3466292418107455,
          7.061828806555316,
          1.0172376515173858,
          1.5189219919743615,
          1.3364709583851389,
          0.5266030615153396,
          0.7198789780411444,
          1.1516761885600832,
          0.5222865910818765,
          1.6673760454341222,
          1.8245896146279628,
          1.151073550183559,
          1.7782234853277372,
          0.7761535007415081,
          1.5338752651747583,
          1.8832793417484213,
          8.728761559203678,
          1.3078152650849642,
          1.0876020659335532,
          1.8424287007808149,
          1.7295604048346505,
          0.9512042007989084,
          1.8611784918324157,
          13.875487172136843,
          0.4264253728037217,
          1.340146356076949,
          1.2364435960820472,
          1.6257944562686002,
          11.35947294926279,
          18.94977053584732,
          9.371683689610876,
          12.790707141272545,
          1.3638942614338576,
          4.879883851968203,
          1.5501763730253146,
          13.699727278501724,
          12.48948078872947,
          11.323138680389997,
          4.650509883695294,
          44.92950751036173,
          6.024117170648576,
          4.879473164405384,
          4.0648814927633365,
          15.238603436807937,
          4.62520622931672,
          20.866742726818202,
          8.310959948119152,
          5.069428339176435,
          12.296278395861926,
          16.98655580426129,
          3.0631100797383093,
          14.313488034294892,
          12.7496808622345,
          6.76755917427346,
          13.992510707911636,
          13.871339342649724,
          10.062330286051004,
          1.9860760011204666,
          5.537018938406753,
          3.7559338065481365,
          7.654853536785215,
          1.960056226207001,
          13.558878718180539,
          16.887204676688075,
          0.7461505189738847,
          7.706294748012439,
          2.1931763397854036,
          21.90842354103102,
          19.01704429411096,
          16.785700411683397,
          4.679128859567652,
          33.09260724770899,
          10.472553864285159,
          10.286654701111356,
          14.81555912049438,
          0.8857454384649238,
          10.08774884290916,
          20.875000124545227,
          18.785824211433553,
          9.438101848010948,
          17.38092463688081,
          11.04533601022887,
          14.06313088877861,
          13.827149744439177,
          13.377367245161118,
          6.422539077502501,
          17.8927376223958,
          7.621882685291007,
          16.71797811933704,
          14.00793321914083,
          5.835142089211338,
          16.28447160651487,
          3.7809558026527745,
          17.477745127150783,
          6.9881995551594756,
          14.458752606143342,
          8.88999882014325,
          11.1205898243937,
          22.604532705089635,
          0.9959451597760403,
          14.921831063093013,
          1.89530640135114,
          10.353934493314267,
          4.128571455954128,
          11.52026629258477,
          6.5185596109435355,
          6.558239748734134,
          4.362050881886614,
          10.120942942921475,
          5.967247229067262,
          1.4836552377548018,
          2.971086384690816,
          17.30276591126912,
          13.362667246012258,
          9.330183116386733,
          15.475219225645093,
          8.126127054806886,
          9.864825243141112,
          24.922136463725145,
          17.679003050981766,
          6.153868700306875,
          8.920580363907135,
          5.963856913227745,
          11.207577976344243,
          13.96605623245689,
          15.147310874026683,
          5.423784993210754,
          4.540353077052151,
          15.398478281496498,
          19.692981775489983,
          8.814159295523837,
          26.425014555046545,
          15.761501696851797,
          19.74703220170519,
          5.755597343275569,
          18.958547965530006,
          12.908432895908605,
          20.544512601474235,
          6.388021069714721,
          10.739321261433862,
          21.782863392385583,
          34.12008147791314,
          13.44594586884471,
          4.176934852955033,
          6.934283655034851,
          16.22300880623057,
          17.759016361113833,
          1.8634116678646737,
          10.096527838662304,
          1.5275273932250644,
          12.88992417725103,
          15.159356866255024,
          8.572190348963778,
          12.776178426658221,
          19.47971073623596,
          1.8856223849273341,
          14.026309804117524,
          4.728558727957006,
          7.769075693072745,
          8.995086349074088,
          2.4398060235509003,
          0.39071366646243344,
          8.925618929030708,
          7.683844698428384,
          1.5114187114735742,
          13.569607333284692,
          17.415202896972332,
          4.921269542958341,
          18.43511806707372,
          3.587661833118344,
          22.200524426239845,
          6.909586205099942,
          11.680684763616679,
          9.7946775802379,
          4.555147779907492,
          6.799312273513962,
          10.261937162981482,
          9.503181024342773,
          16.13311099690199,
          11.765182152225037,
          30.05532227877598,
          0.25953007691377195,
          2.298659422685592,
          9.199051524033482,
          6.64865159481539,
          5.443092735949983,
          1.7764966683820256,
          3.3890437915795273,
          1.4189907361965917,
          0.42070057832765273,
          3.267679220584185,
          1.5976273179322962,
          1.7257449153848943,
          3.9281459411183586,
          1.9311636263571073,
          3.3213640718592865,
          0.2645531469338158,
          4.493490963486396,
          1.7229325304883227,
          2.594000869593227,
          2.0613345141863193,
          2.0516596676918275,
          12.261656727044874,
          8.342520473013373,
          10.996647938146314,
          15.18745755986532,
          1.511692808303436,
          16.4162721737866,
          14.419227228628536,
          12.678552312676082,
          3.5854644938638307,
          14.944732308234721,
          9.345985800386055,
          9.692366956900393,
          0.32636813225173966,
          14.806015958243016,
          7.950465204755215,
          9.666089313186596,
          1.2509935575236164,
          8.221360570657117,
          4.694438477315567,
          7.820607413054497,
          1.5290856829904023,
          14.201077830138688,
          7.228252463155746,
          11.2012733327521,
          14.978781203026324,
          7.431429071133893,
          8.85440228550319,
          20.83840996954519,
          5.626215111438686,
          9.44492672066171,
          9.53470491635141,
          1.796692432024743,
          2.995060584909286,
          4.624819273200001,
          29.64429950666653,
          13.943550642788633,
          10.989221017199512,
          14.574908742294362,
          21.483148072382892,
          19.497913670660996,
          8.463245496098487,
          24.0743898042179,
          20.530812201020435,
          18.211934002302296,
          10.19073164434292,
          14.536191299454082,
          9.873764585211035,
          15.65023708244764,
          14.326268914300524,
          10.231394654529632,
          13.405776420506612,
          14.42730718219725,
          4.421409259867321,
          6.804791319316909,
          23.01841832134583,
          10.841497196152858,
          3.2894755893102565,
          8.019990857371898,
          21.24439770125481,
          19.51111309050323,
          10.69746409803305,
          4.288832286527944,
          5.854107390389176,
          44.37378626665626,
          16.139071341085913,
          29.834887875613592,
          13.36106266892515,
          3.742296084606103,
          0.92986933840408,
          12.566089289958539,
          11.498313767720079,
          8.749919797897743,
          13.970746783606524,
          8.704333294574486,
          29.298558657391037,
          13.913175716996726,
          18.213464358831565,
          6.84321344461682,
          13.623296824346166,
          14.978054598870571,
          7.38371579404061,
          0.8076243544636558,
          15.943551071064412,
          7.970484444326093,
          15.76836484710885,
          14.049232801659343,
          12.989471050343024,
          15.416185540576587,
          10.67683564079124,
          6.203445140446079,
          3.177460737358951,
          7.5720312107807,
          7.038927505826283,
          15.79224580760334,
          8.338141184309622,
          23.63877476147656,
          12.11627622472527,
          9.520141470333844,
          21.497085669650854,
          20.27565768313543,
          13.946388730886184,
          7.157350051262923,
          6.3421789417099195,
          9.212461104994324,
          1.9798785982158398,
          35.38767050441851,
          12.753843434236341,
          10.437665389733322,
          5.341008005196282,
          12.273221862059014,
          33.07437643159321,
          20.516121251902568,
          16.943881655214124,
          11.021367490177871,
          15.631449488512567,
          15.808651713694966,
          12.916489726221405,
          1.9764325748661071,
          12.759041216283402,
          6.564927443723562,
          8.424967038868306,
          14.987987583272323,
          9.29478002274566,
          15.172955408553708,
          7.771941199213796,
          10.427954935793325,
          14.393919983563052,
          25.2669864538172,
          8.633940529833685,
          15.410168154174032,
          11.812176457512487,
          4.214606483329313,
          16.068383366798326,
          4.3155230321018845,
          12.194897699469085,
          10.132753099775432,
          11.275625092491245,
          18.887360176102945,
          11.226517994779858,
          4.45317780818192,
          19.74081338403427,
          8.942714178896141,
          32.7770802991073,
          20.279949291825986,
          7.684397536480432,
          5.830289226971496,
          19.172381082775797,
          10.922096921090512,
          23.326686106191776,
          12.475286786694403,
          8.847163924609399,
          7.488519978244233,
          14.379952441144015,
          4.379705648346442,
          16.225248870510473,
          17.378085068514846,
          5.231548565437571,
          8.235913074949652,
          8.722366336888436,
          8.523752097785339,
          12.238947618577583,
          18.6562029339973,
          6.747046829752286,
          11.053159637467719,
          8.278102355080652,
          14.29070259592,
          11.774220808021827,
          16.687352062943976,
          4.774611577005795,
          12.556416817698873,
          6.443226556040426,
          7.181166396633219,
          2.0227385518098044,
          4.673746320324963,
          6.952851592840128,
          7.137486265888434,
          4.4029297792386695,
          9.559175741509906,
          5.257577808857224,
          7.340354039704834,
          4.909714071407658,
          6.537549058825713,
          2.642431813442332,
          8.139129440527322,
          7.173890608489667,
          13.097612531511064,
          5.648021559742442,
          11.210586892925823,
          6.422823383656594,
          9.433762514928546,
          3.1311322896065867,
          13.978020171217718,
          10.843699629167007,
          12.09657883536534,
          18.74218407978737,
          6.867917837957482,
          5.899148054658896,
          4.505299520900266,
          6.047885357645352,
          6.85829158819546,
          5.190613972774959,
          7.794076078744318,
          11.617184112392644,
          7.771128834849918,
          10.149488909432659,
          7.064242587854471,
          8.959383733928219,
          1.532406751816162,
          1.282280547356606,
          8.695707836840365
         ],
         "y": [
          93220,
          133615,
          220000,
          200459,
          207000,
          1,
          1,
          74750,
          1,
          27000,
          1,
          129583,
          152047,
          71,
          76200,
          147000,
          85000,
          1,
          210,
          5,
          1,
          248000,
          166512,
          193000,
          303500,
          149858,
          238000,
          336847,
          230000,
          58693,
          49000,
          193457,
          260000,
          127000,
          1,
          282282,
          290000,
          76620,
          110000,
          104000,
          186000,
          158410,
          177400,
          37500,
          1,
          105300,
          15000,
          213400,
          28000,
          309000,
          180000,
          370000,
          92100,
          11700,
          125,
          70200,
          300000,
          250000,
          5,
          196000,
          225000,
          200000,
          258,
          279000,
          269500,
          42400,
          98757,
          66600,
          21000,
          5,
          241000,
          240000,
          210000,
          275000,
          66000,
          146000,
          6550,
          6400,
          216374,
          13800,
          5,
          9600,
          250500,
          42400,
          277000,
          139000,
          161400,
          14150,
          5,
          113200,
          209000,
          5,
          95347,
          143000,
          55500,
          14200,
          214646,
          36400,
          239000,
          190000,
          14500,
          266000,
          49000,
          13800,
          208000,
          5,
          1,
          21000,
          141000,
          240000,
          109000,
          121000,
          88000,
          112500,
          64000,
          215000,
          160000,
          102540,
          12650,
          36000,
          16250,
          131900,
          10670,
          201000,
          32000,
          290000,
          29000,
          83300,
          16445,
          112530,
          64250,
          5,
          50726,
          299120,
          326000,
          15820,
          59920,
          195168,
          176095,
          19850,
          352000,
          5,
          44100,
          269703,
          10580,
          154638,
          12984,
          239000,
          7200,
          75000,
          159000,
          280000,
          165267,
          290000,
          8200,
          4580,
          236000,
          77040,
          151475,
          57190,
          60000,
          4880,
          28900,
          64600,
          98000,
          6445,
          70625,
          126000,
          12950,
          5,
          72900,
          240000,
          10400,
          110500,
          6710,
          25200,
          145000,
          5,
          79000,
          58900,
          1,
          19750,
          5,
          5,
          106000,
          24500,
          1,
          1,
          5400,
          192000,
          5,
          119000,
          1,
          1,
          26970,
          5,
          5,
          119000,
          92495,
          100920,
          99000,
          74100,
          1,
          79250,
          5,
          1,
          5,
          9600,
          111310,
          24700,
          5,
          10000,
          129000,
          8586,
          1,
          8400,
          1,
          1,
          1,
          5,
          231000,
          5,
          80595,
          105890,
          1,
          82000,
          99600,
          1,
          36603,
          189200,
          1,
          5,
          28040,
          1,
          1,
          5,
          20352,
          31577,
          99936,
          192,
          3900,
          5,
          124425,
          171340,
          195000,
          4500,
          5,
          167764,
          159500,
          84480,
          345763,
          32925,
          11245,
          37000,
          25820,
          10000,
          31649,
          1,
          4200,
          5500,
          17840,
          62400,
          5,
          1,
          1,
          25070,
          5400,
          271500,
          242000,
          10050,
          8208,
          130000,
          1,
          192000,
          48200,
          11300,
          213000,
          5,
          25255,
          30290,
          1,
          5800,
          209000,
          21960,
          1,
          18675,
          104085,
          11100,
          8900,
          5,
          63740,
          249500,
          10000,
          328000,
          274,
          18130,
          190000,
          189000,
          15000,
          15350,
          12850,
          199900,
          4000,
          15750,
          5,
          5,
          5,
          8700,
          14000,
          4600,
          63030,
          5,
          5,
          216000,
          5,
          9600,
          5,
          68550,
          5,
          12000,
          58150,
          10000,
          10740,
          256000,
          6200,
          5,
          38435,
          5,
          10000,
          64800,
          5,
          47850,
          252120,
          239500,
          5,
          24300,
          8000,
          150398,
          7100,
          15000,
          10000,
          5,
          78520,
          5,
          15000,
          119500,
          17850,
          175280,
          9500,
          209905,
          5,
          2500,
          5,
          131000,
          146000,
          5,
          26971,
          207000,
          57000,
          5,
          50200,
          5,
          45000,
          5,
          221500,
          6755,
          40000,
          16595,
          5,
          5,
          137875,
          66275,
          34000,
          42741,
          23450,
          77830,
          61400,
          1,
          58301,
          206700,
          27300,
          45000,
          5,
          45000,
          17900,
          11240,
          47550,
          98342,
          196000,
          45400,
          43325,
          32630,
          4300,
          26000,
          12770,
          5,
          292000,
          192000,
          113760,
          25002,
          17900,
          227000,
          5,
          150426,
          128216,
          101000,
          342000,
          5,
          10000,
          5,
          5900,
          5,
          83001,
          419000,
          56245,
          197434,
          65000,
          1,
          5,
          30000,
          299671,
          5,
          12300,
          5,
          5,
          5,
          134600,
          5,
          5,
          53790,
          73000,
          260000,
          5,
          314000,
          181,
          127500,
          99100,
          83988,
          25437,
          10000,
          5,
          5,
          5,
          29044,
          290700,
          282000,
          85450,
          22323,
          282000,
          4000,
          240000,
          306000,
          9480,
          5,
          5,
          174000,
          65333,
          85656,
          340250,
          5,
          40000,
          113300,
          173000,
          9270,
          7450,
          5,
          32500,
          5,
          71486,
          5,
          12900,
          11600,
          5300,
          69400,
          51100,
          89558,
          5,
          47550,
          195000,
          24952,
          5,
          5,
          5,
          5,
          253000,
          10000,
          32700,
          9100,
          26000,
          73000,
          100050,
          5,
          5,
          27550,
          64076,
          186000,
          5,
          5,
          79907,
          77791,
          7130,
          33290,
          5,
          67700,
          5,
          1,
          5,
          73247,
          5,
          5,
          242000,
          227900,
          103000,
          310000,
          288000,
          227000,
          330000,
          112194,
          185000,
          94000,
          5,
          269000,
          64517,
          81000,
          256000,
          5,
          43500,
          73000,
          340000,
          32710,
          5,
          199650,
          263000,
          69852,
          159000,
          84000,
          110000,
          35027,
          159000,
          208792,
          223000,
          72500,
          5,
          174500,
          96000,
          284000,
          51494,
          5,
          8800,
          184700,
          240000,
          91900,
          287000,
          264,
          190000,
          114050,
          6700,
          13800,
          172000,
          24300,
          21400,
          35835,
          230000,
          127050,
          174000,
          186200,
          292000,
          225400,
          220000,
          240000,
          215000,
          325800,
          72500,
          240000,
          155000,
          9700,
          68000,
          280000,
          219747,
          265000,
          324500,
          308000,
          348722,
          339000,
          145000,
          242026,
          400000,
          232000,
          327321,
          245000,
          89000,
          245,
          303243,
          41447,
          183000,
          331000,
          274000,
          262000,
          200000,
          179000,
          86125,
          130000,
          217000,
          275000,
          216500,
          190700,
          334000,
          20700,
          282000,
          318000,
          194000,
          260000,
          249000,
          52200,
          201000,
          214000,
          308000,
          217000,
          166000,
          84000,
          320000,
          115000,
          216800,
          180000,
          276000,
          189100,
          341000,
          220000,
          230,
          291000,
          220000,
          180000,
          167000,
          66000,
          328000,
          228000,
          250000,
          234800,
          215100,
          192500,
          252000,
          290000,
          246000,
          136000,
          78000,
          97435,
          213000,
          204000,
          240481,
          104715,
          119000,
          308000,
          106000,
          140000,
          200000,
          94500,
          105000,
          30000,
          325000,
          229627,
          155000,
          150347,
          9500,
          128000,
          31842,
          209000,
          300,
          88400,
          138000,
          101000,
          52740,
          56127,
          36882,
          313000,
          251800,
          5,
          183000,
          350420,
          1700000,
          33355,
          27830,
          5,
          175600,
          10000,
          5,
          243000,
          11100,
          5,
          195000,
          55990,
          19174,
          204000,
          6000,
          5,
          65200,
          99750,
          5,
          5,
          231322,
          350000,
          5,
          25700,
          67100,
          102820,
          199710,
          10000,
          286700,
          280000,
          76500,
          76000,
          112922,
          145000,
          5,
          290000,
          270000,
          69000,
          318000,
          86899,
          116756,
          276000,
          24957,
          173000,
          280000,
          189000,
          73200,
          5000,
          185000,
          258000,
          218000,
          280000,
          29714,
          128000,
          78000,
          283800,
          223000,
          210,
          167000,
          420000,
          326300,
          232000,
          258000,
          160000,
          168985,
          169171,
          208000,
          5,
          100700,
          249000,
          241000,
          110000,
          150600,
          251000,
          175175,
          107500,
          282800,
          13440,
          62000,
          33000,
          31000,
          260000,
          10000,
          5,
          119700,
          251616,
          214000,
          51000,
          224000,
          108000,
          268000,
          271000,
          188040,
          23500,
          70000,
          30994,
          267426,
          29000,
          220000,
          128000,
          304000,
          153000,
          91000,
          90000,
          219000,
          51170,
          16700,
          195998,
          180000,
          50000,
          51200,
          202000,
          18141,
          69000,
          187000,
          286000,
          5,
          284000,
          5,
          92000,
          200000,
          191000,
          343000,
          105300,
          57960,
          201000,
          235000,
          196700,
          212500,
          393000,
          5,
          178000,
          114000,
          7920,
          200473,
          118666,
          10000,
          91450,
          145613,
          13500,
          179000,
          71000,
          11250,
          96150,
          250246,
          10000,
          215000,
          154230,
          243000,
          5,
          237000,
          267000,
          310000,
          267000,
          467345,
          171530,
          208000,
          10000,
          219000,
          225000,
          5,
          5,
          82700,
          125567,
          111776,
          254000,
          250000,
          152000,
          5,
          238000,
          45000,
          185000,
          47000,
          287697,
          260000,
          89722,
          30100,
          307700,
          309958,
          127673,
          260000,
          68000,
          219000,
          285000,
          56000,
          5500,
          161000,
          214659,
          380000,
          127050,
          242000,
          52500,
          69049,
          5,
          8665,
          142100,
          57000,
          161,
          287000,
          293000,
          184000,
          353551,
          350000,
          226000,
          5,
          200000,
          13764,
          173000,
          183000,
          216000,
          88400,
          5,
          232000,
          102000,
          15245,
          191000,
          226000,
          35730,
          306000,
          273529,
          75000,
          84000,
          191000,
          5,
          270410,
          174000,
          29760,
          86143,
          150000,
          115000,
          22450,
          227000,
          592,
          190000,
          10000,
          165900,
          125500,
          333800,
          215000,
          129000,
          182000,
          168000,
          222230,
          162000,
          127000,
          164900,
          211,
          215000,
          96000,
          450000,
          24700,
          275450,
          211100,
          119000,
          193355,
          65000,
          155000,
          17000,
          207000,
          174000,
          230000,
          223995,
          41000,
          6000,
          168645,
          27000,
          222000,
          74000,
          123000,
          100050,
          311000,
          57920,
          220000,
          5,
          319000,
          17000,
          237000,
          5,
          154000,
          25,
          170975,
          228000,
          199056,
          218500,
          390000,
          273000,
          90000,
          240000,
          252000,
          255000,
          48100,
          150000,
          300000,
          67000,
          150000,
          283000,
          121760,
          182000,
          320000,
          96870,
          140462,
          35000,
          0,
          175000,
          136500,
          367000,
          169300,
          327000,
          112000,
          15926,
          20490,
          169738,
          218500,
          121600,
          306000,
          170000,
          154544,
          284000,
          189765,
          110297,
          200000,
          111500,
          198000,
          77000,
          155000,
          9760,
          234000,
          70000,
          170000,
          188873,
          278000,
          53000,
          240000,
          70980,
          100000,
          167000,
          286200,
          217000,
          290000,
          22000,
          6700,
          30685,
          285750,
          96000,
          62000,
          60000,
          126430,
          7000,
          94500,
          141000,
          221300,
          155000,
          97500,
          149,
          230000,
          168000,
          60000,
          25850,
          330000,
          140930,
          5,
          234000,
          134000,
          81000,
          300500,
          160000,
          10,
          111000,
          450000,
          10000,
          5,
          254600,
          385634,
          5,
          292186,
          118000,
          146000,
          174000,
          325000,
          276000,
          10000,
          210000,
          32000,
          50200,
          62218,
          249787,
          185132,
          372291,
          5,
          290000,
          37500,
          225,
          82000,
          345000,
          186866,
          67000,
          74537,
          11,
          273000,
          76200,
          254906,
          18000,
          229250,
          321100,
          150000,
          99800,
          36000,
          5,
          381000,
          162000,
          86000,
          32401,
          96900,
          0,
          267000,
          47671,
          116500,
          280000,
          240000,
          249000,
          225000,
          100000,
          151000,
          147150,
          64061,
          247000,
          1,
          305000,
          221000,
          182000,
          180000,
          148000,
          84000,
          87000,
          211000,
          5,
          130000,
          145000,
          154000,
          199999,
          163854,
          114000,
          227750,
          240000,
          5,
          170200,
          230000,
          5,
          27170,
          223000,
          77000,
          5,
          123,
          75530,
          232000,
          111900,
          267000,
          10000,
          168000,
          25000,
          5,
          24800,
          234000,
          259137,
          87900,
          9500,
          5,
          241000,
          236000,
          27281,
          440000,
          190400,
          142000,
          260,
          402052,
          85000,
          180000,
          224000,
          270000,
          131000,
          228000,
          194000,
          178000,
          261000,
          64000,
          242000,
          267000,
          280000,
          244000,
          199000,
          207000,
          21500,
          215000,
          175400,
          200000,
          74500,
          213500,
          97720,
          180000,
          64000,
          304000,
          172000,
          260000,
          191000,
          330000,
          209000,
          229000,
          303000,
          168000,
          140000,
          230000,
          271000,
          235218,
          108853,
          270000,
          205800,
          16900,
          170000,
          93000,
          298000,
          137500,
          60724,
          121000,
          182000,
          281644,
          110000,
          190000,
          180000,
          250000,
          234929,
          0,
          190000,
          113000,
          329000,
          337030,
          164700,
          120000,
          72000,
          5,
          212000,
          145000,
          220000,
          178000,
          240652,
          1,
          1,
          1,
          1,
          230000,
          1,
          1,
          1,
          1,
          1,
          1,
          1,
          257000,
          1,
          158000,
          1,
          1,
          1,
          1,
          1,
          1,
          1,
          1,
          1,
          1,
          1,
          1,
          1,
          1,
          180000,
          1,
          1,
          1,
          1,
          1,
          1,
          165900,
          1,
          1,
          1,
          1,
          240000,
          226000,
          144000,
          200000,
          5,
          179,
          4000,
          176000,
          224000,
          193500,
          24300,
          192775,
          220000,
          200000,
          178000,
          297700,
          199000,
          270000,
          218000,
          60000,
          229000,
          205000,
          179,
          150000,
          384000,
          208157,
          186000,
          230000,
          240000,
          3390,
          179500,
          28000,
          170000,
          4000,
          354000,
          238000,
          20,
          77000,
          29000,
          45000,
          275500,
          234000,
          76000,
          223000,
          282000,
          102000,
          334000,
          0,
          174000,
          393000,
          475000,
          161000,
          282000,
          206000,
          276000,
          337000,
          151000,
          149700,
          145000,
          216000,
          350000,
          430000,
          150400,
          160000,
          130000,
          500000,
          42000,
          221203,
          155000,
          220598,
          157000,
          10,
          40032,
          10000,
          187500,
          151000,
          90000,
          82000,
          142000,
          53000,
          238,
          178000,
          10000,
          79880,
          193000,
          286000,
          250000,
          276000,
          222070,
          315000,
          289447,
          310000,
          62000,
          178000,
          184000,
          198000,
          297000,
          188000,
          160000,
          149900,
          406000,
          313000,
          170000,
          320000,
          188000,
          267000,
          189000,
          191000,
          207000,
          393000,
          58331,
          288000,
          405000,
          198520,
          200000,
          171000,
          85305,
          190000,
          205000,
          5,
          192000,
          16000,
          268000,
          250000,
          170000,
          242000,
          202716,
          19000,
          298000,
          160000,
          164315,
          171000,
          48200,
          0,
          115000,
          200000,
          5,
          215450,
          186000,
          183430,
          269000,
          47300,
          269000,
          215000,
          282,
          202000,
          57888,
          137000,
          204,
          108800,
          229704,
          197000,
          234567,
          5,
          8628,
          167000,
          38600,
          83150,
          5,
          67175,
          8650,
          25,
          55990,
          12500,
          18450,
          36695,
          5,
          51100,
          11,
          37050,
          5,
          4300,
          60000,
          29200,
          145499,
          203000,
          210000,
          268000,
          9900,
          214305,
          90000,
          223000,
          64400,
          184300,
          159000,
          366000,
          10000,
          190000,
          295000,
          264590,
          17033,
          218000,
          120000,
          170000,
          5,
          108000,
          218000,
          225400,
          260000,
          98786,
          152000,
          300000,
          90000,
          230000,
          174000,
          5,
          44500,
          11000,
          74500,
          256500,
          220000,
          139712,
          265000,
          315000,
          103000,
          270000,
          200000,
          245000,
          210000,
          170000,
          215000,
          406000,
          279000,
          103938,
          159000,
          236200,
          169,
          179000,
          300000,
          292000,
          18500,
          75000,
          169400,
          73000,
          269000,
          103000,
          169000,
          6700,
          287751,
          148000,
          177500,
          37000,
          0,
          133000,
          275000,
          89000,
          288000,
          255000,
          118000,
          271000,
          311000,
          110000,
          192000,
          201000,
          250,
          0,
          239500,
          151000,
          167000,
          262000,
          147000,
          209000,
          171000,
          96000,
          76000,
          219384,
          65000,
          272379,
          134000,
          338000,
          346868,
          202700,
          227585,
          284683,
          232000,
          137000,
          150000,
          173000,
          18300,
          303000,
          165308,
          270000,
          132000,
          232000,
          227000,
          268798,
          202000,
          183000,
          138000,
          273200,
          310000,
          400,
          265000,
          131057,
          136000,
          322000,
          300800,
          280000,
          124900,
          299000,
          202000,
          150000,
          165000,
          284500,
          253000,
          99500,
          244645,
          180000,
          319000,
          292000,
          57800,
          285000,
          160000,
          157000,
          311661,
          204700,
          257719,
          297450,
          213000,
          262000,
          228455,
          350,
          255000,
          157000,
          142000,
          175000,
          270500,
          54000,
          141280,
          306000,
          137,
          111000,
          225,
          175000,
          242100,
          380000,
          61000,
          132000,
          161000,
          143303,
          170000,
          314000,
          137000,
          252300,
          119000,
          155931,
          8500,
          140636,
          203000,
          267903,
          205,
          246093,
          176000,
          305000,
          123000,
          182000,
          19000,
          154200,
          120000,
          215206,
          151000,
          218000,
          224000,
          260432,
          88053,
          204000,
          150779,
          248000,
          238000,
          203000,
          48300,
          171000,
          199000,
          237308,
          58000,
          256000,
          298000,
          124500,
          270140,
          229254,
          209331,
          5500,
          8500,
          183000
         ]
        }
       ],
       "layout": {
        "template": {
         "data": {
          "bar": [
           {
            "error_x": {
             "color": "#2a3f5f"
            },
            "error_y": {
             "color": "#2a3f5f"
            },
            "marker": {
             "line": {
              "color": "#E5ECF6",
              "width": 0.5
             }
            },
            "type": "bar"
           }
          ],
          "barpolar": [
           {
            "marker": {
             "line": {
              "color": "#E5ECF6",
              "width": 0.5
             }
            },
            "type": "barpolar"
           }
          ],
          "carpet": [
           {
            "aaxis": {
             "endlinecolor": "#2a3f5f",
             "gridcolor": "white",
             "linecolor": "white",
             "minorgridcolor": "white",
             "startlinecolor": "#2a3f5f"
            },
            "baxis": {
             "endlinecolor": "#2a3f5f",
             "gridcolor": "white",
             "linecolor": "white",
             "minorgridcolor": "white",
             "startlinecolor": "#2a3f5f"
            },
            "type": "carpet"
           }
          ],
          "choropleth": [
           {
            "colorbar": {
             "outlinewidth": 0,
             "ticks": ""
            },
            "type": "choropleth"
           }
          ],
          "contour": [
           {
            "colorbar": {
             "outlinewidth": 0,
             "ticks": ""
            },
            "colorscale": [
             [
              0,
              "#0d0887"
             ],
             [
              0.1111111111111111,
              "#46039f"
             ],
             [
              0.2222222222222222,
              "#7201a8"
             ],
             [
              0.3333333333333333,
              "#9c179e"
             ],
             [
              0.4444444444444444,
              "#bd3786"
             ],
             [
              0.5555555555555556,
              "#d8576b"
             ],
             [
              0.6666666666666666,
              "#ed7953"
             ],
             [
              0.7777777777777778,
              "#fb9f3a"
             ],
             [
              0.8888888888888888,
              "#fdca26"
             ],
             [
              1,
              "#f0f921"
             ]
            ],
            "type": "contour"
           }
          ],
          "contourcarpet": [
           {
            "colorbar": {
             "outlinewidth": 0,
             "ticks": ""
            },
            "type": "contourcarpet"
           }
          ],
          "heatmap": [
           {
            "colorbar": {
             "outlinewidth": 0,
             "ticks": ""
            },
            "colorscale": [
             [
              0,
              "#0d0887"
             ],
             [
              0.1111111111111111,
              "#46039f"
             ],
             [
              0.2222222222222222,
              "#7201a8"
             ],
             [
              0.3333333333333333,
              "#9c179e"
             ],
             [
              0.4444444444444444,
              "#bd3786"
             ],
             [
              0.5555555555555556,
              "#d8576b"
             ],
             [
              0.6666666666666666,
              "#ed7953"
             ],
             [
              0.7777777777777778,
              "#fb9f3a"
             ],
             [
              0.8888888888888888,
              "#fdca26"
             ],
             [
              1,
              "#f0f921"
             ]
            ],
            "type": "heatmap"
           }
          ],
          "heatmapgl": [
           {
            "colorbar": {
             "outlinewidth": 0,
             "ticks": ""
            },
            "colorscale": [
             [
              0,
              "#0d0887"
             ],
             [
              0.1111111111111111,
              "#46039f"
             ],
             [
              0.2222222222222222,
              "#7201a8"
             ],
             [
              0.3333333333333333,
              "#9c179e"
             ],
             [
              0.4444444444444444,
              "#bd3786"
             ],
             [
              0.5555555555555556,
              "#d8576b"
             ],
             [
              0.6666666666666666,
              "#ed7953"
             ],
             [
              0.7777777777777778,
              "#fb9f3a"
             ],
             [
              0.8888888888888888,
              "#fdca26"
             ],
             [
              1,
              "#f0f921"
             ]
            ],
            "type": "heatmapgl"
           }
          ],
          "histogram": [
           {
            "marker": {
             "colorbar": {
              "outlinewidth": 0,
              "ticks": ""
             }
            },
            "type": "histogram"
           }
          ],
          "histogram2d": [
           {
            "colorbar": {
             "outlinewidth": 0,
             "ticks": ""
            },
            "colorscale": [
             [
              0,
              "#0d0887"
             ],
             [
              0.1111111111111111,
              "#46039f"
             ],
             [
              0.2222222222222222,
              "#7201a8"
             ],
             [
              0.3333333333333333,
              "#9c179e"
             ],
             [
              0.4444444444444444,
              "#bd3786"
             ],
             [
              0.5555555555555556,
              "#d8576b"
             ],
             [
              0.6666666666666666,
              "#ed7953"
             ],
             [
              0.7777777777777778,
              "#fb9f3a"
             ],
             [
              0.8888888888888888,
              "#fdca26"
             ],
             [
              1,
              "#f0f921"
             ]
            ],
            "type": "histogram2d"
           }
          ],
          "histogram2dcontour": [
           {
            "colorbar": {
             "outlinewidth": 0,
             "ticks": ""
            },
            "colorscale": [
             [
              0,
              "#0d0887"
             ],
             [
              0.1111111111111111,
              "#46039f"
             ],
             [
              0.2222222222222222,
              "#7201a8"
             ],
             [
              0.3333333333333333,
              "#9c179e"
             ],
             [
              0.4444444444444444,
              "#bd3786"
             ],
             [
              0.5555555555555556,
              "#d8576b"
             ],
             [
              0.6666666666666666,
              "#ed7953"
             ],
             [
              0.7777777777777778,
              "#fb9f3a"
             ],
             [
              0.8888888888888888,
              "#fdca26"
             ],
             [
              1,
              "#f0f921"
             ]
            ],
            "type": "histogram2dcontour"
           }
          ],
          "mesh3d": [
           {
            "colorbar": {
             "outlinewidth": 0,
             "ticks": ""
            },
            "type": "mesh3d"
           }
          ],
          "parcoords": [
           {
            "line": {
             "colorbar": {
              "outlinewidth": 0,
              "ticks": ""
             }
            },
            "type": "parcoords"
           }
          ],
          "scatter": [
           {
            "marker": {
             "colorbar": {
              "outlinewidth": 0,
              "ticks": ""
             }
            },
            "type": "scatter"
           }
          ],
          "scatter3d": [
           {
            "line": {
             "colorbar": {
              "outlinewidth": 0,
              "ticks": ""
             }
            },
            "marker": {
             "colorbar": {
              "outlinewidth": 0,
              "ticks": ""
             }
            },
            "type": "scatter3d"
           }
          ],
          "scattercarpet": [
           {
            "marker": {
             "colorbar": {
              "outlinewidth": 0,
              "ticks": ""
             }
            },
            "type": "scattercarpet"
           }
          ],
          "scattergeo": [
           {
            "marker": {
             "colorbar": {
              "outlinewidth": 0,
              "ticks": ""
             }
            },
            "type": "scattergeo"
           }
          ],
          "scattergl": [
           {
            "marker": {
             "colorbar": {
              "outlinewidth": 0,
              "ticks": ""
             }
            },
            "type": "scattergl"
           }
          ],
          "scattermapbox": [
           {
            "marker": {
             "colorbar": {
              "outlinewidth": 0,
              "ticks": ""
             }
            },
            "type": "scattermapbox"
           }
          ],
          "scatterpolar": [
           {
            "marker": {
             "colorbar": {
              "outlinewidth": 0,
              "ticks": ""
             }
            },
            "type": "scatterpolar"
           }
          ],
          "scatterpolargl": [
           {
            "marker": {
             "colorbar": {
              "outlinewidth": 0,
              "ticks": ""
             }
            },
            "type": "scatterpolargl"
           }
          ],
          "scatterternary": [
           {
            "marker": {
             "colorbar": {
              "outlinewidth": 0,
              "ticks": ""
             }
            },
            "type": "scatterternary"
           }
          ],
          "surface": [
           {
            "colorbar": {
             "outlinewidth": 0,
             "ticks": ""
            },
            "colorscale": [
             [
              0,
              "#0d0887"
             ],
             [
              0.1111111111111111,
              "#46039f"
             ],
             [
              0.2222222222222222,
              "#7201a8"
             ],
             [
              0.3333333333333333,
              "#9c179e"
             ],
             [
              0.4444444444444444,
              "#bd3786"
             ],
             [
              0.5555555555555556,
              "#d8576b"
             ],
             [
              0.6666666666666666,
              "#ed7953"
             ],
             [
              0.7777777777777778,
              "#fb9f3a"
             ],
             [
              0.8888888888888888,
              "#fdca26"
             ],
             [
              1,
              "#f0f921"
             ]
            ],
            "type": "surface"
           }
          ],
          "table": [
           {
            "cells": {
             "fill": {
              "color": "#EBF0F8"
             },
             "line": {
              "color": "white"
             }
            },
            "header": {
             "fill": {
              "color": "#C8D4E3"
             },
             "line": {
              "color": "white"
             }
            },
            "type": "table"
           }
          ]
         },
         "layout": {
          "annotationdefaults": {
           "arrowcolor": "#2a3f5f",
           "arrowhead": 0,
           "arrowwidth": 1
          },
          "colorscale": {
           "diverging": [
            [
             0,
             "#8e0152"
            ],
            [
             0.1,
             "#c51b7d"
            ],
            [
             0.2,
             "#de77ae"
            ],
            [
             0.3,
             "#f1b6da"
            ],
            [
             0.4,
             "#fde0ef"
            ],
            [
             0.5,
             "#f7f7f7"
            ],
            [
             0.6,
             "#e6f5d0"
            ],
            [
             0.7,
             "#b8e186"
            ],
            [
             0.8,
             "#7fbc41"
            ],
            [
             0.9,
             "#4d9221"
            ],
            [
             1,
             "#276419"
            ]
           ],
           "sequential": [
            [
             0,
             "#0d0887"
            ],
            [
             0.1111111111111111,
             "#46039f"
            ],
            [
             0.2222222222222222,
             "#7201a8"
            ],
            [
             0.3333333333333333,
             "#9c179e"
            ],
            [
             0.4444444444444444,
             "#bd3786"
            ],
            [
             0.5555555555555556,
             "#d8576b"
            ],
            [
             0.6666666666666666,
             "#ed7953"
            ],
            [
             0.7777777777777778,
             "#fb9f3a"
            ],
            [
             0.8888888888888888,
             "#fdca26"
            ],
            [
             1,
             "#f0f921"
            ]
           ],
           "sequentialminus": [
            [
             0,
             "#0d0887"
            ],
            [
             0.1111111111111111,
             "#46039f"
            ],
            [
             0.2222222222222222,
             "#7201a8"
            ],
            [
             0.3333333333333333,
             "#9c179e"
            ],
            [
             0.4444444444444444,
             "#bd3786"
            ],
            [
             0.5555555555555556,
             "#d8576b"
            ],
            [
             0.6666666666666666,
             "#ed7953"
            ],
            [
             0.7777777777777778,
             "#fb9f3a"
            ],
            [
             0.8888888888888888,
             "#fdca26"
            ],
            [
             1,
             "#f0f921"
            ]
           ]
          },
          "colorway": [
           "#636efa",
           "#EF553B",
           "#00cc96",
           "#ab63fa",
           "#FFA15A",
           "#19d3f3",
           "#FF6692",
           "#B6E880",
           "#FF97FF",
           "#FECB52"
          ],
          "font": {
           "color": "#2a3f5f"
          },
          "geo": {
           "bgcolor": "white",
           "lakecolor": "white",
           "landcolor": "#E5ECF6",
           "showlakes": true,
           "showland": true,
           "subunitcolor": "white"
          },
          "hoverlabel": {
           "align": "left"
          },
          "hovermode": "closest",
          "mapbox": {
           "style": "light"
          },
          "paper_bgcolor": "white",
          "plot_bgcolor": "#E5ECF6",
          "polar": {
           "angularaxis": {
            "gridcolor": "white",
            "linecolor": "white",
            "ticks": ""
           },
           "bgcolor": "#E5ECF6",
           "radialaxis": {
            "gridcolor": "white",
            "linecolor": "white",
            "ticks": ""
           }
          },
          "scene": {
           "xaxis": {
            "backgroundcolor": "#E5ECF6",
            "gridcolor": "white",
            "gridwidth": 2,
            "linecolor": "white",
            "showbackground": true,
            "ticks": "",
            "zerolinecolor": "white"
           },
           "yaxis": {
            "backgroundcolor": "#E5ECF6",
            "gridcolor": "white",
            "gridwidth": 2,
            "linecolor": "white",
            "showbackground": true,
            "ticks": "",
            "zerolinecolor": "white"
           },
           "zaxis": {
            "backgroundcolor": "#E5ECF6",
            "gridcolor": "white",
            "gridwidth": 2,
            "linecolor": "white",
            "showbackground": true,
            "ticks": "",
            "zerolinecolor": "white"
           }
          },
          "shapedefaults": {
           "line": {
            "color": "#2a3f5f"
           }
          },
          "ternary": {
           "aaxis": {
            "gridcolor": "white",
            "linecolor": "white",
            "ticks": ""
           },
           "baxis": {
            "gridcolor": "white",
            "linecolor": "white",
            "ticks": ""
           },
           "bgcolor": "#E5ECF6",
           "caxis": {
            "gridcolor": "white",
            "linecolor": "white",
            "ticks": ""
           }
          },
          "title": {
           "x": 0.05
          },
          "xaxis": {
           "automargin": true,
           "gridcolor": "white",
           "linecolor": "white",
           "ticks": "",
           "zerolinecolor": "white",
           "zerolinewidth": 2
          },
          "yaxis": {
           "automargin": true,
           "gridcolor": "white",
           "linecolor": "white",
           "ticks": "",
           "zerolinecolor": "white",
           "zerolinewidth": 2
          }
         }
        },
        "title": {
         "text": "Mileage vs Age"
        },
        "xaxis": {
         "title": {
          "text": "Age"
         }
        },
        "yaxis": {
         "range": [
          0,
          500000
         ],
         "title": {
          "text": "Mileage"
         }
        }
       }
      },
      "text/html": [
       "<div>\n",
       "        \n",
       "        \n",
       "            <div id=\"8cd29272-1519-4aa0-8f4f-e59c81c9eec8\" class=\"plotly-graph-div\" style=\"height:525px; width:100%;\"></div>\n",
       "            <script type=\"text/javascript\">\n",
       "                require([\"plotly\"], function(Plotly) {\n",
       "                    window.PLOTLYENV=window.PLOTLYENV || {};\n",
       "                    \n",
       "                if (document.getElementById(\"8cd29272-1519-4aa0-8f4f-e59c81c9eec8\")) {\n",
       "                    Plotly.newPlot(\n",
       "                        '8cd29272-1519-4aa0-8f4f-e59c81c9eec8',\n",
       "                        [{\"marker\": {\"color\": \"red\", \"opacity\": 0.3, \"size\": 5}, \"mode\": \"markers\", \"type\": \"scatter\", \"x\": [4.816707687003671, 5.685572777638833, 28.147578602616193, 7.382741453572459, 18.277320128892367, 0.849147574616197, 1.8325462872699358, 4.7338277050916675, 1.352423612868348, 2.232038412701213, 1.5537220363833746, 5.474406042775634, 10.489546834514648, 1.1133664282101698, 7.376170711896786, 13.916540910702924, 9.44365950707767, 0.9759355095190388, 18.90332410913254, 1.8919834166979554, 0.5163413334097116, 17.7400628046839, 4.383826732283302, 8.916649846871522, 8.225770484212031, 5.27252582696201, 21.430039316606322, 14.686435979708609, 16.127208988026478, 4.068983516018312, 3.0567118298763947, 10.43017485539008, 19.052808927397948, 10.617783393958053, 1.1717778288822762, 13.612809286201704, 14.938688597513286, 5.300175260677015, 8.59192190846077, 3.6952306682322242, 12.660017029266303, 15.654463909423606, 12.01780601571041, 3.6763147122816306, 1.6116368471082292, 5.789043725711332, 4.84911252336167, 7.397441311822504, 2.65187125935471, 10.601431450066087, 10.817442384368102, 15.28222159359107, 4.588496967472771, 4.728632227902673, 16.172184699808135, 4.6883274745844945, 20.182361515508934, 16.335940840644973, 1.4911864852986199, 8.881643584931595, 21.603114185646767, 16.560718689174347, 6.663687849654195, 13.247468213920838, 14.673154925537862, 3.657046293162526, 5.671979612421253, 6.414850281421528, 11.235411430049231, 1.9357448149457974, 13.876038815979014, 6.2737041157403795, 18.22769038498192, 28.604704494899117, 5.864120722311769, 11.322779193207168, 1.3026055838659945, 2.613412381471228, 9.993943539505777, 1.6942095327305973, 1.2086049380916815, 1.938033150908809, 15.245721349138542, 3.975922147430473, 8.513885192382485, 8.75029872521378, 8.585910838447553, 1.2410493166274374, 1.091314256242395, 6.963182634541969, 15.290976338954108, 1.7070313966975914, 6.83972646245351, 6.087035207557339, 4.162698916929339, 1.4151413990842188, 8.539797555112955, 6.914367232364589, 11.51559368514851, 11.599799134156898, 2.0481193418868395, 16.645809083102034, 3.8670719290309172, 4.925071609571699, 8.73140209308608, 1.6202647253861782, 1.5941302229685905, 13.954746247670704, 6.876294516030255, 36.7591758400092, 21.508062598669405, 11.39854308133583, 4.324945507172703, 11.909994199680577, 4.4811204601155845, 11.739844124121623, 12.134302705890097, 4.400470575952931, 2.820548059474197, 3.0768357902396417, 2.583043238606775, 5.838543953193839, 2.593059251818031, 6.413328457216975, 3.1510622878994536, 12.194294900542836, 6.816776415123919, 4.1767230445108465, 1.560627932661529, 3.206114384581173, 3.8447307218195226, 1.9404486768643938, 5.653558307002523, 17.98335543695242, 21.54308119977506, 2.006179371908982, 5.698364388799024, 7.7058516924367355, 9.801570233256902, 2.943075422419075, 11.28467664592743, 2.2650935774007266, 4.473475287503641, 14.299520675713037, 1.445690681462472, 14.217848153332204, 3.427311411988187, 13.77002202712913, 2.850782383292713, 12.718704896353373, 10.452312826967589, 9.142293259681997, 12.596059673511586, 16.448445253485975, 2.0263735033557797, 3.4457416902385596, 15.25047626363095, 3.355911585916941, 4.431605135780119, 5.275473230167845, 5.918448329003686, 2.2729494941162853, 3.9555714515948313, 4.618601613165516, 9.59352136654472, 1.3414329398253055, 3.0753957910856298, 7.089556678318382, 2.8537151652484587, 2.7234915452098187, 4.113816503452452, 15.57998794864901, 2.7457517902828137, 6.887245133460933, 1.9973692588729302, 1.0452005387012993, 6.393874487094601, 1.015302732321092, 4.947035642734971, 4.31456703440468, 1.62563941863384, 1.8718110854313044, 1.4702009578717692, 1.4749267362299934, 4.702551560959034, 1.2735698890145655, 1.3298141804272787, 0.8294723057874906, 1.407679911047122, 4.595265024948807, 1.4808899176089394, 6.782382844889615, 0.5220240583014087, 1.4985149220275686, 1.0601564859165267, 1.3043818166929086, 1.5619475154023537, 4.408042912546646, 4.301112401228984, 4.982081651798954, 6.8041384438036685, 4.857916875309215, 0.677602225932939, 4.866740520160979, 1.101320695257654, 1.8318728897630672, 1.363179475517499, 1.8590487211265625, 4.354551147924644, 1.9541001572690635, 1.3944162518764966, 1.0536935577582713, 6.120894824696856, 2.4117354858739906, 0.7786766194462243, 1.557599752274705, 0.9274462258883205, 0.22919052197973266, 1.4522762673102614, 1.240190368980269, 8.377475946089227, 1.417659294670141, 3.201130153819885, 5.964321051744419, 1.6735947529986035, 4.89071053564612, 4.094350662061305, 0.15255795895536706, 3.6661385021583475, 9.540749998420852, 0.6770118711047222, 1.027830457872538, 1.0908102515901787, 1.566263499860732, 0.7129407815787481, 1.0169371493030688, 1.6363133064510245, 1.9200843477283436, 4.182900308007009, 14.127645173951635, 1.1916833306159973, 1.0973879546204395, 5.952832231343973, 3.2035194333973966, 4.948904551621128, 1.1050322862435433, 1.4774296477308058, 13.326290682564425, 5.085631205077329, 4.131525724281364, 24.714681843670963, 1.3798783589984431, 2.0851717111604477, 3.142227734120602, 1.31583118528477, 1.1574104804948884, 2.617418572355503, 0.30796983663970023, 1.2454407642487535, 1.4279705080810627, 1.1727159790902044, 5.877769946632035, 1.1790936316441336, 1.4898466199453195, 1.1855681501846917, 1.9415831370317664, 1.370898113863999, 13.365402329213332, 14.04431195673336, 1.9839674788627715, 2.385735711045817, 5.677039277587104, 0.5319081417161479, 5.0687739372249165, 3.8731458432165526, 2.439715340079379, 10.890338156859048, 1.3341943548532007, 1.555360909853988, 2.1956139585203243, 0.03160593654065458, 1.0874675051380363, 5.296598650534405, 1.1472619576514913, 1.5320858412282954, 1.7356857231775025, 4.909918121658278, 1.9827206563317465, 3.714396021843048, 1.427447477600176, 4.804044594070043, 16.765870482193353, 1.3880956777657327, 22.995621276967295, 11.74333672290135, 2.1099740869576644, 9.23104654743071, 6.315896718735816, 1.1117570267744425, 1.6774615191696796, 1.654834841742356, 11.240454794450203, 1.2500949663174115, 2.5031270363889004, 1.7776306547308343, 1.0516385365903642, 1.1716986614990996, 2.1673090434677382, 1.7996703345204854, 1.400597080103454, 5.36164712585343, 1.3626579668539363, 1.056067534019261, 14.503215345898374, 1.8555195266188962, 1.6125643646743664, 1.9977379452463184, 4.848406371608769, 1.688626388067961, 1.9545819285342263, 4.461436597323334, 1.0618077840707896, 2.0970618739261546, 13.379377373291579, 1.7357514782667303, 1.640558146803964, 2.172796702206414, 1.6617380871451612, 2.924405938999545, 4.363760545619678, 1.0384322198374303, 2.216065894780598, 9.321278268023034, 6.98564589438546, 1.9378555674755567, 1.1851453636191427, 1.9323552766318106, 4.172358712194248, 1.2822972091124571, 1.318825658175565, 1.3707800222733542, 1.7430618682555807, 4.022124485073417, 1.630656720875014, 1.7029253847715944, 13.731393584716542, 1.8610362234310265, 8.649127188061383, 2.328415139793255, 6.52802539334238, 1.6638310423832754, 1.0506097435092243, 1.9903728557077836, 8.233504087496568, 8.292077058506663, 1.0583548866632317, 1.0535278541228674, 10.154792970592665, 3.855547922819899, 1.920707159657145, 2.7122936006678575, 1.6935967702352974, 2.0989588730497326, 0.8058726313122682, 10.493280707775918, 1.3190977494869163, 2.967531160905997, 2.289782630934776, 1.5005563534576174, 1.8844706050496014, 4.234691258589844, 4.465927575463423, 2.865334982863102, 2.6738515792920357, 3.327042820844814, 3.162560375979538, 4.121309446880089, 1.879081550068695, 4.746039523005546, 12.565214154353114, 1.143245709274189, 2.416350284051192, 1.334326288962096, 2.097693024413792, 1.350659602810207, 1.0876342802074537, 3.653687699678141, 3.0105489463627797, 16.08568894792982, 6.554303453229695, 2.654444246215316, 1.6709830470088263, 1.6226594746627396, 1.5011002014928378, 2.368694684146781, 1.552341495744248, 17.608739405534294, 6.9622635117823695, 7.7878406335028165, 2.112417969654699, 1.9778676307146088, 13.269612045268087, 1.3353401914054572, 8.922451908634761, 9.35735114089717, 7.138523659911174, 15.111008330441985, 1.5217554208989408, 0.22589650932271543, 1.5461274120887207, 1.53230591719888, 1.619237516009378, 4.95082774415547, 14.314399240524779, 5.9806439610747075, 8.504669909150097, 6.668742273203201, 0.7827967367830844, 1.3351877749335532, 2.170580723109774, 19.745444224725723, 1.7355241704032704, 2.8062278001479886, 1.1087491901901303, 1.2906365565358793, 0.39988151271942174, 9.569652515631997, 1.433769327079975, 1.2828569728506678, 5.875782945632027, 4.108800853625568, 13.7226435778047, 1.6932959159919259, 21.824556604312875, 6.639228393103225, 7.523009285981472, 6.2091345464059335, 5.3478038277406785, 2.0701561216674387, 1.4478642682219265, 1.207874248387014, 1.7955207605607901, 1.6529899380769755, 2.2082375333210185, 17.645028727326867, 13.509632619278337, 4.186476403639767, 2.0322520464347322, 14.541286342676196, 2.2735433616973855, 14.337308072477644, 15.83238540253407, 1.9688024201044776, 0.8734783848446969, 1.4872876351058464, 7.7690307882095935, 4.517702987625537, 4.866534092899209, 16.82714395755059, 1.471216587003486, 2.7044535432701586, 8.63658049543449, 16.33206549779076, 1.2496305665285794, 1.1009488201050017, 1.4235430472236712, 5.573702009819819, 1.6989114440376496, 6.36230261840678, 1.9687099961951766, 1.9064048205089925, 1.7286707676684614, 1.900028613336975, 4.386125087022107, 3.9627695342366374, 4.906325377228484, 1.3133393208343178, 3.591080359120093, 10.4675236123005, 5.679906995638701, 1.2606669728614728, 1.9239142268549574, 1.543481514237481, 0.6051906221840857, 16.77811187261776, 0.903943364141432, 3.53138215291958, 1.6488473944530826, 1.9441394723370742, 6.167946115320224, 3.675922515113411, 1.0006973596954176, 1.3909880680476865, 1.465053767591825, 3.0575705450435944, 11.751223534552624, 1.3904766637444068, 1.9036136380581918, 3.0111127899103423, 5.311524825483314, 2.9150521138942134, 3.9894932616411434, 1.8909450807088355, 3.080462080392235, 1.463137251926871, 0.024377306062420723, 1.9069863953870996, 4.731682425654831, 1.381788786019536, 1.8627589408663905, 22.743596876022703, 10.164841733367028, 7.052644215008786, 13.6582183751189, 13.948764535050193, 12.192081971785164, 10.510023892936129, 5.92930705637768, 38.537042818706645, 6.047060746898472, 1.0369444453238494, 15.26161526675765, 5.1149363740607985, 5.205144589231188, 12.544694875904886, 1.8644236951616986, 4.383749020531347, 5.1785573013128205, 12.669225097470319, 3.730931122547709, 1.6400144390696683, 8.31710650862403, 12.212594640071526, 5.6993940732825115, 7.927501303816473, 12.812637863654793, 13.638901081670154, 4.835714388703792, 15.083316646947797, 8.205762854313663, 9.490905954146521, 3.3756674336594115, 1.5777657605073867, 9.734909002711243, 6.200052049003575, 17.039959910785257, 5.894633123535488, 1.2289161020261814, 1.3120531173879053, 24.007555588995793, 10.858389234415672, 8.406591815157196, 10.252002758327666, 20.067039036180553, 11.247914819296827, 5.144272943204229, 1.1197304386905829, 1.071772589601228, 24.723354894346816, 1.4268137803518612, 2.995712811475625, 5.119703252355192, 26.509246886850825, 6.108473119991169, 14.420131058663202, 9.088349786882704, 13.630249082541368, 11.510258483779554, 4.256393717873239, 13.488432374831289, 14.039008100055234, 19.93275257413655, 9.74963475031551, 15.064999680714097, 10.064793717466742, 1.3717387317671834, 4.820935785499425, 18.231611936386056, 13.744542804969466, 16.491046442025052, 12.314996248179952, 20.92544270934005, 19.75750704258835, 18.913353746209403, 9.283924127683457, 11.602443629207322, 14.92047073908443, 18.5440149920629, 16.39826116601326, 17.10688030991652, 7.870042754350081, 18.32973453913502, 14.158341075965422, 5.645429918757668, 10.668576885228505, 19.713419370798132, 11.954311411187097, 15.222019599123128, 19.99244545112278, 8.44320217312277, 6.399385024212838, 5.034001928173324, 16.482859758277637, 18.61671612052531, 13.653130298819043, 13.371316174763386, 15.488613103967888, 1.934333911938734, 11.462320740038205, 15.489510751898061, 10.144180918111443, 11.34276503863704, 19.12595019385509, 2.4167391720432367, 18.611634413842605, 8.01350196296956, 11.545269622088835, 13.868738673422582, 7.734793383850894, 5.3424817404538665, 17.82915249493752, 9.454243797442409, 32.304962577927725, 9.786402732987717, 10.96158360749083, 11.399421513986784, 17.003619559396284, 12.065989042699018, 12.164958048184083, 17.03139793771399, 12.195933339551459, 19.548644565764686, 5.833138955555587, 3.4689442149565073, 14.465372078851894, 16.87626361548738, 13.01162833208608, 14.84561247612251, 11.046806216513806, 9.721814052561376, 12.217839057257205, 18.941035585889637, 7.986313393020827, 5.832749680923, 9.931537255536556, 8.933832485417685, 13.28050711932936, 11.323705550559785, 14.592094667429686, 11.491597523464993, 18.42684821538945, 18.803613682042144, 3.577113979147674, 5.137575290043876, 12.25596849317299, 5.288286460857142, 8.042236192602937, 3.042704758244727, 20.084064485085662, 15.125078118586075, 4.769292976490865, 13.216400338338293, 2.156786930110111, 10.194755383328253, 1.0500874803363973, 10.455894193489595, 12.51207576834782, 4.369669823817295, 5.099363545586869, 8.144733211747265, 2.7167910726062976, 4.147738463570081, 3.4404093914863934, 19.906583874008597, 17.391588166291076, 1.3917226589931833, 13.022382349909027, 13.907205726514164, 5.800279683885278, 2.4241452585301007, 2.69782010651421, 1.3875076905220993, 8.219567730147409, 1.8781489675890115, 1.3921975959142139, 7.129461256454704, 1.4691235136318654, 1.286590889535426, 6.906569886427552, 3.793081708053789, 2.9104389368828016, 13.855503286182046, 1.363550254436308, 1.0941638034978403, 4.963437673177866, 5.583768458026703, 1.4243306549431192, 1.7847020220448755, 11.345385596919932, 13.942904063901118, 1.019794059458894, 1.188579335662113, 4.9086281508514125, 5.522493784153193, 13.174274465164938, 0.536718437557168, 16.75886809211527, 18.263175910388448, 4.196597748311461, 6.462287033157412, 7.553997851464996, 9.150149892948072, 1.5169192969501726, 20.16506687917822, 16.98220064204939, 5.986069775355923, 12.94385687455333, 4.817095006195073, 8.972872290678948, 15.678870709426375, 2.6188703950395222, 14.372066967492659, 14.81421592508915, 11.488806990671089, 5.518593140285836, 1.5824083249734375, 15.877540215236584, 12.611184313127888, 10.516994843739344, 13.121629828373397, 2.2938187295429473, 5.688532024897724, 3.142441066743734, 15.4793462173649, 18.641714336454555, 6.14599352273247, 11.072085689974841, 21.995841259453698, 16.691664188247653, 7.5510220487483, 17.032674608993652, 20.295877342539605, 7.062648514960147, 4.368310753246639, 9.044614674889909, 1.317035453934138, 6.925688231943431, 7.772786825772693, 13.859196588842531, 6.044507995484973, 15.681873743928717, 12.991512466764659, 21.167897658059374, 5.495795692271204, 21.87874028398421, 1.5591150316482543, 4.461288041523442, 1.9771291855174469, 2.8771801835150774, 17.568785553120147, 1.0324509300700677, 1.7943514848506226, 5.232020520103086, 19.0187920486519, 13.427293162535952, 5.087963462542478, 10.44684323657944, 4.713425157692147, 10.102063637890124, 5.033296405315462, 7.14783522817882, 2.3353867149170364, 4.080524792338254, 3.98359731320726, 15.030741152774896, 3.0300352356848905, 7.891000728973406, 4.972614041105496, 11.822544526535633, 5.909491463023341, 3.693917550023521, 5.291666561759089, 13.393585600403622, 5.91933518800907, 1.7397739333240732, 13.701858925375076, 5.856604290416188, 2.398799001287208, 4.227111897136646, 10.591076775297466, 2.3891174441945178, 5.279188375808589, 15.717002882193208, 13.198663817632966, 1.9503031127360346, 9.423011164310761, 0.028030240817769836, 5.122788393995639, 4.099752767058052, 18.409157227860238, 11.981828492795035, 5.367025516500776, 4.683269178265387, 24.551287328749208, 15.976185642026685, 13.873628302560643, 14.396950404358307, 20.507174682145585, 1.7290953291492972, 13.873882483438761, 9.472140944955083, 2.8302472501493106, 15.465424071213176, 8.434905549500488, 1.4126650981557116, 4.727600863978271, 12.450629700726608, 2.4629283075674384, 7.4415554056501705, 6.421076560357781, 3.499509833005564, 5.9741541037748105, 14.781190316409889, 1.9255534234827223, 10.874907351204774, 18.633211968873262, 14.03778618775414, 1.2074325021517662, 18.054111479726956, 19.792359776566947, 10.211854561819598, 19.36723469602321, 15.006934301996962, 5.97471727264995, 10.018121338104468, 1.9161414924249867, 13.493668672256852, 11.129510676610375, 1.3560384437136146, 1.122364279871392, 9.06942342467734, 12.845414912335297, 4.9187884465870955, 19.302905622465186, 16.484180435981152, 10.929229465243942, 1.1651579140527808, 8.234997349223553, 5.488294677737267, 15.634340731502682, 3.1051107583594106, 16.468984929898596, 9.336578918485957, 11.147748723456017, 19.263893406825904, 12.621052199088812, 16.964713513016154, 10.029075309176017, 13.990006428492622, 5.293472029152077, 13.963488101100847, 22.45058418841638, 5.453174497576345, 2.125137949062744, 8.710015777986284, 13.842230981075575, 12.274128430089688, 6.578020574332575, 14.70181892207245, 5.637102316584756, 4.221641696206187, 0.5249154357049091, 3.0910288305547833, 5.706458971882715, 5.089571596802898, 11.169462048103002, 11.76006267905579, 19.775849201088466, 14.676817707486977, 19.897849706745784, 20.676900226150575, 17.767544333213493, 0.16490534633787657, 9.275141245730202, 2.6611203680026243, 8.61427683426955, 15.380369246705373, 12.80802488711643, 4.601140447915947, 1.2271068970054146, 20.621739021462872, 4.263688346603811, 5.663998030361776, 18.993145892809245, 6.6823940272721325, 4.634091760105809, 15.472651931042225, 14.799431960728263, 6.643685524638027, 4.120443791020342, 12.879033043104856, 0.8847311253933408, 16.314443425182695, 15.77466891148235, 2.2017107534342886, 6.361151520102714, 4.189818335609206, 12.907206880356338, 2.3455484476969, 9.541125855823626, 3.0149857915193894, 12.614812012793557, 1.0794461894987353, 13.949408984532669, 5.1014947823258545, 22.7785939391754, 20.396039721222394, 5.248259471254447, 18.10016452420718, 5.175445915609726, 12.410613516687437, 7.582123964451049, 5.274032233692947, 5.079127356676439, 8.150604515937868, 10.277114007520554, 5.315482250319858, 16.43086801516344, 1.5512047893777936, 17.702913061135312, 8.82030251812997, 7.602862962348352, 18.313105692963, 3.8781065861976733, 14.81112354117327, 2.050455477784224, 11.333484917689924, 15.316501119881833, 22.13525318911109, 11.931063498145152, 4.3373463061398025, 0.9672759122165459, 9.828766208923783, 3.0568239609344965, 11.925770067396424, 6.0021986608173705, 4.904850838936103, 3.520254033403047, 15.210447859214641, 4.956747382388425, 15.029457800167297, 1.4402136291844325, 13.266572811576665, 2.0594555081271055, 13.280196755992563, 1.2152123157381054, 8.242514432097915, 0.7709056309347608, 16.00959993654676, 12.868408365788067, 13.759241826146722, 9.869080928965824, 16.602262475444093, 16.17586720325258, 3.4775057786575174, 15.194173873279327, 13.772201387892018, 21.450136723690868, 4.230552161526601, 7.34960221679322, 12.621401973187282, 8.041699851361791, 15.742149338925735, 20.246177394515993, 7.707915184610378, 18.05675870950804, 26.96533843342362, 3.4956970811931942, 5.56090735499667, 3.5585172512097687, 0.648138972659719, 6.624566738425732, 11.388275182026916, 23.749399398570368, 9.896993359784158, 15.159467498607771, 4.537602978932048, 2.5010251915445814, 2.833654277631201, 13.265253741633297, 12.138222977025501, 11.549495418281374, 15.254385059586351, 13.235869958521912, 10.601299651985295, 19.232165961940073, 21.278926807285444, 5.204903389516615, 4.940921117062581, 6.884100615217608, 13.30464898406076, 6.040385417435477, 14.094796761677449, 2.8882708721216988, 15.766999255963421, 5.380175929672892, 10.405972306809101, 9.17961637298412, 13.934708364523242, 2.8458357105976257, 13.570538075918165, 3.0971846159829934, 7.5026392872907675, 5.058889668918337, 16.562522759735486, 12.94431332866174, 18.142894479093822, 2.18473980817378, 1.3100847485955516, 4.528561254959745, 9.622363203981351, 6.375141258955896, 4.582311435326359, 4.1893398482334305, 7.401806272979523, 1.3909166053749251, 6.766571407907466, 11.232887164213507, 9.508581043811077, 14.222192663656097, 5.329401599870565, 4.645562068628811, 10.68271787527259, 5.867414662947102, 4.590281659259242, 1.6372444618526378, 18.597939221337864, 15.840301640706754, 1.550119164689189, 14.242416352121388, 7.803070673052596, 4.472867865509658, 14.669358243652125, 14.800626519125819, 0.9012843535589995, 11.015708849994358, 16.223690738675128, 1.3258582199612992, 1.8144546261257837, 18.10126543024494, 23.139634850481254, 0.7981106544770441, 14.478844836859412, 11.091118303054845, 13.585097935951207, 9.084927238873865, 17.668941793476687, 16.819425706488875, 1.016361074031995, 13.301766680511577, 2.7635066014733214, 5.584638276377456, 5.178082060311706, 19.917441313447092, 10.712913037321197, 16.01759836930376, 1.58374679279124, 16.487538668972377, 3.6763966863355515, 7.15930539520121, 7.335392059146557, 11.9570646179099, 13.06871791025886, 5.344862432493154, 3.899749626185827, 0.0476135507033979, 16.400528449714287, 7.6891032738411065, 16.495662608626702, 4.7308221049621855, 9.757606052502977, 15.437441061029944, 15.618804791803006, 3.46052556967066, 5.907473827700026, 1.8345235419373394, 15.91098604470021, 6.107756905970017, 8.356840810769373, 2.8316042221366367, 6.422523352111627, 0.7303069176800994, 19.36749718949016, 3.5518904249519445, 7.089428356240108, 13.770892355471677, 17.206125185413242, 12.037766043518534, 8.749163262689029, 4.311819819057763, 5.063954018648911, 11.497175161788308, 4.329323879259984, 10.283417978978466, 0.3675462576258307, 15.272375856852118, 15.73359762813891, 9.690332393590932, 6.967845165730829, 8.533500184024504, 5.34222063309635, 7.25087083799274, 15.330809400369668, 0.0007046858080075324, 6.0304816090059195, 7.533152303140409, 4.907569469336172, 14.297371692565202, 14.897688140114093, 5.156425377325573, 14.141531186156476, 14.995560954313886, 1.10617329512037, 10.370313584185446, 11.543782600603265, 1.9981906875292834, 1.3548418895996677, 12.584938600708615, 4.384177201515713, 1.3558052894144716, 5.028972477228753, 4.607548876006165, 14.520136353328628, 3.4048945211174755, 20.903636840276715, 1.5636472742007042, 5.008493587061711, 2.946382782335802, 1.3838072232067824, 1.4579611014693294, 15.307796906324494, 16.6895731733653, 3.1646963573857416, 1.3543447357221505, 1.4776874659390926, 10.155069966058647, 10.335011348573012, 3.333064491326005, 15.232826340279713, 18.070223448989676, 8.286806036745517, 18.171056460070783, 18.036002469273825, 6.355503325307747, 13.682671138066715, 6.104222632368294, 15.027895281169414, 5.3612801051272045, 12.274568304481821, 15.295008302881616, 7.323931463672331, 18.246718389122417, 3.1722732657326924, 10.107201741021663, 9.519435006697769, 18.88217697243637, 13.320147415824012, 6.493933754111849, 9.170627571898974, 2.59917378102539, 13.407203808280439, 7.524096830260337, 5.876756908896817, 3.3234285999703723, 17.20880016455757, 5.9908651672533635, 9.29672778238948, 3.5222578081898113, 15.312692334915367, 16.53924973263692, 9.903871676541884, 18.447288661050077, 14.696334778216226, 11.663616481861126, 10.959751016105026, 18.832360893946525, 8.432126743753964, 6.92625182535357, 16.357280682063475, 5.444453574575999, 12.239305847215977, 4.21599746209174, 18.97735149365567, 13.950338785555466, 2.413403780069454, 12.082636470906198, 5.272471699078276, 14.32781987436471, 5.087803545125721, 4.400531574939904, 8.681593964182253, 18.35399432621501, 17.92611316125196, 9.095081096883671, 4.903050494982937, 6.721110300381731, 12.569188667918555, 9.845041926989948, 0.5465946767364235, 9.318819370055603, 9.476049793248798, 12.417165909132416, 21.399596835390387, 9.625966612911114, 5.540355284206105, 2.0439522108603994, 0.9917634664359628, 13.474635964045781, 8.568416965746632, 8.385354649738698, 11.756348527663539, 18.060348745389792, 1.6914550912125965, 0.07176584331038005, 1.9761034844695589, 0.8753373531820596, 21.458339705720768, 1.813410028000002, 1.174644569575415, 0.11464554965536611, 0.18477625834475508, 1.9091360274411084, 0.7977049430126718, 0.1011255967840824, 16.386906109260767, 1.3466292418107455, 7.061828806555316, 1.0172376515173858, 1.5189219919743615, 1.3364709583851389, 0.5266030615153396, 0.7198789780411444, 1.1516761885600832, 0.5222865910818765, 1.6673760454341222, 1.8245896146279628, 1.151073550183559, 1.7782234853277372, 0.7761535007415081, 1.5338752651747583, 1.8832793417484213, 8.728761559203678, 1.3078152650849642, 1.0876020659335532, 1.8424287007808149, 1.7295604048346505, 0.9512042007989084, 1.8611784918324157, 13.875487172136843, 0.4264253728037217, 1.340146356076949, 1.2364435960820472, 1.6257944562686002, 11.35947294926279, 18.94977053584732, 9.371683689610876, 12.790707141272545, 1.3638942614338576, 4.879883851968203, 1.5501763730253146, 13.699727278501724, 12.48948078872947, 11.323138680389997, 4.650509883695294, 44.92950751036173, 6.024117170648576, 4.879473164405384, 4.0648814927633365, 15.238603436807937, 4.62520622931672, 20.866742726818202, 8.310959948119152, 5.069428339176435, 12.296278395861926, 16.98655580426129, 3.0631100797383093, 14.313488034294892, 12.7496808622345, 6.76755917427346, 13.992510707911636, 13.871339342649724, 10.062330286051004, 1.9860760011204666, 5.537018938406753, 3.7559338065481365, 7.654853536785215, 1.960056226207001, 13.558878718180539, 16.887204676688075, 0.7461505189738847, 7.706294748012439, 2.1931763397854036, 21.90842354103102, 19.01704429411096, 16.785700411683397, 4.679128859567652, 33.09260724770899, 10.472553864285159, 10.286654701111356, 14.81555912049438, 0.8857454384649238, 10.08774884290916, 20.875000124545227, 18.785824211433553, 9.438101848010948, 17.38092463688081, 11.04533601022887, 14.06313088877861, 13.827149744439177, 13.377367245161118, 6.422539077502501, 17.8927376223958, 7.621882685291007, 16.71797811933704, 14.00793321914083, 5.835142089211338, 16.28447160651487, 3.7809558026527745, 17.477745127150783, 6.9881995551594756, 14.458752606143342, 8.88999882014325, 11.1205898243937, 22.604532705089635, 0.9959451597760403, 14.921831063093013, 1.89530640135114, 10.353934493314267, 4.128571455954128, 11.52026629258477, 6.5185596109435355, 6.558239748734134, 4.362050881886614, 10.120942942921475, 5.967247229067262, 1.4836552377548018, 2.971086384690816, 17.30276591126912, 13.362667246012258, 9.330183116386733, 15.475219225645093, 8.126127054806886, 9.864825243141112, 24.922136463725145, 17.679003050981766, 6.153868700306875, 8.920580363907135, 5.963856913227745, 11.207577976344243, 13.96605623245689, 15.147310874026683, 5.423784993210754, 4.540353077052151, 15.398478281496498, 19.692981775489983, 8.814159295523837, 26.425014555046545, 15.761501696851797, 19.74703220170519, 5.755597343275569, 18.958547965530006, 12.908432895908605, 20.544512601474235, 6.388021069714721, 10.739321261433862, 21.782863392385583, 34.12008147791314, 13.44594586884471, 4.176934852955033, 6.934283655034851, 16.22300880623057, 17.759016361113833, 1.8634116678646737, 10.096527838662304, 1.5275273932250644, 12.88992417725103, 15.159356866255024, 8.572190348963778, 12.776178426658221, 19.47971073623596, 1.8856223849273341, 14.026309804117524, 4.728558727957006, 7.769075693072745, 8.995086349074088, 2.4398060235509003, 0.39071366646243344, 8.925618929030708, 7.683844698428384, 1.5114187114735742, 13.569607333284692, 17.415202896972332, 4.921269542958341, 18.43511806707372, 3.587661833118344, 22.200524426239845, 6.909586205099942, 11.680684763616679, 9.7946775802379, 4.555147779907492, 6.799312273513962, 10.261937162981482, 9.503181024342773, 16.13311099690199, 11.765182152225037, 30.05532227877598, 0.25953007691377195, 2.298659422685592, 9.199051524033482, 6.64865159481539, 5.443092735949983, 1.7764966683820256, 3.3890437915795273, 1.4189907361965917, 0.42070057832765273, 3.267679220584185, 1.5976273179322962, 1.7257449153848943, 3.9281459411183586, 1.9311636263571073, 3.3213640718592865, 0.2645531469338158, 4.493490963486396, 1.7229325304883227, 2.594000869593227, 2.0613345141863193, 2.0516596676918275, 12.261656727044874, 8.342520473013373, 10.996647938146314, 15.18745755986532, 1.511692808303436, 16.4162721737866, 14.419227228628536, 12.678552312676082, 3.5854644938638307, 14.944732308234721, 9.345985800386055, 9.692366956900393, 0.32636813225173966, 14.806015958243016, 7.950465204755215, 9.666089313186596, 1.2509935575236164, 8.221360570657117, 4.694438477315567, 7.820607413054497, 1.5290856829904023, 14.201077830138688, 7.228252463155746, 11.2012733327521, 14.978781203026324, 7.431429071133893, 8.85440228550319, 20.83840996954519, 5.626215111438686, 9.44492672066171, 9.53470491635141, 1.796692432024743, 2.995060584909286, 4.624819273200001, 29.64429950666653, 13.943550642788633, 10.989221017199512, 14.574908742294362, 21.483148072382892, 19.497913670660996, 8.463245496098487, 24.0743898042179, 20.530812201020435, 18.211934002302296, 10.19073164434292, 14.536191299454082, 9.873764585211035, 15.65023708244764, 14.326268914300524, 10.231394654529632, 13.405776420506612, 14.42730718219725, 4.421409259867321, 6.804791319316909, 23.01841832134583, 10.841497196152858, 3.2894755893102565, 8.019990857371898, 21.24439770125481, 19.51111309050323, 10.69746409803305, 4.288832286527944, 5.854107390389176, 44.37378626665626, 16.139071341085913, 29.834887875613592, 13.36106266892515, 3.742296084606103, 0.92986933840408, 12.566089289958539, 11.498313767720079, 8.749919797897743, 13.970746783606524, 8.704333294574486, 29.298558657391037, 13.913175716996726, 18.213464358831565, 6.84321344461682, 13.623296824346166, 14.978054598870571, 7.38371579404061, 0.8076243544636558, 15.943551071064412, 7.970484444326093, 15.76836484710885, 14.049232801659343, 12.989471050343024, 15.416185540576587, 10.67683564079124, 6.203445140446079, 3.177460737358951, 7.5720312107807, 7.038927505826283, 15.79224580760334, 8.338141184309622, 23.63877476147656, 12.11627622472527, 9.520141470333844, 21.497085669650854, 20.27565768313543, 13.946388730886184, 7.157350051262923, 6.3421789417099195, 9.212461104994324, 1.9798785982158398, 35.38767050441851, 12.753843434236341, 10.437665389733322, 5.341008005196282, 12.273221862059014, 33.07437643159321, 20.516121251902568, 16.943881655214124, 11.021367490177871, 15.631449488512567, 15.808651713694966, 12.916489726221405, 1.9764325748661071, 12.759041216283402, 6.564927443723562, 8.424967038868306, 14.987987583272323, 9.29478002274566, 15.172955408553708, 7.771941199213796, 10.427954935793325, 14.393919983563052, 25.2669864538172, 8.633940529833685, 15.410168154174032, 11.812176457512487, 4.214606483329313, 16.068383366798326, 4.3155230321018845, 12.194897699469085, 10.132753099775432, 11.275625092491245, 18.887360176102945, 11.226517994779858, 4.45317780818192, 19.74081338403427, 8.942714178896141, 32.7770802991073, 20.279949291825986, 7.684397536480432, 5.830289226971496, 19.172381082775797, 10.922096921090512, 23.326686106191776, 12.475286786694403, 8.847163924609399, 7.488519978244233, 14.379952441144015, 4.379705648346442, 16.225248870510473, 17.378085068514846, 5.231548565437571, 8.235913074949652, 8.722366336888436, 8.523752097785339, 12.238947618577583, 18.6562029339973, 6.747046829752286, 11.053159637467719, 8.278102355080652, 14.29070259592, 11.774220808021827, 16.687352062943976, 4.774611577005795, 12.556416817698873, 6.443226556040426, 7.181166396633219, 2.0227385518098044, 4.673746320324963, 6.952851592840128, 7.137486265888434, 4.4029297792386695, 9.559175741509906, 5.257577808857224, 7.340354039704834, 4.909714071407658, 6.537549058825713, 2.642431813442332, 8.139129440527322, 7.173890608489667, 13.097612531511064, 5.648021559742442, 11.210586892925823, 6.422823383656594, 9.433762514928546, 3.1311322896065867, 13.978020171217718, 10.843699629167007, 12.09657883536534, 18.74218407978737, 6.867917837957482, 5.899148054658896, 4.505299520900266, 6.047885357645352, 6.85829158819546, 5.190613972774959, 7.794076078744318, 11.617184112392644, 7.771128834849918, 10.149488909432659, 7.064242587854471, 8.959383733928219, 1.532406751816162, 1.282280547356606, 8.695707836840365], \"y\": [93220, 133615, 220000, 200459, 207000, 1, 1, 74750, 1, 27000, 1, 129583, 152047, 71, 76200, 147000, 85000, 1, 210, 5, 1, 248000, 166512, 193000, 303500, 149858, 238000, 336847, 230000, 58693, 49000, 193457, 260000, 127000, 1, 282282, 290000, 76620, 110000, 104000, 186000, 158410, 177400, 37500, 1, 105300, 15000, 213400, 28000, 309000, 180000, 370000, 92100, 11700, 125, 70200, 300000, 250000, 5, 196000, 225000, 200000, 258, 279000, 269500, 42400, 98757, 66600, 21000, 5, 241000, 240000, 210000, 275000, 66000, 146000, 6550, 6400, 216374, 13800, 5, 9600, 250500, 42400, 277000, 139000, 161400, 14150, 5, 113200, 209000, 5, 95347, 143000, 55500, 14200, 214646, 36400, 239000, 190000, 14500, 266000, 49000, 13800, 208000, 5, 1, 21000, 141000, 240000, 109000, 121000, 88000, 112500, 64000, 215000, 160000, 102540, 12650, 36000, 16250, 131900, 10670, 201000, 32000, 290000, 29000, 83300, 16445, 112530, 64250, 5, 50726, 299120, 326000, 15820, 59920, 195168, 176095, 19850, 352000, 5, 44100, 269703, 10580, 154638, 12984, 239000, 7200, 75000, 159000, 280000, 165267, 290000, 8200, 4580, 236000, 77040, 151475, 57190, 60000, 4880, 28900, 64600, 98000, 6445, 70625, 126000, 12950, 5, 72900, 240000, 10400, 110500, 6710, 25200, 145000, 5, 79000, 58900, 1, 19750, 5, 5, 106000, 24500, 1, 1, 5400, 192000, 5, 119000, 1, 1, 26970, 5, 5, 119000, 92495, 100920, 99000, 74100, 1, 79250, 5, 1, 5, 9600, 111310, 24700, 5, 10000, 129000, 8586, 1, 8400, 1, 1, 1, 5, 231000, 5, 80595, 105890, 1, 82000, 99600, 1, 36603, 189200, 1, 5, 28040, 1, 1, 5, 20352, 31577, 99936, 192, 3900, 5, 124425, 171340, 195000, 4500, 5, 167764, 159500, 84480, 345763, 32925, 11245, 37000, 25820, 10000, 31649, 1, 4200, 5500, 17840, 62400, 5, 1, 1, 25070, 5400, 271500, 242000, 10050, 8208, 130000, 1, 192000, 48200, 11300, 213000, 5, 25255, 30290, 1, 5800, 209000, 21960, 1, 18675, 104085, 11100, 8900, 5, 63740, 249500, 10000, 328000, 274, 18130, 190000, 189000, 15000, 15350, 12850, 199900, 4000, 15750, 5, 5, 5, 8700, 14000, 4600, 63030, 5, 5, 216000, 5, 9600, 5, 68550, 5, 12000, 58150, 10000, 10740, 256000, 6200, 5, 38435, 5, 10000, 64800, 5, 47850, 252120, 239500, 5, 24300, 8000, 150398, 7100, 15000, 10000, 5, 78520, 5, 15000, 119500, 17850, 175280, 9500, 209905, 5, 2500, 5, 131000, 146000, 5, 26971, 207000, 57000, 5, 50200, 5, 45000, 5, 221500, 6755, 40000, 16595, 5, 5, 137875, 66275, 34000, 42741, 23450, 77830, 61400, 1, 58301, 206700, 27300, 45000, 5, 45000, 17900, 11240, 47550, 98342, 196000, 45400, 43325, 32630, 4300, 26000, 12770, 5, 292000, 192000, 113760, 25002, 17900, 227000, 5, 150426, 128216, 101000, 342000, 5, 10000, 5, 5900, 5, 83001, 419000, 56245, 197434, 65000, 1, 5, 30000, 299671, 5, 12300, 5, 5, 5, 134600, 5, 5, 53790, 73000, 260000, 5, 314000, 181, 127500, 99100, 83988, 25437, 10000, 5, 5, 5, 29044, 290700, 282000, 85450, 22323, 282000, 4000, 240000, 306000, 9480, 5, 5, 174000, 65333, 85656, 340250, 5, 40000, 113300, 173000, 9270, 7450, 5, 32500, 5, 71486, 5, 12900, 11600, 5300, 69400, 51100, 89558, 5, 47550, 195000, 24952, 5, 5, 5, 5, 253000, 10000, 32700, 9100, 26000, 73000, 100050, 5, 5, 27550, 64076, 186000, 5, 5, 79907, 77791, 7130, 33290, 5, 67700, 5, 1, 5, 73247, 5, 5, 242000, 227900, 103000, 310000, 288000, 227000, 330000, 112194, 185000, 94000, 5, 269000, 64517, 81000, 256000, 5, 43500, 73000, 340000, 32710, 5, 199650, 263000, 69852, 159000, 84000, 110000, 35027, 159000, 208792, 223000, 72500, 5, 174500, 96000, 284000, 51494, 5, 8800, 184700, 240000, 91900, 287000, 264, 190000, 114050, 6700, 13800, 172000, 24300, 21400, 35835, 230000, 127050, 174000, 186200, 292000, 225400, 220000, 240000, 215000, 325800, 72500, 240000, 155000, 9700, 68000, 280000, 219747, 265000, 324500, 308000, 348722, 339000, 145000, 242026, 400000, 232000, 327321, 245000, 89000, 245, 303243, 41447, 183000, 331000, 274000, 262000, 200000, 179000, 86125, 130000, 217000, 275000, 216500, 190700, 334000, 20700, 282000, 318000, 194000, 260000, 249000, 52200, 201000, 214000, 308000, 217000, 166000, 84000, 320000, 115000, 216800, 180000, 276000, 189100, 341000, 220000, 230, 291000, 220000, 180000, 167000, 66000, 328000, 228000, 250000, 234800, 215100, 192500, 252000, 290000, 246000, 136000, 78000, 97435, 213000, 204000, 240481, 104715, 119000, 308000, 106000, 140000, 200000, 94500, 105000, 30000, 325000, 229627, 155000, 150347, 9500, 128000, 31842, 209000, 300, 88400, 138000, 101000, 52740, 56127, 36882, 313000, 251800, 5, 183000, 350420, 1700000, 33355, 27830, 5, 175600, 10000, 5, 243000, 11100, 5, 195000, 55990, 19174, 204000, 6000, 5, 65200, 99750, 5, 5, 231322, 350000, 5, 25700, 67100, 102820, 199710, 10000, 286700, 280000, 76500, 76000, 112922, 145000, 5, 290000, 270000, 69000, 318000, 86899, 116756, 276000, 24957, 173000, 280000, 189000, 73200, 5000, 185000, 258000, 218000, 280000, 29714, 128000, 78000, 283800, 223000, 210, 167000, 420000, 326300, 232000, 258000, 160000, 168985, 169171, 208000, 5, 100700, 249000, 241000, 110000, 150600, 251000, 175175, 107500, 282800, 13440, 62000, 33000, 31000, 260000, 10000, 5, 119700, 251616, 214000, 51000, 224000, 108000, 268000, 271000, 188040, 23500, 70000, 30994, 267426, 29000, 220000, 128000, 304000, 153000, 91000, 90000, 219000, 51170, 16700, 195998, 180000, 50000, 51200, 202000, 18141, 69000, 187000, 286000, 5, 284000, 5, 92000, 200000, 191000, 343000, 105300, 57960, 201000, 235000, 196700, 212500, 393000, 5, 178000, 114000, 7920, 200473, 118666, 10000, 91450, 145613, 13500, 179000, 71000, 11250, 96150, 250246, 10000, 215000, 154230, 243000, 5, 237000, 267000, 310000, 267000, 467345, 171530, 208000, 10000, 219000, 225000, 5, 5, 82700, 125567, 111776, 254000, 250000, 152000, 5, 238000, 45000, 185000, 47000, 287697, 260000, 89722, 30100, 307700, 309958, 127673, 260000, 68000, 219000, 285000, 56000, 5500, 161000, 214659, 380000, 127050, 242000, 52500, 69049, 5, 8665, 142100, 57000, 161, 287000, 293000, 184000, 353551, 350000, 226000, 5, 200000, 13764, 173000, 183000, 216000, 88400, 5, 232000, 102000, 15245, 191000, 226000, 35730, 306000, 273529, 75000, 84000, 191000, 5, 270410, 174000, 29760, 86143, 150000, 115000, 22450, 227000, 592, 190000, 10000, 165900, 125500, 333800, 215000, 129000, 182000, 168000, 222230, 162000, 127000, 164900, 211, 215000, 96000, 450000, 24700, 275450, 211100, 119000, 193355, 65000, 155000, 17000, 207000, 174000, 230000, 223995, 41000, 6000, 168645, 27000, 222000, 74000, 123000, 100050, 311000, 57920, 220000, 5, 319000, 17000, 237000, 5, 154000, 25, 170975, 228000, 199056, 218500, 390000, 273000, 90000, 240000, 252000, 255000, 48100, 150000, 300000, 67000, 150000, 283000, 121760, 182000, 320000, 96870, 140462, 35000, 0, 175000, 136500, 367000, 169300, 327000, 112000, 15926, 20490, 169738, 218500, 121600, 306000, 170000, 154544, 284000, 189765, 110297, 200000, 111500, 198000, 77000, 155000, 9760, 234000, 70000, 170000, 188873, 278000, 53000, 240000, 70980, 100000, 167000, 286200, 217000, 290000, 22000, 6700, 30685, 285750, 96000, 62000, 60000, 126430, 7000, 94500, 141000, 221300, 155000, 97500, 149, 230000, 168000, 60000, 25850, 330000, 140930, 5, 234000, 134000, 81000, 300500, 160000, 10, 111000, 450000, 10000, 5, 254600, 385634, 5, 292186, 118000, 146000, 174000, 325000, 276000, 10000, 210000, 32000, 50200, 62218, 249787, 185132, 372291, 5, 290000, 37500, 225, 82000, 345000, 186866, 67000, 74537, 11, 273000, 76200, 254906, 18000, 229250, 321100, 150000, 99800, 36000, 5, 381000, 162000, 86000, 32401, 96900, 0, 267000, 47671, 116500, 280000, 240000, 249000, 225000, 100000, 151000, 147150, 64061, 247000, 1, 305000, 221000, 182000, 180000, 148000, 84000, 87000, 211000, 5, 130000, 145000, 154000, 199999, 163854, 114000, 227750, 240000, 5, 170200, 230000, 5, 27170, 223000, 77000, 5, 123, 75530, 232000, 111900, 267000, 10000, 168000, 25000, 5, 24800, 234000, 259137, 87900, 9500, 5, 241000, 236000, 27281, 440000, 190400, 142000, 260, 402052, 85000, 180000, 224000, 270000, 131000, 228000, 194000, 178000, 261000, 64000, 242000, 267000, 280000, 244000, 199000, 207000, 21500, 215000, 175400, 200000, 74500, 213500, 97720, 180000, 64000, 304000, 172000, 260000, 191000, 330000, 209000, 229000, 303000, 168000, 140000, 230000, 271000, 235218, 108853, 270000, 205800, 16900, 170000, 93000, 298000, 137500, 60724, 121000, 182000, 281644, 110000, 190000, 180000, 250000, 234929, 0, 190000, 113000, 329000, 337030, 164700, 120000, 72000, 5, 212000, 145000, 220000, 178000, 240652, 1, 1, 1, 1, 230000, 1, 1, 1, 1, 1, 1, 1, 257000, 1, 158000, 1, 1, 1, 1, 1, 1, 1, 1, 1, 1, 1, 1, 1, 1, 180000, 1, 1, 1, 1, 1, 1, 165900, 1, 1, 1, 1, 240000, 226000, 144000, 200000, 5, 179, 4000, 176000, 224000, 193500, 24300, 192775, 220000, 200000, 178000, 297700, 199000, 270000, 218000, 60000, 229000, 205000, 179, 150000, 384000, 208157, 186000, 230000, 240000, 3390, 179500, 28000, 170000, 4000, 354000, 238000, 20, 77000, 29000, 45000, 275500, 234000, 76000, 223000, 282000, 102000, 334000, 0, 174000, 393000, 475000, 161000, 282000, 206000, 276000, 337000, 151000, 149700, 145000, 216000, 350000, 430000, 150400, 160000, 130000, 500000, 42000, 221203, 155000, 220598, 157000, 10, 40032, 10000, 187500, 151000, 90000, 82000, 142000, 53000, 238, 178000, 10000, 79880, 193000, 286000, 250000, 276000, 222070, 315000, 289447, 310000, 62000, 178000, 184000, 198000, 297000, 188000, 160000, 149900, 406000, 313000, 170000, 320000, 188000, 267000, 189000, 191000, 207000, 393000, 58331, 288000, 405000, 198520, 200000, 171000, 85305, 190000, 205000, 5, 192000, 16000, 268000, 250000, 170000, 242000, 202716, 19000, 298000, 160000, 164315, 171000, 48200, 0, 115000, 200000, 5, 215450, 186000, 183430, 269000, 47300, 269000, 215000, 282, 202000, 57888, 137000, 204, 108800, 229704, 197000, 234567, 5, 8628, 167000, 38600, 83150, 5, 67175, 8650, 25, 55990, 12500, 18450, 36695, 5, 51100, 11, 37050, 5, 4300, 60000, 29200, 145499, 203000, 210000, 268000, 9900, 214305, 90000, 223000, 64400, 184300, 159000, 366000, 10000, 190000, 295000, 264590, 17033, 218000, 120000, 170000, 5, 108000, 218000, 225400, 260000, 98786, 152000, 300000, 90000, 230000, 174000, 5, 44500, 11000, 74500, 256500, 220000, 139712, 265000, 315000, 103000, 270000, 200000, 245000, 210000, 170000, 215000, 406000, 279000, 103938, 159000, 236200, 169, 179000, 300000, 292000, 18500, 75000, 169400, 73000, 269000, 103000, 169000, 6700, 287751, 148000, 177500, 37000, 0, 133000, 275000, 89000, 288000, 255000, 118000, 271000, 311000, 110000, 192000, 201000, 250, 0, 239500, 151000, 167000, 262000, 147000, 209000, 171000, 96000, 76000, 219384, 65000, 272379, 134000, 338000, 346868, 202700, 227585, 284683, 232000, 137000, 150000, 173000, 18300, 303000, 165308, 270000, 132000, 232000, 227000, 268798, 202000, 183000, 138000, 273200, 310000, 400, 265000, 131057, 136000, 322000, 300800, 280000, 124900, 299000, 202000, 150000, 165000, 284500, 253000, 99500, 244645, 180000, 319000, 292000, 57800, 285000, 160000, 157000, 311661, 204700, 257719, 297450, 213000, 262000, 228455, 350, 255000, 157000, 142000, 175000, 270500, 54000, 141280, 306000, 137, 111000, 225, 175000, 242100, 380000, 61000, 132000, 161000, 143303, 170000, 314000, 137000, 252300, 119000, 155931, 8500, 140636, 203000, 267903, 205, 246093, 176000, 305000, 123000, 182000, 19000, 154200, 120000, 215206, 151000, 218000, 224000, 260432, 88053, 204000, 150779, 248000, 238000, 203000, 48300, 171000, 199000, 237308, 58000, 256000, 298000, 124500, 270140, 229254, 209331, 5500, 8500, 183000]}],\n",
       "                        {\"template\": {\"data\": {\"bar\": [{\"error_x\": {\"color\": \"#2a3f5f\"}, \"error_y\": {\"color\": \"#2a3f5f\"}, \"marker\": {\"line\": {\"color\": \"#E5ECF6\", \"width\": 0.5}}, \"type\": \"bar\"}], \"barpolar\": [{\"marker\": {\"line\": {\"color\": \"#E5ECF6\", \"width\": 0.5}}, \"type\": \"barpolar\"}], \"carpet\": [{\"aaxis\": {\"endlinecolor\": \"#2a3f5f\", \"gridcolor\": \"white\", \"linecolor\": \"white\", \"minorgridcolor\": \"white\", \"startlinecolor\": \"#2a3f5f\"}, \"baxis\": {\"endlinecolor\": \"#2a3f5f\", \"gridcolor\": \"white\", \"linecolor\": \"white\", \"minorgridcolor\": \"white\", \"startlinecolor\": \"#2a3f5f\"}, \"type\": \"carpet\"}], \"choropleth\": [{\"colorbar\": {\"outlinewidth\": 0, \"ticks\": \"\"}, \"type\": \"choropleth\"}], \"contour\": [{\"colorbar\": {\"outlinewidth\": 0, \"ticks\": \"\"}, \"colorscale\": [[0.0, \"#0d0887\"], [0.1111111111111111, \"#46039f\"], [0.2222222222222222, \"#7201a8\"], [0.3333333333333333, \"#9c179e\"], [0.4444444444444444, \"#bd3786\"], [0.5555555555555556, \"#d8576b\"], [0.6666666666666666, \"#ed7953\"], [0.7777777777777778, \"#fb9f3a\"], [0.8888888888888888, \"#fdca26\"], [1.0, \"#f0f921\"]], \"type\": \"contour\"}], \"contourcarpet\": [{\"colorbar\": {\"outlinewidth\": 0, \"ticks\": \"\"}, \"type\": \"contourcarpet\"}], \"heatmap\": [{\"colorbar\": {\"outlinewidth\": 0, \"ticks\": \"\"}, \"colorscale\": [[0.0, \"#0d0887\"], [0.1111111111111111, \"#46039f\"], [0.2222222222222222, \"#7201a8\"], [0.3333333333333333, \"#9c179e\"], [0.4444444444444444, \"#bd3786\"], [0.5555555555555556, \"#d8576b\"], [0.6666666666666666, \"#ed7953\"], [0.7777777777777778, \"#fb9f3a\"], [0.8888888888888888, \"#fdca26\"], [1.0, \"#f0f921\"]], \"type\": \"heatmap\"}], \"heatmapgl\": [{\"colorbar\": {\"outlinewidth\": 0, \"ticks\": \"\"}, \"colorscale\": [[0.0, \"#0d0887\"], [0.1111111111111111, \"#46039f\"], [0.2222222222222222, \"#7201a8\"], [0.3333333333333333, \"#9c179e\"], [0.4444444444444444, \"#bd3786\"], [0.5555555555555556, \"#d8576b\"], [0.6666666666666666, \"#ed7953\"], [0.7777777777777778, \"#fb9f3a\"], [0.8888888888888888, \"#fdca26\"], [1.0, \"#f0f921\"]], \"type\": \"heatmapgl\"}], \"histogram\": [{\"marker\": {\"colorbar\": {\"outlinewidth\": 0, \"ticks\": \"\"}}, \"type\": \"histogram\"}], \"histogram2d\": [{\"colorbar\": {\"outlinewidth\": 0, \"ticks\": \"\"}, \"colorscale\": [[0.0, \"#0d0887\"], [0.1111111111111111, \"#46039f\"], [0.2222222222222222, \"#7201a8\"], [0.3333333333333333, \"#9c179e\"], [0.4444444444444444, \"#bd3786\"], [0.5555555555555556, \"#d8576b\"], [0.6666666666666666, \"#ed7953\"], [0.7777777777777778, \"#fb9f3a\"], [0.8888888888888888, \"#fdca26\"], [1.0, \"#f0f921\"]], \"type\": \"histogram2d\"}], \"histogram2dcontour\": [{\"colorbar\": {\"outlinewidth\": 0, \"ticks\": \"\"}, \"colorscale\": [[0.0, \"#0d0887\"], [0.1111111111111111, \"#46039f\"], [0.2222222222222222, \"#7201a8\"], [0.3333333333333333, \"#9c179e\"], [0.4444444444444444, \"#bd3786\"], [0.5555555555555556, \"#d8576b\"], [0.6666666666666666, \"#ed7953\"], [0.7777777777777778, \"#fb9f3a\"], [0.8888888888888888, \"#fdca26\"], [1.0, \"#f0f921\"]], \"type\": \"histogram2dcontour\"}], \"mesh3d\": [{\"colorbar\": {\"outlinewidth\": 0, \"ticks\": \"\"}, \"type\": \"mesh3d\"}], \"parcoords\": [{\"line\": {\"colorbar\": {\"outlinewidth\": 0, \"ticks\": \"\"}}, \"type\": \"parcoords\"}], \"scatter\": [{\"marker\": {\"colorbar\": {\"outlinewidth\": 0, \"ticks\": \"\"}}, \"type\": \"scatter\"}], \"scatter3d\": [{\"line\": {\"colorbar\": {\"outlinewidth\": 0, \"ticks\": \"\"}}, \"marker\": {\"colorbar\": {\"outlinewidth\": 0, \"ticks\": \"\"}}, \"type\": \"scatter3d\"}], \"scattercarpet\": [{\"marker\": {\"colorbar\": {\"outlinewidth\": 0, \"ticks\": \"\"}}, \"type\": \"scattercarpet\"}], \"scattergeo\": [{\"marker\": {\"colorbar\": {\"outlinewidth\": 0, \"ticks\": \"\"}}, \"type\": \"scattergeo\"}], \"scattergl\": [{\"marker\": {\"colorbar\": {\"outlinewidth\": 0, \"ticks\": \"\"}}, \"type\": \"scattergl\"}], \"scattermapbox\": [{\"marker\": {\"colorbar\": {\"outlinewidth\": 0, \"ticks\": \"\"}}, \"type\": \"scattermapbox\"}], \"scatterpolar\": [{\"marker\": {\"colorbar\": {\"outlinewidth\": 0, \"ticks\": \"\"}}, \"type\": \"scatterpolar\"}], \"scatterpolargl\": [{\"marker\": {\"colorbar\": {\"outlinewidth\": 0, \"ticks\": \"\"}}, \"type\": \"scatterpolargl\"}], \"scatterternary\": [{\"marker\": {\"colorbar\": {\"outlinewidth\": 0, \"ticks\": \"\"}}, \"type\": \"scatterternary\"}], \"surface\": [{\"colorbar\": {\"outlinewidth\": 0, \"ticks\": \"\"}, \"colorscale\": [[0.0, \"#0d0887\"], [0.1111111111111111, \"#46039f\"], [0.2222222222222222, \"#7201a8\"], [0.3333333333333333, \"#9c179e\"], [0.4444444444444444, \"#bd3786\"], [0.5555555555555556, \"#d8576b\"], [0.6666666666666666, \"#ed7953\"], [0.7777777777777778, \"#fb9f3a\"], [0.8888888888888888, \"#fdca26\"], [1.0, \"#f0f921\"]], \"type\": \"surface\"}], \"table\": [{\"cells\": {\"fill\": {\"color\": \"#EBF0F8\"}, \"line\": {\"color\": \"white\"}}, \"header\": {\"fill\": {\"color\": \"#C8D4E3\"}, \"line\": {\"color\": \"white\"}}, \"type\": \"table\"}]}, \"layout\": {\"annotationdefaults\": {\"arrowcolor\": \"#2a3f5f\", \"arrowhead\": 0, \"arrowwidth\": 1}, \"colorscale\": {\"diverging\": [[0, \"#8e0152\"], [0.1, \"#c51b7d\"], [0.2, \"#de77ae\"], [0.3, \"#f1b6da\"], [0.4, \"#fde0ef\"], [0.5, \"#f7f7f7\"], [0.6, \"#e6f5d0\"], [0.7, \"#b8e186\"], [0.8, \"#7fbc41\"], [0.9, \"#4d9221\"], [1, \"#276419\"]], \"sequential\": [[0.0, \"#0d0887\"], [0.1111111111111111, \"#46039f\"], [0.2222222222222222, \"#7201a8\"], [0.3333333333333333, \"#9c179e\"], [0.4444444444444444, \"#bd3786\"], [0.5555555555555556, \"#d8576b\"], [0.6666666666666666, \"#ed7953\"], [0.7777777777777778, \"#fb9f3a\"], [0.8888888888888888, \"#fdca26\"], [1.0, \"#f0f921\"]], \"sequentialminus\": [[0.0, \"#0d0887\"], [0.1111111111111111, \"#46039f\"], [0.2222222222222222, \"#7201a8\"], [0.3333333333333333, \"#9c179e\"], [0.4444444444444444, \"#bd3786\"], [0.5555555555555556, \"#d8576b\"], [0.6666666666666666, \"#ed7953\"], [0.7777777777777778, \"#fb9f3a\"], [0.8888888888888888, \"#fdca26\"], [1.0, \"#f0f921\"]]}, \"colorway\": [\"#636efa\", \"#EF553B\", \"#00cc96\", \"#ab63fa\", \"#FFA15A\", \"#19d3f3\", \"#FF6692\", \"#B6E880\", \"#FF97FF\", \"#FECB52\"], \"font\": {\"color\": \"#2a3f5f\"}, \"geo\": {\"bgcolor\": \"white\", \"lakecolor\": \"white\", \"landcolor\": \"#E5ECF6\", \"showlakes\": true, \"showland\": true, \"subunitcolor\": \"white\"}, \"hoverlabel\": {\"align\": \"left\"}, \"hovermode\": \"closest\", \"mapbox\": {\"style\": \"light\"}, \"paper_bgcolor\": \"white\", \"plot_bgcolor\": \"#E5ECF6\", \"polar\": {\"angularaxis\": {\"gridcolor\": \"white\", \"linecolor\": \"white\", \"ticks\": \"\"}, \"bgcolor\": \"#E5ECF6\", \"radialaxis\": {\"gridcolor\": \"white\", \"linecolor\": \"white\", \"ticks\": \"\"}}, \"scene\": {\"xaxis\": {\"backgroundcolor\": \"#E5ECF6\", \"gridcolor\": \"white\", \"gridwidth\": 2, \"linecolor\": \"white\", \"showbackground\": true, \"ticks\": \"\", \"zerolinecolor\": \"white\"}, \"yaxis\": {\"backgroundcolor\": \"#E5ECF6\", \"gridcolor\": \"white\", \"gridwidth\": 2, \"linecolor\": \"white\", \"showbackground\": true, \"ticks\": \"\", \"zerolinecolor\": \"white\"}, \"zaxis\": {\"backgroundcolor\": \"#E5ECF6\", \"gridcolor\": \"white\", \"gridwidth\": 2, \"linecolor\": \"white\", \"showbackground\": true, \"ticks\": \"\", \"zerolinecolor\": \"white\"}}, \"shapedefaults\": {\"line\": {\"color\": \"#2a3f5f\"}}, \"ternary\": {\"aaxis\": {\"gridcolor\": \"white\", \"linecolor\": \"white\", \"ticks\": \"\"}, \"baxis\": {\"gridcolor\": \"white\", \"linecolor\": \"white\", \"ticks\": \"\"}, \"bgcolor\": \"#E5ECF6\", \"caxis\": {\"gridcolor\": \"white\", \"linecolor\": \"white\", \"ticks\": \"\"}}, \"title\": {\"x\": 0.05}, \"xaxis\": {\"automargin\": true, \"gridcolor\": \"white\", \"linecolor\": \"white\", \"ticks\": \"\", \"zerolinecolor\": \"white\", \"zerolinewidth\": 2}, \"yaxis\": {\"automargin\": true, \"gridcolor\": \"white\", \"linecolor\": \"white\", \"ticks\": \"\", \"zerolinecolor\": \"white\", \"zerolinewidth\": 2}}}, \"title\": {\"text\": \"Mileage vs Age\"}, \"xaxis\": {\"title\": {\"text\": \"Age\"}}, \"yaxis\": {\"range\": [0, 500000], \"title\": {\"text\": \"Mileage\"}}},\n",
       "                        {\"responsive\": true}\n",
       "                    ).then(function(){\n",
       "                            \n",
       "var gd = document.getElementById('8cd29272-1519-4aa0-8f4f-e59c81c9eec8');\n",
       "var x = new MutationObserver(function (mutations, observer) {{\n",
       "        var display = window.getComputedStyle(gd).display;\n",
       "        if (!display || display === 'none') {{\n",
       "            console.log([gd, 'removed!']);\n",
       "            Plotly.purge(gd);\n",
       "            observer.disconnect();\n",
       "        }}\n",
       "}});\n",
       "\n",
       "// Listen for the removal of the full notebook cells\n",
       "var notebookContainer = gd.closest('#notebook-container');\n",
       "if (notebookContainer) {{\n",
       "    x.observe(notebookContainer, {childList: true});\n",
       "}}\n",
       "\n",
       "// Listen for the clearing of the current output cell\n",
       "var outputEl = gd.closest('.output');\n",
       "if (outputEl) {{\n",
       "    x.observe(outputEl, {childList: true});\n",
       "}}\n",
       "\n",
       "                        })\n",
       "                };\n",
       "                });\n",
       "            </script>\n",
       "        </div>"
      ]
     },
     "metadata": {},
     "output_type": "display_data"
    }
   ],
   "source": [
    "\n",
    "trace0=go.Scatter(\n",
    "        y=df.Mileage,\n",
    "        x=df.Age_noise,\n",
    "        mode='markers',\n",
    "        marker=dict(\n",
    "        color=\"red\",\n",
    "        size=5,\n",
    "        opacity=0.3\n",
    "        ),\n",
    "       \n",
    "    )\n",
    "\n",
    "\n",
    "\n",
    "\n",
    "\n",
    "\n",
    "\n",
    "\n",
    "data=[trace0]\n",
    "figure=go.Figure(\n",
    "    data=data,\n",
    "    layout=go.Layout(\n",
    "        title=\"Mileage vs Age\",\n",
    "        yaxis=dict(title=\"Mileage\",range=(0,500000)),\n",
    "        xaxis=dict(title=\"Age\")\n",
    "\n",
    "    \n",
    "    ))\n",
    "iplot(figure)"
   ]
  },
  {
   "cell_type": "code",
   "execution_count": 32,
   "metadata": {},
   "outputs": [
    {
     "data": {
      "application/vnd.plotly.v1+json": {
       "config": {
        "linkText": "Export to plot.ly",
        "plotlyServerURL": "https://plot.ly",
        "showLink": false
       },
       "data": [
        {
         "marker": {
          "color": "blue",
          "opacity": 0.3,
          "size": 5
         },
         "mode": "markers",
         "name": "New",
         "type": "scatter",
         "x": [
          0.849147574616197,
          1.8325462872699358,
          1.352423612868348,
          1.5537220363833746,
          0.9759355095190388,
          1.8919834166979554,
          0.5163413334097116,
          1.1717778288822762,
          1.6116368471082292,
          1.4911864852986199,
          1.9357448149457974,
          1.2086049380916815,
          1.091314256242395,
          1.7070313966975914,
          1.6202647253861782,
          2.7234915452098187,
          1.015302732321092,
          1.62563941863384,
          1.4702009578717692,
          1.4749267362299934,
          1.3298141804272787,
          0.8294723057874906,
          1.4808899176089394,
          0.5220240583014087,
          1.4985149220275686,
          1.3043818166929086,
          1.5619475154023537,
          0.677602225932939,
          1.101320695257654,
          1.8318728897630672,
          1.363179475517499,
          1.3944162518764966,
          0.7786766194462243,
          0.9274462258883205,
          0.22919052197973266,
          1.4522762673102614,
          1.240190368980269,
          1.417659294670141,
          1.6735947529986035,
          0.15255795895536706,
          0.6770118711047222,
          1.027830457872538,
          1.566263499860732,
          0.7129407815787481,
          1.0169371493030688,
          1.0973879546204395,
          1.4774296477308058,
          0.30796983663970023,
          1.1790936316441336,
          1.4898466199453195,
          1.1855681501846917,
          0.5319081417161479,
          1.3341943548532007,
          0.03160593654065458,
          1.5320858412282954,
          1.427447477600176,
          1.7776306547308343,
          1.0516385365903642,
          1.1716986614990996,
          1.3626579668539363,
          1.056067534019261,
          1.8555195266188962,
          1.9977379452463184,
          1.688626388067961,
          1.640558146803964,
          1.6617380871451612,
          1.0384322198374303,
          1.9378555674755567,
          1.7430618682555807,
          1.630656720875014,
          1.6638310423832754,
          1.9903728557077836,
          1.0583548866632317,
          1.920707159657145,
          1.6935967702352974,
          0.8058726313122682,
          1.5005563534576174,
          1.8844706050496014,
          1.879081550068695,
          1.334326288962096,
          1.552341495744248,
          1.3353401914054572,
          1.5217554208989408,
          1.5461274120887207,
          1.619237516009378,
          0.7827967367830844,
          1.3351877749335532,
          1.7355241704032704,
          1.1087491901901303,
          1.2906365565358793,
          0.39988151271942174,
          1.433769327079975,
          1.2828569728506678,
          1.6932959159919259,
          1.207874248387014,
          1.7955207605607901,
          1.6529899380769755,
          0.8734783848446969,
          1.4872876351058464,
          1.471216587003486,
          1.4235430472236712,
          1.6989114440376496,
          1.9687099961951766,
          1.3133393208343178,
          1.2606669728614728,
          1.9239142268549574,
          1.543481514237481,
          0.6051906221840857,
          1.0006973596954176,
          1.3909880680476865,
          1.3904766637444068,
          1.9036136380581918,
          1.8909450807088355,
          1.463137251926871,
          0.024377306062420723,
          1.9069863953870996,
          1.381788786019536,
          1.8627589408663905,
          1.0369444453238494,
          1.8644236951616986,
          1.6400144390696683,
          1.5777657605073867,
          1.2289161020261814,
          14.84561247612251,
          1.3917226589931833,
          1.3875076905220993,
          1.286590889535426,
          1.0941638034978403,
          1.4243306549431192,
          1.7847020220448755,
          1.019794059458894,
          1.5169192969501726,
          1.317035453934138,
          1.7943514848506226,
          1.9503031127360346,
          0.028030240817769836,
          1.7290953291492972,
          1.2074325021517662,
          1.3560384437136146,
          1.122364279871392,
          1.1651579140527808,
          0.5249154357049091,
          0.16490534633787657,
          1.2271068970054146,
          0.8847311253933408,
          1.4402136291844325,
          1.2152123157381054,
          0.7709056309347608,
          12.621401973187282,
          0.648138972659719,
          1.550119164689189,
          0.9012843535589995,
          1.8144546261257837,
          0.7981106544770441,
          1.58374679279124,
          0.0476135507033979,
          1.8345235419373394,
          0.7303069176800994,
          0.3675462576258307,
          0.0007046858080075324,
          1.10617329512037,
          1.9981906875292834,
          1.3558052894144716,
          1.3838072232067824,
          1.4776874659390926,
          0.5465946767364235,
          0.9917634664359628,
          1.6914550912125965,
          0.07176584331038005,
          1.9761034844695589,
          0.8753373531820596,
          1.813410028000002,
          1.174644569575415,
          0.11464554965536611,
          0.18477625834475508,
          1.9091360274411084,
          0.7977049430126718,
          0.1011255967840824,
          1.3466292418107455,
          1.0172376515173858,
          1.5189219919743615,
          1.3364709583851389,
          0.5266030615153396,
          0.7198789780411444,
          1.1516761885600832,
          0.5222865910818765,
          1.6673760454341222,
          1.8245896146279628,
          1.151073550183559,
          1.7782234853277372,
          0.7761535007415081,
          1.5338752651747583,
          1.8832793417484213,
          1.3078152650849642,
          1.0876020659335532,
          1.8424287007808149,
          1.7295604048346505,
          0.9512042007989084,
          1.8611784918324157,
          0.4264253728037217,
          1.340146356076949,
          1.2364435960820472,
          1.6257944562686002,
          1.3638942614338576,
          1.5501763730253146,
          1.960056226207001,
          0.7461505189738847,
          0.8857454384649238,
          0.9959451597760403,
          1.8634116678646737,
          0.39071366646243344,
          1.5114187114735742,
          0.25953007691377195,
          1.7764966683820256,
          0.42070057832765273,
          1.9311636263571073,
          0.2645531469338158,
          1.7229325304883227,
          1.5290856829904023,
          1.796692432024743,
          0.92986933840408,
          0.8076243544636558
         ],
         "y": [
          122800,
          221900,
          133300,
          175600,
          232200,
          235400,
          130400,
          186700,
          223500,
          289900,
          305900,
          275900,
          317899.99,
          837274,
          208900,
          121900,
          203557.01,
          330200,
          222082.99,
          177900,
          195800,
          156200,
          245688.99,
          119999,
          227000,
          295900.01,
          203941,
          113040,
          235900,
          373600,
          252900,
          194264,
          132400,
          158800,
          152700,
          205200,
          245688.99,
          241436,
          256200,
          92300,
          116640,
          238041,
          185100,
          123000,
          180056,
          248900,
          251900,
          119500,
          222900,
          188800,
          199500,
          133821,
          254900,
          179700,
          300000,
          129900,
          248900,
          144900,
          295900.01,
          472899.99,
          137900,
          164900,
          261900,
          159900,
          243900,
          225900,
          247020,
          246017.99,
          278900,
          243900,
          164599.01,
          205004,
          164599.01,
          216900,
          289900,
          321900,
          189999.99,
          174730,
          466700,
          186324,
          243900,
          241900,
          139502,
          217900,
          219900,
          212300,
          222900,
          224900,
          284000,
          248590,
          289900,
          208970,
          129900,
          139900,
          294000,
          130996,
          174592.01,
          403116.01,
          417900,
          199900.01,
          279900.01,
          275900,
          129900,
          199900.01,
          199315.01,
          294000,
          193544.01,
          282173,
          222900,
          139900,
          302000.01,
          195955,
          222900,
          199900.01,
          169000,
          212405,
          243341.99,
          227900,
          362000,
          143900,
          536900.01,
          266900,
          409900,
          18900,
          143900,
          107900,
          297499.01,
          103273,
          199900.01,
          209900,
          189900,
          129595,
          159900,
          248999.99,
          335493,
          524900,
          409900,
          295900.01,
          199900.01,
          189900,
          172900.01,
          358900,
          499692,
          149900,
          449000,
          299000,
          542900,
          157077,
          36500,
          219900,
          149000,
          176899,
          437700,
          144900,
          223697,
          147000,
          629850,
          164900,
          349899,
          212900,
          429900.01,
          144900,
          229900,
          127900,
          399000,
          295000,
          532900,
          220800,
          77940,
          213900,
          224400,
          183700,
          208300,
          183600,
          132600,
          146300,
          240100,
          124400,
          186700,
          120700,
          225800,
          97800,
          136400,
          192800,
          97800,
          243200,
          110300,
          197400,
          186200,
          133300,
          116000,
          132600,
          185400,
          228000,
          184000,
          229300,
          171500,
          162400,
          132400,
          230200,
          196200,
          220300,
          131200,
          879000,
          209900,
          189900,
          115999,
          324900,
          322999,
          284900,
          111900,
          741900,
          264394,
          197331,
          216000,
          185246,
          159920,
          192900,
          417900,
          977322.99,
          149900,
          329900
         ]
        },
        {
         "marker": {
          "color": "red",
          "opacity": 0.3,
          "size": 5
         },
         "mode": "markers",
         "name": "Used",
         "type": "scatter",
         "x": [
          4.816707687003671,
          5.685572777638833,
          28.147578602616193,
          7.382741453572459,
          18.277320128892367,
          4.7338277050916675,
          2.232038412701213,
          5.474406042775634,
          10.489546834514648,
          1.1133664282101698,
          7.376170711896786,
          13.916540910702924,
          9.44365950707767,
          18.90332410913254,
          17.7400628046839,
          4.383826732283302,
          8.916649846871522,
          8.225770484212031,
          5.27252582696201,
          21.430039316606322,
          14.686435979708609,
          16.127208988026478,
          4.068983516018312,
          3.0567118298763947,
          10.43017485539008,
          19.052808927397948,
          10.617783393958053,
          13.612809286201704,
          14.938688597513286,
          5.300175260677015,
          8.59192190846077,
          3.6952306682322242,
          12.660017029266303,
          15.654463909423606,
          12.01780601571041,
          3.6763147122816306,
          5.789043725711332,
          4.84911252336167,
          7.397441311822504,
          2.65187125935471,
          10.601431450066087,
          10.817442384368102,
          15.28222159359107,
          4.588496967472771,
          4.728632227902673,
          16.172184699808135,
          4.6883274745844945,
          20.182361515508934,
          16.335940840644973,
          8.881643584931595,
          21.603114185646767,
          16.560718689174347,
          6.663687849654195,
          13.247468213920838,
          14.673154925537862,
          3.657046293162526,
          5.671979612421253,
          6.414850281421528,
          11.235411430049231,
          13.876038815979014,
          6.2737041157403795,
          18.22769038498192,
          28.604704494899117,
          5.864120722311769,
          11.322779193207168,
          1.3026055838659945,
          2.613412381471228,
          9.993943539505777,
          1.6942095327305973,
          1.938033150908809,
          15.245721349138542,
          3.975922147430473,
          8.513885192382485,
          8.75029872521378,
          8.585910838447553,
          1.2410493166274374,
          6.963182634541969,
          15.290976338954108,
          6.83972646245351,
          6.087035207557339,
          4.162698916929339,
          1.4151413990842188,
          8.539797555112955,
          6.914367232364589,
          11.51559368514851,
          11.599799134156898,
          2.0481193418868395,
          16.645809083102034,
          3.8670719290309172,
          4.925071609571699,
          8.73140209308608,
          1.5941302229685905,
          13.954746247670704,
          6.876294516030255,
          36.7591758400092,
          21.508062598669405,
          11.39854308133583,
          4.324945507172703,
          11.909994199680577,
          4.4811204601155845,
          11.739844124121623,
          12.134302705890097,
          4.400470575952931,
          2.820548059474197,
          3.0768357902396417,
          2.583043238606775,
          5.838543953193839,
          2.593059251818031,
          6.413328457216975,
          3.1510622878994536,
          12.194294900542836,
          6.816776415123919,
          4.1767230445108465,
          1.560627932661529,
          3.206114384581173,
          3.8447307218195226,
          1.9404486768643938,
          5.653558307002523,
          17.98335543695242,
          21.54308119977506,
          2.006179371908982,
          5.698364388799024,
          7.7058516924367355,
          9.801570233256902,
          2.943075422419075,
          11.28467664592743,
          2.2650935774007266,
          4.473475287503641,
          14.299520675713037,
          1.445690681462472,
          14.217848153332204,
          3.427311411988187,
          13.77002202712913,
          2.850782383292713,
          12.718704896353373,
          10.452312826967589,
          9.142293259681997,
          12.596059673511586,
          16.448445253485975,
          2.0263735033557797,
          3.4457416902385596,
          15.25047626363095,
          3.355911585916941,
          4.431605135780119,
          5.275473230167845,
          5.918448329003686,
          2.2729494941162853,
          3.9555714515948313,
          4.618601613165516,
          9.59352136654472,
          1.3414329398253055,
          3.0753957910856298,
          7.089556678318382,
          2.8537151652484587,
          4.113816503452452,
          15.57998794864901,
          2.7457517902828137,
          6.887245133460933,
          1.9973692588729302,
          1.0452005387012993,
          6.393874487094601,
          4.947035642734971,
          4.31456703440468,
          1.8718110854313044,
          4.702551560959034,
          1.2735698890145655,
          1.407679911047122,
          4.595265024948807,
          6.782382844889615,
          1.0601564859165267,
          4.408042912546646,
          4.301112401228984,
          4.982081651798954,
          6.8041384438036685,
          4.857916875309215,
          4.866740520160979,
          1.8590487211265625,
          4.354551147924644,
          1.9541001572690635,
          1.0536935577582713,
          6.120894824696856,
          2.4117354858739906,
          1.557599752274705,
          8.377475946089227,
          3.201130153819885,
          5.964321051744419,
          4.89071053564612,
          4.094350662061305,
          3.6661385021583475,
          9.540749998420852,
          1.0908102515901787,
          1.6363133064510245,
          1.9200843477283436,
          4.182900308007009,
          14.127645173951635,
          1.1916833306159973,
          5.952832231343973,
          3.2035194333973966,
          4.948904551621128,
          1.1050322862435433,
          13.326290682564425,
          5.085631205077329,
          4.131525724281364,
          24.714681843670963,
          1.3798783589984431,
          2.0851717111604477,
          3.142227734120602,
          1.31583118528477,
          1.1574104804948884,
          2.617418572355503,
          1.2454407642487535,
          1.4279705080810627,
          1.1727159790902044,
          5.877769946632035,
          1.9415831370317664,
          1.370898113863999,
          13.365402329213332,
          14.04431195673336,
          1.9839674788627715,
          2.385735711045817,
          5.677039277587104,
          5.0687739372249165,
          3.8731458432165526,
          2.439715340079379,
          10.890338156859048,
          1.555360909853988,
          2.1956139585203243,
          1.0874675051380363,
          5.296598650534405,
          1.1472619576514913,
          1.7356857231775025,
          4.909918121658278,
          1.9827206563317465,
          3.714396021843048,
          4.804044594070043,
          16.765870482193353,
          1.3880956777657327,
          22.995621276967295,
          11.74333672290135,
          2.1099740869576644,
          9.23104654743071,
          6.315896718735816,
          1.1117570267744425,
          1.6774615191696796,
          1.654834841742356,
          11.240454794450203,
          1.2500949663174115,
          2.5031270363889004,
          2.1673090434677382,
          1.7996703345204854,
          1.400597080103454,
          5.36164712585343,
          14.503215345898374,
          1.6125643646743664,
          4.848406371608769,
          1.9545819285342263,
          4.461436597323334,
          1.0618077840707896,
          2.0970618739261546,
          13.379377373291579,
          1.7357514782667303,
          2.172796702206414,
          2.924405938999545,
          4.363760545619678,
          2.216065894780598,
          9.321278268023034,
          6.98564589438546,
          1.1851453636191427,
          1.9323552766318106,
          4.172358712194248,
          1.2822972091124571,
          1.318825658175565,
          1.3707800222733542,
          4.022124485073417,
          1.7029253847715944,
          13.731393584716542,
          1.8610362234310265,
          8.649127188061383,
          2.328415139793255,
          6.52802539334238,
          1.0506097435092243,
          8.233504087496568,
          8.292077058506663,
          1.0535278541228674,
          10.154792970592665,
          3.855547922819899,
          2.7122936006678575,
          2.0989588730497326,
          10.493280707775918,
          1.3190977494869163,
          2.967531160905997,
          2.289782630934776,
          4.234691258589844,
          4.465927575463423,
          2.865334982863102,
          2.6738515792920357,
          3.327042820844814,
          3.162560375979538,
          4.121309446880089,
          4.746039523005546,
          12.565214154353114,
          1.143245709274189,
          2.416350284051192,
          2.097693024413792,
          1.350659602810207,
          1.0876342802074537,
          3.653687699678141,
          3.0105489463627797,
          16.08568894792982,
          6.554303453229695,
          2.654444246215316,
          1.6709830470088263,
          1.6226594746627396,
          1.5011002014928378,
          2.368694684146781,
          17.608739405534294,
          6.9622635117823695,
          7.7878406335028165,
          2.112417969654699,
          1.9778676307146088,
          13.269612045268087,
          8.922451908634761,
          9.35735114089717,
          7.138523659911174,
          15.111008330441985,
          0.22589650932271543,
          1.53230591719888,
          4.95082774415547,
          14.314399240524779,
          5.9806439610747075,
          8.504669909150097,
          6.668742273203201,
          2.170580723109774,
          19.745444224725723,
          2.8062278001479886,
          9.569652515631997,
          5.875782945632027,
          4.108800853625568,
          13.7226435778047,
          21.824556604312875,
          6.639228393103225,
          7.523009285981472,
          6.2091345464059335,
          5.3478038277406785,
          2.0701561216674387,
          1.4478642682219265,
          2.2082375333210185,
          17.645028727326867,
          13.509632619278337,
          4.186476403639767,
          2.0322520464347322,
          14.541286342676196,
          2.2735433616973855,
          14.337308072477644,
          15.83238540253407,
          1.9688024201044776,
          7.7690307882095935,
          4.517702987625537,
          4.866534092899209,
          16.82714395755059,
          2.7044535432701586,
          8.63658049543449,
          16.33206549779076,
          1.2496305665285794,
          1.1009488201050017,
          5.573702009819819,
          6.36230261840678,
          1.9064048205089925,
          1.7286707676684614,
          1.900028613336975,
          4.386125087022107,
          3.9627695342366374,
          4.906325377228484,
          3.591080359120093,
          10.4675236123005,
          5.679906995638701,
          16.77811187261776,
          0.903943364141432,
          3.53138215291958,
          1.6488473944530826,
          1.9441394723370742,
          6.167946115320224,
          3.675922515113411,
          1.465053767591825,
          3.0575705450435944,
          11.751223534552624,
          3.0111127899103423,
          5.311524825483314,
          2.9150521138942134,
          3.9894932616411434,
          3.080462080392235,
          4.731682425654831,
          22.743596876022703,
          10.164841733367028,
          7.052644215008786,
          13.6582183751189,
          13.948764535050193,
          12.192081971785164,
          10.510023892936129,
          5.92930705637768,
          38.537042818706645,
          6.047060746898472,
          15.26161526675765,
          5.1149363740607985,
          5.205144589231188,
          12.544694875904886,
          4.383749020531347,
          5.1785573013128205,
          12.669225097470319,
          3.730931122547709,
          8.31710650862403,
          12.212594640071526,
          5.6993940732825115,
          7.927501303816473,
          12.812637863654793,
          13.638901081670154,
          4.835714388703792,
          15.083316646947797,
          8.205762854313663,
          9.490905954146521,
          3.3756674336594115,
          9.734909002711243,
          6.200052049003575,
          17.039959910785257,
          5.894633123535488,
          1.3120531173879053,
          24.007555588995793,
          10.858389234415672,
          8.406591815157196,
          10.252002758327666,
          20.067039036180553,
          11.247914819296827,
          5.144272943204229,
          1.1197304386905829,
          1.071772589601228,
          24.723354894346816,
          1.4268137803518612,
          2.995712811475625,
          5.119703252355192,
          26.509246886850825,
          6.108473119991169,
          14.420131058663202,
          9.088349786882704,
          13.630249082541368,
          11.510258483779554,
          4.256393717873239,
          13.488432374831289,
          14.039008100055234,
          19.93275257413655,
          9.74963475031551,
          15.064999680714097,
          10.064793717466742,
          1.3717387317671834,
          4.820935785499425,
          18.231611936386056,
          13.744542804969466,
          16.491046442025052,
          12.314996248179952,
          20.92544270934005,
          19.75750704258835,
          18.913353746209403,
          9.283924127683457,
          11.602443629207322,
          14.92047073908443,
          18.5440149920629,
          16.39826116601326,
          17.10688030991652,
          7.870042754350081,
          18.32973453913502,
          14.158341075965422,
          5.645429918757668,
          10.668576885228505,
          19.713419370798132,
          11.954311411187097,
          15.222019599123128,
          19.99244545112278,
          8.44320217312277,
          6.399385024212838,
          5.034001928173324,
          16.482859758277637,
          18.61671612052531,
          13.653130298819043,
          13.371316174763386,
          15.488613103967888,
          1.934333911938734,
          11.462320740038205,
          15.489510751898061,
          10.144180918111443,
          11.34276503863704,
          19.12595019385509,
          2.4167391720432367,
          18.611634413842605,
          8.01350196296956,
          11.545269622088835,
          13.868738673422582,
          7.734793383850894,
          5.3424817404538665,
          17.82915249493752,
          9.454243797442409,
          32.304962577927725,
          9.786402732987717,
          10.96158360749083,
          11.399421513986784,
          17.003619559396284,
          12.065989042699018,
          12.164958048184083,
          17.03139793771399,
          12.195933339551459,
          19.548644565764686,
          5.833138955555587,
          3.4689442149565073,
          14.465372078851894,
          16.87626361548738,
          13.01162833208608,
          11.046806216513806,
          9.721814052561376,
          12.217839057257205,
          18.941035585889637,
          7.986313393020827,
          5.832749680923,
          9.931537255536556,
          8.933832485417685,
          13.28050711932936,
          11.323705550559785,
          14.592094667429686,
          11.491597523464993,
          18.42684821538945,
          18.803613682042144,
          3.577113979147674,
          5.137575290043876,
          12.25596849317299,
          5.288286460857142,
          8.042236192602937,
          3.042704758244727,
          20.084064485085662,
          15.125078118586075,
          4.769292976490865,
          13.216400338338293,
          2.156786930110111,
          10.194755383328253,
          1.0500874803363973,
          10.455894193489595,
          12.51207576834782,
          4.369669823817295,
          5.099363545586869,
          8.144733211747265,
          2.7167910726062976,
          4.147738463570081,
          3.4404093914863934,
          19.906583874008597,
          17.391588166291076,
          13.022382349909027,
          13.907205726514164,
          5.800279683885278,
          2.4241452585301007,
          2.69782010651421,
          8.219567730147409,
          1.8781489675890115,
          1.3921975959142139,
          7.129461256454704,
          1.4691235136318654,
          6.906569886427552,
          3.793081708053789,
          2.9104389368828016,
          13.855503286182046,
          1.363550254436308,
          4.963437673177866,
          5.583768458026703,
          11.345385596919932,
          13.942904063901118,
          1.188579335662113,
          4.9086281508514125,
          5.522493784153193,
          13.174274465164938,
          0.536718437557168,
          16.75886809211527,
          18.263175910388448,
          4.196597748311461,
          6.462287033157412,
          7.553997851464996,
          9.150149892948072,
          20.16506687917822,
          16.98220064204939,
          5.986069775355923,
          12.94385687455333,
          4.817095006195073,
          8.972872290678948,
          15.678870709426375,
          2.6188703950395222,
          14.372066967492659,
          14.81421592508915,
          11.488806990671089,
          5.518593140285836,
          1.5824083249734375,
          15.877540215236584,
          12.611184313127888,
          10.516994843739344,
          13.121629828373397,
          2.2938187295429473,
          5.688532024897724,
          3.142441066743734,
          15.4793462173649,
          18.641714336454555,
          6.14599352273247,
          11.072085689974841,
          21.995841259453698,
          16.691664188247653,
          7.5510220487483,
          17.032674608993652,
          20.295877342539605,
          7.062648514960147,
          4.368310753246639,
          9.044614674889909,
          6.925688231943431,
          7.772786825772693,
          13.859196588842531,
          6.044507995484973,
          15.681873743928717,
          12.991512466764659,
          21.167897658059374,
          5.495795692271204,
          21.87874028398421,
          1.5591150316482543,
          4.461288041523442,
          1.9771291855174469,
          2.8771801835150774,
          17.568785553120147,
          1.0324509300700677,
          5.232020520103086,
          19.0187920486519,
          13.427293162535952,
          5.087963462542478,
          10.44684323657944,
          4.713425157692147,
          10.102063637890124,
          5.033296405315462,
          7.14783522817882,
          2.3353867149170364,
          4.080524792338254,
          3.98359731320726,
          15.030741152774896,
          3.0300352356848905,
          7.891000728973406,
          4.972614041105496,
          11.822544526535633,
          5.909491463023341,
          3.693917550023521,
          5.291666561759089,
          13.393585600403622,
          5.91933518800907,
          1.7397739333240732,
          13.701858925375076,
          5.856604290416188,
          2.398799001287208,
          4.227111897136646,
          10.591076775297466,
          2.3891174441945178,
          5.279188375808589,
          15.717002882193208,
          13.198663817632966,
          9.423011164310761,
          5.122788393995639,
          4.099752767058052,
          18.409157227860238,
          11.981828492795035,
          5.367025516500776,
          4.683269178265387,
          24.551287328749208,
          15.976185642026685,
          13.873628302560643,
          14.396950404358307,
          20.507174682145585,
          13.873882483438761,
          9.472140944955083,
          2.8302472501493106,
          15.465424071213176,
          8.434905549500488,
          1.4126650981557116,
          4.727600863978271,
          12.450629700726608,
          2.4629283075674384,
          7.4415554056501705,
          6.421076560357781,
          3.499509833005564,
          5.9741541037748105,
          14.781190316409889,
          1.9255534234827223,
          10.874907351204774,
          18.633211968873262,
          14.03778618775414,
          18.054111479726956,
          19.792359776566947,
          10.211854561819598,
          19.36723469602321,
          15.006934301996962,
          5.97471727264995,
          10.018121338104468,
          1.9161414924249867,
          13.493668672256852,
          11.129510676610375,
          9.06942342467734,
          12.845414912335297,
          4.9187884465870955,
          19.302905622465186,
          16.484180435981152,
          10.929229465243942,
          8.234997349223553,
          5.488294677737267,
          15.634340731502682,
          3.1051107583594106,
          16.468984929898596,
          9.336578918485957,
          11.147748723456017,
          19.263893406825904,
          12.621052199088812,
          16.964713513016154,
          10.029075309176017,
          13.990006428492622,
          5.293472029152077,
          13.963488101100847,
          22.45058418841638,
          5.453174497576345,
          2.125137949062744,
          8.710015777986284,
          13.842230981075575,
          12.274128430089688,
          6.578020574332575,
          14.70181892207245,
          5.637102316584756,
          4.221641696206187,
          3.0910288305547833,
          5.706458971882715,
          5.089571596802898,
          11.169462048103002,
          11.76006267905579,
          19.775849201088466,
          14.676817707486977,
          19.897849706745784,
          20.676900226150575,
          17.767544333213493,
          9.275141245730202,
          2.6611203680026243,
          8.61427683426955,
          15.380369246705373,
          12.80802488711643,
          4.601140447915947,
          20.621739021462872,
          4.263688346603811,
          5.663998030361776,
          18.993145892809245,
          6.6823940272721325,
          4.634091760105809,
          15.472651931042225,
          14.799431960728263,
          6.643685524638027,
          4.120443791020342,
          12.879033043104856,
          16.314443425182695,
          15.77466891148235,
          2.2017107534342886,
          6.361151520102714,
          4.189818335609206,
          12.907206880356338,
          2.3455484476969,
          9.541125855823626,
          3.0149857915193894,
          12.614812012793557,
          1.0794461894987353,
          13.949408984532669,
          5.1014947823258545,
          22.7785939391754,
          20.396039721222394,
          5.248259471254447,
          18.10016452420718,
          5.175445915609726,
          12.410613516687437,
          7.582123964451049,
          5.274032233692947,
          5.079127356676439,
          8.150604515937868,
          10.277114007520554,
          5.315482250319858,
          16.43086801516344,
          1.5512047893777936,
          17.702913061135312,
          8.82030251812997,
          7.602862962348352,
          18.313105692963,
          3.8781065861976733,
          14.81112354117327,
          2.050455477784224,
          11.333484917689924,
          15.316501119881833,
          22.13525318911109,
          11.931063498145152,
          4.3373463061398025,
          0.9672759122165459,
          9.828766208923783,
          3.0568239609344965,
          11.925770067396424,
          6.0021986608173705,
          4.904850838936103,
          3.520254033403047,
          15.210447859214641,
          4.956747382388425,
          15.029457800167297,
          13.266572811576665,
          2.0594555081271055,
          13.280196755992563,
          8.242514432097915,
          16.00959993654676,
          12.868408365788067,
          13.759241826146722,
          9.869080928965824,
          16.602262475444093,
          16.17586720325258,
          3.4775057786575174,
          15.194173873279327,
          13.772201387892018,
          21.450136723690868,
          4.230552161526601,
          7.34960221679322,
          8.041699851361791,
          15.742149338925735,
          20.246177394515993,
          7.707915184610378,
          18.05675870950804,
          26.96533843342362,
          3.4956970811931942,
          5.56090735499667,
          3.5585172512097687,
          6.624566738425732,
          11.388275182026916,
          23.749399398570368,
          9.896993359784158,
          15.159467498607771,
          4.537602978932048,
          2.5010251915445814,
          2.833654277631201,
          13.265253741633297,
          12.138222977025501,
          11.549495418281374,
          15.254385059586351,
          13.235869958521912,
          10.601299651985295,
          19.232165961940073,
          21.278926807285444,
          5.204903389516615,
          4.940921117062581,
          6.884100615217608,
          13.30464898406076,
          6.040385417435477,
          14.094796761677449,
          2.8882708721216988,
          15.766999255963421,
          5.380175929672892,
          10.405972306809101,
          9.17961637298412,
          13.934708364523242,
          2.8458357105976257,
          13.570538075918165,
          3.0971846159829934,
          7.5026392872907675,
          5.058889668918337,
          16.562522759735486,
          12.94431332866174,
          18.142894479093822,
          2.18473980817378,
          1.3100847485955516,
          4.528561254959745,
          9.622363203981351,
          6.375141258955896,
          4.582311435326359,
          4.1893398482334305,
          7.401806272979523,
          1.3909166053749251,
          6.766571407907466,
          11.232887164213507,
          9.508581043811077,
          14.222192663656097,
          5.329401599870565,
          4.645562068628811,
          10.68271787527259,
          5.867414662947102,
          4.590281659259242,
          1.6372444618526378,
          18.597939221337864,
          15.840301640706754,
          14.242416352121388,
          7.803070673052596,
          4.472867865509658,
          14.669358243652125,
          14.800626519125819,
          11.015708849994358,
          16.223690738675128,
          1.3258582199612992,
          18.10126543024494,
          23.139634850481254,
          14.478844836859412,
          11.091118303054845,
          13.585097935951207,
          9.084927238873865,
          17.668941793476687,
          16.819425706488875,
          1.016361074031995,
          13.301766680511577,
          2.7635066014733214,
          5.584638276377456,
          5.178082060311706,
          19.917441313447092,
          10.712913037321197,
          16.01759836930376,
          16.487538668972377,
          3.6763966863355515,
          7.15930539520121,
          7.335392059146557,
          11.9570646179099,
          13.06871791025886,
          5.344862432493154,
          3.899749626185827,
          16.400528449714287,
          7.6891032738411065,
          16.495662608626702,
          4.7308221049621855,
          9.757606052502977,
          15.437441061029944,
          15.618804791803006,
          3.46052556967066,
          5.907473827700026,
          15.91098604470021,
          6.107756905970017,
          8.356840810769373,
          2.8316042221366367,
          6.422523352111627,
          19.36749718949016,
          3.5518904249519445,
          7.089428356240108,
          13.770892355471677,
          17.206125185413242,
          12.037766043518534,
          8.749163262689029,
          4.311819819057763,
          5.063954018648911,
          11.497175161788308,
          4.329323879259984,
          10.283417978978466,
          15.272375856852118,
          15.73359762813891,
          9.690332393590932,
          6.967845165730829,
          8.533500184024504,
          5.34222063309635,
          7.25087083799274,
          15.330809400369668,
          6.0304816090059195,
          7.533152303140409,
          4.907569469336172,
          14.297371692565202,
          14.897688140114093,
          5.156425377325573,
          14.141531186156476,
          14.995560954313886,
          10.370313584185446,
          11.543782600603265,
          1.3548418895996677,
          12.584938600708615,
          4.384177201515713,
          5.028972477228753,
          4.607548876006165,
          14.520136353328628,
          3.4048945211174755,
          20.903636840276715,
          1.5636472742007042,
          5.008493587061711,
          2.946382782335802,
          1.4579611014693294,
          15.307796906324494,
          16.6895731733653,
          3.1646963573857416,
          1.3543447357221505,
          10.155069966058647,
          10.335011348573012,
          3.333064491326005,
          15.232826340279713,
          18.070223448989676,
          8.286806036745517,
          18.171056460070783,
          18.036002469273825,
          6.355503325307747,
          13.682671138066715,
          6.104222632368294,
          15.027895281169414,
          5.3612801051272045,
          12.274568304481821,
          15.295008302881616,
          7.323931463672331,
          18.246718389122417,
          3.1722732657326924,
          10.107201741021663,
          9.519435006697769,
          18.88217697243637,
          13.320147415824012,
          6.493933754111849,
          9.170627571898974,
          2.59917378102539,
          13.407203808280439,
          7.524096830260337,
          5.876756908896817,
          3.3234285999703723,
          17.20880016455757,
          5.9908651672533635,
          9.29672778238948,
          3.5222578081898113,
          15.312692334915367,
          16.53924973263692,
          9.903871676541884,
          18.447288661050077,
          14.696334778216226,
          11.663616481861126,
          10.959751016105026,
          18.832360893946525,
          8.432126743753964,
          6.92625182535357,
          16.357280682063475,
          5.444453574575999,
          12.239305847215977,
          4.21599746209174,
          18.97735149365567,
          13.950338785555466,
          2.413403780069454,
          12.082636470906198,
          5.272471699078276,
          14.32781987436471,
          5.087803545125721,
          4.400531574939904,
          8.681593964182253,
          18.35399432621501,
          17.92611316125196,
          9.095081096883671,
          4.903050494982937,
          6.721110300381731,
          12.569188667918555,
          9.845041926989948,
          9.318819370055603,
          9.476049793248798,
          12.417165909132416,
          21.399596835390387,
          9.625966612911114,
          5.540355284206105,
          2.0439522108603994,
          13.474635964045781,
          8.568416965746632,
          8.385354649738698,
          11.756348527663539,
          18.060348745389792,
          21.458339705720768,
          16.386906109260767,
          7.061828806555316,
          8.728761559203678,
          13.875487172136843,
          11.35947294926279,
          18.94977053584732,
          9.371683689610876,
          12.790707141272545,
          4.879883851968203,
          13.699727278501724,
          12.48948078872947,
          11.323138680389997,
          4.650509883695294,
          44.92950751036173,
          6.024117170648576,
          4.879473164405384,
          4.0648814927633365,
          15.238603436807937,
          4.62520622931672,
          20.866742726818202,
          8.310959948119152,
          5.069428339176435,
          12.296278395861926,
          16.98655580426129,
          3.0631100797383093,
          14.313488034294892,
          12.7496808622345,
          6.76755917427346,
          13.992510707911636,
          13.871339342649724,
          10.062330286051004,
          1.9860760011204666,
          5.537018938406753,
          3.7559338065481365,
          7.654853536785215,
          13.558878718180539,
          16.887204676688075,
          7.706294748012439,
          2.1931763397854036,
          21.90842354103102,
          19.01704429411096,
          16.785700411683397,
          4.679128859567652,
          33.09260724770899,
          10.472553864285159,
          10.286654701111356,
          14.81555912049438,
          10.08774884290916,
          20.875000124545227,
          18.785824211433553,
          9.438101848010948,
          17.38092463688081,
          11.04533601022887,
          14.06313088877861,
          13.827149744439177,
          13.377367245161118,
          6.422539077502501,
          17.8927376223958,
          7.621882685291007,
          16.71797811933704,
          14.00793321914083,
          5.835142089211338,
          16.28447160651487,
          3.7809558026527745,
          17.477745127150783,
          6.9881995551594756,
          14.458752606143342,
          8.88999882014325,
          11.1205898243937,
          22.604532705089635,
          14.921831063093013,
          1.89530640135114,
          10.353934493314267,
          4.128571455954128,
          11.52026629258477,
          6.5185596109435355,
          6.558239748734134,
          4.362050881886614,
          10.120942942921475,
          5.967247229067262,
          1.4836552377548018,
          2.971086384690816,
          17.30276591126912,
          13.362667246012258,
          9.330183116386733,
          15.475219225645093,
          8.126127054806886,
          9.864825243141112,
          24.922136463725145,
          17.679003050981766,
          6.153868700306875,
          8.920580363907135,
          5.963856913227745,
          11.207577976344243,
          13.96605623245689,
          15.147310874026683,
          5.423784993210754,
          4.540353077052151,
          15.398478281496498,
          19.692981775489983,
          8.814159295523837,
          26.425014555046545,
          15.761501696851797,
          19.74703220170519,
          5.755597343275569,
          18.958547965530006,
          12.908432895908605,
          20.544512601474235,
          6.388021069714721,
          10.739321261433862,
          21.782863392385583,
          34.12008147791314,
          13.44594586884471,
          4.176934852955033,
          6.934283655034851,
          16.22300880623057,
          17.759016361113833,
          10.096527838662304,
          1.5275273932250644,
          12.88992417725103,
          15.159356866255024,
          8.572190348963778,
          12.776178426658221,
          19.47971073623596,
          1.8856223849273341,
          14.026309804117524,
          4.728558727957006,
          7.769075693072745,
          8.995086349074088,
          2.4398060235509003,
          8.925618929030708,
          7.683844698428384,
          13.569607333284692,
          17.415202896972332,
          4.921269542958341,
          18.43511806707372,
          3.587661833118344,
          22.200524426239845,
          6.909586205099942,
          11.680684763616679,
          9.7946775802379,
          4.555147779907492,
          6.799312273513962,
          10.261937162981482,
          9.503181024342773,
          16.13311099690199,
          11.765182152225037,
          30.05532227877598,
          2.298659422685592,
          9.199051524033482,
          6.64865159481539,
          5.443092735949983,
          3.3890437915795273,
          1.4189907361965917,
          3.267679220584185,
          1.5976273179322962,
          1.7257449153848943,
          3.9281459411183586,
          3.3213640718592865,
          4.493490963486396,
          2.594000869593227,
          2.0613345141863193,
          2.0516596676918275,
          12.261656727044874,
          8.342520473013373,
          10.996647938146314,
          15.18745755986532,
          1.511692808303436,
          16.4162721737866,
          14.419227228628536,
          12.678552312676082,
          3.5854644938638307,
          14.944732308234721,
          9.345985800386055,
          9.692366956900393,
          0.32636813225173966,
          14.806015958243016,
          7.950465204755215,
          9.666089313186596,
          1.2509935575236164,
          8.221360570657117,
          4.694438477315567,
          7.820607413054497,
          14.201077830138688,
          7.228252463155746,
          11.2012733327521,
          14.978781203026324,
          7.431429071133893,
          8.85440228550319,
          20.83840996954519,
          5.626215111438686,
          9.44492672066171,
          9.53470491635141,
          2.995060584909286,
          4.624819273200001,
          29.64429950666653,
          13.943550642788633,
          10.989221017199512,
          14.574908742294362,
          21.483148072382892,
          19.497913670660996,
          8.463245496098487,
          24.0743898042179,
          20.530812201020435,
          18.211934002302296,
          10.19073164434292,
          14.536191299454082,
          9.873764585211035,
          15.65023708244764,
          14.326268914300524,
          10.231394654529632,
          13.405776420506612,
          14.42730718219725,
          4.421409259867321,
          6.804791319316909,
          23.01841832134583,
          10.841497196152858,
          3.2894755893102565,
          8.019990857371898,
          21.24439770125481,
          19.51111309050323,
          10.69746409803305,
          4.288832286527944,
          5.854107390389176,
          44.37378626665626,
          16.139071341085913,
          29.834887875613592,
          13.36106266892515,
          3.742296084606103,
          12.566089289958539,
          11.498313767720079,
          8.749919797897743,
          13.970746783606524,
          8.704333294574486,
          29.298558657391037,
          13.913175716996726,
          18.213464358831565,
          6.84321344461682,
          13.623296824346166,
          14.978054598870571,
          7.38371579404061,
          15.943551071064412,
          7.970484444326093,
          15.76836484710885,
          14.049232801659343,
          12.989471050343024,
          15.416185540576587,
          10.67683564079124,
          6.203445140446079,
          3.177460737358951,
          7.5720312107807,
          7.038927505826283,
          15.79224580760334,
          8.338141184309622,
          23.63877476147656,
          12.11627622472527,
          9.520141470333844,
          21.497085669650854,
          20.27565768313543,
          13.946388730886184,
          7.157350051262923,
          6.3421789417099195,
          9.212461104994324,
          1.9798785982158398,
          35.38767050441851,
          12.753843434236341,
          10.437665389733322,
          5.341008005196282,
          12.273221862059014,
          33.07437643159321,
          20.516121251902568,
          16.943881655214124,
          11.021367490177871,
          15.631449488512567,
          15.808651713694966,
          12.916489726221405,
          1.9764325748661071,
          12.759041216283402,
          6.564927443723562,
          8.424967038868306,
          14.987987583272323,
          9.29478002274566,
          15.172955408553708,
          7.771941199213796,
          10.427954935793325,
          14.393919983563052,
          25.2669864538172,
          8.633940529833685,
          15.410168154174032,
          11.812176457512487,
          4.214606483329313,
          16.068383366798326,
          4.3155230321018845,
          12.194897699469085,
          10.132753099775432,
          11.275625092491245,
          18.887360176102945,
          11.226517994779858,
          4.45317780818192,
          19.74081338403427,
          8.942714178896141,
          32.7770802991073,
          20.279949291825986,
          7.684397536480432,
          5.830289226971496,
          19.172381082775797,
          10.922096921090512,
          23.326686106191776,
          12.475286786694403,
          8.847163924609399,
          7.488519978244233,
          14.379952441144015,
          4.379705648346442,
          16.225248870510473,
          17.378085068514846,
          5.231548565437571,
          8.235913074949652,
          8.722366336888436,
          8.523752097785339,
          12.238947618577583,
          18.6562029339973,
          6.747046829752286,
          11.053159637467719,
          8.278102355080652,
          14.29070259592,
          11.774220808021827,
          16.687352062943976,
          4.774611577005795,
          12.556416817698873,
          6.443226556040426,
          7.181166396633219,
          2.0227385518098044,
          4.673746320324963,
          6.952851592840128,
          7.137486265888434,
          4.4029297792386695,
          9.559175741509906,
          5.257577808857224,
          7.340354039704834,
          4.909714071407658,
          6.537549058825713,
          2.642431813442332,
          8.139129440527322,
          7.173890608489667,
          13.097612531511064,
          5.648021559742442,
          11.210586892925823,
          6.422823383656594,
          9.433762514928546,
          3.1311322896065867,
          13.978020171217718,
          10.843699629167007,
          12.09657883536534,
          18.74218407978737,
          6.867917837957482,
          5.899148054658896,
          4.505299520900266,
          6.047885357645352,
          6.85829158819546,
          5.190613972774959,
          7.794076078744318,
          11.617184112392644,
          7.771128834849918,
          10.149488909432659,
          7.064242587854471,
          8.959383733928219,
          1.532406751816162,
          1.282280547356606,
          8.695707836840365
         ],
         "y": [
          124900.01,
          75900,
          19900,
          38900,
          12500,
          246900,
          189000,
          89900,
          21000,
          204900.01,
          54000,
          18500,
          50000,
          16900,
          21500,
          57900,
          58900,
          43000,
          62900,
          3900,
          28000,
          31900,
          265900,
          135000,
          78900,
          45000,
          87900,
          44500,
          23900,
          99900,
          2600,
          158670,
          38500,
          22500,
          34900,
          83900,
          104900,
          105000,
          79500,
          272000,
          54900,
          29900,
          22900,
          124900.01,
          76000,
          8400,
          99900,
          12800,
          38000,
          49900,
          11000,
          14500,
          59000,
          16000,
          21900,
          149900,
          69990,
          169900,
          45500,
          20500,
          119000,
          23000,
          11700,
          118000,
          105000,
          199900.01,
          124900.01,
          68000,
          174900,
          169900,
          21900,
          149900,
          51000,
          42900,
          69900,
          109900,
          129900,
          17800,
          105000,
          97000,
          265000,
          159900,
          40999,
          129900,
          69900,
          21900,
          184900,
          29999,
          159900,
          179999,
          70000,
          39999,
          16100,
          65400,
          52000,
          105000,
          39900,
          57722,
          24990,
          67800,
          33900,
          17200,
          104900,
          139900,
          106900,
          139900,
          89900,
          104900,
          69900,
          236900,
          47000,
          45000,
          64000,
          92900.01,
          199900.01,
          109900,
          514900,
          51900,
          23999,
          7900,
          174900,
          199900.01,
          53000,
          109900,
          139900,
          29000,
          176900,
          87899.99,
          26700,
          469900,
          17500,
          77650,
          25900,
          94900,
          33000,
          32900,
          61000,
          19500,
          20900,
          139900,
          399900,
          19900,
          244900,
          74900,
          179900,
          82000,
          189900,
          227000,
          319900,
          115000,
          99900,
          149900,
          98000,
          164900,
          119899.99,
          27800,
          299900,
          119899.99,
          134900,
          189900,
          85555,
          96666,
          124900.01,
          169900,
          86900,
          396900,
          179900,
          203000,
          139000,
          92900.01,
          269900,
          134900,
          129900,
          54444,
          249900,
          129900,
          169900,
          99900,
          219900,
          154900,
          119998.8,
          145900,
          239900,
          56900,
          97900.01,
          246900,
          259900,
          99900,
          135899.99,
          53999,
          92900.01,
          184900,
          174900,
          149900,
          26500,
          149900,
          94900,
          224900,
          206900,
          109900,
          20900,
          136666,
          102900,
          1500,
          92900.01,
          144900,
          93900,
          174900,
          174900,
          87600,
          484900,
          169900,
          92900.01,
          329900,
          92900.01,
          144900,
          18888,
          19300,
          179900,
          249900,
          236900,
          56900,
          219900,
          114899.99,
          22700,
          92900.01,
          92900.01,
          109900,
          46900,
          174900,
          92900.01,
          114899.99,
          154900,
          114899.99,
          124900.01,
          17999,
          259900,
          2500,
          23900,
          99900,
          49900,
          65000,
          409000.01,
          174900,
          189900,
          41500,
          369900,
          129900,
          124900.01,
          188800,
          289900,
          259900,
          18500,
          189900,
          199900.01,
          139900,
          99900,
          239000,
          264900,
          27900,
          399900,
          89900,
          194000,
          129900,
          89900,
          95000,
          97777.01,
          289900,
          579899.99,
          62900,
          179900,
          209900,
          549000,
          159900,
          174900,
          22000,
          174900,
          72900,
          189900,
          75000,
          776900,
          39888,
          51700,
          179900,
          31800,
          126900,
          174900,
          174900,
          58888,
          99900,
          159900,
          92900.01,
          89900,
          139900,
          115900,
          174900,
          334900,
          94900,
          139900,
          83000,
          42900,
          189900,
          169900,
          174900,
          164900,
          183464,
          109900,
          51900,
          14300,
          124900.01,
          89200.01,
          174900,
          199000,
          189900,
          88500,
          7300,
          85900,
          45700,
          209900,
          164900,
          25000,
          63200,
          40000,
          36900,
          21400,
          179900,
          124900.01,
          159900,
          18500,
          31400.01,
          94900,
          115900,
          279900.01,
          10600,
          136900,
          89900,
          30000,
          126900,
          41900,
          5200,
          53990,
          69900,
          83640,
          92700,
          90500.01,
          169900,
          97600,
          8900,
          20999,
          239900,
          90200,
          18000,
          164900,
          20800,
          37000,
          189900,
          137700,
          155000,
          115000,
          18900,
          159900,
          47999,
          9900,
          229000,
          199900.01,
          89900,
          189000,
          179900,
          179900,
          229900,
          89900,
          122900,
          174900,
          109900,
          31999,
          31400.01,
          22900,
          179900,
          74900,
          179900,
          169900,
          40000,
          79900,
          184900,
          32900,
          33600,
          37300,
          99900,
          147900,
          147900,
          249900,
          129900,
          7900,
          40900,
          61900,
          27500,
          27900,
          37700,
          55000,
          78900,
          30000,
          59990,
          22000,
          58750,
          119899.99,
          59999,
          148999,
          66900,
          25555,
          104900,
          85999,
          26900,
          64900,
          44900,
          59900,
          135500,
          119000,
          22500,
          33999,
          24900,
          35000,
          75800,
          215000,
          14500,
          219555,
          289900,
          13900,
          29900,
          75900,
          50900,
          8000,
          67500,
          209900,
          164900,
          177000,
          5900,
          369900,
          125000,
          215250,
          5500,
          69900,
          28900,
          69900,
          22900,
          44900,
          140000,
          27500,
          45900,
          8900,
          61000,
          12000,
          55000,
          299000,
          339000,
          21900,
          17000,
          21500,
          24900,
          2400,
          6500,
          9600,
          54900,
          30500,
          31000,
          8500,
          19500,
          24900,
          75900,
          5590,
          29900,
          65000,
          39500,
          22900,
          21000,
          17900,
          4300,
          62600,
          85000,
          75000,
          17900,
          13500,
          52500,
          34900,
          21900,
          124900,
          32000,
          16700,
          42500,
          33000,
          8200,
          2982.5,
          6000,
          31400,
          49900,
          26900,
          62900,
          178900,
          9300,
          29900,
          10000,
          29900,
          56900,
          33500,
          6500,
          63000,
          45700,
          16900,
          19000,
          9500,
          68900,
          159800,
          44900,
          23500,
          20900,
          28200,
          68000,
          49999,
          18000,
          69900,
          198000,
          109999,
          44900,
          27000,
          29900,
          29500,
          32800,
          9000,
          7000,
          105000,
          133900,
          36000,
          54900,
          59900,
          99900,
          5000,
          23900,
          224900,
          22900,
          365000,
          23000,
          54000,
          47500,
          26999,
          99900,
          103300,
          55900,
          89900,
          49600,
          74000,
          2500,
          9999,
          17900.01,
          17900,
          49900,
          89900,
          85900,
          89900,
          569900,
          209900,
          54000,
          159900,
          79900,
          139900,
          75900,
          29000,
          144900,
          89900,
          219900,
          19900,
          26500,
          194899.99,
          269899.99,
          209000,
          17000,
          279900.01,
          25900,
          10900,
          149900,
          40500,
          127900,
          53900,
          9500,
          16999,
          235000,
          25900,
          87899.99,
          49900,
          4900,
          274900,
          15300,
          24500,
          17900,
          73800,
          299000,
          25100,
          36000,
          36999,
          29900,
          88300,
          113740,
          70900,
          22200,
          29500,
          69700,
          19900,
          4900,
          25000,
          57700,
          10500,
          6500,
          99000,
          49900.01,
          38999,
          55900,
          66900,
          27500,
          73089.43,
          12000,
          30800,
          5900,
          58900,
          8900,
          159900,
          259900,
          195000,
          139900,
          17900,
          189900,
          115000,
          13900,
          27000,
          144900,
          72000,
          107000,
          52999,
          49600,
          49900.01,
          460000,
          119900,
          96900,
          21000,
          148000,
          64000,
          79900,
          24900,
          92900,
          105000,
          150000,
          7290,
          119899.99,
          229900,
          23000,
          65900,
          369000,
          94900,
          56000,
          94500,
          99000,
          18000,
          19900,
          47900,
          150000,
          70700,
          5900,
          59000,
          104900,
          89900,
          8900,
          13900,
          26900,
          24900,
          8500,
          28999,
          80000,
          101900,
          16000,
          55990,
          209900,
          109900,
          27500,
          103000,
          79900,
          42000,
          64900,
          69900,
          19000,
          106900,
          23899.99,
          10000,
          26900,
          12500,
          4500,
          33000,
          3200,
          19900,
          139900,
          49999,
          289900,
          7290,
          17900,
          69900,
          27000,
          37300,
          6250,
          7999,
          56900,
          62900,
          84900,
          16500,
          239850,
          15900,
          32500,
          25700,
          5400,
          17500,
          19900,
          78000,
          15700,
          110000,
          7290,
          9400,
          89900,
          164900,
          99900,
          9999,
          22900,
          59900,
          21600,
          119899.99,
          199900,
          85900,
          190000,
          139900,
          39400,
          26500,
          16200,
          16500,
          7000,
          7500,
          7900,
          117000,
          167900.01,
          66500,
          15999,
          27500,
          99900,
          8900,
          74000,
          55900,
          5900,
          53500,
          139900,
          7500,
          14000,
          71000,
          219900,
          26999,
          25500,
          5190,
          89900,
          115000,
          69900,
          32900,
          164900,
          32000,
          285000,
          34900,
          157900,
          5990,
          65900,
          6900,
          49900,
          145999,
          17900.01,
          99900,
          24500,
          47000,
          150000,
          88999,
          60000,
          23899.99,
          95900,
          4900,
          219900,
          10800,
          72900,
          67000,
          10500,
          87900,
          6990,
          109900,
          25700,
          5190,
          7999,
          67000,
          289900,
          139900,
          70000,
          247000,
          29999,
          87900,
          92999,
          79900,
          6999,
          68900,
          20000,
          19000,
          109900,
          29500,
          84500,
          10000,
          19999,
          38899,
          68000,
          27900,
          31900,
          156000,
          16000,
          25000,
          6700,
          165000,
          53900,
          35500,
          3990,
          8500,
          57000,
          18500,
          4500,
          219000,
          129900,
          83900,
          89900,
          23500,
          5900,
          55600,
          30000,
          67900,
          75900,
          174900,
          19500,
          29900,
          22500,
          7500,
          46000,
          33900.01,
          9200,
          6900,
          81200,
          56900,
          69850,
          18900,
          109000,
          6990,
          139900,
          23900,
          86000,
          89000,
          39000,
          15700,
          139000,
          19500,
          139900,
          52900,
          52900,
          25900,
          28700,
          7500,
          94900,
          179900,
          199900.01,
          35800,
          209000,
          184000,
          120000,
          199900.01,
          189900,
          83333,
          25900,
          69900,
          6990,
          78000,
          101900,
          61900,
          72900,
          92500,
          179900,
          7900,
          16500,
          16000,
          74000,
          69980,
          17000,
          17900,
          29900,
          4900,
          459000,
          11900,
          2900,
          16500,
          14900,
          18650,
          64000,
          10100,
          23950,
          179900,
          18000,
          289000,
          129900,
          54600,
          9500,
          69900,
          8700,
          19500,
          119900,
          61000,
          80800,
          20800,
          30000,
          119900,
          185300,
          31900,
          45900,
          27000,
          239000,
          84900,
          5900,
          3990,
          274899.99,
          91900,
          21000,
          66000,
          99999,
          110000,
          82900,
          4500,
          69900,
          115900,
          49900,
          7300,
          18900,
          43000,
          94900,
          78200,
          21700,
          95000,
          29900,
          17000,
          11900,
          54998.99,
          77900,
          72500,
          97000,
          75000,
          26900,
          69900,
          91000,
          76900,
          15500,
          27500,
          108900,
          16500,
          35500,
          56000,
          52000,
          174900,
          30135,
          263900,
          121900,
          114899.99,
          35500,
          241900,
          6499,
          264900,
          59000,
          159900,
          169900,
          8900,
          18900,
          349900,
          450000,
          58900,
          58900,
          269900,
          33600,
          13900,
          48500,
          8300,
          3500,
          65300,
          21999,
          40000,
          38000,
          63900,
          29500,
          23000,
          61900,
          15900,
          95000,
          52900,
          70000,
          24000,
          17500,
          77900,
          27700,
          169000,
          16700,
          75000,
          80500,
          263900,
          32500,
          106900,
          45000,
          145000,
          24900,
          22500,
          39999,
          5900,
          28950,
          19900,
          67800,
          9000,
          31999,
          59900,
          25900,
          45600,
          16000,
          112000,
          6300,
          33500,
          78000,
          75000,
          57900,
          24750,
          69000,
          199000,
          129000,
          18500,
          1490,
          49999,
          67900,
          69900,
          43000,
          45000,
          135000,
          65000,
          44280,
          12500,
          59900,
          112000,
          2757.39,
          16900,
          45900,
          82000,
          19900,
          10000,
          6800,
          11000,
          44800,
          37000,
          5990,
          19900,
          5999,
          50500,
          25000,
          58900,
          33330,
          29800,
          37800,
          139900,
          85900,
          46900,
          76000,
          79900,
          24900,
          67900,
          3700,
          99900,
          87000,
          77700,
          30900,
          59900,
          118000,
          54500,
          49900.01,
          27900,
          22000,
          39899.99,
          409900,
          84800,
          240000,
          49900,
          43000,
          30800,
          67900,
          142000,
          4800,
          13500,
          19900,
          119900,
          209998.99,
          42000,
          98000,
          13900,
          21900,
          8500,
          4600,
          69900,
          17000,
          35700,
          20300,
          16500,
          15900,
          189900,
          25999.99,
          42900,
          16999.01,
          14900,
          90900,
          28500,
          114400,
          33333,
          110000,
          17900.01,
          68000,
          25900,
          11999,
          22900,
          549000,
          69000,
          81800,
          29500,
          54000,
          57900,
          52000,
          75000,
          169900,
          499000,
          259900,
          11900,
          21700,
          89900,
          4900,
          46125,
          79900,
          1800,
          18000,
          179900,
          56500,
          39900,
          24900,
          30000,
          10900,
          65900,
          78000,
          16900,
          2500,
          39900,
          4500,
          10900,
          3200,
          113000,
          5900,
          42000,
          8500,
          33900,
          15900,
          7500,
          25000,
          37900,
          169900,
          97000,
          27900,
          3700,
          36000,
          169000,
          47000,
          19000,
          41900,
          20000,
          25000,
          359900,
          28900,
          172200,
          67500,
          36500,
          163000,
          54000,
          44900,
          23800,
          18500,
          56900,
          21000,
          10000,
          8000,
          60900,
          19999,
          74000,
          189000,
          109900,
          58500,
          38000,
          26900,
          66500,
          6700,
          145900,
          49900,
          74900,
          119899.99,
          89900,
          359900,
          139900,
          344543,
          259900,
          79900,
          122900,
          119899.99,
          320000,
          287500,
          288000,
          47500,
          56000,
          54900,
          19500,
          219000,
          15800,
          7500,
          36900,
          34500,
          18500,
          55000,
          47000,
          154900,
          26800,
          55900,
          35000,
          199900.01,
          30900,
          179000,
          48999,
          36900,
          49900,
          35900,
          26900,
          128900,
          116900,
          13500,
          58900,
          29800,
          59000,
          195000,
          85000,
          20700,
          27500,
          42000,
          29700,
          55000,
          9700,
          71000,
          24600,
          25000,
          17900,
          55999,
          38000,
          33500,
          16900,
          14900,
          34900,
          22900,
          23900,
          69900,
          52900,
          7500,
          26800,
          199999,
          83000,
          85000,
          48000,
          55600,
          10000,
          128999,
          150000,
          20000,
          7000,
          36000,
          67400,
          100000,
          24900,
          69900,
          50000,
          69000,
          135000,
          29900,
          15900,
          52900,
          34900,
          29999,
          42999,
          10000,
          50900,
          78500,
          16490,
          57800,
          14400,
          27000,
          54500,
          129000,
          49999,
          200000,
          23300,
          142500,
          17900,
          48900,
          69000,
          4400,
          7899.99,
          29999,
          61700,
          46500,
          40000,
          29000,
          13999,
          32900,
          39000,
          125000,
          55900,
          23999,
          16900,
          13900,
          19500,
          15999,
          14900,
          58900,
          125000,
          21900,
          60000,
          77700,
          25800,
          21000,
          22000,
          49500,
          24000,
          22000,
          120000,
          51900,
          69900,
          14500,
          61000,
          20900,
          75900,
          37500,
          77000,
          62000,
          24900,
          52000,
          72000,
          21900,
          55000,
          30000,
          28800,
          69900,
          64000,
          14999,
          38800,
          7999,
          69900,
          63700,
          105000,
          17500,
          172200,
          14500,
          14500,
          48500,
          116000,
          57900,
          99999,
          20000,
          9700,
          88500,
          29900,
          80900,
          38900,
          80000,
          26000,
          89900,
          18500,
          115500,
          58900,
          388000,
          38900,
          62000,
          38900,
          45500,
          37900,
          75900,
          105000,
          99000,
          123000,
          189000,
          79900,
          71900,
          20900,
          189000,
          79000,
          157700,
          58900,
          229000,
          32500,
          38900,
          25900,
          8500,
          125900,
          129300,
          187000,
          36900,
          39900,
          140000,
          63000,
          78900,
          69000,
          24900,
          54900,
          27900,
          29900,
          119900,
          54000
         ]
        }
       ],
       "layout": {
        "template": {
         "data": {
          "bar": [
           {
            "error_x": {
             "color": "#2a3f5f"
            },
            "error_y": {
             "color": "#2a3f5f"
            },
            "marker": {
             "line": {
              "color": "#E5ECF6",
              "width": 0.5
             }
            },
            "type": "bar"
           }
          ],
          "barpolar": [
           {
            "marker": {
             "line": {
              "color": "#E5ECF6",
              "width": 0.5
             }
            },
            "type": "barpolar"
           }
          ],
          "carpet": [
           {
            "aaxis": {
             "endlinecolor": "#2a3f5f",
             "gridcolor": "white",
             "linecolor": "white",
             "minorgridcolor": "white",
             "startlinecolor": "#2a3f5f"
            },
            "baxis": {
             "endlinecolor": "#2a3f5f",
             "gridcolor": "white",
             "linecolor": "white",
             "minorgridcolor": "white",
             "startlinecolor": "#2a3f5f"
            },
            "type": "carpet"
           }
          ],
          "choropleth": [
           {
            "colorbar": {
             "outlinewidth": 0,
             "ticks": ""
            },
            "type": "choropleth"
           }
          ],
          "contour": [
           {
            "colorbar": {
             "outlinewidth": 0,
             "ticks": ""
            },
            "colorscale": [
             [
              0,
              "#0d0887"
             ],
             [
              0.1111111111111111,
              "#46039f"
             ],
             [
              0.2222222222222222,
              "#7201a8"
             ],
             [
              0.3333333333333333,
              "#9c179e"
             ],
             [
              0.4444444444444444,
              "#bd3786"
             ],
             [
              0.5555555555555556,
              "#d8576b"
             ],
             [
              0.6666666666666666,
              "#ed7953"
             ],
             [
              0.7777777777777778,
              "#fb9f3a"
             ],
             [
              0.8888888888888888,
              "#fdca26"
             ],
             [
              1,
              "#f0f921"
             ]
            ],
            "type": "contour"
           }
          ],
          "contourcarpet": [
           {
            "colorbar": {
             "outlinewidth": 0,
             "ticks": ""
            },
            "type": "contourcarpet"
           }
          ],
          "heatmap": [
           {
            "colorbar": {
             "outlinewidth": 0,
             "ticks": ""
            },
            "colorscale": [
             [
              0,
              "#0d0887"
             ],
             [
              0.1111111111111111,
              "#46039f"
             ],
             [
              0.2222222222222222,
              "#7201a8"
             ],
             [
              0.3333333333333333,
              "#9c179e"
             ],
             [
              0.4444444444444444,
              "#bd3786"
             ],
             [
              0.5555555555555556,
              "#d8576b"
             ],
             [
              0.6666666666666666,
              "#ed7953"
             ],
             [
              0.7777777777777778,
              "#fb9f3a"
             ],
             [
              0.8888888888888888,
              "#fdca26"
             ],
             [
              1,
              "#f0f921"
             ]
            ],
            "type": "heatmap"
           }
          ],
          "heatmapgl": [
           {
            "colorbar": {
             "outlinewidth": 0,
             "ticks": ""
            },
            "colorscale": [
             [
              0,
              "#0d0887"
             ],
             [
              0.1111111111111111,
              "#46039f"
             ],
             [
              0.2222222222222222,
              "#7201a8"
             ],
             [
              0.3333333333333333,
              "#9c179e"
             ],
             [
              0.4444444444444444,
              "#bd3786"
             ],
             [
              0.5555555555555556,
              "#d8576b"
             ],
             [
              0.6666666666666666,
              "#ed7953"
             ],
             [
              0.7777777777777778,
              "#fb9f3a"
             ],
             [
              0.8888888888888888,
              "#fdca26"
             ],
             [
              1,
              "#f0f921"
             ]
            ],
            "type": "heatmapgl"
           }
          ],
          "histogram": [
           {
            "marker": {
             "colorbar": {
              "outlinewidth": 0,
              "ticks": ""
             }
            },
            "type": "histogram"
           }
          ],
          "histogram2d": [
           {
            "colorbar": {
             "outlinewidth": 0,
             "ticks": ""
            },
            "colorscale": [
             [
              0,
              "#0d0887"
             ],
             [
              0.1111111111111111,
              "#46039f"
             ],
             [
              0.2222222222222222,
              "#7201a8"
             ],
             [
              0.3333333333333333,
              "#9c179e"
             ],
             [
              0.4444444444444444,
              "#bd3786"
             ],
             [
              0.5555555555555556,
              "#d8576b"
             ],
             [
              0.6666666666666666,
              "#ed7953"
             ],
             [
              0.7777777777777778,
              "#fb9f3a"
             ],
             [
              0.8888888888888888,
              "#fdca26"
             ],
             [
              1,
              "#f0f921"
             ]
            ],
            "type": "histogram2d"
           }
          ],
          "histogram2dcontour": [
           {
            "colorbar": {
             "outlinewidth": 0,
             "ticks": ""
            },
            "colorscale": [
             [
              0,
              "#0d0887"
             ],
             [
              0.1111111111111111,
              "#46039f"
             ],
             [
              0.2222222222222222,
              "#7201a8"
             ],
             [
              0.3333333333333333,
              "#9c179e"
             ],
             [
              0.4444444444444444,
              "#bd3786"
             ],
             [
              0.5555555555555556,
              "#d8576b"
             ],
             [
              0.6666666666666666,
              "#ed7953"
             ],
             [
              0.7777777777777778,
              "#fb9f3a"
             ],
             [
              0.8888888888888888,
              "#fdca26"
             ],
             [
              1,
              "#f0f921"
             ]
            ],
            "type": "histogram2dcontour"
           }
          ],
          "mesh3d": [
           {
            "colorbar": {
             "outlinewidth": 0,
             "ticks": ""
            },
            "type": "mesh3d"
           }
          ],
          "parcoords": [
           {
            "line": {
             "colorbar": {
              "outlinewidth": 0,
              "ticks": ""
             }
            },
            "type": "parcoords"
           }
          ],
          "scatter": [
           {
            "marker": {
             "colorbar": {
              "outlinewidth": 0,
              "ticks": ""
             }
            },
            "type": "scatter"
           }
          ],
          "scatter3d": [
           {
            "line": {
             "colorbar": {
              "outlinewidth": 0,
              "ticks": ""
             }
            },
            "marker": {
             "colorbar": {
              "outlinewidth": 0,
              "ticks": ""
             }
            },
            "type": "scatter3d"
           }
          ],
          "scattercarpet": [
           {
            "marker": {
             "colorbar": {
              "outlinewidth": 0,
              "ticks": ""
             }
            },
            "type": "scattercarpet"
           }
          ],
          "scattergeo": [
           {
            "marker": {
             "colorbar": {
              "outlinewidth": 0,
              "ticks": ""
             }
            },
            "type": "scattergeo"
           }
          ],
          "scattergl": [
           {
            "marker": {
             "colorbar": {
              "outlinewidth": 0,
              "ticks": ""
             }
            },
            "type": "scattergl"
           }
          ],
          "scattermapbox": [
           {
            "marker": {
             "colorbar": {
              "outlinewidth": 0,
              "ticks": ""
             }
            },
            "type": "scattermapbox"
           }
          ],
          "scatterpolar": [
           {
            "marker": {
             "colorbar": {
              "outlinewidth": 0,
              "ticks": ""
             }
            },
            "type": "scatterpolar"
           }
          ],
          "scatterpolargl": [
           {
            "marker": {
             "colorbar": {
              "outlinewidth": 0,
              "ticks": ""
             }
            },
            "type": "scatterpolargl"
           }
          ],
          "scatterternary": [
           {
            "marker": {
             "colorbar": {
              "outlinewidth": 0,
              "ticks": ""
             }
            },
            "type": "scatterternary"
           }
          ],
          "surface": [
           {
            "colorbar": {
             "outlinewidth": 0,
             "ticks": ""
            },
            "colorscale": [
             [
              0,
              "#0d0887"
             ],
             [
              0.1111111111111111,
              "#46039f"
             ],
             [
              0.2222222222222222,
              "#7201a8"
             ],
             [
              0.3333333333333333,
              "#9c179e"
             ],
             [
              0.4444444444444444,
              "#bd3786"
             ],
             [
              0.5555555555555556,
              "#d8576b"
             ],
             [
              0.6666666666666666,
              "#ed7953"
             ],
             [
              0.7777777777777778,
              "#fb9f3a"
             ],
             [
              0.8888888888888888,
              "#fdca26"
             ],
             [
              1,
              "#f0f921"
             ]
            ],
            "type": "surface"
           }
          ],
          "table": [
           {
            "cells": {
             "fill": {
              "color": "#EBF0F8"
             },
             "line": {
              "color": "white"
             }
            },
            "header": {
             "fill": {
              "color": "#C8D4E3"
             },
             "line": {
              "color": "white"
             }
            },
            "type": "table"
           }
          ]
         },
         "layout": {
          "annotationdefaults": {
           "arrowcolor": "#2a3f5f",
           "arrowhead": 0,
           "arrowwidth": 1
          },
          "colorscale": {
           "diverging": [
            [
             0,
             "#8e0152"
            ],
            [
             0.1,
             "#c51b7d"
            ],
            [
             0.2,
             "#de77ae"
            ],
            [
             0.3,
             "#f1b6da"
            ],
            [
             0.4,
             "#fde0ef"
            ],
            [
             0.5,
             "#f7f7f7"
            ],
            [
             0.6,
             "#e6f5d0"
            ],
            [
             0.7,
             "#b8e186"
            ],
            [
             0.8,
             "#7fbc41"
            ],
            [
             0.9,
             "#4d9221"
            ],
            [
             1,
             "#276419"
            ]
           ],
           "sequential": [
            [
             0,
             "#0d0887"
            ],
            [
             0.1111111111111111,
             "#46039f"
            ],
            [
             0.2222222222222222,
             "#7201a8"
            ],
            [
             0.3333333333333333,
             "#9c179e"
            ],
            [
             0.4444444444444444,
             "#bd3786"
            ],
            [
             0.5555555555555556,
             "#d8576b"
            ],
            [
             0.6666666666666666,
             "#ed7953"
            ],
            [
             0.7777777777777778,
             "#fb9f3a"
            ],
            [
             0.8888888888888888,
             "#fdca26"
            ],
            [
             1,
             "#f0f921"
            ]
           ],
           "sequentialminus": [
            [
             0,
             "#0d0887"
            ],
            [
             0.1111111111111111,
             "#46039f"
            ],
            [
             0.2222222222222222,
             "#7201a8"
            ],
            [
             0.3333333333333333,
             "#9c179e"
            ],
            [
             0.4444444444444444,
             "#bd3786"
            ],
            [
             0.5555555555555556,
             "#d8576b"
            ],
            [
             0.6666666666666666,
             "#ed7953"
            ],
            [
             0.7777777777777778,
             "#fb9f3a"
            ],
            [
             0.8888888888888888,
             "#fdca26"
            ],
            [
             1,
             "#f0f921"
            ]
           ]
          },
          "colorway": [
           "#636efa",
           "#EF553B",
           "#00cc96",
           "#ab63fa",
           "#FFA15A",
           "#19d3f3",
           "#FF6692",
           "#B6E880",
           "#FF97FF",
           "#FECB52"
          ],
          "font": {
           "color": "#2a3f5f"
          },
          "geo": {
           "bgcolor": "white",
           "lakecolor": "white",
           "landcolor": "#E5ECF6",
           "showlakes": true,
           "showland": true,
           "subunitcolor": "white"
          },
          "hoverlabel": {
           "align": "left"
          },
          "hovermode": "closest",
          "mapbox": {
           "style": "light"
          },
          "paper_bgcolor": "white",
          "plot_bgcolor": "#E5ECF6",
          "polar": {
           "angularaxis": {
            "gridcolor": "white",
            "linecolor": "white",
            "ticks": ""
           },
           "bgcolor": "#E5ECF6",
           "radialaxis": {
            "gridcolor": "white",
            "linecolor": "white",
            "ticks": ""
           }
          },
          "scene": {
           "xaxis": {
            "backgroundcolor": "#E5ECF6",
            "gridcolor": "white",
            "gridwidth": 2,
            "linecolor": "white",
            "showbackground": true,
            "ticks": "",
            "zerolinecolor": "white"
           },
           "yaxis": {
            "backgroundcolor": "#E5ECF6",
            "gridcolor": "white",
            "gridwidth": 2,
            "linecolor": "white",
            "showbackground": true,
            "ticks": "",
            "zerolinecolor": "white"
           },
           "zaxis": {
            "backgroundcolor": "#E5ECF6",
            "gridcolor": "white",
            "gridwidth": 2,
            "linecolor": "white",
            "showbackground": true,
            "ticks": "",
            "zerolinecolor": "white"
           }
          },
          "shapedefaults": {
           "line": {
            "color": "#2a3f5f"
           }
          },
          "ternary": {
           "aaxis": {
            "gridcolor": "white",
            "linecolor": "white",
            "ticks": ""
           },
           "baxis": {
            "gridcolor": "white",
            "linecolor": "white",
            "ticks": ""
           },
           "bgcolor": "#E5ECF6",
           "caxis": {
            "gridcolor": "white",
            "linecolor": "white",
            "ticks": ""
           }
          },
          "title": {
           "x": 0.05
          },
          "xaxis": {
           "automargin": true,
           "gridcolor": "white",
           "linecolor": "white",
           "ticks": "",
           "zerolinecolor": "white",
           "zerolinewidth": 2
          },
          "yaxis": {
           "automargin": true,
           "gridcolor": "white",
           "linecolor": "white",
           "ticks": "",
           "zerolinecolor": "white",
           "zerolinewidth": 2
          }
         }
        },
        "title": {
         "text": "Price vs Age"
        },
        "xaxis": {
         "title": {
          "text": "Age"
         }
        },
        "yaxis": {
         "range": [
          0,
          500000
         ],
         "title": {
          "text": "Price"
         }
        }
       }
      },
      "text/html": [
       "<div>\n",
       "        \n",
       "        \n",
       "            <div id=\"993eee68-ec5d-47c3-a7b5-c883059028d7\" class=\"plotly-graph-div\" style=\"height:525px; width:100%;\"></div>\n",
       "            <script type=\"text/javascript\">\n",
       "                require([\"plotly\"], function(Plotly) {\n",
       "                    window.PLOTLYENV=window.PLOTLYENV || {};\n",
       "                    \n",
       "                if (document.getElementById(\"993eee68-ec5d-47c3-a7b5-c883059028d7\")) {\n",
       "                    Plotly.newPlot(\n",
       "                        '993eee68-ec5d-47c3-a7b5-c883059028d7',\n",
       "                        [{\"marker\": {\"color\": \"blue\", \"opacity\": 0.3, \"size\": 5}, \"mode\": \"markers\", \"name\": \"New\", \"type\": \"scatter\", \"x\": [0.849147574616197, 1.8325462872699358, 1.352423612868348, 1.5537220363833746, 0.9759355095190388, 1.8919834166979554, 0.5163413334097116, 1.1717778288822762, 1.6116368471082292, 1.4911864852986199, 1.9357448149457974, 1.2086049380916815, 1.091314256242395, 1.7070313966975914, 1.6202647253861782, 2.7234915452098187, 1.015302732321092, 1.62563941863384, 1.4702009578717692, 1.4749267362299934, 1.3298141804272787, 0.8294723057874906, 1.4808899176089394, 0.5220240583014087, 1.4985149220275686, 1.3043818166929086, 1.5619475154023537, 0.677602225932939, 1.101320695257654, 1.8318728897630672, 1.363179475517499, 1.3944162518764966, 0.7786766194462243, 0.9274462258883205, 0.22919052197973266, 1.4522762673102614, 1.240190368980269, 1.417659294670141, 1.6735947529986035, 0.15255795895536706, 0.6770118711047222, 1.027830457872538, 1.566263499860732, 0.7129407815787481, 1.0169371493030688, 1.0973879546204395, 1.4774296477308058, 0.30796983663970023, 1.1790936316441336, 1.4898466199453195, 1.1855681501846917, 0.5319081417161479, 1.3341943548532007, 0.03160593654065458, 1.5320858412282954, 1.427447477600176, 1.7776306547308343, 1.0516385365903642, 1.1716986614990996, 1.3626579668539363, 1.056067534019261, 1.8555195266188962, 1.9977379452463184, 1.688626388067961, 1.640558146803964, 1.6617380871451612, 1.0384322198374303, 1.9378555674755567, 1.7430618682555807, 1.630656720875014, 1.6638310423832754, 1.9903728557077836, 1.0583548866632317, 1.920707159657145, 1.6935967702352974, 0.8058726313122682, 1.5005563534576174, 1.8844706050496014, 1.879081550068695, 1.334326288962096, 1.552341495744248, 1.3353401914054572, 1.5217554208989408, 1.5461274120887207, 1.619237516009378, 0.7827967367830844, 1.3351877749335532, 1.7355241704032704, 1.1087491901901303, 1.2906365565358793, 0.39988151271942174, 1.433769327079975, 1.2828569728506678, 1.6932959159919259, 1.207874248387014, 1.7955207605607901, 1.6529899380769755, 0.8734783848446969, 1.4872876351058464, 1.471216587003486, 1.4235430472236712, 1.6989114440376496, 1.9687099961951766, 1.3133393208343178, 1.2606669728614728, 1.9239142268549574, 1.543481514237481, 0.6051906221840857, 1.0006973596954176, 1.3909880680476865, 1.3904766637444068, 1.9036136380581918, 1.8909450807088355, 1.463137251926871, 0.024377306062420723, 1.9069863953870996, 1.381788786019536, 1.8627589408663905, 1.0369444453238494, 1.8644236951616986, 1.6400144390696683, 1.5777657605073867, 1.2289161020261814, 14.84561247612251, 1.3917226589931833, 1.3875076905220993, 1.286590889535426, 1.0941638034978403, 1.4243306549431192, 1.7847020220448755, 1.019794059458894, 1.5169192969501726, 1.317035453934138, 1.7943514848506226, 1.9503031127360346, 0.028030240817769836, 1.7290953291492972, 1.2074325021517662, 1.3560384437136146, 1.122364279871392, 1.1651579140527808, 0.5249154357049091, 0.16490534633787657, 1.2271068970054146, 0.8847311253933408, 1.4402136291844325, 1.2152123157381054, 0.7709056309347608, 12.621401973187282, 0.648138972659719, 1.550119164689189, 0.9012843535589995, 1.8144546261257837, 0.7981106544770441, 1.58374679279124, 0.0476135507033979, 1.8345235419373394, 0.7303069176800994, 0.3675462576258307, 0.0007046858080075324, 1.10617329512037, 1.9981906875292834, 1.3558052894144716, 1.3838072232067824, 1.4776874659390926, 0.5465946767364235, 0.9917634664359628, 1.6914550912125965, 0.07176584331038005, 1.9761034844695589, 0.8753373531820596, 1.813410028000002, 1.174644569575415, 0.11464554965536611, 0.18477625834475508, 1.9091360274411084, 0.7977049430126718, 0.1011255967840824, 1.3466292418107455, 1.0172376515173858, 1.5189219919743615, 1.3364709583851389, 0.5266030615153396, 0.7198789780411444, 1.1516761885600832, 0.5222865910818765, 1.6673760454341222, 1.8245896146279628, 1.151073550183559, 1.7782234853277372, 0.7761535007415081, 1.5338752651747583, 1.8832793417484213, 1.3078152650849642, 1.0876020659335532, 1.8424287007808149, 1.7295604048346505, 0.9512042007989084, 1.8611784918324157, 0.4264253728037217, 1.340146356076949, 1.2364435960820472, 1.6257944562686002, 1.3638942614338576, 1.5501763730253146, 1.960056226207001, 0.7461505189738847, 0.8857454384649238, 0.9959451597760403, 1.8634116678646737, 0.39071366646243344, 1.5114187114735742, 0.25953007691377195, 1.7764966683820256, 0.42070057832765273, 1.9311636263571073, 0.2645531469338158, 1.7229325304883227, 1.5290856829904023, 1.796692432024743, 0.92986933840408, 0.8076243544636558], \"y\": [122800.0, 221900.0, 133300.0, 175600.0, 232200.0, 235400.0, 130400.0, 186700.0, 223500.0, 289900.0, 305900.0, 275900.0, 317899.99, 837274.0, 208900.0, 121900.0, 203557.01, 330200.0, 222082.99, 177900.0, 195800.0, 156200.0, 245688.99, 119999.0, 227000.0, 295900.01, 203941.0, 113040.0, 235900.0, 373600.0, 252900.0, 194264.0, 132400.0, 158800.0, 152700.0, 205200.0, 245688.99, 241436.0, 256200.0, 92300.0, 116640.0, 238041.0, 185100.0, 123000.0, 180056.0, 248900.0, 251900.0, 119500.0, 222900.0, 188800.0, 199500.0, 133821.0, 254900.0, 179700.0, 300000.0, 129900.0, 248900.0, 144900.0, 295900.01, 472899.99, 137900.0, 164900.0, 261900.0, 159900.0, 243900.0, 225900.0, 247020.0, 246017.99, 278900.0, 243900.0, 164599.01, 205004.0, 164599.01, 216900.0, 289900.0, 321900.0, 189999.99, 174730.0, 466700.0, 186324.0, 243900.0, 241900.0, 139502.0, 217900.0, 219900.0, 212300.0, 222900.0, 224900.0, 284000.0, 248590.0, 289900.0, 208970.0, 129900.0, 139900.0, 294000.0, 130996.0, 174592.01, 403116.01, 417900.0, 199900.01, 279900.01, 275900.0, 129900.0, 199900.01, 199315.01, 294000.0, 193544.01, 282173.0, 222900.0, 139900.0, 302000.01, 195955.0, 222900.0, 199900.01, 169000.0, 212405.0, 243341.99, 227900.0, 362000.0, 143900.0, 536900.01, 266900.0, 409900.0, 18900.0, 143900.0, 107900.0, 297499.01, 103273.0, 199900.01, 209900.0, 189900.0, 129595.0, 159900.0, 248999.99, 335493.0, 524900.0, 409900.0, 295900.01, 199900.01, 189900.0, 172900.01, 358900.0, 499692.0, 149900.0, 449000.0, 299000.0, 542900.0, 157077.0, 36500.0, 219900.0, 149000.0, 176899.0, 437700.0, 144900.0, 223697.0, 147000.0, 629850.0, 164900.0, 349899.0, 212900.0, 429900.01, 144900.0, 229900.0, 127900.0, 399000.0, 295000.0, 532900.0, 220800.0, 77940.0, 213900.0, 224400.0, 183700.0, 208300.0, 183600.0, 132600.0, 146300.0, 240100.0, 124400.0, 186700.0, 120700.0, 225800.0, 97800.0, 136400.0, 192800.0, 97800.0, 243200.0, 110300.0, 197400.0, 186200.0, 133300.0, 116000.0, 132600.0, 185400.0, 228000.0, 184000.0, 229300.0, 171500.0, 162400.0, 132400.0, 230200.0, 196200.0, 220300.0, 131200.0, 879000.0, 209900.0, 189900.0, 115999.0, 324900.0, 322999.0, 284900.0, 111900.0, 741900.0, 264394.0, 197331.0, 216000.0, 185246.0, 159920.0, 192900.0, 417900.0, 977322.99, 149900.0, 329900.0]}, {\"marker\": {\"color\": \"red\", \"opacity\": 0.3, \"size\": 5}, \"mode\": \"markers\", \"name\": \"Used\", \"type\": \"scatter\", \"x\": [4.816707687003671, 5.685572777638833, 28.147578602616193, 7.382741453572459, 18.277320128892367, 4.7338277050916675, 2.232038412701213, 5.474406042775634, 10.489546834514648, 1.1133664282101698, 7.376170711896786, 13.916540910702924, 9.44365950707767, 18.90332410913254, 17.7400628046839, 4.383826732283302, 8.916649846871522, 8.225770484212031, 5.27252582696201, 21.430039316606322, 14.686435979708609, 16.127208988026478, 4.068983516018312, 3.0567118298763947, 10.43017485539008, 19.052808927397948, 10.617783393958053, 13.612809286201704, 14.938688597513286, 5.300175260677015, 8.59192190846077, 3.6952306682322242, 12.660017029266303, 15.654463909423606, 12.01780601571041, 3.6763147122816306, 5.789043725711332, 4.84911252336167, 7.397441311822504, 2.65187125935471, 10.601431450066087, 10.817442384368102, 15.28222159359107, 4.588496967472771, 4.728632227902673, 16.172184699808135, 4.6883274745844945, 20.182361515508934, 16.335940840644973, 8.881643584931595, 21.603114185646767, 16.560718689174347, 6.663687849654195, 13.247468213920838, 14.673154925537862, 3.657046293162526, 5.671979612421253, 6.414850281421528, 11.235411430049231, 13.876038815979014, 6.2737041157403795, 18.22769038498192, 28.604704494899117, 5.864120722311769, 11.322779193207168, 1.3026055838659945, 2.613412381471228, 9.993943539505777, 1.6942095327305973, 1.938033150908809, 15.245721349138542, 3.975922147430473, 8.513885192382485, 8.75029872521378, 8.585910838447553, 1.2410493166274374, 6.963182634541969, 15.290976338954108, 6.83972646245351, 6.087035207557339, 4.162698916929339, 1.4151413990842188, 8.539797555112955, 6.914367232364589, 11.51559368514851, 11.599799134156898, 2.0481193418868395, 16.645809083102034, 3.8670719290309172, 4.925071609571699, 8.73140209308608, 1.5941302229685905, 13.954746247670704, 6.876294516030255, 36.7591758400092, 21.508062598669405, 11.39854308133583, 4.324945507172703, 11.909994199680577, 4.4811204601155845, 11.739844124121623, 12.134302705890097, 4.400470575952931, 2.820548059474197, 3.0768357902396417, 2.583043238606775, 5.838543953193839, 2.593059251818031, 6.413328457216975, 3.1510622878994536, 12.194294900542836, 6.816776415123919, 4.1767230445108465, 1.560627932661529, 3.206114384581173, 3.8447307218195226, 1.9404486768643938, 5.653558307002523, 17.98335543695242, 21.54308119977506, 2.006179371908982, 5.698364388799024, 7.7058516924367355, 9.801570233256902, 2.943075422419075, 11.28467664592743, 2.2650935774007266, 4.473475287503641, 14.299520675713037, 1.445690681462472, 14.217848153332204, 3.427311411988187, 13.77002202712913, 2.850782383292713, 12.718704896353373, 10.452312826967589, 9.142293259681997, 12.596059673511586, 16.448445253485975, 2.0263735033557797, 3.4457416902385596, 15.25047626363095, 3.355911585916941, 4.431605135780119, 5.275473230167845, 5.918448329003686, 2.2729494941162853, 3.9555714515948313, 4.618601613165516, 9.59352136654472, 1.3414329398253055, 3.0753957910856298, 7.089556678318382, 2.8537151652484587, 4.113816503452452, 15.57998794864901, 2.7457517902828137, 6.887245133460933, 1.9973692588729302, 1.0452005387012993, 6.393874487094601, 4.947035642734971, 4.31456703440468, 1.8718110854313044, 4.702551560959034, 1.2735698890145655, 1.407679911047122, 4.595265024948807, 6.782382844889615, 1.0601564859165267, 4.408042912546646, 4.301112401228984, 4.982081651798954, 6.8041384438036685, 4.857916875309215, 4.866740520160979, 1.8590487211265625, 4.354551147924644, 1.9541001572690635, 1.0536935577582713, 6.120894824696856, 2.4117354858739906, 1.557599752274705, 8.377475946089227, 3.201130153819885, 5.964321051744419, 4.89071053564612, 4.094350662061305, 3.6661385021583475, 9.540749998420852, 1.0908102515901787, 1.6363133064510245, 1.9200843477283436, 4.182900308007009, 14.127645173951635, 1.1916833306159973, 5.952832231343973, 3.2035194333973966, 4.948904551621128, 1.1050322862435433, 13.326290682564425, 5.085631205077329, 4.131525724281364, 24.714681843670963, 1.3798783589984431, 2.0851717111604477, 3.142227734120602, 1.31583118528477, 1.1574104804948884, 2.617418572355503, 1.2454407642487535, 1.4279705080810627, 1.1727159790902044, 5.877769946632035, 1.9415831370317664, 1.370898113863999, 13.365402329213332, 14.04431195673336, 1.9839674788627715, 2.385735711045817, 5.677039277587104, 5.0687739372249165, 3.8731458432165526, 2.439715340079379, 10.890338156859048, 1.555360909853988, 2.1956139585203243, 1.0874675051380363, 5.296598650534405, 1.1472619576514913, 1.7356857231775025, 4.909918121658278, 1.9827206563317465, 3.714396021843048, 4.804044594070043, 16.765870482193353, 1.3880956777657327, 22.995621276967295, 11.74333672290135, 2.1099740869576644, 9.23104654743071, 6.315896718735816, 1.1117570267744425, 1.6774615191696796, 1.654834841742356, 11.240454794450203, 1.2500949663174115, 2.5031270363889004, 2.1673090434677382, 1.7996703345204854, 1.400597080103454, 5.36164712585343, 14.503215345898374, 1.6125643646743664, 4.848406371608769, 1.9545819285342263, 4.461436597323334, 1.0618077840707896, 2.0970618739261546, 13.379377373291579, 1.7357514782667303, 2.172796702206414, 2.924405938999545, 4.363760545619678, 2.216065894780598, 9.321278268023034, 6.98564589438546, 1.1851453636191427, 1.9323552766318106, 4.172358712194248, 1.2822972091124571, 1.318825658175565, 1.3707800222733542, 4.022124485073417, 1.7029253847715944, 13.731393584716542, 1.8610362234310265, 8.649127188061383, 2.328415139793255, 6.52802539334238, 1.0506097435092243, 8.233504087496568, 8.292077058506663, 1.0535278541228674, 10.154792970592665, 3.855547922819899, 2.7122936006678575, 2.0989588730497326, 10.493280707775918, 1.3190977494869163, 2.967531160905997, 2.289782630934776, 4.234691258589844, 4.465927575463423, 2.865334982863102, 2.6738515792920357, 3.327042820844814, 3.162560375979538, 4.121309446880089, 4.746039523005546, 12.565214154353114, 1.143245709274189, 2.416350284051192, 2.097693024413792, 1.350659602810207, 1.0876342802074537, 3.653687699678141, 3.0105489463627797, 16.08568894792982, 6.554303453229695, 2.654444246215316, 1.6709830470088263, 1.6226594746627396, 1.5011002014928378, 2.368694684146781, 17.608739405534294, 6.9622635117823695, 7.7878406335028165, 2.112417969654699, 1.9778676307146088, 13.269612045268087, 8.922451908634761, 9.35735114089717, 7.138523659911174, 15.111008330441985, 0.22589650932271543, 1.53230591719888, 4.95082774415547, 14.314399240524779, 5.9806439610747075, 8.504669909150097, 6.668742273203201, 2.170580723109774, 19.745444224725723, 2.8062278001479886, 9.569652515631997, 5.875782945632027, 4.108800853625568, 13.7226435778047, 21.824556604312875, 6.639228393103225, 7.523009285981472, 6.2091345464059335, 5.3478038277406785, 2.0701561216674387, 1.4478642682219265, 2.2082375333210185, 17.645028727326867, 13.509632619278337, 4.186476403639767, 2.0322520464347322, 14.541286342676196, 2.2735433616973855, 14.337308072477644, 15.83238540253407, 1.9688024201044776, 7.7690307882095935, 4.517702987625537, 4.866534092899209, 16.82714395755059, 2.7044535432701586, 8.63658049543449, 16.33206549779076, 1.2496305665285794, 1.1009488201050017, 5.573702009819819, 6.36230261840678, 1.9064048205089925, 1.7286707676684614, 1.900028613336975, 4.386125087022107, 3.9627695342366374, 4.906325377228484, 3.591080359120093, 10.4675236123005, 5.679906995638701, 16.77811187261776, 0.903943364141432, 3.53138215291958, 1.6488473944530826, 1.9441394723370742, 6.167946115320224, 3.675922515113411, 1.465053767591825, 3.0575705450435944, 11.751223534552624, 3.0111127899103423, 5.311524825483314, 2.9150521138942134, 3.9894932616411434, 3.080462080392235, 4.731682425654831, 22.743596876022703, 10.164841733367028, 7.052644215008786, 13.6582183751189, 13.948764535050193, 12.192081971785164, 10.510023892936129, 5.92930705637768, 38.537042818706645, 6.047060746898472, 15.26161526675765, 5.1149363740607985, 5.205144589231188, 12.544694875904886, 4.383749020531347, 5.1785573013128205, 12.669225097470319, 3.730931122547709, 8.31710650862403, 12.212594640071526, 5.6993940732825115, 7.927501303816473, 12.812637863654793, 13.638901081670154, 4.835714388703792, 15.083316646947797, 8.205762854313663, 9.490905954146521, 3.3756674336594115, 9.734909002711243, 6.200052049003575, 17.039959910785257, 5.894633123535488, 1.3120531173879053, 24.007555588995793, 10.858389234415672, 8.406591815157196, 10.252002758327666, 20.067039036180553, 11.247914819296827, 5.144272943204229, 1.1197304386905829, 1.071772589601228, 24.723354894346816, 1.4268137803518612, 2.995712811475625, 5.119703252355192, 26.509246886850825, 6.108473119991169, 14.420131058663202, 9.088349786882704, 13.630249082541368, 11.510258483779554, 4.256393717873239, 13.488432374831289, 14.039008100055234, 19.93275257413655, 9.74963475031551, 15.064999680714097, 10.064793717466742, 1.3717387317671834, 4.820935785499425, 18.231611936386056, 13.744542804969466, 16.491046442025052, 12.314996248179952, 20.92544270934005, 19.75750704258835, 18.913353746209403, 9.283924127683457, 11.602443629207322, 14.92047073908443, 18.5440149920629, 16.39826116601326, 17.10688030991652, 7.870042754350081, 18.32973453913502, 14.158341075965422, 5.645429918757668, 10.668576885228505, 19.713419370798132, 11.954311411187097, 15.222019599123128, 19.99244545112278, 8.44320217312277, 6.399385024212838, 5.034001928173324, 16.482859758277637, 18.61671612052531, 13.653130298819043, 13.371316174763386, 15.488613103967888, 1.934333911938734, 11.462320740038205, 15.489510751898061, 10.144180918111443, 11.34276503863704, 19.12595019385509, 2.4167391720432367, 18.611634413842605, 8.01350196296956, 11.545269622088835, 13.868738673422582, 7.734793383850894, 5.3424817404538665, 17.82915249493752, 9.454243797442409, 32.304962577927725, 9.786402732987717, 10.96158360749083, 11.399421513986784, 17.003619559396284, 12.065989042699018, 12.164958048184083, 17.03139793771399, 12.195933339551459, 19.548644565764686, 5.833138955555587, 3.4689442149565073, 14.465372078851894, 16.87626361548738, 13.01162833208608, 11.046806216513806, 9.721814052561376, 12.217839057257205, 18.941035585889637, 7.986313393020827, 5.832749680923, 9.931537255536556, 8.933832485417685, 13.28050711932936, 11.323705550559785, 14.592094667429686, 11.491597523464993, 18.42684821538945, 18.803613682042144, 3.577113979147674, 5.137575290043876, 12.25596849317299, 5.288286460857142, 8.042236192602937, 3.042704758244727, 20.084064485085662, 15.125078118586075, 4.769292976490865, 13.216400338338293, 2.156786930110111, 10.194755383328253, 1.0500874803363973, 10.455894193489595, 12.51207576834782, 4.369669823817295, 5.099363545586869, 8.144733211747265, 2.7167910726062976, 4.147738463570081, 3.4404093914863934, 19.906583874008597, 17.391588166291076, 13.022382349909027, 13.907205726514164, 5.800279683885278, 2.4241452585301007, 2.69782010651421, 8.219567730147409, 1.8781489675890115, 1.3921975959142139, 7.129461256454704, 1.4691235136318654, 6.906569886427552, 3.793081708053789, 2.9104389368828016, 13.855503286182046, 1.363550254436308, 4.963437673177866, 5.583768458026703, 11.345385596919932, 13.942904063901118, 1.188579335662113, 4.9086281508514125, 5.522493784153193, 13.174274465164938, 0.536718437557168, 16.75886809211527, 18.263175910388448, 4.196597748311461, 6.462287033157412, 7.553997851464996, 9.150149892948072, 20.16506687917822, 16.98220064204939, 5.986069775355923, 12.94385687455333, 4.817095006195073, 8.972872290678948, 15.678870709426375, 2.6188703950395222, 14.372066967492659, 14.81421592508915, 11.488806990671089, 5.518593140285836, 1.5824083249734375, 15.877540215236584, 12.611184313127888, 10.516994843739344, 13.121629828373397, 2.2938187295429473, 5.688532024897724, 3.142441066743734, 15.4793462173649, 18.641714336454555, 6.14599352273247, 11.072085689974841, 21.995841259453698, 16.691664188247653, 7.5510220487483, 17.032674608993652, 20.295877342539605, 7.062648514960147, 4.368310753246639, 9.044614674889909, 6.925688231943431, 7.772786825772693, 13.859196588842531, 6.044507995484973, 15.681873743928717, 12.991512466764659, 21.167897658059374, 5.495795692271204, 21.87874028398421, 1.5591150316482543, 4.461288041523442, 1.9771291855174469, 2.8771801835150774, 17.568785553120147, 1.0324509300700677, 5.232020520103086, 19.0187920486519, 13.427293162535952, 5.087963462542478, 10.44684323657944, 4.713425157692147, 10.102063637890124, 5.033296405315462, 7.14783522817882, 2.3353867149170364, 4.080524792338254, 3.98359731320726, 15.030741152774896, 3.0300352356848905, 7.891000728973406, 4.972614041105496, 11.822544526535633, 5.909491463023341, 3.693917550023521, 5.291666561759089, 13.393585600403622, 5.91933518800907, 1.7397739333240732, 13.701858925375076, 5.856604290416188, 2.398799001287208, 4.227111897136646, 10.591076775297466, 2.3891174441945178, 5.279188375808589, 15.717002882193208, 13.198663817632966, 9.423011164310761, 5.122788393995639, 4.099752767058052, 18.409157227860238, 11.981828492795035, 5.367025516500776, 4.683269178265387, 24.551287328749208, 15.976185642026685, 13.873628302560643, 14.396950404358307, 20.507174682145585, 13.873882483438761, 9.472140944955083, 2.8302472501493106, 15.465424071213176, 8.434905549500488, 1.4126650981557116, 4.727600863978271, 12.450629700726608, 2.4629283075674384, 7.4415554056501705, 6.421076560357781, 3.499509833005564, 5.9741541037748105, 14.781190316409889, 1.9255534234827223, 10.874907351204774, 18.633211968873262, 14.03778618775414, 18.054111479726956, 19.792359776566947, 10.211854561819598, 19.36723469602321, 15.006934301996962, 5.97471727264995, 10.018121338104468, 1.9161414924249867, 13.493668672256852, 11.129510676610375, 9.06942342467734, 12.845414912335297, 4.9187884465870955, 19.302905622465186, 16.484180435981152, 10.929229465243942, 8.234997349223553, 5.488294677737267, 15.634340731502682, 3.1051107583594106, 16.468984929898596, 9.336578918485957, 11.147748723456017, 19.263893406825904, 12.621052199088812, 16.964713513016154, 10.029075309176017, 13.990006428492622, 5.293472029152077, 13.963488101100847, 22.45058418841638, 5.453174497576345, 2.125137949062744, 8.710015777986284, 13.842230981075575, 12.274128430089688, 6.578020574332575, 14.70181892207245, 5.637102316584756, 4.221641696206187, 3.0910288305547833, 5.706458971882715, 5.089571596802898, 11.169462048103002, 11.76006267905579, 19.775849201088466, 14.676817707486977, 19.897849706745784, 20.676900226150575, 17.767544333213493, 9.275141245730202, 2.6611203680026243, 8.61427683426955, 15.380369246705373, 12.80802488711643, 4.601140447915947, 20.621739021462872, 4.263688346603811, 5.663998030361776, 18.993145892809245, 6.6823940272721325, 4.634091760105809, 15.472651931042225, 14.799431960728263, 6.643685524638027, 4.120443791020342, 12.879033043104856, 16.314443425182695, 15.77466891148235, 2.2017107534342886, 6.361151520102714, 4.189818335609206, 12.907206880356338, 2.3455484476969, 9.541125855823626, 3.0149857915193894, 12.614812012793557, 1.0794461894987353, 13.949408984532669, 5.1014947823258545, 22.7785939391754, 20.396039721222394, 5.248259471254447, 18.10016452420718, 5.175445915609726, 12.410613516687437, 7.582123964451049, 5.274032233692947, 5.079127356676439, 8.150604515937868, 10.277114007520554, 5.315482250319858, 16.43086801516344, 1.5512047893777936, 17.702913061135312, 8.82030251812997, 7.602862962348352, 18.313105692963, 3.8781065861976733, 14.81112354117327, 2.050455477784224, 11.333484917689924, 15.316501119881833, 22.13525318911109, 11.931063498145152, 4.3373463061398025, 0.9672759122165459, 9.828766208923783, 3.0568239609344965, 11.925770067396424, 6.0021986608173705, 4.904850838936103, 3.520254033403047, 15.210447859214641, 4.956747382388425, 15.029457800167297, 13.266572811576665, 2.0594555081271055, 13.280196755992563, 8.242514432097915, 16.00959993654676, 12.868408365788067, 13.759241826146722, 9.869080928965824, 16.602262475444093, 16.17586720325258, 3.4775057786575174, 15.194173873279327, 13.772201387892018, 21.450136723690868, 4.230552161526601, 7.34960221679322, 8.041699851361791, 15.742149338925735, 20.246177394515993, 7.707915184610378, 18.05675870950804, 26.96533843342362, 3.4956970811931942, 5.56090735499667, 3.5585172512097687, 6.624566738425732, 11.388275182026916, 23.749399398570368, 9.896993359784158, 15.159467498607771, 4.537602978932048, 2.5010251915445814, 2.833654277631201, 13.265253741633297, 12.138222977025501, 11.549495418281374, 15.254385059586351, 13.235869958521912, 10.601299651985295, 19.232165961940073, 21.278926807285444, 5.204903389516615, 4.940921117062581, 6.884100615217608, 13.30464898406076, 6.040385417435477, 14.094796761677449, 2.8882708721216988, 15.766999255963421, 5.380175929672892, 10.405972306809101, 9.17961637298412, 13.934708364523242, 2.8458357105976257, 13.570538075918165, 3.0971846159829934, 7.5026392872907675, 5.058889668918337, 16.562522759735486, 12.94431332866174, 18.142894479093822, 2.18473980817378, 1.3100847485955516, 4.528561254959745, 9.622363203981351, 6.375141258955896, 4.582311435326359, 4.1893398482334305, 7.401806272979523, 1.3909166053749251, 6.766571407907466, 11.232887164213507, 9.508581043811077, 14.222192663656097, 5.329401599870565, 4.645562068628811, 10.68271787527259, 5.867414662947102, 4.590281659259242, 1.6372444618526378, 18.597939221337864, 15.840301640706754, 14.242416352121388, 7.803070673052596, 4.472867865509658, 14.669358243652125, 14.800626519125819, 11.015708849994358, 16.223690738675128, 1.3258582199612992, 18.10126543024494, 23.139634850481254, 14.478844836859412, 11.091118303054845, 13.585097935951207, 9.084927238873865, 17.668941793476687, 16.819425706488875, 1.016361074031995, 13.301766680511577, 2.7635066014733214, 5.584638276377456, 5.178082060311706, 19.917441313447092, 10.712913037321197, 16.01759836930376, 16.487538668972377, 3.6763966863355515, 7.15930539520121, 7.335392059146557, 11.9570646179099, 13.06871791025886, 5.344862432493154, 3.899749626185827, 16.400528449714287, 7.6891032738411065, 16.495662608626702, 4.7308221049621855, 9.757606052502977, 15.437441061029944, 15.618804791803006, 3.46052556967066, 5.907473827700026, 15.91098604470021, 6.107756905970017, 8.356840810769373, 2.8316042221366367, 6.422523352111627, 19.36749718949016, 3.5518904249519445, 7.089428356240108, 13.770892355471677, 17.206125185413242, 12.037766043518534, 8.749163262689029, 4.311819819057763, 5.063954018648911, 11.497175161788308, 4.329323879259984, 10.283417978978466, 15.272375856852118, 15.73359762813891, 9.690332393590932, 6.967845165730829, 8.533500184024504, 5.34222063309635, 7.25087083799274, 15.330809400369668, 6.0304816090059195, 7.533152303140409, 4.907569469336172, 14.297371692565202, 14.897688140114093, 5.156425377325573, 14.141531186156476, 14.995560954313886, 10.370313584185446, 11.543782600603265, 1.3548418895996677, 12.584938600708615, 4.384177201515713, 5.028972477228753, 4.607548876006165, 14.520136353328628, 3.4048945211174755, 20.903636840276715, 1.5636472742007042, 5.008493587061711, 2.946382782335802, 1.4579611014693294, 15.307796906324494, 16.6895731733653, 3.1646963573857416, 1.3543447357221505, 10.155069966058647, 10.335011348573012, 3.333064491326005, 15.232826340279713, 18.070223448989676, 8.286806036745517, 18.171056460070783, 18.036002469273825, 6.355503325307747, 13.682671138066715, 6.104222632368294, 15.027895281169414, 5.3612801051272045, 12.274568304481821, 15.295008302881616, 7.323931463672331, 18.246718389122417, 3.1722732657326924, 10.107201741021663, 9.519435006697769, 18.88217697243637, 13.320147415824012, 6.493933754111849, 9.170627571898974, 2.59917378102539, 13.407203808280439, 7.524096830260337, 5.876756908896817, 3.3234285999703723, 17.20880016455757, 5.9908651672533635, 9.29672778238948, 3.5222578081898113, 15.312692334915367, 16.53924973263692, 9.903871676541884, 18.447288661050077, 14.696334778216226, 11.663616481861126, 10.959751016105026, 18.832360893946525, 8.432126743753964, 6.92625182535357, 16.357280682063475, 5.444453574575999, 12.239305847215977, 4.21599746209174, 18.97735149365567, 13.950338785555466, 2.413403780069454, 12.082636470906198, 5.272471699078276, 14.32781987436471, 5.087803545125721, 4.400531574939904, 8.681593964182253, 18.35399432621501, 17.92611316125196, 9.095081096883671, 4.903050494982937, 6.721110300381731, 12.569188667918555, 9.845041926989948, 9.318819370055603, 9.476049793248798, 12.417165909132416, 21.399596835390387, 9.625966612911114, 5.540355284206105, 2.0439522108603994, 13.474635964045781, 8.568416965746632, 8.385354649738698, 11.756348527663539, 18.060348745389792, 21.458339705720768, 16.386906109260767, 7.061828806555316, 8.728761559203678, 13.875487172136843, 11.35947294926279, 18.94977053584732, 9.371683689610876, 12.790707141272545, 4.879883851968203, 13.699727278501724, 12.48948078872947, 11.323138680389997, 4.650509883695294, 44.92950751036173, 6.024117170648576, 4.879473164405384, 4.0648814927633365, 15.238603436807937, 4.62520622931672, 20.866742726818202, 8.310959948119152, 5.069428339176435, 12.296278395861926, 16.98655580426129, 3.0631100797383093, 14.313488034294892, 12.7496808622345, 6.76755917427346, 13.992510707911636, 13.871339342649724, 10.062330286051004, 1.9860760011204666, 5.537018938406753, 3.7559338065481365, 7.654853536785215, 13.558878718180539, 16.887204676688075, 7.706294748012439, 2.1931763397854036, 21.90842354103102, 19.01704429411096, 16.785700411683397, 4.679128859567652, 33.09260724770899, 10.472553864285159, 10.286654701111356, 14.81555912049438, 10.08774884290916, 20.875000124545227, 18.785824211433553, 9.438101848010948, 17.38092463688081, 11.04533601022887, 14.06313088877861, 13.827149744439177, 13.377367245161118, 6.422539077502501, 17.8927376223958, 7.621882685291007, 16.71797811933704, 14.00793321914083, 5.835142089211338, 16.28447160651487, 3.7809558026527745, 17.477745127150783, 6.9881995551594756, 14.458752606143342, 8.88999882014325, 11.1205898243937, 22.604532705089635, 14.921831063093013, 1.89530640135114, 10.353934493314267, 4.128571455954128, 11.52026629258477, 6.5185596109435355, 6.558239748734134, 4.362050881886614, 10.120942942921475, 5.967247229067262, 1.4836552377548018, 2.971086384690816, 17.30276591126912, 13.362667246012258, 9.330183116386733, 15.475219225645093, 8.126127054806886, 9.864825243141112, 24.922136463725145, 17.679003050981766, 6.153868700306875, 8.920580363907135, 5.963856913227745, 11.207577976344243, 13.96605623245689, 15.147310874026683, 5.423784993210754, 4.540353077052151, 15.398478281496498, 19.692981775489983, 8.814159295523837, 26.425014555046545, 15.761501696851797, 19.74703220170519, 5.755597343275569, 18.958547965530006, 12.908432895908605, 20.544512601474235, 6.388021069714721, 10.739321261433862, 21.782863392385583, 34.12008147791314, 13.44594586884471, 4.176934852955033, 6.934283655034851, 16.22300880623057, 17.759016361113833, 10.096527838662304, 1.5275273932250644, 12.88992417725103, 15.159356866255024, 8.572190348963778, 12.776178426658221, 19.47971073623596, 1.8856223849273341, 14.026309804117524, 4.728558727957006, 7.769075693072745, 8.995086349074088, 2.4398060235509003, 8.925618929030708, 7.683844698428384, 13.569607333284692, 17.415202896972332, 4.921269542958341, 18.43511806707372, 3.587661833118344, 22.200524426239845, 6.909586205099942, 11.680684763616679, 9.7946775802379, 4.555147779907492, 6.799312273513962, 10.261937162981482, 9.503181024342773, 16.13311099690199, 11.765182152225037, 30.05532227877598, 2.298659422685592, 9.199051524033482, 6.64865159481539, 5.443092735949983, 3.3890437915795273, 1.4189907361965917, 3.267679220584185, 1.5976273179322962, 1.7257449153848943, 3.9281459411183586, 3.3213640718592865, 4.493490963486396, 2.594000869593227, 2.0613345141863193, 2.0516596676918275, 12.261656727044874, 8.342520473013373, 10.996647938146314, 15.18745755986532, 1.511692808303436, 16.4162721737866, 14.419227228628536, 12.678552312676082, 3.5854644938638307, 14.944732308234721, 9.345985800386055, 9.692366956900393, 0.32636813225173966, 14.806015958243016, 7.950465204755215, 9.666089313186596, 1.2509935575236164, 8.221360570657117, 4.694438477315567, 7.820607413054497, 14.201077830138688, 7.228252463155746, 11.2012733327521, 14.978781203026324, 7.431429071133893, 8.85440228550319, 20.83840996954519, 5.626215111438686, 9.44492672066171, 9.53470491635141, 2.995060584909286, 4.624819273200001, 29.64429950666653, 13.943550642788633, 10.989221017199512, 14.574908742294362, 21.483148072382892, 19.497913670660996, 8.463245496098487, 24.0743898042179, 20.530812201020435, 18.211934002302296, 10.19073164434292, 14.536191299454082, 9.873764585211035, 15.65023708244764, 14.326268914300524, 10.231394654529632, 13.405776420506612, 14.42730718219725, 4.421409259867321, 6.804791319316909, 23.01841832134583, 10.841497196152858, 3.2894755893102565, 8.019990857371898, 21.24439770125481, 19.51111309050323, 10.69746409803305, 4.288832286527944, 5.854107390389176, 44.37378626665626, 16.139071341085913, 29.834887875613592, 13.36106266892515, 3.742296084606103, 12.566089289958539, 11.498313767720079, 8.749919797897743, 13.970746783606524, 8.704333294574486, 29.298558657391037, 13.913175716996726, 18.213464358831565, 6.84321344461682, 13.623296824346166, 14.978054598870571, 7.38371579404061, 15.943551071064412, 7.970484444326093, 15.76836484710885, 14.049232801659343, 12.989471050343024, 15.416185540576587, 10.67683564079124, 6.203445140446079, 3.177460737358951, 7.5720312107807, 7.038927505826283, 15.79224580760334, 8.338141184309622, 23.63877476147656, 12.11627622472527, 9.520141470333844, 21.497085669650854, 20.27565768313543, 13.946388730886184, 7.157350051262923, 6.3421789417099195, 9.212461104994324, 1.9798785982158398, 35.38767050441851, 12.753843434236341, 10.437665389733322, 5.341008005196282, 12.273221862059014, 33.07437643159321, 20.516121251902568, 16.943881655214124, 11.021367490177871, 15.631449488512567, 15.808651713694966, 12.916489726221405, 1.9764325748661071, 12.759041216283402, 6.564927443723562, 8.424967038868306, 14.987987583272323, 9.29478002274566, 15.172955408553708, 7.771941199213796, 10.427954935793325, 14.393919983563052, 25.2669864538172, 8.633940529833685, 15.410168154174032, 11.812176457512487, 4.214606483329313, 16.068383366798326, 4.3155230321018845, 12.194897699469085, 10.132753099775432, 11.275625092491245, 18.887360176102945, 11.226517994779858, 4.45317780818192, 19.74081338403427, 8.942714178896141, 32.7770802991073, 20.279949291825986, 7.684397536480432, 5.830289226971496, 19.172381082775797, 10.922096921090512, 23.326686106191776, 12.475286786694403, 8.847163924609399, 7.488519978244233, 14.379952441144015, 4.379705648346442, 16.225248870510473, 17.378085068514846, 5.231548565437571, 8.235913074949652, 8.722366336888436, 8.523752097785339, 12.238947618577583, 18.6562029339973, 6.747046829752286, 11.053159637467719, 8.278102355080652, 14.29070259592, 11.774220808021827, 16.687352062943976, 4.774611577005795, 12.556416817698873, 6.443226556040426, 7.181166396633219, 2.0227385518098044, 4.673746320324963, 6.952851592840128, 7.137486265888434, 4.4029297792386695, 9.559175741509906, 5.257577808857224, 7.340354039704834, 4.909714071407658, 6.537549058825713, 2.642431813442332, 8.139129440527322, 7.173890608489667, 13.097612531511064, 5.648021559742442, 11.210586892925823, 6.422823383656594, 9.433762514928546, 3.1311322896065867, 13.978020171217718, 10.843699629167007, 12.09657883536534, 18.74218407978737, 6.867917837957482, 5.899148054658896, 4.505299520900266, 6.047885357645352, 6.85829158819546, 5.190613972774959, 7.794076078744318, 11.617184112392644, 7.771128834849918, 10.149488909432659, 7.064242587854471, 8.959383733928219, 1.532406751816162, 1.282280547356606, 8.695707836840365], \"y\": [124900.01, 75900.0, 19900.0, 38900.0, 12500.0, 246900.0, 189000.0, 89900.0, 21000.0, 204900.01, 54000.0, 18500.0, 50000.0, 16900.0, 21500.0, 57900.0, 58900.0, 43000.0, 62900.0, 3900.0, 28000.0, 31900.0, 265900.0, 135000.0, 78900.0, 45000.0, 87900.0, 44500.0, 23900.0, 99900.0, 2600.0, 158670.0, 38500.0, 22500.0, 34900.0, 83900.0, 104900.0, 105000.0, 79500.0, 272000.0, 54900.0, 29900.0, 22900.0, 124900.01, 76000.0, 8400.0, 99900.0, 12800.0, 38000.0, 49900.0, 11000.0, 14500.0, 59000.0, 16000.0, 21900.0, 149900.0, 69990.0, 169900.0, 45500.0, 20500.0, 119000.0, 23000.0, 11700.0, 118000.0, 105000.0, 199900.01, 124900.01, 68000.0, 174900.0, 169900.0, 21900.0, 149900.0, 51000.0, 42900.0, 69900.0, 109900.0, 129900.0, 17800.0, 105000.0, 97000.0, 265000.0, 159900.0, 40999.0, 129900.0, 69900.0, 21900.0, 184900.0, 29999.0, 159900.0, 179999.0, 70000.0, 39999.0, 16100.0, 65400.0, 52000.0, 105000.0, 39900.0, 57722.0, 24990.0, 67800.0, 33900.0, 17200.0, 104900.0, 139900.0, 106900.0, 139900.0, 89900.0, 104900.0, 69900.0, 236900.0, 47000.0, 45000.0, 64000.0, 92900.01, 199900.01, 109900.0, 514900.0, 51900.0, 23999.0, 7900.0, 174900.0, 199900.01, 53000.0, 109900.0, 139900.0, 29000.0, 176900.0, 87899.99, 26700.0, 469900.0, 17500.0, 77650.0, 25900.0, 94900.0, 33000.0, 32900.0, 61000.0, 19500.0, 20900.0, 139900.0, 399900.0, 19900.0, 244900.0, 74900.0, 179900.0, 82000.0, 189900.0, 227000.0, 319900.0, 115000.0, 99900.0, 149900.0, 98000.0, 164900.0, 119899.99, 27800.0, 299900.0, 119899.99, 134900.0, 189900.0, 85555.0, 96666.0, 124900.01, 169900.0, 86900.0, 396900.0, 179900.0, 203000.0, 139000.0, 92900.01, 269900.0, 134900.0, 129900.0, 54444.0, 249900.0, 129900.0, 169900.0, 99900.0, 219900.0, 154900.0, 119998.8, 145900.0, 239900.0, 56900.0, 97900.01, 246900.0, 259900.0, 99900.0, 135899.99, 53999.0, 92900.01, 184900.0, 174900.0, 149900.0, 26500.0, 149900.0, 94900.0, 224900.0, 206900.0, 109900.0, 20900.0, 136666.0, 102900.0, 1500.0, 92900.01, 144900.0, 93900.0, 174900.0, 174900.0, 87600.0, 484900.0, 169900.0, 92900.01, 329900.0, 92900.01, 144900.0, 18888.0, 19300.0, 179900.0, 249900.0, 236900.0, 56900.0, 219900.0, 114899.99, 22700.0, 92900.01, 92900.01, 109900.0, 46900.0, 174900.0, 92900.01, 114899.99, 154900.0, 114899.99, 124900.01, 17999.0, 259900.0, 2500.0, 23900.0, 99900.0, 49900.0, 65000.0, 409000.01, 174900.0, 189900.0, 41500.0, 369900.0, 129900.0, 124900.01, 188800.0, 289900.0, 259900.0, 18500.0, 189900.0, 199900.01, 139900.0, 99900.0, 239000.0, 264900.0, 27900.0, 399900.0, 89900.0, 194000.0, 129900.0, 89900.0, 95000.0, 97777.01, 289900.0, 579899.99, 62900.0, 179900.0, 209900.0, 549000.0, 159900.0, 174900.0, 22000.0, 174900.0, 72900.0, 189900.0, 75000.0, 776900.0, 39888.0, 51700.0, 179900.0, 31800.0, 126900.0, 174900.0, 174900.0, 58888.0, 99900.0, 159900.0, 92900.01, 89900.0, 139900.0, 115900.0, 174900.0, 334900.0, 94900.0, 139900.0, 83000.0, 42900.0, 189900.0, 169900.0, 174900.0, 164900.0, 183464.0, 109900.0, 51900.0, 14300.0, 124900.01, 89200.01, 174900.0, 199000.0, 189900.0, 88500.0, 7300.0, 85900.0, 45700.0, 209900.0, 164900.0, 25000.0, 63200.0, 40000.0, 36900.0, 21400.0, 179900.0, 124900.01, 159900.0, 18500.0, 31400.01, 94900.0, 115900.0, 279900.01, 10600.0, 136900.0, 89900.0, 30000.0, 126900.0, 41900.0, 5200.0, 53990.0, 69900.0, 83640.0, 92700.0, 90500.01, 169900.0, 97600.0, 8900.0, 20999.0, 239900.0, 90200.0, 18000.0, 164900.0, 20800.0, 37000.0, 189900.0, 137700.0, 155000.0, 115000.0, 18900.0, 159900.0, 47999.0, 9900.0, 229000.0, 199900.01, 89900.0, 189000.0, 179900.0, 179900.0, 229900.0, 89900.0, 122900.0, 174900.0, 109900.0, 31999.0, 31400.01, 22900.0, 179900.0, 74900.0, 179900.0, 169900.0, 40000.0, 79900.0, 184900.0, 32900.0, 33600.0, 37300.0, 99900.0, 147900.0, 147900.0, 249900.0, 129900.0, 7900.0, 40900.0, 61900.0, 27500.0, 27900.0, 37700.0, 55000.0, 78900.0, 30000.0, 59990.0, 22000.0, 58750.0, 119899.99, 59999.0, 148999.0, 66900.0, 25555.0, 104900.0, 85999.0, 26900.0, 64900.0, 44900.0, 59900.0, 135500.0, 119000.0, 22500.0, 33999.0, 24900.0, 35000.0, 75800.0, 215000.0, 14500.0, 219555.0, 289900.0, 13900.0, 29900.0, 75900.0, 50900.0, 8000.0, 67500.0, 209900.0, 164900.0, 177000.0, 5900.0, 369900.0, 125000.0, 215250.0, 5500.0, 69900.0, 28900.0, 69900.0, 22900.0, 44900.0, 140000.0, 27500.0, 45900.0, 8900.0, 61000.0, 12000.0, 55000.0, 299000.0, 339000.0, 21900.0, 17000.0, 21500.0, 24900.0, 2400.0, 6500.0, 9600.0, 54900.0, 30500.0, 31000.0, 8500.0, 19500.0, 24900.0, 75900.0, 5590.0, 29900.0, 65000.0, 39500.0, 22900.0, 21000.0, 17900.0, 4300.0, 62600.0, 85000.0, 75000.0, 17900.0, 13500.0, 52500.0, 34900.0, 21900.0, 124900.0, 32000.0, 16700.0, 42500.0, 33000.0, 8200.0, 2982.5, 6000.0, 31400.0, 49900.0, 26900.0, 62900.0, 178900.0, 9300.0, 29900.0, 10000.0, 29900.0, 56900.0, 33500.0, 6500.0, 63000.0, 45700.0, 16900.0, 19000.0, 9500.0, 68900.0, 159800.0, 44900.0, 23500.0, 20900.0, 28200.0, 68000.0, 49999.0, 18000.0, 69900.0, 198000.0, 109999.0, 44900.0, 27000.0, 29900.0, 29500.0, 32800.0, 9000.0, 7000.0, 105000.0, 133900.0, 36000.0, 54900.0, 59900.0, 99900.0, 5000.0, 23900.0, 224900.0, 22900.0, 365000.0, 23000.0, 54000.0, 47500.0, 26999.0, 99900.0, 103300.0, 55900.0, 89900.0, 49600.0, 74000.0, 2500.0, 9999.0, 17900.01, 17900.0, 49900.0, 89900.0, 85900.0, 89900.0, 569900.0, 209900.0, 54000.0, 159900.0, 79900.0, 139900.0, 75900.0, 29000.0, 144900.0, 89900.0, 219900.0, 19900.0, 26500.0, 194899.99, 269899.99, 209000.0, 17000.0, 279900.01, 25900.0, 10900.0, 149900.0, 40500.0, 127900.0, 53900.0, 9500.0, 16999.0, 235000.0, 25900.0, 87899.99, 49900.0, 4900.0, 274900.0, 15300.0, 24500.0, 17900.0, 73800.0, 299000.0, 25100.0, 36000.0, 36999.0, 29900.0, 88300.0, 113740.0, 70900.0, 22200.0, 29500.0, 69700.0, 19900.0, 4900.0, 25000.0, 57700.0, 10500.0, 6500.0, 99000.0, 49900.01, 38999.0, 55900.0, 66900.0, 27500.0, 73089.43, 12000.0, 30800.0, 5900.0, 58900.0, 8900.0, 159900.0, 259900.0, 195000.0, 139900.0, 17900.0, 189900.0, 115000.0, 13900.0, 27000.0, 144900.0, 72000.0, 107000.0, 52999.0, 49600.0, 49900.01, 460000.0, 119900.0, 96900.0, 21000.0, 148000.0, 64000.0, 79900.0, 24900.0, 92900.0, 105000.0, 150000.0, 7290.0, 119899.99, 229900.0, 23000.0, 65900.0, 369000.0, 94900.0, 56000.0, 94500.0, 99000.0, 18000.0, 19900.0, 47900.0, 150000.0, 70700.0, 5900.0, 59000.0, 104900.0, 89900.0, 8900.0, 13900.0, 26900.0, 24900.0, 8500.0, 28999.0, 80000.0, 101900.0, 16000.0, 55990.0, 209900.0, 109900.0, 27500.0, 103000.0, 79900.0, 42000.0, 64900.0, 69900.0, 19000.0, 106900.0, 23899.99, 10000.0, 26900.0, 12500.0, 4500.0, 33000.0, 3200.0, 19900.0, 139900.0, 49999.0, 289900.0, 7290.0, 17900.0, 69900.0, 27000.0, 37300.0, 6250.0, 7999.0, 56900.0, 62900.0, 84900.0, 16500.0, 239850.0, 15900.0, 32500.0, 25700.0, 5400.0, 17500.0, 19900.0, 78000.0, 15700.0, 110000.0, 7290.0, 9400.0, 89900.0, 164900.0, 99900.0, 9999.0, 22900.0, 59900.0, 21600.0, 119899.99, 199900.0, 85900.0, 190000.0, 139900.0, 39400.0, 26500.0, 16200.0, 16500.0, 7000.0, 7500.0, 7900.0, 117000.0, 167900.01, 66500.0, 15999.0, 27500.0, 99900.0, 8900.0, 74000.0, 55900.0, 5900.0, 53500.0, 139900.0, 7500.0, 14000.0, 71000.0, 219900.0, 26999.0, 25500.0, 5190.0, 89900.0, 115000.0, 69900.0, 32900.0, 164900.0, 32000.0, 285000.0, 34900.0, 157900.0, 5990.0, 65900.0, 6900.0, 49900.0, 145999.0, 17900.01, 99900.0, 24500.0, 47000.0, 150000.0, 88999.0, 60000.0, 23899.99, 95900.0, 4900.0, 219900.0, 10800.0, 72900.0, 67000.0, 10500.0, 87900.0, 6990.0, 109900.0, 25700.0, 5190.0, 7999.0, 67000.0, 289900.0, 139900.0, 70000.0, 247000.0, 29999.0, 87900.0, 92999.0, 79900.0, 6999.0, 68900.0, 20000.0, 19000.0, 109900.0, 29500.0, 84500.0, 10000.0, 19999.0, 38899.0, 68000.0, 27900.0, 31900.0, 156000.0, 16000.0, 25000.0, 6700.0, 165000.0, 53900.0, 35500.0, 3990.0, 8500.0, 57000.0, 18500.0, 4500.0, 219000.0, 129900.0, 83900.0, 89900.0, 23500.0, 5900.0, 55600.0, 30000.0, 67900.0, 75900.0, 174900.0, 19500.0, 29900.0, 22500.0, 7500.0, 46000.0, 33900.01, 9200.0, 6900.0, 81200.0, 56900.0, 69850.0, 18900.0, 109000.0, 6990.0, 139900.0, 23900.0, 86000.0, 89000.0, 39000.0, 15700.0, 139000.0, 19500.0, 139900.0, 52900.0, 52900.0, 25900.0, 28700.0, 7500.0, 94900.0, 179900.0, 199900.01, 35800.0, 209000.0, 184000.0, 120000.0, 199900.01, 189900.0, 83333.0, 25900.0, 69900.0, 6990.0, 78000.0, 101900.0, 61900.0, 72900.0, 92500.0, 179900.0, 7900.0, 16500.0, 16000.0, 74000.0, 69980.0, 17000.0, 17900.0, 29900.0, 4900.0, 459000.0, 11900.0, 2900.0, 16500.0, 14900.0, 18650.0, 64000.0, 10100.0, 23950.0, 179900.0, 18000.0, 289000.0, 129900.0, 54600.0, 9500.0, 69900.0, 8700.0, 19500.0, 119900.0, 61000.0, 80800.0, 20800.0, 30000.0, 119900.0, 185300.0, 31900.0, 45900.0, 27000.0, 239000.0, 84900.0, 5900.0, 3990.0, 274899.99, 91900.0, 21000.0, 66000.0, 99999.0, 110000.0, 82900.0, 4500.0, 69900.0, 115900.0, 49900.0, 7300.0, 18900.0, 43000.0, 94900.0, 78200.0, 21700.0, 95000.0, 29900.0, 17000.0, 11900.0, 54998.99, 77900.0, 72500.0, 97000.0, 75000.0, 26900.0, 69900.0, 91000.0, 76900.0, 15500.0, 27500.0, 108900.0, 16500.0, 35500.0, 56000.0, 52000.0, 174900.0, 30135.0, 263900.0, 121900.0, 114899.99, 35500.0, 241900.0, 6499.0, 264900.0, 59000.0, 159900.0, 169900.0, 8900.0, 18900.0, 349900.0, 450000.0, 58900.0, 58900.0, 269900.0, 33600.0, 13900.0, 48500.0, 8300.0, 3500.0, 65300.0, 21999.0, 40000.0, 38000.0, 63900.0, 29500.0, 23000.0, 61900.0, 15900.0, 95000.0, 52900.0, 70000.0, 24000.0, 17500.0, 77900.0, 27700.0, 169000.0, 16700.0, 75000.0, 80500.0, 263900.0, 32500.0, 106900.0, 45000.0, 145000.0, 24900.0, 22500.0, 39999.0, 5900.0, 28950.0, 19900.0, 67800.0, 9000.0, 31999.0, 59900.0, 25900.0, 45600.0, 16000.0, 112000.0, 6300.0, 33500.0, 78000.0, 75000.0, 57900.0, 24750.0, 69000.0, 199000.0, 129000.0, 18500.0, 1490.0, 49999.0, 67900.0, 69900.0, 43000.0, 45000.0, 135000.0, 65000.0, 44280.0, 12500.0, 59900.0, 112000.0, 2757.39, 16900.0, 45900.0, 82000.0, 19900.0, 10000.0, 6800.0, 11000.0, 44800.0, 37000.0, 5990.0, 19900.0, 5999.0, 50500.0, 25000.0, 58900.0, 33330.0, 29800.0, 37800.0, 139900.0, 85900.0, 46900.0, 76000.0, 79900.0, 24900.0, 67900.0, 3700.0, 99900.0, 87000.0, 77700.0, 30900.0, 59900.0, 118000.0, 54500.0, 49900.01, 27900.0, 22000.0, 39899.99, 409900.0, 84800.0, 240000.0, 49900.0, 43000.0, 30800.0, 67900.0, 142000.0, 4800.0, 13500.0, 19900.0, 119900.0, 209998.99, 42000.0, 98000.0, 13900.0, 21900.0, 8500.0, 4600.0, 69900.0, 17000.0, 35700.0, 20300.0, 16500.0, 15900.0, 189900.0, 25999.99, 42900.0, 16999.01, 14900.0, 90900.0, 28500.0, 114400.0, 33333.0, 110000.0, 17900.01, 68000.0, 25900.0, 11999.0, 22900.0, 549000.0, 69000.0, 81800.0, 29500.0, 54000.0, 57900.0, 52000.0, 75000.0, 169900.0, 499000.0, 259900.0, 11900.0, 21700.0, 89900.0, 4900.0, 46125.0, 79900.0, 1800.0, 18000.0, 179900.0, 56500.0, 39900.0, 24900.0, 30000.0, 10900.0, 65900.0, 78000.0, 16900.0, 2500.0, 39900.0, 4500.0, 10900.0, 3200.0, 113000.0, 5900.0, 42000.0, 8500.0, 33900.0, 15900.0, 7500.0, 25000.0, 37900.0, 169900.0, 97000.0, 27900.0, 3700.0, 36000.0, 169000.0, 47000.0, 19000.0, 41900.0, 20000.0, 25000.0, 359900.0, 28900.0, 172200.0, 67500.0, 36500.0, 163000.0, 54000.0, 44900.0, 23800.0, 18500.0, 56900.0, 21000.0, 10000.0, 8000.0, 60900.0, 19999.0, 74000.0, 189000.0, 109900.0, 58500.0, 38000.0, 26900.0, 66500.0, 6700.0, 145900.0, 49900.0, 74900.0, 119899.99, 89900.0, 359900.0, 139900.0, 344543.0, 259900.0, 79900.0, 122900.0, 119899.99, 320000.0, 287500.0, 288000.0, 47500.0, 56000.0, 54900.0, 19500.0, 219000.0, 15800.0, 7500.0, 36900.0, 34500.0, 18500.0, 55000.0, 47000.0, 154900.0, 26800.0, 55900.0, 35000.0, 199900.01, 30900.0, 179000.0, 48999.0, 36900.0, 49900.0, 35900.0, 26900.0, 128900.0, 116900.0, 13500.0, 58900.0, 29800.0, 59000.0, 195000.0, 85000.0, 20700.0, 27500.0, 42000.0, 29700.0, 55000.0, 9700.0, 71000.0, 24600.0, 25000.0, 17900.0, 55999.0, 38000.0, 33500.0, 16900.0, 14900.0, 34900.0, 22900.0, 23900.0, 69900.0, 52900.0, 7500.0, 26800.0, 199999.0, 83000.0, 85000.0, 48000.0, 55600.0, 10000.0, 128999.0, 150000.0, 20000.0, 7000.0, 36000.0, 67400.0, 100000.0, 24900.0, 69900.0, 50000.0, 69000.0, 135000.0, 29900.0, 15900.0, 52900.0, 34900.0, 29999.0, 42999.0, 10000.0, 50900.0, 78500.0, 16490.0, 57800.0, 14400.0, 27000.0, 54500.0, 129000.0, 49999.0, 200000.0, 23300.0, 142500.0, 17900.0, 48900.0, 69000.0, 4400.0, 7899.99, 29999.0, 61700.0, 46500.0, 40000.0, 29000.0, 13999.0, 32900.0, 39000.0, 125000.0, 55900.0, 23999.0, 16900.0, 13900.0, 19500.0, 15999.0, 14900.0, 58900.0, 125000.0, 21900.0, 60000.0, 77700.0, 25800.0, 21000.0, 22000.0, 49500.0, 24000.0, 22000.0, 120000.0, 51900.0, 69900.0, 14500.0, 61000.0, 20900.0, 75900.0, 37500.0, 77000.0, 62000.0, 24900.0, 52000.0, 72000.0, 21900.0, 55000.0, 30000.0, 28800.0, 69900.0, 64000.0, 14999.0, 38800.0, 7999.0, 69900.0, 63700.0, 105000.0, 17500.0, 172200.0, 14500.0, 14500.0, 48500.0, 116000.0, 57900.0, 99999.0, 20000.0, 9700.0, 88500.0, 29900.0, 80900.0, 38900.0, 80000.0, 26000.0, 89900.0, 18500.0, 115500.0, 58900.0, 388000.0, 38900.0, 62000.0, 38900.0, 45500.0, 37900.0, 75900.0, 105000.0, 99000.0, 123000.0, 189000.0, 79900.0, 71900.0, 20900.0, 189000.0, 79000.0, 157700.0, 58900.0, 229000.0, 32500.0, 38900.0, 25900.0, 8500.0, 125900.0, 129300.0, 187000.0, 36900.0, 39900.0, 140000.0, 63000.0, 78900.0, 69000.0, 24900.0, 54900.0, 27900.0, 29900.0, 119900.0, 54000.0]}],\n",
       "                        {\"template\": {\"data\": {\"bar\": [{\"error_x\": {\"color\": \"#2a3f5f\"}, \"error_y\": {\"color\": \"#2a3f5f\"}, \"marker\": {\"line\": {\"color\": \"#E5ECF6\", \"width\": 0.5}}, \"type\": \"bar\"}], \"barpolar\": [{\"marker\": {\"line\": {\"color\": \"#E5ECF6\", \"width\": 0.5}}, \"type\": \"barpolar\"}], \"carpet\": [{\"aaxis\": {\"endlinecolor\": \"#2a3f5f\", \"gridcolor\": \"white\", \"linecolor\": \"white\", \"minorgridcolor\": \"white\", \"startlinecolor\": \"#2a3f5f\"}, \"baxis\": {\"endlinecolor\": \"#2a3f5f\", \"gridcolor\": \"white\", \"linecolor\": \"white\", \"minorgridcolor\": \"white\", \"startlinecolor\": \"#2a3f5f\"}, \"type\": \"carpet\"}], \"choropleth\": [{\"colorbar\": {\"outlinewidth\": 0, \"ticks\": \"\"}, \"type\": \"choropleth\"}], \"contour\": [{\"colorbar\": {\"outlinewidth\": 0, \"ticks\": \"\"}, \"colorscale\": [[0.0, \"#0d0887\"], [0.1111111111111111, \"#46039f\"], [0.2222222222222222, \"#7201a8\"], [0.3333333333333333, \"#9c179e\"], [0.4444444444444444, \"#bd3786\"], [0.5555555555555556, \"#d8576b\"], [0.6666666666666666, \"#ed7953\"], [0.7777777777777778, \"#fb9f3a\"], [0.8888888888888888, \"#fdca26\"], [1.0, \"#f0f921\"]], \"type\": \"contour\"}], \"contourcarpet\": [{\"colorbar\": {\"outlinewidth\": 0, \"ticks\": \"\"}, \"type\": \"contourcarpet\"}], \"heatmap\": [{\"colorbar\": {\"outlinewidth\": 0, \"ticks\": \"\"}, \"colorscale\": [[0.0, \"#0d0887\"], [0.1111111111111111, \"#46039f\"], [0.2222222222222222, \"#7201a8\"], [0.3333333333333333, \"#9c179e\"], [0.4444444444444444, \"#bd3786\"], [0.5555555555555556, \"#d8576b\"], [0.6666666666666666, \"#ed7953\"], [0.7777777777777778, \"#fb9f3a\"], [0.8888888888888888, \"#fdca26\"], [1.0, \"#f0f921\"]], \"type\": \"heatmap\"}], \"heatmapgl\": [{\"colorbar\": {\"outlinewidth\": 0, \"ticks\": \"\"}, \"colorscale\": [[0.0, \"#0d0887\"], [0.1111111111111111, \"#46039f\"], [0.2222222222222222, \"#7201a8\"], [0.3333333333333333, \"#9c179e\"], [0.4444444444444444, \"#bd3786\"], [0.5555555555555556, \"#d8576b\"], [0.6666666666666666, \"#ed7953\"], [0.7777777777777778, \"#fb9f3a\"], [0.8888888888888888, \"#fdca26\"], [1.0, \"#f0f921\"]], \"type\": \"heatmapgl\"}], \"histogram\": [{\"marker\": {\"colorbar\": {\"outlinewidth\": 0, \"ticks\": \"\"}}, \"type\": \"histogram\"}], \"histogram2d\": [{\"colorbar\": {\"outlinewidth\": 0, \"ticks\": \"\"}, \"colorscale\": [[0.0, \"#0d0887\"], [0.1111111111111111, \"#46039f\"], [0.2222222222222222, \"#7201a8\"], [0.3333333333333333, \"#9c179e\"], [0.4444444444444444, \"#bd3786\"], [0.5555555555555556, \"#d8576b\"], [0.6666666666666666, \"#ed7953\"], [0.7777777777777778, \"#fb9f3a\"], [0.8888888888888888, \"#fdca26\"], [1.0, \"#f0f921\"]], \"type\": \"histogram2d\"}], \"histogram2dcontour\": [{\"colorbar\": {\"outlinewidth\": 0, \"ticks\": \"\"}, \"colorscale\": [[0.0, \"#0d0887\"], [0.1111111111111111, \"#46039f\"], [0.2222222222222222, \"#7201a8\"], [0.3333333333333333, \"#9c179e\"], [0.4444444444444444, \"#bd3786\"], [0.5555555555555556, \"#d8576b\"], [0.6666666666666666, \"#ed7953\"], [0.7777777777777778, \"#fb9f3a\"], [0.8888888888888888, \"#fdca26\"], [1.0, \"#f0f921\"]], \"type\": \"histogram2dcontour\"}], \"mesh3d\": [{\"colorbar\": {\"outlinewidth\": 0, \"ticks\": \"\"}, \"type\": \"mesh3d\"}], \"parcoords\": [{\"line\": {\"colorbar\": {\"outlinewidth\": 0, \"ticks\": \"\"}}, \"type\": \"parcoords\"}], \"scatter\": [{\"marker\": {\"colorbar\": {\"outlinewidth\": 0, \"ticks\": \"\"}}, \"type\": \"scatter\"}], \"scatter3d\": [{\"line\": {\"colorbar\": {\"outlinewidth\": 0, \"ticks\": \"\"}}, \"marker\": {\"colorbar\": {\"outlinewidth\": 0, \"ticks\": \"\"}}, \"type\": \"scatter3d\"}], \"scattercarpet\": [{\"marker\": {\"colorbar\": {\"outlinewidth\": 0, \"ticks\": \"\"}}, \"type\": \"scattercarpet\"}], \"scattergeo\": [{\"marker\": {\"colorbar\": {\"outlinewidth\": 0, \"ticks\": \"\"}}, \"type\": \"scattergeo\"}], \"scattergl\": [{\"marker\": {\"colorbar\": {\"outlinewidth\": 0, \"ticks\": \"\"}}, \"type\": \"scattergl\"}], \"scattermapbox\": [{\"marker\": {\"colorbar\": {\"outlinewidth\": 0, \"ticks\": \"\"}}, \"type\": \"scattermapbox\"}], \"scatterpolar\": [{\"marker\": {\"colorbar\": {\"outlinewidth\": 0, \"ticks\": \"\"}}, \"type\": \"scatterpolar\"}], \"scatterpolargl\": [{\"marker\": {\"colorbar\": {\"outlinewidth\": 0, \"ticks\": \"\"}}, \"type\": \"scatterpolargl\"}], \"scatterternary\": [{\"marker\": {\"colorbar\": {\"outlinewidth\": 0, \"ticks\": \"\"}}, \"type\": \"scatterternary\"}], \"surface\": [{\"colorbar\": {\"outlinewidth\": 0, \"ticks\": \"\"}, \"colorscale\": [[0.0, \"#0d0887\"], [0.1111111111111111, \"#46039f\"], [0.2222222222222222, \"#7201a8\"], [0.3333333333333333, \"#9c179e\"], [0.4444444444444444, \"#bd3786\"], [0.5555555555555556, \"#d8576b\"], [0.6666666666666666, \"#ed7953\"], [0.7777777777777778, \"#fb9f3a\"], [0.8888888888888888, \"#fdca26\"], [1.0, \"#f0f921\"]], \"type\": \"surface\"}], \"table\": [{\"cells\": {\"fill\": {\"color\": \"#EBF0F8\"}, \"line\": {\"color\": \"white\"}}, \"header\": {\"fill\": {\"color\": \"#C8D4E3\"}, \"line\": {\"color\": \"white\"}}, \"type\": \"table\"}]}, \"layout\": {\"annotationdefaults\": {\"arrowcolor\": \"#2a3f5f\", \"arrowhead\": 0, \"arrowwidth\": 1}, \"colorscale\": {\"diverging\": [[0, \"#8e0152\"], [0.1, \"#c51b7d\"], [0.2, \"#de77ae\"], [0.3, \"#f1b6da\"], [0.4, \"#fde0ef\"], [0.5, \"#f7f7f7\"], [0.6, \"#e6f5d0\"], [0.7, \"#b8e186\"], [0.8, \"#7fbc41\"], [0.9, \"#4d9221\"], [1, \"#276419\"]], \"sequential\": [[0.0, \"#0d0887\"], [0.1111111111111111, \"#46039f\"], [0.2222222222222222, \"#7201a8\"], [0.3333333333333333, \"#9c179e\"], [0.4444444444444444, \"#bd3786\"], [0.5555555555555556, \"#d8576b\"], [0.6666666666666666, \"#ed7953\"], [0.7777777777777778, \"#fb9f3a\"], [0.8888888888888888, \"#fdca26\"], [1.0, \"#f0f921\"]], \"sequentialminus\": [[0.0, \"#0d0887\"], [0.1111111111111111, \"#46039f\"], [0.2222222222222222, \"#7201a8\"], [0.3333333333333333, \"#9c179e\"], [0.4444444444444444, \"#bd3786\"], [0.5555555555555556, \"#d8576b\"], [0.6666666666666666, \"#ed7953\"], [0.7777777777777778, \"#fb9f3a\"], [0.8888888888888888, \"#fdca26\"], [1.0, \"#f0f921\"]]}, \"colorway\": [\"#636efa\", \"#EF553B\", \"#00cc96\", \"#ab63fa\", \"#FFA15A\", \"#19d3f3\", \"#FF6692\", \"#B6E880\", \"#FF97FF\", \"#FECB52\"], \"font\": {\"color\": \"#2a3f5f\"}, \"geo\": {\"bgcolor\": \"white\", \"lakecolor\": \"white\", \"landcolor\": \"#E5ECF6\", \"showlakes\": true, \"showland\": true, \"subunitcolor\": \"white\"}, \"hoverlabel\": {\"align\": \"left\"}, \"hovermode\": \"closest\", \"mapbox\": {\"style\": \"light\"}, \"paper_bgcolor\": \"white\", \"plot_bgcolor\": \"#E5ECF6\", \"polar\": {\"angularaxis\": {\"gridcolor\": \"white\", \"linecolor\": \"white\", \"ticks\": \"\"}, \"bgcolor\": \"#E5ECF6\", \"radialaxis\": {\"gridcolor\": \"white\", \"linecolor\": \"white\", \"ticks\": \"\"}}, \"scene\": {\"xaxis\": {\"backgroundcolor\": \"#E5ECF6\", \"gridcolor\": \"white\", \"gridwidth\": 2, \"linecolor\": \"white\", \"showbackground\": true, \"ticks\": \"\", \"zerolinecolor\": \"white\"}, \"yaxis\": {\"backgroundcolor\": \"#E5ECF6\", \"gridcolor\": \"white\", \"gridwidth\": 2, \"linecolor\": \"white\", \"showbackground\": true, \"ticks\": \"\", \"zerolinecolor\": \"white\"}, \"zaxis\": {\"backgroundcolor\": \"#E5ECF6\", \"gridcolor\": \"white\", \"gridwidth\": 2, \"linecolor\": \"white\", \"showbackground\": true, \"ticks\": \"\", \"zerolinecolor\": \"white\"}}, \"shapedefaults\": {\"line\": {\"color\": \"#2a3f5f\"}}, \"ternary\": {\"aaxis\": {\"gridcolor\": \"white\", \"linecolor\": \"white\", \"ticks\": \"\"}, \"baxis\": {\"gridcolor\": \"white\", \"linecolor\": \"white\", \"ticks\": \"\"}, \"bgcolor\": \"#E5ECF6\", \"caxis\": {\"gridcolor\": \"white\", \"linecolor\": \"white\", \"ticks\": \"\"}}, \"title\": {\"x\": 0.05}, \"xaxis\": {\"automargin\": true, \"gridcolor\": \"white\", \"linecolor\": \"white\", \"ticks\": \"\", \"zerolinecolor\": \"white\", \"zerolinewidth\": 2}, \"yaxis\": {\"automargin\": true, \"gridcolor\": \"white\", \"linecolor\": \"white\", \"ticks\": \"\", \"zerolinecolor\": \"white\", \"zerolinewidth\": 2}}}, \"title\": {\"text\": \"Price vs Age\"}, \"xaxis\": {\"title\": {\"text\": \"Age\"}}, \"yaxis\": {\"range\": [0, 500000], \"title\": {\"text\": \"Price\"}}},\n",
       "                        {\"responsive\": true}\n",
       "                    ).then(function(){\n",
       "                            \n",
       "var gd = document.getElementById('993eee68-ec5d-47c3-a7b5-c883059028d7');\n",
       "var x = new MutationObserver(function (mutations, observer) {{\n",
       "        var display = window.getComputedStyle(gd).display;\n",
       "        if (!display || display === 'none') {{\n",
       "            console.log([gd, 'removed!']);\n",
       "            Plotly.purge(gd);\n",
       "            observer.disconnect();\n",
       "        }}\n",
       "}});\n",
       "\n",
       "// Listen for the removal of the full notebook cells\n",
       "var notebookContainer = gd.closest('#notebook-container');\n",
       "if (notebookContainer) {{\n",
       "    x.observe(notebookContainer, {childList: true});\n",
       "}}\n",
       "\n",
       "// Listen for the clearing of the current output cell\n",
       "var outputEl = gd.closest('.output');\n",
       "if (outputEl) {{\n",
       "    x.observe(outputEl, {childList: true});\n",
       "}}\n",
       "\n",
       "                        })\n",
       "                };\n",
       "                });\n",
       "            </script>\n",
       "        </div>"
      ]
     },
     "metadata": {},
     "output_type": "display_data"
    }
   ],
   "source": [
    "\n",
    "trace0=go.Scatter(\n",
    "        y=df_new.price,\n",
    "        x=df_new.Age_noise,\n",
    "        mode='markers',\n",
    "        marker=dict(\n",
    "        color=\"blue\",\n",
    "        size=5,\n",
    "        opacity=0.3\n",
    "        ),\n",
    "        name=\"New\"\n",
    "    )\n",
    "\n",
    "\n",
    "\n",
    "trace1=go.Scatter(\n",
    "        y=df_used.price,\n",
    "        x=df_used.Age_noise,\n",
    "        mode='markers',\n",
    "        marker=dict(\n",
    "        color=\"red\",\n",
    "        size=5,\n",
    "        opacity=0.3\n",
    "        ),\n",
    "        name=\"Used\"\n",
    "    )\n",
    "\n",
    "\n",
    "\n",
    "\n",
    "\n",
    "\n",
    "\n",
    "\n",
    "data=[trace0,trace1]\n",
    "figure=go.Figure(\n",
    "    data=data,\n",
    "    layout=go.Layout(\n",
    "        title=\"Price vs Age\",\n",
    "        yaxis=dict(title=\"Price\",range=(0,500000)),\n",
    "        xaxis=dict(title=\"Age\")\n",
    "\n",
    "    \n",
    "    ))\n",
    "iplot(figure)"
   ]
  },
  {
   "cell_type": "markdown",
   "metadata": {},
   "source": [
    "Price is strongly correlated with Mileage and Age. Based on domain knowledge these two features are main determinants of deprecation - let's see if our model shows similar results"
   ]
  },
  {
   "cell_type": "code",
   "execution_count": 33,
   "metadata": {},
   "outputs": [
    {
     "data": {
      "application/vnd.plotly.v1+json": {
       "config": {
        "plotlyServerURL": "https://plot.ly"
       },
       "data": [
        {
         "alignmentgroup": "True",
         "hoverlabel": {
          "namelength": 0
         },
         "hovertemplate": "Mileage=%{x}<br>count=%{y}",
         "legendgroup": "",
         "marker": {
          "color": "#636efa"
         },
         "name": "",
         "offsetgroup": "",
         "orientation": "v",
         "showlegend": false,
         "textposition": "auto",
         "type": "bar",
         "x": [
          25000,
          50000,
          75000,
          100000,
          125000,
          150000,
          175000,
          200000,
          225000,
          250000,
          275000,
          300000,
          325000,
          350000,
          375000
         ],
         "xaxis": "x",
         "y": [
          209,
          101,
          107,
          97,
          83,
          78,
          119,
          119,
          130,
          105,
          88,
          77,
          46,
          31,
          11
         ],
         "yaxis": "y"
        }
       ],
       "layout": {
        "barmode": "relative",
        "height": 600,
        "legend": {
         "tracegroupgap": 0
        },
        "margin": {
         "t": 60
        },
        "template": {
         "data": {
          "bar": [
           {
            "error_x": {
             "color": "#2a3f5f"
            },
            "error_y": {
             "color": "#2a3f5f"
            },
            "marker": {
             "line": {
              "color": "#E5ECF6",
              "width": 0.5
             }
            },
            "type": "bar"
           }
          ],
          "barpolar": [
           {
            "marker": {
             "line": {
              "color": "#E5ECF6",
              "width": 0.5
             }
            },
            "type": "barpolar"
           }
          ],
          "carpet": [
           {
            "aaxis": {
             "endlinecolor": "#2a3f5f",
             "gridcolor": "white",
             "linecolor": "white",
             "minorgridcolor": "white",
             "startlinecolor": "#2a3f5f"
            },
            "baxis": {
             "endlinecolor": "#2a3f5f",
             "gridcolor": "white",
             "linecolor": "white",
             "minorgridcolor": "white",
             "startlinecolor": "#2a3f5f"
            },
            "type": "carpet"
           }
          ],
          "choropleth": [
           {
            "colorbar": {
             "outlinewidth": 0,
             "ticks": ""
            },
            "type": "choropleth"
           }
          ],
          "contour": [
           {
            "colorbar": {
             "outlinewidth": 0,
             "ticks": ""
            },
            "colorscale": [
             [
              0,
              "#0d0887"
             ],
             [
              0.1111111111111111,
              "#46039f"
             ],
             [
              0.2222222222222222,
              "#7201a8"
             ],
             [
              0.3333333333333333,
              "#9c179e"
             ],
             [
              0.4444444444444444,
              "#bd3786"
             ],
             [
              0.5555555555555556,
              "#d8576b"
             ],
             [
              0.6666666666666666,
              "#ed7953"
             ],
             [
              0.7777777777777778,
              "#fb9f3a"
             ],
             [
              0.8888888888888888,
              "#fdca26"
             ],
             [
              1,
              "#f0f921"
             ]
            ],
            "type": "contour"
           }
          ],
          "contourcarpet": [
           {
            "colorbar": {
             "outlinewidth": 0,
             "ticks": ""
            },
            "type": "contourcarpet"
           }
          ],
          "heatmap": [
           {
            "colorbar": {
             "outlinewidth": 0,
             "ticks": ""
            },
            "colorscale": [
             [
              0,
              "#0d0887"
             ],
             [
              0.1111111111111111,
              "#46039f"
             ],
             [
              0.2222222222222222,
              "#7201a8"
             ],
             [
              0.3333333333333333,
              "#9c179e"
             ],
             [
              0.4444444444444444,
              "#bd3786"
             ],
             [
              0.5555555555555556,
              "#d8576b"
             ],
             [
              0.6666666666666666,
              "#ed7953"
             ],
             [
              0.7777777777777778,
              "#fb9f3a"
             ],
             [
              0.8888888888888888,
              "#fdca26"
             ],
             [
              1,
              "#f0f921"
             ]
            ],
            "type": "heatmap"
           }
          ],
          "heatmapgl": [
           {
            "colorbar": {
             "outlinewidth": 0,
             "ticks": ""
            },
            "colorscale": [
             [
              0,
              "#0d0887"
             ],
             [
              0.1111111111111111,
              "#46039f"
             ],
             [
              0.2222222222222222,
              "#7201a8"
             ],
             [
              0.3333333333333333,
              "#9c179e"
             ],
             [
              0.4444444444444444,
              "#bd3786"
             ],
             [
              0.5555555555555556,
              "#d8576b"
             ],
             [
              0.6666666666666666,
              "#ed7953"
             ],
             [
              0.7777777777777778,
              "#fb9f3a"
             ],
             [
              0.8888888888888888,
              "#fdca26"
             ],
             [
              1,
              "#f0f921"
             ]
            ],
            "type": "heatmapgl"
           }
          ],
          "histogram": [
           {
            "marker": {
             "colorbar": {
              "outlinewidth": 0,
              "ticks": ""
             }
            },
            "type": "histogram"
           }
          ],
          "histogram2d": [
           {
            "colorbar": {
             "outlinewidth": 0,
             "ticks": ""
            },
            "colorscale": [
             [
              0,
              "#0d0887"
             ],
             [
              0.1111111111111111,
              "#46039f"
             ],
             [
              0.2222222222222222,
              "#7201a8"
             ],
             [
              0.3333333333333333,
              "#9c179e"
             ],
             [
              0.4444444444444444,
              "#bd3786"
             ],
             [
              0.5555555555555556,
              "#d8576b"
             ],
             [
              0.6666666666666666,
              "#ed7953"
             ],
             [
              0.7777777777777778,
              "#fb9f3a"
             ],
             [
              0.8888888888888888,
              "#fdca26"
             ],
             [
              1,
              "#f0f921"
             ]
            ],
            "type": "histogram2d"
           }
          ],
          "histogram2dcontour": [
           {
            "colorbar": {
             "outlinewidth": 0,
             "ticks": ""
            },
            "colorscale": [
             [
              0,
              "#0d0887"
             ],
             [
              0.1111111111111111,
              "#46039f"
             ],
             [
              0.2222222222222222,
              "#7201a8"
             ],
             [
              0.3333333333333333,
              "#9c179e"
             ],
             [
              0.4444444444444444,
              "#bd3786"
             ],
             [
              0.5555555555555556,
              "#d8576b"
             ],
             [
              0.6666666666666666,
              "#ed7953"
             ],
             [
              0.7777777777777778,
              "#fb9f3a"
             ],
             [
              0.8888888888888888,
              "#fdca26"
             ],
             [
              1,
              "#f0f921"
             ]
            ],
            "type": "histogram2dcontour"
           }
          ],
          "mesh3d": [
           {
            "colorbar": {
             "outlinewidth": 0,
             "ticks": ""
            },
            "type": "mesh3d"
           }
          ],
          "parcoords": [
           {
            "line": {
             "colorbar": {
              "outlinewidth": 0,
              "ticks": ""
             }
            },
            "type": "parcoords"
           }
          ],
          "scatter": [
           {
            "marker": {
             "colorbar": {
              "outlinewidth": 0,
              "ticks": ""
             }
            },
            "type": "scatter"
           }
          ],
          "scatter3d": [
           {
            "line": {
             "colorbar": {
              "outlinewidth": 0,
              "ticks": ""
             }
            },
            "marker": {
             "colorbar": {
              "outlinewidth": 0,
              "ticks": ""
             }
            },
            "type": "scatter3d"
           }
          ],
          "scattercarpet": [
           {
            "marker": {
             "colorbar": {
              "outlinewidth": 0,
              "ticks": ""
             }
            },
            "type": "scattercarpet"
           }
          ],
          "scattergeo": [
           {
            "marker": {
             "colorbar": {
              "outlinewidth": 0,
              "ticks": ""
             }
            },
            "type": "scattergeo"
           }
          ],
          "scattergl": [
           {
            "marker": {
             "colorbar": {
              "outlinewidth": 0,
              "ticks": ""
             }
            },
            "type": "scattergl"
           }
          ],
          "scattermapbox": [
           {
            "marker": {
             "colorbar": {
              "outlinewidth": 0,
              "ticks": ""
             }
            },
            "type": "scattermapbox"
           }
          ],
          "scatterpolar": [
           {
            "marker": {
             "colorbar": {
              "outlinewidth": 0,
              "ticks": ""
             }
            },
            "type": "scatterpolar"
           }
          ],
          "scatterpolargl": [
           {
            "marker": {
             "colorbar": {
              "outlinewidth": 0,
              "ticks": ""
             }
            },
            "type": "scatterpolargl"
           }
          ],
          "scatterternary": [
           {
            "marker": {
             "colorbar": {
              "outlinewidth": 0,
              "ticks": ""
             }
            },
            "type": "scatterternary"
           }
          ],
          "surface": [
           {
            "colorbar": {
             "outlinewidth": 0,
             "ticks": ""
            },
            "colorscale": [
             [
              0,
              "#0d0887"
             ],
             [
              0.1111111111111111,
              "#46039f"
             ],
             [
              0.2222222222222222,
              "#7201a8"
             ],
             [
              0.3333333333333333,
              "#9c179e"
             ],
             [
              0.4444444444444444,
              "#bd3786"
             ],
             [
              0.5555555555555556,
              "#d8576b"
             ],
             [
              0.6666666666666666,
              "#ed7953"
             ],
             [
              0.7777777777777778,
              "#fb9f3a"
             ],
             [
              0.8888888888888888,
              "#fdca26"
             ],
             [
              1,
              "#f0f921"
             ]
            ],
            "type": "surface"
           }
          ],
          "table": [
           {
            "cells": {
             "fill": {
              "color": "#EBF0F8"
             },
             "line": {
              "color": "white"
             }
            },
            "header": {
             "fill": {
              "color": "#C8D4E3"
             },
             "line": {
              "color": "white"
             }
            },
            "type": "table"
           }
          ]
         },
         "layout": {
          "annotationdefaults": {
           "arrowcolor": "#2a3f5f",
           "arrowhead": 0,
           "arrowwidth": 1
          },
          "colorscale": {
           "diverging": [
            [
             0,
             "#8e0152"
            ],
            [
             0.1,
             "#c51b7d"
            ],
            [
             0.2,
             "#de77ae"
            ],
            [
             0.3,
             "#f1b6da"
            ],
            [
             0.4,
             "#fde0ef"
            ],
            [
             0.5,
             "#f7f7f7"
            ],
            [
             0.6,
             "#e6f5d0"
            ],
            [
             0.7,
             "#b8e186"
            ],
            [
             0.8,
             "#7fbc41"
            ],
            [
             0.9,
             "#4d9221"
            ],
            [
             1,
             "#276419"
            ]
           ],
           "sequential": [
            [
             0,
             "#0d0887"
            ],
            [
             0.1111111111111111,
             "#46039f"
            ],
            [
             0.2222222222222222,
             "#7201a8"
            ],
            [
             0.3333333333333333,
             "#9c179e"
            ],
            [
             0.4444444444444444,
             "#bd3786"
            ],
            [
             0.5555555555555556,
             "#d8576b"
            ],
            [
             0.6666666666666666,
             "#ed7953"
            ],
            [
             0.7777777777777778,
             "#fb9f3a"
            ],
            [
             0.8888888888888888,
             "#fdca26"
            ],
            [
             1,
             "#f0f921"
            ]
           ],
           "sequentialminus": [
            [
             0,
             "#0d0887"
            ],
            [
             0.1111111111111111,
             "#46039f"
            ],
            [
             0.2222222222222222,
             "#7201a8"
            ],
            [
             0.3333333333333333,
             "#9c179e"
            ],
            [
             0.4444444444444444,
             "#bd3786"
            ],
            [
             0.5555555555555556,
             "#d8576b"
            ],
            [
             0.6666666666666666,
             "#ed7953"
            ],
            [
             0.7777777777777778,
             "#fb9f3a"
            ],
            [
             0.8888888888888888,
             "#fdca26"
            ],
            [
             1,
             "#f0f921"
            ]
           ]
          },
          "colorway": [
           "#636efa",
           "#EF553B",
           "#00cc96",
           "#ab63fa",
           "#FFA15A",
           "#19d3f3",
           "#FF6692",
           "#B6E880",
           "#FF97FF",
           "#FECB52"
          ],
          "font": {
           "color": "#2a3f5f"
          },
          "geo": {
           "bgcolor": "white",
           "lakecolor": "white",
           "landcolor": "#E5ECF6",
           "showlakes": true,
           "showland": true,
           "subunitcolor": "white"
          },
          "hoverlabel": {
           "align": "left"
          },
          "hovermode": "closest",
          "mapbox": {
           "style": "light"
          },
          "paper_bgcolor": "white",
          "plot_bgcolor": "#E5ECF6",
          "polar": {
           "angularaxis": {
            "gridcolor": "white",
            "linecolor": "white",
            "ticks": ""
           },
           "bgcolor": "#E5ECF6",
           "radialaxis": {
            "gridcolor": "white",
            "linecolor": "white",
            "ticks": ""
           }
          },
          "scene": {
           "xaxis": {
            "backgroundcolor": "#E5ECF6",
            "gridcolor": "white",
            "gridwidth": 2,
            "linecolor": "white",
            "showbackground": true,
            "ticks": "",
            "zerolinecolor": "white"
           },
           "yaxis": {
            "backgroundcolor": "#E5ECF6",
            "gridcolor": "white",
            "gridwidth": 2,
            "linecolor": "white",
            "showbackground": true,
            "ticks": "",
            "zerolinecolor": "white"
           },
           "zaxis": {
            "backgroundcolor": "#E5ECF6",
            "gridcolor": "white",
            "gridwidth": 2,
            "linecolor": "white",
            "showbackground": true,
            "ticks": "",
            "zerolinecolor": "white"
           }
          },
          "shapedefaults": {
           "line": {
            "color": "#2a3f5f"
           }
          },
          "ternary": {
           "aaxis": {
            "gridcolor": "white",
            "linecolor": "white",
            "ticks": ""
           },
           "baxis": {
            "gridcolor": "white",
            "linecolor": "white",
            "ticks": ""
           },
           "bgcolor": "#E5ECF6",
           "caxis": {
            "gridcolor": "white",
            "linecolor": "white",
            "ticks": ""
           }
          },
          "title": {
           "x": 0.05
          },
          "xaxis": {
           "automargin": true,
           "gridcolor": "white",
           "linecolor": "white",
           "ticks": "",
           "zerolinecolor": "white",
           "zerolinewidth": 2
          },
          "yaxis": {
           "automargin": true,
           "gridcolor": "white",
           "linecolor": "white",
           "ticks": "",
           "zerolinecolor": "white",
           "zerolinewidth": 2
          }
         }
        },
        "xaxis": {
         "anchor": "y",
         "domain": [
          0,
          0.98
         ],
         "title": {
          "text": "Mileage"
         }
        },
        "yaxis": {
         "anchor": "x",
         "domain": [
          0,
          1
         ],
         "title": {
          "text": "count"
         }
        }
       }
      },
      "text/html": [
       "<div>\n",
       "        \n",
       "        \n",
       "            <div id=\"59b87e8e-4fe6-4885-a717-187cbf86d493\" class=\"plotly-graph-div\" style=\"height:600px; width:100%;\"></div>\n",
       "            <script type=\"text/javascript\">\n",
       "                require([\"plotly\"], function(Plotly) {\n",
       "                    window.PLOTLYENV=window.PLOTLYENV || {};\n",
       "                    \n",
       "                if (document.getElementById(\"59b87e8e-4fe6-4885-a717-187cbf86d493\")) {\n",
       "                    Plotly.newPlot(\n",
       "                        '59b87e8e-4fe6-4885-a717-187cbf86d493',\n",
       "                        [{\"alignmentgroup\": \"True\", \"hoverlabel\": {\"namelength\": 0}, \"hovertemplate\": \"Mileage=%{x}<br>count=%{y}\", \"legendgroup\": \"\", \"marker\": {\"color\": \"#636efa\"}, \"name\": \"\", \"offsetgroup\": \"\", \"orientation\": \"v\", \"showlegend\": false, \"textposition\": \"auto\", \"type\": \"bar\", \"x\": [25000, 50000, 75000, 100000, 125000, 150000, 175000, 200000, 225000, 250000, 275000, 300000, 325000, 350000, 375000], \"xaxis\": \"x\", \"y\": [209, 101, 107, 97, 83, 78, 119, 119, 130, 105, 88, 77, 46, 31, 11], \"yaxis\": \"y\"}],\n",
       "                        {\"barmode\": \"relative\", \"height\": 600, \"legend\": {\"tracegroupgap\": 0}, \"margin\": {\"t\": 60}, \"template\": {\"data\": {\"bar\": [{\"error_x\": {\"color\": \"#2a3f5f\"}, \"error_y\": {\"color\": \"#2a3f5f\"}, \"marker\": {\"line\": {\"color\": \"#E5ECF6\", \"width\": 0.5}}, \"type\": \"bar\"}], \"barpolar\": [{\"marker\": {\"line\": {\"color\": \"#E5ECF6\", \"width\": 0.5}}, \"type\": \"barpolar\"}], \"carpet\": [{\"aaxis\": {\"endlinecolor\": \"#2a3f5f\", \"gridcolor\": \"white\", \"linecolor\": \"white\", \"minorgridcolor\": \"white\", \"startlinecolor\": \"#2a3f5f\"}, \"baxis\": {\"endlinecolor\": \"#2a3f5f\", \"gridcolor\": \"white\", \"linecolor\": \"white\", \"minorgridcolor\": \"white\", \"startlinecolor\": \"#2a3f5f\"}, \"type\": \"carpet\"}], \"choropleth\": [{\"colorbar\": {\"outlinewidth\": 0, \"ticks\": \"\"}, \"type\": \"choropleth\"}], \"contour\": [{\"colorbar\": {\"outlinewidth\": 0, \"ticks\": \"\"}, \"colorscale\": [[0.0, \"#0d0887\"], [0.1111111111111111, \"#46039f\"], [0.2222222222222222, \"#7201a8\"], [0.3333333333333333, \"#9c179e\"], [0.4444444444444444, \"#bd3786\"], [0.5555555555555556, \"#d8576b\"], [0.6666666666666666, \"#ed7953\"], [0.7777777777777778, \"#fb9f3a\"], [0.8888888888888888, \"#fdca26\"], [1.0, \"#f0f921\"]], \"type\": \"contour\"}], \"contourcarpet\": [{\"colorbar\": {\"outlinewidth\": 0, \"ticks\": \"\"}, \"type\": \"contourcarpet\"}], \"heatmap\": [{\"colorbar\": {\"outlinewidth\": 0, \"ticks\": \"\"}, \"colorscale\": [[0.0, \"#0d0887\"], [0.1111111111111111, \"#46039f\"], [0.2222222222222222, \"#7201a8\"], [0.3333333333333333, \"#9c179e\"], [0.4444444444444444, \"#bd3786\"], [0.5555555555555556, \"#d8576b\"], [0.6666666666666666, \"#ed7953\"], [0.7777777777777778, \"#fb9f3a\"], [0.8888888888888888, \"#fdca26\"], [1.0, \"#f0f921\"]], \"type\": \"heatmap\"}], \"heatmapgl\": [{\"colorbar\": {\"outlinewidth\": 0, \"ticks\": \"\"}, \"colorscale\": [[0.0, \"#0d0887\"], [0.1111111111111111, \"#46039f\"], [0.2222222222222222, \"#7201a8\"], [0.3333333333333333, \"#9c179e\"], [0.4444444444444444, \"#bd3786\"], [0.5555555555555556, \"#d8576b\"], [0.6666666666666666, \"#ed7953\"], [0.7777777777777778, \"#fb9f3a\"], [0.8888888888888888, \"#fdca26\"], [1.0, \"#f0f921\"]], \"type\": \"heatmapgl\"}], \"histogram\": [{\"marker\": {\"colorbar\": {\"outlinewidth\": 0, \"ticks\": \"\"}}, \"type\": \"histogram\"}], \"histogram2d\": [{\"colorbar\": {\"outlinewidth\": 0, \"ticks\": \"\"}, \"colorscale\": [[0.0, \"#0d0887\"], [0.1111111111111111, \"#46039f\"], [0.2222222222222222, \"#7201a8\"], [0.3333333333333333, \"#9c179e\"], [0.4444444444444444, \"#bd3786\"], [0.5555555555555556, \"#d8576b\"], [0.6666666666666666, \"#ed7953\"], [0.7777777777777778, \"#fb9f3a\"], [0.8888888888888888, \"#fdca26\"], [1.0, \"#f0f921\"]], \"type\": \"histogram2d\"}], \"histogram2dcontour\": [{\"colorbar\": {\"outlinewidth\": 0, \"ticks\": \"\"}, \"colorscale\": [[0.0, \"#0d0887\"], [0.1111111111111111, \"#46039f\"], [0.2222222222222222, \"#7201a8\"], [0.3333333333333333, \"#9c179e\"], [0.4444444444444444, \"#bd3786\"], [0.5555555555555556, \"#d8576b\"], [0.6666666666666666, \"#ed7953\"], [0.7777777777777778, \"#fb9f3a\"], [0.8888888888888888, \"#fdca26\"], [1.0, \"#f0f921\"]], \"type\": \"histogram2dcontour\"}], \"mesh3d\": [{\"colorbar\": {\"outlinewidth\": 0, \"ticks\": \"\"}, \"type\": \"mesh3d\"}], \"parcoords\": [{\"line\": {\"colorbar\": {\"outlinewidth\": 0, \"ticks\": \"\"}}, \"type\": \"parcoords\"}], \"scatter\": [{\"marker\": {\"colorbar\": {\"outlinewidth\": 0, \"ticks\": \"\"}}, \"type\": \"scatter\"}], \"scatter3d\": [{\"line\": {\"colorbar\": {\"outlinewidth\": 0, \"ticks\": \"\"}}, \"marker\": {\"colorbar\": {\"outlinewidth\": 0, \"ticks\": \"\"}}, \"type\": \"scatter3d\"}], \"scattercarpet\": [{\"marker\": {\"colorbar\": {\"outlinewidth\": 0, \"ticks\": \"\"}}, \"type\": \"scattercarpet\"}], \"scattergeo\": [{\"marker\": {\"colorbar\": {\"outlinewidth\": 0, \"ticks\": \"\"}}, \"type\": \"scattergeo\"}], \"scattergl\": [{\"marker\": {\"colorbar\": {\"outlinewidth\": 0, \"ticks\": \"\"}}, \"type\": \"scattergl\"}], \"scattermapbox\": [{\"marker\": {\"colorbar\": {\"outlinewidth\": 0, \"ticks\": \"\"}}, \"type\": \"scattermapbox\"}], \"scatterpolar\": [{\"marker\": {\"colorbar\": {\"outlinewidth\": 0, \"ticks\": \"\"}}, \"type\": \"scatterpolar\"}], \"scatterpolargl\": [{\"marker\": {\"colorbar\": {\"outlinewidth\": 0, \"ticks\": \"\"}}, \"type\": \"scatterpolargl\"}], \"scatterternary\": [{\"marker\": {\"colorbar\": {\"outlinewidth\": 0, \"ticks\": \"\"}}, \"type\": \"scatterternary\"}], \"surface\": [{\"colorbar\": {\"outlinewidth\": 0, \"ticks\": \"\"}, \"colorscale\": [[0.0, \"#0d0887\"], [0.1111111111111111, \"#46039f\"], [0.2222222222222222, \"#7201a8\"], [0.3333333333333333, \"#9c179e\"], [0.4444444444444444, \"#bd3786\"], [0.5555555555555556, \"#d8576b\"], [0.6666666666666666, \"#ed7953\"], [0.7777777777777778, \"#fb9f3a\"], [0.8888888888888888, \"#fdca26\"], [1.0, \"#f0f921\"]], \"type\": \"surface\"}], \"table\": [{\"cells\": {\"fill\": {\"color\": \"#EBF0F8\"}, \"line\": {\"color\": \"white\"}}, \"header\": {\"fill\": {\"color\": \"#C8D4E3\"}, \"line\": {\"color\": \"white\"}}, \"type\": \"table\"}]}, \"layout\": {\"annotationdefaults\": {\"arrowcolor\": \"#2a3f5f\", \"arrowhead\": 0, \"arrowwidth\": 1}, \"colorscale\": {\"diverging\": [[0, \"#8e0152\"], [0.1, \"#c51b7d\"], [0.2, \"#de77ae\"], [0.3, \"#f1b6da\"], [0.4, \"#fde0ef\"], [0.5, \"#f7f7f7\"], [0.6, \"#e6f5d0\"], [0.7, \"#b8e186\"], [0.8, \"#7fbc41\"], [0.9, \"#4d9221\"], [1, \"#276419\"]], \"sequential\": [[0.0, \"#0d0887\"], [0.1111111111111111, \"#46039f\"], [0.2222222222222222, \"#7201a8\"], [0.3333333333333333, \"#9c179e\"], [0.4444444444444444, \"#bd3786\"], [0.5555555555555556, \"#d8576b\"], [0.6666666666666666, \"#ed7953\"], [0.7777777777777778, \"#fb9f3a\"], [0.8888888888888888, \"#fdca26\"], [1.0, \"#f0f921\"]], \"sequentialminus\": [[0.0, \"#0d0887\"], [0.1111111111111111, \"#46039f\"], [0.2222222222222222, \"#7201a8\"], [0.3333333333333333, \"#9c179e\"], [0.4444444444444444, \"#bd3786\"], [0.5555555555555556, \"#d8576b\"], [0.6666666666666666, \"#ed7953\"], [0.7777777777777778, \"#fb9f3a\"], [0.8888888888888888, \"#fdca26\"], [1.0, \"#f0f921\"]]}, \"colorway\": [\"#636efa\", \"#EF553B\", \"#00cc96\", \"#ab63fa\", \"#FFA15A\", \"#19d3f3\", \"#FF6692\", \"#B6E880\", \"#FF97FF\", \"#FECB52\"], \"font\": {\"color\": \"#2a3f5f\"}, \"geo\": {\"bgcolor\": \"white\", \"lakecolor\": \"white\", \"landcolor\": \"#E5ECF6\", \"showlakes\": true, \"showland\": true, \"subunitcolor\": \"white\"}, \"hoverlabel\": {\"align\": \"left\"}, \"hovermode\": \"closest\", \"mapbox\": {\"style\": \"light\"}, \"paper_bgcolor\": \"white\", \"plot_bgcolor\": \"#E5ECF6\", \"polar\": {\"angularaxis\": {\"gridcolor\": \"white\", \"linecolor\": \"white\", \"ticks\": \"\"}, \"bgcolor\": \"#E5ECF6\", \"radialaxis\": {\"gridcolor\": \"white\", \"linecolor\": \"white\", \"ticks\": \"\"}}, \"scene\": {\"xaxis\": {\"backgroundcolor\": \"#E5ECF6\", \"gridcolor\": \"white\", \"gridwidth\": 2, \"linecolor\": \"white\", \"showbackground\": true, \"ticks\": \"\", \"zerolinecolor\": \"white\"}, \"yaxis\": {\"backgroundcolor\": \"#E5ECF6\", \"gridcolor\": \"white\", \"gridwidth\": 2, \"linecolor\": \"white\", \"showbackground\": true, \"ticks\": \"\", \"zerolinecolor\": \"white\"}, \"zaxis\": {\"backgroundcolor\": \"#E5ECF6\", \"gridcolor\": \"white\", \"gridwidth\": 2, \"linecolor\": \"white\", \"showbackground\": true, \"ticks\": \"\", \"zerolinecolor\": \"white\"}}, \"shapedefaults\": {\"line\": {\"color\": \"#2a3f5f\"}}, \"ternary\": {\"aaxis\": {\"gridcolor\": \"white\", \"linecolor\": \"white\", \"ticks\": \"\"}, \"baxis\": {\"gridcolor\": \"white\", \"linecolor\": \"white\", \"ticks\": \"\"}, \"bgcolor\": \"#E5ECF6\", \"caxis\": {\"gridcolor\": \"white\", \"linecolor\": \"white\", \"ticks\": \"\"}}, \"title\": {\"x\": 0.05}, \"xaxis\": {\"automargin\": true, \"gridcolor\": \"white\", \"linecolor\": \"white\", \"ticks\": \"\", \"zerolinecolor\": \"white\", \"zerolinewidth\": 2}, \"yaxis\": {\"automargin\": true, \"gridcolor\": \"white\", \"linecolor\": \"white\", \"ticks\": \"\", \"zerolinecolor\": \"white\", \"zerolinewidth\": 2}}}, \"xaxis\": {\"anchor\": \"y\", \"domain\": [0.0, 0.98], \"title\": {\"text\": \"Mileage\"}}, \"yaxis\": {\"anchor\": \"x\", \"domain\": [0.0, 1.0], \"title\": {\"text\": \"count\"}}},\n",
       "                        {\"responsive\": true}\n",
       "                    ).then(function(){\n",
       "                            \n",
       "var gd = document.getElementById('59b87e8e-4fe6-4885-a717-187cbf86d493');\n",
       "var x = new MutationObserver(function (mutations, observer) {{\n",
       "        var display = window.getComputedStyle(gd).display;\n",
       "        if (!display || display === 'none') {{\n",
       "            console.log([gd, 'removed!']);\n",
       "            Plotly.purge(gd);\n",
       "            observer.disconnect();\n",
       "        }}\n",
       "}});\n",
       "\n",
       "// Listen for the removal of the full notebook cells\n",
       "var notebookContainer = gd.closest('#notebook-container');\n",
       "if (notebookContainer) {{\n",
       "    x.observe(notebookContainer, {childList: true});\n",
       "}}\n",
       "\n",
       "// Listen for the clearing of the current output cell\n",
       "var outputEl = gd.closest('.output');\n",
       "if (outputEl) {{\n",
       "    x.observe(outputEl, {childList: true});\n",
       "}}\n",
       "\n",
       "                        })\n",
       "                };\n",
       "                });\n",
       "            </script>\n",
       "        </div>"
      ]
     },
     "metadata": {},
     "output_type": "display_data"
    }
   ],
   "source": [
    "counts, bins = np.histogram(df_used.Mileage, bins=range(0, 400000, 25000))\n",
    "bins = bins[1:]\n",
    "\n",
    "fig = px.bar(x=bins, y=counts, labels={'x':'Mileage', 'y':'count'})\n",
    "fig.show()"
   ]
  },
  {
   "cell_type": "markdown",
   "metadata": {},
   "source": [
    "## What models do we have?"
   ]
  },
  {
   "cell_type": "code",
   "execution_count": 34,
   "metadata": {},
   "outputs": [
    {
     "data": {
      "text/html": [
       "<div>\n",
       "<style scoped>\n",
       "    .dataframe tbody tr th:only-of-type {\n",
       "        vertical-align: middle;\n",
       "    }\n",
       "\n",
       "    .dataframe tbody tr th {\n",
       "        vertical-align: top;\n",
       "    }\n",
       "\n",
       "    .dataframe thead th {\n",
       "        text-align: right;\n",
       "    }\n",
       "</style>\n",
       "<table border=\"1\" class=\"dataframe\">\n",
       "  <thead>\n",
       "    <tr style=\"text-align: right;\">\n",
       "      <th></th>\n",
       "      <th>model</th>\n",
       "      <th>model_sample</th>\n",
       "    </tr>\n",
       "  </thead>\n",
       "  <tbody>\n",
       "    <tr>\n",
       "      <th>0</th>\n",
       "      <td>Seria 3</td>\n",
       "      <td>390</td>\n",
       "    </tr>\n",
       "    <tr>\n",
       "      <th>1</th>\n",
       "      <td>Seria 5</td>\n",
       "      <td>363</td>\n",
       "    </tr>\n",
       "    <tr>\n",
       "      <th>2</th>\n",
       "      <td>X3</td>\n",
       "      <td>166</td>\n",
       "    </tr>\n",
       "    <tr>\n",
       "      <th>3</th>\n",
       "      <td>Seria 1</td>\n",
       "      <td>143</td>\n",
       "    </tr>\n",
       "    <tr>\n",
       "      <th>4</th>\n",
       "      <td>X5</td>\n",
       "      <td>108</td>\n",
       "    </tr>\n",
       "    <tr>\n",
       "      <th>5</th>\n",
       "      <td>Seria 7</td>\n",
       "      <td>77</td>\n",
       "    </tr>\n",
       "    <tr>\n",
       "      <th>6</th>\n",
       "      <td>X1</td>\n",
       "      <td>77</td>\n",
       "    </tr>\n",
       "    <tr>\n",
       "      <th>7</th>\n",
       "      <td>X4</td>\n",
       "      <td>43</td>\n",
       "    </tr>\n",
       "    <tr>\n",
       "      <th>8</th>\n",
       "      <td>X6</td>\n",
       "      <td>43</td>\n",
       "    </tr>\n",
       "    <tr>\n",
       "      <th>9</th>\n",
       "      <td>Seria 4</td>\n",
       "      <td>38</td>\n",
       "    </tr>\n",
       "    <tr>\n",
       "      <th>10</th>\n",
       "      <td>Seria 2</td>\n",
       "      <td>32</td>\n",
       "    </tr>\n",
       "    <tr>\n",
       "      <th>11</th>\n",
       "      <td>i3</td>\n",
       "      <td>18</td>\n",
       "    </tr>\n",
       "    <tr>\n",
       "      <th>12</th>\n",
       "      <td>Seria 6</td>\n",
       "      <td>17</td>\n",
       "    </tr>\n",
       "    <tr>\n",
       "      <th>13</th>\n",
       "      <td>M2</td>\n",
       "      <td>16</td>\n",
       "    </tr>\n",
       "    <tr>\n",
       "      <th>14</th>\n",
       "      <td>5GT</td>\n",
       "      <td>15</td>\n",
       "    </tr>\n",
       "    <tr>\n",
       "      <th>15</th>\n",
       "      <td>X5 M</td>\n",
       "      <td>13</td>\n",
       "    </tr>\n",
       "    <tr>\n",
       "      <th>16</th>\n",
       "      <td>X2</td>\n",
       "      <td>13</td>\n",
       "    </tr>\n",
       "    <tr>\n",
       "      <th>17</th>\n",
       "      <td>M5</td>\n",
       "      <td>13</td>\n",
       "    </tr>\n",
       "    <tr>\n",
       "      <th>18</th>\n",
       "      <td>3GT</td>\n",
       "      <td>11</td>\n",
       "    </tr>\n",
       "    <tr>\n",
       "      <th>19</th>\n",
       "      <td>Seria 8</td>\n",
       "      <td>10</td>\n",
       "    </tr>\n",
       "    <tr>\n",
       "      <th>20</th>\n",
       "      <td>M3</td>\n",
       "      <td>9</td>\n",
       "    </tr>\n",
       "    <tr>\n",
       "      <th>21</th>\n",
       "      <td>Z4</td>\n",
       "      <td>9</td>\n",
       "    </tr>\n",
       "    <tr>\n",
       "      <th>22</th>\n",
       "      <td>X6 M</td>\n",
       "      <td>5</td>\n",
       "    </tr>\n",
       "    <tr>\n",
       "      <th>23</th>\n",
       "      <td>M4</td>\n",
       "      <td>5</td>\n",
       "    </tr>\n",
       "    <tr>\n",
       "      <th>24</th>\n",
       "      <td>Pozostałe</td>\n",
       "      <td>4</td>\n",
       "    </tr>\n",
       "    <tr>\n",
       "      <th>25</th>\n",
       "      <td>6GT</td>\n",
       "      <td>3</td>\n",
       "    </tr>\n",
       "    <tr>\n",
       "      <th>26</th>\n",
       "      <td>M6</td>\n",
       "      <td>2</td>\n",
       "    </tr>\n",
       "    <tr>\n",
       "      <th>27</th>\n",
       "      <td>X7</td>\n",
       "      <td>2</td>\n",
       "    </tr>\n",
       "    <tr>\n",
       "      <th>28</th>\n",
       "      <td>Z3</td>\n",
       "      <td>1</td>\n",
       "    </tr>\n",
       "    <tr>\n",
       "      <th>29</th>\n",
       "      <td>i8</td>\n",
       "      <td>1</td>\n",
       "    </tr>\n",
       "  </tbody>\n",
       "</table>\n",
       "</div>"
      ],
      "text/plain": [
       "        model  model_sample\n",
       "0     Seria 3           390\n",
       "1     Seria 5           363\n",
       "2          X3           166\n",
       "3     Seria 1           143\n",
       "4          X5           108\n",
       "5     Seria 7            77\n",
       "6          X1            77\n",
       "7          X4            43\n",
       "8          X6            43\n",
       "9     Seria 4            38\n",
       "10    Seria 2            32\n",
       "11         i3            18\n",
       "12    Seria 6            17\n",
       "13         M2            16\n",
       "14        5GT            15\n",
       "15       X5 M            13\n",
       "16         X2            13\n",
       "17         M5            13\n",
       "18        3GT            11\n",
       "19    Seria 8            10\n",
       "20         M3             9\n",
       "21         Z4             9\n",
       "22       X6 M             5\n",
       "23         M4             5\n",
       "24  Pozostałe             4\n",
       "25        6GT             3\n",
       "26         M6             2\n",
       "27         X7             2\n",
       "28         Z3             1\n",
       "29         i8             1"
      ]
     },
     "execution_count": 34,
     "metadata": {},
     "output_type": "execute_result"
    }
   ],
   "source": [
    "df_model=df.groupby([\"model\"]).offerID.count().sort_values(ascending=False).reset_index()\n",
    "df_model.rename(columns={\"offerID\":\"model_sample\"},inplace=True)\n",
    "df_model"
   ]
  },
  {
   "cell_type": "markdown",
   "metadata": {},
   "source": [
    "Majority of samples fall within top 5 models, let's group all other models with sample size below 100 to \"Other\" category. "
   ]
  },
  {
   "cell_type": "code",
   "execution_count": 35,
   "metadata": {},
   "outputs": [],
   "source": [
    "df_joined=pd.merge(df,df_model,left_on=\"model\", right_on=\"model\")"
   ]
  },
  {
   "cell_type": "code",
   "execution_count": 36,
   "metadata": {},
   "outputs": [
    {
     "data": {
      "text/plain": [
       "Index(['offerID', 'OEM', 'model', 'serie', 'Production_year', 'price',\n",
       "       'Mileage', 'Fuel', 'Power', 'Body', 'Invoice', 'Steering_wheel_config',\n",
       "       'Air_con', 'Colour', 'Country', 'Doors', 'Seats', 'Drive', 'VIN',\n",
       "       'Origin', 'Engine_cap', 'Transmission', 'Condition', 'download_date',\n",
       "       'title', 'Mileage_UOM', 'Power_UOM', 'Engine_cap_UOM', 'Age',\n",
       "       'Age_noise', 'model_sample'],\n",
       "      dtype='object')"
      ]
     },
     "execution_count": 36,
     "metadata": {},
     "output_type": "execute_result"
    }
   ],
   "source": [
    "df_joined.columns"
   ]
  },
  {
   "cell_type": "code",
   "execution_count": 37,
   "metadata": {},
   "outputs": [],
   "source": [
    "df_joined[\"model_2\"]=np.where(df_joined.model_sample>=100,df_joined.model, \"other\")\n",
    "df=df_joined.copy()\n"
   ]
  },
  {
   "cell_type": "code",
   "execution_count": 38,
   "metadata": {},
   "outputs": [],
   "source": [
    "df_model=df.groupby([\"model_2\",\"Condition\"]).offerID.count().sort_values(ascending=False).reset_index()\n",
    "df_model.rename(columns={\"offerID\":\"model_sample\"},inplace=True)\n"
   ]
  },
  {
   "cell_type": "code",
   "execution_count": 39,
   "metadata": {},
   "outputs": [
    {
     "data": {
      "application/vnd.plotly.v1+json": {
       "config": {
        "plotlyServerURL": "https://plot.ly"
       },
       "data": [
        {
         "name": "Used",
         "type": "bar",
         "x": [
          "other",
          "Seria 3",
          "Seria 5",
          "Seria 1",
          "X3",
          "X5"
         ],
         "y": [
          383,
          368,
          334,
          129,
          110,
          101
         ]
        },
        {
         "name": "New",
         "type": "bar",
         "x": [
          "other",
          "X3",
          "Seria 5",
          "Seria 3",
          "Seria 1",
          "X5"
         ],
         "y": [
          94,
          56,
          29,
          22,
          14,
          7
         ]
        }
       ],
       "layout": {
        "barmode": "stack",
        "template": {
         "data": {
          "bar": [
           {
            "error_x": {
             "color": "#2a3f5f"
            },
            "error_y": {
             "color": "#2a3f5f"
            },
            "marker": {
             "line": {
              "color": "#E5ECF6",
              "width": 0.5
             }
            },
            "type": "bar"
           }
          ],
          "barpolar": [
           {
            "marker": {
             "line": {
              "color": "#E5ECF6",
              "width": 0.5
             }
            },
            "type": "barpolar"
           }
          ],
          "carpet": [
           {
            "aaxis": {
             "endlinecolor": "#2a3f5f",
             "gridcolor": "white",
             "linecolor": "white",
             "minorgridcolor": "white",
             "startlinecolor": "#2a3f5f"
            },
            "baxis": {
             "endlinecolor": "#2a3f5f",
             "gridcolor": "white",
             "linecolor": "white",
             "minorgridcolor": "white",
             "startlinecolor": "#2a3f5f"
            },
            "type": "carpet"
           }
          ],
          "choropleth": [
           {
            "colorbar": {
             "outlinewidth": 0,
             "ticks": ""
            },
            "type": "choropleth"
           }
          ],
          "contour": [
           {
            "colorbar": {
             "outlinewidth": 0,
             "ticks": ""
            },
            "colorscale": [
             [
              0,
              "#0d0887"
             ],
             [
              0.1111111111111111,
              "#46039f"
             ],
             [
              0.2222222222222222,
              "#7201a8"
             ],
             [
              0.3333333333333333,
              "#9c179e"
             ],
             [
              0.4444444444444444,
              "#bd3786"
             ],
             [
              0.5555555555555556,
              "#d8576b"
             ],
             [
              0.6666666666666666,
              "#ed7953"
             ],
             [
              0.7777777777777778,
              "#fb9f3a"
             ],
             [
              0.8888888888888888,
              "#fdca26"
             ],
             [
              1,
              "#f0f921"
             ]
            ],
            "type": "contour"
           }
          ],
          "contourcarpet": [
           {
            "colorbar": {
             "outlinewidth": 0,
             "ticks": ""
            },
            "type": "contourcarpet"
           }
          ],
          "heatmap": [
           {
            "colorbar": {
             "outlinewidth": 0,
             "ticks": ""
            },
            "colorscale": [
             [
              0,
              "#0d0887"
             ],
             [
              0.1111111111111111,
              "#46039f"
             ],
             [
              0.2222222222222222,
              "#7201a8"
             ],
             [
              0.3333333333333333,
              "#9c179e"
             ],
             [
              0.4444444444444444,
              "#bd3786"
             ],
             [
              0.5555555555555556,
              "#d8576b"
             ],
             [
              0.6666666666666666,
              "#ed7953"
             ],
             [
              0.7777777777777778,
              "#fb9f3a"
             ],
             [
              0.8888888888888888,
              "#fdca26"
             ],
             [
              1,
              "#f0f921"
             ]
            ],
            "type": "heatmap"
           }
          ],
          "heatmapgl": [
           {
            "colorbar": {
             "outlinewidth": 0,
             "ticks": ""
            },
            "colorscale": [
             [
              0,
              "#0d0887"
             ],
             [
              0.1111111111111111,
              "#46039f"
             ],
             [
              0.2222222222222222,
              "#7201a8"
             ],
             [
              0.3333333333333333,
              "#9c179e"
             ],
             [
              0.4444444444444444,
              "#bd3786"
             ],
             [
              0.5555555555555556,
              "#d8576b"
             ],
             [
              0.6666666666666666,
              "#ed7953"
             ],
             [
              0.7777777777777778,
              "#fb9f3a"
             ],
             [
              0.8888888888888888,
              "#fdca26"
             ],
             [
              1,
              "#f0f921"
             ]
            ],
            "type": "heatmapgl"
           }
          ],
          "histogram": [
           {
            "marker": {
             "colorbar": {
              "outlinewidth": 0,
              "ticks": ""
             }
            },
            "type": "histogram"
           }
          ],
          "histogram2d": [
           {
            "colorbar": {
             "outlinewidth": 0,
             "ticks": ""
            },
            "colorscale": [
             [
              0,
              "#0d0887"
             ],
             [
              0.1111111111111111,
              "#46039f"
             ],
             [
              0.2222222222222222,
              "#7201a8"
             ],
             [
              0.3333333333333333,
              "#9c179e"
             ],
             [
              0.4444444444444444,
              "#bd3786"
             ],
             [
              0.5555555555555556,
              "#d8576b"
             ],
             [
              0.6666666666666666,
              "#ed7953"
             ],
             [
              0.7777777777777778,
              "#fb9f3a"
             ],
             [
              0.8888888888888888,
              "#fdca26"
             ],
             [
              1,
              "#f0f921"
             ]
            ],
            "type": "histogram2d"
           }
          ],
          "histogram2dcontour": [
           {
            "colorbar": {
             "outlinewidth": 0,
             "ticks": ""
            },
            "colorscale": [
             [
              0,
              "#0d0887"
             ],
             [
              0.1111111111111111,
              "#46039f"
             ],
             [
              0.2222222222222222,
              "#7201a8"
             ],
             [
              0.3333333333333333,
              "#9c179e"
             ],
             [
              0.4444444444444444,
              "#bd3786"
             ],
             [
              0.5555555555555556,
              "#d8576b"
             ],
             [
              0.6666666666666666,
              "#ed7953"
             ],
             [
              0.7777777777777778,
              "#fb9f3a"
             ],
             [
              0.8888888888888888,
              "#fdca26"
             ],
             [
              1,
              "#f0f921"
             ]
            ],
            "type": "histogram2dcontour"
           }
          ],
          "mesh3d": [
           {
            "colorbar": {
             "outlinewidth": 0,
             "ticks": ""
            },
            "type": "mesh3d"
           }
          ],
          "parcoords": [
           {
            "line": {
             "colorbar": {
              "outlinewidth": 0,
              "ticks": ""
             }
            },
            "type": "parcoords"
           }
          ],
          "scatter": [
           {
            "marker": {
             "colorbar": {
              "outlinewidth": 0,
              "ticks": ""
             }
            },
            "type": "scatter"
           }
          ],
          "scatter3d": [
           {
            "line": {
             "colorbar": {
              "outlinewidth": 0,
              "ticks": ""
             }
            },
            "marker": {
             "colorbar": {
              "outlinewidth": 0,
              "ticks": ""
             }
            },
            "type": "scatter3d"
           }
          ],
          "scattercarpet": [
           {
            "marker": {
             "colorbar": {
              "outlinewidth": 0,
              "ticks": ""
             }
            },
            "type": "scattercarpet"
           }
          ],
          "scattergeo": [
           {
            "marker": {
             "colorbar": {
              "outlinewidth": 0,
              "ticks": ""
             }
            },
            "type": "scattergeo"
           }
          ],
          "scattergl": [
           {
            "marker": {
             "colorbar": {
              "outlinewidth": 0,
              "ticks": ""
             }
            },
            "type": "scattergl"
           }
          ],
          "scattermapbox": [
           {
            "marker": {
             "colorbar": {
              "outlinewidth": 0,
              "ticks": ""
             }
            },
            "type": "scattermapbox"
           }
          ],
          "scatterpolar": [
           {
            "marker": {
             "colorbar": {
              "outlinewidth": 0,
              "ticks": ""
             }
            },
            "type": "scatterpolar"
           }
          ],
          "scatterpolargl": [
           {
            "marker": {
             "colorbar": {
              "outlinewidth": 0,
              "ticks": ""
             }
            },
            "type": "scatterpolargl"
           }
          ],
          "scatterternary": [
           {
            "marker": {
             "colorbar": {
              "outlinewidth": 0,
              "ticks": ""
             }
            },
            "type": "scatterternary"
           }
          ],
          "surface": [
           {
            "colorbar": {
             "outlinewidth": 0,
             "ticks": ""
            },
            "colorscale": [
             [
              0,
              "#0d0887"
             ],
             [
              0.1111111111111111,
              "#46039f"
             ],
             [
              0.2222222222222222,
              "#7201a8"
             ],
             [
              0.3333333333333333,
              "#9c179e"
             ],
             [
              0.4444444444444444,
              "#bd3786"
             ],
             [
              0.5555555555555556,
              "#d8576b"
             ],
             [
              0.6666666666666666,
              "#ed7953"
             ],
             [
              0.7777777777777778,
              "#fb9f3a"
             ],
             [
              0.8888888888888888,
              "#fdca26"
             ],
             [
              1,
              "#f0f921"
             ]
            ],
            "type": "surface"
           }
          ],
          "table": [
           {
            "cells": {
             "fill": {
              "color": "#EBF0F8"
             },
             "line": {
              "color": "white"
             }
            },
            "header": {
             "fill": {
              "color": "#C8D4E3"
             },
             "line": {
              "color": "white"
             }
            },
            "type": "table"
           }
          ]
         },
         "layout": {
          "annotationdefaults": {
           "arrowcolor": "#2a3f5f",
           "arrowhead": 0,
           "arrowwidth": 1
          },
          "colorscale": {
           "diverging": [
            [
             0,
             "#8e0152"
            ],
            [
             0.1,
             "#c51b7d"
            ],
            [
             0.2,
             "#de77ae"
            ],
            [
             0.3,
             "#f1b6da"
            ],
            [
             0.4,
             "#fde0ef"
            ],
            [
             0.5,
             "#f7f7f7"
            ],
            [
             0.6,
             "#e6f5d0"
            ],
            [
             0.7,
             "#b8e186"
            ],
            [
             0.8,
             "#7fbc41"
            ],
            [
             0.9,
             "#4d9221"
            ],
            [
             1,
             "#276419"
            ]
           ],
           "sequential": [
            [
             0,
             "#0d0887"
            ],
            [
             0.1111111111111111,
             "#46039f"
            ],
            [
             0.2222222222222222,
             "#7201a8"
            ],
            [
             0.3333333333333333,
             "#9c179e"
            ],
            [
             0.4444444444444444,
             "#bd3786"
            ],
            [
             0.5555555555555556,
             "#d8576b"
            ],
            [
             0.6666666666666666,
             "#ed7953"
            ],
            [
             0.7777777777777778,
             "#fb9f3a"
            ],
            [
             0.8888888888888888,
             "#fdca26"
            ],
            [
             1,
             "#f0f921"
            ]
           ],
           "sequentialminus": [
            [
             0,
             "#0d0887"
            ],
            [
             0.1111111111111111,
             "#46039f"
            ],
            [
             0.2222222222222222,
             "#7201a8"
            ],
            [
             0.3333333333333333,
             "#9c179e"
            ],
            [
             0.4444444444444444,
             "#bd3786"
            ],
            [
             0.5555555555555556,
             "#d8576b"
            ],
            [
             0.6666666666666666,
             "#ed7953"
            ],
            [
             0.7777777777777778,
             "#fb9f3a"
            ],
            [
             0.8888888888888888,
             "#fdca26"
            ],
            [
             1,
             "#f0f921"
            ]
           ]
          },
          "colorway": [
           "#636efa",
           "#EF553B",
           "#00cc96",
           "#ab63fa",
           "#FFA15A",
           "#19d3f3",
           "#FF6692",
           "#B6E880",
           "#FF97FF",
           "#FECB52"
          ],
          "font": {
           "color": "#2a3f5f"
          },
          "geo": {
           "bgcolor": "white",
           "lakecolor": "white",
           "landcolor": "#E5ECF6",
           "showlakes": true,
           "showland": true,
           "subunitcolor": "white"
          },
          "hoverlabel": {
           "align": "left"
          },
          "hovermode": "closest",
          "mapbox": {
           "style": "light"
          },
          "paper_bgcolor": "white",
          "plot_bgcolor": "#E5ECF6",
          "polar": {
           "angularaxis": {
            "gridcolor": "white",
            "linecolor": "white",
            "ticks": ""
           },
           "bgcolor": "#E5ECF6",
           "radialaxis": {
            "gridcolor": "white",
            "linecolor": "white",
            "ticks": ""
           }
          },
          "scene": {
           "xaxis": {
            "backgroundcolor": "#E5ECF6",
            "gridcolor": "white",
            "gridwidth": 2,
            "linecolor": "white",
            "showbackground": true,
            "ticks": "",
            "zerolinecolor": "white"
           },
           "yaxis": {
            "backgroundcolor": "#E5ECF6",
            "gridcolor": "white",
            "gridwidth": 2,
            "linecolor": "white",
            "showbackground": true,
            "ticks": "",
            "zerolinecolor": "white"
           },
           "zaxis": {
            "backgroundcolor": "#E5ECF6",
            "gridcolor": "white",
            "gridwidth": 2,
            "linecolor": "white",
            "showbackground": true,
            "ticks": "",
            "zerolinecolor": "white"
           }
          },
          "shapedefaults": {
           "line": {
            "color": "#2a3f5f"
           }
          },
          "ternary": {
           "aaxis": {
            "gridcolor": "white",
            "linecolor": "white",
            "ticks": ""
           },
           "baxis": {
            "gridcolor": "white",
            "linecolor": "white",
            "ticks": ""
           },
           "bgcolor": "#E5ECF6",
           "caxis": {
            "gridcolor": "white",
            "linecolor": "white",
            "ticks": ""
           }
          },
          "title": {
           "x": 0.05
          },
          "xaxis": {
           "automargin": true,
           "gridcolor": "white",
           "linecolor": "white",
           "ticks": "",
           "zerolinecolor": "white",
           "zerolinewidth": 2
          },
          "yaxis": {
           "automargin": true,
           "gridcolor": "white",
           "linecolor": "white",
           "ticks": "",
           "zerolinecolor": "white",
           "zerolinewidth": 2
          }
         }
        }
       }
      },
      "text/html": [
       "<div>\n",
       "        \n",
       "        \n",
       "            <div id=\"115a1019-0861-49d3-bcdd-1d111ab6ca6d\" class=\"plotly-graph-div\" style=\"height:525px; width:100%;\"></div>\n",
       "            <script type=\"text/javascript\">\n",
       "                require([\"plotly\"], function(Plotly) {\n",
       "                    window.PLOTLYENV=window.PLOTLYENV || {};\n",
       "                    \n",
       "                if (document.getElementById(\"115a1019-0861-49d3-bcdd-1d111ab6ca6d\")) {\n",
       "                    Plotly.newPlot(\n",
       "                        '115a1019-0861-49d3-bcdd-1d111ab6ca6d',\n",
       "                        [{\"name\": \"Used\", \"type\": \"bar\", \"x\": [\"other\", \"Seria 3\", \"Seria 5\", \"Seria 1\", \"X3\", \"X5\"], \"y\": [383, 368, 334, 129, 110, 101]}, {\"name\": \"New\", \"type\": \"bar\", \"x\": [\"other\", \"X3\", \"Seria 5\", \"Seria 3\", \"Seria 1\", \"X5\"], \"y\": [94, 56, 29, 22, 14, 7]}],\n",
       "                        {\"barmode\": \"stack\", \"template\": {\"data\": {\"bar\": [{\"error_x\": {\"color\": \"#2a3f5f\"}, \"error_y\": {\"color\": \"#2a3f5f\"}, \"marker\": {\"line\": {\"color\": \"#E5ECF6\", \"width\": 0.5}}, \"type\": \"bar\"}], \"barpolar\": [{\"marker\": {\"line\": {\"color\": \"#E5ECF6\", \"width\": 0.5}}, \"type\": \"barpolar\"}], \"carpet\": [{\"aaxis\": {\"endlinecolor\": \"#2a3f5f\", \"gridcolor\": \"white\", \"linecolor\": \"white\", \"minorgridcolor\": \"white\", \"startlinecolor\": \"#2a3f5f\"}, \"baxis\": {\"endlinecolor\": \"#2a3f5f\", \"gridcolor\": \"white\", \"linecolor\": \"white\", \"minorgridcolor\": \"white\", \"startlinecolor\": \"#2a3f5f\"}, \"type\": \"carpet\"}], \"choropleth\": [{\"colorbar\": {\"outlinewidth\": 0, \"ticks\": \"\"}, \"type\": \"choropleth\"}], \"contour\": [{\"colorbar\": {\"outlinewidth\": 0, \"ticks\": \"\"}, \"colorscale\": [[0.0, \"#0d0887\"], [0.1111111111111111, \"#46039f\"], [0.2222222222222222, \"#7201a8\"], [0.3333333333333333, \"#9c179e\"], [0.4444444444444444, \"#bd3786\"], [0.5555555555555556, \"#d8576b\"], [0.6666666666666666, \"#ed7953\"], [0.7777777777777778, \"#fb9f3a\"], [0.8888888888888888, \"#fdca26\"], [1.0, \"#f0f921\"]], \"type\": \"contour\"}], \"contourcarpet\": [{\"colorbar\": {\"outlinewidth\": 0, \"ticks\": \"\"}, \"type\": \"contourcarpet\"}], \"heatmap\": [{\"colorbar\": {\"outlinewidth\": 0, \"ticks\": \"\"}, \"colorscale\": [[0.0, \"#0d0887\"], [0.1111111111111111, \"#46039f\"], [0.2222222222222222, \"#7201a8\"], [0.3333333333333333, \"#9c179e\"], [0.4444444444444444, \"#bd3786\"], [0.5555555555555556, \"#d8576b\"], [0.6666666666666666, \"#ed7953\"], [0.7777777777777778, \"#fb9f3a\"], [0.8888888888888888, \"#fdca26\"], [1.0, \"#f0f921\"]], \"type\": \"heatmap\"}], \"heatmapgl\": [{\"colorbar\": {\"outlinewidth\": 0, \"ticks\": \"\"}, \"colorscale\": [[0.0, \"#0d0887\"], [0.1111111111111111, \"#46039f\"], [0.2222222222222222, \"#7201a8\"], [0.3333333333333333, \"#9c179e\"], [0.4444444444444444, \"#bd3786\"], [0.5555555555555556, \"#d8576b\"], [0.6666666666666666, \"#ed7953\"], [0.7777777777777778, \"#fb9f3a\"], [0.8888888888888888, \"#fdca26\"], [1.0, \"#f0f921\"]], \"type\": \"heatmapgl\"}], \"histogram\": [{\"marker\": {\"colorbar\": {\"outlinewidth\": 0, \"ticks\": \"\"}}, \"type\": \"histogram\"}], \"histogram2d\": [{\"colorbar\": {\"outlinewidth\": 0, \"ticks\": \"\"}, \"colorscale\": [[0.0, \"#0d0887\"], [0.1111111111111111, \"#46039f\"], [0.2222222222222222, \"#7201a8\"], [0.3333333333333333, \"#9c179e\"], [0.4444444444444444, \"#bd3786\"], [0.5555555555555556, \"#d8576b\"], [0.6666666666666666, \"#ed7953\"], [0.7777777777777778, \"#fb9f3a\"], [0.8888888888888888, \"#fdca26\"], [1.0, \"#f0f921\"]], \"type\": \"histogram2d\"}], \"histogram2dcontour\": [{\"colorbar\": {\"outlinewidth\": 0, \"ticks\": \"\"}, \"colorscale\": [[0.0, \"#0d0887\"], [0.1111111111111111, \"#46039f\"], [0.2222222222222222, \"#7201a8\"], [0.3333333333333333, \"#9c179e\"], [0.4444444444444444, \"#bd3786\"], [0.5555555555555556, \"#d8576b\"], [0.6666666666666666, \"#ed7953\"], [0.7777777777777778, \"#fb9f3a\"], [0.8888888888888888, \"#fdca26\"], [1.0, \"#f0f921\"]], \"type\": \"histogram2dcontour\"}], \"mesh3d\": [{\"colorbar\": {\"outlinewidth\": 0, \"ticks\": \"\"}, \"type\": \"mesh3d\"}], \"parcoords\": [{\"line\": {\"colorbar\": {\"outlinewidth\": 0, \"ticks\": \"\"}}, \"type\": \"parcoords\"}], \"scatter\": [{\"marker\": {\"colorbar\": {\"outlinewidth\": 0, \"ticks\": \"\"}}, \"type\": \"scatter\"}], \"scatter3d\": [{\"line\": {\"colorbar\": {\"outlinewidth\": 0, \"ticks\": \"\"}}, \"marker\": {\"colorbar\": {\"outlinewidth\": 0, \"ticks\": \"\"}}, \"type\": \"scatter3d\"}], \"scattercarpet\": [{\"marker\": {\"colorbar\": {\"outlinewidth\": 0, \"ticks\": \"\"}}, \"type\": \"scattercarpet\"}], \"scattergeo\": [{\"marker\": {\"colorbar\": {\"outlinewidth\": 0, \"ticks\": \"\"}}, \"type\": \"scattergeo\"}], \"scattergl\": [{\"marker\": {\"colorbar\": {\"outlinewidth\": 0, \"ticks\": \"\"}}, \"type\": \"scattergl\"}], \"scattermapbox\": [{\"marker\": {\"colorbar\": {\"outlinewidth\": 0, \"ticks\": \"\"}}, \"type\": \"scattermapbox\"}], \"scatterpolar\": [{\"marker\": {\"colorbar\": {\"outlinewidth\": 0, \"ticks\": \"\"}}, \"type\": \"scatterpolar\"}], \"scatterpolargl\": [{\"marker\": {\"colorbar\": {\"outlinewidth\": 0, \"ticks\": \"\"}}, \"type\": \"scatterpolargl\"}], \"scatterternary\": [{\"marker\": {\"colorbar\": {\"outlinewidth\": 0, \"ticks\": \"\"}}, \"type\": \"scatterternary\"}], \"surface\": [{\"colorbar\": {\"outlinewidth\": 0, \"ticks\": \"\"}, \"colorscale\": [[0.0, \"#0d0887\"], [0.1111111111111111, \"#46039f\"], [0.2222222222222222, \"#7201a8\"], [0.3333333333333333, \"#9c179e\"], [0.4444444444444444, \"#bd3786\"], [0.5555555555555556, \"#d8576b\"], [0.6666666666666666, \"#ed7953\"], [0.7777777777777778, \"#fb9f3a\"], [0.8888888888888888, \"#fdca26\"], [1.0, \"#f0f921\"]], \"type\": \"surface\"}], \"table\": [{\"cells\": {\"fill\": {\"color\": \"#EBF0F8\"}, \"line\": {\"color\": \"white\"}}, \"header\": {\"fill\": {\"color\": \"#C8D4E3\"}, \"line\": {\"color\": \"white\"}}, \"type\": \"table\"}]}, \"layout\": {\"annotationdefaults\": {\"arrowcolor\": \"#2a3f5f\", \"arrowhead\": 0, \"arrowwidth\": 1}, \"colorscale\": {\"diverging\": [[0, \"#8e0152\"], [0.1, \"#c51b7d\"], [0.2, \"#de77ae\"], [0.3, \"#f1b6da\"], [0.4, \"#fde0ef\"], [0.5, \"#f7f7f7\"], [0.6, \"#e6f5d0\"], [0.7, \"#b8e186\"], [0.8, \"#7fbc41\"], [0.9, \"#4d9221\"], [1, \"#276419\"]], \"sequential\": [[0.0, \"#0d0887\"], [0.1111111111111111, \"#46039f\"], [0.2222222222222222, \"#7201a8\"], [0.3333333333333333, \"#9c179e\"], [0.4444444444444444, \"#bd3786\"], [0.5555555555555556, \"#d8576b\"], [0.6666666666666666, \"#ed7953\"], [0.7777777777777778, \"#fb9f3a\"], [0.8888888888888888, \"#fdca26\"], [1.0, \"#f0f921\"]], \"sequentialminus\": [[0.0, \"#0d0887\"], [0.1111111111111111, \"#46039f\"], [0.2222222222222222, \"#7201a8\"], [0.3333333333333333, \"#9c179e\"], [0.4444444444444444, \"#bd3786\"], [0.5555555555555556, \"#d8576b\"], [0.6666666666666666, \"#ed7953\"], [0.7777777777777778, \"#fb9f3a\"], [0.8888888888888888, \"#fdca26\"], [1.0, \"#f0f921\"]]}, \"colorway\": [\"#636efa\", \"#EF553B\", \"#00cc96\", \"#ab63fa\", \"#FFA15A\", \"#19d3f3\", \"#FF6692\", \"#B6E880\", \"#FF97FF\", \"#FECB52\"], \"font\": {\"color\": \"#2a3f5f\"}, \"geo\": {\"bgcolor\": \"white\", \"lakecolor\": \"white\", \"landcolor\": \"#E5ECF6\", \"showlakes\": true, \"showland\": true, \"subunitcolor\": \"white\"}, \"hoverlabel\": {\"align\": \"left\"}, \"hovermode\": \"closest\", \"mapbox\": {\"style\": \"light\"}, \"paper_bgcolor\": \"white\", \"plot_bgcolor\": \"#E5ECF6\", \"polar\": {\"angularaxis\": {\"gridcolor\": \"white\", \"linecolor\": \"white\", \"ticks\": \"\"}, \"bgcolor\": \"#E5ECF6\", \"radialaxis\": {\"gridcolor\": \"white\", \"linecolor\": \"white\", \"ticks\": \"\"}}, \"scene\": {\"xaxis\": {\"backgroundcolor\": \"#E5ECF6\", \"gridcolor\": \"white\", \"gridwidth\": 2, \"linecolor\": \"white\", \"showbackground\": true, \"ticks\": \"\", \"zerolinecolor\": \"white\"}, \"yaxis\": {\"backgroundcolor\": \"#E5ECF6\", \"gridcolor\": \"white\", \"gridwidth\": 2, \"linecolor\": \"white\", \"showbackground\": true, \"ticks\": \"\", \"zerolinecolor\": \"white\"}, \"zaxis\": {\"backgroundcolor\": \"#E5ECF6\", \"gridcolor\": \"white\", \"gridwidth\": 2, \"linecolor\": \"white\", \"showbackground\": true, \"ticks\": \"\", \"zerolinecolor\": \"white\"}}, \"shapedefaults\": {\"line\": {\"color\": \"#2a3f5f\"}}, \"ternary\": {\"aaxis\": {\"gridcolor\": \"white\", \"linecolor\": \"white\", \"ticks\": \"\"}, \"baxis\": {\"gridcolor\": \"white\", \"linecolor\": \"white\", \"ticks\": \"\"}, \"bgcolor\": \"#E5ECF6\", \"caxis\": {\"gridcolor\": \"white\", \"linecolor\": \"white\", \"ticks\": \"\"}}, \"title\": {\"x\": 0.05}, \"xaxis\": {\"automargin\": true, \"gridcolor\": \"white\", \"linecolor\": \"white\", \"ticks\": \"\", \"zerolinecolor\": \"white\", \"zerolinewidth\": 2}, \"yaxis\": {\"automargin\": true, \"gridcolor\": \"white\", \"linecolor\": \"white\", \"ticks\": \"\", \"zerolinecolor\": \"white\", \"zerolinewidth\": 2}}}},\n",
       "                        {\"responsive\": true}\n",
       "                    ).then(function(){\n",
       "                            \n",
       "var gd = document.getElementById('115a1019-0861-49d3-bcdd-1d111ab6ca6d');\n",
       "var x = new MutationObserver(function (mutations, observer) {{\n",
       "        var display = window.getComputedStyle(gd).display;\n",
       "        if (!display || display === 'none') {{\n",
       "            console.log([gd, 'removed!']);\n",
       "            Plotly.purge(gd);\n",
       "            observer.disconnect();\n",
       "        }}\n",
       "}});\n",
       "\n",
       "// Listen for the removal of the full notebook cells\n",
       "var notebookContainer = gd.closest('#notebook-container');\n",
       "if (notebookContainer) {{\n",
       "    x.observe(notebookContainer, {childList: true});\n",
       "}}\n",
       "\n",
       "// Listen for the clearing of the current output cell\n",
       "var outputEl = gd.closest('.output');\n",
       "if (outputEl) {{\n",
       "    x.observe(outputEl, {childList: true});\n",
       "}}\n",
       "\n",
       "                        })\n",
       "                };\n",
       "                });\n",
       "            </script>\n",
       "        </div>"
      ]
     },
     "metadata": {},
     "output_type": "display_data"
    }
   ],
   "source": [
    "fig = go.Figure(data=[\n",
    "    go.Bar(name='Used', x=df_model[df_model.Condition==\"Used\"].model_2, y=df_model[df_model.Condition==\"Used\"].model_sample),\n",
    "    go.Bar(name='New', x=df_model[df_model.Condition==\"New\"].model_2, y=df_model[df_model.Condition==\"New\"].model_sample),\n",
    "])\n",
    "# Change the bar mode\n",
    "fig.update_layout(barmode='stack')\n"
   ]
  },
  {
   "cell_type": "markdown",
   "metadata": {},
   "source": [
    "Looking at grouped model category, \"Other\" is the biggest sample with Serie 1, 3, 5 following. X3 has large sample size of New offers, but as it is a relatively new model, which results in limited Used sample size. "
   ]
  },
  {
   "cell_type": "markdown",
   "metadata": {},
   "source": [
    "## Correlation between key features"
   ]
  },
  {
   "cell_type": "code",
   "execution_count": 40,
   "metadata": {},
   "outputs": [
    {
     "data": {
      "text/plain": [
       "Index(['offerID', 'OEM', 'model', 'serie', 'Production_year', 'price',\n",
       "       'Mileage', 'Fuel', 'Power', 'Body', 'Invoice', 'Steering_wheel_config',\n",
       "       'Air_con', 'Colour', 'Country', 'Doors', 'Seats', 'Drive', 'VIN',\n",
       "       'Origin', 'Engine_cap', 'Transmission', 'Condition', 'download_date',\n",
       "       'title', 'Mileage_UOM', 'Power_UOM', 'Engine_cap_UOM', 'Age',\n",
       "       'Age_noise', 'model_sample', 'model_2'],\n",
       "      dtype='object')"
      ]
     },
     "execution_count": 40,
     "metadata": {},
     "output_type": "execute_result"
    }
   ],
   "source": [
    "df.columns"
   ]
  },
  {
   "cell_type": "code",
   "execution_count": 41,
   "metadata": {},
   "outputs": [],
   "source": [
    "df[\"is_new\"]=np.where(df.Condition==\"New\",1,0)\n",
    "df[\"log_price\"]=df.price.apply(lambda x:np.log(x/1000))"
   ]
  },
  {
   "cell_type": "code",
   "execution_count": 42,
   "metadata": {},
   "outputs": [],
   "source": [
    "key_features=['price',\"log_price\",\"Age\",'Mileage',\"Power\",\"is_new\",\"Engine_cap\"]"
   ]
  },
  {
   "cell_type": "code",
   "execution_count": 43,
   "metadata": {},
   "outputs": [],
   "source": [
    "corrs=df[key_features].corr()\n",
    "figure = ff.create_annotated_heatmap(\n",
    "    z=np.where(corrs==1,np.NaN,corrs),\n",
    "    x=list(corrs.columns),\n",
    "    y=list(corrs.index),\n",
    "    annotation_text=np.where(corrs==1,np.NaN,corrs).round(2),\n",
    "    showscale=True)\n",
    "figure.layout.margin=dict(l = 100)"
   ]
  },
  {
   "cell_type": "code",
   "execution_count": 44,
   "metadata": {},
   "outputs": [
    {
     "data": {
      "application/vnd.plotly.v1+json": {
       "config": {
        "linkText": "Export to plot.ly",
        "plotlyServerURL": "https://plot.ly",
        "showLink": false
       },
       "data": [
        {
         "colorscale": [
          [
           0,
           "#0d0887"
          ],
          [
           0.1111111111111111,
           "#46039f"
          ],
          [
           0.2222222222222222,
           "#7201a8"
          ],
          [
           0.3333333333333333,
           "#9c179e"
          ],
          [
           0.4444444444444444,
           "#bd3786"
          ],
          [
           0.5555555555555556,
           "#d8576b"
          ],
          [
           0.6666666666666666,
           "#ed7953"
          ],
          [
           0.7777777777777778,
           "#fb9f3a"
          ],
          [
           0.8888888888888888,
           "#fdca26"
          ],
          [
           1,
           "#f0f921"
          ]
         ],
         "reversescale": false,
         "showscale": true,
         "type": "heatmap",
         "x": [
          "price",
          "log_price",
          "Age",
          "Mileage",
          "Power",
          "is_new",
          "Engine_cap"
         ],
         "y": [
          "price",
          "log_price",
          "Age",
          "Mileage",
          "Power",
          "is_new",
          "Engine_cap"
         ],
         "z": [
          [
           null,
           0.8269753069493815,
           -0.6360345865274355,
           -0.6101266204203434,
           0.5975300723395766,
           0.4940636513859686,
           0.15387088624951864
          ],
          [
           0.8269753069493815,
           null,
           -0.8215143684783284,
           -0.7050852062617261,
           0.4883234152151405,
           0.4331122221386663,
           0.0621132765331336
          ],
          [
           -0.6360345865274355,
           -0.8215143684783284,
           null,
           0.7232290511470473,
           -0.1925588531648145,
           -0.4274739306536381,
           0.1877148090511017
          ],
          [
           -0.6101266204203434,
           -0.7050852062617261,
           0.7232290511470473,
           null,
           -0.16329409808854448,
           -0.4473762423039079,
           0.14305888152920568
          ],
          [
           0.5975300723395766,
           0.4883234152151405,
           -0.1925588531648145,
           -0.16329409808854448,
           null,
           0.06918258306403237,
           0.5770422675597039
          ],
          [
           0.4940636513859686,
           0.4331122221386663,
           -0.4274739306536381,
           -0.4473762423039079,
           0.06918258306403237,
           null,
           -0.0987993118725336
          ],
          [
           0.15387088624951864,
           0.0621132765331336,
           0.1877148090511017,
           0.14305888152920568,
           0.5770422675597039,
           -0.0987993118725336,
           null
          ]
         ]
        }
       ],
       "layout": {
        "annotations": [
         {
          "font": {
           "color": "#000000"
          },
          "showarrow": false,
          "text": "nan",
          "x": "price",
          "xref": "x",
          "y": "price",
          "yref": "y"
         },
         {
          "font": {
           "color": "#000000"
          },
          "showarrow": false,
          "text": "0.83",
          "x": "log_price",
          "xref": "x",
          "y": "price",
          "yref": "y"
         },
         {
          "font": {
           "color": "#000000"
          },
          "showarrow": false,
          "text": "-0.64",
          "x": "Age",
          "xref": "x",
          "y": "price",
          "yref": "y"
         },
         {
          "font": {
           "color": "#000000"
          },
          "showarrow": false,
          "text": "-0.61",
          "x": "Mileage",
          "xref": "x",
          "y": "price",
          "yref": "y"
         },
         {
          "font": {
           "color": "#000000"
          },
          "showarrow": false,
          "text": "0.6",
          "x": "Power",
          "xref": "x",
          "y": "price",
          "yref": "y"
         },
         {
          "font": {
           "color": "#000000"
          },
          "showarrow": false,
          "text": "0.49",
          "x": "is_new",
          "xref": "x",
          "y": "price",
          "yref": "y"
         },
         {
          "font": {
           "color": "#000000"
          },
          "showarrow": false,
          "text": "0.15",
          "x": "Engine_cap",
          "xref": "x",
          "y": "price",
          "yref": "y"
         },
         {
          "font": {
           "color": "#000000"
          },
          "showarrow": false,
          "text": "0.83",
          "x": "price",
          "xref": "x",
          "y": "log_price",
          "yref": "y"
         },
         {
          "font": {
           "color": "#000000"
          },
          "showarrow": false,
          "text": "nan",
          "x": "log_price",
          "xref": "x",
          "y": "log_price",
          "yref": "y"
         },
         {
          "font": {
           "color": "#000000"
          },
          "showarrow": false,
          "text": "-0.82",
          "x": "Age",
          "xref": "x",
          "y": "log_price",
          "yref": "y"
         },
         {
          "font": {
           "color": "#000000"
          },
          "showarrow": false,
          "text": "-0.71",
          "x": "Mileage",
          "xref": "x",
          "y": "log_price",
          "yref": "y"
         },
         {
          "font": {
           "color": "#000000"
          },
          "showarrow": false,
          "text": "0.49",
          "x": "Power",
          "xref": "x",
          "y": "log_price",
          "yref": "y"
         },
         {
          "font": {
           "color": "#000000"
          },
          "showarrow": false,
          "text": "0.43",
          "x": "is_new",
          "xref": "x",
          "y": "log_price",
          "yref": "y"
         },
         {
          "font": {
           "color": "#000000"
          },
          "showarrow": false,
          "text": "0.06",
          "x": "Engine_cap",
          "xref": "x",
          "y": "log_price",
          "yref": "y"
         },
         {
          "font": {
           "color": "#000000"
          },
          "showarrow": false,
          "text": "-0.64",
          "x": "price",
          "xref": "x",
          "y": "Age",
          "yref": "y"
         },
         {
          "font": {
           "color": "#000000"
          },
          "showarrow": false,
          "text": "-0.82",
          "x": "log_price",
          "xref": "x",
          "y": "Age",
          "yref": "y"
         },
         {
          "font": {
           "color": "#000000"
          },
          "showarrow": false,
          "text": "nan",
          "x": "Age",
          "xref": "x",
          "y": "Age",
          "yref": "y"
         },
         {
          "font": {
           "color": "#000000"
          },
          "showarrow": false,
          "text": "0.72",
          "x": "Mileage",
          "xref": "x",
          "y": "Age",
          "yref": "y"
         },
         {
          "font": {
           "color": "#000000"
          },
          "showarrow": false,
          "text": "-0.19",
          "x": "Power",
          "xref": "x",
          "y": "Age",
          "yref": "y"
         },
         {
          "font": {
           "color": "#000000"
          },
          "showarrow": false,
          "text": "-0.43",
          "x": "is_new",
          "xref": "x",
          "y": "Age",
          "yref": "y"
         },
         {
          "font": {
           "color": "#000000"
          },
          "showarrow": false,
          "text": "0.19",
          "x": "Engine_cap",
          "xref": "x",
          "y": "Age",
          "yref": "y"
         },
         {
          "font": {
           "color": "#000000"
          },
          "showarrow": false,
          "text": "-0.61",
          "x": "price",
          "xref": "x",
          "y": "Mileage",
          "yref": "y"
         },
         {
          "font": {
           "color": "#000000"
          },
          "showarrow": false,
          "text": "-0.71",
          "x": "log_price",
          "xref": "x",
          "y": "Mileage",
          "yref": "y"
         },
         {
          "font": {
           "color": "#000000"
          },
          "showarrow": false,
          "text": "0.72",
          "x": "Age",
          "xref": "x",
          "y": "Mileage",
          "yref": "y"
         },
         {
          "font": {
           "color": "#000000"
          },
          "showarrow": false,
          "text": "nan",
          "x": "Mileage",
          "xref": "x",
          "y": "Mileage",
          "yref": "y"
         },
         {
          "font": {
           "color": "#000000"
          },
          "showarrow": false,
          "text": "-0.16",
          "x": "Power",
          "xref": "x",
          "y": "Mileage",
          "yref": "y"
         },
         {
          "font": {
           "color": "#000000"
          },
          "showarrow": false,
          "text": "-0.45",
          "x": "is_new",
          "xref": "x",
          "y": "Mileage",
          "yref": "y"
         },
         {
          "font": {
           "color": "#000000"
          },
          "showarrow": false,
          "text": "0.14",
          "x": "Engine_cap",
          "xref": "x",
          "y": "Mileage",
          "yref": "y"
         },
         {
          "font": {
           "color": "#000000"
          },
          "showarrow": false,
          "text": "0.6",
          "x": "price",
          "xref": "x",
          "y": "Power",
          "yref": "y"
         },
         {
          "font": {
           "color": "#000000"
          },
          "showarrow": false,
          "text": "0.49",
          "x": "log_price",
          "xref": "x",
          "y": "Power",
          "yref": "y"
         },
         {
          "font": {
           "color": "#000000"
          },
          "showarrow": false,
          "text": "-0.19",
          "x": "Age",
          "xref": "x",
          "y": "Power",
          "yref": "y"
         },
         {
          "font": {
           "color": "#000000"
          },
          "showarrow": false,
          "text": "-0.16",
          "x": "Mileage",
          "xref": "x",
          "y": "Power",
          "yref": "y"
         },
         {
          "font": {
           "color": "#000000"
          },
          "showarrow": false,
          "text": "nan",
          "x": "Power",
          "xref": "x",
          "y": "Power",
          "yref": "y"
         },
         {
          "font": {
           "color": "#000000"
          },
          "showarrow": false,
          "text": "0.07",
          "x": "is_new",
          "xref": "x",
          "y": "Power",
          "yref": "y"
         },
         {
          "font": {
           "color": "#000000"
          },
          "showarrow": false,
          "text": "0.58",
          "x": "Engine_cap",
          "xref": "x",
          "y": "Power",
          "yref": "y"
         },
         {
          "font": {
           "color": "#000000"
          },
          "showarrow": false,
          "text": "0.49",
          "x": "price",
          "xref": "x",
          "y": "is_new",
          "yref": "y"
         },
         {
          "font": {
           "color": "#000000"
          },
          "showarrow": false,
          "text": "0.43",
          "x": "log_price",
          "xref": "x",
          "y": "is_new",
          "yref": "y"
         },
         {
          "font": {
           "color": "#000000"
          },
          "showarrow": false,
          "text": "-0.43",
          "x": "Age",
          "xref": "x",
          "y": "is_new",
          "yref": "y"
         },
         {
          "font": {
           "color": "#000000"
          },
          "showarrow": false,
          "text": "-0.45",
          "x": "Mileage",
          "xref": "x",
          "y": "is_new",
          "yref": "y"
         },
         {
          "font": {
           "color": "#000000"
          },
          "showarrow": false,
          "text": "0.07",
          "x": "Power",
          "xref": "x",
          "y": "is_new",
          "yref": "y"
         },
         {
          "font": {
           "color": "#000000"
          },
          "showarrow": false,
          "text": "nan",
          "x": "is_new",
          "xref": "x",
          "y": "is_new",
          "yref": "y"
         },
         {
          "font": {
           "color": "#000000"
          },
          "showarrow": false,
          "text": "-0.1",
          "x": "Engine_cap",
          "xref": "x",
          "y": "is_new",
          "yref": "y"
         },
         {
          "font": {
           "color": "#000000"
          },
          "showarrow": false,
          "text": "0.15",
          "x": "price",
          "xref": "x",
          "y": "Engine_cap",
          "yref": "y"
         },
         {
          "font": {
           "color": "#000000"
          },
          "showarrow": false,
          "text": "0.06",
          "x": "log_price",
          "xref": "x",
          "y": "Engine_cap",
          "yref": "y"
         },
         {
          "font": {
           "color": "#000000"
          },
          "showarrow": false,
          "text": "0.19",
          "x": "Age",
          "xref": "x",
          "y": "Engine_cap",
          "yref": "y"
         },
         {
          "font": {
           "color": "#000000"
          },
          "showarrow": false,
          "text": "0.14",
          "x": "Mileage",
          "xref": "x",
          "y": "Engine_cap",
          "yref": "y"
         },
         {
          "font": {
           "color": "#000000"
          },
          "showarrow": false,
          "text": "0.58",
          "x": "Power",
          "xref": "x",
          "y": "Engine_cap",
          "yref": "y"
         },
         {
          "font": {
           "color": "#000000"
          },
          "showarrow": false,
          "text": "-0.1",
          "x": "is_new",
          "xref": "x",
          "y": "Engine_cap",
          "yref": "y"
         },
         {
          "font": {
           "color": "#000000"
          },
          "showarrow": false,
          "text": "nan",
          "x": "Engine_cap",
          "xref": "x",
          "y": "Engine_cap",
          "yref": "y"
         }
        ],
        "margin": {
         "l": 100
        },
        "template": {
         "data": {
          "bar": [
           {
            "error_x": {
             "color": "#2a3f5f"
            },
            "error_y": {
             "color": "#2a3f5f"
            },
            "marker": {
             "line": {
              "color": "#E5ECF6",
              "width": 0.5
             }
            },
            "type": "bar"
           }
          ],
          "barpolar": [
           {
            "marker": {
             "line": {
              "color": "#E5ECF6",
              "width": 0.5
             }
            },
            "type": "barpolar"
           }
          ],
          "carpet": [
           {
            "aaxis": {
             "endlinecolor": "#2a3f5f",
             "gridcolor": "white",
             "linecolor": "white",
             "minorgridcolor": "white",
             "startlinecolor": "#2a3f5f"
            },
            "baxis": {
             "endlinecolor": "#2a3f5f",
             "gridcolor": "white",
             "linecolor": "white",
             "minorgridcolor": "white",
             "startlinecolor": "#2a3f5f"
            },
            "type": "carpet"
           }
          ],
          "choropleth": [
           {
            "colorbar": {
             "outlinewidth": 0,
             "ticks": ""
            },
            "type": "choropleth"
           }
          ],
          "contour": [
           {
            "colorbar": {
             "outlinewidth": 0,
             "ticks": ""
            },
            "colorscale": [
             [
              0,
              "#0d0887"
             ],
             [
              0.1111111111111111,
              "#46039f"
             ],
             [
              0.2222222222222222,
              "#7201a8"
             ],
             [
              0.3333333333333333,
              "#9c179e"
             ],
             [
              0.4444444444444444,
              "#bd3786"
             ],
             [
              0.5555555555555556,
              "#d8576b"
             ],
             [
              0.6666666666666666,
              "#ed7953"
             ],
             [
              0.7777777777777778,
              "#fb9f3a"
             ],
             [
              0.8888888888888888,
              "#fdca26"
             ],
             [
              1,
              "#f0f921"
             ]
            ],
            "type": "contour"
           }
          ],
          "contourcarpet": [
           {
            "colorbar": {
             "outlinewidth": 0,
             "ticks": ""
            },
            "type": "contourcarpet"
           }
          ],
          "heatmap": [
           {
            "colorbar": {
             "outlinewidth": 0,
             "ticks": ""
            },
            "colorscale": [
             [
              0,
              "#0d0887"
             ],
             [
              0.1111111111111111,
              "#46039f"
             ],
             [
              0.2222222222222222,
              "#7201a8"
             ],
             [
              0.3333333333333333,
              "#9c179e"
             ],
             [
              0.4444444444444444,
              "#bd3786"
             ],
             [
              0.5555555555555556,
              "#d8576b"
             ],
             [
              0.6666666666666666,
              "#ed7953"
             ],
             [
              0.7777777777777778,
              "#fb9f3a"
             ],
             [
              0.8888888888888888,
              "#fdca26"
             ],
             [
              1,
              "#f0f921"
             ]
            ],
            "type": "heatmap"
           }
          ],
          "heatmapgl": [
           {
            "colorbar": {
             "outlinewidth": 0,
             "ticks": ""
            },
            "colorscale": [
             [
              0,
              "#0d0887"
             ],
             [
              0.1111111111111111,
              "#46039f"
             ],
             [
              0.2222222222222222,
              "#7201a8"
             ],
             [
              0.3333333333333333,
              "#9c179e"
             ],
             [
              0.4444444444444444,
              "#bd3786"
             ],
             [
              0.5555555555555556,
              "#d8576b"
             ],
             [
              0.6666666666666666,
              "#ed7953"
             ],
             [
              0.7777777777777778,
              "#fb9f3a"
             ],
             [
              0.8888888888888888,
              "#fdca26"
             ],
             [
              1,
              "#f0f921"
             ]
            ],
            "type": "heatmapgl"
           }
          ],
          "histogram": [
           {
            "marker": {
             "colorbar": {
              "outlinewidth": 0,
              "ticks": ""
             }
            },
            "type": "histogram"
           }
          ],
          "histogram2d": [
           {
            "colorbar": {
             "outlinewidth": 0,
             "ticks": ""
            },
            "colorscale": [
             [
              0,
              "#0d0887"
             ],
             [
              0.1111111111111111,
              "#46039f"
             ],
             [
              0.2222222222222222,
              "#7201a8"
             ],
             [
              0.3333333333333333,
              "#9c179e"
             ],
             [
              0.4444444444444444,
              "#bd3786"
             ],
             [
              0.5555555555555556,
              "#d8576b"
             ],
             [
              0.6666666666666666,
              "#ed7953"
             ],
             [
              0.7777777777777778,
              "#fb9f3a"
             ],
             [
              0.8888888888888888,
              "#fdca26"
             ],
             [
              1,
              "#f0f921"
             ]
            ],
            "type": "histogram2d"
           }
          ],
          "histogram2dcontour": [
           {
            "colorbar": {
             "outlinewidth": 0,
             "ticks": ""
            },
            "colorscale": [
             [
              0,
              "#0d0887"
             ],
             [
              0.1111111111111111,
              "#46039f"
             ],
             [
              0.2222222222222222,
              "#7201a8"
             ],
             [
              0.3333333333333333,
              "#9c179e"
             ],
             [
              0.4444444444444444,
              "#bd3786"
             ],
             [
              0.5555555555555556,
              "#d8576b"
             ],
             [
              0.6666666666666666,
              "#ed7953"
             ],
             [
              0.7777777777777778,
              "#fb9f3a"
             ],
             [
              0.8888888888888888,
              "#fdca26"
             ],
             [
              1,
              "#f0f921"
             ]
            ],
            "type": "histogram2dcontour"
           }
          ],
          "mesh3d": [
           {
            "colorbar": {
             "outlinewidth": 0,
             "ticks": ""
            },
            "type": "mesh3d"
           }
          ],
          "parcoords": [
           {
            "line": {
             "colorbar": {
              "outlinewidth": 0,
              "ticks": ""
             }
            },
            "type": "parcoords"
           }
          ],
          "scatter": [
           {
            "marker": {
             "colorbar": {
              "outlinewidth": 0,
              "ticks": ""
             }
            },
            "type": "scatter"
           }
          ],
          "scatter3d": [
           {
            "line": {
             "colorbar": {
              "outlinewidth": 0,
              "ticks": ""
             }
            },
            "marker": {
             "colorbar": {
              "outlinewidth": 0,
              "ticks": ""
             }
            },
            "type": "scatter3d"
           }
          ],
          "scattercarpet": [
           {
            "marker": {
             "colorbar": {
              "outlinewidth": 0,
              "ticks": ""
             }
            },
            "type": "scattercarpet"
           }
          ],
          "scattergeo": [
           {
            "marker": {
             "colorbar": {
              "outlinewidth": 0,
              "ticks": ""
             }
            },
            "type": "scattergeo"
           }
          ],
          "scattergl": [
           {
            "marker": {
             "colorbar": {
              "outlinewidth": 0,
              "ticks": ""
             }
            },
            "type": "scattergl"
           }
          ],
          "scattermapbox": [
           {
            "marker": {
             "colorbar": {
              "outlinewidth": 0,
              "ticks": ""
             }
            },
            "type": "scattermapbox"
           }
          ],
          "scatterpolar": [
           {
            "marker": {
             "colorbar": {
              "outlinewidth": 0,
              "ticks": ""
             }
            },
            "type": "scatterpolar"
           }
          ],
          "scatterpolargl": [
           {
            "marker": {
             "colorbar": {
              "outlinewidth": 0,
              "ticks": ""
             }
            },
            "type": "scatterpolargl"
           }
          ],
          "scatterternary": [
           {
            "marker": {
             "colorbar": {
              "outlinewidth": 0,
              "ticks": ""
             }
            },
            "type": "scatterternary"
           }
          ],
          "surface": [
           {
            "colorbar": {
             "outlinewidth": 0,
             "ticks": ""
            },
            "colorscale": [
             [
              0,
              "#0d0887"
             ],
             [
              0.1111111111111111,
              "#46039f"
             ],
             [
              0.2222222222222222,
              "#7201a8"
             ],
             [
              0.3333333333333333,
              "#9c179e"
             ],
             [
              0.4444444444444444,
              "#bd3786"
             ],
             [
              0.5555555555555556,
              "#d8576b"
             ],
             [
              0.6666666666666666,
              "#ed7953"
             ],
             [
              0.7777777777777778,
              "#fb9f3a"
             ],
             [
              0.8888888888888888,
              "#fdca26"
             ],
             [
              1,
              "#f0f921"
             ]
            ],
            "type": "surface"
           }
          ],
          "table": [
           {
            "cells": {
             "fill": {
              "color": "#EBF0F8"
             },
             "line": {
              "color": "white"
             }
            },
            "header": {
             "fill": {
              "color": "#C8D4E3"
             },
             "line": {
              "color": "white"
             }
            },
            "type": "table"
           }
          ]
         },
         "layout": {
          "annotationdefaults": {
           "arrowcolor": "#2a3f5f",
           "arrowhead": 0,
           "arrowwidth": 1
          },
          "colorscale": {
           "diverging": [
            [
             0,
             "#8e0152"
            ],
            [
             0.1,
             "#c51b7d"
            ],
            [
             0.2,
             "#de77ae"
            ],
            [
             0.3,
             "#f1b6da"
            ],
            [
             0.4,
             "#fde0ef"
            ],
            [
             0.5,
             "#f7f7f7"
            ],
            [
             0.6,
             "#e6f5d0"
            ],
            [
             0.7,
             "#b8e186"
            ],
            [
             0.8,
             "#7fbc41"
            ],
            [
             0.9,
             "#4d9221"
            ],
            [
             1,
             "#276419"
            ]
           ],
           "sequential": [
            [
             0,
             "#0d0887"
            ],
            [
             0.1111111111111111,
             "#46039f"
            ],
            [
             0.2222222222222222,
             "#7201a8"
            ],
            [
             0.3333333333333333,
             "#9c179e"
            ],
            [
             0.4444444444444444,
             "#bd3786"
            ],
            [
             0.5555555555555556,
             "#d8576b"
            ],
            [
             0.6666666666666666,
             "#ed7953"
            ],
            [
             0.7777777777777778,
             "#fb9f3a"
            ],
            [
             0.8888888888888888,
             "#fdca26"
            ],
            [
             1,
             "#f0f921"
            ]
           ],
           "sequentialminus": [
            [
             0,
             "#0d0887"
            ],
            [
             0.1111111111111111,
             "#46039f"
            ],
            [
             0.2222222222222222,
             "#7201a8"
            ],
            [
             0.3333333333333333,
             "#9c179e"
            ],
            [
             0.4444444444444444,
             "#bd3786"
            ],
            [
             0.5555555555555556,
             "#d8576b"
            ],
            [
             0.6666666666666666,
             "#ed7953"
            ],
            [
             0.7777777777777778,
             "#fb9f3a"
            ],
            [
             0.8888888888888888,
             "#fdca26"
            ],
            [
             1,
             "#f0f921"
            ]
           ]
          },
          "colorway": [
           "#636efa",
           "#EF553B",
           "#00cc96",
           "#ab63fa",
           "#FFA15A",
           "#19d3f3",
           "#FF6692",
           "#B6E880",
           "#FF97FF",
           "#FECB52"
          ],
          "font": {
           "color": "#2a3f5f"
          },
          "geo": {
           "bgcolor": "white",
           "lakecolor": "white",
           "landcolor": "#E5ECF6",
           "showlakes": true,
           "showland": true,
           "subunitcolor": "white"
          },
          "hoverlabel": {
           "align": "left"
          },
          "hovermode": "closest",
          "mapbox": {
           "style": "light"
          },
          "paper_bgcolor": "white",
          "plot_bgcolor": "#E5ECF6",
          "polar": {
           "angularaxis": {
            "gridcolor": "white",
            "linecolor": "white",
            "ticks": ""
           },
           "bgcolor": "#E5ECF6",
           "radialaxis": {
            "gridcolor": "white",
            "linecolor": "white",
            "ticks": ""
           }
          },
          "scene": {
           "xaxis": {
            "backgroundcolor": "#E5ECF6",
            "gridcolor": "white",
            "gridwidth": 2,
            "linecolor": "white",
            "showbackground": true,
            "ticks": "",
            "zerolinecolor": "white"
           },
           "yaxis": {
            "backgroundcolor": "#E5ECF6",
            "gridcolor": "white",
            "gridwidth": 2,
            "linecolor": "white",
            "showbackground": true,
            "ticks": "",
            "zerolinecolor": "white"
           },
           "zaxis": {
            "backgroundcolor": "#E5ECF6",
            "gridcolor": "white",
            "gridwidth": 2,
            "linecolor": "white",
            "showbackground": true,
            "ticks": "",
            "zerolinecolor": "white"
           }
          },
          "shapedefaults": {
           "line": {
            "color": "#2a3f5f"
           }
          },
          "ternary": {
           "aaxis": {
            "gridcolor": "white",
            "linecolor": "white",
            "ticks": ""
           },
           "baxis": {
            "gridcolor": "white",
            "linecolor": "white",
            "ticks": ""
           },
           "bgcolor": "#E5ECF6",
           "caxis": {
            "gridcolor": "white",
            "linecolor": "white",
            "ticks": ""
           }
          },
          "title": {
           "x": 0.05
          },
          "xaxis": {
           "automargin": true,
           "gridcolor": "white",
           "linecolor": "white",
           "ticks": "",
           "zerolinecolor": "white",
           "zerolinewidth": 2
          },
          "yaxis": {
           "automargin": true,
           "gridcolor": "white",
           "linecolor": "white",
           "ticks": "",
           "zerolinecolor": "white",
           "zerolinewidth": 2
          }
         }
        },
        "xaxis": {
         "dtick": 1,
         "gridcolor": "rgb(0, 0, 0)",
         "side": "top",
         "ticks": ""
        },
        "yaxis": {
         "dtick": 1,
         "ticks": "",
         "ticksuffix": "  "
        }
       }
      },
      "text/html": [
       "<div>\n",
       "        \n",
       "        \n",
       "            <div id=\"eae1eb4c-c99c-4736-9ff1-db814bdd31de\" class=\"plotly-graph-div\" style=\"height:525px; width:100%;\"></div>\n",
       "            <script type=\"text/javascript\">\n",
       "                require([\"plotly\"], function(Plotly) {\n",
       "                    window.PLOTLYENV=window.PLOTLYENV || {};\n",
       "                    \n",
       "                if (document.getElementById(\"eae1eb4c-c99c-4736-9ff1-db814bdd31de\")) {\n",
       "                    Plotly.newPlot(\n",
       "                        'eae1eb4c-c99c-4736-9ff1-db814bdd31de',\n",
       "                        [{\"colorscale\": [[0.0, \"#0d0887\"], [0.1111111111111111, \"#46039f\"], [0.2222222222222222, \"#7201a8\"], [0.3333333333333333, \"#9c179e\"], [0.4444444444444444, \"#bd3786\"], [0.5555555555555556, \"#d8576b\"], [0.6666666666666666, \"#ed7953\"], [0.7777777777777778, \"#fb9f3a\"], [0.8888888888888888, \"#fdca26\"], [1.0, \"#f0f921\"]], \"reversescale\": false, \"showscale\": true, \"type\": \"heatmap\", \"x\": [\"price\", \"log_price\", \"Age\", \"Mileage\", \"Power\", \"is_new\", \"Engine_cap\"], \"y\": [\"price\", \"log_price\", \"Age\", \"Mileage\", \"Power\", \"is_new\", \"Engine_cap\"], \"z\": [[null, 0.8269753069493815, -0.6360345865274355, -0.6101266204203434, 0.5975300723395766, 0.4940636513859686, 0.15387088624951864], [0.8269753069493815, null, -0.8215143684783284, -0.7050852062617261, 0.4883234152151405, 0.4331122221386663, 0.0621132765331336], [-0.6360345865274355, -0.8215143684783284, null, 0.7232290511470473, -0.1925588531648145, -0.4274739306536381, 0.1877148090511017], [-0.6101266204203434, -0.7050852062617261, 0.7232290511470473, null, -0.16329409808854448, -0.4473762423039079, 0.14305888152920568], [0.5975300723395766, 0.4883234152151405, -0.1925588531648145, -0.16329409808854448, null, 0.06918258306403237, 0.5770422675597039], [0.4940636513859686, 0.4331122221386663, -0.4274739306536381, -0.4473762423039079, 0.06918258306403237, null, -0.0987993118725336], [0.15387088624951864, 0.0621132765331336, 0.1877148090511017, 0.14305888152920568, 0.5770422675597039, -0.0987993118725336, null]]}],\n",
       "                        {\"annotations\": [{\"font\": {\"color\": \"#000000\"}, \"showarrow\": false, \"text\": \"nan\", \"x\": \"price\", \"xref\": \"x\", \"y\": \"price\", \"yref\": \"y\"}, {\"font\": {\"color\": \"#000000\"}, \"showarrow\": false, \"text\": \"0.83\", \"x\": \"log_price\", \"xref\": \"x\", \"y\": \"price\", \"yref\": \"y\"}, {\"font\": {\"color\": \"#000000\"}, \"showarrow\": false, \"text\": \"-0.64\", \"x\": \"Age\", \"xref\": \"x\", \"y\": \"price\", \"yref\": \"y\"}, {\"font\": {\"color\": \"#000000\"}, \"showarrow\": false, \"text\": \"-0.61\", \"x\": \"Mileage\", \"xref\": \"x\", \"y\": \"price\", \"yref\": \"y\"}, {\"font\": {\"color\": \"#000000\"}, \"showarrow\": false, \"text\": \"0.6\", \"x\": \"Power\", \"xref\": \"x\", \"y\": \"price\", \"yref\": \"y\"}, {\"font\": {\"color\": \"#000000\"}, \"showarrow\": false, \"text\": \"0.49\", \"x\": \"is_new\", \"xref\": \"x\", \"y\": \"price\", \"yref\": \"y\"}, {\"font\": {\"color\": \"#000000\"}, \"showarrow\": false, \"text\": \"0.15\", \"x\": \"Engine_cap\", \"xref\": \"x\", \"y\": \"price\", \"yref\": \"y\"}, {\"font\": {\"color\": \"#000000\"}, \"showarrow\": false, \"text\": \"0.83\", \"x\": \"price\", \"xref\": \"x\", \"y\": \"log_price\", \"yref\": \"y\"}, {\"font\": {\"color\": \"#000000\"}, \"showarrow\": false, \"text\": \"nan\", \"x\": \"log_price\", \"xref\": \"x\", \"y\": \"log_price\", \"yref\": \"y\"}, {\"font\": {\"color\": \"#000000\"}, \"showarrow\": false, \"text\": \"-0.82\", \"x\": \"Age\", \"xref\": \"x\", \"y\": \"log_price\", \"yref\": \"y\"}, {\"font\": {\"color\": \"#000000\"}, \"showarrow\": false, \"text\": \"-0.71\", \"x\": \"Mileage\", \"xref\": \"x\", \"y\": \"log_price\", \"yref\": \"y\"}, {\"font\": {\"color\": \"#000000\"}, \"showarrow\": false, \"text\": \"0.49\", \"x\": \"Power\", \"xref\": \"x\", \"y\": \"log_price\", \"yref\": \"y\"}, {\"font\": {\"color\": \"#000000\"}, \"showarrow\": false, \"text\": \"0.43\", \"x\": \"is_new\", \"xref\": \"x\", \"y\": \"log_price\", \"yref\": \"y\"}, {\"font\": {\"color\": \"#000000\"}, \"showarrow\": false, \"text\": \"0.06\", \"x\": \"Engine_cap\", \"xref\": \"x\", \"y\": \"log_price\", \"yref\": \"y\"}, {\"font\": {\"color\": \"#000000\"}, \"showarrow\": false, \"text\": \"-0.64\", \"x\": \"price\", \"xref\": \"x\", \"y\": \"Age\", \"yref\": \"y\"}, {\"font\": {\"color\": \"#000000\"}, \"showarrow\": false, \"text\": \"-0.82\", \"x\": \"log_price\", \"xref\": \"x\", \"y\": \"Age\", \"yref\": \"y\"}, {\"font\": {\"color\": \"#000000\"}, \"showarrow\": false, \"text\": \"nan\", \"x\": \"Age\", \"xref\": \"x\", \"y\": \"Age\", \"yref\": \"y\"}, {\"font\": {\"color\": \"#000000\"}, \"showarrow\": false, \"text\": \"0.72\", \"x\": \"Mileage\", \"xref\": \"x\", \"y\": \"Age\", \"yref\": \"y\"}, {\"font\": {\"color\": \"#000000\"}, \"showarrow\": false, \"text\": \"-0.19\", \"x\": \"Power\", \"xref\": \"x\", \"y\": \"Age\", \"yref\": \"y\"}, {\"font\": {\"color\": \"#000000\"}, \"showarrow\": false, \"text\": \"-0.43\", \"x\": \"is_new\", \"xref\": \"x\", \"y\": \"Age\", \"yref\": \"y\"}, {\"font\": {\"color\": \"#000000\"}, \"showarrow\": false, \"text\": \"0.19\", \"x\": \"Engine_cap\", \"xref\": \"x\", \"y\": \"Age\", \"yref\": \"y\"}, {\"font\": {\"color\": \"#000000\"}, \"showarrow\": false, \"text\": \"-0.61\", \"x\": \"price\", \"xref\": \"x\", \"y\": \"Mileage\", \"yref\": \"y\"}, {\"font\": {\"color\": \"#000000\"}, \"showarrow\": false, \"text\": \"-0.71\", \"x\": \"log_price\", \"xref\": \"x\", \"y\": \"Mileage\", \"yref\": \"y\"}, {\"font\": {\"color\": \"#000000\"}, \"showarrow\": false, \"text\": \"0.72\", \"x\": \"Age\", \"xref\": \"x\", \"y\": \"Mileage\", \"yref\": \"y\"}, {\"font\": {\"color\": \"#000000\"}, \"showarrow\": false, \"text\": \"nan\", \"x\": \"Mileage\", \"xref\": \"x\", \"y\": \"Mileage\", \"yref\": \"y\"}, {\"font\": {\"color\": \"#000000\"}, \"showarrow\": false, \"text\": \"-0.16\", \"x\": \"Power\", \"xref\": \"x\", \"y\": \"Mileage\", \"yref\": \"y\"}, {\"font\": {\"color\": \"#000000\"}, \"showarrow\": false, \"text\": \"-0.45\", \"x\": \"is_new\", \"xref\": \"x\", \"y\": \"Mileage\", \"yref\": \"y\"}, {\"font\": {\"color\": \"#000000\"}, \"showarrow\": false, \"text\": \"0.14\", \"x\": \"Engine_cap\", \"xref\": \"x\", \"y\": \"Mileage\", \"yref\": \"y\"}, {\"font\": {\"color\": \"#000000\"}, \"showarrow\": false, \"text\": \"0.6\", \"x\": \"price\", \"xref\": \"x\", \"y\": \"Power\", \"yref\": \"y\"}, {\"font\": {\"color\": \"#000000\"}, \"showarrow\": false, \"text\": \"0.49\", \"x\": \"log_price\", \"xref\": \"x\", \"y\": \"Power\", \"yref\": \"y\"}, {\"font\": {\"color\": \"#000000\"}, \"showarrow\": false, \"text\": \"-0.19\", \"x\": \"Age\", \"xref\": \"x\", \"y\": \"Power\", \"yref\": \"y\"}, {\"font\": {\"color\": \"#000000\"}, \"showarrow\": false, \"text\": \"-0.16\", \"x\": \"Mileage\", \"xref\": \"x\", \"y\": \"Power\", \"yref\": \"y\"}, {\"font\": {\"color\": \"#000000\"}, \"showarrow\": false, \"text\": \"nan\", \"x\": \"Power\", \"xref\": \"x\", \"y\": \"Power\", \"yref\": \"y\"}, {\"font\": {\"color\": \"#000000\"}, \"showarrow\": false, \"text\": \"0.07\", \"x\": \"is_new\", \"xref\": \"x\", \"y\": \"Power\", \"yref\": \"y\"}, {\"font\": {\"color\": \"#000000\"}, \"showarrow\": false, \"text\": \"0.58\", \"x\": \"Engine_cap\", \"xref\": \"x\", \"y\": \"Power\", \"yref\": \"y\"}, {\"font\": {\"color\": \"#000000\"}, \"showarrow\": false, \"text\": \"0.49\", \"x\": \"price\", \"xref\": \"x\", \"y\": \"is_new\", \"yref\": \"y\"}, {\"font\": {\"color\": \"#000000\"}, \"showarrow\": false, \"text\": \"0.43\", \"x\": \"log_price\", \"xref\": \"x\", \"y\": \"is_new\", \"yref\": \"y\"}, {\"font\": {\"color\": \"#000000\"}, \"showarrow\": false, \"text\": \"-0.43\", \"x\": \"Age\", \"xref\": \"x\", \"y\": \"is_new\", \"yref\": \"y\"}, {\"font\": {\"color\": \"#000000\"}, \"showarrow\": false, \"text\": \"-0.45\", \"x\": \"Mileage\", \"xref\": \"x\", \"y\": \"is_new\", \"yref\": \"y\"}, {\"font\": {\"color\": \"#000000\"}, \"showarrow\": false, \"text\": \"0.07\", \"x\": \"Power\", \"xref\": \"x\", \"y\": \"is_new\", \"yref\": \"y\"}, {\"font\": {\"color\": \"#000000\"}, \"showarrow\": false, \"text\": \"nan\", \"x\": \"is_new\", \"xref\": \"x\", \"y\": \"is_new\", \"yref\": \"y\"}, {\"font\": {\"color\": \"#000000\"}, \"showarrow\": false, \"text\": \"-0.1\", \"x\": \"Engine_cap\", \"xref\": \"x\", \"y\": \"is_new\", \"yref\": \"y\"}, {\"font\": {\"color\": \"#000000\"}, \"showarrow\": false, \"text\": \"0.15\", \"x\": \"price\", \"xref\": \"x\", \"y\": \"Engine_cap\", \"yref\": \"y\"}, {\"font\": {\"color\": \"#000000\"}, \"showarrow\": false, \"text\": \"0.06\", \"x\": \"log_price\", \"xref\": \"x\", \"y\": \"Engine_cap\", \"yref\": \"y\"}, {\"font\": {\"color\": \"#000000\"}, \"showarrow\": false, \"text\": \"0.19\", \"x\": \"Age\", \"xref\": \"x\", \"y\": \"Engine_cap\", \"yref\": \"y\"}, {\"font\": {\"color\": \"#000000\"}, \"showarrow\": false, \"text\": \"0.14\", \"x\": \"Mileage\", \"xref\": \"x\", \"y\": \"Engine_cap\", \"yref\": \"y\"}, {\"font\": {\"color\": \"#000000\"}, \"showarrow\": false, \"text\": \"0.58\", \"x\": \"Power\", \"xref\": \"x\", \"y\": \"Engine_cap\", \"yref\": \"y\"}, {\"font\": {\"color\": \"#000000\"}, \"showarrow\": false, \"text\": \"-0.1\", \"x\": \"is_new\", \"xref\": \"x\", \"y\": \"Engine_cap\", \"yref\": \"y\"}, {\"font\": {\"color\": \"#000000\"}, \"showarrow\": false, \"text\": \"nan\", \"x\": \"Engine_cap\", \"xref\": \"x\", \"y\": \"Engine_cap\", \"yref\": \"y\"}], \"margin\": {\"l\": 100}, \"template\": {\"data\": {\"bar\": [{\"error_x\": {\"color\": \"#2a3f5f\"}, \"error_y\": {\"color\": \"#2a3f5f\"}, \"marker\": {\"line\": {\"color\": \"#E5ECF6\", \"width\": 0.5}}, \"type\": \"bar\"}], \"barpolar\": [{\"marker\": {\"line\": {\"color\": \"#E5ECF6\", \"width\": 0.5}}, \"type\": \"barpolar\"}], \"carpet\": [{\"aaxis\": {\"endlinecolor\": \"#2a3f5f\", \"gridcolor\": \"white\", \"linecolor\": \"white\", \"minorgridcolor\": \"white\", \"startlinecolor\": \"#2a3f5f\"}, \"baxis\": {\"endlinecolor\": \"#2a3f5f\", \"gridcolor\": \"white\", \"linecolor\": \"white\", \"minorgridcolor\": \"white\", \"startlinecolor\": \"#2a3f5f\"}, \"type\": \"carpet\"}], \"choropleth\": [{\"colorbar\": {\"outlinewidth\": 0, \"ticks\": \"\"}, \"type\": \"choropleth\"}], \"contour\": [{\"colorbar\": {\"outlinewidth\": 0, \"ticks\": \"\"}, \"colorscale\": [[0.0, \"#0d0887\"], [0.1111111111111111, \"#46039f\"], [0.2222222222222222, \"#7201a8\"], [0.3333333333333333, \"#9c179e\"], [0.4444444444444444, \"#bd3786\"], [0.5555555555555556, \"#d8576b\"], [0.6666666666666666, \"#ed7953\"], [0.7777777777777778, \"#fb9f3a\"], [0.8888888888888888, \"#fdca26\"], [1.0, \"#f0f921\"]], \"type\": \"contour\"}], \"contourcarpet\": [{\"colorbar\": {\"outlinewidth\": 0, \"ticks\": \"\"}, \"type\": \"contourcarpet\"}], \"heatmap\": [{\"colorbar\": {\"outlinewidth\": 0, \"ticks\": \"\"}, \"colorscale\": [[0.0, \"#0d0887\"], [0.1111111111111111, \"#46039f\"], [0.2222222222222222, \"#7201a8\"], [0.3333333333333333, \"#9c179e\"], [0.4444444444444444, \"#bd3786\"], [0.5555555555555556, \"#d8576b\"], [0.6666666666666666, \"#ed7953\"], [0.7777777777777778, \"#fb9f3a\"], [0.8888888888888888, \"#fdca26\"], [1.0, \"#f0f921\"]], \"type\": \"heatmap\"}], \"heatmapgl\": [{\"colorbar\": {\"outlinewidth\": 0, \"ticks\": \"\"}, \"colorscale\": [[0.0, \"#0d0887\"], [0.1111111111111111, \"#46039f\"], [0.2222222222222222, \"#7201a8\"], [0.3333333333333333, \"#9c179e\"], [0.4444444444444444, \"#bd3786\"], [0.5555555555555556, \"#d8576b\"], [0.6666666666666666, \"#ed7953\"], [0.7777777777777778, \"#fb9f3a\"], [0.8888888888888888, \"#fdca26\"], [1.0, \"#f0f921\"]], \"type\": \"heatmapgl\"}], \"histogram\": [{\"marker\": {\"colorbar\": {\"outlinewidth\": 0, \"ticks\": \"\"}}, \"type\": \"histogram\"}], \"histogram2d\": [{\"colorbar\": {\"outlinewidth\": 0, \"ticks\": \"\"}, \"colorscale\": [[0.0, \"#0d0887\"], [0.1111111111111111, \"#46039f\"], [0.2222222222222222, \"#7201a8\"], [0.3333333333333333, \"#9c179e\"], [0.4444444444444444, \"#bd3786\"], [0.5555555555555556, \"#d8576b\"], [0.6666666666666666, \"#ed7953\"], [0.7777777777777778, \"#fb9f3a\"], [0.8888888888888888, \"#fdca26\"], [1.0, \"#f0f921\"]], \"type\": \"histogram2d\"}], \"histogram2dcontour\": [{\"colorbar\": {\"outlinewidth\": 0, \"ticks\": \"\"}, \"colorscale\": [[0.0, \"#0d0887\"], [0.1111111111111111, \"#46039f\"], [0.2222222222222222, \"#7201a8\"], [0.3333333333333333, \"#9c179e\"], [0.4444444444444444, \"#bd3786\"], [0.5555555555555556, \"#d8576b\"], [0.6666666666666666, \"#ed7953\"], [0.7777777777777778, \"#fb9f3a\"], [0.8888888888888888, \"#fdca26\"], [1.0, \"#f0f921\"]], \"type\": \"histogram2dcontour\"}], \"mesh3d\": [{\"colorbar\": {\"outlinewidth\": 0, \"ticks\": \"\"}, \"type\": \"mesh3d\"}], \"parcoords\": [{\"line\": {\"colorbar\": {\"outlinewidth\": 0, \"ticks\": \"\"}}, \"type\": \"parcoords\"}], \"scatter\": [{\"marker\": {\"colorbar\": {\"outlinewidth\": 0, \"ticks\": \"\"}}, \"type\": \"scatter\"}], \"scatter3d\": [{\"line\": {\"colorbar\": {\"outlinewidth\": 0, \"ticks\": \"\"}}, \"marker\": {\"colorbar\": {\"outlinewidth\": 0, \"ticks\": \"\"}}, \"type\": \"scatter3d\"}], \"scattercarpet\": [{\"marker\": {\"colorbar\": {\"outlinewidth\": 0, \"ticks\": \"\"}}, \"type\": \"scattercarpet\"}], \"scattergeo\": [{\"marker\": {\"colorbar\": {\"outlinewidth\": 0, \"ticks\": \"\"}}, \"type\": \"scattergeo\"}], \"scattergl\": [{\"marker\": {\"colorbar\": {\"outlinewidth\": 0, \"ticks\": \"\"}}, \"type\": \"scattergl\"}], \"scattermapbox\": [{\"marker\": {\"colorbar\": {\"outlinewidth\": 0, \"ticks\": \"\"}}, \"type\": \"scattermapbox\"}], \"scatterpolar\": [{\"marker\": {\"colorbar\": {\"outlinewidth\": 0, \"ticks\": \"\"}}, \"type\": \"scatterpolar\"}], \"scatterpolargl\": [{\"marker\": {\"colorbar\": {\"outlinewidth\": 0, \"ticks\": \"\"}}, \"type\": \"scatterpolargl\"}], \"scatterternary\": [{\"marker\": {\"colorbar\": {\"outlinewidth\": 0, \"ticks\": \"\"}}, \"type\": \"scatterternary\"}], \"surface\": [{\"colorbar\": {\"outlinewidth\": 0, \"ticks\": \"\"}, \"colorscale\": [[0.0, \"#0d0887\"], [0.1111111111111111, \"#46039f\"], [0.2222222222222222, \"#7201a8\"], [0.3333333333333333, \"#9c179e\"], [0.4444444444444444, \"#bd3786\"], [0.5555555555555556, \"#d8576b\"], [0.6666666666666666, \"#ed7953\"], [0.7777777777777778, \"#fb9f3a\"], [0.8888888888888888, \"#fdca26\"], [1.0, \"#f0f921\"]], \"type\": \"surface\"}], \"table\": [{\"cells\": {\"fill\": {\"color\": \"#EBF0F8\"}, \"line\": {\"color\": \"white\"}}, \"header\": {\"fill\": {\"color\": \"#C8D4E3\"}, \"line\": {\"color\": \"white\"}}, \"type\": \"table\"}]}, \"layout\": {\"annotationdefaults\": {\"arrowcolor\": \"#2a3f5f\", \"arrowhead\": 0, \"arrowwidth\": 1}, \"colorscale\": {\"diverging\": [[0, \"#8e0152\"], [0.1, \"#c51b7d\"], [0.2, \"#de77ae\"], [0.3, \"#f1b6da\"], [0.4, \"#fde0ef\"], [0.5, \"#f7f7f7\"], [0.6, \"#e6f5d0\"], [0.7, \"#b8e186\"], [0.8, \"#7fbc41\"], [0.9, \"#4d9221\"], [1, \"#276419\"]], \"sequential\": [[0.0, \"#0d0887\"], [0.1111111111111111, \"#46039f\"], [0.2222222222222222, \"#7201a8\"], [0.3333333333333333, \"#9c179e\"], [0.4444444444444444, \"#bd3786\"], [0.5555555555555556, \"#d8576b\"], [0.6666666666666666, \"#ed7953\"], [0.7777777777777778, \"#fb9f3a\"], [0.8888888888888888, \"#fdca26\"], [1.0, \"#f0f921\"]], \"sequentialminus\": [[0.0, \"#0d0887\"], [0.1111111111111111, \"#46039f\"], [0.2222222222222222, \"#7201a8\"], [0.3333333333333333, \"#9c179e\"], [0.4444444444444444, \"#bd3786\"], [0.5555555555555556, \"#d8576b\"], [0.6666666666666666, \"#ed7953\"], [0.7777777777777778, \"#fb9f3a\"], [0.8888888888888888, \"#fdca26\"], [1.0, \"#f0f921\"]]}, \"colorway\": [\"#636efa\", \"#EF553B\", \"#00cc96\", \"#ab63fa\", \"#FFA15A\", \"#19d3f3\", \"#FF6692\", \"#B6E880\", \"#FF97FF\", \"#FECB52\"], \"font\": {\"color\": \"#2a3f5f\"}, \"geo\": {\"bgcolor\": \"white\", \"lakecolor\": \"white\", \"landcolor\": \"#E5ECF6\", \"showlakes\": true, \"showland\": true, \"subunitcolor\": \"white\"}, \"hoverlabel\": {\"align\": \"left\"}, \"hovermode\": \"closest\", \"mapbox\": {\"style\": \"light\"}, \"paper_bgcolor\": \"white\", \"plot_bgcolor\": \"#E5ECF6\", \"polar\": {\"angularaxis\": {\"gridcolor\": \"white\", \"linecolor\": \"white\", \"ticks\": \"\"}, \"bgcolor\": \"#E5ECF6\", \"radialaxis\": {\"gridcolor\": \"white\", \"linecolor\": \"white\", \"ticks\": \"\"}}, \"scene\": {\"xaxis\": {\"backgroundcolor\": \"#E5ECF6\", \"gridcolor\": \"white\", \"gridwidth\": 2, \"linecolor\": \"white\", \"showbackground\": true, \"ticks\": \"\", \"zerolinecolor\": \"white\"}, \"yaxis\": {\"backgroundcolor\": \"#E5ECF6\", \"gridcolor\": \"white\", \"gridwidth\": 2, \"linecolor\": \"white\", \"showbackground\": true, \"ticks\": \"\", \"zerolinecolor\": \"white\"}, \"zaxis\": {\"backgroundcolor\": \"#E5ECF6\", \"gridcolor\": \"white\", \"gridwidth\": 2, \"linecolor\": \"white\", \"showbackground\": true, \"ticks\": \"\", \"zerolinecolor\": \"white\"}}, \"shapedefaults\": {\"line\": {\"color\": \"#2a3f5f\"}}, \"ternary\": {\"aaxis\": {\"gridcolor\": \"white\", \"linecolor\": \"white\", \"ticks\": \"\"}, \"baxis\": {\"gridcolor\": \"white\", \"linecolor\": \"white\", \"ticks\": \"\"}, \"bgcolor\": \"#E5ECF6\", \"caxis\": {\"gridcolor\": \"white\", \"linecolor\": \"white\", \"ticks\": \"\"}}, \"title\": {\"x\": 0.05}, \"xaxis\": {\"automargin\": true, \"gridcolor\": \"white\", \"linecolor\": \"white\", \"ticks\": \"\", \"zerolinecolor\": \"white\", \"zerolinewidth\": 2}, \"yaxis\": {\"automargin\": true, \"gridcolor\": \"white\", \"linecolor\": \"white\", \"ticks\": \"\", \"zerolinecolor\": \"white\", \"zerolinewidth\": 2}}}, \"xaxis\": {\"dtick\": 1, \"gridcolor\": \"rgb(0, 0, 0)\", \"side\": \"top\", \"ticks\": \"\"}, \"yaxis\": {\"dtick\": 1, \"ticks\": \"\", \"ticksuffix\": \"  \"}},\n",
       "                        {\"responsive\": true}\n",
       "                    ).then(function(){\n",
       "                            \n",
       "var gd = document.getElementById('eae1eb4c-c99c-4736-9ff1-db814bdd31de');\n",
       "var x = new MutationObserver(function (mutations, observer) {{\n",
       "        var display = window.getComputedStyle(gd).display;\n",
       "        if (!display || display === 'none') {{\n",
       "            console.log([gd, 'removed!']);\n",
       "            Plotly.purge(gd);\n",
       "            observer.disconnect();\n",
       "        }}\n",
       "}});\n",
       "\n",
       "// Listen for the removal of the full notebook cells\n",
       "var notebookContainer = gd.closest('#notebook-container');\n",
       "if (notebookContainer) {{\n",
       "    x.observe(notebookContainer, {childList: true});\n",
       "}}\n",
       "\n",
       "// Listen for the clearing of the current output cell\n",
       "var outputEl = gd.closest('.output');\n",
       "if (outputEl) {{\n",
       "    x.observe(outputEl, {childList: true});\n",
       "}}\n",
       "\n",
       "                        })\n",
       "                };\n",
       "                });\n",
       "            </script>\n",
       "        </div>"
      ]
     },
     "metadata": {},
     "output_type": "display_data"
    }
   ],
   "source": [
    "iplot(figure)"
   ]
  },
  {
   "cell_type": "markdown",
   "metadata": {},
   "source": [
    "Looking on correlation between described variable \"price\" shown both as value and log(value), we can see strong correlation with Age, Mileage, Power and is_new features. This can be usefull when building the model later. "
   ]
  },
  {
   "cell_type": "markdown",
   "metadata": {},
   "source": [
    "## Price distribution"
   ]
  },
  {
   "cell_type": "code",
   "execution_count": 45,
   "metadata": {},
   "outputs": [
    {
     "data": {
      "application/vnd.plotly.v1+json": {
       "config": {
        "plotlyServerURL": "https://plot.ly"
       },
       "data": [
        {
         "alignmentgroup": "True",
         "hoverlabel": {
          "namelength": 0
         },
         "hovertemplate": "Price range=%{x}<br>count=%{y}",
         "legendgroup": "",
         "marker": {
          "color": "#636efa"
         },
         "name": "",
         "offsetgroup": "",
         "orientation": "v",
         "showlegend": false,
         "textposition": "auto",
         "type": "bar",
         "x": [
          10000,
          20000,
          30000,
          40000,
          50000,
          60000,
          70000,
          80000,
          90000,
          100000,
          110000,
          120000,
          130000,
          140000,
          150000,
          160000,
          170000,
          180000,
          190000,
          200000,
          210000,
          220000,
          230000,
          240000,
          250000,
          260000,
          270000,
          280000,
          290000,
          300000,
          310000,
          320000,
          330000,
          340000,
          350000,
          360000,
          370000,
          380000,
          390000,
          400000,
          410000,
          420000,
          430000,
          440000,
          450000,
          460000,
          470000,
          480000,
          490000
         ],
         "xaxis": "x",
         "y": [
          121,
          156,
          186,
          105,
          81,
          99,
          89,
          67,
          63,
          65,
          39,
          48,
          46,
          45,
          32,
          29,
          29,
          46,
          40,
          34,
          21,
          19,
          26,
          13,
          25,
          10,
          12,
          9,
          15,
          11,
          3,
          2,
          6,
          4,
          3,
          3,
          5,
          1,
          1,
          4,
          5,
          2,
          1,
          1,
          1,
          2,
          3,
          1,
          1
         ],
         "yaxis": "y"
        }
       ],
       "layout": {
        "barmode": "relative",
        "height": 600,
        "legend": {
         "tracegroupgap": 0
        },
        "margin": {
         "t": 60
        },
        "template": {
         "data": {
          "bar": [
           {
            "error_x": {
             "color": "#2a3f5f"
            },
            "error_y": {
             "color": "#2a3f5f"
            },
            "marker": {
             "line": {
              "color": "#E5ECF6",
              "width": 0.5
             }
            },
            "type": "bar"
           }
          ],
          "barpolar": [
           {
            "marker": {
             "line": {
              "color": "#E5ECF6",
              "width": 0.5
             }
            },
            "type": "barpolar"
           }
          ],
          "carpet": [
           {
            "aaxis": {
             "endlinecolor": "#2a3f5f",
             "gridcolor": "white",
             "linecolor": "white",
             "minorgridcolor": "white",
             "startlinecolor": "#2a3f5f"
            },
            "baxis": {
             "endlinecolor": "#2a3f5f",
             "gridcolor": "white",
             "linecolor": "white",
             "minorgridcolor": "white",
             "startlinecolor": "#2a3f5f"
            },
            "type": "carpet"
           }
          ],
          "choropleth": [
           {
            "colorbar": {
             "outlinewidth": 0,
             "ticks": ""
            },
            "type": "choropleth"
           }
          ],
          "contour": [
           {
            "colorbar": {
             "outlinewidth": 0,
             "ticks": ""
            },
            "colorscale": [
             [
              0,
              "#0d0887"
             ],
             [
              0.1111111111111111,
              "#46039f"
             ],
             [
              0.2222222222222222,
              "#7201a8"
             ],
             [
              0.3333333333333333,
              "#9c179e"
             ],
             [
              0.4444444444444444,
              "#bd3786"
             ],
             [
              0.5555555555555556,
              "#d8576b"
             ],
             [
              0.6666666666666666,
              "#ed7953"
             ],
             [
              0.7777777777777778,
              "#fb9f3a"
             ],
             [
              0.8888888888888888,
              "#fdca26"
             ],
             [
              1,
              "#f0f921"
             ]
            ],
            "type": "contour"
           }
          ],
          "contourcarpet": [
           {
            "colorbar": {
             "outlinewidth": 0,
             "ticks": ""
            },
            "type": "contourcarpet"
           }
          ],
          "heatmap": [
           {
            "colorbar": {
             "outlinewidth": 0,
             "ticks": ""
            },
            "colorscale": [
             [
              0,
              "#0d0887"
             ],
             [
              0.1111111111111111,
              "#46039f"
             ],
             [
              0.2222222222222222,
              "#7201a8"
             ],
             [
              0.3333333333333333,
              "#9c179e"
             ],
             [
              0.4444444444444444,
              "#bd3786"
             ],
             [
              0.5555555555555556,
              "#d8576b"
             ],
             [
              0.6666666666666666,
              "#ed7953"
             ],
             [
              0.7777777777777778,
              "#fb9f3a"
             ],
             [
              0.8888888888888888,
              "#fdca26"
             ],
             [
              1,
              "#f0f921"
             ]
            ],
            "type": "heatmap"
           }
          ],
          "heatmapgl": [
           {
            "colorbar": {
             "outlinewidth": 0,
             "ticks": ""
            },
            "colorscale": [
             [
              0,
              "#0d0887"
             ],
             [
              0.1111111111111111,
              "#46039f"
             ],
             [
              0.2222222222222222,
              "#7201a8"
             ],
             [
              0.3333333333333333,
              "#9c179e"
             ],
             [
              0.4444444444444444,
              "#bd3786"
             ],
             [
              0.5555555555555556,
              "#d8576b"
             ],
             [
              0.6666666666666666,
              "#ed7953"
             ],
             [
              0.7777777777777778,
              "#fb9f3a"
             ],
             [
              0.8888888888888888,
              "#fdca26"
             ],
             [
              1,
              "#f0f921"
             ]
            ],
            "type": "heatmapgl"
           }
          ],
          "histogram": [
           {
            "marker": {
             "colorbar": {
              "outlinewidth": 0,
              "ticks": ""
             }
            },
            "type": "histogram"
           }
          ],
          "histogram2d": [
           {
            "colorbar": {
             "outlinewidth": 0,
             "ticks": ""
            },
            "colorscale": [
             [
              0,
              "#0d0887"
             ],
             [
              0.1111111111111111,
              "#46039f"
             ],
             [
              0.2222222222222222,
              "#7201a8"
             ],
             [
              0.3333333333333333,
              "#9c179e"
             ],
             [
              0.4444444444444444,
              "#bd3786"
             ],
             [
              0.5555555555555556,
              "#d8576b"
             ],
             [
              0.6666666666666666,
              "#ed7953"
             ],
             [
              0.7777777777777778,
              "#fb9f3a"
             ],
             [
              0.8888888888888888,
              "#fdca26"
             ],
             [
              1,
              "#f0f921"
             ]
            ],
            "type": "histogram2d"
           }
          ],
          "histogram2dcontour": [
           {
            "colorbar": {
             "outlinewidth": 0,
             "ticks": ""
            },
            "colorscale": [
             [
              0,
              "#0d0887"
             ],
             [
              0.1111111111111111,
              "#46039f"
             ],
             [
              0.2222222222222222,
              "#7201a8"
             ],
             [
              0.3333333333333333,
              "#9c179e"
             ],
             [
              0.4444444444444444,
              "#bd3786"
             ],
             [
              0.5555555555555556,
              "#d8576b"
             ],
             [
              0.6666666666666666,
              "#ed7953"
             ],
             [
              0.7777777777777778,
              "#fb9f3a"
             ],
             [
              0.8888888888888888,
              "#fdca26"
             ],
             [
              1,
              "#f0f921"
             ]
            ],
            "type": "histogram2dcontour"
           }
          ],
          "mesh3d": [
           {
            "colorbar": {
             "outlinewidth": 0,
             "ticks": ""
            },
            "type": "mesh3d"
           }
          ],
          "parcoords": [
           {
            "line": {
             "colorbar": {
              "outlinewidth": 0,
              "ticks": ""
             }
            },
            "type": "parcoords"
           }
          ],
          "scatter": [
           {
            "marker": {
             "colorbar": {
              "outlinewidth": 0,
              "ticks": ""
             }
            },
            "type": "scatter"
           }
          ],
          "scatter3d": [
           {
            "line": {
             "colorbar": {
              "outlinewidth": 0,
              "ticks": ""
             }
            },
            "marker": {
             "colorbar": {
              "outlinewidth": 0,
              "ticks": ""
             }
            },
            "type": "scatter3d"
           }
          ],
          "scattercarpet": [
           {
            "marker": {
             "colorbar": {
              "outlinewidth": 0,
              "ticks": ""
             }
            },
            "type": "scattercarpet"
           }
          ],
          "scattergeo": [
           {
            "marker": {
             "colorbar": {
              "outlinewidth": 0,
              "ticks": ""
             }
            },
            "type": "scattergeo"
           }
          ],
          "scattergl": [
           {
            "marker": {
             "colorbar": {
              "outlinewidth": 0,
              "ticks": ""
             }
            },
            "type": "scattergl"
           }
          ],
          "scattermapbox": [
           {
            "marker": {
             "colorbar": {
              "outlinewidth": 0,
              "ticks": ""
             }
            },
            "type": "scattermapbox"
           }
          ],
          "scatterpolar": [
           {
            "marker": {
             "colorbar": {
              "outlinewidth": 0,
              "ticks": ""
             }
            },
            "type": "scatterpolar"
           }
          ],
          "scatterpolargl": [
           {
            "marker": {
             "colorbar": {
              "outlinewidth": 0,
              "ticks": ""
             }
            },
            "type": "scatterpolargl"
           }
          ],
          "scatterternary": [
           {
            "marker": {
             "colorbar": {
              "outlinewidth": 0,
              "ticks": ""
             }
            },
            "type": "scatterternary"
           }
          ],
          "surface": [
           {
            "colorbar": {
             "outlinewidth": 0,
             "ticks": ""
            },
            "colorscale": [
             [
              0,
              "#0d0887"
             ],
             [
              0.1111111111111111,
              "#46039f"
             ],
             [
              0.2222222222222222,
              "#7201a8"
             ],
             [
              0.3333333333333333,
              "#9c179e"
             ],
             [
              0.4444444444444444,
              "#bd3786"
             ],
             [
              0.5555555555555556,
              "#d8576b"
             ],
             [
              0.6666666666666666,
              "#ed7953"
             ],
             [
              0.7777777777777778,
              "#fb9f3a"
             ],
             [
              0.8888888888888888,
              "#fdca26"
             ],
             [
              1,
              "#f0f921"
             ]
            ],
            "type": "surface"
           }
          ],
          "table": [
           {
            "cells": {
             "fill": {
              "color": "#EBF0F8"
             },
             "line": {
              "color": "white"
             }
            },
            "header": {
             "fill": {
              "color": "#C8D4E3"
             },
             "line": {
              "color": "white"
             }
            },
            "type": "table"
           }
          ]
         },
         "layout": {
          "annotationdefaults": {
           "arrowcolor": "#2a3f5f",
           "arrowhead": 0,
           "arrowwidth": 1
          },
          "colorscale": {
           "diverging": [
            [
             0,
             "#8e0152"
            ],
            [
             0.1,
             "#c51b7d"
            ],
            [
             0.2,
             "#de77ae"
            ],
            [
             0.3,
             "#f1b6da"
            ],
            [
             0.4,
             "#fde0ef"
            ],
            [
             0.5,
             "#f7f7f7"
            ],
            [
             0.6,
             "#e6f5d0"
            ],
            [
             0.7,
             "#b8e186"
            ],
            [
             0.8,
             "#7fbc41"
            ],
            [
             0.9,
             "#4d9221"
            ],
            [
             1,
             "#276419"
            ]
           ],
           "sequential": [
            [
             0,
             "#0d0887"
            ],
            [
             0.1111111111111111,
             "#46039f"
            ],
            [
             0.2222222222222222,
             "#7201a8"
            ],
            [
             0.3333333333333333,
             "#9c179e"
            ],
            [
             0.4444444444444444,
             "#bd3786"
            ],
            [
             0.5555555555555556,
             "#d8576b"
            ],
            [
             0.6666666666666666,
             "#ed7953"
            ],
            [
             0.7777777777777778,
             "#fb9f3a"
            ],
            [
             0.8888888888888888,
             "#fdca26"
            ],
            [
             1,
             "#f0f921"
            ]
           ],
           "sequentialminus": [
            [
             0,
             "#0d0887"
            ],
            [
             0.1111111111111111,
             "#46039f"
            ],
            [
             0.2222222222222222,
             "#7201a8"
            ],
            [
             0.3333333333333333,
             "#9c179e"
            ],
            [
             0.4444444444444444,
             "#bd3786"
            ],
            [
             0.5555555555555556,
             "#d8576b"
            ],
            [
             0.6666666666666666,
             "#ed7953"
            ],
            [
             0.7777777777777778,
             "#fb9f3a"
            ],
            [
             0.8888888888888888,
             "#fdca26"
            ],
            [
             1,
             "#f0f921"
            ]
           ]
          },
          "colorway": [
           "#636efa",
           "#EF553B",
           "#00cc96",
           "#ab63fa",
           "#FFA15A",
           "#19d3f3",
           "#FF6692",
           "#B6E880",
           "#FF97FF",
           "#FECB52"
          ],
          "font": {
           "color": "#2a3f5f"
          },
          "geo": {
           "bgcolor": "white",
           "lakecolor": "white",
           "landcolor": "#E5ECF6",
           "showlakes": true,
           "showland": true,
           "subunitcolor": "white"
          },
          "hoverlabel": {
           "align": "left"
          },
          "hovermode": "closest",
          "mapbox": {
           "style": "light"
          },
          "paper_bgcolor": "white",
          "plot_bgcolor": "#E5ECF6",
          "polar": {
           "angularaxis": {
            "gridcolor": "white",
            "linecolor": "white",
            "ticks": ""
           },
           "bgcolor": "#E5ECF6",
           "radialaxis": {
            "gridcolor": "white",
            "linecolor": "white",
            "ticks": ""
           }
          },
          "scene": {
           "xaxis": {
            "backgroundcolor": "#E5ECF6",
            "gridcolor": "white",
            "gridwidth": 2,
            "linecolor": "white",
            "showbackground": true,
            "ticks": "",
            "zerolinecolor": "white"
           },
           "yaxis": {
            "backgroundcolor": "#E5ECF6",
            "gridcolor": "white",
            "gridwidth": 2,
            "linecolor": "white",
            "showbackground": true,
            "ticks": "",
            "zerolinecolor": "white"
           },
           "zaxis": {
            "backgroundcolor": "#E5ECF6",
            "gridcolor": "white",
            "gridwidth": 2,
            "linecolor": "white",
            "showbackground": true,
            "ticks": "",
            "zerolinecolor": "white"
           }
          },
          "shapedefaults": {
           "line": {
            "color": "#2a3f5f"
           }
          },
          "ternary": {
           "aaxis": {
            "gridcolor": "white",
            "linecolor": "white",
            "ticks": ""
           },
           "baxis": {
            "gridcolor": "white",
            "linecolor": "white",
            "ticks": ""
           },
           "bgcolor": "#E5ECF6",
           "caxis": {
            "gridcolor": "white",
            "linecolor": "white",
            "ticks": ""
           }
          },
          "title": {
           "x": 0.05
          },
          "xaxis": {
           "automargin": true,
           "gridcolor": "white",
           "linecolor": "white",
           "ticks": "",
           "zerolinecolor": "white",
           "zerolinewidth": 2
          },
          "yaxis": {
           "automargin": true,
           "gridcolor": "white",
           "linecolor": "white",
           "ticks": "",
           "zerolinecolor": "white",
           "zerolinewidth": 2
          }
         }
        },
        "xaxis": {
         "anchor": "y",
         "domain": [
          0,
          0.98
         ],
         "title": {
          "text": "Price range"
         }
        },
        "yaxis": {
         "anchor": "x",
         "domain": [
          0,
          1
         ],
         "title": {
          "text": "count"
         }
        }
       }
      },
      "text/html": [
       "<div>\n",
       "        \n",
       "        \n",
       "            <div id=\"f53aa77d-c444-4fcd-bacd-debce082a75e\" class=\"plotly-graph-div\" style=\"height:600px; width:100%;\"></div>\n",
       "            <script type=\"text/javascript\">\n",
       "                require([\"plotly\"], function(Plotly) {\n",
       "                    window.PLOTLYENV=window.PLOTLYENV || {};\n",
       "                    \n",
       "                if (document.getElementById(\"f53aa77d-c444-4fcd-bacd-debce082a75e\")) {\n",
       "                    Plotly.newPlot(\n",
       "                        'f53aa77d-c444-4fcd-bacd-debce082a75e',\n",
       "                        [{\"alignmentgroup\": \"True\", \"hoverlabel\": {\"namelength\": 0}, \"hovertemplate\": \"Price range=%{x}<br>count=%{y}\", \"legendgroup\": \"\", \"marker\": {\"color\": \"#636efa\"}, \"name\": \"\", \"offsetgroup\": \"\", \"orientation\": \"v\", \"showlegend\": false, \"textposition\": \"auto\", \"type\": \"bar\", \"x\": [10000, 20000, 30000, 40000, 50000, 60000, 70000, 80000, 90000, 100000, 110000, 120000, 130000, 140000, 150000, 160000, 170000, 180000, 190000, 200000, 210000, 220000, 230000, 240000, 250000, 260000, 270000, 280000, 290000, 300000, 310000, 320000, 330000, 340000, 350000, 360000, 370000, 380000, 390000, 400000, 410000, 420000, 430000, 440000, 450000, 460000, 470000, 480000, 490000], \"xaxis\": \"x\", \"y\": [121, 156, 186, 105, 81, 99, 89, 67, 63, 65, 39, 48, 46, 45, 32, 29, 29, 46, 40, 34, 21, 19, 26, 13, 25, 10, 12, 9, 15, 11, 3, 2, 6, 4, 3, 3, 5, 1, 1, 4, 5, 2, 1, 1, 1, 2, 3, 1, 1], \"yaxis\": \"y\"}],\n",
       "                        {\"barmode\": \"relative\", \"height\": 600, \"legend\": {\"tracegroupgap\": 0}, \"margin\": {\"t\": 60}, \"template\": {\"data\": {\"bar\": [{\"error_x\": {\"color\": \"#2a3f5f\"}, \"error_y\": {\"color\": \"#2a3f5f\"}, \"marker\": {\"line\": {\"color\": \"#E5ECF6\", \"width\": 0.5}}, \"type\": \"bar\"}], \"barpolar\": [{\"marker\": {\"line\": {\"color\": \"#E5ECF6\", \"width\": 0.5}}, \"type\": \"barpolar\"}], \"carpet\": [{\"aaxis\": {\"endlinecolor\": \"#2a3f5f\", \"gridcolor\": \"white\", \"linecolor\": \"white\", \"minorgridcolor\": \"white\", \"startlinecolor\": \"#2a3f5f\"}, \"baxis\": {\"endlinecolor\": \"#2a3f5f\", \"gridcolor\": \"white\", \"linecolor\": \"white\", \"minorgridcolor\": \"white\", \"startlinecolor\": \"#2a3f5f\"}, \"type\": \"carpet\"}], \"choropleth\": [{\"colorbar\": {\"outlinewidth\": 0, \"ticks\": \"\"}, \"type\": \"choropleth\"}], \"contour\": [{\"colorbar\": {\"outlinewidth\": 0, \"ticks\": \"\"}, \"colorscale\": [[0.0, \"#0d0887\"], [0.1111111111111111, \"#46039f\"], [0.2222222222222222, \"#7201a8\"], [0.3333333333333333, \"#9c179e\"], [0.4444444444444444, \"#bd3786\"], [0.5555555555555556, \"#d8576b\"], [0.6666666666666666, \"#ed7953\"], [0.7777777777777778, \"#fb9f3a\"], [0.8888888888888888, \"#fdca26\"], [1.0, \"#f0f921\"]], \"type\": \"contour\"}], \"contourcarpet\": [{\"colorbar\": {\"outlinewidth\": 0, \"ticks\": \"\"}, \"type\": \"contourcarpet\"}], \"heatmap\": [{\"colorbar\": {\"outlinewidth\": 0, \"ticks\": \"\"}, \"colorscale\": [[0.0, \"#0d0887\"], [0.1111111111111111, \"#46039f\"], [0.2222222222222222, \"#7201a8\"], [0.3333333333333333, \"#9c179e\"], [0.4444444444444444, \"#bd3786\"], [0.5555555555555556, \"#d8576b\"], [0.6666666666666666, \"#ed7953\"], [0.7777777777777778, \"#fb9f3a\"], [0.8888888888888888, \"#fdca26\"], [1.0, \"#f0f921\"]], \"type\": \"heatmap\"}], \"heatmapgl\": [{\"colorbar\": {\"outlinewidth\": 0, \"ticks\": \"\"}, \"colorscale\": [[0.0, \"#0d0887\"], [0.1111111111111111, \"#46039f\"], [0.2222222222222222, \"#7201a8\"], [0.3333333333333333, \"#9c179e\"], [0.4444444444444444, \"#bd3786\"], [0.5555555555555556, \"#d8576b\"], [0.6666666666666666, \"#ed7953\"], [0.7777777777777778, \"#fb9f3a\"], [0.8888888888888888, \"#fdca26\"], [1.0, \"#f0f921\"]], \"type\": \"heatmapgl\"}], \"histogram\": [{\"marker\": {\"colorbar\": {\"outlinewidth\": 0, \"ticks\": \"\"}}, \"type\": \"histogram\"}], \"histogram2d\": [{\"colorbar\": {\"outlinewidth\": 0, \"ticks\": \"\"}, \"colorscale\": [[0.0, \"#0d0887\"], [0.1111111111111111, \"#46039f\"], [0.2222222222222222, \"#7201a8\"], [0.3333333333333333, \"#9c179e\"], [0.4444444444444444, \"#bd3786\"], [0.5555555555555556, \"#d8576b\"], [0.6666666666666666, \"#ed7953\"], [0.7777777777777778, \"#fb9f3a\"], [0.8888888888888888, \"#fdca26\"], [1.0, \"#f0f921\"]], \"type\": \"histogram2d\"}], \"histogram2dcontour\": [{\"colorbar\": {\"outlinewidth\": 0, \"ticks\": \"\"}, \"colorscale\": [[0.0, \"#0d0887\"], [0.1111111111111111, \"#46039f\"], [0.2222222222222222, \"#7201a8\"], [0.3333333333333333, \"#9c179e\"], [0.4444444444444444, \"#bd3786\"], [0.5555555555555556, \"#d8576b\"], [0.6666666666666666, \"#ed7953\"], [0.7777777777777778, \"#fb9f3a\"], [0.8888888888888888, \"#fdca26\"], [1.0, \"#f0f921\"]], \"type\": \"histogram2dcontour\"}], \"mesh3d\": [{\"colorbar\": {\"outlinewidth\": 0, \"ticks\": \"\"}, \"type\": \"mesh3d\"}], \"parcoords\": [{\"line\": {\"colorbar\": {\"outlinewidth\": 0, \"ticks\": \"\"}}, \"type\": \"parcoords\"}], \"scatter\": [{\"marker\": {\"colorbar\": {\"outlinewidth\": 0, \"ticks\": \"\"}}, \"type\": \"scatter\"}], \"scatter3d\": [{\"line\": {\"colorbar\": {\"outlinewidth\": 0, \"ticks\": \"\"}}, \"marker\": {\"colorbar\": {\"outlinewidth\": 0, \"ticks\": \"\"}}, \"type\": \"scatter3d\"}], \"scattercarpet\": [{\"marker\": {\"colorbar\": {\"outlinewidth\": 0, \"ticks\": \"\"}}, \"type\": \"scattercarpet\"}], \"scattergeo\": [{\"marker\": {\"colorbar\": {\"outlinewidth\": 0, \"ticks\": \"\"}}, \"type\": \"scattergeo\"}], \"scattergl\": [{\"marker\": {\"colorbar\": {\"outlinewidth\": 0, \"ticks\": \"\"}}, \"type\": \"scattergl\"}], \"scattermapbox\": [{\"marker\": {\"colorbar\": {\"outlinewidth\": 0, \"ticks\": \"\"}}, \"type\": \"scattermapbox\"}], \"scatterpolar\": [{\"marker\": {\"colorbar\": {\"outlinewidth\": 0, \"ticks\": \"\"}}, \"type\": \"scatterpolar\"}], \"scatterpolargl\": [{\"marker\": {\"colorbar\": {\"outlinewidth\": 0, \"ticks\": \"\"}}, \"type\": \"scatterpolargl\"}], \"scatterternary\": [{\"marker\": {\"colorbar\": {\"outlinewidth\": 0, \"ticks\": \"\"}}, \"type\": \"scatterternary\"}], \"surface\": [{\"colorbar\": {\"outlinewidth\": 0, \"ticks\": \"\"}, \"colorscale\": [[0.0, \"#0d0887\"], [0.1111111111111111, \"#46039f\"], [0.2222222222222222, \"#7201a8\"], [0.3333333333333333, \"#9c179e\"], [0.4444444444444444, \"#bd3786\"], [0.5555555555555556, \"#d8576b\"], [0.6666666666666666, \"#ed7953\"], [0.7777777777777778, \"#fb9f3a\"], [0.8888888888888888, \"#fdca26\"], [1.0, \"#f0f921\"]], \"type\": \"surface\"}], \"table\": [{\"cells\": {\"fill\": {\"color\": \"#EBF0F8\"}, \"line\": {\"color\": \"white\"}}, \"header\": {\"fill\": {\"color\": \"#C8D4E3\"}, \"line\": {\"color\": \"white\"}}, \"type\": \"table\"}]}, \"layout\": {\"annotationdefaults\": {\"arrowcolor\": \"#2a3f5f\", \"arrowhead\": 0, \"arrowwidth\": 1}, \"colorscale\": {\"diverging\": [[0, \"#8e0152\"], [0.1, \"#c51b7d\"], [0.2, \"#de77ae\"], [0.3, \"#f1b6da\"], [0.4, \"#fde0ef\"], [0.5, \"#f7f7f7\"], [0.6, \"#e6f5d0\"], [0.7, \"#b8e186\"], [0.8, \"#7fbc41\"], [0.9, \"#4d9221\"], [1, \"#276419\"]], \"sequential\": [[0.0, \"#0d0887\"], [0.1111111111111111, \"#46039f\"], [0.2222222222222222, \"#7201a8\"], [0.3333333333333333, \"#9c179e\"], [0.4444444444444444, \"#bd3786\"], [0.5555555555555556, \"#d8576b\"], [0.6666666666666666, \"#ed7953\"], [0.7777777777777778, \"#fb9f3a\"], [0.8888888888888888, \"#fdca26\"], [1.0, \"#f0f921\"]], \"sequentialminus\": [[0.0, \"#0d0887\"], [0.1111111111111111, \"#46039f\"], [0.2222222222222222, \"#7201a8\"], [0.3333333333333333, \"#9c179e\"], [0.4444444444444444, \"#bd3786\"], [0.5555555555555556, \"#d8576b\"], [0.6666666666666666, \"#ed7953\"], [0.7777777777777778, \"#fb9f3a\"], [0.8888888888888888, \"#fdca26\"], [1.0, \"#f0f921\"]]}, \"colorway\": [\"#636efa\", \"#EF553B\", \"#00cc96\", \"#ab63fa\", \"#FFA15A\", \"#19d3f3\", \"#FF6692\", \"#B6E880\", \"#FF97FF\", \"#FECB52\"], \"font\": {\"color\": \"#2a3f5f\"}, \"geo\": {\"bgcolor\": \"white\", \"lakecolor\": \"white\", \"landcolor\": \"#E5ECF6\", \"showlakes\": true, \"showland\": true, \"subunitcolor\": \"white\"}, \"hoverlabel\": {\"align\": \"left\"}, \"hovermode\": \"closest\", \"mapbox\": {\"style\": \"light\"}, \"paper_bgcolor\": \"white\", \"plot_bgcolor\": \"#E5ECF6\", \"polar\": {\"angularaxis\": {\"gridcolor\": \"white\", \"linecolor\": \"white\", \"ticks\": \"\"}, \"bgcolor\": \"#E5ECF6\", \"radialaxis\": {\"gridcolor\": \"white\", \"linecolor\": \"white\", \"ticks\": \"\"}}, \"scene\": {\"xaxis\": {\"backgroundcolor\": \"#E5ECF6\", \"gridcolor\": \"white\", \"gridwidth\": 2, \"linecolor\": \"white\", \"showbackground\": true, \"ticks\": \"\", \"zerolinecolor\": \"white\"}, \"yaxis\": {\"backgroundcolor\": \"#E5ECF6\", \"gridcolor\": \"white\", \"gridwidth\": 2, \"linecolor\": \"white\", \"showbackground\": true, \"ticks\": \"\", \"zerolinecolor\": \"white\"}, \"zaxis\": {\"backgroundcolor\": \"#E5ECF6\", \"gridcolor\": \"white\", \"gridwidth\": 2, \"linecolor\": \"white\", \"showbackground\": true, \"ticks\": \"\", \"zerolinecolor\": \"white\"}}, \"shapedefaults\": {\"line\": {\"color\": \"#2a3f5f\"}}, \"ternary\": {\"aaxis\": {\"gridcolor\": \"white\", \"linecolor\": \"white\", \"ticks\": \"\"}, \"baxis\": {\"gridcolor\": \"white\", \"linecolor\": \"white\", \"ticks\": \"\"}, \"bgcolor\": \"#E5ECF6\", \"caxis\": {\"gridcolor\": \"white\", \"linecolor\": \"white\", \"ticks\": \"\"}}, \"title\": {\"x\": 0.05}, \"xaxis\": {\"automargin\": true, \"gridcolor\": \"white\", \"linecolor\": \"white\", \"ticks\": \"\", \"zerolinecolor\": \"white\", \"zerolinewidth\": 2}, \"yaxis\": {\"automargin\": true, \"gridcolor\": \"white\", \"linecolor\": \"white\", \"ticks\": \"\", \"zerolinecolor\": \"white\", \"zerolinewidth\": 2}}}, \"xaxis\": {\"anchor\": \"y\", \"domain\": [0.0, 0.98], \"title\": {\"text\": \"Price range\"}}, \"yaxis\": {\"anchor\": \"x\", \"domain\": [0.0, 1.0], \"title\": {\"text\": \"count\"}}},\n",
       "                        {\"responsive\": true}\n",
       "                    ).then(function(){\n",
       "                            \n",
       "var gd = document.getElementById('f53aa77d-c444-4fcd-bacd-debce082a75e');\n",
       "var x = new MutationObserver(function (mutations, observer) {{\n",
       "        var display = window.getComputedStyle(gd).display;\n",
       "        if (!display || display === 'none') {{\n",
       "            console.log([gd, 'removed!']);\n",
       "            Plotly.purge(gd);\n",
       "            observer.disconnect();\n",
       "        }}\n",
       "}});\n",
       "\n",
       "// Listen for the removal of the full notebook cells\n",
       "var notebookContainer = gd.closest('#notebook-container');\n",
       "if (notebookContainer) {{\n",
       "    x.observe(notebookContainer, {childList: true});\n",
       "}}\n",
       "\n",
       "// Listen for the clearing of the current output cell\n",
       "var outputEl = gd.closest('.output');\n",
       "if (outputEl) {{\n",
       "    x.observe(outputEl, {childList: true});\n",
       "}}\n",
       "\n",
       "                        })\n",
       "                };\n",
       "                });\n",
       "            </script>\n",
       "        </div>"
      ]
     },
     "metadata": {},
     "output_type": "display_data"
    }
   ],
   "source": [
    "counts, bins = np.histogram(df.price, bins=range(0, 500000, 10000))\n",
    "bins = bins[1:]\n",
    "\n",
    "fig = px.bar(x=bins, y=counts, labels={'x':'Price range', 'y':'count'})\n",
    "fig.show()"
   ]
  },
  {
   "cell_type": "code",
   "execution_count": 46,
   "metadata": {},
   "outputs": [
    {
     "data": {
      "application/vnd.plotly.v1+json": {
       "config": {
        "plotlyServerURL": "https://plot.ly"
       },
       "data": [
        {
         "alignmentgroup": "True",
         "hoverlabel": {
          "namelength": 0
         },
         "hovertemplate": "Price range [log]=%{x}<br>count=%{y}",
         "legendgroup": "",
         "marker": {
          "color": "#636efa"
         },
         "name": "",
         "offsetgroup": "",
         "orientation": "v",
         "showlegend": false,
         "textposition": "auto",
         "type": "bar",
         "x": [
          1,
          2,
          3,
          4,
          5,
          6,
          7,
          8,
          9
         ],
         "xaxis": "x",
         "y": [
          8,
          66,
          207,
          404,
          547,
          382,
          33,
          0,
          0
         ],
         "yaxis": "y"
        }
       ],
       "layout": {
        "barmode": "relative",
        "height": 600,
        "legend": {
         "tracegroupgap": 0
        },
        "margin": {
         "t": 60
        },
        "template": {
         "data": {
          "bar": [
           {
            "error_x": {
             "color": "#2a3f5f"
            },
            "error_y": {
             "color": "#2a3f5f"
            },
            "marker": {
             "line": {
              "color": "#E5ECF6",
              "width": 0.5
             }
            },
            "type": "bar"
           }
          ],
          "barpolar": [
           {
            "marker": {
             "line": {
              "color": "#E5ECF6",
              "width": 0.5
             }
            },
            "type": "barpolar"
           }
          ],
          "carpet": [
           {
            "aaxis": {
             "endlinecolor": "#2a3f5f",
             "gridcolor": "white",
             "linecolor": "white",
             "minorgridcolor": "white",
             "startlinecolor": "#2a3f5f"
            },
            "baxis": {
             "endlinecolor": "#2a3f5f",
             "gridcolor": "white",
             "linecolor": "white",
             "minorgridcolor": "white",
             "startlinecolor": "#2a3f5f"
            },
            "type": "carpet"
           }
          ],
          "choropleth": [
           {
            "colorbar": {
             "outlinewidth": 0,
             "ticks": ""
            },
            "type": "choropleth"
           }
          ],
          "contour": [
           {
            "colorbar": {
             "outlinewidth": 0,
             "ticks": ""
            },
            "colorscale": [
             [
              0,
              "#0d0887"
             ],
             [
              0.1111111111111111,
              "#46039f"
             ],
             [
              0.2222222222222222,
              "#7201a8"
             ],
             [
              0.3333333333333333,
              "#9c179e"
             ],
             [
              0.4444444444444444,
              "#bd3786"
             ],
             [
              0.5555555555555556,
              "#d8576b"
             ],
             [
              0.6666666666666666,
              "#ed7953"
             ],
             [
              0.7777777777777778,
              "#fb9f3a"
             ],
             [
              0.8888888888888888,
              "#fdca26"
             ],
             [
              1,
              "#f0f921"
             ]
            ],
            "type": "contour"
           }
          ],
          "contourcarpet": [
           {
            "colorbar": {
             "outlinewidth": 0,
             "ticks": ""
            },
            "type": "contourcarpet"
           }
          ],
          "heatmap": [
           {
            "colorbar": {
             "outlinewidth": 0,
             "ticks": ""
            },
            "colorscale": [
             [
              0,
              "#0d0887"
             ],
             [
              0.1111111111111111,
              "#46039f"
             ],
             [
              0.2222222222222222,
              "#7201a8"
             ],
             [
              0.3333333333333333,
              "#9c179e"
             ],
             [
              0.4444444444444444,
              "#bd3786"
             ],
             [
              0.5555555555555556,
              "#d8576b"
             ],
             [
              0.6666666666666666,
              "#ed7953"
             ],
             [
              0.7777777777777778,
              "#fb9f3a"
             ],
             [
              0.8888888888888888,
              "#fdca26"
             ],
             [
              1,
              "#f0f921"
             ]
            ],
            "type": "heatmap"
           }
          ],
          "heatmapgl": [
           {
            "colorbar": {
             "outlinewidth": 0,
             "ticks": ""
            },
            "colorscale": [
             [
              0,
              "#0d0887"
             ],
             [
              0.1111111111111111,
              "#46039f"
             ],
             [
              0.2222222222222222,
              "#7201a8"
             ],
             [
              0.3333333333333333,
              "#9c179e"
             ],
             [
              0.4444444444444444,
              "#bd3786"
             ],
             [
              0.5555555555555556,
              "#d8576b"
             ],
             [
              0.6666666666666666,
              "#ed7953"
             ],
             [
              0.7777777777777778,
              "#fb9f3a"
             ],
             [
              0.8888888888888888,
              "#fdca26"
             ],
             [
              1,
              "#f0f921"
             ]
            ],
            "type": "heatmapgl"
           }
          ],
          "histogram": [
           {
            "marker": {
             "colorbar": {
              "outlinewidth": 0,
              "ticks": ""
             }
            },
            "type": "histogram"
           }
          ],
          "histogram2d": [
           {
            "colorbar": {
             "outlinewidth": 0,
             "ticks": ""
            },
            "colorscale": [
             [
              0,
              "#0d0887"
             ],
             [
              0.1111111111111111,
              "#46039f"
             ],
             [
              0.2222222222222222,
              "#7201a8"
             ],
             [
              0.3333333333333333,
              "#9c179e"
             ],
             [
              0.4444444444444444,
              "#bd3786"
             ],
             [
              0.5555555555555556,
              "#d8576b"
             ],
             [
              0.6666666666666666,
              "#ed7953"
             ],
             [
              0.7777777777777778,
              "#fb9f3a"
             ],
             [
              0.8888888888888888,
              "#fdca26"
             ],
             [
              1,
              "#f0f921"
             ]
            ],
            "type": "histogram2d"
           }
          ],
          "histogram2dcontour": [
           {
            "colorbar": {
             "outlinewidth": 0,
             "ticks": ""
            },
            "colorscale": [
             [
              0,
              "#0d0887"
             ],
             [
              0.1111111111111111,
              "#46039f"
             ],
             [
              0.2222222222222222,
              "#7201a8"
             ],
             [
              0.3333333333333333,
              "#9c179e"
             ],
             [
              0.4444444444444444,
              "#bd3786"
             ],
             [
              0.5555555555555556,
              "#d8576b"
             ],
             [
              0.6666666666666666,
              "#ed7953"
             ],
             [
              0.7777777777777778,
              "#fb9f3a"
             ],
             [
              0.8888888888888888,
              "#fdca26"
             ],
             [
              1,
              "#f0f921"
             ]
            ],
            "type": "histogram2dcontour"
           }
          ],
          "mesh3d": [
           {
            "colorbar": {
             "outlinewidth": 0,
             "ticks": ""
            },
            "type": "mesh3d"
           }
          ],
          "parcoords": [
           {
            "line": {
             "colorbar": {
              "outlinewidth": 0,
              "ticks": ""
             }
            },
            "type": "parcoords"
           }
          ],
          "scatter": [
           {
            "marker": {
             "colorbar": {
              "outlinewidth": 0,
              "ticks": ""
             }
            },
            "type": "scatter"
           }
          ],
          "scatter3d": [
           {
            "line": {
             "colorbar": {
              "outlinewidth": 0,
              "ticks": ""
             }
            },
            "marker": {
             "colorbar": {
              "outlinewidth": 0,
              "ticks": ""
             }
            },
            "type": "scatter3d"
           }
          ],
          "scattercarpet": [
           {
            "marker": {
             "colorbar": {
              "outlinewidth": 0,
              "ticks": ""
             }
            },
            "type": "scattercarpet"
           }
          ],
          "scattergeo": [
           {
            "marker": {
             "colorbar": {
              "outlinewidth": 0,
              "ticks": ""
             }
            },
            "type": "scattergeo"
           }
          ],
          "scattergl": [
           {
            "marker": {
             "colorbar": {
              "outlinewidth": 0,
              "ticks": ""
             }
            },
            "type": "scattergl"
           }
          ],
          "scattermapbox": [
           {
            "marker": {
             "colorbar": {
              "outlinewidth": 0,
              "ticks": ""
             }
            },
            "type": "scattermapbox"
           }
          ],
          "scatterpolar": [
           {
            "marker": {
             "colorbar": {
              "outlinewidth": 0,
              "ticks": ""
             }
            },
            "type": "scatterpolar"
           }
          ],
          "scatterpolargl": [
           {
            "marker": {
             "colorbar": {
              "outlinewidth": 0,
              "ticks": ""
             }
            },
            "type": "scatterpolargl"
           }
          ],
          "scatterternary": [
           {
            "marker": {
             "colorbar": {
              "outlinewidth": 0,
              "ticks": ""
             }
            },
            "type": "scatterternary"
           }
          ],
          "surface": [
           {
            "colorbar": {
             "outlinewidth": 0,
             "ticks": ""
            },
            "colorscale": [
             [
              0,
              "#0d0887"
             ],
             [
              0.1111111111111111,
              "#46039f"
             ],
             [
              0.2222222222222222,
              "#7201a8"
             ],
             [
              0.3333333333333333,
              "#9c179e"
             ],
             [
              0.4444444444444444,
              "#bd3786"
             ],
             [
              0.5555555555555556,
              "#d8576b"
             ],
             [
              0.6666666666666666,
              "#ed7953"
             ],
             [
              0.7777777777777778,
              "#fb9f3a"
             ],
             [
              0.8888888888888888,
              "#fdca26"
             ],
             [
              1,
              "#f0f921"
             ]
            ],
            "type": "surface"
           }
          ],
          "table": [
           {
            "cells": {
             "fill": {
              "color": "#EBF0F8"
             },
             "line": {
              "color": "white"
             }
            },
            "header": {
             "fill": {
              "color": "#C8D4E3"
             },
             "line": {
              "color": "white"
             }
            },
            "type": "table"
           }
          ]
         },
         "layout": {
          "annotationdefaults": {
           "arrowcolor": "#2a3f5f",
           "arrowhead": 0,
           "arrowwidth": 1
          },
          "colorscale": {
           "diverging": [
            [
             0,
             "#8e0152"
            ],
            [
             0.1,
             "#c51b7d"
            ],
            [
             0.2,
             "#de77ae"
            ],
            [
             0.3,
             "#f1b6da"
            ],
            [
             0.4,
             "#fde0ef"
            ],
            [
             0.5,
             "#f7f7f7"
            ],
            [
             0.6,
             "#e6f5d0"
            ],
            [
             0.7,
             "#b8e186"
            ],
            [
             0.8,
             "#7fbc41"
            ],
            [
             0.9,
             "#4d9221"
            ],
            [
             1,
             "#276419"
            ]
           ],
           "sequential": [
            [
             0,
             "#0d0887"
            ],
            [
             0.1111111111111111,
             "#46039f"
            ],
            [
             0.2222222222222222,
             "#7201a8"
            ],
            [
             0.3333333333333333,
             "#9c179e"
            ],
            [
             0.4444444444444444,
             "#bd3786"
            ],
            [
             0.5555555555555556,
             "#d8576b"
            ],
            [
             0.6666666666666666,
             "#ed7953"
            ],
            [
             0.7777777777777778,
             "#fb9f3a"
            ],
            [
             0.8888888888888888,
             "#fdca26"
            ],
            [
             1,
             "#f0f921"
            ]
           ],
           "sequentialminus": [
            [
             0,
             "#0d0887"
            ],
            [
             0.1111111111111111,
             "#46039f"
            ],
            [
             0.2222222222222222,
             "#7201a8"
            ],
            [
             0.3333333333333333,
             "#9c179e"
            ],
            [
             0.4444444444444444,
             "#bd3786"
            ],
            [
             0.5555555555555556,
             "#d8576b"
            ],
            [
             0.6666666666666666,
             "#ed7953"
            ],
            [
             0.7777777777777778,
             "#fb9f3a"
            ],
            [
             0.8888888888888888,
             "#fdca26"
            ],
            [
             1,
             "#f0f921"
            ]
           ]
          },
          "colorway": [
           "#636efa",
           "#EF553B",
           "#00cc96",
           "#ab63fa",
           "#FFA15A",
           "#19d3f3",
           "#FF6692",
           "#B6E880",
           "#FF97FF",
           "#FECB52"
          ],
          "font": {
           "color": "#2a3f5f"
          },
          "geo": {
           "bgcolor": "white",
           "lakecolor": "white",
           "landcolor": "#E5ECF6",
           "showlakes": true,
           "showland": true,
           "subunitcolor": "white"
          },
          "hoverlabel": {
           "align": "left"
          },
          "hovermode": "closest",
          "mapbox": {
           "style": "light"
          },
          "paper_bgcolor": "white",
          "plot_bgcolor": "#E5ECF6",
          "polar": {
           "angularaxis": {
            "gridcolor": "white",
            "linecolor": "white",
            "ticks": ""
           },
           "bgcolor": "#E5ECF6",
           "radialaxis": {
            "gridcolor": "white",
            "linecolor": "white",
            "ticks": ""
           }
          },
          "scene": {
           "xaxis": {
            "backgroundcolor": "#E5ECF6",
            "gridcolor": "white",
            "gridwidth": 2,
            "linecolor": "white",
            "showbackground": true,
            "ticks": "",
            "zerolinecolor": "white"
           },
           "yaxis": {
            "backgroundcolor": "#E5ECF6",
            "gridcolor": "white",
            "gridwidth": 2,
            "linecolor": "white",
            "showbackground": true,
            "ticks": "",
            "zerolinecolor": "white"
           },
           "zaxis": {
            "backgroundcolor": "#E5ECF6",
            "gridcolor": "white",
            "gridwidth": 2,
            "linecolor": "white",
            "showbackground": true,
            "ticks": "",
            "zerolinecolor": "white"
           }
          },
          "shapedefaults": {
           "line": {
            "color": "#2a3f5f"
           }
          },
          "ternary": {
           "aaxis": {
            "gridcolor": "white",
            "linecolor": "white",
            "ticks": ""
           },
           "baxis": {
            "gridcolor": "white",
            "linecolor": "white",
            "ticks": ""
           },
           "bgcolor": "#E5ECF6",
           "caxis": {
            "gridcolor": "white",
            "linecolor": "white",
            "ticks": ""
           }
          },
          "title": {
           "x": 0.05
          },
          "xaxis": {
           "automargin": true,
           "gridcolor": "white",
           "linecolor": "white",
           "ticks": "",
           "zerolinecolor": "white",
           "zerolinewidth": 2
          },
          "yaxis": {
           "automargin": true,
           "gridcolor": "white",
           "linecolor": "white",
           "ticks": "",
           "zerolinecolor": "white",
           "zerolinewidth": 2
          }
         }
        },
        "xaxis": {
         "anchor": "y",
         "domain": [
          0,
          0.98
         ],
         "title": {
          "text": "Price range [log]"
         }
        },
        "yaxis": {
         "anchor": "x",
         "domain": [
          0,
          1
         ],
         "title": {
          "text": "count"
         }
        }
       }
      },
      "text/html": [
       "<div>\n",
       "        \n",
       "        \n",
       "            <div id=\"e84e69a8-db73-4265-ac73-4f931b280a93\" class=\"plotly-graph-div\" style=\"height:600px; width:100%;\"></div>\n",
       "            <script type=\"text/javascript\">\n",
       "                require([\"plotly\"], function(Plotly) {\n",
       "                    window.PLOTLYENV=window.PLOTLYENV || {};\n",
       "                    \n",
       "                if (document.getElementById(\"e84e69a8-db73-4265-ac73-4f931b280a93\")) {\n",
       "                    Plotly.newPlot(\n",
       "                        'e84e69a8-db73-4265-ac73-4f931b280a93',\n",
       "                        [{\"alignmentgroup\": \"True\", \"hoverlabel\": {\"namelength\": 0}, \"hovertemplate\": \"Price range [log]=%{x}<br>count=%{y}\", \"legendgroup\": \"\", \"marker\": {\"color\": \"#636efa\"}, \"name\": \"\", \"offsetgroup\": \"\", \"orientation\": \"v\", \"showlegend\": false, \"textposition\": \"auto\", \"type\": \"bar\", \"x\": [1, 2, 3, 4, 5, 6, 7, 8, 9], \"xaxis\": \"x\", \"y\": [8, 66, 207, 404, 547, 382, 33, 0, 0], \"yaxis\": \"y\"}],\n",
       "                        {\"barmode\": \"relative\", \"height\": 600, \"legend\": {\"tracegroupgap\": 0}, \"margin\": {\"t\": 60}, \"template\": {\"data\": {\"bar\": [{\"error_x\": {\"color\": \"#2a3f5f\"}, \"error_y\": {\"color\": \"#2a3f5f\"}, \"marker\": {\"line\": {\"color\": \"#E5ECF6\", \"width\": 0.5}}, \"type\": \"bar\"}], \"barpolar\": [{\"marker\": {\"line\": {\"color\": \"#E5ECF6\", \"width\": 0.5}}, \"type\": \"barpolar\"}], \"carpet\": [{\"aaxis\": {\"endlinecolor\": \"#2a3f5f\", \"gridcolor\": \"white\", \"linecolor\": \"white\", \"minorgridcolor\": \"white\", \"startlinecolor\": \"#2a3f5f\"}, \"baxis\": {\"endlinecolor\": \"#2a3f5f\", \"gridcolor\": \"white\", \"linecolor\": \"white\", \"minorgridcolor\": \"white\", \"startlinecolor\": \"#2a3f5f\"}, \"type\": \"carpet\"}], \"choropleth\": [{\"colorbar\": {\"outlinewidth\": 0, \"ticks\": \"\"}, \"type\": \"choropleth\"}], \"contour\": [{\"colorbar\": {\"outlinewidth\": 0, \"ticks\": \"\"}, \"colorscale\": [[0.0, \"#0d0887\"], [0.1111111111111111, \"#46039f\"], [0.2222222222222222, \"#7201a8\"], [0.3333333333333333, \"#9c179e\"], [0.4444444444444444, \"#bd3786\"], [0.5555555555555556, \"#d8576b\"], [0.6666666666666666, \"#ed7953\"], [0.7777777777777778, \"#fb9f3a\"], [0.8888888888888888, \"#fdca26\"], [1.0, \"#f0f921\"]], \"type\": \"contour\"}], \"contourcarpet\": [{\"colorbar\": {\"outlinewidth\": 0, \"ticks\": \"\"}, \"type\": \"contourcarpet\"}], \"heatmap\": [{\"colorbar\": {\"outlinewidth\": 0, \"ticks\": \"\"}, \"colorscale\": [[0.0, \"#0d0887\"], [0.1111111111111111, \"#46039f\"], [0.2222222222222222, \"#7201a8\"], [0.3333333333333333, \"#9c179e\"], [0.4444444444444444, \"#bd3786\"], [0.5555555555555556, \"#d8576b\"], [0.6666666666666666, \"#ed7953\"], [0.7777777777777778, \"#fb9f3a\"], [0.8888888888888888, \"#fdca26\"], [1.0, \"#f0f921\"]], \"type\": \"heatmap\"}], \"heatmapgl\": [{\"colorbar\": {\"outlinewidth\": 0, \"ticks\": \"\"}, \"colorscale\": [[0.0, \"#0d0887\"], [0.1111111111111111, \"#46039f\"], [0.2222222222222222, \"#7201a8\"], [0.3333333333333333, \"#9c179e\"], [0.4444444444444444, \"#bd3786\"], [0.5555555555555556, \"#d8576b\"], [0.6666666666666666, \"#ed7953\"], [0.7777777777777778, \"#fb9f3a\"], [0.8888888888888888, \"#fdca26\"], [1.0, \"#f0f921\"]], \"type\": \"heatmapgl\"}], \"histogram\": [{\"marker\": {\"colorbar\": {\"outlinewidth\": 0, \"ticks\": \"\"}}, \"type\": \"histogram\"}], \"histogram2d\": [{\"colorbar\": {\"outlinewidth\": 0, \"ticks\": \"\"}, \"colorscale\": [[0.0, \"#0d0887\"], [0.1111111111111111, \"#46039f\"], [0.2222222222222222, \"#7201a8\"], [0.3333333333333333, \"#9c179e\"], [0.4444444444444444, \"#bd3786\"], [0.5555555555555556, \"#d8576b\"], [0.6666666666666666, \"#ed7953\"], [0.7777777777777778, \"#fb9f3a\"], [0.8888888888888888, \"#fdca26\"], [1.0, \"#f0f921\"]], \"type\": \"histogram2d\"}], \"histogram2dcontour\": [{\"colorbar\": {\"outlinewidth\": 0, \"ticks\": \"\"}, \"colorscale\": [[0.0, \"#0d0887\"], [0.1111111111111111, \"#46039f\"], [0.2222222222222222, \"#7201a8\"], [0.3333333333333333, \"#9c179e\"], [0.4444444444444444, \"#bd3786\"], [0.5555555555555556, \"#d8576b\"], [0.6666666666666666, \"#ed7953\"], [0.7777777777777778, \"#fb9f3a\"], [0.8888888888888888, \"#fdca26\"], [1.0, \"#f0f921\"]], \"type\": \"histogram2dcontour\"}], \"mesh3d\": [{\"colorbar\": {\"outlinewidth\": 0, \"ticks\": \"\"}, \"type\": \"mesh3d\"}], \"parcoords\": [{\"line\": {\"colorbar\": {\"outlinewidth\": 0, \"ticks\": \"\"}}, \"type\": \"parcoords\"}], \"scatter\": [{\"marker\": {\"colorbar\": {\"outlinewidth\": 0, \"ticks\": \"\"}}, \"type\": \"scatter\"}], \"scatter3d\": [{\"line\": {\"colorbar\": {\"outlinewidth\": 0, \"ticks\": \"\"}}, \"marker\": {\"colorbar\": {\"outlinewidth\": 0, \"ticks\": \"\"}}, \"type\": \"scatter3d\"}], \"scattercarpet\": [{\"marker\": {\"colorbar\": {\"outlinewidth\": 0, \"ticks\": \"\"}}, \"type\": \"scattercarpet\"}], \"scattergeo\": [{\"marker\": {\"colorbar\": {\"outlinewidth\": 0, \"ticks\": \"\"}}, \"type\": \"scattergeo\"}], \"scattergl\": [{\"marker\": {\"colorbar\": {\"outlinewidth\": 0, \"ticks\": \"\"}}, \"type\": \"scattergl\"}], \"scattermapbox\": [{\"marker\": {\"colorbar\": {\"outlinewidth\": 0, \"ticks\": \"\"}}, \"type\": \"scattermapbox\"}], \"scatterpolar\": [{\"marker\": {\"colorbar\": {\"outlinewidth\": 0, \"ticks\": \"\"}}, \"type\": \"scatterpolar\"}], \"scatterpolargl\": [{\"marker\": {\"colorbar\": {\"outlinewidth\": 0, \"ticks\": \"\"}}, \"type\": \"scatterpolargl\"}], \"scatterternary\": [{\"marker\": {\"colorbar\": {\"outlinewidth\": 0, \"ticks\": \"\"}}, \"type\": \"scatterternary\"}], \"surface\": [{\"colorbar\": {\"outlinewidth\": 0, \"ticks\": \"\"}, \"colorscale\": [[0.0, \"#0d0887\"], [0.1111111111111111, \"#46039f\"], [0.2222222222222222, \"#7201a8\"], [0.3333333333333333, \"#9c179e\"], [0.4444444444444444, \"#bd3786\"], [0.5555555555555556, \"#d8576b\"], [0.6666666666666666, \"#ed7953\"], [0.7777777777777778, \"#fb9f3a\"], [0.8888888888888888, \"#fdca26\"], [1.0, \"#f0f921\"]], \"type\": \"surface\"}], \"table\": [{\"cells\": {\"fill\": {\"color\": \"#EBF0F8\"}, \"line\": {\"color\": \"white\"}}, \"header\": {\"fill\": {\"color\": \"#C8D4E3\"}, \"line\": {\"color\": \"white\"}}, \"type\": \"table\"}]}, \"layout\": {\"annotationdefaults\": {\"arrowcolor\": \"#2a3f5f\", \"arrowhead\": 0, \"arrowwidth\": 1}, \"colorscale\": {\"diverging\": [[0, \"#8e0152\"], [0.1, \"#c51b7d\"], [0.2, \"#de77ae\"], [0.3, \"#f1b6da\"], [0.4, \"#fde0ef\"], [0.5, \"#f7f7f7\"], [0.6, \"#e6f5d0\"], [0.7, \"#b8e186\"], [0.8, \"#7fbc41\"], [0.9, \"#4d9221\"], [1, \"#276419\"]], \"sequential\": [[0.0, \"#0d0887\"], [0.1111111111111111, \"#46039f\"], [0.2222222222222222, \"#7201a8\"], [0.3333333333333333, \"#9c179e\"], [0.4444444444444444, \"#bd3786\"], [0.5555555555555556, \"#d8576b\"], [0.6666666666666666, \"#ed7953\"], [0.7777777777777778, \"#fb9f3a\"], [0.8888888888888888, \"#fdca26\"], [1.0, \"#f0f921\"]], \"sequentialminus\": [[0.0, \"#0d0887\"], [0.1111111111111111, \"#46039f\"], [0.2222222222222222, \"#7201a8\"], [0.3333333333333333, \"#9c179e\"], [0.4444444444444444, \"#bd3786\"], [0.5555555555555556, \"#d8576b\"], [0.6666666666666666, \"#ed7953\"], [0.7777777777777778, \"#fb9f3a\"], [0.8888888888888888, \"#fdca26\"], [1.0, \"#f0f921\"]]}, \"colorway\": [\"#636efa\", \"#EF553B\", \"#00cc96\", \"#ab63fa\", \"#FFA15A\", \"#19d3f3\", \"#FF6692\", \"#B6E880\", \"#FF97FF\", \"#FECB52\"], \"font\": {\"color\": \"#2a3f5f\"}, \"geo\": {\"bgcolor\": \"white\", \"lakecolor\": \"white\", \"landcolor\": \"#E5ECF6\", \"showlakes\": true, \"showland\": true, \"subunitcolor\": \"white\"}, \"hoverlabel\": {\"align\": \"left\"}, \"hovermode\": \"closest\", \"mapbox\": {\"style\": \"light\"}, \"paper_bgcolor\": \"white\", \"plot_bgcolor\": \"#E5ECF6\", \"polar\": {\"angularaxis\": {\"gridcolor\": \"white\", \"linecolor\": \"white\", \"ticks\": \"\"}, \"bgcolor\": \"#E5ECF6\", \"radialaxis\": {\"gridcolor\": \"white\", \"linecolor\": \"white\", \"ticks\": \"\"}}, \"scene\": {\"xaxis\": {\"backgroundcolor\": \"#E5ECF6\", \"gridcolor\": \"white\", \"gridwidth\": 2, \"linecolor\": \"white\", \"showbackground\": true, \"ticks\": \"\", \"zerolinecolor\": \"white\"}, \"yaxis\": {\"backgroundcolor\": \"#E5ECF6\", \"gridcolor\": \"white\", \"gridwidth\": 2, \"linecolor\": \"white\", \"showbackground\": true, \"ticks\": \"\", \"zerolinecolor\": \"white\"}, \"zaxis\": {\"backgroundcolor\": \"#E5ECF6\", \"gridcolor\": \"white\", \"gridwidth\": 2, \"linecolor\": \"white\", \"showbackground\": true, \"ticks\": \"\", \"zerolinecolor\": \"white\"}}, \"shapedefaults\": {\"line\": {\"color\": \"#2a3f5f\"}}, \"ternary\": {\"aaxis\": {\"gridcolor\": \"white\", \"linecolor\": \"white\", \"ticks\": \"\"}, \"baxis\": {\"gridcolor\": \"white\", \"linecolor\": \"white\", \"ticks\": \"\"}, \"bgcolor\": \"#E5ECF6\", \"caxis\": {\"gridcolor\": \"white\", \"linecolor\": \"white\", \"ticks\": \"\"}}, \"title\": {\"x\": 0.05}, \"xaxis\": {\"automargin\": true, \"gridcolor\": \"white\", \"linecolor\": \"white\", \"ticks\": \"\", \"zerolinecolor\": \"white\", \"zerolinewidth\": 2}, \"yaxis\": {\"automargin\": true, \"gridcolor\": \"white\", \"linecolor\": \"white\", \"ticks\": \"\", \"zerolinecolor\": \"white\", \"zerolinewidth\": 2}}}, \"xaxis\": {\"anchor\": \"y\", \"domain\": [0.0, 0.98], \"title\": {\"text\": \"Price range [log]\"}}, \"yaxis\": {\"anchor\": \"x\", \"domain\": [0.0, 1.0], \"title\": {\"text\": \"count\"}}},\n",
       "                        {\"responsive\": true}\n",
       "                    ).then(function(){\n",
       "                            \n",
       "var gd = document.getElementById('e84e69a8-db73-4265-ac73-4f931b280a93');\n",
       "var x = new MutationObserver(function (mutations, observer) {{\n",
       "        var display = window.getComputedStyle(gd).display;\n",
       "        if (!display || display === 'none') {{\n",
       "            console.log([gd, 'removed!']);\n",
       "            Plotly.purge(gd);\n",
       "            observer.disconnect();\n",
       "        }}\n",
       "}});\n",
       "\n",
       "// Listen for the removal of the full notebook cells\n",
       "var notebookContainer = gd.closest('#notebook-container');\n",
       "if (notebookContainer) {{\n",
       "    x.observe(notebookContainer, {childList: true});\n",
       "}}\n",
       "\n",
       "// Listen for the clearing of the current output cell\n",
       "var outputEl = gd.closest('.output');\n",
       "if (outputEl) {{\n",
       "    x.observe(outputEl, {childList: true});\n",
       "}}\n",
       "\n",
       "                        })\n",
       "                };\n",
       "                });\n",
       "            </script>\n",
       "        </div>"
      ]
     },
     "metadata": {},
     "output_type": "display_data"
    }
   ],
   "source": [
    "counts, bins = np.histogram(df.log_price, bins=range(0,10))\n",
    "bins = bins[1:]\n",
    "\n",
    "fig = px.bar(x=bins, y=counts, labels={'x':'Price range [log]', 'y':'count'})\n",
    "fig.show()"
   ]
  },
  {
   "cell_type": "code",
   "execution_count": 47,
   "metadata": {},
   "outputs": [
    {
     "data": {
      "text/plain": [
       "count    1647.000000\n",
       "mean        4.122144\n",
       "std         1.117464\n",
       "min         0.398776\n",
       "25%         3.314186\n",
       "50%         4.247066\n",
       "75%         5.009968\n",
       "max         6.884817\n",
       "Name: log_price, dtype: float64"
      ]
     },
     "execution_count": 47,
     "metadata": {},
     "output_type": "execute_result"
    }
   ],
   "source": [
    "df.log_price.describe()"
   ]
  },
  {
   "cell_type": "markdown",
   "metadata": {},
   "source": [
    "Price distribution is highly skewed, which hints that using log(price) might provide better results"
   ]
  },
  {
   "cell_type": "markdown",
   "metadata": {},
   "source": [
    "# How does the price decrease with age and mileage"
   ]
  },
  {
   "cell_type": "markdown",
   "metadata": {},
   "source": [
    "## Focusing on top 3 models"
   ]
  },
  {
   "cell_type": "code",
   "execution_count": 48,
   "metadata": {},
   "outputs": [],
   "source": [
    "# Let's create a copy of DataFrame only with top 4 models - 3 Series, 5 Series, 1 Series and X3\n",
    "df[\"top3\"]=df.model.apply(lambda x: x in [\"Seria 1\", \"Seria 3\",\"Seria 5\"])\n",
    "df_top3=df[df.top3]\n",
    "df_top3=df_top3.query(\"Body!='SUV'\")"
   ]
  },
  {
   "cell_type": "code",
   "execution_count": 49,
   "metadata": {},
   "outputs": [
    {
     "data": {
      "text/plain": [
       "0.5415907710989678"
      ]
     },
     "execution_count": 49,
     "metadata": {},
     "output_type": "execute_result"
    }
   ],
   "source": [
    "#We still preserve over 1/2 of all samples, while making them more homogeneous\n",
    "df_top3.shape[0]/df.shape[0]"
   ]
  },
  {
   "cell_type": "code",
   "execution_count": 50,
   "metadata": {},
   "outputs": [
    {
     "data": {
      "text/plain": [
       "(892, 35)"
      ]
     },
     "execution_count": 50,
     "metadata": {},
     "output_type": "execute_result"
    }
   ],
   "source": [
    "df_top3.shape"
   ]
  },
  {
   "cell_type": "code",
   "execution_count": 51,
   "metadata": {},
   "outputs": [
    {
     "data": {
      "text/plain": [
       "Index(['offerID', 'OEM', 'model', 'serie', 'Production_year', 'price',\n",
       "       'Mileage', 'Fuel', 'Power', 'Body', 'Invoice', 'Steering_wheel_config',\n",
       "       'Air_con', 'Colour', 'Country', 'Doors', 'Seats', 'Drive', 'VIN',\n",
       "       'Origin', 'Engine_cap', 'Transmission', 'Condition', 'download_date',\n",
       "       'title', 'Mileage_UOM', 'Power_UOM', 'Engine_cap_UOM', 'Age',\n",
       "       'Age_noise', 'model_sample', 'model_2', 'is_new', 'log_price', 'top3'],\n",
       "      dtype='object')"
      ]
     },
     "execution_count": 51,
     "metadata": {},
     "output_type": "execute_result"
    }
   ],
   "source": [
    "df_top3.columns"
   ]
  },
  {
   "cell_type": "code",
   "execution_count": 52,
   "metadata": {},
   "outputs": [],
   "source": [
    "df_top3[\"Age_mod\"]=np.where((df_top3.Condition==\"New\") &(df_top3.Age<2),0,df_top3.Age)"
   ]
  },
  {
   "cell_type": "markdown",
   "metadata": {},
   "source": [
    "## Deprecation in relation to Age"
   ]
  },
  {
   "cell_type": "code",
   "execution_count": 53,
   "metadata": {},
   "outputs": [
    {
     "data": {
      "text/html": [
       "<div>\n",
       "<style scoped>\n",
       "    .dataframe tbody tr th:only-of-type {\n",
       "        vertical-align: middle;\n",
       "    }\n",
       "\n",
       "    .dataframe tbody tr th {\n",
       "        vertical-align: top;\n",
       "    }\n",
       "\n",
       "    .dataframe thead th {\n",
       "        text-align: right;\n",
       "    }\n",
       "</style>\n",
       "<table border=\"1\" class=\"dataframe\">\n",
       "  <thead>\n",
       "    <tr style=\"text-align: right;\">\n",
       "      <th></th>\n",
       "      <th>model</th>\n",
       "      <th>Age_mod</th>\n",
       "      <th>mean_price</th>\n",
       "      <th>sample_size</th>\n",
       "      <th>price_max</th>\n",
       "      <th>price_min</th>\n",
       "    </tr>\n",
       "  </thead>\n",
       "  <tbody>\n",
       "    <tr>\n",
       "      <th>0</th>\n",
       "      <td>Seria 1</td>\n",
       "      <td>0</td>\n",
       "      <td>147279.867333</td>\n",
       "      <td>15</td>\n",
       "      <td>212900.00</td>\n",
       "      <td>107900.00</td>\n",
       "    </tr>\n",
       "    <tr>\n",
       "      <th>17</th>\n",
       "      <td>Seria 3</td>\n",
       "      <td>0</td>\n",
       "      <td>183546.455000</td>\n",
       "      <td>22</td>\n",
       "      <td>295900.01</td>\n",
       "      <td>103273.00</td>\n",
       "    </tr>\n",
       "    <tr>\n",
       "      <th>48</th>\n",
       "      <td>Seria 5</td>\n",
       "      <td>0</td>\n",
       "      <td>250417.678929</td>\n",
       "      <td>28</td>\n",
       "      <td>524900.00</td>\n",
       "      <td>149900.00</td>\n",
       "    </tr>\n",
       "    <tr>\n",
       "      <th>1</th>\n",
       "      <td>Seria 1</td>\n",
       "      <td>1</td>\n",
       "      <td>115166.672000</td>\n",
       "      <td>15</td>\n",
       "      <td>189900.00</td>\n",
       "      <td>92900.01</td>\n",
       "    </tr>\n",
       "    <tr>\n",
       "      <th>18</th>\n",
       "      <td>Seria 3</td>\n",
       "      <td>1</td>\n",
       "      <td>187578.200500</td>\n",
       "      <td>20</td>\n",
       "      <td>289900.00</td>\n",
       "      <td>154900.00</td>\n",
       "    </tr>\n",
       "    <tr>\n",
       "      <th>49</th>\n",
       "      <td>Seria 5</td>\n",
       "      <td>1</td>\n",
       "      <td>204919.231154</td>\n",
       "      <td>26</td>\n",
       "      <td>450000.00</td>\n",
       "      <td>174900.00</td>\n",
       "    </tr>\n",
       "    <tr>\n",
       "      <th>2</th>\n",
       "      <td>Seria 1</td>\n",
       "      <td>2</td>\n",
       "      <td>88755.555556</td>\n",
       "      <td>9</td>\n",
       "      <td>97600.00</td>\n",
       "      <td>75900.00</td>\n",
       "    </tr>\n",
       "    <tr>\n",
       "      <th>19</th>\n",
       "      <td>Seria 3</td>\n",
       "      <td>2</td>\n",
       "      <td>100652.943529</td>\n",
       "      <td>17</td>\n",
       "      <td>164900.00</td>\n",
       "      <td>78000.00</td>\n",
       "    </tr>\n",
       "    <tr>\n",
       "      <th>50</th>\n",
       "      <td>Seria 5</td>\n",
       "      <td>2</td>\n",
       "      <td>177466.245455</td>\n",
       "      <td>22</td>\n",
       "      <td>288000.00</td>\n",
       "      <td>2757.39</td>\n",
       "    </tr>\n",
       "    <tr>\n",
       "      <th>20</th>\n",
       "      <td>Seria 3</td>\n",
       "      <td>3</td>\n",
       "      <td>73490.910000</td>\n",
       "      <td>11</td>\n",
       "      <td>109900.00</td>\n",
       "      <td>32900.00</td>\n",
       "    </tr>\n",
       "  </tbody>\n",
       "</table>\n",
       "</div>"
      ],
      "text/plain": [
       "      model  Age_mod     mean_price  sample_size  price_max  price_min\n",
       "0   Seria 1        0  147279.867333           15  212900.00  107900.00\n",
       "17  Seria 3        0  183546.455000           22  295900.01  103273.00\n",
       "48  Seria 5        0  250417.678929           28  524900.00  149900.00\n",
       "1   Seria 1        1  115166.672000           15  189900.00   92900.01\n",
       "18  Seria 3        1  187578.200500           20  289900.00  154900.00\n",
       "49  Seria 5        1  204919.231154           26  450000.00  174900.00\n",
       "2   Seria 1        2   88755.555556            9   97600.00   75900.00\n",
       "19  Seria 3        2  100652.943529           17  164900.00   78000.00\n",
       "50  Seria 5        2  177466.245455           22  288000.00    2757.39\n",
       "20  Seria 3        3   73490.910000           11  109900.00   32900.00"
      ]
     },
     "execution_count": 53,
     "metadata": {},
     "output_type": "execute_result"
    }
   ],
   "source": [
    "df_price_age=df_top3.groupby([\"model\",\"Age_mod\"]).price.mean().reset_index()\n",
    "df_price_age.rename(columns={\"price\":\"mean_price\"},inplace=True)\n",
    "df_price_age[\"sample_size\"]=df_top3.groupby([\"model\",\"Age_mod\"]).offerID.count().reset_index().offerID\n",
    "df_price_age[\"price_max\"]=df_top3.groupby([\"model\",\"Age_mod\"]).price.max().reset_index().price\n",
    "df_price_age[\"price_min\"]=df_top3.groupby([\"model\",\"Age_mod\"]).price.min().reset_index().price\n",
    "df_price_age.sort_values(by=\"Age_mod\",ascending=True).head(10)"
   ]
  },
  {
   "cell_type": "code",
   "execution_count": 54,
   "metadata": {},
   "outputs": [
    {
     "data": {
      "text/html": [
       "<div>\n",
       "<style scoped>\n",
       "    .dataframe tbody tr th:only-of-type {\n",
       "        vertical-align: middle;\n",
       "    }\n",
       "\n",
       "    .dataframe tbody tr th {\n",
       "        vertical-align: top;\n",
       "    }\n",
       "\n",
       "    .dataframe thead th {\n",
       "        text-align: right;\n",
       "    }\n",
       "</style>\n",
       "<table border=\"1\" class=\"dataframe\">\n",
       "  <thead>\n",
       "    <tr style=\"text-align: right;\">\n",
       "      <th></th>\n",
       "      <th>offerID</th>\n",
       "      <th>OEM</th>\n",
       "      <th>model</th>\n",
       "      <th>serie</th>\n",
       "      <th>Production_year</th>\n",
       "      <th>price</th>\n",
       "      <th>Mileage</th>\n",
       "      <th>Fuel</th>\n",
       "      <th>Power</th>\n",
       "      <th>Body</th>\n",
       "      <th>...</th>\n",
       "      <th>model_sample</th>\n",
       "      <th>model_2</th>\n",
       "      <th>is_new</th>\n",
       "      <th>log_price</th>\n",
       "      <th>top3</th>\n",
       "      <th>Age_mod</th>\n",
       "      <th>mean_price</th>\n",
       "      <th>sample_size</th>\n",
       "      <th>price_max</th>\n",
       "      <th>price_min</th>\n",
       "    </tr>\n",
       "  </thead>\n",
       "  <tbody>\n",
       "    <tr>\n",
       "      <th>820</th>\n",
       "      <td>9105610316</td>\n",
       "      <td>BMW</td>\n",
       "      <td>Seria 1</td>\n",
       "      <td>E87 (2004-2013)</td>\n",
       "      <td>2019</td>\n",
       "      <td>129900.0</td>\n",
       "      <td>5</td>\n",
       "      <td>Benzyna</td>\n",
       "      <td>140</td>\n",
       "      <td>Hatchback</td>\n",
       "      <td>...</td>\n",
       "      <td>143</td>\n",
       "      <td>Seria 1</td>\n",
       "      <td>1</td>\n",
       "      <td>4.866765</td>\n",
       "      <td>True</td>\n",
       "      <td>0</td>\n",
       "      <td>147279.867333</td>\n",
       "      <td>15</td>\n",
       "      <td>212900.0</td>\n",
       "      <td>107900.0</td>\n",
       "    </tr>\n",
       "    <tr>\n",
       "      <th>821</th>\n",
       "      <td>8934745083</td>\n",
       "      <td>BMW</td>\n",
       "      <td>Seria 1</td>\n",
       "      <td>F40 (2019-)</td>\n",
       "      <td>2019</td>\n",
       "      <td>144900.0</td>\n",
       "      <td>5</td>\n",
       "      <td>Benzyna</td>\n",
       "      <td>140</td>\n",
       "      <td>Hatchback</td>\n",
       "      <td>...</td>\n",
       "      <td>143</td>\n",
       "      <td>Seria 1</td>\n",
       "      <td>1</td>\n",
       "      <td>4.976044</td>\n",
       "      <td>True</td>\n",
       "      <td>0</td>\n",
       "      <td>147279.867333</td>\n",
       "      <td>15</td>\n",
       "      <td>212900.0</td>\n",
       "      <td>107900.0</td>\n",
       "    </tr>\n",
       "    <tr>\n",
       "      <th>822</th>\n",
       "      <td>8934736627</td>\n",
       "      <td>BMW</td>\n",
       "      <td>Seria 1</td>\n",
       "      <td>F40 (2019-)</td>\n",
       "      <td>2019</td>\n",
       "      <td>137900.0</td>\n",
       "      <td>5</td>\n",
       "      <td>Benzyna</td>\n",
       "      <td>140</td>\n",
       "      <td>Hatchback</td>\n",
       "      <td>...</td>\n",
       "      <td>143</td>\n",
       "      <td>Seria 1</td>\n",
       "      <td>1</td>\n",
       "      <td>4.926529</td>\n",
       "      <td>True</td>\n",
       "      <td>0</td>\n",
       "      <td>147279.867333</td>\n",
       "      <td>15</td>\n",
       "      <td>212900.0</td>\n",
       "      <td>107900.0</td>\n",
       "    </tr>\n",
       "    <tr>\n",
       "      <th>823</th>\n",
       "      <td>9136720118</td>\n",
       "      <td>BMW</td>\n",
       "      <td>Seria 1</td>\n",
       "      <td>E87 (2004-2013)</td>\n",
       "      <td>2019</td>\n",
       "      <td>139502.0</td>\n",
       "      <td>5</td>\n",
       "      <td>Benzyna</td>\n",
       "      <td>140</td>\n",
       "      <td>Hatchback</td>\n",
       "      <td>...</td>\n",
       "      <td>143</td>\n",
       "      <td>Seria 1</td>\n",
       "      <td>1</td>\n",
       "      <td>4.938079</td>\n",
       "      <td>True</td>\n",
       "      <td>0</td>\n",
       "      <td>147279.867333</td>\n",
       "      <td>15</td>\n",
       "      <td>212900.0</td>\n",
       "      <td>107900.0</td>\n",
       "    </tr>\n",
       "    <tr>\n",
       "      <th>824</th>\n",
       "      <td>9105610266</td>\n",
       "      <td>BMW</td>\n",
       "      <td>Seria 1</td>\n",
       "      <td>E87 (2004-2013)</td>\n",
       "      <td>2019</td>\n",
       "      <td>129900.0</td>\n",
       "      <td>5</td>\n",
       "      <td>Benzyna</td>\n",
       "      <td>140</td>\n",
       "      <td>Hatchback</td>\n",
       "      <td>...</td>\n",
       "      <td>143</td>\n",
       "      <td>Seria 1</td>\n",
       "      <td>1</td>\n",
       "      <td>4.866765</td>\n",
       "      <td>True</td>\n",
       "      <td>0</td>\n",
       "      <td>147279.867333</td>\n",
       "      <td>15</td>\n",
       "      <td>212900.0</td>\n",
       "      <td>107900.0</td>\n",
       "    </tr>\n",
       "  </tbody>\n",
       "</table>\n",
       "<p>5 rows × 40 columns</p>\n",
       "</div>"
      ],
      "text/plain": [
       "        offerID  OEM    model            serie  Production_year     price  \\\n",
       "820  9105610316  BMW  Seria 1  E87 (2004-2013)             2019  129900.0   \n",
       "821  8934745083  BMW  Seria 1      F40 (2019-)             2019  144900.0   \n",
       "822  8934736627  BMW  Seria 1      F40 (2019-)             2019  137900.0   \n",
       "823  9136720118  BMW  Seria 1  E87 (2004-2013)             2019  139502.0   \n",
       "824  9105610266  BMW  Seria 1  E87 (2004-2013)             2019  129900.0   \n",
       "\n",
       "     Mileage     Fuel  Power       Body  ... model_sample  model_2 is_new  \\\n",
       "820        5  Benzyna    140  Hatchback  ...          143  Seria 1      1   \n",
       "821        5  Benzyna    140  Hatchback  ...          143  Seria 1      1   \n",
       "822        5  Benzyna    140  Hatchback  ...          143  Seria 1      1   \n",
       "823        5  Benzyna    140  Hatchback  ...          143  Seria 1      1   \n",
       "824        5  Benzyna    140  Hatchback  ...          143  Seria 1      1   \n",
       "\n",
       "    log_price  top3 Age_mod     mean_price sample_size price_max price_min  \n",
       "820  4.866765  True       0  147279.867333          15  212900.0  107900.0  \n",
       "821  4.976044  True       0  147279.867333          15  212900.0  107900.0  \n",
       "822  4.926529  True       0  147279.867333          15  212900.0  107900.0  \n",
       "823  4.938079  True       0  147279.867333          15  212900.0  107900.0  \n",
       "824  4.866765  True       0  147279.867333          15  212900.0  107900.0  \n",
       "\n",
       "[5 rows x 40 columns]"
      ]
     },
     "execution_count": 54,
     "metadata": {},
     "output_type": "execute_result"
    }
   ],
   "source": [
    "df_top3_mod=pd.merge(df_top3,df_price_age,left_on=[\"model\",\"Age_mod\"], right_on=[\"model\",\"Age_mod\"])\n",
    "df_top3_mod.sort_values(by=[\"Age_mod\",\"model\"],inplace=True)\n",
    "df_top3_mod.head()"
   ]
  },
  {
   "cell_type": "code",
   "execution_count": 55,
   "metadata": {},
   "outputs": [
    {
     "data": {
      "text/plain": [
       "(781, 40)"
      ]
     },
     "execution_count": 55,
     "metadata": {},
     "output_type": "execute_result"
    }
   ],
   "source": [
    "#Dropping max and min values for age groups with samples above 10 will help to get rid of outliers\n",
    "df_top3_mod=df_top3_mod.query(\"sample_size>=10 & price != price_max & price!= price_min or sample_size<10\")\n",
    "df_top3_mod.shape"
   ]
  },
  {
   "cell_type": "code",
   "execution_count": 56,
   "metadata": {},
   "outputs": [
    {
     "data": {
      "text/html": [
       "<div>\n",
       "<style scoped>\n",
       "    .dataframe tbody tr th:only-of-type {\n",
       "        vertical-align: middle;\n",
       "    }\n",
       "\n",
       "    .dataframe tbody tr th {\n",
       "        vertical-align: top;\n",
       "    }\n",
       "\n",
       "    .dataframe thead th {\n",
       "        text-align: right;\n",
       "    }\n",
       "</style>\n",
       "<table border=\"1\" class=\"dataframe\">\n",
       "  <thead>\n",
       "    <tr style=\"text-align: right;\">\n",
       "      <th></th>\n",
       "      <th>model</th>\n",
       "      <th>Age</th>\n",
       "      <th>mean_price</th>\n",
       "      <th>sample_size</th>\n",
       "      <th>price_max</th>\n",
       "      <th>price_min</th>\n",
       "    </tr>\n",
       "  </thead>\n",
       "  <tbody>\n",
       "    <tr>\n",
       "      <th>0</th>\n",
       "      <td>Seria 1</td>\n",
       "      <td>0</td>\n",
       "      <td>145261.385385</td>\n",
       "      <td>13</td>\n",
       "      <td>199900.01</td>\n",
       "      <td>127900.0</td>\n",
       "    </tr>\n",
       "    <tr>\n",
       "      <th>17</th>\n",
       "      <td>Seria 3</td>\n",
       "      <td>0</td>\n",
       "      <td>181942.450000</td>\n",
       "      <td>20</td>\n",
       "      <td>284900.00</td>\n",
       "      <td>113040.0</td>\n",
       "    </tr>\n",
       "    <tr>\n",
       "      <th>48</th>\n",
       "      <td>Seria 5</td>\n",
       "      <td>0</td>\n",
       "      <td>243726.731154</td>\n",
       "      <td>26</td>\n",
       "      <td>373600.00</td>\n",
       "      <td>158800.0</td>\n",
       "    </tr>\n",
       "    <tr>\n",
       "      <th>1</th>\n",
       "      <td>Seria 1</td>\n",
       "      <td>1</td>\n",
       "      <td>120900.000000</td>\n",
       "      <td>5</td>\n",
       "      <td>157900.00</td>\n",
       "      <td>99900.0</td>\n",
       "    </tr>\n",
       "    <tr>\n",
       "      <th>18</th>\n",
       "      <td>Seria 3</td>\n",
       "      <td>1</td>\n",
       "      <td>183709.111667</td>\n",
       "      <td>18</td>\n",
       "      <td>229900.00</td>\n",
       "      <td>159900.0</td>\n",
       "    </tr>\n",
       "    <tr>\n",
       "      <th>49</th>\n",
       "      <td>Seria 5</td>\n",
       "      <td>1</td>\n",
       "      <td>208593.334000</td>\n",
       "      <td>15</td>\n",
       "      <td>289900.00</td>\n",
       "      <td>177000.0</td>\n",
       "    </tr>\n",
       "    <tr>\n",
       "      <th>2</th>\n",
       "      <td>Seria 1</td>\n",
       "      <td>2</td>\n",
       "      <td>88755.555556</td>\n",
       "      <td>9</td>\n",
       "      <td>97600.00</td>\n",
       "      <td>75900.0</td>\n",
       "    </tr>\n",
       "    <tr>\n",
       "      <th>19</th>\n",
       "      <td>Seria 3</td>\n",
       "      <td>2</td>\n",
       "      <td>93092.860000</td>\n",
       "      <td>14</td>\n",
       "      <td>110000.00</td>\n",
       "      <td>85900.0</td>\n",
       "    </tr>\n",
       "    <tr>\n",
       "      <th>50</th>\n",
       "      <td>Seria 5</td>\n",
       "      <td>2</td>\n",
       "      <td>180675.000500</td>\n",
       "      <td>20</td>\n",
       "      <td>279900.01</td>\n",
       "      <td>139900.0</td>\n",
       "    </tr>\n",
       "    <tr>\n",
       "      <th>20</th>\n",
       "      <td>Seria 3</td>\n",
       "      <td>3</td>\n",
       "      <td>73955.556667</td>\n",
       "      <td>9</td>\n",
       "      <td>97900.01</td>\n",
       "      <td>37300.0</td>\n",
       "    </tr>\n",
       "  </tbody>\n",
       "</table>\n",
       "</div>"
      ],
      "text/plain": [
       "      model  Age     mean_price  sample_size  price_max  price_min\n",
       "0   Seria 1    0  145261.385385           13  199900.01   127900.0\n",
       "17  Seria 3    0  181942.450000           20  284900.00   113040.0\n",
       "48  Seria 5    0  243726.731154           26  373600.00   158800.0\n",
       "1   Seria 1    1  120900.000000            5  157900.00    99900.0\n",
       "18  Seria 3    1  183709.111667           18  229900.00   159900.0\n",
       "49  Seria 5    1  208593.334000           15  289900.00   177000.0\n",
       "2   Seria 1    2   88755.555556            9   97600.00    75900.0\n",
       "19  Seria 3    2   93092.860000           14  110000.00    85900.0\n",
       "50  Seria 5    2  180675.000500           20  279900.01   139900.0\n",
       "20  Seria 3    3   73955.556667            9   97900.01    37300.0"
      ]
     },
     "execution_count": 56,
     "metadata": {},
     "output_type": "execute_result"
    }
   ],
   "source": [
    "df_price_age_mod=df_top3_mod.groupby([\"model\",\"Age_mod\"]).price.mean().reset_index()\n",
    "df_price_age_mod.rename(columns={\"price\":\"mean_price\",\"Age_mod\":\"Age\"},inplace=True)\n",
    "df_price_age_mod[\"sample_size\"]=df_top3_mod.groupby([\"model\",\"Age_mod\"]).offerID.count().reset_index().offerID\n",
    "\n",
    "df_price_age_mod[\"price_max\"]=df_top3_mod.groupby([\"model\",\"Age_mod\"]).price.max().reset_index().price\n",
    "df_price_age_mod[\"price_min\"]=df_top3_mod.groupby([\"model\",\"Age_mod\"]).price.min().reset_index().price\n",
    "\n",
    "df_price_age_mod.sort_values(by=\"Age\",ascending=True).head(10)"
   ]
  },
  {
   "cell_type": "code",
   "execution_count": 57,
   "metadata": {},
   "outputs": [],
   "source": [
    "model_max=df_price_age_mod.groupby(\"model\").mean_price.max().reset_index()\n",
    "model_max.rename(columns={\"mean_price\":\"new_model_mean_price\"},inplace=True)\n",
    "df_price_age_mod=pd.merge(df_price_age_mod,model_max,left_on=\"model\", right_on=\"model\")\n",
    "df_price_age_mod[\"deprecation\"]=df_price_age_mod.mean_price/df_price_age_mod.new_model_mean_price\n"
   ]
  },
  {
   "cell_type": "code",
   "execution_count": 58,
   "metadata": {},
   "outputs": [
    {
     "data": {
      "text/plain": [
       "Index(['model', 'Age', 'mean_price', 'sample_size', 'price_max', 'price_min',\n",
       "       'new_model_mean_price', 'deprecation'],\n",
       "      dtype='object')"
      ]
     },
     "execution_count": 58,
     "metadata": {},
     "output_type": "execute_result"
    }
   ],
   "source": [
    "df_price_age_mod.columns"
   ]
  },
  {
   "cell_type": "code",
   "execution_count": 59,
   "metadata": {},
   "outputs": [
    {
     "data": {
      "application/vnd.plotly.v1+json": {
       "config": {
        "linkText": "Export to plot.ly",
        "plotlyServerURL": "https://plot.ly",
        "showLink": false
       },
       "data": [
        {
         "marker": {
          "size": 5
         },
         "mode": "lines",
         "name": "Seria 1",
         "type": "scatter",
         "x": [
          0,
          1,
          2,
          3,
          4,
          5,
          6,
          7,
          8,
          9,
          10,
          11,
          12,
          13,
          14,
          15,
          16
         ],
         "y": [
          145261.3853846154,
          120900,
          88755.55555555556,
          85993.75,
          47900,
          65050,
          41875,
          42833.333333333336,
          39876.333333333336,
          27633.333333333332,
          23860.002,
          22592.30769230769,
          17925,
          18550,
          16722.222222222223,
          12890.615384615385,
          15766.333333333334
         ]
        },
        {
         "marker": {
          "size": 5
         },
         "mode": "lines",
         "name": "Seria 3",
         "type": "scatter",
         "x": [
          0,
          1,
          2,
          3,
          4,
          5,
          6,
          7,
          8,
          9,
          10,
          11,
          12,
          13,
          14,
          15,
          16,
          17,
          18,
          19,
          20,
          21,
          22,
          23,
          24,
          26,
          28,
          29,
          30,
          32,
          33
         ],
         "y": [
          181942.45,
          183709.11166666666,
          93092.86,
          73955.55666666667,
          72165.94117647059,
          54328.572857142855,
          56182.61615384615,
          53180.81,
          44744.333333333336,
          37560,
          31356.99857142857,
          29647.04761904762,
          28039.63157894737,
          22792.00043478261,
          20557.36842105263,
          15628.52380952381,
          12912.25125,
          11663.545454545454,
          10560.391739130435,
          7273.076923076923,
          7533.221111111112,
          7171.428571428572,
          8933,
          2900,
          1650,
          4833.333333333333,
          15800,
          20700,
          6700,
          30000,
          23999
         ]
        },
        {
         "marker": {
          "size": 5
         },
         "mode": "lines",
         "name": "Seria 5",
         "type": "scatter",
         "x": [
          0,
          1,
          2,
          3,
          4,
          5,
          6,
          7,
          8,
          9,
          10,
          11,
          12,
          13,
          14,
          15,
          16,
          17,
          18,
          19,
          20,
          21,
          22,
          23,
          24,
          32,
          34,
          35
         ],
         "y": [
          243726.73115384614,
          208593.33399999997,
          180675.0005,
          162400.002,
          93326.31578947368,
          88799.95833333333,
          83896.86916666666,
          68784.61538461539,
          63244.565217391304,
          57694,
          48184.46153846154,
          30930,
          32695.285714285714,
          25509.47619047619,
          23044.444444444445,
          22912.5,
          22085.571428571428,
          13524.99875,
          11645.454545454546,
          13300,
          8500,
          6728.571428571428,
          6974.75,
          10599.666666666666,
          13133.333333333334,
          10000,
          25000,
          13999
         ]
        }
       ],
       "layout": {
        "template": {
         "data": {
          "bar": [
           {
            "error_x": {
             "color": "#2a3f5f"
            },
            "error_y": {
             "color": "#2a3f5f"
            },
            "marker": {
             "line": {
              "color": "#E5ECF6",
              "width": 0.5
             }
            },
            "type": "bar"
           }
          ],
          "barpolar": [
           {
            "marker": {
             "line": {
              "color": "#E5ECF6",
              "width": 0.5
             }
            },
            "type": "barpolar"
           }
          ],
          "carpet": [
           {
            "aaxis": {
             "endlinecolor": "#2a3f5f",
             "gridcolor": "white",
             "linecolor": "white",
             "minorgridcolor": "white",
             "startlinecolor": "#2a3f5f"
            },
            "baxis": {
             "endlinecolor": "#2a3f5f",
             "gridcolor": "white",
             "linecolor": "white",
             "minorgridcolor": "white",
             "startlinecolor": "#2a3f5f"
            },
            "type": "carpet"
           }
          ],
          "choropleth": [
           {
            "colorbar": {
             "outlinewidth": 0,
             "ticks": ""
            },
            "type": "choropleth"
           }
          ],
          "contour": [
           {
            "colorbar": {
             "outlinewidth": 0,
             "ticks": ""
            },
            "colorscale": [
             [
              0,
              "#0d0887"
             ],
             [
              0.1111111111111111,
              "#46039f"
             ],
             [
              0.2222222222222222,
              "#7201a8"
             ],
             [
              0.3333333333333333,
              "#9c179e"
             ],
             [
              0.4444444444444444,
              "#bd3786"
             ],
             [
              0.5555555555555556,
              "#d8576b"
             ],
             [
              0.6666666666666666,
              "#ed7953"
             ],
             [
              0.7777777777777778,
              "#fb9f3a"
             ],
             [
              0.8888888888888888,
              "#fdca26"
             ],
             [
              1,
              "#f0f921"
             ]
            ],
            "type": "contour"
           }
          ],
          "contourcarpet": [
           {
            "colorbar": {
             "outlinewidth": 0,
             "ticks": ""
            },
            "type": "contourcarpet"
           }
          ],
          "heatmap": [
           {
            "colorbar": {
             "outlinewidth": 0,
             "ticks": ""
            },
            "colorscale": [
             [
              0,
              "#0d0887"
             ],
             [
              0.1111111111111111,
              "#46039f"
             ],
             [
              0.2222222222222222,
              "#7201a8"
             ],
             [
              0.3333333333333333,
              "#9c179e"
             ],
             [
              0.4444444444444444,
              "#bd3786"
             ],
             [
              0.5555555555555556,
              "#d8576b"
             ],
             [
              0.6666666666666666,
              "#ed7953"
             ],
             [
              0.7777777777777778,
              "#fb9f3a"
             ],
             [
              0.8888888888888888,
              "#fdca26"
             ],
             [
              1,
              "#f0f921"
             ]
            ],
            "type": "heatmap"
           }
          ],
          "heatmapgl": [
           {
            "colorbar": {
             "outlinewidth": 0,
             "ticks": ""
            },
            "colorscale": [
             [
              0,
              "#0d0887"
             ],
             [
              0.1111111111111111,
              "#46039f"
             ],
             [
              0.2222222222222222,
              "#7201a8"
             ],
             [
              0.3333333333333333,
              "#9c179e"
             ],
             [
              0.4444444444444444,
              "#bd3786"
             ],
             [
              0.5555555555555556,
              "#d8576b"
             ],
             [
              0.6666666666666666,
              "#ed7953"
             ],
             [
              0.7777777777777778,
              "#fb9f3a"
             ],
             [
              0.8888888888888888,
              "#fdca26"
             ],
             [
              1,
              "#f0f921"
             ]
            ],
            "type": "heatmapgl"
           }
          ],
          "histogram": [
           {
            "marker": {
             "colorbar": {
              "outlinewidth": 0,
              "ticks": ""
             }
            },
            "type": "histogram"
           }
          ],
          "histogram2d": [
           {
            "colorbar": {
             "outlinewidth": 0,
             "ticks": ""
            },
            "colorscale": [
             [
              0,
              "#0d0887"
             ],
             [
              0.1111111111111111,
              "#46039f"
             ],
             [
              0.2222222222222222,
              "#7201a8"
             ],
             [
              0.3333333333333333,
              "#9c179e"
             ],
             [
              0.4444444444444444,
              "#bd3786"
             ],
             [
              0.5555555555555556,
              "#d8576b"
             ],
             [
              0.6666666666666666,
              "#ed7953"
             ],
             [
              0.7777777777777778,
              "#fb9f3a"
             ],
             [
              0.8888888888888888,
              "#fdca26"
             ],
             [
              1,
              "#f0f921"
             ]
            ],
            "type": "histogram2d"
           }
          ],
          "histogram2dcontour": [
           {
            "colorbar": {
             "outlinewidth": 0,
             "ticks": ""
            },
            "colorscale": [
             [
              0,
              "#0d0887"
             ],
             [
              0.1111111111111111,
              "#46039f"
             ],
             [
              0.2222222222222222,
              "#7201a8"
             ],
             [
              0.3333333333333333,
              "#9c179e"
             ],
             [
              0.4444444444444444,
              "#bd3786"
             ],
             [
              0.5555555555555556,
              "#d8576b"
             ],
             [
              0.6666666666666666,
              "#ed7953"
             ],
             [
              0.7777777777777778,
              "#fb9f3a"
             ],
             [
              0.8888888888888888,
              "#fdca26"
             ],
             [
              1,
              "#f0f921"
             ]
            ],
            "type": "histogram2dcontour"
           }
          ],
          "mesh3d": [
           {
            "colorbar": {
             "outlinewidth": 0,
             "ticks": ""
            },
            "type": "mesh3d"
           }
          ],
          "parcoords": [
           {
            "line": {
             "colorbar": {
              "outlinewidth": 0,
              "ticks": ""
             }
            },
            "type": "parcoords"
           }
          ],
          "scatter": [
           {
            "marker": {
             "colorbar": {
              "outlinewidth": 0,
              "ticks": ""
             }
            },
            "type": "scatter"
           }
          ],
          "scatter3d": [
           {
            "line": {
             "colorbar": {
              "outlinewidth": 0,
              "ticks": ""
             }
            },
            "marker": {
             "colorbar": {
              "outlinewidth": 0,
              "ticks": ""
             }
            },
            "type": "scatter3d"
           }
          ],
          "scattercarpet": [
           {
            "marker": {
             "colorbar": {
              "outlinewidth": 0,
              "ticks": ""
             }
            },
            "type": "scattercarpet"
           }
          ],
          "scattergeo": [
           {
            "marker": {
             "colorbar": {
              "outlinewidth": 0,
              "ticks": ""
             }
            },
            "type": "scattergeo"
           }
          ],
          "scattergl": [
           {
            "marker": {
             "colorbar": {
              "outlinewidth": 0,
              "ticks": ""
             }
            },
            "type": "scattergl"
           }
          ],
          "scattermapbox": [
           {
            "marker": {
             "colorbar": {
              "outlinewidth": 0,
              "ticks": ""
             }
            },
            "type": "scattermapbox"
           }
          ],
          "scatterpolar": [
           {
            "marker": {
             "colorbar": {
              "outlinewidth": 0,
              "ticks": ""
             }
            },
            "type": "scatterpolar"
           }
          ],
          "scatterpolargl": [
           {
            "marker": {
             "colorbar": {
              "outlinewidth": 0,
              "ticks": ""
             }
            },
            "type": "scatterpolargl"
           }
          ],
          "scatterternary": [
           {
            "marker": {
             "colorbar": {
              "outlinewidth": 0,
              "ticks": ""
             }
            },
            "type": "scatterternary"
           }
          ],
          "surface": [
           {
            "colorbar": {
             "outlinewidth": 0,
             "ticks": ""
            },
            "colorscale": [
             [
              0,
              "#0d0887"
             ],
             [
              0.1111111111111111,
              "#46039f"
             ],
             [
              0.2222222222222222,
              "#7201a8"
             ],
             [
              0.3333333333333333,
              "#9c179e"
             ],
             [
              0.4444444444444444,
              "#bd3786"
             ],
             [
              0.5555555555555556,
              "#d8576b"
             ],
             [
              0.6666666666666666,
              "#ed7953"
             ],
             [
              0.7777777777777778,
              "#fb9f3a"
             ],
             [
              0.8888888888888888,
              "#fdca26"
             ],
             [
              1,
              "#f0f921"
             ]
            ],
            "type": "surface"
           }
          ],
          "table": [
           {
            "cells": {
             "fill": {
              "color": "#EBF0F8"
             },
             "line": {
              "color": "white"
             }
            },
            "header": {
             "fill": {
              "color": "#C8D4E3"
             },
             "line": {
              "color": "white"
             }
            },
            "type": "table"
           }
          ]
         },
         "layout": {
          "annotationdefaults": {
           "arrowcolor": "#2a3f5f",
           "arrowhead": 0,
           "arrowwidth": 1
          },
          "colorscale": {
           "diverging": [
            [
             0,
             "#8e0152"
            ],
            [
             0.1,
             "#c51b7d"
            ],
            [
             0.2,
             "#de77ae"
            ],
            [
             0.3,
             "#f1b6da"
            ],
            [
             0.4,
             "#fde0ef"
            ],
            [
             0.5,
             "#f7f7f7"
            ],
            [
             0.6,
             "#e6f5d0"
            ],
            [
             0.7,
             "#b8e186"
            ],
            [
             0.8,
             "#7fbc41"
            ],
            [
             0.9,
             "#4d9221"
            ],
            [
             1,
             "#276419"
            ]
           ],
           "sequential": [
            [
             0,
             "#0d0887"
            ],
            [
             0.1111111111111111,
             "#46039f"
            ],
            [
             0.2222222222222222,
             "#7201a8"
            ],
            [
             0.3333333333333333,
             "#9c179e"
            ],
            [
             0.4444444444444444,
             "#bd3786"
            ],
            [
             0.5555555555555556,
             "#d8576b"
            ],
            [
             0.6666666666666666,
             "#ed7953"
            ],
            [
             0.7777777777777778,
             "#fb9f3a"
            ],
            [
             0.8888888888888888,
             "#fdca26"
            ],
            [
             1,
             "#f0f921"
            ]
           ],
           "sequentialminus": [
            [
             0,
             "#0d0887"
            ],
            [
             0.1111111111111111,
             "#46039f"
            ],
            [
             0.2222222222222222,
             "#7201a8"
            ],
            [
             0.3333333333333333,
             "#9c179e"
            ],
            [
             0.4444444444444444,
             "#bd3786"
            ],
            [
             0.5555555555555556,
             "#d8576b"
            ],
            [
             0.6666666666666666,
             "#ed7953"
            ],
            [
             0.7777777777777778,
             "#fb9f3a"
            ],
            [
             0.8888888888888888,
             "#fdca26"
            ],
            [
             1,
             "#f0f921"
            ]
           ]
          },
          "colorway": [
           "#636efa",
           "#EF553B",
           "#00cc96",
           "#ab63fa",
           "#FFA15A",
           "#19d3f3",
           "#FF6692",
           "#B6E880",
           "#FF97FF",
           "#FECB52"
          ],
          "font": {
           "color": "#2a3f5f"
          },
          "geo": {
           "bgcolor": "white",
           "lakecolor": "white",
           "landcolor": "#E5ECF6",
           "showlakes": true,
           "showland": true,
           "subunitcolor": "white"
          },
          "hoverlabel": {
           "align": "left"
          },
          "hovermode": "closest",
          "mapbox": {
           "style": "light"
          },
          "paper_bgcolor": "white",
          "plot_bgcolor": "#E5ECF6",
          "polar": {
           "angularaxis": {
            "gridcolor": "white",
            "linecolor": "white",
            "ticks": ""
           },
           "bgcolor": "#E5ECF6",
           "radialaxis": {
            "gridcolor": "white",
            "linecolor": "white",
            "ticks": ""
           }
          },
          "scene": {
           "xaxis": {
            "backgroundcolor": "#E5ECF6",
            "gridcolor": "white",
            "gridwidth": 2,
            "linecolor": "white",
            "showbackground": true,
            "ticks": "",
            "zerolinecolor": "white"
           },
           "yaxis": {
            "backgroundcolor": "#E5ECF6",
            "gridcolor": "white",
            "gridwidth": 2,
            "linecolor": "white",
            "showbackground": true,
            "ticks": "",
            "zerolinecolor": "white"
           },
           "zaxis": {
            "backgroundcolor": "#E5ECF6",
            "gridcolor": "white",
            "gridwidth": 2,
            "linecolor": "white",
            "showbackground": true,
            "ticks": "",
            "zerolinecolor": "white"
           }
          },
          "shapedefaults": {
           "line": {
            "color": "#2a3f5f"
           }
          },
          "ternary": {
           "aaxis": {
            "gridcolor": "white",
            "linecolor": "white",
            "ticks": ""
           },
           "baxis": {
            "gridcolor": "white",
            "linecolor": "white",
            "ticks": ""
           },
           "bgcolor": "#E5ECF6",
           "caxis": {
            "gridcolor": "white",
            "linecolor": "white",
            "ticks": ""
           }
          },
          "title": {
           "x": 0.05
          },
          "xaxis": {
           "automargin": true,
           "gridcolor": "white",
           "linecolor": "white",
           "ticks": "",
           "zerolinecolor": "white",
           "zerolinewidth": 2
          },
          "yaxis": {
           "automargin": true,
           "gridcolor": "white",
           "linecolor": "white",
           "ticks": "",
           "zerolinecolor": "white",
           "zerolinewidth": 2
          }
         }
        },
        "title": {
         "text": "Mean price vs Age"
        },
        "xaxis": {
         "range": [
          0,
          10
         ],
         "title": {
          "text": "Age"
         }
        },
        "yaxis": {
         "title": {
          "text": "Price"
         }
        }
       }
      },
      "text/html": [
       "<div>\n",
       "        \n",
       "        \n",
       "            <div id=\"7bdd370a-7845-40bb-a03a-16de975b9c58\" class=\"plotly-graph-div\" style=\"height:525px; width:100%;\"></div>\n",
       "            <script type=\"text/javascript\">\n",
       "                require([\"plotly\"], function(Plotly) {\n",
       "                    window.PLOTLYENV=window.PLOTLYENV || {};\n",
       "                    \n",
       "                if (document.getElementById(\"7bdd370a-7845-40bb-a03a-16de975b9c58\")) {\n",
       "                    Plotly.newPlot(\n",
       "                        '7bdd370a-7845-40bb-a03a-16de975b9c58',\n",
       "                        [{\"marker\": {\"size\": 5}, \"mode\": \"lines\", \"name\": \"Seria 1\", \"type\": \"scatter\", \"x\": [0, 1, 2, 3, 4, 5, 6, 7, 8, 9, 10, 11, 12, 13, 14, 15, 16], \"y\": [145261.3853846154, 120900.0, 88755.55555555556, 85993.75, 47900.0, 65050.0, 41875.0, 42833.333333333336, 39876.333333333336, 27633.333333333332, 23860.002, 22592.30769230769, 17925.0, 18550.0, 16722.222222222223, 12890.615384615385, 15766.333333333334]}, {\"marker\": {\"size\": 5}, \"mode\": \"lines\", \"name\": \"Seria 3\", \"type\": \"scatter\", \"x\": [0, 1, 2, 3, 4, 5, 6, 7, 8, 9, 10, 11, 12, 13, 14, 15, 16, 17, 18, 19, 20, 21, 22, 23, 24, 26, 28, 29, 30, 32, 33], \"y\": [181942.45, 183709.11166666666, 93092.86, 73955.55666666667, 72165.94117647059, 54328.572857142855, 56182.61615384615, 53180.81, 44744.333333333336, 37560.0, 31356.99857142857, 29647.04761904762, 28039.63157894737, 22792.00043478261, 20557.36842105263, 15628.52380952381, 12912.25125, 11663.545454545454, 10560.391739130435, 7273.076923076923, 7533.221111111112, 7171.428571428572, 8933.0, 2900.0, 1650.0, 4833.333333333333, 15800.0, 20700.0, 6700.0, 30000.0, 23999.0]}, {\"marker\": {\"size\": 5}, \"mode\": \"lines\", \"name\": \"Seria 5\", \"type\": \"scatter\", \"x\": [0, 1, 2, 3, 4, 5, 6, 7, 8, 9, 10, 11, 12, 13, 14, 15, 16, 17, 18, 19, 20, 21, 22, 23, 24, 32, 34, 35], \"y\": [243726.73115384614, 208593.33399999997, 180675.0005, 162400.002, 93326.31578947368, 88799.95833333333, 83896.86916666666, 68784.61538461539, 63244.565217391304, 57694.0, 48184.46153846154, 30930.0, 32695.285714285714, 25509.47619047619, 23044.444444444445, 22912.5, 22085.571428571428, 13524.99875, 11645.454545454546, 13300.0, 8500.0, 6728.571428571428, 6974.75, 10599.666666666666, 13133.333333333334, 10000.0, 25000.0, 13999.0]}],\n",
       "                        {\"template\": {\"data\": {\"bar\": [{\"error_x\": {\"color\": \"#2a3f5f\"}, \"error_y\": {\"color\": \"#2a3f5f\"}, \"marker\": {\"line\": {\"color\": \"#E5ECF6\", \"width\": 0.5}}, \"type\": \"bar\"}], \"barpolar\": [{\"marker\": {\"line\": {\"color\": \"#E5ECF6\", \"width\": 0.5}}, \"type\": \"barpolar\"}], \"carpet\": [{\"aaxis\": {\"endlinecolor\": \"#2a3f5f\", \"gridcolor\": \"white\", \"linecolor\": \"white\", \"minorgridcolor\": \"white\", \"startlinecolor\": \"#2a3f5f\"}, \"baxis\": {\"endlinecolor\": \"#2a3f5f\", \"gridcolor\": \"white\", \"linecolor\": \"white\", \"minorgridcolor\": \"white\", \"startlinecolor\": \"#2a3f5f\"}, \"type\": \"carpet\"}], \"choropleth\": [{\"colorbar\": {\"outlinewidth\": 0, \"ticks\": \"\"}, \"type\": \"choropleth\"}], \"contour\": [{\"colorbar\": {\"outlinewidth\": 0, \"ticks\": \"\"}, \"colorscale\": [[0.0, \"#0d0887\"], [0.1111111111111111, \"#46039f\"], [0.2222222222222222, \"#7201a8\"], [0.3333333333333333, \"#9c179e\"], [0.4444444444444444, \"#bd3786\"], [0.5555555555555556, \"#d8576b\"], [0.6666666666666666, \"#ed7953\"], [0.7777777777777778, \"#fb9f3a\"], [0.8888888888888888, \"#fdca26\"], [1.0, \"#f0f921\"]], \"type\": \"contour\"}], \"contourcarpet\": [{\"colorbar\": {\"outlinewidth\": 0, \"ticks\": \"\"}, \"type\": \"contourcarpet\"}], \"heatmap\": [{\"colorbar\": {\"outlinewidth\": 0, \"ticks\": \"\"}, \"colorscale\": [[0.0, \"#0d0887\"], [0.1111111111111111, \"#46039f\"], [0.2222222222222222, \"#7201a8\"], [0.3333333333333333, \"#9c179e\"], [0.4444444444444444, \"#bd3786\"], [0.5555555555555556, \"#d8576b\"], [0.6666666666666666, \"#ed7953\"], [0.7777777777777778, \"#fb9f3a\"], [0.8888888888888888, \"#fdca26\"], [1.0, \"#f0f921\"]], \"type\": \"heatmap\"}], \"heatmapgl\": [{\"colorbar\": {\"outlinewidth\": 0, \"ticks\": \"\"}, \"colorscale\": [[0.0, \"#0d0887\"], [0.1111111111111111, \"#46039f\"], [0.2222222222222222, \"#7201a8\"], [0.3333333333333333, \"#9c179e\"], [0.4444444444444444, \"#bd3786\"], [0.5555555555555556, \"#d8576b\"], [0.6666666666666666, \"#ed7953\"], [0.7777777777777778, \"#fb9f3a\"], [0.8888888888888888, \"#fdca26\"], [1.0, \"#f0f921\"]], \"type\": \"heatmapgl\"}], \"histogram\": [{\"marker\": {\"colorbar\": {\"outlinewidth\": 0, \"ticks\": \"\"}}, \"type\": \"histogram\"}], \"histogram2d\": [{\"colorbar\": {\"outlinewidth\": 0, \"ticks\": \"\"}, \"colorscale\": [[0.0, \"#0d0887\"], [0.1111111111111111, \"#46039f\"], [0.2222222222222222, \"#7201a8\"], [0.3333333333333333, \"#9c179e\"], [0.4444444444444444, \"#bd3786\"], [0.5555555555555556, \"#d8576b\"], [0.6666666666666666, \"#ed7953\"], [0.7777777777777778, \"#fb9f3a\"], [0.8888888888888888, \"#fdca26\"], [1.0, \"#f0f921\"]], \"type\": \"histogram2d\"}], \"histogram2dcontour\": [{\"colorbar\": {\"outlinewidth\": 0, \"ticks\": \"\"}, \"colorscale\": [[0.0, \"#0d0887\"], [0.1111111111111111, \"#46039f\"], [0.2222222222222222, \"#7201a8\"], [0.3333333333333333, \"#9c179e\"], [0.4444444444444444, \"#bd3786\"], [0.5555555555555556, \"#d8576b\"], [0.6666666666666666, \"#ed7953\"], [0.7777777777777778, \"#fb9f3a\"], [0.8888888888888888, \"#fdca26\"], [1.0, \"#f0f921\"]], \"type\": \"histogram2dcontour\"}], \"mesh3d\": [{\"colorbar\": {\"outlinewidth\": 0, \"ticks\": \"\"}, \"type\": \"mesh3d\"}], \"parcoords\": [{\"line\": {\"colorbar\": {\"outlinewidth\": 0, \"ticks\": \"\"}}, \"type\": \"parcoords\"}], \"scatter\": [{\"marker\": {\"colorbar\": {\"outlinewidth\": 0, \"ticks\": \"\"}}, \"type\": \"scatter\"}], \"scatter3d\": [{\"line\": {\"colorbar\": {\"outlinewidth\": 0, \"ticks\": \"\"}}, \"marker\": {\"colorbar\": {\"outlinewidth\": 0, \"ticks\": \"\"}}, \"type\": \"scatter3d\"}], \"scattercarpet\": [{\"marker\": {\"colorbar\": {\"outlinewidth\": 0, \"ticks\": \"\"}}, \"type\": \"scattercarpet\"}], \"scattergeo\": [{\"marker\": {\"colorbar\": {\"outlinewidth\": 0, \"ticks\": \"\"}}, \"type\": \"scattergeo\"}], \"scattergl\": [{\"marker\": {\"colorbar\": {\"outlinewidth\": 0, \"ticks\": \"\"}}, \"type\": \"scattergl\"}], \"scattermapbox\": [{\"marker\": {\"colorbar\": {\"outlinewidth\": 0, \"ticks\": \"\"}}, \"type\": \"scattermapbox\"}], \"scatterpolar\": [{\"marker\": {\"colorbar\": {\"outlinewidth\": 0, \"ticks\": \"\"}}, \"type\": \"scatterpolar\"}], \"scatterpolargl\": [{\"marker\": {\"colorbar\": {\"outlinewidth\": 0, \"ticks\": \"\"}}, \"type\": \"scatterpolargl\"}], \"scatterternary\": [{\"marker\": {\"colorbar\": {\"outlinewidth\": 0, \"ticks\": \"\"}}, \"type\": \"scatterternary\"}], \"surface\": [{\"colorbar\": {\"outlinewidth\": 0, \"ticks\": \"\"}, \"colorscale\": [[0.0, \"#0d0887\"], [0.1111111111111111, \"#46039f\"], [0.2222222222222222, \"#7201a8\"], [0.3333333333333333, \"#9c179e\"], [0.4444444444444444, \"#bd3786\"], [0.5555555555555556, \"#d8576b\"], [0.6666666666666666, \"#ed7953\"], [0.7777777777777778, \"#fb9f3a\"], [0.8888888888888888, \"#fdca26\"], [1.0, \"#f0f921\"]], \"type\": \"surface\"}], \"table\": [{\"cells\": {\"fill\": {\"color\": \"#EBF0F8\"}, \"line\": {\"color\": \"white\"}}, \"header\": {\"fill\": {\"color\": \"#C8D4E3\"}, \"line\": {\"color\": \"white\"}}, \"type\": \"table\"}]}, \"layout\": {\"annotationdefaults\": {\"arrowcolor\": \"#2a3f5f\", \"arrowhead\": 0, \"arrowwidth\": 1}, \"colorscale\": {\"diverging\": [[0, \"#8e0152\"], [0.1, \"#c51b7d\"], [0.2, \"#de77ae\"], [0.3, \"#f1b6da\"], [0.4, \"#fde0ef\"], [0.5, \"#f7f7f7\"], [0.6, \"#e6f5d0\"], [0.7, \"#b8e186\"], [0.8, \"#7fbc41\"], [0.9, \"#4d9221\"], [1, \"#276419\"]], \"sequential\": [[0.0, \"#0d0887\"], [0.1111111111111111, \"#46039f\"], [0.2222222222222222, \"#7201a8\"], [0.3333333333333333, \"#9c179e\"], [0.4444444444444444, \"#bd3786\"], [0.5555555555555556, \"#d8576b\"], [0.6666666666666666, \"#ed7953\"], [0.7777777777777778, \"#fb9f3a\"], [0.8888888888888888, \"#fdca26\"], [1.0, \"#f0f921\"]], \"sequentialminus\": [[0.0, \"#0d0887\"], [0.1111111111111111, \"#46039f\"], [0.2222222222222222, \"#7201a8\"], [0.3333333333333333, \"#9c179e\"], [0.4444444444444444, \"#bd3786\"], [0.5555555555555556, \"#d8576b\"], [0.6666666666666666, \"#ed7953\"], [0.7777777777777778, \"#fb9f3a\"], [0.8888888888888888, \"#fdca26\"], [1.0, \"#f0f921\"]]}, \"colorway\": [\"#636efa\", \"#EF553B\", \"#00cc96\", \"#ab63fa\", \"#FFA15A\", \"#19d3f3\", \"#FF6692\", \"#B6E880\", \"#FF97FF\", \"#FECB52\"], \"font\": {\"color\": \"#2a3f5f\"}, \"geo\": {\"bgcolor\": \"white\", \"lakecolor\": \"white\", \"landcolor\": \"#E5ECF6\", \"showlakes\": true, \"showland\": true, \"subunitcolor\": \"white\"}, \"hoverlabel\": {\"align\": \"left\"}, \"hovermode\": \"closest\", \"mapbox\": {\"style\": \"light\"}, \"paper_bgcolor\": \"white\", \"plot_bgcolor\": \"#E5ECF6\", \"polar\": {\"angularaxis\": {\"gridcolor\": \"white\", \"linecolor\": \"white\", \"ticks\": \"\"}, \"bgcolor\": \"#E5ECF6\", \"radialaxis\": {\"gridcolor\": \"white\", \"linecolor\": \"white\", \"ticks\": \"\"}}, \"scene\": {\"xaxis\": {\"backgroundcolor\": \"#E5ECF6\", \"gridcolor\": \"white\", \"gridwidth\": 2, \"linecolor\": \"white\", \"showbackground\": true, \"ticks\": \"\", \"zerolinecolor\": \"white\"}, \"yaxis\": {\"backgroundcolor\": \"#E5ECF6\", \"gridcolor\": \"white\", \"gridwidth\": 2, \"linecolor\": \"white\", \"showbackground\": true, \"ticks\": \"\", \"zerolinecolor\": \"white\"}, \"zaxis\": {\"backgroundcolor\": \"#E5ECF6\", \"gridcolor\": \"white\", \"gridwidth\": 2, \"linecolor\": \"white\", \"showbackground\": true, \"ticks\": \"\", \"zerolinecolor\": \"white\"}}, \"shapedefaults\": {\"line\": {\"color\": \"#2a3f5f\"}}, \"ternary\": {\"aaxis\": {\"gridcolor\": \"white\", \"linecolor\": \"white\", \"ticks\": \"\"}, \"baxis\": {\"gridcolor\": \"white\", \"linecolor\": \"white\", \"ticks\": \"\"}, \"bgcolor\": \"#E5ECF6\", \"caxis\": {\"gridcolor\": \"white\", \"linecolor\": \"white\", \"ticks\": \"\"}}, \"title\": {\"x\": 0.05}, \"xaxis\": {\"automargin\": true, \"gridcolor\": \"white\", \"linecolor\": \"white\", \"ticks\": \"\", \"zerolinecolor\": \"white\", \"zerolinewidth\": 2}, \"yaxis\": {\"automargin\": true, \"gridcolor\": \"white\", \"linecolor\": \"white\", \"ticks\": \"\", \"zerolinecolor\": \"white\", \"zerolinewidth\": 2}}}, \"title\": {\"text\": \"Mean price vs Age\"}, \"xaxis\": {\"range\": [0, 10], \"title\": {\"text\": \"Age\"}}, \"yaxis\": {\"title\": {\"text\": \"Price\"}}},\n",
       "                        {\"responsive\": true}\n",
       "                    ).then(function(){\n",
       "                            \n",
       "var gd = document.getElementById('7bdd370a-7845-40bb-a03a-16de975b9c58');\n",
       "var x = new MutationObserver(function (mutations, observer) {{\n",
       "        var display = window.getComputedStyle(gd).display;\n",
       "        if (!display || display === 'none') {{\n",
       "            console.log([gd, 'removed!']);\n",
       "            Plotly.purge(gd);\n",
       "            observer.disconnect();\n",
       "        }}\n",
       "}});\n",
       "\n",
       "// Listen for the removal of the full notebook cells\n",
       "var notebookContainer = gd.closest('#notebook-container');\n",
       "if (notebookContainer) {{\n",
       "    x.observe(notebookContainer, {childList: true});\n",
       "}}\n",
       "\n",
       "// Listen for the clearing of the current output cell\n",
       "var outputEl = gd.closest('.output');\n",
       "if (outputEl) {{\n",
       "    x.observe(outputEl, {childList: true});\n",
       "}}\n",
       "\n",
       "                        })\n",
       "                };\n",
       "                });\n",
       "            </script>\n",
       "        </div>"
      ]
     },
     "metadata": {},
     "output_type": "display_data"
    }
   ],
   "source": [
    "data=[]\n",
    "for model in df_price_age.model.unique():\n",
    "    trace=go.Scatter(\n",
    "            y=df_price_age_mod[df_price_age_mod.model==model].mean_price,\n",
    "            x=df_price_age_mod[df_price_age_mod.model==model].Age,\n",
    "            mode='lines',\n",
    "            marker=dict(\n",
    "            size=5\n",
    "            \n",
    "            ),\n",
    "        name=model,\n",
    "\n",
    "        )\n",
    "\n",
    "    data.append(trace)\n",
    "    \n",
    "figure=go.Figure(\n",
    "    data=data,\n",
    "    layout=go.Layout(\n",
    "        title=\"Mean price vs Age\",\n",
    "        yaxis=dict(title=\"Price\"),\n",
    "        xaxis=dict(title=\"Age\",range=(0,10))\n",
    "\n",
    "    \n",
    "    ))\n",
    "iplot(figure)\n"
   ]
  },
  {
   "cell_type": "code",
   "execution_count": 60,
   "metadata": {},
   "outputs": [
    {
     "data": {
      "application/vnd.plotly.v1+json": {
       "config": {
        "linkText": "Export to plot.ly",
        "plotlyServerURL": "https://plot.ly",
        "showLink": false
       },
       "data": [
        {
         "marker": {
          "size": 5
         },
         "mode": "lines",
         "name": "Seria 1",
         "type": "scatter",
         "x": [
          0,
          1,
          2,
          3,
          4,
          5,
          6,
          7,
          8,
          9,
          10,
          11,
          12,
          13,
          14,
          15,
          16
         ],
         "y": [
          1,
          0.8322927643839234,
          0.6110058452255106,
          0.5919931836827131,
          0.32975040044656684,
          0.4478134352619869,
          0.2882734450668056,
          0.2948707477897275,
          0.2745143399792787,
          0.1902317898192094,
          0.16425564121411035,
          0.15552865362318402,
          0.12339824484352215,
          0.12770083357586254,
          0.11511815186084044,
          0.08874082641084757,
          0.10853767704051612
         ]
        },
        {
         "marker": {
          "size": 5
         },
         "mode": "lines",
         "name": "Seria 3",
         "type": "scatter",
         "x": [
          0,
          1,
          2,
          3,
          4,
          5,
          6,
          7,
          8,
          9,
          10,
          11,
          12,
          13,
          14,
          15,
          16,
          17,
          18,
          19,
          20,
          21,
          22,
          23,
          24,
          26,
          28,
          29,
          30,
          32,
          33
         ],
         "y": [
          0.9903833748329686,
          1,
          0.5067405702168629,
          0.4025688001848067,
          0.39282722844696455,
          0.2957315092553494,
          0.3058237865511397,
          0.28948379052909795,
          0.24356077348259275,
          0.20445365860867706,
          0.1706883141883821,
          0.1613803874510105,
          0.15263059803927545,
          0.12406570489621574,
          0.11190173549123252,
          0.08507212117971145,
          0.07028639533910978,
          0.06348920501944684,
          0.05748431116629572,
          0.03959018067799299,
          0.04100624646631497,
          0.03903686924598961,
          0.048625786271334195,
          0.01578582561142608,
          0.008981590434087252,
          0.026309709352376795,
          0.08600553264156277,
          0.11267813453673098,
          0.03647070055053611,
          0.16330164425613183,
          0.1306358720167636
         ]
        },
        {
         "marker": {
          "size": 5
         },
         "mode": "lines",
         "name": "Seria 5",
         "type": "scatter",
         "x": [
          0,
          1,
          2,
          3,
          4,
          5,
          6,
          7,
          8,
          9,
          10,
          11,
          12,
          13,
          14,
          15,
          16,
          17,
          18,
          19,
          20,
          21,
          22,
          23,
          24,
          32,
          34,
          35
         ],
         "y": [
          1,
          0.8558492251238986,
          0.7413015373596982,
          0.6663200266592393,
          0.382913746668862,
          0.3643423021879396,
          0.34422514415831124,
          0.28222023517476585,
          0.2594896543271235,
          0.23671593069363478,
          0.1976987149105379,
          0.12690442223375262,
          0.13414731145615566,
          0.10466425274613805,
          0.09455033649919278,
          0.09400897427839822,
          0.09061612291772168,
          0.05549247177759381,
          0.04778078502231935,
          0.05456931185609149,
          0.034875124118554715,
          0.02760703102493995,
          0.02861709081716347,
          0.04348996360180084,
          0.05388548589298258,
          0.041029557786534956,
          0.1025738944663374,
          0.057437277945370284
         ]
        }
       ],
       "layout": {
        "template": {
         "data": {
          "bar": [
           {
            "error_x": {
             "color": "#2a3f5f"
            },
            "error_y": {
             "color": "#2a3f5f"
            },
            "marker": {
             "line": {
              "color": "#E5ECF6",
              "width": 0.5
             }
            },
            "type": "bar"
           }
          ],
          "barpolar": [
           {
            "marker": {
             "line": {
              "color": "#E5ECF6",
              "width": 0.5
             }
            },
            "type": "barpolar"
           }
          ],
          "carpet": [
           {
            "aaxis": {
             "endlinecolor": "#2a3f5f",
             "gridcolor": "white",
             "linecolor": "white",
             "minorgridcolor": "white",
             "startlinecolor": "#2a3f5f"
            },
            "baxis": {
             "endlinecolor": "#2a3f5f",
             "gridcolor": "white",
             "linecolor": "white",
             "minorgridcolor": "white",
             "startlinecolor": "#2a3f5f"
            },
            "type": "carpet"
           }
          ],
          "choropleth": [
           {
            "colorbar": {
             "outlinewidth": 0,
             "ticks": ""
            },
            "type": "choropleth"
           }
          ],
          "contour": [
           {
            "colorbar": {
             "outlinewidth": 0,
             "ticks": ""
            },
            "colorscale": [
             [
              0,
              "#0d0887"
             ],
             [
              0.1111111111111111,
              "#46039f"
             ],
             [
              0.2222222222222222,
              "#7201a8"
             ],
             [
              0.3333333333333333,
              "#9c179e"
             ],
             [
              0.4444444444444444,
              "#bd3786"
             ],
             [
              0.5555555555555556,
              "#d8576b"
             ],
             [
              0.6666666666666666,
              "#ed7953"
             ],
             [
              0.7777777777777778,
              "#fb9f3a"
             ],
             [
              0.8888888888888888,
              "#fdca26"
             ],
             [
              1,
              "#f0f921"
             ]
            ],
            "type": "contour"
           }
          ],
          "contourcarpet": [
           {
            "colorbar": {
             "outlinewidth": 0,
             "ticks": ""
            },
            "type": "contourcarpet"
           }
          ],
          "heatmap": [
           {
            "colorbar": {
             "outlinewidth": 0,
             "ticks": ""
            },
            "colorscale": [
             [
              0,
              "#0d0887"
             ],
             [
              0.1111111111111111,
              "#46039f"
             ],
             [
              0.2222222222222222,
              "#7201a8"
             ],
             [
              0.3333333333333333,
              "#9c179e"
             ],
             [
              0.4444444444444444,
              "#bd3786"
             ],
             [
              0.5555555555555556,
              "#d8576b"
             ],
             [
              0.6666666666666666,
              "#ed7953"
             ],
             [
              0.7777777777777778,
              "#fb9f3a"
             ],
             [
              0.8888888888888888,
              "#fdca26"
             ],
             [
              1,
              "#f0f921"
             ]
            ],
            "type": "heatmap"
           }
          ],
          "heatmapgl": [
           {
            "colorbar": {
             "outlinewidth": 0,
             "ticks": ""
            },
            "colorscale": [
             [
              0,
              "#0d0887"
             ],
             [
              0.1111111111111111,
              "#46039f"
             ],
             [
              0.2222222222222222,
              "#7201a8"
             ],
             [
              0.3333333333333333,
              "#9c179e"
             ],
             [
              0.4444444444444444,
              "#bd3786"
             ],
             [
              0.5555555555555556,
              "#d8576b"
             ],
             [
              0.6666666666666666,
              "#ed7953"
             ],
             [
              0.7777777777777778,
              "#fb9f3a"
             ],
             [
              0.8888888888888888,
              "#fdca26"
             ],
             [
              1,
              "#f0f921"
             ]
            ],
            "type": "heatmapgl"
           }
          ],
          "histogram": [
           {
            "marker": {
             "colorbar": {
              "outlinewidth": 0,
              "ticks": ""
             }
            },
            "type": "histogram"
           }
          ],
          "histogram2d": [
           {
            "colorbar": {
             "outlinewidth": 0,
             "ticks": ""
            },
            "colorscale": [
             [
              0,
              "#0d0887"
             ],
             [
              0.1111111111111111,
              "#46039f"
             ],
             [
              0.2222222222222222,
              "#7201a8"
             ],
             [
              0.3333333333333333,
              "#9c179e"
             ],
             [
              0.4444444444444444,
              "#bd3786"
             ],
             [
              0.5555555555555556,
              "#d8576b"
             ],
             [
              0.6666666666666666,
              "#ed7953"
             ],
             [
              0.7777777777777778,
              "#fb9f3a"
             ],
             [
              0.8888888888888888,
              "#fdca26"
             ],
             [
              1,
              "#f0f921"
             ]
            ],
            "type": "histogram2d"
           }
          ],
          "histogram2dcontour": [
           {
            "colorbar": {
             "outlinewidth": 0,
             "ticks": ""
            },
            "colorscale": [
             [
              0,
              "#0d0887"
             ],
             [
              0.1111111111111111,
              "#46039f"
             ],
             [
              0.2222222222222222,
              "#7201a8"
             ],
             [
              0.3333333333333333,
              "#9c179e"
             ],
             [
              0.4444444444444444,
              "#bd3786"
             ],
             [
              0.5555555555555556,
              "#d8576b"
             ],
             [
              0.6666666666666666,
              "#ed7953"
             ],
             [
              0.7777777777777778,
              "#fb9f3a"
             ],
             [
              0.8888888888888888,
              "#fdca26"
             ],
             [
              1,
              "#f0f921"
             ]
            ],
            "type": "histogram2dcontour"
           }
          ],
          "mesh3d": [
           {
            "colorbar": {
             "outlinewidth": 0,
             "ticks": ""
            },
            "type": "mesh3d"
           }
          ],
          "parcoords": [
           {
            "line": {
             "colorbar": {
              "outlinewidth": 0,
              "ticks": ""
             }
            },
            "type": "parcoords"
           }
          ],
          "scatter": [
           {
            "marker": {
             "colorbar": {
              "outlinewidth": 0,
              "ticks": ""
             }
            },
            "type": "scatter"
           }
          ],
          "scatter3d": [
           {
            "line": {
             "colorbar": {
              "outlinewidth": 0,
              "ticks": ""
             }
            },
            "marker": {
             "colorbar": {
              "outlinewidth": 0,
              "ticks": ""
             }
            },
            "type": "scatter3d"
           }
          ],
          "scattercarpet": [
           {
            "marker": {
             "colorbar": {
              "outlinewidth": 0,
              "ticks": ""
             }
            },
            "type": "scattercarpet"
           }
          ],
          "scattergeo": [
           {
            "marker": {
             "colorbar": {
              "outlinewidth": 0,
              "ticks": ""
             }
            },
            "type": "scattergeo"
           }
          ],
          "scattergl": [
           {
            "marker": {
             "colorbar": {
              "outlinewidth": 0,
              "ticks": ""
             }
            },
            "type": "scattergl"
           }
          ],
          "scattermapbox": [
           {
            "marker": {
             "colorbar": {
              "outlinewidth": 0,
              "ticks": ""
             }
            },
            "type": "scattermapbox"
           }
          ],
          "scatterpolar": [
           {
            "marker": {
             "colorbar": {
              "outlinewidth": 0,
              "ticks": ""
             }
            },
            "type": "scatterpolar"
           }
          ],
          "scatterpolargl": [
           {
            "marker": {
             "colorbar": {
              "outlinewidth": 0,
              "ticks": ""
             }
            },
            "type": "scatterpolargl"
           }
          ],
          "scatterternary": [
           {
            "marker": {
             "colorbar": {
              "outlinewidth": 0,
              "ticks": ""
             }
            },
            "type": "scatterternary"
           }
          ],
          "surface": [
           {
            "colorbar": {
             "outlinewidth": 0,
             "ticks": ""
            },
            "colorscale": [
             [
              0,
              "#0d0887"
             ],
             [
              0.1111111111111111,
              "#46039f"
             ],
             [
              0.2222222222222222,
              "#7201a8"
             ],
             [
              0.3333333333333333,
              "#9c179e"
             ],
             [
              0.4444444444444444,
              "#bd3786"
             ],
             [
              0.5555555555555556,
              "#d8576b"
             ],
             [
              0.6666666666666666,
              "#ed7953"
             ],
             [
              0.7777777777777778,
              "#fb9f3a"
             ],
             [
              0.8888888888888888,
              "#fdca26"
             ],
             [
              1,
              "#f0f921"
             ]
            ],
            "type": "surface"
           }
          ],
          "table": [
           {
            "cells": {
             "fill": {
              "color": "#EBF0F8"
             },
             "line": {
              "color": "white"
             }
            },
            "header": {
             "fill": {
              "color": "#C8D4E3"
             },
             "line": {
              "color": "white"
             }
            },
            "type": "table"
           }
          ]
         },
         "layout": {
          "annotationdefaults": {
           "arrowcolor": "#2a3f5f",
           "arrowhead": 0,
           "arrowwidth": 1
          },
          "colorscale": {
           "diverging": [
            [
             0,
             "#8e0152"
            ],
            [
             0.1,
             "#c51b7d"
            ],
            [
             0.2,
             "#de77ae"
            ],
            [
             0.3,
             "#f1b6da"
            ],
            [
             0.4,
             "#fde0ef"
            ],
            [
             0.5,
             "#f7f7f7"
            ],
            [
             0.6,
             "#e6f5d0"
            ],
            [
             0.7,
             "#b8e186"
            ],
            [
             0.8,
             "#7fbc41"
            ],
            [
             0.9,
             "#4d9221"
            ],
            [
             1,
             "#276419"
            ]
           ],
           "sequential": [
            [
             0,
             "#0d0887"
            ],
            [
             0.1111111111111111,
             "#46039f"
            ],
            [
             0.2222222222222222,
             "#7201a8"
            ],
            [
             0.3333333333333333,
             "#9c179e"
            ],
            [
             0.4444444444444444,
             "#bd3786"
            ],
            [
             0.5555555555555556,
             "#d8576b"
            ],
            [
             0.6666666666666666,
             "#ed7953"
            ],
            [
             0.7777777777777778,
             "#fb9f3a"
            ],
            [
             0.8888888888888888,
             "#fdca26"
            ],
            [
             1,
             "#f0f921"
            ]
           ],
           "sequentialminus": [
            [
             0,
             "#0d0887"
            ],
            [
             0.1111111111111111,
             "#46039f"
            ],
            [
             0.2222222222222222,
             "#7201a8"
            ],
            [
             0.3333333333333333,
             "#9c179e"
            ],
            [
             0.4444444444444444,
             "#bd3786"
            ],
            [
             0.5555555555555556,
             "#d8576b"
            ],
            [
             0.6666666666666666,
             "#ed7953"
            ],
            [
             0.7777777777777778,
             "#fb9f3a"
            ],
            [
             0.8888888888888888,
             "#fdca26"
            ],
            [
             1,
             "#f0f921"
            ]
           ]
          },
          "colorway": [
           "#636efa",
           "#EF553B",
           "#00cc96",
           "#ab63fa",
           "#FFA15A",
           "#19d3f3",
           "#FF6692",
           "#B6E880",
           "#FF97FF",
           "#FECB52"
          ],
          "font": {
           "color": "#2a3f5f"
          },
          "geo": {
           "bgcolor": "white",
           "lakecolor": "white",
           "landcolor": "#E5ECF6",
           "showlakes": true,
           "showland": true,
           "subunitcolor": "white"
          },
          "hoverlabel": {
           "align": "left"
          },
          "hovermode": "closest",
          "mapbox": {
           "style": "light"
          },
          "paper_bgcolor": "white",
          "plot_bgcolor": "#E5ECF6",
          "polar": {
           "angularaxis": {
            "gridcolor": "white",
            "linecolor": "white",
            "ticks": ""
           },
           "bgcolor": "#E5ECF6",
           "radialaxis": {
            "gridcolor": "white",
            "linecolor": "white",
            "ticks": ""
           }
          },
          "scene": {
           "xaxis": {
            "backgroundcolor": "#E5ECF6",
            "gridcolor": "white",
            "gridwidth": 2,
            "linecolor": "white",
            "showbackground": true,
            "ticks": "",
            "zerolinecolor": "white"
           },
           "yaxis": {
            "backgroundcolor": "#E5ECF6",
            "gridcolor": "white",
            "gridwidth": 2,
            "linecolor": "white",
            "showbackground": true,
            "ticks": "",
            "zerolinecolor": "white"
           },
           "zaxis": {
            "backgroundcolor": "#E5ECF6",
            "gridcolor": "white",
            "gridwidth": 2,
            "linecolor": "white",
            "showbackground": true,
            "ticks": "",
            "zerolinecolor": "white"
           }
          },
          "shapedefaults": {
           "line": {
            "color": "#2a3f5f"
           }
          },
          "ternary": {
           "aaxis": {
            "gridcolor": "white",
            "linecolor": "white",
            "ticks": ""
           },
           "baxis": {
            "gridcolor": "white",
            "linecolor": "white",
            "ticks": ""
           },
           "bgcolor": "#E5ECF6",
           "caxis": {
            "gridcolor": "white",
            "linecolor": "white",
            "ticks": ""
           }
          },
          "title": {
           "x": 0.05
          },
          "xaxis": {
           "automargin": true,
           "gridcolor": "white",
           "linecolor": "white",
           "ticks": "",
           "zerolinecolor": "white",
           "zerolinewidth": 2
          },
          "yaxis": {
           "automargin": true,
           "gridcolor": "white",
           "linecolor": "white",
           "ticks": "",
           "zerolinecolor": "white",
           "zerolinewidth": 2
          }
         }
        },
        "title": {
         "text": "Deprecation with Age"
        },
        "xaxis": {
         "range": [
          0,
          10
         ],
         "title": {
          "text": "Age"
         }
        },
        "yaxis": {
         "title": {
          "text": "Price in relation to new model mean price"
         }
        }
       }
      },
      "text/html": [
       "<div>\n",
       "        \n",
       "        \n",
       "            <div id=\"34536757-06d9-4cfe-9466-a182e3afaf52\" class=\"plotly-graph-div\" style=\"height:525px; width:100%;\"></div>\n",
       "            <script type=\"text/javascript\">\n",
       "                require([\"plotly\"], function(Plotly) {\n",
       "                    window.PLOTLYENV=window.PLOTLYENV || {};\n",
       "                    \n",
       "                if (document.getElementById(\"34536757-06d9-4cfe-9466-a182e3afaf52\")) {\n",
       "                    Plotly.newPlot(\n",
       "                        '34536757-06d9-4cfe-9466-a182e3afaf52',\n",
       "                        [{\"marker\": {\"size\": 5}, \"mode\": \"lines\", \"name\": \"Seria 1\", \"type\": \"scatter\", \"x\": [0, 1, 2, 3, 4, 5, 6, 7, 8, 9, 10, 11, 12, 13, 14, 15, 16], \"y\": [1.0, 0.8322927643839234, 0.6110058452255106, 0.5919931836827131, 0.32975040044656684, 0.4478134352619869, 0.2882734450668056, 0.2948707477897275, 0.2745143399792787, 0.1902317898192094, 0.16425564121411035, 0.15552865362318402, 0.12339824484352215, 0.12770083357586254, 0.11511815186084044, 0.08874082641084757, 0.10853767704051612]}, {\"marker\": {\"size\": 5}, \"mode\": \"lines\", \"name\": \"Seria 3\", \"type\": \"scatter\", \"x\": [0, 1, 2, 3, 4, 5, 6, 7, 8, 9, 10, 11, 12, 13, 14, 15, 16, 17, 18, 19, 20, 21, 22, 23, 24, 26, 28, 29, 30, 32, 33], \"y\": [0.9903833748329686, 1.0, 0.5067405702168629, 0.4025688001848067, 0.39282722844696455, 0.2957315092553494, 0.3058237865511397, 0.28948379052909795, 0.24356077348259275, 0.20445365860867706, 0.1706883141883821, 0.1613803874510105, 0.15263059803927545, 0.12406570489621574, 0.11190173549123252, 0.08507212117971145, 0.07028639533910978, 0.06348920501944684, 0.05748431116629572, 0.03959018067799299, 0.04100624646631497, 0.03903686924598961, 0.048625786271334195, 0.01578582561142608, 0.008981590434087252, 0.026309709352376795, 0.08600553264156277, 0.11267813453673098, 0.03647070055053611, 0.16330164425613183, 0.1306358720167636]}, {\"marker\": {\"size\": 5}, \"mode\": \"lines\", \"name\": \"Seria 5\", \"type\": \"scatter\", \"x\": [0, 1, 2, 3, 4, 5, 6, 7, 8, 9, 10, 11, 12, 13, 14, 15, 16, 17, 18, 19, 20, 21, 22, 23, 24, 32, 34, 35], \"y\": [1.0, 0.8558492251238986, 0.7413015373596982, 0.6663200266592393, 0.382913746668862, 0.3643423021879396, 0.34422514415831124, 0.28222023517476585, 0.2594896543271235, 0.23671593069363478, 0.1976987149105379, 0.12690442223375262, 0.13414731145615566, 0.10466425274613805, 0.09455033649919278, 0.09400897427839822, 0.09061612291772168, 0.05549247177759381, 0.04778078502231935, 0.05456931185609149, 0.034875124118554715, 0.02760703102493995, 0.02861709081716347, 0.04348996360180084, 0.05388548589298258, 0.041029557786534956, 0.1025738944663374, 0.057437277945370284]}],\n",
       "                        {\"template\": {\"data\": {\"bar\": [{\"error_x\": {\"color\": \"#2a3f5f\"}, \"error_y\": {\"color\": \"#2a3f5f\"}, \"marker\": {\"line\": {\"color\": \"#E5ECF6\", \"width\": 0.5}}, \"type\": \"bar\"}], \"barpolar\": [{\"marker\": {\"line\": {\"color\": \"#E5ECF6\", \"width\": 0.5}}, \"type\": \"barpolar\"}], \"carpet\": [{\"aaxis\": {\"endlinecolor\": \"#2a3f5f\", \"gridcolor\": \"white\", \"linecolor\": \"white\", \"minorgridcolor\": \"white\", \"startlinecolor\": \"#2a3f5f\"}, \"baxis\": {\"endlinecolor\": \"#2a3f5f\", \"gridcolor\": \"white\", \"linecolor\": \"white\", \"minorgridcolor\": \"white\", \"startlinecolor\": \"#2a3f5f\"}, \"type\": \"carpet\"}], \"choropleth\": [{\"colorbar\": {\"outlinewidth\": 0, \"ticks\": \"\"}, \"type\": \"choropleth\"}], \"contour\": [{\"colorbar\": {\"outlinewidth\": 0, \"ticks\": \"\"}, \"colorscale\": [[0.0, \"#0d0887\"], [0.1111111111111111, \"#46039f\"], [0.2222222222222222, \"#7201a8\"], [0.3333333333333333, \"#9c179e\"], [0.4444444444444444, \"#bd3786\"], [0.5555555555555556, \"#d8576b\"], [0.6666666666666666, \"#ed7953\"], [0.7777777777777778, \"#fb9f3a\"], [0.8888888888888888, \"#fdca26\"], [1.0, \"#f0f921\"]], \"type\": \"contour\"}], \"contourcarpet\": [{\"colorbar\": {\"outlinewidth\": 0, \"ticks\": \"\"}, \"type\": \"contourcarpet\"}], \"heatmap\": [{\"colorbar\": {\"outlinewidth\": 0, \"ticks\": \"\"}, \"colorscale\": [[0.0, \"#0d0887\"], [0.1111111111111111, \"#46039f\"], [0.2222222222222222, \"#7201a8\"], [0.3333333333333333, \"#9c179e\"], [0.4444444444444444, \"#bd3786\"], [0.5555555555555556, \"#d8576b\"], [0.6666666666666666, \"#ed7953\"], [0.7777777777777778, \"#fb9f3a\"], [0.8888888888888888, \"#fdca26\"], [1.0, \"#f0f921\"]], \"type\": \"heatmap\"}], \"heatmapgl\": [{\"colorbar\": {\"outlinewidth\": 0, \"ticks\": \"\"}, \"colorscale\": [[0.0, \"#0d0887\"], [0.1111111111111111, \"#46039f\"], [0.2222222222222222, \"#7201a8\"], [0.3333333333333333, \"#9c179e\"], [0.4444444444444444, \"#bd3786\"], [0.5555555555555556, \"#d8576b\"], [0.6666666666666666, \"#ed7953\"], [0.7777777777777778, \"#fb9f3a\"], [0.8888888888888888, \"#fdca26\"], [1.0, \"#f0f921\"]], \"type\": \"heatmapgl\"}], \"histogram\": [{\"marker\": {\"colorbar\": {\"outlinewidth\": 0, \"ticks\": \"\"}}, \"type\": \"histogram\"}], \"histogram2d\": [{\"colorbar\": {\"outlinewidth\": 0, \"ticks\": \"\"}, \"colorscale\": [[0.0, \"#0d0887\"], [0.1111111111111111, \"#46039f\"], [0.2222222222222222, \"#7201a8\"], [0.3333333333333333, \"#9c179e\"], [0.4444444444444444, \"#bd3786\"], [0.5555555555555556, \"#d8576b\"], [0.6666666666666666, \"#ed7953\"], [0.7777777777777778, \"#fb9f3a\"], [0.8888888888888888, \"#fdca26\"], [1.0, \"#f0f921\"]], \"type\": \"histogram2d\"}], \"histogram2dcontour\": [{\"colorbar\": {\"outlinewidth\": 0, \"ticks\": \"\"}, \"colorscale\": [[0.0, \"#0d0887\"], [0.1111111111111111, \"#46039f\"], [0.2222222222222222, \"#7201a8\"], [0.3333333333333333, \"#9c179e\"], [0.4444444444444444, \"#bd3786\"], [0.5555555555555556, \"#d8576b\"], [0.6666666666666666, \"#ed7953\"], [0.7777777777777778, \"#fb9f3a\"], [0.8888888888888888, \"#fdca26\"], [1.0, \"#f0f921\"]], \"type\": \"histogram2dcontour\"}], \"mesh3d\": [{\"colorbar\": {\"outlinewidth\": 0, \"ticks\": \"\"}, \"type\": \"mesh3d\"}], \"parcoords\": [{\"line\": {\"colorbar\": {\"outlinewidth\": 0, \"ticks\": \"\"}}, \"type\": \"parcoords\"}], \"scatter\": [{\"marker\": {\"colorbar\": {\"outlinewidth\": 0, \"ticks\": \"\"}}, \"type\": \"scatter\"}], \"scatter3d\": [{\"line\": {\"colorbar\": {\"outlinewidth\": 0, \"ticks\": \"\"}}, \"marker\": {\"colorbar\": {\"outlinewidth\": 0, \"ticks\": \"\"}}, \"type\": \"scatter3d\"}], \"scattercarpet\": [{\"marker\": {\"colorbar\": {\"outlinewidth\": 0, \"ticks\": \"\"}}, \"type\": \"scattercarpet\"}], \"scattergeo\": [{\"marker\": {\"colorbar\": {\"outlinewidth\": 0, \"ticks\": \"\"}}, \"type\": \"scattergeo\"}], \"scattergl\": [{\"marker\": {\"colorbar\": {\"outlinewidth\": 0, \"ticks\": \"\"}}, \"type\": \"scattergl\"}], \"scattermapbox\": [{\"marker\": {\"colorbar\": {\"outlinewidth\": 0, \"ticks\": \"\"}}, \"type\": \"scattermapbox\"}], \"scatterpolar\": [{\"marker\": {\"colorbar\": {\"outlinewidth\": 0, \"ticks\": \"\"}}, \"type\": \"scatterpolar\"}], \"scatterpolargl\": [{\"marker\": {\"colorbar\": {\"outlinewidth\": 0, \"ticks\": \"\"}}, \"type\": \"scatterpolargl\"}], \"scatterternary\": [{\"marker\": {\"colorbar\": {\"outlinewidth\": 0, \"ticks\": \"\"}}, \"type\": \"scatterternary\"}], \"surface\": [{\"colorbar\": {\"outlinewidth\": 0, \"ticks\": \"\"}, \"colorscale\": [[0.0, \"#0d0887\"], [0.1111111111111111, \"#46039f\"], [0.2222222222222222, \"#7201a8\"], [0.3333333333333333, \"#9c179e\"], [0.4444444444444444, \"#bd3786\"], [0.5555555555555556, \"#d8576b\"], [0.6666666666666666, \"#ed7953\"], [0.7777777777777778, \"#fb9f3a\"], [0.8888888888888888, \"#fdca26\"], [1.0, \"#f0f921\"]], \"type\": \"surface\"}], \"table\": [{\"cells\": {\"fill\": {\"color\": \"#EBF0F8\"}, \"line\": {\"color\": \"white\"}}, \"header\": {\"fill\": {\"color\": \"#C8D4E3\"}, \"line\": {\"color\": \"white\"}}, \"type\": \"table\"}]}, \"layout\": {\"annotationdefaults\": {\"arrowcolor\": \"#2a3f5f\", \"arrowhead\": 0, \"arrowwidth\": 1}, \"colorscale\": {\"diverging\": [[0, \"#8e0152\"], [0.1, \"#c51b7d\"], [0.2, \"#de77ae\"], [0.3, \"#f1b6da\"], [0.4, \"#fde0ef\"], [0.5, \"#f7f7f7\"], [0.6, \"#e6f5d0\"], [0.7, \"#b8e186\"], [0.8, \"#7fbc41\"], [0.9, \"#4d9221\"], [1, \"#276419\"]], \"sequential\": [[0.0, \"#0d0887\"], [0.1111111111111111, \"#46039f\"], [0.2222222222222222, \"#7201a8\"], [0.3333333333333333, \"#9c179e\"], [0.4444444444444444, \"#bd3786\"], [0.5555555555555556, \"#d8576b\"], [0.6666666666666666, \"#ed7953\"], [0.7777777777777778, \"#fb9f3a\"], [0.8888888888888888, \"#fdca26\"], [1.0, \"#f0f921\"]], \"sequentialminus\": [[0.0, \"#0d0887\"], [0.1111111111111111, \"#46039f\"], [0.2222222222222222, \"#7201a8\"], [0.3333333333333333, \"#9c179e\"], [0.4444444444444444, \"#bd3786\"], [0.5555555555555556, \"#d8576b\"], [0.6666666666666666, \"#ed7953\"], [0.7777777777777778, \"#fb9f3a\"], [0.8888888888888888, \"#fdca26\"], [1.0, \"#f0f921\"]]}, \"colorway\": [\"#636efa\", \"#EF553B\", \"#00cc96\", \"#ab63fa\", \"#FFA15A\", \"#19d3f3\", \"#FF6692\", \"#B6E880\", \"#FF97FF\", \"#FECB52\"], \"font\": {\"color\": \"#2a3f5f\"}, \"geo\": {\"bgcolor\": \"white\", \"lakecolor\": \"white\", \"landcolor\": \"#E5ECF6\", \"showlakes\": true, \"showland\": true, \"subunitcolor\": \"white\"}, \"hoverlabel\": {\"align\": \"left\"}, \"hovermode\": \"closest\", \"mapbox\": {\"style\": \"light\"}, \"paper_bgcolor\": \"white\", \"plot_bgcolor\": \"#E5ECF6\", \"polar\": {\"angularaxis\": {\"gridcolor\": \"white\", \"linecolor\": \"white\", \"ticks\": \"\"}, \"bgcolor\": \"#E5ECF6\", \"radialaxis\": {\"gridcolor\": \"white\", \"linecolor\": \"white\", \"ticks\": \"\"}}, \"scene\": {\"xaxis\": {\"backgroundcolor\": \"#E5ECF6\", \"gridcolor\": \"white\", \"gridwidth\": 2, \"linecolor\": \"white\", \"showbackground\": true, \"ticks\": \"\", \"zerolinecolor\": \"white\"}, \"yaxis\": {\"backgroundcolor\": \"#E5ECF6\", \"gridcolor\": \"white\", \"gridwidth\": 2, \"linecolor\": \"white\", \"showbackground\": true, \"ticks\": \"\", \"zerolinecolor\": \"white\"}, \"zaxis\": {\"backgroundcolor\": \"#E5ECF6\", \"gridcolor\": \"white\", \"gridwidth\": 2, \"linecolor\": \"white\", \"showbackground\": true, \"ticks\": \"\", \"zerolinecolor\": \"white\"}}, \"shapedefaults\": {\"line\": {\"color\": \"#2a3f5f\"}}, \"ternary\": {\"aaxis\": {\"gridcolor\": \"white\", \"linecolor\": \"white\", \"ticks\": \"\"}, \"baxis\": {\"gridcolor\": \"white\", \"linecolor\": \"white\", \"ticks\": \"\"}, \"bgcolor\": \"#E5ECF6\", \"caxis\": {\"gridcolor\": \"white\", \"linecolor\": \"white\", \"ticks\": \"\"}}, \"title\": {\"x\": 0.05}, \"xaxis\": {\"automargin\": true, \"gridcolor\": \"white\", \"linecolor\": \"white\", \"ticks\": \"\", \"zerolinecolor\": \"white\", \"zerolinewidth\": 2}, \"yaxis\": {\"automargin\": true, \"gridcolor\": \"white\", \"linecolor\": \"white\", \"ticks\": \"\", \"zerolinecolor\": \"white\", \"zerolinewidth\": 2}}}, \"title\": {\"text\": \"Deprecation with Age\"}, \"xaxis\": {\"range\": [0, 10], \"title\": {\"text\": \"Age\"}}, \"yaxis\": {\"title\": {\"text\": \"Price in relation to new model mean price\"}}},\n",
       "                        {\"responsive\": true}\n",
       "                    ).then(function(){\n",
       "                            \n",
       "var gd = document.getElementById('34536757-06d9-4cfe-9466-a182e3afaf52');\n",
       "var x = new MutationObserver(function (mutations, observer) {{\n",
       "        var display = window.getComputedStyle(gd).display;\n",
       "        if (!display || display === 'none') {{\n",
       "            console.log([gd, 'removed!']);\n",
       "            Plotly.purge(gd);\n",
       "            observer.disconnect();\n",
       "        }}\n",
       "}});\n",
       "\n",
       "// Listen for the removal of the full notebook cells\n",
       "var notebookContainer = gd.closest('#notebook-container');\n",
       "if (notebookContainer) {{\n",
       "    x.observe(notebookContainer, {childList: true});\n",
       "}}\n",
       "\n",
       "// Listen for the clearing of the current output cell\n",
       "var outputEl = gd.closest('.output');\n",
       "if (outputEl) {{\n",
       "    x.observe(outputEl, {childList: true});\n",
       "}}\n",
       "\n",
       "                        })\n",
       "                };\n",
       "                });\n",
       "            </script>\n",
       "        </div>"
      ]
     },
     "metadata": {},
     "output_type": "display_data"
    }
   ],
   "source": [
    "data=[]\n",
    "for model in df_price_age.model.unique():\n",
    "    trace=go.Scatter(\n",
    "            y=df_price_age_mod[df_price_age_mod.model==model].deprecation,\n",
    "            x=df_price_age_mod[df_price_age_mod.model==model].Age,\n",
    "            mode='lines',\n",
    "            marker=dict(\n",
    "            size=5\n",
    "            \n",
    "            ),\n",
    "        name=model,\n",
    "\n",
    "        )\n",
    "\n",
    "    data.append(trace)\n",
    "    \n",
    "figure=go.Figure(\n",
    "    data=data,\n",
    "    layout=go.Layout(\n",
    "        title=\"Deprecation with Age\",\n",
    "            yaxis=dict(title=\"Price in relation to new model mean price\"),\n",
    "        xaxis=dict(title=\"Age\",range=(0,10))\n",
    "\n",
    "    \n",
    "    ))\n",
    "iplot(figure)\n"
   ]
  },
  {
   "cell_type": "markdown",
   "metadata": {},
   "source": [
    "While deprecation curves have some local fluctuations, we can observe general falling trend, similar for all 3 models. While over first 3 years Serie 5 looses least relative value, after 6 years all of these values fall down to around 30% of a new model price. These curves do not include possible differences in model configuration like Power, Extra features etc. which also have significant effect on price. Further modeling can better represent this deprecation. "
   ]
  },
  {
   "cell_type": "markdown",
   "metadata": {},
   "source": [
    "## Deprecation in relation to Mileage"
   ]
  },
  {
   "cell_type": "code",
   "execution_count": 61,
   "metadata": {},
   "outputs": [
    {
     "data": {
      "text/html": [
       "<div>\n",
       "<style scoped>\n",
       "    .dataframe tbody tr th:only-of-type {\n",
       "        vertical-align: middle;\n",
       "    }\n",
       "\n",
       "    .dataframe tbody tr th {\n",
       "        vertical-align: top;\n",
       "    }\n",
       "\n",
       "    .dataframe thead th {\n",
       "        text-align: right;\n",
       "    }\n",
       "</style>\n",
       "<table border=\"1\" class=\"dataframe\">\n",
       "  <thead>\n",
       "    <tr style=\"text-align: right;\">\n",
       "      <th></th>\n",
       "      <th>offerID</th>\n",
       "      <th>OEM</th>\n",
       "      <th>model</th>\n",
       "      <th>serie</th>\n",
       "      <th>Production_year</th>\n",
       "      <th>price</th>\n",
       "      <th>Mileage</th>\n",
       "      <th>Fuel</th>\n",
       "      <th>Power</th>\n",
       "      <th>Body</th>\n",
       "      <th>...</th>\n",
       "      <th>Engine_cap_UOM</th>\n",
       "      <th>Age</th>\n",
       "      <th>Age_noise</th>\n",
       "      <th>model_sample</th>\n",
       "      <th>model_2</th>\n",
       "      <th>is_new</th>\n",
       "      <th>log_price</th>\n",
       "      <th>top3</th>\n",
       "      <th>Age_mod</th>\n",
       "      <th>mileage_bucket</th>\n",
       "    </tr>\n",
       "  </thead>\n",
       "  <tbody>\n",
       "    <tr>\n",
       "      <th>0</th>\n",
       "      <td>9105409573</td>\n",
       "      <td>BMW</td>\n",
       "      <td>Seria 5</td>\n",
       "      <td>E12 (1972-1981)</td>\n",
       "      <td>2016</td>\n",
       "      <td>124900.01</td>\n",
       "      <td>93220</td>\n",
       "      <td>Diesel</td>\n",
       "      <td>190</td>\n",
       "      <td>Sedan</td>\n",
       "      <td>...</td>\n",
       "      <td>cm³</td>\n",
       "      <td>4</td>\n",
       "      <td>4.816708</td>\n",
       "      <td>363</td>\n",
       "      <td>Seria 5</td>\n",
       "      <td>0</td>\n",
       "      <td>4.827513</td>\n",
       "      <td>True</td>\n",
       "      <td>4</td>\n",
       "      <td>100000.0</td>\n",
       "    </tr>\n",
       "    <tr>\n",
       "      <th>1</th>\n",
       "      <td>9093309198</td>\n",
       "      <td>BMW</td>\n",
       "      <td>Seria 5</td>\n",
       "      <td>E12 (1972-1981)</td>\n",
       "      <td>2015</td>\n",
       "      <td>75900.00</td>\n",
       "      <td>133615</td>\n",
       "      <td>Diesel</td>\n",
       "      <td>190</td>\n",
       "      <td>Kombi</td>\n",
       "      <td>...</td>\n",
       "      <td>cm³</td>\n",
       "      <td>5</td>\n",
       "      <td>5.685573</td>\n",
       "      <td>363</td>\n",
       "      <td>Seria 5</td>\n",
       "      <td>0</td>\n",
       "      <td>4.329417</td>\n",
       "      <td>True</td>\n",
       "      <td>5</td>\n",
       "      <td>150000.0</td>\n",
       "    </tr>\n",
       "    <tr>\n",
       "      <th>2</th>\n",
       "      <td>9149274274</td>\n",
       "      <td>BMW</td>\n",
       "      <td>Seria 5</td>\n",
       "      <td>E39 (1996-2003)</td>\n",
       "      <td>2002</td>\n",
       "      <td>12500.00</td>\n",
       "      <td>207000</td>\n",
       "      <td>Benzyna</td>\n",
       "      <td>231</td>\n",
       "      <td>Sedan</td>\n",
       "      <td>...</td>\n",
       "      <td>cm³</td>\n",
       "      <td>18</td>\n",
       "      <td>18.277320</td>\n",
       "      <td>363</td>\n",
       "      <td>Seria 5</td>\n",
       "      <td>0</td>\n",
       "      <td>2.525729</td>\n",
       "      <td>True</td>\n",
       "      <td>18</td>\n",
       "      <td>225000.0</td>\n",
       "    </tr>\n",
       "    <tr>\n",
       "      <th>3</th>\n",
       "      <td>8957732722</td>\n",
       "      <td>BMW</td>\n",
       "      <td>Seria 5</td>\n",
       "      <td>F10 (2009-2017)</td>\n",
       "      <td>2015</td>\n",
       "      <td>89900.00</td>\n",
       "      <td>129583</td>\n",
       "      <td>Diesel</td>\n",
       "      <td>190</td>\n",
       "      <td>Kombi</td>\n",
       "      <td>...</td>\n",
       "      <td>cm³</td>\n",
       "      <td>5</td>\n",
       "      <td>5.474406</td>\n",
       "      <td>363</td>\n",
       "      <td>Seria 5</td>\n",
       "      <td>0</td>\n",
       "      <td>4.498698</td>\n",
       "      <td>True</td>\n",
       "      <td>5</td>\n",
       "      <td>150000.0</td>\n",
       "    </tr>\n",
       "    <tr>\n",
       "      <th>4</th>\n",
       "      <td>9051432583</td>\n",
       "      <td>BMW</td>\n",
       "      <td>Seria 5</td>\n",
       "      <td>E12 (1972-1981)</td>\n",
       "      <td>2012</td>\n",
       "      <td>58900.00</td>\n",
       "      <td>193000</td>\n",
       "      <td>Diesel</td>\n",
       "      <td>184</td>\n",
       "      <td>Sedan</td>\n",
       "      <td>...</td>\n",
       "      <td>cm³</td>\n",
       "      <td>8</td>\n",
       "      <td>8.916650</td>\n",
       "      <td>363</td>\n",
       "      <td>Seria 5</td>\n",
       "      <td>0</td>\n",
       "      <td>4.075841</td>\n",
       "      <td>True</td>\n",
       "      <td>8</td>\n",
       "      <td>200000.0</td>\n",
       "    </tr>\n",
       "  </tbody>\n",
       "</table>\n",
       "<p>5 rows × 37 columns</p>\n",
       "</div>"
      ],
      "text/plain": [
       "      offerID  OEM    model            serie  Production_year      price  \\\n",
       "0  9105409573  BMW  Seria 5  E12 (1972-1981)             2016  124900.01   \n",
       "1  9093309198  BMW  Seria 5  E12 (1972-1981)             2015   75900.00   \n",
       "2  9149274274  BMW  Seria 5  E39 (1996-2003)             2002   12500.00   \n",
       "3  8957732722  BMW  Seria 5  F10 (2009-2017)             2015   89900.00   \n",
       "4  9051432583  BMW  Seria 5  E12 (1972-1981)             2012   58900.00   \n",
       "\n",
       "   Mileage     Fuel  Power   Body  ... Engine_cap_UOM Age  Age_noise  \\\n",
       "0    93220   Diesel    190  Sedan  ...            cm³   4   4.816708   \n",
       "1   133615   Diesel    190  Kombi  ...            cm³   5   5.685573   \n",
       "2   207000  Benzyna    231  Sedan  ...            cm³  18  18.277320   \n",
       "3   129583   Diesel    190  Kombi  ...            cm³   5   5.474406   \n",
       "4   193000   Diesel    184  Sedan  ...            cm³   8   8.916650   \n",
       "\n",
       "  model_sample  model_2 is_new  log_price  top3 Age_mod mileage_bucket  \n",
       "0          363  Seria 5      0   4.827513  True       4       100000.0  \n",
       "1          363  Seria 5      0   4.329417  True       5       150000.0  \n",
       "2          363  Seria 5      0   2.525729  True      18       225000.0  \n",
       "3          363  Seria 5      0   4.498698  True       5       150000.0  \n",
       "4          363  Seria 5      0   4.075841  True       8       200000.0  \n",
       "\n",
       "[5 rows x 37 columns]"
      ]
     },
     "execution_count": 61,
     "metadata": {},
     "output_type": "execute_result"
    }
   ],
   "source": [
    "df_top3[\"mileage_bucket\"]=pd.cut(df_top3.Mileage, range(0,4000000,25000))\n",
    "df_top3[\"mileage_bucket\"]=df_top3.mileage_bucket.apply(lambda x:x.right)\n",
    "df_top3[\"mileage_bucket\"]=np.where(df_top3[\"mileage_bucket\"]<300000,df_top3[\"mileage_bucket\"],300000)\n",
    "df_top3[\"mileage_bucket\"]=np.where(df_top3.Condition==\"Nowy\",0,df_top3[\"mileage_bucket\"])\n",
    "df_top3.head()"
   ]
  },
  {
   "cell_type": "code",
   "execution_count": 62,
   "metadata": {},
   "outputs": [],
   "source": [
    "df_price_mileage=df_top3.groupby([\"model\",\"mileage_bucket\"]).price.mean().sort_values(ascending=False).reset_index()\n",
    "df_price_mileage.rename(columns={\"price\":\"mean_price\"},inplace=True)\n",
    "df_price_mileage[\"sample_size\"]=df_top3.groupby([\"model\",\"mileage_bucket\"]).offerID.count().reset_index().offerID\n",
    "df_price_mileage=df_price_mileage.sort_values(by=\"mileage_bucket\",ascending=True)"
   ]
  },
  {
   "cell_type": "code",
   "execution_count": 63,
   "metadata": {},
   "outputs": [],
   "source": [
    "model_max=df_price_mileage.groupby(\"model\").mean_price.max().reset_index()\n",
    "model_max.rename(columns={\"mean_price\":\"new_model_mean_price\"},inplace=True)\n",
    "df_price_mileage=pd.merge(df_price_mileage,model_max,left_on=\"model\", right_on=\"model\")\n",
    "df_price_mileage[\"deprecation\"]=df_price_mileage.mean_price/df_price_mileage.new_model_mean_price\n"
   ]
  },
  {
   "cell_type": "code",
   "execution_count": 64,
   "metadata": {},
   "outputs": [
    {
     "data": {
      "application/vnd.plotly.v1+json": {
       "config": {
        "linkText": "Export to plot.ly",
        "plotlyServerURL": "https://plot.ly",
        "showLink": false
       },
       "data": [
        {
         "marker": {
          "size": 5
         },
         "mode": "lines",
         "name": "Seria 1",
         "type": "scatter",
         "x": [
          25000,
          50000,
          75000,
          100000,
          125000,
          150000,
          175000,
          200000,
          225000,
          250000,
          275000,
          300000
         ],
         "y": [
          127624.13032258065,
          83894.44722222222,
          52400,
          46057.142857142855,
          35837.5,
          23101.30769230769,
          19971.934,
          24226.6,
          20915.30769230769,
          18528.571428571428,
          20799.833333333332,
          16625
         ]
        },
        {
         "marker": {
          "size": 5
         },
         "mode": "lines",
         "name": "Seria 3",
         "type": "scatter",
         "x": [
          25000,
          50000,
          75000,
          100000,
          125000,
          150000,
          175000,
          200000,
          225000,
          250000,
          275000,
          300000
         ],
         "y": [
          142024.06215384614,
          81875.0025,
          56364.28642857143,
          65366.10526315789,
          53809.56,
          53040,
          33248.07444444444,
          25528.528611111113,
          30482.54738095238,
          20789,
          18138.793103448275,
          12702.269841269841
         ]
        },
        {
         "marker": {
          "size": 5
         },
         "mode": "lines",
         "name": "Seria 5",
         "type": "scatter",
         "x": [
          25000,
          50000,
          75000,
          100000,
          125000,
          150000,
          175000,
          200000,
          225000,
          250000,
          275000,
          300000
         ],
         "y": [
          211059.5442105263,
          181291.66708333333,
          106591.61058823529,
          97031.00083333334,
          86837.5723076923,
          89376.84538461539,
          57659.06060606061,
          57710.71428571428,
          37935.06060606061,
          32285.11111111111,
          30915.030303030304,
          22078.845070422536
         ]
        }
       ],
       "layout": {
        "template": {
         "data": {
          "bar": [
           {
            "error_x": {
             "color": "#2a3f5f"
            },
            "error_y": {
             "color": "#2a3f5f"
            },
            "marker": {
             "line": {
              "color": "#E5ECF6",
              "width": 0.5
             }
            },
            "type": "bar"
           }
          ],
          "barpolar": [
           {
            "marker": {
             "line": {
              "color": "#E5ECF6",
              "width": 0.5
             }
            },
            "type": "barpolar"
           }
          ],
          "carpet": [
           {
            "aaxis": {
             "endlinecolor": "#2a3f5f",
             "gridcolor": "white",
             "linecolor": "white",
             "minorgridcolor": "white",
             "startlinecolor": "#2a3f5f"
            },
            "baxis": {
             "endlinecolor": "#2a3f5f",
             "gridcolor": "white",
             "linecolor": "white",
             "minorgridcolor": "white",
             "startlinecolor": "#2a3f5f"
            },
            "type": "carpet"
           }
          ],
          "choropleth": [
           {
            "colorbar": {
             "outlinewidth": 0,
             "ticks": ""
            },
            "type": "choropleth"
           }
          ],
          "contour": [
           {
            "colorbar": {
             "outlinewidth": 0,
             "ticks": ""
            },
            "colorscale": [
             [
              0,
              "#0d0887"
             ],
             [
              0.1111111111111111,
              "#46039f"
             ],
             [
              0.2222222222222222,
              "#7201a8"
             ],
             [
              0.3333333333333333,
              "#9c179e"
             ],
             [
              0.4444444444444444,
              "#bd3786"
             ],
             [
              0.5555555555555556,
              "#d8576b"
             ],
             [
              0.6666666666666666,
              "#ed7953"
             ],
             [
              0.7777777777777778,
              "#fb9f3a"
             ],
             [
              0.8888888888888888,
              "#fdca26"
             ],
             [
              1,
              "#f0f921"
             ]
            ],
            "type": "contour"
           }
          ],
          "contourcarpet": [
           {
            "colorbar": {
             "outlinewidth": 0,
             "ticks": ""
            },
            "type": "contourcarpet"
           }
          ],
          "heatmap": [
           {
            "colorbar": {
             "outlinewidth": 0,
             "ticks": ""
            },
            "colorscale": [
             [
              0,
              "#0d0887"
             ],
             [
              0.1111111111111111,
              "#46039f"
             ],
             [
              0.2222222222222222,
              "#7201a8"
             ],
             [
              0.3333333333333333,
              "#9c179e"
             ],
             [
              0.4444444444444444,
              "#bd3786"
             ],
             [
              0.5555555555555556,
              "#d8576b"
             ],
             [
              0.6666666666666666,
              "#ed7953"
             ],
             [
              0.7777777777777778,
              "#fb9f3a"
             ],
             [
              0.8888888888888888,
              "#fdca26"
             ],
             [
              1,
              "#f0f921"
             ]
            ],
            "type": "heatmap"
           }
          ],
          "heatmapgl": [
           {
            "colorbar": {
             "outlinewidth": 0,
             "ticks": ""
            },
            "colorscale": [
             [
              0,
              "#0d0887"
             ],
             [
              0.1111111111111111,
              "#46039f"
             ],
             [
              0.2222222222222222,
              "#7201a8"
             ],
             [
              0.3333333333333333,
              "#9c179e"
             ],
             [
              0.4444444444444444,
              "#bd3786"
             ],
             [
              0.5555555555555556,
              "#d8576b"
             ],
             [
              0.6666666666666666,
              "#ed7953"
             ],
             [
              0.7777777777777778,
              "#fb9f3a"
             ],
             [
              0.8888888888888888,
              "#fdca26"
             ],
             [
              1,
              "#f0f921"
             ]
            ],
            "type": "heatmapgl"
           }
          ],
          "histogram": [
           {
            "marker": {
             "colorbar": {
              "outlinewidth": 0,
              "ticks": ""
             }
            },
            "type": "histogram"
           }
          ],
          "histogram2d": [
           {
            "colorbar": {
             "outlinewidth": 0,
             "ticks": ""
            },
            "colorscale": [
             [
              0,
              "#0d0887"
             ],
             [
              0.1111111111111111,
              "#46039f"
             ],
             [
              0.2222222222222222,
              "#7201a8"
             ],
             [
              0.3333333333333333,
              "#9c179e"
             ],
             [
              0.4444444444444444,
              "#bd3786"
             ],
             [
              0.5555555555555556,
              "#d8576b"
             ],
             [
              0.6666666666666666,
              "#ed7953"
             ],
             [
              0.7777777777777778,
              "#fb9f3a"
             ],
             [
              0.8888888888888888,
              "#fdca26"
             ],
             [
              1,
              "#f0f921"
             ]
            ],
            "type": "histogram2d"
           }
          ],
          "histogram2dcontour": [
           {
            "colorbar": {
             "outlinewidth": 0,
             "ticks": ""
            },
            "colorscale": [
             [
              0,
              "#0d0887"
             ],
             [
              0.1111111111111111,
              "#46039f"
             ],
             [
              0.2222222222222222,
              "#7201a8"
             ],
             [
              0.3333333333333333,
              "#9c179e"
             ],
             [
              0.4444444444444444,
              "#bd3786"
             ],
             [
              0.5555555555555556,
              "#d8576b"
             ],
             [
              0.6666666666666666,
              "#ed7953"
             ],
             [
              0.7777777777777778,
              "#fb9f3a"
             ],
             [
              0.8888888888888888,
              "#fdca26"
             ],
             [
              1,
              "#f0f921"
             ]
            ],
            "type": "histogram2dcontour"
           }
          ],
          "mesh3d": [
           {
            "colorbar": {
             "outlinewidth": 0,
             "ticks": ""
            },
            "type": "mesh3d"
           }
          ],
          "parcoords": [
           {
            "line": {
             "colorbar": {
              "outlinewidth": 0,
              "ticks": ""
             }
            },
            "type": "parcoords"
           }
          ],
          "scatter": [
           {
            "marker": {
             "colorbar": {
              "outlinewidth": 0,
              "ticks": ""
             }
            },
            "type": "scatter"
           }
          ],
          "scatter3d": [
           {
            "line": {
             "colorbar": {
              "outlinewidth": 0,
              "ticks": ""
             }
            },
            "marker": {
             "colorbar": {
              "outlinewidth": 0,
              "ticks": ""
             }
            },
            "type": "scatter3d"
           }
          ],
          "scattercarpet": [
           {
            "marker": {
             "colorbar": {
              "outlinewidth": 0,
              "ticks": ""
             }
            },
            "type": "scattercarpet"
           }
          ],
          "scattergeo": [
           {
            "marker": {
             "colorbar": {
              "outlinewidth": 0,
              "ticks": ""
             }
            },
            "type": "scattergeo"
           }
          ],
          "scattergl": [
           {
            "marker": {
             "colorbar": {
              "outlinewidth": 0,
              "ticks": ""
             }
            },
            "type": "scattergl"
           }
          ],
          "scattermapbox": [
           {
            "marker": {
             "colorbar": {
              "outlinewidth": 0,
              "ticks": ""
             }
            },
            "type": "scattermapbox"
           }
          ],
          "scatterpolar": [
           {
            "marker": {
             "colorbar": {
              "outlinewidth": 0,
              "ticks": ""
             }
            },
            "type": "scatterpolar"
           }
          ],
          "scatterpolargl": [
           {
            "marker": {
             "colorbar": {
              "outlinewidth": 0,
              "ticks": ""
             }
            },
            "type": "scatterpolargl"
           }
          ],
          "scatterternary": [
           {
            "marker": {
             "colorbar": {
              "outlinewidth": 0,
              "ticks": ""
             }
            },
            "type": "scatterternary"
           }
          ],
          "surface": [
           {
            "colorbar": {
             "outlinewidth": 0,
             "ticks": ""
            },
            "colorscale": [
             [
              0,
              "#0d0887"
             ],
             [
              0.1111111111111111,
              "#46039f"
             ],
             [
              0.2222222222222222,
              "#7201a8"
             ],
             [
              0.3333333333333333,
              "#9c179e"
             ],
             [
              0.4444444444444444,
              "#bd3786"
             ],
             [
              0.5555555555555556,
              "#d8576b"
             ],
             [
              0.6666666666666666,
              "#ed7953"
             ],
             [
              0.7777777777777778,
              "#fb9f3a"
             ],
             [
              0.8888888888888888,
              "#fdca26"
             ],
             [
              1,
              "#f0f921"
             ]
            ],
            "type": "surface"
           }
          ],
          "table": [
           {
            "cells": {
             "fill": {
              "color": "#EBF0F8"
             },
             "line": {
              "color": "white"
             }
            },
            "header": {
             "fill": {
              "color": "#C8D4E3"
             },
             "line": {
              "color": "white"
             }
            },
            "type": "table"
           }
          ]
         },
         "layout": {
          "annotationdefaults": {
           "arrowcolor": "#2a3f5f",
           "arrowhead": 0,
           "arrowwidth": 1
          },
          "colorscale": {
           "diverging": [
            [
             0,
             "#8e0152"
            ],
            [
             0.1,
             "#c51b7d"
            ],
            [
             0.2,
             "#de77ae"
            ],
            [
             0.3,
             "#f1b6da"
            ],
            [
             0.4,
             "#fde0ef"
            ],
            [
             0.5,
             "#f7f7f7"
            ],
            [
             0.6,
             "#e6f5d0"
            ],
            [
             0.7,
             "#b8e186"
            ],
            [
             0.8,
             "#7fbc41"
            ],
            [
             0.9,
             "#4d9221"
            ],
            [
             1,
             "#276419"
            ]
           ],
           "sequential": [
            [
             0,
             "#0d0887"
            ],
            [
             0.1111111111111111,
             "#46039f"
            ],
            [
             0.2222222222222222,
             "#7201a8"
            ],
            [
             0.3333333333333333,
             "#9c179e"
            ],
            [
             0.4444444444444444,
             "#bd3786"
            ],
            [
             0.5555555555555556,
             "#d8576b"
            ],
            [
             0.6666666666666666,
             "#ed7953"
            ],
            [
             0.7777777777777778,
             "#fb9f3a"
            ],
            [
             0.8888888888888888,
             "#fdca26"
            ],
            [
             1,
             "#f0f921"
            ]
           ],
           "sequentialminus": [
            [
             0,
             "#0d0887"
            ],
            [
             0.1111111111111111,
             "#46039f"
            ],
            [
             0.2222222222222222,
             "#7201a8"
            ],
            [
             0.3333333333333333,
             "#9c179e"
            ],
            [
             0.4444444444444444,
             "#bd3786"
            ],
            [
             0.5555555555555556,
             "#d8576b"
            ],
            [
             0.6666666666666666,
             "#ed7953"
            ],
            [
             0.7777777777777778,
             "#fb9f3a"
            ],
            [
             0.8888888888888888,
             "#fdca26"
            ],
            [
             1,
             "#f0f921"
            ]
           ]
          },
          "colorway": [
           "#636efa",
           "#EF553B",
           "#00cc96",
           "#ab63fa",
           "#FFA15A",
           "#19d3f3",
           "#FF6692",
           "#B6E880",
           "#FF97FF",
           "#FECB52"
          ],
          "font": {
           "color": "#2a3f5f"
          },
          "geo": {
           "bgcolor": "white",
           "lakecolor": "white",
           "landcolor": "#E5ECF6",
           "showlakes": true,
           "showland": true,
           "subunitcolor": "white"
          },
          "hoverlabel": {
           "align": "left"
          },
          "hovermode": "closest",
          "mapbox": {
           "style": "light"
          },
          "paper_bgcolor": "white",
          "plot_bgcolor": "#E5ECF6",
          "polar": {
           "angularaxis": {
            "gridcolor": "white",
            "linecolor": "white",
            "ticks": ""
           },
           "bgcolor": "#E5ECF6",
           "radialaxis": {
            "gridcolor": "white",
            "linecolor": "white",
            "ticks": ""
           }
          },
          "scene": {
           "xaxis": {
            "backgroundcolor": "#E5ECF6",
            "gridcolor": "white",
            "gridwidth": 2,
            "linecolor": "white",
            "showbackground": true,
            "ticks": "",
            "zerolinecolor": "white"
           },
           "yaxis": {
            "backgroundcolor": "#E5ECF6",
            "gridcolor": "white",
            "gridwidth": 2,
            "linecolor": "white",
            "showbackground": true,
            "ticks": "",
            "zerolinecolor": "white"
           },
           "zaxis": {
            "backgroundcolor": "#E5ECF6",
            "gridcolor": "white",
            "gridwidth": 2,
            "linecolor": "white",
            "showbackground": true,
            "ticks": "",
            "zerolinecolor": "white"
           }
          },
          "shapedefaults": {
           "line": {
            "color": "#2a3f5f"
           }
          },
          "ternary": {
           "aaxis": {
            "gridcolor": "white",
            "linecolor": "white",
            "ticks": ""
           },
           "baxis": {
            "gridcolor": "white",
            "linecolor": "white",
            "ticks": ""
           },
           "bgcolor": "#E5ECF6",
           "caxis": {
            "gridcolor": "white",
            "linecolor": "white",
            "ticks": ""
           }
          },
          "title": {
           "x": 0.05
          },
          "xaxis": {
           "automargin": true,
           "gridcolor": "white",
           "linecolor": "white",
           "ticks": "",
           "zerolinecolor": "white",
           "zerolinewidth": 2
          },
          "yaxis": {
           "automargin": true,
           "gridcolor": "white",
           "linecolor": "white",
           "ticks": "",
           "zerolinecolor": "white",
           "zerolinewidth": 2
          }
         }
        },
        "title": {
         "text": "Price vs Mileage"
        },
        "xaxis": {
         "title": {
          "text": "Mileage"
         }
        },
        "yaxis": {
         "title": {
          "text": "Price"
         }
        }
       }
      },
      "text/html": [
       "<div>\n",
       "        \n",
       "        \n",
       "            <div id=\"f44f4a6c-c0a5-4ed1-926f-721bf5c71302\" class=\"plotly-graph-div\" style=\"height:525px; width:100%;\"></div>\n",
       "            <script type=\"text/javascript\">\n",
       "                require([\"plotly\"], function(Plotly) {\n",
       "                    window.PLOTLYENV=window.PLOTLYENV || {};\n",
       "                    \n",
       "                if (document.getElementById(\"f44f4a6c-c0a5-4ed1-926f-721bf5c71302\")) {\n",
       "                    Plotly.newPlot(\n",
       "                        'f44f4a6c-c0a5-4ed1-926f-721bf5c71302',\n",
       "                        [{\"marker\": {\"size\": 5}, \"mode\": \"lines\", \"name\": \"Seria 1\", \"type\": \"scatter\", \"x\": [25000.0, 50000.0, 75000.0, 100000.0, 125000.0, 150000.0, 175000.0, 200000.0, 225000.0, 250000.0, 275000.0, 300000.0], \"y\": [127624.13032258065, 83894.44722222222, 52400.0, 46057.142857142855, 35837.5, 23101.30769230769, 19971.934, 24226.6, 20915.30769230769, 18528.571428571428, 20799.833333333332, 16625.0]}, {\"marker\": {\"size\": 5}, \"mode\": \"lines\", \"name\": \"Seria 3\", \"type\": \"scatter\", \"x\": [25000.0, 50000.0, 75000.0, 100000.0, 125000.0, 150000.0, 175000.0, 200000.0, 225000.0, 250000.0, 275000.0, 300000.0], \"y\": [142024.06215384614, 81875.0025, 56364.28642857143, 65366.10526315789, 53809.56, 53040.0, 33248.07444444444, 25528.528611111113, 30482.54738095238, 20789.0, 18138.793103448275, 12702.269841269841]}, {\"marker\": {\"size\": 5}, \"mode\": \"lines\", \"name\": \"Seria 5\", \"type\": \"scatter\", \"x\": [25000.0, 50000.0, 75000.0, 100000.0, 125000.0, 150000.0, 175000.0, 200000.0, 225000.0, 250000.0, 275000.0, 300000.0], \"y\": [211059.5442105263, 181291.66708333333, 106591.61058823529, 97031.00083333334, 86837.5723076923, 89376.84538461539, 57659.06060606061, 57710.71428571428, 37935.06060606061, 32285.11111111111, 30915.030303030304, 22078.845070422536]}],\n",
       "                        {\"template\": {\"data\": {\"bar\": [{\"error_x\": {\"color\": \"#2a3f5f\"}, \"error_y\": {\"color\": \"#2a3f5f\"}, \"marker\": {\"line\": {\"color\": \"#E5ECF6\", \"width\": 0.5}}, \"type\": \"bar\"}], \"barpolar\": [{\"marker\": {\"line\": {\"color\": \"#E5ECF6\", \"width\": 0.5}}, \"type\": \"barpolar\"}], \"carpet\": [{\"aaxis\": {\"endlinecolor\": \"#2a3f5f\", \"gridcolor\": \"white\", \"linecolor\": \"white\", \"minorgridcolor\": \"white\", \"startlinecolor\": \"#2a3f5f\"}, \"baxis\": {\"endlinecolor\": \"#2a3f5f\", \"gridcolor\": \"white\", \"linecolor\": \"white\", \"minorgridcolor\": \"white\", \"startlinecolor\": \"#2a3f5f\"}, \"type\": \"carpet\"}], \"choropleth\": [{\"colorbar\": {\"outlinewidth\": 0, \"ticks\": \"\"}, \"type\": \"choropleth\"}], \"contour\": [{\"colorbar\": {\"outlinewidth\": 0, \"ticks\": \"\"}, \"colorscale\": [[0.0, \"#0d0887\"], [0.1111111111111111, \"#46039f\"], [0.2222222222222222, \"#7201a8\"], [0.3333333333333333, \"#9c179e\"], [0.4444444444444444, \"#bd3786\"], [0.5555555555555556, \"#d8576b\"], [0.6666666666666666, \"#ed7953\"], [0.7777777777777778, \"#fb9f3a\"], [0.8888888888888888, \"#fdca26\"], [1.0, \"#f0f921\"]], \"type\": \"contour\"}], \"contourcarpet\": [{\"colorbar\": {\"outlinewidth\": 0, \"ticks\": \"\"}, \"type\": \"contourcarpet\"}], \"heatmap\": [{\"colorbar\": {\"outlinewidth\": 0, \"ticks\": \"\"}, \"colorscale\": [[0.0, \"#0d0887\"], [0.1111111111111111, \"#46039f\"], [0.2222222222222222, \"#7201a8\"], [0.3333333333333333, \"#9c179e\"], [0.4444444444444444, \"#bd3786\"], [0.5555555555555556, \"#d8576b\"], [0.6666666666666666, \"#ed7953\"], [0.7777777777777778, \"#fb9f3a\"], [0.8888888888888888, \"#fdca26\"], [1.0, \"#f0f921\"]], \"type\": \"heatmap\"}], \"heatmapgl\": [{\"colorbar\": {\"outlinewidth\": 0, \"ticks\": \"\"}, \"colorscale\": [[0.0, \"#0d0887\"], [0.1111111111111111, \"#46039f\"], [0.2222222222222222, \"#7201a8\"], [0.3333333333333333, \"#9c179e\"], [0.4444444444444444, \"#bd3786\"], [0.5555555555555556, \"#d8576b\"], [0.6666666666666666, \"#ed7953\"], [0.7777777777777778, \"#fb9f3a\"], [0.8888888888888888, \"#fdca26\"], [1.0, \"#f0f921\"]], \"type\": \"heatmapgl\"}], \"histogram\": [{\"marker\": {\"colorbar\": {\"outlinewidth\": 0, \"ticks\": \"\"}}, \"type\": \"histogram\"}], \"histogram2d\": [{\"colorbar\": {\"outlinewidth\": 0, \"ticks\": \"\"}, \"colorscale\": [[0.0, \"#0d0887\"], [0.1111111111111111, \"#46039f\"], [0.2222222222222222, \"#7201a8\"], [0.3333333333333333, \"#9c179e\"], [0.4444444444444444, \"#bd3786\"], [0.5555555555555556, \"#d8576b\"], [0.6666666666666666, \"#ed7953\"], [0.7777777777777778, \"#fb9f3a\"], [0.8888888888888888, \"#fdca26\"], [1.0, \"#f0f921\"]], \"type\": \"histogram2d\"}], \"histogram2dcontour\": [{\"colorbar\": {\"outlinewidth\": 0, \"ticks\": \"\"}, \"colorscale\": [[0.0, \"#0d0887\"], [0.1111111111111111, \"#46039f\"], [0.2222222222222222, \"#7201a8\"], [0.3333333333333333, \"#9c179e\"], [0.4444444444444444, \"#bd3786\"], [0.5555555555555556, \"#d8576b\"], [0.6666666666666666, \"#ed7953\"], [0.7777777777777778, \"#fb9f3a\"], [0.8888888888888888, \"#fdca26\"], [1.0, \"#f0f921\"]], \"type\": \"histogram2dcontour\"}], \"mesh3d\": [{\"colorbar\": {\"outlinewidth\": 0, \"ticks\": \"\"}, \"type\": \"mesh3d\"}], \"parcoords\": [{\"line\": {\"colorbar\": {\"outlinewidth\": 0, \"ticks\": \"\"}}, \"type\": \"parcoords\"}], \"scatter\": [{\"marker\": {\"colorbar\": {\"outlinewidth\": 0, \"ticks\": \"\"}}, \"type\": \"scatter\"}], \"scatter3d\": [{\"line\": {\"colorbar\": {\"outlinewidth\": 0, \"ticks\": \"\"}}, \"marker\": {\"colorbar\": {\"outlinewidth\": 0, \"ticks\": \"\"}}, \"type\": \"scatter3d\"}], \"scattercarpet\": [{\"marker\": {\"colorbar\": {\"outlinewidth\": 0, \"ticks\": \"\"}}, \"type\": \"scattercarpet\"}], \"scattergeo\": [{\"marker\": {\"colorbar\": {\"outlinewidth\": 0, \"ticks\": \"\"}}, \"type\": \"scattergeo\"}], \"scattergl\": [{\"marker\": {\"colorbar\": {\"outlinewidth\": 0, \"ticks\": \"\"}}, \"type\": \"scattergl\"}], \"scattermapbox\": [{\"marker\": {\"colorbar\": {\"outlinewidth\": 0, \"ticks\": \"\"}}, \"type\": \"scattermapbox\"}], \"scatterpolar\": [{\"marker\": {\"colorbar\": {\"outlinewidth\": 0, \"ticks\": \"\"}}, \"type\": \"scatterpolar\"}], \"scatterpolargl\": [{\"marker\": {\"colorbar\": {\"outlinewidth\": 0, \"ticks\": \"\"}}, \"type\": \"scatterpolargl\"}], \"scatterternary\": [{\"marker\": {\"colorbar\": {\"outlinewidth\": 0, \"ticks\": \"\"}}, \"type\": \"scatterternary\"}], \"surface\": [{\"colorbar\": {\"outlinewidth\": 0, \"ticks\": \"\"}, \"colorscale\": [[0.0, \"#0d0887\"], [0.1111111111111111, \"#46039f\"], [0.2222222222222222, \"#7201a8\"], [0.3333333333333333, \"#9c179e\"], [0.4444444444444444, \"#bd3786\"], [0.5555555555555556, \"#d8576b\"], [0.6666666666666666, \"#ed7953\"], [0.7777777777777778, \"#fb9f3a\"], [0.8888888888888888, \"#fdca26\"], [1.0, \"#f0f921\"]], \"type\": \"surface\"}], \"table\": [{\"cells\": {\"fill\": {\"color\": \"#EBF0F8\"}, \"line\": {\"color\": \"white\"}}, \"header\": {\"fill\": {\"color\": \"#C8D4E3\"}, \"line\": {\"color\": \"white\"}}, \"type\": \"table\"}]}, \"layout\": {\"annotationdefaults\": {\"arrowcolor\": \"#2a3f5f\", \"arrowhead\": 0, \"arrowwidth\": 1}, \"colorscale\": {\"diverging\": [[0, \"#8e0152\"], [0.1, \"#c51b7d\"], [0.2, \"#de77ae\"], [0.3, \"#f1b6da\"], [0.4, \"#fde0ef\"], [0.5, \"#f7f7f7\"], [0.6, \"#e6f5d0\"], [0.7, \"#b8e186\"], [0.8, \"#7fbc41\"], [0.9, \"#4d9221\"], [1, \"#276419\"]], \"sequential\": [[0.0, \"#0d0887\"], [0.1111111111111111, \"#46039f\"], [0.2222222222222222, \"#7201a8\"], [0.3333333333333333, \"#9c179e\"], [0.4444444444444444, \"#bd3786\"], [0.5555555555555556, \"#d8576b\"], [0.6666666666666666, \"#ed7953\"], [0.7777777777777778, \"#fb9f3a\"], [0.8888888888888888, \"#fdca26\"], [1.0, \"#f0f921\"]], \"sequentialminus\": [[0.0, \"#0d0887\"], [0.1111111111111111, \"#46039f\"], [0.2222222222222222, \"#7201a8\"], [0.3333333333333333, \"#9c179e\"], [0.4444444444444444, \"#bd3786\"], [0.5555555555555556, \"#d8576b\"], [0.6666666666666666, \"#ed7953\"], [0.7777777777777778, \"#fb9f3a\"], [0.8888888888888888, \"#fdca26\"], [1.0, \"#f0f921\"]]}, \"colorway\": [\"#636efa\", \"#EF553B\", \"#00cc96\", \"#ab63fa\", \"#FFA15A\", \"#19d3f3\", \"#FF6692\", \"#B6E880\", \"#FF97FF\", \"#FECB52\"], \"font\": {\"color\": \"#2a3f5f\"}, \"geo\": {\"bgcolor\": \"white\", \"lakecolor\": \"white\", \"landcolor\": \"#E5ECF6\", \"showlakes\": true, \"showland\": true, \"subunitcolor\": \"white\"}, \"hoverlabel\": {\"align\": \"left\"}, \"hovermode\": \"closest\", \"mapbox\": {\"style\": \"light\"}, \"paper_bgcolor\": \"white\", \"plot_bgcolor\": \"#E5ECF6\", \"polar\": {\"angularaxis\": {\"gridcolor\": \"white\", \"linecolor\": \"white\", \"ticks\": \"\"}, \"bgcolor\": \"#E5ECF6\", \"radialaxis\": {\"gridcolor\": \"white\", \"linecolor\": \"white\", \"ticks\": \"\"}}, \"scene\": {\"xaxis\": {\"backgroundcolor\": \"#E5ECF6\", \"gridcolor\": \"white\", \"gridwidth\": 2, \"linecolor\": \"white\", \"showbackground\": true, \"ticks\": \"\", \"zerolinecolor\": \"white\"}, \"yaxis\": {\"backgroundcolor\": \"#E5ECF6\", \"gridcolor\": \"white\", \"gridwidth\": 2, \"linecolor\": \"white\", \"showbackground\": true, \"ticks\": \"\", \"zerolinecolor\": \"white\"}, \"zaxis\": {\"backgroundcolor\": \"#E5ECF6\", \"gridcolor\": \"white\", \"gridwidth\": 2, \"linecolor\": \"white\", \"showbackground\": true, \"ticks\": \"\", \"zerolinecolor\": \"white\"}}, \"shapedefaults\": {\"line\": {\"color\": \"#2a3f5f\"}}, \"ternary\": {\"aaxis\": {\"gridcolor\": \"white\", \"linecolor\": \"white\", \"ticks\": \"\"}, \"baxis\": {\"gridcolor\": \"white\", \"linecolor\": \"white\", \"ticks\": \"\"}, \"bgcolor\": \"#E5ECF6\", \"caxis\": {\"gridcolor\": \"white\", \"linecolor\": \"white\", \"ticks\": \"\"}}, \"title\": {\"x\": 0.05}, \"xaxis\": {\"automargin\": true, \"gridcolor\": \"white\", \"linecolor\": \"white\", \"ticks\": \"\", \"zerolinecolor\": \"white\", \"zerolinewidth\": 2}, \"yaxis\": {\"automargin\": true, \"gridcolor\": \"white\", \"linecolor\": \"white\", \"ticks\": \"\", \"zerolinecolor\": \"white\", \"zerolinewidth\": 2}}}, \"title\": {\"text\": \"Price vs Mileage\"}, \"xaxis\": {\"title\": {\"text\": \"Mileage\"}}, \"yaxis\": {\"title\": {\"text\": \"Price\"}}},\n",
       "                        {\"responsive\": true}\n",
       "                    ).then(function(){\n",
       "                            \n",
       "var gd = document.getElementById('f44f4a6c-c0a5-4ed1-926f-721bf5c71302');\n",
       "var x = new MutationObserver(function (mutations, observer) {{\n",
       "        var display = window.getComputedStyle(gd).display;\n",
       "        if (!display || display === 'none') {{\n",
       "            console.log([gd, 'removed!']);\n",
       "            Plotly.purge(gd);\n",
       "            observer.disconnect();\n",
       "        }}\n",
       "}});\n",
       "\n",
       "// Listen for the removal of the full notebook cells\n",
       "var notebookContainer = gd.closest('#notebook-container');\n",
       "if (notebookContainer) {{\n",
       "    x.observe(notebookContainer, {childList: true});\n",
       "}}\n",
       "\n",
       "// Listen for the clearing of the current output cell\n",
       "var outputEl = gd.closest('.output');\n",
       "if (outputEl) {{\n",
       "    x.observe(outputEl, {childList: true});\n",
       "}}\n",
       "\n",
       "                        })\n",
       "                };\n",
       "                });\n",
       "            </script>\n",
       "        </div>"
      ]
     },
     "metadata": {},
     "output_type": "display_data"
    }
   ],
   "source": [
    "data=[]\n",
    "for model in df_price_age.model.unique():\n",
    "    trace=go.Scatter(\n",
    "            y=df_price_mileage[df_price_mileage.model==model].mean_price,\n",
    "            x=df_price_mileage[df_price_mileage.model==model].mileage_bucket,\n",
    "            mode='lines',\n",
    "            marker=dict(\n",
    "            size=5\n",
    "            \n",
    "            ),\n",
    "        name=model,\n",
    "\n",
    "        )\n",
    "\n",
    "    data.append(trace)\n",
    "    \n",
    "figure=go.Figure(\n",
    "    data=data,\n",
    "    layout=go.Layout(\n",
    "        title=\"Price vs Mileage\",\n",
    "            yaxis=dict(title=\"Price\"),\n",
    "        xaxis=dict(title=\"Mileage\")\n",
    "\n",
    "    \n",
    "    ))\n",
    "iplot(figure)"
   ]
  },
  {
   "cell_type": "code",
   "execution_count": 65,
   "metadata": {},
   "outputs": [
    {
     "data": {
      "application/vnd.plotly.v1+json": {
       "config": {
        "linkText": "Export to plot.ly",
        "plotlyServerURL": "https://plot.ly",
        "showLink": false
       },
       "data": [
        {
         "marker": {
          "size": 5
         },
         "mode": "lines",
         "name": "Seria 1",
         "type": "scatter",
         "x": [
          25000,
          50000,
          75000,
          100000,
          125000,
          150000,
          175000,
          200000,
          225000,
          250000,
          275000,
          300000
         ],
         "y": [
          1,
          0.6573556819558496,
          0.41058066266586596,
          0.36088114951874367,
          0.28080504767725134,
          0.18101050039610225,
          0.1564902651992164,
          0.18982773820879517,
          0.1638820780948125,
          0.14518078502661616,
          0.16297727773548792,
          0.13026533429045842
         ]
        },
        {
         "marker": {
          "size": 5
         },
         "mode": "lines",
         "name": "Seria 3",
         "type": "scatter",
         "x": [
          25000,
          50000,
          75000,
          100000,
          125000,
          150000,
          175000,
          200000,
          225000,
          250000,
          275000,
          300000
         ],
         "y": [
          1,
          0.5764868379226453,
          0.39686434519465713,
          0.46024669532653356,
          0.37887636210342535,
          0.3734578436613435,
          0.23410170037545328,
          0.1797479118957856,
          0.2146294572812068,
          0.14637660467337235,
          0.12771633783998945,
          0.08943744918033843
         ]
        },
        {
         "marker": {
          "size": 5
         },
         "mode": "lines",
         "name": "Seria 5",
         "type": "scatter",
         "x": [
          25000,
          50000,
          75000,
          100000,
          125000,
          150000,
          175000,
          200000,
          225000,
          250000,
          275000,
          300000
         ],
         "y": [
          1,
          0.8589598151623965,
          0.5050309901262412,
          0.4597328265645617,
          0.41143636802832345,
          0.4234674424174078,
          0.27318859624062874,
          0.27343333134534475,
          0.17973629549877826,
          0.15296683801660999,
          0.14647539592994374,
          0.10460955534140391
         ]
        }
       ],
       "layout": {
        "template": {
         "data": {
          "bar": [
           {
            "error_x": {
             "color": "#2a3f5f"
            },
            "error_y": {
             "color": "#2a3f5f"
            },
            "marker": {
             "line": {
              "color": "#E5ECF6",
              "width": 0.5
             }
            },
            "type": "bar"
           }
          ],
          "barpolar": [
           {
            "marker": {
             "line": {
              "color": "#E5ECF6",
              "width": 0.5
             }
            },
            "type": "barpolar"
           }
          ],
          "carpet": [
           {
            "aaxis": {
             "endlinecolor": "#2a3f5f",
             "gridcolor": "white",
             "linecolor": "white",
             "minorgridcolor": "white",
             "startlinecolor": "#2a3f5f"
            },
            "baxis": {
             "endlinecolor": "#2a3f5f",
             "gridcolor": "white",
             "linecolor": "white",
             "minorgridcolor": "white",
             "startlinecolor": "#2a3f5f"
            },
            "type": "carpet"
           }
          ],
          "choropleth": [
           {
            "colorbar": {
             "outlinewidth": 0,
             "ticks": ""
            },
            "type": "choropleth"
           }
          ],
          "contour": [
           {
            "colorbar": {
             "outlinewidth": 0,
             "ticks": ""
            },
            "colorscale": [
             [
              0,
              "#0d0887"
             ],
             [
              0.1111111111111111,
              "#46039f"
             ],
             [
              0.2222222222222222,
              "#7201a8"
             ],
             [
              0.3333333333333333,
              "#9c179e"
             ],
             [
              0.4444444444444444,
              "#bd3786"
             ],
             [
              0.5555555555555556,
              "#d8576b"
             ],
             [
              0.6666666666666666,
              "#ed7953"
             ],
             [
              0.7777777777777778,
              "#fb9f3a"
             ],
             [
              0.8888888888888888,
              "#fdca26"
             ],
             [
              1,
              "#f0f921"
             ]
            ],
            "type": "contour"
           }
          ],
          "contourcarpet": [
           {
            "colorbar": {
             "outlinewidth": 0,
             "ticks": ""
            },
            "type": "contourcarpet"
           }
          ],
          "heatmap": [
           {
            "colorbar": {
             "outlinewidth": 0,
             "ticks": ""
            },
            "colorscale": [
             [
              0,
              "#0d0887"
             ],
             [
              0.1111111111111111,
              "#46039f"
             ],
             [
              0.2222222222222222,
              "#7201a8"
             ],
             [
              0.3333333333333333,
              "#9c179e"
             ],
             [
              0.4444444444444444,
              "#bd3786"
             ],
             [
              0.5555555555555556,
              "#d8576b"
             ],
             [
              0.6666666666666666,
              "#ed7953"
             ],
             [
              0.7777777777777778,
              "#fb9f3a"
             ],
             [
              0.8888888888888888,
              "#fdca26"
             ],
             [
              1,
              "#f0f921"
             ]
            ],
            "type": "heatmap"
           }
          ],
          "heatmapgl": [
           {
            "colorbar": {
             "outlinewidth": 0,
             "ticks": ""
            },
            "colorscale": [
             [
              0,
              "#0d0887"
             ],
             [
              0.1111111111111111,
              "#46039f"
             ],
             [
              0.2222222222222222,
              "#7201a8"
             ],
             [
              0.3333333333333333,
              "#9c179e"
             ],
             [
              0.4444444444444444,
              "#bd3786"
             ],
             [
              0.5555555555555556,
              "#d8576b"
             ],
             [
              0.6666666666666666,
              "#ed7953"
             ],
             [
              0.7777777777777778,
              "#fb9f3a"
             ],
             [
              0.8888888888888888,
              "#fdca26"
             ],
             [
              1,
              "#f0f921"
             ]
            ],
            "type": "heatmapgl"
           }
          ],
          "histogram": [
           {
            "marker": {
             "colorbar": {
              "outlinewidth": 0,
              "ticks": ""
             }
            },
            "type": "histogram"
           }
          ],
          "histogram2d": [
           {
            "colorbar": {
             "outlinewidth": 0,
             "ticks": ""
            },
            "colorscale": [
             [
              0,
              "#0d0887"
             ],
             [
              0.1111111111111111,
              "#46039f"
             ],
             [
              0.2222222222222222,
              "#7201a8"
             ],
             [
              0.3333333333333333,
              "#9c179e"
             ],
             [
              0.4444444444444444,
              "#bd3786"
             ],
             [
              0.5555555555555556,
              "#d8576b"
             ],
             [
              0.6666666666666666,
              "#ed7953"
             ],
             [
              0.7777777777777778,
              "#fb9f3a"
             ],
             [
              0.8888888888888888,
              "#fdca26"
             ],
             [
              1,
              "#f0f921"
             ]
            ],
            "type": "histogram2d"
           }
          ],
          "histogram2dcontour": [
           {
            "colorbar": {
             "outlinewidth": 0,
             "ticks": ""
            },
            "colorscale": [
             [
              0,
              "#0d0887"
             ],
             [
              0.1111111111111111,
              "#46039f"
             ],
             [
              0.2222222222222222,
              "#7201a8"
             ],
             [
              0.3333333333333333,
              "#9c179e"
             ],
             [
              0.4444444444444444,
              "#bd3786"
             ],
             [
              0.5555555555555556,
              "#d8576b"
             ],
             [
              0.6666666666666666,
              "#ed7953"
             ],
             [
              0.7777777777777778,
              "#fb9f3a"
             ],
             [
              0.8888888888888888,
              "#fdca26"
             ],
             [
              1,
              "#f0f921"
             ]
            ],
            "type": "histogram2dcontour"
           }
          ],
          "mesh3d": [
           {
            "colorbar": {
             "outlinewidth": 0,
             "ticks": ""
            },
            "type": "mesh3d"
           }
          ],
          "parcoords": [
           {
            "line": {
             "colorbar": {
              "outlinewidth": 0,
              "ticks": ""
             }
            },
            "type": "parcoords"
           }
          ],
          "scatter": [
           {
            "marker": {
             "colorbar": {
              "outlinewidth": 0,
              "ticks": ""
             }
            },
            "type": "scatter"
           }
          ],
          "scatter3d": [
           {
            "line": {
             "colorbar": {
              "outlinewidth": 0,
              "ticks": ""
             }
            },
            "marker": {
             "colorbar": {
              "outlinewidth": 0,
              "ticks": ""
             }
            },
            "type": "scatter3d"
           }
          ],
          "scattercarpet": [
           {
            "marker": {
             "colorbar": {
              "outlinewidth": 0,
              "ticks": ""
             }
            },
            "type": "scattercarpet"
           }
          ],
          "scattergeo": [
           {
            "marker": {
             "colorbar": {
              "outlinewidth": 0,
              "ticks": ""
             }
            },
            "type": "scattergeo"
           }
          ],
          "scattergl": [
           {
            "marker": {
             "colorbar": {
              "outlinewidth": 0,
              "ticks": ""
             }
            },
            "type": "scattergl"
           }
          ],
          "scattermapbox": [
           {
            "marker": {
             "colorbar": {
              "outlinewidth": 0,
              "ticks": ""
             }
            },
            "type": "scattermapbox"
           }
          ],
          "scatterpolar": [
           {
            "marker": {
             "colorbar": {
              "outlinewidth": 0,
              "ticks": ""
             }
            },
            "type": "scatterpolar"
           }
          ],
          "scatterpolargl": [
           {
            "marker": {
             "colorbar": {
              "outlinewidth": 0,
              "ticks": ""
             }
            },
            "type": "scatterpolargl"
           }
          ],
          "scatterternary": [
           {
            "marker": {
             "colorbar": {
              "outlinewidth": 0,
              "ticks": ""
             }
            },
            "type": "scatterternary"
           }
          ],
          "surface": [
           {
            "colorbar": {
             "outlinewidth": 0,
             "ticks": ""
            },
            "colorscale": [
             [
              0,
              "#0d0887"
             ],
             [
              0.1111111111111111,
              "#46039f"
             ],
             [
              0.2222222222222222,
              "#7201a8"
             ],
             [
              0.3333333333333333,
              "#9c179e"
             ],
             [
              0.4444444444444444,
              "#bd3786"
             ],
             [
              0.5555555555555556,
              "#d8576b"
             ],
             [
              0.6666666666666666,
              "#ed7953"
             ],
             [
              0.7777777777777778,
              "#fb9f3a"
             ],
             [
              0.8888888888888888,
              "#fdca26"
             ],
             [
              1,
              "#f0f921"
             ]
            ],
            "type": "surface"
           }
          ],
          "table": [
           {
            "cells": {
             "fill": {
              "color": "#EBF0F8"
             },
             "line": {
              "color": "white"
             }
            },
            "header": {
             "fill": {
              "color": "#C8D4E3"
             },
             "line": {
              "color": "white"
             }
            },
            "type": "table"
           }
          ]
         },
         "layout": {
          "annotationdefaults": {
           "arrowcolor": "#2a3f5f",
           "arrowhead": 0,
           "arrowwidth": 1
          },
          "colorscale": {
           "diverging": [
            [
             0,
             "#8e0152"
            ],
            [
             0.1,
             "#c51b7d"
            ],
            [
             0.2,
             "#de77ae"
            ],
            [
             0.3,
             "#f1b6da"
            ],
            [
             0.4,
             "#fde0ef"
            ],
            [
             0.5,
             "#f7f7f7"
            ],
            [
             0.6,
             "#e6f5d0"
            ],
            [
             0.7,
             "#b8e186"
            ],
            [
             0.8,
             "#7fbc41"
            ],
            [
             0.9,
             "#4d9221"
            ],
            [
             1,
             "#276419"
            ]
           ],
           "sequential": [
            [
             0,
             "#0d0887"
            ],
            [
             0.1111111111111111,
             "#46039f"
            ],
            [
             0.2222222222222222,
             "#7201a8"
            ],
            [
             0.3333333333333333,
             "#9c179e"
            ],
            [
             0.4444444444444444,
             "#bd3786"
            ],
            [
             0.5555555555555556,
             "#d8576b"
            ],
            [
             0.6666666666666666,
             "#ed7953"
            ],
            [
             0.7777777777777778,
             "#fb9f3a"
            ],
            [
             0.8888888888888888,
             "#fdca26"
            ],
            [
             1,
             "#f0f921"
            ]
           ],
           "sequentialminus": [
            [
             0,
             "#0d0887"
            ],
            [
             0.1111111111111111,
             "#46039f"
            ],
            [
             0.2222222222222222,
             "#7201a8"
            ],
            [
             0.3333333333333333,
             "#9c179e"
            ],
            [
             0.4444444444444444,
             "#bd3786"
            ],
            [
             0.5555555555555556,
             "#d8576b"
            ],
            [
             0.6666666666666666,
             "#ed7953"
            ],
            [
             0.7777777777777778,
             "#fb9f3a"
            ],
            [
             0.8888888888888888,
             "#fdca26"
            ],
            [
             1,
             "#f0f921"
            ]
           ]
          },
          "colorway": [
           "#636efa",
           "#EF553B",
           "#00cc96",
           "#ab63fa",
           "#FFA15A",
           "#19d3f3",
           "#FF6692",
           "#B6E880",
           "#FF97FF",
           "#FECB52"
          ],
          "font": {
           "color": "#2a3f5f"
          },
          "geo": {
           "bgcolor": "white",
           "lakecolor": "white",
           "landcolor": "#E5ECF6",
           "showlakes": true,
           "showland": true,
           "subunitcolor": "white"
          },
          "hoverlabel": {
           "align": "left"
          },
          "hovermode": "closest",
          "mapbox": {
           "style": "light"
          },
          "paper_bgcolor": "white",
          "plot_bgcolor": "#E5ECF6",
          "polar": {
           "angularaxis": {
            "gridcolor": "white",
            "linecolor": "white",
            "ticks": ""
           },
           "bgcolor": "#E5ECF6",
           "radialaxis": {
            "gridcolor": "white",
            "linecolor": "white",
            "ticks": ""
           }
          },
          "scene": {
           "xaxis": {
            "backgroundcolor": "#E5ECF6",
            "gridcolor": "white",
            "gridwidth": 2,
            "linecolor": "white",
            "showbackground": true,
            "ticks": "",
            "zerolinecolor": "white"
           },
           "yaxis": {
            "backgroundcolor": "#E5ECF6",
            "gridcolor": "white",
            "gridwidth": 2,
            "linecolor": "white",
            "showbackground": true,
            "ticks": "",
            "zerolinecolor": "white"
           },
           "zaxis": {
            "backgroundcolor": "#E5ECF6",
            "gridcolor": "white",
            "gridwidth": 2,
            "linecolor": "white",
            "showbackground": true,
            "ticks": "",
            "zerolinecolor": "white"
           }
          },
          "shapedefaults": {
           "line": {
            "color": "#2a3f5f"
           }
          },
          "ternary": {
           "aaxis": {
            "gridcolor": "white",
            "linecolor": "white",
            "ticks": ""
           },
           "baxis": {
            "gridcolor": "white",
            "linecolor": "white",
            "ticks": ""
           },
           "bgcolor": "#E5ECF6",
           "caxis": {
            "gridcolor": "white",
            "linecolor": "white",
            "ticks": ""
           }
          },
          "title": {
           "x": 0.05
          },
          "xaxis": {
           "automargin": true,
           "gridcolor": "white",
           "linecolor": "white",
           "ticks": "",
           "zerolinecolor": "white",
           "zerolinewidth": 2
          },
          "yaxis": {
           "automargin": true,
           "gridcolor": "white",
           "linecolor": "white",
           "ticks": "",
           "zerolinecolor": "white",
           "zerolinewidth": 2
          }
         }
        },
        "title": {
         "text": "Deprecation in relation to Mileage"
        },
        "xaxis": {
         "title": {
          "text": "Mileage"
         }
        },
        "yaxis": {
         "title": {
          "text": "Price in relation to new model mean price"
         }
        }
       }
      },
      "text/html": [
       "<div>\n",
       "        \n",
       "        \n",
       "            <div id=\"54b819e3-f446-48f0-ac59-8456ff6b025c\" class=\"plotly-graph-div\" style=\"height:525px; width:100%;\"></div>\n",
       "            <script type=\"text/javascript\">\n",
       "                require([\"plotly\"], function(Plotly) {\n",
       "                    window.PLOTLYENV=window.PLOTLYENV || {};\n",
       "                    \n",
       "                if (document.getElementById(\"54b819e3-f446-48f0-ac59-8456ff6b025c\")) {\n",
       "                    Plotly.newPlot(\n",
       "                        '54b819e3-f446-48f0-ac59-8456ff6b025c',\n",
       "                        [{\"marker\": {\"size\": 5}, \"mode\": \"lines\", \"name\": \"Seria 1\", \"type\": \"scatter\", \"x\": [25000.0, 50000.0, 75000.0, 100000.0, 125000.0, 150000.0, 175000.0, 200000.0, 225000.0, 250000.0, 275000.0, 300000.0], \"y\": [1.0, 0.6573556819558496, 0.41058066266586596, 0.36088114951874367, 0.28080504767725134, 0.18101050039610225, 0.1564902651992164, 0.18982773820879517, 0.1638820780948125, 0.14518078502661616, 0.16297727773548792, 0.13026533429045842]}, {\"marker\": {\"size\": 5}, \"mode\": \"lines\", \"name\": \"Seria 3\", \"type\": \"scatter\", \"x\": [25000.0, 50000.0, 75000.0, 100000.0, 125000.0, 150000.0, 175000.0, 200000.0, 225000.0, 250000.0, 275000.0, 300000.0], \"y\": [1.0, 0.5764868379226453, 0.39686434519465713, 0.46024669532653356, 0.37887636210342535, 0.3734578436613435, 0.23410170037545328, 0.1797479118957856, 0.2146294572812068, 0.14637660467337235, 0.12771633783998945, 0.08943744918033843]}, {\"marker\": {\"size\": 5}, \"mode\": \"lines\", \"name\": \"Seria 5\", \"type\": \"scatter\", \"x\": [25000.0, 50000.0, 75000.0, 100000.0, 125000.0, 150000.0, 175000.0, 200000.0, 225000.0, 250000.0, 275000.0, 300000.0], \"y\": [1.0, 0.8589598151623965, 0.5050309901262412, 0.4597328265645617, 0.41143636802832345, 0.4234674424174078, 0.27318859624062874, 0.27343333134534475, 0.17973629549877826, 0.15296683801660999, 0.14647539592994374, 0.10460955534140391]}],\n",
       "                        {\"template\": {\"data\": {\"bar\": [{\"error_x\": {\"color\": \"#2a3f5f\"}, \"error_y\": {\"color\": \"#2a3f5f\"}, \"marker\": {\"line\": {\"color\": \"#E5ECF6\", \"width\": 0.5}}, \"type\": \"bar\"}], \"barpolar\": [{\"marker\": {\"line\": {\"color\": \"#E5ECF6\", \"width\": 0.5}}, \"type\": \"barpolar\"}], \"carpet\": [{\"aaxis\": {\"endlinecolor\": \"#2a3f5f\", \"gridcolor\": \"white\", \"linecolor\": \"white\", \"minorgridcolor\": \"white\", \"startlinecolor\": \"#2a3f5f\"}, \"baxis\": {\"endlinecolor\": \"#2a3f5f\", \"gridcolor\": \"white\", \"linecolor\": \"white\", \"minorgridcolor\": \"white\", \"startlinecolor\": \"#2a3f5f\"}, \"type\": \"carpet\"}], \"choropleth\": [{\"colorbar\": {\"outlinewidth\": 0, \"ticks\": \"\"}, \"type\": \"choropleth\"}], \"contour\": [{\"colorbar\": {\"outlinewidth\": 0, \"ticks\": \"\"}, \"colorscale\": [[0.0, \"#0d0887\"], [0.1111111111111111, \"#46039f\"], [0.2222222222222222, \"#7201a8\"], [0.3333333333333333, \"#9c179e\"], [0.4444444444444444, \"#bd3786\"], [0.5555555555555556, \"#d8576b\"], [0.6666666666666666, \"#ed7953\"], [0.7777777777777778, \"#fb9f3a\"], [0.8888888888888888, \"#fdca26\"], [1.0, \"#f0f921\"]], \"type\": \"contour\"}], \"contourcarpet\": [{\"colorbar\": {\"outlinewidth\": 0, \"ticks\": \"\"}, \"type\": \"contourcarpet\"}], \"heatmap\": [{\"colorbar\": {\"outlinewidth\": 0, \"ticks\": \"\"}, \"colorscale\": [[0.0, \"#0d0887\"], [0.1111111111111111, \"#46039f\"], [0.2222222222222222, \"#7201a8\"], [0.3333333333333333, \"#9c179e\"], [0.4444444444444444, \"#bd3786\"], [0.5555555555555556, \"#d8576b\"], [0.6666666666666666, \"#ed7953\"], [0.7777777777777778, \"#fb9f3a\"], [0.8888888888888888, \"#fdca26\"], [1.0, \"#f0f921\"]], \"type\": \"heatmap\"}], \"heatmapgl\": [{\"colorbar\": {\"outlinewidth\": 0, \"ticks\": \"\"}, \"colorscale\": [[0.0, \"#0d0887\"], [0.1111111111111111, \"#46039f\"], [0.2222222222222222, \"#7201a8\"], [0.3333333333333333, \"#9c179e\"], [0.4444444444444444, \"#bd3786\"], [0.5555555555555556, \"#d8576b\"], [0.6666666666666666, \"#ed7953\"], [0.7777777777777778, \"#fb9f3a\"], [0.8888888888888888, \"#fdca26\"], [1.0, \"#f0f921\"]], \"type\": \"heatmapgl\"}], \"histogram\": [{\"marker\": {\"colorbar\": {\"outlinewidth\": 0, \"ticks\": \"\"}}, \"type\": \"histogram\"}], \"histogram2d\": [{\"colorbar\": {\"outlinewidth\": 0, \"ticks\": \"\"}, \"colorscale\": [[0.0, \"#0d0887\"], [0.1111111111111111, \"#46039f\"], [0.2222222222222222, \"#7201a8\"], [0.3333333333333333, \"#9c179e\"], [0.4444444444444444, \"#bd3786\"], [0.5555555555555556, \"#d8576b\"], [0.6666666666666666, \"#ed7953\"], [0.7777777777777778, \"#fb9f3a\"], [0.8888888888888888, \"#fdca26\"], [1.0, \"#f0f921\"]], \"type\": \"histogram2d\"}], \"histogram2dcontour\": [{\"colorbar\": {\"outlinewidth\": 0, \"ticks\": \"\"}, \"colorscale\": [[0.0, \"#0d0887\"], [0.1111111111111111, \"#46039f\"], [0.2222222222222222, \"#7201a8\"], [0.3333333333333333, \"#9c179e\"], [0.4444444444444444, \"#bd3786\"], [0.5555555555555556, \"#d8576b\"], [0.6666666666666666, \"#ed7953\"], [0.7777777777777778, \"#fb9f3a\"], [0.8888888888888888, \"#fdca26\"], [1.0, \"#f0f921\"]], \"type\": \"histogram2dcontour\"}], \"mesh3d\": [{\"colorbar\": {\"outlinewidth\": 0, \"ticks\": \"\"}, \"type\": \"mesh3d\"}], \"parcoords\": [{\"line\": {\"colorbar\": {\"outlinewidth\": 0, \"ticks\": \"\"}}, \"type\": \"parcoords\"}], \"scatter\": [{\"marker\": {\"colorbar\": {\"outlinewidth\": 0, \"ticks\": \"\"}}, \"type\": \"scatter\"}], \"scatter3d\": [{\"line\": {\"colorbar\": {\"outlinewidth\": 0, \"ticks\": \"\"}}, \"marker\": {\"colorbar\": {\"outlinewidth\": 0, \"ticks\": \"\"}}, \"type\": \"scatter3d\"}], \"scattercarpet\": [{\"marker\": {\"colorbar\": {\"outlinewidth\": 0, \"ticks\": \"\"}}, \"type\": \"scattercarpet\"}], \"scattergeo\": [{\"marker\": {\"colorbar\": {\"outlinewidth\": 0, \"ticks\": \"\"}}, \"type\": \"scattergeo\"}], \"scattergl\": [{\"marker\": {\"colorbar\": {\"outlinewidth\": 0, \"ticks\": \"\"}}, \"type\": \"scattergl\"}], \"scattermapbox\": [{\"marker\": {\"colorbar\": {\"outlinewidth\": 0, \"ticks\": \"\"}}, \"type\": \"scattermapbox\"}], \"scatterpolar\": [{\"marker\": {\"colorbar\": {\"outlinewidth\": 0, \"ticks\": \"\"}}, \"type\": \"scatterpolar\"}], \"scatterpolargl\": [{\"marker\": {\"colorbar\": {\"outlinewidth\": 0, \"ticks\": \"\"}}, \"type\": \"scatterpolargl\"}], \"scatterternary\": [{\"marker\": {\"colorbar\": {\"outlinewidth\": 0, \"ticks\": \"\"}}, \"type\": \"scatterternary\"}], \"surface\": [{\"colorbar\": {\"outlinewidth\": 0, \"ticks\": \"\"}, \"colorscale\": [[0.0, \"#0d0887\"], [0.1111111111111111, \"#46039f\"], [0.2222222222222222, \"#7201a8\"], [0.3333333333333333, \"#9c179e\"], [0.4444444444444444, \"#bd3786\"], [0.5555555555555556, \"#d8576b\"], [0.6666666666666666, \"#ed7953\"], [0.7777777777777778, \"#fb9f3a\"], [0.8888888888888888, \"#fdca26\"], [1.0, \"#f0f921\"]], \"type\": \"surface\"}], \"table\": [{\"cells\": {\"fill\": {\"color\": \"#EBF0F8\"}, \"line\": {\"color\": \"white\"}}, \"header\": {\"fill\": {\"color\": \"#C8D4E3\"}, \"line\": {\"color\": \"white\"}}, \"type\": \"table\"}]}, \"layout\": {\"annotationdefaults\": {\"arrowcolor\": \"#2a3f5f\", \"arrowhead\": 0, \"arrowwidth\": 1}, \"colorscale\": {\"diverging\": [[0, \"#8e0152\"], [0.1, \"#c51b7d\"], [0.2, \"#de77ae\"], [0.3, \"#f1b6da\"], [0.4, \"#fde0ef\"], [0.5, \"#f7f7f7\"], [0.6, \"#e6f5d0\"], [0.7, \"#b8e186\"], [0.8, \"#7fbc41\"], [0.9, \"#4d9221\"], [1, \"#276419\"]], \"sequential\": [[0.0, \"#0d0887\"], [0.1111111111111111, \"#46039f\"], [0.2222222222222222, \"#7201a8\"], [0.3333333333333333, \"#9c179e\"], [0.4444444444444444, \"#bd3786\"], [0.5555555555555556, \"#d8576b\"], [0.6666666666666666, \"#ed7953\"], [0.7777777777777778, \"#fb9f3a\"], [0.8888888888888888, \"#fdca26\"], [1.0, \"#f0f921\"]], \"sequentialminus\": [[0.0, \"#0d0887\"], [0.1111111111111111, \"#46039f\"], [0.2222222222222222, \"#7201a8\"], [0.3333333333333333, \"#9c179e\"], [0.4444444444444444, \"#bd3786\"], [0.5555555555555556, \"#d8576b\"], [0.6666666666666666, \"#ed7953\"], [0.7777777777777778, \"#fb9f3a\"], [0.8888888888888888, \"#fdca26\"], [1.0, \"#f0f921\"]]}, \"colorway\": [\"#636efa\", \"#EF553B\", \"#00cc96\", \"#ab63fa\", \"#FFA15A\", \"#19d3f3\", \"#FF6692\", \"#B6E880\", \"#FF97FF\", \"#FECB52\"], \"font\": {\"color\": \"#2a3f5f\"}, \"geo\": {\"bgcolor\": \"white\", \"lakecolor\": \"white\", \"landcolor\": \"#E5ECF6\", \"showlakes\": true, \"showland\": true, \"subunitcolor\": \"white\"}, \"hoverlabel\": {\"align\": \"left\"}, \"hovermode\": \"closest\", \"mapbox\": {\"style\": \"light\"}, \"paper_bgcolor\": \"white\", \"plot_bgcolor\": \"#E5ECF6\", \"polar\": {\"angularaxis\": {\"gridcolor\": \"white\", \"linecolor\": \"white\", \"ticks\": \"\"}, \"bgcolor\": \"#E5ECF6\", \"radialaxis\": {\"gridcolor\": \"white\", \"linecolor\": \"white\", \"ticks\": \"\"}}, \"scene\": {\"xaxis\": {\"backgroundcolor\": \"#E5ECF6\", \"gridcolor\": \"white\", \"gridwidth\": 2, \"linecolor\": \"white\", \"showbackground\": true, \"ticks\": \"\", \"zerolinecolor\": \"white\"}, \"yaxis\": {\"backgroundcolor\": \"#E5ECF6\", \"gridcolor\": \"white\", \"gridwidth\": 2, \"linecolor\": \"white\", \"showbackground\": true, \"ticks\": \"\", \"zerolinecolor\": \"white\"}, \"zaxis\": {\"backgroundcolor\": \"#E5ECF6\", \"gridcolor\": \"white\", \"gridwidth\": 2, \"linecolor\": \"white\", \"showbackground\": true, \"ticks\": \"\", \"zerolinecolor\": \"white\"}}, \"shapedefaults\": {\"line\": {\"color\": \"#2a3f5f\"}}, \"ternary\": {\"aaxis\": {\"gridcolor\": \"white\", \"linecolor\": \"white\", \"ticks\": \"\"}, \"baxis\": {\"gridcolor\": \"white\", \"linecolor\": \"white\", \"ticks\": \"\"}, \"bgcolor\": \"#E5ECF6\", \"caxis\": {\"gridcolor\": \"white\", \"linecolor\": \"white\", \"ticks\": \"\"}}, \"title\": {\"x\": 0.05}, \"xaxis\": {\"automargin\": true, \"gridcolor\": \"white\", \"linecolor\": \"white\", \"ticks\": \"\", \"zerolinecolor\": \"white\", \"zerolinewidth\": 2}, \"yaxis\": {\"automargin\": true, \"gridcolor\": \"white\", \"linecolor\": \"white\", \"ticks\": \"\", \"zerolinecolor\": \"white\", \"zerolinewidth\": 2}}}, \"title\": {\"text\": \"Deprecation in relation to Mileage\"}, \"xaxis\": {\"title\": {\"text\": \"Mileage\"}}, \"yaxis\": {\"title\": {\"text\": \"Price in relation to new model mean price\"}}},\n",
       "                        {\"responsive\": true}\n",
       "                    ).then(function(){\n",
       "                            \n",
       "var gd = document.getElementById('54b819e3-f446-48f0-ac59-8456ff6b025c');\n",
       "var x = new MutationObserver(function (mutations, observer) {{\n",
       "        var display = window.getComputedStyle(gd).display;\n",
       "        if (!display || display === 'none') {{\n",
       "            console.log([gd, 'removed!']);\n",
       "            Plotly.purge(gd);\n",
       "            observer.disconnect();\n",
       "        }}\n",
       "}});\n",
       "\n",
       "// Listen for the removal of the full notebook cells\n",
       "var notebookContainer = gd.closest('#notebook-container');\n",
       "if (notebookContainer) {{\n",
       "    x.observe(notebookContainer, {childList: true});\n",
       "}}\n",
       "\n",
       "// Listen for the clearing of the current output cell\n",
       "var outputEl = gd.closest('.output');\n",
       "if (outputEl) {{\n",
       "    x.observe(outputEl, {childList: true});\n",
       "}}\n",
       "\n",
       "                        })\n",
       "                };\n",
       "                });\n",
       "            </script>\n",
       "        </div>"
      ]
     },
     "metadata": {},
     "output_type": "display_data"
    }
   ],
   "source": [
    "data=[]\n",
    "for model in df_price_age.model.unique():\n",
    "    trace=go.Scatter(\n",
    "            y=df_price_mileage[df_price_mileage.model==model].deprecation,\n",
    "            x=df_price_mileage[df_price_mileage.model==model].mileage_bucket,\n",
    "            mode='lines',\n",
    "            marker=dict(\n",
    "            size=5\n",
    "            \n",
    "            ),\n",
    "        name=model,\n",
    "\n",
    "        )\n",
    "\n",
    "    data.append(trace)\n",
    "    \n",
    "figure=go.Figure(\n",
    "    data=data,\n",
    "    layout=go.Layout(\n",
    "        title=\"Deprecation in relation to Mileage\",\n",
    "            yaxis=dict(title=\"Price in relation to new model mean price\"),\n",
    "        xaxis=dict(title=\"Mileage\")\n",
    "\n",
    "    \n",
    "    ))\n",
    "iplot(figure)"
   ]
  },
  {
   "cell_type": "markdown",
   "metadata": {},
   "source": [
    "Deprecation shows more fluent trend over Mileage, as it is a good representation of car wear. The fastest drop is seen between 0-75 k km. Average price after 75 k falls to 40% of starting price for smaller models and 50% for Serie 5. "
   ]
  },
  {
   "cell_type": "markdown",
   "metadata": {},
   "source": [
    "# Building regression model describing price"
   ]
  },
  {
   "cell_type": "markdown",
   "metadata": {},
   "source": [
    "## Changing categorical features into one-hot features"
   ]
  },
  {
   "cell_type": "markdown",
   "metadata": {},
   "source": [
    "In order to create regression model, categorical features need to be changed to one-hot features. "
   ]
  },
  {
   "cell_type": "code",
   "execution_count": 66,
   "metadata": {},
   "outputs": [],
   "source": [
    "one_hot_features=[ 'Fuel',  'Body', 'Invoice', 'Steering_wheel_config',\n",
    "       'Air_con', 'Drive',\n",
    "       'Origin', 'Transmission',\"model_2\",\"Condition\"]"
   ]
  },
  {
   "cell_type": "code",
   "execution_count": 67,
   "metadata": {},
   "outputs": [],
   "source": [
    "# Select only categorical columns and store them in separate DataFrame\n",
    "df_cat=df[one_hot_features]"
   ]
  },
  {
   "cell_type": "code",
   "execution_count": 68,
   "metadata": {},
   "outputs": [
    {
     "data": {
      "text/plain": [
       "(1647, 10)"
      ]
     },
     "execution_count": 68,
     "metadata": {},
     "output_type": "execute_result"
    }
   ],
   "source": [
    "df_cat.shape"
   ]
  },
  {
   "cell_type": "code",
   "execution_count": 69,
   "metadata": {},
   "outputs": [],
   "source": [
    "from sklearn.preprocessing import OneHotEncoder\n",
    "from sklearn.impute import SimpleImputer"
   ]
  },
  {
   "cell_type": "code",
   "execution_count": 70,
   "metadata": {},
   "outputs": [
    {
     "data": {
      "text/html": [
       "<div>\n",
       "<style scoped>\n",
       "    .dataframe tbody tr th:only-of-type {\n",
       "        vertical-align: middle;\n",
       "    }\n",
       "\n",
       "    .dataframe tbody tr th {\n",
       "        vertical-align: top;\n",
       "    }\n",
       "\n",
       "    .dataframe thead th {\n",
       "        text-align: right;\n",
       "    }\n",
       "</style>\n",
       "<table border=\"1\" class=\"dataframe\">\n",
       "  <thead>\n",
       "    <tr style=\"text-align: right;\">\n",
       "      <th></th>\n",
       "      <th>Fuel</th>\n",
       "      <th>Body</th>\n",
       "      <th>Invoice</th>\n",
       "      <th>Steering_wheel_config</th>\n",
       "      <th>Air_con</th>\n",
       "      <th>Drive</th>\n",
       "      <th>Origin</th>\n",
       "      <th>Transmission</th>\n",
       "      <th>model_2</th>\n",
       "      <th>Condition</th>\n",
       "    </tr>\n",
       "  </thead>\n",
       "  <tbody>\n",
       "    <tr>\n",
       "      <th>0</th>\n",
       "      <td>Diesel</td>\n",
       "      <td>Sedan</td>\n",
       "      <td>Wystawiam fakturę VAT</td>\n",
       "      <td>Nie</td>\n",
       "      <td>automatyczna dwustrefowa</td>\n",
       "      <td>4x4</td>\n",
       "      <td>import</td>\n",
       "      <td>Automatyczna</td>\n",
       "      <td>Seria 5</td>\n",
       "      <td>Used</td>\n",
       "    </tr>\n",
       "    <tr>\n",
       "      <th>1</th>\n",
       "      <td>Diesel</td>\n",
       "      <td>Kombi</td>\n",
       "      <td>Wystawiam fakturę VAT</td>\n",
       "      <td>Nie</td>\n",
       "      <td>automatyczna jednostrefowa</td>\n",
       "      <td>Na tylne koła</td>\n",
       "      <td>import</td>\n",
       "      <td>Automatyczna</td>\n",
       "      <td>Seria 5</td>\n",
       "      <td>Used</td>\n",
       "    </tr>\n",
       "    <tr>\n",
       "      <th>2</th>\n",
       "      <td>Benzyna</td>\n",
       "      <td>Sedan</td>\n",
       "      <td>Nie wystawiam faktury</td>\n",
       "      <td>Nie</td>\n",
       "      <td>manualna</td>\n",
       "      <td>Na tylne koła</td>\n",
       "      <td>import</td>\n",
       "      <td>Automatyczna</td>\n",
       "      <td>Seria 5</td>\n",
       "      <td>Used</td>\n",
       "    </tr>\n",
       "    <tr>\n",
       "      <th>3</th>\n",
       "      <td>Diesel</td>\n",
       "      <td>Kombi</td>\n",
       "      <td>Wystawiam fakturę VAT</td>\n",
       "      <td>Nie</td>\n",
       "      <td>automatyczna dwustrefowa</td>\n",
       "      <td>Na tylne koła</td>\n",
       "      <td>krajowe</td>\n",
       "      <td>Automatyczna</td>\n",
       "      <td>Seria 5</td>\n",
       "      <td>Used</td>\n",
       "    </tr>\n",
       "    <tr>\n",
       "      <th>4</th>\n",
       "      <td>Diesel</td>\n",
       "      <td>Sedan</td>\n",
       "      <td>Wystawiam fakturę VAT-marża</td>\n",
       "      <td>Nie</td>\n",
       "      <td>automatyczna dwustrefowa</td>\n",
       "      <td>Na przednie koła</td>\n",
       "      <td>import</td>\n",
       "      <td>Automatyczna</td>\n",
       "      <td>Seria 5</td>\n",
       "      <td>Used</td>\n",
       "    </tr>\n",
       "  </tbody>\n",
       "</table>\n",
       "</div>"
      ],
      "text/plain": [
       "      Fuel   Body                      Invoice Steering_wheel_config  \\\n",
       "0   Diesel  Sedan        Wystawiam fakturę VAT                   Nie   \n",
       "1   Diesel  Kombi        Wystawiam fakturę VAT                   Nie   \n",
       "2  Benzyna  Sedan        Nie wystawiam faktury                   Nie   \n",
       "3   Diesel  Kombi        Wystawiam fakturę VAT                   Nie   \n",
       "4   Diesel  Sedan  Wystawiam fakturę VAT-marża                   Nie   \n",
       "\n",
       "                      Air_con             Drive   Origin  Transmission  \\\n",
       "0    automatyczna dwustrefowa               4x4   import  Automatyczna   \n",
       "1  automatyczna jednostrefowa     Na tylne koła   import  Automatyczna   \n",
       "2                    manualna     Na tylne koła   import  Automatyczna   \n",
       "3    automatyczna dwustrefowa     Na tylne koła  krajowe  Automatyczna   \n",
       "4    automatyczna dwustrefowa  Na przednie koła   import  Automatyczna   \n",
       "\n",
       "   model_2 Condition  \n",
       "0  Seria 5      Used  \n",
       "1  Seria 5      Used  \n",
       "2  Seria 5      Used  \n",
       "3  Seria 5      Used  \n",
       "4  Seria 5      Used  "
      ]
     },
     "execution_count": 70,
     "metadata": {},
     "output_type": "execute_result"
    }
   ],
   "source": [
    "# Replace Nulls with most frequent category\n",
    "imp = SimpleImputer(missing_values=np.nan, strategy='most_frequent')\n",
    "df_cat_val=imp.fit_transform(df_cat)\n",
    "df_cat=pd.DataFrame(df_cat_val, columns=df_cat.columns)\n",
    "df_cat.head()"
   ]
  },
  {
   "cell_type": "code",
   "execution_count": 71,
   "metadata": {},
   "outputs": [
    {
     "data": {
      "text/plain": [
       "OneHotEncoder(categories='auto', drop=None, dtype=<class 'numpy.float64'>,\n",
       "              handle_unknown='error', sparse=True)"
      ]
     },
     "execution_count": 71,
     "metadata": {},
     "output_type": "execute_result"
    },
    {
     "data": {
      "text/plain": [
       "[array(['Benzyna', 'Benzyna + LPG', 'Diesel', 'Elektryczny', 'Hybryda'],\n",
       "       dtype=object),\n",
       " array(['Coupe', 'Hatchback', 'Kabriolet', 'Kombi', 'Liftback', 'Minivan',\n",
       "        'SUV', 'Sedan', 'Terenowy'], dtype=object),\n",
       " array(['Nie wystawiam faktury', 'Wystawiam fakturę VAT',\n",
       "        'Wystawiam fakturę VAT-marża', 'Wystawiam fakturę bez VAT'],\n",
       "       dtype=object),\n",
       " array(['Nie', 'Tak'], dtype=object),\n",
       " array(['automatyczna czterostrefowa', 'automatyczna dwustrefowa',\n",
       "        'automatyczna jednostrefowa', 'brak', 'manualna'], dtype=object),\n",
       " array(['4x4', 'Na przednie koła', 'Na tylne koła'], dtype=object),\n",
       " array(['import', 'krajowe'], dtype=object),\n",
       " array(['Automatyczna', 'Manualna'], dtype=object),\n",
       " array(['Seria 1', 'Seria 3', 'Seria 5', 'X3', 'X5', 'other'], dtype=object),\n",
       " array(['New', 'Used'], dtype=object)]"
      ]
     },
     "execution_count": 71,
     "metadata": {},
     "output_type": "execute_result"
    }
   ],
   "source": [
    "enc=OneHotEncoder()\n",
    "enc.fit(df_cat)\n",
    "\n",
    "enc.categories_\n",
    "one_hot_val=enc.fit_transform(df_cat).toarray().astype(int)\n",
    "cat_list=enc.categories_"
   ]
  },
  {
   "cell_type": "code",
   "execution_count": 72,
   "metadata": {},
   "outputs": [
    {
     "data": {
      "text/plain": [
       "40"
      ]
     },
     "execution_count": 72,
     "metadata": {},
     "output_type": "execute_result"
    }
   ],
   "source": [
    "# Extracting list of columns from encoder categories array\n",
    "one_hot_columns=[]\n",
    "for i in range(0,len(cat_list)):\n",
    "    for j in range(0,len(cat_list[i])):\n",
    "        one_hot_columns.append(cat_list[i][j])\n",
    "len(one_hot_columns)"
   ]
  },
  {
   "cell_type": "code",
   "execution_count": 73,
   "metadata": {},
   "outputs": [],
   "source": [
    "df_one_hot=pd.DataFrame(one_hot_val, columns=one_hot_columns)"
   ]
  },
  {
   "cell_type": "code",
   "execution_count": 74,
   "metadata": {},
   "outputs": [
    {
     "data": {
      "text/plain": [
       "Index(['Benzyna', 'Benzyna + LPG', 'Diesel', 'Elektryczny', 'Hybryda', 'Coupe',\n",
       "       'Hatchback', 'Kabriolet', 'Kombi', 'Liftback', 'Minivan', 'SUV',\n",
       "       'Sedan', 'Terenowy', 'Nie wystawiam faktury', 'Wystawiam fakturę VAT',\n",
       "       'Wystawiam fakturę VAT-marża', 'Wystawiam fakturę bez VAT', 'Nie',\n",
       "       'Tak', 'automatyczna czterostrefowa', 'automatyczna dwustrefowa',\n",
       "       'automatyczna jednostrefowa', 'brak', 'manualna', '4x4',\n",
       "       'Na przednie koła', 'Na tylne koła', 'import', 'krajowe',\n",
       "       'Automatyczna', 'Manualna', 'Seria 1', 'Seria 3', 'Seria 5', 'X3', 'X5',\n",
       "       'other', 'New', 'Used'],\n",
       "      dtype='object')"
      ]
     },
     "execution_count": 74,
     "metadata": {},
     "output_type": "execute_result"
    }
   ],
   "source": [
    "df_one_hot.columns"
   ]
  },
  {
   "cell_type": "code",
   "execution_count": 75,
   "metadata": {},
   "outputs": [],
   "source": [
    "# Renaming some og key features, which are currently in Polish\n",
    "rename_cat_columns={\n",
    "    \"Tak\":\"Right_steering_wheel\",\n",
    "    'Nie wystawiam faktury':\"No_invoice\",\n",
    "    'brak':\"No_air_con\",\n",
    "    'Używany':\"Used\"}"
   ]
  },
  {
   "cell_type": "code",
   "execution_count": 76,
   "metadata": {},
   "outputs": [],
   "source": [
    "df_one_hot.rename(columns=rename_cat_columns,inplace=True)"
   ]
  },
  {
   "cell_type": "code",
   "execution_count": 77,
   "metadata": {},
   "outputs": [
    {
     "data": {
      "text/plain": [
       "Index(['Benzyna', 'Benzyna + LPG', 'Diesel', 'Elektryczny', 'Hybryda', 'Coupe',\n",
       "       'Hatchback', 'Kabriolet', 'Kombi', 'Liftback', 'Minivan', 'SUV',\n",
       "       'Sedan', 'Terenowy', 'No_invoice', 'Wystawiam fakturę VAT',\n",
       "       'Wystawiam fakturę VAT-marża', 'Wystawiam fakturę bez VAT', 'Nie',\n",
       "       'Right_steering_wheel', 'automatyczna czterostrefowa',\n",
       "       'automatyczna dwustrefowa', 'automatyczna jednostrefowa', 'No_air_con',\n",
       "       'manualna', '4x4', 'Na przednie koła', 'Na tylne koła', 'import',\n",
       "       'krajowe', 'Automatyczna', 'Manualna', 'Seria 1', 'Seria 3', 'Seria 5',\n",
       "       'X3', 'X5', 'other', 'New', 'Used'],\n",
       "      dtype='object')"
      ]
     },
     "execution_count": 77,
     "metadata": {},
     "output_type": "execute_result"
    }
   ],
   "source": [
    "df_one_hot.columns"
   ]
  },
  {
   "cell_type": "markdown",
   "metadata": {},
   "source": [
    "Selecting chosen features to avoid colinearity Collinearity. For key features, the categories not selected will also form the base scenario for our pricing. For example, omitting the features \"New\", \"Manual transmission\", \"Petrol\" means that the contant in linear regression will represent these cases. "
   ]
  },
  {
   "cell_type": "code",
   "execution_count": 78,
   "metadata": {},
   "outputs": [],
   "source": [
    "lin_reg_categories=['Seria 1', 'Seria 3', 'Seria 5', 'X3', 'X5',\n",
    "       'Benzyna + LPG', 'Diesel', 'Elektryczny', 'Hybryda', 'Coupe',\n",
    "       'Hatchback', 'Kabriolet', 'Kombi', 'Liftback', 'Minivan', 'SUV',\n",
    "       'Terenowy', 'No_invoice', \n",
    "       'Right_steering_wheel', 'No_air_con',\n",
    "       '4x4', 'Na tylne koła',\n",
    "       'krajowe', 'Automatyczna',\"Used\"]"
   ]
  },
  {
   "cell_type": "code",
   "execution_count": 79,
   "metadata": {},
   "outputs": [
    {
     "data": {
      "text/plain": [
       "(1647, 25)"
      ]
     },
     "execution_count": 79,
     "metadata": {},
     "output_type": "execute_result"
    }
   ],
   "source": [
    "df_one_hot=df_one_hot[lin_reg_categories]\n",
    "df_one_hot.shape"
   ]
  },
  {
   "cell_type": "markdown",
   "metadata": {},
   "source": [
    "## Combining categorical and continous features"
   ]
  },
  {
   "cell_type": "code",
   "execution_count": 80,
   "metadata": {},
   "outputs": [],
   "source": [
    "num_features=['Mileage','Power',\"Age\"]"
   ]
  },
  {
   "cell_type": "markdown",
   "metadata": {},
   "source": [
    "The numerical features are rescalled slightly to make interpreting linear regression coefficients easier. Mileage is reduced to represent 100 k km, Power represent power above 100 kW divided by 100 - this means that the base scenario will represent car with 100 kW with additional power represented by Power coefficient. "
   ]
  },
  {
   "cell_type": "code",
   "execution_count": 81,
   "metadata": {},
   "outputs": [],
   "source": [
    "df_num=df[num_features]\n",
    "#Dividing Mileage values by 100k for coefficients readability\n",
    "df_num[\"Mileage\"]=df_num[\"Mileage\"]/100000\n",
    "#Substracting 100 bhp (as base value) and dividing by 100 for coefficients readability\n",
    "df_num[\"Power\"]=((df_num[\"Power\"]-100)/100)"
   ]
  },
  {
   "cell_type": "code",
   "execution_count": 82,
   "metadata": {},
   "outputs": [
    {
     "data": {
      "text/html": [
       "<div>\n",
       "<style scoped>\n",
       "    .dataframe tbody tr th:only-of-type {\n",
       "        vertical-align: middle;\n",
       "    }\n",
       "\n",
       "    .dataframe tbody tr th {\n",
       "        vertical-align: top;\n",
       "    }\n",
       "\n",
       "    .dataframe thead th {\n",
       "        text-align: right;\n",
       "    }\n",
       "</style>\n",
       "<table border=\"1\" class=\"dataframe\">\n",
       "  <thead>\n",
       "    <tr style=\"text-align: right;\">\n",
       "      <th></th>\n",
       "      <th>Mileage</th>\n",
       "      <th>Power</th>\n",
       "      <th>Age</th>\n",
       "    </tr>\n",
       "  </thead>\n",
       "  <tbody>\n",
       "    <tr>\n",
       "      <th>count</th>\n",
       "      <td>1647.000000</td>\n",
       "      <td>1647.000000</td>\n",
       "      <td>1647.000000</td>\n",
       "    </tr>\n",
       "    <tr>\n",
       "      <th>mean</th>\n",
       "      <td>1.337098</td>\n",
       "      <td>1.121621</td>\n",
       "      <td>7.947177</td>\n",
       "    </tr>\n",
       "    <tr>\n",
       "      <th>std</th>\n",
       "      <td>1.158413</td>\n",
       "      <td>0.895634</td>\n",
       "      <td>6.545495</td>\n",
       "    </tr>\n",
       "    <tr>\n",
       "      <th>min</th>\n",
       "      <td>0.000000</td>\n",
       "      <td>-0.990000</td>\n",
       "      <td>0.000000</td>\n",
       "    </tr>\n",
       "    <tr>\n",
       "      <th>25%</th>\n",
       "      <td>0.212000</td>\n",
       "      <td>0.500000</td>\n",
       "      <td>2.000000</td>\n",
       "    </tr>\n",
       "    <tr>\n",
       "      <th>50%</th>\n",
       "      <td>1.270500</td>\n",
       "      <td>0.900000</td>\n",
       "      <td>6.000000</td>\n",
       "    </tr>\n",
       "    <tr>\n",
       "      <th>75%</th>\n",
       "      <td>2.195655</td>\n",
       "      <td>1.470000</td>\n",
       "      <td>13.000000</td>\n",
       "    </tr>\n",
       "    <tr>\n",
       "      <th>max</th>\n",
       "      <td>17.000000</td>\n",
       "      <td>5.250000</td>\n",
       "      <td>44.000000</td>\n",
       "    </tr>\n",
       "  </tbody>\n",
       "</table>\n",
       "</div>"
      ],
      "text/plain": [
       "           Mileage        Power          Age\n",
       "count  1647.000000  1647.000000  1647.000000\n",
       "mean      1.337098     1.121621     7.947177\n",
       "std       1.158413     0.895634     6.545495\n",
       "min       0.000000    -0.990000     0.000000\n",
       "25%       0.212000     0.500000     2.000000\n",
       "50%       1.270500     0.900000     6.000000\n",
       "75%       2.195655     1.470000    13.000000\n",
       "max      17.000000     5.250000    44.000000"
      ]
     },
     "execution_count": 82,
     "metadata": {},
     "output_type": "execute_result"
    }
   ],
   "source": [
    "df_num.describe()"
   ]
  },
  {
   "cell_type": "code",
   "execution_count": 83,
   "metadata": {},
   "outputs": [
    {
     "data": {
      "text/plain": [
       "Mileage    1.158413\n",
       "Power      0.895634\n",
       "Age        6.545495\n",
       "dtype: float64"
      ]
     },
     "execution_count": 83,
     "metadata": {},
     "output_type": "execute_result"
    }
   ],
   "source": [
    "df_num.std()"
   ]
  },
  {
   "cell_type": "code",
   "execution_count": 84,
   "metadata": {},
   "outputs": [
    {
     "data": {
      "text/html": [
       "<div>\n",
       "<style scoped>\n",
       "    .dataframe tbody tr th:only-of-type {\n",
       "        vertical-align: middle;\n",
       "    }\n",
       "\n",
       "    .dataframe tbody tr th {\n",
       "        vertical-align: top;\n",
       "    }\n",
       "\n",
       "    .dataframe thead th {\n",
       "        text-align: right;\n",
       "    }\n",
       "</style>\n",
       "<table border=\"1\" class=\"dataframe\">\n",
       "  <thead>\n",
       "    <tr style=\"text-align: right;\">\n",
       "      <th></th>\n",
       "      <th>Mileage</th>\n",
       "      <th>Power</th>\n",
       "      <th>Age</th>\n",
       "    </tr>\n",
       "  </thead>\n",
       "  <tbody>\n",
       "    <tr>\n",
       "      <th>count</th>\n",
       "      <td>1647.000000</td>\n",
       "      <td>1647.000000</td>\n",
       "      <td>1647.000000</td>\n",
       "    </tr>\n",
       "    <tr>\n",
       "      <th>mean</th>\n",
       "      <td>1.154250</td>\n",
       "      <td>1.252320</td>\n",
       "      <td>1.214145</td>\n",
       "    </tr>\n",
       "    <tr>\n",
       "      <th>std</th>\n",
       "      <td>1.000000</td>\n",
       "      <td>1.000000</td>\n",
       "      <td>1.000000</td>\n",
       "    </tr>\n",
       "    <tr>\n",
       "      <th>min</th>\n",
       "      <td>0.000000</td>\n",
       "      <td>-1.105362</td>\n",
       "      <td>0.000000</td>\n",
       "    </tr>\n",
       "    <tr>\n",
       "      <th>25%</th>\n",
       "      <td>0.183009</td>\n",
       "      <td>0.558264</td>\n",
       "      <td>0.305554</td>\n",
       "    </tr>\n",
       "    <tr>\n",
       "      <th>50%</th>\n",
       "      <td>1.096759</td>\n",
       "      <td>1.004874</td>\n",
       "      <td>0.916661</td>\n",
       "    </tr>\n",
       "    <tr>\n",
       "      <th>75%</th>\n",
       "      <td>1.895399</td>\n",
       "      <td>1.641295</td>\n",
       "      <td>1.986099</td>\n",
       "    </tr>\n",
       "    <tr>\n",
       "      <th>max</th>\n",
       "      <td>14.675250</td>\n",
       "      <td>5.861768</td>\n",
       "      <td>6.722181</td>\n",
       "    </tr>\n",
       "  </tbody>\n",
       "</table>\n",
       "</div>"
      ],
      "text/plain": [
       "           Mileage        Power          Age\n",
       "count  1647.000000  1647.000000  1647.000000\n",
       "mean      1.154250     1.252320     1.214145\n",
       "std       1.000000     1.000000     1.000000\n",
       "min       0.000000    -1.105362     0.000000\n",
       "25%       0.183009     0.558264     0.305554\n",
       "50%       1.096759     1.004874     0.916661\n",
       "75%       1.895399     1.641295     1.986099\n",
       "max      14.675250     5.861768     6.722181"
      ]
     },
     "execution_count": 84,
     "metadata": {},
     "output_type": "execute_result"
    }
   ],
   "source": [
    "# As Elastic Net normalization will be used to automatically select important features, numerical values need to be rescalled. \n",
    "# The desired effect is for the features to range from 0 (with slight exception for Power outliers) and have std of 1.\n",
    "df_num_scaled=df_num/df_num.std()\n",
    "df_num_scaled.describe()"
   ]
  },
  {
   "cell_type": "code",
   "execution_count": 85,
   "metadata": {},
   "outputs": [],
   "source": [
    "X=pd.concat([df_num,df_one_hot],axis=1, sort=False)\n",
    "X_scaled=pd.concat([df_num_scaled,df_one_hot],axis=1, sort=False)"
   ]
  },
  {
   "cell_type": "code",
   "execution_count": 86,
   "metadata": {},
   "outputs": [],
   "source": [
    "#Dividing price by 1000 and expresing it as log due skewed distribution and wider interpretation possibilities\n",
    "y=np.asarray(df.price)/1000\n",
    "y=np.log(y)"
   ]
  },
  {
   "cell_type": "code",
   "execution_count": 87,
   "metadata": {},
   "outputs": [
    {
     "data": {
      "text/plain": [
       "(1647, 28)"
      ]
     },
     "execution_count": 87,
     "metadata": {},
     "output_type": "execute_result"
    }
   ],
   "source": [
    "X.shape"
   ]
  },
  {
   "cell_type": "markdown",
   "metadata": {},
   "source": [
    "## Selecting key features with Elastic Net Regression"
   ]
  },
  {
   "cell_type": "code",
   "execution_count": 88,
   "metadata": {},
   "outputs": [],
   "source": [
    "from sklearn.linear_model import ElasticNet\n",
    "lin_reg=ElasticNet(fit_intercept=True,l1_ratio=0.6,alpha=0.04,normalize=False)"
   ]
  },
  {
   "cell_type": "code",
   "execution_count": 89,
   "metadata": {},
   "outputs": [
    {
     "data": {
      "text/plain": [
       "ElasticNet(alpha=0.04, copy_X=True, fit_intercept=True, l1_ratio=0.6,\n",
       "           max_iter=1000, normalize=False, positive=False, precompute=False,\n",
       "           random_state=None, selection='cyclic', tol=0.0001, warm_start=False)"
      ]
     },
     "execution_count": 89,
     "metadata": {},
     "output_type": "execute_result"
    }
   ],
   "source": [
    "lin_reg.fit(X_scaled, y)"
   ]
  },
  {
   "cell_type": "code",
   "execution_count": 90,
   "metadata": {},
   "outputs": [],
   "source": [
    "importance_df=pd.DataFrame(lin_reg.coef_.ravel(),columns=[\"coefficients\"])\n",
    "importance_df[\"features\"]=X.columns\n",
    "importance_df.sort_values(by=\"coefficients\",inplace=True)\n",
    "importance_df=importance_df[importance_df.coefficients!=0]"
   ]
  },
  {
   "cell_type": "code",
   "execution_count": 91,
   "metadata": {},
   "outputs": [
    {
     "data": {
      "application/vnd.plotly.v1+json": {
       "config": {
        "linkText": "Export to plot.ly",
        "plotlyServerURL": "https://plot.ly",
        "showLink": false
       },
       "data": [
        {
         "marker": {
          "color": "blue",
          "opacity": 0.5
         },
         "type": "bar",
         "x": [
          "Age",
          "Mileage",
          "Seria 3",
          "Used",
          "Kombi",
          "4x4",
          "Automatyczna",
          "Power"
         ],
         "y": [
          -0.5770895049532708,
          -0.22332087427540837,
          -0.07767121277187922,
          -0.02063157105128256,
          -0.011614103355599047,
          0.1465743071500244,
          0.20111665184850938,
          0.2994652569304325
         ]
        }
       ],
       "layout": {
        "template": {
         "data": {
          "bar": [
           {
            "error_x": {
             "color": "#2a3f5f"
            },
            "error_y": {
             "color": "#2a3f5f"
            },
            "marker": {
             "line": {
              "color": "#E5ECF6",
              "width": 0.5
             }
            },
            "type": "bar"
           }
          ],
          "barpolar": [
           {
            "marker": {
             "line": {
              "color": "#E5ECF6",
              "width": 0.5
             }
            },
            "type": "barpolar"
           }
          ],
          "carpet": [
           {
            "aaxis": {
             "endlinecolor": "#2a3f5f",
             "gridcolor": "white",
             "linecolor": "white",
             "minorgridcolor": "white",
             "startlinecolor": "#2a3f5f"
            },
            "baxis": {
             "endlinecolor": "#2a3f5f",
             "gridcolor": "white",
             "linecolor": "white",
             "minorgridcolor": "white",
             "startlinecolor": "#2a3f5f"
            },
            "type": "carpet"
           }
          ],
          "choropleth": [
           {
            "colorbar": {
             "outlinewidth": 0,
             "ticks": ""
            },
            "type": "choropleth"
           }
          ],
          "contour": [
           {
            "colorbar": {
             "outlinewidth": 0,
             "ticks": ""
            },
            "colorscale": [
             [
              0,
              "#0d0887"
             ],
             [
              0.1111111111111111,
              "#46039f"
             ],
             [
              0.2222222222222222,
              "#7201a8"
             ],
             [
              0.3333333333333333,
              "#9c179e"
             ],
             [
              0.4444444444444444,
              "#bd3786"
             ],
             [
              0.5555555555555556,
              "#d8576b"
             ],
             [
              0.6666666666666666,
              "#ed7953"
             ],
             [
              0.7777777777777778,
              "#fb9f3a"
             ],
             [
              0.8888888888888888,
              "#fdca26"
             ],
             [
              1,
              "#f0f921"
             ]
            ],
            "type": "contour"
           }
          ],
          "contourcarpet": [
           {
            "colorbar": {
             "outlinewidth": 0,
             "ticks": ""
            },
            "type": "contourcarpet"
           }
          ],
          "heatmap": [
           {
            "colorbar": {
             "outlinewidth": 0,
             "ticks": ""
            },
            "colorscale": [
             [
              0,
              "#0d0887"
             ],
             [
              0.1111111111111111,
              "#46039f"
             ],
             [
              0.2222222222222222,
              "#7201a8"
             ],
             [
              0.3333333333333333,
              "#9c179e"
             ],
             [
              0.4444444444444444,
              "#bd3786"
             ],
             [
              0.5555555555555556,
              "#d8576b"
             ],
             [
              0.6666666666666666,
              "#ed7953"
             ],
             [
              0.7777777777777778,
              "#fb9f3a"
             ],
             [
              0.8888888888888888,
              "#fdca26"
             ],
             [
              1,
              "#f0f921"
             ]
            ],
            "type": "heatmap"
           }
          ],
          "heatmapgl": [
           {
            "colorbar": {
             "outlinewidth": 0,
             "ticks": ""
            },
            "colorscale": [
             [
              0,
              "#0d0887"
             ],
             [
              0.1111111111111111,
              "#46039f"
             ],
             [
              0.2222222222222222,
              "#7201a8"
             ],
             [
              0.3333333333333333,
              "#9c179e"
             ],
             [
              0.4444444444444444,
              "#bd3786"
             ],
             [
              0.5555555555555556,
              "#d8576b"
             ],
             [
              0.6666666666666666,
              "#ed7953"
             ],
             [
              0.7777777777777778,
              "#fb9f3a"
             ],
             [
              0.8888888888888888,
              "#fdca26"
             ],
             [
              1,
              "#f0f921"
             ]
            ],
            "type": "heatmapgl"
           }
          ],
          "histogram": [
           {
            "marker": {
             "colorbar": {
              "outlinewidth": 0,
              "ticks": ""
             }
            },
            "type": "histogram"
           }
          ],
          "histogram2d": [
           {
            "colorbar": {
             "outlinewidth": 0,
             "ticks": ""
            },
            "colorscale": [
             [
              0,
              "#0d0887"
             ],
             [
              0.1111111111111111,
              "#46039f"
             ],
             [
              0.2222222222222222,
              "#7201a8"
             ],
             [
              0.3333333333333333,
              "#9c179e"
             ],
             [
              0.4444444444444444,
              "#bd3786"
             ],
             [
              0.5555555555555556,
              "#d8576b"
             ],
             [
              0.6666666666666666,
              "#ed7953"
             ],
             [
              0.7777777777777778,
              "#fb9f3a"
             ],
             [
              0.8888888888888888,
              "#fdca26"
             ],
             [
              1,
              "#f0f921"
             ]
            ],
            "type": "histogram2d"
           }
          ],
          "histogram2dcontour": [
           {
            "colorbar": {
             "outlinewidth": 0,
             "ticks": ""
            },
            "colorscale": [
             [
              0,
              "#0d0887"
             ],
             [
              0.1111111111111111,
              "#46039f"
             ],
             [
              0.2222222222222222,
              "#7201a8"
             ],
             [
              0.3333333333333333,
              "#9c179e"
             ],
             [
              0.4444444444444444,
              "#bd3786"
             ],
             [
              0.5555555555555556,
              "#d8576b"
             ],
             [
              0.6666666666666666,
              "#ed7953"
             ],
             [
              0.7777777777777778,
              "#fb9f3a"
             ],
             [
              0.8888888888888888,
              "#fdca26"
             ],
             [
              1,
              "#f0f921"
             ]
            ],
            "type": "histogram2dcontour"
           }
          ],
          "mesh3d": [
           {
            "colorbar": {
             "outlinewidth": 0,
             "ticks": ""
            },
            "type": "mesh3d"
           }
          ],
          "parcoords": [
           {
            "line": {
             "colorbar": {
              "outlinewidth": 0,
              "ticks": ""
             }
            },
            "type": "parcoords"
           }
          ],
          "scatter": [
           {
            "marker": {
             "colorbar": {
              "outlinewidth": 0,
              "ticks": ""
             }
            },
            "type": "scatter"
           }
          ],
          "scatter3d": [
           {
            "line": {
             "colorbar": {
              "outlinewidth": 0,
              "ticks": ""
             }
            },
            "marker": {
             "colorbar": {
              "outlinewidth": 0,
              "ticks": ""
             }
            },
            "type": "scatter3d"
           }
          ],
          "scattercarpet": [
           {
            "marker": {
             "colorbar": {
              "outlinewidth": 0,
              "ticks": ""
             }
            },
            "type": "scattercarpet"
           }
          ],
          "scattergeo": [
           {
            "marker": {
             "colorbar": {
              "outlinewidth": 0,
              "ticks": ""
             }
            },
            "type": "scattergeo"
           }
          ],
          "scattergl": [
           {
            "marker": {
             "colorbar": {
              "outlinewidth": 0,
              "ticks": ""
             }
            },
            "type": "scattergl"
           }
          ],
          "scattermapbox": [
           {
            "marker": {
             "colorbar": {
              "outlinewidth": 0,
              "ticks": ""
             }
            },
            "type": "scattermapbox"
           }
          ],
          "scatterpolar": [
           {
            "marker": {
             "colorbar": {
              "outlinewidth": 0,
              "ticks": ""
             }
            },
            "type": "scatterpolar"
           }
          ],
          "scatterpolargl": [
           {
            "marker": {
             "colorbar": {
              "outlinewidth": 0,
              "ticks": ""
             }
            },
            "type": "scatterpolargl"
           }
          ],
          "scatterternary": [
           {
            "marker": {
             "colorbar": {
              "outlinewidth": 0,
              "ticks": ""
             }
            },
            "type": "scatterternary"
           }
          ],
          "surface": [
           {
            "colorbar": {
             "outlinewidth": 0,
             "ticks": ""
            },
            "colorscale": [
             [
              0,
              "#0d0887"
             ],
             [
              0.1111111111111111,
              "#46039f"
             ],
             [
              0.2222222222222222,
              "#7201a8"
             ],
             [
              0.3333333333333333,
              "#9c179e"
             ],
             [
              0.4444444444444444,
              "#bd3786"
             ],
             [
              0.5555555555555556,
              "#d8576b"
             ],
             [
              0.6666666666666666,
              "#ed7953"
             ],
             [
              0.7777777777777778,
              "#fb9f3a"
             ],
             [
              0.8888888888888888,
              "#fdca26"
             ],
             [
              1,
              "#f0f921"
             ]
            ],
            "type": "surface"
           }
          ],
          "table": [
           {
            "cells": {
             "fill": {
              "color": "#EBF0F8"
             },
             "line": {
              "color": "white"
             }
            },
            "header": {
             "fill": {
              "color": "#C8D4E3"
             },
             "line": {
              "color": "white"
             }
            },
            "type": "table"
           }
          ]
         },
         "layout": {
          "annotationdefaults": {
           "arrowcolor": "#2a3f5f",
           "arrowhead": 0,
           "arrowwidth": 1
          },
          "colorscale": {
           "diverging": [
            [
             0,
             "#8e0152"
            ],
            [
             0.1,
             "#c51b7d"
            ],
            [
             0.2,
             "#de77ae"
            ],
            [
             0.3,
             "#f1b6da"
            ],
            [
             0.4,
             "#fde0ef"
            ],
            [
             0.5,
             "#f7f7f7"
            ],
            [
             0.6,
             "#e6f5d0"
            ],
            [
             0.7,
             "#b8e186"
            ],
            [
             0.8,
             "#7fbc41"
            ],
            [
             0.9,
             "#4d9221"
            ],
            [
             1,
             "#276419"
            ]
           ],
           "sequential": [
            [
             0,
             "#0d0887"
            ],
            [
             0.1111111111111111,
             "#46039f"
            ],
            [
             0.2222222222222222,
             "#7201a8"
            ],
            [
             0.3333333333333333,
             "#9c179e"
            ],
            [
             0.4444444444444444,
             "#bd3786"
            ],
            [
             0.5555555555555556,
             "#d8576b"
            ],
            [
             0.6666666666666666,
             "#ed7953"
            ],
            [
             0.7777777777777778,
             "#fb9f3a"
            ],
            [
             0.8888888888888888,
             "#fdca26"
            ],
            [
             1,
             "#f0f921"
            ]
           ],
           "sequentialminus": [
            [
             0,
             "#0d0887"
            ],
            [
             0.1111111111111111,
             "#46039f"
            ],
            [
             0.2222222222222222,
             "#7201a8"
            ],
            [
             0.3333333333333333,
             "#9c179e"
            ],
            [
             0.4444444444444444,
             "#bd3786"
            ],
            [
             0.5555555555555556,
             "#d8576b"
            ],
            [
             0.6666666666666666,
             "#ed7953"
            ],
            [
             0.7777777777777778,
             "#fb9f3a"
            ],
            [
             0.8888888888888888,
             "#fdca26"
            ],
            [
             1,
             "#f0f921"
            ]
           ]
          },
          "colorway": [
           "#636efa",
           "#EF553B",
           "#00cc96",
           "#ab63fa",
           "#FFA15A",
           "#19d3f3",
           "#FF6692",
           "#B6E880",
           "#FF97FF",
           "#FECB52"
          ],
          "font": {
           "color": "#2a3f5f"
          },
          "geo": {
           "bgcolor": "white",
           "lakecolor": "white",
           "landcolor": "#E5ECF6",
           "showlakes": true,
           "showland": true,
           "subunitcolor": "white"
          },
          "hoverlabel": {
           "align": "left"
          },
          "hovermode": "closest",
          "mapbox": {
           "style": "light"
          },
          "paper_bgcolor": "white",
          "plot_bgcolor": "#E5ECF6",
          "polar": {
           "angularaxis": {
            "gridcolor": "white",
            "linecolor": "white",
            "ticks": ""
           },
           "bgcolor": "#E5ECF6",
           "radialaxis": {
            "gridcolor": "white",
            "linecolor": "white",
            "ticks": ""
           }
          },
          "scene": {
           "xaxis": {
            "backgroundcolor": "#E5ECF6",
            "gridcolor": "white",
            "gridwidth": 2,
            "linecolor": "white",
            "showbackground": true,
            "ticks": "",
            "zerolinecolor": "white"
           },
           "yaxis": {
            "backgroundcolor": "#E5ECF6",
            "gridcolor": "white",
            "gridwidth": 2,
            "linecolor": "white",
            "showbackground": true,
            "ticks": "",
            "zerolinecolor": "white"
           },
           "zaxis": {
            "backgroundcolor": "#E5ECF6",
            "gridcolor": "white",
            "gridwidth": 2,
            "linecolor": "white",
            "showbackground": true,
            "ticks": "",
            "zerolinecolor": "white"
           }
          },
          "shapedefaults": {
           "line": {
            "color": "#2a3f5f"
           }
          },
          "ternary": {
           "aaxis": {
            "gridcolor": "white",
            "linecolor": "white",
            "ticks": ""
           },
           "baxis": {
            "gridcolor": "white",
            "linecolor": "white",
            "ticks": ""
           },
           "bgcolor": "#E5ECF6",
           "caxis": {
            "gridcolor": "white",
            "linecolor": "white",
            "ticks": ""
           }
          },
          "title": {
           "x": 0.05
          },
          "xaxis": {
           "automargin": true,
           "gridcolor": "white",
           "linecolor": "white",
           "ticks": "",
           "zerolinecolor": "white",
           "zerolinewidth": 2
          },
          "yaxis": {
           "automargin": true,
           "gridcolor": "white",
           "linecolor": "white",
           "ticks": "",
           "zerolinecolor": "white",
           "zerolinewidth": 2
          }
         }
        },
        "title": {
         "text": "Feature importance"
        },
        "xaxis": {
         "title": {
          "text": "Feature"
         }
        },
        "yaxis": {
         "title": {
          "text": "Importance"
         }
        }
       }
      },
      "text/html": [
       "<div>\n",
       "        \n",
       "        \n",
       "            <div id=\"fcdf5d38-b478-4971-b57e-f005980c065b\" class=\"plotly-graph-div\" style=\"height:525px; width:100%;\"></div>\n",
       "            <script type=\"text/javascript\">\n",
       "                require([\"plotly\"], function(Plotly) {\n",
       "                    window.PLOTLYENV=window.PLOTLYENV || {};\n",
       "                    \n",
       "                if (document.getElementById(\"fcdf5d38-b478-4971-b57e-f005980c065b\")) {\n",
       "                    Plotly.newPlot(\n",
       "                        'fcdf5d38-b478-4971-b57e-f005980c065b',\n",
       "                        [{\"marker\": {\"color\": \"blue\", \"opacity\": 0.5}, \"type\": \"bar\", \"x\": [\"Age\", \"Mileage\", \"Seria 3\", \"Used\", \"Kombi\", \"4x4\", \"Automatyczna\", \"Power\"], \"y\": [-0.5770895049532708, -0.22332087427540837, -0.07767121277187922, -0.02063157105128256, -0.011614103355599047, 0.1465743071500244, 0.20111665184850938, 0.2994652569304325]}],\n",
       "                        {\"template\": {\"data\": {\"bar\": [{\"error_x\": {\"color\": \"#2a3f5f\"}, \"error_y\": {\"color\": \"#2a3f5f\"}, \"marker\": {\"line\": {\"color\": \"#E5ECF6\", \"width\": 0.5}}, \"type\": \"bar\"}], \"barpolar\": [{\"marker\": {\"line\": {\"color\": \"#E5ECF6\", \"width\": 0.5}}, \"type\": \"barpolar\"}], \"carpet\": [{\"aaxis\": {\"endlinecolor\": \"#2a3f5f\", \"gridcolor\": \"white\", \"linecolor\": \"white\", \"minorgridcolor\": \"white\", \"startlinecolor\": \"#2a3f5f\"}, \"baxis\": {\"endlinecolor\": \"#2a3f5f\", \"gridcolor\": \"white\", \"linecolor\": \"white\", \"minorgridcolor\": \"white\", \"startlinecolor\": \"#2a3f5f\"}, \"type\": \"carpet\"}], \"choropleth\": [{\"colorbar\": {\"outlinewidth\": 0, \"ticks\": \"\"}, \"type\": \"choropleth\"}], \"contour\": [{\"colorbar\": {\"outlinewidth\": 0, \"ticks\": \"\"}, \"colorscale\": [[0.0, \"#0d0887\"], [0.1111111111111111, \"#46039f\"], [0.2222222222222222, \"#7201a8\"], [0.3333333333333333, \"#9c179e\"], [0.4444444444444444, \"#bd3786\"], [0.5555555555555556, \"#d8576b\"], [0.6666666666666666, \"#ed7953\"], [0.7777777777777778, \"#fb9f3a\"], [0.8888888888888888, \"#fdca26\"], [1.0, \"#f0f921\"]], \"type\": \"contour\"}], \"contourcarpet\": [{\"colorbar\": {\"outlinewidth\": 0, \"ticks\": \"\"}, \"type\": \"contourcarpet\"}], \"heatmap\": [{\"colorbar\": {\"outlinewidth\": 0, \"ticks\": \"\"}, \"colorscale\": [[0.0, \"#0d0887\"], [0.1111111111111111, \"#46039f\"], [0.2222222222222222, \"#7201a8\"], [0.3333333333333333, \"#9c179e\"], [0.4444444444444444, \"#bd3786\"], [0.5555555555555556, \"#d8576b\"], [0.6666666666666666, \"#ed7953\"], [0.7777777777777778, \"#fb9f3a\"], [0.8888888888888888, \"#fdca26\"], [1.0, \"#f0f921\"]], \"type\": \"heatmap\"}], \"heatmapgl\": [{\"colorbar\": {\"outlinewidth\": 0, \"ticks\": \"\"}, \"colorscale\": [[0.0, \"#0d0887\"], [0.1111111111111111, \"#46039f\"], [0.2222222222222222, \"#7201a8\"], [0.3333333333333333, \"#9c179e\"], [0.4444444444444444, \"#bd3786\"], [0.5555555555555556, \"#d8576b\"], [0.6666666666666666, \"#ed7953\"], [0.7777777777777778, \"#fb9f3a\"], [0.8888888888888888, \"#fdca26\"], [1.0, \"#f0f921\"]], \"type\": \"heatmapgl\"}], \"histogram\": [{\"marker\": {\"colorbar\": {\"outlinewidth\": 0, \"ticks\": \"\"}}, \"type\": \"histogram\"}], \"histogram2d\": [{\"colorbar\": {\"outlinewidth\": 0, \"ticks\": \"\"}, \"colorscale\": [[0.0, \"#0d0887\"], [0.1111111111111111, \"#46039f\"], [0.2222222222222222, \"#7201a8\"], [0.3333333333333333, \"#9c179e\"], [0.4444444444444444, \"#bd3786\"], [0.5555555555555556, \"#d8576b\"], [0.6666666666666666, \"#ed7953\"], [0.7777777777777778, \"#fb9f3a\"], [0.8888888888888888, \"#fdca26\"], [1.0, \"#f0f921\"]], \"type\": \"histogram2d\"}], \"histogram2dcontour\": [{\"colorbar\": {\"outlinewidth\": 0, \"ticks\": \"\"}, \"colorscale\": [[0.0, \"#0d0887\"], [0.1111111111111111, \"#46039f\"], [0.2222222222222222, \"#7201a8\"], [0.3333333333333333, \"#9c179e\"], [0.4444444444444444, \"#bd3786\"], [0.5555555555555556, \"#d8576b\"], [0.6666666666666666, \"#ed7953\"], [0.7777777777777778, \"#fb9f3a\"], [0.8888888888888888, \"#fdca26\"], [1.0, \"#f0f921\"]], \"type\": \"histogram2dcontour\"}], \"mesh3d\": [{\"colorbar\": {\"outlinewidth\": 0, \"ticks\": \"\"}, \"type\": \"mesh3d\"}], \"parcoords\": [{\"line\": {\"colorbar\": {\"outlinewidth\": 0, \"ticks\": \"\"}}, \"type\": \"parcoords\"}], \"scatter\": [{\"marker\": {\"colorbar\": {\"outlinewidth\": 0, \"ticks\": \"\"}}, \"type\": \"scatter\"}], \"scatter3d\": [{\"line\": {\"colorbar\": {\"outlinewidth\": 0, \"ticks\": \"\"}}, \"marker\": {\"colorbar\": {\"outlinewidth\": 0, \"ticks\": \"\"}}, \"type\": \"scatter3d\"}], \"scattercarpet\": [{\"marker\": {\"colorbar\": {\"outlinewidth\": 0, \"ticks\": \"\"}}, \"type\": \"scattercarpet\"}], \"scattergeo\": [{\"marker\": {\"colorbar\": {\"outlinewidth\": 0, \"ticks\": \"\"}}, \"type\": \"scattergeo\"}], \"scattergl\": [{\"marker\": {\"colorbar\": {\"outlinewidth\": 0, \"ticks\": \"\"}}, \"type\": \"scattergl\"}], \"scattermapbox\": [{\"marker\": {\"colorbar\": {\"outlinewidth\": 0, \"ticks\": \"\"}}, \"type\": \"scattermapbox\"}], \"scatterpolar\": [{\"marker\": {\"colorbar\": {\"outlinewidth\": 0, \"ticks\": \"\"}}, \"type\": \"scatterpolar\"}], \"scatterpolargl\": [{\"marker\": {\"colorbar\": {\"outlinewidth\": 0, \"ticks\": \"\"}}, \"type\": \"scatterpolargl\"}], \"scatterternary\": [{\"marker\": {\"colorbar\": {\"outlinewidth\": 0, \"ticks\": \"\"}}, \"type\": \"scatterternary\"}], \"surface\": [{\"colorbar\": {\"outlinewidth\": 0, \"ticks\": \"\"}, \"colorscale\": [[0.0, \"#0d0887\"], [0.1111111111111111, \"#46039f\"], [0.2222222222222222, \"#7201a8\"], [0.3333333333333333, \"#9c179e\"], [0.4444444444444444, \"#bd3786\"], [0.5555555555555556, \"#d8576b\"], [0.6666666666666666, \"#ed7953\"], [0.7777777777777778, \"#fb9f3a\"], [0.8888888888888888, \"#fdca26\"], [1.0, \"#f0f921\"]], \"type\": \"surface\"}], \"table\": [{\"cells\": {\"fill\": {\"color\": \"#EBF0F8\"}, \"line\": {\"color\": \"white\"}}, \"header\": {\"fill\": {\"color\": \"#C8D4E3\"}, \"line\": {\"color\": \"white\"}}, \"type\": \"table\"}]}, \"layout\": {\"annotationdefaults\": {\"arrowcolor\": \"#2a3f5f\", \"arrowhead\": 0, \"arrowwidth\": 1}, \"colorscale\": {\"diverging\": [[0, \"#8e0152\"], [0.1, \"#c51b7d\"], [0.2, \"#de77ae\"], [0.3, \"#f1b6da\"], [0.4, \"#fde0ef\"], [0.5, \"#f7f7f7\"], [0.6, \"#e6f5d0\"], [0.7, \"#b8e186\"], [0.8, \"#7fbc41\"], [0.9, \"#4d9221\"], [1, \"#276419\"]], \"sequential\": [[0.0, \"#0d0887\"], [0.1111111111111111, \"#46039f\"], [0.2222222222222222, \"#7201a8\"], [0.3333333333333333, \"#9c179e\"], [0.4444444444444444, \"#bd3786\"], [0.5555555555555556, \"#d8576b\"], [0.6666666666666666, \"#ed7953\"], [0.7777777777777778, \"#fb9f3a\"], [0.8888888888888888, \"#fdca26\"], [1.0, \"#f0f921\"]], \"sequentialminus\": [[0.0, \"#0d0887\"], [0.1111111111111111, \"#46039f\"], [0.2222222222222222, \"#7201a8\"], [0.3333333333333333, \"#9c179e\"], [0.4444444444444444, \"#bd3786\"], [0.5555555555555556, \"#d8576b\"], [0.6666666666666666, \"#ed7953\"], [0.7777777777777778, \"#fb9f3a\"], [0.8888888888888888, \"#fdca26\"], [1.0, \"#f0f921\"]]}, \"colorway\": [\"#636efa\", \"#EF553B\", \"#00cc96\", \"#ab63fa\", \"#FFA15A\", \"#19d3f3\", \"#FF6692\", \"#B6E880\", \"#FF97FF\", \"#FECB52\"], \"font\": {\"color\": \"#2a3f5f\"}, \"geo\": {\"bgcolor\": \"white\", \"lakecolor\": \"white\", \"landcolor\": \"#E5ECF6\", \"showlakes\": true, \"showland\": true, \"subunitcolor\": \"white\"}, \"hoverlabel\": {\"align\": \"left\"}, \"hovermode\": \"closest\", \"mapbox\": {\"style\": \"light\"}, \"paper_bgcolor\": \"white\", \"plot_bgcolor\": \"#E5ECF6\", \"polar\": {\"angularaxis\": {\"gridcolor\": \"white\", \"linecolor\": \"white\", \"ticks\": \"\"}, \"bgcolor\": \"#E5ECF6\", \"radialaxis\": {\"gridcolor\": \"white\", \"linecolor\": \"white\", \"ticks\": \"\"}}, \"scene\": {\"xaxis\": {\"backgroundcolor\": \"#E5ECF6\", \"gridcolor\": \"white\", \"gridwidth\": 2, \"linecolor\": \"white\", \"showbackground\": true, \"ticks\": \"\", \"zerolinecolor\": \"white\"}, \"yaxis\": {\"backgroundcolor\": \"#E5ECF6\", \"gridcolor\": \"white\", \"gridwidth\": 2, \"linecolor\": \"white\", \"showbackground\": true, \"ticks\": \"\", \"zerolinecolor\": \"white\"}, \"zaxis\": {\"backgroundcolor\": \"#E5ECF6\", \"gridcolor\": \"white\", \"gridwidth\": 2, \"linecolor\": \"white\", \"showbackground\": true, \"ticks\": \"\", \"zerolinecolor\": \"white\"}}, \"shapedefaults\": {\"line\": {\"color\": \"#2a3f5f\"}}, \"ternary\": {\"aaxis\": {\"gridcolor\": \"white\", \"linecolor\": \"white\", \"ticks\": \"\"}, \"baxis\": {\"gridcolor\": \"white\", \"linecolor\": \"white\", \"ticks\": \"\"}, \"bgcolor\": \"#E5ECF6\", \"caxis\": {\"gridcolor\": \"white\", \"linecolor\": \"white\", \"ticks\": \"\"}}, \"title\": {\"x\": 0.05}, \"xaxis\": {\"automargin\": true, \"gridcolor\": \"white\", \"linecolor\": \"white\", \"ticks\": \"\", \"zerolinecolor\": \"white\", \"zerolinewidth\": 2}, \"yaxis\": {\"automargin\": true, \"gridcolor\": \"white\", \"linecolor\": \"white\", \"ticks\": \"\", \"zerolinecolor\": \"white\", \"zerolinewidth\": 2}}}, \"title\": {\"text\": \"Feature importance\"}, \"xaxis\": {\"title\": {\"text\": \"Feature\"}}, \"yaxis\": {\"title\": {\"text\": \"Importance\"}}},\n",
       "                        {\"responsive\": true}\n",
       "                    ).then(function(){\n",
       "                            \n",
       "var gd = document.getElementById('fcdf5d38-b478-4971-b57e-f005980c065b');\n",
       "var x = new MutationObserver(function (mutations, observer) {{\n",
       "        var display = window.getComputedStyle(gd).display;\n",
       "        if (!display || display === 'none') {{\n",
       "            console.log([gd, 'removed!']);\n",
       "            Plotly.purge(gd);\n",
       "            observer.disconnect();\n",
       "        }}\n",
       "}});\n",
       "\n",
       "// Listen for the removal of the full notebook cells\n",
       "var notebookContainer = gd.closest('#notebook-container');\n",
       "if (notebookContainer) {{\n",
       "    x.observe(notebookContainer, {childList: true});\n",
       "}}\n",
       "\n",
       "// Listen for the clearing of the current output cell\n",
       "var outputEl = gd.closest('.output');\n",
       "if (outputEl) {{\n",
       "    x.observe(outputEl, {childList: true});\n",
       "}}\n",
       "\n",
       "                        })\n",
       "                };\n",
       "                });\n",
       "            </script>\n",
       "        </div>"
      ]
     },
     "metadata": {},
     "output_type": "display_data"
    }
   ],
   "source": [
    "\n",
    "trace0=go.Bar(\n",
    "        y=importance_df.coefficients,\n",
    "        x=importance_df.features,\n",
    "        \n",
    "        marker=dict(\n",
    "        color=\"blue\",\n",
    "\n",
    "        opacity=0.5\n",
    "        ),\n",
    "       \n",
    "    )\n",
    "\n",
    "\n",
    "\n",
    "\n",
    "\n",
    "\n",
    "\n",
    "\n",
    "data=[trace0]\n",
    "figure=go.Figure(\n",
    "    data=data,\n",
    "    layout=go.Layout(\n",
    "        title=\"Feature importance\",\n",
    "        yaxis=dict(title=\"Importance\"),\n",
    "        xaxis=dict(title=\"Feature\")\n",
    "\n",
    "    \n",
    "    ))\n",
    "iplot(figure)"
   ]
  },
  {
   "cell_type": "markdown",
   "metadata": {},
   "source": [
    "Elastic net, with higher ratio of l2 regularizaiton, allows to automatically limit features only to the most important ones, with the other feature coefficient changed to 0. Using this regularization allowed to decrease number of features included in regression from 28 to 8. In next section, we will check if these features are also statistically significant. \n",
    "\n",
    "The obove graph called \"Feature importance\" is a representation of importances as the features have been scalled to have similar numerical values. However this approach is not 100% correct from statistical point of view and its sole purpose is to visualise, which features should have largest effect on price.\n",
    "\n",
    "Using domain knowledge, we can see that Feature importances are in line with actual price drivers with Age and Mileage lowering the price significantly and Power or 4x4 drive increaseing the price. "
   ]
  },
  {
   "cell_type": "markdown",
   "metadata": {},
   "source": [
    "## Coefficients interpretation with WLS model"
   ]
  },
  {
   "cell_type": "code",
   "execution_count": 92,
   "metadata": {},
   "outputs": [],
   "source": [
    "import statsmodels.api as sm"
   ]
  },
  {
   "cell_type": "code",
   "execution_count": 93,
   "metadata": {},
   "outputs": [],
   "source": [
    "# Limiting features to ones selected using Elastic Net regression \n",
    "X_reg=X[importance_df.features.unique().tolist()]"
   ]
  },
  {
   "cell_type": "code",
   "execution_count": 94,
   "metadata": {},
   "outputs": [
    {
     "data": {
      "text/plain": [
       "Index(['Age', 'Mileage', 'Seria 3', 'Used', 'Kombi', '4x4', 'Automatyczna',\n",
       "       'Power'],\n",
       "      dtype='object')"
      ]
     },
     "execution_count": 94,
     "metadata": {},
     "output_type": "execute_result"
    }
   ],
   "source": [
    "X_reg.columns"
   ]
  },
  {
   "cell_type": "code",
   "execution_count": 95,
   "metadata": {},
   "outputs": [
    {
     "name": "stderr",
     "output_type": "stream",
     "text": [
      "E:\\Anaconda\\lib\\site-packages\\numpy\\core\\fromnumeric.py:2495: FutureWarning:\n",
      "\n",
      "Method .ptp is deprecated and will be removed in a future version. Use numpy.ptp instead.\n",
      "\n"
     ]
    }
   ],
   "source": [
    "X_reg=sm.add_constant(X_reg)"
   ]
  },
  {
   "cell_type": "code",
   "execution_count": 96,
   "metadata": {},
   "outputs": [],
   "source": [
    "# Selectin WLS model due to price Heteroscedasticity\n",
    "model = sm.WLS(y,X_reg)\n",
    "results = model.fit()"
   ]
  },
  {
   "cell_type": "code",
   "execution_count": 97,
   "metadata": {},
   "outputs": [
    {
     "data": {
      "text/html": [
       "<table class=\"simpletable\">\n",
       "<caption>WLS Regression Results</caption>\n",
       "<tr>\n",
       "  <th>Dep. Variable:</th>            <td>y</td>        <th>  R-squared:         </th> <td>   0.842</td>\n",
       "</tr>\n",
       "<tr>\n",
       "  <th>Model:</th>                   <td>WLS</td>       <th>  Adj. R-squared:    </th> <td>   0.841</td>\n",
       "</tr>\n",
       "<tr>\n",
       "  <th>Method:</th>             <td>Least Squares</td>  <th>  F-statistic:       </th> <td>   1093.</td>\n",
       "</tr>\n",
       "<tr>\n",
       "  <th>Date:</th>             <td>Sat, 18 Apr 2020</td> <th>  Prob (F-statistic):</th>  <td>  0.00</td> \n",
       "</tr>\n",
       "<tr>\n",
       "  <th>Time:</th>                 <td>16:07:13</td>     <th>  Log-Likelihood:    </th> <td> -999.02</td>\n",
       "</tr>\n",
       "<tr>\n",
       "  <th>No. Observations:</th>      <td>  1647</td>      <th>  AIC:               </th> <td>   2016.</td>\n",
       "</tr>\n",
       "<tr>\n",
       "  <th>Df Residuals:</th>          <td>  1638</td>      <th>  BIC:               </th> <td>   2065.</td>\n",
       "</tr>\n",
       "<tr>\n",
       "  <th>Df Model:</th>              <td>     8</td>      <th>                     </th>     <td> </td>   \n",
       "</tr>\n",
       "<tr>\n",
       "  <th>Covariance Type:</th>      <td>nonrobust</td>    <th>                     </th>     <td> </td>   \n",
       "</tr>\n",
       "</table>\n",
       "<table class=\"simpletable\">\n",
       "<tr>\n",
       "        <td></td>          <th>coef</th>     <th>std err</th>      <th>t</th>      <th>P>|t|</th>  <th>[0.025</th>    <th>0.975]</th>  \n",
       "</tr>\n",
       "<tr>\n",
       "  <th>const</th>        <td>    4.6280</td> <td>    0.044</td> <td>  104.029</td> <td> 0.000</td> <td>    4.541</td> <td>    4.715</td>\n",
       "</tr>\n",
       "<tr>\n",
       "  <th>Age</th>          <td>   -0.0857</td> <td>    0.003</td> <td>  -31.815</td> <td> 0.000</td> <td>   -0.091</td> <td>   -0.080</td>\n",
       "</tr>\n",
       "<tr>\n",
       "  <th>Mileage</th>      <td>   -0.1656</td> <td>    0.014</td> <td>  -11.476</td> <td> 0.000</td> <td>   -0.194</td> <td>   -0.137</td>\n",
       "</tr>\n",
       "<tr>\n",
       "  <th>Seria 3</th>      <td>   -0.1471</td> <td>    0.029</td> <td>   -5.111</td> <td> 0.000</td> <td>   -0.204</td> <td>   -0.091</td>\n",
       "</tr>\n",
       "<tr>\n",
       "  <th>Used</th>         <td>   -0.2273</td> <td>    0.036</td> <td>   -6.235</td> <td> 0.000</td> <td>   -0.299</td> <td>   -0.156</td>\n",
       "</tr>\n",
       "<tr>\n",
       "  <th>Kombi</th>        <td>   -0.1206</td> <td>    0.030</td> <td>   -4.078</td> <td> 0.000</td> <td>   -0.179</td> <td>   -0.063</td>\n",
       "</tr>\n",
       "<tr>\n",
       "  <th>4x4</th>          <td>    0.1948</td> <td>    0.026</td> <td>    7.509</td> <td> 0.000</td> <td>    0.144</td> <td>    0.246</td>\n",
       "</tr>\n",
       "<tr>\n",
       "  <th>Automatyczna</th> <td>    0.2863</td> <td>    0.031</td> <td>    9.093</td> <td> 0.000</td> <td>    0.225</td> <td>    0.348</td>\n",
       "</tr>\n",
       "<tr>\n",
       "  <th>Power</th>        <td>    0.3276</td> <td>    0.014</td> <td>   23.879</td> <td> 0.000</td> <td>    0.301</td> <td>    0.354</td>\n",
       "</tr>\n",
       "</table>\n",
       "<table class=\"simpletable\">\n",
       "<tr>\n",
       "  <th>Omnibus:</th>       <td>414.952</td> <th>  Durbin-Watson:     </th> <td>   1.905</td> \n",
       "</tr>\n",
       "<tr>\n",
       "  <th>Prob(Omnibus):</th> <td> 0.000</td>  <th>  Jarque-Bera (JB):  </th> <td>26176.339</td>\n",
       "</tr>\n",
       "<tr>\n",
       "  <th>Skew:</th>          <td>-0.068</td>  <th>  Prob(JB):          </th> <td>    0.00</td> \n",
       "</tr>\n",
       "<tr>\n",
       "  <th>Kurtosis:</th>      <td>22.530</td>  <th>  Cond. No.          </th> <td>    51.2</td> \n",
       "</tr>\n",
       "</table><br/><br/>Warnings:<br/>[1] Standard Errors assume that the covariance matrix of the errors is correctly specified."
      ],
      "text/plain": [
       "<class 'statsmodels.iolib.summary.Summary'>\n",
       "\"\"\"\n",
       "                            WLS Regression Results                            \n",
       "==============================================================================\n",
       "Dep. Variable:                      y   R-squared:                       0.842\n",
       "Model:                            WLS   Adj. R-squared:                  0.841\n",
       "Method:                 Least Squares   F-statistic:                     1093.\n",
       "Date:                Sat, 18 Apr 2020   Prob (F-statistic):               0.00\n",
       "Time:                        16:07:13   Log-Likelihood:                -999.02\n",
       "No. Observations:                1647   AIC:                             2016.\n",
       "Df Residuals:                    1638   BIC:                             2065.\n",
       "Df Model:                           8                                         \n",
       "Covariance Type:            nonrobust                                         \n",
       "================================================================================\n",
       "                   coef    std err          t      P>|t|      [0.025      0.975]\n",
       "--------------------------------------------------------------------------------\n",
       "const            4.6280      0.044    104.029      0.000       4.541       4.715\n",
       "Age             -0.0857      0.003    -31.815      0.000      -0.091      -0.080\n",
       "Mileage         -0.1656      0.014    -11.476      0.000      -0.194      -0.137\n",
       "Seria 3         -0.1471      0.029     -5.111      0.000      -0.204      -0.091\n",
       "Used            -0.2273      0.036     -6.235      0.000      -0.299      -0.156\n",
       "Kombi           -0.1206      0.030     -4.078      0.000      -0.179      -0.063\n",
       "4x4              0.1948      0.026      7.509      0.000       0.144       0.246\n",
       "Automatyczna     0.2863      0.031      9.093      0.000       0.225       0.348\n",
       "Power            0.3276      0.014     23.879      0.000       0.301       0.354\n",
       "==============================================================================\n",
       "Omnibus:                      414.952   Durbin-Watson:                   1.905\n",
       "Prob(Omnibus):                  0.000   Jarque-Bera (JB):            26176.339\n",
       "Skew:                          -0.068   Prob(JB):                         0.00\n",
       "Kurtosis:                      22.530   Cond. No.                         51.2\n",
       "==============================================================================\n",
       "\n",
       "Warnings:\n",
       "[1] Standard Errors assume that the covariance matrix of the errors is correctly specified.\n",
       "\"\"\""
      ]
     },
     "execution_count": 97,
     "metadata": {},
     "output_type": "execute_result"
    }
   ],
   "source": [
    "results.summary()"
   ]
  },
  {
   "cell_type": "code",
   "execution_count": 98,
   "metadata": {},
   "outputs": [
    {
     "data": {
      "text/plain": [
       "const           True\n",
       "Age             True\n",
       "Mileage         True\n",
       "Seria 3         True\n",
       "Used            True\n",
       "Kombi           True\n",
       "4x4             True\n",
       "Automatyczna    True\n",
       "Power           True\n",
       "dtype: bool"
      ]
     },
     "execution_count": 98,
     "metadata": {},
     "output_type": "execute_result"
    }
   ],
   "source": [
    "# Checking if selected features are statistically significant \n",
    "alpha=0.05\n",
    "results.pvalues<alpha"
   ]
  },
  {
   "cell_type": "code",
   "execution_count": 99,
   "metadata": {},
   "outputs": [],
   "source": [
    "df_coeff=pd.DataFrame(results.params.index[1:],columns=[\"feature\"])\n",
    "df_coeff[\"ceoff_value\"]=results.params.values[1:]\n",
    "df_coeff.sort_values(by=\"ceoff_value\",inplace=True)"
   ]
  },
  {
   "cell_type": "code",
   "execution_count": 100,
   "metadata": {},
   "outputs": [
    {
     "data": {
      "application/vnd.plotly.v1+json": {
       "config": {
        "linkText": "Export to plot.ly",
        "plotlyServerURL": "https://plot.ly",
        "showLink": false
       },
       "data": [
        {
         "marker": {
          "color": "blue",
          "opacity": 0.5
         },
         "type": "bar",
         "x": [
          "Used",
          "Mileage",
          "Seria 3",
          "Kombi",
          "Age",
          "4x4",
          "Automatyczna",
          "Power"
         ],
         "y": [
          -0.2273052785985918,
          -0.1656467956939956,
          -0.14708563151900136,
          -0.1206265762962155,
          -0.08567555432886724,
          0.1947528277993321,
          0.28631284490609615,
          0.3275535203522576
         ]
        }
       ],
       "layout": {
        "template": {
         "data": {
          "bar": [
           {
            "error_x": {
             "color": "#2a3f5f"
            },
            "error_y": {
             "color": "#2a3f5f"
            },
            "marker": {
             "line": {
              "color": "#E5ECF6",
              "width": 0.5
             }
            },
            "type": "bar"
           }
          ],
          "barpolar": [
           {
            "marker": {
             "line": {
              "color": "#E5ECF6",
              "width": 0.5
             }
            },
            "type": "barpolar"
           }
          ],
          "carpet": [
           {
            "aaxis": {
             "endlinecolor": "#2a3f5f",
             "gridcolor": "white",
             "linecolor": "white",
             "minorgridcolor": "white",
             "startlinecolor": "#2a3f5f"
            },
            "baxis": {
             "endlinecolor": "#2a3f5f",
             "gridcolor": "white",
             "linecolor": "white",
             "minorgridcolor": "white",
             "startlinecolor": "#2a3f5f"
            },
            "type": "carpet"
           }
          ],
          "choropleth": [
           {
            "colorbar": {
             "outlinewidth": 0,
             "ticks": ""
            },
            "type": "choropleth"
           }
          ],
          "contour": [
           {
            "colorbar": {
             "outlinewidth": 0,
             "ticks": ""
            },
            "colorscale": [
             [
              0,
              "#0d0887"
             ],
             [
              0.1111111111111111,
              "#46039f"
             ],
             [
              0.2222222222222222,
              "#7201a8"
             ],
             [
              0.3333333333333333,
              "#9c179e"
             ],
             [
              0.4444444444444444,
              "#bd3786"
             ],
             [
              0.5555555555555556,
              "#d8576b"
             ],
             [
              0.6666666666666666,
              "#ed7953"
             ],
             [
              0.7777777777777778,
              "#fb9f3a"
             ],
             [
              0.8888888888888888,
              "#fdca26"
             ],
             [
              1,
              "#f0f921"
             ]
            ],
            "type": "contour"
           }
          ],
          "contourcarpet": [
           {
            "colorbar": {
             "outlinewidth": 0,
             "ticks": ""
            },
            "type": "contourcarpet"
           }
          ],
          "heatmap": [
           {
            "colorbar": {
             "outlinewidth": 0,
             "ticks": ""
            },
            "colorscale": [
             [
              0,
              "#0d0887"
             ],
             [
              0.1111111111111111,
              "#46039f"
             ],
             [
              0.2222222222222222,
              "#7201a8"
             ],
             [
              0.3333333333333333,
              "#9c179e"
             ],
             [
              0.4444444444444444,
              "#bd3786"
             ],
             [
              0.5555555555555556,
              "#d8576b"
             ],
             [
              0.6666666666666666,
              "#ed7953"
             ],
             [
              0.7777777777777778,
              "#fb9f3a"
             ],
             [
              0.8888888888888888,
              "#fdca26"
             ],
             [
              1,
              "#f0f921"
             ]
            ],
            "type": "heatmap"
           }
          ],
          "heatmapgl": [
           {
            "colorbar": {
             "outlinewidth": 0,
             "ticks": ""
            },
            "colorscale": [
             [
              0,
              "#0d0887"
             ],
             [
              0.1111111111111111,
              "#46039f"
             ],
             [
              0.2222222222222222,
              "#7201a8"
             ],
             [
              0.3333333333333333,
              "#9c179e"
             ],
             [
              0.4444444444444444,
              "#bd3786"
             ],
             [
              0.5555555555555556,
              "#d8576b"
             ],
             [
              0.6666666666666666,
              "#ed7953"
             ],
             [
              0.7777777777777778,
              "#fb9f3a"
             ],
             [
              0.8888888888888888,
              "#fdca26"
             ],
             [
              1,
              "#f0f921"
             ]
            ],
            "type": "heatmapgl"
           }
          ],
          "histogram": [
           {
            "marker": {
             "colorbar": {
              "outlinewidth": 0,
              "ticks": ""
             }
            },
            "type": "histogram"
           }
          ],
          "histogram2d": [
           {
            "colorbar": {
             "outlinewidth": 0,
             "ticks": ""
            },
            "colorscale": [
             [
              0,
              "#0d0887"
             ],
             [
              0.1111111111111111,
              "#46039f"
             ],
             [
              0.2222222222222222,
              "#7201a8"
             ],
             [
              0.3333333333333333,
              "#9c179e"
             ],
             [
              0.4444444444444444,
              "#bd3786"
             ],
             [
              0.5555555555555556,
              "#d8576b"
             ],
             [
              0.6666666666666666,
              "#ed7953"
             ],
             [
              0.7777777777777778,
              "#fb9f3a"
             ],
             [
              0.8888888888888888,
              "#fdca26"
             ],
             [
              1,
              "#f0f921"
             ]
            ],
            "type": "histogram2d"
           }
          ],
          "histogram2dcontour": [
           {
            "colorbar": {
             "outlinewidth": 0,
             "ticks": ""
            },
            "colorscale": [
             [
              0,
              "#0d0887"
             ],
             [
              0.1111111111111111,
              "#46039f"
             ],
             [
              0.2222222222222222,
              "#7201a8"
             ],
             [
              0.3333333333333333,
              "#9c179e"
             ],
             [
              0.4444444444444444,
              "#bd3786"
             ],
             [
              0.5555555555555556,
              "#d8576b"
             ],
             [
              0.6666666666666666,
              "#ed7953"
             ],
             [
              0.7777777777777778,
              "#fb9f3a"
             ],
             [
              0.8888888888888888,
              "#fdca26"
             ],
             [
              1,
              "#f0f921"
             ]
            ],
            "type": "histogram2dcontour"
           }
          ],
          "mesh3d": [
           {
            "colorbar": {
             "outlinewidth": 0,
             "ticks": ""
            },
            "type": "mesh3d"
           }
          ],
          "parcoords": [
           {
            "line": {
             "colorbar": {
              "outlinewidth": 0,
              "ticks": ""
             }
            },
            "type": "parcoords"
           }
          ],
          "scatter": [
           {
            "marker": {
             "colorbar": {
              "outlinewidth": 0,
              "ticks": ""
             }
            },
            "type": "scatter"
           }
          ],
          "scatter3d": [
           {
            "line": {
             "colorbar": {
              "outlinewidth": 0,
              "ticks": ""
             }
            },
            "marker": {
             "colorbar": {
              "outlinewidth": 0,
              "ticks": ""
             }
            },
            "type": "scatter3d"
           }
          ],
          "scattercarpet": [
           {
            "marker": {
             "colorbar": {
              "outlinewidth": 0,
              "ticks": ""
             }
            },
            "type": "scattercarpet"
           }
          ],
          "scattergeo": [
           {
            "marker": {
             "colorbar": {
              "outlinewidth": 0,
              "ticks": ""
             }
            },
            "type": "scattergeo"
           }
          ],
          "scattergl": [
           {
            "marker": {
             "colorbar": {
              "outlinewidth": 0,
              "ticks": ""
             }
            },
            "type": "scattergl"
           }
          ],
          "scattermapbox": [
           {
            "marker": {
             "colorbar": {
              "outlinewidth": 0,
              "ticks": ""
             }
            },
            "type": "scattermapbox"
           }
          ],
          "scatterpolar": [
           {
            "marker": {
             "colorbar": {
              "outlinewidth": 0,
              "ticks": ""
             }
            },
            "type": "scatterpolar"
           }
          ],
          "scatterpolargl": [
           {
            "marker": {
             "colorbar": {
              "outlinewidth": 0,
              "ticks": ""
             }
            },
            "type": "scatterpolargl"
           }
          ],
          "scatterternary": [
           {
            "marker": {
             "colorbar": {
              "outlinewidth": 0,
              "ticks": ""
             }
            },
            "type": "scatterternary"
           }
          ],
          "surface": [
           {
            "colorbar": {
             "outlinewidth": 0,
             "ticks": ""
            },
            "colorscale": [
             [
              0,
              "#0d0887"
             ],
             [
              0.1111111111111111,
              "#46039f"
             ],
             [
              0.2222222222222222,
              "#7201a8"
             ],
             [
              0.3333333333333333,
              "#9c179e"
             ],
             [
              0.4444444444444444,
              "#bd3786"
             ],
             [
              0.5555555555555556,
              "#d8576b"
             ],
             [
              0.6666666666666666,
              "#ed7953"
             ],
             [
              0.7777777777777778,
              "#fb9f3a"
             ],
             [
              0.8888888888888888,
              "#fdca26"
             ],
             [
              1,
              "#f0f921"
             ]
            ],
            "type": "surface"
           }
          ],
          "table": [
           {
            "cells": {
             "fill": {
              "color": "#EBF0F8"
             },
             "line": {
              "color": "white"
             }
            },
            "header": {
             "fill": {
              "color": "#C8D4E3"
             },
             "line": {
              "color": "white"
             }
            },
            "type": "table"
           }
          ]
         },
         "layout": {
          "annotationdefaults": {
           "arrowcolor": "#2a3f5f",
           "arrowhead": 0,
           "arrowwidth": 1
          },
          "colorscale": {
           "diverging": [
            [
             0,
             "#8e0152"
            ],
            [
             0.1,
             "#c51b7d"
            ],
            [
             0.2,
             "#de77ae"
            ],
            [
             0.3,
             "#f1b6da"
            ],
            [
             0.4,
             "#fde0ef"
            ],
            [
             0.5,
             "#f7f7f7"
            ],
            [
             0.6,
             "#e6f5d0"
            ],
            [
             0.7,
             "#b8e186"
            ],
            [
             0.8,
             "#7fbc41"
            ],
            [
             0.9,
             "#4d9221"
            ],
            [
             1,
             "#276419"
            ]
           ],
           "sequential": [
            [
             0,
             "#0d0887"
            ],
            [
             0.1111111111111111,
             "#46039f"
            ],
            [
             0.2222222222222222,
             "#7201a8"
            ],
            [
             0.3333333333333333,
             "#9c179e"
            ],
            [
             0.4444444444444444,
             "#bd3786"
            ],
            [
             0.5555555555555556,
             "#d8576b"
            ],
            [
             0.6666666666666666,
             "#ed7953"
            ],
            [
             0.7777777777777778,
             "#fb9f3a"
            ],
            [
             0.8888888888888888,
             "#fdca26"
            ],
            [
             1,
             "#f0f921"
            ]
           ],
           "sequentialminus": [
            [
             0,
             "#0d0887"
            ],
            [
             0.1111111111111111,
             "#46039f"
            ],
            [
             0.2222222222222222,
             "#7201a8"
            ],
            [
             0.3333333333333333,
             "#9c179e"
            ],
            [
             0.4444444444444444,
             "#bd3786"
            ],
            [
             0.5555555555555556,
             "#d8576b"
            ],
            [
             0.6666666666666666,
             "#ed7953"
            ],
            [
             0.7777777777777778,
             "#fb9f3a"
            ],
            [
             0.8888888888888888,
             "#fdca26"
            ],
            [
             1,
             "#f0f921"
            ]
           ]
          },
          "colorway": [
           "#636efa",
           "#EF553B",
           "#00cc96",
           "#ab63fa",
           "#FFA15A",
           "#19d3f3",
           "#FF6692",
           "#B6E880",
           "#FF97FF",
           "#FECB52"
          ],
          "font": {
           "color": "#2a3f5f"
          },
          "geo": {
           "bgcolor": "white",
           "lakecolor": "white",
           "landcolor": "#E5ECF6",
           "showlakes": true,
           "showland": true,
           "subunitcolor": "white"
          },
          "hoverlabel": {
           "align": "left"
          },
          "hovermode": "closest",
          "mapbox": {
           "style": "light"
          },
          "paper_bgcolor": "white",
          "plot_bgcolor": "#E5ECF6",
          "polar": {
           "angularaxis": {
            "gridcolor": "white",
            "linecolor": "white",
            "ticks": ""
           },
           "bgcolor": "#E5ECF6",
           "radialaxis": {
            "gridcolor": "white",
            "linecolor": "white",
            "ticks": ""
           }
          },
          "scene": {
           "xaxis": {
            "backgroundcolor": "#E5ECF6",
            "gridcolor": "white",
            "gridwidth": 2,
            "linecolor": "white",
            "showbackground": true,
            "ticks": "",
            "zerolinecolor": "white"
           },
           "yaxis": {
            "backgroundcolor": "#E5ECF6",
            "gridcolor": "white",
            "gridwidth": 2,
            "linecolor": "white",
            "showbackground": true,
            "ticks": "",
            "zerolinecolor": "white"
           },
           "zaxis": {
            "backgroundcolor": "#E5ECF6",
            "gridcolor": "white",
            "gridwidth": 2,
            "linecolor": "white",
            "showbackground": true,
            "ticks": "",
            "zerolinecolor": "white"
           }
          },
          "shapedefaults": {
           "line": {
            "color": "#2a3f5f"
           }
          },
          "ternary": {
           "aaxis": {
            "gridcolor": "white",
            "linecolor": "white",
            "ticks": ""
           },
           "baxis": {
            "gridcolor": "white",
            "linecolor": "white",
            "ticks": ""
           },
           "bgcolor": "#E5ECF6",
           "caxis": {
            "gridcolor": "white",
            "linecolor": "white",
            "ticks": ""
           }
          },
          "title": {
           "x": 0.05
          },
          "xaxis": {
           "automargin": true,
           "gridcolor": "white",
           "linecolor": "white",
           "ticks": "",
           "zerolinecolor": "white",
           "zerolinewidth": 2
          },
          "yaxis": {
           "automargin": true,
           "gridcolor": "white",
           "linecolor": "white",
           "ticks": "",
           "zerolinecolor": "white",
           "zerolinewidth": 2
          }
         }
        },
        "title": {
         "text": "Linear Regression coefficients"
        },
        "xaxis": {
         "title": {
          "text": "Features"
         }
        },
        "yaxis": {
         "title": {
          "text": "Coefficients"
         }
        }
       }
      },
      "text/html": [
       "<div>\n",
       "        \n",
       "        \n",
       "            <div id=\"27502eb7-0d95-4004-854a-5d7ea188e050\" class=\"plotly-graph-div\" style=\"height:525px; width:100%;\"></div>\n",
       "            <script type=\"text/javascript\">\n",
       "                require([\"plotly\"], function(Plotly) {\n",
       "                    window.PLOTLYENV=window.PLOTLYENV || {};\n",
       "                    \n",
       "                if (document.getElementById(\"27502eb7-0d95-4004-854a-5d7ea188e050\")) {\n",
       "                    Plotly.newPlot(\n",
       "                        '27502eb7-0d95-4004-854a-5d7ea188e050',\n",
       "                        [{\"marker\": {\"color\": \"blue\", \"opacity\": 0.5}, \"type\": \"bar\", \"x\": [\"Used\", \"Mileage\", \"Seria 3\", \"Kombi\", \"Age\", \"4x4\", \"Automatyczna\", \"Power\"], \"y\": [-0.2273052785985918, -0.1656467956939956, -0.14708563151900136, -0.1206265762962155, -0.08567555432886724, 0.1947528277993321, 0.28631284490609615, 0.3275535203522576]}],\n",
       "                        {\"template\": {\"data\": {\"bar\": [{\"error_x\": {\"color\": \"#2a3f5f\"}, \"error_y\": {\"color\": \"#2a3f5f\"}, \"marker\": {\"line\": {\"color\": \"#E5ECF6\", \"width\": 0.5}}, \"type\": \"bar\"}], \"barpolar\": [{\"marker\": {\"line\": {\"color\": \"#E5ECF6\", \"width\": 0.5}}, \"type\": \"barpolar\"}], \"carpet\": [{\"aaxis\": {\"endlinecolor\": \"#2a3f5f\", \"gridcolor\": \"white\", \"linecolor\": \"white\", \"minorgridcolor\": \"white\", \"startlinecolor\": \"#2a3f5f\"}, \"baxis\": {\"endlinecolor\": \"#2a3f5f\", \"gridcolor\": \"white\", \"linecolor\": \"white\", \"minorgridcolor\": \"white\", \"startlinecolor\": \"#2a3f5f\"}, \"type\": \"carpet\"}], \"choropleth\": [{\"colorbar\": {\"outlinewidth\": 0, \"ticks\": \"\"}, \"type\": \"choropleth\"}], \"contour\": [{\"colorbar\": {\"outlinewidth\": 0, \"ticks\": \"\"}, \"colorscale\": [[0.0, \"#0d0887\"], [0.1111111111111111, \"#46039f\"], [0.2222222222222222, \"#7201a8\"], [0.3333333333333333, \"#9c179e\"], [0.4444444444444444, \"#bd3786\"], [0.5555555555555556, \"#d8576b\"], [0.6666666666666666, \"#ed7953\"], [0.7777777777777778, \"#fb9f3a\"], [0.8888888888888888, \"#fdca26\"], [1.0, \"#f0f921\"]], \"type\": \"contour\"}], \"contourcarpet\": [{\"colorbar\": {\"outlinewidth\": 0, \"ticks\": \"\"}, \"type\": \"contourcarpet\"}], \"heatmap\": [{\"colorbar\": {\"outlinewidth\": 0, \"ticks\": \"\"}, \"colorscale\": [[0.0, \"#0d0887\"], [0.1111111111111111, \"#46039f\"], [0.2222222222222222, \"#7201a8\"], [0.3333333333333333, \"#9c179e\"], [0.4444444444444444, \"#bd3786\"], [0.5555555555555556, \"#d8576b\"], [0.6666666666666666, \"#ed7953\"], [0.7777777777777778, \"#fb9f3a\"], [0.8888888888888888, \"#fdca26\"], [1.0, \"#f0f921\"]], \"type\": \"heatmap\"}], \"heatmapgl\": [{\"colorbar\": {\"outlinewidth\": 0, \"ticks\": \"\"}, \"colorscale\": [[0.0, \"#0d0887\"], [0.1111111111111111, \"#46039f\"], [0.2222222222222222, \"#7201a8\"], [0.3333333333333333, \"#9c179e\"], [0.4444444444444444, \"#bd3786\"], [0.5555555555555556, \"#d8576b\"], [0.6666666666666666, \"#ed7953\"], [0.7777777777777778, \"#fb9f3a\"], [0.8888888888888888, \"#fdca26\"], [1.0, \"#f0f921\"]], \"type\": \"heatmapgl\"}], \"histogram\": [{\"marker\": {\"colorbar\": {\"outlinewidth\": 0, \"ticks\": \"\"}}, \"type\": \"histogram\"}], \"histogram2d\": [{\"colorbar\": {\"outlinewidth\": 0, \"ticks\": \"\"}, \"colorscale\": [[0.0, \"#0d0887\"], [0.1111111111111111, \"#46039f\"], [0.2222222222222222, \"#7201a8\"], [0.3333333333333333, \"#9c179e\"], [0.4444444444444444, \"#bd3786\"], [0.5555555555555556, \"#d8576b\"], [0.6666666666666666, \"#ed7953\"], [0.7777777777777778, \"#fb9f3a\"], [0.8888888888888888, \"#fdca26\"], [1.0, \"#f0f921\"]], \"type\": \"histogram2d\"}], \"histogram2dcontour\": [{\"colorbar\": {\"outlinewidth\": 0, \"ticks\": \"\"}, \"colorscale\": [[0.0, \"#0d0887\"], [0.1111111111111111, \"#46039f\"], [0.2222222222222222, \"#7201a8\"], [0.3333333333333333, \"#9c179e\"], [0.4444444444444444, \"#bd3786\"], [0.5555555555555556, \"#d8576b\"], [0.6666666666666666, \"#ed7953\"], [0.7777777777777778, \"#fb9f3a\"], [0.8888888888888888, \"#fdca26\"], [1.0, \"#f0f921\"]], \"type\": \"histogram2dcontour\"}], \"mesh3d\": [{\"colorbar\": {\"outlinewidth\": 0, \"ticks\": \"\"}, \"type\": \"mesh3d\"}], \"parcoords\": [{\"line\": {\"colorbar\": {\"outlinewidth\": 0, \"ticks\": \"\"}}, \"type\": \"parcoords\"}], \"scatter\": [{\"marker\": {\"colorbar\": {\"outlinewidth\": 0, \"ticks\": \"\"}}, \"type\": \"scatter\"}], \"scatter3d\": [{\"line\": {\"colorbar\": {\"outlinewidth\": 0, \"ticks\": \"\"}}, \"marker\": {\"colorbar\": {\"outlinewidth\": 0, \"ticks\": \"\"}}, \"type\": \"scatter3d\"}], \"scattercarpet\": [{\"marker\": {\"colorbar\": {\"outlinewidth\": 0, \"ticks\": \"\"}}, \"type\": \"scattercarpet\"}], \"scattergeo\": [{\"marker\": {\"colorbar\": {\"outlinewidth\": 0, \"ticks\": \"\"}}, \"type\": \"scattergeo\"}], \"scattergl\": [{\"marker\": {\"colorbar\": {\"outlinewidth\": 0, \"ticks\": \"\"}}, \"type\": \"scattergl\"}], \"scattermapbox\": [{\"marker\": {\"colorbar\": {\"outlinewidth\": 0, \"ticks\": \"\"}}, \"type\": \"scattermapbox\"}], \"scatterpolar\": [{\"marker\": {\"colorbar\": {\"outlinewidth\": 0, \"ticks\": \"\"}}, \"type\": \"scatterpolar\"}], \"scatterpolargl\": [{\"marker\": {\"colorbar\": {\"outlinewidth\": 0, \"ticks\": \"\"}}, \"type\": \"scatterpolargl\"}], \"scatterternary\": [{\"marker\": {\"colorbar\": {\"outlinewidth\": 0, \"ticks\": \"\"}}, \"type\": \"scatterternary\"}], \"surface\": [{\"colorbar\": {\"outlinewidth\": 0, \"ticks\": \"\"}, \"colorscale\": [[0.0, \"#0d0887\"], [0.1111111111111111, \"#46039f\"], [0.2222222222222222, \"#7201a8\"], [0.3333333333333333, \"#9c179e\"], [0.4444444444444444, \"#bd3786\"], [0.5555555555555556, \"#d8576b\"], [0.6666666666666666, \"#ed7953\"], [0.7777777777777778, \"#fb9f3a\"], [0.8888888888888888, \"#fdca26\"], [1.0, \"#f0f921\"]], \"type\": \"surface\"}], \"table\": [{\"cells\": {\"fill\": {\"color\": \"#EBF0F8\"}, \"line\": {\"color\": \"white\"}}, \"header\": {\"fill\": {\"color\": \"#C8D4E3\"}, \"line\": {\"color\": \"white\"}}, \"type\": \"table\"}]}, \"layout\": {\"annotationdefaults\": {\"arrowcolor\": \"#2a3f5f\", \"arrowhead\": 0, \"arrowwidth\": 1}, \"colorscale\": {\"diverging\": [[0, \"#8e0152\"], [0.1, \"#c51b7d\"], [0.2, \"#de77ae\"], [0.3, \"#f1b6da\"], [0.4, \"#fde0ef\"], [0.5, \"#f7f7f7\"], [0.6, \"#e6f5d0\"], [0.7, \"#b8e186\"], [0.8, \"#7fbc41\"], [0.9, \"#4d9221\"], [1, \"#276419\"]], \"sequential\": [[0.0, \"#0d0887\"], [0.1111111111111111, \"#46039f\"], [0.2222222222222222, \"#7201a8\"], [0.3333333333333333, \"#9c179e\"], [0.4444444444444444, \"#bd3786\"], [0.5555555555555556, \"#d8576b\"], [0.6666666666666666, \"#ed7953\"], [0.7777777777777778, \"#fb9f3a\"], [0.8888888888888888, \"#fdca26\"], [1.0, \"#f0f921\"]], \"sequentialminus\": [[0.0, \"#0d0887\"], [0.1111111111111111, \"#46039f\"], [0.2222222222222222, \"#7201a8\"], [0.3333333333333333, \"#9c179e\"], [0.4444444444444444, \"#bd3786\"], [0.5555555555555556, \"#d8576b\"], [0.6666666666666666, \"#ed7953\"], [0.7777777777777778, \"#fb9f3a\"], [0.8888888888888888, \"#fdca26\"], [1.0, \"#f0f921\"]]}, \"colorway\": [\"#636efa\", \"#EF553B\", \"#00cc96\", \"#ab63fa\", \"#FFA15A\", \"#19d3f3\", \"#FF6692\", \"#B6E880\", \"#FF97FF\", \"#FECB52\"], \"font\": {\"color\": \"#2a3f5f\"}, \"geo\": {\"bgcolor\": \"white\", \"lakecolor\": \"white\", \"landcolor\": \"#E5ECF6\", \"showlakes\": true, \"showland\": true, \"subunitcolor\": \"white\"}, \"hoverlabel\": {\"align\": \"left\"}, \"hovermode\": \"closest\", \"mapbox\": {\"style\": \"light\"}, \"paper_bgcolor\": \"white\", \"plot_bgcolor\": \"#E5ECF6\", \"polar\": {\"angularaxis\": {\"gridcolor\": \"white\", \"linecolor\": \"white\", \"ticks\": \"\"}, \"bgcolor\": \"#E5ECF6\", \"radialaxis\": {\"gridcolor\": \"white\", \"linecolor\": \"white\", \"ticks\": \"\"}}, \"scene\": {\"xaxis\": {\"backgroundcolor\": \"#E5ECF6\", \"gridcolor\": \"white\", \"gridwidth\": 2, \"linecolor\": \"white\", \"showbackground\": true, \"ticks\": \"\", \"zerolinecolor\": \"white\"}, \"yaxis\": {\"backgroundcolor\": \"#E5ECF6\", \"gridcolor\": \"white\", \"gridwidth\": 2, \"linecolor\": \"white\", \"showbackground\": true, \"ticks\": \"\", \"zerolinecolor\": \"white\"}, \"zaxis\": {\"backgroundcolor\": \"#E5ECF6\", \"gridcolor\": \"white\", \"gridwidth\": 2, \"linecolor\": \"white\", \"showbackground\": true, \"ticks\": \"\", \"zerolinecolor\": \"white\"}}, \"shapedefaults\": {\"line\": {\"color\": \"#2a3f5f\"}}, \"ternary\": {\"aaxis\": {\"gridcolor\": \"white\", \"linecolor\": \"white\", \"ticks\": \"\"}, \"baxis\": {\"gridcolor\": \"white\", \"linecolor\": \"white\", \"ticks\": \"\"}, \"bgcolor\": \"#E5ECF6\", \"caxis\": {\"gridcolor\": \"white\", \"linecolor\": \"white\", \"ticks\": \"\"}}, \"title\": {\"x\": 0.05}, \"xaxis\": {\"automargin\": true, \"gridcolor\": \"white\", \"linecolor\": \"white\", \"ticks\": \"\", \"zerolinecolor\": \"white\", \"zerolinewidth\": 2}, \"yaxis\": {\"automargin\": true, \"gridcolor\": \"white\", \"linecolor\": \"white\", \"ticks\": \"\", \"zerolinecolor\": \"white\", \"zerolinewidth\": 2}}}, \"title\": {\"text\": \"Linear Regression coefficients\"}, \"xaxis\": {\"title\": {\"text\": \"Features\"}}, \"yaxis\": {\"title\": {\"text\": \"Coefficients\"}}},\n",
       "                        {\"responsive\": true}\n",
       "                    ).then(function(){\n",
       "                            \n",
       "var gd = document.getElementById('27502eb7-0d95-4004-854a-5d7ea188e050');\n",
       "var x = new MutationObserver(function (mutations, observer) {{\n",
       "        var display = window.getComputedStyle(gd).display;\n",
       "        if (!display || display === 'none') {{\n",
       "            console.log([gd, 'removed!']);\n",
       "            Plotly.purge(gd);\n",
       "            observer.disconnect();\n",
       "        }}\n",
       "}});\n",
       "\n",
       "// Listen for the removal of the full notebook cells\n",
       "var notebookContainer = gd.closest('#notebook-container');\n",
       "if (notebookContainer) {{\n",
       "    x.observe(notebookContainer, {childList: true});\n",
       "}}\n",
       "\n",
       "// Listen for the clearing of the current output cell\n",
       "var outputEl = gd.closest('.output');\n",
       "if (outputEl) {{\n",
       "    x.observe(outputEl, {childList: true});\n",
       "}}\n",
       "\n",
       "                        })\n",
       "                };\n",
       "                });\n",
       "            </script>\n",
       "        </div>"
      ]
     },
     "metadata": {},
     "output_type": "display_data"
    }
   ],
   "source": [
    "\n",
    "trace0=go.Bar(\n",
    "        y=df_coeff.ceoff_value,\n",
    "        x=df_coeff.feature,\n",
    "        \n",
    "        marker=dict(\n",
    "        color=\"blue\",\n",
    "\n",
    "        opacity=0.5\n",
    "        ),\n",
    "       \n",
    "    )\n",
    "\n",
    "\n",
    "\n",
    "\n",
    "\n",
    "\n",
    "\n",
    "\n",
    "data=[trace0]\n",
    "figure=go.Figure(\n",
    "    data=data,\n",
    "    layout=go.Layout(\n",
    "        title=\"Linear Regression coefficients\",\n",
    "        yaxis=dict(title=\"Coefficients\"),\n",
    "        xaxis=dict(title=\"Features\")\n",
    "\n",
    "    \n",
    "    ))\n",
    "iplot(figure)"
   ]
  },
  {
   "cell_type": "markdown",
   "metadata": {},
   "source": [
    "Linear regression using standard data without normalization are easier to interpret. Using log(price) as described variable means that each of these coefficients can be interpreted as % value increasing or decreasing price. "
   ]
  },
  {
   "cell_type": "code",
   "execution_count": 101,
   "metadata": {},
   "outputs": [
    {
     "data": {
      "text/plain": [
       "102.31261130527633"
      ]
     },
     "execution_count": 101,
     "metadata": {},
     "output_type": "execute_result"
    }
   ],
   "source": [
    "base_price=np.exp(results.params[0])\n",
    "base_price"
   ]
  },
  {
   "cell_type": "markdown",
   "metadata": {},
   "source": [
    "The constant (after reversing log with exp function) can be interpreted as the average price for a base car, withour additional features (all features set to 0). This would represent a new car, with 0 km Mileage, with Petrol engine and 100 kW bhp. The value around 100 k PLN is close to actual values. \n",
    "\n",
    "How can we interpret each coefficients? \n",
    " - Used coefficient = -0.22, suggests that a BMW car looses 22% of starting value once leaving the dealership\n",
    " - Mileage coefficient = -0.16, can be interpreted as car loosing 16% of starting value for every 100k driven\n",
    " - Serie 3 coefficient = -0.14, suggests that Serie 3 is 14% cheaper than other model with similar configuration. \n",
    "Similar logic should probably apply to Serie 1 as it is also the bottom range model, but as its sample size was smaller it was not chosen as significant feature. \n",
    " - Positive coefficients of Power and 4x4 drive mean that including these features in a new model make it more expensive.\n",
    " - 0.28 coefficient for Automatic Gearbox is slightly confusing, as chosing Automatic Gearbox do not increase base value by 28%. However Automatic Gearbox are usually fitted to better equiped models, this feature can accomodate this fact. "
   ]
  },
  {
   "cell_type": "markdown",
   "metadata": {},
   "source": [
    "## Sanity check of model interpretation"
   ]
  },
  {
   "cell_type": "markdown",
   "metadata": {},
   "source": [
    "Let's test what price would the model predict for a new 200 kW car with Automatic Gearbox "
   ]
  },
  {
   "cell_type": "code",
   "execution_count": 105,
   "metadata": {},
   "outputs": [
    {
     "name": "stdout",
     "output_type": "stream",
     "text": [
      "Estimated car price: 189k PLN\n"
     ]
    }
   ],
   "source": [
    "coeffs=results.params\n",
    "log_price=coeffs.loc[\"const\"]+coeffs[\"Power\"]*1+coeffs[\"Automatyczna\"]\n",
    "print(\"Estimated car price: {:.0f}k PLN\".format(np.exp(log_price)))"
   ]
  },
  {
   "cell_type": "markdown",
   "metadata": {},
   "source": [
    "What would be the estimated price for a same used car after 3 years and 60k mileage "
   ]
  },
  {
   "cell_type": "code",
   "execution_count": 106,
   "metadata": {},
   "outputs": [
    {
     "name": "stdout",
     "output_type": "stream",
     "text": [
      "Estimated car price: 105k PLN\n"
     ]
    }
   ],
   "source": [
    "log_price=coeffs.loc[\"const\"]+coeffs[\"Power\"]*1+coeffs[\"Automatyczna\"]+coeffs[\"Age\"]*3+0.6*coeffs[\"Mileage\"]+coeffs[\"Used\"]\n",
    "print(\"Estimated car price: {:.0f}k PLN\".format(np.exp(log_price)))"
   ]
  },
  {
   "cell_type": "markdown",
   "metadata": {},
   "source": [
    "Model suggests price decrease of around 40%, which is similar to deprecation shown on Deprecation graph in chapter 5.2. This sanity check shows, that this simple linear regression model is quite effective at predicting model price based on its key features, while beeing easy to interpret. As the data was not split to test and train samples, this model is used mainly as a way of describing given dataset and might not generalize well.\n",
    "\n",
    "A more sophisticated model, might be even better at forecasting price decrease. It would however require a bigger sample size for effective training. Building a more sophisticated model will be the next step of this project but requires scraping the web for a longer time to increase dataset size. \n",
    "\n"
   ]
  },
  {
   "cell_type": "code",
   "execution_count": null,
   "metadata": {},
   "outputs": [],
   "source": []
  },
  {
   "cell_type": "code",
   "execution_count": null,
   "metadata": {},
   "outputs": [],
   "source": []
  }
 ],
 "metadata": {
  "kernelspec": {
   "display_name": "Python 3",
   "language": "python",
   "name": "python3"
  },
  "language_info": {
   "codemirror_mode": {
    "name": "ipython",
    "version": 3
   },
   "file_extension": ".py",
   "mimetype": "text/x-python",
   "name": "python",
   "nbconvert_exporter": "python",
   "pygments_lexer": "ipython3",
   "version": "3.7.3"
  },
  "toc": {
   "base_numbering": 1,
   "nav_menu": {},
   "number_sections": true,
   "sideBar": true,
   "skip_h1_title": false,
   "title_cell": "Table of Contents",
   "title_sidebar": "Contents",
   "toc_cell": true,
   "toc_position": {
    "height": "calc(100% - 180px)",
    "left": "10px",
    "top": "150px",
    "width": "329px"
   },
   "toc_section_display": true,
   "toc_window_display": true
  }
 },
 "nbformat": 4,
 "nbformat_minor": 2
}
