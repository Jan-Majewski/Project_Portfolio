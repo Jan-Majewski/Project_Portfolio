{
 "cells": [
  {
   "cell_type": "markdown",
   "metadata": {
    "toc": true
   },
   "source": [
    "<h1>Table of Contents<span class=\"tocSkip\"></span></h1>\n",
    "<div class=\"toc\"><ul class=\"toc-item\"><li><span><a href=\"#Data-import-and-preparation\" data-toc-modified-id=\"Data-import-and-preparation-1\"><span class=\"toc-item-num\">1&nbsp;&nbsp;</span>Data import and preparation</a></span><ul class=\"toc-item\"><li><span><a href=\"#Translating-column-names-to-English\" data-toc-modified-id=\"Translating-column-names-to-English-1.1\"><span class=\"toc-item-num\">1.1&nbsp;&nbsp;</span>Translating column names to English</a></span></li></ul></li><li><span><a href=\"#Data-transformation-and-Feature-engineering\" data-toc-modified-id=\"Data-transformation-and-Feature-engineering-2\"><span class=\"toc-item-num\">2&nbsp;&nbsp;</span>Data transformation and Feature engineering</a></span><ul class=\"toc-item\"><li><span><a href=\"#Creating-default-flag\" data-toc-modified-id=\"Creating-default-flag-2.1\"><span class=\"toc-item-num\">2.1&nbsp;&nbsp;</span>Creating default flag</a></span></li><li><span><a href=\"#Calculating-key-KPIs\" data-toc-modified-id=\"Calculating-key-KPIs-2.2\"><span class=\"toc-item-num\">2.2&nbsp;&nbsp;</span>Calculating key KPIs</a></span></li><li><span><a href=\"#Outputing-data-for-further-modeling\" data-toc-modified-id=\"Outputing-data-for-further-modeling-2.3\"><span class=\"toc-item-num\">2.3&nbsp;&nbsp;</span>Outputing data for further modeling</a></span></li></ul></li></ul></div>"
   ]
  },
  {
   "cell_type": "code",
   "execution_count": 1,
   "metadata": {},
   "outputs": [],
   "source": [
    "import pandas as pd\n",
    "import numpy as np\n",
    "import random as random\n",
    "\n",
    "# plotly standard imports\n",
    "from datetime import datetime\n",
    "from datetime import timedelta  "
   ]
  },
  {
   "cell_type": "code",
   "execution_count": 2,
   "metadata": {},
   "outputs": [],
   "source": [
    "%matplotlib inline\n",
    "import matplotlib as mpl\n",
    "import matplotlib.pyplot as plt\n",
    "mpl.rc('axes', labelsize=14)\n",
    "mpl.rc('xtick', labelsize=12)\n",
    "mpl.rc('ytick', labelsize=12)"
   ]
  },
  {
   "cell_type": "code",
   "execution_count": 3,
   "metadata": {},
   "outputs": [],
   "source": [
    "import tensorflow as tf\n",
    "from tensorflow import keras"
   ]
  },
  {
   "cell_type": "code",
   "execution_count": 4,
   "metadata": {},
   "outputs": [
    {
     "data": {
      "text/html": [
       "        <script type=\"text/javascript\">\n",
       "        window.PlotlyConfig = {MathJaxConfig: 'local'};\n",
       "        if (window.MathJax) {MathJax.Hub.Config({SVG: {font: \"STIX-Web\"}});}\n",
       "        if (typeof require !== 'undefined') {\n",
       "        require.undef(\"plotly\");\n",
       "        requirejs.config({\n",
       "            paths: {\n",
       "                'plotly': ['https://cdn.plot.ly/plotly-latest.min']\n",
       "            }\n",
       "        });\n",
       "        require(['plotly'], function(Plotly) {\n",
       "            window._Plotly = Plotly;\n",
       "        });\n",
       "        }\n",
       "        </script>\n",
       "        "
      ]
     },
     "metadata": {},
     "output_type": "display_data"
    }
   ],
   "source": [
    "import cufflinks\n",
    "from IPython.core.interactiveshell import InteractiveShell\n",
    "InteractiveShell.ast_node_interactivity = 'all'\n",
    "\n",
    "from plotly.offline import iplot\n",
    "cufflinks.go_offline()\n",
    "\n",
    "# Set global theme\n",
    "cufflinks.set_config_file(world_readable=True, theme='pearl')\n",
    "import plotly.figure_factory as ff\n",
    "\n",
    "\n",
    "import plotly.express as px\n",
    "import plotly.graph_objs as go\n",
    "import chart_studio.plotly as py"
   ]
  },
  {
   "cell_type": "markdown",
   "metadata": {},
   "source": [
    "# Data import and preparation"
   ]
  },
  {
   "cell_type": "code",
   "execution_count": 5,
   "metadata": {},
   "outputs": [],
   "source": [
    "data_input=pd.read_excel(\"raw_data.xlsx\", sep=\";\")"
   ]
  },
  {
   "cell_type": "code",
   "execution_count": 6,
   "metadata": {},
   "outputs": [
    {
     "data": {
      "text/plain": [
       "Timestamp('2019-08-23 00:00:00')"
      ]
     },
     "execution_count": 6,
     "metadata": {},
     "output_type": "execute_result"
    }
   ],
   "source": [
    "dataset_downland_date=data_input.data_ts.max()\n",
    "dataset_downland_date"
   ]
  },
  {
   "cell_type": "code",
   "execution_count": 7,
   "metadata": {},
   "outputs": [
    {
     "data": {
      "text/plain": [
       "Index(['nrpożyczki', 'nr Klienta', 'płeć', 'wiek', 'spłacono dotychczas',\n",
       "       'data ostatniej spłaty', 'kwota pozyczki', 'sposob wyplaty',\n",
       "       'data wyplaty', ' Ilość rat', 'Pierwsza rata', 'kod pocztowy',\n",
       "       'miejscowosc', 'kapital', 'odsetki', 'prowizja',\n",
       "       'opłata administracyjna', 'oplata windykacyjne', 'inne', 'razem', 'DPD',\n",
       "       'Pierwsza rata.1', 'rata', 'Uknown1', 'czy odstąpienie',\n",
       "       'data odstapienia ', 'metoda podpisania umowy broker online', 'okres',\n",
       "       'kwota', 'data', 'yield', 'Day', 'Month', 'Year', 'data_ts'],\n",
       "      dtype='object')"
      ]
     },
     "execution_count": 7,
     "metadata": {},
     "output_type": "execute_result"
    }
   ],
   "source": [
    "data_input.columns"
   ]
  },
  {
   "cell_type": "code",
   "execution_count": 8,
   "metadata": {},
   "outputs": [
    {
     "data": {
      "text/html": [
       "<div>\n",
       "<style scoped>\n",
       "    .dataframe tbody tr th:only-of-type {\n",
       "        vertical-align: middle;\n",
       "    }\n",
       "\n",
       "    .dataframe tbody tr th {\n",
       "        vertical-align: top;\n",
       "    }\n",
       "\n",
       "    .dataframe thead th {\n",
       "        text-align: right;\n",
       "    }\n",
       "</style>\n",
       "<table border=\"1\" class=\"dataframe\">\n",
       "  <thead>\n",
       "    <tr style=\"text-align: right;\">\n",
       "      <th></th>\n",
       "      <th>nrpożyczki</th>\n",
       "      <th>nr Klienta</th>\n",
       "      <th>płeć</th>\n",
       "      <th>wiek</th>\n",
       "      <th>spłacono dotychczas</th>\n",
       "      <th>data ostatniej spłaty</th>\n",
       "      <th>kwota pozyczki</th>\n",
       "      <th>sposob wyplaty</th>\n",
       "      <th>data wyplaty</th>\n",
       "      <th>Ilość rat</th>\n",
       "      <th>...</th>\n",
       "      <th>data odstapienia</th>\n",
       "      <th>metoda podpisania umowy broker online</th>\n",
       "      <th>okres</th>\n",
       "      <th>kwota</th>\n",
       "      <th>data</th>\n",
       "      <th>yield</th>\n",
       "      <th>Day</th>\n",
       "      <th>Month</th>\n",
       "      <th>Year</th>\n",
       "      <th>data_ts</th>\n",
       "    </tr>\n",
       "  </thead>\n",
       "  <tbody>\n",
       "    <tr>\n",
       "      <th>0</th>\n",
       "      <td>20180524/QS/4829</td>\n",
       "      <td>19086</td>\n",
       "      <td>Mezczyzna</td>\n",
       "      <td>27</td>\n",
       "      <td>0.0</td>\n",
       "      <td>0</td>\n",
       "      <td>3000</td>\n",
       "      <td>Przelew bankowy</td>\n",
       "      <td>2018-05-25</td>\n",
       "      <td>24</td>\n",
       "      <td>...</td>\n",
       "      <td>NaT</td>\n",
       "      <td>broker</td>\n",
       "      <td>1</td>\n",
       "      <td>0.0</td>\n",
       "      <td>NaN</td>\n",
       "      <td>0.0</td>\n",
       "      <td>NaN</td>\n",
       "      <td>NaN</td>\n",
       "      <td>NaN</td>\n",
       "      <td>NaT</td>\n",
       "    </tr>\n",
       "    <tr>\n",
       "      <th>1</th>\n",
       "      <td>20180524/QS/4829</td>\n",
       "      <td>19086</td>\n",
       "      <td>Mezczyzna</td>\n",
       "      <td>27</td>\n",
       "      <td>0.0</td>\n",
       "      <td>0</td>\n",
       "      <td>3000</td>\n",
       "      <td>Przelew bankowy</td>\n",
       "      <td>2018-05-25</td>\n",
       "      <td>24</td>\n",
       "      <td>...</td>\n",
       "      <td>NaT</td>\n",
       "      <td>broker</td>\n",
       "      <td>2</td>\n",
       "      <td>0.0</td>\n",
       "      <td>NaN</td>\n",
       "      <td>0.0</td>\n",
       "      <td>NaN</td>\n",
       "      <td>NaN</td>\n",
       "      <td>NaN</td>\n",
       "      <td>NaT</td>\n",
       "    </tr>\n",
       "    <tr>\n",
       "      <th>2</th>\n",
       "      <td>20180524/QS/4829</td>\n",
       "      <td>19086</td>\n",
       "      <td>Mezczyzna</td>\n",
       "      <td>27</td>\n",
       "      <td>0.0</td>\n",
       "      <td>0</td>\n",
       "      <td>3000</td>\n",
       "      <td>Przelew bankowy</td>\n",
       "      <td>2018-05-25</td>\n",
       "      <td>24</td>\n",
       "      <td>...</td>\n",
       "      <td>NaT</td>\n",
       "      <td>broker</td>\n",
       "      <td>3</td>\n",
       "      <td>0.0</td>\n",
       "      <td>NaN</td>\n",
       "      <td>0.0</td>\n",
       "      <td>NaN</td>\n",
       "      <td>NaN</td>\n",
       "      <td>NaN</td>\n",
       "      <td>NaT</td>\n",
       "    </tr>\n",
       "    <tr>\n",
       "      <th>3</th>\n",
       "      <td>20180524/QS/4829</td>\n",
       "      <td>19086</td>\n",
       "      <td>Mezczyzna</td>\n",
       "      <td>27</td>\n",
       "      <td>0.0</td>\n",
       "      <td>0</td>\n",
       "      <td>3000</td>\n",
       "      <td>Przelew bankowy</td>\n",
       "      <td>2018-05-25</td>\n",
       "      <td>24</td>\n",
       "      <td>...</td>\n",
       "      <td>NaT</td>\n",
       "      <td>broker</td>\n",
       "      <td>4</td>\n",
       "      <td>0.0</td>\n",
       "      <td>NaN</td>\n",
       "      <td>0.0</td>\n",
       "      <td>NaN</td>\n",
       "      <td>NaN</td>\n",
       "      <td>NaN</td>\n",
       "      <td>NaT</td>\n",
       "    </tr>\n",
       "    <tr>\n",
       "      <th>4</th>\n",
       "      <td>20180524/QS/4829</td>\n",
       "      <td>19086</td>\n",
       "      <td>Mezczyzna</td>\n",
       "      <td>27</td>\n",
       "      <td>0.0</td>\n",
       "      <td>0</td>\n",
       "      <td>3000</td>\n",
       "      <td>Przelew bankowy</td>\n",
       "      <td>2018-05-25</td>\n",
       "      <td>24</td>\n",
       "      <td>...</td>\n",
       "      <td>NaT</td>\n",
       "      <td>broker</td>\n",
       "      <td>5</td>\n",
       "      <td>0.0</td>\n",
       "      <td>NaN</td>\n",
       "      <td>0.0</td>\n",
       "      <td>NaN</td>\n",
       "      <td>NaN</td>\n",
       "      <td>NaN</td>\n",
       "      <td>NaT</td>\n",
       "    </tr>\n",
       "    <tr>\n",
       "      <th>5</th>\n",
       "      <td>20180524/QS/4829</td>\n",
       "      <td>19086</td>\n",
       "      <td>Mezczyzna</td>\n",
       "      <td>27</td>\n",
       "      <td>0.0</td>\n",
       "      <td>0</td>\n",
       "      <td>3000</td>\n",
       "      <td>Przelew bankowy</td>\n",
       "      <td>2018-05-25</td>\n",
       "      <td>24</td>\n",
       "      <td>...</td>\n",
       "      <td>NaT</td>\n",
       "      <td>broker</td>\n",
       "      <td>6</td>\n",
       "      <td>0.0</td>\n",
       "      <td>NaN</td>\n",
       "      <td>0.0</td>\n",
       "      <td>NaN</td>\n",
       "      <td>NaN</td>\n",
       "      <td>NaN</td>\n",
       "      <td>NaT</td>\n",
       "    </tr>\n",
       "    <tr>\n",
       "      <th>6</th>\n",
       "      <td>20180524/QS/4829</td>\n",
       "      <td>19086</td>\n",
       "      <td>Mezczyzna</td>\n",
       "      <td>27</td>\n",
       "      <td>0.0</td>\n",
       "      <td>0</td>\n",
       "      <td>3000</td>\n",
       "      <td>Przelew bankowy</td>\n",
       "      <td>2018-05-25</td>\n",
       "      <td>24</td>\n",
       "      <td>...</td>\n",
       "      <td>NaT</td>\n",
       "      <td>broker</td>\n",
       "      <td>7</td>\n",
       "      <td>0.0</td>\n",
       "      <td>NaN</td>\n",
       "      <td>0.0</td>\n",
       "      <td>NaN</td>\n",
       "      <td>NaN</td>\n",
       "      <td>NaN</td>\n",
       "      <td>NaT</td>\n",
       "    </tr>\n",
       "    <tr>\n",
       "      <th>7</th>\n",
       "      <td>20180524/QS/4829</td>\n",
       "      <td>19086</td>\n",
       "      <td>Mezczyzna</td>\n",
       "      <td>27</td>\n",
       "      <td>0.0</td>\n",
       "      <td>0</td>\n",
       "      <td>3000</td>\n",
       "      <td>Przelew bankowy</td>\n",
       "      <td>2018-05-25</td>\n",
       "      <td>24</td>\n",
       "      <td>...</td>\n",
       "      <td>NaT</td>\n",
       "      <td>broker</td>\n",
       "      <td>8</td>\n",
       "      <td>0.0</td>\n",
       "      <td>NaN</td>\n",
       "      <td>0.0</td>\n",
       "      <td>NaN</td>\n",
       "      <td>NaN</td>\n",
       "      <td>NaN</td>\n",
       "      <td>NaT</td>\n",
       "    </tr>\n",
       "    <tr>\n",
       "      <th>8</th>\n",
       "      <td>20180524/QS/4829</td>\n",
       "      <td>19086</td>\n",
       "      <td>Mezczyzna</td>\n",
       "      <td>27</td>\n",
       "      <td>0.0</td>\n",
       "      <td>0</td>\n",
       "      <td>3000</td>\n",
       "      <td>Przelew bankowy</td>\n",
       "      <td>2018-05-25</td>\n",
       "      <td>24</td>\n",
       "      <td>...</td>\n",
       "      <td>NaT</td>\n",
       "      <td>broker</td>\n",
       "      <td>9</td>\n",
       "      <td>0.0</td>\n",
       "      <td>NaN</td>\n",
       "      <td>0.0</td>\n",
       "      <td>NaN</td>\n",
       "      <td>NaN</td>\n",
       "      <td>NaN</td>\n",
       "      <td>NaT</td>\n",
       "    </tr>\n",
       "    <tr>\n",
       "      <th>9</th>\n",
       "      <td>20180524/QS/4829</td>\n",
       "      <td>19086</td>\n",
       "      <td>Mezczyzna</td>\n",
       "      <td>27</td>\n",
       "      <td>0.0</td>\n",
       "      <td>0</td>\n",
       "      <td>3000</td>\n",
       "      <td>Przelew bankowy</td>\n",
       "      <td>2018-05-25</td>\n",
       "      <td>24</td>\n",
       "      <td>...</td>\n",
       "      <td>NaT</td>\n",
       "      <td>broker</td>\n",
       "      <td>10</td>\n",
       "      <td>0.0</td>\n",
       "      <td>NaN</td>\n",
       "      <td>0.0</td>\n",
       "      <td>NaN</td>\n",
       "      <td>NaN</td>\n",
       "      <td>NaN</td>\n",
       "      <td>NaT</td>\n",
       "    </tr>\n",
       "  </tbody>\n",
       "</table>\n",
       "<p>10 rows × 35 columns</p>\n",
       "</div>"
      ],
      "text/plain": [
       "         nrpożyczki  nr Klienta       płeć  wiek  spłacono dotychczas  \\\n",
       "0  20180524/QS/4829       19086  Mezczyzna    27                  0.0   \n",
       "1  20180524/QS/4829       19086  Mezczyzna    27                  0.0   \n",
       "2  20180524/QS/4829       19086  Mezczyzna    27                  0.0   \n",
       "3  20180524/QS/4829       19086  Mezczyzna    27                  0.0   \n",
       "4  20180524/QS/4829       19086  Mezczyzna    27                  0.0   \n",
       "5  20180524/QS/4829       19086  Mezczyzna    27                  0.0   \n",
       "6  20180524/QS/4829       19086  Mezczyzna    27                  0.0   \n",
       "7  20180524/QS/4829       19086  Mezczyzna    27                  0.0   \n",
       "8  20180524/QS/4829       19086  Mezczyzna    27                  0.0   \n",
       "9  20180524/QS/4829       19086  Mezczyzna    27                  0.0   \n",
       "\n",
       "  data ostatniej spłaty  kwota pozyczki   sposob wyplaty data wyplaty  \\\n",
       "0                     0            3000  Przelew bankowy   2018-05-25   \n",
       "1                     0            3000  Przelew bankowy   2018-05-25   \n",
       "2                     0            3000  Przelew bankowy   2018-05-25   \n",
       "3                     0            3000  Przelew bankowy   2018-05-25   \n",
       "4                     0            3000  Przelew bankowy   2018-05-25   \n",
       "5                     0            3000  Przelew bankowy   2018-05-25   \n",
       "6                     0            3000  Przelew bankowy   2018-05-25   \n",
       "7                     0            3000  Przelew bankowy   2018-05-25   \n",
       "8                     0            3000  Przelew bankowy   2018-05-25   \n",
       "9                     0            3000  Przelew bankowy   2018-05-25   \n",
       "\n",
       "    Ilość rat  ... data odstapienia  metoda podpisania umowy broker online  \\\n",
       "0          24  ...               NaT                                broker   \n",
       "1          24  ...               NaT                                broker   \n",
       "2          24  ...               NaT                                broker   \n",
       "3          24  ...               NaT                                broker   \n",
       "4          24  ...               NaT                                broker   \n",
       "5          24  ...               NaT                                broker   \n",
       "6          24  ...               NaT                                broker   \n",
       "7          24  ...               NaT                                broker   \n",
       "8          24  ...               NaT                                broker   \n",
       "9          24  ...               NaT                                broker   \n",
       "\n",
       "  okres  kwota  data  yield  Day Month  Year  data_ts  \n",
       "0     1    0.0   NaN    0.0  NaN   NaN   NaN      NaT  \n",
       "1     2    0.0   NaN    0.0  NaN   NaN   NaN      NaT  \n",
       "2     3    0.0   NaN    0.0  NaN   NaN   NaN      NaT  \n",
       "3     4    0.0   NaN    0.0  NaN   NaN   NaN      NaT  \n",
       "4     5    0.0   NaN    0.0  NaN   NaN   NaN      NaT  \n",
       "5     6    0.0   NaN    0.0  NaN   NaN   NaN      NaT  \n",
       "6     7    0.0   NaN    0.0  NaN   NaN   NaN      NaT  \n",
       "7     8    0.0   NaN    0.0  NaN   NaN   NaN      NaT  \n",
       "8     9    0.0   NaN    0.0  NaN   NaN   NaN      NaT  \n",
       "9    10    0.0   NaN    0.0  NaN   NaN   NaN      NaT  \n",
       "\n",
       "[10 rows x 35 columns]"
      ]
     },
     "execution_count": 8,
     "metadata": {},
     "output_type": "execute_result"
    }
   ],
   "source": [
    "data_input.head(10)"
   ]
  },
  {
   "cell_type": "code",
   "execution_count": 9,
   "metadata": {},
   "outputs": [],
   "source": [
    "data_input[\"data\"]= pd.to_datetime(data_input.data)\n",
    "data_input[\"data_wyplaty\"]= pd.to_datetime(data_input[\"data wyplaty\"])\n",
    "data_input['Pierwsza rata']= pd.to_datetime(data_input['Pierwsza rata'])\n",
    "data_input[\"initial_loan_value\"]=data_input.rata*data_input[' Ilość rat']"
   ]
  },
  {
   "cell_type": "code",
   "execution_count": 10,
   "metadata": {},
   "outputs": [],
   "source": [
    "features=['nrpożyczki', 'nr Klienta', 'płeć', 'wiek','kod pocztowy','sposob wyplaty',\n",
    "        'initial_loan_value',' Ilość rat',\"data_wyplaty\", 'Pierwsza rata','rata',  'okres',\n",
    "       'kwota', 'data_ts', 'yield']"
   ]
  },
  {
   "cell_type": "code",
   "execution_count": 11,
   "metadata": {},
   "outputs": [],
   "source": [
    "df=data_input[features]"
   ]
  },
  {
   "cell_type": "code",
   "execution_count": 12,
   "metadata": {},
   "outputs": [
    {
     "data": {
      "text/plain": [
       "Index(['nrpożyczki', 'nr Klienta', 'płeć', 'wiek', 'kod pocztowy',\n",
       "       'sposob wyplaty', 'initial_loan_value', ' Ilość rat', 'data_wyplaty',\n",
       "       'Pierwsza rata', 'rata', 'okres', 'kwota', 'data_ts', 'yield'],\n",
       "      dtype='object')"
      ]
     },
     "execution_count": 12,
     "metadata": {},
     "output_type": "execute_result"
    }
   ],
   "source": [
    "df.columns"
   ]
  },
  {
   "cell_type": "markdown",
   "metadata": {},
   "source": [
    "## Translating column names to English"
   ]
  },
  {
   "cell_type": "code",
   "execution_count": 13,
   "metadata": {},
   "outputs": [],
   "source": [
    "features_translate={\n",
    "    'nrpożyczki':'loan_ID',\n",
    "    'nr Klienta':\"client_ID\",\n",
    "    'sposob wyplaty':\"cash_payment\",\n",
    "    'okres':\"period\",\n",
    "    \"rata\":\"installment\",\n",
    "    'kod pocztowy':\"post_code\",\n",
    "    ' Ilość rat':\"installment_count\",\n",
    "    'Pierwsza rata':\"first_installment_date\",\n",
    "    'kwota':\"payment_value\",\n",
    "    \"data_ts\":\"payment_date\",\n",
    "    \"data_wyplaty\":\"payout_date\",\n",
    "    \"yield\":\"cumulated_payments\",\n",
    "    'płeć':\"sex\",\n",
    "    \"wiek\":\"age\",\n",
    "\n",
    "    \n",
    "\n",
    "\n",
    "}"
   ]
  },
  {
   "cell_type": "code",
   "execution_count": 14,
   "metadata": {},
   "outputs": [],
   "source": [
    "df.rename(columns=features_translate, inplace=True)"
   ]
  },
  {
   "cell_type": "code",
   "execution_count": 15,
   "metadata": {},
   "outputs": [],
   "source": [
    "df[\"sex\"]=np.where(df.sex==\"Kobieta\",\"Female\",\"Male\")"
   ]
  },
  {
   "cell_type": "code",
   "execution_count": 16,
   "metadata": {},
   "outputs": [
    {
     "data": {
      "text/plain": [
       "Index(['loan_ID', 'client_ID', 'sex', 'age', 'post_code', 'cash_payment',\n",
       "       'initial_loan_value', 'installment_count', 'payout_date',\n",
       "       'first_installment_date', 'installment', 'period', 'payment_value',\n",
       "       'payment_date', 'cumulated_payments'],\n",
       "      dtype='object')"
      ]
     },
     "execution_count": 16,
     "metadata": {},
     "output_type": "execute_result"
    }
   ],
   "source": [
    "df.columns"
   ]
  },
  {
   "cell_type": "markdown",
   "metadata": {},
   "source": [
    "# Data transformation and Feature engineering"
   ]
  },
  {
   "cell_type": "code",
   "execution_count": 17,
   "metadata": {},
   "outputs": [],
   "source": [
    "df[\"expected_payment_date\"]=df.first_installment_date"
   ]
  },
  {
   "cell_type": "code",
   "execution_count": 18,
   "metadata": {},
   "outputs": [],
   "source": [
    "import datetime\n",
    "for i in range(0,len(df)):\n",
    "    df[\"expected_payment_date\"][i]=df.first_installment_date[i]+pd.DateOffset(months=int(df.period[i])-1)\n"
   ]
  },
  {
   "cell_type": "code",
   "execution_count": 19,
   "metadata": {},
   "outputs": [],
   "source": [
    "df_grouped=df[(df.payment_date.isnull()==False)][['loan_ID','period',\"payment_date\",'cumulated_payments']].groupby('loan_ID').max()\n",
    "df_grouped.rename(columns={'period':\"last_payment_period\",\"payment_date\":\"last_payment_date\",'cumulated_payments':'max_cumulated_payments'}, inplace=True)\n",
    "df_grouped.reset_index(inplace=True)\n",
    "df=df.merge(df_grouped, on=\"loan_ID\")"
   ]
  },
  {
   "cell_type": "code",
   "execution_count": 20,
   "metadata": {},
   "outputs": [
    {
     "data": {
      "text/plain": [
       "Index(['loan_ID', 'client_ID', 'sex', 'age', 'post_code', 'cash_payment',\n",
       "       'initial_loan_value', 'installment_count', 'payout_date',\n",
       "       'first_installment_date', 'installment', 'period', 'payment_value',\n",
       "       'payment_date', 'cumulated_payments', 'expected_payment_date',\n",
       "       'last_payment_period', 'last_payment_date', 'max_cumulated_payments'],\n",
       "      dtype='object')"
      ]
     },
     "execution_count": 20,
     "metadata": {},
     "output_type": "execute_result"
    }
   ],
   "source": [
    "df.columns"
   ]
  },
  {
   "cell_type": "markdown",
   "metadata": {},
   "source": [
    "## Creating default flag"
   ]
  },
  {
   "cell_type": "markdown",
   "metadata": {},
   "source": [
    "Filling the next payment with 0s and predicted date to segment defaulting clients from clients expected to pay after dataset was downlanded"
   ]
  },
  {
   "cell_type": "code",
   "execution_count": 21,
   "metadata": {},
   "outputs": [],
   "source": [
    "df.payment_date=np.where(df.period==df.last_payment_period+1,\n",
    "                        df.last_payment_date+pd.DateOffset(months=2),\n",
    "                        df.payment_date)\n",
    "\n",
    "df.cumulated_payments=np.where(df.period==df.last_payment_period+1,\n",
    "                        df.max_cumulated_payments,\n",
    "                        df.cumulated_payments)\n",
    "\n",
    "df[\"cash_payment\"]=np.where(df.cash_payment=='Przelew bankowy',0,1)"
   ]
  },
  {
   "cell_type": "markdown",
   "metadata": {},
   "source": [
    "Removing empty entries (no dates) and payments expected in future - after dataset download date"
   ]
  },
  {
   "cell_type": "code",
   "execution_count": 22,
   "metadata": {},
   "outputs": [
    {
     "data": {
      "text/plain": [
       "(39029, 19)"
      ]
     },
     "execution_count": 22,
     "metadata": {},
     "output_type": "execute_result"
    }
   ],
   "source": [
    "df=df[(df.payment_date.isnull()==False)].sort_values(by=[\"loan_ID\",\"period\"])\n",
    "df.shape"
   ]
  },
  {
   "cell_type": "code",
   "execution_count": 23,
   "metadata": {},
   "outputs": [
    {
     "data": {
      "text/plain": [
       "(37311, 19)"
      ]
     },
     "execution_count": 23,
     "metadata": {},
     "output_type": "execute_result"
    }
   ],
   "source": [
    "df=df[df.payment_date<=dataset_downland_date]\n",
    "df.shape"
   ]
  },
  {
   "cell_type": "code",
   "execution_count": 24,
   "metadata": {},
   "outputs": [
    {
     "data": {
      "text/html": [
       "<div>\n",
       "<style scoped>\n",
       "    .dataframe tbody tr th:only-of-type {\n",
       "        vertical-align: middle;\n",
       "    }\n",
       "\n",
       "    .dataframe tbody tr th {\n",
       "        vertical-align: top;\n",
       "    }\n",
       "\n",
       "    .dataframe thead th {\n",
       "        text-align: right;\n",
       "    }\n",
       "</style>\n",
       "<table border=\"1\" class=\"dataframe\">\n",
       "  <thead>\n",
       "    <tr style=\"text-align: right;\">\n",
       "      <th></th>\n",
       "      <th>loan_ID</th>\n",
       "      <th>client_ID</th>\n",
       "      <th>sex</th>\n",
       "      <th>age</th>\n",
       "      <th>post_code</th>\n",
       "      <th>cash_payment</th>\n",
       "      <th>initial_loan_value</th>\n",
       "      <th>installment_count</th>\n",
       "      <th>payout_date</th>\n",
       "      <th>first_installment_date</th>\n",
       "      <th>installment</th>\n",
       "      <th>period</th>\n",
       "      <th>payment_value</th>\n",
       "      <th>payment_date</th>\n",
       "      <th>cumulated_payments</th>\n",
       "      <th>expected_payment_date</th>\n",
       "      <th>last_payment_period</th>\n",
       "      <th>last_payment_date</th>\n",
       "      <th>max_cumulated_payments</th>\n",
       "    </tr>\n",
       "  </thead>\n",
       "  <tbody>\n",
       "    <tr>\n",
       "      <th>46170</th>\n",
       "      <td>20170626/13</td>\n",
       "      <td>7</td>\n",
       "      <td>Female</td>\n",
       "      <td>57</td>\n",
       "      <td>41-200</td>\n",
       "      <td>0</td>\n",
       "      <td>5872.32</td>\n",
       "      <td>24</td>\n",
       "      <td>2017-06-26</td>\n",
       "      <td>2017-07-20</td>\n",
       "      <td>244.68</td>\n",
       "      <td>1</td>\n",
       "      <td>244.68</td>\n",
       "      <td>2017-07-19</td>\n",
       "      <td>244.68</td>\n",
       "      <td>2017-07-20</td>\n",
       "      <td>13</td>\n",
       "      <td>2018-07-27</td>\n",
       "      <td>3194.68</td>\n",
       "    </tr>\n",
       "    <tr>\n",
       "      <th>46171</th>\n",
       "      <td>20170626/13</td>\n",
       "      <td>7</td>\n",
       "      <td>Female</td>\n",
       "      <td>57</td>\n",
       "      <td>41-200</td>\n",
       "      <td>0</td>\n",
       "      <td>5872.32</td>\n",
       "      <td>24</td>\n",
       "      <td>2017-06-26</td>\n",
       "      <td>2017-07-20</td>\n",
       "      <td>244.68</td>\n",
       "      <td>2</td>\n",
       "      <td>245.00</td>\n",
       "      <td>2017-08-22</td>\n",
       "      <td>489.68</td>\n",
       "      <td>2017-08-20</td>\n",
       "      <td>13</td>\n",
       "      <td>2018-07-27</td>\n",
       "      <td>3194.68</td>\n",
       "    </tr>\n",
       "    <tr>\n",
       "      <th>46172</th>\n",
       "      <td>20170626/13</td>\n",
       "      <td>7</td>\n",
       "      <td>Female</td>\n",
       "      <td>57</td>\n",
       "      <td>41-200</td>\n",
       "      <td>0</td>\n",
       "      <td>5872.32</td>\n",
       "      <td>24</td>\n",
       "      <td>2017-06-26</td>\n",
       "      <td>2017-07-20</td>\n",
       "      <td>244.68</td>\n",
       "      <td>3</td>\n",
       "      <td>245.00</td>\n",
       "      <td>2017-09-18</td>\n",
       "      <td>734.68</td>\n",
       "      <td>2017-09-20</td>\n",
       "      <td>13</td>\n",
       "      <td>2018-07-27</td>\n",
       "      <td>3194.68</td>\n",
       "    </tr>\n",
       "    <tr>\n",
       "      <th>46173</th>\n",
       "      <td>20170626/13</td>\n",
       "      <td>7</td>\n",
       "      <td>Female</td>\n",
       "      <td>57</td>\n",
       "      <td>41-200</td>\n",
       "      <td>0</td>\n",
       "      <td>5872.32</td>\n",
       "      <td>24</td>\n",
       "      <td>2017-06-26</td>\n",
       "      <td>2017-07-20</td>\n",
       "      <td>244.68</td>\n",
       "      <td>4</td>\n",
       "      <td>245.00</td>\n",
       "      <td>2017-10-20</td>\n",
       "      <td>979.68</td>\n",
       "      <td>2017-10-20</td>\n",
       "      <td>13</td>\n",
       "      <td>2018-07-27</td>\n",
       "      <td>3194.68</td>\n",
       "    </tr>\n",
       "    <tr>\n",
       "      <th>46174</th>\n",
       "      <td>20170626/13</td>\n",
       "      <td>7</td>\n",
       "      <td>Female</td>\n",
       "      <td>57</td>\n",
       "      <td>41-200</td>\n",
       "      <td>0</td>\n",
       "      <td>5872.32</td>\n",
       "      <td>24</td>\n",
       "      <td>2017-06-26</td>\n",
       "      <td>2017-07-20</td>\n",
       "      <td>244.68</td>\n",
       "      <td>5</td>\n",
       "      <td>245.00</td>\n",
       "      <td>2017-11-17</td>\n",
       "      <td>1224.68</td>\n",
       "      <td>2017-11-20</td>\n",
       "      <td>13</td>\n",
       "      <td>2018-07-27</td>\n",
       "      <td>3194.68</td>\n",
       "    </tr>\n",
       "    <tr>\n",
       "      <th>46175</th>\n",
       "      <td>20170626/13</td>\n",
       "      <td>7</td>\n",
       "      <td>Female</td>\n",
       "      <td>57</td>\n",
       "      <td>41-200</td>\n",
       "      <td>0</td>\n",
       "      <td>5872.32</td>\n",
       "      <td>24</td>\n",
       "      <td>2017-06-26</td>\n",
       "      <td>2017-07-20</td>\n",
       "      <td>244.68</td>\n",
       "      <td>6</td>\n",
       "      <td>245.00</td>\n",
       "      <td>2017-12-20</td>\n",
       "      <td>1469.68</td>\n",
       "      <td>2017-12-20</td>\n",
       "      <td>13</td>\n",
       "      <td>2018-07-27</td>\n",
       "      <td>3194.68</td>\n",
       "    </tr>\n",
       "    <tr>\n",
       "      <th>46176</th>\n",
       "      <td>20170626/13</td>\n",
       "      <td>7</td>\n",
       "      <td>Female</td>\n",
       "      <td>57</td>\n",
       "      <td>41-200</td>\n",
       "      <td>0</td>\n",
       "      <td>5872.32</td>\n",
       "      <td>24</td>\n",
       "      <td>2017-06-26</td>\n",
       "      <td>2017-07-20</td>\n",
       "      <td>244.68</td>\n",
       "      <td>7</td>\n",
       "      <td>245.00</td>\n",
       "      <td>2018-01-22</td>\n",
       "      <td>1714.68</td>\n",
       "      <td>2018-01-20</td>\n",
       "      <td>13</td>\n",
       "      <td>2018-07-27</td>\n",
       "      <td>3194.68</td>\n",
       "    </tr>\n",
       "    <tr>\n",
       "      <th>46177</th>\n",
       "      <td>20170626/13</td>\n",
       "      <td>7</td>\n",
       "      <td>Female</td>\n",
       "      <td>57</td>\n",
       "      <td>41-200</td>\n",
       "      <td>0</td>\n",
       "      <td>5872.32</td>\n",
       "      <td>24</td>\n",
       "      <td>2017-06-26</td>\n",
       "      <td>2017-07-20</td>\n",
       "      <td>244.68</td>\n",
       "      <td>8</td>\n",
       "      <td>245.00</td>\n",
       "      <td>2018-02-20</td>\n",
       "      <td>1959.68</td>\n",
       "      <td>2018-02-20</td>\n",
       "      <td>13</td>\n",
       "      <td>2018-07-27</td>\n",
       "      <td>3194.68</td>\n",
       "    </tr>\n",
       "    <tr>\n",
       "      <th>46178</th>\n",
       "      <td>20170626/13</td>\n",
       "      <td>7</td>\n",
       "      <td>Female</td>\n",
       "      <td>57</td>\n",
       "      <td>41-200</td>\n",
       "      <td>0</td>\n",
       "      <td>5872.32</td>\n",
       "      <td>24</td>\n",
       "      <td>2017-06-26</td>\n",
       "      <td>2017-07-20</td>\n",
       "      <td>244.68</td>\n",
       "      <td>9</td>\n",
       "      <td>245.00</td>\n",
       "      <td>2018-03-20</td>\n",
       "      <td>2204.68</td>\n",
       "      <td>2018-03-20</td>\n",
       "      <td>13</td>\n",
       "      <td>2018-07-27</td>\n",
       "      <td>3194.68</td>\n",
       "    </tr>\n",
       "    <tr>\n",
       "      <th>46179</th>\n",
       "      <td>20170626/13</td>\n",
       "      <td>7</td>\n",
       "      <td>Female</td>\n",
       "      <td>57</td>\n",
       "      <td>41-200</td>\n",
       "      <td>0</td>\n",
       "      <td>5872.32</td>\n",
       "      <td>24</td>\n",
       "      <td>2017-06-26</td>\n",
       "      <td>2017-07-20</td>\n",
       "      <td>244.68</td>\n",
       "      <td>10</td>\n",
       "      <td>245.00</td>\n",
       "      <td>2018-04-19</td>\n",
       "      <td>2449.68</td>\n",
       "      <td>2018-04-20</td>\n",
       "      <td>13</td>\n",
       "      <td>2018-07-27</td>\n",
       "      <td>3194.68</td>\n",
       "    </tr>\n",
       "  </tbody>\n",
       "</table>\n",
       "</div>"
      ],
      "text/plain": [
       "           loan_ID  client_ID     sex  age post_code  cash_payment  \\\n",
       "46170  20170626/13          7  Female   57    41-200             0   \n",
       "46171  20170626/13          7  Female   57    41-200             0   \n",
       "46172  20170626/13          7  Female   57    41-200             0   \n",
       "46173  20170626/13          7  Female   57    41-200             0   \n",
       "46174  20170626/13          7  Female   57    41-200             0   \n",
       "46175  20170626/13          7  Female   57    41-200             0   \n",
       "46176  20170626/13          7  Female   57    41-200             0   \n",
       "46177  20170626/13          7  Female   57    41-200             0   \n",
       "46178  20170626/13          7  Female   57    41-200             0   \n",
       "46179  20170626/13          7  Female   57    41-200             0   \n",
       "\n",
       "       initial_loan_value  installment_count payout_date  \\\n",
       "46170             5872.32                 24  2017-06-26   \n",
       "46171             5872.32                 24  2017-06-26   \n",
       "46172             5872.32                 24  2017-06-26   \n",
       "46173             5872.32                 24  2017-06-26   \n",
       "46174             5872.32                 24  2017-06-26   \n",
       "46175             5872.32                 24  2017-06-26   \n",
       "46176             5872.32                 24  2017-06-26   \n",
       "46177             5872.32                 24  2017-06-26   \n",
       "46178             5872.32                 24  2017-06-26   \n",
       "46179             5872.32                 24  2017-06-26   \n",
       "\n",
       "      first_installment_date  installment  period  payment_value payment_date  \\\n",
       "46170             2017-07-20       244.68       1         244.68   2017-07-19   \n",
       "46171             2017-07-20       244.68       2         245.00   2017-08-22   \n",
       "46172             2017-07-20       244.68       3         245.00   2017-09-18   \n",
       "46173             2017-07-20       244.68       4         245.00   2017-10-20   \n",
       "46174             2017-07-20       244.68       5         245.00   2017-11-17   \n",
       "46175             2017-07-20       244.68       6         245.00   2017-12-20   \n",
       "46176             2017-07-20       244.68       7         245.00   2018-01-22   \n",
       "46177             2017-07-20       244.68       8         245.00   2018-02-20   \n",
       "46178             2017-07-20       244.68       9         245.00   2018-03-20   \n",
       "46179             2017-07-20       244.68      10         245.00   2018-04-19   \n",
       "\n",
       "       cumulated_payments expected_payment_date  last_payment_period  \\\n",
       "46170              244.68            2017-07-20                   13   \n",
       "46171              489.68            2017-08-20                   13   \n",
       "46172              734.68            2017-09-20                   13   \n",
       "46173              979.68            2017-10-20                   13   \n",
       "46174             1224.68            2017-11-20                   13   \n",
       "46175             1469.68            2017-12-20                   13   \n",
       "46176             1714.68            2018-01-20                   13   \n",
       "46177             1959.68            2018-02-20                   13   \n",
       "46178             2204.68            2018-03-20                   13   \n",
       "46179             2449.68            2018-04-20                   13   \n",
       "\n",
       "      last_payment_date  max_cumulated_payments  \n",
       "46170        2018-07-27                 3194.68  \n",
       "46171        2018-07-27                 3194.68  \n",
       "46172        2018-07-27                 3194.68  \n",
       "46173        2018-07-27                 3194.68  \n",
       "46174        2018-07-27                 3194.68  \n",
       "46175        2018-07-27                 3194.68  \n",
       "46176        2018-07-27                 3194.68  \n",
       "46177        2018-07-27                 3194.68  \n",
       "46178        2018-07-27                 3194.68  \n",
       "46179        2018-07-27                 3194.68  "
      ]
     },
     "execution_count": 24,
     "metadata": {},
     "output_type": "execute_result"
    }
   ],
   "source": [
    "df.head(10)"
   ]
  },
  {
   "cell_type": "markdown",
   "metadata": {},
   "source": [
    "## Calculating key KPIs"
   ]
  },
  {
   "cell_type": "code",
   "execution_count": 25,
   "metadata": {},
   "outputs": [],
   "source": [
    "df[\"payment_delay\"]=df.payment_date-df.expected_payment_date\n",
    "df.payment_delay=df.payment_delay.apply(lambda x: x.days)\n",
    "df[\"month\"]=df.expected_payment_date.apply(lambda x: x.month)\n",
    "df[\"payment_completeness\"]=df.payment_value/df.installment\n",
    "df['paid_ratio']=df.cumulated_payments/df.initial_loan_value\n"
   ]
  },
  {
   "cell_type": "code",
   "execution_count": 26,
   "metadata": {},
   "outputs": [],
   "source": [
    "df[\"year\"]=df.payment_date.apply(lambda x:x.year)"
   ]
  },
  {
   "cell_type": "code",
   "execution_count": 27,
   "metadata": {},
   "outputs": [],
   "source": [
    "df[\"is_male\"]=np.where(df.sex==\"Male\",1,0)\n",
    "df[\"is_christmass_season\"]=df.month.apply(lambda x: x in(1,2,12))\n",
    "df.is_christmass_season=np.where(df.is_christmass_season,1,0)"
   ]
  },
  {
   "cell_type": "code",
   "execution_count": 28,
   "metadata": {},
   "outputs": [],
   "source": [
    "threshold=0.2\n",
    "df[\"is_default\"]=np.where(df.payment_completeness<threshold,1,0)\n",
    "df.payment_completeness=np.where(df.payment_completeness>2,2, df.payment_completeness)"
   ]
  },
  {
   "cell_type": "code",
   "execution_count": 29,
   "metadata": {},
   "outputs": [],
   "source": [
    "df.reset_index(inplace=True)\n",
    "import datetime\n",
    "df[\"month_year\"]=np.NaN\n",
    "for i in range(0,len(df)):\n",
    "   \n",
    "    df[\"month_year\"][i]=datetime.date(year=df.payment_date[i].year,month=df.payment_date[i].month,day=1)\n",
    "    "
   ]
  },
  {
   "cell_type": "code",
   "execution_count": 30,
   "metadata": {},
   "outputs": [],
   "source": [
    "df[\"date_bucket\"] = pd.cut(df.payment_date,25)\n",
    "df[\"date_bucket\"]=df[\"date_bucket\"].apply(lambda x:x.right)\n"
   ]
  },
  {
   "cell_type": "code",
   "execution_count": 31,
   "metadata": {},
   "outputs": [],
   "source": [
    "df.drop(columns=[\"index\"],inplace=True)"
   ]
  },
  {
   "cell_type": "code",
   "execution_count": 32,
   "metadata": {},
   "outputs": [],
   "source": [
    "df.payment_delay=np.where(df.payment_delay>60,60,df.payment_delay)\n",
    "df.payment_delay=np.where(df.payment_delay<-60,-60,df.payment_delay)"
   ]
  },
  {
   "cell_type": "code",
   "execution_count": null,
   "metadata": {},
   "outputs": [],
   "source": []
  },
  {
   "cell_type": "markdown",
   "metadata": {},
   "source": [
    "## Outputing data for further modeling"
   ]
  },
  {
   "cell_type": "code",
   "execution_count": 49,
   "metadata": {},
   "outputs": [
    {
     "data": {
      "application/vnd.plotly.v1+json": {
       "config": {
        "linkText": "Export to plot.ly",
        "plotlyServerURL": "https://plot.ly",
        "showLink": false
       },
       "data": [
        {
         "marker": {
          "color": "blue",
          "opacity": 0.5
         },
         "name": "Mężczyźni",
         "type": "bar",
         "x": [],
         "y": []
        },
        {
         "marker": {
          "color": "red",
          "opacity": 0.5
         },
         "name": "Kobiety",
         "type": "bar",
         "x": [
          20,
          20,
          30,
          30,
          40,
          40,
          50,
          50,
          60,
          60,
          70,
          70
         ],
         "y": [
          0.6666666666666666,
          0.7289156626506024,
          0.6141732283464567,
          0.6177777777777778,
          0.5195876288659794,
          0.6647398843930635,
          0.5741935483870968,
          0.6140939597315436,
          0.5993121238177128,
          0.6462882096069869,
          0.7628865979381443,
          0.8125
         ]
        }
       ],
       "layout": {
        "barmode": "group",
        "template": {
         "data": {
          "bar": [
           {
            "error_x": {
             "color": "#2a3f5f"
            },
            "error_y": {
             "color": "#2a3f5f"
            },
            "marker": {
             "line": {
              "color": "#E5ECF6",
              "width": 0.5
             }
            },
            "type": "bar"
           }
          ],
          "barpolar": [
           {
            "marker": {
             "line": {
              "color": "#E5ECF6",
              "width": 0.5
             }
            },
            "type": "barpolar"
           }
          ],
          "carpet": [
           {
            "aaxis": {
             "endlinecolor": "#2a3f5f",
             "gridcolor": "white",
             "linecolor": "white",
             "minorgridcolor": "white",
             "startlinecolor": "#2a3f5f"
            },
            "baxis": {
             "endlinecolor": "#2a3f5f",
             "gridcolor": "white",
             "linecolor": "white",
             "minorgridcolor": "white",
             "startlinecolor": "#2a3f5f"
            },
            "type": "carpet"
           }
          ],
          "choropleth": [
           {
            "colorbar": {
             "outlinewidth": 0,
             "ticks": ""
            },
            "type": "choropleth"
           }
          ],
          "contour": [
           {
            "colorbar": {
             "outlinewidth": 0,
             "ticks": ""
            },
            "colorscale": [
             [
              0,
              "#0d0887"
             ],
             [
              0.1111111111111111,
              "#46039f"
             ],
             [
              0.2222222222222222,
              "#7201a8"
             ],
             [
              0.3333333333333333,
              "#9c179e"
             ],
             [
              0.4444444444444444,
              "#bd3786"
             ],
             [
              0.5555555555555556,
              "#d8576b"
             ],
             [
              0.6666666666666666,
              "#ed7953"
             ],
             [
              0.7777777777777778,
              "#fb9f3a"
             ],
             [
              0.8888888888888888,
              "#fdca26"
             ],
             [
              1,
              "#f0f921"
             ]
            ],
            "type": "contour"
           }
          ],
          "contourcarpet": [
           {
            "colorbar": {
             "outlinewidth": 0,
             "ticks": ""
            },
            "type": "contourcarpet"
           }
          ],
          "heatmap": [
           {
            "colorbar": {
             "outlinewidth": 0,
             "ticks": ""
            },
            "colorscale": [
             [
              0,
              "#0d0887"
             ],
             [
              0.1111111111111111,
              "#46039f"
             ],
             [
              0.2222222222222222,
              "#7201a8"
             ],
             [
              0.3333333333333333,
              "#9c179e"
             ],
             [
              0.4444444444444444,
              "#bd3786"
             ],
             [
              0.5555555555555556,
              "#d8576b"
             ],
             [
              0.6666666666666666,
              "#ed7953"
             ],
             [
              0.7777777777777778,
              "#fb9f3a"
             ],
             [
              0.8888888888888888,
              "#fdca26"
             ],
             [
              1,
              "#f0f921"
             ]
            ],
            "type": "heatmap"
           }
          ],
          "heatmapgl": [
           {
            "colorbar": {
             "outlinewidth": 0,
             "ticks": ""
            },
            "colorscale": [
             [
              0,
              "#0d0887"
             ],
             [
              0.1111111111111111,
              "#46039f"
             ],
             [
              0.2222222222222222,
              "#7201a8"
             ],
             [
              0.3333333333333333,
              "#9c179e"
             ],
             [
              0.4444444444444444,
              "#bd3786"
             ],
             [
              0.5555555555555556,
              "#d8576b"
             ],
             [
              0.6666666666666666,
              "#ed7953"
             ],
             [
              0.7777777777777778,
              "#fb9f3a"
             ],
             [
              0.8888888888888888,
              "#fdca26"
             ],
             [
              1,
              "#f0f921"
             ]
            ],
            "type": "heatmapgl"
           }
          ],
          "histogram": [
           {
            "marker": {
             "colorbar": {
              "outlinewidth": 0,
              "ticks": ""
             }
            },
            "type": "histogram"
           }
          ],
          "histogram2d": [
           {
            "colorbar": {
             "outlinewidth": 0,
             "ticks": ""
            },
            "colorscale": [
             [
              0,
              "#0d0887"
             ],
             [
              0.1111111111111111,
              "#46039f"
             ],
             [
              0.2222222222222222,
              "#7201a8"
             ],
             [
              0.3333333333333333,
              "#9c179e"
             ],
             [
              0.4444444444444444,
              "#bd3786"
             ],
             [
              0.5555555555555556,
              "#d8576b"
             ],
             [
              0.6666666666666666,
              "#ed7953"
             ],
             [
              0.7777777777777778,
              "#fb9f3a"
             ],
             [
              0.8888888888888888,
              "#fdca26"
             ],
             [
              1,
              "#f0f921"
             ]
            ],
            "type": "histogram2d"
           }
          ],
          "histogram2dcontour": [
           {
            "colorbar": {
             "outlinewidth": 0,
             "ticks": ""
            },
            "colorscale": [
             [
              0,
              "#0d0887"
             ],
             [
              0.1111111111111111,
              "#46039f"
             ],
             [
              0.2222222222222222,
              "#7201a8"
             ],
             [
              0.3333333333333333,
              "#9c179e"
             ],
             [
              0.4444444444444444,
              "#bd3786"
             ],
             [
              0.5555555555555556,
              "#d8576b"
             ],
             [
              0.6666666666666666,
              "#ed7953"
             ],
             [
              0.7777777777777778,
              "#fb9f3a"
             ],
             [
              0.8888888888888888,
              "#fdca26"
             ],
             [
              1,
              "#f0f921"
             ]
            ],
            "type": "histogram2dcontour"
           }
          ],
          "mesh3d": [
           {
            "colorbar": {
             "outlinewidth": 0,
             "ticks": ""
            },
            "type": "mesh3d"
           }
          ],
          "parcoords": [
           {
            "line": {
             "colorbar": {
              "outlinewidth": 0,
              "ticks": ""
             }
            },
            "type": "parcoords"
           }
          ],
          "scatter": [
           {
            "marker": {
             "colorbar": {
              "outlinewidth": 0,
              "ticks": ""
             }
            },
            "type": "scatter"
           }
          ],
          "scatter3d": [
           {
            "line": {
             "colorbar": {
              "outlinewidth": 0,
              "ticks": ""
             }
            },
            "marker": {
             "colorbar": {
              "outlinewidth": 0,
              "ticks": ""
             }
            },
            "type": "scatter3d"
           }
          ],
          "scattercarpet": [
           {
            "marker": {
             "colorbar": {
              "outlinewidth": 0,
              "ticks": ""
             }
            },
            "type": "scattercarpet"
           }
          ],
          "scattergeo": [
           {
            "marker": {
             "colorbar": {
              "outlinewidth": 0,
              "ticks": ""
             }
            },
            "type": "scattergeo"
           }
          ],
          "scattergl": [
           {
            "marker": {
             "colorbar": {
              "outlinewidth": 0,
              "ticks": ""
             }
            },
            "type": "scattergl"
           }
          ],
          "scattermapbox": [
           {
            "marker": {
             "colorbar": {
              "outlinewidth": 0,
              "ticks": ""
             }
            },
            "type": "scattermapbox"
           }
          ],
          "scatterpolar": [
           {
            "marker": {
             "colorbar": {
              "outlinewidth": 0,
              "ticks": ""
             }
            },
            "type": "scatterpolar"
           }
          ],
          "scatterpolargl": [
           {
            "marker": {
             "colorbar": {
              "outlinewidth": 0,
              "ticks": ""
             }
            },
            "type": "scatterpolargl"
           }
          ],
          "scatterternary": [
           {
            "marker": {
             "colorbar": {
              "outlinewidth": 0,
              "ticks": ""
             }
            },
            "type": "scatterternary"
           }
          ],
          "surface": [
           {
            "colorbar": {
             "outlinewidth": 0,
             "ticks": ""
            },
            "colorscale": [
             [
              0,
              "#0d0887"
             ],
             [
              0.1111111111111111,
              "#46039f"
             ],
             [
              0.2222222222222222,
              "#7201a8"
             ],
             [
              0.3333333333333333,
              "#9c179e"
             ],
             [
              0.4444444444444444,
              "#bd3786"
             ],
             [
              0.5555555555555556,
              "#d8576b"
             ],
             [
              0.6666666666666666,
              "#ed7953"
             ],
             [
              0.7777777777777778,
              "#fb9f3a"
             ],
             [
              0.8888888888888888,
              "#fdca26"
             ],
             [
              1,
              "#f0f921"
             ]
            ],
            "type": "surface"
           }
          ],
          "table": [
           {
            "cells": {
             "fill": {
              "color": "#EBF0F8"
             },
             "line": {
              "color": "white"
             }
            },
            "header": {
             "fill": {
              "color": "#C8D4E3"
             },
             "line": {
              "color": "white"
             }
            },
            "type": "table"
           }
          ]
         },
         "layout": {
          "annotationdefaults": {
           "arrowcolor": "#2a3f5f",
           "arrowhead": 0,
           "arrowwidth": 1
          },
          "colorscale": {
           "diverging": [
            [
             0,
             "#8e0152"
            ],
            [
             0.1,
             "#c51b7d"
            ],
            [
             0.2,
             "#de77ae"
            ],
            [
             0.3,
             "#f1b6da"
            ],
            [
             0.4,
             "#fde0ef"
            ],
            [
             0.5,
             "#f7f7f7"
            ],
            [
             0.6,
             "#e6f5d0"
            ],
            [
             0.7,
             "#b8e186"
            ],
            [
             0.8,
             "#7fbc41"
            ],
            [
             0.9,
             "#4d9221"
            ],
            [
             1,
             "#276419"
            ]
           ],
           "sequential": [
            [
             0,
             "#0d0887"
            ],
            [
             0.1111111111111111,
             "#46039f"
            ],
            [
             0.2222222222222222,
             "#7201a8"
            ],
            [
             0.3333333333333333,
             "#9c179e"
            ],
            [
             0.4444444444444444,
             "#bd3786"
            ],
            [
             0.5555555555555556,
             "#d8576b"
            ],
            [
             0.6666666666666666,
             "#ed7953"
            ],
            [
             0.7777777777777778,
             "#fb9f3a"
            ],
            [
             0.8888888888888888,
             "#fdca26"
            ],
            [
             1,
             "#f0f921"
            ]
           ],
           "sequentialminus": [
            [
             0,
             "#0d0887"
            ],
            [
             0.1111111111111111,
             "#46039f"
            ],
            [
             0.2222222222222222,
             "#7201a8"
            ],
            [
             0.3333333333333333,
             "#9c179e"
            ],
            [
             0.4444444444444444,
             "#bd3786"
            ],
            [
             0.5555555555555556,
             "#d8576b"
            ],
            [
             0.6666666666666666,
             "#ed7953"
            ],
            [
             0.7777777777777778,
             "#fb9f3a"
            ],
            [
             0.8888888888888888,
             "#fdca26"
            ],
            [
             1,
             "#f0f921"
            ]
           ]
          },
          "colorway": [
           "#636efa",
           "#EF553B",
           "#00cc96",
           "#ab63fa",
           "#FFA15A",
           "#19d3f3",
           "#FF6692",
           "#B6E880",
           "#FF97FF",
           "#FECB52"
          ],
          "font": {
           "color": "#2a3f5f"
          },
          "geo": {
           "bgcolor": "white",
           "lakecolor": "white",
           "landcolor": "#E5ECF6",
           "showlakes": true,
           "showland": true,
           "subunitcolor": "white"
          },
          "hoverlabel": {
           "align": "left"
          },
          "hovermode": "closest",
          "mapbox": {
           "style": "light"
          },
          "paper_bgcolor": "white",
          "plot_bgcolor": "#E5ECF6",
          "polar": {
           "angularaxis": {
            "gridcolor": "white",
            "linecolor": "white",
            "ticks": ""
           },
           "bgcolor": "#E5ECF6",
           "radialaxis": {
            "gridcolor": "white",
            "linecolor": "white",
            "ticks": ""
           }
          },
          "scene": {
           "xaxis": {
            "backgroundcolor": "#E5ECF6",
            "gridcolor": "white",
            "gridwidth": 2,
            "linecolor": "white",
            "showbackground": true,
            "ticks": "",
            "zerolinecolor": "white"
           },
           "yaxis": {
            "backgroundcolor": "#E5ECF6",
            "gridcolor": "white",
            "gridwidth": 2,
            "linecolor": "white",
            "showbackground": true,
            "ticks": "",
            "zerolinecolor": "white"
           },
           "zaxis": {
            "backgroundcolor": "#E5ECF6",
            "gridcolor": "white",
            "gridwidth": 2,
            "linecolor": "white",
            "showbackground": true,
            "ticks": "",
            "zerolinecolor": "white"
           }
          },
          "shapedefaults": {
           "line": {
            "color": "#2a3f5f"
           }
          },
          "ternary": {
           "aaxis": {
            "gridcolor": "white",
            "linecolor": "white",
            "ticks": ""
           },
           "baxis": {
            "gridcolor": "white",
            "linecolor": "white",
            "ticks": ""
           },
           "bgcolor": "#E5ECF6",
           "caxis": {
            "gridcolor": "white",
            "linecolor": "white",
            "ticks": ""
           }
          },
          "title": {
           "x": 0.05
          },
          "xaxis": {
           "automargin": true,
           "gridcolor": "white",
           "linecolor": "white",
           "ticks": "",
           "zerolinecolor": "white",
           "zerolinewidth": 2
          },
          "yaxis": {
           "automargin": true,
           "gridcolor": "white",
           "linecolor": "white",
           "ticks": "",
           "zerolinecolor": "white",
           "zerolinewidth": 2
          }
         }
        },
        "title": {
         "text": "Share of defaulting clients in relation to Age & Sex"
        },
        "xaxis": {
         "title": {
          "text": "Age"
         }
        },
        "yaxis": {
         "title": {
          "text": "Share of defaults"
         }
        }
       }
      },
      "text/html": [
       "<div>\n",
       "        \n",
       "        \n",
       "            <div id=\"af511b2c-26b8-4127-adc6-fba340eaa149\" class=\"plotly-graph-div\" style=\"height:525px; width:100%;\"></div>\n",
       "            <script type=\"text/javascript\">\n",
       "                require([\"plotly\"], function(Plotly) {\n",
       "                    window.PLOTLYENV=window.PLOTLYENV || {};\n",
       "                    \n",
       "                if (document.getElementById(\"af511b2c-26b8-4127-adc6-fba340eaa149\")) {\n",
       "                    Plotly.newPlot(\n",
       "                        'af511b2c-26b8-4127-adc6-fba340eaa149',\n",
       "                        [{\"marker\": {\"color\": \"blue\", \"opacity\": 0.5}, \"name\": \"M\\u0119\\u017cczy\\u017ani\", \"type\": \"bar\", \"x\": [], \"y\": []}, {\"marker\": {\"color\": \"red\", \"opacity\": 0.5}, \"name\": \"Kobiety\", \"type\": \"bar\", \"x\": [20, 20, 30, 30, 40, 40, 50, 50, 60, 60, 70, 70], \"y\": [0.6666666666666666, 0.7289156626506024, 0.6141732283464567, 0.6177777777777778, 0.5195876288659794, 0.6647398843930635, 0.5741935483870968, 0.6140939597315436, 0.5993121238177128, 0.6462882096069869, 0.7628865979381443, 0.8125]}],\n",
       "                        {\"barmode\": \"group\", \"template\": {\"data\": {\"bar\": [{\"error_x\": {\"color\": \"#2a3f5f\"}, \"error_y\": {\"color\": \"#2a3f5f\"}, \"marker\": {\"line\": {\"color\": \"#E5ECF6\", \"width\": 0.5}}, \"type\": \"bar\"}], \"barpolar\": [{\"marker\": {\"line\": {\"color\": \"#E5ECF6\", \"width\": 0.5}}, \"type\": \"barpolar\"}], \"carpet\": [{\"aaxis\": {\"endlinecolor\": \"#2a3f5f\", \"gridcolor\": \"white\", \"linecolor\": \"white\", \"minorgridcolor\": \"white\", \"startlinecolor\": \"#2a3f5f\"}, \"baxis\": {\"endlinecolor\": \"#2a3f5f\", \"gridcolor\": \"white\", \"linecolor\": \"white\", \"minorgridcolor\": \"white\", \"startlinecolor\": \"#2a3f5f\"}, \"type\": \"carpet\"}], \"choropleth\": [{\"colorbar\": {\"outlinewidth\": 0, \"ticks\": \"\"}, \"type\": \"choropleth\"}], \"contour\": [{\"colorbar\": {\"outlinewidth\": 0, \"ticks\": \"\"}, \"colorscale\": [[0.0, \"#0d0887\"], [0.1111111111111111, \"#46039f\"], [0.2222222222222222, \"#7201a8\"], [0.3333333333333333, \"#9c179e\"], [0.4444444444444444, \"#bd3786\"], [0.5555555555555556, \"#d8576b\"], [0.6666666666666666, \"#ed7953\"], [0.7777777777777778, \"#fb9f3a\"], [0.8888888888888888, \"#fdca26\"], [1.0, \"#f0f921\"]], \"type\": \"contour\"}], \"contourcarpet\": [{\"colorbar\": {\"outlinewidth\": 0, \"ticks\": \"\"}, \"type\": \"contourcarpet\"}], \"heatmap\": [{\"colorbar\": {\"outlinewidth\": 0, \"ticks\": \"\"}, \"colorscale\": [[0.0, \"#0d0887\"], [0.1111111111111111, \"#46039f\"], [0.2222222222222222, \"#7201a8\"], [0.3333333333333333, \"#9c179e\"], [0.4444444444444444, \"#bd3786\"], [0.5555555555555556, \"#d8576b\"], [0.6666666666666666, \"#ed7953\"], [0.7777777777777778, \"#fb9f3a\"], [0.8888888888888888, \"#fdca26\"], [1.0, \"#f0f921\"]], \"type\": \"heatmap\"}], \"heatmapgl\": [{\"colorbar\": {\"outlinewidth\": 0, \"ticks\": \"\"}, \"colorscale\": [[0.0, \"#0d0887\"], [0.1111111111111111, \"#46039f\"], [0.2222222222222222, \"#7201a8\"], [0.3333333333333333, \"#9c179e\"], [0.4444444444444444, \"#bd3786\"], [0.5555555555555556, \"#d8576b\"], [0.6666666666666666, \"#ed7953\"], [0.7777777777777778, \"#fb9f3a\"], [0.8888888888888888, \"#fdca26\"], [1.0, \"#f0f921\"]], \"type\": \"heatmapgl\"}], \"histogram\": [{\"marker\": {\"colorbar\": {\"outlinewidth\": 0, \"ticks\": \"\"}}, \"type\": \"histogram\"}], \"histogram2d\": [{\"colorbar\": {\"outlinewidth\": 0, \"ticks\": \"\"}, \"colorscale\": [[0.0, \"#0d0887\"], [0.1111111111111111, \"#46039f\"], [0.2222222222222222, \"#7201a8\"], [0.3333333333333333, \"#9c179e\"], [0.4444444444444444, \"#bd3786\"], [0.5555555555555556, \"#d8576b\"], [0.6666666666666666, \"#ed7953\"], [0.7777777777777778, \"#fb9f3a\"], [0.8888888888888888, \"#fdca26\"], [1.0, \"#f0f921\"]], \"type\": \"histogram2d\"}], \"histogram2dcontour\": [{\"colorbar\": {\"outlinewidth\": 0, \"ticks\": \"\"}, \"colorscale\": [[0.0, \"#0d0887\"], [0.1111111111111111, \"#46039f\"], [0.2222222222222222, \"#7201a8\"], [0.3333333333333333, \"#9c179e\"], [0.4444444444444444, \"#bd3786\"], [0.5555555555555556, \"#d8576b\"], [0.6666666666666666, \"#ed7953\"], [0.7777777777777778, \"#fb9f3a\"], [0.8888888888888888, \"#fdca26\"], [1.0, \"#f0f921\"]], \"type\": \"histogram2dcontour\"}], \"mesh3d\": [{\"colorbar\": {\"outlinewidth\": 0, \"ticks\": \"\"}, \"type\": \"mesh3d\"}], \"parcoords\": [{\"line\": {\"colorbar\": {\"outlinewidth\": 0, \"ticks\": \"\"}}, \"type\": \"parcoords\"}], \"scatter\": [{\"marker\": {\"colorbar\": {\"outlinewidth\": 0, \"ticks\": \"\"}}, \"type\": \"scatter\"}], \"scatter3d\": [{\"line\": {\"colorbar\": {\"outlinewidth\": 0, \"ticks\": \"\"}}, \"marker\": {\"colorbar\": {\"outlinewidth\": 0, \"ticks\": \"\"}}, \"type\": \"scatter3d\"}], \"scattercarpet\": [{\"marker\": {\"colorbar\": {\"outlinewidth\": 0, \"ticks\": \"\"}}, \"type\": \"scattercarpet\"}], \"scattergeo\": [{\"marker\": {\"colorbar\": {\"outlinewidth\": 0, \"ticks\": \"\"}}, \"type\": \"scattergeo\"}], \"scattergl\": [{\"marker\": {\"colorbar\": {\"outlinewidth\": 0, \"ticks\": \"\"}}, \"type\": \"scattergl\"}], \"scattermapbox\": [{\"marker\": {\"colorbar\": {\"outlinewidth\": 0, \"ticks\": \"\"}}, \"type\": \"scattermapbox\"}], \"scatterpolar\": [{\"marker\": {\"colorbar\": {\"outlinewidth\": 0, \"ticks\": \"\"}}, \"type\": \"scatterpolar\"}], \"scatterpolargl\": [{\"marker\": {\"colorbar\": {\"outlinewidth\": 0, \"ticks\": \"\"}}, \"type\": \"scatterpolargl\"}], \"scatterternary\": [{\"marker\": {\"colorbar\": {\"outlinewidth\": 0, \"ticks\": \"\"}}, \"type\": \"scatterternary\"}], \"surface\": [{\"colorbar\": {\"outlinewidth\": 0, \"ticks\": \"\"}, \"colorscale\": [[0.0, \"#0d0887\"], [0.1111111111111111, \"#46039f\"], [0.2222222222222222, \"#7201a8\"], [0.3333333333333333, \"#9c179e\"], [0.4444444444444444, \"#bd3786\"], [0.5555555555555556, \"#d8576b\"], [0.6666666666666666, \"#ed7953\"], [0.7777777777777778, \"#fb9f3a\"], [0.8888888888888888, \"#fdca26\"], [1.0, \"#f0f921\"]], \"type\": \"surface\"}], \"table\": [{\"cells\": {\"fill\": {\"color\": \"#EBF0F8\"}, \"line\": {\"color\": \"white\"}}, \"header\": {\"fill\": {\"color\": \"#C8D4E3\"}, \"line\": {\"color\": \"white\"}}, \"type\": \"table\"}]}, \"layout\": {\"annotationdefaults\": {\"arrowcolor\": \"#2a3f5f\", \"arrowhead\": 0, \"arrowwidth\": 1}, \"colorscale\": {\"diverging\": [[0, \"#8e0152\"], [0.1, \"#c51b7d\"], [0.2, \"#de77ae\"], [0.3, \"#f1b6da\"], [0.4, \"#fde0ef\"], [0.5, \"#f7f7f7\"], [0.6, \"#e6f5d0\"], [0.7, \"#b8e186\"], [0.8, \"#7fbc41\"], [0.9, \"#4d9221\"], [1, \"#276419\"]], \"sequential\": [[0.0, \"#0d0887\"], [0.1111111111111111, \"#46039f\"], [0.2222222222222222, \"#7201a8\"], [0.3333333333333333, \"#9c179e\"], [0.4444444444444444, \"#bd3786\"], [0.5555555555555556, \"#d8576b\"], [0.6666666666666666, \"#ed7953\"], [0.7777777777777778, \"#fb9f3a\"], [0.8888888888888888, \"#fdca26\"], [1.0, \"#f0f921\"]], \"sequentialminus\": [[0.0, \"#0d0887\"], [0.1111111111111111, \"#46039f\"], [0.2222222222222222, \"#7201a8\"], [0.3333333333333333, \"#9c179e\"], [0.4444444444444444, \"#bd3786\"], [0.5555555555555556, \"#d8576b\"], [0.6666666666666666, \"#ed7953\"], [0.7777777777777778, \"#fb9f3a\"], [0.8888888888888888, \"#fdca26\"], [1.0, \"#f0f921\"]]}, \"colorway\": [\"#636efa\", \"#EF553B\", \"#00cc96\", \"#ab63fa\", \"#FFA15A\", \"#19d3f3\", \"#FF6692\", \"#B6E880\", \"#FF97FF\", \"#FECB52\"], \"font\": {\"color\": \"#2a3f5f\"}, \"geo\": {\"bgcolor\": \"white\", \"lakecolor\": \"white\", \"landcolor\": \"#E5ECF6\", \"showlakes\": true, \"showland\": true, \"subunitcolor\": \"white\"}, \"hoverlabel\": {\"align\": \"left\"}, \"hovermode\": \"closest\", \"mapbox\": {\"style\": \"light\"}, \"paper_bgcolor\": \"white\", \"plot_bgcolor\": \"#E5ECF6\", \"polar\": {\"angularaxis\": {\"gridcolor\": \"white\", \"linecolor\": \"white\", \"ticks\": \"\"}, \"bgcolor\": \"#E5ECF6\", \"radialaxis\": {\"gridcolor\": \"white\", \"linecolor\": \"white\", \"ticks\": \"\"}}, \"scene\": {\"xaxis\": {\"backgroundcolor\": \"#E5ECF6\", \"gridcolor\": \"white\", \"gridwidth\": 2, \"linecolor\": \"white\", \"showbackground\": true, \"ticks\": \"\", \"zerolinecolor\": \"white\"}, \"yaxis\": {\"backgroundcolor\": \"#E5ECF6\", \"gridcolor\": \"white\", \"gridwidth\": 2, \"linecolor\": \"white\", \"showbackground\": true, \"ticks\": \"\", \"zerolinecolor\": \"white\"}, \"zaxis\": {\"backgroundcolor\": \"#E5ECF6\", \"gridcolor\": \"white\", \"gridwidth\": 2, \"linecolor\": \"white\", \"showbackground\": true, \"ticks\": \"\", \"zerolinecolor\": \"white\"}}, \"shapedefaults\": {\"line\": {\"color\": \"#2a3f5f\"}}, \"ternary\": {\"aaxis\": {\"gridcolor\": \"white\", \"linecolor\": \"white\", \"ticks\": \"\"}, \"baxis\": {\"gridcolor\": \"white\", \"linecolor\": \"white\", \"ticks\": \"\"}, \"bgcolor\": \"#E5ECF6\", \"caxis\": {\"gridcolor\": \"white\", \"linecolor\": \"white\", \"ticks\": \"\"}}, \"title\": {\"x\": 0.05}, \"xaxis\": {\"automargin\": true, \"gridcolor\": \"white\", \"linecolor\": \"white\", \"ticks\": \"\", \"zerolinecolor\": \"white\", \"zerolinewidth\": 2}, \"yaxis\": {\"automargin\": true, \"gridcolor\": \"white\", \"linecolor\": \"white\", \"ticks\": \"\", \"zerolinecolor\": \"white\", \"zerolinewidth\": 2}}}, \"title\": {\"text\": \"Share of defaulting clients in relation to Age & Sex\"}, \"xaxis\": {\"title\": {\"text\": \"Age\"}}, \"yaxis\": {\"title\": {\"text\": \"Share of defaults\"}}},\n",
       "                        {\"responsive\": true}\n",
       "                    ).then(function(){\n",
       "                            \n",
       "var gd = document.getElementById('af511b2c-26b8-4127-adc6-fba340eaa149');\n",
       "var x = new MutationObserver(function (mutations, observer) {{\n",
       "        var display = window.getComputedStyle(gd).display;\n",
       "        if (!display || display === 'none') {{\n",
       "            console.log([gd, 'removed!']);\n",
       "            Plotly.purge(gd);\n",
       "            observer.disconnect();\n",
       "        }}\n",
       "}});\n",
       "\n",
       "// Listen for the removal of the full notebook cells\n",
       "var notebookContainer = gd.closest('#notebook-container');\n",
       "if (notebookContainer) {{\n",
       "    x.observe(notebookContainer, {childList: true});\n",
       "}}\n",
       "\n",
       "// Listen for the clearing of the current output cell\n",
       "var outputEl = gd.closest('.output');\n",
       "if (outputEl) {{\n",
       "    x.observe(outputEl, {childList: true});\n",
       "}}\n",
       "\n",
       "                        })\n",
       "                };\n",
       "                });\n",
       "            </script>\n",
       "        </div>"
      ]
     },
     "metadata": {},
     "output_type": "display_data"
    }
   ],
   "source": [
    "df_age_groups=df_grouped.groupby([\"age_dec\",\"sex\"])[key_KPIs].mean().reset_index()\n",
    "\n",
    "\n",
    "trace0=go.Bar(\n",
    "              x=df_age_groups[df_age_groups.sex==\"Mezczyzna\"].age_dec, \n",
    "              y=df_age_groups[df_age_groups.sex==\"Mezczyzna\"].is_default,\n",
    "             marker=dict(\n",
    "            color=\"blue\",\n",
    "            opacity=0.5\n",
    "            ))\n",
    "trace1=go.Bar(\n",
    "              x=df_age_groups[df_age_groups.sex!=\"Mezczyzna\"].age_dec, \n",
    "              y=df_age_groups[df_age_groups.sex!=\"Mezczyzna\"].is_default,\n",
    "               marker=dict(\n",
    "            color=\"red\",\n",
    "            opacity=0.5\n",
    "            ))\n",
    "\n",
    "\n",
    "\n",
    "\n",
    "data=[trace0,trace1]\n",
    "figure=go.Figure(\n",
    "    data=data,\n",
    "    layout=go.Layout(\n",
    "    \n",
    "        barmode=\"group\",\n",
    "        title=\"Share of defaulting clients in relation to Age & Sex\",\n",
    "        yaxis=dict(title=\"Share of defaults\"),\n",
    "        xaxis=dict(title=\"Age\")\n",
    "\n",
    "    \n",
    "    ))\n",
    "iplot(figure)"
   ]
  }
 ],
 "metadata": {
  "kernelspec": {
   "display_name": "Python 3",
   "language": "python",
   "name": "python3"
  },
  "language_info": {
   "codemirror_mode": {
    "name": "ipython",
    "version": 3
   },
   "file_extension": ".py",
   "mimetype": "text/x-python",
   "name": "python",
   "nbconvert_exporter": "python",
   "pygments_lexer": "ipython3",
   "version": "3.7.3"
  },
  "toc": {
   "base_numbering": 1,
   "nav_menu": {},
   "number_sections": true,
   "sideBar": true,
   "skip_h1_title": false,
   "title_cell": "Table of Contents",
   "title_sidebar": "Contents",
   "toc_cell": true,
   "toc_position": {
    "height": "calc(100% - 180px)",
    "left": "10px",
    "top": "150px",
    "width": "369.6px"
   },
   "toc_section_display": true,
   "toc_window_display": true
  }
 },
 "nbformat": 4,
 "nbformat_minor": 1
}
