{
 "cells": [
  {
   "cell_type": "markdown",
   "metadata": {
    "toc": true
   },
   "source": [
    "<h1>Table of Contents<span class=\"tocSkip\"></span></h1>\n",
    "<div class=\"toc\"><ul class=\"toc-item\"><li><span><a href=\"#Data-import-and-preparation\" data-toc-modified-id=\"Data-import-and-preparation-1\"><span class=\"toc-item-num\">1&nbsp;&nbsp;</span>Data import and preparation</a></span><ul class=\"toc-item\"><li><span><a href=\"#Calculating-key-KPIs\" data-toc-modified-id=\"Calculating-key-KPIs-1.1\"><span class=\"toc-item-num\">1.1&nbsp;&nbsp;</span>Calculating key KPIs</a></span></li></ul></li></ul></div>"
   ]
  },
  {
   "cell_type": "code",
   "execution_count": 1,
   "metadata": {},
   "outputs": [],
   "source": [
    "import pandas as pd\n",
    "import numpy as np\n",
    "import random as random\n",
    "\n",
    "# plotly standard imports\n",
    "from datetime import datetime\n",
    "from datetime import timedelta  "
   ]
  },
  {
   "cell_type": "code",
   "execution_count": 4,
   "metadata": {},
   "outputs": [
    {
     "data": {
      "text/html": [
       "        <script type=\"text/javascript\">\n",
       "        window.PlotlyConfig = {MathJaxConfig: 'local'};\n",
       "        if (window.MathJax) {MathJax.Hub.Config({SVG: {font: \"STIX-Web\"}});}\n",
       "        if (typeof require !== 'undefined') {\n",
       "        require.undef(\"plotly\");\n",
       "        requirejs.config({\n",
       "            paths: {\n",
       "                'plotly': ['https://cdn.plot.ly/plotly-latest.min']\n",
       "            }\n",
       "        });\n",
       "        require(['plotly'], function(Plotly) {\n",
       "            window._Plotly = Plotly;\n",
       "        });\n",
       "        }\n",
       "        </script>\n",
       "        "
      ]
     },
     "metadata": {},
     "output_type": "display_data"
    }
   ],
   "source": [
    "import cufflinks\n",
    "from IPython.core.interactiveshell import InteractiveShell\n",
    "InteractiveShell.ast_node_interactivity = 'all'\n",
    "\n",
    "from plotly.offline import iplot\n",
    "cufflinks.go_offline()\n",
    "\n",
    "# Set global theme\n",
    "cufflinks.set_config_file(world_readable=True, theme='pearl')\n",
    "import plotly.figure_factory as ff\n",
    "\n",
    "\n",
    "import plotly.express as px\n",
    "import plotly.graph_objs as go\n",
    "import chart_studio.plotly as py"
   ]
  },
  {
   "cell_type": "markdown",
   "metadata": {},
   "source": [
    "# Data import and preparation"
   ]
  },
  {
   "cell_type": "code",
   "execution_count": 5,
   "metadata": {},
   "outputs": [],
   "source": [
    "data_input=pd.read_excel(\"raw_data.xlsx\", sep=\";\")"
   ]
  },
  {
   "cell_type": "code",
   "execution_count": 6,
   "metadata": {},
   "outputs": [
    {
     "data": {
      "text/plain": [
       "Timestamp('2019-08-23 00:00:00')"
      ]
     },
     "execution_count": 6,
     "metadata": {},
     "output_type": "execute_result"
    }
   ],
   "source": [
    "dataset_downland_date=data_input.data_ts.max()\n",
    "dataset_downland_date"
   ]
  },
  {
   "cell_type": "code",
   "execution_count": 23,
   "metadata": {},
   "outputs": [
    {
     "data": {
      "text/plain": [
       "(37311, 19)"
      ]
     },
     "execution_count": 23,
     "metadata": {},
     "output_type": "execute_result"
    }
   ],
   "source": [
    "df=df[df.payment_date<=dataset_downland_date]\n",
    "df.shape"
   ]
  },
  {
   "cell_type": "code",
   "execution_count": 24,
   "metadata": {},
   "outputs": [
    {
     "data": {
      "text/html": [
       "<div>\n",
       "<style scoped>\n",
       "    .dataframe tbody tr th:only-of-type {\n",
       "        vertical-align: middle;\n",
       "    }\n",
       "\n",
       "    .dataframe tbody tr th {\n",
       "        vertical-align: top;\n",
       "    }\n",
       "\n",
       "    .dataframe thead th {\n",
       "        text-align: right;\n",
       "    }\n",
       "</style>\n",
       "<table border=\"1\" class=\"dataframe\">\n",
       "  <thead>\n",
       "    <tr style=\"text-align: right;\">\n",
       "      <th></th>\n",
       "      <th>loan_ID</th>\n",
       "      <th>client_ID</th>\n",
       "      <th>sex</th>\n",
       "      <th>age</th>\n",
       "      <th>post_code</th>\n",
       "      <th>cash_payment</th>\n",
       "      <th>initial_loan_value</th>\n",
       "      <th>installment_count</th>\n",
       "      <th>payout_date</th>\n",
       "      <th>first_installment_date</th>\n",
       "      <th>installment</th>\n",
       "      <th>period</th>\n",
       "      <th>payment_value</th>\n",
       "      <th>payment_date</th>\n",
       "      <th>cumulated_payments</th>\n",
       "      <th>expected_payment_date</th>\n",
       "      <th>last_payment_period</th>\n",
       "      <th>last_payment_date</th>\n",
       "      <th>max_cumulated_payments</th>\n",
       "    </tr>\n",
       "  </thead>\n",
       "  <tbody>\n",
       "    <tr>\n",
       "      <th>46170</th>\n",
       "      <td>20170626/13</td>\n",
       "      <td>7</td>\n",
       "      <td>Female</td>\n",
       "      <td>57</td>\n",
       "      <td>41-200</td>\n",
       "      <td>0</td>\n",
       "      <td>5872.32</td>\n",
       "      <td>24</td>\n",
       "      <td>2017-06-26</td>\n",
       "      <td>2017-07-20</td>\n",
       "      <td>244.68</td>\n",
       "      <td>1</td>\n",
       "      <td>244.68</td>\n",
       "      <td>2017-07-19</td>\n",
       "      <td>244.68</td>\n",
       "      <td>2017-07-20</td>\n",
       "      <td>13</td>\n",
       "      <td>2018-07-27</td>\n",
       "      <td>3194.68</td>\n",
       "    </tr>\n",
       "    <tr>\n",
       "      <th>46171</th>\n",
       "      <td>20170626/13</td>\n",
       "      <td>7</td>\n",
       "      <td>Female</td>\n",
       "      <td>57</td>\n",
       "      <td>41-200</td>\n",
       "      <td>0</td>\n",
       "      <td>5872.32</td>\n",
       "      <td>24</td>\n",
       "      <td>2017-06-26</td>\n",
       "      <td>2017-07-20</td>\n",
       "      <td>244.68</td>\n",
       "      <td>2</td>\n",
       "      <td>245.00</td>\n",
       "      <td>2017-08-22</td>\n",
       "      <td>489.68</td>\n",
       "      <td>2017-08-20</td>\n",
       "      <td>13</td>\n",
       "      <td>2018-07-27</td>\n",
       "      <td>3194.68</td>\n",
       "    </tr>\n",
       "    <tr>\n",
       "      <th>46172</th>\n",
       "      <td>20170626/13</td>\n",
       "      <td>7</td>\n",
       "      <td>Female</td>\n",
       "      <td>57</td>\n",
       "      <td>41-200</td>\n",
       "      <td>0</td>\n",
       "      <td>5872.32</td>\n",
       "      <td>24</td>\n",
       "      <td>2017-06-26</td>\n",
       "      <td>2017-07-20</td>\n",
       "      <td>244.68</td>\n",
       "      <td>3</td>\n",
       "      <td>245.00</td>\n",
       "      <td>2017-09-18</td>\n",
       "      <td>734.68</td>\n",
       "      <td>2017-09-20</td>\n",
       "      <td>13</td>\n",
       "      <td>2018-07-27</td>\n",
       "      <td>3194.68</td>\n",
       "    </tr>\n",
       "    <tr>\n",
       "      <th>46173</th>\n",
       "      <td>20170626/13</td>\n",
       "      <td>7</td>\n",
       "      <td>Female</td>\n",
       "      <td>57</td>\n",
       "      <td>41-200</td>\n",
       "      <td>0</td>\n",
       "      <td>5872.32</td>\n",
       "      <td>24</td>\n",
       "      <td>2017-06-26</td>\n",
       "      <td>2017-07-20</td>\n",
       "      <td>244.68</td>\n",
       "      <td>4</td>\n",
       "      <td>245.00</td>\n",
       "      <td>2017-10-20</td>\n",
       "      <td>979.68</td>\n",
       "      <td>2017-10-20</td>\n",
       "      <td>13</td>\n",
       "      <td>2018-07-27</td>\n",
       "      <td>3194.68</td>\n",
       "    </tr>\n",
       "    <tr>\n",
       "      <th>46174</th>\n",
       "      <td>20170626/13</td>\n",
       "      <td>7</td>\n",
       "      <td>Female</td>\n",
       "      <td>57</td>\n",
       "      <td>41-200</td>\n",
       "      <td>0</td>\n",
       "      <td>5872.32</td>\n",
       "      <td>24</td>\n",
       "      <td>2017-06-26</td>\n",
       "      <td>2017-07-20</td>\n",
       "      <td>244.68</td>\n",
       "      <td>5</td>\n",
       "      <td>245.00</td>\n",
       "      <td>2017-11-17</td>\n",
       "      <td>1224.68</td>\n",
       "      <td>2017-11-20</td>\n",
       "      <td>13</td>\n",
       "      <td>2018-07-27</td>\n",
       "      <td>3194.68</td>\n",
       "    </tr>\n",
       "    <tr>\n",
       "      <th>46175</th>\n",
       "      <td>20170626/13</td>\n",
       "      <td>7</td>\n",
       "      <td>Female</td>\n",
       "      <td>57</td>\n",
       "      <td>41-200</td>\n",
       "      <td>0</td>\n",
       "      <td>5872.32</td>\n",
       "      <td>24</td>\n",
       "      <td>2017-06-26</td>\n",
       "      <td>2017-07-20</td>\n",
       "      <td>244.68</td>\n",
       "      <td>6</td>\n",
       "      <td>245.00</td>\n",
       "      <td>2017-12-20</td>\n",
       "      <td>1469.68</td>\n",
       "      <td>2017-12-20</td>\n",
       "      <td>13</td>\n",
       "      <td>2018-07-27</td>\n",
       "      <td>3194.68</td>\n",
       "    </tr>\n",
       "    <tr>\n",
       "      <th>46176</th>\n",
       "      <td>20170626/13</td>\n",
       "      <td>7</td>\n",
       "      <td>Female</td>\n",
       "      <td>57</td>\n",
       "      <td>41-200</td>\n",
       "      <td>0</td>\n",
       "      <td>5872.32</td>\n",
       "      <td>24</td>\n",
       "      <td>2017-06-26</td>\n",
       "      <td>2017-07-20</td>\n",
       "      <td>244.68</td>\n",
       "      <td>7</td>\n",
       "      <td>245.00</td>\n",
       "      <td>2018-01-22</td>\n",
       "      <td>1714.68</td>\n",
       "      <td>2018-01-20</td>\n",
       "      <td>13</td>\n",
       "      <td>2018-07-27</td>\n",
       "      <td>3194.68</td>\n",
       "    </tr>\n",
       "    <tr>\n",
       "      <th>46177</th>\n",
       "      <td>20170626/13</td>\n",
       "      <td>7</td>\n",
       "      <td>Female</td>\n",
       "      <td>57</td>\n",
       "      <td>41-200</td>\n",
       "      <td>0</td>\n",
       "      <td>5872.32</td>\n",
       "      <td>24</td>\n",
       "      <td>2017-06-26</td>\n",
       "      <td>2017-07-20</td>\n",
       "      <td>244.68</td>\n",
       "      <td>8</td>\n",
       "      <td>245.00</td>\n",
       "      <td>2018-02-20</td>\n",
       "      <td>1959.68</td>\n",
       "      <td>2018-02-20</td>\n",
       "      <td>13</td>\n",
       "      <td>2018-07-27</td>\n",
       "      <td>3194.68</td>\n",
       "    </tr>\n",
       "    <tr>\n",
       "      <th>46178</th>\n",
       "      <td>20170626/13</td>\n",
       "      <td>7</td>\n",
       "      <td>Female</td>\n",
       "      <td>57</td>\n",
       "      <td>41-200</td>\n",
       "      <td>0</td>\n",
       "      <td>5872.32</td>\n",
       "      <td>24</td>\n",
       "      <td>2017-06-26</td>\n",
       "      <td>2017-07-20</td>\n",
       "      <td>244.68</td>\n",
       "      <td>9</td>\n",
       "      <td>245.00</td>\n",
       "      <td>2018-03-20</td>\n",
       "      <td>2204.68</td>\n",
       "      <td>2018-03-20</td>\n",
       "      <td>13</td>\n",
       "      <td>2018-07-27</td>\n",
       "      <td>3194.68</td>\n",
       "    </tr>\n",
       "    <tr>\n",
       "      <th>46179</th>\n",
       "      <td>20170626/13</td>\n",
       "      <td>7</td>\n",
       "      <td>Female</td>\n",
       "      <td>57</td>\n",
       "      <td>41-200</td>\n",
       "      <td>0</td>\n",
       "      <td>5872.32</td>\n",
       "      <td>24</td>\n",
       "      <td>2017-06-26</td>\n",
       "      <td>2017-07-20</td>\n",
       "      <td>244.68</td>\n",
       "      <td>10</td>\n",
       "      <td>245.00</td>\n",
       "      <td>2018-04-19</td>\n",
       "      <td>2449.68</td>\n",
       "      <td>2018-04-20</td>\n",
       "      <td>13</td>\n",
       "      <td>2018-07-27</td>\n",
       "      <td>3194.68</td>\n",
       "    </tr>\n",
       "  </tbody>\n",
       "</table>\n",
       "</div>"
      ],
      "text/plain": [
       "           loan_ID  client_ID     sex  age post_code  cash_payment  \\\n",
       "46170  20170626/13          7  Female   57    41-200             0   \n",
       "46171  20170626/13          7  Female   57    41-200             0   \n",
       "46172  20170626/13          7  Female   57    41-200             0   \n",
       "46173  20170626/13          7  Female   57    41-200             0   \n",
       "46174  20170626/13          7  Female   57    41-200             0   \n",
       "46175  20170626/13          7  Female   57    41-200             0   \n",
       "46176  20170626/13          7  Female   57    41-200             0   \n",
       "46177  20170626/13          7  Female   57    41-200             0   \n",
       "46178  20170626/13          7  Female   57    41-200             0   \n",
       "46179  20170626/13          7  Female   57    41-200             0   \n",
       "\n",
       "       initial_loan_value  installment_count payout_date  \\\n",
       "46170             5872.32                 24  2017-06-26   \n",
       "46171             5872.32                 24  2017-06-26   \n",
       "46172             5872.32                 24  2017-06-26   \n",
       "46173             5872.32                 24  2017-06-26   \n",
       "46174             5872.32                 24  2017-06-26   \n",
       "46175             5872.32                 24  2017-06-26   \n",
       "46176             5872.32                 24  2017-06-26   \n",
       "46177             5872.32                 24  2017-06-26   \n",
       "46178             5872.32                 24  2017-06-26   \n",
       "46179             5872.32                 24  2017-06-26   \n",
       "\n",
       "      first_installment_date  installment  period  payment_value payment_date  \\\n",
       "46170             2017-07-20       244.68       1         244.68   2017-07-19   \n",
       "46171             2017-07-20       244.68       2         245.00   2017-08-22   \n",
       "46172             2017-07-20       244.68       3         245.00   2017-09-18   \n",
       "46173             2017-07-20       244.68       4         245.00   2017-10-20   \n",
       "46174             2017-07-20       244.68       5         245.00   2017-11-17   \n",
       "46175             2017-07-20       244.68       6         245.00   2017-12-20   \n",
       "46176             2017-07-20       244.68       7         245.00   2018-01-22   \n",
       "46177             2017-07-20       244.68       8         245.00   2018-02-20   \n",
       "46178             2017-07-20       244.68       9         245.00   2018-03-20   \n",
       "46179             2017-07-20       244.68      10         245.00   2018-04-19   \n",
       "\n",
       "       cumulated_payments expected_payment_date  last_payment_period  \\\n",
       "46170              244.68            2017-07-20                   13   \n",
       "46171              489.68            2017-08-20                   13   \n",
       "46172              734.68            2017-09-20                   13   \n",
       "46173              979.68            2017-10-20                   13   \n",
       "46174             1224.68            2017-11-20                   13   \n",
       "46175             1469.68            2017-12-20                   13   \n",
       "46176             1714.68            2018-01-20                   13   \n",
       "46177             1959.68            2018-02-20                   13   \n",
       "46178             2204.68            2018-03-20                   13   \n",
       "46179             2449.68            2018-04-20                   13   \n",
       "\n",
       "      last_payment_date  max_cumulated_payments  \n",
       "46170        2018-07-27                 3194.68  \n",
       "46171        2018-07-27                 3194.68  \n",
       "46172        2018-07-27                 3194.68  \n",
       "46173        2018-07-27                 3194.68  \n",
       "46174        2018-07-27                 3194.68  \n",
       "46175        2018-07-27                 3194.68  \n",
       "46176        2018-07-27                 3194.68  \n",
       "46177        2018-07-27                 3194.68  \n",
       "46178        2018-07-27                 3194.68  \n",
       "46179        2018-07-27                 3194.68  "
      ]
     },
     "execution_count": 24,
     "metadata": {},
     "output_type": "execute_result"
    }
   ],
   "source": [
    "df.head(10)"
   ]
  },
  {
   "cell_type": "markdown",
   "metadata": {},
   "source": [
    "## Calculating key KPIs"
   ]
  },
  {
   "cell_type": "code",
   "execution_count": 25,
   "metadata": {},
   "outputs": [],
   "source": [
    "df[\"payment_delay\"]=df.payment_date-df.expected_payment_date\n",
    "df.payment_delay=df.payment_delay.apply(lambda x: x.days)\n",
    "df[\"month\"]=df.expected_payment_date.apply(lambda x: x.month)\n",
    "df[\"payment_completeness\"]=df.payment_value/df.installment\n",
    "df['paid_ratio']=df.cumulated_payments/df.initial_loan_value\n"
   ]
  },
  {
   "cell_type": "code",
   "execution_count": 26,
   "metadata": {},
   "outputs": [],
   "source": [
    "df[\"year\"]=df.payment_date.apply(lambda x:x.year)"
   ]
  },
  {
   "cell_type": "code",
   "execution_count": 27,
   "metadata": {},
   "outputs": [],
   "source": [
    "df[\"is_male\"]=np.where(df.sex==\"Male\",1,0)\n",
    "df[\"is_christmass_season\"]=df.month.apply(lambda x: x in(1,2,12))\n",
    "df.is_christmass_season=np.where(df.is_christmass_season,1,0)"
   ]
  },
  {
   "cell_type": "code",
   "execution_count": 28,
   "metadata": {},
   "outputs": [],
   "source": [
    "threshold=0.2\n",
    "df[\"is_default\"]=np.where(df.payment_completeness<threshold,1,0)\n",
    "df.payment_completeness=np.where(df.payment_completeness>2,2, df.payment_completeness)"
   ]
  },
  {
   "cell_type": "code",
   "execution_count": 29,
   "metadata": {},
   "outputs": [],
   "source": [
    "df.reset_index(inplace=True)\n",
    "import datetime\n",
    "df[\"month_year\"]=np.NaN\n",
    "for i in range(0,len(df)):\n",
    "   \n",
    "    df[\"month_year\"][i]=datetime.date(year=df.payment_date[i].year,month=df.payment_date[i].month,day=1)\n",
    "    "
   ]
  },
  {
   "cell_type": "code",
   "execution_count": 30,
   "metadata": {},
   "outputs": [],
   "source": [
    "df[\"date_bucket\"] = pd.cut(df.payment_date,25)\n",
    "df[\"date_bucket\"]=df[\"date_bucket\"].apply(lambda x:x.right)\n"
   ]
  },
  {
   "cell_type": "code",
   "execution_count": 31,
   "metadata": {},
   "outputs": [],
   "source": [
    "df.drop(columns=[\"index\"],inplace=True)"
   ]
  },
  {
   "cell_type": "code",
   "execution_count": 32,
   "metadata": {},
   "outputs": [],
   "source": [
    "df.payment_delay=np.where(df.payment_delay>60,60,df.payment_delay)\n",
    "df.payment_delay=np.where(df.payment_delay<-60,-60,df.payment_delay)"
   ]
  },
  {
   "cell_type": "code",
   "execution_count": null,
   "metadata": {},
   "outputs": [],
   "source": []
  }
 ],
 "metadata": {
  "kernelspec": {
   "display_name": "Python 3",
   "language": "python",
   "name": "python3"
  },
  "language_info": {
   "codemirror_mode": {
    "name": "ipython",
    "version": 3
   },
   "file_extension": ".py",
   "mimetype": "text/x-python",
   "name": "python",
   "nbconvert_exporter": "python",
   "pygments_lexer": "ipython3",
   "version": "3.7.3"
  },
  "toc": {
   "base_numbering": 1,
   "nav_menu": {},
   "number_sections": true,
   "sideBar": true,
   "skip_h1_title": false,
   "title_cell": "Table of Contents",
   "title_sidebar": "Contents",
   "toc_cell": true,
   "toc_position": {
    "height": "calc(100% - 180px)",
    "left": "10px",
    "top": "150px",
    "width": "369.6px"
   },
   "toc_section_display": true,
   "toc_window_display": true
  }
 },
 "nbformat": 4,
 "nbformat_minor": 1
}
