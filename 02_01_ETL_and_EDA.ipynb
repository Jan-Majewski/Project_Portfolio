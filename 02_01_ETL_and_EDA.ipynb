{
 "cells": [
  {
   "cell_type": "markdown",
   "metadata": {
    "toc": true
   },
   "source": [
    "<h1>Table of Contents<span class=\"tocSkip\"></span></h1>\n",
    "<div class=\"toc\"><ul class=\"toc-item\"><li><span><a href=\"#Data-import-and-preparation\" data-toc-modified-id=\"Data-import-and-preparation-1\"><span class=\"toc-item-num\">1&nbsp;&nbsp;</span>Data import and preparation</a></span><ul class=\"toc-item\"><li><span><a href=\"#Translating-column-names-to-English\" data-toc-modified-id=\"Translating-column-names-to-English-1.1\"><span class=\"toc-item-num\">1.1&nbsp;&nbsp;</span>Translating column names to English</a></span></li></ul></li><li><span><a href=\"#Data-transformation-and-Feature-engineering\" data-toc-modified-id=\"Data-transformation-and-Feature-engineering-2\"><span class=\"toc-item-num\">2&nbsp;&nbsp;</span>Data transformation and Feature engineering</a></span><ul class=\"toc-item\"><li><span><a href=\"#Creating-default-flag\" data-toc-modified-id=\"Creating-default-flag-2.1\"><span class=\"toc-item-num\">2.1&nbsp;&nbsp;</span>Creating default flag</a></span></li><li><span><a href=\"#Calculating-key-KPIs\" data-toc-modified-id=\"Calculating-key-KPIs-2.2\"><span class=\"toc-item-num\">2.2&nbsp;&nbsp;</span>Calculating key KPIs</a></span></li><li><span><a href=\"#Outputing-data-for-further-modeling\" data-toc-modified-id=\"Outputing-data-for-further-modeling-2.3\"><span class=\"toc-item-num\">2.3&nbsp;&nbsp;</span>Outputing data for further modeling</a></span></li><li><span><a href=\"#Aggregating-monthly-data-to-form-client-characteristic\" data-toc-modified-id=\"Aggregating-monthly-data-to-form-client-characteristic-2.4\"><span class=\"toc-item-num\">2.4&nbsp;&nbsp;</span>Aggregating monthly data to form client characteristic</a></span></li></ul></li><li><span><a href=\"#Exploring-client-characteristics\" data-toc-modified-id=\"Exploring-client-characteristics-3\"><span class=\"toc-item-num\">3&nbsp;&nbsp;</span>Exploring client characteristics</a></span><ul class=\"toc-item\"><li><span><a href=\"#Age\" data-toc-modified-id=\"Age-3.1\"><span class=\"toc-item-num\">3.1&nbsp;&nbsp;</span>Age</a></span></li><li><span><a href=\"#Loan-Volume\" data-toc-modified-id=\"Loan-Volume-3.2\"><span class=\"toc-item-num\">3.2&nbsp;&nbsp;</span>Loan Volume</a></span></li><li><span><a href=\"#Payment-period---installment-index\" data-toc-modified-id=\"Payment-period---installment-index-3.3\"><span class=\"toc-item-num\">3.3&nbsp;&nbsp;</span>Payment period - installment index</a></span></li><li><span><a href=\"#Cash-vs-transfer\" data-toc-modified-id=\"Cash-vs-transfer-3.4\"><span class=\"toc-item-num\">3.4&nbsp;&nbsp;</span>Cash vs transfer</a></span></li></ul></li><li><span><a href=\"#Exploring-Time-Series-data\" data-toc-modified-id=\"Exploring-Time-Series-data-4\"><span class=\"toc-item-num\">4&nbsp;&nbsp;</span>Exploring Time Series data</a></span><ul class=\"toc-item\"><li><span><a href=\"#Performance-in-relation-to-installment-index\" data-toc-modified-id=\"Performance-in-relation-to-installment-index-4.1\"><span class=\"toc-item-num\">4.1&nbsp;&nbsp;</span>Performance in relation to installment index</a></span></li><li><span><a href=\"#How-does-loan-maturity-affect-performance\" data-toc-modified-id=\"How-does-loan-maturity-affect-performance-4.2\"><span class=\"toc-item-num\">4.2&nbsp;&nbsp;</span>How does loan maturity affect performance</a></span></li><li><span><a href=\"#Performance-evolution-over-2-year-period\" data-toc-modified-id=\"Performance-evolution-over-2-year-period-4.3\"><span class=\"toc-item-num\">4.3&nbsp;&nbsp;</span>Performance evolution over 2 year period</a></span></li></ul></li></ul></div>"
   ]
  },
  {
   "cell_type": "code",
   "execution_count": 1,
   "metadata": {},
   "outputs": [],
   "source": [
    "import pandas as pd\n",
    "import numpy as np\n",
    "import random as random\n",
    "\n",
    "# plotly standard imports\n",
    "from datetime import datetime\n",
    "from datetime import timedelta  "
   ]
  },
  {
   "cell_type": "code",
   "execution_count": 4,
   "metadata": {},
   "outputs": [
    {
     "data": {
      "text/html": [
       "        <script type=\"text/javascript\">\n",
       "        window.PlotlyConfig = {MathJaxConfig: 'local'};\n",
       "        if (window.MathJax) {MathJax.Hub.Config({SVG: {font: \"STIX-Web\"}});}\n",
       "        if (typeof require !== 'undefined') {\n",
       "        require.undef(\"plotly\");\n",
       "        requirejs.config({\n",
       "            paths: {\n",
       "                'plotly': ['https://cdn.plot.ly/plotly-latest.min']\n",
       "            }\n",
       "        });\n",
       "        require(['plotly'], function(Plotly) {\n",
       "            window._Plotly = Plotly;\n",
       "        });\n",
       "        }\n",
       "        </script>\n",
       "        "
      ]
     },
     "metadata": {},
     "output_type": "display_data"
    }
   ],
   "source": [
    "import cufflinks\n",
    "from IPython.core.interactiveshell import InteractiveShell\n",
    "InteractiveShell.ast_node_interactivity = 'all'\n",
    "\n",
    "from plotly.offline import iplot\n",
    "cufflinks.go_offline()\n",
    "\n",
    "# Set global theme\n",
    "cufflinks.set_config_file(world_readable=True, theme='pearl')\n",
    "import plotly.figure_factory as ff\n",
    "\n",
    "\n",
    "import plotly.express as px\n",
    "import plotly.graph_objs as go\n",
    "import chart_studio.plotly as py"
   ]
  },
  {
   "cell_type": "markdown",
   "metadata": {},
   "source": [
    "# Data import and preparation"
   ]
  },
  {
   "cell_type": "code",
   "execution_count": 5,
   "metadata": {},
   "outputs": [],
   "source": [
    "data_input=pd.read_excel(\"raw_data.xlsx\", sep=\";\")"
   ]
  },
  {
   "cell_type": "code",
   "execution_count": 6,
   "metadata": {},
   "outputs": [
    {
     "data": {
      "text/plain": [
       "Timestamp('2019-08-23 00:00:00')"
      ]
     },
     "execution_count": 6,
     "metadata": {},
     "output_type": "execute_result"
    }
   ],
   "source": [
    "dataset_downland_date=data_input.data_ts.max()\n",
    "dataset_downland_date"
   ]
  },
  {
   "cell_type": "code",
   "execution_count": null,
   "metadata": {},
   "outputs": [],
   "source": []
  }
 ],
 "metadata": {
  "kernelspec": {
   "display_name": "Python 3",
   "language": "python",
   "name": "python3"
  },
  "language_info": {
   "codemirror_mode": {
    "name": "ipython",
    "version": 3
   },
   "file_extension": ".py",
   "mimetype": "text/x-python",
   "name": "python",
   "nbconvert_exporter": "python",
   "pygments_lexer": "ipython3",
   "version": "3.7.3"
  },
  "toc": {
   "base_numbering": 1,
   "nav_menu": {},
   "number_sections": true,
   "sideBar": true,
   "skip_h1_title": false,
   "title_cell": "Table of Contents",
   "title_sidebar": "Contents",
   "toc_cell": true,
   "toc_position": {
    "height": "calc(100% - 180px)",
    "left": "10px",
    "top": "150px",
    "width": "369.6px"
   },
   "toc_section_display": true,
   "toc_window_display": true
  }
 },
 "nbformat": 4,
 "nbformat_minor": 1
}
