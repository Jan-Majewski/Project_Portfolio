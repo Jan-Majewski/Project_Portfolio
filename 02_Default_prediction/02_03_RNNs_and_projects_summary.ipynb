{
 "cells": [
  {
   "cell_type": "markdown",
   "metadata": {
    "toc": true
   },
   "source": [
    "<h1>Table of Contents<span class=\"tocSkip\"></span></h1>\n",
    "<div class=\"toc\"><ul class=\"toc-item\"><li><span><a href=\"#Key-imports-and-functions\" data-toc-modified-id=\"Key-imports-and-functions-1\"><span class=\"toc-item-num\">1&nbsp;&nbsp;</span>Key imports and functions</a></span></li><li><span><a href=\"#Data-import-and-preparation\" data-toc-modified-id=\"Data-import-and-preparation-2\"><span class=\"toc-item-num\">2&nbsp;&nbsp;</span>Data import and preparation</a></span><ul class=\"toc-item\"><li><span><a href=\"#Standarizing-data\" data-toc-modified-id=\"Standarizing-data-2.1\"><span class=\"toc-item-num\">2.1&nbsp;&nbsp;</span>Standarizing data</a></span></li><li><span><a href=\"#Transforming-data-for-RNNs\" data-toc-modified-id=\"Transforming-data-for-RNNs-2.2\"><span class=\"toc-item-num\">2.2&nbsp;&nbsp;</span>Transforming data for RNNs</a></span></li><li><span><a href=\"#Splitting-data-to-train-and-test-sets\" data-toc-modified-id=\"Splitting-data-to-train-and-test-sets-2.3\"><span class=\"toc-item-num\">2.3&nbsp;&nbsp;</span>Splitting data to train and test sets</a></span></li></ul></li><li><span><a href=\"#Recurrent-Neural-Network-models\" data-toc-modified-id=\"Recurrent-Neural-Network-models-3\"><span class=\"toc-item-num\">3&nbsp;&nbsp;</span>Recurrent Neural Network models</a></span><ul class=\"toc-item\"><li><span><a href=\"#Single-RNN-layer-model\" data-toc-modified-id=\"Single-RNN-layer-model-3.1\"><span class=\"toc-item-num\">3.1&nbsp;&nbsp;</span>Single RNN layer model</a></span></li><li><span><a href=\"#Deep-RNN\" data-toc-modified-id=\"Deep-RNN-3.2\"><span class=\"toc-item-num\">3.2&nbsp;&nbsp;</span>Deep RNN</a></span></li><li><span><a href=\"#Deep-RNN-with-GRU\" data-toc-modified-id=\"Deep-RNN-with-GRU-3.3\"><span class=\"toc-item-num\">3.3&nbsp;&nbsp;</span>Deep RNN with GRU</a></span></li><li><span><a href=\"#Deep-RNN-with-LSTM\" data-toc-modified-id=\"Deep-RNN-with-LSTM-3.4\"><span class=\"toc-item-num\">3.4&nbsp;&nbsp;</span>Deep RNN with LSTM</a></span></li></ul></li><li><span><a href=\"#Results-summary\" data-toc-modified-id=\"Results-summary-4\"><span class=\"toc-item-num\">4&nbsp;&nbsp;</span>Results summary</a></span><ul class=\"toc-item\"><li><span><a href=\"#RNN-models-comparison\" data-toc-modified-id=\"RNN-models-comparison-4.1\"><span class=\"toc-item-num\">4.1&nbsp;&nbsp;</span>RNN models comparison</a></span></li><li><span><a href=\"#Base-ML-models-and-RNN-comparison\" data-toc-modified-id=\"Base-ML-models-and-RNN-comparison-4.2\"><span class=\"toc-item-num\">4.2&nbsp;&nbsp;</span>Base ML models and RNN comparison</a></span></li><li><span><a href=\"#Best-model-characteristic\" data-toc-modified-id=\"Best-model-characteristic-4.3\"><span class=\"toc-item-num\">4.3&nbsp;&nbsp;</span>Best model characteristic</a></span></li></ul></li></ul></div>"
   ]
  },
  {
   "cell_type": "markdown",
   "metadata": {
    "heading_collapsed": true
   },
   "source": [
    "# Key imports and functions"
   ]
  },
  {
   "cell_type": "code",
   "execution_count": 1,
   "metadata": {
    "hidden": true
   },
   "outputs": [
    {
     "data": {
      "text/html": [
       "        <script type=\"text/javascript\">\n",
       "        window.PlotlyConfig = {MathJaxConfig: 'local'};\n",
       "        if (window.MathJax) {MathJax.Hub.Config({SVG: {font: \"STIX-Web\"}});}\n",
       "        if (typeof require !== 'undefined') {\n",
       "        require.undef(\"plotly\");\n",
       "        requirejs.config({\n",
       "            paths: {\n",
       "                'plotly': ['https://cdn.plot.ly/plotly-latest.min']\n",
       "            }\n",
       "        });\n",
       "        require(['plotly'], function(Plotly) {\n",
       "            window._Plotly = Plotly;\n",
       "        });\n",
       "        }\n",
       "        </script>\n",
       "        "
      ]
     },
     "metadata": {},
     "output_type": "display_data"
    }
   ],
   "source": [
    "import pandas as pd\n",
    "import numpy as np\n",
    "import random as random\n",
    "\n",
    "# plotly standard imports\n",
    "import plotly.graph_objs as go\n",
    "import chart_studio.plotly as py\n",
    "from datetime import datetime\n",
    "from datetime import timedelta  \n",
    "\n",
    "%matplotlib inline\n",
    "import matplotlib as mpl\n",
    "import matplotlib.pyplot as plt\n",
    "mpl.rc('axes', labelsize=14)\n",
    "mpl.rc('xtick', labelsize=12)\n",
    "mpl.rc('ytick', labelsize=12)\n",
    "\n",
    "import tensorflow as tf\n",
    "from tensorflow import keras\n",
    "\n",
    "\n",
    "# Cufflinks wrapper on plotly\n",
    "import cufflinks\n",
    "from IPython.core.interactiveshell import InteractiveShell\n",
    "InteractiveShell.ast_node_interactivity = 'all'\n",
    "\n",
    "from plotly.offline import iplot\n",
    "cufflinks.go_offline()\n",
    "\n",
    "# Set global theme\n",
    "cufflinks.set_config_file(world_readable=True, theme='pearl')\n",
    "import plotly.figure_factory as ff"
   ]
  },
  {
   "cell_type": "code",
   "execution_count": 2,
   "metadata": {
    "hidden": true
   },
   "outputs": [
    {
     "data": {
      "text/html": [
       "        <script type=\"text/javascript\">\n",
       "        window.PlotlyConfig = {MathJaxConfig: 'local'};\n",
       "        if (window.MathJax) {MathJax.Hub.Config({SVG: {font: \"STIX-Web\"}});}\n",
       "        if (typeof require !== 'undefined') {\n",
       "        require.undef(\"plotly\");\n",
       "        requirejs.config({\n",
       "            paths: {\n",
       "                'plotly': ['https://cdn.plot.ly/plotly-latest.min']\n",
       "            }\n",
       "        });\n",
       "        require(['plotly'], function(Plotly) {\n",
       "            window._Plotly = Plotly;\n",
       "        });\n",
       "        }\n",
       "        </script>\n",
       "        "
      ]
     },
     "metadata": {},
     "output_type": "display_data"
    }
   ],
   "source": [
    "def model_comparison_outputs_DNN(X_train, y_train, X_test, y_test, model):\n",
    "    \n",
    "    df_pred_train=prediction_df(X_train,y_train,model)\n",
    "    df_pred_test=prediction_df(X_test,y_test,model)\n",
    "    \n",
    "    df_train_pr=precision_recall_curve(df_pred_train)\n",
    "    df_test_pr=precision_recall_curve(df_pred_test)\n",
    "    \n",
    "    return df_pred_train,df_pred_test, df_train_pr, df_test_pr\n",
    "    \n",
    "\n",
    "from Custom_Functions import (\n",
    "append_split_class, df_to_rnn_matrix, shuffle_arrays,\n",
    "sequences_train_test_split, precision_recall_threshold,\n",
    "precision_recall_curve, model_comparison_outputs,\n",
    "prediction_df, plot_recall_surplus_train_test, plot_recall_surplus_train_test\n",
    ")\n",
    "\n",
    "\n",
    "\n",
    "\n",
    "\n",
    "\n",
    "\n",
    "\n",
    "def smooth_curve(points, factor=0.8): #this function will make our plots more smooth\n",
    "\tsmoothed_points = []\n",
    "\tfor point in points:\n",
    "\t\tif smoothed_points:\n",
    "\t\t\tprevious = smoothed_points[-1]\n",
    "\t\t\tsmoothed_points.append(previous*factor+point*(1-factor))\n",
    "\t\telse:\n",
    "\t\t\tsmoothed_points.append(point)\n",
    "\treturn smoothed_points\n",
    "\n",
    "\n",
    "\n",
    "\n",
    "n_steps = 9\n",
    "def plot_series(series, y=None, y_pred=None, x_label=\"$t$\", y_label=\"$x(t)$\"):\n",
    "    plt.plot(series, \".-\")\n",
    "    if y is not None:\n",
    "        plt.plot(n_steps, y, \"bx\", markersize=10)\n",
    "    if y_pred is not None:\n",
    "        plt.plot(n_steps, y_pred, \"ro\")\n",
    "    plt.grid(True)\n",
    "    if x_label:\n",
    "        plt.xlabel(x_label, fontsize=16)\n",
    "    if y_label:\n",
    "        plt.ylabel(y_label, fontsize=16, rotation=0)\n",
    "    plt.hlines(0, 0, 100, linewidth=1)\n",
    "    plt.axis([0, n_steps + 1, 0, 2])\n",
    "\n",
    "    \n",
    "def prediction_df(X,y,model):\n",
    "    y_pred = model.predict(X)\n",
    "    df_pred=pd.DataFrame(y_pred,columns=[\"y_pred\"])\n",
    "    df_pred[\"y_true\"]=pd.DataFrame(y) \n",
    "    df_pred[\"y_true_cl\"]=binarize_labels(y,-0.5)\n",
    "    df_pred[\"ones\"]=1\n",
    "    df_pred.sort_values(by=\"y_true\", inplace=True)\n",
    "    df_pred[\"true_rank\"]=df_pred.ones.cumsum()\n",
    "    df_pred.sort_values(by=\"y_pred\", inplace=True)\n",
    "    df_pred[\"pred_rank\"]=df_pred.ones.cumsum()\n",
    "\n",
    "    df_pred.drop(columns=\"ones\",inplace=True)\n",
    "    \n",
    "    return(df_pred)\n",
    "\n",
    "def binarize_labels(y, threshold):\n",
    "    y=np.where(y<threshold,1,0)\n",
    "    return(y)"
   ]
  },
  {
   "cell_type": "markdown",
   "metadata": {},
   "source": [
    "# Data import and preparation"
   ]
  },
  {
   "cell_type": "code",
   "execution_count": 3,
   "metadata": {},
   "outputs": [],
   "source": [
    "df=pd.read_excel(\"processed_data.xlsx\")\n",
    "df.drop(columns=['Unnamed: 0'],inplace=True)\n",
    "\n",
    "df_max_period=df[[\"loan_ID\",\"period\"]].groupby(\"loan_ID\").max()\n",
    "df_max_period.reset_index(inplace=True)\n",
    "\n",
    "df_max_period.rename(columns={'period':\"period_max\"},inplace=True)\n",
    "\n",
    "df=df.merge(df_max_period, on=\"loan_ID\")"
   ]
  },
  {
   "cell_type": "markdown",
   "metadata": {},
   "source": [
    "## Standarizing data"
   ]
  },
  {
   "cell_type": "code",
   "execution_count": 4,
   "metadata": {},
   "outputs": [
    {
     "data": {
      "text/plain": [
       "(7536, 35)"
      ]
     },
     "execution_count": 4,
     "metadata": {},
     "output_type": "execute_result"
    },
    {
     "data": {
      "text/plain": [
       "(29771, 35)"
      ]
     },
     "execution_count": 4,
     "metadata": {},
     "output_type": "execute_result"
    },
    {
     "data": {
      "text/plain": [
       "Index(['loan_ID', 'client_ID', 'sex', 'age', 'post_code', 'cash_payment',\n",
       "       'initial_loan_value', 'installment_count', 'payout_date',\n",
       "       'first_installment_date', 'installment', 'period', 'payment_value',\n",
       "       'payment_date', 'cumulated_payments', 'expected_payment_date',\n",
       "       'last_payment_period', 'last_payment_date', 'max_cumulated_payments',\n",
       "       'payment_delay', 'month', 'payment_completeness', 'paid_ratio', 'year',\n",
       "       'is_male', 'is_christmass_season', 'is_default', 'month_year',\n",
       "       'date_bucket', 'period_max', 'payment_delay_norm',\n",
       "       'payment_completeness_norm', 'train', 'test', 'val'],\n",
       "      dtype='object')"
      ]
     },
     "execution_count": 4,
     "metadata": {},
     "output_type": "execute_result"
    }
   ],
   "source": [
    "payment_delay_std=df.payment_delay.std()\n",
    "payment_delay_mean=df.payment_delay.mean()\n",
    "completeness_mean=1\n",
    "\n",
    "\n",
    "\n",
    "df[\"payment_delay_norm\"]=(df[\"payment_delay\"]-payment_delay_mean)/payment_delay_std\n",
    "df[\"payment_completeness_norm\"]=(df.payment_completeness-completeness_mean)\n",
    "\n",
    "np.random.seed(51)\n",
    "df=append_split_class(df, 0.8, 0.2)\n",
    "\n",
    "df_test=df[df.test]\n",
    "df_train=df[df.train]\n",
    "\n",
    "df_test.shape\n",
    "\n",
    "df_train.shape\n",
    "\n",
    "df.columns"
   ]
  },
  {
   "cell_type": "markdown",
   "metadata": {},
   "source": [
    "## Transforming data for RNNs"
   ]
  },
  {
   "cell_type": "code",
   "execution_count": 5,
   "metadata": {},
   "outputs": [
    {
     "data": {
      "text/plain": [
       "['loan_ID', 'period', 'payment_delay_norm', 'payment_completeness_norm']"
      ]
     },
     "execution_count": 5,
     "metadata": {},
     "output_type": "execute_result"
    }
   ],
   "source": [
    "def df_to_rnn_matrix_base(df, min_payments,RNN_features):\n",
    "\n",
    "    df_rnn=df[df.period_max>=min_payments][RNN_features]\n",
    "    df_rnn=df_rnn[df_rnn.period<=min_payments]\n",
    "    ID_list=df_rnn.loan_ID.unique()\n",
    "    \n",
    "    for loan_id in ID_list:\n",
    "        \n",
    "        \n",
    "        X_temp=df_rnn[df_rnn.loan_ID==loan_id][RNN_features[2:]].values\n",
    "        X_temp=X_temp.reshape((1,X_temp.shape[0],X_temp.shape[1]))\n",
    "        \n",
    "\n",
    "        \n",
    "        \n",
    "        if loan_id==ID_list[0]:\n",
    "            X=X_temp\n",
    "        else:\n",
    "            X=np.concatenate([X, X_temp], 0)\n",
    "        \n",
    "    return(X)\n",
    "\n",
    "\n",
    "RNN_features=['loan_ID',\"period\", 'payment_delay_norm', 'payment_completeness_norm',]\n",
    "\n",
    "RNN_features"
   ]
  },
  {
   "cell_type": "code",
   "execution_count": 6,
   "metadata": {},
   "outputs": [],
   "source": [
    "#Defining minimal window size and client maturity for data augmentation\n",
    "window_size=10\n",
    "min_len=10"
   ]
  },
  {
   "cell_type": "code",
   "execution_count": 7,
   "metadata": {},
   "outputs": [],
   "source": [
    "X_train=df_to_rnn_matrix_base(df_train,min_len,RNN_features)\n",
    "X_train_aug=df_to_rnn_matrix(df_train,min_len,RNN_features,window_size)\n",
    "X_test=df_to_rnn_matrix_base(df_test,min_len,RNN_features)"
   ]
  },
  {
   "cell_type": "code",
   "execution_count": 8,
   "metadata": {},
   "outputs": [
    {
     "data": {
      "text/plain": [
       "(1286, 10, 2)"
      ]
     },
     "execution_count": 8,
     "metadata": {},
     "output_type": "execute_result"
    },
    {
     "data": {
      "text/plain": [
       "(5488, 10, 2)"
      ]
     },
     "execution_count": 8,
     "metadata": {},
     "output_type": "execute_result"
    },
    {
     "data": {
      "text/plain": [
       "(345, 10, 2)"
      ]
     },
     "execution_count": 8,
     "metadata": {},
     "output_type": "execute_result"
    }
   ],
   "source": [
    "X_train.shape\n",
    "X_train_aug.shape\n",
    "X_test.shape"
   ]
  },
  {
   "cell_type": "markdown",
   "metadata": {},
   "source": [
    "## Splitting data to train and test sets "
   ]
  },
  {
   "cell_type": "code",
   "execution_count": 9,
   "metadata": {},
   "outputs": [],
   "source": [
    "X_train_aug, y_train_aug=sequences_train_test_split(X_train_aug,min_len)\n",
    "X_train, y_train=sequences_train_test_split(X_train,min_len)\n",
    "X_test, y_test=sequences_train_test_split(X_test,min_len)"
   ]
  },
  {
   "cell_type": "code",
   "execution_count": 10,
   "metadata": {},
   "outputs": [
    {
     "data": {
      "text/plain": [
       "(1286, 9, 2)"
      ]
     },
     "execution_count": 10,
     "metadata": {},
     "output_type": "execute_result"
    },
    {
     "data": {
      "text/plain": [
       "(345, 9, 2)"
      ]
     },
     "execution_count": 10,
     "metadata": {},
     "output_type": "execute_result"
    },
    {
     "data": {
      "text/plain": [
       "(5488, 9, 2)"
      ]
     },
     "execution_count": 10,
     "metadata": {},
     "output_type": "execute_result"
    }
   ],
   "source": [
    "X_train.shape\n",
    "X_test.shape\n",
    "X_train_aug.shape"
   ]
  },
  {
   "cell_type": "code",
   "execution_count": 11,
   "metadata": {},
   "outputs": [
    {
     "data": {
      "text/plain": [
       "-0.1234040329305214"
      ]
     },
     "execution_count": 11,
     "metadata": {},
     "output_type": "execute_result"
    },
    {
     "data": {
      "text/plain": [
       "-0.12268138018699748"
      ]
     },
     "execution_count": 11,
     "metadata": {},
     "output_type": "execute_result"
    }
   ],
   "source": [
    "y_train.mean()\n",
    "y_test.mean()"
   ]
  },
  {
   "cell_type": "code",
   "execution_count": 12,
   "metadata": {},
   "outputs": [],
   "source": [
    "## Changing labels into binary class"
   ]
  },
  {
   "cell_type": "code",
   "execution_count": 13,
   "metadata": {},
   "outputs": [],
   "source": [
    "threshold=0.2-1\n",
    "y_test, y_train,y_train_aug=binarize_labels(y_test,threshold),binarize_labels(y_train,threshold),binarize_labels(y_train_aug,threshold)"
   ]
  },
  {
   "cell_type": "code",
   "execution_count": 14,
   "metadata": {},
   "outputs": [
    {
     "data": {
      "text/plain": [
       "0.12130637636080871"
      ]
     },
     "execution_count": 14,
     "metadata": {},
     "output_type": "execute_result"
    },
    {
     "data": {
      "text/plain": [
       "0.12753623188405797"
      ]
     },
     "execution_count": 14,
     "metadata": {},
     "output_type": "execute_result"
    },
    {
     "data": {
      "text/plain": [
       "0.12955539358600582"
      ]
     },
     "execution_count": 14,
     "metadata": {},
     "output_type": "execute_result"
    }
   ],
   "source": [
    "y_train.mean()\n",
    "y_test.mean()\n",
    "y_train_aug.mean()"
   ]
  },
  {
   "cell_type": "code",
   "execution_count": 15,
   "metadata": {},
   "outputs": [],
   "source": [
    "X_train_aug=X_train\n",
    "y_train_aug=y_train"
   ]
  },
  {
   "cell_type": "markdown",
   "metadata": {},
   "source": [
    "# Recurrent Neural Network models"
   ]
  },
  {
   "cell_type": "markdown",
   "metadata": {},
   "source": [
    "## Single RNN layer model"
   ]
  },
  {
   "cell_type": "code",
   "execution_count": 16,
   "metadata": {},
   "outputs": [],
   "source": [
    "tf.keras.backend.clear_session()\n",
    "tf.random.set_seed(51)\n",
    "input_dim=X_train.shape[1:]"
   ]
  },
  {
   "cell_type": "code",
   "execution_count": 17,
   "metadata": {},
   "outputs": [
    {
     "name": "stdout",
     "output_type": "stream",
     "text": [
      "Model: \"sequential\"\n",
      "_________________________________________________________________\n",
      "Layer (type)                 Output Shape              Param #   \n",
      "=================================================================\n",
      "simple_rnn (SimpleRNN)       (None, 50)                2650      \n",
      "_________________________________________________________________\n",
      "dropout (Dropout)            (None, 50)                0         \n",
      "_________________________________________________________________\n",
      "dense (Dense)                (None, 10)                510       \n",
      "_________________________________________________________________\n",
      "dense_1 (Dense)              (None, 1)                 11        \n",
      "=================================================================\n",
      "Total params: 3,171\n",
      "Trainable params: 3,171\n",
      "Non-trainable params: 0\n",
      "_________________________________________________________________\n"
     ]
    }
   ],
   "source": [
    "Base_rnn = keras.models.Sequential([\n",
    "    keras.layers.SimpleRNN(input_shape=[input_dim[0],input_dim[1]],units=50, activation=\"relu\"),\n",
    "    keras.layers.Dropout(0.5),\n",
    "    keras.layers.Dense(units=10, activation='relu'),\n",
    "    keras.layers.Dense(units=1, activation=\"sigmoid\")\n",
    "])\n",
    "\n",
    "Base_rnn.summary()"
   ]
  },
  {
   "cell_type": "code",
   "execution_count": 18,
   "metadata": {},
   "outputs": [],
   "source": [
    "optimizer = keras.optimizers.Adam(lr=0.0001)\n",
    "Base_rnn.compile(loss=\"mse\", optimizer=optimizer)"
   ]
  },
  {
   "cell_type": "code",
   "execution_count": 19,
   "metadata": {},
   "outputs": [
    {
     "name": "stdout",
     "output_type": "stream",
     "text": [
      "Train on 1286 samples, validate on 345 samples\n",
      "Epoch 1/50\n",
      "1286/1286 [==============================] - 3s 3ms/sample - loss: 0.2834 - val_loss: 0.2622\n",
      "Epoch 2/50\n",
      "1286/1286 [==============================] - 0s 281us/sample - loss: 0.2685 - val_loss: 0.2509\n",
      "Epoch 3/50\n",
      "1286/1286 [==============================] - 0s 284us/sample - loss: 0.2568 - val_loss: 0.2426\n",
      "Epoch 4/50\n",
      "1286/1286 [==============================] - 0s 266us/sample - loss: 0.2501 - val_loss: 0.2353\n",
      "Epoch 5/50\n",
      "1286/1286 [==============================] - 0s 267us/sample - loss: 0.2415 - val_loss: 0.2282\n",
      "Epoch 6/50\n",
      "1286/1286 [==============================] - 0s 258us/sample - loss: 0.2332 - val_loss: 0.2209\n",
      "Epoch 7/50\n",
      "1286/1286 [==============================] - 0s 251us/sample - loss: 0.2277 - val_loss: 0.2123\n",
      "Epoch 8/50\n",
      "1286/1286 [==============================] - 0s 253us/sample - loss: 0.2171 - val_loss: 0.2003\n",
      "Epoch 9/50\n",
      "1286/1286 [==============================] - 0s 264us/sample - loss: 0.2065 - val_loss: 0.1821\n",
      "Epoch 10/50\n",
      "1286/1286 [==============================] - 0s 251us/sample - loss: 0.1797 - val_loss: 0.1457\n",
      "Epoch 11/50\n",
      "1286/1286 [==============================] - 0s 261us/sample - loss: 0.1402 - val_loss: 0.1132\n",
      "Epoch 12/50\n",
      "1286/1286 [==============================] - 0s 256us/sample - loss: 0.1184 - val_loss: 0.1143\n",
      "Epoch 13/50\n",
      "1286/1286 [==============================] - 0s 267us/sample - loss: 0.1166 - val_loss: 0.1159\n",
      "Epoch 14/50\n",
      "1286/1286 [==============================] - 0s 257us/sample - loss: 0.1173 - val_loss: 0.1168\n",
      "Epoch 15/50\n",
      "1286/1286 [==============================] - 0s 254us/sample - loss: 0.1170 - val_loss: 0.1157\n",
      "Epoch 16/50\n",
      "1286/1286 [==============================] - 0s 267us/sample - loss: 0.1156 - val_loss: 0.1149\n",
      "Epoch 17/50\n",
      "1286/1286 [==============================] - 0s 267us/sample - loss: 0.1173 - val_loss: 0.1148\n",
      "Epoch 18/50\n",
      "1286/1286 [==============================] - 0s 263us/sample - loss: 0.1146 - val_loss: 0.1145\n",
      "Epoch 19/50\n",
      "1286/1286 [==============================] - 0s 260us/sample - loss: 0.1154 - val_loss: 0.1138\n",
      "Epoch 20/50\n",
      "1286/1286 [==============================] - 0s 290us/sample - loss: 0.1157 - val_loss: 0.1147\n",
      "Epoch 21/50\n",
      "1286/1286 [==============================] - 0s 257us/sample - loss: 0.1156 - val_loss: 0.1140\n",
      "Epoch 22/50\n",
      "1286/1286 [==============================] - 0s 263us/sample - loss: 0.1143 - val_loss: 0.1138\n",
      "Epoch 23/50\n",
      "1286/1286 [==============================] - 0s 256us/sample - loss: 0.1105 - val_loss: 0.1135\n",
      "Epoch 24/50\n",
      "1286/1286 [==============================] - 0s 263us/sample - loss: 0.1146 - val_loss: 0.1129\n",
      "Epoch 25/50\n",
      "1286/1286 [==============================] - 0s 260us/sample - loss: 0.1144 - val_loss: 0.1123\n",
      "Epoch 26/50\n",
      "1286/1286 [==============================] - 0s 268us/sample - loss: 0.1099 - val_loss: 0.1125\n",
      "Epoch 27/50\n",
      "1286/1286 [==============================] - 0s 256us/sample - loss: 0.1104 - val_loss: 0.1125\n",
      "Epoch 28/50\n",
      "1286/1286 [==============================] - 0s 267us/sample - loss: 0.1141 - val_loss: 0.1125\n",
      "Epoch 29/50\n",
      "1286/1286 [==============================] - 0s 253us/sample - loss: 0.1128 - val_loss: 0.1127\n",
      "Epoch 30/50\n",
      "1286/1286 [==============================] - 0s 249us/sample - loss: 0.1126 - val_loss: 0.1122\n",
      "Epoch 31/50\n",
      "1286/1286 [==============================] - 0s 255us/sample - loss: 0.1115 - val_loss: 0.1122\n",
      "Epoch 32/50\n",
      "1286/1286 [==============================] - 0s 272us/sample - loss: 0.1117 - val_loss: 0.1124\n",
      "Epoch 33/50\n",
      "1286/1286 [==============================] - 0s 253us/sample - loss: 0.1123 - val_loss: 0.1117\n",
      "Epoch 34/50\n",
      "1286/1286 [==============================] - 0s 263us/sample - loss: 0.1116 - val_loss: 0.1119\n",
      "Epoch 35/50\n",
      "1286/1286 [==============================] - 0s 258us/sample - loss: 0.1124 - val_loss: 0.1112\n",
      "Epoch 36/50\n",
      "1286/1286 [==============================] - 0s 297us/sample - loss: 0.1125 - val_loss: 0.1112\n",
      "Epoch 37/50\n",
      "1286/1286 [==============================] - 0s 279us/sample - loss: 0.1135 - val_loss: 0.1110\n",
      "Epoch 38/50\n",
      "1286/1286 [==============================] - 0s 251us/sample - loss: 0.1089 - val_loss: 0.1109\n",
      "Epoch 39/50\n",
      "1286/1286 [==============================] - 0s 284us/sample - loss: 0.1093 - val_loss: 0.1109\n",
      "Epoch 40/50\n",
      "1286/1286 [==============================] - 0s 263us/sample - loss: 0.1120 - val_loss: 0.1111\n",
      "Epoch 41/50\n",
      "1286/1286 [==============================] - 0s 255us/sample - loss: 0.1096 - val_loss: 0.1105\n",
      "Epoch 42/50\n",
      "1286/1286 [==============================] - 0s 267us/sample - loss: 0.1086 - val_loss: 0.1102\n",
      "Epoch 43/50\n",
      "1286/1286 [==============================] - 0s 271us/sample - loss: 0.1055 - val_loss: 0.1102\n",
      "Epoch 44/50\n",
      "1286/1286 [==============================] - 0s 263us/sample - loss: 0.1066 - val_loss: 0.1101\n",
      "Epoch 45/50\n",
      "1286/1286 [==============================] - 0s 296us/sample - loss: 0.1046 - val_loss: 0.1102\n",
      "Epoch 46/50\n",
      "1286/1286 [==============================] - 0s 292us/sample - loss: 0.1070 - val_loss: 0.1102\n",
      "Epoch 47/50\n",
      "1286/1286 [==============================] - 0s 291us/sample - loss: 0.1070 - val_loss: 0.1105\n",
      "Epoch 48/50\n",
      "1286/1286 [==============================] - 0s 285us/sample - loss: 0.1049 - val_loss: 0.1110\n",
      "Epoch 49/50\n",
      "1286/1286 [==============================] - 0s 285us/sample - loss: 0.1033 - val_loss: 0.1110\n",
      "Epoch 50/50\n",
      "1286/1286 [==============================] - 0s 280us/sample - loss: 0.1045 - val_loss: 0.1112\n"
     ]
    }
   ],
   "source": [
    "history = Base_rnn.fit(X_train_aug, y_train_aug, epochs=50,\n",
    "                    validation_data=(X_test, y_test))"
   ]
  },
  {
   "cell_type": "code",
   "execution_count": 20,
   "metadata": {},
   "outputs": [],
   "source": [
    "loss = history.history['loss'][10:]\n",
    "val_loss = history.history['val_loss'][10:]"
   ]
  },
  {
   "cell_type": "code",
   "execution_count": 21,
   "metadata": {},
   "outputs": [
    {
     "data": {
      "text/plain": [
       "[<matplotlib.lines.Line2D at 0x168a01095c0>]"
      ]
     },
     "execution_count": 21,
     "metadata": {},
     "output_type": "execute_result"
    },
    {
     "data": {
      "text/plain": [
       "[<matplotlib.lines.Line2D at 0x168a0099278>]"
      ]
     },
     "execution_count": 21,
     "metadata": {},
     "output_type": "execute_result"
    },
    {
     "data": {
      "text/plain": [
       "<matplotlib.legend.Legend at 0x168a0109b38>"
      ]
     },
     "execution_count": 21,
     "metadata": {},
     "output_type": "execute_result"
    },
    {
     "data": {
      "text/plain": [
       "Text(0.5, 1.0, 'Training and Validation loss')"
      ]
     },
     "execution_count": 21,
     "metadata": {},
     "output_type": "execute_result"
    },
    {
     "data": {
      "image/png": "[encoded data removed]",
      "text/plain": [
       "<Figure size 432x288 with 1 Axes>"
      ]
     },
     "metadata": {
      "needs_background": "light"
     },
     "output_type": "display_data"
    }
   ],
   "source": [
    "epochs = range(1, len(loss)+1)\n",
    "plt.plot(epochs, smooth_curve(loss), 'bo', label='Training loss')\n",
    "plt.plot(epochs, smooth_curve(val_loss), 'r-', label='Validation loss')\n",
    "plt.legend()\n",
    "plt.title('Training and Validation loss')\n",
    "plt.show()"
   ]
  },
  {
   "cell_type": "code",
   "execution_count": 22,
   "metadata": {},
   "outputs": [],
   "source": [
    "rnn_pred_train,rnn_pred_test,rnn_pr_train,rnn_pr_test= model_comparison_outputs_DNN(X_train,y_train, X_test, y_test, Base_rnn)"
   ]
  },
  {
   "cell_type": "code",
   "execution_count": 23,
   "metadata": {},
   "outputs": [
    {
     "data": {
      "application/vnd.plotly.v1+json": {
       "config": {
        "linkText": "Export to plot.ly",
        "plotlyServerURL": "https://plot.ly",
        "showLink": false
       },
       "data": [
        {
         "marker": {
          "color": "red",
          "opacity": 0.5,
          "size": 5
         },
         "mode": "lines",
         "name": "Training data",
         "type": "scatter",
         "x": [
          1,
          1,
          1,
          1,
          1,
          1,
          1,
          0.8048211508553654,
          0.5598755832037325,
          0.45178849144634525,
          0.36625194401244165,
          0.3118195956454121,
          0.2690513219284603,
          0.23872472783825816,
          0.21073094867807154,
          0.19206842923794712,
          0.17418351477449456,
          0.14307931570762053,
          0.10808709175738725,
          0.08553654743390357,
          0.06920684292379471,
          0.049766718506998445,
          0.03576982892690513,
          0.027993779160186624,
          0.02021772939346812,
          0.016329704510108865,
          0.01166407465007776,
          0.01088646967340591,
          0.006998444790046656,
          0.006220839813374806,
          0.004665629860031105,
          0.0038880248833592537,
          0.0038880248833592537,
          0.0038880248833592537,
          0.0038880248833592537,
          0.0038880248833592537,
          0.003110419906687403,
          0.0023328149300155523,
          0.0007776049766718507,
          0,
          0,
          0,
          0,
          0,
          0,
          0,
          0,
          0,
          0,
          0,
          0,
          0,
          0,
          0,
          0,
          0,
          0,
          0,
          0,
          0,
          0,
          0,
          0,
          0,
          0,
          0,
          0,
          0,
          0,
          0,
          0,
          0,
          0,
          0,
          0,
          0,
          0,
          0,
          0,
          0,
          0,
          0,
          0,
          0,
          0,
          0,
          0,
          0,
          0,
          0,
          0,
          0,
          0,
          0,
          0,
          0,
          0,
          0,
          0,
          0
         ],
         "y": [
          0,
          0,
          0,
          0,
          0,
          0,
          0,
          0.13748654145232686,
          0.2221756988475495,
          0.24051920086134704,
          0.2234916457311481,
          0.22664194281612632,
          0.20530765243051402,
          0.20358296446943414,
          0.20593571798859514,
          0.2053674681979503,
          0.1847908441998644,
          0.19666427403596923,
          0.16114367747338199,
          0.1516429397455836,
          0.14874187502492325,
          0.12972046098018103,
          0.11807632491924872,
          0.08739083622442877,
          0.08234637317063444,
          0.06700362882322447,
          0.04602823304222994,
          0.04039558160864537,
          0.025052837261235392,
          0.019420185827650836,
          0.014565139370738127,
          0.015342744347409978,
          0.015342744347409978,
          0.015342744347409978,
          0.015342744347409978,
          0.015342744347409978,
          0.009710092913825418,
          0.004077441480240858,
          0.0056326514335845596,
          0,
          0,
          0,
          0,
          0,
          0,
          0,
          0,
          0,
          0,
          0,
          0,
          0,
          0,
          0,
          0,
          0,
          0,
          0,
          0,
          0,
          0,
          0,
          0,
          0,
          0,
          0,
          0,
          0,
          0,
          0,
          0,
          0,
          0,
          0,
          0,
          0,
          0,
          0,
          0,
          0,
          0,
          0,
          0,
          0,
          0,
          0,
          0,
          0,
          0,
          0,
          0,
          0,
          0,
          0,
          0,
          0,
          0,
          0,
          0,
          0
         ]
        },
        {
         "marker": {
          "color": "blue",
          "opacity": 0.5,
          "size": 5
         },
         "mode": "lines",
         "name": "Test data",
         "type": "scatter",
         "x": [
          1,
          1,
          1,
          1,
          1,
          1,
          1,
          0.8144927536231884,
          0.5739130434782609,
          0.43478260869565216,
          0.34492753623188405,
          0.28405797101449276,
          0.2608695652173913,
          0.23478260869565218,
          0.2028985507246377,
          0.17971014492753623,
          0.1681159420289855,
          0.13623188405797101,
          0.10144927536231885,
          0.08405797101449275,
          0.07536231884057971,
          0.057971014492753624,
          0.034782608695652174,
          0.020289855072463767,
          0.002898550724637681,
          0.002898550724637681,
          0.002898550724637681,
          0,
          0,
          0,
          0,
          0,
          0,
          0,
          0,
          0,
          0,
          0,
          0,
          0,
          0,
          0,
          0,
          0,
          0,
          0,
          0,
          0,
          0,
          0,
          0,
          0,
          0,
          0,
          0,
          0,
          0,
          0,
          0,
          0,
          0,
          0,
          0,
          0,
          0,
          0,
          0,
          0,
          0,
          0,
          0,
          0,
          0,
          0,
          0,
          0,
          0,
          0,
          0,
          0,
          0,
          0,
          0,
          0,
          0,
          0,
          0,
          0,
          0,
          0,
          0,
          0,
          0,
          0,
          0,
          0,
          0,
          0,
          0,
          0
         ],
         "y": [
          0,
          0,
          0,
          0,
          0,
          0,
          0,
          0.04914361001317524,
          0.08517786561264817,
          -0.0029644268774703386,
          0.04143610013175231,
          0.05685111989459812,
          0.08003952569169959,
          0.1061264822134387,
          0.06982872200263501,
          0.07028985507246377,
          0.059156785243741766,
          0.06831357048748354,
          0.10309617918313571,
          0.09776021080368907,
          0.08372859025032937,
          0.010210803689064553,
          0.033399209486166,
          0.04789196310935441,
          0.019828722002635045,
          0.019828722002635045,
          0.019828722002635045,
          0,
          0,
          0,
          0,
          0,
          0,
          0,
          0,
          0,
          0,
          0,
          0,
          0,
          0,
          0,
          0,
          0,
          0,
          0,
          0,
          0,
          0,
          0,
          0,
          0,
          0,
          0,
          0,
          0,
          0,
          0,
          0,
          0,
          0,
          0,
          0,
          0,
          0,
          0,
          0,
          0,
          0,
          0,
          0,
          0,
          0,
          0,
          0,
          0,
          0,
          0,
          0,
          0,
          0,
          0,
          0,
          0,
          0,
          0,
          0,
          0,
          0,
          0,
          0,
          0,
          0,
          0,
          0,
          0,
          0,
          0,
          0,
          0
         ]
        }
       ],
       "layout": {
        "legend": {
         "font": {
          "color": "black",
          "family": "sans-serif",
          "size": 12
         },
         "traceorder": "normal",
         "x": 0.8,
         "y": 0
        },
        "template": {
         "data": {
          "bar": [
           {
            "error_x": {
             "color": "#2a3f5f"
            },
            "error_y": {
             "color": "#2a3f5f"
            },
            "marker": {
             "line": {
              "color": "#E5ECF6",
              "width": 0.5
             }
            },
            "type": "bar"
           }
          ],
          "barpolar": [
           {
            "marker": {
             "line": {
              "color": "#E5ECF6",
              "width": 0.5
             }
            },
            "type": "barpolar"
           }
          ],
          "carpet": [
           {
            "aaxis": {
             "endlinecolor": "#2a3f5f",
             "gridcolor": "white",
             "linecolor": "white",
             "minorgridcolor": "white",
             "startlinecolor": "#2a3f5f"
            },
            "baxis": {
             "endlinecolor": "#2a3f5f",
             "gridcolor": "white",
             "linecolor": "white",
             "minorgridcolor": "white",
             "startlinecolor": "#2a3f5f"
            },
            "type": "carpet"
           }
          ],
          "choropleth": [
           {
            "colorbar": {
             "outlinewidth": 0,
             "ticks": ""
            },
            "type": "choropleth"
           }
          ],
          "contour": [
           {
            "colorbar": {
             "outlinewidth": 0,
             "ticks": ""
            },
            "colorscale": [
             [
              0,
              "#0d0887"
             ],
             [
              0.1111111111111111,
              "#46039f"
             ],
             [
              0.2222222222222222,
              "#7201a8"
             ],
             [
              0.3333333333333333,
              "#9c179e"
             ],
             [
              0.4444444444444444,
              "#bd3786"
             ],
             [
              0.5555555555555556,
              "#d8576b"
             ],
             [
              0.6666666666666666,
              "#ed7953"
             ],
             [
              0.7777777777777778,
              "#fb9f3a"
             ],
             [
              0.8888888888888888,
              "#fdca26"
             ],
             [
              1,
              "#f0f921"
             ]
            ],
            "type": "contour"
           }
          ],
          "contourcarpet": [
           {
            "colorbar": {
             "outlinewidth": 0,
             "ticks": ""
            },
            "type": "contourcarpet"
           }
          ],
          "heatmap": [
           {
            "colorbar": {
             "outlinewidth": 0,
             "ticks": ""
            },
            "colorscale": [
             [
              0,
              "#0d0887"
             ],
             [
              0.1111111111111111,
              "#46039f"
             ],
             [
              0.2222222222222222,
              "#7201a8"
             ],
             [
              0.3333333333333333,
              "#9c179e"
             ],
             [
              0.4444444444444444,
              "#bd3786"
             ],
             [
              0.5555555555555556,
              "#d8576b"
             ],
             [
              0.6666666666666666,
              "#ed7953"
             ],
             [
              0.7777777777777778,
              "#fb9f3a"
             ],
             [
              0.8888888888888888,
              "#fdca26"
             ],
             [
              1,
              "#f0f921"
             ]
            ],
            "type": "heatmap"
           }
          ],
          "heatmapgl": [
           {
            "colorbar": {
             "outlinewidth": 0,
             "ticks": ""
            },
            "colorscale": [
             [
              0,
              "#0d0887"
             ],
             [
              0.1111111111111111,
              "#46039f"
             ],
             [
              0.2222222222222222,
              "#7201a8"
             ],
             [
              0.3333333333333333,
              "#9c179e"
             ],
             [
              0.4444444444444444,
              "#bd3786"
             ],
             [
              0.5555555555555556,
              "#d8576b"
             ],
             [
              0.6666666666666666,
              "#ed7953"
             ],
             [
              0.7777777777777778,
              "#fb9f3a"
             ],
             [
              0.8888888888888888,
              "#fdca26"
             ],
             [
              1,
              "#f0f921"
             ]
            ],
            "type": "heatmapgl"
           }
          ],
          "histogram": [
           {
            "marker": {
             "colorbar": {
              "outlinewidth": 0,
              "ticks": ""
             }
            },
            "type": "histogram"
           }
          ],
          "histogram2d": [
           {
            "colorbar": {
             "outlinewidth": 0,
             "ticks": ""
            },
            "colorscale": [
             [
              0,
              "#0d0887"
             ],
             [
              0.1111111111111111,
              "#46039f"
             ],
             [
              0.2222222222222222,
              "#7201a8"
             ],
             [
              0.3333333333333333,
              "#9c179e"
             ],
             [
              0.4444444444444444,
              "#bd3786"
             ],
             [
              0.5555555555555556,
              "#d8576b"
             ],
             [
              0.6666666666666666,
              "#ed7953"
             ],
             [
              0.7777777777777778,
              "#fb9f3a"
             ],
             [
              0.8888888888888888,
              "#fdca26"
             ],
             [
              1,
              "#f0f921"
             ]
            ],
            "type": "histogram2d"
           }
          ],
          "histogram2dcontour": [
           {
            "colorbar": {
             "outlinewidth": 0,
             "ticks": ""
            },
            "colorscale": [
             [
              0,
              "#0d0887"
             ],
             [
              0.1111111111111111,
              "#46039f"
             ],
             [
              0.2222222222222222,
              "#7201a8"
             ],
             [
              0.3333333333333333,
              "#9c179e"
             ],
             [
              0.4444444444444444,
              "#bd3786"
             ],
             [
              0.5555555555555556,
              "#d8576b"
             ],
             [
              0.6666666666666666,
              "#ed7953"
             ],
             [
              0.7777777777777778,
              "#fb9f3a"
             ],
             [
              0.8888888888888888,
              "#fdca26"
             ],
             [
              1,
              "#f0f921"
             ]
            ],
            "type": "histogram2dcontour"
           }
          ],
          "mesh3d": [
           {
            "colorbar": {
             "outlinewidth": 0,
             "ticks": ""
            },
            "type": "mesh3d"
           }
          ],
          "parcoords": [
           {
            "line": {
             "colorbar": {
              "outlinewidth": 0,
              "ticks": ""
             }
            },
            "type": "parcoords"
           }
          ],
          "scatter": [
           {
            "marker": {
             "colorbar": {
              "outlinewidth": 0,
              "ticks": ""
             }
            },
            "type": "scatter"
           }
          ],
          "scatter3d": [
           {
            "line": {
             "colorbar": {
              "outlinewidth": 0,
              "ticks": ""
             }
            },
            "marker": {
             "colorbar": {
              "outlinewidth": 0,
              "ticks": ""
             }
            },
            "type": "scatter3d"
           }
          ],
          "scattercarpet": [
           {
            "marker": {
             "colorbar": {
              "outlinewidth": 0,
              "ticks": ""
             }
            },
            "type": "scattercarpet"
           }
          ],
          "scattergeo": [
           {
            "marker": {
             "colorbar": {
              "outlinewidth": 0,
              "ticks": ""
             }
            },
            "type": "scattergeo"
           }
          ],
          "scattergl": [
           {
            "marker": {
             "colorbar": {
              "outlinewidth": 0,
              "ticks": ""
             }
            },
            "type": "scattergl"
           }
          ],
          "scattermapbox": [
           {
            "marker": {
             "colorbar": {
              "outlinewidth": 0,
              "ticks": ""
             }
            },
            "type": "scattermapbox"
           }
          ],
          "scatterpolar": [
           {
            "marker": {
             "colorbar": {
              "outlinewidth": 0,
              "ticks": ""
             }
            },
            "type": "scatterpolar"
           }
          ],
          "scatterpolargl": [
           {
            "marker": {
             "colorbar": {
              "outlinewidth": 0,
              "ticks": ""
             }
            },
            "type": "scatterpolargl"
           }
          ],
          "scatterternary": [
           {
            "marker": {
             "colorbar": {
              "outlinewidth": 0,
              "ticks": ""
             }
            },
            "type": "scatterternary"
           }
          ],
          "surface": [
           {
            "colorbar": {
             "outlinewidth": 0,
             "ticks": ""
            },
            "colorscale": [
             [
              0,
              "#0d0887"
             ],
             [
              0.1111111111111111,
              "#46039f"
             ],
             [
              0.2222222222222222,
              "#7201a8"
             ],
             [
              0.3333333333333333,
              "#9c179e"
             ],
             [
              0.4444444444444444,
              "#bd3786"
             ],
             [
              0.5555555555555556,
              "#d8576b"
             ],
             [
              0.6666666666666666,
              "#ed7953"
             ],
             [
              0.7777777777777778,
              "#fb9f3a"
             ],
             [
              0.8888888888888888,
              "#fdca26"
             ],
             [
              1,
              "#f0f921"
             ]
            ],
            "type": "surface"
           }
          ],
          "table": [
           {
            "cells": {
             "fill": {
              "color": "#EBF0F8"
             },
             "line": {
              "color": "white"
             }
            },
            "header": {
             "fill": {
              "color": "#C8D4E3"
             },
             "line": {
              "color": "white"
             }
            },
            "type": "table"
           }
          ]
         },
         "layout": {
          "annotationdefaults": {
           "arrowcolor": "#2a3f5f",
           "arrowhead": 0,
           "arrowwidth": 1
          },
          "colorscale": {
           "diverging": [
            [
             0,
             "#8e0152"
            ],
            [
             0.1,
             "#c51b7d"
            ],
            [
             0.2,
             "#de77ae"
            ],
            [
             0.3,
             "#f1b6da"
            ],
            [
             0.4,
             "#fde0ef"
            ],
            [
             0.5,
             "#f7f7f7"
            ],
            [
             0.6,
             "#e6f5d0"
            ],
            [
             0.7,
             "#b8e186"
            ],
            [
             0.8,
             "#7fbc41"
            ],
            [
             0.9,
             "#4d9221"
            ],
            [
             1,
             "#276419"
            ]
           ],
           "sequential": [
            [
             0,
             "#0d0887"
            ],
            [
             0.1111111111111111,
             "#46039f"
            ],
            [
             0.2222222222222222,
             "#7201a8"
            ],
            [
             0.3333333333333333,
             "#9c179e"
            ],
            [
             0.4444444444444444,
             "#bd3786"
            ],
            [
             0.5555555555555556,
             "#d8576b"
            ],
            [
             0.6666666666666666,
             "#ed7953"
            ],
            [
             0.7777777777777778,
             "#fb9f3a"
            ],
            [
             0.8888888888888888,
             "#fdca26"
            ],
            [
             1,
             "#f0f921"
            ]
           ],
           "sequentialminus": [
            [
             0,
             "#0d0887"
            ],
            [
             0.1111111111111111,
             "#46039f"
            ],
            [
             0.2222222222222222,
             "#7201a8"
            ],
            [
             0.3333333333333333,
             "#9c179e"
            ],
            [
             0.4444444444444444,
             "#bd3786"
            ],
            [
             0.5555555555555556,
             "#d8576b"
            ],
            [
             0.6666666666666666,
             "#ed7953"
            ],
            [
             0.7777777777777778,
             "#fb9f3a"
            ],
            [
             0.8888888888888888,
             "#fdca26"
            ],
            [
             1,
             "#f0f921"
            ]
           ]
          },
          "colorway": [
           "#636efa",
           "#EF553B",
           "#00cc96",
           "#ab63fa",
           "#FFA15A",
           "#19d3f3",
           "#FF6692",
           "#B6E880",
           "#FF97FF",
           "#FECB52"
          ],
          "font": {
           "color": "#2a3f5f"
          },
          "geo": {
           "bgcolor": "white",
           "lakecolor": "white",
           "landcolor": "#E5ECF6",
           "showlakes": true,
           "showland": true,
           "subunitcolor": "white"
          },
          "hoverlabel": {
           "align": "left"
          },
          "hovermode": "closest",
          "mapbox": {
           "style": "light"
          },
          "paper_bgcolor": "white",
          "plot_bgcolor": "#E5ECF6",
          "polar": {
           "angularaxis": {
            "gridcolor": "white",
            "linecolor": "white",
            "ticks": ""
           },
           "bgcolor": "#E5ECF6",
           "radialaxis": {
            "gridcolor": "white",
            "linecolor": "white",
            "ticks": ""
           }
          },
          "scene": {
           "xaxis": {
            "backgroundcolor": "#E5ECF6",
            "gridcolor": "white",
            "gridwidth": 2,
            "linecolor": "white",
            "showbackground": true,
            "ticks": "",
            "zerolinecolor": "white"
           },
           "yaxis": {
            "backgroundcolor": "#E5ECF6",
            "gridcolor": "white",
            "gridwidth": 2,
            "linecolor": "white",
            "showbackground": true,
            "ticks": "",
            "zerolinecolor": "white"
           },
           "zaxis": {
            "backgroundcolor": "#E5ECF6",
            "gridcolor": "white",
            "gridwidth": 2,
            "linecolor": "white",
            "showbackground": true,
            "ticks": "",
            "zerolinecolor": "white"
           }
          },
          "shapedefaults": {
           "line": {
            "color": "#2a3f5f"
           }
          },
          "ternary": {
           "aaxis": {
            "gridcolor": "white",
            "linecolor": "white",
            "ticks": ""
           },
           "baxis": {
            "gridcolor": "white",
            "linecolor": "white",
            "ticks": ""
           },
           "bgcolor": "#E5ECF6",
           "caxis": {
            "gridcolor": "white",
            "linecolor": "white",
            "ticks": ""
           }
          },
          "title": {
           "x": 0.05
          },
          "xaxis": {
           "automargin": true,
           "gridcolor": "white",
           "linecolor": "white",
           "ticks": "",
           "zerolinecolor": "white",
           "zerolinewidth": 2
          },
          "yaxis": {
           "automargin": true,
           "gridcolor": "white",
           "linecolor": "white",
           "ticks": "",
           "zerolinecolor": "white",
           "zerolinewidth": 2
          }
         }
        },
        "title": {
         "text": "Recall surplus for comparison"
        },
        "xaxis": {
         "range": [
          0,
          0.4
         ],
         "title": {
          "text": "Positives share"
         }
        },
        "yaxis": {
         "title": {
          "text": "Recall surplus"
         }
        }
       }
      },
      "text/html": [
       "<div>\n",
       "        \n",
       "        \n",
       "            <div id=\"3bf77cea-1017-4438-96ff-46a633ea35d7\" class=\"plotly-graph-div\" style=\"height:525px; width:100%;\"></div>\n",
       "            <script type=\"text/javascript\">\n",
       "                require([\"plotly\"], function(Plotly) {\n",
       "                    window.PLOTLYENV=window.PLOTLYENV || {};\n",
       "                    \n",
       "                if (document.getElementById(\"3bf77cea-1017-4438-96ff-46a633ea35d7\")) {\n",
       "                    Plotly.newPlot(\n",
       "                        '3bf77cea-1017-4438-96ff-46a633ea35d7',\n",
       "                        [{\"marker\": {\"color\": \"red\", \"opacity\": 0.5, \"size\": 5}, \"mode\": \"lines\", \"name\": \"Training data\", \"type\": \"scatter\", \"x\": [1.0, 1.0, 1.0, 1.0, 1.0, 1.0, 1.0, 0.8048211508553654, 0.5598755832037325, 0.45178849144634525, 0.36625194401244165, 0.3118195956454121, 0.2690513219284603, 0.23872472783825816, 0.21073094867807154, 0.19206842923794712, 0.17418351477449456, 0.14307931570762053, 0.10808709175738725, 0.08553654743390357, 0.06920684292379471, 0.049766718506998445, 0.03576982892690513, 0.027993779160186624, 0.02021772939346812, 0.016329704510108865, 0.01166407465007776, 0.01088646967340591, 0.006998444790046656, 0.006220839813374806, 0.004665629860031105, 0.0038880248833592537, 0.0038880248833592537, 0.0038880248833592537, 0.0038880248833592537, 0.0038880248833592537, 0.003110419906687403, 0.0023328149300155523, 0.0007776049766718507, 0.0, 0.0, 0.0, 0.0, 0.0, 0.0, 0.0, 0.0, 0.0, 0.0, 0.0, 0.0, 0.0, 0.0, 0.0, 0.0, 0.0, 0.0, 0.0, 0.0, 0.0, 0.0, 0.0, 0.0, 0.0, 0.0, 0.0, 0.0, 0.0, 0.0, 0.0, 0.0, 0.0, 0.0, 0.0, 0.0, 0.0, 0.0, 0.0, 0.0, 0.0, 0.0, 0.0, 0.0, 0.0, 0.0, 0.0, 0.0, 0.0, 0.0, 0.0, 0.0, 0.0, 0.0, 0.0, 0.0, 0.0, 0.0, 0.0, 0.0, 0.0], \"y\": [0.0, 0.0, 0.0, 0.0, 0.0, 0.0, 0.0, 0.13748654145232686, 0.2221756988475495, 0.24051920086134704, 0.2234916457311481, 0.22664194281612632, 0.20530765243051402, 0.20358296446943414, 0.20593571798859514, 0.2053674681979503, 0.1847908441998644, 0.19666427403596923, 0.16114367747338199, 0.1516429397455836, 0.14874187502492325, 0.12972046098018103, 0.11807632491924872, 0.08739083622442877, 0.08234637317063444, 0.06700362882322447, 0.04602823304222994, 0.04039558160864537, 0.025052837261235392, 0.019420185827650836, 0.014565139370738127, 0.015342744347409978, 0.015342744347409978, 0.015342744347409978, 0.015342744347409978, 0.015342744347409978, 0.009710092913825418, 0.004077441480240858, 0.0056326514335845596, 0.0, 0.0, 0.0, 0.0, 0.0, 0.0, 0.0, 0.0, 0.0, 0.0, 0.0, 0.0, 0.0, 0.0, 0.0, 0.0, 0.0, 0.0, 0.0, 0.0, 0.0, 0.0, 0.0, 0.0, 0.0, 0.0, 0.0, 0.0, 0.0, 0.0, 0.0, 0.0, 0.0, 0.0, 0.0, 0.0, 0.0, 0.0, 0.0, 0.0, 0.0, 0.0, 0.0, 0.0, 0.0, 0.0, 0.0, 0.0, 0.0, 0.0, 0.0, 0.0, 0.0, 0.0, 0.0, 0.0, 0.0, 0.0, 0.0, 0.0, 0.0]}, {\"marker\": {\"color\": \"blue\", \"opacity\": 0.5, \"size\": 5}, \"mode\": \"lines\", \"name\": \"Test data\", \"type\": \"scatter\", \"x\": [1.0, 1.0, 1.0, 1.0, 1.0, 1.0, 1.0, 0.8144927536231884, 0.5739130434782609, 0.43478260869565216, 0.34492753623188405, 0.28405797101449276, 0.2608695652173913, 0.23478260869565218, 0.2028985507246377, 0.17971014492753623, 0.1681159420289855, 0.13623188405797101, 0.10144927536231885, 0.08405797101449275, 0.07536231884057971, 0.057971014492753624, 0.034782608695652174, 0.020289855072463767, 0.002898550724637681, 0.002898550724637681, 0.002898550724637681, 0.0, 0.0, 0.0, 0.0, 0.0, 0.0, 0.0, 0.0, 0.0, 0.0, 0.0, 0.0, 0.0, 0.0, 0.0, 0.0, 0.0, 0.0, 0.0, 0.0, 0.0, 0.0, 0.0, 0.0, 0.0, 0.0, 0.0, 0.0, 0.0, 0.0, 0.0, 0.0, 0.0, 0.0, 0.0, 0.0, 0.0, 0.0, 0.0, 0.0, 0.0, 0.0, 0.0, 0.0, 0.0, 0.0, 0.0, 0.0, 0.0, 0.0, 0.0, 0.0, 0.0, 0.0, 0.0, 0.0, 0.0, 0.0, 0.0, 0.0, 0.0, 0.0, 0.0, 0.0, 0.0, 0.0, 0.0, 0.0, 0.0, 0.0, 0.0, 0.0, 0.0], \"y\": [0.0, 0.0, 0.0, 0.0, 0.0, 0.0, 0.0, 0.04914361001317524, 0.08517786561264817, -0.0029644268774703386, 0.04143610013175231, 0.05685111989459812, 0.08003952569169959, 0.1061264822134387, 0.06982872200263501, 0.07028985507246377, 0.059156785243741766, 0.06831357048748354, 0.10309617918313571, 0.09776021080368907, 0.08372859025032937, 0.010210803689064553, 0.033399209486166, 0.04789196310935441, 0.019828722002635045, 0.019828722002635045, 0.019828722002635045, 0.0, 0.0, 0.0, 0.0, 0.0, 0.0, 0.0, 0.0, 0.0, 0.0, 0.0, 0.0, 0.0, 0.0, 0.0, 0.0, 0.0, 0.0, 0.0, 0.0, 0.0, 0.0, 0.0, 0.0, 0.0, 0.0, 0.0, 0.0, 0.0, 0.0, 0.0, 0.0, 0.0, 0.0, 0.0, 0.0, 0.0, 0.0, 0.0, 0.0, 0.0, 0.0, 0.0, 0.0, 0.0, 0.0, 0.0, 0.0, 0.0, 0.0, 0.0, 0.0, 0.0, 0.0, 0.0, 0.0, 0.0, 0.0, 0.0, 0.0, 0.0, 0.0, 0.0, 0.0, 0.0, 0.0, 0.0, 0.0, 0.0, 0.0, 0.0, 0.0, 0.0]}],\n",
       "                        {\"legend\": {\"font\": {\"color\": \"black\", \"family\": \"sans-serif\", \"size\": 12}, \"traceorder\": \"normal\", \"x\": 0.8, \"y\": 0}, \"template\": {\"data\": {\"bar\": [{\"error_x\": {\"color\": \"#2a3f5f\"}, \"error_y\": {\"color\": \"#2a3f5f\"}, \"marker\": {\"line\": {\"color\": \"#E5ECF6\", \"width\": 0.5}}, \"type\": \"bar\"}], \"barpolar\": [{\"marker\": {\"line\": {\"color\": \"#E5ECF6\", \"width\": 0.5}}, \"type\": \"barpolar\"}], \"carpet\": [{\"aaxis\": {\"endlinecolor\": \"#2a3f5f\", \"gridcolor\": \"white\", \"linecolor\": \"white\", \"minorgridcolor\": \"white\", \"startlinecolor\": \"#2a3f5f\"}, \"baxis\": {\"endlinecolor\": \"#2a3f5f\", \"gridcolor\": \"white\", \"linecolor\": \"white\", \"minorgridcolor\": \"white\", \"startlinecolor\": \"#2a3f5f\"}, \"type\": \"carpet\"}], \"choropleth\": [{\"colorbar\": {\"outlinewidth\": 0, \"ticks\": \"\"}, \"type\": \"choropleth\"}], \"contour\": [{\"colorbar\": {\"outlinewidth\": 0, \"ticks\": \"\"}, \"colorscale\": [[0.0, \"#0d0887\"], [0.1111111111111111, \"#46039f\"], [0.2222222222222222, \"#7201a8\"], [0.3333333333333333, \"#9c179e\"], [0.4444444444444444, \"#bd3786\"], [0.5555555555555556, \"#d8576b\"], [0.6666666666666666, \"#ed7953\"], [0.7777777777777778, \"#fb9f3a\"], [0.8888888888888888, \"#fdca26\"], [1.0, \"#f0f921\"]], \"type\": \"contour\"}], \"contourcarpet\": [{\"colorbar\": {\"outlinewidth\": 0, \"ticks\": \"\"}, \"type\": \"contourcarpet\"}], \"heatmap\": [{\"colorbar\": {\"outlinewidth\": 0, \"ticks\": \"\"}, \"colorscale\": [[0.0, \"#0d0887\"], [0.1111111111111111, \"#46039f\"], [0.2222222222222222, \"#7201a8\"], [0.3333333333333333, \"#9c179e\"], [0.4444444444444444, \"#bd3786\"], [0.5555555555555556, \"#d8576b\"], [0.6666666666666666, \"#ed7953\"], [0.7777777777777778, \"#fb9f3a\"], [0.8888888888888888, \"#fdca26\"], [1.0, \"#f0f921\"]], \"type\": \"heatmap\"}], \"heatmapgl\": [{\"colorbar\": {\"outlinewidth\": 0, \"ticks\": \"\"}, \"colorscale\": [[0.0, \"#0d0887\"], [0.1111111111111111, \"#46039f\"], [0.2222222222222222, \"#7201a8\"], [0.3333333333333333, \"#9c179e\"], [0.4444444444444444, \"#bd3786\"], [0.5555555555555556, \"#d8576b\"], [0.6666666666666666, \"#ed7953\"], [0.7777777777777778, \"#fb9f3a\"], [0.8888888888888888, \"#fdca26\"], [1.0, \"#f0f921\"]], \"type\": \"heatmapgl\"}], \"histogram\": [{\"marker\": {\"colorbar\": {\"outlinewidth\": 0, \"ticks\": \"\"}}, \"type\": \"histogram\"}], \"histogram2d\": [{\"colorbar\": {\"outlinewidth\": 0, \"ticks\": \"\"}, \"colorscale\": [[0.0, \"#0d0887\"], [0.1111111111111111, \"#46039f\"], [0.2222222222222222, \"#7201a8\"], [0.3333333333333333, \"#9c179e\"], [0.4444444444444444, \"#bd3786\"], [0.5555555555555556, \"#d8576b\"], [0.6666666666666666, \"#ed7953\"], [0.7777777777777778, \"#fb9f3a\"], [0.8888888888888888, \"#fdca26\"], [1.0, \"#f0f921\"]], \"type\": \"histogram2d\"}], \"histogram2dcontour\": [{\"colorbar\": {\"outlinewidth\": 0, \"ticks\": \"\"}, \"colorscale\": [[0.0, \"#0d0887\"], [0.1111111111111111, \"#46039f\"], [0.2222222222222222, \"#7201a8\"], [0.3333333333333333, \"#9c179e\"], [0.4444444444444444, \"#bd3786\"], [0.5555555555555556, \"#d8576b\"], [0.6666666666666666, \"#ed7953\"], [0.7777777777777778, \"#fb9f3a\"], [0.8888888888888888, \"#fdca26\"], [1.0, \"#f0f921\"]], \"type\": \"histogram2dcontour\"}], \"mesh3d\": [{\"colorbar\": {\"outlinewidth\": 0, \"ticks\": \"\"}, \"type\": \"mesh3d\"}], \"parcoords\": [{\"line\": {\"colorbar\": {\"outlinewidth\": 0, \"ticks\": \"\"}}, \"type\": \"parcoords\"}], \"scatter\": [{\"marker\": {\"colorbar\": {\"outlinewidth\": 0, \"ticks\": \"\"}}, \"type\": \"scatter\"}], \"scatter3d\": [{\"line\": {\"colorbar\": {\"outlinewidth\": 0, \"ticks\": \"\"}}, \"marker\": {\"colorbar\": {\"outlinewidth\": 0, \"ticks\": \"\"}}, \"type\": \"scatter3d\"}], \"scattercarpet\": [{\"marker\": {\"colorbar\": {\"outlinewidth\": 0, \"ticks\": \"\"}}, \"type\": \"scattercarpet\"}], \"scattergeo\": [{\"marker\": {\"colorbar\": {\"outlinewidth\": 0, \"ticks\": \"\"}}, \"type\": \"scattergeo\"}], \"scattergl\": [{\"marker\": {\"colorbar\": {\"outlinewidth\": 0, \"ticks\": \"\"}}, \"type\": \"scattergl\"}], \"scattermapbox\": [{\"marker\": {\"colorbar\": {\"outlinewidth\": 0, \"ticks\": \"\"}}, \"type\": \"scattermapbox\"}], \"scatterpolar\": [{\"marker\": {\"colorbar\": {\"outlinewidth\": 0, \"ticks\": \"\"}}, \"type\": \"scatterpolar\"}], \"scatterpolargl\": [{\"marker\": {\"colorbar\": {\"outlinewidth\": 0, \"ticks\": \"\"}}, \"type\": \"scatterpolargl\"}], \"scatterternary\": [{\"marker\": {\"colorbar\": {\"outlinewidth\": 0, \"ticks\": \"\"}}, \"type\": \"scatterternary\"}], \"surface\": [{\"colorbar\": {\"outlinewidth\": 0, \"ticks\": \"\"}, \"colorscale\": [[0.0, \"#0d0887\"], [0.1111111111111111, \"#46039f\"], [0.2222222222222222, \"#7201a8\"], [0.3333333333333333, \"#9c179e\"], [0.4444444444444444, \"#bd3786\"], [0.5555555555555556, \"#d8576b\"], [0.6666666666666666, \"#ed7953\"], [0.7777777777777778, \"#fb9f3a\"], [0.8888888888888888, \"#fdca26\"], [1.0, \"#f0f921\"]], \"type\": \"surface\"}], \"table\": [{\"cells\": {\"fill\": {\"color\": \"#EBF0F8\"}, \"line\": {\"color\": \"white\"}}, \"header\": {\"fill\": {\"color\": \"#C8D4E3\"}, \"line\": {\"color\": \"white\"}}, \"type\": \"table\"}]}, \"layout\": {\"annotationdefaults\": {\"arrowcolor\": \"#2a3f5f\", \"arrowhead\": 0, \"arrowwidth\": 1}, \"colorscale\": {\"diverging\": [[0, \"#8e0152\"], [0.1, \"#c51b7d\"], [0.2, \"#de77ae\"], [0.3, \"#f1b6da\"], [0.4, \"#fde0ef\"], [0.5, \"#f7f7f7\"], [0.6, \"#e6f5d0\"], [0.7, \"#b8e186\"], [0.8, \"#7fbc41\"], [0.9, \"#4d9221\"], [1, \"#276419\"]], \"sequential\": [[0.0, \"#0d0887\"], [0.1111111111111111, \"#46039f\"], [0.2222222222222222, \"#7201a8\"], [0.3333333333333333, \"#9c179e\"], [0.4444444444444444, \"#bd3786\"], [0.5555555555555556, \"#d8576b\"], [0.6666666666666666, \"#ed7953\"], [0.7777777777777778, \"#fb9f3a\"], [0.8888888888888888, \"#fdca26\"], [1.0, \"#f0f921\"]], \"sequentialminus\": [[0.0, \"#0d0887\"], [0.1111111111111111, \"#46039f\"], [0.2222222222222222, \"#7201a8\"], [0.3333333333333333, \"#9c179e\"], [0.4444444444444444, \"#bd3786\"], [0.5555555555555556, \"#d8576b\"], [0.6666666666666666, \"#ed7953\"], [0.7777777777777778, \"#fb9f3a\"], [0.8888888888888888, \"#fdca26\"], [1.0, \"#f0f921\"]]}, \"colorway\": [\"#636efa\", \"#EF553B\", \"#00cc96\", \"#ab63fa\", \"#FFA15A\", \"#19d3f3\", \"#FF6692\", \"#B6E880\", \"#FF97FF\", \"#FECB52\"], \"font\": {\"color\": \"#2a3f5f\"}, \"geo\": {\"bgcolor\": \"white\", \"lakecolor\": \"white\", \"landcolor\": \"#E5ECF6\", \"showlakes\": true, \"showland\": true, \"subunitcolor\": \"white\"}, \"hoverlabel\": {\"align\": \"left\"}, \"hovermode\": \"closest\", \"mapbox\": {\"style\": \"light\"}, \"paper_bgcolor\": \"white\", \"plot_bgcolor\": \"#E5ECF6\", \"polar\": {\"angularaxis\": {\"gridcolor\": \"white\", \"linecolor\": \"white\", \"ticks\": \"\"}, \"bgcolor\": \"#E5ECF6\", \"radialaxis\": {\"gridcolor\": \"white\", \"linecolor\": \"white\", \"ticks\": \"\"}}, \"scene\": {\"xaxis\": {\"backgroundcolor\": \"#E5ECF6\", \"gridcolor\": \"white\", \"gridwidth\": 2, \"linecolor\": \"white\", \"showbackground\": true, \"ticks\": \"\", \"zerolinecolor\": \"white\"}, \"yaxis\": {\"backgroundcolor\": \"#E5ECF6\", \"gridcolor\": \"white\", \"gridwidth\": 2, \"linecolor\": \"white\", \"showbackground\": true, \"ticks\": \"\", \"zerolinecolor\": \"white\"}, \"zaxis\": {\"backgroundcolor\": \"#E5ECF6\", \"gridcolor\": \"white\", \"gridwidth\": 2, \"linecolor\": \"white\", \"showbackground\": true, \"ticks\": \"\", \"zerolinecolor\": \"white\"}}, \"shapedefaults\": {\"line\": {\"color\": \"#2a3f5f\"}}, \"ternary\": {\"aaxis\": {\"gridcolor\": \"white\", \"linecolor\": \"white\", \"ticks\": \"\"}, \"baxis\": {\"gridcolor\": \"white\", \"linecolor\": \"white\", \"ticks\": \"\"}, \"bgcolor\": \"#E5ECF6\", \"caxis\": {\"gridcolor\": \"white\", \"linecolor\": \"white\", \"ticks\": \"\"}}, \"title\": {\"x\": 0.05}, \"xaxis\": {\"automargin\": true, \"gridcolor\": \"white\", \"linecolor\": \"white\", \"ticks\": \"\", \"zerolinecolor\": \"white\", \"zerolinewidth\": 2}, \"yaxis\": {\"automargin\": true, \"gridcolor\": \"white\", \"linecolor\": \"white\", \"ticks\": \"\", \"zerolinecolor\": \"white\", \"zerolinewidth\": 2}}}, \"title\": {\"text\": \"Recall surplus for comparison\"}, \"xaxis\": {\"range\": [0, 0.4], \"title\": {\"text\": \"Positives share\"}}, \"yaxis\": {\"title\": {\"text\": \"Recall surplus\"}}},\n",
       "                        {\"responsive\": true}\n",
       "                    ).then(function(){\n",
       "                            \n",
       "var gd = document.getElementById('3bf77cea-1017-4438-96ff-46a633ea35d7');\n",
       "var x = new MutationObserver(function (mutations, observer) {{\n",
       "        var display = window.getComputedStyle(gd).display;\n",
       "        if (!display || display === 'none') {{\n",
       "            console.log([gd, 'removed!']);\n",
       "            Plotly.purge(gd);\n",
       "            observer.disconnect();\n",
       "        }}\n",
       "}});\n",
       "\n",
       "// Listen for the removal of the full notebook cells\n",
       "var notebookContainer = gd.closest('#notebook-container');\n",
       "if (notebookContainer) {{\n",
       "    x.observe(notebookContainer, {childList: true});\n",
       "}}\n",
       "\n",
       "// Listen for the clearing of the current output cell\n",
       "var outputEl = gd.closest('.output');\n",
       "if (outputEl) {{\n",
       "    x.observe(outputEl, {childList: true});\n",
       "}}\n",
       "\n",
       "                        })\n",
       "                };\n",
       "                });\n",
       "            </script>\n",
       "        </div>"
      ]
     },
     "metadata": {},
     "output_type": "display_data"
    }
   ],
   "source": [
    "plot_recall_surplus_train_test(rnn_pr_train,rnn_pr_test)"
   ]
  },
  {
   "cell_type": "markdown",
   "metadata": {},
   "source": [
    "## Deep RNN"
   ]
  },
  {
   "cell_type": "code",
   "execution_count": 24,
   "metadata": {},
   "outputs": [],
   "source": [
    "tf.keras.backend.clear_session()\n",
    "tf.random.set_seed(51)"
   ]
  },
  {
   "cell_type": "code",
   "execution_count": 25,
   "metadata": {},
   "outputs": [],
   "source": [
    "Deep_rnn = keras.models.Sequential([\n",
    "    keras.layers.SimpleRNN(input_shape=[input_dim[0],input_dim[1]],units=40, activation=\"relu\", return_sequences=True),\n",
    "    keras.layers.Dropout(0.5),\n",
    "    keras.layers.BatchNormalization(),\n",
    "    keras.layers.SimpleRNN(20),\n",
    "    keras.layers.Dropout(0.5),\n",
    "    keras.layers.Dense(units=10, activation='relu'),\n",
    "    keras.layers.Dense(units=1, activation=\"sigmoid\")\n",
    "])"
   ]
  },
  {
   "cell_type": "code",
   "execution_count": 26,
   "metadata": {},
   "outputs": [
    {
     "name": "stdout",
     "output_type": "stream",
     "text": [
      "Model: \"sequential\"\n",
      "_________________________________________________________________\n",
      "Layer (type)                 Output Shape              Param #   \n",
      "=================================================================\n",
      "simple_rnn (SimpleRNN)       (None, 9, 40)             1720      \n",
      "_________________________________________________________________\n",
      "dropout (Dropout)            (None, 9, 40)             0         \n",
      "_________________________________________________________________\n",
      "batch_normalization (BatchNo (None, 9, 40)             160       \n",
      "_________________________________________________________________\n",
      "simple_rnn_1 (SimpleRNN)     (None, 20)                1220      \n",
      "_________________________________________________________________\n",
      "dropout_1 (Dropout)          (None, 20)                0         \n",
      "_________________________________________________________________\n",
      "dense (Dense)                (None, 10)                210       \n",
      "_________________________________________________________________\n",
      "dense_1 (Dense)              (None, 1)                 11        \n",
      "=================================================================\n",
      "Total params: 3,321\n",
      "Trainable params: 3,241\n",
      "Non-trainable params: 80\n",
      "_________________________________________________________________\n"
     ]
    }
   ],
   "source": [
    "Deep_rnn.summary()"
   ]
  },
  {
   "cell_type": "code",
   "execution_count": 27,
   "metadata": {},
   "outputs": [],
   "source": [
    "optimizer = keras.optimizers.Adam(lr=0.0001)\n",
    "Deep_rnn.compile(loss=\"binary_crossentropy\", optimizer=optimizer)"
   ]
  },
  {
   "cell_type": "code",
   "execution_count": 28,
   "metadata": {},
   "outputs": [
    {
     "name": "stdout",
     "output_type": "stream",
     "text": [
      "Train on 1286 samples, validate on 345 samples\n",
      "Epoch 1/50\n",
      "1286/1286 [==============================] - 3s 2ms/sample - loss: 0.8197 - val_loss: 0.7039\n",
      "Epoch 2/50\n",
      "1286/1286 [==============================] - 1s 471us/sample - loss: 0.7765 - val_loss: 0.6842\n",
      "Epoch 3/50\n",
      "1286/1286 [==============================] - 1s 493us/sample - loss: 0.7319 - val_loss: 0.6600\n",
      "Epoch 4/50\n",
      "1286/1286 [==============================] - 1s 483us/sample - loss: 0.7110 - val_loss: 0.6329\n",
      "Epoch 5/50\n",
      "1286/1286 [==============================] - 1s 462us/sample - loss: 0.6767 - val_loss: 0.6064\n",
      "Epoch 6/50\n",
      "1286/1286 [==============================] - 1s 459us/sample - loss: 0.6606 - val_loss: 0.5784\n",
      "Epoch 7/50\n",
      "1286/1286 [==============================] - 1s 490us/sample - loss: 0.6297 - val_loss: 0.5504\n",
      "Epoch 8/50\n",
      "1286/1286 [==============================] - 1s 487us/sample - loss: 0.6092 - val_loss: 0.5258\n",
      "Epoch 9/50\n",
      "1286/1286 [==============================] - 1s 455us/sample - loss: 0.5739 - val_loss: 0.4990\n",
      "Epoch 10/50\n",
      "1286/1286 [==============================] - 1s 469us/sample - loss: 0.5685 - val_loss: 0.4761\n",
      "Epoch 11/50\n",
      "1286/1286 [==============================] - 1s 492us/sample - loss: 0.5308 - val_loss: 0.4550\n",
      "Epoch 12/50\n",
      "1286/1286 [==============================] - 1s 458us/sample - loss: 0.5317 - val_loss: 0.4366\n",
      "Epoch 13/50\n",
      "1286/1286 [==============================] - 1s 464us/sample - loss: 0.5086 - val_loss: 0.4229\n",
      "Epoch 14/50\n",
      "1286/1286 [==============================] - 1s 466us/sample - loss: 0.4914 - val_loss: 0.4096\n",
      "Epoch 15/50\n",
      "1286/1286 [==============================] - 1s 500us/sample - loss: 0.4651 - val_loss: 0.3988\n",
      "Epoch 16/50\n",
      "1286/1286 [==============================] - 1s 490us/sample - loss: 0.4649 - val_loss: 0.3880\n",
      "Epoch 17/50\n",
      "1286/1286 [==============================] - 1s 477us/sample - loss: 0.4575 - val_loss: 0.3826\n",
      "Epoch 18/50\n",
      "1286/1286 [==============================] - 1s 460us/sample - loss: 0.4441 - val_loss: 0.3768\n",
      "Epoch 19/50\n",
      "1286/1286 [==============================] - 1s 469us/sample - loss: 0.4448 - val_loss: 0.3740\n",
      "Epoch 20/50\n",
      "1286/1286 [==============================] - 1s 470us/sample - loss: 0.4287 - val_loss: 0.3711\n",
      "Epoch 21/50\n",
      "1286/1286 [==============================] - 1s 459us/sample - loss: 0.4319 - val_loss: 0.3693\n",
      "Epoch 22/50\n",
      "1286/1286 [==============================] - 1s 459us/sample - loss: 0.3969 - val_loss: 0.3678\n",
      "Epoch 23/50\n",
      "1286/1286 [==============================] - 1s 484us/sample - loss: 0.4141 - val_loss: 0.3654\n",
      "Epoch 24/50\n",
      "1286/1286 [==============================] - 1s 489us/sample - loss: 0.4058 - val_loss: 0.3657\n",
      "Epoch 25/50\n",
      "1286/1286 [==============================] - 1s 474us/sample - loss: 0.3898 - val_loss: 0.3665\n",
      "Epoch 26/50\n",
      "1286/1286 [==============================] - 1s 512us/sample - loss: 0.4106 - val_loss: 0.3669\n",
      "Epoch 27/50\n",
      "1286/1286 [==============================] - 1s 456us/sample - loss: 0.3853 - val_loss: 0.3673\n",
      "Epoch 28/50\n",
      "1286/1286 [==============================] - 1s 480us/sample - loss: 0.4032 - val_loss: 0.3675\n",
      "Epoch 29/50\n",
      "1286/1286 [==============================] - 1s 464us/sample - loss: 0.3848 - val_loss: 0.3679\n",
      "Epoch 30/50\n",
      "1286/1286 [==============================] - 1s 482us/sample - loss: 0.4018 - val_loss: 0.3683\n",
      "Epoch 31/50\n",
      "1286/1286 [==============================] - 1s 481us/sample - loss: 0.3886 - val_loss: 0.3688\n",
      "Epoch 32/50\n",
      "1286/1286 [==============================] - 1s 532us/sample - loss: 0.3886 - val_loss: 0.3693\n",
      "Epoch 33/50\n",
      "1286/1286 [==============================] - 1s 500us/sample - loss: 0.3868 - val_loss: 0.3700\n",
      "Epoch 34/50\n",
      "1286/1286 [==============================] - 1s 485us/sample - loss: 0.3808 - val_loss: 0.3705\n",
      "Epoch 35/50\n",
      "1286/1286 [==============================] - 1s 483us/sample - loss: 0.3783 - val_loss: 0.3709\n",
      "Epoch 36/50\n",
      "1286/1286 [==============================] - 1s 481us/sample - loss: 0.3628 - val_loss: 0.3712\n",
      "Epoch 37/50\n",
      "1286/1286 [==============================] - 1s 465us/sample - loss: 0.3804 - val_loss: 0.3710\n",
      "Epoch 38/50\n",
      "1286/1286 [==============================] - 1s 466us/sample - loss: 0.3702 - val_loss: 0.3716\n",
      "Epoch 39/50\n",
      "1286/1286 [==============================] - 1s 485us/sample - loss: 0.3743 - val_loss: 0.3721\n",
      "Epoch 40/50\n",
      "1286/1286 [==============================] - 1s 466us/sample - loss: 0.3755 - val_loss: 0.3720\n",
      "Epoch 41/50\n",
      "1286/1286 [==============================] - 1s 472us/sample - loss: 0.3917 - val_loss: 0.3722\n",
      "Epoch 42/50\n",
      "1286/1286 [==============================] - 1s 460us/sample - loss: 0.3748 - val_loss: 0.3730\n",
      "Epoch 43/50\n",
      "1286/1286 [==============================] - 1s 469us/sample - loss: 0.3884 - val_loss: 0.3732\n",
      "Epoch 44/50\n",
      "1286/1286 [==============================] - 1s 461us/sample - loss: 0.3696 - val_loss: 0.3731\n",
      "Epoch 45/50\n",
      "1286/1286 [==============================] - 1s 472us/sample - loss: 0.3706 - val_loss: 0.3731\n",
      "Epoch 46/50\n",
      "1286/1286 [==============================] - 1s 474us/sample - loss: 0.3819 - val_loss: 0.3725\n",
      "Epoch 47/50\n",
      "1286/1286 [==============================] - 1s 486us/sample - loss: 0.3560 - val_loss: 0.3732\n",
      "Epoch 48/50\n",
      "1286/1286 [==============================] - 1s 460us/sample - loss: 0.3631 - val_loss: 0.3731\n",
      "Epoch 49/50\n",
      "1286/1286 [==============================] - 1s 504us/sample - loss: 0.3668 - val_loss: 0.3734\n",
      "Epoch 50/50\n",
      "1286/1286 [==============================] - 1s 482us/sample - loss: 0.3603 - val_loss: 0.3745\n"
     ]
    }
   ],
   "source": [
    "history = Deep_rnn.fit(X_train_aug, y_train_aug, epochs=50,\n",
    "                    validation_data=(X_test, y_test))"
   ]
  },
  {
   "cell_type": "code",
   "execution_count": 29,
   "metadata": {},
   "outputs": [],
   "source": [
    "loss = history.history['loss']\n",
    "val_loss = history.history['val_loss']"
   ]
  },
  {
   "cell_type": "code",
   "execution_count": 30,
   "metadata": {},
   "outputs": [
    {
     "data": {
      "text/plain": [
       "[<matplotlib.lines.Line2D at 0x16959c90208>]"
      ]
     },
     "execution_count": 30,
     "metadata": {},
     "output_type": "execute_result"
    },
    {
     "data": {
      "text/plain": [
       "[<matplotlib.lines.Line2D at 0x16959c67ef0>]"
      ]
     },
     "execution_count": 30,
     "metadata": {},
     "output_type": "execute_result"
    },
    {
     "data": {
      "text/plain": [
       "<matplotlib.legend.Legend at 0x16959c90550>"
      ]
     },
     "execution_count": 30,
     "metadata": {},
     "output_type": "execute_result"
    },
    {
     "data": {
      "text/plain": [
       "Text(0.5, 1.0, 'Training and Validation loss')"
      ]
     },
     "execution_count": 30,
     "metadata": {},
     "output_type": "execute_result"
    },
    {
     "data": {
      "image/png": "[encoded data removed]",
      "text/plain": [
       "<Figure size 432x288 with 1 Axes>"
      ]
     },
     "metadata": {
      "needs_background": "light"
     },
     "output_type": "display_data"
    }
   ],
   "source": [
    "epochs = range(1, len(loss)+1)\n",
    "plt.plot(epochs, smooth_curve(loss), 'bo', label='Training loss')\n",
    "plt.plot(epochs, smooth_curve(val_loss), 'r-', label='Validation loss')\n",
    "plt.legend()\n",
    "plt.title('Training and Validation loss')\n",
    "plt.show()"
   ]
  },
  {
   "cell_type": "code",
   "execution_count": 31,
   "metadata": {},
   "outputs": [],
   "source": [
    "loss = history.history['loss'][10:]\n",
    "val_loss = history.history['val_loss'][10:]"
   ]
  },
  {
   "cell_type": "code",
   "execution_count": 32,
   "metadata": {},
   "outputs": [
    {
     "data": {
      "text/plain": [
       "[<matplotlib.lines.Line2D at 0x16959cec908>]"
      ]
     },
     "execution_count": 32,
     "metadata": {},
     "output_type": "execute_result"
    },
    {
     "data": {
      "text/plain": [
       "[<matplotlib.lines.Line2D at 0x16959cc3c18>]"
      ]
     },
     "execution_count": 32,
     "metadata": {},
     "output_type": "execute_result"
    },
    {
     "data": {
      "text/plain": [
       "<matplotlib.legend.Legend at 0x16959ceca20>"
      ]
     },
     "execution_count": 32,
     "metadata": {},
     "output_type": "execute_result"
    },
    {
     "data": {
      "text/plain": [
       "Text(0.5, 1.0, 'Training and Validation loss')"
      ]
     },
     "execution_count": 32,
     "metadata": {},
     "output_type": "execute_result"
    },
    {
     "data": {
      "image/png": "[encoded data removed]",
      "text/plain": [
       "<Figure size 432x288 with 1 Axes>"
      ]
     },
     "metadata": {
      "needs_background": "light"
     },
     "output_type": "display_data"
    }
   ],
   "source": [
    "epochs = range(1, len(loss)+1)\n",
    "plt.plot(epochs, smooth_curve(loss), 'bo', label='Training loss')\n",
    "plt.plot(epochs, smooth_curve(val_loss), 'r-', label='Validation loss')\n",
    "plt.legend()\n",
    "plt.title('Training and Validation loss')\n",
    "plt.show()"
   ]
  },
  {
   "cell_type": "code",
   "execution_count": 33,
   "metadata": {},
   "outputs": [
    {
     "data": {
      "application/vnd.plotly.v1+json": {
       "config": {
        "linkText": "Export to plot.ly",
        "plotlyServerURL": "https://plot.ly",
        "showLink": false
       },
       "data": [
        {
         "marker": {
          "color": "red",
          "opacity": 0.5,
          "size": 5
         },
         "mode": "lines",
         "name": "Training data",
         "type": "scatter",
         "x": [
          1,
          1,
          1,
          0.995334370139969,
          0.5762052877138414,
          0.4618973561430793,
          0.3942457231726283,
          0.3468118195956454,
          0.3141524105754277,
          0.2846034214618974,
          0.25505443234836706,
          0.23561430793157076,
          0.22317262830482115,
          0.20762052877138415,
          0.19206842923794712,
          0.18195956454121306,
          0.16485225505443235,
          0.15863141524105753,
          0.14774494556765164,
          0.13996889580093314,
          0.13452566096423016,
          0.12830482115085537,
          0.12286158631415241,
          0.1119751166407465,
          0.104199066874028,
          0.09642301710730948,
          0.09175738724727839,
          0.08709175738724728,
          0.08475894245723173,
          0.08398133748055987,
          0.07931570762052877,
          0.07698289269051321,
          0.07153965785381027,
          0.06765163297045101,
          0.0645412130637636,
          0.05909797822706065,
          0.053654743390357695,
          0.04821150855365474,
          0.042768273716951785,
          0.034992223950233284,
          0.028771384136858476,
          0.020995334370139968,
          0.015552099533437015,
          0.01166407465007776,
          0.00933125972006221,
          0.007776049766718507,
          0.006998444790046656,
          0.006220839813374806,
          0.0038880248833592537,
          0.0038880248833592537,
          0.0015552099533437014,
          0.0015552099533437014,
          0.0007776049766718507,
          0,
          0,
          0,
          0,
          0,
          0,
          0,
          0,
          0,
          0,
          0,
          0,
          0,
          0,
          0,
          0,
          0,
          0,
          0,
          0,
          0,
          0,
          0,
          0,
          0,
          0,
          0,
          0,
          0,
          0,
          0,
          0,
          0,
          0,
          0,
          0,
          0,
          0,
          0,
          0,
          0,
          0,
          0,
          0,
          0,
          0,
          0
         ],
         "y": [
          0,
          0,
          0,
          0.004665629860031051,
          0.2635383020297484,
          0.30733341308768997,
          0.34293376400685893,
          0.3454958727120469,
          0.35892451250149543,
          0.2859093990509231,
          0.276996849702915,
          0.2900267177094549,
          0.28323762810543524,
          0.279558958408103,
          0.2694700323005145,
          0.2667583841767357,
          0.2454041552019779,
          0.2323942257845835,
          0.22404992622722017,
          0.21259520676316945,
          0.2052179287793596,
          0.19861825577222156,
          0.17842046496789887,
          0.15725565259002272,
          0.15862144594648483,
          0.16639749571320334,
          0.1582426127527216,
          0.1500877297922399,
          0.15242054472225544,
          0.1531981496989273,
          0.15145352314870203,
          0.15378633807871755,
          0.15281931650516412,
          0.14388682856801052,
          0.1341767356541851,
          0.13961997049088806,
          0.11942217968656538,
          0.10563464529249911,
          0.09184711089843282,
          0.08039239143438211,
          0.07379271842724408,
          0.06874825537344978,
          0.04855046456912708,
          0.04602823304222994,
          0.04195079156198907,
          0.037095745105076364,
          0.031463093671491804,
          0.03224069864816366,
          0.028163257167922794,
          0.028163257167922794,
          0.011265302867169119,
          0.011265302867169119,
          0.0056326514335845596,
          0,
          0,
          0,
          0,
          0,
          0,
          0,
          0,
          0,
          0,
          0,
          0,
          0,
          0,
          0,
          0,
          0,
          0,
          0,
          0,
          0,
          0,
          0,
          0,
          0,
          0,
          0,
          0,
          0,
          0,
          0,
          0,
          0,
          0,
          0,
          0,
          0,
          0,
          0,
          0,
          0,
          0,
          0,
          0,
          0,
          0,
          0
         ]
        },
        {
         "marker": {
          "color": "blue",
          "opacity": 0.5,
          "size": 5
         },
         "mode": "lines",
         "name": "Test data",
         "type": "scatter",
         "x": [
          1,
          1,
          1,
          1,
          0.5942028985507246,
          0.4608695652173913,
          0.3884057971014493,
          0.33043478260869563,
          0.3101449275362319,
          0.28405797101449276,
          0.2492753623188406,
          0.22028985507246376,
          0.20579710144927535,
          0.19710144927536233,
          0.1826086956521739,
          0.16521739130434782,
          0.1565217391304348,
          0.14202898550724638,
          0.13623188405797101,
          0.13333333333333333,
          0.1246376811594203,
          0.11594202898550725,
          0.1072463768115942,
          0.09565217391304348,
          0.08115942028985507,
          0.0782608695652174,
          0.06956521739130435,
          0.06956521739130435,
          0.06956521739130435,
          0.06376811594202898,
          0.06086956521739131,
          0.06086956521739131,
          0.06086956521739131,
          0.05507246376811594,
          0.04927536231884058,
          0.04057971014492753,
          0.04057971014492753,
          0.04057971014492753,
          0.03768115942028986,
          0.03188405797101449,
          0.028985507246376812,
          0.02608695652173913,
          0.02608695652173913,
          0.017391304347826087,
          0.017391304347826087,
          0.017391304347826087,
          0.014492753623188406,
          0.008695652173913044,
          0,
          0,
          0,
          0,
          0,
          0,
          0,
          0,
          0,
          0,
          0,
          0,
          0,
          0,
          0,
          0,
          0,
          0,
          0,
          0,
          0,
          0,
          0,
          0,
          0,
          0,
          0,
          0,
          0,
          0,
          0,
          0,
          0,
          0,
          0,
          0,
          0,
          0,
          0,
          0,
          0,
          0,
          0,
          0,
          0,
          0,
          0,
          0,
          0,
          0,
          0,
          0
         ],
         "y": [
          0,
          0,
          0,
          0,
          0.2012516469038208,
          0.15276679841897234,
          0.22523056653491436,
          0.2377470355731226,
          0.2353096179183135,
          0.23866930171277995,
          0.2279973649538867,
          0.21152832674571806,
          0.180566534914361,
          0.18926218708827403,
          0.18102766798418973,
          0.13023715415019765,
          0.13893280632411067,
          0.1534255599472991,
          0.1364953886693017,
          0.13939393939393938,
          0.1480895915678524,
          0.15678524374176545,
          0.1654808959156785,
          0.13162055335968378,
          0.12338603425559949,
          0.10355731225296443,
          0.11225296442687747,
          0.11225296442687747,
          0.11225296442687747,
          0.0953227931488801,
          0.09822134387351777,
          0.09822134387351777,
          0.09822134387351777,
          0.10401844532279314,
          0.1098155467720685,
          0.09578392621870882,
          0.09578392621870882,
          0.09578392621870882,
          0.0986824769433465,
          0.10447957839262187,
          0.10737812911725954,
          0.11027667984189722,
          0.11027667984189722,
          0.07351778656126483,
          0.07351778656126483,
          0.07351778656126483,
          0.05368906455862977,
          0.059486166007905135,
          0,
          0,
          0,
          0,
          0,
          0,
          0,
          0,
          0,
          0,
          0,
          0,
          0,
          0,
          0,
          0,
          0,
          0,
          0,
          0,
          0,
          0,
          0,
          0,
          0,
          0,
          0,
          0,
          0,
          0,
          0,
          0,
          0,
          0,
          0,
          0,
          0,
          0,
          0,
          0,
          0,
          0,
          0,
          0,
          0,
          0,
          0,
          0,
          0,
          0,
          0,
          0
         ]
        }
       ],
       "layout": {
        "legend": {
         "font": {
          "color": "black",
          "family": "sans-serif",
          "size": 12
         },
         "traceorder": "normal",
         "x": 0.8,
         "y": 0
        },
        "template": {
         "data": {
          "bar": [
           {
            "error_x": {
             "color": "#2a3f5f"
            },
            "error_y": {
             "color": "#2a3f5f"
            },
            "marker": {
             "line": {
              "color": "#E5ECF6",
              "width": 0.5
             }
            },
            "type": "bar"
           }
          ],
          "barpolar": [
           {
            "marker": {
             "line": {
              "color": "#E5ECF6",
              "width": 0.5
             }
            },
            "type": "barpolar"
           }
          ],
          "carpet": [
           {
            "aaxis": {
             "endlinecolor": "#2a3f5f",
             "gridcolor": "white",
             "linecolor": "white",
             "minorgridcolor": "white",
             "startlinecolor": "#2a3f5f"
            },
            "baxis": {
             "endlinecolor": "#2a3f5f",
             "gridcolor": "white",
             "linecolor": "white",
             "minorgridcolor": "white",
             "startlinecolor": "#2a3f5f"
            },
            "type": "carpet"
           }
          ],
          "choropleth": [
           {
            "colorbar": {
             "outlinewidth": 0,
             "ticks": ""
            },
            "type": "choropleth"
           }
          ],
          "contour": [
           {
            "colorbar": {
             "outlinewidth": 0,
             "ticks": ""
            },
            "colorscale": [
             [
              0,
              "#0d0887"
             ],
             [
              0.1111111111111111,
              "#46039f"
             ],
             [
              0.2222222222222222,
              "#7201a8"
             ],
             [
              0.3333333333333333,
              "#9c179e"
             ],
             [
              0.4444444444444444,
              "#bd3786"
             ],
             [
              0.5555555555555556,
              "#d8576b"
             ],
             [
              0.6666666666666666,
              "#ed7953"
             ],
             [
              0.7777777777777778,
              "#fb9f3a"
             ],
             [
              0.8888888888888888,
              "#fdca26"
             ],
             [
              1,
              "#f0f921"
             ]
            ],
            "type": "contour"
           }
          ],
          "contourcarpet": [
           {
            "colorbar": {
             "outlinewidth": 0,
             "ticks": ""
            },
            "type": "contourcarpet"
           }
          ],
          "heatmap": [
           {
            "colorbar": {
             "outlinewidth": 0,
             "ticks": ""
            },
            "colorscale": [
             [
              0,
              "#0d0887"
             ],
             [
              0.1111111111111111,
              "#46039f"
             ],
             [
              0.2222222222222222,
              "#7201a8"
             ],
             [
              0.3333333333333333,
              "#9c179e"
             ],
             [
              0.4444444444444444,
              "#bd3786"
             ],
             [
              0.5555555555555556,
              "#d8576b"
             ],
             [
              0.6666666666666666,
              "#ed7953"
             ],
             [
              0.7777777777777778,
              "#fb9f3a"
             ],
             [
              0.8888888888888888,
              "#fdca26"
             ],
             [
              1,
              "#f0f921"
             ]
            ],
            "type": "heatmap"
           }
          ],
          "heatmapgl": [
           {
            "colorbar": {
             "outlinewidth": 0,
             "ticks": ""
            },
            "colorscale": [
             [
              0,
              "#0d0887"
             ],
             [
              0.1111111111111111,
              "#46039f"
             ],
             [
              0.2222222222222222,
              "#7201a8"
             ],
             [
              0.3333333333333333,
              "#9c179e"
             ],
             [
              0.4444444444444444,
              "#bd3786"
             ],
             [
              0.5555555555555556,
              "#d8576b"
             ],
             [
              0.6666666666666666,
              "#ed7953"
             ],
             [
              0.7777777777777778,
              "#fb9f3a"
             ],
             [
              0.8888888888888888,
              "#fdca26"
             ],
             [
              1,
              "#f0f921"
             ]
            ],
            "type": "heatmapgl"
           }
          ],
          "histogram": [
           {
            "marker": {
             "colorbar": {
              "outlinewidth": 0,
              "ticks": ""
             }
            },
            "type": "histogram"
           }
          ],
          "histogram2d": [
           {
            "colorbar": {
             "outlinewidth": 0,
             "ticks": ""
            },
            "colorscale": [
             [
              0,
              "#0d0887"
             ],
             [
              0.1111111111111111,
              "#46039f"
             ],
             [
              0.2222222222222222,
              "#7201a8"
             ],
             [
              0.3333333333333333,
              "#9c179e"
             ],
             [
              0.4444444444444444,
              "#bd3786"
             ],
             [
              0.5555555555555556,
              "#d8576b"
             ],
             [
              0.6666666666666666,
              "#ed7953"
             ],
             [
              0.7777777777777778,
              "#fb9f3a"
             ],
             [
              0.8888888888888888,
              "#fdca26"
             ],
             [
              1,
              "#f0f921"
             ]
            ],
            "type": "histogram2d"
           }
          ],
          "histogram2dcontour": [
           {
            "colorbar": {
             "outlinewidth": 0,
             "ticks": ""
            },
            "colorscale": [
             [
              0,
              "#0d0887"
             ],
             [
              0.1111111111111111,
              "#46039f"
             ],
             [
              0.2222222222222222,
              "#7201a8"
             ],
             [
              0.3333333333333333,
              "#9c179e"
             ],
             [
              0.4444444444444444,
              "#bd3786"
             ],
             [
              0.5555555555555556,
              "#d8576b"
             ],
             [
              0.6666666666666666,
              "#ed7953"
             ],
             [
              0.7777777777777778,
              "#fb9f3a"
             ],
             [
              0.8888888888888888,
              "#fdca26"
             ],
             [
              1,
              "#f0f921"
             ]
            ],
            "type": "histogram2dcontour"
           }
          ],
          "mesh3d": [
           {
            "colorbar": {
             "outlinewidth": 0,
             "ticks": ""
            },
            "type": "mesh3d"
           }
          ],
          "parcoords": [
           {
            "line": {
             "colorbar": {
              "outlinewidth": 0,
              "ticks": ""
             }
            },
            "type": "parcoords"
           }
          ],
          "scatter": [
           {
            "marker": {
             "colorbar": {
              "outlinewidth": 0,
              "ticks": ""
             }
            },
            "type": "scatter"
           }
          ],
          "scatter3d": [
           {
            "line": {
             "colorbar": {
              "outlinewidth": 0,
              "ticks": ""
             }
            },
            "marker": {
             "colorbar": {
              "outlinewidth": 0,
              "ticks": ""
             }
            },
            "type": "scatter3d"
           }
          ],
          "scattercarpet": [
           {
            "marker": {
             "colorbar": {
              "outlinewidth": 0,
              "ticks": ""
             }
            },
            "type": "scattercarpet"
           }
          ],
          "scattergeo": [
           {
            "marker": {
             "colorbar": {
              "outlinewidth": 0,
              "ticks": ""
             }
            },
            "type": "scattergeo"
           }
          ],
          "scattergl": [
           {
            "marker": {
             "colorbar": {
              "outlinewidth": 0,
              "ticks": ""
             }
            },
            "type": "scattergl"
           }
          ],
          "scattermapbox": [
           {
            "marker": {
             "colorbar": {
              "outlinewidth": 0,
              "ticks": ""
             }
            },
            "type": "scattermapbox"
           }
          ],
          "scatterpolar": [
           {
            "marker": {
             "colorbar": {
              "outlinewidth": 0,
              "ticks": ""
             }
            },
            "type": "scatterpolar"
           }
          ],
          "scatterpolargl": [
           {
            "marker": {
             "colorbar": {
              "outlinewidth": 0,
              "ticks": ""
             }
            },
            "type": "scatterpolargl"
           }
          ],
          "scatterternary": [
           {
            "marker": {
             "colorbar": {
              "outlinewidth": 0,
              "ticks": ""
             }
            },
            "type": "scatterternary"
           }
          ],
          "surface": [
           {
            "colorbar": {
             "outlinewidth": 0,
             "ticks": ""
            },
            "colorscale": [
             [
              0,
              "#0d0887"
             ],
             [
              0.1111111111111111,
              "#46039f"
             ],
             [
              0.2222222222222222,
              "#7201a8"
             ],
             [
              0.3333333333333333,
              "#9c179e"
             ],
             [
              0.4444444444444444,
              "#bd3786"
             ],
             [
              0.5555555555555556,
              "#d8576b"
             ],
             [
              0.6666666666666666,
              "#ed7953"
             ],
             [
              0.7777777777777778,
              "#fb9f3a"
             ],
             [
              0.8888888888888888,
              "#fdca26"
             ],
             [
              1,
              "#f0f921"
             ]
            ],
            "type": "surface"
           }
          ],
          "table": [
           {
            "cells": {
             "fill": {
              "color": "#EBF0F8"
             },
             "line": {
              "color": "white"
             }
            },
            "header": {
             "fill": {
              "color": "#C8D4E3"
             },
             "line": {
              "color": "white"
             }
            },
            "type": "table"
           }
          ]
         },
         "layout": {
          "annotationdefaults": {
           "arrowcolor": "#2a3f5f",
           "arrowhead": 0,
           "arrowwidth": 1
          },
          "colorscale": {
           "diverging": [
            [
             0,
             "#8e0152"
            ],
            [
             0.1,
             "#c51b7d"
            ],
            [
             0.2,
             "#de77ae"
            ],
            [
             0.3,
             "#f1b6da"
            ],
            [
             0.4,
             "#fde0ef"
            ],
            [
             0.5,
             "#f7f7f7"
            ],
            [
             0.6,
             "#e6f5d0"
            ],
            [
             0.7,
             "#b8e186"
            ],
            [
             0.8,
             "#7fbc41"
            ],
            [
             0.9,
             "#4d9221"
            ],
            [
             1,
             "#276419"
            ]
           ],
           "sequential": [
            [
             0,
             "#0d0887"
            ],
            [
             0.1111111111111111,
             "#46039f"
            ],
            [
             0.2222222222222222,
             "#7201a8"
            ],
            [
             0.3333333333333333,
             "#9c179e"
            ],
            [
             0.4444444444444444,
             "#bd3786"
            ],
            [
             0.5555555555555556,
             "#d8576b"
            ],
            [
             0.6666666666666666,
             "#ed7953"
            ],
            [
             0.7777777777777778,
             "#fb9f3a"
            ],
            [
             0.8888888888888888,
             "#fdca26"
            ],
            [
             1,
             "#f0f921"
            ]
           ],
           "sequentialminus": [
            [
             0,
             "#0d0887"
            ],
            [
             0.1111111111111111,
             "#46039f"
            ],
            [
             0.2222222222222222,
             "#7201a8"
            ],
            [
             0.3333333333333333,
             "#9c179e"
            ],
            [
             0.4444444444444444,
             "#bd3786"
            ],
            [
             0.5555555555555556,
             "#d8576b"
            ],
            [
             0.6666666666666666,
             "#ed7953"
            ],
            [
             0.7777777777777778,
             "#fb9f3a"
            ],
            [
             0.8888888888888888,
             "#fdca26"
            ],
            [
             1,
             "#f0f921"
            ]
           ]
          },
          "colorway": [
           "#636efa",
           "#EF553B",
           "#00cc96",
           "#ab63fa",
           "#FFA15A",
           "#19d3f3",
           "#FF6692",
           "#B6E880",
           "#FF97FF",
           "#FECB52"
          ],
          "font": {
           "color": "#2a3f5f"
          },
          "geo": {
           "bgcolor": "white",
           "lakecolor": "white",
           "landcolor": "#E5ECF6",
           "showlakes": true,
           "showland": true,
           "subunitcolor": "white"
          },
          "hoverlabel": {
           "align": "left"
          },
          "hovermode": "closest",
          "mapbox": {
           "style": "light"
          },
          "paper_bgcolor": "white",
          "plot_bgcolor": "#E5ECF6",
          "polar": {
           "angularaxis": {
            "gridcolor": "white",
            "linecolor": "white",
            "ticks": ""
           },
           "bgcolor": "#E5ECF6",
           "radialaxis": {
            "gridcolor": "white",
            "linecolor": "white",
            "ticks": ""
           }
          },
          "scene": {
           "xaxis": {
            "backgroundcolor": "#E5ECF6",
            "gridcolor": "white",
            "gridwidth": 2,
            "linecolor": "white",
            "showbackground": true,
            "ticks": "",
            "zerolinecolor": "white"
           },
           "yaxis": {
            "backgroundcolor": "#E5ECF6",
            "gridcolor": "white",
            "gridwidth": 2,
            "linecolor": "white",
            "showbackground": true,
            "ticks": "",
            "zerolinecolor": "white"
           },
           "zaxis": {
            "backgroundcolor": "#E5ECF6",
            "gridcolor": "white",
            "gridwidth": 2,
            "linecolor": "white",
            "showbackground": true,
            "ticks": "",
            "zerolinecolor": "white"
           }
          },
          "shapedefaults": {
           "line": {
            "color": "#2a3f5f"
           }
          },
          "ternary": {
           "aaxis": {
            "gridcolor": "white",
            "linecolor": "white",
            "ticks": ""
           },
           "baxis": {
            "gridcolor": "white",
            "linecolor": "white",
            "ticks": ""
           },
           "bgcolor": "#E5ECF6",
           "caxis": {
            "gridcolor": "white",
            "linecolor": "white",
            "ticks": ""
           }
          },
          "title": {
           "x": 0.05
          },
          "xaxis": {
           "automargin": true,
           "gridcolor": "white",
           "linecolor": "white",
           "ticks": "",
           "zerolinecolor": "white",
           "zerolinewidth": 2
          },
          "yaxis": {
           "automargin": true,
           "gridcolor": "white",
           "linecolor": "white",
           "ticks": "",
           "zerolinecolor": "white",
           "zerolinewidth": 2
          }
         }
        },
        "title": {
         "text": "Recall surplus for comparison"
        },
        "xaxis": {
         "range": [
          0,
          0.4
         ],
         "title": {
          "text": "Positives share"
         }
        },
        "yaxis": {
         "title": {
          "text": "Recall surplus"
         }
        }
       }
      },
      "text/html": [
       "<div>\n",
       "        \n",
       "        \n",
       "            <div id=\"16fb33ce-fc3e-494a-a4f8-05a1729cad56\" class=\"plotly-graph-div\" style=\"height:525px; width:100%;\"></div>\n",
       "            <script type=\"text/javascript\">\n",
       "                require([\"plotly\"], function(Plotly) {\n",
       "                    window.PLOTLYENV=window.PLOTLYENV || {};\n",
       "                    \n",
       "                if (document.getElementById(\"16fb33ce-fc3e-494a-a4f8-05a1729cad56\")) {\n",
       "                    Plotly.newPlot(\n",
       "                        '16fb33ce-fc3e-494a-a4f8-05a1729cad56',\n",
       "                        [{\"marker\": {\"color\": \"red\", \"opacity\": 0.5, \"size\": 5}, \"mode\": \"lines\", \"name\": \"Training data\", \"type\": \"scatter\", \"x\": [1.0, 1.0, 1.0, 0.995334370139969, 0.5762052877138414, 0.4618973561430793, 0.3942457231726283, 0.3468118195956454, 0.3141524105754277, 0.2846034214618974, 0.25505443234836706, 0.23561430793157076, 0.22317262830482115, 0.20762052877138415, 0.19206842923794712, 0.18195956454121306, 0.16485225505443235, 0.15863141524105753, 0.14774494556765164, 0.13996889580093314, 0.13452566096423016, 0.12830482115085537, 0.12286158631415241, 0.1119751166407465, 0.104199066874028, 0.09642301710730948, 0.09175738724727839, 0.08709175738724728, 0.08475894245723173, 0.08398133748055987, 0.07931570762052877, 0.07698289269051321, 0.07153965785381027, 0.06765163297045101, 0.0645412130637636, 0.05909797822706065, 0.053654743390357695, 0.04821150855365474, 0.042768273716951785, 0.034992223950233284, 0.028771384136858476, 0.020995334370139968, 0.015552099533437015, 0.01166407465007776, 0.00933125972006221, 0.007776049766718507, 0.006998444790046656, 0.006220839813374806, 0.0038880248833592537, 0.0038880248833592537, 0.0015552099533437014, 0.0015552099533437014, 0.0007776049766718507, 0.0, 0.0, 0.0, 0.0, 0.0, 0.0, 0.0, 0.0, 0.0, 0.0, 0.0, 0.0, 0.0, 0.0, 0.0, 0.0, 0.0, 0.0, 0.0, 0.0, 0.0, 0.0, 0.0, 0.0, 0.0, 0.0, 0.0, 0.0, 0.0, 0.0, 0.0, 0.0, 0.0, 0.0, 0.0, 0.0, 0.0, 0.0, 0.0, 0.0, 0.0, 0.0, 0.0, 0.0, 0.0, 0.0, 0.0], \"y\": [0.0, 0.0, 0.0, 0.004665629860031051, 0.2635383020297484, 0.30733341308768997, 0.34293376400685893, 0.3454958727120469, 0.35892451250149543, 0.2859093990509231, 0.276996849702915, 0.2900267177094549, 0.28323762810543524, 0.279558958408103, 0.2694700323005145, 0.2667583841767357, 0.2454041552019779, 0.2323942257845835, 0.22404992622722017, 0.21259520676316945, 0.2052179287793596, 0.19861825577222156, 0.17842046496789887, 0.15725565259002272, 0.15862144594648483, 0.16639749571320334, 0.1582426127527216, 0.1500877297922399, 0.15242054472225544, 0.1531981496989273, 0.15145352314870203, 0.15378633807871755, 0.15281931650516412, 0.14388682856801052, 0.1341767356541851, 0.13961997049088806, 0.11942217968656538, 0.10563464529249911, 0.09184711089843282, 0.08039239143438211, 0.07379271842724408, 0.06874825537344978, 0.04855046456912708, 0.04602823304222994, 0.04195079156198907, 0.037095745105076364, 0.031463093671491804, 0.03224069864816366, 0.028163257167922794, 0.028163257167922794, 0.011265302867169119, 0.011265302867169119, 0.0056326514335845596, 0.0, 0.0, 0.0, 0.0, 0.0, 0.0, 0.0, 0.0, 0.0, 0.0, 0.0, 0.0, 0.0, 0.0, 0.0, 0.0, 0.0, 0.0, 0.0, 0.0, 0.0, 0.0, 0.0, 0.0, 0.0, 0.0, 0.0, 0.0, 0.0, 0.0, 0.0, 0.0, 0.0, 0.0, 0.0, 0.0, 0.0, 0.0, 0.0, 0.0, 0.0, 0.0, 0.0, 0.0, 0.0, 0.0, 0.0]}, {\"marker\": {\"color\": \"blue\", \"opacity\": 0.5, \"size\": 5}, \"mode\": \"lines\", \"name\": \"Test data\", \"type\": \"scatter\", \"x\": [1.0, 1.0, 1.0, 1.0, 0.5942028985507246, 0.4608695652173913, 0.3884057971014493, 0.33043478260869563, 0.3101449275362319, 0.28405797101449276, 0.2492753623188406, 0.22028985507246376, 0.20579710144927535, 0.19710144927536233, 0.1826086956521739, 0.16521739130434782, 0.1565217391304348, 0.14202898550724638, 0.13623188405797101, 0.13333333333333333, 0.1246376811594203, 0.11594202898550725, 0.1072463768115942, 0.09565217391304348, 0.08115942028985507, 0.0782608695652174, 0.06956521739130435, 0.06956521739130435, 0.06956521739130435, 0.06376811594202898, 0.06086956521739131, 0.06086956521739131, 0.06086956521739131, 0.05507246376811594, 0.04927536231884058, 0.04057971014492753, 0.04057971014492753, 0.04057971014492753, 0.03768115942028986, 0.03188405797101449, 0.028985507246376812, 0.02608695652173913, 0.02608695652173913, 0.017391304347826087, 0.017391304347826087, 0.017391304347826087, 0.014492753623188406, 0.008695652173913044, 0.0, 0.0, 0.0, 0.0, 0.0, 0.0, 0.0, 0.0, 0.0, 0.0, 0.0, 0.0, 0.0, 0.0, 0.0, 0.0, 0.0, 0.0, 0.0, 0.0, 0.0, 0.0, 0.0, 0.0, 0.0, 0.0, 0.0, 0.0, 0.0, 0.0, 0.0, 0.0, 0.0, 0.0, 0.0, 0.0, 0.0, 0.0, 0.0, 0.0, 0.0, 0.0, 0.0, 0.0, 0.0, 0.0, 0.0, 0.0, 0.0, 0.0, 0.0, 0.0], \"y\": [0.0, 0.0, 0.0, 0.0, 0.2012516469038208, 0.15276679841897234, 0.22523056653491436, 0.2377470355731226, 0.2353096179183135, 0.23866930171277995, 0.2279973649538867, 0.21152832674571806, 0.180566534914361, 0.18926218708827403, 0.18102766798418973, 0.13023715415019765, 0.13893280632411067, 0.1534255599472991, 0.1364953886693017, 0.13939393939393938, 0.1480895915678524, 0.15678524374176545, 0.1654808959156785, 0.13162055335968378, 0.12338603425559949, 0.10355731225296443, 0.11225296442687747, 0.11225296442687747, 0.11225296442687747, 0.0953227931488801, 0.09822134387351777, 0.09822134387351777, 0.09822134387351777, 0.10401844532279314, 0.1098155467720685, 0.09578392621870882, 0.09578392621870882, 0.09578392621870882, 0.0986824769433465, 0.10447957839262187, 0.10737812911725954, 0.11027667984189722, 0.11027667984189722, 0.07351778656126483, 0.07351778656126483, 0.07351778656126483, 0.05368906455862977, 0.059486166007905135, 0.0, 0.0, 0.0, 0.0, 0.0, 0.0, 0.0, 0.0, 0.0, 0.0, 0.0, 0.0, 0.0, 0.0, 0.0, 0.0, 0.0, 0.0, 0.0, 0.0, 0.0, 0.0, 0.0, 0.0, 0.0, 0.0, 0.0, 0.0, 0.0, 0.0, 0.0, 0.0, 0.0, 0.0, 0.0, 0.0, 0.0, 0.0, 0.0, 0.0, 0.0, 0.0, 0.0, 0.0, 0.0, 0.0, 0.0, 0.0, 0.0, 0.0, 0.0, 0.0]}],\n",
       "                        {\"legend\": {\"font\": {\"color\": \"black\", \"family\": \"sans-serif\", \"size\": 12}, \"traceorder\": \"normal\", \"x\": 0.8, \"y\": 0}, \"template\": {\"data\": {\"bar\": [{\"error_x\": {\"color\": \"#2a3f5f\"}, \"error_y\": {\"color\": \"#2a3f5f\"}, \"marker\": {\"line\": {\"color\": \"#E5ECF6\", \"width\": 0.5}}, \"type\": \"bar\"}], \"barpolar\": [{\"marker\": {\"line\": {\"color\": \"#E5ECF6\", \"width\": 0.5}}, \"type\": \"barpolar\"}], \"carpet\": [{\"aaxis\": {\"endlinecolor\": \"#2a3f5f\", \"gridcolor\": \"white\", \"linecolor\": \"white\", \"minorgridcolor\": \"white\", \"startlinecolor\": \"#2a3f5f\"}, \"baxis\": {\"endlinecolor\": \"#2a3f5f\", \"gridcolor\": \"white\", \"linecolor\": \"white\", \"minorgridcolor\": \"white\", \"startlinecolor\": \"#2a3f5f\"}, \"type\": \"carpet\"}], \"choropleth\": [{\"colorbar\": {\"outlinewidth\": 0, \"ticks\": \"\"}, \"type\": \"choropleth\"}], \"contour\": [{\"colorbar\": {\"outlinewidth\": 0, \"ticks\": \"\"}, \"colorscale\": [[0.0, \"#0d0887\"], [0.1111111111111111, \"#46039f\"], [0.2222222222222222, \"#7201a8\"], [0.3333333333333333, \"#9c179e\"], [0.4444444444444444, \"#bd3786\"], [0.5555555555555556, \"#d8576b\"], [0.6666666666666666, \"#ed7953\"], [0.7777777777777778, \"#fb9f3a\"], [0.8888888888888888, \"#fdca26\"], [1.0, \"#f0f921\"]], \"type\": \"contour\"}], \"contourcarpet\": [{\"colorbar\": {\"outlinewidth\": 0, \"ticks\": \"\"}, \"type\": \"contourcarpet\"}], \"heatmap\": [{\"colorbar\": {\"outlinewidth\": 0, \"ticks\": \"\"}, \"colorscale\": [[0.0, \"#0d0887\"], [0.1111111111111111, \"#46039f\"], [0.2222222222222222, \"#7201a8\"], [0.3333333333333333, \"#9c179e\"], [0.4444444444444444, \"#bd3786\"], [0.5555555555555556, \"#d8576b\"], [0.6666666666666666, \"#ed7953\"], [0.7777777777777778, \"#fb9f3a\"], [0.8888888888888888, \"#fdca26\"], [1.0, \"#f0f921\"]], \"type\": \"heatmap\"}], \"heatmapgl\": [{\"colorbar\": {\"outlinewidth\": 0, \"ticks\": \"\"}, \"colorscale\": [[0.0, \"#0d0887\"], [0.1111111111111111, \"#46039f\"], [0.2222222222222222, \"#7201a8\"], [0.3333333333333333, \"#9c179e\"], [0.4444444444444444, \"#bd3786\"], [0.5555555555555556, \"#d8576b\"], [0.6666666666666666, \"#ed7953\"], [0.7777777777777778, \"#fb9f3a\"], [0.8888888888888888, \"#fdca26\"], [1.0, \"#f0f921\"]], \"type\": \"heatmapgl\"}], \"histogram\": [{\"marker\": {\"colorbar\": {\"outlinewidth\": 0, \"ticks\": \"\"}}, \"type\": \"histogram\"}], \"histogram2d\": [{\"colorbar\": {\"outlinewidth\": 0, \"ticks\": \"\"}, \"colorscale\": [[0.0, \"#0d0887\"], [0.1111111111111111, \"#46039f\"], [0.2222222222222222, \"#7201a8\"], [0.3333333333333333, \"#9c179e\"], [0.4444444444444444, \"#bd3786\"], [0.5555555555555556, \"#d8576b\"], [0.6666666666666666, \"#ed7953\"], [0.7777777777777778, \"#fb9f3a\"], [0.8888888888888888, \"#fdca26\"], [1.0, \"#f0f921\"]], \"type\": \"histogram2d\"}], \"histogram2dcontour\": [{\"colorbar\": {\"outlinewidth\": 0, \"ticks\": \"\"}, \"colorscale\": [[0.0, \"#0d0887\"], [0.1111111111111111, \"#46039f\"], [0.2222222222222222, \"#7201a8\"], [0.3333333333333333, \"#9c179e\"], [0.4444444444444444, \"#bd3786\"], [0.5555555555555556, \"#d8576b\"], [0.6666666666666666, \"#ed7953\"], [0.7777777777777778, \"#fb9f3a\"], [0.8888888888888888, \"#fdca26\"], [1.0, \"#f0f921\"]], \"type\": \"histogram2dcontour\"}], \"mesh3d\": [{\"colorbar\": {\"outlinewidth\": 0, \"ticks\": \"\"}, \"type\": \"mesh3d\"}], \"parcoords\": [{\"line\": {\"colorbar\": {\"outlinewidth\": 0, \"ticks\": \"\"}}, \"type\": \"parcoords\"}], \"scatter\": [{\"marker\": {\"colorbar\": {\"outlinewidth\": 0, \"ticks\": \"\"}}, \"type\": \"scatter\"}], \"scatter3d\": [{\"line\": {\"colorbar\": {\"outlinewidth\": 0, \"ticks\": \"\"}}, \"marker\": {\"colorbar\": {\"outlinewidth\": 0, \"ticks\": \"\"}}, \"type\": \"scatter3d\"}], \"scattercarpet\": [{\"marker\": {\"colorbar\": {\"outlinewidth\": 0, \"ticks\": \"\"}}, \"type\": \"scattercarpet\"}], \"scattergeo\": [{\"marker\": {\"colorbar\": {\"outlinewidth\": 0, \"ticks\": \"\"}}, \"type\": \"scattergeo\"}], \"scattergl\": [{\"marker\": {\"colorbar\": {\"outlinewidth\": 0, \"ticks\": \"\"}}, \"type\": \"scattergl\"}], \"scattermapbox\": [{\"marker\": {\"colorbar\": {\"outlinewidth\": 0, \"ticks\": \"\"}}, \"type\": \"scattermapbox\"}], \"scatterpolar\": [{\"marker\": {\"colorbar\": {\"outlinewidth\": 0, \"ticks\": \"\"}}, \"type\": \"scatterpolar\"}], \"scatterpolargl\": [{\"marker\": {\"colorbar\": {\"outlinewidth\": 0, \"ticks\": \"\"}}, \"type\": \"scatterpolargl\"}], \"scatterternary\": [{\"marker\": {\"colorbar\": {\"outlinewidth\": 0, \"ticks\": \"\"}}, \"type\": \"scatterternary\"}], \"surface\": [{\"colorbar\": {\"outlinewidth\": 0, \"ticks\": \"\"}, \"colorscale\": [[0.0, \"#0d0887\"], [0.1111111111111111, \"#46039f\"], [0.2222222222222222, \"#7201a8\"], [0.3333333333333333, \"#9c179e\"], [0.4444444444444444, \"#bd3786\"], [0.5555555555555556, \"#d8576b\"], [0.6666666666666666, \"#ed7953\"], [0.7777777777777778, \"#fb9f3a\"], [0.8888888888888888, \"#fdca26\"], [1.0, \"#f0f921\"]], \"type\": \"surface\"}], \"table\": [{\"cells\": {\"fill\": {\"color\": \"#EBF0F8\"}, \"line\": {\"color\": \"white\"}}, \"header\": {\"fill\": {\"color\": \"#C8D4E3\"}, \"line\": {\"color\": \"white\"}}, \"type\": \"table\"}]}, \"layout\": {\"annotationdefaults\": {\"arrowcolor\": \"#2a3f5f\", \"arrowhead\": 0, \"arrowwidth\": 1}, \"colorscale\": {\"diverging\": [[0, \"#8e0152\"], [0.1, \"#c51b7d\"], [0.2, \"#de77ae\"], [0.3, \"#f1b6da\"], [0.4, \"#fde0ef\"], [0.5, \"#f7f7f7\"], [0.6, \"#e6f5d0\"], [0.7, \"#b8e186\"], [0.8, \"#7fbc41\"], [0.9, \"#4d9221\"], [1, \"#276419\"]], \"sequential\": [[0.0, \"#0d0887\"], [0.1111111111111111, \"#46039f\"], [0.2222222222222222, \"#7201a8\"], [0.3333333333333333, \"#9c179e\"], [0.4444444444444444, \"#bd3786\"], [0.5555555555555556, \"#d8576b\"], [0.6666666666666666, \"#ed7953\"], [0.7777777777777778, \"#fb9f3a\"], [0.8888888888888888, \"#fdca26\"], [1.0, \"#f0f921\"]], \"sequentialminus\": [[0.0, \"#0d0887\"], [0.1111111111111111, \"#46039f\"], [0.2222222222222222, \"#7201a8\"], [0.3333333333333333, \"#9c179e\"], [0.4444444444444444, \"#bd3786\"], [0.5555555555555556, \"#d8576b\"], [0.6666666666666666, \"#ed7953\"], [0.7777777777777778, \"#fb9f3a\"], [0.8888888888888888, \"#fdca26\"], [1.0, \"#f0f921\"]]}, \"colorway\": [\"#636efa\", \"#EF553B\", \"#00cc96\", \"#ab63fa\", \"#FFA15A\", \"#19d3f3\", \"#FF6692\", \"#B6E880\", \"#FF97FF\", \"#FECB52\"], \"font\": {\"color\": \"#2a3f5f\"}, \"geo\": {\"bgcolor\": \"white\", \"lakecolor\": \"white\", \"landcolor\": \"#E5ECF6\", \"showlakes\": true, \"showland\": true, \"subunitcolor\": \"white\"}, \"hoverlabel\": {\"align\": \"left\"}, \"hovermode\": \"closest\", \"mapbox\": {\"style\": \"light\"}, \"paper_bgcolor\": \"white\", \"plot_bgcolor\": \"#E5ECF6\", \"polar\": {\"angularaxis\": {\"gridcolor\": \"white\", \"linecolor\": \"white\", \"ticks\": \"\"}, \"bgcolor\": \"#E5ECF6\", \"radialaxis\": {\"gridcolor\": \"white\", \"linecolor\": \"white\", \"ticks\": \"\"}}, \"scene\": {\"xaxis\": {\"backgroundcolor\": \"#E5ECF6\", \"gridcolor\": \"white\", \"gridwidth\": 2, \"linecolor\": \"white\", \"showbackground\": true, \"ticks\": \"\", \"zerolinecolor\": \"white\"}, \"yaxis\": {\"backgroundcolor\": \"#E5ECF6\", \"gridcolor\": \"white\", \"gridwidth\": 2, \"linecolor\": \"white\", \"showbackground\": true, \"ticks\": \"\", \"zerolinecolor\": \"white\"}, \"zaxis\": {\"backgroundcolor\": \"#E5ECF6\", \"gridcolor\": \"white\", \"gridwidth\": 2, \"linecolor\": \"white\", \"showbackground\": true, \"ticks\": \"\", \"zerolinecolor\": \"white\"}}, \"shapedefaults\": {\"line\": {\"color\": \"#2a3f5f\"}}, \"ternary\": {\"aaxis\": {\"gridcolor\": \"white\", \"linecolor\": \"white\", \"ticks\": \"\"}, \"baxis\": {\"gridcolor\": \"white\", \"linecolor\": \"white\", \"ticks\": \"\"}, \"bgcolor\": \"#E5ECF6\", \"caxis\": {\"gridcolor\": \"white\", \"linecolor\": \"white\", \"ticks\": \"\"}}, \"title\": {\"x\": 0.05}, \"xaxis\": {\"automargin\": true, \"gridcolor\": \"white\", \"linecolor\": \"white\", \"ticks\": \"\", \"zerolinecolor\": \"white\", \"zerolinewidth\": 2}, \"yaxis\": {\"automargin\": true, \"gridcolor\": \"white\", \"linecolor\": \"white\", \"ticks\": \"\", \"zerolinecolor\": \"white\", \"zerolinewidth\": 2}}}, \"title\": {\"text\": \"Recall surplus for comparison\"}, \"xaxis\": {\"range\": [0, 0.4], \"title\": {\"text\": \"Positives share\"}}, \"yaxis\": {\"title\": {\"text\": \"Recall surplus\"}}},\n",
       "                        {\"responsive\": true}\n",
       "                    ).then(function(){\n",
       "                            \n",
       "var gd = document.getElementById('16fb33ce-fc3e-494a-a4f8-05a1729cad56');\n",
       "var x = new MutationObserver(function (mutations, observer) {{\n",
       "        var display = window.getComputedStyle(gd).display;\n",
       "        if (!display || display === 'none') {{\n",
       "            console.log([gd, 'removed!']);\n",
       "            Plotly.purge(gd);\n",
       "            observer.disconnect();\n",
       "        }}\n",
       "}});\n",
       "\n",
       "// Listen for the removal of the full notebook cells\n",
       "var notebookContainer = gd.closest('#notebook-container');\n",
       "if (notebookContainer) {{\n",
       "    x.observe(notebookContainer, {childList: true});\n",
       "}}\n",
       "\n",
       "// Listen for the clearing of the current output cell\n",
       "var outputEl = gd.closest('.output');\n",
       "if (outputEl) {{\n",
       "    x.observe(outputEl, {childList: true});\n",
       "}}\n",
       "\n",
       "                        })\n",
       "                };\n",
       "                });\n",
       "            </script>\n",
       "        </div>"
      ]
     },
     "metadata": {},
     "output_type": "display_data"
    }
   ],
   "source": [
    "drnn_pred_train,drnn_pred_test,drnn_pr_train,drnn_pr_test= model_comparison_outputs_DNN(X_train,y_train, X_test, y_test, Deep_rnn)\n",
    "\n",
    "plot_recall_surplus_train_test(drnn_pr_train,drnn_pr_test)"
   ]
  },
  {
   "cell_type": "markdown",
   "metadata": {},
   "source": [
    "## Deep RNN with GRU"
   ]
  },
  {
   "cell_type": "code",
   "execution_count": 34,
   "metadata": {},
   "outputs": [],
   "source": [
    "tf.keras.backend.clear_session()\n",
    "tf.random.set_seed(51)"
   ]
  },
  {
   "cell_type": "code",
   "execution_count": 35,
   "metadata": {},
   "outputs": [
    {
     "name": "stdout",
     "output_type": "stream",
     "text": [
      "Model: \"sequential\"\n",
      "_________________________________________________________________\n",
      "Layer (type)                 Output Shape              Param #   \n",
      "=================================================================\n",
      "gru (GRU)                    (None, 9, 40)             5280      \n",
      "_________________________________________________________________\n",
      "batch_normalization (BatchNo (None, 9, 40)             160       \n",
      "_________________________________________________________________\n",
      "dropout (Dropout)            (None, 9, 40)             0         \n",
      "_________________________________________________________________\n",
      "gru_1 (GRU)                  (None, 20)                3720      \n",
      "_________________________________________________________________\n",
      "batch_normalization_1 (Batch (None, 20)                80        \n",
      "_________________________________________________________________\n",
      "dense (Dense)                (None, 10)                210       \n",
      "_________________________________________________________________\n",
      "dense_1 (Dense)              (None, 1)                 11        \n",
      "=================================================================\n",
      "Total params: 9,461\n",
      "Trainable params: 9,341\n",
      "Non-trainable params: 120\n",
      "_________________________________________________________________\n"
     ]
    }
   ],
   "source": [
    "Deep_GRU = keras.models.Sequential([\n",
    "    keras.layers.GRU(input_shape=[input_dim[0],input_dim[1]],units=40,activation=\"relu\",return_sequences=True),\n",
    "    keras.layers.BatchNormalization(),\n",
    "    keras.layers.Dropout(0.5),\n",
    "    keras.layers.GRU(20),\n",
    "    keras.layers.BatchNormalization(),\n",
    "    keras.layers.Dense(units=10, activation='relu'),\n",
    "    keras.layers.Dense(units=1, activation=\"sigmoid\")\n",
    "])\n",
    "\n",
    "Deep_GRU.summary()"
   ]
  },
  {
   "cell_type": "code",
   "execution_count": 36,
   "metadata": {},
   "outputs": [],
   "source": [
    "optimizer = keras.optimizers.Adam(lr=0.0001)\n",
    "Deep_GRU.compile(loss=\"mse\", optimizer=optimizer)"
   ]
  },
  {
   "cell_type": "code",
   "execution_count": 37,
   "metadata": {},
   "outputs": [
    {
     "name": "stdout",
     "output_type": "stream",
     "text": [
      "Train on 1286 samples, validate on 345 samples\n",
      "Epoch 1/50\n",
      "1286/1286 [==============================] - 12s 10ms/sample - loss: 0.3140 - val_loss: 0.2506\n",
      "Epoch 2/50\n",
      "1286/1286 [==============================] - 1s 741us/sample - loss: 0.2797 - val_loss: 0.2428\n",
      "Epoch 3/50\n",
      "1286/1286 [==============================] - 1s 747us/sample - loss: 0.2565 - val_loss: 0.2350\n",
      "Epoch 4/50\n",
      "1286/1286 [==============================] - 1s 707us/sample - loss: 0.2378 - val_loss: 0.2261\n",
      "Epoch 5/50\n",
      "1286/1286 [==============================] - 1s 759us/sample - loss: 0.2253 - val_loss: 0.2154\n",
      "Epoch 6/50\n",
      "1286/1286 [==============================] - 1s 758us/sample - loss: 0.2108 - val_loss: 0.2042\n",
      "Epoch 7/50\n",
      "1286/1286 [==============================] - 1s 747us/sample - loss: 0.1935 - val_loss: 0.1926\n",
      "Epoch 8/50\n",
      "1286/1286 [==============================] - 1s 693us/sample - loss: 0.1886 - val_loss: 0.1825\n",
      "Epoch 9/50\n",
      "1286/1286 [==============================] - 1s 723us/sample - loss: 0.1807 - val_loss: 0.1728\n",
      "Epoch 10/50\n",
      "1286/1286 [==============================] - 1s 794us/sample - loss: 0.1719 - val_loss: 0.1638\n",
      "Epoch 11/50\n",
      "1286/1286 [==============================] - 1s 905us/sample - loss: 0.1648 - val_loss: 0.1564\n",
      "Epoch 12/50\n",
      "1286/1286 [==============================] - 1s 727us/sample - loss: 0.1586 - val_loss: 0.1499\n",
      "Epoch 13/50\n",
      "1286/1286 [==============================] - 1s 736us/sample - loss: 0.1534 - val_loss: 0.1442\n",
      "Epoch 14/50\n",
      "1286/1286 [==============================] - 1s 864us/sample - loss: 0.1504 - val_loss: 0.1390\n",
      "Epoch 15/50\n",
      "1286/1286 [==============================] - 1s 855us/sample - loss: 0.1422 - val_loss: 0.1351\n",
      "Epoch 16/50\n",
      "1286/1286 [==============================] - 1s 1ms/sample - loss: 0.1414 - val_loss: 0.1318\n",
      "Epoch 17/50\n",
      "1286/1286 [==============================] - 1s 971us/sample - loss: 0.1365 - val_loss: 0.1289\n",
      "Epoch 18/50\n",
      "1286/1286 [==============================] - 1s 878us/sample - loss: 0.1341 - val_loss: 0.1263\n",
      "Epoch 19/50\n",
      "1286/1286 [==============================] - 1s 742us/sample - loss: 0.1310 - val_loss: 0.1244\n",
      "Epoch 20/50\n",
      "1286/1286 [==============================] - 1s 757us/sample - loss: 0.1296 - val_loss: 0.1224\n",
      "Epoch 21/50\n",
      "1286/1286 [==============================] - 1s 787us/sample - loss: 0.1259 - val_loss: 0.1208\n",
      "Epoch 22/50\n",
      "1286/1286 [==============================] - 1s 722us/sample - loss: 0.1263 - val_loss: 0.1195\n",
      "Epoch 23/50\n",
      "1286/1286 [==============================] - 1s 717us/sample - loss: 0.1220 - val_loss: 0.1181\n",
      "Epoch 24/50\n",
      "1286/1286 [==============================] - 1s 707us/sample - loss: 0.1203 - val_loss: 0.1167\n",
      "Epoch 25/50\n",
      "1286/1286 [==============================] - 1s 690us/sample - loss: 0.1162 - val_loss: 0.1154\n",
      "Epoch 26/50\n",
      "1286/1286 [==============================] - 1s 705us/sample - loss: 0.1147 - val_loss: 0.1142\n",
      "Epoch 27/50\n",
      "1286/1286 [==============================] - 1s 701us/sample - loss: 0.1145 - val_loss: 0.1132\n",
      "Epoch 28/50\n",
      "1286/1286 [==============================] - 1s 686us/sample - loss: 0.1124 - val_loss: 0.1119\n",
      "Epoch 29/50\n",
      "1286/1286 [==============================] - 1s 692us/sample - loss: 0.1117 - val_loss: 0.1108\n",
      "Epoch 30/50\n",
      "1286/1286 [==============================] - 1s 696us/sample - loss: 0.1127 - val_loss: 0.1099\n",
      "Epoch 31/50\n",
      "1286/1286 [==============================] - 1s 679us/sample - loss: 0.1098 - val_loss: 0.1090\n",
      "Epoch 32/50\n",
      "1286/1286 [==============================] - 1s 692us/sample - loss: 0.1113 - val_loss: 0.1078\n",
      "Epoch 33/50\n",
      "1286/1286 [==============================] - 1s 699us/sample - loss: 0.1079 - val_loss: 0.1067\n",
      "Epoch 34/50\n",
      "1286/1286 [==============================] - 1s 660us/sample - loss: 0.1072 - val_loss: 0.1057\n",
      "Epoch 35/50\n",
      "1286/1286 [==============================] - 1s 677us/sample - loss: 0.1049 - val_loss: 0.1053\n",
      "Epoch 36/50\n",
      "1286/1286 [==============================] - 1s 774us/sample - loss: 0.1035 - val_loss: 0.1045\n",
      "Epoch 37/50\n",
      "1286/1286 [==============================] - 1s 664us/sample - loss: 0.1035 - val_loss: 0.1041\n",
      "Epoch 38/50\n",
      "1286/1286 [==============================] - 1s 686us/sample - loss: 0.1046 - val_loss: 0.1039\n",
      "Epoch 39/50\n",
      "1286/1286 [==============================] - 1s 667us/sample - loss: 0.1037 - val_loss: 0.1035\n",
      "Epoch 40/50\n",
      "1286/1286 [==============================] - 1s 668us/sample - loss: 0.1003 - val_loss: 0.1034\n",
      "Epoch 41/50\n",
      "1286/1286 [==============================] - 1s 826us/sample - loss: 0.1041 - val_loss: 0.1033\n",
      "Epoch 42/50\n",
      "1286/1286 [==============================] - 1s 1ms/sample - loss: 0.0999 - val_loss: 0.1031\n",
      "Epoch 43/50\n",
      "1286/1286 [==============================] - 1s 774us/sample - loss: 0.1006 - val_loss: 0.1031\n",
      "Epoch 44/50\n",
      "1286/1286 [==============================] - 1s 685us/sample - loss: 0.0990 - val_loss: 0.1033\n",
      "Epoch 45/50\n",
      "1286/1286 [==============================] - 1s 664us/sample - loss: 0.1006 - val_loss: 0.1034\n",
      "Epoch 46/50\n",
      "1286/1286 [==============================] - 1s 671us/sample - loss: 0.0991 - val_loss: 0.1034\n",
      "Epoch 47/50\n",
      "1286/1286 [==============================] - 1s 699us/sample - loss: 0.1018 - val_loss: 0.1033\n",
      "Epoch 48/50\n",
      "1286/1286 [==============================] - 1s 661us/sample - loss: 0.0984 - val_loss: 0.1035\n",
      "Epoch 49/50\n",
      "1286/1286 [==============================] - 1s 675us/sample - loss: 0.0995 - val_loss: 0.1035\n",
      "Epoch 50/50\n",
      "1286/1286 [==============================] - 1s 681us/sample - loss: 0.0988 - val_loss: 0.1035\n"
     ]
    }
   ],
   "source": [
    "history = Deep_GRU.fit(X_train_aug, y_train_aug, epochs=50,\n",
    "                    validation_data=(X_test, y_test))"
   ]
  },
  {
   "cell_type": "code",
   "execution_count": 38,
   "metadata": {},
   "outputs": [],
   "source": [
    "loss = history.history['loss'][10:]\n",
    "val_loss = history.history['val_loss'][10:]"
   ]
  },
  {
   "cell_type": "code",
   "execution_count": 39,
   "metadata": {},
   "outputs": [
    {
     "data": {
      "text/plain": [
       "[<matplotlib.lines.Line2D at 0x169799a2358>]"
      ]
     },
     "execution_count": 39,
     "metadata": {},
     "output_type": "execute_result"
    },
    {
     "data": {
      "text/plain": [
       "[<matplotlib.lines.Line2D at 0x16979977080>]"
      ]
     },
     "execution_count": 39,
     "metadata": {},
     "output_type": "execute_result"
    },
    {
     "data": {
      "text/plain": [
       "<matplotlib.legend.Legend at 0x169799a2470>"
      ]
     },
     "execution_count": 39,
     "metadata": {},
     "output_type": "execute_result"
    },
    {
     "data": {
      "text/plain": [
       "Text(0.5, 1.0, 'Training and Validation loss')"
      ]
     },
     "execution_count": 39,
     "metadata": {},
     "output_type": "execute_result"
    },
    {
     "data": {
      "image/png": "[encoded data removed]",
      "text/plain": [
       "<Figure size 432x288 with 1 Axes>"
      ]
     },
     "metadata": {
      "needs_background": "light"
     },
     "output_type": "display_data"
    }
   ],
   "source": [
    "epochs = range(1, len(loss)+1)\n",
    "plt.plot(epochs, smooth_curve(loss), 'bo', label='Training loss')\n",
    "plt.plot(epochs, smooth_curve(val_loss), 'r-', label='Validation loss')\n",
    "plt.legend()\n",
    "plt.title('Training and Validation loss')\n",
    "plt.show()"
   ]
  },
  {
   "cell_type": "code",
   "execution_count": 40,
   "metadata": {},
   "outputs": [
    {
     "data": {
      "application/vnd.plotly.v1+json": {
       "config": {
        "linkText": "Export to plot.ly",
        "plotlyServerURL": "https://plot.ly",
        "showLink": false
       },
       "data": [
        {
         "marker": {
          "color": "red",
          "opacity": 0.5,
          "size": 5
         },
         "mode": "lines",
         "name": "Training data",
         "type": "scatter",
         "x": [
          1,
          1,
          1,
          1,
          0.995334370139969,
          0.8685847589424572,
          0.6213063763608087,
          0.5427682737169518,
          0.505443234836703,
          0.49300155520995337,
          0.4416796267496112,
          0.4059097978227061,
          0.3864696734059098,
          0.3545878693623639,
          0.3328149300155521,
          0.29237947122861585,
          0.25505443234836706,
          0.21539657853810265,
          0.19206842923794712,
          0.16174183514774496,
          0.13996889580093314,
          0.12597200622083982,
          0.10730948678071539,
          0.09253499222395023,
          0.08398133748055987,
          0.07465007776049767,
          0.06298600311041991,
          0.052099533437014,
          0.04743390357698289,
          0.04510108864696734,
          0.03965785381026438,
          0.03576982892690513,
          0.029548989113530325,
          0.02255054432348367,
          0.01866251944012442,
          0.017107309486780714,
          0.017107309486780714,
          0.015552099533437015,
          0.013996889580093312,
          0.01088646967340591,
          0.00933125972006221,
          0.007776049766718507,
          0.006220839813374806,
          0.006220839813374806,
          0.004665629860031105,
          0.004665629860031105,
          0.003110419906687403,
          0.003110419906687403,
          0.0015552099533437014,
          0.0007776049766718507,
          0.0007776049766718507,
          0.0007776049766718507,
          0.0007776049766718507,
          0.0007776049766718507,
          0.0007776049766718507,
          0.0007776049766718507,
          0,
          0,
          0,
          0,
          0,
          0,
          0,
          0,
          0,
          0,
          0,
          0,
          0,
          0,
          0,
          0,
          0,
          0,
          0,
          0,
          0,
          0,
          0,
          0,
          0,
          0,
          0,
          0,
          0,
          0,
          0,
          0,
          0,
          0,
          0,
          0,
          0,
          0,
          0,
          0,
          0,
          0,
          0,
          0
         ],
         "y": [
          0,
          0,
          0,
          0,
          0.004665629860031051,
          0.11859472823702999,
          0.24407823902380676,
          0.2841548032061251,
          0.2894285600350919,
          0.29545998325158507,
          0.3275511424811581,
          0.3376799457670375,
          0.3378893009530645,
          0.35695059217609765,
          0.3466722494716274,
          0.34223591338676873,
          0.3282789009849663,
          0.3038341906926666,
          0.28870080153128364,
          0.2741556007496909,
          0.23182597599393867,
          0.23300235275351916,
          0.23243410296287437,
          0.1959265462375882,
          0.17242891892969653,
          0.1689396658292459,
          0.1357319456075288,
          0.11456713322965266,
          0.09359173744865813,
          0.08310403955816086,
          0.0821370179846074,
          0.07961478645771025,
          0.06660485704031584,
          0.06719304542010607,
          0.05826055748295251,
          0.0534055110260398,
          0.0534055110260398,
          0.04855046456912708,
          0.050105674522470785,
          0.03398532519838896,
          0.029130278741476254,
          0.030685488694819955,
          0.03224069864816366,
          0.03224069864816366,
          0.027385652191250942,
          0.027385652191250942,
          0.01612034932408183,
          0.01612034932408183,
          0.011265302867169119,
          0.0056326514335845596,
          0.0056326514335845596,
          0.0056326514335845596,
          0.0056326514335845596,
          0.0056326514335845596,
          0.0056326514335845596,
          0.0056326514335845596,
          0,
          0,
          0,
          0,
          0,
          0,
          0,
          0,
          0,
          0,
          0,
          0,
          0,
          0,
          0,
          0,
          0,
          0,
          0,
          0,
          0,
          0,
          0,
          0,
          0,
          0,
          0,
          0,
          0,
          0,
          0,
          0,
          0,
          0,
          0,
          0,
          0,
          0,
          0,
          0,
          0,
          0,
          0,
          0
         ]
        },
        {
         "marker": {
          "color": "blue",
          "opacity": 0.5,
          "size": 5
         },
         "mode": "lines",
         "name": "Test data",
         "type": "scatter",
         "x": [
          1,
          1,
          1,
          1,
          0.9971014492753624,
          0.8956521739130435,
          0.6463768115942029,
          0.5420289855072464,
          0.48985507246376814,
          0.463768115942029,
          0.40869565217391307,
          0.37681159420289856,
          0.3536231884057971,
          0.3333333333333333,
          0.2927536231884058,
          0.263768115942029,
          0.23478260869565218,
          0.21159420289855072,
          0.1855072463768116,
          0.15072463768115943,
          0.12753623188405797,
          0.10434782608695652,
          0.08695652173913043,
          0.06666666666666667,
          0.0463768115942029,
          0.034782608695652174,
          0.03188405797101449,
          0.02608695652173913,
          0.02318840579710145,
          0.014492753623188406,
          0.011594202898550725,
          0.008695652173913044,
          0.008695652173913044,
          0.008695652173913044,
          0.008695652173913044,
          0.005797101449275362,
          0.005797101449275362,
          0.005797101449275362,
          0.005797101449275362,
          0.002898550724637681,
          0.002898550724637681,
          0.002898550724637681,
          0.002898550724637681,
          0.002898550724637681,
          0.002898550724637681,
          0.002898550724637681,
          0,
          0,
          0,
          0,
          0,
          0,
          0,
          0,
          0,
          0,
          0,
          0,
          0,
          0,
          0,
          0,
          0,
          0,
          0,
          0,
          0,
          0,
          0,
          0,
          0,
          0,
          0,
          0,
          0,
          0,
          0,
          0,
          0,
          0,
          0,
          0,
          0,
          0,
          0,
          0,
          0,
          0,
          0,
          0,
          0,
          0,
          0,
          0,
          0,
          0,
          0,
          0,
          0,
          0
         ],
         "y": [
          0,
          0,
          0,
          0,
          0.0028985507246376274,
          0.05889328063241106,
          0.19453227931488803,
          0.253425559947299,
          0.23741765480895916,
          0.21805006587615278,
          0.22766798418972328,
          0.2595520421607378,
          0.28274044795783926,
          0.30303030303030304,
          0.29815546772068513,
          0.30441370223978925,
          0.28794466403162056,
          0.2884057971014493,
          0.2917654808959157,
          0.28109354413702237,
          0.2588274044795784,
          0.21383399209486165,
          0.18577075098814227,
          0.16060606060606059,
          0.13544137022397892,
          0.07885375494071145,
          0.08175230566534913,
          0.042094861660079044,
          0.04499341238471673,
          0.030961791831357048,
          0.03386034255599473,
          0.014031620553359684,
          0.014031620553359684,
          0.014031620553359684,
          0.014031620553359684,
          -0.005797101449275362,
          -0.005797101449275362,
          -0.005797101449275362,
          -0.005797101449275362,
          -0.002898550724637681,
          -0.002898550724637681,
          -0.002898550724637681,
          -0.002898550724637681,
          -0.002898550724637681,
          -0.002898550724637681,
          -0.002898550724637681,
          0,
          0,
          0,
          0,
          0,
          0,
          0,
          0,
          0,
          0,
          0,
          0,
          0,
          0,
          0,
          0,
          0,
          0,
          0,
          0,
          0,
          0,
          0,
          0,
          0,
          0,
          0,
          0,
          0,
          0,
          0,
          0,
          0,
          0,
          0,
          0,
          0,
          0,
          0,
          0,
          0,
          0,
          0,
          0,
          0,
          0,
          0,
          0,
          0,
          0,
          0,
          0,
          0,
          0
         ]
        }
       ],
       "layout": {
        "legend": {
         "font": {
          "color": "black",
          "family": "sans-serif",
          "size": 12
         },
         "traceorder": "normal",
         "x": 0.8,
         "y": 0
        },
        "template": {
         "data": {
          "bar": [
           {
            "error_x": {
             "color": "#2a3f5f"
            },
            "error_y": {
             "color": "#2a3f5f"
            },
            "marker": {
             "line": {
              "color": "#E5ECF6",
              "width": 0.5
             }
            },
            "type": "bar"
           }
          ],
          "barpolar": [
           {
            "marker": {
             "line": {
              "color": "#E5ECF6",
              "width": 0.5
             }
            },
            "type": "barpolar"
           }
          ],
          "carpet": [
           {
            "aaxis": {
             "endlinecolor": "#2a3f5f",
             "gridcolor": "white",
             "linecolor": "white",
             "minorgridcolor": "white",
             "startlinecolor": "#2a3f5f"
            },
            "baxis": {
             "endlinecolor": "#2a3f5f",
             "gridcolor": "white",
             "linecolor": "white",
             "minorgridcolor": "white",
             "startlinecolor": "#2a3f5f"
            },
            "type": "carpet"
           }
          ],
          "choropleth": [
           {
            "colorbar": {
             "outlinewidth": 0,
             "ticks": ""
            },
            "type": "choropleth"
           }
          ],
          "contour": [
           {
            "colorbar": {
             "outlinewidth": 0,
             "ticks": ""
            },
            "colorscale": [
             [
              0,
              "#0d0887"
             ],
             [
              0.1111111111111111,
              "#46039f"
             ],
             [
              0.2222222222222222,
              "#7201a8"
             ],
             [
              0.3333333333333333,
              "#9c179e"
             ],
             [
              0.4444444444444444,
              "#bd3786"
             ],
             [
              0.5555555555555556,
              "#d8576b"
             ],
             [
              0.6666666666666666,
              "#ed7953"
             ],
             [
              0.7777777777777778,
              "#fb9f3a"
             ],
             [
              0.8888888888888888,
              "#fdca26"
             ],
             [
              1,
              "#f0f921"
             ]
            ],
            "type": "contour"
           }
          ],
          "contourcarpet": [
           {
            "colorbar": {
             "outlinewidth": 0,
             "ticks": ""
            },
            "type": "contourcarpet"
           }
          ],
          "heatmap": [
           {
            "colorbar": {
             "outlinewidth": 0,
             "ticks": ""
            },
            "colorscale": [
             [
              0,
              "#0d0887"
             ],
             [
              0.1111111111111111,
              "#46039f"
             ],
             [
              0.2222222222222222,
              "#7201a8"
             ],
             [
              0.3333333333333333,
              "#9c179e"
             ],
             [
              0.4444444444444444,
              "#bd3786"
             ],
             [
              0.5555555555555556,
              "#d8576b"
             ],
             [
              0.6666666666666666,
              "#ed7953"
             ],
             [
              0.7777777777777778,
              "#fb9f3a"
             ],
             [
              0.8888888888888888,
              "#fdca26"
             ],
             [
              1,
              "#f0f921"
             ]
            ],
            "type": "heatmap"
           }
          ],
          "heatmapgl": [
           {
            "colorbar": {
             "outlinewidth": 0,
             "ticks": ""
            },
            "colorscale": [
             [
              0,
              "#0d0887"
             ],
             [
              0.1111111111111111,
              "#46039f"
             ],
             [
              0.2222222222222222,
              "#7201a8"
             ],
             [
              0.3333333333333333,
              "#9c179e"
             ],
             [
              0.4444444444444444,
              "#bd3786"
             ],
             [
              0.5555555555555556,
              "#d8576b"
             ],
             [
              0.6666666666666666,
              "#ed7953"
             ],
             [
              0.7777777777777778,
              "#fb9f3a"
             ],
             [
              0.8888888888888888,
              "#fdca26"
             ],
             [
              1,
              "#f0f921"
             ]
            ],
            "type": "heatmapgl"
           }
          ],
          "histogram": [
           {
            "marker": {
             "colorbar": {
              "outlinewidth": 0,
              "ticks": ""
             }
            },
            "type": "histogram"
           }
          ],
          "histogram2d": [
           {
            "colorbar": {
             "outlinewidth": 0,
             "ticks": ""
            },
            "colorscale": [
             [
              0,
              "#0d0887"
             ],
             [
              0.1111111111111111,
              "#46039f"
             ],
             [
              0.2222222222222222,
              "#7201a8"
             ],
             [
              0.3333333333333333,
              "#9c179e"
             ],
             [
              0.4444444444444444,
              "#bd3786"
             ],
             [
              0.5555555555555556,
              "#d8576b"
             ],
             [
              0.6666666666666666,
              "#ed7953"
             ],
             [
              0.7777777777777778,
              "#fb9f3a"
             ],
             [
              0.8888888888888888,
              "#fdca26"
             ],
             [
              1,
              "#f0f921"
             ]
            ],
            "type": "histogram2d"
           }
          ],
          "histogram2dcontour": [
           {
            "colorbar": {
             "outlinewidth": 0,
             "ticks": ""
            },
            "colorscale": [
             [
              0,
              "#0d0887"
             ],
             [
              0.1111111111111111,
              "#46039f"
             ],
             [
              0.2222222222222222,
              "#7201a8"
             ],
             [
              0.3333333333333333,
              "#9c179e"
             ],
             [
              0.4444444444444444,
              "#bd3786"
             ],
             [
              0.5555555555555556,
              "#d8576b"
             ],
             [
              0.6666666666666666,
              "#ed7953"
             ],
             [
              0.7777777777777778,
              "#fb9f3a"
             ],
             [
              0.8888888888888888,
              "#fdca26"
             ],
             [
              1,
              "#f0f921"
             ]
            ],
            "type": "histogram2dcontour"
           }
          ],
          "mesh3d": [
           {
            "colorbar": {
             "outlinewidth": 0,
             "ticks": ""
            },
            "type": "mesh3d"
           }
          ],
          "parcoords": [
           {
            "line": {
             "colorbar": {
              "outlinewidth": 0,
              "ticks": ""
             }
            },
            "type": "parcoords"
           }
          ],
          "scatter": [
           {
            "marker": {
             "colorbar": {
              "outlinewidth": 0,
              "ticks": ""
             }
            },
            "type": "scatter"
           }
          ],
          "scatter3d": [
           {
            "line": {
             "colorbar": {
              "outlinewidth": 0,
              "ticks": ""
             }
            },
            "marker": {
             "colorbar": {
              "outlinewidth": 0,
              "ticks": ""
             }
            },
            "type": "scatter3d"
           }
          ],
          "scattercarpet": [
           {
            "marker": {
             "colorbar": {
              "outlinewidth": 0,
              "ticks": ""
             }
            },
            "type": "scattercarpet"
           }
          ],
          "scattergeo": [
           {
            "marker": {
             "colorbar": {
              "outlinewidth": 0,
              "ticks": ""
             }
            },
            "type": "scattergeo"
           }
          ],
          "scattergl": [
           {
            "marker": {
             "colorbar": {
              "outlinewidth": 0,
              "ticks": ""
             }
            },
            "type": "scattergl"
           }
          ],
          "scattermapbox": [
           {
            "marker": {
             "colorbar": {
              "outlinewidth": 0,
              "ticks": ""
             }
            },
            "type": "scattermapbox"
           }
          ],
          "scatterpolar": [
           {
            "marker": {
             "colorbar": {
              "outlinewidth": 0,
              "ticks": ""
             }
            },
            "type": "scatterpolar"
           }
          ],
          "scatterpolargl": [
           {
            "marker": {
             "colorbar": {
              "outlinewidth": 0,
              "ticks": ""
             }
            },
            "type": "scatterpolargl"
           }
          ],
          "scatterternary": [
           {
            "marker": {
             "colorbar": {
              "outlinewidth": 0,
              "ticks": ""
             }
            },
            "type": "scatterternary"
           }
          ],
          "surface": [
           {
            "colorbar": {
             "outlinewidth": 0,
             "ticks": ""
            },
            "colorscale": [
             [
              0,
              "#0d0887"
             ],
             [
              0.1111111111111111,
              "#46039f"
             ],
             [
              0.2222222222222222,
              "#7201a8"
             ],
             [
              0.3333333333333333,
              "#9c179e"
             ],
             [
              0.4444444444444444,
              "#bd3786"
             ],
             [
              0.5555555555555556,
              "#d8576b"
             ],
             [
              0.6666666666666666,
              "#ed7953"
             ],
             [
              0.7777777777777778,
              "#fb9f3a"
             ],
             [
              0.8888888888888888,
              "#fdca26"
             ],
             [
              1,
              "#f0f921"
             ]
            ],
            "type": "surface"
           }
          ],
          "table": [
           {
            "cells": {
             "fill": {
              "color": "#EBF0F8"
             },
             "line": {
              "color": "white"
             }
            },
            "header": {
             "fill": {
              "color": "#C8D4E3"
             },
             "line": {
              "color": "white"
             }
            },
            "type": "table"
           }
          ]
         },
         "layout": {
          "annotationdefaults": {
           "arrowcolor": "#2a3f5f",
           "arrowhead": 0,
           "arrowwidth": 1
          },
          "colorscale": {
           "diverging": [
            [
             0,
             "#8e0152"
            ],
            [
             0.1,
             "#c51b7d"
            ],
            [
             0.2,
             "#de77ae"
            ],
            [
             0.3,
             "#f1b6da"
            ],
            [
             0.4,
             "#fde0ef"
            ],
            [
             0.5,
             "#f7f7f7"
            ],
            [
             0.6,
             "#e6f5d0"
            ],
            [
             0.7,
             "#b8e186"
            ],
            [
             0.8,
             "#7fbc41"
            ],
            [
             0.9,
             "#4d9221"
            ],
            [
             1,
             "#276419"
            ]
           ],
           "sequential": [
            [
             0,
             "#0d0887"
            ],
            [
             0.1111111111111111,
             "#46039f"
            ],
            [
             0.2222222222222222,
             "#7201a8"
            ],
            [
             0.3333333333333333,
             "#9c179e"
            ],
            [
             0.4444444444444444,
             "#bd3786"
            ],
            [
             0.5555555555555556,
             "#d8576b"
            ],
            [
             0.6666666666666666,
             "#ed7953"
            ],
            [
             0.7777777777777778,
             "#fb9f3a"
            ],
            [
             0.8888888888888888,
             "#fdca26"
            ],
            [
             1,
             "#f0f921"
            ]
           ],
           "sequentialminus": [
            [
             0,
             "#0d0887"
            ],
            [
             0.1111111111111111,
             "#46039f"
            ],
            [
             0.2222222222222222,
             "#7201a8"
            ],
            [
             0.3333333333333333,
             "#9c179e"
            ],
            [
             0.4444444444444444,
             "#bd3786"
            ],
            [
             0.5555555555555556,
             "#d8576b"
            ],
            [
             0.6666666666666666,
             "#ed7953"
            ],
            [
             0.7777777777777778,
             "#fb9f3a"
            ],
            [
             0.8888888888888888,
             "#fdca26"
            ],
            [
             1,
             "#f0f921"
            ]
           ]
          },
          "colorway": [
           "#636efa",
           "#EF553B",
           "#00cc96",
           "#ab63fa",
           "#FFA15A",
           "#19d3f3",
           "#FF6692",
           "#B6E880",
           "#FF97FF",
           "#FECB52"
          ],
          "font": {
           "color": "#2a3f5f"
          },
          "geo": {
           "bgcolor": "white",
           "lakecolor": "white",
           "landcolor": "#E5ECF6",
           "showlakes": true,
           "showland": true,
           "subunitcolor": "white"
          },
          "hoverlabel": {
           "align": "left"
          },
          "hovermode": "closest",
          "mapbox": {
           "style": "light"
          },
          "paper_bgcolor": "white",
          "plot_bgcolor": "#E5ECF6",
          "polar": {
           "angularaxis": {
            "gridcolor": "white",
            "linecolor": "white",
            "ticks": ""
           },
           "bgcolor": "#E5ECF6",
           "radialaxis": {
            "gridcolor": "white",
            "linecolor": "white",
            "ticks": ""
           }
          },
          "scene": {
           "xaxis": {
            "backgroundcolor": "#E5ECF6",
            "gridcolor": "white",
            "gridwidth": 2,
            "linecolor": "white",
            "showbackground": true,
            "ticks": "",
            "zerolinecolor": "white"
           },
           "yaxis": {
            "backgroundcolor": "#E5ECF6",
            "gridcolor": "white",
            "gridwidth": 2,
            "linecolor": "white",
            "showbackground": true,
            "ticks": "",
            "zerolinecolor": "white"
           },
           "zaxis": {
            "backgroundcolor": "#E5ECF6",
            "gridcolor": "white",
            "gridwidth": 2,
            "linecolor": "white",
            "showbackground": true,
            "ticks": "",
            "zerolinecolor": "white"
           }
          },
          "shapedefaults": {
           "line": {
            "color": "#2a3f5f"
           }
          },
          "ternary": {
           "aaxis": {
            "gridcolor": "white",
            "linecolor": "white",
            "ticks": ""
           },
           "baxis": {
            "gridcolor": "white",
            "linecolor": "white",
            "ticks": ""
           },
           "bgcolor": "#E5ECF6",
           "caxis": {
            "gridcolor": "white",
            "linecolor": "white",
            "ticks": ""
           }
          },
          "title": {
           "x": 0.05
          },
          "xaxis": {
           "automargin": true,
           "gridcolor": "white",
           "linecolor": "white",
           "ticks": "",
           "zerolinecolor": "white",
           "zerolinewidth": 2
          },
          "yaxis": {
           "automargin": true,
           "gridcolor": "white",
           "linecolor": "white",
           "ticks": "",
           "zerolinecolor": "white",
           "zerolinewidth": 2
          }
         }
        },
        "title": {
         "text": "Recall surplus for comparison"
        },
        "xaxis": {
         "range": [
          0,
          0.4
         ],
         "title": {
          "text": "Positives share"
         }
        },
        "yaxis": {
         "title": {
          "text": "Recall surplus"
         }
        }
       }
      },
      "text/html": [
       "<div>\n",
       "        \n",
       "        \n",
       "            <div id=\"328e2fa0-4828-49a8-9c8c-ee21e2651a55\" class=\"plotly-graph-div\" style=\"height:525px; width:100%;\"></div>\n",
       "            <script type=\"text/javascript\">\n",
       "                require([\"plotly\"], function(Plotly) {\n",
       "                    window.PLOTLYENV=window.PLOTLYENV || {};\n",
       "                    \n",
       "                if (document.getElementById(\"328e2fa0-4828-49a8-9c8c-ee21e2651a55\")) {\n",
       "                    Plotly.newPlot(\n",
       "                        '328e2fa0-4828-49a8-9c8c-ee21e2651a55',\n",
       "                        [{\"marker\": {\"color\": \"red\", \"opacity\": 0.5, \"size\": 5}, \"mode\": \"lines\", \"name\": \"Training data\", \"type\": \"scatter\", \"x\": [1.0, 1.0, 1.0, 1.0, 0.995334370139969, 0.8685847589424572, 0.6213063763608087, 0.5427682737169518, 0.505443234836703, 0.49300155520995337, 0.4416796267496112, 0.4059097978227061, 0.3864696734059098, 0.3545878693623639, 0.3328149300155521, 0.29237947122861585, 0.25505443234836706, 0.21539657853810265, 0.19206842923794712, 0.16174183514774496, 0.13996889580093314, 0.12597200622083982, 0.10730948678071539, 0.09253499222395023, 0.08398133748055987, 0.07465007776049767, 0.06298600311041991, 0.052099533437014, 0.04743390357698289, 0.04510108864696734, 0.03965785381026438, 0.03576982892690513, 0.029548989113530325, 0.02255054432348367, 0.01866251944012442, 0.017107309486780714, 0.017107309486780714, 0.015552099533437015, 0.013996889580093312, 0.01088646967340591, 0.00933125972006221, 0.007776049766718507, 0.006220839813374806, 0.006220839813374806, 0.004665629860031105, 0.004665629860031105, 0.003110419906687403, 0.003110419906687403, 0.0015552099533437014, 0.0007776049766718507, 0.0007776049766718507, 0.0007776049766718507, 0.0007776049766718507, 0.0007776049766718507, 0.0007776049766718507, 0.0007776049766718507, 0.0, 0.0, 0.0, 0.0, 0.0, 0.0, 0.0, 0.0, 0.0, 0.0, 0.0, 0.0, 0.0, 0.0, 0.0, 0.0, 0.0, 0.0, 0.0, 0.0, 0.0, 0.0, 0.0, 0.0, 0.0, 0.0, 0.0, 0.0, 0.0, 0.0, 0.0, 0.0, 0.0, 0.0, 0.0, 0.0, 0.0, 0.0, 0.0, 0.0, 0.0, 0.0, 0.0, 0.0], \"y\": [0.0, 0.0, 0.0, 0.0, 0.004665629860031051, 0.11859472823702999, 0.24407823902380676, 0.2841548032061251, 0.2894285600350919, 0.29545998325158507, 0.3275511424811581, 0.3376799457670375, 0.3378893009530645, 0.35695059217609765, 0.3466722494716274, 0.34223591338676873, 0.3282789009849663, 0.3038341906926666, 0.28870080153128364, 0.2741556007496909, 0.23182597599393867, 0.23300235275351916, 0.23243410296287437, 0.1959265462375882, 0.17242891892969653, 0.1689396658292459, 0.1357319456075288, 0.11456713322965266, 0.09359173744865813, 0.08310403955816086, 0.0821370179846074, 0.07961478645771025, 0.06660485704031584, 0.06719304542010607, 0.05826055748295251, 0.0534055110260398, 0.0534055110260398, 0.04855046456912708, 0.050105674522470785, 0.03398532519838896, 0.029130278741476254, 0.030685488694819955, 0.03224069864816366, 0.03224069864816366, 0.027385652191250942, 0.027385652191250942, 0.01612034932408183, 0.01612034932408183, 0.011265302867169119, 0.0056326514335845596, 0.0056326514335845596, 0.0056326514335845596, 0.0056326514335845596, 0.0056326514335845596, 0.0056326514335845596, 0.0056326514335845596, 0.0, 0.0, 0.0, 0.0, 0.0, 0.0, 0.0, 0.0, 0.0, 0.0, 0.0, 0.0, 0.0, 0.0, 0.0, 0.0, 0.0, 0.0, 0.0, 0.0, 0.0, 0.0, 0.0, 0.0, 0.0, 0.0, 0.0, 0.0, 0.0, 0.0, 0.0, 0.0, 0.0, 0.0, 0.0, 0.0, 0.0, 0.0, 0.0, 0.0, 0.0, 0.0, 0.0, 0.0]}, {\"marker\": {\"color\": \"blue\", \"opacity\": 0.5, \"size\": 5}, \"mode\": \"lines\", \"name\": \"Test data\", \"type\": \"scatter\", \"x\": [1.0, 1.0, 1.0, 1.0, 0.9971014492753624, 0.8956521739130435, 0.6463768115942029, 0.5420289855072464, 0.48985507246376814, 0.463768115942029, 0.40869565217391307, 0.37681159420289856, 0.3536231884057971, 0.3333333333333333, 0.2927536231884058, 0.263768115942029, 0.23478260869565218, 0.21159420289855072, 0.1855072463768116, 0.15072463768115943, 0.12753623188405797, 0.10434782608695652, 0.08695652173913043, 0.06666666666666667, 0.0463768115942029, 0.034782608695652174, 0.03188405797101449, 0.02608695652173913, 0.02318840579710145, 0.014492753623188406, 0.011594202898550725, 0.008695652173913044, 0.008695652173913044, 0.008695652173913044, 0.008695652173913044, 0.005797101449275362, 0.005797101449275362, 0.005797101449275362, 0.005797101449275362, 0.002898550724637681, 0.002898550724637681, 0.002898550724637681, 0.002898550724637681, 0.002898550724637681, 0.002898550724637681, 0.002898550724637681, 0.0, 0.0, 0.0, 0.0, 0.0, 0.0, 0.0, 0.0, 0.0, 0.0, 0.0, 0.0, 0.0, 0.0, 0.0, 0.0, 0.0, 0.0, 0.0, 0.0, 0.0, 0.0, 0.0, 0.0, 0.0, 0.0, 0.0, 0.0, 0.0, 0.0, 0.0, 0.0, 0.0, 0.0, 0.0, 0.0, 0.0, 0.0, 0.0, 0.0, 0.0, 0.0, 0.0, 0.0, 0.0, 0.0, 0.0, 0.0, 0.0, 0.0, 0.0, 0.0, 0.0, 0.0], \"y\": [0.0, 0.0, 0.0, 0.0, 0.0028985507246376274, 0.05889328063241106, 0.19453227931488803, 0.253425559947299, 0.23741765480895916, 0.21805006587615278, 0.22766798418972328, 0.2595520421607378, 0.28274044795783926, 0.30303030303030304, 0.29815546772068513, 0.30441370223978925, 0.28794466403162056, 0.2884057971014493, 0.2917654808959157, 0.28109354413702237, 0.2588274044795784, 0.21383399209486165, 0.18577075098814227, 0.16060606060606059, 0.13544137022397892, 0.07885375494071145, 0.08175230566534913, 0.042094861660079044, 0.04499341238471673, 0.030961791831357048, 0.03386034255599473, 0.014031620553359684, 0.014031620553359684, 0.014031620553359684, 0.014031620553359684, -0.005797101449275362, -0.005797101449275362, -0.005797101449275362, -0.005797101449275362, -0.002898550724637681, -0.002898550724637681, -0.002898550724637681, -0.002898550724637681, -0.002898550724637681, -0.002898550724637681, -0.002898550724637681, 0.0, 0.0, 0.0, 0.0, 0.0, 0.0, 0.0, 0.0, 0.0, 0.0, 0.0, 0.0, 0.0, 0.0, 0.0, 0.0, 0.0, 0.0, 0.0, 0.0, 0.0, 0.0, 0.0, 0.0, 0.0, 0.0, 0.0, 0.0, 0.0, 0.0, 0.0, 0.0, 0.0, 0.0, 0.0, 0.0, 0.0, 0.0, 0.0, 0.0, 0.0, 0.0, 0.0, 0.0, 0.0, 0.0, 0.0, 0.0, 0.0, 0.0, 0.0, 0.0, 0.0, 0.0]}],\n",
       "                        {\"legend\": {\"font\": {\"color\": \"black\", \"family\": \"sans-serif\", \"size\": 12}, \"traceorder\": \"normal\", \"x\": 0.8, \"y\": 0}, \"template\": {\"data\": {\"bar\": [{\"error_x\": {\"color\": \"#2a3f5f\"}, \"error_y\": {\"color\": \"#2a3f5f\"}, \"marker\": {\"line\": {\"color\": \"#E5ECF6\", \"width\": 0.5}}, \"type\": \"bar\"}], \"barpolar\": [{\"marker\": {\"line\": {\"color\": \"#E5ECF6\", \"width\": 0.5}}, \"type\": \"barpolar\"}], \"carpet\": [{\"aaxis\": {\"endlinecolor\": \"#2a3f5f\", \"gridcolor\": \"white\", \"linecolor\": \"white\", \"minorgridcolor\": \"white\", \"startlinecolor\": \"#2a3f5f\"}, \"baxis\": {\"endlinecolor\": \"#2a3f5f\", \"gridcolor\": \"white\", \"linecolor\": \"white\", \"minorgridcolor\": \"white\", \"startlinecolor\": \"#2a3f5f\"}, \"type\": \"carpet\"}], \"choropleth\": [{\"colorbar\": {\"outlinewidth\": 0, \"ticks\": \"\"}, \"type\": \"choropleth\"}], \"contour\": [{\"colorbar\": {\"outlinewidth\": 0, \"ticks\": \"\"}, \"colorscale\": [[0.0, \"#0d0887\"], [0.1111111111111111, \"#46039f\"], [0.2222222222222222, \"#7201a8\"], [0.3333333333333333, \"#9c179e\"], [0.4444444444444444, \"#bd3786\"], [0.5555555555555556, \"#d8576b\"], [0.6666666666666666, \"#ed7953\"], [0.7777777777777778, \"#fb9f3a\"], [0.8888888888888888, \"#fdca26\"], [1.0, \"#f0f921\"]], \"type\": \"contour\"}], \"contourcarpet\": [{\"colorbar\": {\"outlinewidth\": 0, \"ticks\": \"\"}, \"type\": \"contourcarpet\"}], \"heatmap\": [{\"colorbar\": {\"outlinewidth\": 0, \"ticks\": \"\"}, \"colorscale\": [[0.0, \"#0d0887\"], [0.1111111111111111, \"#46039f\"], [0.2222222222222222, \"#7201a8\"], [0.3333333333333333, \"#9c179e\"], [0.4444444444444444, \"#bd3786\"], [0.5555555555555556, \"#d8576b\"], [0.6666666666666666, \"#ed7953\"], [0.7777777777777778, \"#fb9f3a\"], [0.8888888888888888, \"#fdca26\"], [1.0, \"#f0f921\"]], \"type\": \"heatmap\"}], \"heatmapgl\": [{\"colorbar\": {\"outlinewidth\": 0, \"ticks\": \"\"}, \"colorscale\": [[0.0, \"#0d0887\"], [0.1111111111111111, \"#46039f\"], [0.2222222222222222, \"#7201a8\"], [0.3333333333333333, \"#9c179e\"], [0.4444444444444444, \"#bd3786\"], [0.5555555555555556, \"#d8576b\"], [0.6666666666666666, \"#ed7953\"], [0.7777777777777778, \"#fb9f3a\"], [0.8888888888888888, \"#fdca26\"], [1.0, \"#f0f921\"]], \"type\": \"heatmapgl\"}], \"histogram\": [{\"marker\": {\"colorbar\": {\"outlinewidth\": 0, \"ticks\": \"\"}}, \"type\": \"histogram\"}], \"histogram2d\": [{\"colorbar\": {\"outlinewidth\": 0, \"ticks\": \"\"}, \"colorscale\": [[0.0, \"#0d0887\"], [0.1111111111111111, \"#46039f\"], [0.2222222222222222, \"#7201a8\"], [0.3333333333333333, \"#9c179e\"], [0.4444444444444444, \"#bd3786\"], [0.5555555555555556, \"#d8576b\"], [0.6666666666666666, \"#ed7953\"], [0.7777777777777778, \"#fb9f3a\"], [0.8888888888888888, \"#fdca26\"], [1.0, \"#f0f921\"]], \"type\": \"histogram2d\"}], \"histogram2dcontour\": [{\"colorbar\": {\"outlinewidth\": 0, \"ticks\": \"\"}, \"colorscale\": [[0.0, \"#0d0887\"], [0.1111111111111111, \"#46039f\"], [0.2222222222222222, \"#7201a8\"], [0.3333333333333333, \"#9c179e\"], [0.4444444444444444, \"#bd3786\"], [0.5555555555555556, \"#d8576b\"], [0.6666666666666666, \"#ed7953\"], [0.7777777777777778, \"#fb9f3a\"], [0.8888888888888888, \"#fdca26\"], [1.0, \"#f0f921\"]], \"type\": \"histogram2dcontour\"}], \"mesh3d\": [{\"colorbar\": {\"outlinewidth\": 0, \"ticks\": \"\"}, \"type\": \"mesh3d\"}], \"parcoords\": [{\"line\": {\"colorbar\": {\"outlinewidth\": 0, \"ticks\": \"\"}}, \"type\": \"parcoords\"}], \"scatter\": [{\"marker\": {\"colorbar\": {\"outlinewidth\": 0, \"ticks\": \"\"}}, \"type\": \"scatter\"}], \"scatter3d\": [{\"line\": {\"colorbar\": {\"outlinewidth\": 0, \"ticks\": \"\"}}, \"marker\": {\"colorbar\": {\"outlinewidth\": 0, \"ticks\": \"\"}}, \"type\": \"scatter3d\"}], \"scattercarpet\": [{\"marker\": {\"colorbar\": {\"outlinewidth\": 0, \"ticks\": \"\"}}, \"type\": \"scattercarpet\"}], \"scattergeo\": [{\"marker\": {\"colorbar\": {\"outlinewidth\": 0, \"ticks\": \"\"}}, \"type\": \"scattergeo\"}], \"scattergl\": [{\"marker\": {\"colorbar\": {\"outlinewidth\": 0, \"ticks\": \"\"}}, \"type\": \"scattergl\"}], \"scattermapbox\": [{\"marker\": {\"colorbar\": {\"outlinewidth\": 0, \"ticks\": \"\"}}, \"type\": \"scattermapbox\"}], \"scatterpolar\": [{\"marker\": {\"colorbar\": {\"outlinewidth\": 0, \"ticks\": \"\"}}, \"type\": \"scatterpolar\"}], \"scatterpolargl\": [{\"marker\": {\"colorbar\": {\"outlinewidth\": 0, \"ticks\": \"\"}}, \"type\": \"scatterpolargl\"}], \"scatterternary\": [{\"marker\": {\"colorbar\": {\"outlinewidth\": 0, \"ticks\": \"\"}}, \"type\": \"scatterternary\"}], \"surface\": [{\"colorbar\": {\"outlinewidth\": 0, \"ticks\": \"\"}, \"colorscale\": [[0.0, \"#0d0887\"], [0.1111111111111111, \"#46039f\"], [0.2222222222222222, \"#7201a8\"], [0.3333333333333333, \"#9c179e\"], [0.4444444444444444, \"#bd3786\"], [0.5555555555555556, \"#d8576b\"], [0.6666666666666666, \"#ed7953\"], [0.7777777777777778, \"#fb9f3a\"], [0.8888888888888888, \"#fdca26\"], [1.0, \"#f0f921\"]], \"type\": \"surface\"}], \"table\": [{\"cells\": {\"fill\": {\"color\": \"#EBF0F8\"}, \"line\": {\"color\": \"white\"}}, \"header\": {\"fill\": {\"color\": \"#C8D4E3\"}, \"line\": {\"color\": \"white\"}}, \"type\": \"table\"}]}, \"layout\": {\"annotationdefaults\": {\"arrowcolor\": \"#2a3f5f\", \"arrowhead\": 0, \"arrowwidth\": 1}, \"colorscale\": {\"diverging\": [[0, \"#8e0152\"], [0.1, \"#c51b7d\"], [0.2, \"#de77ae\"], [0.3, \"#f1b6da\"], [0.4, \"#fde0ef\"], [0.5, \"#f7f7f7\"], [0.6, \"#e6f5d0\"], [0.7, \"#b8e186\"], [0.8, \"#7fbc41\"], [0.9, \"#4d9221\"], [1, \"#276419\"]], \"sequential\": [[0.0, \"#0d0887\"], [0.1111111111111111, \"#46039f\"], [0.2222222222222222, \"#7201a8\"], [0.3333333333333333, \"#9c179e\"], [0.4444444444444444, \"#bd3786\"], [0.5555555555555556, \"#d8576b\"], [0.6666666666666666, \"#ed7953\"], [0.7777777777777778, \"#fb9f3a\"], [0.8888888888888888, \"#fdca26\"], [1.0, \"#f0f921\"]], \"sequentialminus\": [[0.0, \"#0d0887\"], [0.1111111111111111, \"#46039f\"], [0.2222222222222222, \"#7201a8\"], [0.3333333333333333, \"#9c179e\"], [0.4444444444444444, \"#bd3786\"], [0.5555555555555556, \"#d8576b\"], [0.6666666666666666, \"#ed7953\"], [0.7777777777777778, \"#fb9f3a\"], [0.8888888888888888, \"#fdca26\"], [1.0, \"#f0f921\"]]}, \"colorway\": [\"#636efa\", \"#EF553B\", \"#00cc96\", \"#ab63fa\", \"#FFA15A\", \"#19d3f3\", \"#FF6692\", \"#B6E880\", \"#FF97FF\", \"#FECB52\"], \"font\": {\"color\": \"#2a3f5f\"}, \"geo\": {\"bgcolor\": \"white\", \"lakecolor\": \"white\", \"landcolor\": \"#E5ECF6\", \"showlakes\": true, \"showland\": true, \"subunitcolor\": \"white\"}, \"hoverlabel\": {\"align\": \"left\"}, \"hovermode\": \"closest\", \"mapbox\": {\"style\": \"light\"}, \"paper_bgcolor\": \"white\", \"plot_bgcolor\": \"#E5ECF6\", \"polar\": {\"angularaxis\": {\"gridcolor\": \"white\", \"linecolor\": \"white\", \"ticks\": \"\"}, \"bgcolor\": \"#E5ECF6\", \"radialaxis\": {\"gridcolor\": \"white\", \"linecolor\": \"white\", \"ticks\": \"\"}}, \"scene\": {\"xaxis\": {\"backgroundcolor\": \"#E5ECF6\", \"gridcolor\": \"white\", \"gridwidth\": 2, \"linecolor\": \"white\", \"showbackground\": true, \"ticks\": \"\", \"zerolinecolor\": \"white\"}, \"yaxis\": {\"backgroundcolor\": \"#E5ECF6\", \"gridcolor\": \"white\", \"gridwidth\": 2, \"linecolor\": \"white\", \"showbackground\": true, \"ticks\": \"\", \"zerolinecolor\": \"white\"}, \"zaxis\": {\"backgroundcolor\": \"#E5ECF6\", \"gridcolor\": \"white\", \"gridwidth\": 2, \"linecolor\": \"white\", \"showbackground\": true, \"ticks\": \"\", \"zerolinecolor\": \"white\"}}, \"shapedefaults\": {\"line\": {\"color\": \"#2a3f5f\"}}, \"ternary\": {\"aaxis\": {\"gridcolor\": \"white\", \"linecolor\": \"white\", \"ticks\": \"\"}, \"baxis\": {\"gridcolor\": \"white\", \"linecolor\": \"white\", \"ticks\": \"\"}, \"bgcolor\": \"#E5ECF6\", \"caxis\": {\"gridcolor\": \"white\", \"linecolor\": \"white\", \"ticks\": \"\"}}, \"title\": {\"x\": 0.05}, \"xaxis\": {\"automargin\": true, \"gridcolor\": \"white\", \"linecolor\": \"white\", \"ticks\": \"\", \"zerolinecolor\": \"white\", \"zerolinewidth\": 2}, \"yaxis\": {\"automargin\": true, \"gridcolor\": \"white\", \"linecolor\": \"white\", \"ticks\": \"\", \"zerolinecolor\": \"white\", \"zerolinewidth\": 2}}}, \"title\": {\"text\": \"Recall surplus for comparison\"}, \"xaxis\": {\"range\": [0, 0.4], \"title\": {\"text\": \"Positives share\"}}, \"yaxis\": {\"title\": {\"text\": \"Recall surplus\"}}},\n",
       "                        {\"responsive\": true}\n",
       "                    ).then(function(){\n",
       "                            \n",
       "var gd = document.getElementById('328e2fa0-4828-49a8-9c8c-ee21e2651a55');\n",
       "var x = new MutationObserver(function (mutations, observer) {{\n",
       "        var display = window.getComputedStyle(gd).display;\n",
       "        if (!display || display === 'none') {{\n",
       "            console.log([gd, 'removed!']);\n",
       "            Plotly.purge(gd);\n",
       "            observer.disconnect();\n",
       "        }}\n",
       "}});\n",
       "\n",
       "// Listen for the removal of the full notebook cells\n",
       "var notebookContainer = gd.closest('#notebook-container');\n",
       "if (notebookContainer) {{\n",
       "    x.observe(notebookContainer, {childList: true});\n",
       "}}\n",
       "\n",
       "// Listen for the clearing of the current output cell\n",
       "var outputEl = gd.closest('.output');\n",
       "if (outputEl) {{\n",
       "    x.observe(outputEl, {childList: true});\n",
       "}}\n",
       "\n",
       "                        })\n",
       "                };\n",
       "                });\n",
       "            </script>\n",
       "        </div>"
      ]
     },
     "metadata": {},
     "output_type": "display_data"
    }
   ],
   "source": [
    "gru_pred_train,gru_pred_test,gru_pr_train,gru_pr_test= model_comparison_outputs_DNN(X_train,y_train, X_test, y_test, Deep_GRU)\n",
    "\n",
    "plot_recall_surplus_train_test(gru_pr_train,gru_pr_test)"
   ]
  },
  {
   "cell_type": "markdown",
   "metadata": {},
   "source": [
    "## Deep RNN with LSTM"
   ]
  },
  {
   "cell_type": "code",
   "execution_count": 41,
   "metadata": {},
   "outputs": [],
   "source": [
    "tf.keras.backend.clear_session()\n",
    "tf.random.set_seed(51)\n",
    "\n",
    "Deep_LSTM = keras.models.Sequential([\n",
    "    keras.layers.LSTM(input_shape=[input_dim[0],input_dim[1]],units=40,activation=\"relu\",return_sequences=True),\n",
    "    keras.layers.BatchNormalization(),\n",
    "    keras.layers.Dropout(0.3),\n",
    "    keras.layers.SimpleRNN(20),\n",
    "    keras.layers.Dense(units=10, activation='relu'),\n",
    "    keras.layers.Dense(units=1, activation=\"sigmoid\")\n",
    "])"
   ]
  },
  {
   "cell_type": "code",
   "execution_count": 42,
   "metadata": {},
   "outputs": [
    {
     "name": "stdout",
     "output_type": "stream",
     "text": [
      "Model: \"sequential\"\n",
      "_________________________________________________________________\n",
      "Layer (type)                 Output Shape              Param #   \n",
      "=================================================================\n",
      "lstm (LSTM)                  (None, 9, 40)             6880      \n",
      "_________________________________________________________________\n",
      "batch_normalization (BatchNo (None, 9, 40)             160       \n",
      "_________________________________________________________________\n",
      "dropout (Dropout)            (None, 9, 40)             0         \n",
      "_________________________________________________________________\n",
      "simple_rnn (SimpleRNN)       (None, 20)                1220      \n",
      "_________________________________________________________________\n",
      "dense (Dense)                (None, 10)                210       \n",
      "_________________________________________________________________\n",
      "dense_1 (Dense)              (None, 1)                 11        \n",
      "=================================================================\n",
      "Total params: 8,481\n",
      "Trainable params: 8,401\n",
      "Non-trainable params: 80\n",
      "_________________________________________________________________\n"
     ]
    }
   ],
   "source": [
    "Deep_LSTM.summary()"
   ]
  },
  {
   "cell_type": "code",
   "execution_count": 43,
   "metadata": {},
   "outputs": [],
   "source": [
    "optimizer = keras.optimizers.Adam(lr=0.0001)\n",
    "Deep_LSTM.compile(loss=\"mse\", optimizer=optimizer)"
   ]
  },
  {
   "cell_type": "code",
   "execution_count": 44,
   "metadata": {},
   "outputs": [
    {
     "name": "stdout",
     "output_type": "stream",
     "text": [
      "Train on 1286 samples, validate on 345 samples\n",
      "Epoch 1/100\n",
      "1286/1286 [==============================] - 3s 3ms/sample - loss: 0.2782 - val_loss: 0.2555\n",
      "Epoch 2/100\n",
      "1286/1286 [==============================] - 1s 909us/sample - loss: 0.2500 - val_loss: 0.2464\n",
      "Epoch 3/100\n",
      "1286/1286 [==============================] - 1s 938us/sample - loss: 0.2254 - val_loss: 0.2362\n",
      "Epoch 4/100\n",
      "1286/1286 [==============================] - 1s 828us/sample - loss: 0.2051 - val_loss: 0.2242\n",
      "Epoch 5/100\n",
      "1286/1286 [==============================] - 1s 848us/sample - loss: 0.1884 - val_loss: 0.2106\n",
      "Epoch 6/100\n",
      "1286/1286 [==============================] - 1s 723us/sample - loss: 0.1763 - val_loss: 0.1964\n",
      "Epoch 7/100\n",
      "1286/1286 [==============================] - 1s 684us/sample - loss: 0.1606 - val_loss: 0.1813\n",
      "Epoch 8/100\n",
      "1286/1286 [==============================] - 1s 790us/sample - loss: 0.1508 - val_loss: 0.1673\n",
      "Epoch 9/100\n",
      "1286/1286 [==============================] - 1s 797us/sample - loss: 0.1393 - val_loss: 0.1524\n",
      "Epoch 10/100\n",
      "1286/1286 [==============================] - 1s 725us/sample - loss: 0.1319 - val_loss: 0.1375\n",
      "Epoch 11/100\n",
      "1286/1286 [==============================] - 1s 729us/sample - loss: 0.1244 - val_loss: 0.1252\n",
      "Epoch 12/100\n",
      "1286/1286 [==============================] - 1s 751us/sample - loss: 0.1156 - val_loss: 0.1161\n",
      "Epoch 13/100\n",
      "1286/1286 [==============================] - 1s 708us/sample - loss: 0.1141 - val_loss: 0.1111\n",
      "Epoch 14/100\n",
      "1286/1286 [==============================] - 1s 689us/sample - loss: 0.1122 - val_loss: 0.1083\n",
      "Epoch 15/100\n",
      "1286/1286 [==============================] - 1s 720us/sample - loss: 0.1059 - val_loss: 0.1072\n",
      "Epoch 16/100\n",
      "1286/1286 [==============================] - 1s 789us/sample - loss: 0.1071 - val_loss: 0.1065\n",
      "Epoch 17/100\n",
      "1286/1286 [==============================] - 1s 776us/sample - loss: 0.1021 - val_loss: 0.1063\n",
      "Epoch 18/100\n",
      "1286/1286 [==============================] - 1s 885us/sample - loss: 0.1037 - val_loss: 0.1061\n",
      "Epoch 19/100\n",
      "1286/1286 [==============================] - 1s 752us/sample - loss: 0.1014 - val_loss: 0.1059\n",
      "Epoch 20/100\n",
      "1286/1286 [==============================] - 1s 777us/sample - loss: 0.1010 - val_loss: 0.1059\n",
      "Epoch 21/100\n",
      "1286/1286 [==============================] - 1s 734us/sample - loss: 0.1034 - val_loss: 0.1058\n",
      "Epoch 22/100\n",
      "1286/1286 [==============================] - 1s 858us/sample - loss: 0.1031 - val_loss: 0.1059\n",
      "Epoch 23/100\n",
      "1286/1286 [==============================] - 1s 767us/sample - loss: 0.1034 - val_loss: 0.1059\n",
      "Epoch 24/100\n",
      "1286/1286 [==============================] - 1s 737us/sample - loss: 0.1004 - val_loss: 0.1058\n",
      "Epoch 25/100\n",
      "1286/1286 [==============================] - 1s 794us/sample - loss: 0.1005 - val_loss: 0.1058\n",
      "Epoch 26/100\n",
      "1286/1286 [==============================] - 1s 974us/sample - loss: 0.1006 - val_loss: 0.1057\n",
      "Epoch 27/100\n",
      "1286/1286 [==============================] - 1s 887us/sample - loss: 0.1004 - val_loss: 0.1056\n",
      "Epoch 28/100\n",
      "1286/1286 [==============================] - 1s 772us/sample - loss: 0.0985 - val_loss: 0.1057\n",
      "Epoch 29/100\n",
      "1286/1286 [==============================] - 1s 743us/sample - loss: 0.0982 - val_loss: 0.1056\n",
      "Epoch 30/100\n",
      "1286/1286 [==============================] - 1s 732us/sample - loss: 0.0989 - val_loss: 0.1056\n",
      "Epoch 31/100\n",
      "1286/1286 [==============================] - 1s 847us/sample - loss: 0.0996 - val_loss: 0.1055\n",
      "Epoch 32/100\n",
      "1286/1286 [==============================] - 1s 903us/sample - loss: 0.0989 - val_loss: 0.1056\n",
      "Epoch 33/100\n",
      "1286/1286 [==============================] - 1s 821us/sample - loss: 0.0997 - val_loss: 0.1056\n",
      "Epoch 34/100\n",
      "1286/1286 [==============================] - 1s 851us/sample - loss: 0.0985 - val_loss: 0.1057\n",
      "Epoch 35/100\n",
      "1286/1286 [==============================] - 1s 756us/sample - loss: 0.0990 - val_loss: 0.1057\n",
      "Epoch 36/100\n",
      "1286/1286 [==============================] - 1s 800us/sample - loss: 0.0989 - val_loss: 0.1056\n",
      "Epoch 37/100\n",
      "1286/1286 [==============================] - 1s 742us/sample - loss: 0.0989 - val_loss: 0.1053\n",
      "Epoch 38/100\n",
      "1286/1286 [==============================] - 1s 747us/sample - loss: 0.0991 - val_loss: 0.1053\n",
      "Epoch 39/100\n",
      "1286/1286 [==============================] - 1s 757us/sample - loss: 0.1000 - val_loss: 0.1054\n",
      "Epoch 40/100\n",
      "1286/1286 [==============================] - 1s 755us/sample - loss: 0.0980 - val_loss: 0.1052\n",
      "Epoch 41/100\n",
      "1286/1286 [==============================] - 1s 755us/sample - loss: 0.0978 - val_loss: 0.1050\n",
      "Epoch 42/100\n",
      "1286/1286 [==============================] - 1s 809us/sample - loss: 0.0974 - val_loss: 0.1048\n",
      "Epoch 43/100\n",
      "1286/1286 [==============================] - 1s 741us/sample - loss: 0.0979 - val_loss: 0.1049\n",
      "Epoch 44/100\n",
      "1286/1286 [==============================] - 1s 800us/sample - loss: 0.0963 - val_loss: 0.1048\n",
      "Epoch 45/100\n",
      "1286/1286 [==============================] - 1s 843us/sample - loss: 0.0965 - val_loss: 0.1046\n",
      "Epoch 46/100\n",
      "1286/1286 [==============================] - 1s 800us/sample - loss: 0.0964 - val_loss: 0.1044\n",
      "Epoch 47/100\n",
      "1286/1286 [==============================] - 1s 932us/sample - loss: 0.0989 - val_loss: 0.1047\n",
      "Epoch 48/100\n",
      "1286/1286 [==============================] - 1s 810us/sample - loss: 0.0974 - val_loss: 0.1048\n",
      "Epoch 49/100\n",
      "1286/1286 [==============================] - 1s 919us/sample - loss: 0.0965 - val_loss: 0.1047\n",
      "Epoch 50/100\n",
      "1286/1286 [==============================] - 1s 890us/sample - loss: 0.0969 - val_loss: 0.1048\n",
      "Epoch 51/100\n",
      "1286/1286 [==============================] - 1s 811us/sample - loss: 0.1008 - val_loss: 0.1050\n",
      "Epoch 52/100\n",
      "1286/1286 [==============================] - 1s 747us/sample - loss: 0.0978 - val_loss: 0.1048\n",
      "Epoch 53/100\n",
      "1286/1286 [==============================] - 1s 729us/sample - loss: 0.0969 - val_loss: 0.1045\n",
      "Epoch 54/100\n",
      "1286/1286 [==============================] - 1s 734us/sample - loss: 0.0989 - val_loss: 0.1046\n",
      "Epoch 55/100\n",
      "1286/1286 [==============================] - 1s 715us/sample - loss: 0.0966 - val_loss: 0.1044\n",
      "Epoch 56/100\n",
      "1286/1286 [==============================] - 1s 731us/sample - loss: 0.0990 - val_loss: 0.1043\n",
      "Epoch 57/100\n",
      "1286/1286 [==============================] - 1s 740us/sample - loss: 0.0975 - val_loss: 0.1041\n",
      "Epoch 58/100\n",
      "1286/1286 [==============================] - 1s 844us/sample - loss: 0.0965 - val_loss: 0.1042\n",
      "Epoch 59/100\n",
      "1286/1286 [==============================] - 1s 774us/sample - loss: 0.0951 - val_loss: 0.1042\n",
      "Epoch 60/100\n",
      "1286/1286 [==============================] - 1s 851us/sample - loss: 0.0948 - val_loss: 0.1040\n",
      "Epoch 61/100\n",
      "1286/1286 [==============================] - 1s 969us/sample - loss: 0.0973 - val_loss: 0.1041\n",
      "Epoch 62/100\n",
      "1286/1286 [==============================] - 1s 1ms/sample - loss: 0.0967 - val_loss: 0.1043\n",
      "Epoch 63/100\n",
      "1286/1286 [==============================] - 1s 1ms/sample - loss: 0.0953 - val_loss: 0.1040\n",
      "Epoch 64/100\n",
      "1286/1286 [==============================] - 1s 1ms/sample - loss: 0.0956 - val_loss: 0.1039\n",
      "Epoch 65/100\n",
      "1286/1286 [==============================] - 1s 943us/sample - loss: 0.0962 - val_loss: 0.1039\n",
      "Epoch 66/100\n",
      "1286/1286 [==============================] - 1s 995us/sample - loss: 0.0973 - val_loss: 0.1040\n",
      "Epoch 67/100\n",
      "1286/1286 [==============================] - 1s 894us/sample - loss: 0.0971 - val_loss: 0.1038\n",
      "Epoch 68/100\n",
      "1286/1286 [==============================] - 2s 1ms/sample - loss: 0.0958 - val_loss: 0.1039\n",
      "Epoch 69/100\n",
      "1286/1286 [==============================] - 2s 1ms/sample - loss: 0.0965 - val_loss: 0.1036\n",
      "Epoch 70/100\n",
      "1286/1286 [==============================] - 1s 1ms/sample - loss: 0.0970 - val_loss: 0.1036\n",
      "Epoch 71/100\n",
      "1286/1286 [==============================] - 2s 1ms/sample - loss: 0.0955 - val_loss: 0.1036\n",
      "Epoch 72/100\n",
      "1286/1286 [==============================] - 2s 1ms/sample - loss: 0.0955 - val_loss: 0.1034\n",
      "Epoch 73/100\n",
      "1286/1286 [==============================] - 1s 1ms/sample - loss: 0.0943 - val_loss: 0.1034\n",
      "Epoch 74/100\n",
      "1286/1286 [==============================] - 1s 726us/sample - loss: 0.0964 - val_loss: 0.1037\n",
      "Epoch 75/100\n",
      "1286/1286 [==============================] - 1s 738us/sample - loss: 0.0963 - val_loss: 0.1035\n",
      "Epoch 76/100\n"
     ]
    },
    {
     "name": "stdout",
     "output_type": "stream",
     "text": [
      "1286/1286 [==============================] - 1s 812us/sample - loss: 0.0957 - val_loss: 0.1036\n",
      "Epoch 77/100\n",
      "1286/1286 [==============================] - 1s 703us/sample - loss: 0.0960 - val_loss: 0.1035\n",
      "Epoch 78/100\n",
      "1286/1286 [==============================] - 1s 746us/sample - loss: 0.0953 - val_loss: 0.1038\n",
      "Epoch 79/100\n",
      "1286/1286 [==============================] - 1s 723us/sample - loss: 0.0952 - val_loss: 0.1037\n",
      "Epoch 80/100\n",
      "1286/1286 [==============================] - 1s 720us/sample - loss: 0.0953 - val_loss: 0.1036\n",
      "Epoch 81/100\n",
      "1286/1286 [==============================] - 1s 688us/sample - loss: 0.0962 - val_loss: 0.1035\n",
      "Epoch 82/100\n",
      "1286/1286 [==============================] - 1s 697us/sample - loss: 0.0962 - val_loss: 0.1034\n",
      "Epoch 83/100\n",
      "1286/1286 [==============================] - 1s 675us/sample - loss: 0.0947 - val_loss: 0.1032\n",
      "Epoch 84/100\n",
      "1286/1286 [==============================] - 1s 716us/sample - loss: 0.0954 - val_loss: 0.1036\n",
      "Epoch 85/100\n",
      "1286/1286 [==============================] - 1s 704us/sample - loss: 0.0948 - val_loss: 0.1035\n",
      "Epoch 86/100\n",
      "1286/1286 [==============================] - 1s 683us/sample - loss: 0.0974 - val_loss: 0.1036\n",
      "Epoch 87/100\n",
      "1286/1286 [==============================] - 1s 718us/sample - loss: 0.0957 - val_loss: 0.1036\n",
      "Epoch 88/100\n",
      "1286/1286 [==============================] - 1s 690us/sample - loss: 0.0940 - val_loss: 0.1037\n",
      "Epoch 89/100\n",
      "1286/1286 [==============================] - 1s 671us/sample - loss: 0.0961 - val_loss: 0.1037\n",
      "Epoch 90/100\n",
      "1286/1286 [==============================] - 1s 706us/sample - loss: 0.0945 - val_loss: 0.1037\n",
      "Epoch 91/100\n",
      "1286/1286 [==============================] - 1s 768us/sample - loss: 0.0943 - val_loss: 0.1036TA: 0s - loss: 0.\n",
      "Epoch 92/100\n",
      "1286/1286 [==============================] - 1s 738us/sample - loss: 0.0942 - val_loss: 0.1037\n",
      "Epoch 93/100\n",
      "1286/1286 [==============================] - 1s 672us/sample - loss: 0.0938 - val_loss: 0.1036\n",
      "Epoch 94/100\n",
      "1286/1286 [==============================] - 1s 691us/sample - loss: 0.0959 - val_loss: 0.1033\n",
      "Epoch 95/100\n",
      "1286/1286 [==============================] - 1s 717us/sample - loss: 0.0924 - val_loss: 0.1030\n",
      "Epoch 96/100\n",
      "1286/1286 [==============================] - 1s 675us/sample - loss: 0.0944 - val_loss: 0.1032\n",
      "Epoch 97/100\n",
      "1286/1286 [==============================] - 1s 680us/sample - loss: 0.0953 - val_loss: 0.1033\n",
      "Epoch 98/100\n",
      "1286/1286 [==============================] - 1s 761us/sample - loss: 0.0955 - val_loss: 0.1030\n",
      "Epoch 99/100\n",
      "1286/1286 [==============================] - 1s 675us/sample - loss: 0.0958 - val_loss: 0.1032\n",
      "Epoch 100/100\n",
      "1286/1286 [==============================] - 1s 690us/sample - loss: 0.0952 - val_loss: 0.1029\n"
     ]
    }
   ],
   "source": [
    "history = Deep_LSTM.fit(X_train_aug, y_train_aug, epochs=100,\n",
    "                    validation_data=(X_test, y_test))\n",
    "\n",
    "loss = history.history['loss'][10:]\n",
    "val_loss = history.history['val_loss'][10:]"
   ]
  },
  {
   "cell_type": "code",
   "execution_count": 45,
   "metadata": {},
   "outputs": [
    {
     "data": {
      "text/plain": [
       "[<matplotlib.lines.Line2D at 0x16989fbd6d8>]"
      ]
     },
     "execution_count": 45,
     "metadata": {},
     "output_type": "execute_result"
    },
    {
     "data": {
      "text/plain": [
       "[<matplotlib.lines.Line2D at 0x16989f932b0>]"
      ]
     },
     "execution_count": 45,
     "metadata": {},
     "output_type": "execute_result"
    },
    {
     "data": {
      "text/plain": [
       "<matplotlib.legend.Legend at 0x16989fbda20>"
      ]
     },
     "execution_count": 45,
     "metadata": {},
     "output_type": "execute_result"
    },
    {
     "data": {
      "text/plain": [
       "Text(0.5, 1.0, 'Training and Validation loss')"
      ]
     },
     "execution_count": 45,
     "metadata": {},
     "output_type": "execute_result"
    },
    {
     "data": {
      "image/png": "[encoded data removed]",
      "text/plain": [
       "<Figure size 432x288 with 1 Axes>"
      ]
     },
     "metadata": {
      "needs_background": "light"
     },
     "output_type": "display_data"
    },
    {
     "data": {
      "application/vnd.plotly.v1+json": {
       "config": {
        "linkText": "Export to plot.ly",
        "plotlyServerURL": "https://plot.ly",
        "showLink": false
       },
       "data": [
        {
         "marker": {
          "color": "red",
          "opacity": 0.5,
          "size": 5
         },
         "mode": "lines",
         "name": "Training data",
         "type": "scatter",
         "x": [
          1,
          1,
          1,
          1,
          1,
          0.8763608087091758,
          0.5536547433903577,
          0.4237947122861586,
          0.37947122861586313,
          0.3468118195956454,
          0.3157076205287714,
          0.2954898911353033,
          0.2737169517884914,
          0.24883359253499224,
          0.2286158631415241,
          0.20606531881804044,
          0.18584758942457233,
          0.171850699844479,
          0.1578538102643857,
          0.14307931570762053,
          0.13374805598755832,
          0.12519440124416797,
          0.11741835147744946,
          0.10653188180404355,
          0.09331259720062209,
          0.08553654743390357,
          0.07542768273716952,
          0.07387247278382582,
          0.06842923794712286,
          0.06531881804043546,
          0.05909797822706065,
          0.053654743390357695,
          0.05054432348367029,
          0.04743390357698289,
          0.041990668740279936,
          0.03654743390357698,
          0.03343701399688958,
          0.029548989113530325,
          0.027993779160186624,
          0.027216174183514776,
          0.025660964230171075,
          0.02255054432348367,
          0.02177293934681182,
          0.020995334370139968,
          0.019440124416796267,
          0.01866251944012442,
          0.016329704510108865,
          0.013996889580093312,
          0.013219284603421462,
          0.013219284603421462,
          0.013219284603421462,
          0.012441679626749611,
          0.01166407465007776,
          0.01166407465007776,
          0.01088646967340591,
          0.01010886469673406,
          0.01010886469673406,
          0.01010886469673406,
          0.00933125972006221,
          0.008553654743390357,
          0.007776049766718507,
          0.006998444790046656,
          0.006220839813374806,
          0.004665629860031105,
          0.003110419906687403,
          0.003110419906687403,
          0.0015552099533437014,
          0.0007776049766718507,
          0,
          0,
          0,
          0,
          0,
          0,
          0,
          0,
          0,
          0,
          0,
          0,
          0,
          0,
          0,
          0,
          0,
          0,
          0,
          0,
          0,
          0,
          0,
          0,
          0,
          0,
          0,
          0,
          0,
          0,
          0,
          0
         ],
         "y": [
          0,
          0,
          0,
          0,
          0,
          0.11081867847031146,
          0.2732683335327192,
          0.35825656976512343,
          0.3384774893328548,
          0.3454958727120469,
          0.3253180204968697,
          0.3327152370698249,
          0.341667663596124,
          0.3280894843880846,
          0.30984567532001434,
          0.3131654504127288,
          0.31415241057542764,
          0.2896877616939826,
          0.29727439486381946,
          0.28640786377955896,
          0.25727758503808273,
          0.2401902141404474,
          0.2223252382661403,
          0.22039119511903338,
          0.22720022331219847,
          0.22215576025840414,
          0.21303385572436892,
          0.20817880926745624,
          0.20080153128364636,
          0.20391195119033376,
          0.19090202177293936,
          0.1899350001993859,
          0.17381465087530407,
          0.15769430155122222,
          0.14390676715715597,
          0.12370897635283329,
          0.12681939625952068,
          0.12429716473262353,
          0.11944211827571082,
          0.11380946684212626,
          0.11536467679546995,
          0.10565458388164453,
          0.10002193244805997,
          0.10079953742473183,
          0.10235474737807553,
          0.10313235235474738,
          0.08623439805399369,
          0.07574670016349644,
          0.07011404872991187,
          0.07011404872991187,
          0.07011404872991187,
          0.06448139729632732,
          0.06525900227299916,
          0.06525900227299916,
          0.0596263508394146,
          0.053993699405830035,
          0.053993699405830035,
          0.053993699405830035,
          0.054771304382501884,
          0.04913865294891734,
          0.04350600151533277,
          0.03787335008174822,
          0.03224069864816366,
          0.027385652191250942,
          0.022530605734338238,
          0.022530605734338238,
          0.011265302867169119,
          0.0056326514335845596,
          0,
          0,
          0,
          0,
          0,
          0,
          0,
          0,
          0,
          0,
          0,
          0,
          0,
          0,
          0,
          0,
          0,
          0,
          0,
          0,
          0,
          0,
          0,
          0,
          0,
          0,
          0,
          0,
          0,
          0,
          0,
          0
         ]
        },
        {
         "marker": {
          "color": "blue",
          "opacity": 0.5,
          "size": 5
         },
         "mode": "lines",
         "name": "Test data",
         "type": "scatter",
         "x": [
          1,
          1,
          1,
          1,
          1,
          0.9188405797101449,
          0.591304347826087,
          0.4463768115942029,
          0.3739130434782609,
          0.34202898550724636,
          0.3101449275362319,
          0.2985507246376812,
          0.26956521739130435,
          0.22028985507246376,
          0.21159420289855072,
          0.19710144927536233,
          0.1855072463768116,
          0.15942028985507245,
          0.1391304347826087,
          0.12173913043478261,
          0.11884057971014493,
          0.1072463768115942,
          0.09855072463768116,
          0.08985507246376812,
          0.08115942028985507,
          0.07246376811594203,
          0.06086956521739131,
          0.057971014492753624,
          0.04927536231884058,
          0.04927536231884058,
          0.0463768115942029,
          0.043478260869565216,
          0.043478260869565216,
          0.04057971014492753,
          0.04057971014492753,
          0.03188405797101449,
          0.02318840579710145,
          0.02318840579710145,
          0.011594202898550725,
          0.008695652173913044,
          0.008695652173913044,
          0.008695652173913044,
          0.005797101449275362,
          0.005797101449275362,
          0.005797101449275362,
          0.005797101449275362,
          0.005797101449275362,
          0.002898550724637681,
          0.002898550724637681,
          0.002898550724637681,
          0.002898550724637681,
          0.002898550724637681,
          0.002898550724637681,
          0.002898550724637681,
          0.002898550724637681,
          0.002898550724637681,
          0.002898550724637681,
          0,
          0,
          0,
          0,
          0,
          0,
          0,
          0,
          0,
          0,
          0,
          0,
          0,
          0,
          0,
          0,
          0,
          0,
          0,
          0,
          0,
          0,
          0,
          0,
          0,
          0,
          0,
          0,
          0,
          0,
          0,
          0,
          0,
          0,
          0,
          0,
          0,
          0,
          0,
          0,
          0,
          0,
          0
         ],
         "y": [
          0,
          0,
          0,
          0,
          0,
          0.03570487483530971,
          0.24960474308300395,
          0.2808959156785244,
          0.2624505928853755,
          0.24888010540184458,
          0.2580368906455863,
          0.24690382081686424,
          0.25316205533596836,
          0.21152832674571806,
          0.2202239789196311,
          0.2119894598155468,
          0.20085638998682476,
          0.2042160737812912,
          0.17905138339920948,
          0.15098814229249008,
          0.15388669301712776,
          0.1427536231884058,
          0.15144927536231884,
          0.16014492753623188,
          0.1461133069828722,
          0.1320816864295125,
          0.12094861660079051,
          0.12384716732542819,
          0.13254281949934124,
          0.13254281949934124,
          0.13544137022397892,
          0.1383399209486166,
          0.1383399209486166,
          0.1412384716732543,
          0.1412384716732543,
          0.10447957839262187,
          0.06772068511198946,
          0.06772068511198946,
          0.05658761528326745,
          0.059486166007905135,
          0.059486166007905135,
          0.059486166007905135,
          0.03965744400527009,
          0.03965744400527009,
          0.03965744400527009,
          0.03965744400527009,
          0.03965744400527009,
          0.019828722002635045,
          0.019828722002635045,
          0.019828722002635045,
          0.019828722002635045,
          0.019828722002635045,
          0.019828722002635045,
          0.019828722002635045,
          0.019828722002635045,
          0.019828722002635045,
          0.019828722002635045,
          0,
          0,
          0,
          0,
          0,
          0,
          0,
          0,
          0,
          0,
          0,
          0,
          0,
          0,
          0,
          0,
          0,
          0,
          0,
          0,
          0,
          0,
          0,
          0,
          0,
          0,
          0,
          0,
          0,
          0,
          0,
          0,
          0,
          0,
          0,
          0,
          0,
          0,
          0,
          0,
          0,
          0,
          0
         ]
        }
       ],
       "layout": {
        "legend": {
         "font": {
          "color": "black",
          "family": "sans-serif",
          "size": 12
         },
         "traceorder": "normal",
         "x": 0.8,
         "y": 0
        },
        "template": {
         "data": {
          "bar": [
           {
            "error_x": {
             "color": "#2a3f5f"
            },
            "error_y": {
             "color": "#2a3f5f"
            },
            "marker": {
             "line": {
              "color": "#E5ECF6",
              "width": 0.5
             }
            },
            "type": "bar"
           }
          ],
          "barpolar": [
           {
            "marker": {
             "line": {
              "color": "#E5ECF6",
              "width": 0.5
             }
            },
            "type": "barpolar"
           }
          ],
          "carpet": [
           {
            "aaxis": {
             "endlinecolor": "#2a3f5f",
             "gridcolor": "white",
             "linecolor": "white",
             "minorgridcolor": "white",
             "startlinecolor": "#2a3f5f"
            },
            "baxis": {
             "endlinecolor": "#2a3f5f",
             "gridcolor": "white",
             "linecolor": "white",
             "minorgridcolor": "white",
             "startlinecolor": "#2a3f5f"
            },
            "type": "carpet"
           }
          ],
          "choropleth": [
           {
            "colorbar": {
             "outlinewidth": 0,
             "ticks": ""
            },
            "type": "choropleth"
           }
          ],
          "contour": [
           {
            "colorbar": {
             "outlinewidth": 0,
             "ticks": ""
            },
            "colorscale": [
             [
              0,
              "#0d0887"
             ],
             [
              0.1111111111111111,
              "#46039f"
             ],
             [
              0.2222222222222222,
              "#7201a8"
             ],
             [
              0.3333333333333333,
              "#9c179e"
             ],
             [
              0.4444444444444444,
              "#bd3786"
             ],
             [
              0.5555555555555556,
              "#d8576b"
             ],
             [
              0.6666666666666666,
              "#ed7953"
             ],
             [
              0.7777777777777778,
              "#fb9f3a"
             ],
             [
              0.8888888888888888,
              "#fdca26"
             ],
             [
              1,
              "#f0f921"
             ]
            ],
            "type": "contour"
           }
          ],
          "contourcarpet": [
           {
            "colorbar": {
             "outlinewidth": 0,
             "ticks": ""
            },
            "type": "contourcarpet"
           }
          ],
          "heatmap": [
           {
            "colorbar": {
             "outlinewidth": 0,
             "ticks": ""
            },
            "colorscale": [
             [
              0,
              "#0d0887"
             ],
             [
              0.1111111111111111,
              "#46039f"
             ],
             [
              0.2222222222222222,
              "#7201a8"
             ],
             [
              0.3333333333333333,
              "#9c179e"
             ],
             [
              0.4444444444444444,
              "#bd3786"
             ],
             [
              0.5555555555555556,
              "#d8576b"
             ],
             [
              0.6666666666666666,
              "#ed7953"
             ],
             [
              0.7777777777777778,
              "#fb9f3a"
             ],
             [
              0.8888888888888888,
              "#fdca26"
             ],
             [
              1,
              "#f0f921"
             ]
            ],
            "type": "heatmap"
           }
          ],
          "heatmapgl": [
           {
            "colorbar": {
             "outlinewidth": 0,
             "ticks": ""
            },
            "colorscale": [
             [
              0,
              "#0d0887"
             ],
             [
              0.1111111111111111,
              "#46039f"
             ],
             [
              0.2222222222222222,
              "#7201a8"
             ],
             [
              0.3333333333333333,
              "#9c179e"
             ],
             [
              0.4444444444444444,
              "#bd3786"
             ],
             [
              0.5555555555555556,
              "#d8576b"
             ],
             [
              0.6666666666666666,
              "#ed7953"
             ],
             [
              0.7777777777777778,
              "#fb9f3a"
             ],
             [
              0.8888888888888888,
              "#fdca26"
             ],
             [
              1,
              "#f0f921"
             ]
            ],
            "type": "heatmapgl"
           }
          ],
          "histogram": [
           {
            "marker": {
             "colorbar": {
              "outlinewidth": 0,
              "ticks": ""
             }
            },
            "type": "histogram"
           }
          ],
          "histogram2d": [
           {
            "colorbar": {
             "outlinewidth": 0,
             "ticks": ""
            },
            "colorscale": [
             [
              0,
              "#0d0887"
             ],
             [
              0.1111111111111111,
              "#46039f"
             ],
             [
              0.2222222222222222,
              "#7201a8"
             ],
             [
              0.3333333333333333,
              "#9c179e"
             ],
             [
              0.4444444444444444,
              "#bd3786"
             ],
             [
              0.5555555555555556,
              "#d8576b"
             ],
             [
              0.6666666666666666,
              "#ed7953"
             ],
             [
              0.7777777777777778,
              "#fb9f3a"
             ],
             [
              0.8888888888888888,
              "#fdca26"
             ],
             [
              1,
              "#f0f921"
             ]
            ],
            "type": "histogram2d"
           }
          ],
          "histogram2dcontour": [
           {
            "colorbar": {
             "outlinewidth": 0,
             "ticks": ""
            },
            "colorscale": [
             [
              0,
              "#0d0887"
             ],
             [
              0.1111111111111111,
              "#46039f"
             ],
             [
              0.2222222222222222,
              "#7201a8"
             ],
             [
              0.3333333333333333,
              "#9c179e"
             ],
             [
              0.4444444444444444,
              "#bd3786"
             ],
             [
              0.5555555555555556,
              "#d8576b"
             ],
             [
              0.6666666666666666,
              "#ed7953"
             ],
             [
              0.7777777777777778,
              "#fb9f3a"
             ],
             [
              0.8888888888888888,
              "#fdca26"
             ],
             [
              1,
              "#f0f921"
             ]
            ],
            "type": "histogram2dcontour"
           }
          ],
          "mesh3d": [
           {
            "colorbar": {
             "outlinewidth": 0,
             "ticks": ""
            },
            "type": "mesh3d"
           }
          ],
          "parcoords": [
           {
            "line": {
             "colorbar": {
              "outlinewidth": 0,
              "ticks": ""
             }
            },
            "type": "parcoords"
           }
          ],
          "scatter": [
           {
            "marker": {
             "colorbar": {
              "outlinewidth": 0,
              "ticks": ""
             }
            },
            "type": "scatter"
           }
          ],
          "scatter3d": [
           {
            "line": {
             "colorbar": {
              "outlinewidth": 0,
              "ticks": ""
             }
            },
            "marker": {
             "colorbar": {
              "outlinewidth": 0,
              "ticks": ""
             }
            },
            "type": "scatter3d"
           }
          ],
          "scattercarpet": [
           {
            "marker": {
             "colorbar": {
              "outlinewidth": 0,
              "ticks": ""
             }
            },
            "type": "scattercarpet"
           }
          ],
          "scattergeo": [
           {
            "marker": {
             "colorbar": {
              "outlinewidth": 0,
              "ticks": ""
             }
            },
            "type": "scattergeo"
           }
          ],
          "scattergl": [
           {
            "marker": {
             "colorbar": {
              "outlinewidth": 0,
              "ticks": ""
             }
            },
            "type": "scattergl"
           }
          ],
          "scattermapbox": [
           {
            "marker": {
             "colorbar": {
              "outlinewidth": 0,
              "ticks": ""
             }
            },
            "type": "scattermapbox"
           }
          ],
          "scatterpolar": [
           {
            "marker": {
             "colorbar": {
              "outlinewidth": 0,
              "ticks": ""
             }
            },
            "type": "scatterpolar"
           }
          ],
          "scatterpolargl": [
           {
            "marker": {
             "colorbar": {
              "outlinewidth": 0,
              "ticks": ""
             }
            },
            "type": "scatterpolargl"
           }
          ],
          "scatterternary": [
           {
            "marker": {
             "colorbar": {
              "outlinewidth": 0,
              "ticks": ""
             }
            },
            "type": "scatterternary"
           }
          ],
          "surface": [
           {
            "colorbar": {
             "outlinewidth": 0,
             "ticks": ""
            },
            "colorscale": [
             [
              0,
              "#0d0887"
             ],
             [
              0.1111111111111111,
              "#46039f"
             ],
             [
              0.2222222222222222,
              "#7201a8"
             ],
             [
              0.3333333333333333,
              "#9c179e"
             ],
             [
              0.4444444444444444,
              "#bd3786"
             ],
             [
              0.5555555555555556,
              "#d8576b"
             ],
             [
              0.6666666666666666,
              "#ed7953"
             ],
             [
              0.7777777777777778,
              "#fb9f3a"
             ],
             [
              0.8888888888888888,
              "#fdca26"
             ],
             [
              1,
              "#f0f921"
             ]
            ],
            "type": "surface"
           }
          ],
          "table": [
           {
            "cells": {
             "fill": {
              "color": "#EBF0F8"
             },
             "line": {
              "color": "white"
             }
            },
            "header": {
             "fill": {
              "color": "#C8D4E3"
             },
             "line": {
              "color": "white"
             }
            },
            "type": "table"
           }
          ]
         },
         "layout": {
          "annotationdefaults": {
           "arrowcolor": "#2a3f5f",
           "arrowhead": 0,
           "arrowwidth": 1
          },
          "colorscale": {
           "diverging": [
            [
             0,
             "#8e0152"
            ],
            [
             0.1,
             "#c51b7d"
            ],
            [
             0.2,
             "#de77ae"
            ],
            [
             0.3,
             "#f1b6da"
            ],
            [
             0.4,
             "#fde0ef"
            ],
            [
             0.5,
             "#f7f7f7"
            ],
            [
             0.6,
             "#e6f5d0"
            ],
            [
             0.7,
             "#b8e186"
            ],
            [
             0.8,
             "#7fbc41"
            ],
            [
             0.9,
             "#4d9221"
            ],
            [
             1,
             "#276419"
            ]
           ],
           "sequential": [
            [
             0,
             "#0d0887"
            ],
            [
             0.1111111111111111,
             "#46039f"
            ],
            [
             0.2222222222222222,
             "#7201a8"
            ],
            [
             0.3333333333333333,
             "#9c179e"
            ],
            [
             0.4444444444444444,
             "#bd3786"
            ],
            [
             0.5555555555555556,
             "#d8576b"
            ],
            [
             0.6666666666666666,
             "#ed7953"
            ],
            [
             0.7777777777777778,
             "#fb9f3a"
            ],
            [
             0.8888888888888888,
             "#fdca26"
            ],
            [
             1,
             "#f0f921"
            ]
           ],
           "sequentialminus": [
            [
             0,
             "#0d0887"
            ],
            [
             0.1111111111111111,
             "#46039f"
            ],
            [
             0.2222222222222222,
             "#7201a8"
            ],
            [
             0.3333333333333333,
             "#9c179e"
            ],
            [
             0.4444444444444444,
             "#bd3786"
            ],
            [
             0.5555555555555556,
             "#d8576b"
            ],
            [
             0.6666666666666666,
             "#ed7953"
            ],
            [
             0.7777777777777778,
             "#fb9f3a"
            ],
            [
             0.8888888888888888,
             "#fdca26"
            ],
            [
             1,
             "#f0f921"
            ]
           ]
          },
          "colorway": [
           "#636efa",
           "#EF553B",
           "#00cc96",
           "#ab63fa",
           "#FFA15A",
           "#19d3f3",
           "#FF6692",
           "#B6E880",
           "#FF97FF",
           "#FECB52"
          ],
          "font": {
           "color": "#2a3f5f"
          },
          "geo": {
           "bgcolor": "white",
           "lakecolor": "white",
           "landcolor": "#E5ECF6",
           "showlakes": true,
           "showland": true,
           "subunitcolor": "white"
          },
          "hoverlabel": {
           "align": "left"
          },
          "hovermode": "closest",
          "mapbox": {
           "style": "light"
          },
          "paper_bgcolor": "white",
          "plot_bgcolor": "#E5ECF6",
          "polar": {
           "angularaxis": {
            "gridcolor": "white",
            "linecolor": "white",
            "ticks": ""
           },
           "bgcolor": "#E5ECF6",
           "radialaxis": {
            "gridcolor": "white",
            "linecolor": "white",
            "ticks": ""
           }
          },
          "scene": {
           "xaxis": {
            "backgroundcolor": "#E5ECF6",
            "gridcolor": "white",
            "gridwidth": 2,
            "linecolor": "white",
            "showbackground": true,
            "ticks": "",
            "zerolinecolor": "white"
           },
           "yaxis": {
            "backgroundcolor": "#E5ECF6",
            "gridcolor": "white",
            "gridwidth": 2,
            "linecolor": "white",
            "showbackground": true,
            "ticks": "",
            "zerolinecolor": "white"
           },
           "zaxis": {
            "backgroundcolor": "#E5ECF6",
            "gridcolor": "white",
            "gridwidth": 2,
            "linecolor": "white",
            "showbackground": true,
            "ticks": "",
            "zerolinecolor": "white"
           }
          },
          "shapedefaults": {
           "line": {
            "color": "#2a3f5f"
           }
          },
          "ternary": {
           "aaxis": {
            "gridcolor": "white",
            "linecolor": "white",
            "ticks": ""
           },
           "baxis": {
            "gridcolor": "white",
            "linecolor": "white",
            "ticks": ""
           },
           "bgcolor": "#E5ECF6",
           "caxis": {
            "gridcolor": "white",
            "linecolor": "white",
            "ticks": ""
           }
          },
          "title": {
           "x": 0.05
          },
          "xaxis": {
           "automargin": true,
           "gridcolor": "white",
           "linecolor": "white",
           "ticks": "",
           "zerolinecolor": "white",
           "zerolinewidth": 2
          },
          "yaxis": {
           "automargin": true,
           "gridcolor": "white",
           "linecolor": "white",
           "ticks": "",
           "zerolinecolor": "white",
           "zerolinewidth": 2
          }
         }
        },
        "title": {
         "text": "Recall surplus for comparison"
        },
        "xaxis": {
         "range": [
          0,
          0.4
         ],
         "title": {
          "text": "Positives share"
         }
        },
        "yaxis": {
         "title": {
          "text": "Recall surplus"
         }
        }
       }
      },
      "text/html": [
       "<div>\n",
       "        \n",
       "        \n",
       "            <div id=\"bb110d25-efd5-4771-9e2a-5e1bfd1870f7\" class=\"plotly-graph-div\" style=\"height:525px; width:100%;\"></div>\n",
       "            <script type=\"text/javascript\">\n",
       "                require([\"plotly\"], function(Plotly) {\n",
       "                    window.PLOTLYENV=window.PLOTLYENV || {};\n",
       "                    \n",
       "                if (document.getElementById(\"bb110d25-efd5-4771-9e2a-5e1bfd1870f7\")) {\n",
       "                    Plotly.newPlot(\n",
       "                        'bb110d25-efd5-4771-9e2a-5e1bfd1870f7',\n",
       "                        [{\"marker\": {\"color\": \"red\", \"opacity\": 0.5, \"size\": 5}, \"mode\": \"lines\", \"name\": \"Training data\", \"type\": \"scatter\", \"x\": [1.0, 1.0, 1.0, 1.0, 1.0, 0.8763608087091758, 0.5536547433903577, 0.4237947122861586, 0.37947122861586313, 0.3468118195956454, 0.3157076205287714, 0.2954898911353033, 0.2737169517884914, 0.24883359253499224, 0.2286158631415241, 0.20606531881804044, 0.18584758942457233, 0.171850699844479, 0.1578538102643857, 0.14307931570762053, 0.13374805598755832, 0.12519440124416797, 0.11741835147744946, 0.10653188180404355, 0.09331259720062209, 0.08553654743390357, 0.07542768273716952, 0.07387247278382582, 0.06842923794712286, 0.06531881804043546, 0.05909797822706065, 0.053654743390357695, 0.05054432348367029, 0.04743390357698289, 0.041990668740279936, 0.03654743390357698, 0.03343701399688958, 0.029548989113530325, 0.027993779160186624, 0.027216174183514776, 0.025660964230171075, 0.02255054432348367, 0.02177293934681182, 0.020995334370139968, 0.019440124416796267, 0.01866251944012442, 0.016329704510108865, 0.013996889580093312, 0.013219284603421462, 0.013219284603421462, 0.013219284603421462, 0.012441679626749611, 0.01166407465007776, 0.01166407465007776, 0.01088646967340591, 0.01010886469673406, 0.01010886469673406, 0.01010886469673406, 0.00933125972006221, 0.008553654743390357, 0.007776049766718507, 0.006998444790046656, 0.006220839813374806, 0.004665629860031105, 0.003110419906687403, 0.003110419906687403, 0.0015552099533437014, 0.0007776049766718507, 0.0, 0.0, 0.0, 0.0, 0.0, 0.0, 0.0, 0.0, 0.0, 0.0, 0.0, 0.0, 0.0, 0.0, 0.0, 0.0, 0.0, 0.0, 0.0, 0.0, 0.0, 0.0, 0.0, 0.0, 0.0, 0.0, 0.0, 0.0, 0.0, 0.0, 0.0, 0.0], \"y\": [0.0, 0.0, 0.0, 0.0, 0.0, 0.11081867847031146, 0.2732683335327192, 0.35825656976512343, 0.3384774893328548, 0.3454958727120469, 0.3253180204968697, 0.3327152370698249, 0.341667663596124, 0.3280894843880846, 0.30984567532001434, 0.3131654504127288, 0.31415241057542764, 0.2896877616939826, 0.29727439486381946, 0.28640786377955896, 0.25727758503808273, 0.2401902141404474, 0.2223252382661403, 0.22039119511903338, 0.22720022331219847, 0.22215576025840414, 0.21303385572436892, 0.20817880926745624, 0.20080153128364636, 0.20391195119033376, 0.19090202177293936, 0.1899350001993859, 0.17381465087530407, 0.15769430155122222, 0.14390676715715597, 0.12370897635283329, 0.12681939625952068, 0.12429716473262353, 0.11944211827571082, 0.11380946684212626, 0.11536467679546995, 0.10565458388164453, 0.10002193244805997, 0.10079953742473183, 0.10235474737807553, 0.10313235235474738, 0.08623439805399369, 0.07574670016349644, 0.07011404872991187, 0.07011404872991187, 0.07011404872991187, 0.06448139729632732, 0.06525900227299916, 0.06525900227299916, 0.0596263508394146, 0.053993699405830035, 0.053993699405830035, 0.053993699405830035, 0.054771304382501884, 0.04913865294891734, 0.04350600151533277, 0.03787335008174822, 0.03224069864816366, 0.027385652191250942, 0.022530605734338238, 0.022530605734338238, 0.011265302867169119, 0.0056326514335845596, 0.0, 0.0, 0.0, 0.0, 0.0, 0.0, 0.0, 0.0, 0.0, 0.0, 0.0, 0.0, 0.0, 0.0, 0.0, 0.0, 0.0, 0.0, 0.0, 0.0, 0.0, 0.0, 0.0, 0.0, 0.0, 0.0, 0.0, 0.0, 0.0, 0.0, 0.0, 0.0]}, {\"marker\": {\"color\": \"blue\", \"opacity\": 0.5, \"size\": 5}, \"mode\": \"lines\", \"name\": \"Test data\", \"type\": \"scatter\", \"x\": [1.0, 1.0, 1.0, 1.0, 1.0, 0.9188405797101449, 0.591304347826087, 0.4463768115942029, 0.3739130434782609, 0.34202898550724636, 0.3101449275362319, 0.2985507246376812, 0.26956521739130435, 0.22028985507246376, 0.21159420289855072, 0.19710144927536233, 0.1855072463768116, 0.15942028985507245, 0.1391304347826087, 0.12173913043478261, 0.11884057971014493, 0.1072463768115942, 0.09855072463768116, 0.08985507246376812, 0.08115942028985507, 0.07246376811594203, 0.06086956521739131, 0.057971014492753624, 0.04927536231884058, 0.04927536231884058, 0.0463768115942029, 0.043478260869565216, 0.043478260869565216, 0.04057971014492753, 0.04057971014492753, 0.03188405797101449, 0.02318840579710145, 0.02318840579710145, 0.011594202898550725, 0.008695652173913044, 0.008695652173913044, 0.008695652173913044, 0.005797101449275362, 0.005797101449275362, 0.005797101449275362, 0.005797101449275362, 0.005797101449275362, 0.002898550724637681, 0.002898550724637681, 0.002898550724637681, 0.002898550724637681, 0.002898550724637681, 0.002898550724637681, 0.002898550724637681, 0.002898550724637681, 0.002898550724637681, 0.002898550724637681, 0.0, 0.0, 0.0, 0.0, 0.0, 0.0, 0.0, 0.0, 0.0, 0.0, 0.0, 0.0, 0.0, 0.0, 0.0, 0.0, 0.0, 0.0, 0.0, 0.0, 0.0, 0.0, 0.0, 0.0, 0.0, 0.0, 0.0, 0.0, 0.0, 0.0, 0.0, 0.0, 0.0, 0.0, 0.0, 0.0, 0.0, 0.0, 0.0, 0.0, 0.0, 0.0, 0.0], \"y\": [0.0, 0.0, 0.0, 0.0, 0.0, 0.03570487483530971, 0.24960474308300395, 0.2808959156785244, 0.2624505928853755, 0.24888010540184458, 0.2580368906455863, 0.24690382081686424, 0.25316205533596836, 0.21152832674571806, 0.2202239789196311, 0.2119894598155468, 0.20085638998682476, 0.2042160737812912, 0.17905138339920948, 0.15098814229249008, 0.15388669301712776, 0.1427536231884058, 0.15144927536231884, 0.16014492753623188, 0.1461133069828722, 0.1320816864295125, 0.12094861660079051, 0.12384716732542819, 0.13254281949934124, 0.13254281949934124, 0.13544137022397892, 0.1383399209486166, 0.1383399209486166, 0.1412384716732543, 0.1412384716732543, 0.10447957839262187, 0.06772068511198946, 0.06772068511198946, 0.05658761528326745, 0.059486166007905135, 0.059486166007905135, 0.059486166007905135, 0.03965744400527009, 0.03965744400527009, 0.03965744400527009, 0.03965744400527009, 0.03965744400527009, 0.019828722002635045, 0.019828722002635045, 0.019828722002635045, 0.019828722002635045, 0.019828722002635045, 0.019828722002635045, 0.019828722002635045, 0.019828722002635045, 0.019828722002635045, 0.019828722002635045, 0.0, 0.0, 0.0, 0.0, 0.0, 0.0, 0.0, 0.0, 0.0, 0.0, 0.0, 0.0, 0.0, 0.0, 0.0, 0.0, 0.0, 0.0, 0.0, 0.0, 0.0, 0.0, 0.0, 0.0, 0.0, 0.0, 0.0, 0.0, 0.0, 0.0, 0.0, 0.0, 0.0, 0.0, 0.0, 0.0, 0.0, 0.0, 0.0, 0.0, 0.0, 0.0, 0.0]}],\n",
       "                        {\"legend\": {\"font\": {\"color\": \"black\", \"family\": \"sans-serif\", \"size\": 12}, \"traceorder\": \"normal\", \"x\": 0.8, \"y\": 0}, \"template\": {\"data\": {\"bar\": [{\"error_x\": {\"color\": \"#2a3f5f\"}, \"error_y\": {\"color\": \"#2a3f5f\"}, \"marker\": {\"line\": {\"color\": \"#E5ECF6\", \"width\": 0.5}}, \"type\": \"bar\"}], \"barpolar\": [{\"marker\": {\"line\": {\"color\": \"#E5ECF6\", \"width\": 0.5}}, \"type\": \"barpolar\"}], \"carpet\": [{\"aaxis\": {\"endlinecolor\": \"#2a3f5f\", \"gridcolor\": \"white\", \"linecolor\": \"white\", \"minorgridcolor\": \"white\", \"startlinecolor\": \"#2a3f5f\"}, \"baxis\": {\"endlinecolor\": \"#2a3f5f\", \"gridcolor\": \"white\", \"linecolor\": \"white\", \"minorgridcolor\": \"white\", \"startlinecolor\": \"#2a3f5f\"}, \"type\": \"carpet\"}], \"choropleth\": [{\"colorbar\": {\"outlinewidth\": 0, \"ticks\": \"\"}, \"type\": \"choropleth\"}], \"contour\": [{\"colorbar\": {\"outlinewidth\": 0, \"ticks\": \"\"}, \"colorscale\": [[0.0, \"#0d0887\"], [0.1111111111111111, \"#46039f\"], [0.2222222222222222, \"#7201a8\"], [0.3333333333333333, \"#9c179e\"], [0.4444444444444444, \"#bd3786\"], [0.5555555555555556, \"#d8576b\"], [0.6666666666666666, \"#ed7953\"], [0.7777777777777778, \"#fb9f3a\"], [0.8888888888888888, \"#fdca26\"], [1.0, \"#f0f921\"]], \"type\": \"contour\"}], \"contourcarpet\": [{\"colorbar\": {\"outlinewidth\": 0, \"ticks\": \"\"}, \"type\": \"contourcarpet\"}], \"heatmap\": [{\"colorbar\": {\"outlinewidth\": 0, \"ticks\": \"\"}, \"colorscale\": [[0.0, \"#0d0887\"], [0.1111111111111111, \"#46039f\"], [0.2222222222222222, \"#7201a8\"], [0.3333333333333333, \"#9c179e\"], [0.4444444444444444, \"#bd3786\"], [0.5555555555555556, \"#d8576b\"], [0.6666666666666666, \"#ed7953\"], [0.7777777777777778, \"#fb9f3a\"], [0.8888888888888888, \"#fdca26\"], [1.0, \"#f0f921\"]], \"type\": \"heatmap\"}], \"heatmapgl\": [{\"colorbar\": {\"outlinewidth\": 0, \"ticks\": \"\"}, \"colorscale\": [[0.0, \"#0d0887\"], [0.1111111111111111, \"#46039f\"], [0.2222222222222222, \"#7201a8\"], [0.3333333333333333, \"#9c179e\"], [0.4444444444444444, \"#bd3786\"], [0.5555555555555556, \"#d8576b\"], [0.6666666666666666, \"#ed7953\"], [0.7777777777777778, \"#fb9f3a\"], [0.8888888888888888, \"#fdca26\"], [1.0, \"#f0f921\"]], \"type\": \"heatmapgl\"}], \"histogram\": [{\"marker\": {\"colorbar\": {\"outlinewidth\": 0, \"ticks\": \"\"}}, \"type\": \"histogram\"}], \"histogram2d\": [{\"colorbar\": {\"outlinewidth\": 0, \"ticks\": \"\"}, \"colorscale\": [[0.0, \"#0d0887\"], [0.1111111111111111, \"#46039f\"], [0.2222222222222222, \"#7201a8\"], [0.3333333333333333, \"#9c179e\"], [0.4444444444444444, \"#bd3786\"], [0.5555555555555556, \"#d8576b\"], [0.6666666666666666, \"#ed7953\"], [0.7777777777777778, \"#fb9f3a\"], [0.8888888888888888, \"#fdca26\"], [1.0, \"#f0f921\"]], \"type\": \"histogram2d\"}], \"histogram2dcontour\": [{\"colorbar\": {\"outlinewidth\": 0, \"ticks\": \"\"}, \"colorscale\": [[0.0, \"#0d0887\"], [0.1111111111111111, \"#46039f\"], [0.2222222222222222, \"#7201a8\"], [0.3333333333333333, \"#9c179e\"], [0.4444444444444444, \"#bd3786\"], [0.5555555555555556, \"#d8576b\"], [0.6666666666666666, \"#ed7953\"], [0.7777777777777778, \"#fb9f3a\"], [0.8888888888888888, \"#fdca26\"], [1.0, \"#f0f921\"]], \"type\": \"histogram2dcontour\"}], \"mesh3d\": [{\"colorbar\": {\"outlinewidth\": 0, \"ticks\": \"\"}, \"type\": \"mesh3d\"}], \"parcoords\": [{\"line\": {\"colorbar\": {\"outlinewidth\": 0, \"ticks\": \"\"}}, \"type\": \"parcoords\"}], \"scatter\": [{\"marker\": {\"colorbar\": {\"outlinewidth\": 0, \"ticks\": \"\"}}, \"type\": \"scatter\"}], \"scatter3d\": [{\"line\": {\"colorbar\": {\"outlinewidth\": 0, \"ticks\": \"\"}}, \"marker\": {\"colorbar\": {\"outlinewidth\": 0, \"ticks\": \"\"}}, \"type\": \"scatter3d\"}], \"scattercarpet\": [{\"marker\": {\"colorbar\": {\"outlinewidth\": 0, \"ticks\": \"\"}}, \"type\": \"scattercarpet\"}], \"scattergeo\": [{\"marker\": {\"colorbar\": {\"outlinewidth\": 0, \"ticks\": \"\"}}, \"type\": \"scattergeo\"}], \"scattergl\": [{\"marker\": {\"colorbar\": {\"outlinewidth\": 0, \"ticks\": \"\"}}, \"type\": \"scattergl\"}], \"scattermapbox\": [{\"marker\": {\"colorbar\": {\"outlinewidth\": 0, \"ticks\": \"\"}}, \"type\": \"scattermapbox\"}], \"scatterpolar\": [{\"marker\": {\"colorbar\": {\"outlinewidth\": 0, \"ticks\": \"\"}}, \"type\": \"scatterpolar\"}], \"scatterpolargl\": [{\"marker\": {\"colorbar\": {\"outlinewidth\": 0, \"ticks\": \"\"}}, \"type\": \"scatterpolargl\"}], \"scatterternary\": [{\"marker\": {\"colorbar\": {\"outlinewidth\": 0, \"ticks\": \"\"}}, \"type\": \"scatterternary\"}], \"surface\": [{\"colorbar\": {\"outlinewidth\": 0, \"ticks\": \"\"}, \"colorscale\": [[0.0, \"#0d0887\"], [0.1111111111111111, \"#46039f\"], [0.2222222222222222, \"#7201a8\"], [0.3333333333333333, \"#9c179e\"], [0.4444444444444444, \"#bd3786\"], [0.5555555555555556, \"#d8576b\"], [0.6666666666666666, \"#ed7953\"], [0.7777777777777778, \"#fb9f3a\"], [0.8888888888888888, \"#fdca26\"], [1.0, \"#f0f921\"]], \"type\": \"surface\"}], \"table\": [{\"cells\": {\"fill\": {\"color\": \"#EBF0F8\"}, \"line\": {\"color\": \"white\"}}, \"header\": {\"fill\": {\"color\": \"#C8D4E3\"}, \"line\": {\"color\": \"white\"}}, \"type\": \"table\"}]}, \"layout\": {\"annotationdefaults\": {\"arrowcolor\": \"#2a3f5f\", \"arrowhead\": 0, \"arrowwidth\": 1}, \"colorscale\": {\"diverging\": [[0, \"#8e0152\"], [0.1, \"#c51b7d\"], [0.2, \"#de77ae\"], [0.3, \"#f1b6da\"], [0.4, \"#fde0ef\"], [0.5, \"#f7f7f7\"], [0.6, \"#e6f5d0\"], [0.7, \"#b8e186\"], [0.8, \"#7fbc41\"], [0.9, \"#4d9221\"], [1, \"#276419\"]], \"sequential\": [[0.0, \"#0d0887\"], [0.1111111111111111, \"#46039f\"], [0.2222222222222222, \"#7201a8\"], [0.3333333333333333, \"#9c179e\"], [0.4444444444444444, \"#bd3786\"], [0.5555555555555556, \"#d8576b\"], [0.6666666666666666, \"#ed7953\"], [0.7777777777777778, \"#fb9f3a\"], [0.8888888888888888, \"#fdca26\"], [1.0, \"#f0f921\"]], \"sequentialminus\": [[0.0, \"#0d0887\"], [0.1111111111111111, \"#46039f\"], [0.2222222222222222, \"#7201a8\"], [0.3333333333333333, \"#9c179e\"], [0.4444444444444444, \"#bd3786\"], [0.5555555555555556, \"#d8576b\"], [0.6666666666666666, \"#ed7953\"], [0.7777777777777778, \"#fb9f3a\"], [0.8888888888888888, \"#fdca26\"], [1.0, \"#f0f921\"]]}, \"colorway\": [\"#636efa\", \"#EF553B\", \"#00cc96\", \"#ab63fa\", \"#FFA15A\", \"#19d3f3\", \"#FF6692\", \"#B6E880\", \"#FF97FF\", \"#FECB52\"], \"font\": {\"color\": \"#2a3f5f\"}, \"geo\": {\"bgcolor\": \"white\", \"lakecolor\": \"white\", \"landcolor\": \"#E5ECF6\", \"showlakes\": true, \"showland\": true, \"subunitcolor\": \"white\"}, \"hoverlabel\": {\"align\": \"left\"}, \"hovermode\": \"closest\", \"mapbox\": {\"style\": \"light\"}, \"paper_bgcolor\": \"white\", \"plot_bgcolor\": \"#E5ECF6\", \"polar\": {\"angularaxis\": {\"gridcolor\": \"white\", \"linecolor\": \"white\", \"ticks\": \"\"}, \"bgcolor\": \"#E5ECF6\", \"radialaxis\": {\"gridcolor\": \"white\", \"linecolor\": \"white\", \"ticks\": \"\"}}, \"scene\": {\"xaxis\": {\"backgroundcolor\": \"#E5ECF6\", \"gridcolor\": \"white\", \"gridwidth\": 2, \"linecolor\": \"white\", \"showbackground\": true, \"ticks\": \"\", \"zerolinecolor\": \"white\"}, \"yaxis\": {\"backgroundcolor\": \"#E5ECF6\", \"gridcolor\": \"white\", \"gridwidth\": 2, \"linecolor\": \"white\", \"showbackground\": true, \"ticks\": \"\", \"zerolinecolor\": \"white\"}, \"zaxis\": {\"backgroundcolor\": \"#E5ECF6\", \"gridcolor\": \"white\", \"gridwidth\": 2, \"linecolor\": \"white\", \"showbackground\": true, \"ticks\": \"\", \"zerolinecolor\": \"white\"}}, \"shapedefaults\": {\"line\": {\"color\": \"#2a3f5f\"}}, \"ternary\": {\"aaxis\": {\"gridcolor\": \"white\", \"linecolor\": \"white\", \"ticks\": \"\"}, \"baxis\": {\"gridcolor\": \"white\", \"linecolor\": \"white\", \"ticks\": \"\"}, \"bgcolor\": \"#E5ECF6\", \"caxis\": {\"gridcolor\": \"white\", \"linecolor\": \"white\", \"ticks\": \"\"}}, \"title\": {\"x\": 0.05}, \"xaxis\": {\"automargin\": true, \"gridcolor\": \"white\", \"linecolor\": \"white\", \"ticks\": \"\", \"zerolinecolor\": \"white\", \"zerolinewidth\": 2}, \"yaxis\": {\"automargin\": true, \"gridcolor\": \"white\", \"linecolor\": \"white\", \"ticks\": \"\", \"zerolinecolor\": \"white\", \"zerolinewidth\": 2}}}, \"title\": {\"text\": \"Recall surplus for comparison\"}, \"xaxis\": {\"range\": [0, 0.4], \"title\": {\"text\": \"Positives share\"}}, \"yaxis\": {\"title\": {\"text\": \"Recall surplus\"}}},\n",
       "                        {\"responsive\": true}\n",
       "                    ).then(function(){\n",
       "                            \n",
       "var gd = document.getElementById('bb110d25-efd5-4771-9e2a-5e1bfd1870f7');\n",
       "var x = new MutationObserver(function (mutations, observer) {{\n",
       "        var display = window.getComputedStyle(gd).display;\n",
       "        if (!display || display === 'none') {{\n",
       "            console.log([gd, 'removed!']);\n",
       "            Plotly.purge(gd);\n",
       "            observer.disconnect();\n",
       "        }}\n",
       "}});\n",
       "\n",
       "// Listen for the removal of the full notebook cells\n",
       "var notebookContainer = gd.closest('#notebook-container');\n",
       "if (notebookContainer) {{\n",
       "    x.observe(notebookContainer, {childList: true});\n",
       "}}\n",
       "\n",
       "// Listen for the clearing of the current output cell\n",
       "var outputEl = gd.closest('.output');\n",
       "if (outputEl) {{\n",
       "    x.observe(outputEl, {childList: true});\n",
       "}}\n",
       "\n",
       "                        })\n",
       "                };\n",
       "                });\n",
       "            </script>\n",
       "        </div>"
      ]
     },
     "metadata": {},
     "output_type": "display_data"
    }
   ],
   "source": [
    "epochs = range(1, len(loss)+1)\n",
    "plt.plot(epochs, smooth_curve(loss), 'bo', label='Training loss')\n",
    "plt.plot(epochs, smooth_curve(val_loss), 'r-', label='Validation loss')\n",
    "plt.legend()\n",
    "plt.title('Training and Validation loss')\n",
    "plt.show()\n",
    "\n",
    "lstm_pred_train,lstm_pred_test,lstm_pr_train,lstm_pr_test= model_comparison_outputs_DNN(X_train,y_train, X_test, y_test, Deep_LSTM)\n",
    "\n",
    "plot_recall_surplus_train_test(lstm_pr_train,lstm_pr_test)"
   ]
  },
  {
   "cell_type": "markdown",
   "metadata": {},
   "source": [
    "# Results summary"
   ]
  },
  {
   "cell_type": "markdown",
   "metadata": {},
   "source": [
    "## RNN models comparison"
   ]
  },
  {
   "cell_type": "code",
   "execution_count": 46,
   "metadata": {},
   "outputs": [
    {
     "data": {
      "application/vnd.plotly.v1+json": {
       "config": {
        "linkText": "Export to plot.ly",
        "plotlyServerURL": "https://plot.ly",
        "showLink": false
       },
       "data": [
        {
         "marker": {
          "color": "blue",
          "opacity": 0.5,
          "size": 5
         },
         "mode": "lines",
         "name": "Single RNN layer",
         "type": "scatter",
         "x": [
          1,
          1,
          1,
          1,
          1,
          1,
          1,
          0.8144927536231884,
          0.5739130434782609,
          0.43478260869565216,
          0.34492753623188405,
          0.28405797101449276,
          0.2608695652173913,
          0.23478260869565218,
          0.2028985507246377,
          0.17971014492753623,
          0.1681159420289855,
          0.13623188405797101,
          0.10144927536231885,
          0.08405797101449275,
          0.07536231884057971,
          0.057971014492753624,
          0.034782608695652174,
          0.020289855072463767,
          0.002898550724637681,
          0.002898550724637681,
          0.002898550724637681,
          0,
          0,
          0,
          0,
          0,
          0,
          0,
          0,
          0,
          0,
          0,
          0,
          0,
          0,
          0,
          0,
          0,
          0,
          0,
          0,
          0,
          0,
          0,
          0,
          0,
          0,
          0,
          0,
          0,
          0,
          0,
          0,
          0,
          0,
          0,
          0,
          0,
          0,
          0,
          0,
          0,
          0,
          0,
          0,
          0,
          0,
          0,
          0,
          0,
          0,
          0,
          0,
          0,
          0,
          0,
          0,
          0,
          0,
          0,
          0,
          0,
          0,
          0,
          0,
          0,
          0,
          0,
          0,
          0,
          0,
          0,
          0,
          0
         ],
         "y": [
          0,
          0,
          0,
          0,
          0,
          0,
          0,
          0.04914361001317524,
          0.08517786561264817,
          -0.0029644268774703386,
          0.04143610013175231,
          0.05685111989459812,
          0.08003952569169959,
          0.1061264822134387,
          0.06982872200263501,
          0.07028985507246377,
          0.059156785243741766,
          0.06831357048748354,
          0.10309617918313571,
          0.09776021080368907,
          0.08372859025032937,
          0.010210803689064553,
          0.033399209486166,
          0.04789196310935441,
          0.019828722002635045,
          0.019828722002635045,
          0.019828722002635045,
          0,
          0,
          0,
          0,
          0,
          0,
          0,
          0,
          0,
          0,
          0,
          0,
          0,
          0,
          0,
          0,
          0,
          0,
          0,
          0,
          0,
          0,
          0,
          0,
          0,
          0,
          0,
          0,
          0,
          0,
          0,
          0,
          0,
          0,
          0,
          0,
          0,
          0,
          0,
          0,
          0,
          0,
          0,
          0,
          0,
          0,
          0,
          0,
          0,
          0,
          0,
          0,
          0,
          0,
          0,
          0,
          0,
          0,
          0,
          0,
          0,
          0,
          0,
          0,
          0,
          0,
          0,
          0,
          0,
          0,
          0,
          0,
          0
         ]
        },
        {
         "marker": {
          "color": "red",
          "opacity": 0.5,
          "size": 5
         },
         "mode": "lines",
         "name": "Deep RNN",
         "type": "scatter",
         "x": [
          1,
          1,
          1,
          1,
          0.5942028985507246,
          0.4608695652173913,
          0.3884057971014493,
          0.33043478260869563,
          0.3101449275362319,
          0.28405797101449276,
          0.2492753623188406,
          0.22028985507246376,
          0.20579710144927535,
          0.19710144927536233,
          0.1826086956521739,
          0.16521739130434782,
          0.1565217391304348,
          0.14202898550724638,
          0.13623188405797101,
          0.13333333333333333,
          0.1246376811594203,
          0.11594202898550725,
          0.1072463768115942,
          0.09565217391304348,
          0.08115942028985507,
          0.0782608695652174,
          0.06956521739130435,
          0.06956521739130435,
          0.06956521739130435,
          0.06376811594202898,
          0.06086956521739131,
          0.06086956521739131,
          0.06086956521739131,
          0.05507246376811594,
          0.04927536231884058,
          0.04057971014492753,
          0.04057971014492753,
          0.04057971014492753,
          0.03768115942028986,
          0.03188405797101449,
          0.028985507246376812,
          0.02608695652173913,
          0.02608695652173913,
          0.017391304347826087,
          0.017391304347826087,
          0.017391304347826087,
          0.014492753623188406,
          0.008695652173913044,
          0,
          0,
          0,
          0,
          0,
          0,
          0,
          0,
          0,
          0,
          0,
          0,
          0,
          0,
          0,
          0,
          0,
          0,
          0,
          0,
          0,
          0,
          0,
          0,
          0,
          0,
          0,
          0,
          0,
          0,
          0,
          0,
          0,
          0,
          0,
          0,
          0,
          0,
          0,
          0,
          0,
          0,
          0,
          0,
          0,
          0,
          0,
          0,
          0,
          0,
          0,
          0
         ],
         "y": [
          0,
          0,
          0,
          0,
          0.2012516469038208,
          0.15276679841897234,
          0.22523056653491436,
          0.2377470355731226,
          0.2353096179183135,
          0.23866930171277995,
          0.2279973649538867,
          0.21152832674571806,
          0.180566534914361,
          0.18926218708827403,
          0.18102766798418973,
          0.13023715415019765,
          0.13893280632411067,
          0.1534255599472991,
          0.1364953886693017,
          0.13939393939393938,
          0.1480895915678524,
          0.15678524374176545,
          0.1654808959156785,
          0.13162055335968378,
          0.12338603425559949,
          0.10355731225296443,
          0.11225296442687747,
          0.11225296442687747,
          0.11225296442687747,
          0.0953227931488801,
          0.09822134387351777,
          0.09822134387351777,
          0.09822134387351777,
          0.10401844532279314,
          0.1098155467720685,
          0.09578392621870882,
          0.09578392621870882,
          0.09578392621870882,
          0.0986824769433465,
          0.10447957839262187,
          0.10737812911725954,
          0.11027667984189722,
          0.11027667984189722,
          0.07351778656126483,
          0.07351778656126483,
          0.07351778656126483,
          0.05368906455862977,
          0.059486166007905135,
          0,
          0,
          0,
          0,
          0,
          0,
          0,
          0,
          0,
          0,
          0,
          0,
          0,
          0,
          0,
          0,
          0,
          0,
          0,
          0,
          0,
          0,
          0,
          0,
          0,
          0,
          0,
          0,
          0,
          0,
          0,
          0,
          0,
          0,
          0,
          0,
          0,
          0,
          0,
          0,
          0,
          0,
          0,
          0,
          0,
          0,
          0,
          0,
          0,
          0,
          0,
          0
         ]
        },
        {
         "marker": {
          "color": "green",
          "opacity": 0.5,
          "size": 5
         },
         "mode": "lines",
         "name": "RNN with GRU cells",
         "type": "scatter",
         "x": [
          1,
          1,
          1,
          1,
          0.9971014492753624,
          0.8956521739130435,
          0.6463768115942029,
          0.5420289855072464,
          0.48985507246376814,
          0.463768115942029,
          0.40869565217391307,
          0.37681159420289856,
          0.3536231884057971,
          0.3333333333333333,
          0.2927536231884058,
          0.263768115942029,
          0.23478260869565218,
          0.21159420289855072,
          0.1855072463768116,
          0.15072463768115943,
          0.12753623188405797,
          0.10434782608695652,
          0.08695652173913043,
          0.06666666666666667,
          0.0463768115942029,
          0.034782608695652174,
          0.03188405797101449,
          0.02608695652173913,
          0.02318840579710145,
          0.014492753623188406,
          0.011594202898550725,
          0.008695652173913044,
          0.008695652173913044,
          0.008695652173913044,
          0.008695652173913044,
          0.005797101449275362,
          0.005797101449275362,
          0.005797101449275362,
          0.005797101449275362,
          0.002898550724637681,
          0.002898550724637681,
          0.002898550724637681,
          0.002898550724637681,
          0.002898550724637681,
          0.002898550724637681,
          0.002898550724637681,
          0,
          0,
          0,
          0,
          0,
          0,
          0,
          0,
          0,
          0,
          0,
          0,
          0,
          0,
          0,
          0,
          0,
          0,
          0,
          0,
          0,
          0,
          0,
          0,
          0,
          0,
          0,
          0,
          0,
          0,
          0,
          0,
          0,
          0,
          0,
          0,
          0,
          0,
          0,
          0,
          0,
          0,
          0,
          0,
          0,
          0,
          0,
          0,
          0,
          0,
          0,
          0,
          0,
          0
         ],
         "y": [
          0,
          0,
          0,
          0,
          0.0028985507246376274,
          0.05889328063241106,
          0.19453227931488803,
          0.253425559947299,
          0.23741765480895916,
          0.21805006587615278,
          0.22766798418972328,
          0.2595520421607378,
          0.28274044795783926,
          0.30303030303030304,
          0.29815546772068513,
          0.30441370223978925,
          0.28794466403162056,
          0.2884057971014493,
          0.2917654808959157,
          0.28109354413702237,
          0.2588274044795784,
          0.21383399209486165,
          0.18577075098814227,
          0.16060606060606059,
          0.13544137022397892,
          0.07885375494071145,
          0.08175230566534913,
          0.042094861660079044,
          0.04499341238471673,
          0.030961791831357048,
          0.03386034255599473,
          0.014031620553359684,
          0.014031620553359684,
          0.014031620553359684,
          0.014031620553359684,
          -0.005797101449275362,
          -0.005797101449275362,
          -0.005797101449275362,
          -0.005797101449275362,
          -0.002898550724637681,
          -0.002898550724637681,
          -0.002898550724637681,
          -0.002898550724637681,
          -0.002898550724637681,
          -0.002898550724637681,
          -0.002898550724637681,
          0,
          0,
          0,
          0,
          0,
          0,
          0,
          0,
          0,
          0,
          0,
          0,
          0,
          0,
          0,
          0,
          0,
          0,
          0,
          0,
          0,
          0,
          0,
          0,
          0,
          0,
          0,
          0,
          0,
          0,
          0,
          0,
          0,
          0,
          0,
          0,
          0,
          0,
          0,
          0,
          0,
          0,
          0,
          0,
          0,
          0,
          0,
          0,
          0,
          0,
          0,
          0,
          0,
          0
         ]
        },
        {
         "marker": {
          "color": "yellow",
          "opacity": 0.5,
          "size": 5
         },
         "mode": "lines",
         "name": "RNN with LSTM cells",
         "type": "scatter",
         "x": [
          1,
          1,
          1,
          1,
          1,
          0.9188405797101449,
          0.591304347826087,
          0.4463768115942029,
          0.3739130434782609,
          0.34202898550724636,
          0.3101449275362319,
          0.2985507246376812,
          0.26956521739130435,
          0.22028985507246376,
          0.21159420289855072,
          0.19710144927536233,
          0.1855072463768116,
          0.15942028985507245,
          0.1391304347826087,
          0.12173913043478261,
          0.11884057971014493,
          0.1072463768115942,
          0.09855072463768116,
          0.08985507246376812,
          0.08115942028985507,
          0.07246376811594203,
          0.06086956521739131,
          0.057971014492753624,
          0.04927536231884058,
          0.04927536231884058,
          0.0463768115942029,
          0.043478260869565216,
          0.043478260869565216,
          0.04057971014492753,
          0.04057971014492753,
          0.03188405797101449,
          0.02318840579710145,
          0.02318840579710145,
          0.011594202898550725,
          0.008695652173913044,
          0.008695652173913044,
          0.008695652173913044,
          0.005797101449275362,
          0.005797101449275362,
          0.005797101449275362,
          0.005797101449275362,
          0.005797101449275362,
          0.002898550724637681,
          0.002898550724637681,
          0.002898550724637681,
          0.002898550724637681,
          0.002898550724637681,
          0.002898550724637681,
          0.002898550724637681,
          0.002898550724637681,
          0.002898550724637681,
          0.002898550724637681,
          0,
          0,
          0,
          0,
          0,
          0,
          0,
          0,
          0,
          0,
          0,
          0,
          0,
          0,
          0,
          0,
          0,
          0,
          0,
          0,
          0,
          0,
          0,
          0,
          0,
          0,
          0,
          0,
          0,
          0,
          0,
          0,
          0,
          0,
          0,
          0,
          0,
          0,
          0,
          0,
          0,
          0,
          0
         ],
         "y": [
          0,
          0,
          0,
          0,
          0,
          0.03570487483530971,
          0.24960474308300395,
          0.2808959156785244,
          0.2624505928853755,
          0.24888010540184458,
          0.2580368906455863,
          0.24690382081686424,
          0.25316205533596836,
          0.21152832674571806,
          0.2202239789196311,
          0.2119894598155468,
          0.20085638998682476,
          0.2042160737812912,
          0.17905138339920948,
          0.15098814229249008,
          0.15388669301712776,
          0.1427536231884058,
          0.15144927536231884,
          0.16014492753623188,
          0.1461133069828722,
          0.1320816864295125,
          0.12094861660079051,
          0.12384716732542819,
          0.13254281949934124,
          0.13254281949934124,
          0.13544137022397892,
          0.1383399209486166,
          0.1383399209486166,
          0.1412384716732543,
          0.1412384716732543,
          0.10447957839262187,
          0.06772068511198946,
          0.06772068511198946,
          0.05658761528326745,
          0.059486166007905135,
          0.059486166007905135,
          0.059486166007905135,
          0.03965744400527009,
          0.03965744400527009,
          0.03965744400527009,
          0.03965744400527009,
          0.03965744400527009,
          0.019828722002635045,
          0.019828722002635045,
          0.019828722002635045,
          0.019828722002635045,
          0.019828722002635045,
          0.019828722002635045,
          0.019828722002635045,
          0.019828722002635045,
          0.019828722002635045,
          0.019828722002635045,
          0,
          0,
          0,
          0,
          0,
          0,
          0,
          0,
          0,
          0,
          0,
          0,
          0,
          0,
          0,
          0,
          0,
          0,
          0,
          0,
          0,
          0,
          0,
          0,
          0,
          0,
          0,
          0,
          0,
          0,
          0,
          0,
          0,
          0,
          0,
          0,
          0,
          0,
          0,
          0,
          0,
          0,
          0
         ]
        }
       ],
       "layout": {
        "legend": {
         "font": {
          "color": "black",
          "family": "sans-serif",
          "size": 12
         },
         "traceorder": "normal",
         "x": 0.76,
         "y": 0
        },
        "template": {
         "data": {
          "bar": [
           {
            "error_x": {
             "color": "#2a3f5f"
            },
            "error_y": {
             "color": "#2a3f5f"
            },
            "marker": {
             "line": {
              "color": "#E5ECF6",
              "width": 0.5
             }
            },
            "type": "bar"
           }
          ],
          "barpolar": [
           {
            "marker": {
             "line": {
              "color": "#E5ECF6",
              "width": 0.5
             }
            },
            "type": "barpolar"
           }
          ],
          "carpet": [
           {
            "aaxis": {
             "endlinecolor": "#2a3f5f",
             "gridcolor": "white",
             "linecolor": "white",
             "minorgridcolor": "white",
             "startlinecolor": "#2a3f5f"
            },
            "baxis": {
             "endlinecolor": "#2a3f5f",
             "gridcolor": "white",
             "linecolor": "white",
             "minorgridcolor": "white",
             "startlinecolor": "#2a3f5f"
            },
            "type": "carpet"
           }
          ],
          "choropleth": [
           {
            "colorbar": {
             "outlinewidth": 0,
             "ticks": ""
            },
            "type": "choropleth"
           }
          ],
          "contour": [
           {
            "colorbar": {
             "outlinewidth": 0,
             "ticks": ""
            },
            "colorscale": [
             [
              0,
              "#0d0887"
             ],
             [
              0.1111111111111111,
              "#46039f"
             ],
             [
              0.2222222222222222,
              "#7201a8"
             ],
             [
              0.3333333333333333,
              "#9c179e"
             ],
             [
              0.4444444444444444,
              "#bd3786"
             ],
             [
              0.5555555555555556,
              "#d8576b"
             ],
             [
              0.6666666666666666,
              "#ed7953"
             ],
             [
              0.7777777777777778,
              "#fb9f3a"
             ],
             [
              0.8888888888888888,
              "#fdca26"
             ],
             [
              1,
              "#f0f921"
             ]
            ],
            "type": "contour"
           }
          ],
          "contourcarpet": [
           {
            "colorbar": {
             "outlinewidth": 0,
             "ticks": ""
            },
            "type": "contourcarpet"
           }
          ],
          "heatmap": [
           {
            "colorbar": {
             "outlinewidth": 0,
             "ticks": ""
            },
            "colorscale": [
             [
              0,
              "#0d0887"
             ],
             [
              0.1111111111111111,
              "#46039f"
             ],
             [
              0.2222222222222222,
              "#7201a8"
             ],
             [
              0.3333333333333333,
              "#9c179e"
             ],
             [
              0.4444444444444444,
              "#bd3786"
             ],
             [
              0.5555555555555556,
              "#d8576b"
             ],
             [
              0.6666666666666666,
              "#ed7953"
             ],
             [
              0.7777777777777778,
              "#fb9f3a"
             ],
             [
              0.8888888888888888,
              "#fdca26"
             ],
             [
              1,
              "#f0f921"
             ]
            ],
            "type": "heatmap"
           }
          ],
          "heatmapgl": [
           {
            "colorbar": {
             "outlinewidth": 0,
             "ticks": ""
            },
            "colorscale": [
             [
              0,
              "#0d0887"
             ],
             [
              0.1111111111111111,
              "#46039f"
             ],
             [
              0.2222222222222222,
              "#7201a8"
             ],
             [
              0.3333333333333333,
              "#9c179e"
             ],
             [
              0.4444444444444444,
              "#bd3786"
             ],
             [
              0.5555555555555556,
              "#d8576b"
             ],
             [
              0.6666666666666666,
              "#ed7953"
             ],
             [
              0.7777777777777778,
              "#fb9f3a"
             ],
             [
              0.8888888888888888,
              "#fdca26"
             ],
             [
              1,
              "#f0f921"
             ]
            ],
            "type": "heatmapgl"
           }
          ],
          "histogram": [
           {
            "marker": {
             "colorbar": {
              "outlinewidth": 0,
              "ticks": ""
             }
            },
            "type": "histogram"
           }
          ],
          "histogram2d": [
           {
            "colorbar": {
             "outlinewidth": 0,
             "ticks": ""
            },
            "colorscale": [
             [
              0,
              "#0d0887"
             ],
             [
              0.1111111111111111,
              "#46039f"
             ],
             [
              0.2222222222222222,
              "#7201a8"
             ],
             [
              0.3333333333333333,
              "#9c179e"
             ],
             [
              0.4444444444444444,
              "#bd3786"
             ],
             [
              0.5555555555555556,
              "#d8576b"
             ],
             [
              0.6666666666666666,
              "#ed7953"
             ],
             [
              0.7777777777777778,
              "#fb9f3a"
             ],
             [
              0.8888888888888888,
              "#fdca26"
             ],
             [
              1,
              "#f0f921"
             ]
            ],
            "type": "histogram2d"
           }
          ],
          "histogram2dcontour": [
           {
            "colorbar": {
             "outlinewidth": 0,
             "ticks": ""
            },
            "colorscale": [
             [
              0,
              "#0d0887"
             ],
             [
              0.1111111111111111,
              "#46039f"
             ],
             [
              0.2222222222222222,
              "#7201a8"
             ],
             [
              0.3333333333333333,
              "#9c179e"
             ],
             [
              0.4444444444444444,
              "#bd3786"
             ],
             [
              0.5555555555555556,
              "#d8576b"
             ],
             [
              0.6666666666666666,
              "#ed7953"
             ],
             [
              0.7777777777777778,
              "#fb9f3a"
             ],
             [
              0.8888888888888888,
              "#fdca26"
             ],
             [
              1,
              "#f0f921"
             ]
            ],
            "type": "histogram2dcontour"
           }
          ],
          "mesh3d": [
           {
            "colorbar": {
             "outlinewidth": 0,
             "ticks": ""
            },
            "type": "mesh3d"
           }
          ],
          "parcoords": [
           {
            "line": {
             "colorbar": {
              "outlinewidth": 0,
              "ticks": ""
             }
            },
            "type": "parcoords"
           }
          ],
          "scatter": [
           {
            "marker": {
             "colorbar": {
              "outlinewidth": 0,
              "ticks": ""
             }
            },
            "type": "scatter"
           }
          ],
          "scatter3d": [
           {
            "line": {
             "colorbar": {
              "outlinewidth": 0,
              "ticks": ""
             }
            },
            "marker": {
             "colorbar": {
              "outlinewidth": 0,
              "ticks": ""
             }
            },
            "type": "scatter3d"
           }
          ],
          "scattercarpet": [
           {
            "marker": {
             "colorbar": {
              "outlinewidth": 0,
              "ticks": ""
             }
            },
            "type": "scattercarpet"
           }
          ],
          "scattergeo": [
           {
            "marker": {
             "colorbar": {
              "outlinewidth": 0,
              "ticks": ""
             }
            },
            "type": "scattergeo"
           }
          ],
          "scattergl": [
           {
            "marker": {
             "colorbar": {
              "outlinewidth": 0,
              "ticks": ""
             }
            },
            "type": "scattergl"
           }
          ],
          "scattermapbox": [
           {
            "marker": {
             "colorbar": {
              "outlinewidth": 0,
              "ticks": ""
             }
            },
            "type": "scattermapbox"
           }
          ],
          "scatterpolar": [
           {
            "marker": {
             "colorbar": {
              "outlinewidth": 0,
              "ticks": ""
             }
            },
            "type": "scatterpolar"
           }
          ],
          "scatterpolargl": [
           {
            "marker": {
             "colorbar": {
              "outlinewidth": 0,
              "ticks": ""
             }
            },
            "type": "scatterpolargl"
           }
          ],
          "scatterternary": [
           {
            "marker": {
             "colorbar": {
              "outlinewidth": 0,
              "ticks": ""
             }
            },
            "type": "scatterternary"
           }
          ],
          "surface": [
           {
            "colorbar": {
             "outlinewidth": 0,
             "ticks": ""
            },
            "colorscale": [
             [
              0,
              "#0d0887"
             ],
             [
              0.1111111111111111,
              "#46039f"
             ],
             [
              0.2222222222222222,
              "#7201a8"
             ],
             [
              0.3333333333333333,
              "#9c179e"
             ],
             [
              0.4444444444444444,
              "#bd3786"
             ],
             [
              0.5555555555555556,
              "#d8576b"
             ],
             [
              0.6666666666666666,
              "#ed7953"
             ],
             [
              0.7777777777777778,
              "#fb9f3a"
             ],
             [
              0.8888888888888888,
              "#fdca26"
             ],
             [
              1,
              "#f0f921"
             ]
            ],
            "type": "surface"
           }
          ],
          "table": [
           {
            "cells": {
             "fill": {
              "color": "#EBF0F8"
             },
             "line": {
              "color": "white"
             }
            },
            "header": {
             "fill": {
              "color": "#C8D4E3"
             },
             "line": {
              "color": "white"
             }
            },
            "type": "table"
           }
          ]
         },
         "layout": {
          "annotationdefaults": {
           "arrowcolor": "#2a3f5f",
           "arrowhead": 0,
           "arrowwidth": 1
          },
          "colorscale": {
           "diverging": [
            [
             0,
             "#8e0152"
            ],
            [
             0.1,
             "#c51b7d"
            ],
            [
             0.2,
             "#de77ae"
            ],
            [
             0.3,
             "#f1b6da"
            ],
            [
             0.4,
             "#fde0ef"
            ],
            [
             0.5,
             "#f7f7f7"
            ],
            [
             0.6,
             "#e6f5d0"
            ],
            [
             0.7,
             "#b8e186"
            ],
            [
             0.8,
             "#7fbc41"
            ],
            [
             0.9,
             "#4d9221"
            ],
            [
             1,
             "#276419"
            ]
           ],
           "sequential": [
            [
             0,
             "#0d0887"
            ],
            [
             0.1111111111111111,
             "#46039f"
            ],
            [
             0.2222222222222222,
             "#7201a8"
            ],
            [
             0.3333333333333333,
             "#9c179e"
            ],
            [
             0.4444444444444444,
             "#bd3786"
            ],
            [
             0.5555555555555556,
             "#d8576b"
            ],
            [
             0.6666666666666666,
             "#ed7953"
            ],
            [
             0.7777777777777778,
             "#fb9f3a"
            ],
            [
             0.8888888888888888,
             "#fdca26"
            ],
            [
             1,
             "#f0f921"
            ]
           ],
           "sequentialminus": [
            [
             0,
             "#0d0887"
            ],
            [
             0.1111111111111111,
             "#46039f"
            ],
            [
             0.2222222222222222,
             "#7201a8"
            ],
            [
             0.3333333333333333,
             "#9c179e"
            ],
            [
             0.4444444444444444,
             "#bd3786"
            ],
            [
             0.5555555555555556,
             "#d8576b"
            ],
            [
             0.6666666666666666,
             "#ed7953"
            ],
            [
             0.7777777777777778,
             "#fb9f3a"
            ],
            [
             0.8888888888888888,
             "#fdca26"
            ],
            [
             1,
             "#f0f921"
            ]
           ]
          },
          "colorway": [
           "#636efa",
           "#EF553B",
           "#00cc96",
           "#ab63fa",
           "#FFA15A",
           "#19d3f3",
           "#FF6692",
           "#B6E880",
           "#FF97FF",
           "#FECB52"
          ],
          "font": {
           "color": "#2a3f5f"
          },
          "geo": {
           "bgcolor": "white",
           "lakecolor": "white",
           "landcolor": "#E5ECF6",
           "showlakes": true,
           "showland": true,
           "subunitcolor": "white"
          },
          "hoverlabel": {
           "align": "left"
          },
          "hovermode": "closest",
          "mapbox": {
           "style": "light"
          },
          "paper_bgcolor": "white",
          "plot_bgcolor": "#E5ECF6",
          "polar": {
           "angularaxis": {
            "gridcolor": "white",
            "linecolor": "white",
            "ticks": ""
           },
           "bgcolor": "#E5ECF6",
           "radialaxis": {
            "gridcolor": "white",
            "linecolor": "white",
            "ticks": ""
           }
          },
          "scene": {
           "xaxis": {
            "backgroundcolor": "#E5ECF6",
            "gridcolor": "white",
            "gridwidth": 2,
            "linecolor": "white",
            "showbackground": true,
            "ticks": "",
            "zerolinecolor": "white"
           },
           "yaxis": {
            "backgroundcolor": "#E5ECF6",
            "gridcolor": "white",
            "gridwidth": 2,
            "linecolor": "white",
            "showbackground": true,
            "ticks": "",
            "zerolinecolor": "white"
           },
           "zaxis": {
            "backgroundcolor": "#E5ECF6",
            "gridcolor": "white",
            "gridwidth": 2,
            "linecolor": "white",
            "showbackground": true,
            "ticks": "",
            "zerolinecolor": "white"
           }
          },
          "shapedefaults": {
           "line": {
            "color": "#2a3f5f"
           }
          },
          "ternary": {
           "aaxis": {
            "gridcolor": "white",
            "linecolor": "white",
            "ticks": ""
           },
           "baxis": {
            "gridcolor": "white",
            "linecolor": "white",
            "ticks": ""
           },
           "bgcolor": "#E5ECF6",
           "caxis": {
            "gridcolor": "white",
            "linecolor": "white",
            "ticks": ""
           }
          },
          "title": {
           "x": 0.05
          },
          "xaxis": {
           "automargin": true,
           "gridcolor": "white",
           "linecolor": "white",
           "ticks": "",
           "zerolinecolor": "white",
           "zerolinewidth": 2
          },
          "yaxis": {
           "automargin": true,
           "gridcolor": "white",
           "linecolor": "white",
           "ticks": "",
           "zerolinecolor": "white",
           "zerolinewidth": 2
          }
         }
        },
        "title": {
         "text": "Recall surplus in relation to Postives Share"
        },
        "xaxis": {
         "range": [
          0,
          0.4
         ],
         "title": {
          "text": "Positives share"
         }
        },
        "yaxis": {
         "title": {
          "text": "Recall surplus"
         }
        }
       }
      },
      "text/html": [
       "<div>\n",
       "        \n",
       "        \n",
       "            <div id=\"9cff9270-3f22-425d-b06d-bf00753b673b\" class=\"plotly-graph-div\" style=\"height:525px; width:100%;\"></div>\n",
       "            <script type=\"text/javascript\">\n",
       "                require([\"plotly\"], function(Plotly) {\n",
       "                    window.PLOTLYENV=window.PLOTLYENV || {};\n",
       "                    \n",
       "                if (document.getElementById(\"9cff9270-3f22-425d-b06d-bf00753b673b\")) {\n",
       "                    Plotly.newPlot(\n",
       "                        '9cff9270-3f22-425d-b06d-bf00753b673b',\n",
       "                        [{\"marker\": {\"color\": \"blue\", \"opacity\": 0.5, \"size\": 5}, \"mode\": \"lines\", \"name\": \"Single RNN layer\", \"type\": \"scatter\", \"x\": [1.0, 1.0, 1.0, 1.0, 1.0, 1.0, 1.0, 0.8144927536231884, 0.5739130434782609, 0.43478260869565216, 0.34492753623188405, 0.28405797101449276, 0.2608695652173913, 0.23478260869565218, 0.2028985507246377, 0.17971014492753623, 0.1681159420289855, 0.13623188405797101, 0.10144927536231885, 0.08405797101449275, 0.07536231884057971, 0.057971014492753624, 0.034782608695652174, 0.020289855072463767, 0.002898550724637681, 0.002898550724637681, 0.002898550724637681, 0.0, 0.0, 0.0, 0.0, 0.0, 0.0, 0.0, 0.0, 0.0, 0.0, 0.0, 0.0, 0.0, 0.0, 0.0, 0.0, 0.0, 0.0, 0.0, 0.0, 0.0, 0.0, 0.0, 0.0, 0.0, 0.0, 0.0, 0.0, 0.0, 0.0, 0.0, 0.0, 0.0, 0.0, 0.0, 0.0, 0.0, 0.0, 0.0, 0.0, 0.0, 0.0, 0.0, 0.0, 0.0, 0.0, 0.0, 0.0, 0.0, 0.0, 0.0, 0.0, 0.0, 0.0, 0.0, 0.0, 0.0, 0.0, 0.0, 0.0, 0.0, 0.0, 0.0, 0.0, 0.0, 0.0, 0.0, 0.0, 0.0, 0.0, 0.0, 0.0, 0.0], \"y\": [0.0, 0.0, 0.0, 0.0, 0.0, 0.0, 0.0, 0.04914361001317524, 0.08517786561264817, -0.0029644268774703386, 0.04143610013175231, 0.05685111989459812, 0.08003952569169959, 0.1061264822134387, 0.06982872200263501, 0.07028985507246377, 0.059156785243741766, 0.06831357048748354, 0.10309617918313571, 0.09776021080368907, 0.08372859025032937, 0.010210803689064553, 0.033399209486166, 0.04789196310935441, 0.019828722002635045, 0.019828722002635045, 0.019828722002635045, 0.0, 0.0, 0.0, 0.0, 0.0, 0.0, 0.0, 0.0, 0.0, 0.0, 0.0, 0.0, 0.0, 0.0, 0.0, 0.0, 0.0, 0.0, 0.0, 0.0, 0.0, 0.0, 0.0, 0.0, 0.0, 0.0, 0.0, 0.0, 0.0, 0.0, 0.0, 0.0, 0.0, 0.0, 0.0, 0.0, 0.0, 0.0, 0.0, 0.0, 0.0, 0.0, 0.0, 0.0, 0.0, 0.0, 0.0, 0.0, 0.0, 0.0, 0.0, 0.0, 0.0, 0.0, 0.0, 0.0, 0.0, 0.0, 0.0, 0.0, 0.0, 0.0, 0.0, 0.0, 0.0, 0.0, 0.0, 0.0, 0.0, 0.0, 0.0, 0.0, 0.0]}, {\"marker\": {\"color\": \"red\", \"opacity\": 0.5, \"size\": 5}, \"mode\": \"lines\", \"name\": \"Deep RNN\", \"type\": \"scatter\", \"x\": [1.0, 1.0, 1.0, 1.0, 0.5942028985507246, 0.4608695652173913, 0.3884057971014493, 0.33043478260869563, 0.3101449275362319, 0.28405797101449276, 0.2492753623188406, 0.22028985507246376, 0.20579710144927535, 0.19710144927536233, 0.1826086956521739, 0.16521739130434782, 0.1565217391304348, 0.14202898550724638, 0.13623188405797101, 0.13333333333333333, 0.1246376811594203, 0.11594202898550725, 0.1072463768115942, 0.09565217391304348, 0.08115942028985507, 0.0782608695652174, 0.06956521739130435, 0.06956521739130435, 0.06956521739130435, 0.06376811594202898, 0.06086956521739131, 0.06086956521739131, 0.06086956521739131, 0.05507246376811594, 0.04927536231884058, 0.04057971014492753, 0.04057971014492753, 0.04057971014492753, 0.03768115942028986, 0.03188405797101449, 0.028985507246376812, 0.02608695652173913, 0.02608695652173913, 0.017391304347826087, 0.017391304347826087, 0.017391304347826087, 0.014492753623188406, 0.008695652173913044, 0.0, 0.0, 0.0, 0.0, 0.0, 0.0, 0.0, 0.0, 0.0, 0.0, 0.0, 0.0, 0.0, 0.0, 0.0, 0.0, 0.0, 0.0, 0.0, 0.0, 0.0, 0.0, 0.0, 0.0, 0.0, 0.0, 0.0, 0.0, 0.0, 0.0, 0.0, 0.0, 0.0, 0.0, 0.0, 0.0, 0.0, 0.0, 0.0, 0.0, 0.0, 0.0, 0.0, 0.0, 0.0, 0.0, 0.0, 0.0, 0.0, 0.0, 0.0, 0.0], \"y\": [0.0, 0.0, 0.0, 0.0, 0.2012516469038208, 0.15276679841897234, 0.22523056653491436, 0.2377470355731226, 0.2353096179183135, 0.23866930171277995, 0.2279973649538867, 0.21152832674571806, 0.180566534914361, 0.18926218708827403, 0.18102766798418973, 0.13023715415019765, 0.13893280632411067, 0.1534255599472991, 0.1364953886693017, 0.13939393939393938, 0.1480895915678524, 0.15678524374176545, 0.1654808959156785, 0.13162055335968378, 0.12338603425559949, 0.10355731225296443, 0.11225296442687747, 0.11225296442687747, 0.11225296442687747, 0.0953227931488801, 0.09822134387351777, 0.09822134387351777, 0.09822134387351777, 0.10401844532279314, 0.1098155467720685, 0.09578392621870882, 0.09578392621870882, 0.09578392621870882, 0.0986824769433465, 0.10447957839262187, 0.10737812911725954, 0.11027667984189722, 0.11027667984189722, 0.07351778656126483, 0.07351778656126483, 0.07351778656126483, 0.05368906455862977, 0.059486166007905135, 0.0, 0.0, 0.0, 0.0, 0.0, 0.0, 0.0, 0.0, 0.0, 0.0, 0.0, 0.0, 0.0, 0.0, 0.0, 0.0, 0.0, 0.0, 0.0, 0.0, 0.0, 0.0, 0.0, 0.0, 0.0, 0.0, 0.0, 0.0, 0.0, 0.0, 0.0, 0.0, 0.0, 0.0, 0.0, 0.0, 0.0, 0.0, 0.0, 0.0, 0.0, 0.0, 0.0, 0.0, 0.0, 0.0, 0.0, 0.0, 0.0, 0.0, 0.0, 0.0]}, {\"marker\": {\"color\": \"green\", \"opacity\": 0.5, \"size\": 5}, \"mode\": \"lines\", \"name\": \"RNN with GRU cells\", \"type\": \"scatter\", \"x\": [1.0, 1.0, 1.0, 1.0, 0.9971014492753624, 0.8956521739130435, 0.6463768115942029, 0.5420289855072464, 0.48985507246376814, 0.463768115942029, 0.40869565217391307, 0.37681159420289856, 0.3536231884057971, 0.3333333333333333, 0.2927536231884058, 0.263768115942029, 0.23478260869565218, 0.21159420289855072, 0.1855072463768116, 0.15072463768115943, 0.12753623188405797, 0.10434782608695652, 0.08695652173913043, 0.06666666666666667, 0.0463768115942029, 0.034782608695652174, 0.03188405797101449, 0.02608695652173913, 0.02318840579710145, 0.014492753623188406, 0.011594202898550725, 0.008695652173913044, 0.008695652173913044, 0.008695652173913044, 0.008695652173913044, 0.005797101449275362, 0.005797101449275362, 0.005797101449275362, 0.005797101449275362, 0.002898550724637681, 0.002898550724637681, 0.002898550724637681, 0.002898550724637681, 0.002898550724637681, 0.002898550724637681, 0.002898550724637681, 0.0, 0.0, 0.0, 0.0, 0.0, 0.0, 0.0, 0.0, 0.0, 0.0, 0.0, 0.0, 0.0, 0.0, 0.0, 0.0, 0.0, 0.0, 0.0, 0.0, 0.0, 0.0, 0.0, 0.0, 0.0, 0.0, 0.0, 0.0, 0.0, 0.0, 0.0, 0.0, 0.0, 0.0, 0.0, 0.0, 0.0, 0.0, 0.0, 0.0, 0.0, 0.0, 0.0, 0.0, 0.0, 0.0, 0.0, 0.0, 0.0, 0.0, 0.0, 0.0, 0.0, 0.0], \"y\": [0.0, 0.0, 0.0, 0.0, 0.0028985507246376274, 0.05889328063241106, 0.19453227931488803, 0.253425559947299, 0.23741765480895916, 0.21805006587615278, 0.22766798418972328, 0.2595520421607378, 0.28274044795783926, 0.30303030303030304, 0.29815546772068513, 0.30441370223978925, 0.28794466403162056, 0.2884057971014493, 0.2917654808959157, 0.28109354413702237, 0.2588274044795784, 0.21383399209486165, 0.18577075098814227, 0.16060606060606059, 0.13544137022397892, 0.07885375494071145, 0.08175230566534913, 0.042094861660079044, 0.04499341238471673, 0.030961791831357048, 0.03386034255599473, 0.014031620553359684, 0.014031620553359684, 0.014031620553359684, 0.014031620553359684, -0.005797101449275362, -0.005797101449275362, -0.005797101449275362, -0.005797101449275362, -0.002898550724637681, -0.002898550724637681, -0.002898550724637681, -0.002898550724637681, -0.002898550724637681, -0.002898550724637681, -0.002898550724637681, 0.0, 0.0, 0.0, 0.0, 0.0, 0.0, 0.0, 0.0, 0.0, 0.0, 0.0, 0.0, 0.0, 0.0, 0.0, 0.0, 0.0, 0.0, 0.0, 0.0, 0.0, 0.0, 0.0, 0.0, 0.0, 0.0, 0.0, 0.0, 0.0, 0.0, 0.0, 0.0, 0.0, 0.0, 0.0, 0.0, 0.0, 0.0, 0.0, 0.0, 0.0, 0.0, 0.0, 0.0, 0.0, 0.0, 0.0, 0.0, 0.0, 0.0, 0.0, 0.0, 0.0, 0.0]}, {\"marker\": {\"color\": \"yellow\", \"opacity\": 0.5, \"size\": 5}, \"mode\": \"lines\", \"name\": \"RNN with LSTM cells\", \"type\": \"scatter\", \"x\": [1.0, 1.0, 1.0, 1.0, 1.0, 0.9188405797101449, 0.591304347826087, 0.4463768115942029, 0.3739130434782609, 0.34202898550724636, 0.3101449275362319, 0.2985507246376812, 0.26956521739130435, 0.22028985507246376, 0.21159420289855072, 0.19710144927536233, 0.1855072463768116, 0.15942028985507245, 0.1391304347826087, 0.12173913043478261, 0.11884057971014493, 0.1072463768115942, 0.09855072463768116, 0.08985507246376812, 0.08115942028985507, 0.07246376811594203, 0.06086956521739131, 0.057971014492753624, 0.04927536231884058, 0.04927536231884058, 0.0463768115942029, 0.043478260869565216, 0.043478260869565216, 0.04057971014492753, 0.04057971014492753, 0.03188405797101449, 0.02318840579710145, 0.02318840579710145, 0.011594202898550725, 0.008695652173913044, 0.008695652173913044, 0.008695652173913044, 0.005797101449275362, 0.005797101449275362, 0.005797101449275362, 0.005797101449275362, 0.005797101449275362, 0.002898550724637681, 0.002898550724637681, 0.002898550724637681, 0.002898550724637681, 0.002898550724637681, 0.002898550724637681, 0.002898550724637681, 0.002898550724637681, 0.002898550724637681, 0.002898550724637681, 0.0, 0.0, 0.0, 0.0, 0.0, 0.0, 0.0, 0.0, 0.0, 0.0, 0.0, 0.0, 0.0, 0.0, 0.0, 0.0, 0.0, 0.0, 0.0, 0.0, 0.0, 0.0, 0.0, 0.0, 0.0, 0.0, 0.0, 0.0, 0.0, 0.0, 0.0, 0.0, 0.0, 0.0, 0.0, 0.0, 0.0, 0.0, 0.0, 0.0, 0.0, 0.0, 0.0], \"y\": [0.0, 0.0, 0.0, 0.0, 0.0, 0.03570487483530971, 0.24960474308300395, 0.2808959156785244, 0.2624505928853755, 0.24888010540184458, 0.2580368906455863, 0.24690382081686424, 0.25316205533596836, 0.21152832674571806, 0.2202239789196311, 0.2119894598155468, 0.20085638998682476, 0.2042160737812912, 0.17905138339920948, 0.15098814229249008, 0.15388669301712776, 0.1427536231884058, 0.15144927536231884, 0.16014492753623188, 0.1461133069828722, 0.1320816864295125, 0.12094861660079051, 0.12384716732542819, 0.13254281949934124, 0.13254281949934124, 0.13544137022397892, 0.1383399209486166, 0.1383399209486166, 0.1412384716732543, 0.1412384716732543, 0.10447957839262187, 0.06772068511198946, 0.06772068511198946, 0.05658761528326745, 0.059486166007905135, 0.059486166007905135, 0.059486166007905135, 0.03965744400527009, 0.03965744400527009, 0.03965744400527009, 0.03965744400527009, 0.03965744400527009, 0.019828722002635045, 0.019828722002635045, 0.019828722002635045, 0.019828722002635045, 0.019828722002635045, 0.019828722002635045, 0.019828722002635045, 0.019828722002635045, 0.019828722002635045, 0.019828722002635045, 0.0, 0.0, 0.0, 0.0, 0.0, 0.0, 0.0, 0.0, 0.0, 0.0, 0.0, 0.0, 0.0, 0.0, 0.0, 0.0, 0.0, 0.0, 0.0, 0.0, 0.0, 0.0, 0.0, 0.0, 0.0, 0.0, 0.0, 0.0, 0.0, 0.0, 0.0, 0.0, 0.0, 0.0, 0.0, 0.0, 0.0, 0.0, 0.0, 0.0, 0.0, 0.0, 0.0]}],\n",
       "                        {\"legend\": {\"font\": {\"color\": \"black\", \"family\": \"sans-serif\", \"size\": 12}, \"traceorder\": \"normal\", \"x\": 0.76, \"y\": 0}, \"template\": {\"data\": {\"bar\": [{\"error_x\": {\"color\": \"#2a3f5f\"}, \"error_y\": {\"color\": \"#2a3f5f\"}, \"marker\": {\"line\": {\"color\": \"#E5ECF6\", \"width\": 0.5}}, \"type\": \"bar\"}], \"barpolar\": [{\"marker\": {\"line\": {\"color\": \"#E5ECF6\", \"width\": 0.5}}, \"type\": \"barpolar\"}], \"carpet\": [{\"aaxis\": {\"endlinecolor\": \"#2a3f5f\", \"gridcolor\": \"white\", \"linecolor\": \"white\", \"minorgridcolor\": \"white\", \"startlinecolor\": \"#2a3f5f\"}, \"baxis\": {\"endlinecolor\": \"#2a3f5f\", \"gridcolor\": \"white\", \"linecolor\": \"white\", \"minorgridcolor\": \"white\", \"startlinecolor\": \"#2a3f5f\"}, \"type\": \"carpet\"}], \"choropleth\": [{\"colorbar\": {\"outlinewidth\": 0, \"ticks\": \"\"}, \"type\": \"choropleth\"}], \"contour\": [{\"colorbar\": {\"outlinewidth\": 0, \"ticks\": \"\"}, \"colorscale\": [[0.0, \"#0d0887\"], [0.1111111111111111, \"#46039f\"], [0.2222222222222222, \"#7201a8\"], [0.3333333333333333, \"#9c179e\"], [0.4444444444444444, \"#bd3786\"], [0.5555555555555556, \"#d8576b\"], [0.6666666666666666, \"#ed7953\"], [0.7777777777777778, \"#fb9f3a\"], [0.8888888888888888, \"#fdca26\"], [1.0, \"#f0f921\"]], \"type\": \"contour\"}], \"contourcarpet\": [{\"colorbar\": {\"outlinewidth\": 0, \"ticks\": \"\"}, \"type\": \"contourcarpet\"}], \"heatmap\": [{\"colorbar\": {\"outlinewidth\": 0, \"ticks\": \"\"}, \"colorscale\": [[0.0, \"#0d0887\"], [0.1111111111111111, \"#46039f\"], [0.2222222222222222, \"#7201a8\"], [0.3333333333333333, \"#9c179e\"], [0.4444444444444444, \"#bd3786\"], [0.5555555555555556, \"#d8576b\"], [0.6666666666666666, \"#ed7953\"], [0.7777777777777778, \"#fb9f3a\"], [0.8888888888888888, \"#fdca26\"], [1.0, \"#f0f921\"]], \"type\": \"heatmap\"}], \"heatmapgl\": [{\"colorbar\": {\"outlinewidth\": 0, \"ticks\": \"\"}, \"colorscale\": [[0.0, \"#0d0887\"], [0.1111111111111111, \"#46039f\"], [0.2222222222222222, \"#7201a8\"], [0.3333333333333333, \"#9c179e\"], [0.4444444444444444, \"#bd3786\"], [0.5555555555555556, \"#d8576b\"], [0.6666666666666666, \"#ed7953\"], [0.7777777777777778, \"#fb9f3a\"], [0.8888888888888888, \"#fdca26\"], [1.0, \"#f0f921\"]], \"type\": \"heatmapgl\"}], \"histogram\": [{\"marker\": {\"colorbar\": {\"outlinewidth\": 0, \"ticks\": \"\"}}, \"type\": \"histogram\"}], \"histogram2d\": [{\"colorbar\": {\"outlinewidth\": 0, \"ticks\": \"\"}, \"colorscale\": [[0.0, \"#0d0887\"], [0.1111111111111111, \"#46039f\"], [0.2222222222222222, \"#7201a8\"], [0.3333333333333333, \"#9c179e\"], [0.4444444444444444, \"#bd3786\"], [0.5555555555555556, \"#d8576b\"], [0.6666666666666666, \"#ed7953\"], [0.7777777777777778, \"#fb9f3a\"], [0.8888888888888888, \"#fdca26\"], [1.0, \"#f0f921\"]], \"type\": \"histogram2d\"}], \"histogram2dcontour\": [{\"colorbar\": {\"outlinewidth\": 0, \"ticks\": \"\"}, \"colorscale\": [[0.0, \"#0d0887\"], [0.1111111111111111, \"#46039f\"], [0.2222222222222222, \"#7201a8\"], [0.3333333333333333, \"#9c179e\"], [0.4444444444444444, \"#bd3786\"], [0.5555555555555556, \"#d8576b\"], [0.6666666666666666, \"#ed7953\"], [0.7777777777777778, \"#fb9f3a\"], [0.8888888888888888, \"#fdca26\"], [1.0, \"#f0f921\"]], \"type\": \"histogram2dcontour\"}], \"mesh3d\": [{\"colorbar\": {\"outlinewidth\": 0, \"ticks\": \"\"}, \"type\": \"mesh3d\"}], \"parcoords\": [{\"line\": {\"colorbar\": {\"outlinewidth\": 0, \"ticks\": \"\"}}, \"type\": \"parcoords\"}], \"scatter\": [{\"marker\": {\"colorbar\": {\"outlinewidth\": 0, \"ticks\": \"\"}}, \"type\": \"scatter\"}], \"scatter3d\": [{\"line\": {\"colorbar\": {\"outlinewidth\": 0, \"ticks\": \"\"}}, \"marker\": {\"colorbar\": {\"outlinewidth\": 0, \"ticks\": \"\"}}, \"type\": \"scatter3d\"}], \"scattercarpet\": [{\"marker\": {\"colorbar\": {\"outlinewidth\": 0, \"ticks\": \"\"}}, \"type\": \"scattercarpet\"}], \"scattergeo\": [{\"marker\": {\"colorbar\": {\"outlinewidth\": 0, \"ticks\": \"\"}}, \"type\": \"scattergeo\"}], \"scattergl\": [{\"marker\": {\"colorbar\": {\"outlinewidth\": 0, \"ticks\": \"\"}}, \"type\": \"scattergl\"}], \"scattermapbox\": [{\"marker\": {\"colorbar\": {\"outlinewidth\": 0, \"ticks\": \"\"}}, \"type\": \"scattermapbox\"}], \"scatterpolar\": [{\"marker\": {\"colorbar\": {\"outlinewidth\": 0, \"ticks\": \"\"}}, \"type\": \"scatterpolar\"}], \"scatterpolargl\": [{\"marker\": {\"colorbar\": {\"outlinewidth\": 0, \"ticks\": \"\"}}, \"type\": \"scatterpolargl\"}], \"scatterternary\": [{\"marker\": {\"colorbar\": {\"outlinewidth\": 0, \"ticks\": \"\"}}, \"type\": \"scatterternary\"}], \"surface\": [{\"colorbar\": {\"outlinewidth\": 0, \"ticks\": \"\"}, \"colorscale\": [[0.0, \"#0d0887\"], [0.1111111111111111, \"#46039f\"], [0.2222222222222222, \"#7201a8\"], [0.3333333333333333, \"#9c179e\"], [0.4444444444444444, \"#bd3786\"], [0.5555555555555556, \"#d8576b\"], [0.6666666666666666, \"#ed7953\"], [0.7777777777777778, \"#fb9f3a\"], [0.8888888888888888, \"#fdca26\"], [1.0, \"#f0f921\"]], \"type\": \"surface\"}], \"table\": [{\"cells\": {\"fill\": {\"color\": \"#EBF0F8\"}, \"line\": {\"color\": \"white\"}}, \"header\": {\"fill\": {\"color\": \"#C8D4E3\"}, \"line\": {\"color\": \"white\"}}, \"type\": \"table\"}]}, \"layout\": {\"annotationdefaults\": {\"arrowcolor\": \"#2a3f5f\", \"arrowhead\": 0, \"arrowwidth\": 1}, \"colorscale\": {\"diverging\": [[0, \"#8e0152\"], [0.1, \"#c51b7d\"], [0.2, \"#de77ae\"], [0.3, \"#f1b6da\"], [0.4, \"#fde0ef\"], [0.5, \"#f7f7f7\"], [0.6, \"#e6f5d0\"], [0.7, \"#b8e186\"], [0.8, \"#7fbc41\"], [0.9, \"#4d9221\"], [1, \"#276419\"]], \"sequential\": [[0.0, \"#0d0887\"], [0.1111111111111111, \"#46039f\"], [0.2222222222222222, \"#7201a8\"], [0.3333333333333333, \"#9c179e\"], [0.4444444444444444, \"#bd3786\"], [0.5555555555555556, \"#d8576b\"], [0.6666666666666666, \"#ed7953\"], [0.7777777777777778, \"#fb9f3a\"], [0.8888888888888888, \"#fdca26\"], [1.0, \"#f0f921\"]], \"sequentialminus\": [[0.0, \"#0d0887\"], [0.1111111111111111, \"#46039f\"], [0.2222222222222222, \"#7201a8\"], [0.3333333333333333, \"#9c179e\"], [0.4444444444444444, \"#bd3786\"], [0.5555555555555556, \"#d8576b\"], [0.6666666666666666, \"#ed7953\"], [0.7777777777777778, \"#fb9f3a\"], [0.8888888888888888, \"#fdca26\"], [1.0, \"#f0f921\"]]}, \"colorway\": [\"#636efa\", \"#EF553B\", \"#00cc96\", \"#ab63fa\", \"#FFA15A\", \"#19d3f3\", \"#FF6692\", \"#B6E880\", \"#FF97FF\", \"#FECB52\"], \"font\": {\"color\": \"#2a3f5f\"}, \"geo\": {\"bgcolor\": \"white\", \"lakecolor\": \"white\", \"landcolor\": \"#E5ECF6\", \"showlakes\": true, \"showland\": true, \"subunitcolor\": \"white\"}, \"hoverlabel\": {\"align\": \"left\"}, \"hovermode\": \"closest\", \"mapbox\": {\"style\": \"light\"}, \"paper_bgcolor\": \"white\", \"plot_bgcolor\": \"#E5ECF6\", \"polar\": {\"angularaxis\": {\"gridcolor\": \"white\", \"linecolor\": \"white\", \"ticks\": \"\"}, \"bgcolor\": \"#E5ECF6\", \"radialaxis\": {\"gridcolor\": \"white\", \"linecolor\": \"white\", \"ticks\": \"\"}}, \"scene\": {\"xaxis\": {\"backgroundcolor\": \"#E5ECF6\", \"gridcolor\": \"white\", \"gridwidth\": 2, \"linecolor\": \"white\", \"showbackground\": true, \"ticks\": \"\", \"zerolinecolor\": \"white\"}, \"yaxis\": {\"backgroundcolor\": \"#E5ECF6\", \"gridcolor\": \"white\", \"gridwidth\": 2, \"linecolor\": \"white\", \"showbackground\": true, \"ticks\": \"\", \"zerolinecolor\": \"white\"}, \"zaxis\": {\"backgroundcolor\": \"#E5ECF6\", \"gridcolor\": \"white\", \"gridwidth\": 2, \"linecolor\": \"white\", \"showbackground\": true, \"ticks\": \"\", \"zerolinecolor\": \"white\"}}, \"shapedefaults\": {\"line\": {\"color\": \"#2a3f5f\"}}, \"ternary\": {\"aaxis\": {\"gridcolor\": \"white\", \"linecolor\": \"white\", \"ticks\": \"\"}, \"baxis\": {\"gridcolor\": \"white\", \"linecolor\": \"white\", \"ticks\": \"\"}, \"bgcolor\": \"#E5ECF6\", \"caxis\": {\"gridcolor\": \"white\", \"linecolor\": \"white\", \"ticks\": \"\"}}, \"title\": {\"x\": 0.05}, \"xaxis\": {\"automargin\": true, \"gridcolor\": \"white\", \"linecolor\": \"white\", \"ticks\": \"\", \"zerolinecolor\": \"white\", \"zerolinewidth\": 2}, \"yaxis\": {\"automargin\": true, \"gridcolor\": \"white\", \"linecolor\": \"white\", \"ticks\": \"\", \"zerolinecolor\": \"white\", \"zerolinewidth\": 2}}}, \"title\": {\"text\": \"Recall surplus in relation to Postives Share\"}, \"xaxis\": {\"range\": [0, 0.4], \"title\": {\"text\": \"Positives share\"}}, \"yaxis\": {\"title\": {\"text\": \"Recall surplus\"}}},\n",
       "                        {\"responsive\": true}\n",
       "                    ).then(function(){\n",
       "                            \n",
       "var gd = document.getElementById('9cff9270-3f22-425d-b06d-bf00753b673b');\n",
       "var x = new MutationObserver(function (mutations, observer) {{\n",
       "        var display = window.getComputedStyle(gd).display;\n",
       "        if (!display || display === 'none') {{\n",
       "            console.log([gd, 'removed!']);\n",
       "            Plotly.purge(gd);\n",
       "            observer.disconnect();\n",
       "        }}\n",
       "}});\n",
       "\n",
       "// Listen for the removal of the full notebook cells\n",
       "var notebookContainer = gd.closest('#notebook-container');\n",
       "if (notebookContainer) {{\n",
       "    x.observe(notebookContainer, {childList: true});\n",
       "}}\n",
       "\n",
       "// Listen for the clearing of the current output cell\n",
       "var outputEl = gd.closest('.output');\n",
       "if (outputEl) {{\n",
       "    x.observe(outputEl, {childList: true});\n",
       "}}\n",
       "\n",
       "                        })\n",
       "                };\n",
       "                });\n",
       "            </script>\n",
       "        </div>"
      ]
     },
     "metadata": {},
     "output_type": "display_data"
    }
   ],
   "source": [
    "    trace0=go.Scatter(\n",
    "            y=rnn_pr_test.recall-rnn_pr_test.positives_share,\n",
    "            x=rnn_pr_test.positives_share,\n",
    "            mode='lines',\n",
    "            marker=dict(\n",
    "            color=\"blue\",\n",
    "            size=5,\n",
    "            opacity=0.5\n",
    "            ),\n",
    "            name=\"Single RNN layer\"\n",
    "        )\n",
    "    \n",
    "    trace1=go.Scatter(\n",
    "            y=drnn_pr_test.recall-drnn_pr_test.positives_share,\n",
    "            x=drnn_pr_test.positives_share,\n",
    "            mode='lines',\n",
    "            marker=dict(\n",
    "            color=\"red\",\n",
    "            size=5,\n",
    "            opacity=0.5\n",
    "            ),\n",
    "            name=\"Deep RNN\"\n",
    "        )\n",
    "    \n",
    "    trace2=go.Scatter(\n",
    "            y=gru_pr_test.recall-gru_pr_test.positives_share,\n",
    "            x=gru_pr_test.positives_share,\n",
    "            mode='lines',\n",
    "            marker=dict(\n",
    "            color=\"green\",\n",
    "            size=5,\n",
    "            opacity=0.5\n",
    "            ),\n",
    "            name=\"RNN with GRU cells\"\n",
    "        )\n",
    "\n",
    "    trace3=go.Scatter(\n",
    "            y=lstm_pr_test.recall-lstm_pr_test.positives_share,\n",
    "            x=lstm_pr_test.positives_share,\n",
    "            mode='lines',\n",
    "            marker=dict(\n",
    "            color=\"yellow\",\n",
    "            size=5,\n",
    "            opacity=0.5\n",
    "            ),\n",
    "            name=\"RNN with LSTM cells\"\n",
    "        )\n",
    "\n",
    "    \n",
    "\n",
    "\n",
    "\n",
    "    data=[trace0, trace1,trace2,trace3]\n",
    "    figure=go.Figure(\n",
    "        data=data,\n",
    "        layout=go.Layout(\n",
    "            title=\"Recall surplus in relation to Postives Share\",\n",
    "            yaxis=dict(title=\"Recall surplus\"),\n",
    "            xaxis=dict(title=\"Positives share\", range=[0,0.4]),\n",
    "            legend=dict(\n",
    "                x=0.76,\n",
    "                y=0,\n",
    "                traceorder=\"normal\",\n",
    "                font=dict(\n",
    "                    family=\"sans-serif\",\n",
    "                    size=12,\n",
    "                    color=\"black\"\n",
    "                ),\n",
    "            bgcolor=None\n",
    "\n",
    "\n",
    "        )))\n",
    "    iplot(figure)"
   ]
  },
  {
   "cell_type": "markdown",
   "metadata": {},
   "source": [
    "## Base ML models and RNN comparison"
   ]
  },
  {
   "cell_type": "code",
   "execution_count": 49,
   "metadata": {},
   "outputs": [],
   "source": [
    "RF_pr_test=pd.read_excel(\"Random_Forest_summary.xlsx\")\n",
    "\n",
    "DNN_test=pd.read_excel(\"DNN_summary.xlsx\")\n",
    "\n",
    "Ensemble_pr_test=pd.read_excel(\"Ensemble_summary.xlsx\")"
   ]
  },
  {
   "cell_type": "code",
   "execution_count": 50,
   "metadata": {},
   "outputs": [
    {
     "data": {
      "application/vnd.plotly.v1+json": {
       "config": {
        "linkText": "Export to plot.ly",
        "plotlyServerURL": "https://plot.ly",
        "showLink": false
       },
       "data": [
        {
         "marker": {
          "color": "blue",
          "opacity": 0.5,
          "size": 5
         },
         "mode": "lines",
         "name": "Random Forest Classifier",
         "type": "scatter",
         "x": [
          1,
          1,
          1,
          1,
          1,
          1,
          1,
          1,
          1,
          1,
          1,
          1,
          1,
          1,
          1,
          1,
          1,
          1,
          1,
          1,
          1,
          1,
          1,
          1,
          1,
          1,
          1,
          1,
          1,
          1,
          1,
          1,
          1,
          1,
          1,
          1,
          1,
          1,
          0.8012232415902141,
          0.6605504587155964,
          0.5749235474006116,
          0.5290519877675841,
          0.4801223241590214,
          0.4495412844036697,
          0.418960244648318,
          0.3792048929663608,
          0.3486238532110092,
          0.308868501529052,
          0.290519877675841,
          0.2660550458715596,
          0.253822629969419,
          0.2415902140672783,
          0.2262996941896024,
          0.2140672782874618,
          0.1926605504587156,
          0.1804281345565749,
          0.1498470948012232,
          0.1253822629969419,
          0.1100917431192661,
          0.09480122324159021,
          0.08256880733944955,
          0.07339449541284404,
          0.0581039755351682,
          0.04587155963302753,
          0.03058103975535168,
          0.01834862385321101,
          0.01834862385321101,
          0.006116207951070336,
          0.003058103975535168,
          0.003058103975535168,
          0.003058103975535168,
          0.003058103975535168,
          0,
          0,
          0,
          0,
          0,
          0,
          0,
          0,
          0,
          0,
          0,
          0,
          0,
          0,
          0,
          0,
          0,
          0,
          0,
          0,
          0,
          0,
          0,
          0,
          0,
          0,
          0,
          0
         ],
         "y": [
          0,
          0,
          0,
          0,
          0,
          0,
          0,
          0,
          0,
          0,
          0,
          0,
          0,
          0,
          0,
          0,
          0,
          0,
          0,
          0,
          0,
          0,
          0,
          0,
          0,
          0,
          0,
          0,
          0,
          0,
          0,
          0,
          0,
          0,
          0,
          0,
          0,
          0,
          0.10121578280002985,
          0.16871783396733042,
          0.2543447452823152,
          0.27582606101290374,
          0.3003654807190274,
          0.3309465204743791,
          0.33713731632729177,
          0.30372193630193195,
          0.3099127321548445,
          0.3008875960319236,
          0.2948459759826956,
          0.270530319982099,
          0.23398224807936147,
          0.2218244200790632,
          0.21272469605429997,
          0.1761766241515626,
          0.1731931080778698,
          0.18542552398001053,
          0.1916163198329232,
          0.1916909077347654,
          0.15820093980756317,
          0.1491012157828,
          0.16133363168494066,
          0.14611769970910715,
          0.161408219586783,
          0.14925039158648468,
          0.09137017975684342,
          0.05482210785410606,
          0.05482210785410606,
          0.04266427985380772,
          0.02133213992690386,
          0.02133213992690386,
          0.02133213992690386,
          0.02133213992690386,
          0,
          0,
          0,
          0,
          0,
          0,
          0,
          0,
          0,
          0,
          0,
          0,
          0,
          0,
          0,
          0,
          0,
          0,
          0,
          0,
          0,
          0,
          0,
          0,
          0,
          0,
          0,
          0
         ]
        },
        {
         "marker": {
          "color": "red",
          "opacity": 0.5,
          "size": 5
         },
         "mode": "lines",
         "name": "Fully connected DNN",
         "type": "scatter",
         "x": [
          1,
          0.9908256880733946,
          0.981651376146789,
          0.9602446483180428,
          0.9174311926605505,
          0.8532110091743119,
          0.7370030581039755,
          0.6238532110091743,
          0.5137614678899083,
          0.4373088685015291,
          0.363914373088685,
          0.3211009174311927,
          0.2935779816513762,
          0.2782874617737003,
          0.2599388379204893,
          0.2415902140672783,
          0.2232415902140673,
          0.2048929663608563,
          0.1865443425076453,
          0.1712538226299694,
          0.1406727828746177,
          0.1284403669724771,
          0.1162079510703364,
          0.1070336391437309,
          0.09785932721712538,
          0.07951070336391437,
          0.07033639143730887,
          0.0672782874617737,
          0.06116207951070336,
          0.05504587155963303,
          0.05198776758409786,
          0.04892966360856269,
          0.04587155963302753,
          0.04281345565749235,
          0.03058103975535168,
          0.02140672782874618,
          0.02140672782874618,
          0.02140672782874618,
          0.02140672782874618,
          0.01834862385321101,
          0.01223241590214067,
          0.01223241590214067,
          0.009174311926605505,
          0,
          0,
          0,
          0,
          0,
          0,
          0,
          0,
          0,
          0,
          0,
          0,
          0,
          0,
          0,
          0,
          0,
          0,
          0,
          0,
          0,
          0,
          0,
          0,
          0,
          0,
          0,
          0,
          0,
          0,
          0,
          0,
          0,
          0,
          0,
          0,
          0,
          0,
          0,
          0,
          0,
          0,
          0,
          0,
          0,
          0,
          0,
          0,
          0,
          0,
          0,
          0,
          0,
          0,
          0,
          0,
          0
         ],
         "y": [
          0,
          0.00917431192660545,
          0.01834862385321101,
          0.03975535168195721,
          0.0337883195345714,
          0.07361825911837105,
          0.1410457223838294,
          0.25419556947863053,
          0.2667263369881405,
          0.27000820466920256,
          0.24584172447229058,
          0.26426493622734387,
          0.29178787200716033,
          0.30707839188483627,
          0.2766465279331693,
          0.2706049078839412,
          0.2889535317371522,
          0.2829119116879242,
          0.20369955993137911,
          0.194599835906616,
          0.15201014395465057,
          0.16424255985679118,
          0.1520847318564929,
          0.1368687998806593,
          0.1460431118072648,
          0.14000149175803683,
          0.12478555978220333,
          0.10345341985529952,
          0.08517938390393075,
          0.09129559185500108,
          0.09435369583053625,
          0.09741179980607143,
          0.07607965987916757,
          0.07913776385470275,
          0.09137017975684342,
          0.07615424778100992,
          0.07615424778100992,
          0.07615424778100992,
          0.07615424778100992,
          0.07921235175654509,
          0.0609383158051764,
          0.0609383158051764,
          0.039606175878272545,
          0,
          0,
          0,
          0,
          0,
          0,
          0,
          0,
          0,
          0,
          0,
          0,
          0,
          0,
          0,
          0,
          0,
          0,
          0,
          0,
          0,
          0,
          0,
          0,
          0,
          0,
          0,
          0,
          0,
          0,
          0,
          0,
          0,
          0,
          0,
          0,
          0,
          0,
          0,
          0,
          0,
          0,
          0,
          0,
          0,
          0,
          0,
          0,
          0,
          0,
          0,
          0,
          0,
          0,
          0,
          0,
          0
         ]
        },
        {
         "marker": {
          "color": "green",
          "opacity": 0.5,
          "size": 5
         },
         "mode": "lines",
         "name": "RNN with GRU cells",
         "type": "scatter",
         "x": [
          1,
          1,
          1,
          1,
          0.9971014492753624,
          0.8956521739130435,
          0.6463768115942029,
          0.5420289855072464,
          0.48985507246376814,
          0.463768115942029,
          0.40869565217391307,
          0.37681159420289856,
          0.3536231884057971,
          0.3333333333333333,
          0.2927536231884058,
          0.263768115942029,
          0.23478260869565218,
          0.21159420289855072,
          0.1855072463768116,
          0.15072463768115943,
          0.12753623188405797,
          0.10434782608695652,
          0.08695652173913043,
          0.06666666666666667,
          0.0463768115942029,
          0.034782608695652174,
          0.03188405797101449,
          0.02608695652173913,
          0.02318840579710145,
          0.014492753623188406,
          0.011594202898550725,
          0.008695652173913044,
          0.008695652173913044,
          0.008695652173913044,
          0.008695652173913044,
          0.005797101449275362,
          0.005797101449275362,
          0.005797101449275362,
          0.005797101449275362,
          0.002898550724637681,
          0.002898550724637681,
          0.002898550724637681,
          0.002898550724637681,
          0.002898550724637681,
          0.002898550724637681,
          0.002898550724637681,
          0,
          0,
          0,
          0,
          0,
          0,
          0,
          0,
          0,
          0,
          0,
          0,
          0,
          0,
          0,
          0,
          0,
          0,
          0,
          0,
          0,
          0,
          0,
          0,
          0,
          0,
          0,
          0,
          0,
          0,
          0,
          0,
          0,
          0,
          0,
          0,
          0,
          0,
          0,
          0,
          0,
          0,
          0,
          0,
          0,
          0,
          0,
          0,
          0,
          0,
          0,
          0,
          0,
          0
         ],
         "y": [
          0,
          0,
          0,
          0,
          0.0028985507246376274,
          0.05889328063241106,
          0.19453227931488803,
          0.253425559947299,
          0.23741765480895916,
          0.21805006587615278,
          0.22766798418972328,
          0.2595520421607378,
          0.28274044795783926,
          0.30303030303030304,
          0.29815546772068513,
          0.30441370223978925,
          0.28794466403162056,
          0.2884057971014493,
          0.2917654808959157,
          0.28109354413702237,
          0.2588274044795784,
          0.21383399209486165,
          0.18577075098814227,
          0.16060606060606059,
          0.13544137022397892,
          0.07885375494071145,
          0.08175230566534913,
          0.042094861660079044,
          0.04499341238471673,
          0.030961791831357048,
          0.03386034255599473,
          0.014031620553359684,
          0.014031620553359684,
          0.014031620553359684,
          0.014031620553359684,
          -0.005797101449275362,
          -0.005797101449275362,
          -0.005797101449275362,
          -0.005797101449275362,
          -0.002898550724637681,
          -0.002898550724637681,
          -0.002898550724637681,
          -0.002898550724637681,
          -0.002898550724637681,
          -0.002898550724637681,
          -0.002898550724637681,
          0,
          0,
          0,
          0,
          0,
          0,
          0,
          0,
          0,
          0,
          0,
          0,
          0,
          0,
          0,
          0,
          0,
          0,
          0,
          0,
          0,
          0,
          0,
          0,
          0,
          0,
          0,
          0,
          0,
          0,
          0,
          0,
          0,
          0,
          0,
          0,
          0,
          0,
          0,
          0,
          0,
          0,
          0,
          0,
          0,
          0,
          0,
          0,
          0,
          0,
          0,
          0,
          0,
          0
         ]
        },
        {
         "marker": {
          "color": "yellow",
          "opacity": 0.5,
          "size": 5
         },
         "mode": "lines",
         "name": "Ensemble Model",
         "type": "scatter",
         "x": [
          1,
          1,
          1,
          1,
          1,
          1,
          1,
          1,
          1,
          1,
          1,
          1,
          1,
          1,
          1,
          1,
          1,
          1,
          1,
          1,
          1,
          1,
          1,
          1,
          1,
          1,
          1,
          1,
          1,
          1,
          0.9938837920489296,
          0.981651376146789,
          0.7247706422018348,
          0.5412844036697247,
          0.4464831804281346,
          0.3914373088685015,
          0.3058103975535168,
          0.2691131498470948,
          0.2354740061162079,
          0.1987767584097859,
          0.1590214067278287,
          0.1223241590214067,
          0.1009174311926606,
          0.0764525993883792,
          0.06422018348623854,
          0.04587155963302753,
          0.03669724770642202,
          0.02752293577981652,
          0.02140672782874618,
          0.009174311926605505,
          0.009174311926605505,
          0.009174311926605505,
          0.006116207951070336,
          0.006116207951070336,
          0.003058103975535168,
          0.003058103975535168,
          0.003058103975535168,
          0.003058103975535168,
          0.003058103975535168,
          0.003058103975535168,
          0,
          0,
          0,
          0,
          0,
          0,
          0,
          0,
          0,
          0,
          0,
          0,
          0,
          0,
          0,
          0,
          0,
          0,
          0,
          0,
          0,
          0,
          0,
          0,
          0,
          0,
          0,
          0,
          0,
          0,
          0,
          0,
          0,
          0,
          0,
          0,
          0,
          0,
          0,
          0
         ],
         "y": [
          0,
          0,
          0,
          0,
          0,
          0,
          0,
          0,
          0,
          0,
          0,
          0,
          0,
          0,
          0,
          0,
          0,
          0,
          0,
          0,
          0,
          0,
          0,
          0,
          0,
          0,
          0,
          0,
          0,
          0,
          0.006116207951070374,
          0.01834862385321101,
          0.20205862609084813,
          0.28798388901320204,
          0.30961438054747514,
          0.29148952039979126,
          0.27955545610501975,
          0.24308197210412474,
          0.1791601402252555,
          0.1914671440292385,
          0.18244200790631773,
          0.21913925561273973,
          0.14298500783172963,
          0.143059595733572,
          0.13090176773327367,
          0.12486014768404569,
          0.08525397180577308,
          0.07003803982993959,
          0.051764003878570886,
          0.039606175878272545,
          0.039606175878272545,
          0.039606175878272545,
          0.04266427985380772,
          0.04266427985380772,
          0.02133213992690386,
          0.02133213992690386,
          0.02133213992690386,
          0.02133213992690386,
          0.02133213992690386,
          0.02133213992690386,
          0,
          0,
          0,
          0,
          0,
          0,
          0,
          0,
          0,
          0,
          0,
          0,
          0,
          0,
          0,
          0,
          0,
          0,
          0,
          0,
          0,
          0,
          0,
          0,
          0,
          0,
          0,
          0,
          0,
          0,
          0,
          0,
          0,
          0,
          0,
          0,
          0,
          0,
          0,
          0
         ]
        }
       ],
       "layout": {
        "legend": {
         "font": {
          "color": "black",
          "family": "sans-serif",
          "size": 12
         },
         "traceorder": "normal",
         "x": 0.76,
         "y": 0
        },
        "template": {
         "data": {
          "bar": [
           {
            "error_x": {
             "color": "#2a3f5f"
            },
            "error_y": {
             "color": "#2a3f5f"
            },
            "marker": {
             "line": {
              "color": "#E5ECF6",
              "width": 0.5
             }
            },
            "type": "bar"
           }
          ],
          "barpolar": [
           {
            "marker": {
             "line": {
              "color": "#E5ECF6",
              "width": 0.5
             }
            },
            "type": "barpolar"
           }
          ],
          "carpet": [
           {
            "aaxis": {
             "endlinecolor": "#2a3f5f",
             "gridcolor": "white",
             "linecolor": "white",
             "minorgridcolor": "white",
             "startlinecolor": "#2a3f5f"
            },
            "baxis": {
             "endlinecolor": "#2a3f5f",
             "gridcolor": "white",
             "linecolor": "white",
             "minorgridcolor": "white",
             "startlinecolor": "#2a3f5f"
            },
            "type": "carpet"
           }
          ],
          "choropleth": [
           {
            "colorbar": {
             "outlinewidth": 0,
             "ticks": ""
            },
            "type": "choropleth"
           }
          ],
          "contour": [
           {
            "colorbar": {
             "outlinewidth": 0,
             "ticks": ""
            },
            "colorscale": [
             [
              0,
              "#0d0887"
             ],
             [
              0.1111111111111111,
              "#46039f"
             ],
             [
              0.2222222222222222,
              "#7201a8"
             ],
             [
              0.3333333333333333,
              "#9c179e"
             ],
             [
              0.4444444444444444,
              "#bd3786"
             ],
             [
              0.5555555555555556,
              "#d8576b"
             ],
             [
              0.6666666666666666,
              "#ed7953"
             ],
             [
              0.7777777777777778,
              "#fb9f3a"
             ],
             [
              0.8888888888888888,
              "#fdca26"
             ],
             [
              1,
              "#f0f921"
             ]
            ],
            "type": "contour"
           }
          ],
          "contourcarpet": [
           {
            "colorbar": {
             "outlinewidth": 0,
             "ticks": ""
            },
            "type": "contourcarpet"
           }
          ],
          "heatmap": [
           {
            "colorbar": {
             "outlinewidth": 0,
             "ticks": ""
            },
            "colorscale": [
             [
              0,
              "#0d0887"
             ],
             [
              0.1111111111111111,
              "#46039f"
             ],
             [
              0.2222222222222222,
              "#7201a8"
             ],
             [
              0.3333333333333333,
              "#9c179e"
             ],
             [
              0.4444444444444444,
              "#bd3786"
             ],
             [
              0.5555555555555556,
              "#d8576b"
             ],
             [
              0.6666666666666666,
              "#ed7953"
             ],
             [
              0.7777777777777778,
              "#fb9f3a"
             ],
             [
              0.8888888888888888,
              "#fdca26"
             ],
             [
              1,
              "#f0f921"
             ]
            ],
            "type": "heatmap"
           }
          ],
          "heatmapgl": [
           {
            "colorbar": {
             "outlinewidth": 0,
             "ticks": ""
            },
            "colorscale": [
             [
              0,
              "#0d0887"
             ],
             [
              0.1111111111111111,
              "#46039f"
             ],
             [
              0.2222222222222222,
              "#7201a8"
             ],
             [
              0.3333333333333333,
              "#9c179e"
             ],
             [
              0.4444444444444444,
              "#bd3786"
             ],
             [
              0.5555555555555556,
              "#d8576b"
             ],
             [
              0.6666666666666666,
              "#ed7953"
             ],
             [
              0.7777777777777778,
              "#fb9f3a"
             ],
             [
              0.8888888888888888,
              "#fdca26"
             ],
             [
              1,
              "#f0f921"
             ]
            ],
            "type": "heatmapgl"
           }
          ],
          "histogram": [
           {
            "marker": {
             "colorbar": {
              "outlinewidth": 0,
              "ticks": ""
             }
            },
            "type": "histogram"
           }
          ],
          "histogram2d": [
           {
            "colorbar": {
             "outlinewidth": 0,
             "ticks": ""
            },
            "colorscale": [
             [
              0,
              "#0d0887"
             ],
             [
              0.1111111111111111,
              "#46039f"
             ],
             [
              0.2222222222222222,
              "#7201a8"
             ],
             [
              0.3333333333333333,
              "#9c179e"
             ],
             [
              0.4444444444444444,
              "#bd3786"
             ],
             [
              0.5555555555555556,
              "#d8576b"
             ],
             [
              0.6666666666666666,
              "#ed7953"
             ],
             [
              0.7777777777777778,
              "#fb9f3a"
             ],
             [
              0.8888888888888888,
              "#fdca26"
             ],
             [
              1,
              "#f0f921"
             ]
            ],
            "type": "histogram2d"
           }
          ],
          "histogram2dcontour": [
           {
            "colorbar": {
             "outlinewidth": 0,
             "ticks": ""
            },
            "colorscale": [
             [
              0,
              "#0d0887"
             ],
             [
              0.1111111111111111,
              "#46039f"
             ],
             [
              0.2222222222222222,
              "#7201a8"
             ],
             [
              0.3333333333333333,
              "#9c179e"
             ],
             [
              0.4444444444444444,
              "#bd3786"
             ],
             [
              0.5555555555555556,
              "#d8576b"
             ],
             [
              0.6666666666666666,
              "#ed7953"
             ],
             [
              0.7777777777777778,
              "#fb9f3a"
             ],
             [
              0.8888888888888888,
              "#fdca26"
             ],
             [
              1,
              "#f0f921"
             ]
            ],
            "type": "histogram2dcontour"
           }
          ],
          "mesh3d": [
           {
            "colorbar": {
             "outlinewidth": 0,
             "ticks": ""
            },
            "type": "mesh3d"
           }
          ],
          "parcoords": [
           {
            "line": {
             "colorbar": {
              "outlinewidth": 0,
              "ticks": ""
             }
            },
            "type": "parcoords"
           }
          ],
          "scatter": [
           {
            "marker": {
             "colorbar": {
              "outlinewidth": 0,
              "ticks": ""
             }
            },
            "type": "scatter"
           }
          ],
          "scatter3d": [
           {
            "line": {
             "colorbar": {
              "outlinewidth": 0,
              "ticks": ""
             }
            },
            "marker": {
             "colorbar": {
              "outlinewidth": 0,
              "ticks": ""
             }
            },
            "type": "scatter3d"
           }
          ],
          "scattercarpet": [
           {
            "marker": {
             "colorbar": {
              "outlinewidth": 0,
              "ticks": ""
             }
            },
            "type": "scattercarpet"
           }
          ],
          "scattergeo": [
           {
            "marker": {
             "colorbar": {
              "outlinewidth": 0,
              "ticks": ""
             }
            },
            "type": "scattergeo"
           }
          ],
          "scattergl": [
           {
            "marker": {
             "colorbar": {
              "outlinewidth": 0,
              "ticks": ""
             }
            },
            "type": "scattergl"
           }
          ],
          "scattermapbox": [
           {
            "marker": {
             "colorbar": {
              "outlinewidth": 0,
              "ticks": ""
             }
            },
            "type": "scattermapbox"
           }
          ],
          "scatterpolar": [
           {
            "marker": {
             "colorbar": {
              "outlinewidth": 0,
              "ticks": ""
             }
            },
            "type": "scatterpolar"
           }
          ],
          "scatterpolargl": [
           {
            "marker": {
             "colorbar": {
              "outlinewidth": 0,
              "ticks": ""
             }
            },
            "type": "scatterpolargl"
           }
          ],
          "scatterternary": [
           {
            "marker": {
             "colorbar": {
              "outlinewidth": 0,
              "ticks": ""
             }
            },
            "type": "scatterternary"
           }
          ],
          "surface": [
           {
            "colorbar": {
             "outlinewidth": 0,
             "ticks": ""
            },
            "colorscale": [
             [
              0,
              "#0d0887"
             ],
             [
              0.1111111111111111,
              "#46039f"
             ],
             [
              0.2222222222222222,
              "#7201a8"
             ],
             [
              0.3333333333333333,
              "#9c179e"
             ],
             [
              0.4444444444444444,
              "#bd3786"
             ],
             [
              0.5555555555555556,
              "#d8576b"
             ],
             [
              0.6666666666666666,
              "#ed7953"
             ],
             [
              0.7777777777777778,
              "#fb9f3a"
             ],
             [
              0.8888888888888888,
              "#fdca26"
             ],
             [
              1,
              "#f0f921"
             ]
            ],
            "type": "surface"
           }
          ],
          "table": [
           {
            "cells": {
             "fill": {
              "color": "#EBF0F8"
             },
             "line": {
              "color": "white"
             }
            },
            "header": {
             "fill": {
              "color": "#C8D4E3"
             },
             "line": {
              "color": "white"
             }
            },
            "type": "table"
           }
          ]
         },
         "layout": {
          "annotationdefaults": {
           "arrowcolor": "#2a3f5f",
           "arrowhead": 0,
           "arrowwidth": 1
          },
          "colorscale": {
           "diverging": [
            [
             0,
             "#8e0152"
            ],
            [
             0.1,
             "#c51b7d"
            ],
            [
             0.2,
             "#de77ae"
            ],
            [
             0.3,
             "#f1b6da"
            ],
            [
             0.4,
             "#fde0ef"
            ],
            [
             0.5,
             "#f7f7f7"
            ],
            [
             0.6,
             "#e6f5d0"
            ],
            [
             0.7,
             "#b8e186"
            ],
            [
             0.8,
             "#7fbc41"
            ],
            [
             0.9,
             "#4d9221"
            ],
            [
             1,
             "#276419"
            ]
           ],
           "sequential": [
            [
             0,
             "#0d0887"
            ],
            [
             0.1111111111111111,
             "#46039f"
            ],
            [
             0.2222222222222222,
             "#7201a8"
            ],
            [
             0.3333333333333333,
             "#9c179e"
            ],
            [
             0.4444444444444444,
             "#bd3786"
            ],
            [
             0.5555555555555556,
             "#d8576b"
            ],
            [
             0.6666666666666666,
             "#ed7953"
            ],
            [
             0.7777777777777778,
             "#fb9f3a"
            ],
            [
             0.8888888888888888,
             "#fdca26"
            ],
            [
             1,
             "#f0f921"
            ]
           ],
           "sequentialminus": [
            [
             0,
             "#0d0887"
            ],
            [
             0.1111111111111111,
             "#46039f"
            ],
            [
             0.2222222222222222,
             "#7201a8"
            ],
            [
             0.3333333333333333,
             "#9c179e"
            ],
            [
             0.4444444444444444,
             "#bd3786"
            ],
            [
             0.5555555555555556,
             "#d8576b"
            ],
            [
             0.6666666666666666,
             "#ed7953"
            ],
            [
             0.7777777777777778,
             "#fb9f3a"
            ],
            [
             0.8888888888888888,
             "#fdca26"
            ],
            [
             1,
             "#f0f921"
            ]
           ]
          },
          "colorway": [
           "#636efa",
           "#EF553B",
           "#00cc96",
           "#ab63fa",
           "#FFA15A",
           "#19d3f3",
           "#FF6692",
           "#B6E880",
           "#FF97FF",
           "#FECB52"
          ],
          "font": {
           "color": "#2a3f5f"
          },
          "geo": {
           "bgcolor": "white",
           "lakecolor": "white",
           "landcolor": "#E5ECF6",
           "showlakes": true,
           "showland": true,
           "subunitcolor": "white"
          },
          "hoverlabel": {
           "align": "left"
          },
          "hovermode": "closest",
          "mapbox": {
           "style": "light"
          },
          "paper_bgcolor": "white",
          "plot_bgcolor": "#E5ECF6",
          "polar": {
           "angularaxis": {
            "gridcolor": "white",
            "linecolor": "white",
            "ticks": ""
           },
           "bgcolor": "#E5ECF6",
           "radialaxis": {
            "gridcolor": "white",
            "linecolor": "white",
            "ticks": ""
           }
          },
          "scene": {
           "xaxis": {
            "backgroundcolor": "#E5ECF6",
            "gridcolor": "white",
            "gridwidth": 2,
            "linecolor": "white",
            "showbackground": true,
            "ticks": "",
            "zerolinecolor": "white"
           },
           "yaxis": {
            "backgroundcolor": "#E5ECF6",
            "gridcolor": "white",
            "gridwidth": 2,
            "linecolor": "white",
            "showbackground": true,
            "ticks": "",
            "zerolinecolor": "white"
           },
           "zaxis": {
            "backgroundcolor": "#E5ECF6",
            "gridcolor": "white",
            "gridwidth": 2,
            "linecolor": "white",
            "showbackground": true,
            "ticks": "",
            "zerolinecolor": "white"
           }
          },
          "shapedefaults": {
           "line": {
            "color": "#2a3f5f"
           }
          },
          "ternary": {
           "aaxis": {
            "gridcolor": "white",
            "linecolor": "white",
            "ticks": ""
           },
           "baxis": {
            "gridcolor": "white",
            "linecolor": "white",
            "ticks": ""
           },
           "bgcolor": "#E5ECF6",
           "caxis": {
            "gridcolor": "white",
            "linecolor": "white",
            "ticks": ""
           }
          },
          "title": {
           "x": 0.05
          },
          "xaxis": {
           "automargin": true,
           "gridcolor": "white",
           "linecolor": "white",
           "ticks": "",
           "zerolinecolor": "white",
           "zerolinewidth": 2
          },
          "yaxis": {
           "automargin": true,
           "gridcolor": "white",
           "linecolor": "white",
           "ticks": "",
           "zerolinecolor": "white",
           "zerolinewidth": 2
          }
         }
        },
        "title": {
         "text": "Recall surplus in relation to Postives Share"
        },
        "xaxis": {
         "range": [
          0,
          0.4
         ],
         "title": {
          "text": "Positives share"
         }
        },
        "yaxis": {
         "title": {
          "text": "Recall surplus"
         }
        }
       }
      },
      "text/html": [
       "<div>\n",
       "        \n",
       "        \n",
       "            <div id=\"cadaf4fe-9b57-48c5-9a58-414e082aaea8\" class=\"plotly-graph-div\" style=\"height:525px; width:100%;\"></div>\n",
       "            <script type=\"text/javascript\">\n",
       "                require([\"plotly\"], function(Plotly) {\n",
       "                    window.PLOTLYENV=window.PLOTLYENV || {};\n",
       "                    \n",
       "                if (document.getElementById(\"cadaf4fe-9b57-48c5-9a58-414e082aaea8\")) {\n",
       "                    Plotly.newPlot(\n",
       "                        'cadaf4fe-9b57-48c5-9a58-414e082aaea8',\n",
       "                        [{\"marker\": {\"color\": \"blue\", \"opacity\": 0.5, \"size\": 5}, \"mode\": \"lines\", \"name\": \"Random Forest Classifier\", \"type\": \"scatter\", \"x\": [1.0, 1.0, 1.0, 1.0, 1.0, 1.0, 1.0, 1.0, 1.0, 1.0, 1.0, 1.0, 1.0, 1.0, 1.0, 1.0, 1.0, 1.0, 1.0, 1.0, 1.0, 1.0, 1.0, 1.0, 1.0, 1.0, 1.0, 1.0, 1.0, 1.0, 1.0, 1.0, 1.0, 1.0, 1.0, 1.0, 1.0, 1.0, 0.8012232415902141, 0.6605504587155964, 0.5749235474006116, 0.5290519877675841, 0.4801223241590214, 0.4495412844036697, 0.418960244648318, 0.3792048929663608, 0.3486238532110092, 0.308868501529052, 0.290519877675841, 0.2660550458715596, 0.253822629969419, 0.2415902140672783, 0.2262996941896024, 0.2140672782874618, 0.1926605504587156, 0.1804281345565749, 0.1498470948012232, 0.1253822629969419, 0.1100917431192661, 0.09480122324159021, 0.08256880733944955, 0.07339449541284404, 0.0581039755351682, 0.04587155963302753, 0.03058103975535168, 0.01834862385321101, 0.01834862385321101, 0.006116207951070336, 0.003058103975535168, 0.003058103975535168, 0.003058103975535168, 0.003058103975535168, 0.0, 0.0, 0.0, 0.0, 0.0, 0.0, 0.0, 0.0, 0.0, 0.0, 0.0, 0.0, 0.0, 0.0, 0.0, 0.0, 0.0, 0.0, 0.0, 0.0, 0.0, 0.0, 0.0, 0.0, 0.0, 0.0, 0.0, 0.0], \"y\": [0.0, 0.0, 0.0, 0.0, 0.0, 0.0, 0.0, 0.0, 0.0, 0.0, 0.0, 0.0, 0.0, 0.0, 0.0, 0.0, 0.0, 0.0, 0.0, 0.0, 0.0, 0.0, 0.0, 0.0, 0.0, 0.0, 0.0, 0.0, 0.0, 0.0, 0.0, 0.0, 0.0, 0.0, 0.0, 0.0, 0.0, 0.0, 0.10121578280002985, 0.16871783396733042, 0.2543447452823152, 0.27582606101290374, 0.3003654807190274, 0.3309465204743791, 0.33713731632729177, 0.30372193630193195, 0.3099127321548445, 0.3008875960319236, 0.2948459759826956, 0.270530319982099, 0.23398224807936147, 0.2218244200790632, 0.21272469605429997, 0.1761766241515626, 0.1731931080778698, 0.18542552398001053, 0.1916163198329232, 0.1916909077347654, 0.15820093980756317, 0.1491012157828, 0.16133363168494066, 0.14611769970910715, 0.161408219586783, 0.14925039158648468, 0.09137017975684342, 0.05482210785410606, 0.05482210785410606, 0.04266427985380772, 0.02133213992690386, 0.02133213992690386, 0.02133213992690386, 0.02133213992690386, 0.0, 0.0, 0.0, 0.0, 0.0, 0.0, 0.0, 0.0, 0.0, 0.0, 0.0, 0.0, 0.0, 0.0, 0.0, 0.0, 0.0, 0.0, 0.0, 0.0, 0.0, 0.0, 0.0, 0.0, 0.0, 0.0, 0.0, 0.0]}, {\"marker\": {\"color\": \"red\", \"opacity\": 0.5, \"size\": 5}, \"mode\": \"lines\", \"name\": \"Fully connected DNN\", \"type\": \"scatter\", \"x\": [1.0, 0.9908256880733946, 0.981651376146789, 0.9602446483180428, 0.9174311926605505, 0.8532110091743119, 0.7370030581039755, 0.6238532110091743, 0.5137614678899083, 0.4373088685015291, 0.363914373088685, 0.3211009174311927, 0.2935779816513762, 0.2782874617737003, 0.2599388379204893, 0.2415902140672783, 0.2232415902140673, 0.2048929663608563, 0.1865443425076453, 0.1712538226299694, 0.1406727828746177, 0.1284403669724771, 0.1162079510703364, 0.1070336391437309, 0.09785932721712538, 0.07951070336391437, 0.07033639143730887, 0.0672782874617737, 0.06116207951070336, 0.05504587155963303, 0.05198776758409786, 0.04892966360856269, 0.04587155963302753, 0.04281345565749235, 0.03058103975535168, 0.02140672782874618, 0.02140672782874618, 0.02140672782874618, 0.02140672782874618, 0.01834862385321101, 0.01223241590214067, 0.01223241590214067, 0.009174311926605505, 0.0, 0.0, 0.0, 0.0, 0.0, 0.0, 0.0, 0.0, 0.0, 0.0, 0.0, 0.0, 0.0, 0.0, 0.0, 0.0, 0.0, 0.0, 0.0, 0.0, 0.0, 0.0, 0.0, 0.0, 0.0, 0.0, 0.0, 0.0, 0.0, 0.0, 0.0, 0.0, 0.0, 0.0, 0.0, 0.0, 0.0, 0.0, 0.0, 0.0, 0.0, 0.0, 0.0, 0.0, 0.0, 0.0, 0.0, 0.0, 0.0, 0.0, 0.0, 0.0, 0.0, 0.0, 0.0, 0.0, 0.0], \"y\": [0.0, 0.00917431192660545, 0.01834862385321101, 0.03975535168195721, 0.0337883195345714, 0.07361825911837105, 0.1410457223838294, 0.25419556947863053, 0.2667263369881405, 0.27000820466920256, 0.24584172447229058, 0.26426493622734387, 0.29178787200716033, 0.30707839188483627, 0.2766465279331693, 0.2706049078839412, 0.2889535317371522, 0.2829119116879242, 0.20369955993137911, 0.194599835906616, 0.15201014395465057, 0.16424255985679118, 0.1520847318564929, 0.1368687998806593, 0.1460431118072648, 0.14000149175803683, 0.12478555978220333, 0.10345341985529952, 0.08517938390393075, 0.09129559185500108, 0.09435369583053625, 0.09741179980607143, 0.07607965987916757, 0.07913776385470275, 0.09137017975684342, 0.07615424778100992, 0.07615424778100992, 0.07615424778100992, 0.07615424778100992, 0.07921235175654509, 0.0609383158051764, 0.0609383158051764, 0.039606175878272545, 0.0, 0.0, 0.0, 0.0, 0.0, 0.0, 0.0, 0.0, 0.0, 0.0, 0.0, 0.0, 0.0, 0.0, 0.0, 0.0, 0.0, 0.0, 0.0, 0.0, 0.0, 0.0, 0.0, 0.0, 0.0, 0.0, 0.0, 0.0, 0.0, 0.0, 0.0, 0.0, 0.0, 0.0, 0.0, 0.0, 0.0, 0.0, 0.0, 0.0, 0.0, 0.0, 0.0, 0.0, 0.0, 0.0, 0.0, 0.0, 0.0, 0.0, 0.0, 0.0, 0.0, 0.0, 0.0, 0.0, 0.0]}, {\"marker\": {\"color\": \"green\", \"opacity\": 0.5, \"size\": 5}, \"mode\": \"lines\", \"name\": \"RNN with GRU cells\", \"type\": \"scatter\", \"x\": [1.0, 1.0, 1.0, 1.0, 0.9971014492753624, 0.8956521739130435, 0.6463768115942029, 0.5420289855072464, 0.48985507246376814, 0.463768115942029, 0.40869565217391307, 0.37681159420289856, 0.3536231884057971, 0.3333333333333333, 0.2927536231884058, 0.263768115942029, 0.23478260869565218, 0.21159420289855072, 0.1855072463768116, 0.15072463768115943, 0.12753623188405797, 0.10434782608695652, 0.08695652173913043, 0.06666666666666667, 0.0463768115942029, 0.034782608695652174, 0.03188405797101449, 0.02608695652173913, 0.02318840579710145, 0.014492753623188406, 0.011594202898550725, 0.008695652173913044, 0.008695652173913044, 0.008695652173913044, 0.008695652173913044, 0.005797101449275362, 0.005797101449275362, 0.005797101449275362, 0.005797101449275362, 0.002898550724637681, 0.002898550724637681, 0.002898550724637681, 0.002898550724637681, 0.002898550724637681, 0.002898550724637681, 0.002898550724637681, 0.0, 0.0, 0.0, 0.0, 0.0, 0.0, 0.0, 0.0, 0.0, 0.0, 0.0, 0.0, 0.0, 0.0, 0.0, 0.0, 0.0, 0.0, 0.0, 0.0, 0.0, 0.0, 0.0, 0.0, 0.0, 0.0, 0.0, 0.0, 0.0, 0.0, 0.0, 0.0, 0.0, 0.0, 0.0, 0.0, 0.0, 0.0, 0.0, 0.0, 0.0, 0.0, 0.0, 0.0, 0.0, 0.0, 0.0, 0.0, 0.0, 0.0, 0.0, 0.0, 0.0, 0.0], \"y\": [0.0, 0.0, 0.0, 0.0, 0.0028985507246376274, 0.05889328063241106, 0.19453227931488803, 0.253425559947299, 0.23741765480895916, 0.21805006587615278, 0.22766798418972328, 0.2595520421607378, 0.28274044795783926, 0.30303030303030304, 0.29815546772068513, 0.30441370223978925, 0.28794466403162056, 0.2884057971014493, 0.2917654808959157, 0.28109354413702237, 0.2588274044795784, 0.21383399209486165, 0.18577075098814227, 0.16060606060606059, 0.13544137022397892, 0.07885375494071145, 0.08175230566534913, 0.042094861660079044, 0.04499341238471673, 0.030961791831357048, 0.03386034255599473, 0.014031620553359684, 0.014031620553359684, 0.014031620553359684, 0.014031620553359684, -0.005797101449275362, -0.005797101449275362, -0.005797101449275362, -0.005797101449275362, -0.002898550724637681, -0.002898550724637681, -0.002898550724637681, -0.002898550724637681, -0.002898550724637681, -0.002898550724637681, -0.002898550724637681, 0.0, 0.0, 0.0, 0.0, 0.0, 0.0, 0.0, 0.0, 0.0, 0.0, 0.0, 0.0, 0.0, 0.0, 0.0, 0.0, 0.0, 0.0, 0.0, 0.0, 0.0, 0.0, 0.0, 0.0, 0.0, 0.0, 0.0, 0.0, 0.0, 0.0, 0.0, 0.0, 0.0, 0.0, 0.0, 0.0, 0.0, 0.0, 0.0, 0.0, 0.0, 0.0, 0.0, 0.0, 0.0, 0.0, 0.0, 0.0, 0.0, 0.0, 0.0, 0.0, 0.0, 0.0]}, {\"marker\": {\"color\": \"yellow\", \"opacity\": 0.5, \"size\": 5}, \"mode\": \"lines\", \"name\": \"Ensemble Model\", \"type\": \"scatter\", \"x\": [1.0, 1.0, 1.0, 1.0, 1.0, 1.0, 1.0, 1.0, 1.0, 1.0, 1.0, 1.0, 1.0, 1.0, 1.0, 1.0, 1.0, 1.0, 1.0, 1.0, 1.0, 1.0, 1.0, 1.0, 1.0, 1.0, 1.0, 1.0, 1.0, 1.0, 0.9938837920489296, 0.981651376146789, 0.7247706422018348, 0.5412844036697247, 0.4464831804281346, 0.3914373088685015, 0.3058103975535168, 0.2691131498470948, 0.2354740061162079, 0.1987767584097859, 0.1590214067278287, 0.1223241590214067, 0.1009174311926606, 0.0764525993883792, 0.06422018348623854, 0.04587155963302753, 0.03669724770642202, 0.02752293577981652, 0.02140672782874618, 0.009174311926605505, 0.009174311926605505, 0.009174311926605505, 0.006116207951070336, 0.006116207951070336, 0.003058103975535168, 0.003058103975535168, 0.003058103975535168, 0.003058103975535168, 0.003058103975535168, 0.003058103975535168, 0.0, 0.0, 0.0, 0.0, 0.0, 0.0, 0.0, 0.0, 0.0, 0.0, 0.0, 0.0, 0.0, 0.0, 0.0, 0.0, 0.0, 0.0, 0.0, 0.0, 0.0, 0.0, 0.0, 0.0, 0.0, 0.0, 0.0, 0.0, 0.0, 0.0, 0.0, 0.0, 0.0, 0.0, 0.0, 0.0, 0.0, 0.0, 0.0, 0.0], \"y\": [0.0, 0.0, 0.0, 0.0, 0.0, 0.0, 0.0, 0.0, 0.0, 0.0, 0.0, 0.0, 0.0, 0.0, 0.0, 0.0, 0.0, 0.0, 0.0, 0.0, 0.0, 0.0, 0.0, 0.0, 0.0, 0.0, 0.0, 0.0, 0.0, 0.0, 0.006116207951070374, 0.01834862385321101, 0.20205862609084813, 0.28798388901320204, 0.30961438054747514, 0.29148952039979126, 0.27955545610501975, 0.24308197210412474, 0.1791601402252555, 0.1914671440292385, 0.18244200790631773, 0.21913925561273973, 0.14298500783172963, 0.143059595733572, 0.13090176773327367, 0.12486014768404569, 0.08525397180577308, 0.07003803982993959, 0.051764003878570886, 0.039606175878272545, 0.039606175878272545, 0.039606175878272545, 0.04266427985380772, 0.04266427985380772, 0.02133213992690386, 0.02133213992690386, 0.02133213992690386, 0.02133213992690386, 0.02133213992690386, 0.02133213992690386, 0.0, 0.0, 0.0, 0.0, 0.0, 0.0, 0.0, 0.0, 0.0, 0.0, 0.0, 0.0, 0.0, 0.0, 0.0, 0.0, 0.0, 0.0, 0.0, 0.0, 0.0, 0.0, 0.0, 0.0, 0.0, 0.0, 0.0, 0.0, 0.0, 0.0, 0.0, 0.0, 0.0, 0.0, 0.0, 0.0, 0.0, 0.0, 0.0, 0.0]}],\n",
       "                        {\"legend\": {\"font\": {\"color\": \"black\", \"family\": \"sans-serif\", \"size\": 12}, \"traceorder\": \"normal\", \"x\": 0.76, \"y\": 0}, \"template\": {\"data\": {\"bar\": [{\"error_x\": {\"color\": \"#2a3f5f\"}, \"error_y\": {\"color\": \"#2a3f5f\"}, \"marker\": {\"line\": {\"color\": \"#E5ECF6\", \"width\": 0.5}}, \"type\": \"bar\"}], \"barpolar\": [{\"marker\": {\"line\": {\"color\": \"#E5ECF6\", \"width\": 0.5}}, \"type\": \"barpolar\"}], \"carpet\": [{\"aaxis\": {\"endlinecolor\": \"#2a3f5f\", \"gridcolor\": \"white\", \"linecolor\": \"white\", \"minorgridcolor\": \"white\", \"startlinecolor\": \"#2a3f5f\"}, \"baxis\": {\"endlinecolor\": \"#2a3f5f\", \"gridcolor\": \"white\", \"linecolor\": \"white\", \"minorgridcolor\": \"white\", \"startlinecolor\": \"#2a3f5f\"}, \"type\": \"carpet\"}], \"choropleth\": [{\"colorbar\": {\"outlinewidth\": 0, \"ticks\": \"\"}, \"type\": \"choropleth\"}], \"contour\": [{\"colorbar\": {\"outlinewidth\": 0, \"ticks\": \"\"}, \"colorscale\": [[0.0, \"#0d0887\"], [0.1111111111111111, \"#46039f\"], [0.2222222222222222, \"#7201a8\"], [0.3333333333333333, \"#9c179e\"], [0.4444444444444444, \"#bd3786\"], [0.5555555555555556, \"#d8576b\"], [0.6666666666666666, \"#ed7953\"], [0.7777777777777778, \"#fb9f3a\"], [0.8888888888888888, \"#fdca26\"], [1.0, \"#f0f921\"]], \"type\": \"contour\"}], \"contourcarpet\": [{\"colorbar\": {\"outlinewidth\": 0, \"ticks\": \"\"}, \"type\": \"contourcarpet\"}], \"heatmap\": [{\"colorbar\": {\"outlinewidth\": 0, \"ticks\": \"\"}, \"colorscale\": [[0.0, \"#0d0887\"], [0.1111111111111111, \"#46039f\"], [0.2222222222222222, \"#7201a8\"], [0.3333333333333333, \"#9c179e\"], [0.4444444444444444, \"#bd3786\"], [0.5555555555555556, \"#d8576b\"], [0.6666666666666666, \"#ed7953\"], [0.7777777777777778, \"#fb9f3a\"], [0.8888888888888888, \"#fdca26\"], [1.0, \"#f0f921\"]], \"type\": \"heatmap\"}], \"heatmapgl\": [{\"colorbar\": {\"outlinewidth\": 0, \"ticks\": \"\"}, \"colorscale\": [[0.0, \"#0d0887\"], [0.1111111111111111, \"#46039f\"], [0.2222222222222222, \"#7201a8\"], [0.3333333333333333, \"#9c179e\"], [0.4444444444444444, \"#bd3786\"], [0.5555555555555556, \"#d8576b\"], [0.6666666666666666, \"#ed7953\"], [0.7777777777777778, \"#fb9f3a\"], [0.8888888888888888, \"#fdca26\"], [1.0, \"#f0f921\"]], \"type\": \"heatmapgl\"}], \"histogram\": [{\"marker\": {\"colorbar\": {\"outlinewidth\": 0, \"ticks\": \"\"}}, \"type\": \"histogram\"}], \"histogram2d\": [{\"colorbar\": {\"outlinewidth\": 0, \"ticks\": \"\"}, \"colorscale\": [[0.0, \"#0d0887\"], [0.1111111111111111, \"#46039f\"], [0.2222222222222222, \"#7201a8\"], [0.3333333333333333, \"#9c179e\"], [0.4444444444444444, \"#bd3786\"], [0.5555555555555556, \"#d8576b\"], [0.6666666666666666, \"#ed7953\"], [0.7777777777777778, \"#fb9f3a\"], [0.8888888888888888, \"#fdca26\"], [1.0, \"#f0f921\"]], \"type\": \"histogram2d\"}], \"histogram2dcontour\": [{\"colorbar\": {\"outlinewidth\": 0, \"ticks\": \"\"}, \"colorscale\": [[0.0, \"#0d0887\"], [0.1111111111111111, \"#46039f\"], [0.2222222222222222, \"#7201a8\"], [0.3333333333333333, \"#9c179e\"], [0.4444444444444444, \"#bd3786\"], [0.5555555555555556, \"#d8576b\"], [0.6666666666666666, \"#ed7953\"], [0.7777777777777778, \"#fb9f3a\"], [0.8888888888888888, \"#fdca26\"], [1.0, \"#f0f921\"]], \"type\": \"histogram2dcontour\"}], \"mesh3d\": [{\"colorbar\": {\"outlinewidth\": 0, \"ticks\": \"\"}, \"type\": \"mesh3d\"}], \"parcoords\": [{\"line\": {\"colorbar\": {\"outlinewidth\": 0, \"ticks\": \"\"}}, \"type\": \"parcoords\"}], \"scatter\": [{\"marker\": {\"colorbar\": {\"outlinewidth\": 0, \"ticks\": \"\"}}, \"type\": \"scatter\"}], \"scatter3d\": [{\"line\": {\"colorbar\": {\"outlinewidth\": 0, \"ticks\": \"\"}}, \"marker\": {\"colorbar\": {\"outlinewidth\": 0, \"ticks\": \"\"}}, \"type\": \"scatter3d\"}], \"scattercarpet\": [{\"marker\": {\"colorbar\": {\"outlinewidth\": 0, \"ticks\": \"\"}}, \"type\": \"scattercarpet\"}], \"scattergeo\": [{\"marker\": {\"colorbar\": {\"outlinewidth\": 0, \"ticks\": \"\"}}, \"type\": \"scattergeo\"}], \"scattergl\": [{\"marker\": {\"colorbar\": {\"outlinewidth\": 0, \"ticks\": \"\"}}, \"type\": \"scattergl\"}], \"scattermapbox\": [{\"marker\": {\"colorbar\": {\"outlinewidth\": 0, \"ticks\": \"\"}}, \"type\": \"scattermapbox\"}], \"scatterpolar\": [{\"marker\": {\"colorbar\": {\"outlinewidth\": 0, \"ticks\": \"\"}}, \"type\": \"scatterpolar\"}], \"scatterpolargl\": [{\"marker\": {\"colorbar\": {\"outlinewidth\": 0, \"ticks\": \"\"}}, \"type\": \"scatterpolargl\"}], \"scatterternary\": [{\"marker\": {\"colorbar\": {\"outlinewidth\": 0, \"ticks\": \"\"}}, \"type\": \"scatterternary\"}], \"surface\": [{\"colorbar\": {\"outlinewidth\": 0, \"ticks\": \"\"}, \"colorscale\": [[0.0, \"#0d0887\"], [0.1111111111111111, \"#46039f\"], [0.2222222222222222, \"#7201a8\"], [0.3333333333333333, \"#9c179e\"], [0.4444444444444444, \"#bd3786\"], [0.5555555555555556, \"#d8576b\"], [0.6666666666666666, \"#ed7953\"], [0.7777777777777778, \"#fb9f3a\"], [0.8888888888888888, \"#fdca26\"], [1.0, \"#f0f921\"]], \"type\": \"surface\"}], \"table\": [{\"cells\": {\"fill\": {\"color\": \"#EBF0F8\"}, \"line\": {\"color\": \"white\"}}, \"header\": {\"fill\": {\"color\": \"#C8D4E3\"}, \"line\": {\"color\": \"white\"}}, \"type\": \"table\"}]}, \"layout\": {\"annotationdefaults\": {\"arrowcolor\": \"#2a3f5f\", \"arrowhead\": 0, \"arrowwidth\": 1}, \"colorscale\": {\"diverging\": [[0, \"#8e0152\"], [0.1, \"#c51b7d\"], [0.2, \"#de77ae\"], [0.3, \"#f1b6da\"], [0.4, \"#fde0ef\"], [0.5, \"#f7f7f7\"], [0.6, \"#e6f5d0\"], [0.7, \"#b8e186\"], [0.8, \"#7fbc41\"], [0.9, \"#4d9221\"], [1, \"#276419\"]], \"sequential\": [[0.0, \"#0d0887\"], [0.1111111111111111, \"#46039f\"], [0.2222222222222222, \"#7201a8\"], [0.3333333333333333, \"#9c179e\"], [0.4444444444444444, \"#bd3786\"], [0.5555555555555556, \"#d8576b\"], [0.6666666666666666, \"#ed7953\"], [0.7777777777777778, \"#fb9f3a\"], [0.8888888888888888, \"#fdca26\"], [1.0, \"#f0f921\"]], \"sequentialminus\": [[0.0, \"#0d0887\"], [0.1111111111111111, \"#46039f\"], [0.2222222222222222, \"#7201a8\"], [0.3333333333333333, \"#9c179e\"], [0.4444444444444444, \"#bd3786\"], [0.5555555555555556, \"#d8576b\"], [0.6666666666666666, \"#ed7953\"], [0.7777777777777778, \"#fb9f3a\"], [0.8888888888888888, \"#fdca26\"], [1.0, \"#f0f921\"]]}, \"colorway\": [\"#636efa\", \"#EF553B\", \"#00cc96\", \"#ab63fa\", \"#FFA15A\", \"#19d3f3\", \"#FF6692\", \"#B6E880\", \"#FF97FF\", \"#FECB52\"], \"font\": {\"color\": \"#2a3f5f\"}, \"geo\": {\"bgcolor\": \"white\", \"lakecolor\": \"white\", \"landcolor\": \"#E5ECF6\", \"showlakes\": true, \"showland\": true, \"subunitcolor\": \"white\"}, \"hoverlabel\": {\"align\": \"left\"}, \"hovermode\": \"closest\", \"mapbox\": {\"style\": \"light\"}, \"paper_bgcolor\": \"white\", \"plot_bgcolor\": \"#E5ECF6\", \"polar\": {\"angularaxis\": {\"gridcolor\": \"white\", \"linecolor\": \"white\", \"ticks\": \"\"}, \"bgcolor\": \"#E5ECF6\", \"radialaxis\": {\"gridcolor\": \"white\", \"linecolor\": \"white\", \"ticks\": \"\"}}, \"scene\": {\"xaxis\": {\"backgroundcolor\": \"#E5ECF6\", \"gridcolor\": \"white\", \"gridwidth\": 2, \"linecolor\": \"white\", \"showbackground\": true, \"ticks\": \"\", \"zerolinecolor\": \"white\"}, \"yaxis\": {\"backgroundcolor\": \"#E5ECF6\", \"gridcolor\": \"white\", \"gridwidth\": 2, \"linecolor\": \"white\", \"showbackground\": true, \"ticks\": \"\", \"zerolinecolor\": \"white\"}, \"zaxis\": {\"backgroundcolor\": \"#E5ECF6\", \"gridcolor\": \"white\", \"gridwidth\": 2, \"linecolor\": \"white\", \"showbackground\": true, \"ticks\": \"\", \"zerolinecolor\": \"white\"}}, \"shapedefaults\": {\"line\": {\"color\": \"#2a3f5f\"}}, \"ternary\": {\"aaxis\": {\"gridcolor\": \"white\", \"linecolor\": \"white\", \"ticks\": \"\"}, \"baxis\": {\"gridcolor\": \"white\", \"linecolor\": \"white\", \"ticks\": \"\"}, \"bgcolor\": \"#E5ECF6\", \"caxis\": {\"gridcolor\": \"white\", \"linecolor\": \"white\", \"ticks\": \"\"}}, \"title\": {\"x\": 0.05}, \"xaxis\": {\"automargin\": true, \"gridcolor\": \"white\", \"linecolor\": \"white\", \"ticks\": \"\", \"zerolinecolor\": \"white\", \"zerolinewidth\": 2}, \"yaxis\": {\"automargin\": true, \"gridcolor\": \"white\", \"linecolor\": \"white\", \"ticks\": \"\", \"zerolinecolor\": \"white\", \"zerolinewidth\": 2}}}, \"title\": {\"text\": \"Recall surplus in relation to Postives Share\"}, \"xaxis\": {\"range\": [0, 0.4], \"title\": {\"text\": \"Positives share\"}}, \"yaxis\": {\"title\": {\"text\": \"Recall surplus\"}}},\n",
       "                        {\"responsive\": true}\n",
       "                    ).then(function(){\n",
       "                            \n",
       "var gd = document.getElementById('cadaf4fe-9b57-48c5-9a58-414e082aaea8');\n",
       "var x = new MutationObserver(function (mutations, observer) {{\n",
       "        var display = window.getComputedStyle(gd).display;\n",
       "        if (!display || display === 'none') {{\n",
       "            console.log([gd, 'removed!']);\n",
       "            Plotly.purge(gd);\n",
       "            observer.disconnect();\n",
       "        }}\n",
       "}});\n",
       "\n",
       "// Listen for the removal of the full notebook cells\n",
       "var notebookContainer = gd.closest('#notebook-container');\n",
       "if (notebookContainer) {{\n",
       "    x.observe(notebookContainer, {childList: true});\n",
       "}}\n",
       "\n",
       "// Listen for the clearing of the current output cell\n",
       "var outputEl = gd.closest('.output');\n",
       "if (outputEl) {{\n",
       "    x.observe(outputEl, {childList: true});\n",
       "}}\n",
       "\n",
       "                        })\n",
       "                };\n",
       "                });\n",
       "            </script>\n",
       "        </div>"
      ]
     },
     "metadata": {},
     "output_type": "display_data"
    }
   ],
   "source": [
    "    trace0=go.Scatter(\n",
    "            y=RF_pr_test.recall-RF_pr_test.positives_share,\n",
    "            x=RF_pr_test.positives_share,\n",
    "            mode='lines',\n",
    "            marker=dict(\n",
    "            color=\"blue\",\n",
    "            size=5,\n",
    "            opacity=0.5\n",
    "            ),\n",
    "            name=\"Random Forest Classifier\"\n",
    "        )\n",
    "    \n",
    "    trace1=go.Scatter(\n",
    "            y=DNN_test.recall-DNN_test.positives_share,\n",
    "            x=DNN_test.positives_share,\n",
    "            mode='lines',\n",
    "            marker=dict(\n",
    "            color=\"red\",\n",
    "            size=5,\n",
    "            opacity=0.5\n",
    "            ),\n",
    "            name=\"Fully connected DNN\"\n",
    "        )\n",
    "    \n",
    "    trace2=go.Scatter(\n",
    "            y=gru_pr_test.recall-gru_pr_test.positives_share,\n",
    "            x=gru_pr_test.positives_share,\n",
    "            mode='lines',\n",
    "            marker=dict(\n",
    "            color=\"green\",\n",
    "            size=5,\n",
    "            opacity=0.5\n",
    "            ),\n",
    "            name=\"RNN with GRU cells\"\n",
    "        )\n",
    "\n",
    "    trace3=go.Scatter(\n",
    "            y=Ensemble_pr_test.recall-Ensemble_pr_test.positives_share,\n",
    "            x=Ensemble_pr_test.positives_share,\n",
    "            mode='lines',\n",
    "            marker=dict(\n",
    "            color=\"yellow\",\n",
    "            size=5,\n",
    "            opacity=0.5\n",
    "            ),\n",
    "            name=\"Ensemble Model\"\n",
    "        )\n",
    "\n",
    "    \n",
    "\n",
    "\n",
    "\n",
    "    data=[trace0, trace1,trace2,trace3]\n",
    "    figure=go.Figure(\n",
    "        data=data,\n",
    "        layout=go.Layout(\n",
    "            title=\"Recall surplus in relation to Postives Share\",\n",
    "            yaxis=dict(title=\"Recall surplus\"),\n",
    "            xaxis=dict(title=\"Positives share\", range=[0,0.4]),\n",
    "            legend=dict(\n",
    "                x=0.76,\n",
    "                y=0,\n",
    "                traceorder=\"normal\",\n",
    "                font=dict(\n",
    "                    family=\"sans-serif\",\n",
    "                    size=12,\n",
    "                    color=\"black\"\n",
    "                ),\n",
    "            bgcolor=None\n",
    "\n",
    "\n",
    "        )))\n",
    "    iplot(figure)"
   ]
  },
  {
   "cell_type": "code",
   "execution_count": 51,
   "metadata": {},
   "outputs": [
    {
     "data": {
      "application/vnd.plotly.v1+json": {
       "config": {
        "linkText": "Export to plot.ly",
        "plotlyServerURL": "https://plot.ly",
        "showLink": false
       },
       "data": [
        {
         "marker": {
          "color": "blue",
          "opacity": 0.5,
          "size": 5
         },
         "mode": "lines",
         "name": "Random Forest Classifier",
         "type": "scatter",
         "x": [
          1,
          1,
          1,
          1,
          1,
          1,
          1,
          1,
          1,
          1,
          1,
          1,
          1,
          1,
          1,
          1,
          1,
          1,
          1,
          1,
          1,
          1,
          1,
          1,
          1,
          1,
          1,
          1,
          1,
          1,
          1,
          1,
          1,
          1,
          1,
          1,
          1,
          1,
          0.8012232415902141,
          0.6605504587155964,
          0.5749235474006116,
          0.5290519877675841,
          0.4801223241590214,
          0.4495412844036697,
          0.418960244648318,
          0.3792048929663608,
          0.3486238532110092,
          0.308868501529052,
          0.290519877675841,
          0.2660550458715596,
          0.253822629969419,
          0.2415902140672783,
          0.2262996941896024,
          0.2140672782874618,
          0.1926605504587156,
          0.1804281345565749,
          0.1498470948012232,
          0.1253822629969419,
          0.1100917431192661,
          0.09480122324159021,
          0.08256880733944955,
          0.07339449541284404,
          0.0581039755351682,
          0.04587155963302753,
          0.03058103975535168,
          0.01834862385321101,
          0.01834862385321101,
          0.006116207951070336,
          0.003058103975535168,
          0.003058103975535168,
          0.003058103975535168,
          0.003058103975535168,
          0,
          0,
          0,
          0,
          0,
          0,
          0,
          0,
          0,
          0,
          0,
          0,
          0,
          0,
          0,
          0,
          0,
          0,
          0,
          0,
          0,
          0,
          0,
          0,
          0,
          0,
          0,
          0
         ],
         "y": [
          1,
          1,
          1,
          1,
          1,
          1,
          1,
          1,
          1,
          1,
          1,
          1,
          1,
          1,
          1,
          1,
          1,
          1,
          1,
          1,
          1,
          1,
          1,
          1,
          1,
          1,
          1,
          1,
          1,
          1,
          1,
          1,
          1,
          1,
          1,
          1,
          1,
          1,
          0.9024390243902439,
          0.8292682926829268,
          0.8292682926829268,
          0.8048780487804879,
          0.7804878048780488,
          0.7804878048780488,
          0.7560975609756098,
          0.6829268292682927,
          0.6585365853658537,
          0.6097560975609756,
          0.5853658536585366,
          0.5365853658536586,
          0.4878048780487805,
          0.4634146341463415,
          0.4390243902439024,
          0.3902439024390244,
          0.3658536585365854,
          0.3658536585365854,
          0.3414634146341464,
          0.3170731707317073,
          0.2682926829268293,
          0.2439024390243902,
          0.2439024390243902,
          0.2195121951219512,
          0.2195121951219512,
          0.1951219512195122,
          0.1219512195121951,
          0.07317073170731707,
          0.07317073170731707,
          0.04878048780487805,
          0.02439024390243903,
          0.02439024390243903,
          0.02439024390243903,
          0.02439024390243903,
          0,
          0,
          0,
          0,
          0,
          0,
          0,
          0,
          0,
          0,
          0,
          0,
          0,
          0,
          0,
          0,
          0,
          0,
          0,
          0,
          0,
          0,
          0,
          0,
          0,
          0,
          0,
          0
         ]
        },
        {
         "marker": {
          "color": "red",
          "opacity": 0.5,
          "size": 5
         },
         "mode": "lines",
         "name": "Fully connected DNN",
         "type": "scatter",
         "x": [
          1,
          0.9908256880733946,
          0.981651376146789,
          0.9602446483180428,
          0.9174311926605505,
          0.8532110091743119,
          0.7370030581039755,
          0.6238532110091743,
          0.5137614678899083,
          0.4373088685015291,
          0.363914373088685,
          0.3211009174311927,
          0.2935779816513762,
          0.2782874617737003,
          0.2599388379204893,
          0.2415902140672783,
          0.2232415902140673,
          0.2048929663608563,
          0.1865443425076453,
          0.1712538226299694,
          0.1406727828746177,
          0.1284403669724771,
          0.1162079510703364,
          0.1070336391437309,
          0.09785932721712538,
          0.07951070336391437,
          0.07033639143730887,
          0.0672782874617737,
          0.06116207951070336,
          0.05504587155963303,
          0.05198776758409786,
          0.04892966360856269,
          0.04587155963302753,
          0.04281345565749235,
          0.03058103975535168,
          0.02140672782874618,
          0.02140672782874618,
          0.02140672782874618,
          0.02140672782874618,
          0.01834862385321101,
          0.01223241590214067,
          0.01223241590214067,
          0.009174311926605505,
          0,
          0,
          0,
          0,
          0,
          0,
          0,
          0,
          0,
          0,
          0,
          0,
          0,
          0,
          0,
          0,
          0,
          0,
          0,
          0,
          0,
          0,
          0,
          0,
          0,
          0,
          0,
          0,
          0,
          0,
          0,
          0,
          0,
          0,
          0,
          0,
          0,
          0,
          0,
          0,
          0,
          0,
          0,
          0,
          0,
          0,
          0,
          0,
          0,
          0,
          0,
          0,
          0,
          0,
          0,
          0,
          0
         ],
         "y": [
          1,
          1,
          1,
          1,
          0.9512195121951219,
          0.926829268292683,
          0.8780487804878049,
          0.8780487804878049,
          0.7804878048780488,
          0.7073170731707317,
          0.6097560975609756,
          0.5853658536585366,
          0.5853658536585366,
          0.5853658536585366,
          0.5365853658536586,
          0.5121951219512195,
          0.5121951219512195,
          0.4878048780487805,
          0.3902439024390244,
          0.3658536585365854,
          0.2926829268292683,
          0.2926829268292683,
          0.2682926829268293,
          0.2439024390243902,
          0.2439024390243902,
          0.2195121951219512,
          0.1951219512195122,
          0.1707317073170732,
          0.1463414634146341,
          0.1463414634146341,
          0.1463414634146341,
          0.1463414634146341,
          0.1219512195121951,
          0.1219512195121951,
          0.1219512195121951,
          0.0975609756097561,
          0.0975609756097561,
          0.0975609756097561,
          0.0975609756097561,
          0.0975609756097561,
          0.07317073170731707,
          0.07317073170731707,
          0.04878048780487805,
          0,
          0,
          0,
          0,
          0,
          0,
          0,
          0,
          0,
          0,
          0,
          0,
          0,
          0,
          0,
          0,
          0,
          0,
          0,
          0,
          0,
          0,
          0,
          0,
          0,
          0,
          0,
          0,
          0,
          0,
          0,
          0,
          0,
          0,
          0,
          0,
          0,
          0,
          0,
          0,
          0,
          0,
          0,
          0,
          0,
          0,
          0,
          0,
          0,
          0,
          0,
          0,
          0,
          0,
          0,
          0,
          0
         ]
        },
        {
         "marker": {
          "color": "green",
          "opacity": 0.5,
          "size": 5
         },
         "mode": "lines",
         "name": "RNN with GRU cells",
         "type": "scatter",
         "x": [
          1,
          1,
          1,
          1,
          0.9971014492753624,
          0.8956521739130435,
          0.6463768115942029,
          0.5420289855072464,
          0.48985507246376814,
          0.463768115942029,
          0.40869565217391307,
          0.37681159420289856,
          0.3536231884057971,
          0.3333333333333333,
          0.2927536231884058,
          0.263768115942029,
          0.23478260869565218,
          0.21159420289855072,
          0.1855072463768116,
          0.15072463768115943,
          0.12753623188405797,
          0.10434782608695652,
          0.08695652173913043,
          0.06666666666666667,
          0.0463768115942029,
          0.034782608695652174,
          0.03188405797101449,
          0.02608695652173913,
          0.02318840579710145,
          0.014492753623188406,
          0.011594202898550725,
          0.008695652173913044,
          0.008695652173913044,
          0.008695652173913044,
          0.008695652173913044,
          0.005797101449275362,
          0.005797101449275362,
          0.005797101449275362,
          0.005797101449275362,
          0.002898550724637681,
          0.002898550724637681,
          0.002898550724637681,
          0.002898550724637681,
          0.002898550724637681,
          0.002898550724637681,
          0.002898550724637681,
          0,
          0,
          0,
          0,
          0,
          0,
          0,
          0,
          0,
          0,
          0,
          0,
          0,
          0,
          0,
          0,
          0,
          0,
          0,
          0,
          0,
          0,
          0,
          0,
          0,
          0,
          0,
          0,
          0,
          0,
          0,
          0,
          0,
          0,
          0,
          0,
          0,
          0,
          0,
          0,
          0,
          0,
          0,
          0,
          0,
          0,
          0,
          0,
          0,
          0,
          0,
          0,
          0,
          0
         ],
         "y": [
          1,
          1,
          1,
          1,
          1,
          0.9545454545454546,
          0.8409090909090909,
          0.7954545454545454,
          0.7272727272727273,
          0.6818181818181818,
          0.6363636363636364,
          0.6363636363636364,
          0.6363636363636364,
          0.6363636363636364,
          0.5909090909090909,
          0.5681818181818182,
          0.5227272727272727,
          0.5,
          0.4772727272727273,
          0.4318181818181818,
          0.38636363636363635,
          0.3181818181818182,
          0.2727272727272727,
          0.22727272727272727,
          0.18181818181818182,
          0.11363636363636363,
          0.11363636363636363,
          0.06818181818181818,
          0.06818181818181818,
          0.045454545454545456,
          0.045454545454545456,
          0.022727272727272728,
          0.022727272727272728,
          0.022727272727272728,
          0.022727272727272728,
          0,
          0,
          0,
          0,
          0,
          0,
          0,
          0,
          0,
          0,
          0,
          0,
          0,
          0,
          0,
          0,
          0,
          0,
          0,
          0,
          0,
          0,
          0,
          0,
          0,
          0,
          0,
          0,
          0,
          0,
          0,
          0,
          0,
          0,
          0,
          0,
          0,
          0,
          0,
          0,
          0,
          0,
          0,
          0,
          0,
          0,
          0,
          0,
          0,
          0,
          0,
          0,
          0,
          0,
          0,
          0,
          0,
          0,
          0,
          0,
          0,
          0,
          0,
          0,
          0
         ]
        },
        {
         "marker": {
          "color": "yellow",
          "opacity": 0.5,
          "size": 5
         },
         "mode": "lines",
         "name": "Ensemble Model",
         "type": "scatter",
         "x": [
          1,
          1,
          1,
          1,
          1,
          1,
          1,
          1,
          1,
          1,
          1,
          1,
          1,
          1,
          1,
          1,
          1,
          1,
          1,
          1,
          1,
          1,
          1,
          1,
          1,
          1,
          1,
          1,
          1,
          1,
          0.9938837920489296,
          0.981651376146789,
          0.7247706422018348,
          0.5412844036697247,
          0.4464831804281346,
          0.3914373088685015,
          0.3058103975535168,
          0.2691131498470948,
          0.2354740061162079,
          0.1987767584097859,
          0.1590214067278287,
          0.1223241590214067,
          0.1009174311926606,
          0.0764525993883792,
          0.06422018348623854,
          0.04587155963302753,
          0.03669724770642202,
          0.02752293577981652,
          0.02140672782874618,
          0.009174311926605505,
          0.009174311926605505,
          0.009174311926605505,
          0.006116207951070336,
          0.006116207951070336,
          0.003058103975535168,
          0.003058103975535168,
          0.003058103975535168,
          0.003058103975535168,
          0.003058103975535168,
          0.003058103975535168,
          0,
          0,
          0,
          0,
          0,
          0,
          0,
          0,
          0,
          0,
          0,
          0,
          0,
          0,
          0,
          0,
          0,
          0,
          0,
          0,
          0,
          0,
          0,
          0,
          0,
          0,
          0,
          0,
          0,
          0,
          0,
          0,
          0,
          0,
          0,
          0,
          0,
          0,
          0,
          0
         ],
         "y": [
          1,
          1,
          1,
          1,
          1,
          1,
          1,
          1,
          1,
          1,
          1,
          1,
          1,
          1,
          1,
          1,
          1,
          1,
          1,
          1,
          1,
          1,
          1,
          1,
          1,
          1,
          1,
          1,
          1,
          1,
          1,
          1,
          0.926829268292683,
          0.8292682926829268,
          0.7560975609756098,
          0.6829268292682927,
          0.5853658536585366,
          0.5121951219512195,
          0.4146341463414634,
          0.3902439024390244,
          0.3414634146341464,
          0.3414634146341464,
          0.2439024390243902,
          0.2195121951219512,
          0.1951219512195122,
          0.1707317073170732,
          0.1219512195121951,
          0.0975609756097561,
          0.07317073170731707,
          0.04878048780487805,
          0.04878048780487805,
          0.04878048780487805,
          0.04878048780487805,
          0.04878048780487805,
          0.02439024390243903,
          0.02439024390243903,
          0.02439024390243903,
          0.02439024390243903,
          0.02439024390243903,
          0.02439024390243903,
          0,
          0,
          0,
          0,
          0,
          0,
          0,
          0,
          0,
          0,
          0,
          0,
          0,
          0,
          0,
          0,
          0,
          0,
          0,
          0,
          0,
          0,
          0,
          0,
          0,
          0,
          0,
          0,
          0,
          0,
          0,
          0,
          0,
          0,
          0,
          0,
          0,
          0,
          0,
          0
         ]
        }
       ],
       "layout": {
        "legend": {
         "font": {
          "color": "black",
          "family": "sans-serif",
          "size": 12
         },
         "traceorder": "normal",
         "x": 0.76,
         "y": 0
        },
        "template": {
         "data": {
          "bar": [
           {
            "error_x": {
             "color": "#2a3f5f"
            },
            "error_y": {
             "color": "#2a3f5f"
            },
            "marker": {
             "line": {
              "color": "#E5ECF6",
              "width": 0.5
             }
            },
            "type": "bar"
           }
          ],
          "barpolar": [
           {
            "marker": {
             "line": {
              "color": "#E5ECF6",
              "width": 0.5
             }
            },
            "type": "barpolar"
           }
          ],
          "carpet": [
           {
            "aaxis": {
             "endlinecolor": "#2a3f5f",
             "gridcolor": "white",
             "linecolor": "white",
             "minorgridcolor": "white",
             "startlinecolor": "#2a3f5f"
            },
            "baxis": {
             "endlinecolor": "#2a3f5f",
             "gridcolor": "white",
             "linecolor": "white",
             "minorgridcolor": "white",
             "startlinecolor": "#2a3f5f"
            },
            "type": "carpet"
           }
          ],
          "choropleth": [
           {
            "colorbar": {
             "outlinewidth": 0,
             "ticks": ""
            },
            "type": "choropleth"
           }
          ],
          "contour": [
           {
            "colorbar": {
             "outlinewidth": 0,
             "ticks": ""
            },
            "colorscale": [
             [
              0,
              "#0d0887"
             ],
             [
              0.1111111111111111,
              "#46039f"
             ],
             [
              0.2222222222222222,
              "#7201a8"
             ],
             [
              0.3333333333333333,
              "#9c179e"
             ],
             [
              0.4444444444444444,
              "#bd3786"
             ],
             [
              0.5555555555555556,
              "#d8576b"
             ],
             [
              0.6666666666666666,
              "#ed7953"
             ],
             [
              0.7777777777777778,
              "#fb9f3a"
             ],
             [
              0.8888888888888888,
              "#fdca26"
             ],
             [
              1,
              "#f0f921"
             ]
            ],
            "type": "contour"
           }
          ],
          "contourcarpet": [
           {
            "colorbar": {
             "outlinewidth": 0,
             "ticks": ""
            },
            "type": "contourcarpet"
           }
          ],
          "heatmap": [
           {
            "colorbar": {
             "outlinewidth": 0,
             "ticks": ""
            },
            "colorscale": [
             [
              0,
              "#0d0887"
             ],
             [
              0.1111111111111111,
              "#46039f"
             ],
             [
              0.2222222222222222,
              "#7201a8"
             ],
             [
              0.3333333333333333,
              "#9c179e"
             ],
             [
              0.4444444444444444,
              "#bd3786"
             ],
             [
              0.5555555555555556,
              "#d8576b"
             ],
             [
              0.6666666666666666,
              "#ed7953"
             ],
             [
              0.7777777777777778,
              "#fb9f3a"
             ],
             [
              0.8888888888888888,
              "#fdca26"
             ],
             [
              1,
              "#f0f921"
             ]
            ],
            "type": "heatmap"
           }
          ],
          "heatmapgl": [
           {
            "colorbar": {
             "outlinewidth": 0,
             "ticks": ""
            },
            "colorscale": [
             [
              0,
              "#0d0887"
             ],
             [
              0.1111111111111111,
              "#46039f"
             ],
             [
              0.2222222222222222,
              "#7201a8"
             ],
             [
              0.3333333333333333,
              "#9c179e"
             ],
             [
              0.4444444444444444,
              "#bd3786"
             ],
             [
              0.5555555555555556,
              "#d8576b"
             ],
             [
              0.6666666666666666,
              "#ed7953"
             ],
             [
              0.7777777777777778,
              "#fb9f3a"
             ],
             [
              0.8888888888888888,
              "#fdca26"
             ],
             [
              1,
              "#f0f921"
             ]
            ],
            "type": "heatmapgl"
           }
          ],
          "histogram": [
           {
            "marker": {
             "colorbar": {
              "outlinewidth": 0,
              "ticks": ""
             }
            },
            "type": "histogram"
           }
          ],
          "histogram2d": [
           {
            "colorbar": {
             "outlinewidth": 0,
             "ticks": ""
            },
            "colorscale": [
             [
              0,
              "#0d0887"
             ],
             [
              0.1111111111111111,
              "#46039f"
             ],
             [
              0.2222222222222222,
              "#7201a8"
             ],
             [
              0.3333333333333333,
              "#9c179e"
             ],
             [
              0.4444444444444444,
              "#bd3786"
             ],
             [
              0.5555555555555556,
              "#d8576b"
             ],
             [
              0.6666666666666666,
              "#ed7953"
             ],
             [
              0.7777777777777778,
              "#fb9f3a"
             ],
             [
              0.8888888888888888,
              "#fdca26"
             ],
             [
              1,
              "#f0f921"
             ]
            ],
            "type": "histogram2d"
           }
          ],
          "histogram2dcontour": [
           {
            "colorbar": {
             "outlinewidth": 0,
             "ticks": ""
            },
            "colorscale": [
             [
              0,
              "#0d0887"
             ],
             [
              0.1111111111111111,
              "#46039f"
             ],
             [
              0.2222222222222222,
              "#7201a8"
             ],
             [
              0.3333333333333333,
              "#9c179e"
             ],
             [
              0.4444444444444444,
              "#bd3786"
             ],
             [
              0.5555555555555556,
              "#d8576b"
             ],
             [
              0.6666666666666666,
              "#ed7953"
             ],
             [
              0.7777777777777778,
              "#fb9f3a"
             ],
             [
              0.8888888888888888,
              "#fdca26"
             ],
             [
              1,
              "#f0f921"
             ]
            ],
            "type": "histogram2dcontour"
           }
          ],
          "mesh3d": [
           {
            "colorbar": {
             "outlinewidth": 0,
             "ticks": ""
            },
            "type": "mesh3d"
           }
          ],
          "parcoords": [
           {
            "line": {
             "colorbar": {
              "outlinewidth": 0,
              "ticks": ""
             }
            },
            "type": "parcoords"
           }
          ],
          "scatter": [
           {
            "marker": {
             "colorbar": {
              "outlinewidth": 0,
              "ticks": ""
             }
            },
            "type": "scatter"
           }
          ],
          "scatter3d": [
           {
            "line": {
             "colorbar": {
              "outlinewidth": 0,
              "ticks": ""
             }
            },
            "marker": {
             "colorbar": {
              "outlinewidth": 0,
              "ticks": ""
             }
            },
            "type": "scatter3d"
           }
          ],
          "scattercarpet": [
           {
            "marker": {
             "colorbar": {
              "outlinewidth": 0,
              "ticks": ""
             }
            },
            "type": "scattercarpet"
           }
          ],
          "scattergeo": [
           {
            "marker": {
             "colorbar": {
              "outlinewidth": 0,
              "ticks": ""
             }
            },
            "type": "scattergeo"
           }
          ],
          "scattergl": [
           {
            "marker": {
             "colorbar": {
              "outlinewidth": 0,
              "ticks": ""
             }
            },
            "type": "scattergl"
           }
          ],
          "scattermapbox": [
           {
            "marker": {
             "colorbar": {
              "outlinewidth": 0,
              "ticks": ""
             }
            },
            "type": "scattermapbox"
           }
          ],
          "scatterpolar": [
           {
            "marker": {
             "colorbar": {
              "outlinewidth": 0,
              "ticks": ""
             }
            },
            "type": "scatterpolar"
           }
          ],
          "scatterpolargl": [
           {
            "marker": {
             "colorbar": {
              "outlinewidth": 0,
              "ticks": ""
             }
            },
            "type": "scatterpolargl"
           }
          ],
          "scatterternary": [
           {
            "marker": {
             "colorbar": {
              "outlinewidth": 0,
              "ticks": ""
             }
            },
            "type": "scatterternary"
           }
          ],
          "surface": [
           {
            "colorbar": {
             "outlinewidth": 0,
             "ticks": ""
            },
            "colorscale": [
             [
              0,
              "#0d0887"
             ],
             [
              0.1111111111111111,
              "#46039f"
             ],
             [
              0.2222222222222222,
              "#7201a8"
             ],
             [
              0.3333333333333333,
              "#9c179e"
             ],
             [
              0.4444444444444444,
              "#bd3786"
             ],
             [
              0.5555555555555556,
              "#d8576b"
             ],
             [
              0.6666666666666666,
              "#ed7953"
             ],
             [
              0.7777777777777778,
              "#fb9f3a"
             ],
             [
              0.8888888888888888,
              "#fdca26"
             ],
             [
              1,
              "#f0f921"
             ]
            ],
            "type": "surface"
           }
          ],
          "table": [
           {
            "cells": {
             "fill": {
              "color": "#EBF0F8"
             },
             "line": {
              "color": "white"
             }
            },
            "header": {
             "fill": {
              "color": "#C8D4E3"
             },
             "line": {
              "color": "white"
             }
            },
            "type": "table"
           }
          ]
         },
         "layout": {
          "annotationdefaults": {
           "arrowcolor": "#2a3f5f",
           "arrowhead": 0,
           "arrowwidth": 1
          },
          "colorscale": {
           "diverging": [
            [
             0,
             "#8e0152"
            ],
            [
             0.1,
             "#c51b7d"
            ],
            [
             0.2,
             "#de77ae"
            ],
            [
             0.3,
             "#f1b6da"
            ],
            [
             0.4,
             "#fde0ef"
            ],
            [
             0.5,
             "#f7f7f7"
            ],
            [
             0.6,
             "#e6f5d0"
            ],
            [
             0.7,
             "#b8e186"
            ],
            [
             0.8,
             "#7fbc41"
            ],
            [
             0.9,
             "#4d9221"
            ],
            [
             1,
             "#276419"
            ]
           ],
           "sequential": [
            [
             0,
             "#0d0887"
            ],
            [
             0.1111111111111111,
             "#46039f"
            ],
            [
             0.2222222222222222,
             "#7201a8"
            ],
            [
             0.3333333333333333,
             "#9c179e"
            ],
            [
             0.4444444444444444,
             "#bd3786"
            ],
            [
             0.5555555555555556,
             "#d8576b"
            ],
            [
             0.6666666666666666,
             "#ed7953"
            ],
            [
             0.7777777777777778,
             "#fb9f3a"
            ],
            [
             0.8888888888888888,
             "#fdca26"
            ],
            [
             1,
             "#f0f921"
            ]
           ],
           "sequentialminus": [
            [
             0,
             "#0d0887"
            ],
            [
             0.1111111111111111,
             "#46039f"
            ],
            [
             0.2222222222222222,
             "#7201a8"
            ],
            [
             0.3333333333333333,
             "#9c179e"
            ],
            [
             0.4444444444444444,
             "#bd3786"
            ],
            [
             0.5555555555555556,
             "#d8576b"
            ],
            [
             0.6666666666666666,
             "#ed7953"
            ],
            [
             0.7777777777777778,
             "#fb9f3a"
            ],
            [
             0.8888888888888888,
             "#fdca26"
            ],
            [
             1,
             "#f0f921"
            ]
           ]
          },
          "colorway": [
           "#636efa",
           "#EF553B",
           "#00cc96",
           "#ab63fa",
           "#FFA15A",
           "#19d3f3",
           "#FF6692",
           "#B6E880",
           "#FF97FF",
           "#FECB52"
          ],
          "font": {
           "color": "#2a3f5f"
          },
          "geo": {
           "bgcolor": "white",
           "lakecolor": "white",
           "landcolor": "#E5ECF6",
           "showlakes": true,
           "showland": true,
           "subunitcolor": "white"
          },
          "hoverlabel": {
           "align": "left"
          },
          "hovermode": "closest",
          "mapbox": {
           "style": "light"
          },
          "paper_bgcolor": "white",
          "plot_bgcolor": "#E5ECF6",
          "polar": {
           "angularaxis": {
            "gridcolor": "white",
            "linecolor": "white",
            "ticks": ""
           },
           "bgcolor": "#E5ECF6",
           "radialaxis": {
            "gridcolor": "white",
            "linecolor": "white",
            "ticks": ""
           }
          },
          "scene": {
           "xaxis": {
            "backgroundcolor": "#E5ECF6",
            "gridcolor": "white",
            "gridwidth": 2,
            "linecolor": "white",
            "showbackground": true,
            "ticks": "",
            "zerolinecolor": "white"
           },
           "yaxis": {
            "backgroundcolor": "#E5ECF6",
            "gridcolor": "white",
            "gridwidth": 2,
            "linecolor": "white",
            "showbackground": true,
            "ticks": "",
            "zerolinecolor": "white"
           },
           "zaxis": {
            "backgroundcolor": "#E5ECF6",
            "gridcolor": "white",
            "gridwidth": 2,
            "linecolor": "white",
            "showbackground": true,
            "ticks": "",
            "zerolinecolor": "white"
           }
          },
          "shapedefaults": {
           "line": {
            "color": "#2a3f5f"
           }
          },
          "ternary": {
           "aaxis": {
            "gridcolor": "white",
            "linecolor": "white",
            "ticks": ""
           },
           "baxis": {
            "gridcolor": "white",
            "linecolor": "white",
            "ticks": ""
           },
           "bgcolor": "#E5ECF6",
           "caxis": {
            "gridcolor": "white",
            "linecolor": "white",
            "ticks": ""
           }
          },
          "title": {
           "x": 0.05
          },
          "xaxis": {
           "automargin": true,
           "gridcolor": "white",
           "linecolor": "white",
           "ticks": "",
           "zerolinecolor": "white",
           "zerolinewidth": 2
          },
          "yaxis": {
           "automargin": true,
           "gridcolor": "white",
           "linecolor": "white",
           "ticks": "",
           "zerolinecolor": "white",
           "zerolinewidth": 2
          }
         }
        },
        "title": {
         "text": "Recall in relation to Postives Share"
        },
        "xaxis": {
         "range": [
          0,
          0.4
         ],
         "title": {
          "text": "Positives share"
         }
        },
        "yaxis": {
         "title": {
          "text": "Recall"
         }
        }
       }
      },
      "text/html": [
       "<div>\n",
       "        \n",
       "        \n",
       "            <div id=\"2a9966ea-4d7f-4e66-8280-622844f4b54e\" class=\"plotly-graph-div\" style=\"height:525px; width:100%;\"></div>\n",
       "            <script type=\"text/javascript\">\n",
       "                require([\"plotly\"], function(Plotly) {\n",
       "                    window.PLOTLYENV=window.PLOTLYENV || {};\n",
       "                    \n",
       "                if (document.getElementById(\"2a9966ea-4d7f-4e66-8280-622844f4b54e\")) {\n",
       "                    Plotly.newPlot(\n",
       "                        '2a9966ea-4d7f-4e66-8280-622844f4b54e',\n",
       "                        [{\"marker\": {\"color\": \"blue\", \"opacity\": 0.5, \"size\": 5}, \"mode\": \"lines\", \"name\": \"Random Forest Classifier\", \"type\": \"scatter\", \"x\": [1.0, 1.0, 1.0, 1.0, 1.0, 1.0, 1.0, 1.0, 1.0, 1.0, 1.0, 1.0, 1.0, 1.0, 1.0, 1.0, 1.0, 1.0, 1.0, 1.0, 1.0, 1.0, 1.0, 1.0, 1.0, 1.0, 1.0, 1.0, 1.0, 1.0, 1.0, 1.0, 1.0, 1.0, 1.0, 1.0, 1.0, 1.0, 0.8012232415902141, 0.6605504587155964, 0.5749235474006116, 0.5290519877675841, 0.4801223241590214, 0.4495412844036697, 0.418960244648318, 0.3792048929663608, 0.3486238532110092, 0.308868501529052, 0.290519877675841, 0.2660550458715596, 0.253822629969419, 0.2415902140672783, 0.2262996941896024, 0.2140672782874618, 0.1926605504587156, 0.1804281345565749, 0.1498470948012232, 0.1253822629969419, 0.1100917431192661, 0.09480122324159021, 0.08256880733944955, 0.07339449541284404, 0.0581039755351682, 0.04587155963302753, 0.03058103975535168, 0.01834862385321101, 0.01834862385321101, 0.006116207951070336, 0.003058103975535168, 0.003058103975535168, 0.003058103975535168, 0.003058103975535168, 0.0, 0.0, 0.0, 0.0, 0.0, 0.0, 0.0, 0.0, 0.0, 0.0, 0.0, 0.0, 0.0, 0.0, 0.0, 0.0, 0.0, 0.0, 0.0, 0.0, 0.0, 0.0, 0.0, 0.0, 0.0, 0.0, 0.0, 0.0], \"y\": [1.0, 1.0, 1.0, 1.0, 1.0, 1.0, 1.0, 1.0, 1.0, 1.0, 1.0, 1.0, 1.0, 1.0, 1.0, 1.0, 1.0, 1.0, 1.0, 1.0, 1.0, 1.0, 1.0, 1.0, 1.0, 1.0, 1.0, 1.0, 1.0, 1.0, 1.0, 1.0, 1.0, 1.0, 1.0, 1.0, 1.0, 1.0, 0.9024390243902439, 0.8292682926829268, 0.8292682926829268, 0.8048780487804879, 0.7804878048780488, 0.7804878048780488, 0.7560975609756098, 0.6829268292682927, 0.6585365853658537, 0.6097560975609756, 0.5853658536585366, 0.5365853658536586, 0.4878048780487805, 0.4634146341463415, 0.4390243902439024, 0.3902439024390244, 0.3658536585365854, 0.3658536585365854, 0.3414634146341464, 0.3170731707317073, 0.2682926829268293, 0.2439024390243902, 0.2439024390243902, 0.2195121951219512, 0.2195121951219512, 0.1951219512195122, 0.1219512195121951, 0.07317073170731707, 0.07317073170731707, 0.04878048780487805, 0.02439024390243903, 0.02439024390243903, 0.02439024390243903, 0.02439024390243903, 0.0, 0.0, 0.0, 0.0, 0.0, 0.0, 0.0, 0.0, 0.0, 0.0, 0.0, 0.0, 0.0, 0.0, 0.0, 0.0, 0.0, 0.0, 0.0, 0.0, 0.0, 0.0, 0.0, 0.0, 0.0, 0.0, 0.0, 0.0]}, {\"marker\": {\"color\": \"red\", \"opacity\": 0.5, \"size\": 5}, \"mode\": \"lines\", \"name\": \"Fully connected DNN\", \"type\": \"scatter\", \"x\": [1.0, 0.9908256880733946, 0.981651376146789, 0.9602446483180428, 0.9174311926605505, 0.8532110091743119, 0.7370030581039755, 0.6238532110091743, 0.5137614678899083, 0.4373088685015291, 0.363914373088685, 0.3211009174311927, 0.2935779816513762, 0.2782874617737003, 0.2599388379204893, 0.2415902140672783, 0.2232415902140673, 0.2048929663608563, 0.1865443425076453, 0.1712538226299694, 0.1406727828746177, 0.1284403669724771, 0.1162079510703364, 0.1070336391437309, 0.09785932721712538, 0.07951070336391437, 0.07033639143730887, 0.0672782874617737, 0.06116207951070336, 0.05504587155963303, 0.05198776758409786, 0.04892966360856269, 0.04587155963302753, 0.04281345565749235, 0.03058103975535168, 0.02140672782874618, 0.02140672782874618, 0.02140672782874618, 0.02140672782874618, 0.01834862385321101, 0.01223241590214067, 0.01223241590214067, 0.009174311926605505, 0.0, 0.0, 0.0, 0.0, 0.0, 0.0, 0.0, 0.0, 0.0, 0.0, 0.0, 0.0, 0.0, 0.0, 0.0, 0.0, 0.0, 0.0, 0.0, 0.0, 0.0, 0.0, 0.0, 0.0, 0.0, 0.0, 0.0, 0.0, 0.0, 0.0, 0.0, 0.0, 0.0, 0.0, 0.0, 0.0, 0.0, 0.0, 0.0, 0.0, 0.0, 0.0, 0.0, 0.0, 0.0, 0.0, 0.0, 0.0, 0.0, 0.0, 0.0, 0.0, 0.0, 0.0, 0.0, 0.0, 0.0], \"y\": [1.0, 1.0, 1.0, 1.0, 0.9512195121951219, 0.926829268292683, 0.8780487804878049, 0.8780487804878049, 0.7804878048780488, 0.7073170731707317, 0.6097560975609756, 0.5853658536585366, 0.5853658536585366, 0.5853658536585366, 0.5365853658536586, 0.5121951219512195, 0.5121951219512195, 0.4878048780487805, 0.3902439024390244, 0.3658536585365854, 0.2926829268292683, 0.2926829268292683, 0.2682926829268293, 0.2439024390243902, 0.2439024390243902, 0.2195121951219512, 0.1951219512195122, 0.1707317073170732, 0.1463414634146341, 0.1463414634146341, 0.1463414634146341, 0.1463414634146341, 0.1219512195121951, 0.1219512195121951, 0.1219512195121951, 0.0975609756097561, 0.0975609756097561, 0.0975609756097561, 0.0975609756097561, 0.0975609756097561, 0.07317073170731707, 0.07317073170731707, 0.04878048780487805, 0.0, 0.0, 0.0, 0.0, 0.0, 0.0, 0.0, 0.0, 0.0, 0.0, 0.0, 0.0, 0.0, 0.0, 0.0, 0.0, 0.0, 0.0, 0.0, 0.0, 0.0, 0.0, 0.0, 0.0, 0.0, 0.0, 0.0, 0.0, 0.0, 0.0, 0.0, 0.0, 0.0, 0.0, 0.0, 0.0, 0.0, 0.0, 0.0, 0.0, 0.0, 0.0, 0.0, 0.0, 0.0, 0.0, 0.0, 0.0, 0.0, 0.0, 0.0, 0.0, 0.0, 0.0, 0.0, 0.0, 0.0]}, {\"marker\": {\"color\": \"green\", \"opacity\": 0.5, \"size\": 5}, \"mode\": \"lines\", \"name\": \"RNN with GRU cells\", \"type\": \"scatter\", \"x\": [1.0, 1.0, 1.0, 1.0, 0.9971014492753624, 0.8956521739130435, 0.6463768115942029, 0.5420289855072464, 0.48985507246376814, 0.463768115942029, 0.40869565217391307, 0.37681159420289856, 0.3536231884057971, 0.3333333333333333, 0.2927536231884058, 0.263768115942029, 0.23478260869565218, 0.21159420289855072, 0.1855072463768116, 0.15072463768115943, 0.12753623188405797, 0.10434782608695652, 0.08695652173913043, 0.06666666666666667, 0.0463768115942029, 0.034782608695652174, 0.03188405797101449, 0.02608695652173913, 0.02318840579710145, 0.014492753623188406, 0.011594202898550725, 0.008695652173913044, 0.008695652173913044, 0.008695652173913044, 0.008695652173913044, 0.005797101449275362, 0.005797101449275362, 0.005797101449275362, 0.005797101449275362, 0.002898550724637681, 0.002898550724637681, 0.002898550724637681, 0.002898550724637681, 0.002898550724637681, 0.002898550724637681, 0.002898550724637681, 0.0, 0.0, 0.0, 0.0, 0.0, 0.0, 0.0, 0.0, 0.0, 0.0, 0.0, 0.0, 0.0, 0.0, 0.0, 0.0, 0.0, 0.0, 0.0, 0.0, 0.0, 0.0, 0.0, 0.0, 0.0, 0.0, 0.0, 0.0, 0.0, 0.0, 0.0, 0.0, 0.0, 0.0, 0.0, 0.0, 0.0, 0.0, 0.0, 0.0, 0.0, 0.0, 0.0, 0.0, 0.0, 0.0, 0.0, 0.0, 0.0, 0.0, 0.0, 0.0, 0.0, 0.0], \"y\": [1.0, 1.0, 1.0, 1.0, 1.0, 0.9545454545454546, 0.8409090909090909, 0.7954545454545454, 0.7272727272727273, 0.6818181818181818, 0.6363636363636364, 0.6363636363636364, 0.6363636363636364, 0.6363636363636364, 0.5909090909090909, 0.5681818181818182, 0.5227272727272727, 0.5, 0.4772727272727273, 0.4318181818181818, 0.38636363636363635, 0.3181818181818182, 0.2727272727272727, 0.22727272727272727, 0.18181818181818182, 0.11363636363636363, 0.11363636363636363, 0.06818181818181818, 0.06818181818181818, 0.045454545454545456, 0.045454545454545456, 0.022727272727272728, 0.022727272727272728, 0.022727272727272728, 0.022727272727272728, 0.0, 0.0, 0.0, 0.0, 0.0, 0.0, 0.0, 0.0, 0.0, 0.0, 0.0, 0.0, 0.0, 0.0, 0.0, 0.0, 0.0, 0.0, 0.0, 0.0, 0.0, 0.0, 0.0, 0.0, 0.0, 0.0, 0.0, 0.0, 0.0, 0.0, 0.0, 0.0, 0.0, 0.0, 0.0, 0.0, 0.0, 0.0, 0.0, 0.0, 0.0, 0.0, 0.0, 0.0, 0.0, 0.0, 0.0, 0.0, 0.0, 0.0, 0.0, 0.0, 0.0, 0.0, 0.0, 0.0, 0.0, 0.0, 0.0, 0.0, 0.0, 0.0, 0.0, 0.0, 0.0]}, {\"marker\": {\"color\": \"yellow\", \"opacity\": 0.5, \"size\": 5}, \"mode\": \"lines\", \"name\": \"Ensemble Model\", \"type\": \"scatter\", \"x\": [1.0, 1.0, 1.0, 1.0, 1.0, 1.0, 1.0, 1.0, 1.0, 1.0, 1.0, 1.0, 1.0, 1.0, 1.0, 1.0, 1.0, 1.0, 1.0, 1.0, 1.0, 1.0, 1.0, 1.0, 1.0, 1.0, 1.0, 1.0, 1.0, 1.0, 0.9938837920489296, 0.981651376146789, 0.7247706422018348, 0.5412844036697247, 0.4464831804281346, 0.3914373088685015, 0.3058103975535168, 0.2691131498470948, 0.2354740061162079, 0.1987767584097859, 0.1590214067278287, 0.1223241590214067, 0.1009174311926606, 0.0764525993883792, 0.06422018348623854, 0.04587155963302753, 0.03669724770642202, 0.02752293577981652, 0.02140672782874618, 0.009174311926605505, 0.009174311926605505, 0.009174311926605505, 0.006116207951070336, 0.006116207951070336, 0.003058103975535168, 0.003058103975535168, 0.003058103975535168, 0.003058103975535168, 0.003058103975535168, 0.003058103975535168, 0.0, 0.0, 0.0, 0.0, 0.0, 0.0, 0.0, 0.0, 0.0, 0.0, 0.0, 0.0, 0.0, 0.0, 0.0, 0.0, 0.0, 0.0, 0.0, 0.0, 0.0, 0.0, 0.0, 0.0, 0.0, 0.0, 0.0, 0.0, 0.0, 0.0, 0.0, 0.0, 0.0, 0.0, 0.0, 0.0, 0.0, 0.0, 0.0, 0.0], \"y\": [1.0, 1.0, 1.0, 1.0, 1.0, 1.0, 1.0, 1.0, 1.0, 1.0, 1.0, 1.0, 1.0, 1.0, 1.0, 1.0, 1.0, 1.0, 1.0, 1.0, 1.0, 1.0, 1.0, 1.0, 1.0, 1.0, 1.0, 1.0, 1.0, 1.0, 1.0, 1.0, 0.926829268292683, 0.8292682926829268, 0.7560975609756098, 0.6829268292682927, 0.5853658536585366, 0.5121951219512195, 0.4146341463414634, 0.3902439024390244, 0.3414634146341464, 0.3414634146341464, 0.2439024390243902, 0.2195121951219512, 0.1951219512195122, 0.1707317073170732, 0.1219512195121951, 0.0975609756097561, 0.07317073170731707, 0.04878048780487805, 0.04878048780487805, 0.04878048780487805, 0.04878048780487805, 0.04878048780487805, 0.02439024390243903, 0.02439024390243903, 0.02439024390243903, 0.02439024390243903, 0.02439024390243903, 0.02439024390243903, 0.0, 0.0, 0.0, 0.0, 0.0, 0.0, 0.0, 0.0, 0.0, 0.0, 0.0, 0.0, 0.0, 0.0, 0.0, 0.0, 0.0, 0.0, 0.0, 0.0, 0.0, 0.0, 0.0, 0.0, 0.0, 0.0, 0.0, 0.0, 0.0, 0.0, 0.0, 0.0, 0.0, 0.0, 0.0, 0.0, 0.0, 0.0, 0.0, 0.0]}],\n",
       "                        {\"legend\": {\"font\": {\"color\": \"black\", \"family\": \"sans-serif\", \"size\": 12}, \"traceorder\": \"normal\", \"x\": 0.76, \"y\": 0}, \"template\": {\"data\": {\"bar\": [{\"error_x\": {\"color\": \"#2a3f5f\"}, \"error_y\": {\"color\": \"#2a3f5f\"}, \"marker\": {\"line\": {\"color\": \"#E5ECF6\", \"width\": 0.5}}, \"type\": \"bar\"}], \"barpolar\": [{\"marker\": {\"line\": {\"color\": \"#E5ECF6\", \"width\": 0.5}}, \"type\": \"barpolar\"}], \"carpet\": [{\"aaxis\": {\"endlinecolor\": \"#2a3f5f\", \"gridcolor\": \"white\", \"linecolor\": \"white\", \"minorgridcolor\": \"white\", \"startlinecolor\": \"#2a3f5f\"}, \"baxis\": {\"endlinecolor\": \"#2a3f5f\", \"gridcolor\": \"white\", \"linecolor\": \"white\", \"minorgridcolor\": \"white\", \"startlinecolor\": \"#2a3f5f\"}, \"type\": \"carpet\"}], \"choropleth\": [{\"colorbar\": {\"outlinewidth\": 0, \"ticks\": \"\"}, \"type\": \"choropleth\"}], \"contour\": [{\"colorbar\": {\"outlinewidth\": 0, \"ticks\": \"\"}, \"colorscale\": [[0.0, \"#0d0887\"], [0.1111111111111111, \"#46039f\"], [0.2222222222222222, \"#7201a8\"], [0.3333333333333333, \"#9c179e\"], [0.4444444444444444, \"#bd3786\"], [0.5555555555555556, \"#d8576b\"], [0.6666666666666666, \"#ed7953\"], [0.7777777777777778, \"#fb9f3a\"], [0.8888888888888888, \"#fdca26\"], [1.0, \"#f0f921\"]], \"type\": \"contour\"}], \"contourcarpet\": [{\"colorbar\": {\"outlinewidth\": 0, \"ticks\": \"\"}, \"type\": \"contourcarpet\"}], \"heatmap\": [{\"colorbar\": {\"outlinewidth\": 0, \"ticks\": \"\"}, \"colorscale\": [[0.0, \"#0d0887\"], [0.1111111111111111, \"#46039f\"], [0.2222222222222222, \"#7201a8\"], [0.3333333333333333, \"#9c179e\"], [0.4444444444444444, \"#bd3786\"], [0.5555555555555556, \"#d8576b\"], [0.6666666666666666, \"#ed7953\"], [0.7777777777777778, \"#fb9f3a\"], [0.8888888888888888, \"#fdca26\"], [1.0, \"#f0f921\"]], \"type\": \"heatmap\"}], \"heatmapgl\": [{\"colorbar\": {\"outlinewidth\": 0, \"ticks\": \"\"}, \"colorscale\": [[0.0, \"#0d0887\"], [0.1111111111111111, \"#46039f\"], [0.2222222222222222, \"#7201a8\"], [0.3333333333333333, \"#9c179e\"], [0.4444444444444444, \"#bd3786\"], [0.5555555555555556, \"#d8576b\"], [0.6666666666666666, \"#ed7953\"], [0.7777777777777778, \"#fb9f3a\"], [0.8888888888888888, \"#fdca26\"], [1.0, \"#f0f921\"]], \"type\": \"heatmapgl\"}], \"histogram\": [{\"marker\": {\"colorbar\": {\"outlinewidth\": 0, \"ticks\": \"\"}}, \"type\": \"histogram\"}], \"histogram2d\": [{\"colorbar\": {\"outlinewidth\": 0, \"ticks\": \"\"}, \"colorscale\": [[0.0, \"#0d0887\"], [0.1111111111111111, \"#46039f\"], [0.2222222222222222, \"#7201a8\"], [0.3333333333333333, \"#9c179e\"], [0.4444444444444444, \"#bd3786\"], [0.5555555555555556, \"#d8576b\"], [0.6666666666666666, \"#ed7953\"], [0.7777777777777778, \"#fb9f3a\"], [0.8888888888888888, \"#fdca26\"], [1.0, \"#f0f921\"]], \"type\": \"histogram2d\"}], \"histogram2dcontour\": [{\"colorbar\": {\"outlinewidth\": 0, \"ticks\": \"\"}, \"colorscale\": [[0.0, \"#0d0887\"], [0.1111111111111111, \"#46039f\"], [0.2222222222222222, \"#7201a8\"], [0.3333333333333333, \"#9c179e\"], [0.4444444444444444, \"#bd3786\"], [0.5555555555555556, \"#d8576b\"], [0.6666666666666666, \"#ed7953\"], [0.7777777777777778, \"#fb9f3a\"], [0.8888888888888888, \"#fdca26\"], [1.0, \"#f0f921\"]], \"type\": \"histogram2dcontour\"}], \"mesh3d\": [{\"colorbar\": {\"outlinewidth\": 0, \"ticks\": \"\"}, \"type\": \"mesh3d\"}], \"parcoords\": [{\"line\": {\"colorbar\": {\"outlinewidth\": 0, \"ticks\": \"\"}}, \"type\": \"parcoords\"}], \"scatter\": [{\"marker\": {\"colorbar\": {\"outlinewidth\": 0, \"ticks\": \"\"}}, \"type\": \"scatter\"}], \"scatter3d\": [{\"line\": {\"colorbar\": {\"outlinewidth\": 0, \"ticks\": \"\"}}, \"marker\": {\"colorbar\": {\"outlinewidth\": 0, \"ticks\": \"\"}}, \"type\": \"scatter3d\"}], \"scattercarpet\": [{\"marker\": {\"colorbar\": {\"outlinewidth\": 0, \"ticks\": \"\"}}, \"type\": \"scattercarpet\"}], \"scattergeo\": [{\"marker\": {\"colorbar\": {\"outlinewidth\": 0, \"ticks\": \"\"}}, \"type\": \"scattergeo\"}], \"scattergl\": [{\"marker\": {\"colorbar\": {\"outlinewidth\": 0, \"ticks\": \"\"}}, \"type\": \"scattergl\"}], \"scattermapbox\": [{\"marker\": {\"colorbar\": {\"outlinewidth\": 0, \"ticks\": \"\"}}, \"type\": \"scattermapbox\"}], \"scatterpolar\": [{\"marker\": {\"colorbar\": {\"outlinewidth\": 0, \"ticks\": \"\"}}, \"type\": \"scatterpolar\"}], \"scatterpolargl\": [{\"marker\": {\"colorbar\": {\"outlinewidth\": 0, \"ticks\": \"\"}}, \"type\": \"scatterpolargl\"}], \"scatterternary\": [{\"marker\": {\"colorbar\": {\"outlinewidth\": 0, \"ticks\": \"\"}}, \"type\": \"scatterternary\"}], \"surface\": [{\"colorbar\": {\"outlinewidth\": 0, \"ticks\": \"\"}, \"colorscale\": [[0.0, \"#0d0887\"], [0.1111111111111111, \"#46039f\"], [0.2222222222222222, \"#7201a8\"], [0.3333333333333333, \"#9c179e\"], [0.4444444444444444, \"#bd3786\"], [0.5555555555555556, \"#d8576b\"], [0.6666666666666666, \"#ed7953\"], [0.7777777777777778, \"#fb9f3a\"], [0.8888888888888888, \"#fdca26\"], [1.0, \"#f0f921\"]], \"type\": \"surface\"}], \"table\": [{\"cells\": {\"fill\": {\"color\": \"#EBF0F8\"}, \"line\": {\"color\": \"white\"}}, \"header\": {\"fill\": {\"color\": \"#C8D4E3\"}, \"line\": {\"color\": \"white\"}}, \"type\": \"table\"}]}, \"layout\": {\"annotationdefaults\": {\"arrowcolor\": \"#2a3f5f\", \"arrowhead\": 0, \"arrowwidth\": 1}, \"colorscale\": {\"diverging\": [[0, \"#8e0152\"], [0.1, \"#c51b7d\"], [0.2, \"#de77ae\"], [0.3, \"#f1b6da\"], [0.4, \"#fde0ef\"], [0.5, \"#f7f7f7\"], [0.6, \"#e6f5d0\"], [0.7, \"#b8e186\"], [0.8, \"#7fbc41\"], [0.9, \"#4d9221\"], [1, \"#276419\"]], \"sequential\": [[0.0, \"#0d0887\"], [0.1111111111111111, \"#46039f\"], [0.2222222222222222, \"#7201a8\"], [0.3333333333333333, \"#9c179e\"], [0.4444444444444444, \"#bd3786\"], [0.5555555555555556, \"#d8576b\"], [0.6666666666666666, \"#ed7953\"], [0.7777777777777778, \"#fb9f3a\"], [0.8888888888888888, \"#fdca26\"], [1.0, \"#f0f921\"]], \"sequentialminus\": [[0.0, \"#0d0887\"], [0.1111111111111111, \"#46039f\"], [0.2222222222222222, \"#7201a8\"], [0.3333333333333333, \"#9c179e\"], [0.4444444444444444, \"#bd3786\"], [0.5555555555555556, \"#d8576b\"], [0.6666666666666666, \"#ed7953\"], [0.7777777777777778, \"#fb9f3a\"], [0.8888888888888888, \"#fdca26\"], [1.0, \"#f0f921\"]]}, \"colorway\": [\"#636efa\", \"#EF553B\", \"#00cc96\", \"#ab63fa\", \"#FFA15A\", \"#19d3f3\", \"#FF6692\", \"#B6E880\", \"#FF97FF\", \"#FECB52\"], \"font\": {\"color\": \"#2a3f5f\"}, \"geo\": {\"bgcolor\": \"white\", \"lakecolor\": \"white\", \"landcolor\": \"#E5ECF6\", \"showlakes\": true, \"showland\": true, \"subunitcolor\": \"white\"}, \"hoverlabel\": {\"align\": \"left\"}, \"hovermode\": \"closest\", \"mapbox\": {\"style\": \"light\"}, \"paper_bgcolor\": \"white\", \"plot_bgcolor\": \"#E5ECF6\", \"polar\": {\"angularaxis\": {\"gridcolor\": \"white\", \"linecolor\": \"white\", \"ticks\": \"\"}, \"bgcolor\": \"#E5ECF6\", \"radialaxis\": {\"gridcolor\": \"white\", \"linecolor\": \"white\", \"ticks\": \"\"}}, \"scene\": {\"xaxis\": {\"backgroundcolor\": \"#E5ECF6\", \"gridcolor\": \"white\", \"gridwidth\": 2, \"linecolor\": \"white\", \"showbackground\": true, \"ticks\": \"\", \"zerolinecolor\": \"white\"}, \"yaxis\": {\"backgroundcolor\": \"#E5ECF6\", \"gridcolor\": \"white\", \"gridwidth\": 2, \"linecolor\": \"white\", \"showbackground\": true, \"ticks\": \"\", \"zerolinecolor\": \"white\"}, \"zaxis\": {\"backgroundcolor\": \"#E5ECF6\", \"gridcolor\": \"white\", \"gridwidth\": 2, \"linecolor\": \"white\", \"showbackground\": true, \"ticks\": \"\", \"zerolinecolor\": \"white\"}}, \"shapedefaults\": {\"line\": {\"color\": \"#2a3f5f\"}}, \"ternary\": {\"aaxis\": {\"gridcolor\": \"white\", \"linecolor\": \"white\", \"ticks\": \"\"}, \"baxis\": {\"gridcolor\": \"white\", \"linecolor\": \"white\", \"ticks\": \"\"}, \"bgcolor\": \"#E5ECF6\", \"caxis\": {\"gridcolor\": \"white\", \"linecolor\": \"white\", \"ticks\": \"\"}}, \"title\": {\"x\": 0.05}, \"xaxis\": {\"automargin\": true, \"gridcolor\": \"white\", \"linecolor\": \"white\", \"ticks\": \"\", \"zerolinecolor\": \"white\", \"zerolinewidth\": 2}, \"yaxis\": {\"automargin\": true, \"gridcolor\": \"white\", \"linecolor\": \"white\", \"ticks\": \"\", \"zerolinecolor\": \"white\", \"zerolinewidth\": 2}}}, \"title\": {\"text\": \"Recall in relation to Postives Share\"}, \"xaxis\": {\"range\": [0, 0.4], \"title\": {\"text\": \"Positives share\"}}, \"yaxis\": {\"title\": {\"text\": \"Recall\"}}},\n",
       "                        {\"responsive\": true}\n",
       "                    ).then(function(){\n",
       "                            \n",
       "var gd = document.getElementById('2a9966ea-4d7f-4e66-8280-622844f4b54e');\n",
       "var x = new MutationObserver(function (mutations, observer) {{\n",
       "        var display = window.getComputedStyle(gd).display;\n",
       "        if (!display || display === 'none') {{\n",
       "            console.log([gd, 'removed!']);\n",
       "            Plotly.purge(gd);\n",
       "            observer.disconnect();\n",
       "        }}\n",
       "}});\n",
       "\n",
       "// Listen for the removal of the full notebook cells\n",
       "var notebookContainer = gd.closest('#notebook-container');\n",
       "if (notebookContainer) {{\n",
       "    x.observe(notebookContainer, {childList: true});\n",
       "}}\n",
       "\n",
       "// Listen for the clearing of the current output cell\n",
       "var outputEl = gd.closest('.output');\n",
       "if (outputEl) {{\n",
       "    x.observe(outputEl, {childList: true});\n",
       "}}\n",
       "\n",
       "                        })\n",
       "                };\n",
       "                });\n",
       "            </script>\n",
       "        </div>"
      ]
     },
     "metadata": {},
     "output_type": "display_data"
    }
   ],
   "source": [
    "    trace0=go.Scatter(\n",
    "            y=RF_pr_test.recall,\n",
    "            x=RF_pr_test.positives_share,\n",
    "            mode='lines',\n",
    "            marker=dict(\n",
    "            color=\"blue\",\n",
    "            size=5,\n",
    "            opacity=0.5\n",
    "            ),\n",
    "            name=\"Random Forest Classifier\"\n",
    "        )\n",
    "    \n",
    "    trace1=go.Scatter(\n",
    "            y=DNN_test.recall,\n",
    "            x=DNN_test.positives_share,\n",
    "            mode='lines',\n",
    "            marker=dict(\n",
    "            color=\"red\",\n",
    "            size=5,\n",
    "            opacity=0.5\n",
    "            ),\n",
    "            name=\"Fully connected DNN\"\n",
    "        )\n",
    "    \n",
    "    trace2=go.Scatter(\n",
    "            y=gru_pr_test.recall,\n",
    "            x=gru_pr_test.positives_share,\n",
    "            mode='lines',\n",
    "            marker=dict(\n",
    "            color=\"green\",\n",
    "            size=5,\n",
    "            opacity=0.5\n",
    "            ),\n",
    "            name=\"RNN with GRU cells\"\n",
    "        )\n",
    "\n",
    "    trace3=go.Scatter(\n",
    "            y=Ensemble_pr_test.recall,\n",
    "            x=Ensemble_pr_test.positives_share,\n",
    "            mode='lines',\n",
    "            marker=dict(\n",
    "            color=\"yellow\",\n",
    "            size=5,\n",
    "            opacity=0.5\n",
    "            ),\n",
    "            name=\"Ensemble Model\"\n",
    "        )\n",
    "\n",
    "    \n",
    "\n",
    "\n",
    "\n",
    "    data=[trace0, trace1,trace2,trace3]\n",
    "    figure=go.Figure(\n",
    "        data=data,\n",
    "        layout=go.Layout(\n",
    "            title=\"Recall in relation to Postives Share\",\n",
    "            yaxis=dict(title=\"Recall\"),\n",
    "            xaxis=dict(title=\"Positives share\", range=[0,0.4]),\n",
    "            legend=dict(\n",
    "                x=0.76,\n",
    "                y=0,\n",
    "                traceorder=\"normal\",\n",
    "                font=dict(\n",
    "                    family=\"sans-serif\",\n",
    "                    size=12,\n",
    "                    color=\"black\"\n",
    "                ),\n",
    "            bgcolor=None\n",
    "\n",
    "\n",
    "        )))\n",
    "    iplot(figure)"
   ]
  },
  {
   "cell_type": "markdown",
   "metadata": {},
   "source": [
    "## Best model characteristic"
   ]
  },
  {
   "cell_type": "code",
   "execution_count": 52,
   "metadata": {},
   "outputs": [
    {
     "data": {
      "application/vnd.plotly.v1+json": {
       "config": {
        "linkText": "Export to plot.ly",
        "plotlyServerURL": "https://plot.ly",
        "showLink": false
       },
       "data": [
        {
         "marker": {
          "color": "green",
          "opacity": 0.5,
          "size": 5
         },
         "mode": "lines",
         "name": "RNN with GRU cells",
         "type": "scatter",
         "x": [
          1,
          1,
          1,
          1,
          0.9971014492753624,
          0.8956521739130435,
          0.6463768115942029,
          0.5420289855072464,
          0.48985507246376814,
          0.463768115942029,
          0.40869565217391307,
          0.37681159420289856,
          0.3536231884057971,
          0.3333333333333333,
          0.2927536231884058,
          0.263768115942029,
          0.23478260869565218,
          0.21159420289855072,
          0.1855072463768116,
          0.15072463768115943,
          0.12753623188405797,
          0.10434782608695652,
          0.08695652173913043,
          0.06666666666666667,
          0.0463768115942029,
          0.034782608695652174,
          0.03188405797101449,
          0.02608695652173913,
          0.02318840579710145,
          0.014492753623188406,
          0.011594202898550725,
          0.008695652173913044,
          0.008695652173913044,
          0.008695652173913044,
          0.008695652173913044,
          0.005797101449275362,
          0.005797101449275362,
          0.005797101449275362,
          0.005797101449275362,
          0.002898550724637681,
          0.002898550724637681,
          0.002898550724637681,
          0.002898550724637681,
          0.002898550724637681,
          0.002898550724637681,
          0.002898550724637681,
          0,
          0,
          0,
          0,
          0,
          0,
          0,
          0,
          0,
          0,
          0,
          0,
          0,
          0,
          0,
          0,
          0,
          0,
          0,
          0,
          0,
          0,
          0,
          0,
          0,
          0,
          0,
          0,
          0,
          0,
          0,
          0,
          0,
          0,
          0,
          0,
          0,
          0,
          0,
          0,
          0,
          0,
          0,
          0,
          0,
          0,
          0,
          0,
          0,
          0,
          0,
          0,
          0,
          0
         ],
         "y": [
          1,
          1,
          1,
          1,
          1,
          0.9545454545454546,
          0.8409090909090909,
          0.7954545454545454,
          0.7272727272727273,
          0.6818181818181818,
          0.6363636363636364,
          0.6363636363636364,
          0.6363636363636364,
          0.6363636363636364,
          0.5909090909090909,
          0.5681818181818182,
          0.5227272727272727,
          0.5,
          0.4772727272727273,
          0.4318181818181818,
          0.38636363636363635,
          0.3181818181818182,
          0.2727272727272727,
          0.22727272727272727,
          0.18181818181818182,
          0.11363636363636363,
          0.11363636363636363,
          0.06818181818181818,
          0.06818181818181818,
          0.045454545454545456,
          0.045454545454545456,
          0.022727272727272728,
          0.022727272727272728,
          0.022727272727272728,
          0.022727272727272728,
          0,
          0,
          0,
          0,
          0,
          0,
          0,
          0,
          0,
          0,
          0,
          0,
          0,
          0,
          0,
          0,
          0,
          0,
          0,
          0,
          0,
          0,
          0,
          0,
          0,
          0,
          0,
          0,
          0,
          0,
          0,
          0,
          0,
          0,
          0,
          0,
          0,
          0,
          0,
          0,
          0,
          0,
          0,
          0,
          0,
          0,
          0,
          0,
          0,
          0,
          0,
          0,
          0,
          0,
          0,
          0,
          0,
          0,
          0,
          0,
          0,
          0,
          0,
          0,
          0
         ]
        },
        {
         "marker": {
          "color": "black",
          "opacity": 0.5,
          "size": 5
         },
         "mode": "lines",
         "name": "Bayes unavoidable error",
         "type": "scatter",
         "x": [
          1,
          1,
          1,
          1,
          0.9971014492753624,
          0.8956521739130435,
          0.6463768115942029,
          0.5420289855072464,
          0.48985507246376814,
          0.463768115942029,
          0.40869565217391307,
          0.37681159420289856,
          0.3536231884057971,
          0.3333333333333333,
          0.2927536231884058,
          0.263768115942029,
          0.23478260869565218,
          0.21159420289855072,
          0.1855072463768116,
          0.15072463768115943,
          0.12753623188405797,
          0.10434782608695652,
          0.08695652173913043,
          0.06666666666666667,
          0.0463768115942029,
          0.034782608695652174,
          0.03188405797101449,
          0.02608695652173913,
          0.02318840579710145,
          0.014492753623188406,
          0.011594202898550725,
          0.008695652173913044,
          0.008695652173913044,
          0.008695652173913044,
          0.008695652173913044,
          0.005797101449275362,
          0.005797101449275362,
          0.005797101449275362,
          0.005797101449275362,
          0.002898550724637681,
          0.002898550724637681,
          0.002898550724637681,
          0.002898550724637681,
          0.002898550724637681,
          0.002898550724637681,
          0.002898550724637681,
          0,
          0,
          0,
          0,
          0,
          0,
          0,
          0,
          0,
          0,
          0,
          0,
          0,
          0,
          0,
          0,
          0,
          0,
          0,
          0,
          0,
          0,
          0,
          0,
          0,
          0,
          0,
          0,
          0,
          0,
          0,
          0,
          0,
          0,
          0,
          0,
          0,
          0,
          0,
          0,
          0,
          0,
          0,
          0,
          0,
          0,
          0,
          0,
          0,
          0,
          0,
          0,
          0,
          0
         ],
         "y": [
          0.835,
          0.835,
          0.835,
          0.835,
          0.835,
          0.835,
          0.835,
          0.835,
          0.835,
          0.835,
          0.835,
          0.835,
          0.835,
          0.835,
          0.835,
          0.835,
          0.835,
          0.835,
          0.835,
          0.835,
          0.835,
          0.835,
          0.835,
          0.835,
          0.835,
          0.835,
          0.835,
          0.835,
          0.835,
          0.835,
          0.835,
          0.835,
          0.835,
          0.835,
          0.835,
          0.835,
          0.835,
          0.835,
          0.835,
          0.835,
          0.835,
          0.835,
          0.835,
          0.835,
          0.835,
          0.835,
          0.835,
          0.835,
          0.835,
          0.835,
          0.835,
          0.835,
          0.835,
          0.835,
          0.835,
          0.835,
          0.835,
          0.835,
          0.835,
          0.835,
          0.835,
          0.835,
          0.835,
          0.835,
          0.835,
          0.835,
          0.835,
          0.835,
          0.835,
          0.835,
          0.835,
          0.835,
          0.835,
          0.835,
          0.835,
          0.835,
          0.835,
          0.835,
          0.835,
          0.835,
          0.835,
          0.835,
          0.835,
          0.835,
          0.835,
          0.835,
          0.835,
          0.835,
          0.835,
          0.835,
          0.835,
          0.835,
          0.835,
          0.835,
          0.835,
          0.835,
          0.835,
          0.835,
          0.835,
          0.835
         ]
        },
        {
         "marker": {
          "color": "blue",
          "opacity": 0.5,
          "size": 5
         },
         "mode": "lines",
         "name": "Random screening",
         "type": "scatter",
         "x": [
          1,
          1,
          1,
          1,
          0.9971014492753624,
          0.8956521739130435,
          0.6463768115942029,
          0.5420289855072464,
          0.48985507246376814,
          0.463768115942029,
          0.40869565217391307,
          0.37681159420289856,
          0.3536231884057971,
          0.3333333333333333,
          0.2927536231884058,
          0.263768115942029,
          0.23478260869565218,
          0.21159420289855072,
          0.1855072463768116,
          0.15072463768115943,
          0.12753623188405797,
          0.10434782608695652,
          0.08695652173913043,
          0.06666666666666667,
          0.0463768115942029,
          0.034782608695652174,
          0.03188405797101449,
          0.02608695652173913,
          0.02318840579710145,
          0.014492753623188406,
          0.011594202898550725,
          0.008695652173913044,
          0.008695652173913044,
          0.008695652173913044,
          0.008695652173913044,
          0.005797101449275362,
          0.005797101449275362,
          0.005797101449275362,
          0.005797101449275362,
          0.002898550724637681,
          0.002898550724637681,
          0.002898550724637681,
          0.002898550724637681,
          0.002898550724637681,
          0.002898550724637681,
          0.002898550724637681,
          0,
          0,
          0,
          0,
          0,
          0,
          0,
          0,
          0,
          0,
          0,
          0,
          0,
          0,
          0,
          0,
          0,
          0,
          0,
          0,
          0,
          0,
          0,
          0,
          0,
          0,
          0,
          0,
          0,
          0,
          0,
          0,
          0,
          0,
          0,
          0,
          0,
          0,
          0,
          0,
          0,
          0,
          0,
          0,
          0,
          0,
          0,
          0,
          0,
          0,
          0,
          0,
          0,
          0
         ],
         "y": [
          1,
          1,
          1,
          1,
          0.9971014492753624,
          0.8956521739130435,
          0.6463768115942029,
          0.5420289855072464,
          0.48985507246376814,
          0.463768115942029,
          0.40869565217391307,
          0.37681159420289856,
          0.3536231884057971,
          0.3333333333333333,
          0.2927536231884058,
          0.263768115942029,
          0.23478260869565218,
          0.21159420289855072,
          0.1855072463768116,
          0.15072463768115943,
          0.12753623188405797,
          0.10434782608695652,
          0.08695652173913043,
          0.06666666666666667,
          0.0463768115942029,
          0.034782608695652174,
          0.03188405797101449,
          0.02608695652173913,
          0.02318840579710145,
          0.014492753623188406,
          0.011594202898550725,
          0.008695652173913044,
          0.008695652173913044,
          0.008695652173913044,
          0.008695652173913044,
          0.005797101449275362,
          0.005797101449275362,
          0.005797101449275362,
          0.005797101449275362,
          0.002898550724637681,
          0.002898550724637681,
          0.002898550724637681,
          0.002898550724637681,
          0.002898550724637681,
          0.002898550724637681,
          0.002898550724637681,
          0,
          0,
          0,
          0,
          0,
          0,
          0,
          0,
          0,
          0,
          0,
          0,
          0,
          0,
          0,
          0,
          0,
          0,
          0,
          0,
          0,
          0,
          0,
          0,
          0,
          0,
          0,
          0,
          0,
          0,
          0,
          0,
          0,
          0,
          0,
          0,
          0,
          0,
          0,
          0,
          0,
          0,
          0,
          0,
          0,
          0,
          0,
          0,
          0,
          0,
          0,
          0,
          0,
          0
         ]
        }
       ],
       "layout": {
        "legend": {
         "font": {
          "color": "black",
          "family": "sans-serif",
          "size": 12
         },
         "traceorder": "normal",
         "x": 0.73,
         "y": 0
        },
        "template": {
         "data": {
          "bar": [
           {
            "error_x": {
             "color": "#2a3f5f"
            },
            "error_y": {
             "color": "#2a3f5f"
            },
            "marker": {
             "line": {
              "color": "#E5ECF6",
              "width": 0.5
             }
            },
            "type": "bar"
           }
          ],
          "barpolar": [
           {
            "marker": {
             "line": {
              "color": "#E5ECF6",
              "width": 0.5
             }
            },
            "type": "barpolar"
           }
          ],
          "carpet": [
           {
            "aaxis": {
             "endlinecolor": "#2a3f5f",
             "gridcolor": "white",
             "linecolor": "white",
             "minorgridcolor": "white",
             "startlinecolor": "#2a3f5f"
            },
            "baxis": {
             "endlinecolor": "#2a3f5f",
             "gridcolor": "white",
             "linecolor": "white",
             "minorgridcolor": "white",
             "startlinecolor": "#2a3f5f"
            },
            "type": "carpet"
           }
          ],
          "choropleth": [
           {
            "colorbar": {
             "outlinewidth": 0,
             "ticks": ""
            },
            "type": "choropleth"
           }
          ],
          "contour": [
           {
            "colorbar": {
             "outlinewidth": 0,
             "ticks": ""
            },
            "colorscale": [
             [
              0,
              "#0d0887"
             ],
             [
              0.1111111111111111,
              "#46039f"
             ],
             [
              0.2222222222222222,
              "#7201a8"
             ],
             [
              0.3333333333333333,
              "#9c179e"
             ],
             [
              0.4444444444444444,
              "#bd3786"
             ],
             [
              0.5555555555555556,
              "#d8576b"
             ],
             [
              0.6666666666666666,
              "#ed7953"
             ],
             [
              0.7777777777777778,
              "#fb9f3a"
             ],
             [
              0.8888888888888888,
              "#fdca26"
             ],
             [
              1,
              "#f0f921"
             ]
            ],
            "type": "contour"
           }
          ],
          "contourcarpet": [
           {
            "colorbar": {
             "outlinewidth": 0,
             "ticks": ""
            },
            "type": "contourcarpet"
           }
          ],
          "heatmap": [
           {
            "colorbar": {
             "outlinewidth": 0,
             "ticks": ""
            },
            "colorscale": [
             [
              0,
              "#0d0887"
             ],
             [
              0.1111111111111111,
              "#46039f"
             ],
             [
              0.2222222222222222,
              "#7201a8"
             ],
             [
              0.3333333333333333,
              "#9c179e"
             ],
             [
              0.4444444444444444,
              "#bd3786"
             ],
             [
              0.5555555555555556,
              "#d8576b"
             ],
             [
              0.6666666666666666,
              "#ed7953"
             ],
             [
              0.7777777777777778,
              "#fb9f3a"
             ],
             [
              0.8888888888888888,
              "#fdca26"
             ],
             [
              1,
              "#f0f921"
             ]
            ],
            "type": "heatmap"
           }
          ],
          "heatmapgl": [
           {
            "colorbar": {
             "outlinewidth": 0,
             "ticks": ""
            },
            "colorscale": [
             [
              0,
              "#0d0887"
             ],
             [
              0.1111111111111111,
              "#46039f"
             ],
             [
              0.2222222222222222,
              "#7201a8"
             ],
             [
              0.3333333333333333,
              "#9c179e"
             ],
             [
              0.4444444444444444,
              "#bd3786"
             ],
             [
              0.5555555555555556,
              "#d8576b"
             ],
             [
              0.6666666666666666,
              "#ed7953"
             ],
             [
              0.7777777777777778,
              "#fb9f3a"
             ],
             [
              0.8888888888888888,
              "#fdca26"
             ],
             [
              1,
              "#f0f921"
             ]
            ],
            "type": "heatmapgl"
           }
          ],
          "histogram": [
           {
            "marker": {
             "colorbar": {
              "outlinewidth": 0,
              "ticks": ""
             }
            },
            "type": "histogram"
           }
          ],
          "histogram2d": [
           {
            "colorbar": {
             "outlinewidth": 0,
             "ticks": ""
            },
            "colorscale": [
             [
              0,
              "#0d0887"
             ],
             [
              0.1111111111111111,
              "#46039f"
             ],
             [
              0.2222222222222222,
              "#7201a8"
             ],
             [
              0.3333333333333333,
              "#9c179e"
             ],
             [
              0.4444444444444444,
              "#bd3786"
             ],
             [
              0.5555555555555556,
              "#d8576b"
             ],
             [
              0.6666666666666666,
              "#ed7953"
             ],
             [
              0.7777777777777778,
              "#fb9f3a"
             ],
             [
              0.8888888888888888,
              "#fdca26"
             ],
             [
              1,
              "#f0f921"
             ]
            ],
            "type": "histogram2d"
           }
          ],
          "histogram2dcontour": [
           {
            "colorbar": {
             "outlinewidth": 0,
             "ticks": ""
            },
            "colorscale": [
             [
              0,
              "#0d0887"
             ],
             [
              0.1111111111111111,
              "#46039f"
             ],
             [
              0.2222222222222222,
              "#7201a8"
             ],
             [
              0.3333333333333333,
              "#9c179e"
             ],
             [
              0.4444444444444444,
              "#bd3786"
             ],
             [
              0.5555555555555556,
              "#d8576b"
             ],
             [
              0.6666666666666666,
              "#ed7953"
             ],
             [
              0.7777777777777778,
              "#fb9f3a"
             ],
             [
              0.8888888888888888,
              "#fdca26"
             ],
             [
              1,
              "#f0f921"
             ]
            ],
            "type": "histogram2dcontour"
           }
          ],
          "mesh3d": [
           {
            "colorbar": {
             "outlinewidth": 0,
             "ticks": ""
            },
            "type": "mesh3d"
           }
          ],
          "parcoords": [
           {
            "line": {
             "colorbar": {
              "outlinewidth": 0,
              "ticks": ""
             }
            },
            "type": "parcoords"
           }
          ],
          "scatter": [
           {
            "marker": {
             "colorbar": {
              "outlinewidth": 0,
              "ticks": ""
             }
            },
            "type": "scatter"
           }
          ],
          "scatter3d": [
           {
            "line": {
             "colorbar": {
              "outlinewidth": 0,
              "ticks": ""
             }
            },
            "marker": {
             "colorbar": {
              "outlinewidth": 0,
              "ticks": ""
             }
            },
            "type": "scatter3d"
           }
          ],
          "scattercarpet": [
           {
            "marker": {
             "colorbar": {
              "outlinewidth": 0,
              "ticks": ""
             }
            },
            "type": "scattercarpet"
           }
          ],
          "scattergeo": [
           {
            "marker": {
             "colorbar": {
              "outlinewidth": 0,
              "ticks": ""
             }
            },
            "type": "scattergeo"
           }
          ],
          "scattergl": [
           {
            "marker": {
             "colorbar": {
              "outlinewidth": 0,
              "ticks": ""
             }
            },
            "type": "scattergl"
           }
          ],
          "scattermapbox": [
           {
            "marker": {
             "colorbar": {
              "outlinewidth": 0,
              "ticks": ""
             }
            },
            "type": "scattermapbox"
           }
          ],
          "scatterpolar": [
           {
            "marker": {
             "colorbar": {
              "outlinewidth": 0,
              "ticks": ""
             }
            },
            "type": "scatterpolar"
           }
          ],
          "scatterpolargl": [
           {
            "marker": {
             "colorbar": {
              "outlinewidth": 0,
              "ticks": ""
             }
            },
            "type": "scatterpolargl"
           }
          ],
          "scatterternary": [
           {
            "marker": {
             "colorbar": {
              "outlinewidth": 0,
              "ticks": ""
             }
            },
            "type": "scatterternary"
           }
          ],
          "surface": [
           {
            "colorbar": {
             "outlinewidth": 0,
             "ticks": ""
            },
            "colorscale": [
             [
              0,
              "#0d0887"
             ],
             [
              0.1111111111111111,
              "#46039f"
             ],
             [
              0.2222222222222222,
              "#7201a8"
             ],
             [
              0.3333333333333333,
              "#9c179e"
             ],
             [
              0.4444444444444444,
              "#bd3786"
             ],
             [
              0.5555555555555556,
              "#d8576b"
             ],
             [
              0.6666666666666666,
              "#ed7953"
             ],
             [
              0.7777777777777778,
              "#fb9f3a"
             ],
             [
              0.8888888888888888,
              "#fdca26"
             ],
             [
              1,
              "#f0f921"
             ]
            ],
            "type": "surface"
           }
          ],
          "table": [
           {
            "cells": {
             "fill": {
              "color": "#EBF0F8"
             },
             "line": {
              "color": "white"
             }
            },
            "header": {
             "fill": {
              "color": "#C8D4E3"
             },
             "line": {
              "color": "white"
             }
            },
            "type": "table"
           }
          ]
         },
         "layout": {
          "annotationdefaults": {
           "arrowcolor": "#2a3f5f",
           "arrowhead": 0,
           "arrowwidth": 1
          },
          "colorscale": {
           "diverging": [
            [
             0,
             "#8e0152"
            ],
            [
             0.1,
             "#c51b7d"
            ],
            [
             0.2,
             "#de77ae"
            ],
            [
             0.3,
             "#f1b6da"
            ],
            [
             0.4,
             "#fde0ef"
            ],
            [
             0.5,
             "#f7f7f7"
            ],
            [
             0.6,
             "#e6f5d0"
            ],
            [
             0.7,
             "#b8e186"
            ],
            [
             0.8,
             "#7fbc41"
            ],
            [
             0.9,
             "#4d9221"
            ],
            [
             1,
             "#276419"
            ]
           ],
           "sequential": [
            [
             0,
             "#0d0887"
            ],
            [
             0.1111111111111111,
             "#46039f"
            ],
            [
             0.2222222222222222,
             "#7201a8"
            ],
            [
             0.3333333333333333,
             "#9c179e"
            ],
            [
             0.4444444444444444,
             "#bd3786"
            ],
            [
             0.5555555555555556,
             "#d8576b"
            ],
            [
             0.6666666666666666,
             "#ed7953"
            ],
            [
             0.7777777777777778,
             "#fb9f3a"
            ],
            [
             0.8888888888888888,
             "#fdca26"
            ],
            [
             1,
             "#f0f921"
            ]
           ],
           "sequentialminus": [
            [
             0,
             "#0d0887"
            ],
            [
             0.1111111111111111,
             "#46039f"
            ],
            [
             0.2222222222222222,
             "#7201a8"
            ],
            [
             0.3333333333333333,
             "#9c179e"
            ],
            [
             0.4444444444444444,
             "#bd3786"
            ],
            [
             0.5555555555555556,
             "#d8576b"
            ],
            [
             0.6666666666666666,
             "#ed7953"
            ],
            [
             0.7777777777777778,
             "#fb9f3a"
            ],
            [
             0.8888888888888888,
             "#fdca26"
            ],
            [
             1,
             "#f0f921"
            ]
           ]
          },
          "colorway": [
           "#636efa",
           "#EF553B",
           "#00cc96",
           "#ab63fa",
           "#FFA15A",
           "#19d3f3",
           "#FF6692",
           "#B6E880",
           "#FF97FF",
           "#FECB52"
          ],
          "font": {
           "color": "#2a3f5f"
          },
          "geo": {
           "bgcolor": "white",
           "lakecolor": "white",
           "landcolor": "#E5ECF6",
           "showlakes": true,
           "showland": true,
           "subunitcolor": "white"
          },
          "hoverlabel": {
           "align": "left"
          },
          "hovermode": "closest",
          "mapbox": {
           "style": "light"
          },
          "paper_bgcolor": "white",
          "plot_bgcolor": "#E5ECF6",
          "polar": {
           "angularaxis": {
            "gridcolor": "white",
            "linecolor": "white",
            "ticks": ""
           },
           "bgcolor": "#E5ECF6",
           "radialaxis": {
            "gridcolor": "white",
            "linecolor": "white",
            "ticks": ""
           }
          },
          "scene": {
           "xaxis": {
            "backgroundcolor": "#E5ECF6",
            "gridcolor": "white",
            "gridwidth": 2,
            "linecolor": "white",
            "showbackground": true,
            "ticks": "",
            "zerolinecolor": "white"
           },
           "yaxis": {
            "backgroundcolor": "#E5ECF6",
            "gridcolor": "white",
            "gridwidth": 2,
            "linecolor": "white",
            "showbackground": true,
            "ticks": "",
            "zerolinecolor": "white"
           },
           "zaxis": {
            "backgroundcolor": "#E5ECF6",
            "gridcolor": "white",
            "gridwidth": 2,
            "linecolor": "white",
            "showbackground": true,
            "ticks": "",
            "zerolinecolor": "white"
           }
          },
          "shapedefaults": {
           "line": {
            "color": "#2a3f5f"
           }
          },
          "ternary": {
           "aaxis": {
            "gridcolor": "white",
            "linecolor": "white",
            "ticks": ""
           },
           "baxis": {
            "gridcolor": "white",
            "linecolor": "white",
            "ticks": ""
           },
           "bgcolor": "#E5ECF6",
           "caxis": {
            "gridcolor": "white",
            "linecolor": "white",
            "ticks": ""
           }
          },
          "title": {
           "x": 0.05
          },
          "xaxis": {
           "automargin": true,
           "gridcolor": "white",
           "linecolor": "white",
           "ticks": "",
           "zerolinecolor": "white",
           "zerolinewidth": 2
          },
          "yaxis": {
           "automargin": true,
           "gridcolor": "white",
           "linecolor": "white",
           "ticks": "",
           "zerolinecolor": "white",
           "zerolinewidth": 2
          }
         }
        },
        "title": {
         "text": "Recall in relation to Postives Share"
        },
        "xaxis": {
         "range": [
          0,
          0.4
         ],
         "title": {
          "text": "Positives share"
         }
        },
        "yaxis": {
         "title": {
          "text": "Recall"
         }
        }
       }
      },
      "text/html": [
       "<div>\n",
       "        \n",
       "        \n",
       "            <div id=\"8bb9ef13-5329-494c-8f64-07ca7efa9972\" class=\"plotly-graph-div\" style=\"height:525px; width:100%;\"></div>\n",
       "            <script type=\"text/javascript\">\n",
       "                require([\"plotly\"], function(Plotly) {\n",
       "                    window.PLOTLYENV=window.PLOTLYENV || {};\n",
       "                    \n",
       "                if (document.getElementById(\"8bb9ef13-5329-494c-8f64-07ca7efa9972\")) {\n",
       "                    Plotly.newPlot(\n",
       "                        '8bb9ef13-5329-494c-8f64-07ca7efa9972',\n",
       "                        [{\"marker\": {\"color\": \"green\", \"opacity\": 0.5, \"size\": 5}, \"mode\": \"lines\", \"name\": \"RNN with GRU cells\", \"type\": \"scatter\", \"x\": [1.0, 1.0, 1.0, 1.0, 0.9971014492753624, 0.8956521739130435, 0.6463768115942029, 0.5420289855072464, 0.48985507246376814, 0.463768115942029, 0.40869565217391307, 0.37681159420289856, 0.3536231884057971, 0.3333333333333333, 0.2927536231884058, 0.263768115942029, 0.23478260869565218, 0.21159420289855072, 0.1855072463768116, 0.15072463768115943, 0.12753623188405797, 0.10434782608695652, 0.08695652173913043, 0.06666666666666667, 0.0463768115942029, 0.034782608695652174, 0.03188405797101449, 0.02608695652173913, 0.02318840579710145, 0.014492753623188406, 0.011594202898550725, 0.008695652173913044, 0.008695652173913044, 0.008695652173913044, 0.008695652173913044, 0.005797101449275362, 0.005797101449275362, 0.005797101449275362, 0.005797101449275362, 0.002898550724637681, 0.002898550724637681, 0.002898550724637681, 0.002898550724637681, 0.002898550724637681, 0.002898550724637681, 0.002898550724637681, 0.0, 0.0, 0.0, 0.0, 0.0, 0.0, 0.0, 0.0, 0.0, 0.0, 0.0, 0.0, 0.0, 0.0, 0.0, 0.0, 0.0, 0.0, 0.0, 0.0, 0.0, 0.0, 0.0, 0.0, 0.0, 0.0, 0.0, 0.0, 0.0, 0.0, 0.0, 0.0, 0.0, 0.0, 0.0, 0.0, 0.0, 0.0, 0.0, 0.0, 0.0, 0.0, 0.0, 0.0, 0.0, 0.0, 0.0, 0.0, 0.0, 0.0, 0.0, 0.0, 0.0, 0.0], \"y\": [1.0, 1.0, 1.0, 1.0, 1.0, 0.9545454545454546, 0.8409090909090909, 0.7954545454545454, 0.7272727272727273, 0.6818181818181818, 0.6363636363636364, 0.6363636363636364, 0.6363636363636364, 0.6363636363636364, 0.5909090909090909, 0.5681818181818182, 0.5227272727272727, 0.5, 0.4772727272727273, 0.4318181818181818, 0.38636363636363635, 0.3181818181818182, 0.2727272727272727, 0.22727272727272727, 0.18181818181818182, 0.11363636363636363, 0.11363636363636363, 0.06818181818181818, 0.06818181818181818, 0.045454545454545456, 0.045454545454545456, 0.022727272727272728, 0.022727272727272728, 0.022727272727272728, 0.022727272727272728, 0.0, 0.0, 0.0, 0.0, 0.0, 0.0, 0.0, 0.0, 0.0, 0.0, 0.0, 0.0, 0.0, 0.0, 0.0, 0.0, 0.0, 0.0, 0.0, 0.0, 0.0, 0.0, 0.0, 0.0, 0.0, 0.0, 0.0, 0.0, 0.0, 0.0, 0.0, 0.0, 0.0, 0.0, 0.0, 0.0, 0.0, 0.0, 0.0, 0.0, 0.0, 0.0, 0.0, 0.0, 0.0, 0.0, 0.0, 0.0, 0.0, 0.0, 0.0, 0.0, 0.0, 0.0, 0.0, 0.0, 0.0, 0.0, 0.0, 0.0, 0.0, 0.0, 0.0, 0.0, 0.0]}, {\"marker\": {\"color\": \"black\", \"opacity\": 0.5, \"size\": 5}, \"mode\": \"lines\", \"name\": \"Bayes unavoidable error\", \"type\": \"scatter\", \"x\": [1.0, 1.0, 1.0, 1.0, 0.9971014492753624, 0.8956521739130435, 0.6463768115942029, 0.5420289855072464, 0.48985507246376814, 0.463768115942029, 0.40869565217391307, 0.37681159420289856, 0.3536231884057971, 0.3333333333333333, 0.2927536231884058, 0.263768115942029, 0.23478260869565218, 0.21159420289855072, 0.1855072463768116, 0.15072463768115943, 0.12753623188405797, 0.10434782608695652, 0.08695652173913043, 0.06666666666666667, 0.0463768115942029, 0.034782608695652174, 0.03188405797101449, 0.02608695652173913, 0.02318840579710145, 0.014492753623188406, 0.011594202898550725, 0.008695652173913044, 0.008695652173913044, 0.008695652173913044, 0.008695652173913044, 0.005797101449275362, 0.005797101449275362, 0.005797101449275362, 0.005797101449275362, 0.002898550724637681, 0.002898550724637681, 0.002898550724637681, 0.002898550724637681, 0.002898550724637681, 0.002898550724637681, 0.002898550724637681, 0.0, 0.0, 0.0, 0.0, 0.0, 0.0, 0.0, 0.0, 0.0, 0.0, 0.0, 0.0, 0.0, 0.0, 0.0, 0.0, 0.0, 0.0, 0.0, 0.0, 0.0, 0.0, 0.0, 0.0, 0.0, 0.0, 0.0, 0.0, 0.0, 0.0, 0.0, 0.0, 0.0, 0.0, 0.0, 0.0, 0.0, 0.0, 0.0, 0.0, 0.0, 0.0, 0.0, 0.0, 0.0, 0.0, 0.0, 0.0, 0.0, 0.0, 0.0, 0.0, 0.0, 0.0], \"y\": [0.835, 0.835, 0.835, 0.835, 0.835, 0.835, 0.835, 0.835, 0.835, 0.835, 0.835, 0.835, 0.835, 0.835, 0.835, 0.835, 0.835, 0.835, 0.835, 0.835, 0.835, 0.835, 0.835, 0.835, 0.835, 0.835, 0.835, 0.835, 0.835, 0.835, 0.835, 0.835, 0.835, 0.835, 0.835, 0.835, 0.835, 0.835, 0.835, 0.835, 0.835, 0.835, 0.835, 0.835, 0.835, 0.835, 0.835, 0.835, 0.835, 0.835, 0.835, 0.835, 0.835, 0.835, 0.835, 0.835, 0.835, 0.835, 0.835, 0.835, 0.835, 0.835, 0.835, 0.835, 0.835, 0.835, 0.835, 0.835, 0.835, 0.835, 0.835, 0.835, 0.835, 0.835, 0.835, 0.835, 0.835, 0.835, 0.835, 0.835, 0.835, 0.835, 0.835, 0.835, 0.835, 0.835, 0.835, 0.835, 0.835, 0.835, 0.835, 0.835, 0.835, 0.835, 0.835, 0.835, 0.835, 0.835, 0.835, 0.835]}, {\"marker\": {\"color\": \"blue\", \"opacity\": 0.5, \"size\": 5}, \"mode\": \"lines\", \"name\": \"Random screening\", \"type\": \"scatter\", \"x\": [1.0, 1.0, 1.0, 1.0, 0.9971014492753624, 0.8956521739130435, 0.6463768115942029, 0.5420289855072464, 0.48985507246376814, 0.463768115942029, 0.40869565217391307, 0.37681159420289856, 0.3536231884057971, 0.3333333333333333, 0.2927536231884058, 0.263768115942029, 0.23478260869565218, 0.21159420289855072, 0.1855072463768116, 0.15072463768115943, 0.12753623188405797, 0.10434782608695652, 0.08695652173913043, 0.06666666666666667, 0.0463768115942029, 0.034782608695652174, 0.03188405797101449, 0.02608695652173913, 0.02318840579710145, 0.014492753623188406, 0.011594202898550725, 0.008695652173913044, 0.008695652173913044, 0.008695652173913044, 0.008695652173913044, 0.005797101449275362, 0.005797101449275362, 0.005797101449275362, 0.005797101449275362, 0.002898550724637681, 0.002898550724637681, 0.002898550724637681, 0.002898550724637681, 0.002898550724637681, 0.002898550724637681, 0.002898550724637681, 0.0, 0.0, 0.0, 0.0, 0.0, 0.0, 0.0, 0.0, 0.0, 0.0, 0.0, 0.0, 0.0, 0.0, 0.0, 0.0, 0.0, 0.0, 0.0, 0.0, 0.0, 0.0, 0.0, 0.0, 0.0, 0.0, 0.0, 0.0, 0.0, 0.0, 0.0, 0.0, 0.0, 0.0, 0.0, 0.0, 0.0, 0.0, 0.0, 0.0, 0.0, 0.0, 0.0, 0.0, 0.0, 0.0, 0.0, 0.0, 0.0, 0.0, 0.0, 0.0, 0.0, 0.0], \"y\": [1.0, 1.0, 1.0, 1.0, 0.9971014492753624, 0.8956521739130435, 0.6463768115942029, 0.5420289855072464, 0.48985507246376814, 0.463768115942029, 0.40869565217391307, 0.37681159420289856, 0.3536231884057971, 0.3333333333333333, 0.2927536231884058, 0.263768115942029, 0.23478260869565218, 0.21159420289855072, 0.1855072463768116, 0.15072463768115943, 0.12753623188405797, 0.10434782608695652, 0.08695652173913043, 0.06666666666666667, 0.0463768115942029, 0.034782608695652174, 0.03188405797101449, 0.02608695652173913, 0.02318840579710145, 0.014492753623188406, 0.011594202898550725, 0.008695652173913044, 0.008695652173913044, 0.008695652173913044, 0.008695652173913044, 0.005797101449275362, 0.005797101449275362, 0.005797101449275362, 0.005797101449275362, 0.002898550724637681, 0.002898550724637681, 0.002898550724637681, 0.002898550724637681, 0.002898550724637681, 0.002898550724637681, 0.002898550724637681, 0.0, 0.0, 0.0, 0.0, 0.0, 0.0, 0.0, 0.0, 0.0, 0.0, 0.0, 0.0, 0.0, 0.0, 0.0, 0.0, 0.0, 0.0, 0.0, 0.0, 0.0, 0.0, 0.0, 0.0, 0.0, 0.0, 0.0, 0.0, 0.0, 0.0, 0.0, 0.0, 0.0, 0.0, 0.0, 0.0, 0.0, 0.0, 0.0, 0.0, 0.0, 0.0, 0.0, 0.0, 0.0, 0.0, 0.0, 0.0, 0.0, 0.0, 0.0, 0.0, 0.0, 0.0]}],\n",
       "                        {\"legend\": {\"font\": {\"color\": \"black\", \"family\": \"sans-serif\", \"size\": 12}, \"traceorder\": \"normal\", \"x\": 0.73, \"y\": 0}, \"template\": {\"data\": {\"bar\": [{\"error_x\": {\"color\": \"#2a3f5f\"}, \"error_y\": {\"color\": \"#2a3f5f\"}, \"marker\": {\"line\": {\"color\": \"#E5ECF6\", \"width\": 0.5}}, \"type\": \"bar\"}], \"barpolar\": [{\"marker\": {\"line\": {\"color\": \"#E5ECF6\", \"width\": 0.5}}, \"type\": \"barpolar\"}], \"carpet\": [{\"aaxis\": {\"endlinecolor\": \"#2a3f5f\", \"gridcolor\": \"white\", \"linecolor\": \"white\", \"minorgridcolor\": \"white\", \"startlinecolor\": \"#2a3f5f\"}, \"baxis\": {\"endlinecolor\": \"#2a3f5f\", \"gridcolor\": \"white\", \"linecolor\": \"white\", \"minorgridcolor\": \"white\", \"startlinecolor\": \"#2a3f5f\"}, \"type\": \"carpet\"}], \"choropleth\": [{\"colorbar\": {\"outlinewidth\": 0, \"ticks\": \"\"}, \"type\": \"choropleth\"}], \"contour\": [{\"colorbar\": {\"outlinewidth\": 0, \"ticks\": \"\"}, \"colorscale\": [[0.0, \"#0d0887\"], [0.1111111111111111, \"#46039f\"], [0.2222222222222222, \"#7201a8\"], [0.3333333333333333, \"#9c179e\"], [0.4444444444444444, \"#bd3786\"], [0.5555555555555556, \"#d8576b\"], [0.6666666666666666, \"#ed7953\"], [0.7777777777777778, \"#fb9f3a\"], [0.8888888888888888, \"#fdca26\"], [1.0, \"#f0f921\"]], \"type\": \"contour\"}], \"contourcarpet\": [{\"colorbar\": {\"outlinewidth\": 0, \"ticks\": \"\"}, \"type\": \"contourcarpet\"}], \"heatmap\": [{\"colorbar\": {\"outlinewidth\": 0, \"ticks\": \"\"}, \"colorscale\": [[0.0, \"#0d0887\"], [0.1111111111111111, \"#46039f\"], [0.2222222222222222, \"#7201a8\"], [0.3333333333333333, \"#9c179e\"], [0.4444444444444444, \"#bd3786\"], [0.5555555555555556, \"#d8576b\"], [0.6666666666666666, \"#ed7953\"], [0.7777777777777778, \"#fb9f3a\"], [0.8888888888888888, \"#fdca26\"], [1.0, \"#f0f921\"]], \"type\": \"heatmap\"}], \"heatmapgl\": [{\"colorbar\": {\"outlinewidth\": 0, \"ticks\": \"\"}, \"colorscale\": [[0.0, \"#0d0887\"], [0.1111111111111111, \"#46039f\"], [0.2222222222222222, \"#7201a8\"], [0.3333333333333333, \"#9c179e\"], [0.4444444444444444, \"#bd3786\"], [0.5555555555555556, \"#d8576b\"], [0.6666666666666666, \"#ed7953\"], [0.7777777777777778, \"#fb9f3a\"], [0.8888888888888888, \"#fdca26\"], [1.0, \"#f0f921\"]], \"type\": \"heatmapgl\"}], \"histogram\": [{\"marker\": {\"colorbar\": {\"outlinewidth\": 0, \"ticks\": \"\"}}, \"type\": \"histogram\"}], \"histogram2d\": [{\"colorbar\": {\"outlinewidth\": 0, \"ticks\": \"\"}, \"colorscale\": [[0.0, \"#0d0887\"], [0.1111111111111111, \"#46039f\"], [0.2222222222222222, \"#7201a8\"], [0.3333333333333333, \"#9c179e\"], [0.4444444444444444, \"#bd3786\"], [0.5555555555555556, \"#d8576b\"], [0.6666666666666666, \"#ed7953\"], [0.7777777777777778, \"#fb9f3a\"], [0.8888888888888888, \"#fdca26\"], [1.0, \"#f0f921\"]], \"type\": \"histogram2d\"}], \"histogram2dcontour\": [{\"colorbar\": {\"outlinewidth\": 0, \"ticks\": \"\"}, \"colorscale\": [[0.0, \"#0d0887\"], [0.1111111111111111, \"#46039f\"], [0.2222222222222222, \"#7201a8\"], [0.3333333333333333, \"#9c179e\"], [0.4444444444444444, \"#bd3786\"], [0.5555555555555556, \"#d8576b\"], [0.6666666666666666, \"#ed7953\"], [0.7777777777777778, \"#fb9f3a\"], [0.8888888888888888, \"#fdca26\"], [1.0, \"#f0f921\"]], \"type\": \"histogram2dcontour\"}], \"mesh3d\": [{\"colorbar\": {\"outlinewidth\": 0, \"ticks\": \"\"}, \"type\": \"mesh3d\"}], \"parcoords\": [{\"line\": {\"colorbar\": {\"outlinewidth\": 0, \"ticks\": \"\"}}, \"type\": \"parcoords\"}], \"scatter\": [{\"marker\": {\"colorbar\": {\"outlinewidth\": 0, \"ticks\": \"\"}}, \"type\": \"scatter\"}], \"scatter3d\": [{\"line\": {\"colorbar\": {\"outlinewidth\": 0, \"ticks\": \"\"}}, \"marker\": {\"colorbar\": {\"outlinewidth\": 0, \"ticks\": \"\"}}, \"type\": \"scatter3d\"}], \"scattercarpet\": [{\"marker\": {\"colorbar\": {\"outlinewidth\": 0, \"ticks\": \"\"}}, \"type\": \"scattercarpet\"}], \"scattergeo\": [{\"marker\": {\"colorbar\": {\"outlinewidth\": 0, \"ticks\": \"\"}}, \"type\": \"scattergeo\"}], \"scattergl\": [{\"marker\": {\"colorbar\": {\"outlinewidth\": 0, \"ticks\": \"\"}}, \"type\": \"scattergl\"}], \"scattermapbox\": [{\"marker\": {\"colorbar\": {\"outlinewidth\": 0, \"ticks\": \"\"}}, \"type\": \"scattermapbox\"}], \"scatterpolar\": [{\"marker\": {\"colorbar\": {\"outlinewidth\": 0, \"ticks\": \"\"}}, \"type\": \"scatterpolar\"}], \"scatterpolargl\": [{\"marker\": {\"colorbar\": {\"outlinewidth\": 0, \"ticks\": \"\"}}, \"type\": \"scatterpolargl\"}], \"scatterternary\": [{\"marker\": {\"colorbar\": {\"outlinewidth\": 0, \"ticks\": \"\"}}, \"type\": \"scatterternary\"}], \"surface\": [{\"colorbar\": {\"outlinewidth\": 0, \"ticks\": \"\"}, \"colorscale\": [[0.0, \"#0d0887\"], [0.1111111111111111, \"#46039f\"], [0.2222222222222222, \"#7201a8\"], [0.3333333333333333, \"#9c179e\"], [0.4444444444444444, \"#bd3786\"], [0.5555555555555556, \"#d8576b\"], [0.6666666666666666, \"#ed7953\"], [0.7777777777777778, \"#fb9f3a\"], [0.8888888888888888, \"#fdca26\"], [1.0, \"#f0f921\"]], \"type\": \"surface\"}], \"table\": [{\"cells\": {\"fill\": {\"color\": \"#EBF0F8\"}, \"line\": {\"color\": \"white\"}}, \"header\": {\"fill\": {\"color\": \"#C8D4E3\"}, \"line\": {\"color\": \"white\"}}, \"type\": \"table\"}]}, \"layout\": {\"annotationdefaults\": {\"arrowcolor\": \"#2a3f5f\", \"arrowhead\": 0, \"arrowwidth\": 1}, \"colorscale\": {\"diverging\": [[0, \"#8e0152\"], [0.1, \"#c51b7d\"], [0.2, \"#de77ae\"], [0.3, \"#f1b6da\"], [0.4, \"#fde0ef\"], [0.5, \"#f7f7f7\"], [0.6, \"#e6f5d0\"], [0.7, \"#b8e186\"], [0.8, \"#7fbc41\"], [0.9, \"#4d9221\"], [1, \"#276419\"]], \"sequential\": [[0.0, \"#0d0887\"], [0.1111111111111111, \"#46039f\"], [0.2222222222222222, \"#7201a8\"], [0.3333333333333333, \"#9c179e\"], [0.4444444444444444, \"#bd3786\"], [0.5555555555555556, \"#d8576b\"], [0.6666666666666666, \"#ed7953\"], [0.7777777777777778, \"#fb9f3a\"], [0.8888888888888888, \"#fdca26\"], [1.0, \"#f0f921\"]], \"sequentialminus\": [[0.0, \"#0d0887\"], [0.1111111111111111, \"#46039f\"], [0.2222222222222222, \"#7201a8\"], [0.3333333333333333, \"#9c179e\"], [0.4444444444444444, \"#bd3786\"], [0.5555555555555556, \"#d8576b\"], [0.6666666666666666, \"#ed7953\"], [0.7777777777777778, \"#fb9f3a\"], [0.8888888888888888, \"#fdca26\"], [1.0, \"#f0f921\"]]}, \"colorway\": [\"#636efa\", \"#EF553B\", \"#00cc96\", \"#ab63fa\", \"#FFA15A\", \"#19d3f3\", \"#FF6692\", \"#B6E880\", \"#FF97FF\", \"#FECB52\"], \"font\": {\"color\": \"#2a3f5f\"}, \"geo\": {\"bgcolor\": \"white\", \"lakecolor\": \"white\", \"landcolor\": \"#E5ECF6\", \"showlakes\": true, \"showland\": true, \"subunitcolor\": \"white\"}, \"hoverlabel\": {\"align\": \"left\"}, \"hovermode\": \"closest\", \"mapbox\": {\"style\": \"light\"}, \"paper_bgcolor\": \"white\", \"plot_bgcolor\": \"#E5ECF6\", \"polar\": {\"angularaxis\": {\"gridcolor\": \"white\", \"linecolor\": \"white\", \"ticks\": \"\"}, \"bgcolor\": \"#E5ECF6\", \"radialaxis\": {\"gridcolor\": \"white\", \"linecolor\": \"white\", \"ticks\": \"\"}}, \"scene\": {\"xaxis\": {\"backgroundcolor\": \"#E5ECF6\", \"gridcolor\": \"white\", \"gridwidth\": 2, \"linecolor\": \"white\", \"showbackground\": true, \"ticks\": \"\", \"zerolinecolor\": \"white\"}, \"yaxis\": {\"backgroundcolor\": \"#E5ECF6\", \"gridcolor\": \"white\", \"gridwidth\": 2, \"linecolor\": \"white\", \"showbackground\": true, \"ticks\": \"\", \"zerolinecolor\": \"white\"}, \"zaxis\": {\"backgroundcolor\": \"#E5ECF6\", \"gridcolor\": \"white\", \"gridwidth\": 2, \"linecolor\": \"white\", \"showbackground\": true, \"ticks\": \"\", \"zerolinecolor\": \"white\"}}, \"shapedefaults\": {\"line\": {\"color\": \"#2a3f5f\"}}, \"ternary\": {\"aaxis\": {\"gridcolor\": \"white\", \"linecolor\": \"white\", \"ticks\": \"\"}, \"baxis\": {\"gridcolor\": \"white\", \"linecolor\": \"white\", \"ticks\": \"\"}, \"bgcolor\": \"#E5ECF6\", \"caxis\": {\"gridcolor\": \"white\", \"linecolor\": \"white\", \"ticks\": \"\"}}, \"title\": {\"x\": 0.05}, \"xaxis\": {\"automargin\": true, \"gridcolor\": \"white\", \"linecolor\": \"white\", \"ticks\": \"\", \"zerolinecolor\": \"white\", \"zerolinewidth\": 2}, \"yaxis\": {\"automargin\": true, \"gridcolor\": \"white\", \"linecolor\": \"white\", \"ticks\": \"\", \"zerolinecolor\": \"white\", \"zerolinewidth\": 2}}}, \"title\": {\"text\": \"Recall in relation to Postives Share\"}, \"xaxis\": {\"range\": [0, 0.4], \"title\": {\"text\": \"Positives share\"}}, \"yaxis\": {\"title\": {\"text\": \"Recall\"}}},\n",
       "                        {\"responsive\": true}\n",
       "                    ).then(function(){\n",
       "                            \n",
       "var gd = document.getElementById('8bb9ef13-5329-494c-8f64-07ca7efa9972');\n",
       "var x = new MutationObserver(function (mutations, observer) {{\n",
       "        var display = window.getComputedStyle(gd).display;\n",
       "        if (!display || display === 'none') {{\n",
       "            console.log([gd, 'removed!']);\n",
       "            Plotly.purge(gd);\n",
       "            observer.disconnect();\n",
       "        }}\n",
       "}});\n",
       "\n",
       "// Listen for the removal of the full notebook cells\n",
       "var notebookContainer = gd.closest('#notebook-container');\n",
       "if (notebookContainer) {{\n",
       "    x.observe(notebookContainer, {childList: true});\n",
       "}}\n",
       "\n",
       "// Listen for the clearing of the current output cell\n",
       "var outputEl = gd.closest('.output');\n",
       "if (outputEl) {{\n",
       "    x.observe(outputEl, {childList: true});\n",
       "}}\n",
       "\n",
       "                        })\n",
       "                };\n",
       "                });\n",
       "            </script>\n",
       "        </div>"
      ]
     },
     "metadata": {},
     "output_type": "display_data"
    }
   ],
   "source": [
    "    trace0=go.Scatter(\n",
    "            y=gru_pr_test.recall,\n",
    "            x=gru_pr_test.positives_share,\n",
    "            mode='lines',\n",
    "            marker=dict(\n",
    "            color=\"green\",\n",
    "            size=5,\n",
    "            opacity=0.5\n",
    "            ),\n",
    "            name=\"RNN with GRU cells\"\n",
    "        )\n",
    "\n",
    "    trace1=go.Scatter(\n",
    "            y=np.ones(gru_pr_test.positives_share.shape)*0.835,\n",
    "            x=gru_pr_test.positives_share,\n",
    "            mode='lines',\n",
    "            marker=dict(\n",
    "            color=\"black\",\n",
    "            size=5,\n",
    "            opacity=0.5\n",
    "            ),\n",
    "            name=\"Bayes unavoidable error\"\n",
    "        )\n",
    "\n",
    "    trace2=go.Scatter(\n",
    "            y=gru_pr_test.positives_share,\n",
    "            x=gru_pr_test.positives_share,\n",
    "            mode='lines',\n",
    "            marker=dict(\n",
    "            color=\"blue\",\n",
    "            size=5,\n",
    "            opacity=0.5\n",
    "            ),\n",
    "            name=\"Random screening\"\n",
    "        )\n",
    "\n",
    "    \n",
    "\n",
    "\n",
    "\n",
    "    data=[trace0, trace1,trace2]\n",
    "    figure=go.Figure(\n",
    "        data=data,\n",
    "        layout=go.Layout(\n",
    "            title=\"Recall in relation to Postives Share\",\n",
    "            yaxis=dict(title=\"Recall\"),\n",
    "            xaxis=dict(title=\"Positives share\", range=[0,0.4]),\n",
    "            legend=dict(\n",
    "                x=0.73,\n",
    "                y=0,\n",
    "                traceorder=\"normal\",\n",
    "                font=dict(\n",
    "                    family=\"sans-serif\",\n",
    "                    size=12,\n",
    "                    color=\"black\"\n",
    "                ),\n",
    "            bgcolor=None\n",
    "\n",
    "\n",
    "        )))\n",
    "    iplot(figure)"
   ]
  },
  {
   "cell_type": "code",
   "execution_count": 53,
   "metadata": {},
   "outputs": [
    {
     "data": {
      "application/vnd.plotly.v1+json": {
       "config": {
        "linkText": "Export to plot.ly",
        "plotlyServerURL": "https://plot.ly",
        "showLink": false
       },
       "data": [
        {
         "marker": {
          "color": "green",
          "opacity": 0.5,
          "size": 5
         },
         "mode": "lines",
         "name": "Recall",
         "type": "scatter",
         "x": [
          1,
          1,
          1,
          1,
          0.9971014492753624,
          0.8956521739130435,
          0.6463768115942029,
          0.5420289855072464,
          0.48985507246376814,
          0.463768115942029,
          0.40869565217391307,
          0.37681159420289856,
          0.3536231884057971,
          0.3333333333333333,
          0.2927536231884058,
          0.263768115942029,
          0.23478260869565218,
          0.21159420289855072,
          0.1855072463768116,
          0.15072463768115943,
          0.12753623188405797,
          0.10434782608695652,
          0.08695652173913043,
          0.06666666666666667,
          0.0463768115942029,
          0.034782608695652174,
          0.03188405797101449,
          0.02608695652173913,
          0.02318840579710145,
          0.014492753623188406,
          0.011594202898550725,
          0.008695652173913044,
          0.008695652173913044,
          0.008695652173913044,
          0.008695652173913044,
          0.005797101449275362,
          0.005797101449275362,
          0.005797101449275362,
          0.005797101449275362,
          0.002898550724637681,
          0.002898550724637681,
          0.002898550724637681,
          0.002898550724637681,
          0.002898550724637681,
          0.002898550724637681,
          0.002898550724637681,
          0,
          0,
          0,
          0,
          0,
          0,
          0,
          0,
          0,
          0,
          0,
          0,
          0,
          0,
          0,
          0,
          0,
          0,
          0,
          0,
          0,
          0,
          0,
          0,
          0,
          0,
          0,
          0,
          0,
          0,
          0,
          0,
          0,
          0,
          0,
          0,
          0,
          0,
          0,
          0,
          0,
          0,
          0,
          0,
          0,
          0,
          0,
          0,
          0,
          0,
          0,
          0,
          0,
          0
         ],
         "y": [
          1,
          1,
          1,
          1,
          1,
          0.9545454545454546,
          0.8409090909090909,
          0.7954545454545454,
          0.7272727272727273,
          0.6818181818181818,
          0.6363636363636364,
          0.6363636363636364,
          0.6363636363636364,
          0.6363636363636364,
          0.5909090909090909,
          0.5681818181818182,
          0.5227272727272727,
          0.5,
          0.4772727272727273,
          0.4318181818181818,
          0.38636363636363635,
          0.3181818181818182,
          0.2727272727272727,
          0.22727272727272727,
          0.18181818181818182,
          0.11363636363636363,
          0.11363636363636363,
          0.06818181818181818,
          0.06818181818181818,
          0.045454545454545456,
          0.045454545454545456,
          0.022727272727272728,
          0.022727272727272728,
          0.022727272727272728,
          0.022727272727272728,
          0,
          0,
          0,
          0,
          0,
          0,
          0,
          0,
          0,
          0,
          0,
          0,
          0,
          0,
          0,
          0,
          0,
          0,
          0,
          0,
          0,
          0,
          0,
          0,
          0,
          0,
          0,
          0,
          0,
          0,
          0,
          0,
          0,
          0,
          0,
          0,
          0,
          0,
          0,
          0,
          0,
          0,
          0,
          0,
          0,
          0,
          0,
          0,
          0,
          0,
          0,
          0,
          0,
          0,
          0,
          0,
          0,
          0,
          0,
          0,
          0,
          0,
          0,
          0,
          0
         ]
        },
        {
         "marker": {
          "color": "blue",
          "opacity": 0.5,
          "size": 5
         },
         "mode": "lines",
         "name": "Precision",
         "type": "scatter",
         "x": [
          1,
          1,
          1,
          1,
          0.9971014492753624,
          0.8956521739130435,
          0.6463768115942029,
          0.5420289855072464,
          0.48985507246376814,
          0.463768115942029,
          0.40869565217391307,
          0.37681159420289856,
          0.3536231884057971,
          0.3333333333333333,
          0.2927536231884058,
          0.263768115942029,
          0.23478260869565218,
          0.21159420289855072,
          0.1855072463768116,
          0.15072463768115943,
          0.12753623188405797,
          0.10434782608695652,
          0.08695652173913043,
          0.06666666666666667,
          0.0463768115942029,
          0.034782608695652174,
          0.03188405797101449,
          0.02608695652173913,
          0.02318840579710145,
          0.014492753623188406,
          0.011594202898550725,
          0.008695652173913044,
          0.008695652173913044,
          0.008695652173913044,
          0.008695652173913044,
          0.005797101449275362,
          0.005797101449275362,
          0.005797101449275362,
          0.005797101449275362,
          0.002898550724637681,
          0.002898550724637681,
          0.002898550724637681,
          0.002898550724637681,
          0.002898550724637681,
          0.002898550724637681,
          0.002898550724637681,
          0,
          0,
          0,
          0,
          0,
          0,
          0,
          0,
          0,
          0,
          0,
          0,
          0,
          0,
          0,
          0,
          0,
          0,
          0,
          0,
          0,
          0,
          0,
          0,
          0,
          0,
          0,
          0,
          0,
          0,
          0,
          0,
          0,
          0,
          0,
          0,
          0,
          0,
          0,
          0,
          0,
          0,
          0,
          0,
          0,
          0,
          0,
          0,
          0,
          0,
          0,
          0,
          0,
          0
         ],
         "y": [
          0.12753623188405797,
          0.12753623188405797,
          0.12753623188405797,
          0.12753623188405797,
          0.12790697674418605,
          0.13592233009708737,
          0.16591928251121077,
          0.18716577540106952,
          0.1893491124260355,
          0.1875,
          0.19858156028368795,
          0.2153846153846154,
          0.22950819672131148,
          0.24347826086956523,
          0.25742574257425743,
          0.27472527472527475,
          0.2839506172839506,
          0.3013698630136986,
          0.328125,
          0.36538461538461536,
          0.38636363636363635,
          0.3888888888888889,
          0.4,
          0.43478260869565216,
          0.5,
          0.4166666666666667,
          0.45454545454545453,
          0.3333333333333333,
          0.375,
          0.4,
          0.5,
          0.3333333333333333,
          0.3333333333333333,
          0.3333333333333333,
          0.3333333333333333,
          0,
          0,
          0,
          0,
          0,
          0,
          0,
          0,
          0,
          0,
          0,
          0,
          0,
          0,
          0,
          0,
          0,
          0,
          0,
          0,
          0,
          0,
          0,
          0,
          0,
          0,
          0,
          0,
          0,
          0,
          0,
          0,
          0,
          0,
          0,
          0,
          0,
          0,
          0,
          0,
          0,
          0,
          0,
          0,
          0,
          0,
          0,
          0,
          0,
          0,
          0,
          0,
          0,
          0,
          0,
          0,
          0,
          0,
          0,
          0,
          0,
          0,
          0,
          0,
          0
         ]
        }
       ],
       "layout": {
        "legend": {
         "font": {
          "color": "black",
          "family": "sans-serif",
          "size": 12
         },
         "traceorder": "normal",
         "x": 0.85,
         "y": 0
        },
        "template": {
         "data": {
          "bar": [
           {
            "error_x": {
             "color": "#2a3f5f"
            },
            "error_y": {
             "color": "#2a3f5f"
            },
            "marker": {
             "line": {
              "color": "#E5ECF6",
              "width": 0.5
             }
            },
            "type": "bar"
           }
          ],
          "barpolar": [
           {
            "marker": {
             "line": {
              "color": "#E5ECF6",
              "width": 0.5
             }
            },
            "type": "barpolar"
           }
          ],
          "carpet": [
           {
            "aaxis": {
             "endlinecolor": "#2a3f5f",
             "gridcolor": "white",
             "linecolor": "white",
             "minorgridcolor": "white",
             "startlinecolor": "#2a3f5f"
            },
            "baxis": {
             "endlinecolor": "#2a3f5f",
             "gridcolor": "white",
             "linecolor": "white",
             "minorgridcolor": "white",
             "startlinecolor": "#2a3f5f"
            },
            "type": "carpet"
           }
          ],
          "choropleth": [
           {
            "colorbar": {
             "outlinewidth": 0,
             "ticks": ""
            },
            "type": "choropleth"
           }
          ],
          "contour": [
           {
            "colorbar": {
             "outlinewidth": 0,
             "ticks": ""
            },
            "colorscale": [
             [
              0,
              "#0d0887"
             ],
             [
              0.1111111111111111,
              "#46039f"
             ],
             [
              0.2222222222222222,
              "#7201a8"
             ],
             [
              0.3333333333333333,
              "#9c179e"
             ],
             [
              0.4444444444444444,
              "#bd3786"
             ],
             [
              0.5555555555555556,
              "#d8576b"
             ],
             [
              0.6666666666666666,
              "#ed7953"
             ],
             [
              0.7777777777777778,
              "#fb9f3a"
             ],
             [
              0.8888888888888888,
              "#fdca26"
             ],
             [
              1,
              "#f0f921"
             ]
            ],
            "type": "contour"
           }
          ],
          "contourcarpet": [
           {
            "colorbar": {
             "outlinewidth": 0,
             "ticks": ""
            },
            "type": "contourcarpet"
           }
          ],
          "heatmap": [
           {
            "colorbar": {
             "outlinewidth": 0,
             "ticks": ""
            },
            "colorscale": [
             [
              0,
              "#0d0887"
             ],
             [
              0.1111111111111111,
              "#46039f"
             ],
             [
              0.2222222222222222,
              "#7201a8"
             ],
             [
              0.3333333333333333,
              "#9c179e"
             ],
             [
              0.4444444444444444,
              "#bd3786"
             ],
             [
              0.5555555555555556,
              "#d8576b"
             ],
             [
              0.6666666666666666,
              "#ed7953"
             ],
             [
              0.7777777777777778,
              "#fb9f3a"
             ],
             [
              0.8888888888888888,
              "#fdca26"
             ],
             [
              1,
              "#f0f921"
             ]
            ],
            "type": "heatmap"
           }
          ],
          "heatmapgl": [
           {
            "colorbar": {
             "outlinewidth": 0,
             "ticks": ""
            },
            "colorscale": [
             [
              0,
              "#0d0887"
             ],
             [
              0.1111111111111111,
              "#46039f"
             ],
             [
              0.2222222222222222,
              "#7201a8"
             ],
             [
              0.3333333333333333,
              "#9c179e"
             ],
             [
              0.4444444444444444,
              "#bd3786"
             ],
             [
              0.5555555555555556,
              "#d8576b"
             ],
             [
              0.6666666666666666,
              "#ed7953"
             ],
             [
              0.7777777777777778,
              "#fb9f3a"
             ],
             [
              0.8888888888888888,
              "#fdca26"
             ],
             [
              1,
              "#f0f921"
             ]
            ],
            "type": "heatmapgl"
           }
          ],
          "histogram": [
           {
            "marker": {
             "colorbar": {
              "outlinewidth": 0,
              "ticks": ""
             }
            },
            "type": "histogram"
           }
          ],
          "histogram2d": [
           {
            "colorbar": {
             "outlinewidth": 0,
             "ticks": ""
            },
            "colorscale": [
             [
              0,
              "#0d0887"
             ],
             [
              0.1111111111111111,
              "#46039f"
             ],
             [
              0.2222222222222222,
              "#7201a8"
             ],
             [
              0.3333333333333333,
              "#9c179e"
             ],
             [
              0.4444444444444444,
              "#bd3786"
             ],
             [
              0.5555555555555556,
              "#d8576b"
             ],
             [
              0.6666666666666666,
              "#ed7953"
             ],
             [
              0.7777777777777778,
              "#fb9f3a"
             ],
             [
              0.8888888888888888,
              "#fdca26"
             ],
             [
              1,
              "#f0f921"
             ]
            ],
            "type": "histogram2d"
           }
          ],
          "histogram2dcontour": [
           {
            "colorbar": {
             "outlinewidth": 0,
             "ticks": ""
            },
            "colorscale": [
             [
              0,
              "#0d0887"
             ],
             [
              0.1111111111111111,
              "#46039f"
             ],
             [
              0.2222222222222222,
              "#7201a8"
             ],
             [
              0.3333333333333333,
              "#9c179e"
             ],
             [
              0.4444444444444444,
              "#bd3786"
             ],
             [
              0.5555555555555556,
              "#d8576b"
             ],
             [
              0.6666666666666666,
              "#ed7953"
             ],
             [
              0.7777777777777778,
              "#fb9f3a"
             ],
             [
              0.8888888888888888,
              "#fdca26"
             ],
             [
              1,
              "#f0f921"
             ]
            ],
            "type": "histogram2dcontour"
           }
          ],
          "mesh3d": [
           {
            "colorbar": {
             "outlinewidth": 0,
             "ticks": ""
            },
            "type": "mesh3d"
           }
          ],
          "parcoords": [
           {
            "line": {
             "colorbar": {
              "outlinewidth": 0,
              "ticks": ""
             }
            },
            "type": "parcoords"
           }
          ],
          "scatter": [
           {
            "marker": {
             "colorbar": {
              "outlinewidth": 0,
              "ticks": ""
             }
            },
            "type": "scatter"
           }
          ],
          "scatter3d": [
           {
            "line": {
             "colorbar": {
              "outlinewidth": 0,
              "ticks": ""
             }
            },
            "marker": {
             "colorbar": {
              "outlinewidth": 0,
              "ticks": ""
             }
            },
            "type": "scatter3d"
           }
          ],
          "scattercarpet": [
           {
            "marker": {
             "colorbar": {
              "outlinewidth": 0,
              "ticks": ""
             }
            },
            "type": "scattercarpet"
           }
          ],
          "scattergeo": [
           {
            "marker": {
             "colorbar": {
              "outlinewidth": 0,
              "ticks": ""
             }
            },
            "type": "scattergeo"
           }
          ],
          "scattergl": [
           {
            "marker": {
             "colorbar": {
              "outlinewidth": 0,
              "ticks": ""
             }
            },
            "type": "scattergl"
           }
          ],
          "scattermapbox": [
           {
            "marker": {
             "colorbar": {
              "outlinewidth": 0,
              "ticks": ""
             }
            },
            "type": "scattermapbox"
           }
          ],
          "scatterpolar": [
           {
            "marker": {
             "colorbar": {
              "outlinewidth": 0,
              "ticks": ""
             }
            },
            "type": "scatterpolar"
           }
          ],
          "scatterpolargl": [
           {
            "marker": {
             "colorbar": {
              "outlinewidth": 0,
              "ticks": ""
             }
            },
            "type": "scatterpolargl"
           }
          ],
          "scatterternary": [
           {
            "marker": {
             "colorbar": {
              "outlinewidth": 0,
              "ticks": ""
             }
            },
            "type": "scatterternary"
           }
          ],
          "surface": [
           {
            "colorbar": {
             "outlinewidth": 0,
             "ticks": ""
            },
            "colorscale": [
             [
              0,
              "#0d0887"
             ],
             [
              0.1111111111111111,
              "#46039f"
             ],
             [
              0.2222222222222222,
              "#7201a8"
             ],
             [
              0.3333333333333333,
              "#9c179e"
             ],
             [
              0.4444444444444444,
              "#bd3786"
             ],
             [
              0.5555555555555556,
              "#d8576b"
             ],
             [
              0.6666666666666666,
              "#ed7953"
             ],
             [
              0.7777777777777778,
              "#fb9f3a"
             ],
             [
              0.8888888888888888,
              "#fdca26"
             ],
             [
              1,
              "#f0f921"
             ]
            ],
            "type": "surface"
           }
          ],
          "table": [
           {
            "cells": {
             "fill": {
              "color": "#EBF0F8"
             },
             "line": {
              "color": "white"
             }
            },
            "header": {
             "fill": {
              "color": "#C8D4E3"
             },
             "line": {
              "color": "white"
             }
            },
            "type": "table"
           }
          ]
         },
         "layout": {
          "annotationdefaults": {
           "arrowcolor": "#2a3f5f",
           "arrowhead": 0,
           "arrowwidth": 1
          },
          "colorscale": {
           "diverging": [
            [
             0,
             "#8e0152"
            ],
            [
             0.1,
             "#c51b7d"
            ],
            [
             0.2,
             "#de77ae"
            ],
            [
             0.3,
             "#f1b6da"
            ],
            [
             0.4,
             "#fde0ef"
            ],
            [
             0.5,
             "#f7f7f7"
            ],
            [
             0.6,
             "#e6f5d0"
            ],
            [
             0.7,
             "#b8e186"
            ],
            [
             0.8,
             "#7fbc41"
            ],
            [
             0.9,
             "#4d9221"
            ],
            [
             1,
             "#276419"
            ]
           ],
           "sequential": [
            [
             0,
             "#0d0887"
            ],
            [
             0.1111111111111111,
             "#46039f"
            ],
            [
             0.2222222222222222,
             "#7201a8"
            ],
            [
             0.3333333333333333,
             "#9c179e"
            ],
            [
             0.4444444444444444,
             "#bd3786"
            ],
            [
             0.5555555555555556,
             "#d8576b"
            ],
            [
             0.6666666666666666,
             "#ed7953"
            ],
            [
             0.7777777777777778,
             "#fb9f3a"
            ],
            [
             0.8888888888888888,
             "#fdca26"
            ],
            [
             1,
             "#f0f921"
            ]
           ],
           "sequentialminus": [
            [
             0,
             "#0d0887"
            ],
            [
             0.1111111111111111,
             "#46039f"
            ],
            [
             0.2222222222222222,
             "#7201a8"
            ],
            [
             0.3333333333333333,
             "#9c179e"
            ],
            [
             0.4444444444444444,
             "#bd3786"
            ],
            [
             0.5555555555555556,
             "#d8576b"
            ],
            [
             0.6666666666666666,
             "#ed7953"
            ],
            [
             0.7777777777777778,
             "#fb9f3a"
            ],
            [
             0.8888888888888888,
             "#fdca26"
            ],
            [
             1,
             "#f0f921"
            ]
           ]
          },
          "colorway": [
           "#636efa",
           "#EF553B",
           "#00cc96",
           "#ab63fa",
           "#FFA15A",
           "#19d3f3",
           "#FF6692",
           "#B6E880",
           "#FF97FF",
           "#FECB52"
          ],
          "font": {
           "color": "#2a3f5f"
          },
          "geo": {
           "bgcolor": "white",
           "lakecolor": "white",
           "landcolor": "#E5ECF6",
           "showlakes": true,
           "showland": true,
           "subunitcolor": "white"
          },
          "hoverlabel": {
           "align": "left"
          },
          "hovermode": "closest",
          "mapbox": {
           "style": "light"
          },
          "paper_bgcolor": "white",
          "plot_bgcolor": "#E5ECF6",
          "polar": {
           "angularaxis": {
            "gridcolor": "white",
            "linecolor": "white",
            "ticks": ""
           },
           "bgcolor": "#E5ECF6",
           "radialaxis": {
            "gridcolor": "white",
            "linecolor": "white",
            "ticks": ""
           }
          },
          "scene": {
           "xaxis": {
            "backgroundcolor": "#E5ECF6",
            "gridcolor": "white",
            "gridwidth": 2,
            "linecolor": "white",
            "showbackground": true,
            "ticks": "",
            "zerolinecolor": "white"
           },
           "yaxis": {
            "backgroundcolor": "#E5ECF6",
            "gridcolor": "white",
            "gridwidth": 2,
            "linecolor": "white",
            "showbackground": true,
            "ticks": "",
            "zerolinecolor": "white"
           },
           "zaxis": {
            "backgroundcolor": "#E5ECF6",
            "gridcolor": "white",
            "gridwidth": 2,
            "linecolor": "white",
            "showbackground": true,
            "ticks": "",
            "zerolinecolor": "white"
           }
          },
          "shapedefaults": {
           "line": {
            "color": "#2a3f5f"
           }
          },
          "ternary": {
           "aaxis": {
            "gridcolor": "white",
            "linecolor": "white",
            "ticks": ""
           },
           "baxis": {
            "gridcolor": "white",
            "linecolor": "white",
            "ticks": ""
           },
           "bgcolor": "#E5ECF6",
           "caxis": {
            "gridcolor": "white",
            "linecolor": "white",
            "ticks": ""
           }
          },
          "title": {
           "x": 0.05
          },
          "xaxis": {
           "automargin": true,
           "gridcolor": "white",
           "linecolor": "white",
           "ticks": "",
           "zerolinecolor": "white",
           "zerolinewidth": 2
          },
          "yaxis": {
           "automargin": true,
           "gridcolor": "white",
           "linecolor": "white",
           "ticks": "",
           "zerolinecolor": "white",
           "zerolinewidth": 2
          }
         }
        },
        "title": {
         "text": "Precision and Recall Curve"
        },
        "xaxis": {
         "range": [
          0.015,
          0.4
         ],
         "title": {
          "text": "Positives share"
         }
        },
        "yaxis": {
         "title": {
          "text": ""
         }
        }
       }
      },
      "text/html": [
       "<div>\n",
       "        \n",
       "        \n",
       "            <div id=\"082d7655-ef2f-44b6-b278-b3dd9b8d4225\" class=\"plotly-graph-div\" style=\"height:525px; width:100%;\"></div>\n",
       "            <script type=\"text/javascript\">\n",
       "                require([\"plotly\"], function(Plotly) {\n",
       "                    window.PLOTLYENV=window.PLOTLYENV || {};\n",
       "                    \n",
       "                if (document.getElementById(\"082d7655-ef2f-44b6-b278-b3dd9b8d4225\")) {\n",
       "                    Plotly.newPlot(\n",
       "                        '082d7655-ef2f-44b6-b278-b3dd9b8d4225',\n",
       "                        [{\"marker\": {\"color\": \"green\", \"opacity\": 0.5, \"size\": 5}, \"mode\": \"lines\", \"name\": \"Recall\", \"type\": \"scatter\", \"x\": [1.0, 1.0, 1.0, 1.0, 0.9971014492753624, 0.8956521739130435, 0.6463768115942029, 0.5420289855072464, 0.48985507246376814, 0.463768115942029, 0.40869565217391307, 0.37681159420289856, 0.3536231884057971, 0.3333333333333333, 0.2927536231884058, 0.263768115942029, 0.23478260869565218, 0.21159420289855072, 0.1855072463768116, 0.15072463768115943, 0.12753623188405797, 0.10434782608695652, 0.08695652173913043, 0.06666666666666667, 0.0463768115942029, 0.034782608695652174, 0.03188405797101449, 0.02608695652173913, 0.02318840579710145, 0.014492753623188406, 0.011594202898550725, 0.008695652173913044, 0.008695652173913044, 0.008695652173913044, 0.008695652173913044, 0.005797101449275362, 0.005797101449275362, 0.005797101449275362, 0.005797101449275362, 0.002898550724637681, 0.002898550724637681, 0.002898550724637681, 0.002898550724637681, 0.002898550724637681, 0.002898550724637681, 0.002898550724637681, 0.0, 0.0, 0.0, 0.0, 0.0, 0.0, 0.0, 0.0, 0.0, 0.0, 0.0, 0.0, 0.0, 0.0, 0.0, 0.0, 0.0, 0.0, 0.0, 0.0, 0.0, 0.0, 0.0, 0.0, 0.0, 0.0, 0.0, 0.0, 0.0, 0.0, 0.0, 0.0, 0.0, 0.0, 0.0, 0.0, 0.0, 0.0, 0.0, 0.0, 0.0, 0.0, 0.0, 0.0, 0.0, 0.0, 0.0, 0.0, 0.0, 0.0, 0.0, 0.0, 0.0, 0.0], \"y\": [1.0, 1.0, 1.0, 1.0, 1.0, 0.9545454545454546, 0.8409090909090909, 0.7954545454545454, 0.7272727272727273, 0.6818181818181818, 0.6363636363636364, 0.6363636363636364, 0.6363636363636364, 0.6363636363636364, 0.5909090909090909, 0.5681818181818182, 0.5227272727272727, 0.5, 0.4772727272727273, 0.4318181818181818, 0.38636363636363635, 0.3181818181818182, 0.2727272727272727, 0.22727272727272727, 0.18181818181818182, 0.11363636363636363, 0.11363636363636363, 0.06818181818181818, 0.06818181818181818, 0.045454545454545456, 0.045454545454545456, 0.022727272727272728, 0.022727272727272728, 0.022727272727272728, 0.022727272727272728, 0.0, 0.0, 0.0, 0.0, 0.0, 0.0, 0.0, 0.0, 0.0, 0.0, 0.0, 0.0, 0.0, 0.0, 0.0, 0.0, 0.0, 0.0, 0.0, 0.0, 0.0, 0.0, 0.0, 0.0, 0.0, 0.0, 0.0, 0.0, 0.0, 0.0, 0.0, 0.0, 0.0, 0.0, 0.0, 0.0, 0.0, 0.0, 0.0, 0.0, 0.0, 0.0, 0.0, 0.0, 0.0, 0.0, 0.0, 0.0, 0.0, 0.0, 0.0, 0.0, 0.0, 0.0, 0.0, 0.0, 0.0, 0.0, 0.0, 0.0, 0.0, 0.0, 0.0, 0.0, 0.0]}, {\"marker\": {\"color\": \"blue\", \"opacity\": 0.5, \"size\": 5}, \"mode\": \"lines\", \"name\": \"Precision\", \"type\": \"scatter\", \"x\": [1.0, 1.0, 1.0, 1.0, 0.9971014492753624, 0.8956521739130435, 0.6463768115942029, 0.5420289855072464, 0.48985507246376814, 0.463768115942029, 0.40869565217391307, 0.37681159420289856, 0.3536231884057971, 0.3333333333333333, 0.2927536231884058, 0.263768115942029, 0.23478260869565218, 0.21159420289855072, 0.1855072463768116, 0.15072463768115943, 0.12753623188405797, 0.10434782608695652, 0.08695652173913043, 0.06666666666666667, 0.0463768115942029, 0.034782608695652174, 0.03188405797101449, 0.02608695652173913, 0.02318840579710145, 0.014492753623188406, 0.011594202898550725, 0.008695652173913044, 0.008695652173913044, 0.008695652173913044, 0.008695652173913044, 0.005797101449275362, 0.005797101449275362, 0.005797101449275362, 0.005797101449275362, 0.002898550724637681, 0.002898550724637681, 0.002898550724637681, 0.002898550724637681, 0.002898550724637681, 0.002898550724637681, 0.002898550724637681, 0.0, 0.0, 0.0, 0.0, 0.0, 0.0, 0.0, 0.0, 0.0, 0.0, 0.0, 0.0, 0.0, 0.0, 0.0, 0.0, 0.0, 0.0, 0.0, 0.0, 0.0, 0.0, 0.0, 0.0, 0.0, 0.0, 0.0, 0.0, 0.0, 0.0, 0.0, 0.0, 0.0, 0.0, 0.0, 0.0, 0.0, 0.0, 0.0, 0.0, 0.0, 0.0, 0.0, 0.0, 0.0, 0.0, 0.0, 0.0, 0.0, 0.0, 0.0, 0.0, 0.0, 0.0], \"y\": [0.12753623188405797, 0.12753623188405797, 0.12753623188405797, 0.12753623188405797, 0.12790697674418605, 0.13592233009708737, 0.16591928251121077, 0.18716577540106952, 0.1893491124260355, 0.1875, 0.19858156028368795, 0.2153846153846154, 0.22950819672131148, 0.24347826086956523, 0.25742574257425743, 0.27472527472527475, 0.2839506172839506, 0.3013698630136986, 0.328125, 0.36538461538461536, 0.38636363636363635, 0.3888888888888889, 0.4, 0.43478260869565216, 0.5, 0.4166666666666667, 0.45454545454545453, 0.3333333333333333, 0.375, 0.4, 0.5, 0.3333333333333333, 0.3333333333333333, 0.3333333333333333, 0.3333333333333333, 0.0, 0.0, 0.0, 0.0, 0.0, 0.0, 0.0, 0.0, 0.0, 0.0, 0.0, 0.0, 0.0, 0.0, 0.0, 0.0, 0.0, 0.0, 0.0, 0.0, 0.0, 0.0, 0.0, 0.0, 0.0, 0.0, 0.0, 0.0, 0.0, 0.0, 0.0, 0.0, 0.0, 0.0, 0.0, 0.0, 0.0, 0.0, 0.0, 0.0, 0.0, 0.0, 0.0, 0.0, 0.0, 0.0, 0.0, 0.0, 0.0, 0.0, 0.0, 0.0, 0.0, 0.0, 0.0, 0.0, 0.0, 0.0, 0.0, 0.0, 0.0, 0.0, 0.0, 0.0, 0.0]}],\n",
       "                        {\"legend\": {\"font\": {\"color\": \"black\", \"family\": \"sans-serif\", \"size\": 12}, \"traceorder\": \"normal\", \"x\": 0.85, \"y\": 0}, \"template\": {\"data\": {\"bar\": [{\"error_x\": {\"color\": \"#2a3f5f\"}, \"error_y\": {\"color\": \"#2a3f5f\"}, \"marker\": {\"line\": {\"color\": \"#E5ECF6\", \"width\": 0.5}}, \"type\": \"bar\"}], \"barpolar\": [{\"marker\": {\"line\": {\"color\": \"#E5ECF6\", \"width\": 0.5}}, \"type\": \"barpolar\"}], \"carpet\": [{\"aaxis\": {\"endlinecolor\": \"#2a3f5f\", \"gridcolor\": \"white\", \"linecolor\": \"white\", \"minorgridcolor\": \"white\", \"startlinecolor\": \"#2a3f5f\"}, \"baxis\": {\"endlinecolor\": \"#2a3f5f\", \"gridcolor\": \"white\", \"linecolor\": \"white\", \"minorgridcolor\": \"white\", \"startlinecolor\": \"#2a3f5f\"}, \"type\": \"carpet\"}], \"choropleth\": [{\"colorbar\": {\"outlinewidth\": 0, \"ticks\": \"\"}, \"type\": \"choropleth\"}], \"contour\": [{\"colorbar\": {\"outlinewidth\": 0, \"ticks\": \"\"}, \"colorscale\": [[0.0, \"#0d0887\"], [0.1111111111111111, \"#46039f\"], [0.2222222222222222, \"#7201a8\"], [0.3333333333333333, \"#9c179e\"], [0.4444444444444444, \"#bd3786\"], [0.5555555555555556, \"#d8576b\"], [0.6666666666666666, \"#ed7953\"], [0.7777777777777778, \"#fb9f3a\"], [0.8888888888888888, \"#fdca26\"], [1.0, \"#f0f921\"]], \"type\": \"contour\"}], \"contourcarpet\": [{\"colorbar\": {\"outlinewidth\": 0, \"ticks\": \"\"}, \"type\": \"contourcarpet\"}], \"heatmap\": [{\"colorbar\": {\"outlinewidth\": 0, \"ticks\": \"\"}, \"colorscale\": [[0.0, \"#0d0887\"], [0.1111111111111111, \"#46039f\"], [0.2222222222222222, \"#7201a8\"], [0.3333333333333333, \"#9c179e\"], [0.4444444444444444, \"#bd3786\"], [0.5555555555555556, \"#d8576b\"], [0.6666666666666666, \"#ed7953\"], [0.7777777777777778, \"#fb9f3a\"], [0.8888888888888888, \"#fdca26\"], [1.0, \"#f0f921\"]], \"type\": \"heatmap\"}], \"heatmapgl\": [{\"colorbar\": {\"outlinewidth\": 0, \"ticks\": \"\"}, \"colorscale\": [[0.0, \"#0d0887\"], [0.1111111111111111, \"#46039f\"], [0.2222222222222222, \"#7201a8\"], [0.3333333333333333, \"#9c179e\"], [0.4444444444444444, \"#bd3786\"], [0.5555555555555556, \"#d8576b\"], [0.6666666666666666, \"#ed7953\"], [0.7777777777777778, \"#fb9f3a\"], [0.8888888888888888, \"#fdca26\"], [1.0, \"#f0f921\"]], \"type\": \"heatmapgl\"}], \"histogram\": [{\"marker\": {\"colorbar\": {\"outlinewidth\": 0, \"ticks\": \"\"}}, \"type\": \"histogram\"}], \"histogram2d\": [{\"colorbar\": {\"outlinewidth\": 0, \"ticks\": \"\"}, \"colorscale\": [[0.0, \"#0d0887\"], [0.1111111111111111, \"#46039f\"], [0.2222222222222222, \"#7201a8\"], [0.3333333333333333, \"#9c179e\"], [0.4444444444444444, \"#bd3786\"], [0.5555555555555556, \"#d8576b\"], [0.6666666666666666, \"#ed7953\"], [0.7777777777777778, \"#fb9f3a\"], [0.8888888888888888, \"#fdca26\"], [1.0, \"#f0f921\"]], \"type\": \"histogram2d\"}], \"histogram2dcontour\": [{\"colorbar\": {\"outlinewidth\": 0, \"ticks\": \"\"}, \"colorscale\": [[0.0, \"#0d0887\"], [0.1111111111111111, \"#46039f\"], [0.2222222222222222, \"#7201a8\"], [0.3333333333333333, \"#9c179e\"], [0.4444444444444444, \"#bd3786\"], [0.5555555555555556, \"#d8576b\"], [0.6666666666666666, \"#ed7953\"], [0.7777777777777778, \"#fb9f3a\"], [0.8888888888888888, \"#fdca26\"], [1.0, \"#f0f921\"]], \"type\": \"histogram2dcontour\"}], \"mesh3d\": [{\"colorbar\": {\"outlinewidth\": 0, \"ticks\": \"\"}, \"type\": \"mesh3d\"}], \"parcoords\": [{\"line\": {\"colorbar\": {\"outlinewidth\": 0, \"ticks\": \"\"}}, \"type\": \"parcoords\"}], \"scatter\": [{\"marker\": {\"colorbar\": {\"outlinewidth\": 0, \"ticks\": \"\"}}, \"type\": \"scatter\"}], \"scatter3d\": [{\"line\": {\"colorbar\": {\"outlinewidth\": 0, \"ticks\": \"\"}}, \"marker\": {\"colorbar\": {\"outlinewidth\": 0, \"ticks\": \"\"}}, \"type\": \"scatter3d\"}], \"scattercarpet\": [{\"marker\": {\"colorbar\": {\"outlinewidth\": 0, \"ticks\": \"\"}}, \"type\": \"scattercarpet\"}], \"scattergeo\": [{\"marker\": {\"colorbar\": {\"outlinewidth\": 0, \"ticks\": \"\"}}, \"type\": \"scattergeo\"}], \"scattergl\": [{\"marker\": {\"colorbar\": {\"outlinewidth\": 0, \"ticks\": \"\"}}, \"type\": \"scattergl\"}], \"scattermapbox\": [{\"marker\": {\"colorbar\": {\"outlinewidth\": 0, \"ticks\": \"\"}}, \"type\": \"scattermapbox\"}], \"scatterpolar\": [{\"marker\": {\"colorbar\": {\"outlinewidth\": 0, \"ticks\": \"\"}}, \"type\": \"scatterpolar\"}], \"scatterpolargl\": [{\"marker\": {\"colorbar\": {\"outlinewidth\": 0, \"ticks\": \"\"}}, \"type\": \"scatterpolargl\"}], \"scatterternary\": [{\"marker\": {\"colorbar\": {\"outlinewidth\": 0, \"ticks\": \"\"}}, \"type\": \"scatterternary\"}], \"surface\": [{\"colorbar\": {\"outlinewidth\": 0, \"ticks\": \"\"}, \"colorscale\": [[0.0, \"#0d0887\"], [0.1111111111111111, \"#46039f\"], [0.2222222222222222, \"#7201a8\"], [0.3333333333333333, \"#9c179e\"], [0.4444444444444444, \"#bd3786\"], [0.5555555555555556, \"#d8576b\"], [0.6666666666666666, \"#ed7953\"], [0.7777777777777778, \"#fb9f3a\"], [0.8888888888888888, \"#fdca26\"], [1.0, \"#f0f921\"]], \"type\": \"surface\"}], \"table\": [{\"cells\": {\"fill\": {\"color\": \"#EBF0F8\"}, \"line\": {\"color\": \"white\"}}, \"header\": {\"fill\": {\"color\": \"#C8D4E3\"}, \"line\": {\"color\": \"white\"}}, \"type\": \"table\"}]}, \"layout\": {\"annotationdefaults\": {\"arrowcolor\": \"#2a3f5f\", \"arrowhead\": 0, \"arrowwidth\": 1}, \"colorscale\": {\"diverging\": [[0, \"#8e0152\"], [0.1, \"#c51b7d\"], [0.2, \"#de77ae\"], [0.3, \"#f1b6da\"], [0.4, \"#fde0ef\"], [0.5, \"#f7f7f7\"], [0.6, \"#e6f5d0\"], [0.7, \"#b8e186\"], [0.8, \"#7fbc41\"], [0.9, \"#4d9221\"], [1, \"#276419\"]], \"sequential\": [[0.0, \"#0d0887\"], [0.1111111111111111, \"#46039f\"], [0.2222222222222222, \"#7201a8\"], [0.3333333333333333, \"#9c179e\"], [0.4444444444444444, \"#bd3786\"], [0.5555555555555556, \"#d8576b\"], [0.6666666666666666, \"#ed7953\"], [0.7777777777777778, \"#fb9f3a\"], [0.8888888888888888, \"#fdca26\"], [1.0, \"#f0f921\"]], \"sequentialminus\": [[0.0, \"#0d0887\"], [0.1111111111111111, \"#46039f\"], [0.2222222222222222, \"#7201a8\"], [0.3333333333333333, \"#9c179e\"], [0.4444444444444444, \"#bd3786\"], [0.5555555555555556, \"#d8576b\"], [0.6666666666666666, \"#ed7953\"], [0.7777777777777778, \"#fb9f3a\"], [0.8888888888888888, \"#fdca26\"], [1.0, \"#f0f921\"]]}, \"colorway\": [\"#636efa\", \"#EF553B\", \"#00cc96\", \"#ab63fa\", \"#FFA15A\", \"#19d3f3\", \"#FF6692\", \"#B6E880\", \"#FF97FF\", \"#FECB52\"], \"font\": {\"color\": \"#2a3f5f\"}, \"geo\": {\"bgcolor\": \"white\", \"lakecolor\": \"white\", \"landcolor\": \"#E5ECF6\", \"showlakes\": true, \"showland\": true, \"subunitcolor\": \"white\"}, \"hoverlabel\": {\"align\": \"left\"}, \"hovermode\": \"closest\", \"mapbox\": {\"style\": \"light\"}, \"paper_bgcolor\": \"white\", \"plot_bgcolor\": \"#E5ECF6\", \"polar\": {\"angularaxis\": {\"gridcolor\": \"white\", \"linecolor\": \"white\", \"ticks\": \"\"}, \"bgcolor\": \"#E5ECF6\", \"radialaxis\": {\"gridcolor\": \"white\", \"linecolor\": \"white\", \"ticks\": \"\"}}, \"scene\": {\"xaxis\": {\"backgroundcolor\": \"#E5ECF6\", \"gridcolor\": \"white\", \"gridwidth\": 2, \"linecolor\": \"white\", \"showbackground\": true, \"ticks\": \"\", \"zerolinecolor\": \"white\"}, \"yaxis\": {\"backgroundcolor\": \"#E5ECF6\", \"gridcolor\": \"white\", \"gridwidth\": 2, \"linecolor\": \"white\", \"showbackground\": true, \"ticks\": \"\", \"zerolinecolor\": \"white\"}, \"zaxis\": {\"backgroundcolor\": \"#E5ECF6\", \"gridcolor\": \"white\", \"gridwidth\": 2, \"linecolor\": \"white\", \"showbackground\": true, \"ticks\": \"\", \"zerolinecolor\": \"white\"}}, \"shapedefaults\": {\"line\": {\"color\": \"#2a3f5f\"}}, \"ternary\": {\"aaxis\": {\"gridcolor\": \"white\", \"linecolor\": \"white\", \"ticks\": \"\"}, \"baxis\": {\"gridcolor\": \"white\", \"linecolor\": \"white\", \"ticks\": \"\"}, \"bgcolor\": \"#E5ECF6\", \"caxis\": {\"gridcolor\": \"white\", \"linecolor\": \"white\", \"ticks\": \"\"}}, \"title\": {\"x\": 0.05}, \"xaxis\": {\"automargin\": true, \"gridcolor\": \"white\", \"linecolor\": \"white\", \"ticks\": \"\", \"zerolinecolor\": \"white\", \"zerolinewidth\": 2}, \"yaxis\": {\"automargin\": true, \"gridcolor\": \"white\", \"linecolor\": \"white\", \"ticks\": \"\", \"zerolinecolor\": \"white\", \"zerolinewidth\": 2}}}, \"title\": {\"text\": \"Precision and Recall Curve\"}, \"xaxis\": {\"range\": [0.015, 0.4], \"title\": {\"text\": \"Positives share\"}}, \"yaxis\": {\"title\": {\"text\": \"\"}}},\n",
       "                        {\"responsive\": true}\n",
       "                    ).then(function(){\n",
       "                            \n",
       "var gd = document.getElementById('082d7655-ef2f-44b6-b278-b3dd9b8d4225');\n",
       "var x = new MutationObserver(function (mutations, observer) {{\n",
       "        var display = window.getComputedStyle(gd).display;\n",
       "        if (!display || display === 'none') {{\n",
       "            console.log([gd, 'removed!']);\n",
       "            Plotly.purge(gd);\n",
       "            observer.disconnect();\n",
       "        }}\n",
       "}});\n",
       "\n",
       "// Listen for the removal of the full notebook cells\n",
       "var notebookContainer = gd.closest('#notebook-container');\n",
       "if (notebookContainer) {{\n",
       "    x.observe(notebookContainer, {childList: true});\n",
       "}}\n",
       "\n",
       "// Listen for the clearing of the current output cell\n",
       "var outputEl = gd.closest('.output');\n",
       "if (outputEl) {{\n",
       "    x.observe(outputEl, {childList: true});\n",
       "}}\n",
       "\n",
       "                        })\n",
       "                };\n",
       "                });\n",
       "            </script>\n",
       "        </div>"
      ]
     },
     "metadata": {},
     "output_type": "display_data"
    }
   ],
   "source": [
    "    trace0=go.Scatter(\n",
    "            y=gru_pr_test.recall,\n",
    "            x=gru_pr_test.positives_share,\n",
    "            mode='lines',\n",
    "            marker=dict(\n",
    "            color=\"green\",\n",
    "            size=5,\n",
    "            opacity=0.5\n",
    "            ),\n",
    "            name=\"Recall\"\n",
    "        )\n",
    "\n",
    "\n",
    "\n",
    "    trace1=go.Scatter(\n",
    "            y=gru_pr_test.precission,\n",
    "            x=gru_pr_test.positives_share,\n",
    "            mode='lines',\n",
    "            marker=dict(\n",
    "            color=\"blue\",\n",
    "            size=5,\n",
    "            opacity=0.5\n",
    "            ),\n",
    "            name=\"Precision\"\n",
    "        )\n",
    "\n",
    "    \n",
    "\n",
    "\n",
    "\n",
    "    data=[trace0, trace1]\n",
    "    figure=go.Figure(\n",
    "        data=data,\n",
    "        layout=go.Layout(\n",
    "            title=\"Precision and Recall Curve\",\n",
    "            yaxis=dict(title=\"\"),\n",
    "            xaxis=dict(title=\"Positives share\",range=[0.015,0.4]),\n",
    "            legend=dict(\n",
    "                x=0.85,\n",
    "                y=0,\n",
    "                traceorder=\"normal\",\n",
    "                font=dict(\n",
    "                    family=\"sans-serif\",\n",
    "                    size=12,\n",
    "                    color=\"black\"\n",
    "                ),\n",
    "            bgcolor=None\n",
    "\n",
    "\n",
    "        )))\n",
    "    iplot(figure)"
   ]
  },
  {
   "cell_type": "code",
   "execution_count": 54,
   "metadata": {},
   "outputs": [],
   "source": [
    "gru_pred_test[\"risk_category\"]=pd.qcut(gru_pred_test.y_pred, 5, labels=[\"safe\", \"low risk\", \"moderate risk\",\"high risk\",\"very high risk\"])"
   ]
  },
  {
   "cell_type": "code",
   "execution_count": 55,
   "metadata": {},
   "outputs": [],
   "source": [
    "risk_performance=gru_pred_test.groupby(\"risk_category\").y_true.mean().reset_index()"
   ]
  },
  {
   "cell_type": "code",
   "execution_count": 56,
   "metadata": {},
   "outputs": [],
   "source": [
    "risk_performance[\"default_count\"]=gru_pred_test.groupby(\"risk_category\").y_true.sum().values"
   ]
  },
  {
   "cell_type": "code",
   "execution_count": 57,
   "metadata": {},
   "outputs": [],
   "source": [
    "risk_performance[\"share_of_defaults\"]=risk_performance[\"default_count\"]/gru_pred_test.y_true.sum()"
   ]
  },
  {
   "cell_type": "code",
   "execution_count": 58,
   "metadata": {},
   "outputs": [],
   "source": [
    "fig = go.Figure(data=[\n",
    "    go.Bar(name='Default Probability', x=risk_performance.risk_category, y=risk_performance.y_true),\n",
    "    go.Scatter(\n",
    "        x=risk_performance.risk_category,\n",
    "        y=np.ones(5)*gru_pred_test.y_true.mean(),\n",
    "        name='Portfolio average')\n",
    "    \n",
    "])"
   ]
  },
  {
   "cell_type": "code",
   "execution_count": 59,
   "metadata": {},
   "outputs": [
    {
     "data": {
      "application/vnd.plotly.v1+json": {
       "config": {
        "plotlyServerURL": "https://plot.ly"
       },
       "data": [
        {
         "name": "Default Probability",
         "type": "bar",
         "x": [
          "safe",
          "low risk",
          "moderate risk",
          "high risk",
          "very high risk"
         ],
         "y": [
          0.028985507246376812,
          0.08695652173913043,
          0.11594202898550725,
          0.10144927536231885,
          0.30434782608695654
         ]
        },
        {
         "name": "Portfolio average",
         "type": "scatter",
         "x": [
          "safe",
          "low risk",
          "moderate risk",
          "high risk",
          "very high risk"
         ],
         "y": [
          0.12753623188405797,
          0.12753623188405797,
          0.12753623188405797,
          0.12753623188405797,
          0.12753623188405797
         ]
        }
       ],
       "layout": {
        "barmode": "group",
        "legend": {
         "font": {
          "color": "black",
          "family": "sans-serif",
          "size": 12
         },
         "traceorder": "normal",
         "x": 0.1,
         "y": 1
        },
        "template": {
         "data": {
          "bar": [
           {
            "error_x": {
             "color": "#2a3f5f"
            },
            "error_y": {
             "color": "#2a3f5f"
            },
            "marker": {
             "line": {
              "color": "#E5ECF6",
              "width": 0.5
             }
            },
            "type": "bar"
           }
          ],
          "barpolar": [
           {
            "marker": {
             "line": {
              "color": "#E5ECF6",
              "width": 0.5
             }
            },
            "type": "barpolar"
           }
          ],
          "carpet": [
           {
            "aaxis": {
             "endlinecolor": "#2a3f5f",
             "gridcolor": "white",
             "linecolor": "white",
             "minorgridcolor": "white",
             "startlinecolor": "#2a3f5f"
            },
            "baxis": {
             "endlinecolor": "#2a3f5f",
             "gridcolor": "white",
             "linecolor": "white",
             "minorgridcolor": "white",
             "startlinecolor": "#2a3f5f"
            },
            "type": "carpet"
           }
          ],
          "choropleth": [
           {
            "colorbar": {
             "outlinewidth": 0,
             "ticks": ""
            },
            "type": "choropleth"
           }
          ],
          "contour": [
           {
            "colorbar": {
             "outlinewidth": 0,
             "ticks": ""
            },
            "colorscale": [
             [
              0,
              "#0d0887"
             ],
             [
              0.1111111111111111,
              "#46039f"
             ],
             [
              0.2222222222222222,
              "#7201a8"
             ],
             [
              0.3333333333333333,
              "#9c179e"
             ],
             [
              0.4444444444444444,
              "#bd3786"
             ],
             [
              0.5555555555555556,
              "#d8576b"
             ],
             [
              0.6666666666666666,
              "#ed7953"
             ],
             [
              0.7777777777777778,
              "#fb9f3a"
             ],
             [
              0.8888888888888888,
              "#fdca26"
             ],
             [
              1,
              "#f0f921"
             ]
            ],
            "type": "contour"
           }
          ],
          "contourcarpet": [
           {
            "colorbar": {
             "outlinewidth": 0,
             "ticks": ""
            },
            "type": "contourcarpet"
           }
          ],
          "heatmap": [
           {
            "colorbar": {
             "outlinewidth": 0,
             "ticks": ""
            },
            "colorscale": [
             [
              0,
              "#0d0887"
             ],
             [
              0.1111111111111111,
              "#46039f"
             ],
             [
              0.2222222222222222,
              "#7201a8"
             ],
             [
              0.3333333333333333,
              "#9c179e"
             ],
             [
              0.4444444444444444,
              "#bd3786"
             ],
             [
              0.5555555555555556,
              "#d8576b"
             ],
             [
              0.6666666666666666,
              "#ed7953"
             ],
             [
              0.7777777777777778,
              "#fb9f3a"
             ],
             [
              0.8888888888888888,
              "#fdca26"
             ],
             [
              1,
              "#f0f921"
             ]
            ],
            "type": "heatmap"
           }
          ],
          "heatmapgl": [
           {
            "colorbar": {
             "outlinewidth": 0,
             "ticks": ""
            },
            "colorscale": [
             [
              0,
              "#0d0887"
             ],
             [
              0.1111111111111111,
              "#46039f"
             ],
             [
              0.2222222222222222,
              "#7201a8"
             ],
             [
              0.3333333333333333,
              "#9c179e"
             ],
             [
              0.4444444444444444,
              "#bd3786"
             ],
             [
              0.5555555555555556,
              "#d8576b"
             ],
             [
              0.6666666666666666,
              "#ed7953"
             ],
             [
              0.7777777777777778,
              "#fb9f3a"
             ],
             [
              0.8888888888888888,
              "#fdca26"
             ],
             [
              1,
              "#f0f921"
             ]
            ],
            "type": "heatmapgl"
           }
          ],
          "histogram": [
           {
            "marker": {
             "colorbar": {
              "outlinewidth": 0,
              "ticks": ""
             }
            },
            "type": "histogram"
           }
          ],
          "histogram2d": [
           {
            "colorbar": {
             "outlinewidth": 0,
             "ticks": ""
            },
            "colorscale": [
             [
              0,
              "#0d0887"
             ],
             [
              0.1111111111111111,
              "#46039f"
             ],
             [
              0.2222222222222222,
              "#7201a8"
             ],
             [
              0.3333333333333333,
              "#9c179e"
             ],
             [
              0.4444444444444444,
              "#bd3786"
             ],
             [
              0.5555555555555556,
              "#d8576b"
             ],
             [
              0.6666666666666666,
              "#ed7953"
             ],
             [
              0.7777777777777778,
              "#fb9f3a"
             ],
             [
              0.8888888888888888,
              "#fdca26"
             ],
             [
              1,
              "#f0f921"
             ]
            ],
            "type": "histogram2d"
           }
          ],
          "histogram2dcontour": [
           {
            "colorbar": {
             "outlinewidth": 0,
             "ticks": ""
            },
            "colorscale": [
             [
              0,
              "#0d0887"
             ],
             [
              0.1111111111111111,
              "#46039f"
             ],
             [
              0.2222222222222222,
              "#7201a8"
             ],
             [
              0.3333333333333333,
              "#9c179e"
             ],
             [
              0.4444444444444444,
              "#bd3786"
             ],
             [
              0.5555555555555556,
              "#d8576b"
             ],
             [
              0.6666666666666666,
              "#ed7953"
             ],
             [
              0.7777777777777778,
              "#fb9f3a"
             ],
             [
              0.8888888888888888,
              "#fdca26"
             ],
             [
              1,
              "#f0f921"
             ]
            ],
            "type": "histogram2dcontour"
           }
          ],
          "mesh3d": [
           {
            "colorbar": {
             "outlinewidth": 0,
             "ticks": ""
            },
            "type": "mesh3d"
           }
          ],
          "parcoords": [
           {
            "line": {
             "colorbar": {
              "outlinewidth": 0,
              "ticks": ""
             }
            },
            "type": "parcoords"
           }
          ],
          "scatter": [
           {
            "marker": {
             "colorbar": {
              "outlinewidth": 0,
              "ticks": ""
             }
            },
            "type": "scatter"
           }
          ],
          "scatter3d": [
           {
            "line": {
             "colorbar": {
              "outlinewidth": 0,
              "ticks": ""
             }
            },
            "marker": {
             "colorbar": {
              "outlinewidth": 0,
              "ticks": ""
             }
            },
            "type": "scatter3d"
           }
          ],
          "scattercarpet": [
           {
            "marker": {
             "colorbar": {
              "outlinewidth": 0,
              "ticks": ""
             }
            },
            "type": "scattercarpet"
           }
          ],
          "scattergeo": [
           {
            "marker": {
             "colorbar": {
              "outlinewidth": 0,
              "ticks": ""
             }
            },
            "type": "scattergeo"
           }
          ],
          "scattergl": [
           {
            "marker": {
             "colorbar": {
              "outlinewidth": 0,
              "ticks": ""
             }
            },
            "type": "scattergl"
           }
          ],
          "scattermapbox": [
           {
            "marker": {
             "colorbar": {
              "outlinewidth": 0,
              "ticks": ""
             }
            },
            "type": "scattermapbox"
           }
          ],
          "scatterpolar": [
           {
            "marker": {
             "colorbar": {
              "outlinewidth": 0,
              "ticks": ""
             }
            },
            "type": "scatterpolar"
           }
          ],
          "scatterpolargl": [
           {
            "marker": {
             "colorbar": {
              "outlinewidth": 0,
              "ticks": ""
             }
            },
            "type": "scatterpolargl"
           }
          ],
          "scatterternary": [
           {
            "marker": {
             "colorbar": {
              "outlinewidth": 0,
              "ticks": ""
             }
            },
            "type": "scatterternary"
           }
          ],
          "surface": [
           {
            "colorbar": {
             "outlinewidth": 0,
             "ticks": ""
            },
            "colorscale": [
             [
              0,
              "#0d0887"
             ],
             [
              0.1111111111111111,
              "#46039f"
             ],
             [
              0.2222222222222222,
              "#7201a8"
             ],
             [
              0.3333333333333333,
              "#9c179e"
             ],
             [
              0.4444444444444444,
              "#bd3786"
             ],
             [
              0.5555555555555556,
              "#d8576b"
             ],
             [
              0.6666666666666666,
              "#ed7953"
             ],
             [
              0.7777777777777778,
              "#fb9f3a"
             ],
             [
              0.8888888888888888,
              "#fdca26"
             ],
             [
              1,
              "#f0f921"
             ]
            ],
            "type": "surface"
           }
          ],
          "table": [
           {
            "cells": {
             "fill": {
              "color": "#EBF0F8"
             },
             "line": {
              "color": "white"
             }
            },
            "header": {
             "fill": {
              "color": "#C8D4E3"
             },
             "line": {
              "color": "white"
             }
            },
            "type": "table"
           }
          ]
         },
         "layout": {
          "annotationdefaults": {
           "arrowcolor": "#2a3f5f",
           "arrowhead": 0,
           "arrowwidth": 1
          },
          "colorscale": {
           "diverging": [
            [
             0,
             "#8e0152"
            ],
            [
             0.1,
             "#c51b7d"
            ],
            [
             0.2,
             "#de77ae"
            ],
            [
             0.3,
             "#f1b6da"
            ],
            [
             0.4,
             "#fde0ef"
            ],
            [
             0.5,
             "#f7f7f7"
            ],
            [
             0.6,
             "#e6f5d0"
            ],
            [
             0.7,
             "#b8e186"
            ],
            [
             0.8,
             "#7fbc41"
            ],
            [
             0.9,
             "#4d9221"
            ],
            [
             1,
             "#276419"
            ]
           ],
           "sequential": [
            [
             0,
             "#0d0887"
            ],
            [
             0.1111111111111111,
             "#46039f"
            ],
            [
             0.2222222222222222,
             "#7201a8"
            ],
            [
             0.3333333333333333,
             "#9c179e"
            ],
            [
             0.4444444444444444,
             "#bd3786"
            ],
            [
             0.5555555555555556,
             "#d8576b"
            ],
            [
             0.6666666666666666,
             "#ed7953"
            ],
            [
             0.7777777777777778,
             "#fb9f3a"
            ],
            [
             0.8888888888888888,
             "#fdca26"
            ],
            [
             1,
             "#f0f921"
            ]
           ],
           "sequentialminus": [
            [
             0,
             "#0d0887"
            ],
            [
             0.1111111111111111,
             "#46039f"
            ],
            [
             0.2222222222222222,
             "#7201a8"
            ],
            [
             0.3333333333333333,
             "#9c179e"
            ],
            [
             0.4444444444444444,
             "#bd3786"
            ],
            [
             0.5555555555555556,
             "#d8576b"
            ],
            [
             0.6666666666666666,
             "#ed7953"
            ],
            [
             0.7777777777777778,
             "#fb9f3a"
            ],
            [
             0.8888888888888888,
             "#fdca26"
            ],
            [
             1,
             "#f0f921"
            ]
           ]
          },
          "colorway": [
           "#636efa",
           "#EF553B",
           "#00cc96",
           "#ab63fa",
           "#FFA15A",
           "#19d3f3",
           "#FF6692",
           "#B6E880",
           "#FF97FF",
           "#FECB52"
          ],
          "font": {
           "color": "#2a3f5f"
          },
          "geo": {
           "bgcolor": "white",
           "lakecolor": "white",
           "landcolor": "#E5ECF6",
           "showlakes": true,
           "showland": true,
           "subunitcolor": "white"
          },
          "hoverlabel": {
           "align": "left"
          },
          "hovermode": "closest",
          "mapbox": {
           "style": "light"
          },
          "paper_bgcolor": "white",
          "plot_bgcolor": "#E5ECF6",
          "polar": {
           "angularaxis": {
            "gridcolor": "white",
            "linecolor": "white",
            "ticks": ""
           },
           "bgcolor": "#E5ECF6",
           "radialaxis": {
            "gridcolor": "white",
            "linecolor": "white",
            "ticks": ""
           }
          },
          "scene": {
           "xaxis": {
            "backgroundcolor": "#E5ECF6",
            "gridcolor": "white",
            "gridwidth": 2,
            "linecolor": "white",
            "showbackground": true,
            "ticks": "",
            "zerolinecolor": "white"
           },
           "yaxis": {
            "backgroundcolor": "#E5ECF6",
            "gridcolor": "white",
            "gridwidth": 2,
            "linecolor": "white",
            "showbackground": true,
            "ticks": "",
            "zerolinecolor": "white"
           },
           "zaxis": {
            "backgroundcolor": "#E5ECF6",
            "gridcolor": "white",
            "gridwidth": 2,
            "linecolor": "white",
            "showbackground": true,
            "ticks": "",
            "zerolinecolor": "white"
           }
          },
          "shapedefaults": {
           "line": {
            "color": "#2a3f5f"
           }
          },
          "ternary": {
           "aaxis": {
            "gridcolor": "white",
            "linecolor": "white",
            "ticks": ""
           },
           "baxis": {
            "gridcolor": "white",
            "linecolor": "white",
            "ticks": ""
           },
           "bgcolor": "#E5ECF6",
           "caxis": {
            "gridcolor": "white",
            "linecolor": "white",
            "ticks": ""
           }
          },
          "title": {
           "x": 0.05
          },
          "xaxis": {
           "automargin": true,
           "gridcolor": "white",
           "linecolor": "white",
           "ticks": "",
           "zerolinecolor": "white",
           "zerolinewidth": 2
          },
          "yaxis": {
           "automargin": true,
           "gridcolor": "white",
           "linecolor": "white",
           "ticks": "",
           "zerolinecolor": "white",
           "zerolinewidth": 2
          }
         }
        },
        "yaxis": {
         "title": {
          "text": "Default Probability"
         }
        }
       }
      },
      "text/html": [
       "<div>\n",
       "        \n",
       "        \n",
       "            <div id=\"bf0a8bbb-c5ba-44d8-b751-67de8b273a12\" class=\"plotly-graph-div\" style=\"height:525px; width:100%;\"></div>\n",
       "            <script type=\"text/javascript\">\n",
       "                require([\"plotly\"], function(Plotly) {\n",
       "                    window.PLOTLYENV=window.PLOTLYENV || {};\n",
       "                    \n",
       "                if (document.getElementById(\"bf0a8bbb-c5ba-44d8-b751-67de8b273a12\")) {\n",
       "                    Plotly.newPlot(\n",
       "                        'bf0a8bbb-c5ba-44d8-b751-67de8b273a12',\n",
       "                        [{\"name\": \"Default Probability\", \"type\": \"bar\", \"x\": [\"safe\", \"low risk\", \"moderate risk\", \"high risk\", \"very high risk\"], \"y\": [0.028985507246376812, 0.08695652173913043, 0.11594202898550725, 0.10144927536231885, 0.30434782608695654]}, {\"name\": \"Portfolio average\", \"type\": \"scatter\", \"x\": [\"safe\", \"low risk\", \"moderate risk\", \"high risk\", \"very high risk\"], \"y\": [0.12753623188405797, 0.12753623188405797, 0.12753623188405797, 0.12753623188405797, 0.12753623188405797]}],\n",
       "                        {\"barmode\": \"group\", \"legend\": {\"font\": {\"color\": \"black\", \"family\": \"sans-serif\", \"size\": 12}, \"traceorder\": \"normal\", \"x\": 0.1, \"y\": 1}, \"template\": {\"data\": {\"bar\": [{\"error_x\": {\"color\": \"#2a3f5f\"}, \"error_y\": {\"color\": \"#2a3f5f\"}, \"marker\": {\"line\": {\"color\": \"#E5ECF6\", \"width\": 0.5}}, \"type\": \"bar\"}], \"barpolar\": [{\"marker\": {\"line\": {\"color\": \"#E5ECF6\", \"width\": 0.5}}, \"type\": \"barpolar\"}], \"carpet\": [{\"aaxis\": {\"endlinecolor\": \"#2a3f5f\", \"gridcolor\": \"white\", \"linecolor\": \"white\", \"minorgridcolor\": \"white\", \"startlinecolor\": \"#2a3f5f\"}, \"baxis\": {\"endlinecolor\": \"#2a3f5f\", \"gridcolor\": \"white\", \"linecolor\": \"white\", \"minorgridcolor\": \"white\", \"startlinecolor\": \"#2a3f5f\"}, \"type\": \"carpet\"}], \"choropleth\": [{\"colorbar\": {\"outlinewidth\": 0, \"ticks\": \"\"}, \"type\": \"choropleth\"}], \"contour\": [{\"colorbar\": {\"outlinewidth\": 0, \"ticks\": \"\"}, \"colorscale\": [[0.0, \"#0d0887\"], [0.1111111111111111, \"#46039f\"], [0.2222222222222222, \"#7201a8\"], [0.3333333333333333, \"#9c179e\"], [0.4444444444444444, \"#bd3786\"], [0.5555555555555556, \"#d8576b\"], [0.6666666666666666, \"#ed7953\"], [0.7777777777777778, \"#fb9f3a\"], [0.8888888888888888, \"#fdca26\"], [1.0, \"#f0f921\"]], \"type\": \"contour\"}], \"contourcarpet\": [{\"colorbar\": {\"outlinewidth\": 0, \"ticks\": \"\"}, \"type\": \"contourcarpet\"}], \"heatmap\": [{\"colorbar\": {\"outlinewidth\": 0, \"ticks\": \"\"}, \"colorscale\": [[0.0, \"#0d0887\"], [0.1111111111111111, \"#46039f\"], [0.2222222222222222, \"#7201a8\"], [0.3333333333333333, \"#9c179e\"], [0.4444444444444444, \"#bd3786\"], [0.5555555555555556, \"#d8576b\"], [0.6666666666666666, \"#ed7953\"], [0.7777777777777778, \"#fb9f3a\"], [0.8888888888888888, \"#fdca26\"], [1.0, \"#f0f921\"]], \"type\": \"heatmap\"}], \"heatmapgl\": [{\"colorbar\": {\"outlinewidth\": 0, \"ticks\": \"\"}, \"colorscale\": [[0.0, \"#0d0887\"], [0.1111111111111111, \"#46039f\"], [0.2222222222222222, \"#7201a8\"], [0.3333333333333333, \"#9c179e\"], [0.4444444444444444, \"#bd3786\"], [0.5555555555555556, \"#d8576b\"], [0.6666666666666666, \"#ed7953\"], [0.7777777777777778, \"#fb9f3a\"], [0.8888888888888888, \"#fdca26\"], [1.0, \"#f0f921\"]], \"type\": \"heatmapgl\"}], \"histogram\": [{\"marker\": {\"colorbar\": {\"outlinewidth\": 0, \"ticks\": \"\"}}, \"type\": \"histogram\"}], \"histogram2d\": [{\"colorbar\": {\"outlinewidth\": 0, \"ticks\": \"\"}, \"colorscale\": [[0.0, \"#0d0887\"], [0.1111111111111111, \"#46039f\"], [0.2222222222222222, \"#7201a8\"], [0.3333333333333333, \"#9c179e\"], [0.4444444444444444, \"#bd3786\"], [0.5555555555555556, \"#d8576b\"], [0.6666666666666666, \"#ed7953\"], [0.7777777777777778, \"#fb9f3a\"], [0.8888888888888888, \"#fdca26\"], [1.0, \"#f0f921\"]], \"type\": \"histogram2d\"}], \"histogram2dcontour\": [{\"colorbar\": {\"outlinewidth\": 0, \"ticks\": \"\"}, \"colorscale\": [[0.0, \"#0d0887\"], [0.1111111111111111, \"#46039f\"], [0.2222222222222222, \"#7201a8\"], [0.3333333333333333, \"#9c179e\"], [0.4444444444444444, \"#bd3786\"], [0.5555555555555556, \"#d8576b\"], [0.6666666666666666, \"#ed7953\"], [0.7777777777777778, \"#fb9f3a\"], [0.8888888888888888, \"#fdca26\"], [1.0, \"#f0f921\"]], \"type\": \"histogram2dcontour\"}], \"mesh3d\": [{\"colorbar\": {\"outlinewidth\": 0, \"ticks\": \"\"}, \"type\": \"mesh3d\"}], \"parcoords\": [{\"line\": {\"colorbar\": {\"outlinewidth\": 0, \"ticks\": \"\"}}, \"type\": \"parcoords\"}], \"scatter\": [{\"marker\": {\"colorbar\": {\"outlinewidth\": 0, \"ticks\": \"\"}}, \"type\": \"scatter\"}], \"scatter3d\": [{\"line\": {\"colorbar\": {\"outlinewidth\": 0, \"ticks\": \"\"}}, \"marker\": {\"colorbar\": {\"outlinewidth\": 0, \"ticks\": \"\"}}, \"type\": \"scatter3d\"}], \"scattercarpet\": [{\"marker\": {\"colorbar\": {\"outlinewidth\": 0, \"ticks\": \"\"}}, \"type\": \"scattercarpet\"}], \"scattergeo\": [{\"marker\": {\"colorbar\": {\"outlinewidth\": 0, \"ticks\": \"\"}}, \"type\": \"scattergeo\"}], \"scattergl\": [{\"marker\": {\"colorbar\": {\"outlinewidth\": 0, \"ticks\": \"\"}}, \"type\": \"scattergl\"}], \"scattermapbox\": [{\"marker\": {\"colorbar\": {\"outlinewidth\": 0, \"ticks\": \"\"}}, \"type\": \"scattermapbox\"}], \"scatterpolar\": [{\"marker\": {\"colorbar\": {\"outlinewidth\": 0, \"ticks\": \"\"}}, \"type\": \"scatterpolar\"}], \"scatterpolargl\": [{\"marker\": {\"colorbar\": {\"outlinewidth\": 0, \"ticks\": \"\"}}, \"type\": \"scatterpolargl\"}], \"scatterternary\": [{\"marker\": {\"colorbar\": {\"outlinewidth\": 0, \"ticks\": \"\"}}, \"type\": \"scatterternary\"}], \"surface\": [{\"colorbar\": {\"outlinewidth\": 0, \"ticks\": \"\"}, \"colorscale\": [[0.0, \"#0d0887\"], [0.1111111111111111, \"#46039f\"], [0.2222222222222222, \"#7201a8\"], [0.3333333333333333, \"#9c179e\"], [0.4444444444444444, \"#bd3786\"], [0.5555555555555556, \"#d8576b\"], [0.6666666666666666, \"#ed7953\"], [0.7777777777777778, \"#fb9f3a\"], [0.8888888888888888, \"#fdca26\"], [1.0, \"#f0f921\"]], \"type\": \"surface\"}], \"table\": [{\"cells\": {\"fill\": {\"color\": \"#EBF0F8\"}, \"line\": {\"color\": \"white\"}}, \"header\": {\"fill\": {\"color\": \"#C8D4E3\"}, \"line\": {\"color\": \"white\"}}, \"type\": \"table\"}]}, \"layout\": {\"annotationdefaults\": {\"arrowcolor\": \"#2a3f5f\", \"arrowhead\": 0, \"arrowwidth\": 1}, \"colorscale\": {\"diverging\": [[0, \"#8e0152\"], [0.1, \"#c51b7d\"], [0.2, \"#de77ae\"], [0.3, \"#f1b6da\"], [0.4, \"#fde0ef\"], [0.5, \"#f7f7f7\"], [0.6, \"#e6f5d0\"], [0.7, \"#b8e186\"], [0.8, \"#7fbc41\"], [0.9, \"#4d9221\"], [1, \"#276419\"]], \"sequential\": [[0.0, \"#0d0887\"], [0.1111111111111111, \"#46039f\"], [0.2222222222222222, \"#7201a8\"], [0.3333333333333333, \"#9c179e\"], [0.4444444444444444, \"#bd3786\"], [0.5555555555555556, \"#d8576b\"], [0.6666666666666666, \"#ed7953\"], [0.7777777777777778, \"#fb9f3a\"], [0.8888888888888888, \"#fdca26\"], [1.0, \"#f0f921\"]], \"sequentialminus\": [[0.0, \"#0d0887\"], [0.1111111111111111, \"#46039f\"], [0.2222222222222222, \"#7201a8\"], [0.3333333333333333, \"#9c179e\"], [0.4444444444444444, \"#bd3786\"], [0.5555555555555556, \"#d8576b\"], [0.6666666666666666, \"#ed7953\"], [0.7777777777777778, \"#fb9f3a\"], [0.8888888888888888, \"#fdca26\"], [1.0, \"#f0f921\"]]}, \"colorway\": [\"#636efa\", \"#EF553B\", \"#00cc96\", \"#ab63fa\", \"#FFA15A\", \"#19d3f3\", \"#FF6692\", \"#B6E880\", \"#FF97FF\", \"#FECB52\"], \"font\": {\"color\": \"#2a3f5f\"}, \"geo\": {\"bgcolor\": \"white\", \"lakecolor\": \"white\", \"landcolor\": \"#E5ECF6\", \"showlakes\": true, \"showland\": true, \"subunitcolor\": \"white\"}, \"hoverlabel\": {\"align\": \"left\"}, \"hovermode\": \"closest\", \"mapbox\": {\"style\": \"light\"}, \"paper_bgcolor\": \"white\", \"plot_bgcolor\": \"#E5ECF6\", \"polar\": {\"angularaxis\": {\"gridcolor\": \"white\", \"linecolor\": \"white\", \"ticks\": \"\"}, \"bgcolor\": \"#E5ECF6\", \"radialaxis\": {\"gridcolor\": \"white\", \"linecolor\": \"white\", \"ticks\": \"\"}}, \"scene\": {\"xaxis\": {\"backgroundcolor\": \"#E5ECF6\", \"gridcolor\": \"white\", \"gridwidth\": 2, \"linecolor\": \"white\", \"showbackground\": true, \"ticks\": \"\", \"zerolinecolor\": \"white\"}, \"yaxis\": {\"backgroundcolor\": \"#E5ECF6\", \"gridcolor\": \"white\", \"gridwidth\": 2, \"linecolor\": \"white\", \"showbackground\": true, \"ticks\": \"\", \"zerolinecolor\": \"white\"}, \"zaxis\": {\"backgroundcolor\": \"#E5ECF6\", \"gridcolor\": \"white\", \"gridwidth\": 2, \"linecolor\": \"white\", \"showbackground\": true, \"ticks\": \"\", \"zerolinecolor\": \"white\"}}, \"shapedefaults\": {\"line\": {\"color\": \"#2a3f5f\"}}, \"ternary\": {\"aaxis\": {\"gridcolor\": \"white\", \"linecolor\": \"white\", \"ticks\": \"\"}, \"baxis\": {\"gridcolor\": \"white\", \"linecolor\": \"white\", \"ticks\": \"\"}, \"bgcolor\": \"#E5ECF6\", \"caxis\": {\"gridcolor\": \"white\", \"linecolor\": \"white\", \"ticks\": \"\"}}, \"title\": {\"x\": 0.05}, \"xaxis\": {\"automargin\": true, \"gridcolor\": \"white\", \"linecolor\": \"white\", \"ticks\": \"\", \"zerolinecolor\": \"white\", \"zerolinewidth\": 2}, \"yaxis\": {\"automargin\": true, \"gridcolor\": \"white\", \"linecolor\": \"white\", \"ticks\": \"\", \"zerolinecolor\": \"white\", \"zerolinewidth\": 2}}}, \"yaxis\": {\"title\": {\"text\": \"Default Probability\"}}},\n",
       "                        {\"responsive\": true}\n",
       "                    ).then(function(){\n",
       "                            \n",
       "var gd = document.getElementById('bf0a8bbb-c5ba-44d8-b751-67de8b273a12');\n",
       "var x = new MutationObserver(function (mutations, observer) {{\n",
       "        var display = window.getComputedStyle(gd).display;\n",
       "        if (!display || display === 'none') {{\n",
       "            console.log([gd, 'removed!']);\n",
       "            Plotly.purge(gd);\n",
       "            observer.disconnect();\n",
       "        }}\n",
       "}});\n",
       "\n",
       "// Listen for the removal of the full notebook cells\n",
       "var notebookContainer = gd.closest('#notebook-container');\n",
       "if (notebookContainer) {{\n",
       "    x.observe(notebookContainer, {childList: true});\n",
       "}}\n",
       "\n",
       "// Listen for the clearing of the current output cell\n",
       "var outputEl = gd.closest('.output');\n",
       "if (outputEl) {{\n",
       "    x.observe(outputEl, {childList: true});\n",
       "}}\n",
       "\n",
       "                        })\n",
       "                };\n",
       "                });\n",
       "            </script>\n",
       "        </div>"
      ]
     },
     "metadata": {},
     "output_type": "display_data"
    }
   ],
   "source": [
    "fig.update_layout(barmode='group',yaxis=dict(title=\"Default Probability\"), legend=dict(\n",
    "                x=0.1,\n",
    "                y=1,\n",
    "                traceorder=\"normal\",\n",
    "                font=dict(\n",
    "                    family=\"sans-serif\",\n",
    "                    size=12,\n",
    "                    color=\"black\"\n",
    "                ),\n",
    "            bgcolor=None))"
   ]
  },
  {
   "cell_type": "code",
   "execution_count": 60,
   "metadata": {},
   "outputs": [
    {
     "data": {
      "application/vnd.plotly.v1+json": {
       "config": {
        "plotlyServerURL": "https://plot.ly"
       },
       "data": [
        {
         "name": "Share of all defaults within risk category",
         "type": "bar",
         "x": [
          "safe",
          "low risk",
          "moderate risk",
          "high risk",
          "very high risk"
         ],
         "y": [
          0.045454545454545456,
          0.13636363636363635,
          0.18181818181818182,
          0.1590909090909091,
          0.4772727272727273
         ]
        }
       ],
       "layout": {
        "barmode": "group",
        "template": {
         "data": {
          "bar": [
           {
            "error_x": {
             "color": "#2a3f5f"
            },
            "error_y": {
             "color": "#2a3f5f"
            },
            "marker": {
             "line": {
              "color": "#E5ECF6",
              "width": 0.5
             }
            },
            "type": "bar"
           }
          ],
          "barpolar": [
           {
            "marker": {
             "line": {
              "color": "#E5ECF6",
              "width": 0.5
             }
            },
            "type": "barpolar"
           }
          ],
          "carpet": [
           {
            "aaxis": {
             "endlinecolor": "#2a3f5f",
             "gridcolor": "white",
             "linecolor": "white",
             "minorgridcolor": "white",
             "startlinecolor": "#2a3f5f"
            },
            "baxis": {
             "endlinecolor": "#2a3f5f",
             "gridcolor": "white",
             "linecolor": "white",
             "minorgridcolor": "white",
             "startlinecolor": "#2a3f5f"
            },
            "type": "carpet"
           }
          ],
          "choropleth": [
           {
            "colorbar": {
             "outlinewidth": 0,
             "ticks": ""
            },
            "type": "choropleth"
           }
          ],
          "contour": [
           {
            "colorbar": {
             "outlinewidth": 0,
             "ticks": ""
            },
            "colorscale": [
             [
              0,
              "#0d0887"
             ],
             [
              0.1111111111111111,
              "#46039f"
             ],
             [
              0.2222222222222222,
              "#7201a8"
             ],
             [
              0.3333333333333333,
              "#9c179e"
             ],
             [
              0.4444444444444444,
              "#bd3786"
             ],
             [
              0.5555555555555556,
              "#d8576b"
             ],
             [
              0.6666666666666666,
              "#ed7953"
             ],
             [
              0.7777777777777778,
              "#fb9f3a"
             ],
             [
              0.8888888888888888,
              "#fdca26"
             ],
             [
              1,
              "#f0f921"
             ]
            ],
            "type": "contour"
           }
          ],
          "contourcarpet": [
           {
            "colorbar": {
             "outlinewidth": 0,
             "ticks": ""
            },
            "type": "contourcarpet"
           }
          ],
          "heatmap": [
           {
            "colorbar": {
             "outlinewidth": 0,
             "ticks": ""
            },
            "colorscale": [
             [
              0,
              "#0d0887"
             ],
             [
              0.1111111111111111,
              "#46039f"
             ],
             [
              0.2222222222222222,
              "#7201a8"
             ],
             [
              0.3333333333333333,
              "#9c179e"
             ],
             [
              0.4444444444444444,
              "#bd3786"
             ],
             [
              0.5555555555555556,
              "#d8576b"
             ],
             [
              0.6666666666666666,
              "#ed7953"
             ],
             [
              0.7777777777777778,
              "#fb9f3a"
             ],
             [
              0.8888888888888888,
              "#fdca26"
             ],
             [
              1,
              "#f0f921"
             ]
            ],
            "type": "heatmap"
           }
          ],
          "heatmapgl": [
           {
            "colorbar": {
             "outlinewidth": 0,
             "ticks": ""
            },
            "colorscale": [
             [
              0,
              "#0d0887"
             ],
             [
              0.1111111111111111,
              "#46039f"
             ],
             [
              0.2222222222222222,
              "#7201a8"
             ],
             [
              0.3333333333333333,
              "#9c179e"
             ],
             [
              0.4444444444444444,
              "#bd3786"
             ],
             [
              0.5555555555555556,
              "#d8576b"
             ],
             [
              0.6666666666666666,
              "#ed7953"
             ],
             [
              0.7777777777777778,
              "#fb9f3a"
             ],
             [
              0.8888888888888888,
              "#fdca26"
             ],
             [
              1,
              "#f0f921"
             ]
            ],
            "type": "heatmapgl"
           }
          ],
          "histogram": [
           {
            "marker": {
             "colorbar": {
              "outlinewidth": 0,
              "ticks": ""
             }
            },
            "type": "histogram"
           }
          ],
          "histogram2d": [
           {
            "colorbar": {
             "outlinewidth": 0,
             "ticks": ""
            },
            "colorscale": [
             [
              0,
              "#0d0887"
             ],
             [
              0.1111111111111111,
              "#46039f"
             ],
             [
              0.2222222222222222,
              "#7201a8"
             ],
             [
              0.3333333333333333,
              "#9c179e"
             ],
             [
              0.4444444444444444,
              "#bd3786"
             ],
             [
              0.5555555555555556,
              "#d8576b"
             ],
             [
              0.6666666666666666,
              "#ed7953"
             ],
             [
              0.7777777777777778,
              "#fb9f3a"
             ],
             [
              0.8888888888888888,
              "#fdca26"
             ],
             [
              1,
              "#f0f921"
             ]
            ],
            "type": "histogram2d"
           }
          ],
          "histogram2dcontour": [
           {
            "colorbar": {
             "outlinewidth": 0,
             "ticks": ""
            },
            "colorscale": [
             [
              0,
              "#0d0887"
             ],
             [
              0.1111111111111111,
              "#46039f"
             ],
             [
              0.2222222222222222,
              "#7201a8"
             ],
             [
              0.3333333333333333,
              "#9c179e"
             ],
             [
              0.4444444444444444,
              "#bd3786"
             ],
             [
              0.5555555555555556,
              "#d8576b"
             ],
             [
              0.6666666666666666,
              "#ed7953"
             ],
             [
              0.7777777777777778,
              "#fb9f3a"
             ],
             [
              0.8888888888888888,
              "#fdca26"
             ],
             [
              1,
              "#f0f921"
             ]
            ],
            "type": "histogram2dcontour"
           }
          ],
          "mesh3d": [
           {
            "colorbar": {
             "outlinewidth": 0,
             "ticks": ""
            },
            "type": "mesh3d"
           }
          ],
          "parcoords": [
           {
            "line": {
             "colorbar": {
              "outlinewidth": 0,
              "ticks": ""
             }
            },
            "type": "parcoords"
           }
          ],
          "scatter": [
           {
            "marker": {
             "colorbar": {
              "outlinewidth": 0,
              "ticks": ""
             }
            },
            "type": "scatter"
           }
          ],
          "scatter3d": [
           {
            "line": {
             "colorbar": {
              "outlinewidth": 0,
              "ticks": ""
             }
            },
            "marker": {
             "colorbar": {
              "outlinewidth": 0,
              "ticks": ""
             }
            },
            "type": "scatter3d"
           }
          ],
          "scattercarpet": [
           {
            "marker": {
             "colorbar": {
              "outlinewidth": 0,
              "ticks": ""
             }
            },
            "type": "scattercarpet"
           }
          ],
          "scattergeo": [
           {
            "marker": {
             "colorbar": {
              "outlinewidth": 0,
              "ticks": ""
             }
            },
            "type": "scattergeo"
           }
          ],
          "scattergl": [
           {
            "marker": {
             "colorbar": {
              "outlinewidth": 0,
              "ticks": ""
             }
            },
            "type": "scattergl"
           }
          ],
          "scattermapbox": [
           {
            "marker": {
             "colorbar": {
              "outlinewidth": 0,
              "ticks": ""
             }
            },
            "type": "scattermapbox"
           }
          ],
          "scatterpolar": [
           {
            "marker": {
             "colorbar": {
              "outlinewidth": 0,
              "ticks": ""
             }
            },
            "type": "scatterpolar"
           }
          ],
          "scatterpolargl": [
           {
            "marker": {
             "colorbar": {
              "outlinewidth": 0,
              "ticks": ""
             }
            },
            "type": "scatterpolargl"
           }
          ],
          "scatterternary": [
           {
            "marker": {
             "colorbar": {
              "outlinewidth": 0,
              "ticks": ""
             }
            },
            "type": "scatterternary"
           }
          ],
          "surface": [
           {
            "colorbar": {
             "outlinewidth": 0,
             "ticks": ""
            },
            "colorscale": [
             [
              0,
              "#0d0887"
             ],
             [
              0.1111111111111111,
              "#46039f"
             ],
             [
              0.2222222222222222,
              "#7201a8"
             ],
             [
              0.3333333333333333,
              "#9c179e"
             ],
             [
              0.4444444444444444,
              "#bd3786"
             ],
             [
              0.5555555555555556,
              "#d8576b"
             ],
             [
              0.6666666666666666,
              "#ed7953"
             ],
             [
              0.7777777777777778,
              "#fb9f3a"
             ],
             [
              0.8888888888888888,
              "#fdca26"
             ],
             [
              1,
              "#f0f921"
             ]
            ],
            "type": "surface"
           }
          ],
          "table": [
           {
            "cells": {
             "fill": {
              "color": "#EBF0F8"
             },
             "line": {
              "color": "white"
             }
            },
            "header": {
             "fill": {
              "color": "#C8D4E3"
             },
             "line": {
              "color": "white"
             }
            },
            "type": "table"
           }
          ]
         },
         "layout": {
          "annotationdefaults": {
           "arrowcolor": "#2a3f5f",
           "arrowhead": 0,
           "arrowwidth": 1
          },
          "colorscale": {
           "diverging": [
            [
             0,
             "#8e0152"
            ],
            [
             0.1,
             "#c51b7d"
            ],
            [
             0.2,
             "#de77ae"
            ],
            [
             0.3,
             "#f1b6da"
            ],
            [
             0.4,
             "#fde0ef"
            ],
            [
             0.5,
             "#f7f7f7"
            ],
            [
             0.6,
             "#e6f5d0"
            ],
            [
             0.7,
             "#b8e186"
            ],
            [
             0.8,
             "#7fbc41"
            ],
            [
             0.9,
             "#4d9221"
            ],
            [
             1,
             "#276419"
            ]
           ],
           "sequential": [
            [
             0,
             "#0d0887"
            ],
            [
             0.1111111111111111,
             "#46039f"
            ],
            [
             0.2222222222222222,
             "#7201a8"
            ],
            [
             0.3333333333333333,
             "#9c179e"
            ],
            [
             0.4444444444444444,
             "#bd3786"
            ],
            [
             0.5555555555555556,
             "#d8576b"
            ],
            [
             0.6666666666666666,
             "#ed7953"
            ],
            [
             0.7777777777777778,
             "#fb9f3a"
            ],
            [
             0.8888888888888888,
             "#fdca26"
            ],
            [
             1,
             "#f0f921"
            ]
           ],
           "sequentialminus": [
            [
             0,
             "#0d0887"
            ],
            [
             0.1111111111111111,
             "#46039f"
            ],
            [
             0.2222222222222222,
             "#7201a8"
            ],
            [
             0.3333333333333333,
             "#9c179e"
            ],
            [
             0.4444444444444444,
             "#bd3786"
            ],
            [
             0.5555555555555556,
             "#d8576b"
            ],
            [
             0.6666666666666666,
             "#ed7953"
            ],
            [
             0.7777777777777778,
             "#fb9f3a"
            ],
            [
             0.8888888888888888,
             "#fdca26"
            ],
            [
             1,
             "#f0f921"
            ]
           ]
          },
          "colorway": [
           "#636efa",
           "#EF553B",
           "#00cc96",
           "#ab63fa",
           "#FFA15A",
           "#19d3f3",
           "#FF6692",
           "#B6E880",
           "#FF97FF",
           "#FECB52"
          ],
          "font": {
           "color": "#2a3f5f"
          },
          "geo": {
           "bgcolor": "white",
           "lakecolor": "white",
           "landcolor": "#E5ECF6",
           "showlakes": true,
           "showland": true,
           "subunitcolor": "white"
          },
          "hoverlabel": {
           "align": "left"
          },
          "hovermode": "closest",
          "mapbox": {
           "style": "light"
          },
          "paper_bgcolor": "white",
          "plot_bgcolor": "#E5ECF6",
          "polar": {
           "angularaxis": {
            "gridcolor": "white",
            "linecolor": "white",
            "ticks": ""
           },
           "bgcolor": "#E5ECF6",
           "radialaxis": {
            "gridcolor": "white",
            "linecolor": "white",
            "ticks": ""
           }
          },
          "scene": {
           "xaxis": {
            "backgroundcolor": "#E5ECF6",
            "gridcolor": "white",
            "gridwidth": 2,
            "linecolor": "white",
            "showbackground": true,
            "ticks": "",
            "zerolinecolor": "white"
           },
           "yaxis": {
            "backgroundcolor": "#E5ECF6",
            "gridcolor": "white",
            "gridwidth": 2,
            "linecolor": "white",
            "showbackground": true,
            "ticks": "",
            "zerolinecolor": "white"
           },
           "zaxis": {
            "backgroundcolor": "#E5ECF6",
            "gridcolor": "white",
            "gridwidth": 2,
            "linecolor": "white",
            "showbackground": true,
            "ticks": "",
            "zerolinecolor": "white"
           }
          },
          "shapedefaults": {
           "line": {
            "color": "#2a3f5f"
           }
          },
          "ternary": {
           "aaxis": {
            "gridcolor": "white",
            "linecolor": "white",
            "ticks": ""
           },
           "baxis": {
            "gridcolor": "white",
            "linecolor": "white",
            "ticks": ""
           },
           "bgcolor": "#E5ECF6",
           "caxis": {
            "gridcolor": "white",
            "linecolor": "white",
            "ticks": ""
           }
          },
          "title": {
           "x": 0.05
          },
          "xaxis": {
           "automargin": true,
           "gridcolor": "white",
           "linecolor": "white",
           "ticks": "",
           "zerolinecolor": "white",
           "zerolinewidth": 2
          },
          "yaxis": {
           "automargin": true,
           "gridcolor": "white",
           "linecolor": "white",
           "ticks": "",
           "zerolinecolor": "white",
           "zerolinewidth": 2
          }
         }
        },
        "yaxis": {
         "title": {
          "text": "% of total portfolio defaults"
         }
        }
       }
      },
      "text/html": [
       "<div>\n",
       "        \n",
       "        \n",
       "            <div id=\"ae0701b6-5872-4b6a-9d89-21e31e5d14c3\" class=\"plotly-graph-div\" style=\"height:525px; width:100%;\"></div>\n",
       "            <script type=\"text/javascript\">\n",
       "                require([\"plotly\"], function(Plotly) {\n",
       "                    window.PLOTLYENV=window.PLOTLYENV || {};\n",
       "                    \n",
       "                if (document.getElementById(\"ae0701b6-5872-4b6a-9d89-21e31e5d14c3\")) {\n",
       "                    Plotly.newPlot(\n",
       "                        'ae0701b6-5872-4b6a-9d89-21e31e5d14c3',\n",
       "                        [{\"name\": \"Share of all defaults within risk category\", \"type\": \"bar\", \"x\": [\"safe\", \"low risk\", \"moderate risk\", \"high risk\", \"very high risk\"], \"y\": [0.045454545454545456, 0.13636363636363635, 0.18181818181818182, 0.1590909090909091, 0.4772727272727273]}],\n",
       "                        {\"barmode\": \"group\", \"template\": {\"data\": {\"bar\": [{\"error_x\": {\"color\": \"#2a3f5f\"}, \"error_y\": {\"color\": \"#2a3f5f\"}, \"marker\": {\"line\": {\"color\": \"#E5ECF6\", \"width\": 0.5}}, \"type\": \"bar\"}], \"barpolar\": [{\"marker\": {\"line\": {\"color\": \"#E5ECF6\", \"width\": 0.5}}, \"type\": \"barpolar\"}], \"carpet\": [{\"aaxis\": {\"endlinecolor\": \"#2a3f5f\", \"gridcolor\": \"white\", \"linecolor\": \"white\", \"minorgridcolor\": \"white\", \"startlinecolor\": \"#2a3f5f\"}, \"baxis\": {\"endlinecolor\": \"#2a3f5f\", \"gridcolor\": \"white\", \"linecolor\": \"white\", \"minorgridcolor\": \"white\", \"startlinecolor\": \"#2a3f5f\"}, \"type\": \"carpet\"}], \"choropleth\": [{\"colorbar\": {\"outlinewidth\": 0, \"ticks\": \"\"}, \"type\": \"choropleth\"}], \"contour\": [{\"colorbar\": {\"outlinewidth\": 0, \"ticks\": \"\"}, \"colorscale\": [[0.0, \"#0d0887\"], [0.1111111111111111, \"#46039f\"], [0.2222222222222222, \"#7201a8\"], [0.3333333333333333, \"#9c179e\"], [0.4444444444444444, \"#bd3786\"], [0.5555555555555556, \"#d8576b\"], [0.6666666666666666, \"#ed7953\"], [0.7777777777777778, \"#fb9f3a\"], [0.8888888888888888, \"#fdca26\"], [1.0, \"#f0f921\"]], \"type\": \"contour\"}], \"contourcarpet\": [{\"colorbar\": {\"outlinewidth\": 0, \"ticks\": \"\"}, \"type\": \"contourcarpet\"}], \"heatmap\": [{\"colorbar\": {\"outlinewidth\": 0, \"ticks\": \"\"}, \"colorscale\": [[0.0, \"#0d0887\"], [0.1111111111111111, \"#46039f\"], [0.2222222222222222, \"#7201a8\"], [0.3333333333333333, \"#9c179e\"], [0.4444444444444444, \"#bd3786\"], [0.5555555555555556, \"#d8576b\"], [0.6666666666666666, \"#ed7953\"], [0.7777777777777778, \"#fb9f3a\"], [0.8888888888888888, \"#fdca26\"], [1.0, \"#f0f921\"]], \"type\": \"heatmap\"}], \"heatmapgl\": [{\"colorbar\": {\"outlinewidth\": 0, \"ticks\": \"\"}, \"colorscale\": [[0.0, \"#0d0887\"], [0.1111111111111111, \"#46039f\"], [0.2222222222222222, \"#7201a8\"], [0.3333333333333333, \"#9c179e\"], [0.4444444444444444, \"#bd3786\"], [0.5555555555555556, \"#d8576b\"], [0.6666666666666666, \"#ed7953\"], [0.7777777777777778, \"#fb9f3a\"], [0.8888888888888888, \"#fdca26\"], [1.0, \"#f0f921\"]], \"type\": \"heatmapgl\"}], \"histogram\": [{\"marker\": {\"colorbar\": {\"outlinewidth\": 0, \"ticks\": \"\"}}, \"type\": \"histogram\"}], \"histogram2d\": [{\"colorbar\": {\"outlinewidth\": 0, \"ticks\": \"\"}, \"colorscale\": [[0.0, \"#0d0887\"], [0.1111111111111111, \"#46039f\"], [0.2222222222222222, \"#7201a8\"], [0.3333333333333333, \"#9c179e\"], [0.4444444444444444, \"#bd3786\"], [0.5555555555555556, \"#d8576b\"], [0.6666666666666666, \"#ed7953\"], [0.7777777777777778, \"#fb9f3a\"], [0.8888888888888888, \"#fdca26\"], [1.0, \"#f0f921\"]], \"type\": \"histogram2d\"}], \"histogram2dcontour\": [{\"colorbar\": {\"outlinewidth\": 0, \"ticks\": \"\"}, \"colorscale\": [[0.0, \"#0d0887\"], [0.1111111111111111, \"#46039f\"], [0.2222222222222222, \"#7201a8\"], [0.3333333333333333, \"#9c179e\"], [0.4444444444444444, \"#bd3786\"], [0.5555555555555556, \"#d8576b\"], [0.6666666666666666, \"#ed7953\"], [0.7777777777777778, \"#fb9f3a\"], [0.8888888888888888, \"#fdca26\"], [1.0, \"#f0f921\"]], \"type\": \"histogram2dcontour\"}], \"mesh3d\": [{\"colorbar\": {\"outlinewidth\": 0, \"ticks\": \"\"}, \"type\": \"mesh3d\"}], \"parcoords\": [{\"line\": {\"colorbar\": {\"outlinewidth\": 0, \"ticks\": \"\"}}, \"type\": \"parcoords\"}], \"scatter\": [{\"marker\": {\"colorbar\": {\"outlinewidth\": 0, \"ticks\": \"\"}}, \"type\": \"scatter\"}], \"scatter3d\": [{\"line\": {\"colorbar\": {\"outlinewidth\": 0, \"ticks\": \"\"}}, \"marker\": {\"colorbar\": {\"outlinewidth\": 0, \"ticks\": \"\"}}, \"type\": \"scatter3d\"}], \"scattercarpet\": [{\"marker\": {\"colorbar\": {\"outlinewidth\": 0, \"ticks\": \"\"}}, \"type\": \"scattercarpet\"}], \"scattergeo\": [{\"marker\": {\"colorbar\": {\"outlinewidth\": 0, \"ticks\": \"\"}}, \"type\": \"scattergeo\"}], \"scattergl\": [{\"marker\": {\"colorbar\": {\"outlinewidth\": 0, \"ticks\": \"\"}}, \"type\": \"scattergl\"}], \"scattermapbox\": [{\"marker\": {\"colorbar\": {\"outlinewidth\": 0, \"ticks\": \"\"}}, \"type\": \"scattermapbox\"}], \"scatterpolar\": [{\"marker\": {\"colorbar\": {\"outlinewidth\": 0, \"ticks\": \"\"}}, \"type\": \"scatterpolar\"}], \"scatterpolargl\": [{\"marker\": {\"colorbar\": {\"outlinewidth\": 0, \"ticks\": \"\"}}, \"type\": \"scatterpolargl\"}], \"scatterternary\": [{\"marker\": {\"colorbar\": {\"outlinewidth\": 0, \"ticks\": \"\"}}, \"type\": \"scatterternary\"}], \"surface\": [{\"colorbar\": {\"outlinewidth\": 0, \"ticks\": \"\"}, \"colorscale\": [[0.0, \"#0d0887\"], [0.1111111111111111, \"#46039f\"], [0.2222222222222222, \"#7201a8\"], [0.3333333333333333, \"#9c179e\"], [0.4444444444444444, \"#bd3786\"], [0.5555555555555556, \"#d8576b\"], [0.6666666666666666, \"#ed7953\"], [0.7777777777777778, \"#fb9f3a\"], [0.8888888888888888, \"#fdca26\"], [1.0, \"#f0f921\"]], \"type\": \"surface\"}], \"table\": [{\"cells\": {\"fill\": {\"color\": \"#EBF0F8\"}, \"line\": {\"color\": \"white\"}}, \"header\": {\"fill\": {\"color\": \"#C8D4E3\"}, \"line\": {\"color\": \"white\"}}, \"type\": \"table\"}]}, \"layout\": {\"annotationdefaults\": {\"arrowcolor\": \"#2a3f5f\", \"arrowhead\": 0, \"arrowwidth\": 1}, \"colorscale\": {\"diverging\": [[0, \"#8e0152\"], [0.1, \"#c51b7d\"], [0.2, \"#de77ae\"], [0.3, \"#f1b6da\"], [0.4, \"#fde0ef\"], [0.5, \"#f7f7f7\"], [0.6, \"#e6f5d0\"], [0.7, \"#b8e186\"], [0.8, \"#7fbc41\"], [0.9, \"#4d9221\"], [1, \"#276419\"]], \"sequential\": [[0.0, \"#0d0887\"], [0.1111111111111111, \"#46039f\"], [0.2222222222222222, \"#7201a8\"], [0.3333333333333333, \"#9c179e\"], [0.4444444444444444, \"#bd3786\"], [0.5555555555555556, \"#d8576b\"], [0.6666666666666666, \"#ed7953\"], [0.7777777777777778, \"#fb9f3a\"], [0.8888888888888888, \"#fdca26\"], [1.0, \"#f0f921\"]], \"sequentialminus\": [[0.0, \"#0d0887\"], [0.1111111111111111, \"#46039f\"], [0.2222222222222222, \"#7201a8\"], [0.3333333333333333, \"#9c179e\"], [0.4444444444444444, \"#bd3786\"], [0.5555555555555556, \"#d8576b\"], [0.6666666666666666, \"#ed7953\"], [0.7777777777777778, \"#fb9f3a\"], [0.8888888888888888, \"#fdca26\"], [1.0, \"#f0f921\"]]}, \"colorway\": [\"#636efa\", \"#EF553B\", \"#00cc96\", \"#ab63fa\", \"#FFA15A\", \"#19d3f3\", \"#FF6692\", \"#B6E880\", \"#FF97FF\", \"#FECB52\"], \"font\": {\"color\": \"#2a3f5f\"}, \"geo\": {\"bgcolor\": \"white\", \"lakecolor\": \"white\", \"landcolor\": \"#E5ECF6\", \"showlakes\": true, \"showland\": true, \"subunitcolor\": \"white\"}, \"hoverlabel\": {\"align\": \"left\"}, \"hovermode\": \"closest\", \"mapbox\": {\"style\": \"light\"}, \"paper_bgcolor\": \"white\", \"plot_bgcolor\": \"#E5ECF6\", \"polar\": {\"angularaxis\": {\"gridcolor\": \"white\", \"linecolor\": \"white\", \"ticks\": \"\"}, \"bgcolor\": \"#E5ECF6\", \"radialaxis\": {\"gridcolor\": \"white\", \"linecolor\": \"white\", \"ticks\": \"\"}}, \"scene\": {\"xaxis\": {\"backgroundcolor\": \"#E5ECF6\", \"gridcolor\": \"white\", \"gridwidth\": 2, \"linecolor\": \"white\", \"showbackground\": true, \"ticks\": \"\", \"zerolinecolor\": \"white\"}, \"yaxis\": {\"backgroundcolor\": \"#E5ECF6\", \"gridcolor\": \"white\", \"gridwidth\": 2, \"linecolor\": \"white\", \"showbackground\": true, \"ticks\": \"\", \"zerolinecolor\": \"white\"}, \"zaxis\": {\"backgroundcolor\": \"#E5ECF6\", \"gridcolor\": \"white\", \"gridwidth\": 2, \"linecolor\": \"white\", \"showbackground\": true, \"ticks\": \"\", \"zerolinecolor\": \"white\"}}, \"shapedefaults\": {\"line\": {\"color\": \"#2a3f5f\"}}, \"ternary\": {\"aaxis\": {\"gridcolor\": \"white\", \"linecolor\": \"white\", \"ticks\": \"\"}, \"baxis\": {\"gridcolor\": \"white\", \"linecolor\": \"white\", \"ticks\": \"\"}, \"bgcolor\": \"#E5ECF6\", \"caxis\": {\"gridcolor\": \"white\", \"linecolor\": \"white\", \"ticks\": \"\"}}, \"title\": {\"x\": 0.05}, \"xaxis\": {\"automargin\": true, \"gridcolor\": \"white\", \"linecolor\": \"white\", \"ticks\": \"\", \"zerolinecolor\": \"white\", \"zerolinewidth\": 2}, \"yaxis\": {\"automargin\": true, \"gridcolor\": \"white\", \"linecolor\": \"white\", \"ticks\": \"\", \"zerolinecolor\": \"white\", \"zerolinewidth\": 2}}}, \"yaxis\": {\"title\": {\"text\": \"% of total portfolio defaults\"}}},\n",
       "                        {\"responsive\": true}\n",
       "                    ).then(function(){\n",
       "                            \n",
       "var gd = document.getElementById('ae0701b6-5872-4b6a-9d89-21e31e5d14c3');\n",
       "var x = new MutationObserver(function (mutations, observer) {{\n",
       "        var display = window.getComputedStyle(gd).display;\n",
       "        if (!display || display === 'none') {{\n",
       "            console.log([gd, 'removed!']);\n",
       "            Plotly.purge(gd);\n",
       "            observer.disconnect();\n",
       "        }}\n",
       "}});\n",
       "\n",
       "// Listen for the removal of the full notebook cells\n",
       "var notebookContainer = gd.closest('#notebook-container');\n",
       "if (notebookContainer) {{\n",
       "    x.observe(notebookContainer, {childList: true});\n",
       "}}\n",
       "\n",
       "// Listen for the clearing of the current output cell\n",
       "var outputEl = gd.closest('.output');\n",
       "if (outputEl) {{\n",
       "    x.observe(outputEl, {childList: true});\n",
       "}}\n",
       "\n",
       "                        })\n",
       "                };\n",
       "                });\n",
       "            </script>\n",
       "        </div>"
      ]
     },
     "metadata": {},
     "output_type": "display_data"
    }
   ],
   "source": [
    "fig = go.Figure(data=[\n",
    "    go.Bar(name='Share of all defaults within risk category', x=risk_performance.risk_category, y=risk_performance[\"share_of_defaults\"]),\n",
    "]);\n",
    "\n",
    "\n",
    "# Change the bar mode\n",
    "fig.update_layout(barmode='group',yaxis=dict(title=\"% of total portfolio defaults\"),)"
   ]
  },
  {
   "cell_type": "code",
   "execution_count": null,
   "metadata": {},
   "outputs": [],
   "source": []
  }
 ],
 "metadata": {
  "kernelspec": {
   "display_name": "Python 3",
   "language": "python",
   "name": "python3"
  },
  "language_info": {
   "codemirror_mode": {
    "name": "ipython",
    "version": 3
   },
   "file_extension": ".py",
   "mimetype": "text/x-python",
   "name": "python",
   "nbconvert_exporter": "python",
   "pygments_lexer": "ipython3",
   "version": "3.7.3"
  },
  "toc": {
   "base_numbering": 1,
   "nav_menu": {},
   "number_sections": true,
   "sideBar": true,
   "skip_h1_title": false,
   "title_cell": "Table of Contents",
   "title_sidebar": "Contents",
   "toc_cell": true,
   "toc_position": {},
   "toc_section_display": true,
   "toc_window_display": true
  }
 },
 "nbformat": 4,
 "nbformat_minor": 2
}
